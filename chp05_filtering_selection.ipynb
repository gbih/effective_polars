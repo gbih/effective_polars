{
 "cells": [
  {
   "cell_type": "markdown",
   "id": "b9b4285d-d5d9-45e3-8d3d-4336aa64c849",
   "metadata": {},
   "source": [
    "#### Top"
   ]
  },
  {
   "cell_type": "markdown",
   "id": "e0675411-25c3-4e7e-a1a4-377996143521",
   "metadata": {},
   "source": [
    "# Chapter 5 Data Filtering and Selection\n",
    "\n",
    "* [5.0 Imports and Setup](#5.0-Imports-and-Setup)\n",
    "* [5.1 Introduction](#5.1-Introduction)\n",
    "* [5.2 Getting the Data](#5.2-Getting-the-Data)\n",
    "* [5.3 Filtering with Expressions](#5.3-Filtering-with-Expressions)\n",
    "* [5.4 Filtering with Keywords](#5.4-Filtering-with-Keywords)\n",
    "* [5.5 Filtering with Dates](#5.5-Filtering-with-Dates)\n",
    "* [5.6 Advanced Filtering Techniques](#5.6-Advanced-Filtering-Techniques)\n",
    "* [5.7 More Filtering with Window Expressions](#5.7-More-Filtering-with-Window-Expressions)\n",
    "* [5.8 Manipulating Data with Conditional Expressions](#5.8-Manipulating-Data-with-Conditional-Expressions)\n",
    "* [5.9 Handling Missing Data](#5.9-Handling-Missing-Data)\n",
    "* [5.10 Dropping Rows with Missing Values](#5.10-Dropping-Rows-with-Missing-Values)\n",
    "* [5.11 Filling in Missing Values](#5.11-Filling-in-Missing-Values)\n",
    "* [5.12 Filling in Time Series Missing Values](#5.12-Filling-in-Time-Series-Missing-Values)\n",
    "* [5.13 Chapter Methods and Functions](#5.13-Chapter-Methods-and-Functions)\n",
    "\n"
   ]
  },
  {
   "cell_type": "markdown",
   "id": "0dd0373d-183e-475d-a5cf-3aedc96cca6b",
   "metadata": {},
   "source": [
    "---\n",
    "# 5.0 Imports and Setup\n",
    "\n",
    "[back to Top](#Top)"
   ]
  },
  {
   "cell_type": "code",
   "execution_count": 1,
   "id": "f25e5d68-6ca6-4688-b402-5696d5828589",
   "metadata": {},
   "outputs": [
    {
     "data": {
      "application/javascript": [
       "(function(root) {\n",
       "  function now() {\n",
       "    return new Date();\n",
       "  }\n",
       "\n",
       "  var force = true;\n",
       "  var py_version = '3.4.3'.replace('rc', '-rc.').replace('.dev', '-dev.');\n",
       "  var reloading = false;\n",
       "  var Bokeh = root.Bokeh;\n",
       "\n",
       "  if (typeof (root._bokeh_timeout) === \"undefined\" || force) {\n",
       "    root._bokeh_timeout = Date.now() + 5000;\n",
       "    root._bokeh_failed_load = false;\n",
       "  }\n",
       "\n",
       "  function run_callbacks() {\n",
       "    try {\n",
       "      root._bokeh_onload_callbacks.forEach(function(callback) {\n",
       "        if (callback != null)\n",
       "          callback();\n",
       "      });\n",
       "    } finally {\n",
       "      delete root._bokeh_onload_callbacks;\n",
       "    }\n",
       "    console.debug(\"Bokeh: all callbacks have finished\");\n",
       "  }\n",
       "\n",
       "  function load_libs(css_urls, js_urls, js_modules, js_exports, callback) {\n",
       "    if (css_urls == null) css_urls = [];\n",
       "    if (js_urls == null) js_urls = [];\n",
       "    if (js_modules == null) js_modules = [];\n",
       "    if (js_exports == null) js_exports = {};\n",
       "\n",
       "    root._bokeh_onload_callbacks.push(callback);\n",
       "\n",
       "    if (root._bokeh_is_loading > 0) {\n",
       "      console.debug(\"Bokeh: BokehJS is being loaded, scheduling callback at\", now());\n",
       "      return null;\n",
       "    }\n",
       "    if (js_urls.length === 0 && js_modules.length === 0 && Object.keys(js_exports).length === 0) {\n",
       "      run_callbacks();\n",
       "      return null;\n",
       "    }\n",
       "    if (!reloading) {\n",
       "      console.debug(\"Bokeh: BokehJS not loaded, scheduling load and callback at\", now());\n",
       "    }\n",
       "\n",
       "    function on_load() {\n",
       "      root._bokeh_is_loading--;\n",
       "      if (root._bokeh_is_loading === 0) {\n",
       "        console.debug(\"Bokeh: all BokehJS libraries/stylesheets loaded\");\n",
       "        run_callbacks()\n",
       "      }\n",
       "    }\n",
       "    window._bokeh_on_load = on_load\n",
       "\n",
       "    function on_error() {\n",
       "      console.error(\"failed to load \" + url);\n",
       "    }\n",
       "\n",
       "    var skip = [];\n",
       "    if (window.requirejs) {\n",
       "      window.requirejs.config({'packages': {}, 'paths': {}, 'shim': {}});\n",
       "      root._bokeh_is_loading = css_urls.length + 0;\n",
       "    } else {\n",
       "      root._bokeh_is_loading = css_urls.length + js_urls.length + js_modules.length + Object.keys(js_exports).length;\n",
       "    }\n",
       "\n",
       "    var existing_stylesheets = []\n",
       "    var links = document.getElementsByTagName('link')\n",
       "    for (var i = 0; i < links.length; i++) {\n",
       "      var link = links[i]\n",
       "      if (link.href != null) {\n",
       "\texisting_stylesheets.push(link.href)\n",
       "      }\n",
       "    }\n",
       "    for (var i = 0; i < css_urls.length; i++) {\n",
       "      var url = css_urls[i];\n",
       "      if (existing_stylesheets.indexOf(url) !== -1) {\n",
       "\ton_load()\n",
       "\tcontinue;\n",
       "      }\n",
       "      const element = document.createElement(\"link\");\n",
       "      element.onload = on_load;\n",
       "      element.onerror = on_error;\n",
       "      element.rel = \"stylesheet\";\n",
       "      element.type = \"text/css\";\n",
       "      element.href = url;\n",
       "      console.debug(\"Bokeh: injecting link tag for BokehJS stylesheet: \", url);\n",
       "      document.body.appendChild(element);\n",
       "    }    var existing_scripts = []\n",
       "    var scripts = document.getElementsByTagName('script')\n",
       "    for (var i = 0; i < scripts.length; i++) {\n",
       "      var script = scripts[i]\n",
       "      if (script.src != null) {\n",
       "\texisting_scripts.push(script.src)\n",
       "      }\n",
       "    }\n",
       "    for (var i = 0; i < js_urls.length; i++) {\n",
       "      var url = js_urls[i];\n",
       "      if (skip.indexOf(url) !== -1 || existing_scripts.indexOf(url) !== -1) {\n",
       "\tif (!window.requirejs) {\n",
       "\t  on_load();\n",
       "\t}\n",
       "\tcontinue;\n",
       "      }\n",
       "      var element = document.createElement('script');\n",
       "      element.onload = on_load;\n",
       "      element.onerror = on_error;\n",
       "      element.async = false;\n",
       "      element.src = url;\n",
       "      console.debug(\"Bokeh: injecting script tag for BokehJS library: \", url);\n",
       "      document.head.appendChild(element);\n",
       "    }\n",
       "    for (var i = 0; i < js_modules.length; i++) {\n",
       "      var url = js_modules[i];\n",
       "      if (skip.indexOf(url) !== -1 || existing_scripts.indexOf(url) !== -1) {\n",
       "\tif (!window.requirejs) {\n",
       "\t  on_load();\n",
       "\t}\n",
       "\tcontinue;\n",
       "      }\n",
       "      var element = document.createElement('script');\n",
       "      element.onload = on_load;\n",
       "      element.onerror = on_error;\n",
       "      element.async = false;\n",
       "      element.src = url;\n",
       "      element.type = \"module\";\n",
       "      console.debug(\"Bokeh: injecting script tag for BokehJS library: \", url);\n",
       "      document.head.appendChild(element);\n",
       "    }\n",
       "    for (const name in js_exports) {\n",
       "      var url = js_exports[name];\n",
       "      if (skip.indexOf(url) >= 0 || root[name] != null) {\n",
       "\tif (!window.requirejs) {\n",
       "\t  on_load();\n",
       "\t}\n",
       "\tcontinue;\n",
       "      }\n",
       "      var element = document.createElement('script');\n",
       "      element.onerror = on_error;\n",
       "      element.async = false;\n",
       "      element.type = \"module\";\n",
       "      console.debug(\"Bokeh: injecting script tag for BokehJS library: \", url);\n",
       "      element.textContent = `\n",
       "      import ${name} from \"${url}\"\n",
       "      window.${name} = ${name}\n",
       "      window._bokeh_on_load()\n",
       "      `\n",
       "      document.head.appendChild(element);\n",
       "    }\n",
       "    if (!js_urls.length && !js_modules.length) {\n",
       "      on_load()\n",
       "    }\n",
       "  };\n",
       "\n",
       "  function inject_raw_css(css) {\n",
       "    const element = document.createElement(\"style\");\n",
       "    element.appendChild(document.createTextNode(css));\n",
       "    document.body.appendChild(element);\n",
       "  }\n",
       "\n",
       "  var js_urls = [\"https://cdn.bokeh.org/bokeh/release/bokeh-3.4.3.min.js\", \"https://cdn.bokeh.org/bokeh/release/bokeh-gl-3.4.3.min.js\", \"https://cdn.bokeh.org/bokeh/release/bokeh-widgets-3.4.3.min.js\", \"https://cdn.bokeh.org/bokeh/release/bokeh-tables-3.4.3.min.js\", \"https://cdn.holoviz.org/panel/1.4.5/dist/panel.min.js\"];\n",
       "  var js_modules = [];\n",
       "  var js_exports = {};\n",
       "  var css_urls = [];\n",
       "  var inline_js = [    function(Bokeh) {\n",
       "      Bokeh.set_log_level(\"info\");\n",
       "    },\n",
       "function(Bokeh) {} // ensure no trailing comma for IE\n",
       "  ];\n",
       "\n",
       "  function run_inline_js() {\n",
       "    if ((root.Bokeh !== undefined) || (force === true)) {\n",
       "      for (var i = 0; i < inline_js.length; i++) {\n",
       "\ttry {\n",
       "          inline_js[i].call(root, root.Bokeh);\n",
       "\t} catch(e) {\n",
       "\t  if (!reloading) {\n",
       "\t    throw e;\n",
       "\t  }\n",
       "\t}\n",
       "      }\n",
       "      // Cache old bokeh versions\n",
       "      if (Bokeh != undefined && !reloading) {\n",
       "\tvar NewBokeh = root.Bokeh;\n",
       "\tif (Bokeh.versions === undefined) {\n",
       "\t  Bokeh.versions = new Map();\n",
       "\t}\n",
       "\tif (NewBokeh.version !== Bokeh.version) {\n",
       "\t  Bokeh.versions.set(NewBokeh.version, NewBokeh)\n",
       "\t}\n",
       "\troot.Bokeh = Bokeh;\n",
       "      }} else if (Date.now() < root._bokeh_timeout) {\n",
       "      setTimeout(run_inline_js, 100);\n",
       "    } else if (!root._bokeh_failed_load) {\n",
       "      console.log(\"Bokeh: BokehJS failed to load within specified timeout.\");\n",
       "      root._bokeh_failed_load = true;\n",
       "    }\n",
       "    root._bokeh_is_initializing = false\n",
       "  }\n",
       "\n",
       "  function load_or_wait() {\n",
       "    // Implement a backoff loop that tries to ensure we do not load multiple\n",
       "    // versions of Bokeh and its dependencies at the same time.\n",
       "    // In recent versions we use the root._bokeh_is_initializing flag\n",
       "    // to determine whether there is an ongoing attempt to initialize\n",
       "    // bokeh, however for backward compatibility we also try to ensure\n",
       "    // that we do not start loading a newer (Panel>=1.0 and Bokeh>3) version\n",
       "    // before older versions are fully initialized.\n",
       "    if (root._bokeh_is_initializing && Date.now() > root._bokeh_timeout) {\n",
       "      root._bokeh_is_initializing = false;\n",
       "      root._bokeh_onload_callbacks = undefined;\n",
       "      console.log(\"Bokeh: BokehJS was loaded multiple times but one version failed to initialize.\");\n",
       "      load_or_wait();\n",
       "    } else if (root._bokeh_is_initializing || (typeof root._bokeh_is_initializing === \"undefined\" && root._bokeh_onload_callbacks !== undefined)) {\n",
       "      setTimeout(load_or_wait, 100);\n",
       "    } else {\n",
       "      root._bokeh_is_initializing = true\n",
       "      root._bokeh_onload_callbacks = []\n",
       "      var bokeh_loaded = Bokeh != null && (Bokeh.version === py_version || (Bokeh.versions !== undefined && Bokeh.versions.has(py_version)));\n",
       "      if (!reloading && !bokeh_loaded) {\n",
       "\troot.Bokeh = undefined;\n",
       "      }\n",
       "      load_libs(css_urls, js_urls, js_modules, js_exports, function() {\n",
       "\tconsole.debug(\"Bokeh: BokehJS plotting callback run at\", now());\n",
       "\trun_inline_js();\n",
       "      });\n",
       "    }\n",
       "  }\n",
       "  // Give older versions of the autoload script a head-start to ensure\n",
       "  // they initialize before we start loading newer version.\n",
       "  setTimeout(load_or_wait, 100)\n",
       "}(window));"
      ],
      "application/vnd.holoviews_load.v0+json": "(function(root) {\n  function now() {\n    return new Date();\n  }\n\n  var force = true;\n  var py_version = '3.4.3'.replace('rc', '-rc.').replace('.dev', '-dev.');\n  var reloading = false;\n  var Bokeh = root.Bokeh;\n\n  if (typeof (root._bokeh_timeout) === \"undefined\" || force) {\n    root._bokeh_timeout = Date.now() + 5000;\n    root._bokeh_failed_load = false;\n  }\n\n  function run_callbacks() {\n    try {\n      root._bokeh_onload_callbacks.forEach(function(callback) {\n        if (callback != null)\n          callback();\n      });\n    } finally {\n      delete root._bokeh_onload_callbacks;\n    }\n    console.debug(\"Bokeh: all callbacks have finished\");\n  }\n\n  function load_libs(css_urls, js_urls, js_modules, js_exports, callback) {\n    if (css_urls == null) css_urls = [];\n    if (js_urls == null) js_urls = [];\n    if (js_modules == null) js_modules = [];\n    if (js_exports == null) js_exports = {};\n\n    root._bokeh_onload_callbacks.push(callback);\n\n    if (root._bokeh_is_loading > 0) {\n      console.debug(\"Bokeh: BokehJS is being loaded, scheduling callback at\", now());\n      return null;\n    }\n    if (js_urls.length === 0 && js_modules.length === 0 && Object.keys(js_exports).length === 0) {\n      run_callbacks();\n      return null;\n    }\n    if (!reloading) {\n      console.debug(\"Bokeh: BokehJS not loaded, scheduling load and callback at\", now());\n    }\n\n    function on_load() {\n      root._bokeh_is_loading--;\n      if (root._bokeh_is_loading === 0) {\n        console.debug(\"Bokeh: all BokehJS libraries/stylesheets loaded\");\n        run_callbacks()\n      }\n    }\n    window._bokeh_on_load = on_load\n\n    function on_error() {\n      console.error(\"failed to load \" + url);\n    }\n\n    var skip = [];\n    if (window.requirejs) {\n      window.requirejs.config({'packages': {}, 'paths': {}, 'shim': {}});\n      root._bokeh_is_loading = css_urls.length + 0;\n    } else {\n      root._bokeh_is_loading = css_urls.length + js_urls.length + js_modules.length + Object.keys(js_exports).length;\n    }\n\n    var existing_stylesheets = []\n    var links = document.getElementsByTagName('link')\n    for (var i = 0; i < links.length; i++) {\n      var link = links[i]\n      if (link.href != null) {\n\texisting_stylesheets.push(link.href)\n      }\n    }\n    for (var i = 0; i < css_urls.length; i++) {\n      var url = css_urls[i];\n      if (existing_stylesheets.indexOf(url) !== -1) {\n\ton_load()\n\tcontinue;\n      }\n      const element = document.createElement(\"link\");\n      element.onload = on_load;\n      element.onerror = on_error;\n      element.rel = \"stylesheet\";\n      element.type = \"text/css\";\n      element.href = url;\n      console.debug(\"Bokeh: injecting link tag for BokehJS stylesheet: \", url);\n      document.body.appendChild(element);\n    }    var existing_scripts = []\n    var scripts = document.getElementsByTagName('script')\n    for (var i = 0; i < scripts.length; i++) {\n      var script = scripts[i]\n      if (script.src != null) {\n\texisting_scripts.push(script.src)\n      }\n    }\n    for (var i = 0; i < js_urls.length; i++) {\n      var url = js_urls[i];\n      if (skip.indexOf(url) !== -1 || existing_scripts.indexOf(url) !== -1) {\n\tif (!window.requirejs) {\n\t  on_load();\n\t}\n\tcontinue;\n      }\n      var element = document.createElement('script');\n      element.onload = on_load;\n      element.onerror = on_error;\n      element.async = false;\n      element.src = url;\n      console.debug(\"Bokeh: injecting script tag for BokehJS library: \", url);\n      document.head.appendChild(element);\n    }\n    for (var i = 0; i < js_modules.length; i++) {\n      var url = js_modules[i];\n      if (skip.indexOf(url) !== -1 || existing_scripts.indexOf(url) !== -1) {\n\tif (!window.requirejs) {\n\t  on_load();\n\t}\n\tcontinue;\n      }\n      var element = document.createElement('script');\n      element.onload = on_load;\n      element.onerror = on_error;\n      element.async = false;\n      element.src = url;\n      element.type = \"module\";\n      console.debug(\"Bokeh: injecting script tag for BokehJS library: \", url);\n      document.head.appendChild(element);\n    }\n    for (const name in js_exports) {\n      var url = js_exports[name];\n      if (skip.indexOf(url) >= 0 || root[name] != null) {\n\tif (!window.requirejs) {\n\t  on_load();\n\t}\n\tcontinue;\n      }\n      var element = document.createElement('script');\n      element.onerror = on_error;\n      element.async = false;\n      element.type = \"module\";\n      console.debug(\"Bokeh: injecting script tag for BokehJS library: \", url);\n      element.textContent = `\n      import ${name} from \"${url}\"\n      window.${name} = ${name}\n      window._bokeh_on_load()\n      `\n      document.head.appendChild(element);\n    }\n    if (!js_urls.length && !js_modules.length) {\n      on_load()\n    }\n  };\n\n  function inject_raw_css(css) {\n    const element = document.createElement(\"style\");\n    element.appendChild(document.createTextNode(css));\n    document.body.appendChild(element);\n  }\n\n  var js_urls = [\"https://cdn.bokeh.org/bokeh/release/bokeh-3.4.3.min.js\", \"https://cdn.bokeh.org/bokeh/release/bokeh-gl-3.4.3.min.js\", \"https://cdn.bokeh.org/bokeh/release/bokeh-widgets-3.4.3.min.js\", \"https://cdn.bokeh.org/bokeh/release/bokeh-tables-3.4.3.min.js\", \"https://cdn.holoviz.org/panel/1.4.5/dist/panel.min.js\"];\n  var js_modules = [];\n  var js_exports = {};\n  var css_urls = [];\n  var inline_js = [    function(Bokeh) {\n      Bokeh.set_log_level(\"info\");\n    },\nfunction(Bokeh) {} // ensure no trailing comma for IE\n  ];\n\n  function run_inline_js() {\n    if ((root.Bokeh !== undefined) || (force === true)) {\n      for (var i = 0; i < inline_js.length; i++) {\n\ttry {\n          inline_js[i].call(root, root.Bokeh);\n\t} catch(e) {\n\t  if (!reloading) {\n\t    throw e;\n\t  }\n\t}\n      }\n      // Cache old bokeh versions\n      if (Bokeh != undefined && !reloading) {\n\tvar NewBokeh = root.Bokeh;\n\tif (Bokeh.versions === undefined) {\n\t  Bokeh.versions = new Map();\n\t}\n\tif (NewBokeh.version !== Bokeh.version) {\n\t  Bokeh.versions.set(NewBokeh.version, NewBokeh)\n\t}\n\troot.Bokeh = Bokeh;\n      }} else if (Date.now() < root._bokeh_timeout) {\n      setTimeout(run_inline_js, 100);\n    } else if (!root._bokeh_failed_load) {\n      console.log(\"Bokeh: BokehJS failed to load within specified timeout.\");\n      root._bokeh_failed_load = true;\n    }\n    root._bokeh_is_initializing = false\n  }\n\n  function load_or_wait() {\n    // Implement a backoff loop that tries to ensure we do not load multiple\n    // versions of Bokeh and its dependencies at the same time.\n    // In recent versions we use the root._bokeh_is_initializing flag\n    // to determine whether there is an ongoing attempt to initialize\n    // bokeh, however for backward compatibility we also try to ensure\n    // that we do not start loading a newer (Panel>=1.0 and Bokeh>3) version\n    // before older versions are fully initialized.\n    if (root._bokeh_is_initializing && Date.now() > root._bokeh_timeout) {\n      root._bokeh_is_initializing = false;\n      root._bokeh_onload_callbacks = undefined;\n      console.log(\"Bokeh: BokehJS was loaded multiple times but one version failed to initialize.\");\n      load_or_wait();\n    } else if (root._bokeh_is_initializing || (typeof root._bokeh_is_initializing === \"undefined\" && root._bokeh_onload_callbacks !== undefined)) {\n      setTimeout(load_or_wait, 100);\n    } else {\n      root._bokeh_is_initializing = true\n      root._bokeh_onload_callbacks = []\n      var bokeh_loaded = Bokeh != null && (Bokeh.version === py_version || (Bokeh.versions !== undefined && Bokeh.versions.has(py_version)));\n      if (!reloading && !bokeh_loaded) {\n\troot.Bokeh = undefined;\n      }\n      load_libs(css_urls, js_urls, js_modules, js_exports, function() {\n\tconsole.debug(\"Bokeh: BokehJS plotting callback run at\", now());\n\trun_inline_js();\n      });\n    }\n  }\n  // Give older versions of the autoload script a head-start to ensure\n  // they initialize before we start loading newer version.\n  setTimeout(load_or_wait, 100)\n}(window));"
     },
     "metadata": {},
     "output_type": "display_data"
    },
    {
     "data": {
      "application/javascript": [
       "\n",
       "if ((window.PyViz === undefined) || (window.PyViz instanceof HTMLElement)) {\n",
       "  window.PyViz = {comms: {}, comm_status:{}, kernels:{}, receivers: {}, plot_index: []}\n",
       "}\n",
       "\n",
       "\n",
       "    function JupyterCommManager() {\n",
       "    }\n",
       "\n",
       "    JupyterCommManager.prototype.register_target = function(plot_id, comm_id, msg_handler) {\n",
       "      if (window.comm_manager || ((window.Jupyter !== undefined) && (Jupyter.notebook.kernel != null))) {\n",
       "        var comm_manager = window.comm_manager || Jupyter.notebook.kernel.comm_manager;\n",
       "        comm_manager.register_target(comm_id, function(comm) {\n",
       "          comm.on_msg(msg_handler);\n",
       "        });\n",
       "      } else if ((plot_id in window.PyViz.kernels) && (window.PyViz.kernels[plot_id])) {\n",
       "        window.PyViz.kernels[plot_id].registerCommTarget(comm_id, function(comm) {\n",
       "          comm.onMsg = msg_handler;\n",
       "        });\n",
       "      } else if (typeof google != 'undefined' && google.colab.kernel != null) {\n",
       "        google.colab.kernel.comms.registerTarget(comm_id, (comm) => {\n",
       "          var messages = comm.messages[Symbol.asyncIterator]();\n",
       "          function processIteratorResult(result) {\n",
       "            var message = result.value;\n",
       "            console.log(message)\n",
       "            var content = {data: message.data, comm_id};\n",
       "            var buffers = []\n",
       "            for (var buffer of message.buffers || []) {\n",
       "              buffers.push(new DataView(buffer))\n",
       "            }\n",
       "            var metadata = message.metadata || {};\n",
       "            var msg = {content, buffers, metadata}\n",
       "            msg_handler(msg);\n",
       "            return messages.next().then(processIteratorResult);\n",
       "          }\n",
       "          return messages.next().then(processIteratorResult);\n",
       "        })\n",
       "      }\n",
       "    }\n",
       "\n",
       "    JupyterCommManager.prototype.get_client_comm = function(plot_id, comm_id, msg_handler) {\n",
       "      if (comm_id in window.PyViz.comms) {\n",
       "        return window.PyViz.comms[comm_id];\n",
       "      } else if (window.comm_manager || ((window.Jupyter !== undefined) && (Jupyter.notebook.kernel != null))) {\n",
       "        var comm_manager = window.comm_manager || Jupyter.notebook.kernel.comm_manager;\n",
       "        var comm = comm_manager.new_comm(comm_id, {}, {}, {}, comm_id);\n",
       "        if (msg_handler) {\n",
       "          comm.on_msg(msg_handler);\n",
       "        }\n",
       "      } else if ((plot_id in window.PyViz.kernels) && (window.PyViz.kernels[plot_id])) {\n",
       "        var comm = window.PyViz.kernels[plot_id].connectToComm(comm_id);\n",
       "        comm.open();\n",
       "        if (msg_handler) {\n",
       "          comm.onMsg = msg_handler;\n",
       "        }\n",
       "      } else if (typeof google != 'undefined' && google.colab.kernel != null) {\n",
       "        var comm_promise = google.colab.kernel.comms.open(comm_id)\n",
       "        comm_promise.then((comm) => {\n",
       "          window.PyViz.comms[comm_id] = comm;\n",
       "          if (msg_handler) {\n",
       "            var messages = comm.messages[Symbol.asyncIterator]();\n",
       "            function processIteratorResult(result) {\n",
       "              var message = result.value;\n",
       "              var content = {data: message.data};\n",
       "              var metadata = message.metadata || {comm_id};\n",
       "              var msg = {content, metadata}\n",
       "              msg_handler(msg);\n",
       "              return messages.next().then(processIteratorResult);\n",
       "            }\n",
       "            return messages.next().then(processIteratorResult);\n",
       "          }\n",
       "        }) \n",
       "        var sendClosure = (data, metadata, buffers, disposeOnDone) => {\n",
       "          return comm_promise.then((comm) => {\n",
       "            comm.send(data, metadata, buffers, disposeOnDone);\n",
       "          });\n",
       "        };\n",
       "        var comm = {\n",
       "          send: sendClosure\n",
       "        };\n",
       "      }\n",
       "      window.PyViz.comms[comm_id] = comm;\n",
       "      return comm;\n",
       "    }\n",
       "    window.PyViz.comm_manager = new JupyterCommManager();\n",
       "    \n",
       "\n",
       "\n",
       "var JS_MIME_TYPE = 'application/javascript';\n",
       "var HTML_MIME_TYPE = 'text/html';\n",
       "var EXEC_MIME_TYPE = 'application/vnd.holoviews_exec.v0+json';\n",
       "var CLASS_NAME = 'output';\n",
       "\n",
       "/**\n",
       " * Render data to the DOM node\n",
       " */\n",
       "function render(props, node) {\n",
       "  var div = document.createElement(\"div\");\n",
       "  var script = document.createElement(\"script\");\n",
       "  node.appendChild(div);\n",
       "  node.appendChild(script);\n",
       "}\n",
       "\n",
       "/**\n",
       " * Handle when a new output is added\n",
       " */\n",
       "function handle_add_output(event, handle) {\n",
       "  var output_area = handle.output_area;\n",
       "  var output = handle.output;\n",
       "  if ((output.data == undefined) || (!output.data.hasOwnProperty(EXEC_MIME_TYPE))) {\n",
       "    return\n",
       "  }\n",
       "  var id = output.metadata[EXEC_MIME_TYPE][\"id\"];\n",
       "  var toinsert = output_area.element.find(\".\" + CLASS_NAME.split(' ')[0]);\n",
       "  if (id !== undefined) {\n",
       "    var nchildren = toinsert.length;\n",
       "    var html_node = toinsert[nchildren-1].children[0];\n",
       "    html_node.innerHTML = output.data[HTML_MIME_TYPE];\n",
       "    var scripts = [];\n",
       "    var nodelist = html_node.querySelectorAll(\"script\");\n",
       "    for (var i in nodelist) {\n",
       "      if (nodelist.hasOwnProperty(i)) {\n",
       "        scripts.push(nodelist[i])\n",
       "      }\n",
       "    }\n",
       "\n",
       "    scripts.forEach( function (oldScript) {\n",
       "      var newScript = document.createElement(\"script\");\n",
       "      var attrs = [];\n",
       "      var nodemap = oldScript.attributes;\n",
       "      for (var j in nodemap) {\n",
       "        if (nodemap.hasOwnProperty(j)) {\n",
       "          attrs.push(nodemap[j])\n",
       "        }\n",
       "      }\n",
       "      attrs.forEach(function(attr) { newScript.setAttribute(attr.name, attr.value) });\n",
       "      newScript.appendChild(document.createTextNode(oldScript.innerHTML));\n",
       "      oldScript.parentNode.replaceChild(newScript, oldScript);\n",
       "    });\n",
       "    if (JS_MIME_TYPE in output.data) {\n",
       "      toinsert[nchildren-1].children[1].textContent = output.data[JS_MIME_TYPE];\n",
       "    }\n",
       "    output_area._hv_plot_id = id;\n",
       "    if ((window.Bokeh !== undefined) && (id in Bokeh.index)) {\n",
       "      window.PyViz.plot_index[id] = Bokeh.index[id];\n",
       "    } else {\n",
       "      window.PyViz.plot_index[id] = null;\n",
       "    }\n",
       "  } else if (output.metadata[EXEC_MIME_TYPE][\"server_id\"] !== undefined) {\n",
       "    var bk_div = document.createElement(\"div\");\n",
       "    bk_div.innerHTML = output.data[HTML_MIME_TYPE];\n",
       "    var script_attrs = bk_div.children[0].attributes;\n",
       "    for (var i = 0; i < script_attrs.length; i++) {\n",
       "      toinsert[toinsert.length - 1].childNodes[1].setAttribute(script_attrs[i].name, script_attrs[i].value);\n",
       "    }\n",
       "    // store reference to server id on output_area\n",
       "    output_area._bokeh_server_id = output.metadata[EXEC_MIME_TYPE][\"server_id\"];\n",
       "  }\n",
       "}\n",
       "\n",
       "/**\n",
       " * Handle when an output is cleared or removed\n",
       " */\n",
       "function handle_clear_output(event, handle) {\n",
       "  var id = handle.cell.output_area._hv_plot_id;\n",
       "  var server_id = handle.cell.output_area._bokeh_server_id;\n",
       "  if (((id === undefined) || !(id in PyViz.plot_index)) && (server_id !== undefined)) { return; }\n",
       "  var comm = window.PyViz.comm_manager.get_client_comm(\"hv-extension-comm\", \"hv-extension-comm\", function () {});\n",
       "  if (server_id !== null) {\n",
       "    comm.send({event_type: 'server_delete', 'id': server_id});\n",
       "    return;\n",
       "  } else if (comm !== null) {\n",
       "    comm.send({event_type: 'delete', 'id': id});\n",
       "  }\n",
       "  delete PyViz.plot_index[id];\n",
       "  if ((window.Bokeh !== undefined) & (id in window.Bokeh.index)) {\n",
       "    var doc = window.Bokeh.index[id].model.document\n",
       "    doc.clear();\n",
       "    const i = window.Bokeh.documents.indexOf(doc);\n",
       "    if (i > -1) {\n",
       "      window.Bokeh.documents.splice(i, 1);\n",
       "    }\n",
       "  }\n",
       "}\n",
       "\n",
       "/**\n",
       " * Handle kernel restart event\n",
       " */\n",
       "function handle_kernel_cleanup(event, handle) {\n",
       "  delete PyViz.comms[\"hv-extension-comm\"];\n",
       "  window.PyViz.plot_index = {}\n",
       "}\n",
       "\n",
       "/**\n",
       " * Handle update_display_data messages\n",
       " */\n",
       "function handle_update_output(event, handle) {\n",
       "  handle_clear_output(event, {cell: {output_area: handle.output_area}})\n",
       "  handle_add_output(event, handle)\n",
       "}\n",
       "\n",
       "function register_renderer(events, OutputArea) {\n",
       "  function append_mime(data, metadata, element) {\n",
       "    // create a DOM node to render to\n",
       "    var toinsert = this.create_output_subarea(\n",
       "    metadata,\n",
       "    CLASS_NAME,\n",
       "    EXEC_MIME_TYPE\n",
       "    );\n",
       "    this.keyboard_manager.register_events(toinsert);\n",
       "    // Render to node\n",
       "    var props = {data: data, metadata: metadata[EXEC_MIME_TYPE]};\n",
       "    render(props, toinsert[0]);\n",
       "    element.append(toinsert);\n",
       "    return toinsert\n",
       "  }\n",
       "\n",
       "  events.on('output_added.OutputArea', handle_add_output);\n",
       "  events.on('output_updated.OutputArea', handle_update_output);\n",
       "  events.on('clear_output.CodeCell', handle_clear_output);\n",
       "  events.on('delete.Cell', handle_clear_output);\n",
       "  events.on('kernel_ready.Kernel', handle_kernel_cleanup);\n",
       "\n",
       "  OutputArea.prototype.register_mime_type(EXEC_MIME_TYPE, append_mime, {\n",
       "    safe: true,\n",
       "    index: 0\n",
       "  });\n",
       "}\n",
       "\n",
       "if (window.Jupyter !== undefined) {\n",
       "  try {\n",
       "    var events = require('base/js/events');\n",
       "    var OutputArea = require('notebook/js/outputarea').OutputArea;\n",
       "    if (OutputArea.prototype.mime_types().indexOf(EXEC_MIME_TYPE) == -1) {\n",
       "      register_renderer(events, OutputArea);\n",
       "    }\n",
       "  } catch(err) {\n",
       "  }\n",
       "}\n"
      ],
      "application/vnd.holoviews_load.v0+json": "\nif ((window.PyViz === undefined) || (window.PyViz instanceof HTMLElement)) {\n  window.PyViz = {comms: {}, comm_status:{}, kernels:{}, receivers: {}, plot_index: []}\n}\n\n\n    function JupyterCommManager() {\n    }\n\n    JupyterCommManager.prototype.register_target = function(plot_id, comm_id, msg_handler) {\n      if (window.comm_manager || ((window.Jupyter !== undefined) && (Jupyter.notebook.kernel != null))) {\n        var comm_manager = window.comm_manager || Jupyter.notebook.kernel.comm_manager;\n        comm_manager.register_target(comm_id, function(comm) {\n          comm.on_msg(msg_handler);\n        });\n      } else if ((plot_id in window.PyViz.kernels) && (window.PyViz.kernels[plot_id])) {\n        window.PyViz.kernels[plot_id].registerCommTarget(comm_id, function(comm) {\n          comm.onMsg = msg_handler;\n        });\n      } else if (typeof google != 'undefined' && google.colab.kernel != null) {\n        google.colab.kernel.comms.registerTarget(comm_id, (comm) => {\n          var messages = comm.messages[Symbol.asyncIterator]();\n          function processIteratorResult(result) {\n            var message = result.value;\n            console.log(message)\n            var content = {data: message.data, comm_id};\n            var buffers = []\n            for (var buffer of message.buffers || []) {\n              buffers.push(new DataView(buffer))\n            }\n            var metadata = message.metadata || {};\n            var msg = {content, buffers, metadata}\n            msg_handler(msg);\n            return messages.next().then(processIteratorResult);\n          }\n          return messages.next().then(processIteratorResult);\n        })\n      }\n    }\n\n    JupyterCommManager.prototype.get_client_comm = function(plot_id, comm_id, msg_handler) {\n      if (comm_id in window.PyViz.comms) {\n        return window.PyViz.comms[comm_id];\n      } else if (window.comm_manager || ((window.Jupyter !== undefined) && (Jupyter.notebook.kernel != null))) {\n        var comm_manager = window.comm_manager || Jupyter.notebook.kernel.comm_manager;\n        var comm = comm_manager.new_comm(comm_id, {}, {}, {}, comm_id);\n        if (msg_handler) {\n          comm.on_msg(msg_handler);\n        }\n      } else if ((plot_id in window.PyViz.kernels) && (window.PyViz.kernels[plot_id])) {\n        var comm = window.PyViz.kernels[plot_id].connectToComm(comm_id);\n        comm.open();\n        if (msg_handler) {\n          comm.onMsg = msg_handler;\n        }\n      } else if (typeof google != 'undefined' && google.colab.kernel != null) {\n        var comm_promise = google.colab.kernel.comms.open(comm_id)\n        comm_promise.then((comm) => {\n          window.PyViz.comms[comm_id] = comm;\n          if (msg_handler) {\n            var messages = comm.messages[Symbol.asyncIterator]();\n            function processIteratorResult(result) {\n              var message = result.value;\n              var content = {data: message.data};\n              var metadata = message.metadata || {comm_id};\n              var msg = {content, metadata}\n              msg_handler(msg);\n              return messages.next().then(processIteratorResult);\n            }\n            return messages.next().then(processIteratorResult);\n          }\n        }) \n        var sendClosure = (data, metadata, buffers, disposeOnDone) => {\n          return comm_promise.then((comm) => {\n            comm.send(data, metadata, buffers, disposeOnDone);\n          });\n        };\n        var comm = {\n          send: sendClosure\n        };\n      }\n      window.PyViz.comms[comm_id] = comm;\n      return comm;\n    }\n    window.PyViz.comm_manager = new JupyterCommManager();\n    \n\n\nvar JS_MIME_TYPE = 'application/javascript';\nvar HTML_MIME_TYPE = 'text/html';\nvar EXEC_MIME_TYPE = 'application/vnd.holoviews_exec.v0+json';\nvar CLASS_NAME = 'output';\n\n/**\n * Render data to the DOM node\n */\nfunction render(props, node) {\n  var div = document.createElement(\"div\");\n  var script = document.createElement(\"script\");\n  node.appendChild(div);\n  node.appendChild(script);\n}\n\n/**\n * Handle when a new output is added\n */\nfunction handle_add_output(event, handle) {\n  var output_area = handle.output_area;\n  var output = handle.output;\n  if ((output.data == undefined) || (!output.data.hasOwnProperty(EXEC_MIME_TYPE))) {\n    return\n  }\n  var id = output.metadata[EXEC_MIME_TYPE][\"id\"];\n  var toinsert = output_area.element.find(\".\" + CLASS_NAME.split(' ')[0]);\n  if (id !== undefined) {\n    var nchildren = toinsert.length;\n    var html_node = toinsert[nchildren-1].children[0];\n    html_node.innerHTML = output.data[HTML_MIME_TYPE];\n    var scripts = [];\n    var nodelist = html_node.querySelectorAll(\"script\");\n    for (var i in nodelist) {\n      if (nodelist.hasOwnProperty(i)) {\n        scripts.push(nodelist[i])\n      }\n    }\n\n    scripts.forEach( function (oldScript) {\n      var newScript = document.createElement(\"script\");\n      var attrs = [];\n      var nodemap = oldScript.attributes;\n      for (var j in nodemap) {\n        if (nodemap.hasOwnProperty(j)) {\n          attrs.push(nodemap[j])\n        }\n      }\n      attrs.forEach(function(attr) { newScript.setAttribute(attr.name, attr.value) });\n      newScript.appendChild(document.createTextNode(oldScript.innerHTML));\n      oldScript.parentNode.replaceChild(newScript, oldScript);\n    });\n    if (JS_MIME_TYPE in output.data) {\n      toinsert[nchildren-1].children[1].textContent = output.data[JS_MIME_TYPE];\n    }\n    output_area._hv_plot_id = id;\n    if ((window.Bokeh !== undefined) && (id in Bokeh.index)) {\n      window.PyViz.plot_index[id] = Bokeh.index[id];\n    } else {\n      window.PyViz.plot_index[id] = null;\n    }\n  } else if (output.metadata[EXEC_MIME_TYPE][\"server_id\"] !== undefined) {\n    var bk_div = document.createElement(\"div\");\n    bk_div.innerHTML = output.data[HTML_MIME_TYPE];\n    var script_attrs = bk_div.children[0].attributes;\n    for (var i = 0; i < script_attrs.length; i++) {\n      toinsert[toinsert.length - 1].childNodes[1].setAttribute(script_attrs[i].name, script_attrs[i].value);\n    }\n    // store reference to server id on output_area\n    output_area._bokeh_server_id = output.metadata[EXEC_MIME_TYPE][\"server_id\"];\n  }\n}\n\n/**\n * Handle when an output is cleared or removed\n */\nfunction handle_clear_output(event, handle) {\n  var id = handle.cell.output_area._hv_plot_id;\n  var server_id = handle.cell.output_area._bokeh_server_id;\n  if (((id === undefined) || !(id in PyViz.plot_index)) && (server_id !== undefined)) { return; }\n  var comm = window.PyViz.comm_manager.get_client_comm(\"hv-extension-comm\", \"hv-extension-comm\", function () {});\n  if (server_id !== null) {\n    comm.send({event_type: 'server_delete', 'id': server_id});\n    return;\n  } else if (comm !== null) {\n    comm.send({event_type: 'delete', 'id': id});\n  }\n  delete PyViz.plot_index[id];\n  if ((window.Bokeh !== undefined) & (id in window.Bokeh.index)) {\n    var doc = window.Bokeh.index[id].model.document\n    doc.clear();\n    const i = window.Bokeh.documents.indexOf(doc);\n    if (i > -1) {\n      window.Bokeh.documents.splice(i, 1);\n    }\n  }\n}\n\n/**\n * Handle kernel restart event\n */\nfunction handle_kernel_cleanup(event, handle) {\n  delete PyViz.comms[\"hv-extension-comm\"];\n  window.PyViz.plot_index = {}\n}\n\n/**\n * Handle update_display_data messages\n */\nfunction handle_update_output(event, handle) {\n  handle_clear_output(event, {cell: {output_area: handle.output_area}})\n  handle_add_output(event, handle)\n}\n\nfunction register_renderer(events, OutputArea) {\n  function append_mime(data, metadata, element) {\n    // create a DOM node to render to\n    var toinsert = this.create_output_subarea(\n    metadata,\n    CLASS_NAME,\n    EXEC_MIME_TYPE\n    );\n    this.keyboard_manager.register_events(toinsert);\n    // Render to node\n    var props = {data: data, metadata: metadata[EXEC_MIME_TYPE]};\n    render(props, toinsert[0]);\n    element.append(toinsert);\n    return toinsert\n  }\n\n  events.on('output_added.OutputArea', handle_add_output);\n  events.on('output_updated.OutputArea', handle_update_output);\n  events.on('clear_output.CodeCell', handle_clear_output);\n  events.on('delete.Cell', handle_clear_output);\n  events.on('kernel_ready.Kernel', handle_kernel_cleanup);\n\n  OutputArea.prototype.register_mime_type(EXEC_MIME_TYPE, append_mime, {\n    safe: true,\n    index: 0\n  });\n}\n\nif (window.Jupyter !== undefined) {\n  try {\n    var events = require('base/js/events');\n    var OutputArea = require('notebook/js/outputarea').OutputArea;\n    if (OutputArea.prototype.mime_types().indexOf(EXEC_MIME_TYPE) == -1) {\n      register_renderer(events, OutputArea);\n    }\n  } catch(err) {\n  }\n}\n"
     },
     "metadata": {},
     "output_type": "display_data"
    },
    {
     "data": {
      "text/html": [
       "<style>*[data-root-id],\n",
       "*[data-root-id] > * {\n",
       "  box-sizing: border-box;\n",
       "  font-family: var(--jp-ui-font-family);\n",
       "  font-size: var(--jp-ui-font-size1);\n",
       "  color: var(--vscode-editor-foreground, var(--jp-ui-font-color1));\n",
       "}\n",
       "\n",
       "/* Override VSCode background color */\n",
       ".cell-output-ipywidget-background:has(\n",
       "    > .cell-output-ipywidget-background > .lm-Widget > *[data-root-id]\n",
       "  ),\n",
       ".cell-output-ipywidget-background:has(> .lm-Widget > *[data-root-id]) {\n",
       "  background-color: transparent !important;\n",
       "}\n",
       "</style>"
      ]
     },
     "metadata": {},
     "output_type": "display_data"
    },
    {
     "data": {
      "application/vnd.holoviews_exec.v0+json": "",
      "text/html": [
       "<div id='p1002'>\n",
       "  <div id=\"d23c3598-67ff-4fb0-bf7a-295c8d406ad9\" data-root-id=\"p1002\" style=\"display: contents;\"></div>\n",
       "</div>\n",
       "<script type=\"application/javascript\">(function(root) {\n",
       "  var docs_json = {\"cdf4b78d-91be-4a01-b8b0-9a8206b08031\":{\"version\":\"3.4.3\",\"title\":\"Bokeh Application\",\"roots\":[{\"type\":\"object\",\"name\":\"panel.models.browser.BrowserInfo\",\"id\":\"p1002\"},{\"type\":\"object\",\"name\":\"panel.models.comm_manager.CommManager\",\"id\":\"p1003\",\"attributes\":{\"plot_id\":\"p1002\",\"comm_id\":\"6ee899258d8b4bf59db084f3b15f0935\",\"client_comm_id\":\"23884009f1344d02857f7c3dbd06876e\"}}],\"defs\":[{\"type\":\"model\",\"name\":\"ReactiveHTML1\"},{\"type\":\"model\",\"name\":\"FlexBox1\",\"properties\":[{\"name\":\"align_content\",\"kind\":\"Any\",\"default\":\"flex-start\"},{\"name\":\"align_items\",\"kind\":\"Any\",\"default\":\"flex-start\"},{\"name\":\"flex_direction\",\"kind\":\"Any\",\"default\":\"row\"},{\"name\":\"flex_wrap\",\"kind\":\"Any\",\"default\":\"wrap\"},{\"name\":\"gap\",\"kind\":\"Any\",\"default\":\"\"},{\"name\":\"justify_content\",\"kind\":\"Any\",\"default\":\"flex-start\"}]},{\"type\":\"model\",\"name\":\"FloatPanel1\",\"properties\":[{\"name\":\"config\",\"kind\":\"Any\",\"default\":{\"type\":\"map\"}},{\"name\":\"contained\",\"kind\":\"Any\",\"default\":true},{\"name\":\"position\",\"kind\":\"Any\",\"default\":\"right-top\"},{\"name\":\"offsetx\",\"kind\":\"Any\",\"default\":null},{\"name\":\"offsety\",\"kind\":\"Any\",\"default\":null},{\"name\":\"theme\",\"kind\":\"Any\",\"default\":\"primary\"},{\"name\":\"status\",\"kind\":\"Any\",\"default\":\"normalized\"}]},{\"type\":\"model\",\"name\":\"GridStack1\",\"properties\":[{\"name\":\"mode\",\"kind\":\"Any\",\"default\":\"warn\"},{\"name\":\"ncols\",\"kind\":\"Any\",\"default\":null},{\"name\":\"nrows\",\"kind\":\"Any\",\"default\":null},{\"name\":\"allow_resize\",\"kind\":\"Any\",\"default\":true},{\"name\":\"allow_drag\",\"kind\":\"Any\",\"default\":true},{\"name\":\"state\",\"kind\":\"Any\",\"default\":[]}]},{\"type\":\"model\",\"name\":\"drag1\",\"properties\":[{\"name\":\"slider_width\",\"kind\":\"Any\",\"default\":5},{\"name\":\"slider_color\",\"kind\":\"Any\",\"default\":\"black\"},{\"name\":\"value\",\"kind\":\"Any\",\"default\":50}]},{\"type\":\"model\",\"name\":\"click1\",\"properties\":[{\"name\":\"terminal_output\",\"kind\":\"Any\",\"default\":\"\"},{\"name\":\"debug_name\",\"kind\":\"Any\",\"default\":\"\"},{\"name\":\"clears\",\"kind\":\"Any\",\"default\":0}]},{\"type\":\"model\",\"name\":\"FastWrapper1\",\"properties\":[{\"name\":\"object\",\"kind\":\"Any\",\"default\":null},{\"name\":\"style\",\"kind\":\"Any\",\"default\":null}]},{\"type\":\"model\",\"name\":\"NotificationAreaBase1\",\"properties\":[{\"name\":\"js_events\",\"kind\":\"Any\",\"default\":{\"type\":\"map\"}},{\"name\":\"position\",\"kind\":\"Any\",\"default\":\"bottom-right\"},{\"name\":\"_clear\",\"kind\":\"Any\",\"default\":0}]},{\"type\":\"model\",\"name\":\"NotificationArea1\",\"properties\":[{\"name\":\"js_events\",\"kind\":\"Any\",\"default\":{\"type\":\"map\"}},{\"name\":\"notifications\",\"kind\":\"Any\",\"default\":[]},{\"name\":\"position\",\"kind\":\"Any\",\"default\":\"bottom-right\"},{\"name\":\"_clear\",\"kind\":\"Any\",\"default\":0},{\"name\":\"types\",\"kind\":\"Any\",\"default\":[{\"type\":\"map\",\"entries\":[[\"type\",\"warning\"],[\"background\",\"#ffc107\"],[\"icon\",{\"type\":\"map\",\"entries\":[[\"className\",\"fas fa-exclamation-triangle\"],[\"tagName\",\"i\"],[\"color\",\"white\"]]}]]},{\"type\":\"map\",\"entries\":[[\"type\",\"info\"],[\"background\",\"#007bff\"],[\"icon\",{\"type\":\"map\",\"entries\":[[\"className\",\"fas fa-info-circle\"],[\"tagName\",\"i\"],[\"color\",\"white\"]]}]]}]}]},{\"type\":\"model\",\"name\":\"Notification\",\"properties\":[{\"name\":\"background\",\"kind\":\"Any\",\"default\":null},{\"name\":\"duration\",\"kind\":\"Any\",\"default\":3000},{\"name\":\"icon\",\"kind\":\"Any\",\"default\":null},{\"name\":\"message\",\"kind\":\"Any\",\"default\":\"\"},{\"name\":\"notification_type\",\"kind\":\"Any\",\"default\":null},{\"name\":\"_destroyed\",\"kind\":\"Any\",\"default\":false}]},{\"type\":\"model\",\"name\":\"TemplateActions1\",\"properties\":[{\"name\":\"open_modal\",\"kind\":\"Any\",\"default\":0},{\"name\":\"close_modal\",\"kind\":\"Any\",\"default\":0}]},{\"type\":\"model\",\"name\":\"BootstrapTemplateActions1\",\"properties\":[{\"name\":\"open_modal\",\"kind\":\"Any\",\"default\":0},{\"name\":\"close_modal\",\"kind\":\"Any\",\"default\":0}]},{\"type\":\"model\",\"name\":\"TemplateEditor1\",\"properties\":[{\"name\":\"layout\",\"kind\":\"Any\",\"default\":[]}]},{\"type\":\"model\",\"name\":\"MaterialTemplateActions1\",\"properties\":[{\"name\":\"open_modal\",\"kind\":\"Any\",\"default\":0},{\"name\":\"close_modal\",\"kind\":\"Any\",\"default\":0}]},{\"type\":\"model\",\"name\":\"copy_to_clipboard1\",\"properties\":[{\"name\":\"fill\",\"kind\":\"Any\",\"default\":\"none\"},{\"name\":\"value\",\"kind\":\"Any\",\"default\":null}]}]}};\n",
       "  var render_items = [{\"docid\":\"cdf4b78d-91be-4a01-b8b0-9a8206b08031\",\"roots\":{\"p1002\":\"d23c3598-67ff-4fb0-bf7a-295c8d406ad9\"},\"root_ids\":[\"p1002\"]}];\n",
       "  var docs = Object.values(docs_json)\n",
       "  if (!docs) {\n",
       "    return\n",
       "  }\n",
       "  const py_version = docs[0].version.replace('rc', '-rc.').replace('.dev', '-dev.')\n",
       "  async function embed_document(root) {\n",
       "    var Bokeh = get_bokeh(root)\n",
       "    await Bokeh.embed.embed_items_notebook(docs_json, render_items);\n",
       "    for (const render_item of render_items) {\n",
       "      for (const root_id of render_item.root_ids) {\n",
       "\tconst id_el = document.getElementById(root_id)\n",
       "\tif (id_el.children.length && id_el.children[0].hasAttribute('data-root-id')) {\n",
       "\t  const root_el = id_el.children[0]\n",
       "\t  root_el.id = root_el.id + '-rendered'\n",
       "\t  for (const child of root_el.children) {\n",
       "            // Ensure JupyterLab does not capture keyboard shortcuts\n",
       "            // see: https://jupyterlab.readthedocs.io/en/4.1.x/extension/notebook.html#keyboard-interaction-model\n",
       "\t    child.setAttribute('data-lm-suppress-shortcuts', 'true')\n",
       "\t  }\n",
       "\t}\n",
       "      }\n",
       "    }\n",
       "  }\n",
       "  function get_bokeh(root) {\n",
       "    if (root.Bokeh === undefined) {\n",
       "      return null\n",
       "    } else if (root.Bokeh.version !== py_version) {\n",
       "      if (root.Bokeh.versions === undefined || !root.Bokeh.versions.has(py_version)) {\n",
       "\treturn null\n",
       "      }\n",
       "      return root.Bokeh.versions.get(py_version);\n",
       "    } else if (root.Bokeh.version === py_version) {\n",
       "      return root.Bokeh\n",
       "    }\n",
       "    return null\n",
       "  }\n",
       "  function is_loaded(root) {\n",
       "    var Bokeh = get_bokeh(root)\n",
       "    return (Bokeh != null && Bokeh.Panel !== undefined)\n",
       "  }\n",
       "  if (is_loaded(root)) {\n",
       "    embed_document(root);\n",
       "  } else {\n",
       "    var attempts = 0;\n",
       "    var timer = setInterval(function(root) {\n",
       "      if (is_loaded(root)) {\n",
       "        clearInterval(timer);\n",
       "        embed_document(root);\n",
       "      } else if (document.readyState == \"complete\") {\n",
       "        attempts++;\n",
       "        if (attempts > 200) {\n",
       "          clearInterval(timer);\n",
       "\t  var Bokeh = get_bokeh(root)\n",
       "\t  if (Bokeh == null || Bokeh.Panel == null) {\n",
       "            console.warn(\"Panel: ERROR: Unable to run Panel code because Bokeh or Panel library is missing\");\n",
       "\t  } else {\n",
       "\t    console.warn(\"Panel: WARNING: Attempting to render but not all required libraries could be resolved.\")\n",
       "\t    embed_document(root)\n",
       "\t  }\n",
       "        }\n",
       "      }\n",
       "    }, 25, root)\n",
       "  }\n",
       "})(window);</script>"
      ]
     },
     "metadata": {
      "application/vnd.holoviews_exec.v0+json": {
       "id": "p1002"
      }
     },
     "output_type": "display_data"
    },
    {
     "data": {
      "application/javascript": [
       "(function(root) {\n",
       "  function now() {\n",
       "    return new Date();\n",
       "  }\n",
       "\n",
       "  var force = true;\n",
       "  var py_version = '3.4.3'.replace('rc', '-rc.').replace('.dev', '-dev.');\n",
       "  var reloading = true;\n",
       "  var Bokeh = root.Bokeh;\n",
       "\n",
       "  if (typeof (root._bokeh_timeout) === \"undefined\" || force) {\n",
       "    root._bokeh_timeout = Date.now() + 5000;\n",
       "    root._bokeh_failed_load = false;\n",
       "  }\n",
       "\n",
       "  function run_callbacks() {\n",
       "    try {\n",
       "      root._bokeh_onload_callbacks.forEach(function(callback) {\n",
       "        if (callback != null)\n",
       "          callback();\n",
       "      });\n",
       "    } finally {\n",
       "      delete root._bokeh_onload_callbacks;\n",
       "    }\n",
       "    console.debug(\"Bokeh: all callbacks have finished\");\n",
       "  }\n",
       "\n",
       "  function load_libs(css_urls, js_urls, js_modules, js_exports, callback) {\n",
       "    if (css_urls == null) css_urls = [];\n",
       "    if (js_urls == null) js_urls = [];\n",
       "    if (js_modules == null) js_modules = [];\n",
       "    if (js_exports == null) js_exports = {};\n",
       "\n",
       "    root._bokeh_onload_callbacks.push(callback);\n",
       "\n",
       "    if (root._bokeh_is_loading > 0) {\n",
       "      console.debug(\"Bokeh: BokehJS is being loaded, scheduling callback at\", now());\n",
       "      return null;\n",
       "    }\n",
       "    if (js_urls.length === 0 && js_modules.length === 0 && Object.keys(js_exports).length === 0) {\n",
       "      run_callbacks();\n",
       "      return null;\n",
       "    }\n",
       "    if (!reloading) {\n",
       "      console.debug(\"Bokeh: BokehJS not loaded, scheduling load and callback at\", now());\n",
       "    }\n",
       "\n",
       "    function on_load() {\n",
       "      root._bokeh_is_loading--;\n",
       "      if (root._bokeh_is_loading === 0) {\n",
       "        console.debug(\"Bokeh: all BokehJS libraries/stylesheets loaded\");\n",
       "        run_callbacks()\n",
       "      }\n",
       "    }\n",
       "    window._bokeh_on_load = on_load\n",
       "\n",
       "    function on_error() {\n",
       "      console.error(\"failed to load \" + url);\n",
       "    }\n",
       "\n",
       "    var skip = [];\n",
       "    if (window.requirejs) {\n",
       "      window.requirejs.config({'packages': {}, 'paths': {}, 'shim': {}});\n",
       "      root._bokeh_is_loading = css_urls.length + 0;\n",
       "    } else {\n",
       "      root._bokeh_is_loading = css_urls.length + js_urls.length + js_modules.length + Object.keys(js_exports).length;\n",
       "    }\n",
       "\n",
       "    var existing_stylesheets = []\n",
       "    var links = document.getElementsByTagName('link')\n",
       "    for (var i = 0; i < links.length; i++) {\n",
       "      var link = links[i]\n",
       "      if (link.href != null) {\n",
       "\texisting_stylesheets.push(link.href)\n",
       "      }\n",
       "    }\n",
       "    for (var i = 0; i < css_urls.length; i++) {\n",
       "      var url = css_urls[i];\n",
       "      if (existing_stylesheets.indexOf(url) !== -1) {\n",
       "\ton_load()\n",
       "\tcontinue;\n",
       "      }\n",
       "      const element = document.createElement(\"link\");\n",
       "      element.onload = on_load;\n",
       "      element.onerror = on_error;\n",
       "      element.rel = \"stylesheet\";\n",
       "      element.type = \"text/css\";\n",
       "      element.href = url;\n",
       "      console.debug(\"Bokeh: injecting link tag for BokehJS stylesheet: \", url);\n",
       "      document.body.appendChild(element);\n",
       "    }    var existing_scripts = []\n",
       "    var scripts = document.getElementsByTagName('script')\n",
       "    for (var i = 0; i < scripts.length; i++) {\n",
       "      var script = scripts[i]\n",
       "      if (script.src != null) {\n",
       "\texisting_scripts.push(script.src)\n",
       "      }\n",
       "    }\n",
       "    for (var i = 0; i < js_urls.length; i++) {\n",
       "      var url = js_urls[i];\n",
       "      if (skip.indexOf(url) !== -1 || existing_scripts.indexOf(url) !== -1) {\n",
       "\tif (!window.requirejs) {\n",
       "\t  on_load();\n",
       "\t}\n",
       "\tcontinue;\n",
       "      }\n",
       "      var element = document.createElement('script');\n",
       "      element.onload = on_load;\n",
       "      element.onerror = on_error;\n",
       "      element.async = false;\n",
       "      element.src = url;\n",
       "      console.debug(\"Bokeh: injecting script tag for BokehJS library: \", url);\n",
       "      document.head.appendChild(element);\n",
       "    }\n",
       "    for (var i = 0; i < js_modules.length; i++) {\n",
       "      var url = js_modules[i];\n",
       "      if (skip.indexOf(url) !== -1 || existing_scripts.indexOf(url) !== -1) {\n",
       "\tif (!window.requirejs) {\n",
       "\t  on_load();\n",
       "\t}\n",
       "\tcontinue;\n",
       "      }\n",
       "      var element = document.createElement('script');\n",
       "      element.onload = on_load;\n",
       "      element.onerror = on_error;\n",
       "      element.async = false;\n",
       "      element.src = url;\n",
       "      element.type = \"module\";\n",
       "      console.debug(\"Bokeh: injecting script tag for BokehJS library: \", url);\n",
       "      document.head.appendChild(element);\n",
       "    }\n",
       "    for (const name in js_exports) {\n",
       "      var url = js_exports[name];\n",
       "      if (skip.indexOf(url) >= 0 || root[name] != null) {\n",
       "\tif (!window.requirejs) {\n",
       "\t  on_load();\n",
       "\t}\n",
       "\tcontinue;\n",
       "      }\n",
       "      var element = document.createElement('script');\n",
       "      element.onerror = on_error;\n",
       "      element.async = false;\n",
       "      element.type = \"module\";\n",
       "      console.debug(\"Bokeh: injecting script tag for BokehJS library: \", url);\n",
       "      element.textContent = `\n",
       "      import ${name} from \"${url}\"\n",
       "      window.${name} = ${name}\n",
       "      window._bokeh_on_load()\n",
       "      `\n",
       "      document.head.appendChild(element);\n",
       "    }\n",
       "    if (!js_urls.length && !js_modules.length) {\n",
       "      on_load()\n",
       "    }\n",
       "  };\n",
       "\n",
       "  function inject_raw_css(css) {\n",
       "    const element = document.createElement(\"style\");\n",
       "    element.appendChild(document.createTextNode(css));\n",
       "    document.body.appendChild(element);\n",
       "  }\n",
       "\n",
       "  var js_urls = [];\n",
       "  var js_modules = [];\n",
       "  var js_exports = {};\n",
       "  var css_urls = [];\n",
       "  var inline_js = [    function(Bokeh) {\n",
       "      Bokeh.set_log_level(\"info\");\n",
       "    },\n",
       "function(Bokeh) {} // ensure no trailing comma for IE\n",
       "  ];\n",
       "\n",
       "  function run_inline_js() {\n",
       "    if ((root.Bokeh !== undefined) || (force === true)) {\n",
       "      for (var i = 0; i < inline_js.length; i++) {\n",
       "\ttry {\n",
       "          inline_js[i].call(root, root.Bokeh);\n",
       "\t} catch(e) {\n",
       "\t  if (!reloading) {\n",
       "\t    throw e;\n",
       "\t  }\n",
       "\t}\n",
       "      }\n",
       "      // Cache old bokeh versions\n",
       "      if (Bokeh != undefined && !reloading) {\n",
       "\tvar NewBokeh = root.Bokeh;\n",
       "\tif (Bokeh.versions === undefined) {\n",
       "\t  Bokeh.versions = new Map();\n",
       "\t}\n",
       "\tif (NewBokeh.version !== Bokeh.version) {\n",
       "\t  Bokeh.versions.set(NewBokeh.version, NewBokeh)\n",
       "\t}\n",
       "\troot.Bokeh = Bokeh;\n",
       "      }} else if (Date.now() < root._bokeh_timeout) {\n",
       "      setTimeout(run_inline_js, 100);\n",
       "    } else if (!root._bokeh_failed_load) {\n",
       "      console.log(\"Bokeh: BokehJS failed to load within specified timeout.\");\n",
       "      root._bokeh_failed_load = true;\n",
       "    }\n",
       "    root._bokeh_is_initializing = false\n",
       "  }\n",
       "\n",
       "  function load_or_wait() {\n",
       "    // Implement a backoff loop that tries to ensure we do not load multiple\n",
       "    // versions of Bokeh and its dependencies at the same time.\n",
       "    // In recent versions we use the root._bokeh_is_initializing flag\n",
       "    // to determine whether there is an ongoing attempt to initialize\n",
       "    // bokeh, however for backward compatibility we also try to ensure\n",
       "    // that we do not start loading a newer (Panel>=1.0 and Bokeh>3) version\n",
       "    // before older versions are fully initialized.\n",
       "    if (root._bokeh_is_initializing && Date.now() > root._bokeh_timeout) {\n",
       "      root._bokeh_is_initializing = false;\n",
       "      root._bokeh_onload_callbacks = undefined;\n",
       "      console.log(\"Bokeh: BokehJS was loaded multiple times but one version failed to initialize.\");\n",
       "      load_or_wait();\n",
       "    } else if (root._bokeh_is_initializing || (typeof root._bokeh_is_initializing === \"undefined\" && root._bokeh_onload_callbacks !== undefined)) {\n",
       "      setTimeout(load_or_wait, 100);\n",
       "    } else {\n",
       "      root._bokeh_is_initializing = true\n",
       "      root._bokeh_onload_callbacks = []\n",
       "      var bokeh_loaded = Bokeh != null && (Bokeh.version === py_version || (Bokeh.versions !== undefined && Bokeh.versions.has(py_version)));\n",
       "      if (!reloading && !bokeh_loaded) {\n",
       "\troot.Bokeh = undefined;\n",
       "      }\n",
       "      load_libs(css_urls, js_urls, js_modules, js_exports, function() {\n",
       "\tconsole.debug(\"Bokeh: BokehJS plotting callback run at\", now());\n",
       "\trun_inline_js();\n",
       "      });\n",
       "    }\n",
       "  }\n",
       "  // Give older versions of the autoload script a head-start to ensure\n",
       "  // they initialize before we start loading newer version.\n",
       "  setTimeout(load_or_wait, 100)\n",
       "}(window));"
      ],
      "application/vnd.holoviews_load.v0+json": "(function(root) {\n  function now() {\n    return new Date();\n  }\n\n  var force = true;\n  var py_version = '3.4.3'.replace('rc', '-rc.').replace('.dev', '-dev.');\n  var reloading = true;\n  var Bokeh = root.Bokeh;\n\n  if (typeof (root._bokeh_timeout) === \"undefined\" || force) {\n    root._bokeh_timeout = Date.now() + 5000;\n    root._bokeh_failed_load = false;\n  }\n\n  function run_callbacks() {\n    try {\n      root._bokeh_onload_callbacks.forEach(function(callback) {\n        if (callback != null)\n          callback();\n      });\n    } finally {\n      delete root._bokeh_onload_callbacks;\n    }\n    console.debug(\"Bokeh: all callbacks have finished\");\n  }\n\n  function load_libs(css_urls, js_urls, js_modules, js_exports, callback) {\n    if (css_urls == null) css_urls = [];\n    if (js_urls == null) js_urls = [];\n    if (js_modules == null) js_modules = [];\n    if (js_exports == null) js_exports = {};\n\n    root._bokeh_onload_callbacks.push(callback);\n\n    if (root._bokeh_is_loading > 0) {\n      console.debug(\"Bokeh: BokehJS is being loaded, scheduling callback at\", now());\n      return null;\n    }\n    if (js_urls.length === 0 && js_modules.length === 0 && Object.keys(js_exports).length === 0) {\n      run_callbacks();\n      return null;\n    }\n    if (!reloading) {\n      console.debug(\"Bokeh: BokehJS not loaded, scheduling load and callback at\", now());\n    }\n\n    function on_load() {\n      root._bokeh_is_loading--;\n      if (root._bokeh_is_loading === 0) {\n        console.debug(\"Bokeh: all BokehJS libraries/stylesheets loaded\");\n        run_callbacks()\n      }\n    }\n    window._bokeh_on_load = on_load\n\n    function on_error() {\n      console.error(\"failed to load \" + url);\n    }\n\n    var skip = [];\n    if (window.requirejs) {\n      window.requirejs.config({'packages': {}, 'paths': {}, 'shim': {}});\n      root._bokeh_is_loading = css_urls.length + 0;\n    } else {\n      root._bokeh_is_loading = css_urls.length + js_urls.length + js_modules.length + Object.keys(js_exports).length;\n    }\n\n    var existing_stylesheets = []\n    var links = document.getElementsByTagName('link')\n    for (var i = 0; i < links.length; i++) {\n      var link = links[i]\n      if (link.href != null) {\n\texisting_stylesheets.push(link.href)\n      }\n    }\n    for (var i = 0; i < css_urls.length; i++) {\n      var url = css_urls[i];\n      if (existing_stylesheets.indexOf(url) !== -1) {\n\ton_load()\n\tcontinue;\n      }\n      const element = document.createElement(\"link\");\n      element.onload = on_load;\n      element.onerror = on_error;\n      element.rel = \"stylesheet\";\n      element.type = \"text/css\";\n      element.href = url;\n      console.debug(\"Bokeh: injecting link tag for BokehJS stylesheet: \", url);\n      document.body.appendChild(element);\n    }    var existing_scripts = []\n    var scripts = document.getElementsByTagName('script')\n    for (var i = 0; i < scripts.length; i++) {\n      var script = scripts[i]\n      if (script.src != null) {\n\texisting_scripts.push(script.src)\n      }\n    }\n    for (var i = 0; i < js_urls.length; i++) {\n      var url = js_urls[i];\n      if (skip.indexOf(url) !== -1 || existing_scripts.indexOf(url) !== -1) {\n\tif (!window.requirejs) {\n\t  on_load();\n\t}\n\tcontinue;\n      }\n      var element = document.createElement('script');\n      element.onload = on_load;\n      element.onerror = on_error;\n      element.async = false;\n      element.src = url;\n      console.debug(\"Bokeh: injecting script tag for BokehJS library: \", url);\n      document.head.appendChild(element);\n    }\n    for (var i = 0; i < js_modules.length; i++) {\n      var url = js_modules[i];\n      if (skip.indexOf(url) !== -1 || existing_scripts.indexOf(url) !== -1) {\n\tif (!window.requirejs) {\n\t  on_load();\n\t}\n\tcontinue;\n      }\n      var element = document.createElement('script');\n      element.onload = on_load;\n      element.onerror = on_error;\n      element.async = false;\n      element.src = url;\n      element.type = \"module\";\n      console.debug(\"Bokeh: injecting script tag for BokehJS library: \", url);\n      document.head.appendChild(element);\n    }\n    for (const name in js_exports) {\n      var url = js_exports[name];\n      if (skip.indexOf(url) >= 0 || root[name] != null) {\n\tif (!window.requirejs) {\n\t  on_load();\n\t}\n\tcontinue;\n      }\n      var element = document.createElement('script');\n      element.onerror = on_error;\n      element.async = false;\n      element.type = \"module\";\n      console.debug(\"Bokeh: injecting script tag for BokehJS library: \", url);\n      element.textContent = `\n      import ${name} from \"${url}\"\n      window.${name} = ${name}\n      window._bokeh_on_load()\n      `\n      document.head.appendChild(element);\n    }\n    if (!js_urls.length && !js_modules.length) {\n      on_load()\n    }\n  };\n\n  function inject_raw_css(css) {\n    const element = document.createElement(\"style\");\n    element.appendChild(document.createTextNode(css));\n    document.body.appendChild(element);\n  }\n\n  var js_urls = [];\n  var js_modules = [];\n  var js_exports = {};\n  var css_urls = [];\n  var inline_js = [    function(Bokeh) {\n      Bokeh.set_log_level(\"info\");\n    },\nfunction(Bokeh) {} // ensure no trailing comma for IE\n  ];\n\n  function run_inline_js() {\n    if ((root.Bokeh !== undefined) || (force === true)) {\n      for (var i = 0; i < inline_js.length; i++) {\n\ttry {\n          inline_js[i].call(root, root.Bokeh);\n\t} catch(e) {\n\t  if (!reloading) {\n\t    throw e;\n\t  }\n\t}\n      }\n      // Cache old bokeh versions\n      if (Bokeh != undefined && !reloading) {\n\tvar NewBokeh = root.Bokeh;\n\tif (Bokeh.versions === undefined) {\n\t  Bokeh.versions = new Map();\n\t}\n\tif (NewBokeh.version !== Bokeh.version) {\n\t  Bokeh.versions.set(NewBokeh.version, NewBokeh)\n\t}\n\troot.Bokeh = Bokeh;\n      }} else if (Date.now() < root._bokeh_timeout) {\n      setTimeout(run_inline_js, 100);\n    } else if (!root._bokeh_failed_load) {\n      console.log(\"Bokeh: BokehJS failed to load within specified timeout.\");\n      root._bokeh_failed_load = true;\n    }\n    root._bokeh_is_initializing = false\n  }\n\n  function load_or_wait() {\n    // Implement a backoff loop that tries to ensure we do not load multiple\n    // versions of Bokeh and its dependencies at the same time.\n    // In recent versions we use the root._bokeh_is_initializing flag\n    // to determine whether there is an ongoing attempt to initialize\n    // bokeh, however for backward compatibility we also try to ensure\n    // that we do not start loading a newer (Panel>=1.0 and Bokeh>3) version\n    // before older versions are fully initialized.\n    if (root._bokeh_is_initializing && Date.now() > root._bokeh_timeout) {\n      root._bokeh_is_initializing = false;\n      root._bokeh_onload_callbacks = undefined;\n      console.log(\"Bokeh: BokehJS was loaded multiple times but one version failed to initialize.\");\n      load_or_wait();\n    } else if (root._bokeh_is_initializing || (typeof root._bokeh_is_initializing === \"undefined\" && root._bokeh_onload_callbacks !== undefined)) {\n      setTimeout(load_or_wait, 100);\n    } else {\n      root._bokeh_is_initializing = true\n      root._bokeh_onload_callbacks = []\n      var bokeh_loaded = Bokeh != null && (Bokeh.version === py_version || (Bokeh.versions !== undefined && Bokeh.versions.has(py_version)));\n      if (!reloading && !bokeh_loaded) {\n\troot.Bokeh = undefined;\n      }\n      load_libs(css_urls, js_urls, js_modules, js_exports, function() {\n\tconsole.debug(\"Bokeh: BokehJS plotting callback run at\", now());\n\trun_inline_js();\n      });\n    }\n  }\n  // Give older versions of the autoload script a head-start to ensure\n  // they initialize before we start loading newer version.\n  setTimeout(load_or_wait, 100)\n}(window));"
     },
     "metadata": {},
     "output_type": "display_data"
    },
    {
     "data": {
      "application/javascript": [
       "\n",
       "if ((window.PyViz === undefined) || (window.PyViz instanceof HTMLElement)) {\n",
       "  window.PyViz = {comms: {}, comm_status:{}, kernels:{}, receivers: {}, plot_index: []}\n",
       "}\n",
       "\n",
       "\n",
       "    function JupyterCommManager() {\n",
       "    }\n",
       "\n",
       "    JupyterCommManager.prototype.register_target = function(plot_id, comm_id, msg_handler) {\n",
       "      if (window.comm_manager || ((window.Jupyter !== undefined) && (Jupyter.notebook.kernel != null))) {\n",
       "        var comm_manager = window.comm_manager || Jupyter.notebook.kernel.comm_manager;\n",
       "        comm_manager.register_target(comm_id, function(comm) {\n",
       "          comm.on_msg(msg_handler);\n",
       "        });\n",
       "      } else if ((plot_id in window.PyViz.kernels) && (window.PyViz.kernels[plot_id])) {\n",
       "        window.PyViz.kernels[plot_id].registerCommTarget(comm_id, function(comm) {\n",
       "          comm.onMsg = msg_handler;\n",
       "        });\n",
       "      } else if (typeof google != 'undefined' && google.colab.kernel != null) {\n",
       "        google.colab.kernel.comms.registerTarget(comm_id, (comm) => {\n",
       "          var messages = comm.messages[Symbol.asyncIterator]();\n",
       "          function processIteratorResult(result) {\n",
       "            var message = result.value;\n",
       "            console.log(message)\n",
       "            var content = {data: message.data, comm_id};\n",
       "            var buffers = []\n",
       "            for (var buffer of message.buffers || []) {\n",
       "              buffers.push(new DataView(buffer))\n",
       "            }\n",
       "            var metadata = message.metadata || {};\n",
       "            var msg = {content, buffers, metadata}\n",
       "            msg_handler(msg);\n",
       "            return messages.next().then(processIteratorResult);\n",
       "          }\n",
       "          return messages.next().then(processIteratorResult);\n",
       "        })\n",
       "      }\n",
       "    }\n",
       "\n",
       "    JupyterCommManager.prototype.get_client_comm = function(plot_id, comm_id, msg_handler) {\n",
       "      if (comm_id in window.PyViz.comms) {\n",
       "        return window.PyViz.comms[comm_id];\n",
       "      } else if (window.comm_manager || ((window.Jupyter !== undefined) && (Jupyter.notebook.kernel != null))) {\n",
       "        var comm_manager = window.comm_manager || Jupyter.notebook.kernel.comm_manager;\n",
       "        var comm = comm_manager.new_comm(comm_id, {}, {}, {}, comm_id);\n",
       "        if (msg_handler) {\n",
       "          comm.on_msg(msg_handler);\n",
       "        }\n",
       "      } else if ((plot_id in window.PyViz.kernels) && (window.PyViz.kernels[plot_id])) {\n",
       "        var comm = window.PyViz.kernels[plot_id].connectToComm(comm_id);\n",
       "        comm.open();\n",
       "        if (msg_handler) {\n",
       "          comm.onMsg = msg_handler;\n",
       "        }\n",
       "      } else if (typeof google != 'undefined' && google.colab.kernel != null) {\n",
       "        var comm_promise = google.colab.kernel.comms.open(comm_id)\n",
       "        comm_promise.then((comm) => {\n",
       "          window.PyViz.comms[comm_id] = comm;\n",
       "          if (msg_handler) {\n",
       "            var messages = comm.messages[Symbol.asyncIterator]();\n",
       "            function processIteratorResult(result) {\n",
       "              var message = result.value;\n",
       "              var content = {data: message.data};\n",
       "              var metadata = message.metadata || {comm_id};\n",
       "              var msg = {content, metadata}\n",
       "              msg_handler(msg);\n",
       "              return messages.next().then(processIteratorResult);\n",
       "            }\n",
       "            return messages.next().then(processIteratorResult);\n",
       "          }\n",
       "        }) \n",
       "        var sendClosure = (data, metadata, buffers, disposeOnDone) => {\n",
       "          return comm_promise.then((comm) => {\n",
       "            comm.send(data, metadata, buffers, disposeOnDone);\n",
       "          });\n",
       "        };\n",
       "        var comm = {\n",
       "          send: sendClosure\n",
       "        };\n",
       "      }\n",
       "      window.PyViz.comms[comm_id] = comm;\n",
       "      return comm;\n",
       "    }\n",
       "    window.PyViz.comm_manager = new JupyterCommManager();\n",
       "    \n",
       "\n",
       "\n",
       "var JS_MIME_TYPE = 'application/javascript';\n",
       "var HTML_MIME_TYPE = 'text/html';\n",
       "var EXEC_MIME_TYPE = 'application/vnd.holoviews_exec.v0+json';\n",
       "var CLASS_NAME = 'output';\n",
       "\n",
       "/**\n",
       " * Render data to the DOM node\n",
       " */\n",
       "function render(props, node) {\n",
       "  var div = document.createElement(\"div\");\n",
       "  var script = document.createElement(\"script\");\n",
       "  node.appendChild(div);\n",
       "  node.appendChild(script);\n",
       "}\n",
       "\n",
       "/**\n",
       " * Handle when a new output is added\n",
       " */\n",
       "function handle_add_output(event, handle) {\n",
       "  var output_area = handle.output_area;\n",
       "  var output = handle.output;\n",
       "  if ((output.data == undefined) || (!output.data.hasOwnProperty(EXEC_MIME_TYPE))) {\n",
       "    return\n",
       "  }\n",
       "  var id = output.metadata[EXEC_MIME_TYPE][\"id\"];\n",
       "  var toinsert = output_area.element.find(\".\" + CLASS_NAME.split(' ')[0]);\n",
       "  if (id !== undefined) {\n",
       "    var nchildren = toinsert.length;\n",
       "    var html_node = toinsert[nchildren-1].children[0];\n",
       "    html_node.innerHTML = output.data[HTML_MIME_TYPE];\n",
       "    var scripts = [];\n",
       "    var nodelist = html_node.querySelectorAll(\"script\");\n",
       "    for (var i in nodelist) {\n",
       "      if (nodelist.hasOwnProperty(i)) {\n",
       "        scripts.push(nodelist[i])\n",
       "      }\n",
       "    }\n",
       "\n",
       "    scripts.forEach( function (oldScript) {\n",
       "      var newScript = document.createElement(\"script\");\n",
       "      var attrs = [];\n",
       "      var nodemap = oldScript.attributes;\n",
       "      for (var j in nodemap) {\n",
       "        if (nodemap.hasOwnProperty(j)) {\n",
       "          attrs.push(nodemap[j])\n",
       "        }\n",
       "      }\n",
       "      attrs.forEach(function(attr) { newScript.setAttribute(attr.name, attr.value) });\n",
       "      newScript.appendChild(document.createTextNode(oldScript.innerHTML));\n",
       "      oldScript.parentNode.replaceChild(newScript, oldScript);\n",
       "    });\n",
       "    if (JS_MIME_TYPE in output.data) {\n",
       "      toinsert[nchildren-1].children[1].textContent = output.data[JS_MIME_TYPE];\n",
       "    }\n",
       "    output_area._hv_plot_id = id;\n",
       "    if ((window.Bokeh !== undefined) && (id in Bokeh.index)) {\n",
       "      window.PyViz.plot_index[id] = Bokeh.index[id];\n",
       "    } else {\n",
       "      window.PyViz.plot_index[id] = null;\n",
       "    }\n",
       "  } else if (output.metadata[EXEC_MIME_TYPE][\"server_id\"] !== undefined) {\n",
       "    var bk_div = document.createElement(\"div\");\n",
       "    bk_div.innerHTML = output.data[HTML_MIME_TYPE];\n",
       "    var script_attrs = bk_div.children[0].attributes;\n",
       "    for (var i = 0; i < script_attrs.length; i++) {\n",
       "      toinsert[toinsert.length - 1].childNodes[1].setAttribute(script_attrs[i].name, script_attrs[i].value);\n",
       "    }\n",
       "    // store reference to server id on output_area\n",
       "    output_area._bokeh_server_id = output.metadata[EXEC_MIME_TYPE][\"server_id\"];\n",
       "  }\n",
       "}\n",
       "\n",
       "/**\n",
       " * Handle when an output is cleared or removed\n",
       " */\n",
       "function handle_clear_output(event, handle) {\n",
       "  var id = handle.cell.output_area._hv_plot_id;\n",
       "  var server_id = handle.cell.output_area._bokeh_server_id;\n",
       "  if (((id === undefined) || !(id in PyViz.plot_index)) && (server_id !== undefined)) { return; }\n",
       "  var comm = window.PyViz.comm_manager.get_client_comm(\"hv-extension-comm\", \"hv-extension-comm\", function () {});\n",
       "  if (server_id !== null) {\n",
       "    comm.send({event_type: 'server_delete', 'id': server_id});\n",
       "    return;\n",
       "  } else if (comm !== null) {\n",
       "    comm.send({event_type: 'delete', 'id': id});\n",
       "  }\n",
       "  delete PyViz.plot_index[id];\n",
       "  if ((window.Bokeh !== undefined) & (id in window.Bokeh.index)) {\n",
       "    var doc = window.Bokeh.index[id].model.document\n",
       "    doc.clear();\n",
       "    const i = window.Bokeh.documents.indexOf(doc);\n",
       "    if (i > -1) {\n",
       "      window.Bokeh.documents.splice(i, 1);\n",
       "    }\n",
       "  }\n",
       "}\n",
       "\n",
       "/**\n",
       " * Handle kernel restart event\n",
       " */\n",
       "function handle_kernel_cleanup(event, handle) {\n",
       "  delete PyViz.comms[\"hv-extension-comm\"];\n",
       "  window.PyViz.plot_index = {}\n",
       "}\n",
       "\n",
       "/**\n",
       " * Handle update_display_data messages\n",
       " */\n",
       "function handle_update_output(event, handle) {\n",
       "  handle_clear_output(event, {cell: {output_area: handle.output_area}})\n",
       "  handle_add_output(event, handle)\n",
       "}\n",
       "\n",
       "function register_renderer(events, OutputArea) {\n",
       "  function append_mime(data, metadata, element) {\n",
       "    // create a DOM node to render to\n",
       "    var toinsert = this.create_output_subarea(\n",
       "    metadata,\n",
       "    CLASS_NAME,\n",
       "    EXEC_MIME_TYPE\n",
       "    );\n",
       "    this.keyboard_manager.register_events(toinsert);\n",
       "    // Render to node\n",
       "    var props = {data: data, metadata: metadata[EXEC_MIME_TYPE]};\n",
       "    render(props, toinsert[0]);\n",
       "    element.append(toinsert);\n",
       "    return toinsert\n",
       "  }\n",
       "\n",
       "  events.on('output_added.OutputArea', handle_add_output);\n",
       "  events.on('output_updated.OutputArea', handle_update_output);\n",
       "  events.on('clear_output.CodeCell', handle_clear_output);\n",
       "  events.on('delete.Cell', handle_clear_output);\n",
       "  events.on('kernel_ready.Kernel', handle_kernel_cleanup);\n",
       "\n",
       "  OutputArea.prototype.register_mime_type(EXEC_MIME_TYPE, append_mime, {\n",
       "    safe: true,\n",
       "    index: 0\n",
       "  });\n",
       "}\n",
       "\n",
       "if (window.Jupyter !== undefined) {\n",
       "  try {\n",
       "    var events = require('base/js/events');\n",
       "    var OutputArea = require('notebook/js/outputarea').OutputArea;\n",
       "    if (OutputArea.prototype.mime_types().indexOf(EXEC_MIME_TYPE) == -1) {\n",
       "      register_renderer(events, OutputArea);\n",
       "    }\n",
       "  } catch(err) {\n",
       "  }\n",
       "}\n"
      ],
      "application/vnd.holoviews_load.v0+json": "\nif ((window.PyViz === undefined) || (window.PyViz instanceof HTMLElement)) {\n  window.PyViz = {comms: {}, comm_status:{}, kernels:{}, receivers: {}, plot_index: []}\n}\n\n\n    function JupyterCommManager() {\n    }\n\n    JupyterCommManager.prototype.register_target = function(plot_id, comm_id, msg_handler) {\n      if (window.comm_manager || ((window.Jupyter !== undefined) && (Jupyter.notebook.kernel != null))) {\n        var comm_manager = window.comm_manager || Jupyter.notebook.kernel.comm_manager;\n        comm_manager.register_target(comm_id, function(comm) {\n          comm.on_msg(msg_handler);\n        });\n      } else if ((plot_id in window.PyViz.kernels) && (window.PyViz.kernels[plot_id])) {\n        window.PyViz.kernels[plot_id].registerCommTarget(comm_id, function(comm) {\n          comm.onMsg = msg_handler;\n        });\n      } else if (typeof google != 'undefined' && google.colab.kernel != null) {\n        google.colab.kernel.comms.registerTarget(comm_id, (comm) => {\n          var messages = comm.messages[Symbol.asyncIterator]();\n          function processIteratorResult(result) {\n            var message = result.value;\n            console.log(message)\n            var content = {data: message.data, comm_id};\n            var buffers = []\n            for (var buffer of message.buffers || []) {\n              buffers.push(new DataView(buffer))\n            }\n            var metadata = message.metadata || {};\n            var msg = {content, buffers, metadata}\n            msg_handler(msg);\n            return messages.next().then(processIteratorResult);\n          }\n          return messages.next().then(processIteratorResult);\n        })\n      }\n    }\n\n    JupyterCommManager.prototype.get_client_comm = function(plot_id, comm_id, msg_handler) {\n      if (comm_id in window.PyViz.comms) {\n        return window.PyViz.comms[comm_id];\n      } else if (window.comm_manager || ((window.Jupyter !== undefined) && (Jupyter.notebook.kernel != null))) {\n        var comm_manager = window.comm_manager || Jupyter.notebook.kernel.comm_manager;\n        var comm = comm_manager.new_comm(comm_id, {}, {}, {}, comm_id);\n        if (msg_handler) {\n          comm.on_msg(msg_handler);\n        }\n      } else if ((plot_id in window.PyViz.kernels) && (window.PyViz.kernels[plot_id])) {\n        var comm = window.PyViz.kernels[plot_id].connectToComm(comm_id);\n        comm.open();\n        if (msg_handler) {\n          comm.onMsg = msg_handler;\n        }\n      } else if (typeof google != 'undefined' && google.colab.kernel != null) {\n        var comm_promise = google.colab.kernel.comms.open(comm_id)\n        comm_promise.then((comm) => {\n          window.PyViz.comms[comm_id] = comm;\n          if (msg_handler) {\n            var messages = comm.messages[Symbol.asyncIterator]();\n            function processIteratorResult(result) {\n              var message = result.value;\n              var content = {data: message.data};\n              var metadata = message.metadata || {comm_id};\n              var msg = {content, metadata}\n              msg_handler(msg);\n              return messages.next().then(processIteratorResult);\n            }\n            return messages.next().then(processIteratorResult);\n          }\n        }) \n        var sendClosure = (data, metadata, buffers, disposeOnDone) => {\n          return comm_promise.then((comm) => {\n            comm.send(data, metadata, buffers, disposeOnDone);\n          });\n        };\n        var comm = {\n          send: sendClosure\n        };\n      }\n      window.PyViz.comms[comm_id] = comm;\n      return comm;\n    }\n    window.PyViz.comm_manager = new JupyterCommManager();\n    \n\n\nvar JS_MIME_TYPE = 'application/javascript';\nvar HTML_MIME_TYPE = 'text/html';\nvar EXEC_MIME_TYPE = 'application/vnd.holoviews_exec.v0+json';\nvar CLASS_NAME = 'output';\n\n/**\n * Render data to the DOM node\n */\nfunction render(props, node) {\n  var div = document.createElement(\"div\");\n  var script = document.createElement(\"script\");\n  node.appendChild(div);\n  node.appendChild(script);\n}\n\n/**\n * Handle when a new output is added\n */\nfunction handle_add_output(event, handle) {\n  var output_area = handle.output_area;\n  var output = handle.output;\n  if ((output.data == undefined) || (!output.data.hasOwnProperty(EXEC_MIME_TYPE))) {\n    return\n  }\n  var id = output.metadata[EXEC_MIME_TYPE][\"id\"];\n  var toinsert = output_area.element.find(\".\" + CLASS_NAME.split(' ')[0]);\n  if (id !== undefined) {\n    var nchildren = toinsert.length;\n    var html_node = toinsert[nchildren-1].children[0];\n    html_node.innerHTML = output.data[HTML_MIME_TYPE];\n    var scripts = [];\n    var nodelist = html_node.querySelectorAll(\"script\");\n    for (var i in nodelist) {\n      if (nodelist.hasOwnProperty(i)) {\n        scripts.push(nodelist[i])\n      }\n    }\n\n    scripts.forEach( function (oldScript) {\n      var newScript = document.createElement(\"script\");\n      var attrs = [];\n      var nodemap = oldScript.attributes;\n      for (var j in nodemap) {\n        if (nodemap.hasOwnProperty(j)) {\n          attrs.push(nodemap[j])\n        }\n      }\n      attrs.forEach(function(attr) { newScript.setAttribute(attr.name, attr.value) });\n      newScript.appendChild(document.createTextNode(oldScript.innerHTML));\n      oldScript.parentNode.replaceChild(newScript, oldScript);\n    });\n    if (JS_MIME_TYPE in output.data) {\n      toinsert[nchildren-1].children[1].textContent = output.data[JS_MIME_TYPE];\n    }\n    output_area._hv_plot_id = id;\n    if ((window.Bokeh !== undefined) && (id in Bokeh.index)) {\n      window.PyViz.plot_index[id] = Bokeh.index[id];\n    } else {\n      window.PyViz.plot_index[id] = null;\n    }\n  } else if (output.metadata[EXEC_MIME_TYPE][\"server_id\"] !== undefined) {\n    var bk_div = document.createElement(\"div\");\n    bk_div.innerHTML = output.data[HTML_MIME_TYPE];\n    var script_attrs = bk_div.children[0].attributes;\n    for (var i = 0; i < script_attrs.length; i++) {\n      toinsert[toinsert.length - 1].childNodes[1].setAttribute(script_attrs[i].name, script_attrs[i].value);\n    }\n    // store reference to server id on output_area\n    output_area._bokeh_server_id = output.metadata[EXEC_MIME_TYPE][\"server_id\"];\n  }\n}\n\n/**\n * Handle when an output is cleared or removed\n */\nfunction handle_clear_output(event, handle) {\n  var id = handle.cell.output_area._hv_plot_id;\n  var server_id = handle.cell.output_area._bokeh_server_id;\n  if (((id === undefined) || !(id in PyViz.plot_index)) && (server_id !== undefined)) { return; }\n  var comm = window.PyViz.comm_manager.get_client_comm(\"hv-extension-comm\", \"hv-extension-comm\", function () {});\n  if (server_id !== null) {\n    comm.send({event_type: 'server_delete', 'id': server_id});\n    return;\n  } else if (comm !== null) {\n    comm.send({event_type: 'delete', 'id': id});\n  }\n  delete PyViz.plot_index[id];\n  if ((window.Bokeh !== undefined) & (id in window.Bokeh.index)) {\n    var doc = window.Bokeh.index[id].model.document\n    doc.clear();\n    const i = window.Bokeh.documents.indexOf(doc);\n    if (i > -1) {\n      window.Bokeh.documents.splice(i, 1);\n    }\n  }\n}\n\n/**\n * Handle kernel restart event\n */\nfunction handle_kernel_cleanup(event, handle) {\n  delete PyViz.comms[\"hv-extension-comm\"];\n  window.PyViz.plot_index = {}\n}\n\n/**\n * Handle update_display_data messages\n */\nfunction handle_update_output(event, handle) {\n  handle_clear_output(event, {cell: {output_area: handle.output_area}})\n  handle_add_output(event, handle)\n}\n\nfunction register_renderer(events, OutputArea) {\n  function append_mime(data, metadata, element) {\n    // create a DOM node to render to\n    var toinsert = this.create_output_subarea(\n    metadata,\n    CLASS_NAME,\n    EXEC_MIME_TYPE\n    );\n    this.keyboard_manager.register_events(toinsert);\n    // Render to node\n    var props = {data: data, metadata: metadata[EXEC_MIME_TYPE]};\n    render(props, toinsert[0]);\n    element.append(toinsert);\n    return toinsert\n  }\n\n  events.on('output_added.OutputArea', handle_add_output);\n  events.on('output_updated.OutputArea', handle_update_output);\n  events.on('clear_output.CodeCell', handle_clear_output);\n  events.on('delete.Cell', handle_clear_output);\n  events.on('kernel_ready.Kernel', handle_kernel_cleanup);\n\n  OutputArea.prototype.register_mime_type(EXEC_MIME_TYPE, append_mime, {\n    safe: true,\n    index: 0\n  });\n}\n\nif (window.Jupyter !== undefined) {\n  try {\n    var events = require('base/js/events');\n    var OutputArea = require('notebook/js/outputarea').OutputArea;\n    if (OutputArea.prototype.mime_types().indexOf(EXEC_MIME_TYPE) == -1) {\n      register_renderer(events, OutputArea);\n    }\n  } catch(err) {\n  }\n}\n"
     },
     "metadata": {},
     "output_type": "display_data"
    },
    {
     "data": {
      "text/html": [
       "<style>*[data-root-id],\n",
       "*[data-root-id] > * {\n",
       "  box-sizing: border-box;\n",
       "  font-family: var(--jp-ui-font-family);\n",
       "  font-size: var(--jp-ui-font-size1);\n",
       "  color: var(--vscode-editor-foreground, var(--jp-ui-font-color1));\n",
       "}\n",
       "\n",
       "/* Override VSCode background color */\n",
       ".cell-output-ipywidget-background:has(\n",
       "    > .cell-output-ipywidget-background > .lm-Widget > *[data-root-id]\n",
       "  ),\n",
       ".cell-output-ipywidget-background:has(> .lm-Widget > *[data-root-id]) {\n",
       "  background-color: transparent !important;\n",
       "}\n",
       "</style>"
      ]
     },
     "metadata": {},
     "output_type": "display_data"
    },
    {
     "name": "stdout",
     "output_type": "stream",
     "text": [
      "True\n",
      "--------Version info---------\n",
      "Polars:              1.9.0\n",
      "Index type:          UInt32\n",
      "Platform:            macOS-12.7.6-x86_64-i386-64bit\n",
      "Python:              3.11.5 (main, Jan 16 2024, 17:25:53) [Clang 14.0.0 (clang-1400.0.29.202)]\n",
      "\n",
      "----Optional dependencies----\n",
      "adbc_driver_manager  1.1.0\n",
      "altair               5.4.0\n",
      "cloudpickle          3.0.0\n",
      "connectorx           0.3.3\n",
      "deltalake            0.19.1\n",
      "fastexcel            0.11.6\n",
      "fsspec               2023.12.2\n",
      "gevent               24.2.1\n",
      "great_tables         0.10.0\n",
      "matplotlib           3.9.2\n",
      "nest_asyncio         1.6.0\n",
      "numpy                2.0.2\n",
      "openpyxl             3.1.5\n",
      "pandas               2.2.2\n",
      "pyarrow              17.0.0\n",
      "pydantic             2.8.2\n",
      "pyiceberg            0.6.1\n",
      "sqlalchemy           2.0.32\n",
      "torch                <not installed>\n",
      "xlsx2csv             0.8.3\n",
      "xlsxwriter           3.2.0\n"
     ]
    }
   ],
   "source": [
    "import polars as pl\n",
    "import pandas as pd\n",
    "import matplotlib.pyplot as plt\n",
    "import matplotlib_inline.backend_inline\n",
    "import chardet\n",
    "import pprint as pp\n",
    "import hvplot.polars\n",
    "hvplot.extension('matplotlib')\n",
    "\n",
    "# pl.enable_string_cache()\n",
    "\n",
    "matplotlib_inline.backend_inline.set_matplotlib_formats(\"retina\")\n",
    "pd.options.mode.copy_on_write = True\n",
    "print(pd.options.mode.copy_on_write)\n",
    "pl.Config.set_verbose(True)\n",
    "pl.show_versions()\n",
    "\n",
    "def HR():\n",
    "    print(\"-\"*40)\n",
    "\n",
    "@pl.Config(tbl_cols=-1, ascii_tables=True)\n",
    "def tight_layout(df: pl.DataFrame, n=5) -> None:\n",
    "    with pl.Config(tbl_cols=-1, fmt_str_lengths=n):\n",
    "        print(df)\n",
    "\n",
    "def detect_encoding(filename: str) -> str:\n",
    "    \"\"\"Return the most probable character encoding for a file.\"\"\"\n",
    "    with open(filename, \"rb\") as f:\n",
    "        raw_data = f.read()\n",
    "        print(raw_data)\n",
    "        result = chardet.detect(raw_data)\n",
    "        return result[\"encoding\"]"
   ]
  },
  {
   "cell_type": "markdown",
   "id": "5f7497db-2b82-4cab-b5ed-a506b330aa24",
   "metadata": {},
   "source": [
    "---\n",
    "# 5.1 Introduction\n",
    "\n",
    "[back to Top](#Top)\n",
    "\n",
    "It is very common in data analysis to **filter and select specific rows and columns** from a dataset. This chapter covers:\n",
    "\n",
    "* Basics of data filtering and selection\n",
    "* Conditional statements\n",
    "* Boolean indexing\n",
    "* Query expressions\n",
    "* Using masks and filters\n",
    "* Working with null values\n",
    "* Applying dynamic queries based on external criteria\n"
   ]
  },
  {
   "cell_type": "markdown",
   "id": "ec9c1a68-d9a8-4f0e-8a2c-c9bd246247df",
   "metadata": {},
   "source": [
    "---\n",
    "**Notes on StringCache**\n",
    "\n",
    "Context manager for enabling and disabling the global string cache.\n",
    "\n",
    "Categorical columns created under the same global string cache have the same underlying physical value when string values are equal. This allows the columns to be concatenated or used in a join operation, for example.\n",
    "\n",
    "Enabling the global string cache introduces some overhead. The amount of overhead depends on the number of categories in your data. It is advised to enable the global string cache only when strictly necessary.\n",
    "\n",
    "If StringCache calls are nested, the global string cache will only be disabled and cleared when the outermost context exits.\n",
    "\n",
    "* https://docs.pola.rs/py-polars/html/reference/api/polars.StringCache.html#polars.StringCache"
   ]
  },
  {
   "cell_type": "markdown",
   "id": "7bb7a93f-d818-4758-a516-c0dbb5d4dd90",
   "metadata": {},
   "source": [
    "---\n",
    "# 5.2 Getting the Data\n",
    "\n",
    "[back to Top](#Top)"
   ]
  },
  {
   "cell_type": "code",
   "execution_count": 2,
   "id": "cab08c2e-d777-4f50-ba74-e96ec7975910",
   "metadata": {},
   "outputs": [
    {
     "name": "stdout",
     "output_type": "stream",
     "text": [
      "(48202, 84)\n",
      "29.34MB\n",
      "<class 'polars.dataframe.frame.DataFrame'>\n",
      "(48202, 15)\n",
      "2.94MB\n"
     ]
    },
    {
     "name": "stderr",
     "output_type": "stream",
     "text": [
      "avg line length: 434.78027\n",
      "std. dev. line length: 23.885818\n",
      "initial row estimate: 47850\n",
      "no. of chunks: 4 processed by: 4 threads.\n"
     ]
    }
   ],
   "source": [
    "path = 'data/vehicles.csv'\n",
    "raw = pl.read_csv(path, null_values=['NA'])\n",
    "print(raw.shape)\n",
    "print(f\"{raw.estimated_size(unit='mb'):.2f}MB\")\n",
    "\n",
    "\n",
    "@pl.StringCache()\n",
    "def tweak_auto(df):\n",
    "    cols = ['year', 'make', 'model', 'displ', 'cylinders', 'trany', \n",
    "           'drive', 'VClass', 'fuelType', 'barrels08', 'city08', \n",
    "           'highway08', 'createdOn']\n",
    "    return (\n",
    "        df\n",
    "        .select(pl.col(cols))\n",
    "        .with_columns( \n",
    "            pl.col('year').cast(pl.Int16),\n",
    "            pl.col(['cylinders', 'highway08', 'city08']).cast(pl.UInt8),\n",
    "            pl.col(['displ', 'barrels08']).cast(pl.Float32),\n",
    "            pl.col(['make', 'model', 'VClass', 'drive', 'fuelType']).cast(pl.Categorical),\n",
    "            pl.col('createdOn').str.to_datetime('%a %b %d %H:%M:%S %Z %Y'),\n",
    "            is_automatic=pl.col('trany')                    \n",
    "               .str.contains('Automatic')\n",
    "               .fill_null('Automatic'),\n",
    "            num_gears=pl.col('trany')\n",
    "                .str.extract(r'(\\d+)')\n",
    "                .cast(pl.UInt8)\n",
    "                .fill_null(6)\n",
    "        )\n",
    "    )\n",
    "\n",
    "autos = tweak_auto(raw)\n",
    "print(type(autos))\n",
    "print(autos.shape)\n",
    "print(f\"{autos.estimated_size(unit='mb'):.2f}MB\")"
   ]
  },
  {
   "cell_type": "markdown",
   "id": "95c9551c-5a8d-4a3f-81a8-6eb632a4e777",
   "metadata": {},
   "source": [
    "---\n",
    "# 5.3 Filtering with Expressions\n",
    "[back to Top](#Top)\n",
    "\n",
    "* The most basic way to filter data is by creating conditionals using expressions and Boolean operators.\n",
    "* Then we combine those expressions with `.filter()` to select rows that satisfy the condition.\n",
    "* In this example, select all cars with a fuel efficiency of 40 MPG or higher."
   ]
  },
  {
   "cell_type": "code",
   "execution_count": 3,
   "id": "eaaaa61c-a797-4f5d-8521-3e7076f963bf",
   "metadata": {},
   "outputs": [
    {
     "name": "stderr",
     "output_type": "stream",
     "text": [
      "dataframe filtered\n"
     ]
    },
    {
     "data": {
      "text/html": [
       "<div><style>\n",
       ".dataframe > thead > tr,\n",
       ".dataframe > tbody > tr {\n",
       "  text-align: right;\n",
       "  white-space: pre-wrap;\n",
       "}\n",
       "</style>\n",
       "<small>shape: (1_323, 15)</small><table border=\"1\" class=\"dataframe\"><thead><tr><th>city08</th><th>year</th><th>make</th><th>model</th><th>displ</th><th>cylinders</th><th>trany</th><th>drive</th><th>VClass</th><th>fuelType</th><th>barrels08</th><th>highway08</th><th>createdOn</th><th>is_automatic</th><th>num_gears</th></tr><tr><td>u8</td><td>i16</td><td>cat</td><td>cat</td><td>f32</td><td>u8</td><td>str</td><td>cat</td><td>cat</td><td>cat</td><td>f32</td><td>u8</td><td>datetime[μs]</td><td>str</td><td>u8</td></tr></thead><tbody><tr><td>41</td><td>2010</td><td>&quot;Ford&quot;</td><td>&quot;Fusion Hybrid FWD&quot;</td><td>2.5</td><td>4</td><td>&quot;Automatic (variable gear ratio…</td><td>&quot;Front-Wheel Drive&quot;</td><td>&quot;Midsize Cars&quot;</td><td>&quot;Regular&quot;</td><td>7.628461</td><td>36</td><td>2013-01-01 00:00:00</td><td>&quot;true&quot;</td><td>6</td></tr><tr><td>41</td><td>2010</td><td>&quot;Mercury&quot;</td><td>&quot;Milan Hybrid FWD&quot;</td><td>2.5</td><td>4</td><td>&quot;Automatic (variable gear ratio…</td><td>&quot;Front-Wheel Drive&quot;</td><td>&quot;Midsize Cars&quot;</td><td>&quot;Regular&quot;</td><td>7.628461</td><td>36</td><td>2013-01-01 00:00:00</td><td>&quot;true&quot;</td><td>6</td></tr><tr><td>41</td><td>2011</td><td>&quot;Mercury&quot;</td><td>&quot;Milan Hybrid FWD&quot;</td><td>2.5</td><td>4</td><td>&quot;Automatic (variable gear ratio…</td><td>&quot;Front-Wheel Drive&quot;</td><td>&quot;Midsize Cars&quot;</td><td>&quot;Regular&quot;</td><td>7.829211</td><td>35</td><td>2013-01-01 00:00:00</td><td>&quot;true&quot;</td><td>6</td></tr><tr><td>41</td><td>2011</td><td>&quot;Lincoln&quot;</td><td>&quot;MKZ Hybrid FWD&quot;</td><td>2.5</td><td>4</td><td>&quot;Automatic (variable gear ratio…</td><td>&quot;Front-Wheel Drive&quot;</td><td>&quot;Midsize Cars&quot;</td><td>&quot;Regular&quot;</td><td>7.829211</td><td>35</td><td>2013-01-01 00:00:00</td><td>&quot;true&quot;</td><td>6</td></tr><tr><td>41</td><td>2011</td><td>&quot;Ford&quot;</td><td>&quot;Fusion Hybrid FWD&quot;</td><td>2.5</td><td>4</td><td>&quot;Automatic (variable gear ratio…</td><td>&quot;Front-Wheel Drive&quot;</td><td>&quot;Midsize Cars&quot;</td><td>&quot;Regular&quot;</td><td>7.829211</td><td>35</td><td>2013-01-01 00:00:00</td><td>&quot;true&quot;</td><td>6</td></tr><tr><td>&hellip;</td><td>&hellip;</td><td>&hellip;</td><td>&hellip;</td><td>&hellip;</td><td>&hellip;</td><td>&hellip;</td><td>&hellip;</td><td>&hellip;</td><td>&hellip;</td><td>&hellip;</td><td>&hellip;</td><td>&hellip;</td><td>&hellip;</td><td>&hellip;</td></tr><tr><td>151</td><td>2023</td><td>&quot;Hyundai&quot;</td><td>&quot;Ioniq 6 Standard Range RWD&quot;</td><td>null</td><td>null</td><td>&quot;Automatic (A1)&quot;</td><td>&quot;Rear-Wheel Drive&quot;</td><td>&quot;Midsize Cars&quot;</td><td>&quot;Electricity&quot;</td><td>0.06</td><td>120</td><td>2023-05-17 00:00:00</td><td>&quot;true&quot;</td><td>1</td></tr><tr><td>151</td><td>2024</td><td>&quot;Hyundai&quot;</td><td>&quot;Ioniq 6 Standard Range RWD&quot;</td><td>null</td><td>null</td><td>&quot;Automatic (A1)&quot;</td><td>&quot;Rear-Wheel Drive&quot;</td><td>&quot;Midsize Cars&quot;</td><td>&quot;Electricity&quot;</td><td>0.06</td><td>120</td><td>2023-07-31 00:00:00</td><td>&quot;true&quot;</td><td>1</td></tr><tr><td>151</td><td>2025</td><td>&quot;Hyundai&quot;</td><td>&quot;Ioniq 6 Standard Range&quot;</td><td>null</td><td>null</td><td>&quot;Automatic (A1)&quot;</td><td>&quot;Rear-Wheel Drive&quot;</td><td>&quot;Midsize Cars&quot;</td><td>&quot;Electricity&quot;</td><td>0.06</td><td>120</td><td>2024-08-25 00:00:00</td><td>&quot;true&quot;</td><td>1</td></tr><tr><td>153</td><td>2023</td><td>&quot;Hyundai&quot;</td><td>&quot;Ioniq 6 Long range RWD (18 inc…</td><td>null</td><td>null</td><td>&quot;Automatic (A1)&quot;</td><td>&quot;Rear-Wheel Drive&quot;</td><td>&quot;Midsize Cars&quot;</td><td>&quot;Electricity&quot;</td><td>0.0576</td><td>127</td><td>2023-05-17 00:00:00</td><td>&quot;true&quot;</td><td>1</td></tr><tr><td>153</td><td>2024</td><td>&quot;Hyundai&quot;</td><td>&quot;Ioniq 6 Long range RWD (18 inc…</td><td>null</td><td>null</td><td>&quot;Automatic (A1)&quot;</td><td>&quot;Rear-Wheel Drive&quot;</td><td>&quot;Midsize Cars&quot;</td><td>&quot;Electricity&quot;</td><td>0.0576</td><td>127</td><td>2023-07-31 00:00:00</td><td>&quot;true&quot;</td><td>1</td></tr></tbody></table></div>"
      ],
      "text/plain": [
       "shape: (1_323, 15)\n",
       "+-----+-----+-----+-----+-----+-----+-----+-----+-----+-----+-----+--------+-------+-------+-------+\n",
       "| cit | yea | mak | mod | dis | cyl | tra | dri | VCl | fue | bar | highwa | creat | is_au | num_g |\n",
       "| y08 | r   | e   | el  | pl  | ind | ny  | ve  | ass | lTy | rel | y08    | edOn  | tomat | ears  |\n",
       "| --- | --- | --- | --- | --- | ers | --- | --- | --- | pe  | s08 | ---    | ---   | ic    | ---   |\n",
       "| u8  | i16 | cat | cat | f32 | --- | str | cat | cat | --- | --- | u8     | datet | ---   | u8    |\n",
       "|     |     |     |     |     | u8  |     |     |     | cat | f32 |        | ime[μ | str   |       |\n",
       "|     |     |     |     |     |     |     |     |     |     |     |        | s]    |       |       |\n",
       "+==================================================================================================+\n",
       "| 41  | 201 | For | Fus | 2.5 | 4   | Aut | Fro | Mid | Reg | 7.6 | 36     | 2013- | true  | 6     |\n",
       "|     | 0   | d   | ion |     |     | oma | nt- | siz | ula | 284 |        | 01-01 |       |       |\n",
       "|     |     |     | Hyb |     |     | tic | Whe | e   | r   | 61  |        | 00:00 |       |       |\n",
       "|     |     |     | rid |     |     | (va | el  | Car |     |     |        | :00   |       |       |\n",
       "|     |     |     | FWD |     |     | ria | Dri | s   |     |     |        |       |       |       |\n",
       "|     |     |     |     |     |     | ble | ve  |     |     |     |        |       |       |       |\n",
       "|     |     |     |     |     |     | gea |     |     |     |     |        |       |       |       |\n",
       "|     |     |     |     |     |     | r   |     |     |     |     |        |       |       |       |\n",
       "|     |     |     |     |     |     | rat |     |     |     |     |        |       |       |       |\n",
       "|     |     |     |     |     |     | io… |     |     |     |     |        |       |       |       |\n",
       "| 41  | 201 | Mer | Mil | 2.5 | 4   | Aut | Fro | Mid | Reg | 7.6 | 36     | 2013- | true  | 6     |\n",
       "|     | 0   | cur | an  |     |     | oma | nt- | siz | ula | 284 |        | 01-01 |       |       |\n",
       "|     |     | y   | Hyb |     |     | tic | Whe | e   | r   | 61  |        | 00:00 |       |       |\n",
       "|     |     |     | rid |     |     | (va | el  | Car |     |     |        | :00   |       |       |\n",
       "|     |     |     | FWD |     |     | ria | Dri | s   |     |     |        |       |       |       |\n",
       "|     |     |     |     |     |     | ble | ve  |     |     |     |        |       |       |       |\n",
       "|     |     |     |     |     |     | gea |     |     |     |     |        |       |       |       |\n",
       "|     |     |     |     |     |     | r   |     |     |     |     |        |       |       |       |\n",
       "|     |     |     |     |     |     | rat |     |     |     |     |        |       |       |       |\n",
       "|     |     |     |     |     |     | io… |     |     |     |     |        |       |       |       |\n",
       "| 41  | 201 | Mer | Mil | 2.5 | 4   | Aut | Fro | Mid | Reg | 7.8 | 35     | 2013- | true  | 6     |\n",
       "|     | 1   | cur | an  |     |     | oma | nt- | siz | ula | 292 |        | 01-01 |       |       |\n",
       "|     |     | y   | Hyb |     |     | tic | Whe | e   | r   | 11  |        | 00:00 |       |       |\n",
       "|     |     |     | rid |     |     | (va | el  | Car |     |     |        | :00   |       |       |\n",
       "|     |     |     | FWD |     |     | ria | Dri | s   |     |     |        |       |       |       |\n",
       "|     |     |     |     |     |     | ble | ve  |     |     |     |        |       |       |       |\n",
       "|     |     |     |     |     |     | gea |     |     |     |     |        |       |       |       |\n",
       "|     |     |     |     |     |     | r   |     |     |     |     |        |       |       |       |\n",
       "|     |     |     |     |     |     | rat |     |     |     |     |        |       |       |       |\n",
       "|     |     |     |     |     |     | io… |     |     |     |     |        |       |       |       |\n",
       "| 41  | 201 | Lin | MKZ | 2.5 | 4   | Aut | Fro | Mid | Reg | 7.8 | 35     | 2013- | true  | 6     |\n",
       "|     | 1   | col | Hyb |     |     | oma | nt- | siz | ula | 292 |        | 01-01 |       |       |\n",
       "|     |     | n   | rid |     |     | tic | Whe | e   | r   | 11  |        | 00:00 |       |       |\n",
       "|     |     |     | FWD |     |     | (va | el  | Car |     |     |        | :00   |       |       |\n",
       "|     |     |     |     |     |     | ria | Dri | s   |     |     |        |       |       |       |\n",
       "|     |     |     |     |     |     | ble | ve  |     |     |     |        |       |       |       |\n",
       "|     |     |     |     |     |     | gea |     |     |     |     |        |       |       |       |\n",
       "|     |     |     |     |     |     | r   |     |     |     |     |        |       |       |       |\n",
       "|     |     |     |     |     |     | rat |     |     |     |     |        |       |       |       |\n",
       "|     |     |     |     |     |     | io… |     |     |     |     |        |       |       |       |\n",
       "| 41  | 201 | For | Fus | 2.5 | 4   | Aut | Fro | Mid | Reg | 7.8 | 35     | 2013- | true  | 6     |\n",
       "|     | 1   | d   | ion |     |     | oma | nt- | siz | ula | 292 |        | 01-01 |       |       |\n",
       "|     |     |     | Hyb |     |     | tic | Whe | e   | r   | 11  |        | 00:00 |       |       |\n",
       "|     |     |     | rid |     |     | (va | el  | Car |     |     |        | :00   |       |       |\n",
       "|     |     |     | FWD |     |     | ria | Dri | s   |     |     |        |       |       |       |\n",
       "|     |     |     |     |     |     | ble | ve  |     |     |     |        |       |       |       |\n",
       "|     |     |     |     |     |     | gea |     |     |     |     |        |       |       |       |\n",
       "|     |     |     |     |     |     | r   |     |     |     |     |        |       |       |       |\n",
       "|     |     |     |     |     |     | rat |     |     |     |     |        |       |       |       |\n",
       "|     |     |     |     |     |     | io… |     |     |     |     |        |       |       |       |\n",
       "| …   | …   | …   | …   | …   | …   | …   | …   | …   | …   | …   | …      | …     | …     | …     |\n",
       "| 151 | 202 | Hyu | Ion | nul | nul | Aut | Rea | Mid | Ele | 0.0 | 120    | 2023- | true  | 1     |\n",
       "|     | 3   | nda | iq  | l   | l   | oma | r-W | siz | ctr | 6   |        | 05-17 |       |       |\n",
       "|     |     | i   | 6   |     |     | tic | hee | e   | ici |     |        | 00:00 |       |       |\n",
       "|     |     |     | Sta |     |     | (A1 | l   | Car | ty  |     |        | :00   |       |       |\n",
       "|     |     |     | nda |     |     | )   | Dri | s   |     |     |        |       |       |       |\n",
       "|     |     |     | rd  |     |     |     | ve  |     |     |     |        |       |       |       |\n",
       "|     |     |     | Ran |     |     |     |     |     |     |     |        |       |       |       |\n",
       "|     |     |     | ge  |     |     |     |     |     |     |     |        |       |       |       |\n",
       "|     |     |     | RWD |     |     |     |     |     |     |     |        |       |       |       |\n",
       "| 151 | 202 | Hyu | Ion | nul | nul | Aut | Rea | Mid | Ele | 0.0 | 120    | 2023- | true  | 1     |\n",
       "|     | 4   | nda | iq  | l   | l   | oma | r-W | siz | ctr | 6   |        | 07-31 |       |       |\n",
       "|     |     | i   | 6   |     |     | tic | hee | e   | ici |     |        | 00:00 |       |       |\n",
       "|     |     |     | Sta |     |     | (A1 | l   | Car | ty  |     |        | :00   |       |       |\n",
       "|     |     |     | nda |     |     | )   | Dri | s   |     |     |        |       |       |       |\n",
       "|     |     |     | rd  |     |     |     | ve  |     |     |     |        |       |       |       |\n",
       "|     |     |     | Ran |     |     |     |     |     |     |     |        |       |       |       |\n",
       "|     |     |     | ge  |     |     |     |     |     |     |     |        |       |       |       |\n",
       "|     |     |     | RWD |     |     |     |     |     |     |     |        |       |       |       |\n",
       "| 151 | 202 | Hyu | Ion | nul | nul | Aut | Rea | Mid | Ele | 0.0 | 120    | 2024- | true  | 1     |\n",
       "|     | 5   | nda | iq  | l   | l   | oma | r-W | siz | ctr | 6   |        | 08-25 |       |       |\n",
       "|     |     | i   | 6   |     |     | tic | hee | e   | ici |     |        | 00:00 |       |       |\n",
       "|     |     |     | Sta |     |     | (A1 | l   | Car | ty  |     |        | :00   |       |       |\n",
       "|     |     |     | nda |     |     | )   | Dri | s   |     |     |        |       |       |       |\n",
       "|     |     |     | rd  |     |     |     | ve  |     |     |     |        |       |       |       |\n",
       "|     |     |     | Ran |     |     |     |     |     |     |     |        |       |       |       |\n",
       "|     |     |     | ge  |     |     |     |     |     |     |     |        |       |       |       |\n",
       "| 153 | 202 | Hyu | Ion | nul | nul | Aut | Rea | Mid | Ele | 0.0 | 127    | 2023- | true  | 1     |\n",
       "|     | 3   | nda | iq  | l   | l   | oma | r-W | siz | ctr | 576 |        | 05-17 |       |       |\n",
       "|     |     | i   | 6   |     |     | tic | hee | e   | ici |     |        | 00:00 |       |       |\n",
       "|     |     |     | Lon |     |     | (A1 | l   | Car | ty  |     |        | :00   |       |       |\n",
       "|     |     |     | g   |     |     | )   | Dri | s   |     |     |        |       |       |       |\n",
       "|     |     |     | ran |     |     |     | ve  |     |     |     |        |       |       |       |\n",
       "|     |     |     | ge  |     |     |     |     |     |     |     |        |       |       |       |\n",
       "|     |     |     | RWD |     |     |     |     |     |     |     |        |       |       |       |\n",
       "|     |     |     | (18 |     |     |     |     |     |     |     |        |       |       |       |\n",
       "|     |     |     | inc |     |     |     |     |     |     |     |        |       |       |       |\n",
       "|     |     |     | …   |     |     |     |     |     |     |     |        |       |       |       |\n",
       "| 153 | 202 | Hyu | Ion | nul | nul | Aut | Rea | Mid | Ele | 0.0 | 127    | 2023- | true  | 1     |\n",
       "|     | 4   | nda | iq  | l   | l   | oma | r-W | siz | ctr | 576 |        | 07-31 |       |       |\n",
       "|     |     | i   | 6   |     |     | tic | hee | e   | ici |     |        | 00:00 |       |       |\n",
       "|     |     |     | Lon |     |     | (A1 | l   | Car | ty  |     |        | :00   |       |       |\n",
       "|     |     |     | g   |     |     | )   | Dri | s   |     |     |        |       |       |       |\n",
       "|     |     |     | ran |     |     |     | ve  |     |     |     |        |       |       |       |\n",
       "|     |     |     | ge  |     |     |     |     |     |     |     |        |       |       |       |\n",
       "|     |     |     | RWD |     |     |     |     |     |     |     |        |       |       |       |\n",
       "|     |     |     | (18 |     |     |     |     |     |     |     |        |       |       |       |\n",
       "|     |     |     | inc |     |     |     |     |     |     |     |        |       |       |       |\n",
       "|     |     |     | …   |     |     |     |     |     |     |     |        |       |       |       |\n",
       "+-----+-----+-----+-----+-----+-----+-----+-----+-----+-----+-----+--------+-------+-------+-------+"
      ]
     },
     "execution_count": 3,
     "metadata": {},
     "output_type": "execute_result"
    }
   ],
   "source": [
    "(\n",
    "    autos\n",
    "    .filter(\n",
    "        pl.col('city08')>40\n",
    "    )\n",
    "    .select(\n",
    "        pl.col(['city08']),\n",
    "        pl.all().exclude(['city08'])\n",
    "    )\n",
    "    .sort(by='city08')\n",
    ")"
   ]
  },
  {
   "cell_type": "markdown",
   "id": "20e3805f-e0d6-41bd-8963-56fd65db0b39",
   "metadata": {},
   "source": [
    "Another example of filtering with Booleans."
   ]
  },
  {
   "cell_type": "code",
   "execution_count": 4,
   "id": "f6a7e555-7be5-409d-9744-4c221db5357e",
   "metadata": {},
   "outputs": [
    {
     "name": "stderr",
     "output_type": "stream",
     "text": [
      "dataframe filtered\n"
     ]
    },
    {
     "data": {
      "text/html": [
       "<div><style>\n",
       ".dataframe > thead > tr,\n",
       ".dataframe > tbody > tr {\n",
       "  text-align: right;\n",
       "  white-space: pre-wrap;\n",
       "}\n",
       "</style>\n",
       "<small>shape: (137, 4)</small><table border=\"1\" class=\"dataframe\"><thead><tr><th>year</th><th>make</th><th>city08</th><th>highway08</th></tr><tr><td>i16</td><td>str</td><td>u8</td><td>u8</td></tr></thead><tbody><tr><td>2023</td><td>&quot;Toyota&quot;</td><td>131</td><td>107</td></tr><tr><td>2024</td><td>&quot;Toyota&quot;</td><td>131</td><td>107</td></tr><tr><td>2023</td><td>&quot;Toyota&quot;</td><td>125</td><td>103</td></tr><tr><td>2024</td><td>&quot;Toyota&quot;</td><td>121</td><td>102</td></tr><tr><td>2017</td><td>&quot;Ford&quot;</td><td>118</td><td>96</td></tr><tr><td>&hellip;</td><td>&hellip;</td><td>&hellip;</td><td>&hellip;</td></tr><tr><td>2023</td><td>&quot;Toyota&quot;</td><td>51</td><td>53</td></tr><tr><td>2023</td><td>&quot;Toyota&quot;</td><td>51</td><td>44</td></tr><tr><td>2024</td><td>&quot;Toyota&quot;</td><td>51</td><td>53</td></tr><tr><td>2024</td><td>&quot;Toyota&quot;</td><td>51</td><td>44</td></tr><tr><td>2025</td><td>&quot;Toyota&quot;</td><td>51</td><td>49</td></tr></tbody></table></div>"
      ],
      "text/plain": [
       "shape: (137, 4)\n",
       "+------+--------+--------+-----------+\n",
       "| year | make   | city08 | highway08 |\n",
       "| ---  | ---    | ---    | ---       |\n",
       "| i16  | str    | u8     | u8        |\n",
       "+====================================+\n",
       "| 2023 | Toyota | 131    | 107       |\n",
       "| 2024 | Toyota | 131    | 107       |\n",
       "| 2023 | Toyota | 125    | 103       |\n",
       "| 2024 | Toyota | 121    | 102       |\n",
       "| 2017 | Ford   | 118    | 96        |\n",
       "| …    | …      | …      | …         |\n",
       "| 2023 | Toyota | 51     | 53        |\n",
       "| 2023 | Toyota | 51     | 44        |\n",
       "| 2024 | Toyota | 51     | 53        |\n",
       "| 2024 | Toyota | 51     | 44        |\n",
       "| 2025 | Toyota | 51     | 49        |\n",
       "+------+--------+--------+-----------+"
      ]
     },
     "execution_count": 4,
     "metadata": {},
     "output_type": "execute_result"
    }
   ],
   "source": [
    "makes = ['Ford', 'Toyota']\n",
    "\n",
    "(\n",
    "    autos\n",
    "    .with_columns(pl.col('make').cast(pl.String))\n",
    "    .filter(\n",
    "        pl.col('make').is_in(makes) \n",
    "        & (pl.col('city08') > 50)\n",
    "    )\n",
    "    .select(['year', 'make', 'city08', 'highway08'])\n",
    "    .sort(by='city08', descending=True)\n",
    ")"
   ]
  },
  {
   "cell_type": "markdown",
   "id": "044f5074-084b-49e6-a190-64959f7f8069",
   "metadata": {},
   "source": [
    "* We can combine multiple operations by using the `&` and `|` operators.\n",
    "* We can negate a condition by using the `~` operator, the *not* operator.\n",
    "* We can also chain calls to `.filter`.\n",
    "* In this example, select all Toyotas with a fuel efficiency of 40 MPG or higher."
   ]
  },
  {
   "cell_type": "code",
   "execution_count": 5,
   "id": "b6f20619-f2ca-4ffb-af61-6fcd458ae30e",
   "metadata": {},
   "outputs": [
    {
     "name": "stderr",
     "output_type": "stream",
     "text": [
      "dataframe filtered\n",
      "dataframe filtered\n"
     ]
    },
    {
     "data": {
      "text/html": [
       "<div><style>\n",
       ".dataframe > thead > tr,\n",
       ".dataframe > tbody > tr {\n",
       "  text-align: right;\n",
       "  white-space: pre-wrap;\n",
       "}\n",
       "</style>\n",
       "<small>shape: (155, 4)</small><table border=\"1\" class=\"dataframe\"><thead><tr><th>year</th><th>make</th><th>model</th><th>city08</th></tr><tr><td>i16</td><td>cat</td><td>cat</td><td>u8</td></tr></thead><tbody><tr><td>2000</td><td>&quot;Toyota&quot;</td><td>&quot;RAV4 EV&quot;</td><td>81</td></tr><tr><td>2001</td><td>&quot;Toyota&quot;</td><td>&quot;Prius&quot;</td><td>42</td></tr><tr><td>2001</td><td>&quot;Toyota&quot;</td><td>&quot;RAV4 EV&quot;</td><td>81</td></tr><tr><td>2002</td><td>&quot;Toyota&quot;</td><td>&quot;Prius&quot;</td><td>42</td></tr><tr><td>2002</td><td>&quot;Toyota&quot;</td><td>&quot;RAV4 EV&quot;</td><td>87</td></tr><tr><td>&hellip;</td><td>&hellip;</td><td>&hellip;</td><td>&hellip;</td></tr><tr><td>2025</td><td>&quot;Toyota&quot;</td><td>&quot;Camry HEV FF LE&quot;</td><td>53</td></tr><tr><td>2025</td><td>&quot;Toyota&quot;</td><td>&quot;Camry HEV FF SE/XLE/XSE&quot;</td><td>48</td></tr><tr><td>2025</td><td>&quot;Toyota&quot;</td><td>&quot;Camry HEV AWD LE&quot;</td><td>51</td></tr><tr><td>2025</td><td>&quot;Toyota&quot;</td><td>&quot;Corolla Hybrid&quot;</td><td>50</td></tr><tr><td>2025</td><td>&quot;Toyota&quot;</td><td>&quot;Corolla Hybrid AWD&quot;</td><td>47</td></tr></tbody></table></div>"
      ],
      "text/plain": [
       "shape: (155, 4)\n",
       "+------+--------+-------------------------+--------+\n",
       "| year | make   | model                   | city08 |\n",
       "| ---  | ---    | ---                     | ---    |\n",
       "| i16  | cat    | cat                     | u8     |\n",
       "+==================================================+\n",
       "| 2000 | Toyota | RAV4 EV                 | 81     |\n",
       "| 2001 | Toyota | Prius                   | 42     |\n",
       "| 2001 | Toyota | RAV4 EV                 | 81     |\n",
       "| 2002 | Toyota | Prius                   | 42     |\n",
       "| 2002 | Toyota | RAV4 EV                 | 87     |\n",
       "| …    | …      | …                       | …      |\n",
       "| 2025 | Toyota | Camry HEV FF LE         | 53     |\n",
       "| 2025 | Toyota | Camry HEV FF SE/XLE/XSE | 48     |\n",
       "| 2025 | Toyota | Camry HEV AWD LE        | 51     |\n",
       "| 2025 | Toyota | Corolla Hybrid          | 50     |\n",
       "| 2025 | Toyota | Corolla Hybrid AWD      | 47     |\n",
       "+------+--------+-------------------------+--------+"
      ]
     },
     "execution_count": 5,
     "metadata": {},
     "output_type": "execute_result"
    }
   ],
   "source": [
    "(\n",
    "    autos\n",
    "    .filter(pl.col('city08') > 40)\n",
    "    .filter(pl.col('make') == 'Toyota')\n",
    "    .select(['year', 'make', 'model', 'city08'])\n",
    ")"
   ]
  },
  {
   "cell_type": "markdown",
   "id": "c8fdc98b-5a4d-4282-a99e-4ebc2cdafed2",
   "metadata": {},
   "source": [
    "* We can also put multiple conditions in `.filter()`."
   ]
  },
  {
   "cell_type": "code",
   "execution_count": 6,
   "id": "a56acbf6-4a2d-44fb-955b-480731c554de",
   "metadata": {},
   "outputs": [
    {
     "name": "stderr",
     "output_type": "stream",
     "text": [
      "dataframe filtered\n"
     ]
    },
    {
     "data": {
      "text/html": [
       "<div><style>\n",
       ".dataframe > thead > tr,\n",
       ".dataframe > tbody > tr {\n",
       "  text-align: right;\n",
       "  white-space: pre-wrap;\n",
       "}\n",
       "</style>\n",
       "<small>shape: (155, 4)</small><table border=\"1\" class=\"dataframe\"><thead><tr><th>year</th><th>make</th><th>model</th><th>city08</th></tr><tr><td>i16</td><td>cat</td><td>cat</td><td>u8</td></tr></thead><tbody><tr><td>2000</td><td>&quot;Toyota&quot;</td><td>&quot;RAV4 EV&quot;</td><td>81</td></tr><tr><td>2001</td><td>&quot;Toyota&quot;</td><td>&quot;Prius&quot;</td><td>42</td></tr><tr><td>2001</td><td>&quot;Toyota&quot;</td><td>&quot;RAV4 EV&quot;</td><td>81</td></tr><tr><td>2002</td><td>&quot;Toyota&quot;</td><td>&quot;Prius&quot;</td><td>42</td></tr><tr><td>2002</td><td>&quot;Toyota&quot;</td><td>&quot;RAV4 EV&quot;</td><td>87</td></tr><tr><td>&hellip;</td><td>&hellip;</td><td>&hellip;</td><td>&hellip;</td></tr><tr><td>2025</td><td>&quot;Toyota&quot;</td><td>&quot;Camry HEV FF LE&quot;</td><td>53</td></tr><tr><td>2025</td><td>&quot;Toyota&quot;</td><td>&quot;Camry HEV FF SE/XLE/XSE&quot;</td><td>48</td></tr><tr><td>2025</td><td>&quot;Toyota&quot;</td><td>&quot;Camry HEV AWD LE&quot;</td><td>51</td></tr><tr><td>2025</td><td>&quot;Toyota&quot;</td><td>&quot;Corolla Hybrid&quot;</td><td>50</td></tr><tr><td>2025</td><td>&quot;Toyota&quot;</td><td>&quot;Corolla Hybrid AWD&quot;</td><td>47</td></tr></tbody></table></div>"
      ],
      "text/plain": [
       "shape: (155, 4)\n",
       "+------+--------+-------------------------+--------+\n",
       "| year | make   | model                   | city08 |\n",
       "| ---  | ---    | ---                     | ---    |\n",
       "| i16  | cat    | cat                     | u8     |\n",
       "+==================================================+\n",
       "| 2000 | Toyota | RAV4 EV                 | 81     |\n",
       "| 2001 | Toyota | Prius                   | 42     |\n",
       "| 2001 | Toyota | RAV4 EV                 | 81     |\n",
       "| 2002 | Toyota | Prius                   | 42     |\n",
       "| 2002 | Toyota | RAV4 EV                 | 87     |\n",
       "| …    | …      | …                       | …      |\n",
       "| 2025 | Toyota | Camry HEV FF LE         | 53     |\n",
       "| 2025 | Toyota | Camry HEV FF SE/XLE/XSE | 48     |\n",
       "| 2025 | Toyota | Camry HEV AWD LE        | 51     |\n",
       "| 2025 | Toyota | Corolla Hybrid          | 50     |\n",
       "| 2025 | Toyota | Corolla Hybrid AWD      | 47     |\n",
       "+------+--------+-------------------------+--------+"
      ]
     },
     "execution_count": 6,
     "metadata": {},
     "output_type": "execute_result"
    }
   ],
   "source": [
    "(\n",
    "    autos\n",
    "    .filter(\n",
    "        pl.col('city08') > 40,\n",
    "        pl.col('make') == 'Toyota'\n",
    "    )\n",
    "    .select(['year', 'make', 'model', 'city08'])\n",
    ")"
   ]
  },
  {
   "cell_type": "markdown",
   "id": "52bc2403-76f8-4268-897e-2ca95f688bc4",
   "metadata": {},
   "source": [
    "* In the above styles, it is not clear what kinds of filtering is being done.\n",
    "* Is it doing both conditions, or one or the other?\n",
    "* To be more explicit, using boolean operations like `&`, `|` and `~` to combine conditions.\n",
    "* Here is a clearer version of the previous example."
   ]
  },
  {
   "cell_type": "code",
   "execution_count": 7,
   "id": "d4c363cf-ad89-46d9-be56-a770f04550a1",
   "metadata": {},
   "outputs": [
    {
     "name": "stderr",
     "output_type": "stream",
     "text": [
      "dataframe filtered\n",
      "dataframe filtered\n"
     ]
    },
    {
     "data": {
      "text/html": [
       "<div><style>\n",
       ".dataframe > thead > tr,\n",
       ".dataframe > tbody > tr {\n",
       "  text-align: right;\n",
       "  white-space: pre-wrap;\n",
       "}\n",
       "</style>\n",
       "<small>shape: (155, 4)</small><table border=\"1\" class=\"dataframe\"><thead><tr><th>year</th><th>make</th><th>model</th><th>city08</th></tr><tr><td>i16</td><td>cat</td><td>cat</td><td>u8</td></tr></thead><tbody><tr><td>2000</td><td>&quot;Toyota&quot;</td><td>&quot;RAV4 EV&quot;</td><td>81</td></tr><tr><td>2001</td><td>&quot;Toyota&quot;</td><td>&quot;Prius&quot;</td><td>42</td></tr><tr><td>2001</td><td>&quot;Toyota&quot;</td><td>&quot;RAV4 EV&quot;</td><td>81</td></tr><tr><td>2002</td><td>&quot;Toyota&quot;</td><td>&quot;Prius&quot;</td><td>42</td></tr><tr><td>2002</td><td>&quot;Toyota&quot;</td><td>&quot;RAV4 EV&quot;</td><td>87</td></tr><tr><td>&hellip;</td><td>&hellip;</td><td>&hellip;</td><td>&hellip;</td></tr><tr><td>2025</td><td>&quot;Toyota&quot;</td><td>&quot;Camry HEV FF LE&quot;</td><td>53</td></tr><tr><td>2025</td><td>&quot;Toyota&quot;</td><td>&quot;Camry HEV FF SE/XLE/XSE&quot;</td><td>48</td></tr><tr><td>2025</td><td>&quot;Toyota&quot;</td><td>&quot;Camry HEV AWD LE&quot;</td><td>51</td></tr><tr><td>2025</td><td>&quot;Toyota&quot;</td><td>&quot;Corolla Hybrid&quot;</td><td>50</td></tr><tr><td>2025</td><td>&quot;Toyota&quot;</td><td>&quot;Corolla Hybrid AWD&quot;</td><td>47</td></tr></tbody></table></div>"
      ],
      "text/plain": [
       "shape: (155, 4)\n",
       "+------+--------+-------------------------+--------+\n",
       "| year | make   | model                   | city08 |\n",
       "| ---  | ---    | ---                     | ---    |\n",
       "| i16  | cat    | cat                     | u8     |\n",
       "+==================================================+\n",
       "| 2000 | Toyota | RAV4 EV                 | 81     |\n",
       "| 2001 | Toyota | Prius                   | 42     |\n",
       "| 2001 | Toyota | RAV4 EV                 | 81     |\n",
       "| 2002 | Toyota | Prius                   | 42     |\n",
       "| 2002 | Toyota | RAV4 EV                 | 87     |\n",
       "| …    | …      | …                       | …      |\n",
       "| 2025 | Toyota | Camry HEV FF LE         | 53     |\n",
       "| 2025 | Toyota | Camry HEV FF SE/XLE/XSE | 48     |\n",
       "| 2025 | Toyota | Camry HEV AWD LE        | 51     |\n",
       "| 2025 | Toyota | Corolla Hybrid          | 50     |\n",
       "| 2025 | Toyota | Corolla Hybrid AWD      | 47     |\n",
       "+------+--------+-------------------------+--------+"
      ]
     },
     "execution_count": 7,
     "metadata": {},
     "output_type": "execute_result"
    }
   ],
   "source": [
    "(\n",
    "    autos\n",
    "    .filter(\n",
    "        (pl.col('make') == 'Toyota') & (pl.col('city08') > 40)\n",
    "    )\n",
    "    .select(['year', 'make', 'model', 'city08'])\n",
    ")"
   ]
  },
  {
   "cell_type": "markdown",
   "id": "a389da10-1939-4f93-b9a3-342f7e1f758e",
   "metadata": {},
   "source": [
    "---\n",
    "# 5.4 Filtering with Keywords\n",
    "\n",
    "[back to Top](#Top)\n",
    "\n",
    "* Polars has shortcuts for equality comparisons, via keywords arguments.\n",
    "* In this example, we want all the *make* rows that are *Ford*"
   ]
  },
  {
   "cell_type": "code",
   "execution_count": 8,
   "id": "623aa797-8649-45b1-bb0e-3103365a2da7",
   "metadata": {},
   "outputs": [
    {
     "name": "stderr",
     "output_type": "stream",
     "text": [
      "dataframe filtered\n"
     ]
    },
    {
     "data": {
      "text/html": [
       "<div><style>\n",
       ".dataframe > thead > tr,\n",
       ".dataframe > tbody > tr {\n",
       "  text-align: right;\n",
       "  white-space: pre-wrap;\n",
       "}\n",
       "</style>\n",
       "<small>shape: (3_834, 4)</small><table border=\"1\" class=\"dataframe\"><thead><tr><th>year</th><th>make</th><th>model</th><th>city08</th></tr><tr><td>i16</td><td>cat</td><td>cat</td><td>u8</td></tr></thead><tbody><tr><td>1993</td><td>&quot;Ford&quot;</td><td>&quot;Taurus&quot;</td><td>18</td></tr><tr><td>1993</td><td>&quot;Ford&quot;</td><td>&quot;Taurus SHO&quot;</td><td>16</td></tr><tr><td>1993</td><td>&quot;Ford&quot;</td><td>&quot;Taurus&quot;</td><td>17</td></tr><tr><td>1993</td><td>&quot;Ford&quot;</td><td>&quot;Thunderbird&quot;</td><td>17</td></tr><tr><td>1993</td><td>&quot;Ford&quot;</td><td>&quot;Thunderbird&quot;</td><td>15</td></tr><tr><td>&hellip;</td><td>&hellip;</td><td>&hellip;</td><td>&hellip;</td></tr><tr><td>1993</td><td>&quot;Ford&quot;</td><td>&quot;Escort FS&quot;</td><td>26</td></tr><tr><td>1993</td><td>&quot;Ford&quot;</td><td>&quot;Tempo&quot;</td><td>19</td></tr><tr><td>1993</td><td>&quot;Ford&quot;</td><td>&quot;Tempo&quot;</td><td>21</td></tr><tr><td>1993</td><td>&quot;Ford&quot;</td><td>&quot;Tempo&quot;</td><td>18</td></tr><tr><td>1993</td><td>&quot;Ford&quot;</td><td>&quot;Tempo&quot;</td><td>19</td></tr></tbody></table></div>"
      ],
      "text/plain": [
       "shape: (3_834, 4)\n",
       "+------+------+-------------+--------+\n",
       "| year | make | model       | city08 |\n",
       "| ---  | ---  | ---         | ---    |\n",
       "| i16  | cat  | cat         | u8     |\n",
       "+====================================+\n",
       "| 1993 | Ford | Taurus      | 18     |\n",
       "| 1993 | Ford | Taurus SHO  | 16     |\n",
       "| 1993 | Ford | Taurus      | 17     |\n",
       "| 1993 | Ford | Thunderbird | 17     |\n",
       "| 1993 | Ford | Thunderbird | 15     |\n",
       "| …    | …    | …           | …      |\n",
       "| 1993 | Ford | Escort FS   | 26     |\n",
       "| 1993 | Ford | Tempo       | 19     |\n",
       "| 1993 | Ford | Tempo       | 21     |\n",
       "| 1993 | Ford | Tempo       | 18     |\n",
       "| 1993 | Ford | Tempo       | 19     |\n",
       "+------+------+-------------+--------+"
      ]
     },
     "execution_count": 8,
     "metadata": {},
     "output_type": "execute_result"
    }
   ],
   "source": [
    "(\n",
    "    autos\n",
    "    .filter(pl.col('make') == 'Ford')\n",
    "    .select(['year', 'make', 'model', 'city08'])\n",
    ")"
   ]
  },
  {
   "cell_type": "markdown",
   "id": "1fc97a9c-019a-4e9f-beae-99a69392abe1",
   "metadata": {},
   "source": [
    "* This by itself is very limited in what it can do.\n",
    "* This only works for equality comparisons."
   ]
  },
  {
   "cell_type": "markdown",
   "id": "11fb25df-fb5d-4ddf-8624-122dc0d71a28",
   "metadata": {},
   "source": [
    "---\n",
    "# 5.5 Filtering with Dates\n",
    "\n",
    "[back to Top](#Top)\n",
    "\n",
    "* Here we filter on *createdOn*, a date column.\n",
    "* Compare dates to specific Python `datetime` objects.\n",
    "* Select all dates from March 2018 forward."
   ]
  },
  {
   "cell_type": "code",
   "execution_count": 9,
   "id": "0b246c33-de72-4b2c-80bd-75ac6392e5d0",
   "metadata": {},
   "outputs": [
    {
     "data": {
      "text/plain": [
       "Datetime(time_unit='us', time_zone=None)"
      ]
     },
     "execution_count": 9,
     "metadata": {},
     "output_type": "execute_result"
    }
   ],
   "source": [
    "# check this is a datetime type\n",
    "autos.schema['createdOn']"
   ]
  },
  {
   "cell_type": "code",
   "execution_count": 10,
   "id": "420932dd-e6ea-49d5-bbc8-cc3fbef92865",
   "metadata": {},
   "outputs": [
    {
     "name": "stdout",
     "output_type": "stream",
     "text": [
      "2018-03-01 00:00:00\n"
     ]
    },
    {
     "name": "stderr",
     "output_type": "stream",
     "text": [
      "dataframe filtered\n"
     ]
    },
    {
     "data": {
      "text/html": [
       "<div><style>\n",
       ".dataframe > thead > tr,\n",
       ".dataframe > tbody > tr {\n",
       "  text-align: right;\n",
       "  white-space: pre-wrap;\n",
       "}\n",
       "</style>\n",
       "<small>shape: (8_665, 5)</small><table border=\"1\" class=\"dataframe\"><thead><tr><th>year</th><th>createdOn</th><th>make</th><th>model</th><th>city08</th></tr><tr><td>i16</td><td>datetime[μs]</td><td>cat</td><td>cat</td><td>u8</td></tr></thead><tbody><tr><td>2019</td><td>2018-03-02 00:00:00</td><td>&quot;Genesis&quot;</td><td>&quot;G70 AWD&quot;</td><td>17</td></tr><tr><td>2019</td><td>2018-03-02 00:00:00</td><td>&quot;Genesis&quot;</td><td>&quot;G70 RWD&quot;</td><td>17</td></tr><tr><td>2019</td><td>2018-03-02 00:00:00</td><td>&quot;Genesis&quot;</td><td>&quot;G70 AWD&quot;</td><td>21</td></tr><tr><td>2019</td><td>2018-03-02 00:00:00</td><td>&quot;Genesis&quot;</td><td>&quot;G70 RWD&quot;</td><td>22</td></tr><tr><td>2019</td><td>2018-03-02 00:00:00</td><td>&quot;Genesis&quot;</td><td>&quot;G70 RWD&quot;</td><td>18</td></tr><tr><td>&hellip;</td><td>&hellip;</td><td>&hellip;</td><td>&hellip;</td><td>&hellip;</td></tr><tr><td>2025</td><td>2024-10-17 00:00:00</td><td>&quot;Land Rover&quot;</td><td>&quot;Defender 130 Outbound&quot;</td><td>16</td></tr><tr><td>2025</td><td>2024-10-17 00:00:00</td><td>&quot;Nissan&quot;</td><td>&quot;Pathfinder 4WD Platinum&quot;</td><td>20</td></tr><tr><td>2025</td><td>2024-10-17 00:00:00</td><td>&quot;Porsche&quot;</td><td>&quot;Cayenne Turbo GT&quot;</td><td>15</td></tr><tr><td>2025</td><td>2024-10-17 00:00:00</td><td>&quot;Porsche&quot;</td><td>&quot;Cayenne GTS&quot;</td><td>15</td></tr><tr><td>2025</td><td>2024-10-17 00:00:00</td><td>&quot;Porsche&quot;</td><td>&quot;Cayenne GTS Coupe&quot;</td><td>16</td></tr></tbody></table></div>"
      ],
      "text/plain": [
       "shape: (8_665, 5)\n",
       "+------+---------------------+------------+-------------------------+--------+\n",
       "| year | createdOn           | make       | model                   | city08 |\n",
       "| ---  | ---                 | ---        | ---                     | ---    |\n",
       "| i16  | datetime[μs]        | cat        | cat                     | u8     |\n",
       "+============================================================================+\n",
       "| 2019 | 2018-03-02 00:00:00 | Genesis    | G70 AWD                 | 17     |\n",
       "| 2019 | 2018-03-02 00:00:00 | Genesis    | G70 RWD                 | 17     |\n",
       "| 2019 | 2018-03-02 00:00:00 | Genesis    | G70 AWD                 | 21     |\n",
       "| 2019 | 2018-03-02 00:00:00 | Genesis    | G70 RWD                 | 22     |\n",
       "| 2019 | 2018-03-02 00:00:00 | Genesis    | G70 RWD                 | 18     |\n",
       "| …    | …                   | …          | …                       | …      |\n",
       "| 2025 | 2024-10-17 00:00:00 | Land Rover | Defender 130 Outbound   | 16     |\n",
       "| 2025 | 2024-10-17 00:00:00 | Nissan     | Pathfinder 4WD Platinum | 20     |\n",
       "| 2025 | 2024-10-17 00:00:00 | Porsche    | Cayenne Turbo GT        | 15     |\n",
       "| 2025 | 2024-10-17 00:00:00 | Porsche    | Cayenne GTS             | 15     |\n",
       "| 2025 | 2024-10-17 00:00:00 | Porsche    | Cayenne GTS Coupe       | 16     |\n",
       "+------+---------------------+------------+-------------------------+--------+"
      ]
     },
     "execution_count": 10,
     "metadata": {},
     "output_type": "execute_result"
    }
   ],
   "source": [
    "from datetime import datetime\n",
    "\n",
    "mar2018 = datetime(2018, 3, 1)\n",
    "print(mar2018)\n",
    "\n",
    "(\n",
    "    autos\n",
    "    .filter(pl.col('createdOn') >= mar2018)\n",
    "    .select(['year', 'createdOn', 'make', 'model', 'city08'])\n",
    "    .sort(by='createdOn')\n",
    ")"
   ]
  },
  {
   "cell_type": "markdown",
   "id": "990088f7-f9a9-4544-8d57-9c4ea2e71c7c",
   "metadata": {},
   "source": [
    "* We can also use `is_between()` to select dates between two dates.\n",
    "* This method works for any ordinal types, not just dates.\n",
    "* For ex, we select all cars with miles per gallon between 40 and 50."
   ]
  },
  {
   "cell_type": "code",
   "execution_count": 11,
   "id": "79b859cf-58ab-4c00-9c86-f155fbc4fed4",
   "metadata": {},
   "outputs": [
    {
     "name": "stderr",
     "output_type": "stream",
     "text": [
      "dataframe filtered\n"
     ]
    },
    {
     "data": {
      "text/html": [
       "<div><style>\n",
       ".dataframe > thead > tr,\n",
       ".dataframe > tbody > tr {\n",
       "  text-align: right;\n",
       "  white-space: pre-wrap;\n",
       "}\n",
       "</style>\n",
       "<small>shape: (326, 5)</small><table border=\"1\" class=\"dataframe\"><thead><tr><th>year</th><th>make</th><th>model</th><th>VClass</th><th>city08</th></tr><tr><td>i16</td><td>cat</td><td>cat</td><td>cat</td><td>u8</td></tr></thead><tbody><tr><td>1985</td><td>&quot;Honda&quot;</td><td>&quot;Civic CRX HF&quot;</td><td>&quot;Two Seaters&quot;</td><td>40</td></tr><tr><td>2003</td><td>&quot;Honda&quot;</td><td>&quot;Civic Hybrid&quot;</td><td>&quot;Compact Cars&quot;</td><td>40</td></tr><tr><td>2006</td><td>&quot;Honda&quot;</td><td>&quot;Civic Hybrid&quot;</td><td>&quot;Compact Cars&quot;</td><td>40</td></tr><tr><td>2007</td><td>&quot;Honda&quot;</td><td>&quot;Civic Hybrid&quot;</td><td>&quot;Compact Cars&quot;</td><td>40</td></tr><tr><td>2008</td><td>&quot;Honda&quot;</td><td>&quot;Civic Hybrid&quot;</td><td>&quot;Compact Cars&quot;</td><td>40</td></tr><tr><td>&hellip;</td><td>&hellip;</td><td>&hellip;</td><td>&hellip;</td><td>&hellip;</td></tr><tr><td>2024</td><td>&quot;Toyota&quot;</td><td>&quot;Corolla Hybrid&quot;</td><td>&quot;Compact Cars&quot;</td><td>50</td></tr><tr><td>2024</td><td>&quot;Toyota&quot;</td><td>&quot;Prius Prime&quot;</td><td>&quot;Midsize Cars&quot;</td><td>50</td></tr><tr><td>2025</td><td>&quot;Honda&quot;</td><td>&quot;Civic 4Dr&quot;</td><td>&quot;Midsize Cars&quot;</td><td>50</td></tr><tr><td>2025</td><td>&quot;Toyota&quot;</td><td>&quot;Corolla Hybrid&quot;</td><td>&quot;Compact Cars&quot;</td><td>50</td></tr><tr><td>2025</td><td>&quot;Honda&quot;</td><td>&quot;Civic 5Dr&quot;</td><td>&quot;Large Cars&quot;</td><td>50</td></tr></tbody></table></div>"
      ],
      "text/plain": [
       "shape: (326, 5)\n",
       "+------+--------+----------------+--------------+--------+\n",
       "| year | make   | model          | VClass       | city08 |\n",
       "| ---  | ---    | ---            | ---          | ---    |\n",
       "| i16  | cat    | cat            | cat          | u8     |\n",
       "+========================================================+\n",
       "| 1985 | Honda  | Civic CRX HF   | Two Seaters  | 40     |\n",
       "| 2003 | Honda  | Civic Hybrid   | Compact Cars | 40     |\n",
       "| 2006 | Honda  | Civic Hybrid   | Compact Cars | 40     |\n",
       "| 2007 | Honda  | Civic Hybrid   | Compact Cars | 40     |\n",
       "| 2008 | Honda  | Civic Hybrid   | Compact Cars | 40     |\n",
       "| …    | …      | …              | …            | …      |\n",
       "| 2024 | Toyota | Corolla Hybrid | Compact Cars | 50     |\n",
       "| 2024 | Toyota | Prius Prime    | Midsize Cars | 50     |\n",
       "| 2025 | Honda  | Civic 4Dr      | Midsize Cars | 50     |\n",
       "| 2025 | Toyota | Corolla Hybrid | Compact Cars | 50     |\n",
       "| 2025 | Honda  | Civic 5Dr      | Large Cars   | 50     |\n",
       "+------+--------+----------------+--------------+--------+"
      ]
     },
     "execution_count": 11,
     "metadata": {},
     "output_type": "execute_result"
    }
   ],
   "source": [
    "(\n",
    "    autos\n",
    "    .filter(pl.col('city08').is_between(40,50))\n",
    "    .sort('city08')\n",
    "    .select(['year', 'make', 'model', 'VClass', 'city08'])\n",
    ")"
   ]
  },
  {
   "cell_type": "markdown",
   "id": "90599de5-916c-4edf-9fb1-97e60d48a799",
   "metadata": {},
   "source": [
    "* Next, select all the cars with a *createdOn* date between March 2018 and 5 years prior.\n"
   ]
  },
  {
   "cell_type": "code",
   "execution_count": 12,
   "id": "ecbda8d8-1b38-4792-91f9-7089a8d99040",
   "metadata": {},
   "outputs": [
    {
     "name": "stdout",
     "output_type": "stream",
     "text": [
      "2013-03-02 00:00:00\n"
     ]
    },
    {
     "name": "stderr",
     "output_type": "stream",
     "text": [
      "dataframe filtered\n"
     ]
    },
    {
     "data": {
      "text/html": [
       "<div><style>\n",
       ".dataframe > thead > tr,\n",
       ".dataframe > tbody > tr {\n",
       "  text-align: right;\n",
       "  white-space: pre-wrap;\n",
       "}\n",
       "</style>\n",
       "<small>shape: (5_344, 6)</small><table border=\"1\" class=\"dataframe\"><thead><tr><th>year</th><th>createdOn</th><th>make</th><th>model</th><th>VClass</th><th>city08</th></tr><tr><td>i16</td><td>datetime[μs]</td><td>cat</td><td>cat</td><td>cat</td><td>u8</td></tr></thead><tbody><tr><td>2014</td><td>2013-10-29 00:00:00</td><td>&quot;Lexus&quot;</td><td>&quot;GS 350&quot;</td><td>&quot;Midsize Cars&quot;</td><td>19</td></tr><tr><td>2014</td><td>2013-10-29 00:00:00</td><td>&quot;Nissan&quot;</td><td>&quot;Frontier 2WD&quot;</td><td>&quot;Small Pickup Trucks 2WD&quot;</td><td>17</td></tr><tr><td>2014</td><td>2013-10-29 00:00:00</td><td>&quot;Nissan&quot;</td><td>&quot;Frontier 2WD&quot;</td><td>&quot;Small Pickup Trucks 2WD&quot;</td><td>19</td></tr><tr><td>2014</td><td>2013-10-29 00:00:00</td><td>&quot;Nissan&quot;</td><td>&quot;Frontier 2WD&quot;</td><td>&quot;Small Pickup Trucks 2WD&quot;</td><td>16</td></tr><tr><td>2014</td><td>2013-10-29 00:00:00</td><td>&quot;Nissan&quot;</td><td>&quot;Frontier 2WD&quot;</td><td>&quot;Small Pickup Trucks 2WD&quot;</td><td>16</td></tr><tr><td>&hellip;</td><td>&hellip;</td><td>&hellip;</td><td>&hellip;</td><td>&hellip;</td><td>&hellip;</td></tr><tr><td>2018</td><td>2018-02-26 00:00:00</td><td>&quot;Land Rover&quot;</td><td>&quot;Range Rover LWB&quot;</td><td>&quot;Standard Sport Utility Vehicle…</td><td>16</td></tr><tr><td>2018</td><td>2018-02-26 00:00:00</td><td>&quot;Land Rover&quot;</td><td>&quot;Range Rover SVA&quot;</td><td>&quot;Standard Sport Utility Vehicle…</td><td>14</td></tr><tr><td>2018</td><td>2018-02-26 00:00:00</td><td>&quot;Land Rover&quot;</td><td>&quot;Range Rover LWB SVA&quot;</td><td>&quot;Standard Sport Utility Vehicle…</td><td>13</td></tr><tr><td>2018</td><td>2018-02-26 00:00:00</td><td>&quot;Land Rover&quot;</td><td>&quot;Range Rover Sport&quot;</td><td>&quot;Standard Sport Utility Vehicle…</td><td>17</td></tr><tr><td>2018</td><td>2018-02-26 00:00:00</td><td>&quot;Land Rover&quot;</td><td>&quot;Range Rover Sport SVR&quot;</td><td>&quot;Standard Sport Utility Vehicle…</td><td>15</td></tr></tbody></table></div>"
      ],
      "text/plain": [
       "shape: (5_344, 6)\n",
       "+------+---------------------+------------+-----------------------+-----------------------+--------+\n",
       "| year | createdOn           | make       | model                 | VClass                | city08 |\n",
       "| ---  | ---                 | ---        | ---                   | ---                   | ---    |\n",
       "| i16  | datetime[μs]        | cat        | cat                   | cat                   | u8     |\n",
       "+==================================================================================================+\n",
       "| 2014 | 2013-10-29 00:00:00 | Lexus      | GS 350                | Midsize Cars          | 19     |\n",
       "| 2014 | 2013-10-29 00:00:00 | Nissan     | Frontier 2WD          | Small Pickup Trucks   | 17     |\n",
       "|      |                     |            |                       | 2WD                   |        |\n",
       "| 2014 | 2013-10-29 00:00:00 | Nissan     | Frontier 2WD          | Small Pickup Trucks   | 19     |\n",
       "|      |                     |            |                       | 2WD                   |        |\n",
       "| 2014 | 2013-10-29 00:00:00 | Nissan     | Frontier 2WD          | Small Pickup Trucks   | 16     |\n",
       "|      |                     |            |                       | 2WD                   |        |\n",
       "| 2014 | 2013-10-29 00:00:00 | Nissan     | Frontier 2WD          | Small Pickup Trucks   | 16     |\n",
       "|      |                     |            |                       | 2WD                   |        |\n",
       "| …    | …                   | …          | …                     | …                     | …      |\n",
       "| 2018 | 2018-02-26 00:00:00 | Land Rover | Range Rover LWB       | Standard Sport        | 16     |\n",
       "|      |                     |            |                       | Utility Vehicle…      |        |\n",
       "| 2018 | 2018-02-26 00:00:00 | Land Rover | Range Rover SVA       | Standard Sport        | 14     |\n",
       "|      |                     |            |                       | Utility Vehicle…      |        |\n",
       "| 2018 | 2018-02-26 00:00:00 | Land Rover | Range Rover LWB SVA   | Standard Sport        | 13     |\n",
       "|      |                     |            |                       | Utility Vehicle…      |        |\n",
       "| 2018 | 2018-02-26 00:00:00 | Land Rover | Range Rover Sport     | Standard Sport        | 17     |\n",
       "|      |                     |            |                       | Utility Vehicle…      |        |\n",
       "| 2018 | 2018-02-26 00:00:00 | Land Rover | Range Rover Sport SVR | Standard Sport        | 15     |\n",
       "|      |                     |            |                       | Utility Vehicle…      |        |\n",
       "+------+---------------------+------------+-----------------------+-----------------------+--------+"
      ]
     },
     "execution_count": 12,
     "metadata": {},
     "output_type": "execute_result"
    }
   ],
   "source": [
    "from datetime import timedelta\n",
    "\n",
    "mar2013 = mar2018 - timedelta(days=5*365)\n",
    "print(mar2013)\n",
    "\n",
    "(\n",
    "    autos\n",
    "    .filter(pl.col('createdOn').is_between(mar2013, mar2018))\n",
    "    .select(['year', 'createdOn', 'make', 'model', 'VClass', 'city08', ])\n",
    "    .sort('createdOn')\n",
    ")"
   ]
  },
  {
   "cell_type": "markdown",
   "id": "3cb94d19-06af-4c08-a9b2-ae39ceb8974a",
   "metadata": {},
   "source": [
    "---\n",
    "# 5.6 Advanced Filtering Techniques\n",
    "\n",
    "[back to Top](#Top)\n",
    "\n",
    "* Find the high outliers for the *city08* column.\n",
    "* Filter out all values with a Z-score > 3.\n",
    "* The Z-score is the number of standard deviations away from the mean.\n",
    "* This is a common technique for finding outliers when the data is normally distributed.\n",
    "* Then select the columns you want to see.\n",
    "\n",
    "**Notes on standardization and normalization**\n",
    "\n",
    "The key differences between normalization and standardization in the context of data preprocessing with Polars are:\n",
    "\n",
    "Normalization:\n",
    "- Normalization refers to rescaling the data to a common range, typically between 0 and 1.\n",
    "- It preserves the shape of the original data distribution.\n",
    "- Polars does not have a built-in normalization function, but you can create your own function to normalize columns.\n",
    "\n",
    "Standardization:\n",
    "- Standardization refers to centering the data around a mean of 0 and scaling it to have a standard deviation of 1.\n",
    "- It changes the shape of the original data distribution.\n",
    "- In Polars, you can standardize a column using the `mean()` and `std()` functions along with arithmetic operations, as shown in this example:\n",
    "\n",
    "```python\n",
    "import polars as pl\n",
    "\n",
    "def standardize(x):\n",
    "    return (x - x.mean()) / x.std()\n",
    "\n",
    "df = pl.DataFrame({\"x\": [1, 2, 3, 4, 5]})\n",
    "df = df.with_column(pl.col(\"x\").map(standardize).alias(\"x_standardized\"))\n",
    "```\n",
    "\n",
    "This will create a new column `x_standardized` containing the standardized values of `x`.\n",
    "\n",
    "So in summary, normalization rescales data to a common range like 0 to 1, while standardization centers the data around 0 mean and scales it to unit variance. Polars does not have built-in functions for these operations, but you can create your own functions using existing methods like `mean()`, `std()`, `min()`, `max()`, and arithmetic operations."
   ]
  },
  {
   "cell_type": "code",
   "execution_count": 13,
   "id": "b307aaaa-ea63-4e60-95f1-a0e964acf73b",
   "metadata": {},
   "outputs": [
    {
     "data": {
      "text/html": [
       "[(col(\"city08\")) > (dyn int: 3)]"
      ],
      "text/plain": [
       "<Expr ['[(col(\"city08\")) > (dyn int: 3…'] at 0x12594B550>"
      ]
     },
     "execution_count": 13,
     "metadata": {},
     "output_type": "execute_result"
    }
   ],
   "source": [
    "pl.col('city08') > 3"
   ]
  },
  {
   "cell_type": "code",
   "execution_count": 14,
   "id": "3b5fae06-c262-4953-a54c-0c9af60d36d0",
   "metadata": {},
   "outputs": [
    {
     "name": "stderr",
     "output_type": "stream",
     "text": [
      "dataframe filtered\n"
     ]
    },
    {
     "data": {
      "text/html": [
       "<div><style>\n",
       ".dataframe > thead > tr,\n",
       ".dataframe > tbody > tr {\n",
       "  text-align: right;\n",
       "  white-space: pre-wrap;\n",
       "}\n",
       "</style>\n",
       "<small>shape: (949, 6)</small><table border=\"1\" class=\"dataframe\"><thead><tr><th>year</th><th>make</th><th>model</th><th>VClass</th><th>city08</th><th>standardized_city08</th></tr><tr><td>i16</td><td>cat</td><td>cat</td><td>cat</td><td>u8</td><td>f64</td></tr></thead><tbody><tr><td>2000</td><td>&quot;Nissan&quot;</td><td>&quot;Altra EV&quot;</td><td>&quot;Midsize Station Wagons&quot;</td><td>81</td><td>4.82467</td></tr><tr><td>2000</td><td>&quot;Toyota&quot;</td><td>&quot;RAV4 EV&quot;</td><td>&quot;Sport Utility Vehicle - 2WD&quot;</td><td>81</td><td>4.82467</td></tr><tr><td>2001</td><td>&quot;Toyota&quot;</td><td>&quot;RAV4 EV&quot;</td><td>&quot;Sport Utility Vehicle - 2WD&quot;</td><td>81</td><td>4.82467</td></tr><tr><td>2001</td><td>&quot;Ford&quot;</td><td>&quot;Th!nk&quot;</td><td>&quot;Two Seaters&quot;</td><td>74</td><td>4.271661</td></tr><tr><td>2001</td><td>&quot;Nissan&quot;</td><td>&quot;Hyper-Mini&quot;</td><td>&quot;Two Seaters&quot;</td><td>84</td><td>5.061674</td></tr><tr><td>&hellip;</td><td>&hellip;</td><td>&hellip;</td><td>&hellip;</td><td>&hellip;</td><td>&hellip;</td></tr><tr><td>2024</td><td>&quot;Mercedes-Benz&quot;</td><td>&quot;EQB 300 4matic&quot;</td><td>&quot;Small Sport Utility Vehicle 4W…</td><td>89</td><td>5.456681</td></tr><tr><td>2024</td><td>&quot;Tesla&quot;</td><td>&quot;Model 3 Long Range AWD-E&quot;</td><td>&quot;Midsize Cars&quot;</td><td>133</td><td>8.932738</td></tr><tr><td>2024</td><td>&quot;Tesla&quot;</td><td>&quot;Model Y Long Range AWD-I&quot;</td><td>&quot;Small Sport Utility Vehicle 4W…</td><td>123</td><td>8.142725</td></tr><tr><td>2024</td><td>&quot;Tesla&quot;</td><td>&quot;Model Y Long Range RWD&quot;</td><td>&quot;Small Sport Utility Vehicle 2W…</td><td>128</td><td>8.537732</td></tr><tr><td>2024</td><td>&quot;Tesla&quot;</td><td>&quot;Model Y RWD&quot;</td><td>&quot;Small Sport Utility Vehicle 2W…</td><td>128</td><td>8.537732</td></tr></tbody></table></div>"
      ],
      "text/plain": [
       "shape: (949, 6)\n",
       "+------+---------------+----------------------+---------------------+--------+---------------------+\n",
       "| year | make          | model                | VClass              | city08 | standardized_city08 |\n",
       "| ---  | ---           | ---                  | ---                 | ---    | ---                 |\n",
       "| i16  | cat           | cat                  | cat                 | u8     | f64                 |\n",
       "+==================================================================================================+\n",
       "| 2000 | Nissan        | Altra EV             | Midsize Station     | 81     | 4.82467             |\n",
       "|      |               |                      | Wagons              |        |                     |\n",
       "| 2000 | Toyota        | RAV4 EV              | Sport Utility       | 81     | 4.82467             |\n",
       "|      |               |                      | Vehicle - 2WD       |        |                     |\n",
       "| 2001 | Toyota        | RAV4 EV              | Sport Utility       | 81     | 4.82467             |\n",
       "|      |               |                      | Vehicle - 2WD       |        |                     |\n",
       "| 2001 | Ford          | Th!nk                | Two Seaters         | 74     | 4.271661            |\n",
       "| 2001 | Nissan        | Hyper-Mini           | Two Seaters         | 84     | 5.061674            |\n",
       "| …    | …             | …                    | …                   | …      | …                   |\n",
       "| 2024 | Mercedes-Benz | EQB 300 4matic       | Small Sport Utility | 89     | 5.456681            |\n",
       "|      |               |                      | Vehicle 4W…         |        |                     |\n",
       "| 2024 | Tesla         | Model 3 Long Range   | Midsize Cars        | 133    | 8.932738            |\n",
       "|      |               | AWD-E                |                     |        |                     |\n",
       "| 2024 | Tesla         | Model Y Long Range   | Small Sport Utility | 123    | 8.142725            |\n",
       "|      |               | AWD-I                | Vehicle 4W…         |        |                     |\n",
       "| 2024 | Tesla         | Model Y Long Range   | Small Sport Utility | 128    | 8.537732            |\n",
       "|      |               | RWD                  | Vehicle 2W…         |        |                     |\n",
       "| 2024 | Tesla         | Model Y RWD          | Small Sport Utility | 128    | 8.537732            |\n",
       "|      |               |                      | Vehicle 2W…         |        |                     |\n",
       "+------+---------------+----------------------+---------------------+--------+---------------------+"
      ]
     },
     "execution_count": 14,
     "metadata": {},
     "output_type": "execute_result"
    }
   ],
   "source": [
    "# Center the data around a mean of 0, and scale it to have a standard deviation of 1.\n",
    "def standardize(col):\n",
    "    return (col - col.mean()) / col.std()\n",
    "\n",
    "(\n",
    "    autos\n",
    "    .with_columns(\n",
    "        standardize(pl.col('city08')).alias('standardized_city08')\n",
    "    )\n",
    "    .filter(\n",
    "        pl.col('standardized_city08') > 3\n",
    "    )\n",
    "    .select(['year', 'make', 'model', 'VClass', 'city08', 'standardized_city08'])\n",
    ")"
   ]
  },
  {
   "cell_type": "markdown",
   "id": "fb14ace4-5736-4b00-b695-56ca49ec62da",
   "metadata": {},
   "source": [
    "* We can also combine these with **window functions**.\n",
    "* Here we find outliers for each *make* and *year* combination.\n",
    "* For this, use a `.over(['year', 'make'])` to our standard deviation calculation."
   ]
  },
  {
   "cell_type": "code",
   "execution_count": 15,
   "id": "9b2245c5-552f-4d36-b3c6-318116d6d130",
   "metadata": {},
   "outputs": [
    {
     "name": "stderr",
     "output_type": "stream",
     "text": [
      "dataframe filtered\n"
     ]
    },
    {
     "data": {
      "text/html": [
       "<div><style>\n",
       ".dataframe > thead > tr,\n",
       ".dataframe > tbody > tr {\n",
       "  text-align: right;\n",
       "  white-space: pre-wrap;\n",
       "}\n",
       "</style>\n",
       "<small>shape: (793, 6)</small><table border=\"1\" class=\"dataframe\"><thead><tr><th>year</th><th>make</th><th>model</th><th>trany</th><th>VClass</th><th>city08</th></tr><tr><td>i16</td><td>cat</td><td>cat</td><td>str</td><td>cat</td><td>u8</td></tr></thead><tbody><tr><td>1984</td><td>&quot;Pontiac&quot;</td><td>&quot;1000&quot;</td><td>&quot;Manual 5-spd&quot;</td><td>&quot;Subcompact Cars&quot;</td><td>33</td></tr><tr><td>1984</td><td>&quot;Pontiac&quot;</td><td>&quot;1000&quot;</td><td>&quot;Manual 5-spd&quot;</td><td>&quot;Subcompact Cars&quot;</td><td>33</td></tr><tr><td>1984</td><td>&quot;Suzuki&quot;</td><td>&quot;SJ 410 4WD&quot;</td><td>&quot;Manual 4-spd&quot;</td><td>&quot;Special Purpose Vehicle 4WD&quot;</td><td>22</td></tr><tr><td>1984</td><td>&quot;Suzuki&quot;</td><td>&quot;SJ410K P/U 4WD&quot;</td><td>&quot;Manual 4-spd&quot;</td><td>&quot;Small Pickup Trucks 4WD&quot;</td><td>22</td></tr><tr><td>1984</td><td>&quot;Suzuki&quot;</td><td>&quot;SJ 410V 4WD&quot;</td><td>&quot;Manual 4-spd&quot;</td><td>&quot;Special Purpose Vehicle 4WD&quot;</td><td>22</td></tr><tr><td>&hellip;</td><td>&hellip;</td><td>&hellip;</td><td>&hellip;</td><td>&hellip;</td><td>&hellip;</td></tr><tr><td>2025</td><td>&quot;Chevrolet&quot;</td><td>&quot;Blazer EV AWD&quot;</td><td>&quot;Automatic (A1)&quot;</td><td>&quot;Small Sport Utility Vehicle 4W…</td><td>102</td></tr><tr><td>2025</td><td>&quot;Kia&quot;</td><td>&quot;Niro Electric&quot;</td><td>&quot;Automatic (A1)&quot;</td><td>&quot;Small Sport Utility Vehicle 2W…</td><td>126</td></tr><tr><td>2025</td><td>&quot;Aston Martin&quot;</td><td>&quot;DB12 V8&quot;</td><td>&quot;Automatic 8-spd&quot;</td><td>&quot;Minicompact Cars&quot;</td><td>15</td></tr><tr><td>2025</td><td>&quot;Aston Martin&quot;</td><td>&quot;DBX 707&quot;</td><td>&quot;Automatic 9-spd&quot;</td><td>&quot;Standard Sport Utility Vehicle…</td><td>15</td></tr><tr><td>2025</td><td>&quot;Aston Martin&quot;</td><td>&quot;Vantage&quot;</td><td>&quot;Automatic 8-spd&quot;</td><td>&quot;Two Seaters&quot;</td><td>15</td></tr></tbody></table></div>"
      ],
      "text/plain": [
       "shape: (793, 6)\n",
       "+------+--------------+----------------+-----------------+-----------------------------+--------+\n",
       "| year | make         | model          | trany           | VClass                      | city08 |\n",
       "| ---  | ---          | ---            | ---             | ---                         | ---    |\n",
       "| i16  | cat          | cat            | str             | cat                         | u8     |\n",
       "+===============================================================================================+\n",
       "| 1984 | Pontiac      | 1000           | Manual 5-spd    | Subcompact Cars             | 33     |\n",
       "| 1984 | Pontiac      | 1000           | Manual 5-spd    | Subcompact Cars             | 33     |\n",
       "| 1984 | Suzuki       | SJ 410 4WD     | Manual 4-spd    | Special Purpose Vehicle 4WD | 22     |\n",
       "| 1984 | Suzuki       | SJ410K P/U 4WD | Manual 4-spd    | Small Pickup Trucks 4WD     | 22     |\n",
       "| 1984 | Suzuki       | SJ 410V 4WD    | Manual 4-spd    | Special Purpose Vehicle 4WD | 22     |\n",
       "| …    | …            | …              | …               | …                           | …      |\n",
       "| 2025 | Chevrolet    | Blazer EV AWD  | Automatic (A1)  | Small Sport Utility Vehicle | 102    |\n",
       "|      |              |                |                 | 4W…                         |        |\n",
       "| 2025 | Kia          | Niro Electric  | Automatic (A1)  | Small Sport Utility Vehicle | 126    |\n",
       "|      |              |                |                 | 2W…                         |        |\n",
       "| 2025 | Aston Martin | DB12 V8        | Automatic 8-spd | Minicompact Cars            | 15     |\n",
       "| 2025 | Aston Martin | DBX 707        | Automatic 9-spd | Standard Sport Utility      | 15     |\n",
       "|      |              |                |                 | Vehicle…                    |        |\n",
       "| 2025 | Aston Martin | Vantage        | Automatic 8-spd | Two Seaters                 | 15     |\n",
       "+------+--------------+----------------+-----------------+-----------------------------+--------+"
      ]
     },
     "execution_count": 15,
     "metadata": {},
     "output_type": "execute_result"
    }
   ],
   "source": [
    "(\n",
    "    autos\n",
    "    .filter(\n",
    "         standardize(pl.col('city08')).over(['year', 'make']) > 3\n",
    "    )\n",
    "    .select(['year', 'make', 'model', 'trany', 'VClass', 'city08'])\n",
    "    .sort(by=['year', 'make'])\n",
    ")"
   ]
  },
  {
   "cell_type": "code",
   "execution_count": 16,
   "id": "aa070ab7-25cc-491b-a8d3-02734de9fc34",
   "metadata": {},
   "outputs": [
    {
     "name": "stderr",
     "output_type": "stream",
     "text": [
      "dataframe filtered\n",
      "keys/aggregates are not partitionable: running default HASH AGGREGATION\n"
     ]
    },
    {
     "data": {
      "text/html": [
       "<div><style>\n",
       ".dataframe > thead > tr,\n",
       ".dataframe > tbody > tr {\n",
       "  text-align: right;\n",
       "  white-space: pre-wrap;\n",
       "}\n",
       "</style>\n",
       "<small>shape: (410, 6)</small><table border=\"1\" class=\"dataframe\"><thead><tr><th>year</th><th>make</th><th>model</th><th>trany</th><th>VClass</th><th>city08</th></tr><tr><td>i16</td><td>cat</td><td>list[cat]</td><td>list[str]</td><td>list[cat]</td><td>list[u8]</td></tr></thead><tbody><tr><td>1984</td><td>&quot;Pontiac&quot;</td><td>[&quot;1000&quot;, &quot;1000&quot;]</td><td>[&quot;Manual 5-spd&quot;, &quot;Manual 5-spd&quot;]</td><td>[&quot;Subcompact Cars&quot;, &quot;Subcompact Cars&quot;]</td><td>[33, 33]</td></tr><tr><td>1984</td><td>&quot;Suzuki&quot;</td><td>[&quot;SJ410K P/U 4WD&quot;, &quot;SJ 410 4WD&quot;, &quot;SJ 410V 4WD&quot;]</td><td>[&quot;Manual 4-spd&quot;, &quot;Manual 4-spd&quot;, &quot;Manual 4-spd&quot;]</td><td>[&quot;Small Pickup Trucks 4WD&quot;, &quot;Special Purpose Vehicle 4WD&quot;, &quot;Special Purpose Vehicle 4WD&quot;]</td><td>[22, 22, 22]</td></tr><tr><td>1984</td><td>&quot;Chevrolet&quot;</td><td>[&quot;Chevette&quot;, &quot;Chevette&quot;, &quot;Chevette&quot;]</td><td>[&quot;Automatic 3-spd&quot;, &quot;Manual 5-spd&quot;, &quot;Manual 5-spd&quot;]</td><td>[&quot;Subcompact Cars&quot;, &quot;Subcompact Cars&quot;, &quot;Subcompact Cars&quot;]</td><td>[28, 33, 33]</td></tr><tr><td>1984</td><td>&quot;Ford&quot;</td><td>[&quot;Escort&quot;, &quot;Escort&quot;, … &quot;Escort Wagon&quot;]</td><td>[&quot;Manual 5-spd&quot;, &quot;Manual 5-spd&quot;, … &quot;Manual 5-spd&quot;]</td><td>[&quot;Compact Cars&quot;, &quot;Compact Cars&quot;, … &quot;Small Station Wagons&quot;]</td><td>[35, 31, … 31]</td></tr><tr><td>1984</td><td>&quot;Mercury&quot;</td><td>[&quot;Lynx&quot;]</td><td>[&quot;Manual 5-spd&quot;]</td><td>[&quot;Compact Cars&quot;]</td><td>[35]</td></tr><tr><td>&hellip;</td><td>&hellip;</td><td>&hellip;</td><td>&hellip;</td><td>&hellip;</td><td>&hellip;</td></tr><tr><td>2025</td><td>&quot;Nissan&quot;</td><td>[&quot;LEAF&quot;, &quot;LEAF SV&quot;]</td><td>[&quot;Automatic (A1)&quot;, &quot;Automatic (A1)&quot;]</td><td>[&quot;Midsize Cars&quot;, &quot;Midsize Cars&quot;]</td><td>[123, 121]</td></tr><tr><td>2025</td><td>&quot;Bentley&quot;</td><td>[&quot;Bentayga&quot;, &quot;Bentayga EWB&quot;]</td><td>[&quot;Automatic (S8)&quot;, &quot;Automatic (S8)&quot;]</td><td>[&quot;Standard Sport Utility Vehicle 4WD&quot;, &quot;Standard Sport Utility Vehicle 4WD&quot;]</td><td>[14, 14]</td></tr><tr><td>2025</td><td>&quot;Chevrolet&quot;</td><td>[&quot;Blazer EV AWD&quot;]</td><td>[&quot;Automatic (A1)&quot;]</td><td>[&quot;Small Sport Utility Vehicle 4WD&quot;]</td><td>[102]</td></tr><tr><td>2025</td><td>&quot;Kia&quot;</td><td>[&quot;Niro Electric&quot;]</td><td>[&quot;Automatic (A1)&quot;]</td><td>[&quot;Small Sport Utility Vehicle 2WD&quot;]</td><td>[126]</td></tr><tr><td>2025</td><td>&quot;Aston Martin&quot;</td><td>[&quot;Vantage&quot;, &quot;DB12 V8&quot;, &quot;DBX 707&quot;]</td><td>[&quot;Automatic 8-spd&quot;, &quot;Automatic 8-spd&quot;, &quot;Automatic 9-spd&quot;]</td><td>[&quot;Two Seaters&quot;, &quot;Minicompact Cars&quot;, &quot;Standard Sport Utility Vehicle 4WD&quot;]</td><td>[15, 15, 15]</td></tr></tbody></table></div>"
      ],
      "text/plain": [
       "shape: (410, 6)\n",
       "+------+--------------+-------------------+-------------------+-------------------+----------------+\n",
       "| year | make         | model             | trany             | VClass            | city08         |\n",
       "| ---  | ---          | ---               | ---               | ---               | ---            |\n",
       "| i16  | cat          | list[cat]         | list[str]         | list[cat]         | list[u8]       |\n",
       "+==================================================================================================+\n",
       "| 1984 | Pontiac      | [\"1000\", \"1000\"]  | [\"Manual 5-spd\",  | [\"Subcompact      | [33, 33]       |\n",
       "|      |              |                   | \"Manual 5-spd…    | Cars\",            |                |\n",
       "|      |              |                   |                   | \"Subcompac…       |                |\n",
       "| 1984 | Suzuki       | [\"SJ410K P/U      | [\"Manual 4-spd\",  | [\"Small Pickup    | [22, 22, 22]   |\n",
       "|      |              | 4WD\", \"SJ 410     | \"Manual 4-spd…    | Trucks 4WD\", \"S…  |                |\n",
       "|      |              | 4WD…              |                   |                   |                |\n",
       "| 1984 | Chevrolet    | [\"Chevette\",      | [\"Automatic       | [\"Subcompact      | [28, 33, 33]   |\n",
       "|      |              | \"Chevette\",       | 3-spd\", \"Manual   | Cars\",            |                |\n",
       "|      |              | \"Chev…            | 5-…               | \"Subcompac…       |                |\n",
       "| 1984 | Ford         | [\"Escort\",        | [\"Manual 5-spd\",  | [\"Compact Cars\",  | [35, 31, … 31] |\n",
       "|      |              | \"Escort\", …       | \"Manual 5-spd…    | \"Compact Cars…    |                |\n",
       "|      |              | \"Escort…          |                   |                   |                |\n",
       "| 1984 | Mercury      | [\"Lynx\"]          | [\"Manual 5-spd\"]  | [\"Compact Cars\"]  | [35]           |\n",
       "| …    | …            | …                 | …                 | …                 | …              |\n",
       "| 2025 | Nissan       | [\"LEAF\", \"LEAF    | [\"Automatic       | [\"Midsize Cars\",  | [123, 121]     |\n",
       "|      |              | SV\"]              | (A1)\", \"Automatic | \"Midsize Cars…    |                |\n",
       "|      |              |                   | …                 |                   |                |\n",
       "| 2025 | Bentley      | [\"Bentayga\",      | [\"Automatic       | [\"Standard Sport  | [14, 14]       |\n",
       "|      |              | \"Bentayga EWB\"]   | (S8)\", \"Automatic | Utility Vehic…    |                |\n",
       "|      |              |                   | …                 |                   |                |\n",
       "| 2025 | Chevrolet    | [\"Blazer EV AWD\"] | [\"Automatic       | [\"Small Sport     | [102]          |\n",
       "|      |              |                   | (A1)\"]            | Utility Vehicle … |                |\n",
       "| 2025 | Kia          | [\"Niro Electric\"] | [\"Automatic       | [\"Small Sport     | [126]          |\n",
       "|      |              |                   | (A1)\"]            | Utility Vehicle … |                |\n",
       "| 2025 | Aston Martin | [\"Vantage\", \"DB12 | [\"Automatic       | [\"Two Seaters\",   | [15, 15, 15]   |\n",
       "|      |              | V8\", \"DBX 70…     | 8-spd\",           | \"Minicompact C…   |                |\n",
       "|      |              |                   | \"Automatic…       |                   |                |\n",
       "+------+--------------+-------------------+-------------------+-------------------+----------------+"
      ]
     },
     "execution_count": 16,
     "metadata": {},
     "output_type": "execute_result"
    }
   ],
   "source": [
    "# Variation using group_by at the end for a more condensed view\n",
    "(\n",
    "    autos\n",
    "    .filter(\n",
    "        standardize(pl.col('city08')).over(['year', 'make']) > 3\n",
    "    )\n",
    "    .select(['year', 'make', 'model', 'trany', 'VClass', 'city08'])\n",
    "    .group_by('year', 'make')\n",
    "    .all()\n",
    "    .sort(by=['year', 'make'])\n",
    ")"
   ]
  },
  {
   "cell_type": "markdown",
   "id": "b0f830b2-6c41-49ad-82bd-e74a4dc89330",
   "metadata": {},
   "source": [
    "---\n",
    "# 5.7 More Filtering with Window Expressions\n",
    "\n",
    "[back to Top](#Top)\n",
    "\n",
    "* This is a more complicated example.\n",
    "* Find cars in production for over 10 years.\n",
    "* First calculate the *model_age*.\n",
    "* We cannot group by *model* since that will aggregate all the rows for each model.\n",
    "* Instead, use a *model_age* value for each row.\n",
    "* For this, use a *window expression*.\n",
    "* Window expressions apply an aggregation to a group of rows.\n",
    "* We can use `.over()` to apply our expression to a group of rows.\n",
    "* Here, use `.over('model')` to apply the expression to each model.\n",
    "* Use `.with_columns()` to append to the existing dataframe."
   ]
  },
  {
   "cell_type": "code",
   "execution_count": 17,
   "id": "37fda997-ed0f-4acb-9ad1-57929341fccc",
   "metadata": {},
   "outputs": [
    {
     "data": {
      "text/html": [
       "<div><style>\n",
       ".dataframe > thead > tr,\n",
       ".dataframe > tbody > tr {\n",
       "  text-align: right;\n",
       "  white-space: pre-wrap;\n",
       "}\n",
       "</style>\n",
       "<small>shape: (48_202, 7)</small><table border=\"1\" class=\"dataframe\"><thead><tr><th>year</th><th>make</th><th>model</th><th>displ</th><th>cylinders</th><th>trany</th><th>model_age</th></tr><tr><td>i16</td><td>cat</td><td>cat</td><td>f32</td><td>u8</td><td>str</td><td>i16</td></tr></thead><tbody><tr><td>1993</td><td>&quot;Toyota&quot;</td><td>&quot;Corolla&quot;</td><td>1.6</td><td>4</td><td>&quot;Automatic 3-spd&quot;</td><td>41</td></tr><tr><td>1993</td><td>&quot;Toyota&quot;</td><td>&quot;Corolla&quot;</td><td>1.6</td><td>4</td><td>&quot;Manual 5-spd&quot;</td><td>41</td></tr><tr><td>1993</td><td>&quot;Toyota&quot;</td><td>&quot;Corolla&quot;</td><td>1.8</td><td>4</td><td>&quot;Automatic 4-spd&quot;</td><td>41</td></tr><tr><td>1993</td><td>&quot;Toyota&quot;</td><td>&quot;Corolla&quot;</td><td>1.8</td><td>4</td><td>&quot;Manual 5-spd&quot;</td><td>41</td></tr><tr><td>1994</td><td>&quot;Chevrolet&quot;</td><td>&quot;Corvette&quot;</td><td>5.7</td><td>8</td><td>&quot;Manual 6-spd&quot;</td><td>41</td></tr><tr><td>&hellip;</td><td>&hellip;</td><td>&hellip;</td><td>&hellip;</td><td>&hellip;</td><td>&hellip;</td><td>&hellip;</td></tr><tr><td>1992</td><td>&quot;Dodge&quot;</td><td>&quot;Caravan C/V/Grand Caravan 4WD&quot;</td><td>3.3</td><td>6</td><td>&quot;Automatic 4-spd&quot;</td><td>0</td></tr><tr><td>1992</td><td>&quot;PAS Inc - GMC&quot;</td><td>&quot;Pas-typhoon&quot;</td><td>4.3</td><td>6</td><td>&quot;Automatic 4-spd&quot;</td><td>0</td></tr><tr><td>1993</td><td>&quot;Ferrari&quot;</td><td>&quot;Ferrari 348 TB/TS&quot;</td><td>3.4</td><td>8</td><td>&quot;Manual 5-spd&quot;</td><td>0</td></tr><tr><td>1993</td><td>&quot;Jaguar&quot;</td><td>&quot;XJRS Convertble&quot;</td><td>6.0</td><td>12</td><td>&quot;Automatic 3-spd&quot;</td><td>0</td></tr><tr><td>1993</td><td>&quot;Jaguar&quot;</td><td>&quot;XJRS Coupe&quot;</td><td>6.0</td><td>12</td><td>&quot;Automatic 3-spd&quot;</td><td>0</td></tr></tbody></table></div>"
      ],
      "text/plain": [
       "shape: (48_202, 7)\n",
       "+------+---------------+-------------------+-------+-----------+-----------------+-----------+\n",
       "| year | make          | model             | displ | cylinders | trany           | model_age |\n",
       "| ---  | ---           | ---               | ---   | ---       | ---             | ---       |\n",
       "| i16  | cat           | cat               | f32   | u8        | str             | i16       |\n",
       "+============================================================================================+\n",
       "| 1993 | Toyota        | Corolla           | 1.6   | 4         | Automatic 3-spd | 41        |\n",
       "| 1993 | Toyota        | Corolla           | 1.6   | 4         | Manual 5-spd    | 41        |\n",
       "| 1993 | Toyota        | Corolla           | 1.8   | 4         | Automatic 4-spd | 41        |\n",
       "| 1993 | Toyota        | Corolla           | 1.8   | 4         | Manual 5-spd    | 41        |\n",
       "| 1994 | Chevrolet     | Corvette          | 5.7   | 8         | Manual 6-spd    | 41        |\n",
       "| …    | …             | …                 | …     | …         | …               | …         |\n",
       "| 1992 | Dodge         | Caravan C/V/Grand | 3.3   | 6         | Automatic 4-spd | 0         |\n",
       "|      |               | Caravan 4WD       |       |           |                 |           |\n",
       "| 1992 | PAS Inc - GMC | Pas-typhoon       | 4.3   | 6         | Automatic 4-spd | 0         |\n",
       "| 1993 | Ferrari       | Ferrari 348 TB/TS | 3.4   | 8         | Manual 5-spd    | 0         |\n",
       "| 1993 | Jaguar        | XJRS Convertble   | 6.0   | 12        | Automatic 3-spd | 0         |\n",
       "| 1993 | Jaguar        | XJRS Coupe        | 6.0   | 12        | Automatic 3-spd | 0         |\n",
       "+------+---------------+-------------------+-------+-----------+-----------------+-----------+"
      ]
     },
     "execution_count": 17,
     "metadata": {},
     "output_type": "execute_result"
    }
   ],
   "source": [
    "# Using .with_columns guarantees sequential execution \n",
    "# and access to previously declared variables like 'model_age'\n",
    "(\n",
    "    autos\n",
    "    .with_columns(\n",
    "        model_age=(\n",
    "            pl.col('year').max() - pl.col('year').min()\n",
    "        )\n",
    "        .over('model')\n",
    "    )\n",
    "    .select(['year','make', 'model','displ','cylinders','trany', 'model_age'])\n",
    "    .sort(by=['model_age'], descending=True)\n",
    ")"
   ]
  },
  {
   "cell_type": "markdown",
   "id": "842061cc-d977-413d-8278-ef4b070f6334",
   "metadata": {},
   "source": [
    "* Next, filter out rows where *model_age* is less than 10.\n",
    "* For this, add `.filter(col('model_age')>10)` to end of the previous expression."
   ]
  },
  {
   "cell_type": "code",
   "execution_count": 18,
   "id": "49c274a5-38f1-46d7-9455-aa80c7dae4d9",
   "metadata": {},
   "outputs": [
    {
     "name": "stderr",
     "output_type": "stream",
     "text": [
      "dataframe filtered\n"
     ]
    },
    {
     "data": {
      "text/html": [
       "<div><style>\n",
       ".dataframe > thead > tr,\n",
       ".dataframe > tbody > tr {\n",
       "  text-align: right;\n",
       "  white-space: pre-wrap;\n",
       "}\n",
       "</style>\n",
       "<small>shape: (19_207, 7)</small><table border=\"1\" class=\"dataframe\"><thead><tr><th>year</th><th>make</th><th>model</th><th>displ</th><th>cylinders</th><th>trany</th><th>model_age</th></tr><tr><td>i16</td><td>cat</td><td>cat</td><td>f32</td><td>u8</td><td>str</td><td>i16</td></tr></thead><tbody><tr><td>1993</td><td>&quot;Toyota&quot;</td><td>&quot;Corolla&quot;</td><td>1.6</td><td>4</td><td>&quot;Automatic 3-spd&quot;</td><td>41</td></tr><tr><td>1993</td><td>&quot;Toyota&quot;</td><td>&quot;Corolla&quot;</td><td>1.6</td><td>4</td><td>&quot;Manual 5-spd&quot;</td><td>41</td></tr><tr><td>1993</td><td>&quot;Toyota&quot;</td><td>&quot;Corolla&quot;</td><td>1.8</td><td>4</td><td>&quot;Automatic 4-spd&quot;</td><td>41</td></tr><tr><td>1993</td><td>&quot;Toyota&quot;</td><td>&quot;Corolla&quot;</td><td>1.8</td><td>4</td><td>&quot;Manual 5-spd&quot;</td><td>41</td></tr><tr><td>1994</td><td>&quot;Chevrolet&quot;</td><td>&quot;Corvette&quot;</td><td>5.7</td><td>8</td><td>&quot;Manual 6-spd&quot;</td><td>41</td></tr><tr><td>&hellip;</td><td>&hellip;</td><td>&hellip;</td><td>&hellip;</td><td>&hellip;</td><td>&hellip;</td><td>&hellip;</td></tr><tr><td>1993</td><td>&quot;Mercury&quot;</td><td>&quot;Tracer&quot;</td><td>1.9</td><td>4</td><td>&quot;Manual 5-spd&quot;</td><td>11</td></tr><tr><td>1993</td><td>&quot;Saturn&quot;</td><td>&quot;SL&quot;</td><td>1.9</td><td>4</td><td>&quot;Automatic 4-spd&quot;</td><td>11</td></tr><tr><td>1993</td><td>&quot;Saturn&quot;</td><td>&quot;SL&quot;</td><td>1.9</td><td>4</td><td>&quot;Automatic 4-spd&quot;</td><td>11</td></tr><tr><td>1993</td><td>&quot;Saturn&quot;</td><td>&quot;SL&quot;</td><td>1.9</td><td>4</td><td>&quot;Manual 5-spd&quot;</td><td>11</td></tr><tr><td>1993</td><td>&quot;Saturn&quot;</td><td>&quot;SL&quot;</td><td>1.9</td><td>4</td><td>&quot;Manual 5-spd&quot;</td><td>11</td></tr></tbody></table></div>"
      ],
      "text/plain": [
       "shape: (19_207, 7)\n",
       "+------+-----------+----------+-------+-----------+-----------------+-----------+\n",
       "| year | make      | model    | displ | cylinders | trany           | model_age |\n",
       "| ---  | ---       | ---      | ---   | ---       | ---             | ---       |\n",
       "| i16  | cat       | cat      | f32   | u8        | str             | i16       |\n",
       "+===============================================================================+\n",
       "| 1993 | Toyota    | Corolla  | 1.6   | 4         | Automatic 3-spd | 41        |\n",
       "| 1993 | Toyota    | Corolla  | 1.6   | 4         | Manual 5-spd    | 41        |\n",
       "| 1993 | Toyota    | Corolla  | 1.8   | 4         | Automatic 4-spd | 41        |\n",
       "| 1993 | Toyota    | Corolla  | 1.8   | 4         | Manual 5-spd    | 41        |\n",
       "| 1994 | Chevrolet | Corvette | 5.7   | 8         | Manual 6-spd    | 41        |\n",
       "| …    | …         | …        | …     | …         | …               | …         |\n",
       "| 1993 | Mercury   | Tracer   | 1.9   | 4         | Manual 5-spd    | 11        |\n",
       "| 1993 | Saturn    | SL       | 1.9   | 4         | Automatic 4-spd | 11        |\n",
       "| 1993 | Saturn    | SL       | 1.9   | 4         | Automatic 4-spd | 11        |\n",
       "| 1993 | Saturn    | SL       | 1.9   | 4         | Manual 5-spd    | 11        |\n",
       "| 1993 | Saturn    | SL       | 1.9   | 4         | Manual 5-spd    | 11        |\n",
       "+------+-----------+----------+-------+-----------+-----------------+-----------+"
      ]
     },
     "execution_count": 18,
     "metadata": {},
     "output_type": "execute_result"
    }
   ],
   "source": [
    "(\n",
    "    autos\n",
    "    .with_columns(\n",
    "        model_age=(\n",
    "            pl.col('year').max() - pl.col('year').min()\n",
    "        )\n",
    "        .over('model')\n",
    "    )\n",
    "    .filter(pl.col('model_age')>10)\n",
    "    .select(['year','make', 'model','displ','cylinders','trany', 'model_age'])\n",
    "    .sort(by=['model_age'], descending=True)\n",
    ")"
   ]
  },
  {
   "cell_type": "code",
   "execution_count": 19,
   "id": "5de14ddf-343f-4a0e-b9df-7d468d02d565",
   "metadata": {},
   "outputs": [
    {
     "name": "stderr",
     "output_type": "stream",
     "text": [
      "dataframe filtered\n",
      "keys/aggregates are not partitionable: running default HASH AGGREGATION\n"
     ]
    },
    {
     "data": {
      "text/html": [
       "<div><style>\n",
       ".dataframe > thead > tr,\n",
       ".dataframe > tbody > tr {\n",
       "  text-align: right;\n",
       "  white-space: pre-wrap;\n",
       "}\n",
       "</style>\n",
       "<small>shape: (544, 7)</small><table border=\"1\" class=\"dataframe\"><thead><tr><th>make</th><th>model</th><th>year</th><th>displ</th><th>cylinders</th><th>trany</th><th>model_age</th></tr><tr><td>cat</td><td>cat</td><td>list[i16]</td><td>list[f32]</td><td>list[u8]</td><td>list[str]</td><td>list[i16]</td></tr></thead><tbody><tr><td>&quot;Nissan&quot;</td><td>&quot;Sentra&quot;</td><td>[1994, 1994, … 1993]</td><td>[1.6, 1.6, … 2.0]</td><td>[4, 4, … 4]</td><td>[&quot;Automatic 4-spd&quot;, &quot;Manual 5-spd&quot;, … &quot;Manual 5-spd&quot;]</td><td>[41, 41, … 41]</td></tr><tr><td>&quot;Chevrolet&quot;</td><td>&quot;Corvette&quot;</td><td>[1994, 1994, … 1993]</td><td>[5.7, 5.7, … 5.7]</td><td>[8, 8, … 8]</td><td>[&quot;Manual 6-spd&quot;, &quot;Automatic 4-spd&quot;, … &quot;Manual 6-spd&quot;]</td><td>[41, 41, … 41]</td></tr><tr><td>&quot;Honda&quot;</td><td>&quot;Accord&quot;</td><td>[1994, 1994, … 1993]</td><td>[2.2, 2.2, … 2.2]</td><td>[4, 4, … 4]</td><td>[&quot;Automatic 4-spd&quot;, &quot;Automatic 4-spd&quot;, … &quot;Manual 5-spd&quot;]</td><td>[41, 41, … 41]</td></tr><tr><td>&quot;Volkswagen&quot;</td><td>&quot;Jetta&quot;</td><td>[1996, 1996, … 1992]</td><td>[1.9, 2.0, … 1.8]</td><td>[4, 4, … 4]</td><td>[&quot;Manual 5-spd&quot;, &quot;Automatic 4-spd&quot;, … &quot;Manual 5-spd&quot;]</td><td>[41, 41, … 41]</td></tr><tr><td>&quot;Toyota&quot;</td><td>&quot;Corolla&quot;</td><td>[1993, 1993, … 1992]</td><td>[1.6, 1.6, … 1.6]</td><td>[4, 4, … 4]</td><td>[&quot;Automatic 3-spd&quot;, &quot;Manual 5-spd&quot;, … &quot;Manual 5-spd&quot;]</td><td>[41, 41, … 41]</td></tr><tr><td>&hellip;</td><td>&hellip;</td><td>&hellip;</td><td>&hellip;</td><td>&hellip;</td><td>&hellip;</td><td>&hellip;</td></tr><tr><td>&quot;Infiniti&quot;</td><td>&quot;QX60 FWD&quot;</td><td>[2014, 2015, … 2025]</td><td>[3.5, 3.5, … 2.0]</td><td>[6, 6, … 4]</td><td>[&quot;Automatic (AV-S7)&quot;, &quot;Automatic (AV-S7)&quot;, … &quot;Automatic (S9)&quot;]</td><td>[11, 11, … 11]</td></tr><tr><td>&quot;Hyundai&quot;</td><td>&quot;Azera&quot;</td><td>[2006, 2007, … 2017]</td><td>[3.8, 3.8, … 3.3]</td><td>[6, 6, … 6]</td><td>[&quot;Automatic 5-spd&quot;, &quot;Automatic 5-spd&quot;, … &quot;Automatic (S6)&quot;]</td><td>[11, 11, … 11]</td></tr><tr><td>&quot;Ford&quot;</td><td>&quot;Taurus FWD&quot;</td><td>[2008, 2009, … 2019]</td><td>[3.5, 3.5, … 3.5]</td><td>[6, 6, … 6]</td><td>[&quot;Automatic 6-spd&quot;, &quot;Automatic 6-spd&quot;, … &quot;Automatic (S6)&quot;]</td><td>[11, 11, … 11]</td></tr><tr><td>&quot;Scion&quot;</td><td>&quot;tC&quot;</td><td>[2005, 2005, … 2016]</td><td>[2.4, 2.4, … 2.5]</td><td>[4, 4, … 4]</td><td>[&quot;Automatic 4-spd&quot;, &quot;Manual 5-spd&quot;, … &quot;Automatic (S6)&quot;]</td><td>[11, 11, … 11]</td></tr><tr><td>&quot;Toyota&quot;</td><td>&quot;RAV4 AWD&quot;</td><td>[2013, 2014, … 2024]</td><td>[2.5, 2.5, … 2.5]</td><td>[4, 4, … 4]</td><td>[&quot;Automatic (S6)&quot;, &quot;Automatic (S6)&quot;, … &quot;Automatic (S8)&quot;]</td><td>[11, 11, … 11]</td></tr></tbody></table></div>"
      ],
      "text/plain": [
       "shape: (544, 7)\n",
       "+------------+------------+--------------+--------------+-------------+--------------+-------------+\n",
       "| make       | model      | year         | displ        | cylinders   | trany        | model_age   |\n",
       "| ---        | ---        | ---          | ---          | ---         | ---          | ---         |\n",
       "| cat        | cat        | list[i16]    | list[f32]    | list[u8]    | list[str]    | list[i16]   |\n",
       "+==================================================================================================+\n",
       "| Nissan     | Sentra     | [1994, 1994, | [1.6, 1.6, … | [4, 4, … 4] | [\"Automatic  | [41, 41, …  |\n",
       "|            |            | … 1993]      | 2.0]         |             | 4-spd\",      | 41]         |\n",
       "|            |            |              |              |             | \"Manual 5-…  |             |\n",
       "| Chevrolet  | Corvette   | [1994, 1994, | [5.7, 5.7, … | [8, 8, … 8] | [\"Manual     | [41, 41, …  |\n",
       "|            |            | … 1993]      | 5.7]         |             | 6-spd\",      | 41]         |\n",
       "|            |            |              |              |             | \"Automatic   |             |\n",
       "|            |            |              |              |             | 4-…          |             |\n",
       "| Honda      | Accord     | [1994, 1994, | [2.2, 2.2, … | [4, 4, … 4] | [\"Automatic  | [41, 41, …  |\n",
       "|            |            | … 1993]      | 2.2]         |             | 4-spd\",      | 41]         |\n",
       "|            |            |              |              |             | \"Automatic…  |             |\n",
       "| Volkswagen | Jetta      | [1996, 1996, | [1.9, 2.0, … | [4, 4, … 4] | [\"Manual     | [41, 41, …  |\n",
       "|            |            | … 1992]      | 1.8]         |             | 5-spd\",      | 41]         |\n",
       "|            |            |              |              |             | \"Automatic   |             |\n",
       "|            |            |              |              |             | 4-…          |             |\n",
       "| Toyota     | Corolla    | [1993, 1993, | [1.6, 1.6, … | [4, 4, … 4] | [\"Automatic  | [41, 41, …  |\n",
       "|            |            | … 1992]      | 1.6]         |             | 3-spd\",      | 41]         |\n",
       "|            |            |              |              |             | \"Manual 5-…  |             |\n",
       "| …          | …          | …            | …            | …           | …            | …           |\n",
       "| Infiniti   | QX60 FWD   | [2014, 2015, | [3.5, 3.5, … | [6, 6, … 4] | [\"Automatic  | [11, 11, …  |\n",
       "|            |            | … 2025]      | 2.0]         |             | (AV-S7)\",    | 11]         |\n",
       "|            |            |              |              |             | \"Automat…    |             |\n",
       "| Hyundai    | Azera      | [2006, 2007, | [3.8, 3.8, … | [6, 6, … 6] | [\"Automatic  | [11, 11, …  |\n",
       "|            |            | … 2017]      | 3.3]         |             | 5-spd\",      | 11]         |\n",
       "|            |            |              |              |             | \"Automatic…  |             |\n",
       "| Ford       | Taurus FWD | [2008, 2009, | [3.5, 3.5, … | [6, 6, … 6] | [\"Automatic  | [11, 11, …  |\n",
       "|            |            | … 2019]      | 3.5]         |             | 6-spd\",      | 11]         |\n",
       "|            |            |              |              |             | \"Automatic…  |             |\n",
       "| Scion      | tC         | [2005, 2005, | [2.4, 2.4, … | [4, 4, … 4] | [\"Automatic  | [11, 11, …  |\n",
       "|            |            | … 2016]      | 2.5]         |             | 4-spd\",      | 11]         |\n",
       "|            |            |              |              |             | \"Manual 5-…  |             |\n",
       "| Toyota     | RAV4 AWD   | [2013, 2014, | [2.5, 2.5, … | [4, 4, … 4] | [\"Automatic  | [11, 11, …  |\n",
       "|            |            | … 2024]      | 2.5]         |             | (S6)\",       | 11]         |\n",
       "|            |            |              |              |             | \"Automatic … |             |\n",
       "+------------+------------+--------------+--------------+-------------+--------------+-------------+"
      ]
     },
     "execution_count": 19,
     "metadata": {},
     "output_type": "execute_result"
    }
   ],
   "source": [
    "# Attempt at further summary\n",
    "(\n",
    "    autos\n",
    "    .with_columns(\n",
    "        model_age=(\n",
    "            pl.col('year').max() - pl.col('year').min()\n",
    "        )\n",
    "        .over('model')\n",
    "    )\n",
    "    .filter(pl.col('model_age')>10)\n",
    "    .select(['year','make', 'model','displ','cylinders','trany', 'model_age'])\n",
    "    .group_by(['make', 'model'])\n",
    "    .all()\n",
    "    .sort(by=pl.col('model_age').list.max(), descending=True)\n",
    ")"
   ]
  },
  {
   "cell_type": "markdown",
   "id": "ab2b7b20-136b-4489-a09b-e532c3f2ee32",
   "metadata": {},
   "source": [
    "---\n",
    "# 5.8 Manipulating Data with Conditional Expressions\n",
    "\n",
    "[back to Top](#Top)\n",
    "\n",
    "* A very common operation is the equivalent of an if-else statement to update a column based on a condition.\n",
    "* Here, assume we want to simplify the fuel type to natural gas, gas, diesel, and electric.\n",
    "* First, example the values for fuelType in a pseudo .value_counts\n",
    "* In Polars, we express this via `pl.group_by(col).len()`"
   ]
  },
  {
   "cell_type": "code",
   "execution_count": 20,
   "id": "2a3683f8-f274-4d0b-9891-9760f785d708",
   "metadata": {},
   "outputs": [
    {
     "name": "stderr",
     "output_type": "stream",
     "text": [
      "known unique values: 15\n",
      "run PARTITIONED HASH AGGREGATION\n"
     ]
    },
    {
     "data": {
      "text/html": [
       "<div><style>\n",
       ".dataframe > thead > tr,\n",
       ".dataframe > tbody > tr {\n",
       "  text-align: right;\n",
       "  white-space: pre-wrap;\n",
       "}\n",
       "</style>\n",
       "<small>shape: (15, 2)</small><table border=\"1\" class=\"dataframe\"><thead><tr><th>fuelType</th><th>len</th></tr><tr><td>cat</td><td>u32</td></tr></thead><tbody><tr><td>&quot;Regular&quot;</td><td>29131</td></tr><tr><td>&quot;Premium&quot;</td><td>14699</td></tr><tr><td>&quot;Gasoline or E85&quot;</td><td>1402</td></tr><tr><td>&quot;Diesel&quot;</td><td>1284</td></tr><tr><td>&quot;Electricity&quot;</td><td>930</td></tr><tr><td>&hellip;</td><td>&hellip;</td></tr><tr><td>&quot;Premium Gas or Electricity&quot;</td><td>55</td></tr><tr><td>&quot;Hydrogen&quot;</td><td>32</td></tr><tr><td>&quot;Gasoline or natural gas&quot;</td><td>20</td></tr><tr><td>&quot;Gasoline or propane&quot;</td><td>8</td></tr><tr><td>&quot;Regular Gas or Electricity&quot;</td><td>4</td></tr></tbody></table></div>"
      ],
      "text/plain": [
       "shape: (15, 2)\n",
       "+----------------------------+-------+\n",
       "| fuelType                   | len   |\n",
       "| ---                        | ---   |\n",
       "| cat                        | u32   |\n",
       "+====================================+\n",
       "| Regular                    | 29131 |\n",
       "| Premium                    | 14699 |\n",
       "| Gasoline or E85            | 1402  |\n",
       "| Diesel                     | 1284  |\n",
       "| Electricity                | 930   |\n",
       "| …                          | …     |\n",
       "| Premium Gas or Electricity | 55    |\n",
       "| Hydrogen                   | 32    |\n",
       "| Gasoline or natural gas    | 20    |\n",
       "| Gasoline or propane        | 8     |\n",
       "| Regular Gas or Electricity | 4     |\n",
       "+----------------------------+-------+"
      ]
     },
     "execution_count": 20,
     "metadata": {},
     "output_type": "execute_result"
    }
   ],
   "source": [
    "(\n",
    "    autos\n",
    "    .group_by('fuelType')\n",
    "    .len()\n",
    "    .sort(by='len', descending=True)\n",
    ")"
   ]
  },
  {
   "cell_type": "markdown",
   "id": "4353265c-767a-4a0a-a616-102c4effc02c",
   "metadata": {},
   "source": [
    "* There is a native `.value_counts()` expression in Polars.\n",
    "* This returns a struct.\n",
    "* **Because it is an expression and not a context, it is not dependent on having a dataframe around.**\n",
    "* **It also enable the query engine to perform optimizations.**"
   ]
  },
  {
   "cell_type": "code",
   "execution_count": 21,
   "id": "2a942142-b65c-4e2a-a1a5-0c2b739edbae",
   "metadata": {},
   "outputs": [
    {
     "data": {
      "text/html": [
       "<div><style>\n",
       ".dataframe > thead > tr,\n",
       ".dataframe > tbody > tr {\n",
       "  text-align: right;\n",
       "  white-space: pre-wrap;\n",
       "}\n",
       "</style>\n",
       "<small>shape: (15, 1)</small><table border=\"1\" class=\"dataframe\"><thead><tr><th>fuelType</th></tr><tr><td>struct[2]</td></tr></thead><tbody><tr><td>{&quot;Regular&quot;,29131}</td></tr><tr><td>{&quot;Premium&quot;,14699}</td></tr><tr><td>{&quot;Gasoline or E85&quot;,1402}</td></tr><tr><td>{&quot;Diesel&quot;,1284}</td></tr><tr><td>{&quot;Electricity&quot;,930}</td></tr><tr><td>&hellip;</td></tr><tr><td>{&quot;Premium Gas or Electricity&quot;,55}</td></tr><tr><td>{&quot;Hydrogen&quot;,32}</td></tr><tr><td>{&quot;Gasoline or natural gas&quot;,20}</td></tr><tr><td>{&quot;Gasoline or propane&quot;,8}</td></tr><tr><td>{&quot;Regular Gas or Electricity&quot;,4}</td></tr></tbody></table></div>"
      ],
      "text/plain": [
       "shape: (15, 1)\n",
       "+---------------------------------+\n",
       "| fuelType                        |\n",
       "| ---                             |\n",
       "| struct[2]                       |\n",
       "+=================================+\n",
       "| {\"Regular\",29131}               |\n",
       "| {\"Premium\",14699}               |\n",
       "| {\"Gasoline or E85\",1402}        |\n",
       "| {\"Diesel\",1284}                 |\n",
       "| {\"Electricity\",930}             |\n",
       "| …                               |\n",
       "| {\"Premium Gas or Electricity\",… |\n",
       "| {\"Hydrogen\",32}                 |\n",
       "| {\"Gasoline or natural gas\",20}  |\n",
       "| {\"Gasoline or propane\",8}       |\n",
       "| {\"Regular Gas or Electricity\",… |\n",
       "+---------------------------------+"
      ]
     },
     "execution_count": 21,
     "metadata": {},
     "output_type": "execute_result"
    }
   ],
   "source": [
    "(\n",
    "    autos\n",
    "    .select(\n",
    "        pl.col('fuelType')\n",
    "        .value_counts(sort=True)\n",
    "    )\n",
    ")"
   ]
  },
  {
   "cell_type": "markdown",
   "id": "43fa6d3f-1e19-4388-b294-6705a48b6f56",
   "metadata": {},
   "source": [
    "* If we wanted the output individual columns, use `.unnest()`.\n",
    "* https://docs.pola.rs/py-polars/html/reference/dataframe/api/polars.DataFrame.unnest.html#polars.DataFrame.unnest\n",
    "* Decompose struct columns into separate columns for each of their fields.\n",
    "* The new columns will be inserted into the dataframe at the location of the struct column."
   ]
  },
  {
   "cell_type": "code",
   "execution_count": 22,
   "id": "11abdc8d-5ff2-4728-9b73-56c529f42f79",
   "metadata": {},
   "outputs": [
    {
     "data": {
      "text/html": [
       "<div><style>\n",
       ".dataframe > thead > tr,\n",
       ".dataframe > tbody > tr {\n",
       "  text-align: right;\n",
       "  white-space: pre-wrap;\n",
       "}\n",
       "</style>\n",
       "<small>shape: (15, 2)</small><table border=\"1\" class=\"dataframe\"><thead><tr><th>fuelType</th><th>count</th></tr><tr><td>cat</td><td>u32</td></tr></thead><tbody><tr><td>&quot;Regular&quot;</td><td>29131</td></tr><tr><td>&quot;Premium&quot;</td><td>14699</td></tr><tr><td>&quot;Gasoline or E85&quot;</td><td>1402</td></tr><tr><td>&quot;Diesel&quot;</td><td>1284</td></tr><tr><td>&quot;Electricity&quot;</td><td>930</td></tr><tr><td>&hellip;</td><td>&hellip;</td></tr><tr><td>&quot;Premium Gas or Electricity&quot;</td><td>55</td></tr><tr><td>&quot;Hydrogen&quot;</td><td>32</td></tr><tr><td>&quot;Gasoline or natural gas&quot;</td><td>20</td></tr><tr><td>&quot;Gasoline or propane&quot;</td><td>8</td></tr><tr><td>&quot;Regular Gas or Electricity&quot;</td><td>4</td></tr></tbody></table></div>"
      ],
      "text/plain": [
       "shape: (15, 2)\n",
       "+----------------------------+-------+\n",
       "| fuelType                   | count |\n",
       "| ---                        | ---   |\n",
       "| cat                        | u32   |\n",
       "+====================================+\n",
       "| Regular                    | 29131 |\n",
       "| Premium                    | 14699 |\n",
       "| Gasoline or E85            | 1402  |\n",
       "| Diesel                     | 1284  |\n",
       "| Electricity                | 930   |\n",
       "| …                          | …     |\n",
       "| Premium Gas or Electricity | 55    |\n",
       "| Hydrogen                   | 32    |\n",
       "| Gasoline or natural gas    | 20    |\n",
       "| Gasoline or propane        | 8     |\n",
       "| Regular Gas or Electricity | 4     |\n",
       "+----------------------------+-------+"
      ]
     },
     "execution_count": 22,
     "metadata": {},
     "output_type": "execute_result"
    }
   ],
   "source": [
    "(\n",
    "    autos\n",
    "    .select(\n",
    "        pl.col('fuelType')\n",
    "        .value_counts(sort=True)\n",
    "    )\n",
    "    .unnest('fuelType')\n",
    ")"
   ]
  },
  {
   "cell_type": "markdown",
   "id": "514f064c-21d9-43c2-8eb4-69150c60c789",
   "metadata": {},
   "source": [
    "* We can also pull off just one column by combining the `.struct` attribute with an index operation."
   ]
  },
  {
   "cell_type": "code",
   "execution_count": 23,
   "id": "a0c1b131-c25f-4735-bae2-466f4af14c96",
   "metadata": {},
   "outputs": [
    {
     "data": {
      "text/html": [
       "<div><style>\n",
       ".dataframe > thead > tr,\n",
       ".dataframe > tbody > tr {\n",
       "  text-align: right;\n",
       "  white-space: pre-wrap;\n",
       "}\n",
       "</style>\n",
       "<small>shape: (15, 1)</small><table border=\"1\" class=\"dataframe\"><thead><tr><th>fuelType</th></tr><tr><td>cat</td></tr></thead><tbody><tr><td>&quot;Regular&quot;</td></tr><tr><td>&quot;Premium&quot;</td></tr><tr><td>&quot;Gasoline or E85&quot;</td></tr><tr><td>&quot;Diesel&quot;</td></tr><tr><td>&quot;Electricity&quot;</td></tr><tr><td>&hellip;</td></tr><tr><td>&quot;Premium Gas or Electricity&quot;</td></tr><tr><td>&quot;Hydrogen&quot;</td></tr><tr><td>&quot;Gasoline or natural gas&quot;</td></tr><tr><td>&quot;Gasoline or propane&quot;</td></tr><tr><td>&quot;Regular Gas or Electricity&quot;</td></tr></tbody></table></div>"
      ],
      "text/plain": [
       "shape: (15, 1)\n",
       "+----------------------------+\n",
       "| fuelType                   |\n",
       "| ---                        |\n",
       "| cat                        |\n",
       "+============================+\n",
       "| Regular                    |\n",
       "| Premium                    |\n",
       "| Gasoline or E85            |\n",
       "| Diesel                     |\n",
       "| Electricity                |\n",
       "| …                          |\n",
       "| Premium Gas or Electricity |\n",
       "| Hydrogen                   |\n",
       "| Gasoline or natural gas    |\n",
       "| Gasoline or propane        |\n",
       "| Regular Gas or Electricity |\n",
       "+----------------------------+"
      ]
     },
     "execution_count": 23,
     "metadata": {},
     "output_type": "execute_result"
    }
   ],
   "source": [
    "(\n",
    "    autos\n",
    "    .select(\n",
    "        pl.col('fuelType')\n",
    "        .value_counts(sort=True)\n",
    "        .struct[0]\n",
    "    )\n",
    ")"
   ]
  },
  {
   "cell_type": "markdown",
   "id": "8b04f5df-1847-44f0-bab4-9631893785ff",
   "metadata": {},
   "source": [
    "---\n",
    "**Back to Manipulating Data with Conditional Expressions**\n",
    "\n",
    "* Make a new column called *fuelTypeSimple* and set it to the value of *FuelType*.\n",
    "* We will build up an expression with the Polars `.when()`, `.then()`, `otherwise()`.\n",
    "* The pseudocode in Polars will look like:\n",
    "\n",
    "```\n",
    "(\n",
    "    pl\n",
    "    .when(COND_EXPR1)\n",
    "    .then(EXPR1)\n",
    "    .when(COND_EXPR2)\n",
    "    .then(EXPR2)\n",
    "    ... # more when's\n",
    "    .otherwise(EXPRN) # optional\n",
    ")\n",
    "```"
   ]
  },
  {
   "cell_type": "code",
   "execution_count": 24,
   "id": "f4444f11-1059-49da-8caf-6ff6ff0e2c78",
   "metadata": {},
   "outputs": [
    {
     "data": {
      "text/html": [
       ".when(col(\"fuelType\").strict_cast(String).str.contains([String(Diesel)])).then(String(Diesel)).otherwise(.when(col(\"fuelType\").strict_cast(String).str.contains([String(CNG)])).then(String(CNG)).otherwise(.when(col(\"fuelType\").strict_cast(String).str.contains([String(Electricity)])).then(String(Electric)).otherwise(String(Gasoline))))"
      ],
      "text/plain": [
       "<Expr ['.when(col(\"fuelType\").strict_c…'] at 0x125965BD0>"
      ]
     },
     "execution_count": 24,
     "metadata": {},
     "output_type": "execute_result"
    }
   ],
   "source": [
    "fuel_str = pl.col('fuelType').cast(pl.String) # cast to enable str attribute and methods.\n",
    "\n",
    "simple = (\n",
    "    pl\n",
    "    .when(fuel_str.str.contains('Diesel')).then(pl.lit('Diesel'))\n",
    "    .when(fuel_str.str.contains('CNG')).then(pl.lit('CNG'))\n",
    "    .when(fuel_str.str.contains('Electricity')).then(pl.lit('Electric'))\n",
    "    .otherwise(pl.lit('Gasoline'))\n",
    ")\n",
    "\n",
    "simple"
   ]
  },
  {
   "cell_type": "code",
   "execution_count": 25,
   "id": "cde72dc3-a38b-4f0d-9343-67bd813ad920",
   "metadata": {},
   "outputs": [
    {
     "data": {
      "text/html": [
       "<div><style>\n",
       ".dataframe > thead > tr,\n",
       ".dataframe > tbody > tr {\n",
       "  text-align: right;\n",
       "  white-space: pre-wrap;\n",
       "}\n",
       "</style>\n",
       "<small>shape: (48_202, 4)</small><table border=\"1\" class=\"dataframe\"><thead><tr><th>year</th><th>make</th><th>model</th><th>fuelTypeSimple</th></tr><tr><td>i16</td><td>cat</td><td>cat</td><td>str</td></tr></thead><tbody><tr><td>1985</td><td>&quot;Alfa Romeo&quot;</td><td>&quot;Spider Veloce 2000&quot;</td><td>&quot;Gasoline&quot;</td></tr><tr><td>1985</td><td>&quot;Ferrari&quot;</td><td>&quot;Testarossa&quot;</td><td>&quot;Gasoline&quot;</td></tr><tr><td>1985</td><td>&quot;Dodge&quot;</td><td>&quot;Charger&quot;</td><td>&quot;Gasoline&quot;</td></tr><tr><td>1985</td><td>&quot;Dodge&quot;</td><td>&quot;B150/B250 Wagon 2WD&quot;</td><td>&quot;Gasoline&quot;</td></tr><tr><td>1993</td><td>&quot;Subaru&quot;</td><td>&quot;Legacy AWD Turbo&quot;</td><td>&quot;Gasoline&quot;</td></tr><tr><td>&hellip;</td><td>&hellip;</td><td>&hellip;</td><td>&hellip;</td></tr><tr><td>1993</td><td>&quot;Subaru&quot;</td><td>&quot;Legacy&quot;</td><td>&quot;Gasoline&quot;</td></tr><tr><td>1993</td><td>&quot;Subaru&quot;</td><td>&quot;Legacy&quot;</td><td>&quot;Gasoline&quot;</td></tr><tr><td>1993</td><td>&quot;Subaru&quot;</td><td>&quot;Legacy AWD&quot;</td><td>&quot;Gasoline&quot;</td></tr><tr><td>1993</td><td>&quot;Subaru&quot;</td><td>&quot;Legacy AWD&quot;</td><td>&quot;Gasoline&quot;</td></tr><tr><td>1993</td><td>&quot;Subaru&quot;</td><td>&quot;Legacy AWD Turbo&quot;</td><td>&quot;Gasoline&quot;</td></tr></tbody></table></div>"
      ],
      "text/plain": [
       "shape: (48_202, 4)\n",
       "+------+------------+---------------------+----------------+\n",
       "| year | make       | model               | fuelTypeSimple |\n",
       "| ---  | ---        | ---                 | ---            |\n",
       "| i16  | cat        | cat                 | str            |\n",
       "+==========================================================+\n",
       "| 1985 | Alfa Romeo | Spider Veloce 2000  | Gasoline       |\n",
       "| 1985 | Ferrari    | Testarossa          | Gasoline       |\n",
       "| 1985 | Dodge      | Charger             | Gasoline       |\n",
       "| 1985 | Dodge      | B150/B250 Wagon 2WD | Gasoline       |\n",
       "| 1993 | Subaru     | Legacy AWD Turbo    | Gasoline       |\n",
       "| …    | …          | …                   | …              |\n",
       "| 1993 | Subaru     | Legacy              | Gasoline       |\n",
       "| 1993 | Subaru     | Legacy              | Gasoline       |\n",
       "| 1993 | Subaru     | Legacy AWD          | Gasoline       |\n",
       "| 1993 | Subaru     | Legacy AWD          | Gasoline       |\n",
       "| 1993 | Subaru     | Legacy AWD Turbo    | Gasoline       |\n",
       "+------+------------+---------------------+----------------+"
      ]
     },
     "execution_count": 25,
     "metadata": {},
     "output_type": "execute_result"
    }
   ],
   "source": [
    "(\n",
    "    autos\n",
    "    .with_columns(fuelTypeSimple = simple)\n",
    "    .select(['year', 'make', 'model', 'fuelTypeSimple'])\n",
    ")"
   ]
  },
  {
   "cell_type": "code",
   "execution_count": 26,
   "id": "9edfe1b6-69c9-4e1a-9a54-4a822a363c44",
   "metadata": {},
   "outputs": [
    {
     "name": "stderr",
     "output_type": "stream",
     "text": [
      "estimated unique values: 3\n",
      "run PARTITIONED HASH AGGREGATION\n"
     ]
    },
    {
     "data": {
      "text/html": [
       "<div><style>\n",
       ".dataframe > thead > tr,\n",
       ".dataframe > tbody > tr {\n",
       "  text-align: right;\n",
       "  white-space: pre-wrap;\n",
       "}\n",
       "</style>\n",
       "<small>shape: (4, 2)</small><table border=\"1\" class=\"dataframe\"><thead><tr><th>fuelTypeSimple</th><th>len</th></tr><tr><td>str</td><td>u32</td></tr></thead><tbody><tr><td>&quot;CNG&quot;</td><td>60</td></tr><tr><td>&quot;Electric&quot;</td><td>1272</td></tr><tr><td>&quot;Gasoline&quot;</td><td>45586</td></tr><tr><td>&quot;Diesel&quot;</td><td>1284</td></tr></tbody></table></div>"
      ],
      "text/plain": [
       "shape: (4, 2)\n",
       "+----------------+-------+\n",
       "| fuelTypeSimple | len   |\n",
       "| ---            | ---   |\n",
       "| str            | u32   |\n",
       "+========================+\n",
       "| CNG            | 60    |\n",
       "| Electric       | 1272  |\n",
       "| Gasoline       | 45586 |\n",
       "| Diesel         | 1284  |\n",
       "+----------------+-------+"
      ]
     },
     "execution_count": 26,
     "metadata": {},
     "output_type": "execute_result"
    }
   ],
   "source": [
    "# variation using group by for summary\n",
    "(\n",
    "    autos\n",
    "    .with_columns(fuelTypeSimple = simple)\n",
    "    .select(['year', 'make', 'model', 'fuelTypeSimple'])\n",
    "    .group_by('fuelTypeSimple')\n",
    "    .len()\n",
    ")"
   ]
  },
  {
   "cell_type": "markdown",
   "id": "07c1aa1a-06c6-4e44-b7a2-34da5dc999d2",
   "metadata": {},
   "source": [
    "* We have validated our expression works.\n",
    "* Next, filter for the *CNG* rows"
   ]
  },
  {
   "cell_type": "code",
   "execution_count": 27,
   "id": "a1f983fd-74c5-431e-8402-72238f9df47a",
   "metadata": {},
   "outputs": [
    {
     "name": "stderr",
     "output_type": "stream",
     "text": [
      "dataframe filtered\n"
     ]
    },
    {
     "data": {
      "text/html": [
       "<div><style>\n",
       ".dataframe > thead > tr,\n",
       ".dataframe > tbody > tr {\n",
       "  text-align: right;\n",
       "  white-space: pre-wrap;\n",
       "}\n",
       "</style>\n",
       "<small>shape: (60, 4)</small><table border=\"1\" class=\"dataframe\"><thead><tr><th>year</th><th>make</th><th>model</th><th>fuelTypeSimple</th></tr><tr><td>i16</td><td>cat</td><td>cat</td><td>str</td></tr></thead><tbody><tr><td>1996</td><td>&quot;Ford&quot;</td><td>&quot;Crown Victoria CNG&quot;</td><td>&quot;CNG&quot;</td></tr><tr><td>1997</td><td>&quot;Ford&quot;</td><td>&quot;Crown Victoria CNG&quot;</td><td>&quot;CNG&quot;</td></tr><tr><td>1998</td><td>&quot;Honda&quot;</td><td>&quot;Civic CNG&quot;</td><td>&quot;CNG&quot;</td></tr><tr><td>1998</td><td>&quot;Ford&quot;</td><td>&quot;F250 Pickup 2WD CNG&quot;</td><td>&quot;CNG&quot;</td></tr><tr><td>1998</td><td>&quot;Ford&quot;</td><td>&quot;E250 Econoline 2WD CNG&quot;</td><td>&quot;CNG&quot;</td></tr><tr><td>&hellip;</td><td>&hellip;</td><td>&hellip;</td><td>&hellip;</td></tr><tr><td>2012</td><td>&quot;Honda&quot;</td><td>&quot;Civic Natural Gas&quot;</td><td>&quot;CNG&quot;</td></tr><tr><td>2013</td><td>&quot;Honda&quot;</td><td>&quot;Civic Natural Gas&quot;</td><td>&quot;CNG&quot;</td></tr><tr><td>2014</td><td>&quot;Honda&quot;</td><td>&quot;Civic Natural Gas&quot;</td><td>&quot;CNG&quot;</td></tr><tr><td>2014</td><td>&quot;Mobility Ventures LLC&quot;</td><td>&quot;MV-1 CNG&quot;</td><td>&quot;CNG&quot;</td></tr><tr><td>2015</td><td>&quot;Honda&quot;</td><td>&quot;Civic Natural Gas&quot;</td><td>&quot;CNG&quot;</td></tr></tbody></table></div>"
      ],
      "text/plain": [
       "shape: (60, 4)\n",
       "+------+-----------------------+------------------------+----------------+\n",
       "| year | make                  | model                  | fuelTypeSimple |\n",
       "| ---  | ---                   | ---                    | ---            |\n",
       "| i16  | cat                   | cat                    | str            |\n",
       "+========================================================================+\n",
       "| 1996 | Ford                  | Crown Victoria CNG     | CNG            |\n",
       "| 1997 | Ford                  | Crown Victoria CNG     | CNG            |\n",
       "| 1998 | Honda                 | Civic CNG              | CNG            |\n",
       "| 1998 | Ford                  | F250 Pickup 2WD CNG    | CNG            |\n",
       "| 1998 | Ford                  | E250 Econoline 2WD CNG | CNG            |\n",
       "| …    | …                     | …                      | …              |\n",
       "| 2012 | Honda                 | Civic Natural Gas      | CNG            |\n",
       "| 2013 | Honda                 | Civic Natural Gas      | CNG            |\n",
       "| 2014 | Honda                 | Civic Natural Gas      | CNG            |\n",
       "| 2014 | Mobility Ventures LLC | MV-1 CNG               | CNG            |\n",
       "| 2015 | Honda                 | Civic Natural Gas      | CNG            |\n",
       "+------+-----------------------+------------------------+----------------+"
      ]
     },
     "execution_count": 27,
     "metadata": {},
     "output_type": "execute_result"
    }
   ],
   "source": [
    "fuel_str = pl.col('fuelType').cast(pl.String)\n",
    "\n",
    "simple = (\n",
    "    pl\n",
    "    .when(fuel_str.str.contains('Diesel')).then(pl.lit('Diesel'))\n",
    "    .when(fuel_str.str.contains('CNG')).then(pl.lit('CNG'))\n",
    "    .when(fuel_str.str.contains('Electricity')).then(pl.lit('Electric'))\n",
    "    .otherwise(pl.lit('Gasoline'))\n",
    ")\n",
    "\n",
    "(\n",
    "    autos\n",
    "    # Use .with_columns to enable access to fuelTypeSimple variable in immediately following code\n",
    "    .with_columns(fuelTypeSimple=simple)\n",
    "    .filter(pl.col('fuelTypeSimple')=='CNG')\n",
    "    .select(['year', 'make', 'model', 'fuelTypeSimple'])\n",
    ")"
   ]
  },
  {
   "cell_type": "markdown",
   "id": "4d12ab4c-bb5c-423f-814f-3944cf23299c",
   "metadata": {},
   "source": [
    "* We don't even need to create a new columns first.\n",
    "* We can inline the conditional expressions in `.filter()`\n",
    "* However, it is much clearer to create the column to see the data and inspect it is correct, etc\n",
    "* Without the *fuelTypeSimple* column, it is very hard to see what this data is about!"
   ]
  },
  {
   "cell_type": "code",
   "execution_count": 28,
   "id": "ffec44cd-a7c5-4116-a8bb-cd331fdb0948",
   "metadata": {},
   "outputs": [
    {
     "name": "stderr",
     "output_type": "stream",
     "text": [
      "dataframe filtered\n"
     ]
    },
    {
     "data": {
      "text/html": [
       "<div><style>\n",
       ".dataframe > thead > tr,\n",
       ".dataframe > tbody > tr {\n",
       "  text-align: right;\n",
       "  white-space: pre-wrap;\n",
       "}\n",
       "</style>\n",
       "<small>shape: (60, 15)</small><table border=\"1\" class=\"dataframe\"><thead><tr><th>year</th><th>make</th><th>model</th><th>displ</th><th>cylinders</th><th>trany</th><th>drive</th><th>VClass</th><th>fuelType</th><th>barrels08</th><th>city08</th><th>highway08</th><th>createdOn</th><th>is_automatic</th><th>num_gears</th></tr><tr><td>i16</td><td>cat</td><td>cat</td><td>f32</td><td>u8</td><td>str</td><td>cat</td><td>cat</td><td>cat</td><td>f32</td><td>u8</td><td>u8</td><td>datetime[μs]</td><td>str</td><td>u8</td></tr></thead><tbody><tr><td>1996</td><td>&quot;Ford&quot;</td><td>&quot;Crown Victoria CNG&quot;</td><td>4.6</td><td>8</td><td>&quot;Automatic 4-spd&quot;</td><td>&quot;Rear-Wheel Drive&quot;</td><td>&quot;Large Cars&quot;</td><td>&quot;CNG&quot;</td><td>0.081083</td><td>15</td><td>24</td><td>2013-01-01 00:00:00</td><td>&quot;true&quot;</td><td>4</td></tr><tr><td>1997</td><td>&quot;Ford&quot;</td><td>&quot;Crown Victoria CNG&quot;</td><td>4.6</td><td>8</td><td>&quot;Automatic 4-spd&quot;</td><td>&quot;Rear-Wheel Drive&quot;</td><td>&quot;Large Cars&quot;</td><td>&quot;CNG&quot;</td><td>0.081083</td><td>15</td><td>23</td><td>2013-01-01 00:00:00</td><td>&quot;true&quot;</td><td>4</td></tr><tr><td>1998</td><td>&quot;Honda&quot;</td><td>&quot;Civic CNG&quot;</td><td>1.6</td><td>4</td><td>&quot;Automatic 4-spd&quot;</td><td>&quot;Front-Wheel Drive&quot;</td><td>&quot;Subcompact Cars&quot;</td><td>&quot;CNG&quot;</td><td>0.054056</td><td>24</td><td>31</td><td>2013-01-01 00:00:00</td><td>&quot;true&quot;</td><td>4</td></tr><tr><td>1998</td><td>&quot;Ford&quot;</td><td>&quot;F250 Pickup 2WD CNG&quot;</td><td>5.4</td><td>8</td><td>&quot;Automatic 4-spd&quot;</td><td>&quot;Rear-Wheel Drive&quot;</td><td>&quot;Standard Pickup Trucks 2WD&quot;</td><td>&quot;CNG&quot;</td><td>0.132682</td><td>10</td><td>14</td><td>2013-01-01 00:00:00</td><td>&quot;true&quot;</td><td>4</td></tr><tr><td>1998</td><td>&quot;Ford&quot;</td><td>&quot;E250 Econoline 2WD CNG&quot;</td><td>5.4</td><td>8</td><td>&quot;Automatic 4-spd&quot;</td><td>&quot;Rear-Wheel Drive&quot;</td><td>&quot;Vans, Cargo Type&quot;</td><td>&quot;CNG&quot;</td><td>0.132682</td><td>10</td><td>13</td><td>2013-01-01 00:00:00</td><td>&quot;true&quot;</td><td>4</td></tr><tr><td>&hellip;</td><td>&hellip;</td><td>&hellip;</td><td>&hellip;</td><td>&hellip;</td><td>&hellip;</td><td>&hellip;</td><td>&hellip;</td><td>&hellip;</td><td>&hellip;</td><td>&hellip;</td><td>&hellip;</td><td>&hellip;</td><td>&hellip;</td><td>&hellip;</td></tr><tr><td>2012</td><td>&quot;Honda&quot;</td><td>&quot;Civic Natural Gas&quot;</td><td>1.8</td><td>4</td><td>&quot;Automatic 5-spd&quot;</td><td>&quot;Front-Wheel Drive&quot;</td><td>&quot;Compact Cars&quot;</td><td>&quot;CNG&quot;</td><td>0.047081</td><td>27</td><td>38</td><td>2013-01-01 00:00:00</td><td>&quot;true&quot;</td><td>5</td></tr><tr><td>2013</td><td>&quot;Honda&quot;</td><td>&quot;Civic Natural Gas&quot;</td><td>1.8</td><td>4</td><td>&quot;Automatic 5-spd&quot;</td><td>&quot;Front-Wheel Drive&quot;</td><td>&quot;Compact Cars&quot;</td><td>&quot;CNG&quot;</td><td>0.047081</td><td>27</td><td>38</td><td>2013-01-01 00:00:00</td><td>&quot;true&quot;</td><td>5</td></tr><tr><td>2014</td><td>&quot;Honda&quot;</td><td>&quot;Civic Natural Gas&quot;</td><td>1.8</td><td>4</td><td>&quot;Automatic 5-spd&quot;</td><td>&quot;Front-Wheel Drive&quot;</td><td>&quot;Compact Cars&quot;</td><td>&quot;CNG&quot;</td><td>0.047081</td><td>27</td><td>38</td><td>2014-02-17 00:00:00</td><td>&quot;true&quot;</td><td>5</td></tr><tr><td>2014</td><td>&quot;Mobility Ventures LLC&quot;</td><td>&quot;MV-1 CNG&quot;</td><td>4.6</td><td>8</td><td>&quot;Automatic 4-spd&quot;</td><td>&quot;Rear-Wheel Drive&quot;</td><td>&quot;Special Purpose Vehicle 2WD&quot;</td><td>&quot;CNG&quot;</td><td>0.112269</td><td>12</td><td>16</td><td>2014-09-10 00:00:00</td><td>&quot;true&quot;</td><td>4</td></tr><tr><td>2015</td><td>&quot;Honda&quot;</td><td>&quot;Civic Natural Gas&quot;</td><td>1.8</td><td>4</td><td>&quot;Automatic 5-spd&quot;</td><td>&quot;Front-Wheel Drive&quot;</td><td>&quot;Compact Cars&quot;</td><td>&quot;CNG&quot;</td><td>0.047081</td><td>27</td><td>38</td><td>2014-11-06 00:00:00</td><td>&quot;true&quot;</td><td>5</td></tr></tbody></table></div>"
      ],
      "text/plain": [
       "shape: (60, 15)\n",
       "+-----+-----+-----+-----+-----+-----+-----+-----+-----+-----+-----+--------+-------+-------+-------+\n",
       "| yea | mak | mod | dis | cyl | tra | dri | VCl | fue | bar | cit | highwa | creat | is_au | num_g |\n",
       "| r   | e   | el  | pl  | ind | ny  | ve  | ass | lTy | rel | y08 | y08    | edOn  | tomat | ears  |\n",
       "| --- | --- | --- | --- | ers | --- | --- | --- | pe  | s08 | --- | ---    | ---   | ic    | ---   |\n",
       "| i16 | cat | cat | f32 | --- | str | cat | cat | --- | --- | u8  | u8     | datet | ---   | u8    |\n",
       "|     |     |     |     | u8  |     |     |     | cat | f32 |     |        | ime[μ | str   |       |\n",
       "|     |     |     |     |     |     |     |     |     |     |     |        | s]    |       |       |\n",
       "+==================================================================================================+\n",
       "| 199 | For | Cro | 4.6 | 8   | Aut | Rea | Lar | CNG | 0.0 | 15  | 24     | 2013- | true  | 4     |\n",
       "| 6   | d   | wn  |     |     | oma | r-W | ge  |     | 810 |     |        | 01-01 |       |       |\n",
       "|     |     | Vic |     |     | tic | hee | Car |     | 83  |     |        | 00:00 |       |       |\n",
       "|     |     | tor |     |     | 4-s | l   | s   |     |     |     |        | :00   |       |       |\n",
       "|     |     | ia  |     |     | pd  | Dri |     |     |     |     |        |       |       |       |\n",
       "|     |     | CNG |     |     |     | ve  |     |     |     |     |        |       |       |       |\n",
       "| 199 | For | Cro | 4.6 | 8   | Aut | Rea | Lar | CNG | 0.0 | 15  | 23     | 2013- | true  | 4     |\n",
       "| 7   | d   | wn  |     |     | oma | r-W | ge  |     | 810 |     |        | 01-01 |       |       |\n",
       "|     |     | Vic |     |     | tic | hee | Car |     | 83  |     |        | 00:00 |       |       |\n",
       "|     |     | tor |     |     | 4-s | l   | s   |     |     |     |        | :00   |       |       |\n",
       "|     |     | ia  |     |     | pd  | Dri |     |     |     |     |        |       |       |       |\n",
       "|     |     | CNG |     |     |     | ve  |     |     |     |     |        |       |       |       |\n",
       "| 199 | Hon | Civ | 1.6 | 4   | Aut | Fro | Sub | CNG | 0.0 | 24  | 31     | 2013- | true  | 4     |\n",
       "| 8   | da  | ic  |     |     | oma | nt- | com |     | 540 |     |        | 01-01 |       |       |\n",
       "|     |     | CNG |     |     | tic | Whe | pac |     | 56  |     |        | 00:00 |       |       |\n",
       "|     |     |     |     |     | 4-s | el  | t   |     |     |     |        | :00   |       |       |\n",
       "|     |     |     |     |     | pd  | Dri | Car |     |     |     |        |       |       |       |\n",
       "|     |     |     |     |     |     | ve  | s   |     |     |     |        |       |       |       |\n",
       "| 199 | For | F25 | 5.4 | 8   | Aut | Rea | Sta | CNG | 0.1 | 10  | 14     | 2013- | true  | 4     |\n",
       "| 8   | d   | 0   |     |     | oma | r-W | nda |     | 326 |     |        | 01-01 |       |       |\n",
       "|     |     | Pic |     |     | tic | hee | rd  |     | 82  |     |        | 00:00 |       |       |\n",
       "|     |     | kup |     |     | 4-s | l   | Pic |     |     |     |        | :00   |       |       |\n",
       "|     |     | 2WD |     |     | pd  | Dri | kup |     |     |     |        |       |       |       |\n",
       "|     |     | CNG |     |     |     | ve  | Tru |     |     |     |        |       |       |       |\n",
       "|     |     |     |     |     |     |     | cks |     |     |     |        |       |       |       |\n",
       "|     |     |     |     |     |     |     | 2WD |     |     |     |        |       |       |       |\n",
       "| 199 | For | E25 | 5.4 | 8   | Aut | Rea | Van | CNG | 0.1 | 10  | 13     | 2013- | true  | 4     |\n",
       "| 8   | d   | 0   |     |     | oma | r-W | s,  |     | 326 |     |        | 01-01 |       |       |\n",
       "|     |     | Eco |     |     | tic | hee | Car |     | 82  |     |        | 00:00 |       |       |\n",
       "|     |     | nol |     |     | 4-s | l   | go  |     |     |     |        | :00   |       |       |\n",
       "|     |     | ine |     |     | pd  | Dri | Typ |     |     |     |        |       |       |       |\n",
       "|     |     | 2WD |     |     |     | ve  | e   |     |     |     |        |       |       |       |\n",
       "|     |     | CNG |     |     |     |     |     |     |     |     |        |       |       |       |\n",
       "| …   | …   | …   | …   | …   | …   | …   | …   | …   | …   | …   | …      | …     | …     | …     |\n",
       "| 201 | Hon | Civ | 1.8 | 4   | Aut | Fro | Com | CNG | 0.0 | 27  | 38     | 2013- | true  | 5     |\n",
       "| 2   | da  | ic  |     |     | oma | nt- | pac |     | 470 |     |        | 01-01 |       |       |\n",
       "|     |     | Nat |     |     | tic | Whe | t   |     | 81  |     |        | 00:00 |       |       |\n",
       "|     |     | ura |     |     | 5-s | el  | Car |     |     |     |        | :00   |       |       |\n",
       "|     |     | l   |     |     | pd  | Dri | s   |     |     |     |        |       |       |       |\n",
       "|     |     | Gas |     |     |     | ve  |     |     |     |     |        |       |       |       |\n",
       "| 201 | Hon | Civ | 1.8 | 4   | Aut | Fro | Com | CNG | 0.0 | 27  | 38     | 2013- | true  | 5     |\n",
       "| 3   | da  | ic  |     |     | oma | nt- | pac |     | 470 |     |        | 01-01 |       |       |\n",
       "|     |     | Nat |     |     | tic | Whe | t   |     | 81  |     |        | 00:00 |       |       |\n",
       "|     |     | ura |     |     | 5-s | el  | Car |     |     |     |        | :00   |       |       |\n",
       "|     |     | l   |     |     | pd  | Dri | s   |     |     |     |        |       |       |       |\n",
       "|     |     | Gas |     |     |     | ve  |     |     |     |     |        |       |       |       |\n",
       "| 201 | Hon | Civ | 1.8 | 4   | Aut | Fro | Com | CNG | 0.0 | 27  | 38     | 2014- | true  | 5     |\n",
       "| 4   | da  | ic  |     |     | oma | nt- | pac |     | 470 |     |        | 02-17 |       |       |\n",
       "|     |     | Nat |     |     | tic | Whe | t   |     | 81  |     |        | 00:00 |       |       |\n",
       "|     |     | ura |     |     | 5-s | el  | Car |     |     |     |        | :00   |       |       |\n",
       "|     |     | l   |     |     | pd  | Dri | s   |     |     |     |        |       |       |       |\n",
       "|     |     | Gas |     |     |     | ve  |     |     |     |     |        |       |       |       |\n",
       "| 201 | Mob | MV- | 4.6 | 8   | Aut | Rea | Spe | CNG | 0.1 | 12  | 16     | 2014- | true  | 4     |\n",
       "| 4   | ili | 1   |     |     | oma | r-W | cia |     | 122 |     |        | 09-10 |       |       |\n",
       "|     | ty  | CNG |     |     | tic | hee | l   |     | 69  |     |        | 00:00 |       |       |\n",
       "|     | Ven |     |     |     | 4-s | l   | Pur |     |     |     |        | :00   |       |       |\n",
       "|     | tur |     |     |     | pd  | Dri | pos |     |     |     |        |       |       |       |\n",
       "|     | es  |     |     |     |     | ve  | e   |     |     |     |        |       |       |       |\n",
       "|     | LLC |     |     |     |     |     | Veh |     |     |     |        |       |       |       |\n",
       "|     |     |     |     |     |     |     | icl |     |     |     |        |       |       |       |\n",
       "|     |     |     |     |     |     |     | e   |     |     |     |        |       |       |       |\n",
       "|     |     |     |     |     |     |     | 2WD |     |     |     |        |       |       |       |\n",
       "| 201 | Hon | Civ | 1.8 | 4   | Aut | Fro | Com | CNG | 0.0 | 27  | 38     | 2014- | true  | 5     |\n",
       "| 5   | da  | ic  |     |     | oma | nt- | pac |     | 470 |     |        | 11-06 |       |       |\n",
       "|     |     | Nat |     |     | tic | Whe | t   |     | 81  |     |        | 00:00 |       |       |\n",
       "|     |     | ura |     |     | 5-s | el  | Car |     |     |     |        | :00   |       |       |\n",
       "|     |     | l   |     |     | pd  | Dri | s   |     |     |     |        |       |       |       |\n",
       "|     |     | Gas |     |     |     | ve  |     |     |     |     |        |       |       |       |\n",
       "+-----+-----+-----+-----+-----+-----+-----+-----+-----+-----+-----+--------+-------+-------+-------+"
      ]
     },
     "execution_count": 28,
     "metadata": {},
     "output_type": "execute_result"
    }
   ],
   "source": [
    "(\n",
    "    autos\n",
    "    .filter(simple=='CNG')\n",
    ")"
   ]
  },
  {
   "cell_type": "markdown",
   "id": "77587337-ec54-4a8b-b0dc-61625dac44b1",
   "metadata": {},
   "source": [
    "* We have been using scalars (*pl.lit*) expressions for the value of `.then` and `.otherwise`.\n",
    "* We can also use expressions to use the existing column, or a derivation from the column.\n",
    "* For ex, we want to generalize categorial values to keep only the top-N values, otherwise use *Other*.\n",
    "\n",
    "---\n",
    "\n",
    "In this new example:\n",
    "\n",
    "* Make a new column, *simple_make*, with only the top-10 makes and *Other*.\n",
    "* First, create an expression to return the top-10 makes."
   ]
  },
  {
   "cell_type": "code",
   "execution_count": 29,
   "id": "7d361e67-f6f0-43ff-8b3d-2cf97ce5fe18",
   "metadata": {},
   "outputs": [
    {
     "name": "stderr",
     "output_type": "stream",
     "text": [
      "known unique values: 145\n",
      "run PARTITIONED HASH AGGREGATION\n"
     ]
    },
    {
     "data": {
      "text/html": [
       "<div><style>\n",
       ".dataframe > thead > tr,\n",
       ".dataframe > tbody > tr {\n",
       "  text-align: right;\n",
       "  white-space: pre-wrap;\n",
       "}\n",
       "</style>\n",
       "<small>shape: (10, 1)</small><table border=\"1\" class=\"dataframe\"><thead><tr><th>make</th></tr><tr><td>cat</td></tr></thead><tbody><tr><td>&quot;Chevrolet&quot;</td></tr><tr><td>&quot;Ford&quot;</td></tr><tr><td>&quot;GMC&quot;</td></tr><tr><td>&quot;Dodge&quot;</td></tr><tr><td>&quot;BMW&quot;</td></tr><tr><td>&quot;Toyota&quot;</td></tr><tr><td>&quot;Mercedes-Benz&quot;</td></tr><tr><td>&quot;Nissan&quot;</td></tr><tr><td>&quot;Porsche&quot;</td></tr><tr><td>&quot;Volkswagen&quot;</td></tr></tbody></table></div>"
      ],
      "text/plain": [
       "shape: (10, 1)\n",
       "+---------------+\n",
       "| make          |\n",
       "| ---           |\n",
       "| cat           |\n",
       "+===============+\n",
       "| Chevrolet     |\n",
       "| Ford          |\n",
       "| GMC           |\n",
       "| Dodge         |\n",
       "| BMW           |\n",
       "| Toyota        |\n",
       "| Mercedes-Benz |\n",
       "| Nissan        |\n",
       "| Porsche       |\n",
       "| Volkswagen    |\n",
       "+---------------+"
      ]
     },
     "execution_count": 29,
     "metadata": {},
     "output_type": "execute_result"
    }
   ],
   "source": [
    "# Test of top-10\n",
    "autos.group_by('make').len().sort(by='len', descending=True).head(10).select('make')"
   ]
  },
  {
   "cell_type": "code",
   "execution_count": 30,
   "id": "62461b42-94ec-4340-a04e-579a5071f9cb",
   "metadata": {},
   "outputs": [
    {
     "data": {
      "text/html": [
       "<div><style>\n",
       ".dataframe > thead > tr,\n",
       ".dataframe > tbody > tr {\n",
       "  text-align: right;\n",
       "  white-space: pre-wrap;\n",
       "}\n",
       "</style>\n",
       "<small>shape: (10, 1)</small><table border=\"1\" class=\"dataframe\"><thead><tr><th>make</th></tr><tr><td>cat</td></tr></thead><tbody><tr><td>&quot;Chevrolet&quot;</td></tr><tr><td>&quot;Ford&quot;</td></tr><tr><td>&quot;GMC&quot;</td></tr><tr><td>&quot;Dodge&quot;</td></tr><tr><td>&quot;BMW&quot;</td></tr><tr><td>&quot;Toyota&quot;</td></tr><tr><td>&quot;Mercedes-Benz&quot;</td></tr><tr><td>&quot;Nissan&quot;</td></tr><tr><td>&quot;Porsche&quot;</td></tr><tr><td>&quot;Volkswagen&quot;</td></tr></tbody></table></div>"
      ],
      "text/plain": [
       "shape: (10, 1)\n",
       "+---------------+\n",
       "| make          |\n",
       "| ---           |\n",
       "| cat           |\n",
       "+===============+\n",
       "| Chevrolet     |\n",
       "| Ford          |\n",
       "| GMC           |\n",
       "| Dodge         |\n",
       "| BMW           |\n",
       "| Toyota        |\n",
       "| Mercedes-Benz |\n",
       "| Nissan        |\n",
       "| Porsche       |\n",
       "| Volkswagen    |\n",
       "+---------------+"
      ]
     },
     "execution_count": 30,
     "metadata": {},
     "output_type": "execute_result"
    }
   ],
   "source": [
    "top_n = (\n",
    "    pl.col('make')\n",
    "    .value_counts(sort=True)\n",
    "    .struct[0]\n",
    "    .head(10)\n",
    ")\n",
    "\n",
    "# TEST\n",
    "autos.select(top_n)"
   ]
  },
  {
   "cell_type": "code",
   "execution_count": 31,
   "id": "926b18c4-4aa0-44e9-81ce-334904c7275a",
   "metadata": {},
   "outputs": [
    {
     "name": "stdout",
     "output_type": "stream",
     "text": [
      "cannot compare categoricals coming from different sources, consider setting a global StringCache.\n",
      "\n",
      "Help: if you're using Python, this may look something like:\n",
      "\n",
      "    with pl.StringCache():\n",
      "        # Initialize Categoricals.\n",
      "        df1 = pl.DataFrame({'a': ['1', '2']}, schema={'a': pl.Categorical})\n",
      "        df2 = pl.DataFrame({'a': ['1', '3']}, schema={'a': pl.Categorical})\n",
      "    # Your operations go here.\n",
      "    pl.concat([df1, df2])\n",
      "\n",
      "Alternatively, if the performance cost is acceptable, you could just set:\n",
      "\n",
      "    import polars as pl\n",
      "    pl.enable_string_cache()\n",
      "\n",
      "on startup.\n"
     ]
    }
   ],
   "source": [
    "\n",
    "top_n = (\n",
    "    pl.col('make')\n",
    "    .value_counts(sort=True)\n",
    "    .struct[0]\n",
    "    .head(10)\n",
    ")\n",
    "\n",
    "top_expr = (\n",
    "    pl\n",
    "    .when(pl.col('make').is_in(top_n))\n",
    "    .then(pl.col('make'))\n",
    "    .otherwise(pl.lit('Otherwise'))\n",
    ")\n",
    "\n",
    "try:\n",
    "    print(\n",
    "        autos\n",
    "        .with_columns(simple_make=top_expr)\n",
    "        .select(['year', 'simple_make', 'make', 'model'])\n",
    "        .sort(by=['year', 'simple_make'])\n",
    "    )\n",
    "except Exception as e:\n",
    "    print(e)"
   ]
  },
  {
   "cell_type": "markdown",
   "id": "daad8b0f-1eba-4b86-bef8-7d594a150535",
   "metadata": {},
   "source": [
    "* If we want to reuse this functionality, we can create a helper function\n",
    "* This limits categories\n"
   ]
  },
  {
   "cell_type": "code",
   "execution_count": 32,
   "id": "56947843-4679-46bb-832e-7a977085531c",
   "metadata": {},
   "outputs": [],
   "source": [
    "def limit(col_name, n=10, default='other'):\n",
    "    col = pl.col(col_name)\n",
    "    top_n = (\n",
    "        col\n",
    "        .value_counts(sort=True)\n",
    "        .struct[0]\n",
    "        .head(n)\n",
    "    )\n",
    "    return (\n",
    "        pl.when(col.is_in(top_n))\n",
    "        .then(col)\n",
    "        .otherwise(pl.lit(default))\n",
    "    )"
   ]
  },
  {
   "cell_type": "code",
   "execution_count": 33,
   "id": "e23782c6-2c0d-47b0-8192-2697f3877309",
   "metadata": {},
   "outputs": [
    {
     "name": "stdout",
     "output_type": "stream",
     "text": [
      "cannot compare categoricals coming from different sources, consider setting a global StringCache.\n",
      "\n",
      "Help: if you're using Python, this may look something like:\n",
      "\n",
      "    with pl.StringCache():\n",
      "        # Initialize Categoricals.\n",
      "        df1 = pl.DataFrame({'a': ['1', '2']}, schema={'a': pl.Categorical})\n",
      "        df2 = pl.DataFrame({'a': ['1', '3']}, schema={'a': pl.Categorical})\n",
      "    # Your operations go here.\n",
      "    pl.concat([df1, df2])\n",
      "\n",
      "Alternatively, if the performance cost is acceptable, you could just set:\n",
      "\n",
      "    import polars as pl\n",
      "    pl.enable_string_cache()\n",
      "\n",
      "on startup.\n"
     ]
    }
   ],
   "source": [
    "try:\n",
    "    (\n",
    "        autos\n",
    "        .with_columns(simple_make=limit('make'))\n",
    "        .select(['year', 'simple_make', 'make', 'model'])\n",
    "        .sort(by=['year', 'simple_make'])\n",
    "    )\n",
    "except Exception as e:\n",
    "    print(e)"
   ]
  },
  {
   "cell_type": "markdown",
   "id": "f3b3f56e-1857-46f3-be77-711700940c23",
   "metadata": {},
   "source": [
    "---\n",
    "**Note: `CategoricalRemappingWarning`**\n",
    "\n",
    "The above code has a `CategoricalRemappingWarning`. This is because Polars uses a dictionary to encode categorical values. The value for the *other* parameter was not in the shared dictionary. To overcome this:\n",
    "\n",
    "* Use `pl.enable_string_cache` to enable string caching. This is best placed at the top of code, immediately after import statements.\n",
    "* Use the `pl.StringCache` context manager when you create the dataframe, and operations using that dataframe.\n",
    "* Use `@pl.StringCache()` function decorator as an alternative context manager.\n",
    "\n"
   ]
  },
  {
   "cell_type": "code",
   "execution_count": 34,
   "id": "06db5e16-a014-4a18-952a-f0dc12c09b8b",
   "metadata": {},
   "outputs": [
    {
     "name": "stdout",
     "output_type": "stream",
     "text": [
      "Different context:\n",
      "----------------------------------------\n",
      "cannot compare categoricals coming from different sources, consider setting a global StringCache.\n",
      "\n",
      "Help: if you're using Python, this may look something like:\n",
      "\n",
      "    with pl.StringCache():\n",
      "        # Initialize Categoricals.\n",
      "        df1 = pl.DataFrame({'a': ['1', '2']}, schema={'a': pl.Categorical})\n",
      "        df2 = pl.DataFrame({'a': ['1', '3']}, schema={'a': pl.Categorical})\n",
      "    # Your operations go here.\n",
      "    pl.concat([df1, df2])\n",
      "\n",
      "Alternatively, if the performance cost is acceptable, you could just set:\n",
      "\n",
      "    import polars as pl\n",
      "    pl.enable_string_cache()\n",
      "\n",
      "on startup.\n"
     ]
    }
   ],
   "source": [
    "try:\n",
    "    print(\"Different context:\")\n",
    "    HR()\n",
    "    with pl.StringCache():\n",
    "        autos2 = tweak_auto(raw)\n",
    "        \n",
    "    print(\n",
    "        autos2\n",
    "        .select(simple_make=limit('make', 20, 'other'))\n",
    "    )\n",
    "except Exception as e:\n",
    "    print(e)"
   ]
  },
  {
   "cell_type": "code",
   "execution_count": 35,
   "id": "7c97c2db-e820-4b93-9612-050e680b9a16",
   "metadata": {},
   "outputs": [
    {
     "name": "stdout",
     "output_type": "stream",
     "text": [
      "shape: (48_202, 1)\n",
      "+-------------+\n",
      "| simple_make |\n",
      "| ---         |\n",
      "| cat         |\n",
      "+=============+\n",
      "| other       |\n",
      "| other       |\n",
      "| Dodge       |\n",
      "| Dodge       |\n",
      "| Subaru      |\n",
      "| …           |\n",
      "| Subaru      |\n",
      "| Subaru      |\n",
      "| Subaru      |\n",
      "| Subaru      |\n",
      "| Subaru      |\n",
      "+-------------+\n"
     ]
    }
   ],
   "source": [
    "with pl.StringCache():\n",
    "    autos2 = tweak_auto(raw)\n",
    "    \n",
    "    print(\n",
    "        autos2\n",
    "        .select(simple_make=limit('make', 20, 'other'))\n",
    "    )"
   ]
  },
  {
   "cell_type": "code",
   "execution_count": 36,
   "id": "5ab2800f-4a6d-4471-8022-6ab43a985150",
   "metadata": {},
   "outputs": [
    {
     "data": {
      "text/html": [
       "<div><style>\n",
       ".dataframe > thead > tr,\n",
       ".dataframe > tbody > tr {\n",
       "  text-align: right;\n",
       "  white-space: pre-wrap;\n",
       "}\n",
       "</style>\n",
       "<small>shape: (48_202, 1)</small><table border=\"1\" class=\"dataframe\"><thead><tr><th>simple_make</th></tr><tr><td>cat</td></tr></thead><tbody><tr><td>&quot;other&quot;</td></tr><tr><td>&quot;other&quot;</td></tr><tr><td>&quot;Dodge&quot;</td></tr><tr><td>&quot;Dodge&quot;</td></tr><tr><td>&quot;Subaru&quot;</td></tr><tr><td>&hellip;</td></tr><tr><td>&quot;Subaru&quot;</td></tr><tr><td>&quot;Subaru&quot;</td></tr><tr><td>&quot;Subaru&quot;</td></tr><tr><td>&quot;Subaru&quot;</td></tr><tr><td>&quot;Subaru&quot;</td></tr></tbody></table></div>"
      ],
      "text/plain": [
       "shape: (48_202, 1)\n",
       "+-------------+\n",
       "| simple_make |\n",
       "| ---         |\n",
       "| cat         |\n",
       "+=============+\n",
       "| other       |\n",
       "| other       |\n",
       "| Dodge       |\n",
       "| Dodge       |\n",
       "| Subaru      |\n",
       "| …           |\n",
       "| Subaru      |\n",
       "| Subaru      |\n",
       "| Subaru      |\n",
       "| Subaru      |\n",
       "| Subaru      |\n",
       "+-------------+"
      ]
     },
     "execution_count": 36,
     "metadata": {},
     "output_type": "execute_result"
    }
   ],
   "source": [
    "@pl.StringCache()\n",
    "# This decorator places the tweak_auto function in the same context as wrapper_for_context()\n",
    "def wrapper_for_context():    \n",
    "    return(\n",
    "        tweak_auto(raw)\n",
    "        .select(simple_make=limit('make', 20, 'other'))\n",
    "    )\n",
    "     \n",
    "test = wrapper_for_context()\n",
    "test"
   ]
  },
  {
   "cell_type": "markdown",
   "id": "3a97a9a5-cf6e-44b0-8290-bd2d3e3a4ae8",
   "metadata": {},
   "source": [
    "---\n",
    "**Note: More on `CategoricalRemappingWarning`**\n",
    "\n",
    "* Looking up strings in a global cache has a slight overhead.\n",
    "* Using the `Enum` type is another option.\n",
    "* If you know the categories beforehand, you can use the `Enum` type to create a categorical column.\n",
    "* This is faster than using the string cache.\n",
    "* However, here we don't know the category ahead of time.\n",
    "* Also, hard-coding the values would return invalid results if the distribution changed in the future.\n",
    "\n"
   ]
  },
  {
   "cell_type": "markdown",
   "id": "bd1e6837-d1db-4eb6-804d-f53752248300",
   "metadata": {},
   "source": [
    "---\n",
    "# 5.9 Handling Missing Data\n",
    "\n",
    "[back to Top](#Top)\n",
    "\n",
    "* Polars has a few methods for handling missing data.\n",
    "* We can quantify how much data is missing from our dataset.\n",
    "* Here we use `.is_null()`.\n",
    "* To select all columns, use `pl.col(\"*\")` or `pl.all()`"
   ]
  },
  {
   "cell_type": "code",
   "execution_count": 37,
   "id": "58758e7e-be99-4fde-96d9-d21dbb03080f",
   "metadata": {},
   "outputs": [
    {
     "data": {
      "text/html": [
       "<div><style>\n",
       ".dataframe > thead > tr,\n",
       ".dataframe > tbody > tr {\n",
       "  text-align: right;\n",
       "  white-space: pre-wrap;\n",
       "}\n",
       "</style>\n",
       "<small>shape: (48_202, 15)</small><table border=\"1\" class=\"dataframe\"><thead><tr><th>year</th><th>make</th><th>model</th><th>displ</th><th>cylinders</th><th>trany</th><th>drive</th><th>VClass</th><th>fuelType</th><th>barrels08</th><th>city08</th><th>highway08</th><th>createdOn</th><th>is_automatic</th><th>num_gears</th></tr><tr><td>bool</td><td>bool</td><td>bool</td><td>bool</td><td>bool</td><td>bool</td><td>bool</td><td>bool</td><td>bool</td><td>bool</td><td>bool</td><td>bool</td><td>bool</td><td>bool</td><td>bool</td></tr></thead><tbody><tr><td>false</td><td>false</td><td>false</td><td>false</td><td>false</td><td>false</td><td>false</td><td>false</td><td>false</td><td>false</td><td>false</td><td>false</td><td>false</td><td>false</td><td>false</td></tr><tr><td>false</td><td>false</td><td>false</td><td>false</td><td>false</td><td>false</td><td>false</td><td>false</td><td>false</td><td>false</td><td>false</td><td>false</td><td>false</td><td>false</td><td>false</td></tr><tr><td>false</td><td>false</td><td>false</td><td>false</td><td>false</td><td>false</td><td>false</td><td>false</td><td>false</td><td>false</td><td>false</td><td>false</td><td>false</td><td>false</td><td>false</td></tr><tr><td>false</td><td>false</td><td>false</td><td>false</td><td>false</td><td>false</td><td>false</td><td>false</td><td>false</td><td>false</td><td>false</td><td>false</td><td>false</td><td>false</td><td>false</td></tr><tr><td>false</td><td>false</td><td>false</td><td>false</td><td>false</td><td>false</td><td>false</td><td>false</td><td>false</td><td>false</td><td>false</td><td>false</td><td>false</td><td>false</td><td>false</td></tr><tr><td>&hellip;</td><td>&hellip;</td><td>&hellip;</td><td>&hellip;</td><td>&hellip;</td><td>&hellip;</td><td>&hellip;</td><td>&hellip;</td><td>&hellip;</td><td>&hellip;</td><td>&hellip;</td><td>&hellip;</td><td>&hellip;</td><td>&hellip;</td><td>&hellip;</td></tr><tr><td>false</td><td>false</td><td>false</td><td>false</td><td>false</td><td>false</td><td>false</td><td>false</td><td>false</td><td>false</td><td>false</td><td>false</td><td>false</td><td>false</td><td>false</td></tr><tr><td>false</td><td>false</td><td>false</td><td>false</td><td>false</td><td>false</td><td>false</td><td>false</td><td>false</td><td>false</td><td>false</td><td>false</td><td>false</td><td>false</td><td>false</td></tr><tr><td>false</td><td>false</td><td>false</td><td>false</td><td>false</td><td>false</td><td>false</td><td>false</td><td>false</td><td>false</td><td>false</td><td>false</td><td>false</td><td>false</td><td>false</td></tr><tr><td>false</td><td>false</td><td>false</td><td>false</td><td>false</td><td>false</td><td>false</td><td>false</td><td>false</td><td>false</td><td>false</td><td>false</td><td>false</td><td>false</td><td>false</td></tr><tr><td>false</td><td>false</td><td>false</td><td>false</td><td>false</td><td>false</td><td>false</td><td>false</td><td>false</td><td>false</td><td>false</td><td>false</td><td>false</td><td>false</td><td>false</td></tr></tbody></table></div>"
      ],
      "text/plain": [
       "shape: (48_202, 15)\n",
       "+-----+-----+-----+-----+-----+-----+-----+-----+-----+-----+-----+--------+-------+-------+-------+\n",
       "| yea | mak | mod | dis | cyl | tra | dri | VCl | fue | bar | cit | highwa | creat | is_au | num_g |\n",
       "| r   | e   | el  | pl  | ind | ny  | ve  | ass | lTy | rel | y08 | y08    | edOn  | tomat | ears  |\n",
       "| --- | --- | --- | --- | ers | --- | --- | --- | pe  | s08 | --- | ---    | ---   | ic    | ---   |\n",
       "| boo | boo | boo | boo | --- | boo | boo | boo | --- | --- | boo | bool   | bool  | ---   | bool  |\n",
       "| l   | l   | l   | l   | boo | l   | l   | l   | boo | boo | l   |        |       | bool  |       |\n",
       "|     |     |     |     | l   |     |     |     | l   | l   |     |        |       |       |       |\n",
       "+==================================================================================================+\n",
       "| fal | fal | fal | fal | fal | fal | fal | fal | fal | fal | fal | false  | false | false | false |\n",
       "| se  | se  | se  | se  | se  | se  | se  | se  | se  | se  | se  |        |       |       |       |\n",
       "| fal | fal | fal | fal | fal | fal | fal | fal | fal | fal | fal | false  | false | false | false |\n",
       "| se  | se  | se  | se  | se  | se  | se  | se  | se  | se  | se  |        |       |       |       |\n",
       "| fal | fal | fal | fal | fal | fal | fal | fal | fal | fal | fal | false  | false | false | false |\n",
       "| se  | se  | se  | se  | se  | se  | se  | se  | se  | se  | se  |        |       |       |       |\n",
       "| fal | fal | fal | fal | fal | fal | fal | fal | fal | fal | fal | false  | false | false | false |\n",
       "| se  | se  | se  | se  | se  | se  | se  | se  | se  | se  | se  |        |       |       |       |\n",
       "| fal | fal | fal | fal | fal | fal | fal | fal | fal | fal | fal | false  | false | false | false |\n",
       "| se  | se  | se  | se  | se  | se  | se  | se  | se  | se  | se  |        |       |       |       |\n",
       "| …   | …   | …   | …   | …   | …   | …   | …   | …   | …   | …   | …      | …     | …     | …     |\n",
       "| fal | fal | fal | fal | fal | fal | fal | fal | fal | fal | fal | false  | false | false | false |\n",
       "| se  | se  | se  | se  | se  | se  | se  | se  | se  | se  | se  |        |       |       |       |\n",
       "| fal | fal | fal | fal | fal | fal | fal | fal | fal | fal | fal | false  | false | false | false |\n",
       "| se  | se  | se  | se  | se  | se  | se  | se  | se  | se  | se  |        |       |       |       |\n",
       "| fal | fal | fal | fal | fal | fal | fal | fal | fal | fal | fal | false  | false | false | false |\n",
       "| se  | se  | se  | se  | se  | se  | se  | se  | se  | se  | se  |        |       |       |       |\n",
       "| fal | fal | fal | fal | fal | fal | fal | fal | fal | fal | fal | false  | false | false | false |\n",
       "| se  | se  | se  | se  | se  | se  | se  | se  | se  | se  | se  |        |       |       |       |\n",
       "| fal | fal | fal | fal | fal | fal | fal | fal | fal | fal | fal | false  | false | false | false |\n",
       "| se  | se  | se  | se  | se  | se  | se  | se  | se  | se  | se  |        |       |       |       |\n",
       "+-----+-----+-----+-----+-----+-----+-----+-----+-----+-----+-----+--------+-------+-------+-------+"
      ]
     },
     "execution_count": 37,
     "metadata": {},
     "output_type": "execute_result"
    }
   ],
   "source": [
    "(\n",
    "    autos\n",
    "    .select(pl.col(\"*\").is_null())\n",
    ")"
   ]
  },
  {
   "cell_type": "markdown",
   "id": "91362a7a-a7d6-401e-9f83-3b800b0f5239",
   "metadata": {},
   "source": [
    "Note: In Python, a `True` value evaluates to 1, and a `False` evaluates to 0."
   ]
  },
  {
   "cell_type": "code",
   "execution_count": 38,
   "id": "ea9d2b7d-f4f8-4d68-990a-c9370429ed67",
   "metadata": {},
   "outputs": [
    {
     "data": {
      "text/plain": [
       "1"
      ]
     },
     "execution_count": 38,
     "metadata": {},
     "output_type": "execute_result"
    }
   ],
   "source": [
    "int(True)"
   ]
  },
  {
   "cell_type": "code",
   "execution_count": 39,
   "id": "1b5dfe36-64a5-4135-b977-d663006dd94b",
   "metadata": {},
   "outputs": [
    {
     "data": {
      "text/plain": [
       "0"
      ]
     },
     "execution_count": 39,
     "metadata": {},
     "output_type": "execute_result"
    }
   ],
   "source": [
    "int(False)"
   ]
  },
  {
   "cell_type": "markdown",
   "id": "45be5062-f18f-4bca-8a72-112fae570046",
   "metadata": {},
   "source": [
    "We can reinterpret the dataframe by casting the boolean values to int."
   ]
  },
  {
   "cell_type": "code",
   "execution_count": 40,
   "id": "30c68689-6c2f-4f59-a358-d688069912ed",
   "metadata": {},
   "outputs": [
    {
     "data": {
      "text/html": [
       "<div><style>\n",
       ".dataframe > thead > tr,\n",
       ".dataframe > tbody > tr {\n",
       "  text-align: right;\n",
       "  white-space: pre-wrap;\n",
       "}\n",
       "</style>\n",
       "<small>shape: (48_202, 15)</small><table border=\"1\" class=\"dataframe\"><thead><tr><th>year</th><th>make</th><th>model</th><th>displ</th><th>cylinders</th><th>trany</th><th>drive</th><th>VClass</th><th>fuelType</th><th>barrels08</th><th>city08</th><th>highway08</th><th>createdOn</th><th>is_automatic</th><th>num_gears</th></tr><tr><td>i8</td><td>i8</td><td>i8</td><td>i8</td><td>i8</td><td>i8</td><td>i8</td><td>i8</td><td>i8</td><td>i8</td><td>i8</td><td>i8</td><td>i8</td><td>i8</td><td>i8</td></tr></thead><tbody><tr><td>0</td><td>0</td><td>0</td><td>0</td><td>0</td><td>0</td><td>0</td><td>0</td><td>0</td><td>0</td><td>0</td><td>0</td><td>0</td><td>0</td><td>0</td></tr><tr><td>0</td><td>0</td><td>0</td><td>0</td><td>0</td><td>0</td><td>0</td><td>0</td><td>0</td><td>0</td><td>0</td><td>0</td><td>0</td><td>0</td><td>0</td></tr><tr><td>0</td><td>0</td><td>0</td><td>0</td><td>0</td><td>0</td><td>0</td><td>0</td><td>0</td><td>0</td><td>0</td><td>0</td><td>0</td><td>0</td><td>0</td></tr><tr><td>0</td><td>0</td><td>0</td><td>0</td><td>0</td><td>0</td><td>0</td><td>0</td><td>0</td><td>0</td><td>0</td><td>0</td><td>0</td><td>0</td><td>0</td></tr><tr><td>0</td><td>0</td><td>0</td><td>0</td><td>0</td><td>0</td><td>0</td><td>0</td><td>0</td><td>0</td><td>0</td><td>0</td><td>0</td><td>0</td><td>0</td></tr><tr><td>&hellip;</td><td>&hellip;</td><td>&hellip;</td><td>&hellip;</td><td>&hellip;</td><td>&hellip;</td><td>&hellip;</td><td>&hellip;</td><td>&hellip;</td><td>&hellip;</td><td>&hellip;</td><td>&hellip;</td><td>&hellip;</td><td>&hellip;</td><td>&hellip;</td></tr><tr><td>0</td><td>0</td><td>0</td><td>0</td><td>0</td><td>0</td><td>0</td><td>0</td><td>0</td><td>0</td><td>0</td><td>0</td><td>0</td><td>0</td><td>0</td></tr><tr><td>0</td><td>0</td><td>0</td><td>0</td><td>0</td><td>0</td><td>0</td><td>0</td><td>0</td><td>0</td><td>0</td><td>0</td><td>0</td><td>0</td><td>0</td></tr><tr><td>0</td><td>0</td><td>0</td><td>0</td><td>0</td><td>0</td><td>0</td><td>0</td><td>0</td><td>0</td><td>0</td><td>0</td><td>0</td><td>0</td><td>0</td></tr><tr><td>0</td><td>0</td><td>0</td><td>0</td><td>0</td><td>0</td><td>0</td><td>0</td><td>0</td><td>0</td><td>0</td><td>0</td><td>0</td><td>0</td><td>0</td></tr><tr><td>0</td><td>0</td><td>0</td><td>0</td><td>0</td><td>0</td><td>0</td><td>0</td><td>0</td><td>0</td><td>0</td><td>0</td><td>0</td><td>0</td><td>0</td></tr></tbody></table></div>"
      ],
      "text/plain": [
       "shape: (48_202, 15)\n",
       "+-----+-----+-----+-----+-----+-----+-----+-----+-----+-----+-----+--------+-------+-------+-------+\n",
       "| yea | mak | mod | dis | cyl | tra | dri | VCl | fue | bar | cit | highwa | creat | is_au | num_g |\n",
       "| r   | e   | el  | pl  | ind | ny  | ve  | ass | lTy | rel | y08 | y08    | edOn  | tomat | ears  |\n",
       "| --- | --- | --- | --- | ers | --- | --- | --- | pe  | s08 | --- | ---    | ---   | ic    | ---   |\n",
       "| i8  | i8  | i8  | i8  | --- | i8  | i8  | i8  | --- | --- | i8  | i8     | i8    | ---   | i8    |\n",
       "|     |     |     |     | i8  |     |     |     | i8  | i8  |     |        |       | i8    |       |\n",
       "+==================================================================================================+\n",
       "| 0   | 0   | 0   | 0   | 0   | 0   | 0   | 0   | 0   | 0   | 0   | 0      | 0     | 0     | 0     |\n",
       "| 0   | 0   | 0   | 0   | 0   | 0   | 0   | 0   | 0   | 0   | 0   | 0      | 0     | 0     | 0     |\n",
       "| 0   | 0   | 0   | 0   | 0   | 0   | 0   | 0   | 0   | 0   | 0   | 0      | 0     | 0     | 0     |\n",
       "| 0   | 0   | 0   | 0   | 0   | 0   | 0   | 0   | 0   | 0   | 0   | 0      | 0     | 0     | 0     |\n",
       "| 0   | 0   | 0   | 0   | 0   | 0   | 0   | 0   | 0   | 0   | 0   | 0      | 0     | 0     | 0     |\n",
       "| …   | …   | …   | …   | …   | …   | …   | …   | …   | …   | …   | …      | …     | …     | …     |\n",
       "| 0   | 0   | 0   | 0   | 0   | 0   | 0   | 0   | 0   | 0   | 0   | 0      | 0     | 0     | 0     |\n",
       "| 0   | 0   | 0   | 0   | 0   | 0   | 0   | 0   | 0   | 0   | 0   | 0      | 0     | 0     | 0     |\n",
       "| 0   | 0   | 0   | 0   | 0   | 0   | 0   | 0   | 0   | 0   | 0   | 0      | 0     | 0     | 0     |\n",
       "| 0   | 0   | 0   | 0   | 0   | 0   | 0   | 0   | 0   | 0   | 0   | 0      | 0     | 0     | 0     |\n",
       "| 0   | 0   | 0   | 0   | 0   | 0   | 0   | 0   | 0   | 0   | 0   | 0      | 0     | 0     | 0     |\n",
       "+-----+-----+-----+-----+-----+-----+-----+-----+-----+-----+-----+--------+-------+-------+-------+"
      ]
     },
     "execution_count": 40,
     "metadata": {},
     "output_type": "execute_result"
    }
   ],
   "source": [
    "(\n",
    "    autos\n",
    "    .select(pl.col(\"*\").is_null()).cast(pl.Int8)\n",
    ")"
   ]
  },
  {
   "cell_type": "markdown",
   "id": "a74d821f-1222-4c86-bf81-24af36bdf786",
   "metadata": {},
   "source": [
    "* In Pandas, we would sum these up or take their mean to calculate the count or percentage of missing values.\n",
    "* We can do the same in Polars as well."
   ]
  },
  {
   "cell_type": "code",
   "execution_count": 41,
   "id": "5537d1fe-2d5b-44db-aae2-7c4343863093",
   "metadata": {},
   "outputs": [
    {
     "data": {
      "text/html": [
       "<div><style>\n",
       ".dataframe > thead > tr,\n",
       ".dataframe > tbody > tr {\n",
       "  text-align: right;\n",
       "  white-space: pre-wrap;\n",
       "}\n",
       "</style>\n",
       "<small>shape: (1, 15)</small><table border=\"1\" class=\"dataframe\"><thead><tr><th>year</th><th>make</th><th>model</th><th>displ</th><th>cylinders</th><th>trany</th><th>drive</th><th>VClass</th><th>fuelType</th><th>barrels08</th><th>city08</th><th>highway08</th><th>createdOn</th><th>is_automatic</th><th>num_gears</th></tr><tr><td>u32</td><td>u32</td><td>u32</td><td>u32</td><td>u32</td><td>u32</td><td>u32</td><td>u32</td><td>u32</td><td>u32</td><td>u32</td><td>u32</td><td>u32</td><td>u32</td><td>u32</td></tr></thead><tbody><tr><td>0</td><td>0</td><td>0</td><td>963</td><td>965</td><td>11</td><td>1186</td><td>0</td><td>0</td><td>0</td><td>0</td><td>0</td><td>0</td><td>0</td><td>0</td></tr></tbody></table></div>"
      ],
      "text/plain": [
       "shape: (1, 15)\n",
       "+-----+-----+-----+-----+-----+-----+-----+-----+-----+-----+-----+--------+-------+-------+-------+\n",
       "| yea | mak | mod | dis | cyl | tra | dri | VCl | fue | bar | cit | highwa | creat | is_au | num_g |\n",
       "| r   | e   | el  | pl  | ind | ny  | ve  | ass | lTy | rel | y08 | y08    | edOn  | tomat | ears  |\n",
       "| --- | --- | --- | --- | ers | --- | --- | --- | pe  | s08 | --- | ---    | ---   | ic    | ---   |\n",
       "| u32 | u32 | u32 | u32 | --- | u32 | u32 | u32 | --- | --- | u32 | u32    | u32   | ---   | u32   |\n",
       "|     |     |     |     | u32 |     |     |     | u32 | u32 |     |        |       | u32   |       |\n",
       "+==================================================================================================+\n",
       "| 0   | 0   | 0   | 963 | 965 | 11  | 118 | 0   | 0   | 0   | 0   | 0      | 0     | 0     | 0     |\n",
       "|     |     |     |     |     |     | 6   |     |     |     |     |        |       |       |       |\n",
       "+-----+-----+-----+-----+-----+-----+-----+-----+-----+-----+-----+--------+-------+-------+-------+"
      ]
     },
     "execution_count": 41,
     "metadata": {},
     "output_type": "execute_result"
    }
   ],
   "source": [
    "(\n",
    "    autos\n",
    "    .select(pl.all().is_null().sum())\n",
    ")"
   ]
  },
  {
   "cell_type": "markdown",
   "id": "1cfdeb0e-a0fa-4ffd-9a0a-a256631cac7f",
   "metadata": {},
   "source": [
    "However, in Polars there is also `.null_count()`, which gives us the count of null values."
   ]
  },
  {
   "cell_type": "code",
   "execution_count": 42,
   "id": "c92580ed-bad7-474f-a27f-d30773007a62",
   "metadata": {},
   "outputs": [
    {
     "data": {
      "text/html": [
       "<div><style>\n",
       ".dataframe > thead > tr,\n",
       ".dataframe > tbody > tr {\n",
       "  text-align: right;\n",
       "  white-space: pre-wrap;\n",
       "}\n",
       "</style>\n",
       "<small>shape: (1, 15)</small><table border=\"1\" class=\"dataframe\"><thead><tr><th>year</th><th>make</th><th>model</th><th>displ</th><th>cylinders</th><th>trany</th><th>drive</th><th>VClass</th><th>fuelType</th><th>barrels08</th><th>city08</th><th>highway08</th><th>createdOn</th><th>is_automatic</th><th>num_gears</th></tr><tr><td>u32</td><td>u32</td><td>u32</td><td>u32</td><td>u32</td><td>u32</td><td>u32</td><td>u32</td><td>u32</td><td>u32</td><td>u32</td><td>u32</td><td>u32</td><td>u32</td><td>u32</td></tr></thead><tbody><tr><td>0</td><td>0</td><td>0</td><td>963</td><td>965</td><td>11</td><td>1186</td><td>0</td><td>0</td><td>0</td><td>0</td><td>0</td><td>0</td><td>0</td><td>0</td></tr></tbody></table></div>"
      ],
      "text/plain": [
       "shape: (1, 15)\n",
       "+-----+-----+-----+-----+-----+-----+-----+-----+-----+-----+-----+--------+-------+-------+-------+\n",
       "| yea | mak | mod | dis | cyl | tra | dri | VCl | fue | bar | cit | highwa | creat | is_au | num_g |\n",
       "| r   | e   | el  | pl  | ind | ny  | ve  | ass | lTy | rel | y08 | y08    | edOn  | tomat | ears  |\n",
       "| --- | --- | --- | --- | ers | --- | --- | --- | pe  | s08 | --- | ---    | ---   | ic    | ---   |\n",
       "| u32 | u32 | u32 | u32 | --- | u32 | u32 | u32 | --- | --- | u32 | u32    | u32   | ---   | u32   |\n",
       "|     |     |     |     | u32 |     |     |     | u32 | u32 |     |        |       | u32   |       |\n",
       "+==================================================================================================+\n",
       "| 0   | 0   | 0   | 963 | 965 | 11  | 118 | 0   | 0   | 0   | 0   | 0      | 0     | 0     | 0     |\n",
       "|     |     |     |     |     |     | 6   |     |     |     |     |        |       |       |       |\n",
       "+-----+-----+-----+-----+-----+-----+-----+-----+-----+-----+-----+--------+-------+-------+-------+"
      ]
     },
     "execution_count": 42,
     "metadata": {},
     "output_type": "execute_result"
    }
   ],
   "source": [
    "(\n",
    "    autos\n",
    "    .select(pl.all().null_count())\n",
    ")"
   ]
  },
  {
   "cell_type": "markdown",
   "id": "ffd2ec28-8281-44f4-a264-c0447dac22de",
   "metadata": {},
   "source": [
    "There is also a shortcut to use `.null_count()` directly on the dataframe."
   ]
  },
  {
   "cell_type": "code",
   "execution_count": 43,
   "id": "982526e9-b6e8-4259-b0ee-1d034cea5cd1",
   "metadata": {},
   "outputs": [
    {
     "data": {
      "text/html": [
       "<div><style>\n",
       ".dataframe > thead > tr,\n",
       ".dataframe > tbody > tr {\n",
       "  text-align: right;\n",
       "  white-space: pre-wrap;\n",
       "}\n",
       "</style>\n",
       "<small>shape: (1, 15)</small><table border=\"1\" class=\"dataframe\"><thead><tr><th>year</th><th>make</th><th>model</th><th>displ</th><th>cylinders</th><th>trany</th><th>drive</th><th>VClass</th><th>fuelType</th><th>barrels08</th><th>city08</th><th>highway08</th><th>createdOn</th><th>is_automatic</th><th>num_gears</th></tr><tr><td>u32</td><td>u32</td><td>u32</td><td>u32</td><td>u32</td><td>u32</td><td>u32</td><td>u32</td><td>u32</td><td>u32</td><td>u32</td><td>u32</td><td>u32</td><td>u32</td><td>u32</td></tr></thead><tbody><tr><td>0</td><td>0</td><td>0</td><td>963</td><td>965</td><td>11</td><td>1186</td><td>0</td><td>0</td><td>0</td><td>0</td><td>0</td><td>0</td><td>0</td><td>0</td></tr></tbody></table></div>"
      ],
      "text/plain": [
       "shape: (1, 15)\n",
       "+-----+-----+-----+-----+-----+-----+-----+-----+-----+-----+-----+--------+-------+-------+-------+\n",
       "| yea | mak | mod | dis | cyl | tra | dri | VCl | fue | bar | cit | highwa | creat | is_au | num_g |\n",
       "| r   | e   | el  | pl  | ind | ny  | ve  | ass | lTy | rel | y08 | y08    | edOn  | tomat | ears  |\n",
       "| --- | --- | --- | --- | ers | --- | --- | --- | pe  | s08 | --- | ---    | ---   | ic    | ---   |\n",
       "| u32 | u32 | u32 | u32 | --- | u32 | u32 | u32 | --- | --- | u32 | u32    | u32   | ---   | u32   |\n",
       "|     |     |     |     | u32 |     |     |     | u32 | u32 |     |        |       | u32   |       |\n",
       "+==================================================================================================+\n",
       "| 0   | 0   | 0   | 963 | 965 | 11  | 118 | 0   | 0   | 0   | 0   | 0      | 0     | 0     | 0     |\n",
       "|     |     |     |     |     |     | 6   |     |     |     |     |        |       |       |       |\n",
       "+-----+-----+-----+-----+-----+-----+-----+-----+-----+-----+-----+--------+-------+-------+-------+"
      ]
     },
     "execution_count": 43,
     "metadata": {},
     "output_type": "execute_result"
    }
   ],
   "source": [
    "(\n",
    "    autos.null_count()\n",
    ")"
   ]
  },
  {
   "cell_type": "markdown",
   "id": "ee7fa2b9-bed6-4af8-8ffc-bdb62bae08f7",
   "metadata": {},
   "source": [
    "A *null_count_row* is also included in `.describe()`."
   ]
  },
  {
   "cell_type": "code",
   "execution_count": 44,
   "id": "6b08da65-0b93-4a64-85dc-ee52a5eebb2c",
   "metadata": {},
   "outputs": [
    {
     "data": {
      "text/html": [
       "<div><style>\n",
       ".dataframe > thead > tr,\n",
       ".dataframe > tbody > tr {\n",
       "  text-align: right;\n",
       "  white-space: pre-wrap;\n",
       "}\n",
       "</style>\n",
       "<small>shape: (9, 16)</small><table border=\"1\" class=\"dataframe\"><thead><tr><th>statistic</th><th>year</th><th>make</th><th>model</th><th>displ</th><th>cylinders</th><th>trany</th><th>drive</th><th>VClass</th><th>fuelType</th><th>barrels08</th><th>city08</th><th>highway08</th><th>createdOn</th><th>is_automatic</th><th>num_gears</th></tr><tr><td>str</td><td>f64</td><td>str</td><td>str</td><td>f64</td><td>f64</td><td>str</td><td>str</td><td>str</td><td>str</td><td>f64</td><td>f64</td><td>f64</td><td>str</td><td>str</td><td>f64</td></tr></thead><tbody><tr><td>&quot;count&quot;</td><td>48202.0</td><td>&quot;48202&quot;</td><td>&quot;48202&quot;</td><td>47239.0</td><td>47237.0</td><td>&quot;48191&quot;</td><td>&quot;47016&quot;</td><td>&quot;48202&quot;</td><td>&quot;48202&quot;</td><td>48202.0</td><td>48202.0</td><td>48202.0</td><td>&quot;48202&quot;</td><td>&quot;48202&quot;</td><td>48202.0</td></tr><tr><td>&quot;null_count&quot;</td><td>0.0</td><td>&quot;0&quot;</td><td>&quot;0&quot;</td><td>963.0</td><td>965.0</td><td>&quot;11&quot;</td><td>&quot;1186&quot;</td><td>&quot;0&quot;</td><td>&quot;0&quot;</td><td>0.0</td><td>0.0</td><td>0.0</td><td>&quot;0&quot;</td><td>&quot;0&quot;</td><td>0.0</td></tr><tr><td>&quot;mean&quot;</td><td>2004.59344</td><td>null</td><td>null</td><td>3.27066</td><td>5.698838</td><td>null</td><td>null</td><td>null</td><td>null</td><td>15.106042</td><td>19.929235</td><td>25.821294</td><td>&quot;2014-11-14 05:34:17.590971&quot;</td><td>null</td><td>5.346666</td></tr><tr><td>&quot;std&quot;</td><td>12.681444</td><td>null</td><td>null</td><td>1.353053</td><td>1.772964</td><td>null</td><td>null</td><td>null</td><td>null</td><td>4.560156</td><td>12.658018</td><td>11.087154</td><td>null</td><td>null</td><td>1.73496</td></tr><tr><td>&quot;min&quot;</td><td>1984.0</td><td>null</td><td>null</td><td>0.0</td><td>2.0</td><td>&quot;Automatic (A1)&quot;</td><td>null</td><td>null</td><td>null</td><td>0.047081</td><td>6.0</td><td>9.0</td><td>&quot;2013-01-01 00:00:00&quot;</td><td>&quot;Automatic&quot;</td><td>1.0</td></tr><tr><td>&quot;25%&quot;</td><td>1993.0</td><td>null</td><td>null</td><td>2.2</td><td>4.0</td><td>null</td><td>null</td><td>null</td><td>null</td><td>12.39625</td><td>15.0</td><td>20.0</td><td>&quot;2013-01-01 00:00:00&quot;</td><td>null</td><td>4.0</td></tr><tr><td>&quot;50%&quot;</td><td>2006.0</td><td>null</td><td>null</td><td>3.0</td><td>6.0</td><td>null</td><td>null</td><td>null</td><td>null</td><td>14.8755</td><td>18.0</td><td>24.0</td><td>&quot;2013-01-01 00:00:00&quot;</td><td>null</td><td>5.0</td></tr><tr><td>&quot;75%&quot;</td><td>2016.0</td><td>null</td><td>null</td><td>4.2</td><td>6.0</td><td>null</td><td>null</td><td>null</td><td>null</td><td>17.500587</td><td>21.0</td><td>28.0</td><td>&quot;2015-07-02 00:00:00&quot;</td><td>null</td><td>6.0</td></tr><tr><td>&quot;max&quot;</td><td>2025.0</td><td>null</td><td>null</td><td>8.4</td><td>16.0</td><td>&quot;Manual 7-spd&quot;</td><td>null</td><td>null</td><td>null</td><td>42.501427</td><td>153.0</td><td>142.0</td><td>&quot;2024-10-17 00:00:00&quot;</td><td>&quot;true&quot;</td><td>10.0</td></tr></tbody></table></div>"
      ],
      "text/plain": [
       "shape: (9, 16)\n",
       "+-----+-----+-----+-----+-----+-----+-----+-----+-----+-----+-----+-----+-----+-----+-----+--------+\n",
       "| sta | yea | mak | mod | dis | cyl | tra | dri | VCl | fue | bar | cit | hig | cre | is_ | num_ge |\n",
       "| tis | r   | e   | el  | pl  | ind | ny  | ve  | ass | lTy | rel | y08 | hwa | ate | aut | ars    |\n",
       "| tic | --- | --- | --- | --- | ers | --- | --- | --- | pe  | s08 | --- | y08 | dOn | oma | ---    |\n",
       "| --- | f64 | str | str | f64 | --- | str | str | str | --- | --- | f64 | --- | --- | tic | f64    |\n",
       "| str |     |     |     |     | f64 |     |     |     | str | f64 |     | f64 | str | --- |        |\n",
       "|     |     |     |     |     |     |     |     |     |     |     |     |     |     | str |        |\n",
       "+==================================================================================================+\n",
       "| cou | 482 | 482 | 482 | 472 | 472 | 481 | 470 | 482 | 482 | 482 | 482 | 482 | 482 | 482 | 48202. |\n",
       "| nt  | 02. | 02  | 02  | 39. | 37. | 91  | 16  | 02  | 02  | 02. | 02. | 02. | 02  | 02  | 0      |\n",
       "|     | 0   |     |     | 0   | 0   |     |     |     |     | 0   | 0   | 0   |     |     |        |\n",
       "| nul | 0.0 | 0   | 0   | 963 | 965 | 11  | 118 | 0   | 0   | 0.0 | 0.0 | 0.0 | 0   | 0   | 0.0    |\n",
       "| l_c |     |     |     | .0  | .0  |     | 6   |     |     |     |     |     |     |     |        |\n",
       "| oun |     |     |     |     |     |     |     |     |     |     |     |     |     |     |        |\n",
       "| t   |     |     |     |     |     |     |     |     |     |     |     |     |     |     |        |\n",
       "| mea | 200 | nul | nul | 3.2 | 5.6 | nul | nul | nul | nul | 15. | 19. | 25. | 201 | nul | 5.3466 |\n",
       "| n   | 4.5 | l   | l   | 706 | 988 | l   | l   | l   | l   | 106 | 929 | 821 | 4-1 | l   | 66     |\n",
       "|     | 934 |     |     | 6   | 38  |     |     |     |     | 042 | 235 | 294 | 1-1 |     |        |\n",
       "|     | 4   |     |     |     |     |     |     |     |     |     |     |     | 4   |     |        |\n",
       "|     |     |     |     |     |     |     |     |     |     |     |     |     | 05: |     |        |\n",
       "|     |     |     |     |     |     |     |     |     |     |     |     |     | 34: |     |        |\n",
       "|     |     |     |     |     |     |     |     |     |     |     |     |     | 17. |     |        |\n",
       "|     |     |     |     |     |     |     |     |     |     |     |     |     | 590 |     |        |\n",
       "|     |     |     |     |     |     |     |     |     |     |     |     |     | 971 |     |        |\n",
       "| std | 12. | nul | nul | 1.3 | 1.7 | nul | nul | nul | nul | 4.5 | 12. | 11. | nul | nul | 1.7349 |\n",
       "|     | 681 | l   | l   | 530 | 729 | l   | l   | l   | l   | 601 | 658 | 087 | l   | l   | 6      |\n",
       "|     | 444 |     |     | 53  | 64  |     |     |     |     | 56  | 018 | 154 |     |     |        |\n",
       "| min | 198 | nul | nul | 0.0 | 2.0 | Aut | nul | nul | nul | 0.0 | 6.0 | 9.0 | 201 | Aut | 1.0    |\n",
       "|     | 4.0 | l   | l   |     |     | oma | l   | l   | l   | 470 |     |     | 3-0 | oma |        |\n",
       "|     |     |     |     |     |     | tic |     |     |     | 81  |     |     | 1-0 | tic |        |\n",
       "|     |     |     |     |     |     | (A1 |     |     |     |     |     |     | 1   |     |        |\n",
       "|     |     |     |     |     |     | )   |     |     |     |     |     |     | 00: |     |        |\n",
       "|     |     |     |     |     |     |     |     |     |     |     |     |     | 00: |     |        |\n",
       "|     |     |     |     |     |     |     |     |     |     |     |     |     | 00  |     |        |\n",
       "| 25% | 199 | nul | nul | 2.2 | 4.0 | nul | nul | nul | nul | 12. | 15. | 20. | 201 | nul | 4.0    |\n",
       "|     | 3.0 | l   | l   |     |     | l   | l   | l   | l   | 396 | 0   | 0   | 3-0 | l   |        |\n",
       "|     |     |     |     |     |     |     |     |     |     | 25  |     |     | 1-0 |     |        |\n",
       "|     |     |     |     |     |     |     |     |     |     |     |     |     | 1   |     |        |\n",
       "|     |     |     |     |     |     |     |     |     |     |     |     |     | 00: |     |        |\n",
       "|     |     |     |     |     |     |     |     |     |     |     |     |     | 00: |     |        |\n",
       "|     |     |     |     |     |     |     |     |     |     |     |     |     | 00  |     |        |\n",
       "| 50% | 200 | nul | nul | 3.0 | 6.0 | nul | nul | nul | nul | 14. | 18. | 24. | 201 | nul | 5.0    |\n",
       "|     | 6.0 | l   | l   |     |     | l   | l   | l   | l   | 875 | 0   | 0   | 3-0 | l   |        |\n",
       "|     |     |     |     |     |     |     |     |     |     | 5   |     |     | 1-0 |     |        |\n",
       "|     |     |     |     |     |     |     |     |     |     |     |     |     | 1   |     |        |\n",
       "|     |     |     |     |     |     |     |     |     |     |     |     |     | 00: |     |        |\n",
       "|     |     |     |     |     |     |     |     |     |     |     |     |     | 00: |     |        |\n",
       "|     |     |     |     |     |     |     |     |     |     |     |     |     | 00  |     |        |\n",
       "| 75% | 201 | nul | nul | 4.2 | 6.0 | nul | nul | nul | nul | 17. | 21. | 28. | 201 | nul | 6.0    |\n",
       "|     | 6.0 | l   | l   |     |     | l   | l   | l   | l   | 500 | 0   | 0   | 5-0 | l   |        |\n",
       "|     |     |     |     |     |     |     |     |     |     | 587 |     |     | 7-0 |     |        |\n",
       "|     |     |     |     |     |     |     |     |     |     |     |     |     | 2   |     |        |\n",
       "|     |     |     |     |     |     |     |     |     |     |     |     |     | 00: |     |        |\n",
       "|     |     |     |     |     |     |     |     |     |     |     |     |     | 00: |     |        |\n",
       "|     |     |     |     |     |     |     |     |     |     |     |     |     | 00  |     |        |\n",
       "| max | 202 | nul | nul | 8.4 | 16. | Man | nul | nul | nul | 42. | 153 | 142 | 202 | tru | 10.0   |\n",
       "|     | 5.0 | l   | l   |     | 0   | ual | l   | l   | l   | 501 | .0  | .0  | 4-1 | e   |        |\n",
       "|     |     |     |     |     |     | 7-s |     |     |     | 427 |     |     | 0-1 |     |        |\n",
       "|     |     |     |     |     |     | pd  |     |     |     |     |     |     | 7   |     |        |\n",
       "|     |     |     |     |     |     |     |     |     |     |     |     |     | 00: |     |        |\n",
       "|     |     |     |     |     |     |     |     |     |     |     |     |     | 00: |     |        |\n",
       "|     |     |     |     |     |     |     |     |     |     |     |     |     | 00  |     |        |\n",
       "+-----+-----+-----+-----+-----+-----+-----+-----+-----+-----+-----+-----+-----+-----+-----+--------+"
      ]
     },
     "execution_count": 44,
     "metadata": {},
     "output_type": "execute_result"
    }
   ],
   "source": [
    "(\n",
    "    autos\n",
    "    .describe()\n",
    ")"
   ]
  },
  {
   "cell_type": "code",
   "execution_count": 45,
   "id": "31ec11ad-ca2e-49fd-8822-6d091b900e13",
   "metadata": {},
   "outputs": [
    {
     "name": "stderr",
     "output_type": "stream",
     "text": [
      "dataframe filtered\n"
     ]
    },
    {
     "data": {
      "text/html": [
       "<div><style>\n",
       ".dataframe > thead > tr,\n",
       ".dataframe > tbody > tr {\n",
       "  text-align: right;\n",
       "  white-space: pre-wrap;\n",
       "}\n",
       "</style>\n",
       "<small>shape: (1, 16)</small><table border=\"1\" class=\"dataframe\"><thead><tr><th>statistic</th><th>year</th><th>make</th><th>model</th><th>displ</th><th>cylinders</th><th>trany</th><th>drive</th><th>VClass</th><th>fuelType</th><th>barrels08</th><th>city08</th><th>highway08</th><th>createdOn</th><th>is_automatic</th><th>num_gears</th></tr><tr><td>str</td><td>f64</td><td>str</td><td>str</td><td>f64</td><td>f64</td><td>str</td><td>str</td><td>str</td><td>str</td><td>f64</td><td>f64</td><td>f64</td><td>str</td><td>str</td><td>f64</td></tr></thead><tbody><tr><td>&quot;null_count&quot;</td><td>0.0</td><td>&quot;0&quot;</td><td>&quot;0&quot;</td><td>963.0</td><td>965.0</td><td>&quot;11&quot;</td><td>&quot;1186&quot;</td><td>&quot;0&quot;</td><td>&quot;0&quot;</td><td>0.0</td><td>0.0</td><td>0.0</td><td>&quot;0&quot;</td><td>&quot;0&quot;</td><td>0.0</td></tr></tbody></table></div>"
      ],
      "text/plain": [
       "shape: (1, 16)\n",
       "+-----+-----+-----+-----+-----+-----+-----+-----+-----+-----+-----+-----+-----+-----+-----+--------+\n",
       "| sta | yea | mak | mod | dis | cyl | tra | dri | VCl | fue | bar | cit | hig | cre | is_ | num_ge |\n",
       "| tis | r   | e   | el  | pl  | ind | ny  | ve  | ass | lTy | rel | y08 | hwa | ate | aut | ars    |\n",
       "| tic | --- | --- | --- | --- | ers | --- | --- | --- | pe  | s08 | --- | y08 | dOn | oma | ---    |\n",
       "| --- | f64 | str | str | f64 | --- | str | str | str | --- | --- | f64 | --- | --- | tic | f64    |\n",
       "| str |     |     |     |     | f64 |     |     |     | str | f64 |     | f64 | str | --- |        |\n",
       "|     |     |     |     |     |     |     |     |     |     |     |     |     |     | str |        |\n",
       "+==================================================================================================+\n",
       "| nul | 0.0 | 0   | 0   | 963 | 965 | 11  | 118 | 0   | 0   | 0.0 | 0.0 | 0.0 | 0   | 0   | 0.0    |\n",
       "| l_c |     |     |     | .0  | .0  |     | 6   |     |     |     |     |     |     |     |        |\n",
       "| oun |     |     |     |     |     |     |     |     |     |     |     |     |     |     |        |\n",
       "| t   |     |     |     |     |     |     |     |     |     |     |     |     |     |     |        |\n",
       "+-----+-----+-----+-----+-----+-----+-----+-----+-----+-----+-----+-----+-----+-----+-----+--------+"
      ]
     },
     "execution_count": 45,
     "metadata": {},
     "output_type": "execute_result"
    }
   ],
   "source": [
    "# Using filter to view only the null_count row from the statistic column.\n",
    "(\n",
    "    autos\n",
    "    .describe()\n",
    "    .filter(pl.col('statistic') == 'null_count')\n",
    ")"
   ]
  },
  {
   "cell_type": "markdown",
   "id": "97e3a69f-8b71-4792-b42f-c2446fa4256d",
   "metadata": {},
   "source": [
    "Polars does not have a native `null_percent` method, but we can calculate it using `.mean()`."
   ]
  },
  {
   "cell_type": "code",
   "execution_count": 46,
   "id": "91c5ef76-5609-4e45-ab17-bd225b1fc8b0",
   "metadata": {},
   "outputs": [
    {
     "data": {
      "text/html": [
       "<div><style>\n",
       ".dataframe > thead > tr,\n",
       ".dataframe > tbody > tr {\n",
       "  text-align: right;\n",
       "  white-space: pre-wrap;\n",
       "}\n",
       "</style>\n",
       "<small>shape: (1, 15)</small><table border=\"1\" class=\"dataframe\"><thead><tr><th>year</th><th>make</th><th>model</th><th>displ</th><th>cylinders</th><th>trany</th><th>drive</th><th>VClass</th><th>fuelType</th><th>barrels08</th><th>city08</th><th>highway08</th><th>createdOn</th><th>is_automatic</th><th>num_gears</th></tr><tr><td>f64</td><td>f64</td><td>f64</td><td>f64</td><td>f64</td><td>f64</td><td>f64</td><td>f64</td><td>f64</td><td>f64</td><td>f64</td><td>f64</td><td>f64</td><td>f64</td><td>f64</td></tr></thead><tbody><tr><td>0.0</td><td>0.0</td><td>0.0</td><td>1.997842</td><td>2.001992</td><td>0.022821</td><td>2.460479</td><td>0.0</td><td>0.0</td><td>0.0</td><td>0.0</td><td>0.0</td><td>0.0</td><td>0.0</td><td>0.0</td></tr></tbody></table></div>"
      ],
      "text/plain": [
       "shape: (1, 15)\n",
       "+-----+-----+-----+-----+-----+-----+-----+-----+-----+-----+-----+--------+-------+-------+-------+\n",
       "| yea | mak | mod | dis | cyl | tra | dri | VCl | fue | bar | cit | highwa | creat | is_au | num_g |\n",
       "| r   | e   | el  | pl  | ind | ny  | ve  | ass | lTy | rel | y08 | y08    | edOn  | tomat | ears  |\n",
       "| --- | --- | --- | --- | ers | --- | --- | --- | pe  | s08 | --- | ---    | ---   | ic    | ---   |\n",
       "| f64 | f64 | f64 | f64 | --- | f64 | f64 | f64 | --- | --- | f64 | f64    | f64   | ---   | f64   |\n",
       "|     |     |     |     | f64 |     |     |     | f64 | f64 |     |        |       | f64   |       |\n",
       "+==================================================================================================+\n",
       "| 0.0 | 0.0 | 0.0 | 1.9 | 2.0 | 0.0 | 2.4 | 0.0 | 0.0 | 0.0 | 0.0 | 0.0    | 0.0   | 0.0   | 0.0   |\n",
       "|     |     |     | 978 | 019 | 228 | 604 |     |     |     |     |        |       |       |       |\n",
       "|     |     |     | 42  | 92  | 21  | 79  |     |     |     |     |        |       |       |       |\n",
       "+-----+-----+-----+-----+-----+-----+-----+-----+-----+-----+-----+--------+-------+-------+-------+"
      ]
     },
     "execution_count": 46,
     "metadata": {},
     "output_type": "execute_result"
    }
   ],
   "source": [
    "(\n",
    "    autos\n",
    "    .select(pl.all().is_null().mean()*100)\n",
    ")"
   ]
  },
  {
   "cell_type": "markdown",
   "id": "85552065-d773-4c8e-a9e3-f8f27cfde37c",
   "metadata": {},
   "source": [
    "* Next, we can filter out the columns with values of 0, so we can see which columns have missing values.\n",
    "* Use `.pipe()` to pass the current dataframe to `.select()`.\n",
    "* We want to select the floating point columns with a value greater than 0.\n",
    "* We need to use `col.all()` to get a boolean value for each column.\n",
    "* If we don't include that, it will return all of the columns because of `df_.select(pl.col(pl.Float64)>0)` is a dataframe with all of the columns with true or false values.\n",
    "* We only want columns where all of the values are true.\n",
    "\n",
    "---\n",
    "\n",
    "**Notes on `.col.all()`**\n",
    "\n",
    "In Polars, `.col.all()` is a method that returns whether all values in a column are `True`. It only works on columns of data type `Boolean`.\n",
    "\n",
    "This would be better named as `.col.all_true()`\n",
    "\n",
    "Specifically:\n",
    "\n",
    "- It returns an expression of data type `Boolean` that evaluates to `True` if all non-null values in the column are `True`, and `False` otherwise.\n",
    "- By default, it ignores null values. But if `ignore_nulls=False`, it returns `null` if the column contains any null values and no `True` values.\n",
    "- It is different from the `polars.all()` function, which is used to select all columns or perform a bitwise AND operation.\n",
    "\n",
    "For example:\n",
    "\n",
    "```python\n",
    ">>> df = pl.DataFrame({\"a\": [True, True], \"b\": [False, True], \"c\": [None, True]})\n",
    ">>> df.select(pl.col(\"*\").all())\n",
    "shape: (1, 3)\n",
    "┌──────┬───────┬──────┐\n",
    "│ a    │ b     │ c    │\n",
    "│ ---  │ ---   │ ---  │\n",
    "│ bool │ bool  │ bool │\n",
    "╞══════╪═══════╪══════╡\n",
    "│ true │ false │ true │\n",
    "└──────┴───────┴──────┘\n",
    "```\n",
    "\n",
    "Here, `pl.col(\"a\").all()` returns `True` because all non-null values in column \"a\" are `True`. But `pl.col(\"b\").all()` returns `False` because there is a `False` value in column \"b\"."
   ]
  },
  {
   "cell_type": "code",
   "execution_count": 47,
   "id": "96c853f7-b391-4632-b3c5-c5a0a4f78ab8",
   "metadata": {},
   "outputs": [
    {
     "data": {
      "text/html": [
       "<div><style>\n",
       ".dataframe > thead > tr,\n",
       ".dataframe > tbody > tr {\n",
       "  text-align: right;\n",
       "  white-space: pre-wrap;\n",
       "}\n",
       "</style>\n",
       "<small>shape: (1, 4)</small><table border=\"1\" class=\"dataframe\"><thead><tr><th>displ</th><th>cylinders</th><th>trany</th><th>drive</th></tr><tr><td>f64</td><td>f64</td><td>f64</td><td>f64</td></tr></thead><tbody><tr><td>1.997842</td><td>2.001992</td><td>0.022821</td><td>2.460479</td></tr></tbody></table></div>"
      ],
      "text/plain": [
       "shape: (1, 4)\n",
       "+----------+-----------+----------+----------+\n",
       "| displ    | cylinders | trany    | drive    |\n",
       "| ---      | ---       | ---      | ---      |\n",
       "| f64      | f64       | f64      | f64      |\n",
       "+============================================+\n",
       "| 1.997842 | 2.001992  | 0.022821 | 2.460479 |\n",
       "+----------+-----------+----------+----------+"
      ]
     },
     "execution_count": 47,
     "metadata": {},
     "output_type": "execute_result"
    }
   ],
   "source": [
    "(\n",
    "    autos\n",
    "    .select(pl.all().is_null().cast(pl.Int32).mean()*100)\n",
    "    .pipe(lambda df_: df_.select([\n",
    "        col.name \n",
    "        for col in df_.select(pl.col(pl.Float64)>0) \n",
    "        if col.all()\n",
    "        ]))\n",
    ")"
   ]
  },
  {
   "cell_type": "code",
   "execution_count": 48,
   "id": "495d3617-5a4b-47db-8599-35e896da688e",
   "metadata": {},
   "outputs": [
    {
     "data": {
      "text/html": [
       "<div><style>\n",
       ".dataframe > thead > tr,\n",
       ".dataframe > tbody > tr {\n",
       "  text-align: right;\n",
       "  white-space: pre-wrap;\n",
       "}\n",
       "</style>\n",
       "<small>shape: (1, 4)</small><table border=\"1\" class=\"dataframe\"><thead><tr><th>displ</th><th>cylinders</th><th>trany</th><th>drive</th></tr><tr><td>f64</td><td>f64</td><td>f64</td><td>f64</td></tr></thead><tbody><tr><td>1.997842</td><td>2.001992</td><td>0.022821</td><td>2.460479</td></tr></tbody></table></div>"
      ],
      "text/plain": [
       "shape: (1, 4)\n",
       "+----------+-----------+----------+----------+\n",
       "| displ    | cylinders | trany    | drive    |\n",
       "| ---      | ---       | ---      | ---      |\n",
       "| f64      | f64       | f64      | f64      |\n",
       "+============================================+\n",
       "| 1.997842 | 2.001992  | 0.022821 | 2.460479 |\n",
       "+----------+-----------+----------+----------+"
      ]
     },
     "execution_count": 48,
     "metadata": {},
     "output_type": "execute_result"
    }
   ],
   "source": [
    "# Variation using a regular function\n",
    "def check_columns(df_):\n",
    "    return (df_.select(\n",
    "        # Use x.all() to get a boolean value for each column\n",
    "        [x.name for x in df_.select(pl.col(pl.Float64)>0) if x.all()]\n",
    "    )\n",
    ")\n",
    "\n",
    "(\n",
    "    autos\n",
    "    .select(pl.all().is_null().cast(pl.Int32).mean()*100)\n",
    "    .pipe(check_columns)\n",
    ")"
   ]
  },
  {
   "cell_type": "markdown",
   "id": "7d4d1388-d3a8-447d-8f90-915a6adcc5ae",
   "metadata": {},
   "source": [
    "* Since Polars has both NULL and NaN values, we want to also look for Nan values.\n",
    "* Only numeric columns can have NaN values, so we need to filter on numeric columns.\n",
    "* Use the `selectors` module to get numeric columns."
   ]
  },
  {
   "cell_type": "code",
   "execution_count": 49,
   "id": "afe71f50-4971-4cd5-89b6-c4f4da0ed094",
   "metadata": {},
   "outputs": [
    {
     "data": {
      "text/html": [
       "<div><style>\n",
       ".dataframe > thead > tr,\n",
       ".dataframe > tbody > tr {\n",
       "  text-align: right;\n",
       "  white-space: pre-wrap;\n",
       "}\n",
       "</style>\n",
       "<small>shape: (0, 0)</small><table border=\"1\" class=\"dataframe\"><thead><tr></tr><tr></tr></thead><tbody></tbody></table></div>"
      ],
      "text/plain": [
       "shape: (0, 0)\n",
       "++\n",
       "++\n",
       "++"
      ]
     },
     "execution_count": 49,
     "metadata": {},
     "output_type": "execute_result"
    }
   ],
   "source": [
    "import polars.selectors as cs\n",
    "\n",
    "(\n",
    "    autos\n",
    "    .select(\n",
    "        cs.numeric().is_nan().cast(pl.Int32).mean()*100\n",
    "    )\n",
    "    .pipe(check_columns)\n",
    ")"
   ]
  },
  {
   "cell_type": "markdown",
   "id": "f40f2000-1ad7-4d42-b480-b8acf8f1412e",
   "metadata": {},
   "source": [
    "* From this, it appears there are no NaN values in the numeric columns.\n",
    "* Most CSV files don't distinguish between NULL and NaN values.\n",
    "* However, when parsing CSV files, Polars treats NaN as nan, and the empty string as null."
   ]
  },
  {
   "cell_type": "markdown",
   "id": "4d9f2b3e-30e4-4be5-89ca-e236d009c385",
   "metadata": {},
   "source": [
    "---\n",
    "# 5.10 Dropping Rows with Missing Values\n",
    "\n",
    "[back to Top](#Top)\n",
    "\n",
    "* NULL values can be problematic for ML algorithms.\n",
    "* Some algorithsm like XGBoost can handle NULL values.\n",
    "* PCA cannot."
   ]
  },
  {
   "cell_type": "code",
   "execution_count": 50,
   "id": "3fb9d185-f23e-4f75-89ab-b382fb059e35",
   "metadata": {},
   "outputs": [
    {
     "name": "stdout",
     "output_type": "stream",
     "text": [
      "Input X contains NaN.\n",
      "PCA does not accept missing values encoded as NaN natively. For supervised learning, you might want to consider sklearn.ensemble.HistGradientBoostingClassifier and Regressor which accept missing values encoded as NaNs natively. Alternatively, it is possible to preprocess the data, for instance by using an imputer transformer in a pipeline or drop samples with missing values. See https://scikit-learn.org/stable/modules/impute.html You can find a list of all estimators that handle NaN values at the following page: https://scikit-learn.org/stable/modules/impute.html#estimators-that-handle-nan-values\n"
     ]
    }
   ],
   "source": [
    "from sklearn import decomposition\n",
    "import polars.selectors as cs\n",
    "\n",
    "pca = decomposition.PCA()\n",
    "\n",
    "try:\n",
    "    pca.fit(autos.select((cs.numeric())))\n",
    "except Exception as e:\n",
    "    print(e)"
   ]
  },
  {
   "cell_type": "markdown",
   "id": "ebc7e5dc-8c63-4355-97f0-d2d0d6ed2fbc",
   "metadata": {},
   "source": [
    "---\n",
    "* Drop all rows that have missing values, with `.drop_nulls()`."
   ]
  },
  {
   "cell_type": "code",
   "execution_count": 51,
   "id": "0d0cd3e1-7ce5-4633-a6ec-f3493867ca1a",
   "metadata": {},
   "outputs": [
    {
     "name": "stderr",
     "output_type": "stream",
     "text": [
      "dataframe filtered\n"
     ]
    },
    {
     "data": {
      "text/html": [
       "<div><style>\n",
       ".dataframe > thead > tr,\n",
       ".dataframe > tbody > tr {\n",
       "  text-align: right;\n",
       "  white-space: pre-wrap;\n",
       "}\n",
       "</style>\n",
       "<small>shape: (46_057, 15)</small><table border=\"1\" class=\"dataframe\"><thead><tr><th>year</th><th>make</th><th>model</th><th>displ</th><th>cylinders</th><th>trany</th><th>drive</th><th>VClass</th><th>fuelType</th><th>barrels08</th><th>city08</th><th>highway08</th><th>createdOn</th><th>is_automatic</th><th>num_gears</th></tr><tr><td>i16</td><td>cat</td><td>cat</td><td>f32</td><td>u8</td><td>str</td><td>cat</td><td>cat</td><td>cat</td><td>f32</td><td>u8</td><td>u8</td><td>datetime[μs]</td><td>str</td><td>u8</td></tr></thead><tbody><tr><td>1985</td><td>&quot;Alfa Romeo&quot;</td><td>&quot;Spider Veloce 2000&quot;</td><td>2.0</td><td>4</td><td>&quot;Manual 5-spd&quot;</td><td>&quot;Rear-Wheel Drive&quot;</td><td>&quot;Two Seaters&quot;</td><td>&quot;Regular&quot;</td><td>14.167143</td><td>19</td><td>25</td><td>2013-01-01 00:00:00</td><td>&quot;false&quot;</td><td>5</td></tr><tr><td>1985</td><td>&quot;Ferrari&quot;</td><td>&quot;Testarossa&quot;</td><td>4.9</td><td>12</td><td>&quot;Manual 5-spd&quot;</td><td>&quot;Rear-Wheel Drive&quot;</td><td>&quot;Two Seaters&quot;</td><td>&quot;Regular&quot;</td><td>27.046364</td><td>9</td><td>14</td><td>2013-01-01 00:00:00</td><td>&quot;false&quot;</td><td>5</td></tr><tr><td>1985</td><td>&quot;Dodge&quot;</td><td>&quot;Charger&quot;</td><td>2.2</td><td>4</td><td>&quot;Manual 5-spd&quot;</td><td>&quot;Front-Wheel Drive&quot;</td><td>&quot;Subcompact Cars&quot;</td><td>&quot;Regular&quot;</td><td>11.018888</td><td>23</td><td>33</td><td>2013-01-01 00:00:00</td><td>&quot;false&quot;</td><td>5</td></tr><tr><td>1985</td><td>&quot;Dodge&quot;</td><td>&quot;B150/B250 Wagon 2WD&quot;</td><td>5.2</td><td>8</td><td>&quot;Automatic 3-spd&quot;</td><td>&quot;Rear-Wheel Drive&quot;</td><td>&quot;Vans&quot;</td><td>&quot;Regular&quot;</td><td>27.046364</td><td>10</td><td>12</td><td>2013-01-01 00:00:00</td><td>&quot;true&quot;</td><td>3</td></tr><tr><td>1993</td><td>&quot;Subaru&quot;</td><td>&quot;Legacy AWD Turbo&quot;</td><td>2.2</td><td>4</td><td>&quot;Manual 5-spd&quot;</td><td>&quot;4-Wheel or All-Wheel Drive&quot;</td><td>&quot;Compact Cars&quot;</td><td>&quot;Premium&quot;</td><td>15.658422</td><td>17</td><td>23</td><td>2013-01-01 00:00:00</td><td>&quot;false&quot;</td><td>5</td></tr><tr><td>&hellip;</td><td>&hellip;</td><td>&hellip;</td><td>&hellip;</td><td>&hellip;</td><td>&hellip;</td><td>&hellip;</td><td>&hellip;</td><td>&hellip;</td><td>&hellip;</td><td>&hellip;</td><td>&hellip;</td><td>&hellip;</td><td>&hellip;</td><td>&hellip;</td></tr><tr><td>1993</td><td>&quot;Subaru&quot;</td><td>&quot;Legacy&quot;</td><td>2.2</td><td>4</td><td>&quot;Automatic 4-spd&quot;</td><td>&quot;Front-Wheel Drive&quot;</td><td>&quot;Compact Cars&quot;</td><td>&quot;Regular&quot;</td><td>13.523182</td><td>19</td><td>26</td><td>2013-01-01 00:00:00</td><td>&quot;true&quot;</td><td>4</td></tr><tr><td>1993</td><td>&quot;Subaru&quot;</td><td>&quot;Legacy&quot;</td><td>2.2</td><td>4</td><td>&quot;Manual 5-spd&quot;</td><td>&quot;Front-Wheel Drive&quot;</td><td>&quot;Compact Cars&quot;</td><td>&quot;Regular&quot;</td><td>12.935218</td><td>20</td><td>28</td><td>2013-01-01 00:00:00</td><td>&quot;false&quot;</td><td>5</td></tr><tr><td>1993</td><td>&quot;Subaru&quot;</td><td>&quot;Legacy AWD&quot;</td><td>2.2</td><td>4</td><td>&quot;Automatic 4-spd&quot;</td><td>&quot;4-Wheel or All-Wheel Drive&quot;</td><td>&quot;Compact Cars&quot;</td><td>&quot;Regular&quot;</td><td>14.167143</td><td>18</td><td>24</td><td>2013-01-01 00:00:00</td><td>&quot;true&quot;</td><td>4</td></tr><tr><td>1993</td><td>&quot;Subaru&quot;</td><td>&quot;Legacy AWD&quot;</td><td>2.2</td><td>4</td><td>&quot;Manual 5-spd&quot;</td><td>&quot;4-Wheel or All-Wheel Drive&quot;</td><td>&quot;Compact Cars&quot;</td><td>&quot;Regular&quot;</td><td>14.167143</td><td>18</td><td>24</td><td>2013-01-01 00:00:00</td><td>&quot;false&quot;</td><td>5</td></tr><tr><td>1993</td><td>&quot;Subaru&quot;</td><td>&quot;Legacy AWD Turbo&quot;</td><td>2.2</td><td>4</td><td>&quot;Automatic 4-spd&quot;</td><td>&quot;4-Wheel or All-Wheel Drive&quot;</td><td>&quot;Compact Cars&quot;</td><td>&quot;Premium&quot;</td><td>16.528334</td><td>16</td><td>21</td><td>2013-01-01 00:00:00</td><td>&quot;true&quot;</td><td>4</td></tr></tbody></table></div>"
      ],
      "text/plain": [
       "shape: (46_057, 15)\n",
       "+-----+-----+-----+-----+-----+-----+-----+-----+-----+-----+-----+--------+-------+-------+-------+\n",
       "| yea | mak | mod | dis | cyl | tra | dri | VCl | fue | bar | cit | highwa | creat | is_au | num_g |\n",
       "| r   | e   | el  | pl  | ind | ny  | ve  | ass | lTy | rel | y08 | y08    | edOn  | tomat | ears  |\n",
       "| --- | --- | --- | --- | ers | --- | --- | --- | pe  | s08 | --- | ---    | ---   | ic    | ---   |\n",
       "| i16 | cat | cat | f32 | --- | str | cat | cat | --- | --- | u8  | u8     | datet | ---   | u8    |\n",
       "|     |     |     |     | u8  |     |     |     | cat | f32 |     |        | ime[μ | str   |       |\n",
       "|     |     |     |     |     |     |     |     |     |     |     |        | s]    |       |       |\n",
       "+==================================================================================================+\n",
       "| 198 | Alf | Spi | 2.0 | 4   | Man | Rea | Two | Reg | 14. | 19  | 25     | 2013- | false | 5     |\n",
       "| 5   | a   | der |     |     | ual | r-W | Sea | ula | 167 |     |        | 01-01 |       |       |\n",
       "|     | Rom | Vel |     |     | 5-s | hee | ter | r   | 143 |     |        | 00:00 |       |       |\n",
       "|     | eo  | oce |     |     | pd  | l   | s   |     |     |     |        | :00   |       |       |\n",
       "|     |     | 200 |     |     |     | Dri |     |     |     |     |        |       |       |       |\n",
       "|     |     | 0   |     |     |     | ve  |     |     |     |     |        |       |       |       |\n",
       "| 198 | Fer | Tes | 4.9 | 12  | Man | Rea | Two | Reg | 27. | 9   | 14     | 2013- | false | 5     |\n",
       "| 5   | rar | tar |     |     | ual | r-W | Sea | ula | 046 |     |        | 01-01 |       |       |\n",
       "|     | i   | oss |     |     | 5-s | hee | ter | r   | 364 |     |        | 00:00 |       |       |\n",
       "|     |     | a   |     |     | pd  | l   | s   |     |     |     |        | :00   |       |       |\n",
       "|     |     |     |     |     |     | Dri |     |     |     |     |        |       |       |       |\n",
       "|     |     |     |     |     |     | ve  |     |     |     |     |        |       |       |       |\n",
       "| 198 | Dod | Cha | 2.2 | 4   | Man | Fro | Sub | Reg | 11. | 23  | 33     | 2013- | false | 5     |\n",
       "| 5   | ge  | rge |     |     | ual | nt- | com | ula | 018 |     |        | 01-01 |       |       |\n",
       "|     |     | r   |     |     | 5-s | Whe | pac | r   | 888 |     |        | 00:00 |       |       |\n",
       "|     |     |     |     |     | pd  | el  | t   |     |     |     |        | :00   |       |       |\n",
       "|     |     |     |     |     |     | Dri | Car |     |     |     |        |       |       |       |\n",
       "|     |     |     |     |     |     | ve  | s   |     |     |     |        |       |       |       |\n",
       "| 198 | Dod | B15 | 5.2 | 8   | Aut | Rea | Van | Reg | 27. | 10  | 12     | 2013- | true  | 3     |\n",
       "| 5   | ge  | 0/B |     |     | oma | r-W | s   | ula | 046 |     |        | 01-01 |       |       |\n",
       "|     |     | 250 |     |     | tic | hee |     | r   | 364 |     |        | 00:00 |       |       |\n",
       "|     |     | Wag |     |     | 3-s | l   |     |     |     |     |        | :00   |       |       |\n",
       "|     |     | on  |     |     | pd  | Dri |     |     |     |     |        |       |       |       |\n",
       "|     |     | 2WD |     |     |     | ve  |     |     |     |     |        |       |       |       |\n",
       "| 199 | Sub | Leg | 2.2 | 4   | Man | 4-W | Com | Pre | 15. | 17  | 23     | 2013- | false | 5     |\n",
       "| 3   | aru | acy |     |     | ual | hee | pac | miu | 658 |     |        | 01-01 |       |       |\n",
       "|     |     | AWD |     |     | 5-s | l   | t   | m   | 422 |     |        | 00:00 |       |       |\n",
       "|     |     | Tur |     |     | pd  | or  | Car |     |     |     |        | :00   |       |       |\n",
       "|     |     | bo  |     |     |     | All | s   |     |     |     |        |       |       |       |\n",
       "|     |     |     |     |     |     | -Wh |     |     |     |     |        |       |       |       |\n",
       "|     |     |     |     |     |     | eel |     |     |     |     |        |       |       |       |\n",
       "|     |     |     |     |     |     | Dri |     |     |     |     |        |       |       |       |\n",
       "|     |     |     |     |     |     | ve  |     |     |     |     |        |       |       |       |\n",
       "| …   | …   | …   | …   | …   | …   | …   | …   | …   | …   | …   | …      | …     | …     | …     |\n",
       "| 199 | Sub | Leg | 2.2 | 4   | Aut | Fro | Com | Reg | 13. | 19  | 26     | 2013- | true  | 4     |\n",
       "| 3   | aru | acy |     |     | oma | nt- | pac | ula | 523 |     |        | 01-01 |       |       |\n",
       "|     |     |     |     |     | tic | Whe | t   | r   | 182 |     |        | 00:00 |       |       |\n",
       "|     |     |     |     |     | 4-s | el  | Car |     |     |     |        | :00   |       |       |\n",
       "|     |     |     |     |     | pd  | Dri | s   |     |     |     |        |       |       |       |\n",
       "|     |     |     |     |     |     | ve  |     |     |     |     |        |       |       |       |\n",
       "| 199 | Sub | Leg | 2.2 | 4   | Man | Fro | Com | Reg | 12. | 20  | 28     | 2013- | false | 5     |\n",
       "| 3   | aru | acy |     |     | ual | nt- | pac | ula | 935 |     |        | 01-01 |       |       |\n",
       "|     |     |     |     |     | 5-s | Whe | t   | r   | 218 |     |        | 00:00 |       |       |\n",
       "|     |     |     |     |     | pd  | el  | Car |     |     |     |        | :00   |       |       |\n",
       "|     |     |     |     |     |     | Dri | s   |     |     |     |        |       |       |       |\n",
       "|     |     |     |     |     |     | ve  |     |     |     |     |        |       |       |       |\n",
       "| 199 | Sub | Leg | 2.2 | 4   | Aut | 4-W | Com | Reg | 14. | 18  | 24     | 2013- | true  | 4     |\n",
       "| 3   | aru | acy |     |     | oma | hee | pac | ula | 167 |     |        | 01-01 |       |       |\n",
       "|     |     | AWD |     |     | tic | l   | t   | r   | 143 |     |        | 00:00 |       |       |\n",
       "|     |     |     |     |     | 4-s | or  | Car |     |     |     |        | :00   |       |       |\n",
       "|     |     |     |     |     | pd  | All | s   |     |     |     |        |       |       |       |\n",
       "|     |     |     |     |     |     | -Wh |     |     |     |     |        |       |       |       |\n",
       "|     |     |     |     |     |     | eel |     |     |     |     |        |       |       |       |\n",
       "|     |     |     |     |     |     | Dri |     |     |     |     |        |       |       |       |\n",
       "|     |     |     |     |     |     | ve  |     |     |     |     |        |       |       |       |\n",
       "| 199 | Sub | Leg | 2.2 | 4   | Man | 4-W | Com | Reg | 14. | 18  | 24     | 2013- | false | 5     |\n",
       "| 3   | aru | acy |     |     | ual | hee | pac | ula | 167 |     |        | 01-01 |       |       |\n",
       "|     |     | AWD |     |     | 5-s | l   | t   | r   | 143 |     |        | 00:00 |       |       |\n",
       "|     |     |     |     |     | pd  | or  | Car |     |     |     |        | :00   |       |       |\n",
       "|     |     |     |     |     |     | All | s   |     |     |     |        |       |       |       |\n",
       "|     |     |     |     |     |     | -Wh |     |     |     |     |        |       |       |       |\n",
       "|     |     |     |     |     |     | eel |     |     |     |     |        |       |       |       |\n",
       "|     |     |     |     |     |     | Dri |     |     |     |     |        |       |       |       |\n",
       "|     |     |     |     |     |     | ve  |     |     |     |     |        |       |       |       |\n",
       "| 199 | Sub | Leg | 2.2 | 4   | Aut | 4-W | Com | Pre | 16. | 16  | 21     | 2013- | true  | 4     |\n",
       "| 3   | aru | acy |     |     | oma | hee | pac | miu | 528 |     |        | 01-01 |       |       |\n",
       "|     |     | AWD |     |     | tic | l   | t   | m   | 334 |     |        | 00:00 |       |       |\n",
       "|     |     | Tur |     |     | 4-s | or  | Car |     |     |     |        | :00   |       |       |\n",
       "|     |     | bo  |     |     | pd  | All | s   |     |     |     |        |       |       |       |\n",
       "|     |     |     |     |     |     | -Wh |     |     |     |     |        |       |       |       |\n",
       "|     |     |     |     |     |     | eel |     |     |     |     |        |       |       |       |\n",
       "|     |     |     |     |     |     | Dri |     |     |     |     |        |       |       |       |\n",
       "|     |     |     |     |     |     | ve  |     |     |     |     |        |       |       |       |\n",
       "+-----+-----+-----+-----+-----+-----+-----+-----+-----+-----+-----+--------+-------+-------+-------+"
      ]
     },
     "execution_count": 51,
     "metadata": {},
     "output_type": "execute_result"
    }
   ],
   "source": [
    "autos.drop_nulls()"
   ]
  },
  {
   "cell_type": "markdown",
   "id": "ea221a91-b2ca-431e-bc9f-4963b7a122c3",
   "metadata": {},
   "source": [
    "* We can be more selective and drop only rows with missing values in specific colunns.\n",
    "* We do this by passing a list of columns to the `subset` parameter.\n",
    "* Here, remove rows with missing values in the *cylinders* and *displ* columns."
   ]
  },
  {
   "cell_type": "code",
   "execution_count": 52,
   "id": "4821f1f3-0dbb-4da7-900e-c69e3225678d",
   "metadata": {},
   "outputs": [
    {
     "name": "stderr",
     "output_type": "stream",
     "text": [
      "dataframe filtered\n"
     ]
    },
    {
     "data": {
      "text/html": [
       "<div><style>\n",
       ".dataframe > thead > tr,\n",
       ".dataframe > tbody > tr {\n",
       "  text-align: right;\n",
       "  white-space: pre-wrap;\n",
       "}\n",
       "</style>\n",
       "<small>shape: (47_237, 15)</small><table border=\"1\" class=\"dataframe\"><thead><tr><th>year</th><th>make</th><th>model</th><th>displ</th><th>cylinders</th><th>trany</th><th>drive</th><th>VClass</th><th>fuelType</th><th>barrels08</th><th>city08</th><th>highway08</th><th>createdOn</th><th>is_automatic</th><th>num_gears</th></tr><tr><td>i16</td><td>cat</td><td>cat</td><td>f32</td><td>u8</td><td>str</td><td>cat</td><td>cat</td><td>cat</td><td>f32</td><td>u8</td><td>u8</td><td>datetime[μs]</td><td>str</td><td>u8</td></tr></thead><tbody><tr><td>1985</td><td>&quot;Alfa Romeo&quot;</td><td>&quot;Spider Veloce 2000&quot;</td><td>2.0</td><td>4</td><td>&quot;Manual 5-spd&quot;</td><td>&quot;Rear-Wheel Drive&quot;</td><td>&quot;Two Seaters&quot;</td><td>&quot;Regular&quot;</td><td>14.167143</td><td>19</td><td>25</td><td>2013-01-01 00:00:00</td><td>&quot;false&quot;</td><td>5</td></tr><tr><td>1985</td><td>&quot;Ferrari&quot;</td><td>&quot;Testarossa&quot;</td><td>4.9</td><td>12</td><td>&quot;Manual 5-spd&quot;</td><td>&quot;Rear-Wheel Drive&quot;</td><td>&quot;Two Seaters&quot;</td><td>&quot;Regular&quot;</td><td>27.046364</td><td>9</td><td>14</td><td>2013-01-01 00:00:00</td><td>&quot;false&quot;</td><td>5</td></tr><tr><td>1985</td><td>&quot;Dodge&quot;</td><td>&quot;Charger&quot;</td><td>2.2</td><td>4</td><td>&quot;Manual 5-spd&quot;</td><td>&quot;Front-Wheel Drive&quot;</td><td>&quot;Subcompact Cars&quot;</td><td>&quot;Regular&quot;</td><td>11.018888</td><td>23</td><td>33</td><td>2013-01-01 00:00:00</td><td>&quot;false&quot;</td><td>5</td></tr><tr><td>1985</td><td>&quot;Dodge&quot;</td><td>&quot;B150/B250 Wagon 2WD&quot;</td><td>5.2</td><td>8</td><td>&quot;Automatic 3-spd&quot;</td><td>&quot;Rear-Wheel Drive&quot;</td><td>&quot;Vans&quot;</td><td>&quot;Regular&quot;</td><td>27.046364</td><td>10</td><td>12</td><td>2013-01-01 00:00:00</td><td>&quot;true&quot;</td><td>3</td></tr><tr><td>1993</td><td>&quot;Subaru&quot;</td><td>&quot;Legacy AWD Turbo&quot;</td><td>2.2</td><td>4</td><td>&quot;Manual 5-spd&quot;</td><td>&quot;4-Wheel or All-Wheel Drive&quot;</td><td>&quot;Compact Cars&quot;</td><td>&quot;Premium&quot;</td><td>15.658422</td><td>17</td><td>23</td><td>2013-01-01 00:00:00</td><td>&quot;false&quot;</td><td>5</td></tr><tr><td>&hellip;</td><td>&hellip;</td><td>&hellip;</td><td>&hellip;</td><td>&hellip;</td><td>&hellip;</td><td>&hellip;</td><td>&hellip;</td><td>&hellip;</td><td>&hellip;</td><td>&hellip;</td><td>&hellip;</td><td>&hellip;</td><td>&hellip;</td><td>&hellip;</td></tr><tr><td>1993</td><td>&quot;Subaru&quot;</td><td>&quot;Legacy&quot;</td><td>2.2</td><td>4</td><td>&quot;Automatic 4-spd&quot;</td><td>&quot;Front-Wheel Drive&quot;</td><td>&quot;Compact Cars&quot;</td><td>&quot;Regular&quot;</td><td>13.523182</td><td>19</td><td>26</td><td>2013-01-01 00:00:00</td><td>&quot;true&quot;</td><td>4</td></tr><tr><td>1993</td><td>&quot;Subaru&quot;</td><td>&quot;Legacy&quot;</td><td>2.2</td><td>4</td><td>&quot;Manual 5-spd&quot;</td><td>&quot;Front-Wheel Drive&quot;</td><td>&quot;Compact Cars&quot;</td><td>&quot;Regular&quot;</td><td>12.935218</td><td>20</td><td>28</td><td>2013-01-01 00:00:00</td><td>&quot;false&quot;</td><td>5</td></tr><tr><td>1993</td><td>&quot;Subaru&quot;</td><td>&quot;Legacy AWD&quot;</td><td>2.2</td><td>4</td><td>&quot;Automatic 4-spd&quot;</td><td>&quot;4-Wheel or All-Wheel Drive&quot;</td><td>&quot;Compact Cars&quot;</td><td>&quot;Regular&quot;</td><td>14.167143</td><td>18</td><td>24</td><td>2013-01-01 00:00:00</td><td>&quot;true&quot;</td><td>4</td></tr><tr><td>1993</td><td>&quot;Subaru&quot;</td><td>&quot;Legacy AWD&quot;</td><td>2.2</td><td>4</td><td>&quot;Manual 5-spd&quot;</td><td>&quot;4-Wheel or All-Wheel Drive&quot;</td><td>&quot;Compact Cars&quot;</td><td>&quot;Regular&quot;</td><td>14.167143</td><td>18</td><td>24</td><td>2013-01-01 00:00:00</td><td>&quot;false&quot;</td><td>5</td></tr><tr><td>1993</td><td>&quot;Subaru&quot;</td><td>&quot;Legacy AWD Turbo&quot;</td><td>2.2</td><td>4</td><td>&quot;Automatic 4-spd&quot;</td><td>&quot;4-Wheel or All-Wheel Drive&quot;</td><td>&quot;Compact Cars&quot;</td><td>&quot;Premium&quot;</td><td>16.528334</td><td>16</td><td>21</td><td>2013-01-01 00:00:00</td><td>&quot;true&quot;</td><td>4</td></tr></tbody></table></div>"
      ],
      "text/plain": [
       "shape: (47_237, 15)\n",
       "+-----+-----+-----+-----+-----+-----+-----+-----+-----+-----+-----+--------+-------+-------+-------+\n",
       "| yea | mak | mod | dis | cyl | tra | dri | VCl | fue | bar | cit | highwa | creat | is_au | num_g |\n",
       "| r   | e   | el  | pl  | ind | ny  | ve  | ass | lTy | rel | y08 | y08    | edOn  | tomat | ears  |\n",
       "| --- | --- | --- | --- | ers | --- | --- | --- | pe  | s08 | --- | ---    | ---   | ic    | ---   |\n",
       "| i16 | cat | cat | f32 | --- | str | cat | cat | --- | --- | u8  | u8     | datet | ---   | u8    |\n",
       "|     |     |     |     | u8  |     |     |     | cat | f32 |     |        | ime[μ | str   |       |\n",
       "|     |     |     |     |     |     |     |     |     |     |     |        | s]    |       |       |\n",
       "+==================================================================================================+\n",
       "| 198 | Alf | Spi | 2.0 | 4   | Man | Rea | Two | Reg | 14. | 19  | 25     | 2013- | false | 5     |\n",
       "| 5   | a   | der |     |     | ual | r-W | Sea | ula | 167 |     |        | 01-01 |       |       |\n",
       "|     | Rom | Vel |     |     | 5-s | hee | ter | r   | 143 |     |        | 00:00 |       |       |\n",
       "|     | eo  | oce |     |     | pd  | l   | s   |     |     |     |        | :00   |       |       |\n",
       "|     |     | 200 |     |     |     | Dri |     |     |     |     |        |       |       |       |\n",
       "|     |     | 0   |     |     |     | ve  |     |     |     |     |        |       |       |       |\n",
       "| 198 | Fer | Tes | 4.9 | 12  | Man | Rea | Two | Reg | 27. | 9   | 14     | 2013- | false | 5     |\n",
       "| 5   | rar | tar |     |     | ual | r-W | Sea | ula | 046 |     |        | 01-01 |       |       |\n",
       "|     | i   | oss |     |     | 5-s | hee | ter | r   | 364 |     |        | 00:00 |       |       |\n",
       "|     |     | a   |     |     | pd  | l   | s   |     |     |     |        | :00   |       |       |\n",
       "|     |     |     |     |     |     | Dri |     |     |     |     |        |       |       |       |\n",
       "|     |     |     |     |     |     | ve  |     |     |     |     |        |       |       |       |\n",
       "| 198 | Dod | Cha | 2.2 | 4   | Man | Fro | Sub | Reg | 11. | 23  | 33     | 2013- | false | 5     |\n",
       "| 5   | ge  | rge |     |     | ual | nt- | com | ula | 018 |     |        | 01-01 |       |       |\n",
       "|     |     | r   |     |     | 5-s | Whe | pac | r   | 888 |     |        | 00:00 |       |       |\n",
       "|     |     |     |     |     | pd  | el  | t   |     |     |     |        | :00   |       |       |\n",
       "|     |     |     |     |     |     | Dri | Car |     |     |     |        |       |       |       |\n",
       "|     |     |     |     |     |     | ve  | s   |     |     |     |        |       |       |       |\n",
       "| 198 | Dod | B15 | 5.2 | 8   | Aut | Rea | Van | Reg | 27. | 10  | 12     | 2013- | true  | 3     |\n",
       "| 5   | ge  | 0/B |     |     | oma | r-W | s   | ula | 046 |     |        | 01-01 |       |       |\n",
       "|     |     | 250 |     |     | tic | hee |     | r   | 364 |     |        | 00:00 |       |       |\n",
       "|     |     | Wag |     |     | 3-s | l   |     |     |     |     |        | :00   |       |       |\n",
       "|     |     | on  |     |     | pd  | Dri |     |     |     |     |        |       |       |       |\n",
       "|     |     | 2WD |     |     |     | ve  |     |     |     |     |        |       |       |       |\n",
       "| 199 | Sub | Leg | 2.2 | 4   | Man | 4-W | Com | Pre | 15. | 17  | 23     | 2013- | false | 5     |\n",
       "| 3   | aru | acy |     |     | ual | hee | pac | miu | 658 |     |        | 01-01 |       |       |\n",
       "|     |     | AWD |     |     | 5-s | l   | t   | m   | 422 |     |        | 00:00 |       |       |\n",
       "|     |     | Tur |     |     | pd  | or  | Car |     |     |     |        | :00   |       |       |\n",
       "|     |     | bo  |     |     |     | All | s   |     |     |     |        |       |       |       |\n",
       "|     |     |     |     |     |     | -Wh |     |     |     |     |        |       |       |       |\n",
       "|     |     |     |     |     |     | eel |     |     |     |     |        |       |       |       |\n",
       "|     |     |     |     |     |     | Dri |     |     |     |     |        |       |       |       |\n",
       "|     |     |     |     |     |     | ve  |     |     |     |     |        |       |       |       |\n",
       "| …   | …   | …   | …   | …   | …   | …   | …   | …   | …   | …   | …      | …     | …     | …     |\n",
       "| 199 | Sub | Leg | 2.2 | 4   | Aut | Fro | Com | Reg | 13. | 19  | 26     | 2013- | true  | 4     |\n",
       "| 3   | aru | acy |     |     | oma | nt- | pac | ula | 523 |     |        | 01-01 |       |       |\n",
       "|     |     |     |     |     | tic | Whe | t   | r   | 182 |     |        | 00:00 |       |       |\n",
       "|     |     |     |     |     | 4-s | el  | Car |     |     |     |        | :00   |       |       |\n",
       "|     |     |     |     |     | pd  | Dri | s   |     |     |     |        |       |       |       |\n",
       "|     |     |     |     |     |     | ve  |     |     |     |     |        |       |       |       |\n",
       "| 199 | Sub | Leg | 2.2 | 4   | Man | Fro | Com | Reg | 12. | 20  | 28     | 2013- | false | 5     |\n",
       "| 3   | aru | acy |     |     | ual | nt- | pac | ula | 935 |     |        | 01-01 |       |       |\n",
       "|     |     |     |     |     | 5-s | Whe | t   | r   | 218 |     |        | 00:00 |       |       |\n",
       "|     |     |     |     |     | pd  | el  | Car |     |     |     |        | :00   |       |       |\n",
       "|     |     |     |     |     |     | Dri | s   |     |     |     |        |       |       |       |\n",
       "|     |     |     |     |     |     | ve  |     |     |     |     |        |       |       |       |\n",
       "| 199 | Sub | Leg | 2.2 | 4   | Aut | 4-W | Com | Reg | 14. | 18  | 24     | 2013- | true  | 4     |\n",
       "| 3   | aru | acy |     |     | oma | hee | pac | ula | 167 |     |        | 01-01 |       |       |\n",
       "|     |     | AWD |     |     | tic | l   | t   | r   | 143 |     |        | 00:00 |       |       |\n",
       "|     |     |     |     |     | 4-s | or  | Car |     |     |     |        | :00   |       |       |\n",
       "|     |     |     |     |     | pd  | All | s   |     |     |     |        |       |       |       |\n",
       "|     |     |     |     |     |     | -Wh |     |     |     |     |        |       |       |       |\n",
       "|     |     |     |     |     |     | eel |     |     |     |     |        |       |       |       |\n",
       "|     |     |     |     |     |     | Dri |     |     |     |     |        |       |       |       |\n",
       "|     |     |     |     |     |     | ve  |     |     |     |     |        |       |       |       |\n",
       "| 199 | Sub | Leg | 2.2 | 4   | Man | 4-W | Com | Reg | 14. | 18  | 24     | 2013- | false | 5     |\n",
       "| 3   | aru | acy |     |     | ual | hee | pac | ula | 167 |     |        | 01-01 |       |       |\n",
       "|     |     | AWD |     |     | 5-s | l   | t   | r   | 143 |     |        | 00:00 |       |       |\n",
       "|     |     |     |     |     | pd  | or  | Car |     |     |     |        | :00   |       |       |\n",
       "|     |     |     |     |     |     | All | s   |     |     |     |        |       |       |       |\n",
       "|     |     |     |     |     |     | -Wh |     |     |     |     |        |       |       |       |\n",
       "|     |     |     |     |     |     | eel |     |     |     |     |        |       |       |       |\n",
       "|     |     |     |     |     |     | Dri |     |     |     |     |        |       |       |       |\n",
       "|     |     |     |     |     |     | ve  |     |     |     |     |        |       |       |       |\n",
       "| 199 | Sub | Leg | 2.2 | 4   | Aut | 4-W | Com | Pre | 16. | 16  | 21     | 2013- | true  | 4     |\n",
       "| 3   | aru | acy |     |     | oma | hee | pac | miu | 528 |     |        | 01-01 |       |       |\n",
       "|     |     | AWD |     |     | tic | l   | t   | m   | 334 |     |        | 00:00 |       |       |\n",
       "|     |     | Tur |     |     | 4-s | or  | Car |     |     |     |        | :00   |       |       |\n",
       "|     |     | bo  |     |     | pd  | All | s   |     |     |     |        |       |       |       |\n",
       "|     |     |     |     |     |     | -Wh |     |     |     |     |        |       |       |       |\n",
       "|     |     |     |     |     |     | eel |     |     |     |     |        |       |       |       |\n",
       "|     |     |     |     |     |     | Dri |     |     |     |     |        |       |       |       |\n",
       "|     |     |     |     |     |     | ve  |     |     |     |     |        |       |       |       |\n",
       "+-----+-----+-----+-----+-----+-----+-----+-----+-----+-----+-----+--------+-------+-------+-------+"
      ]
     },
     "execution_count": 52,
     "metadata": {},
     "output_type": "execute_result"
    }
   ],
   "source": [
    "(\n",
    "    autos\n",
    "    .drop_nulls(\n",
    "        subset=(['cylinders', 'displ'])\n",
    "    )\n",
    ")"
   ]
  },
  {
   "cell_type": "markdown",
   "id": "c9493bdf-a825-4c4e-aeb7-efda5aeeef36",
   "metadata": {},
   "source": [
    "* We can also pass in a column selector to `.drop_nulls()` subset parameter.\n",
    "* This drops all missing numeric values.\n"
   ]
  },
  {
   "cell_type": "code",
   "execution_count": 53,
   "id": "dd408485-ac10-4960-8b62-eb3bd5a42c72",
   "metadata": {},
   "outputs": [
    {
     "name": "stderr",
     "output_type": "stream",
     "text": [
      "dataframe filtered\n"
     ]
    },
    {
     "data": {
      "text/html": [
       "<div><style>\n",
       ".dataframe > thead > tr,\n",
       ".dataframe > tbody > tr {\n",
       "  text-align: right;\n",
       "  white-space: pre-wrap;\n",
       "}\n",
       "</style>\n",
       "<small>shape: (47_237, 15)</small><table border=\"1\" class=\"dataframe\"><thead><tr><th>year</th><th>make</th><th>model</th><th>displ</th><th>cylinders</th><th>trany</th><th>drive</th><th>VClass</th><th>fuelType</th><th>barrels08</th><th>city08</th><th>highway08</th><th>createdOn</th><th>is_automatic</th><th>num_gears</th></tr><tr><td>i16</td><td>cat</td><td>cat</td><td>f32</td><td>u8</td><td>str</td><td>cat</td><td>cat</td><td>cat</td><td>f32</td><td>u8</td><td>u8</td><td>datetime[μs]</td><td>str</td><td>u8</td></tr></thead><tbody><tr><td>1985</td><td>&quot;Alfa Romeo&quot;</td><td>&quot;Spider Veloce 2000&quot;</td><td>2.0</td><td>4</td><td>&quot;Manual 5-spd&quot;</td><td>&quot;Rear-Wheel Drive&quot;</td><td>&quot;Two Seaters&quot;</td><td>&quot;Regular&quot;</td><td>14.167143</td><td>19</td><td>25</td><td>2013-01-01 00:00:00</td><td>&quot;false&quot;</td><td>5</td></tr><tr><td>1985</td><td>&quot;Ferrari&quot;</td><td>&quot;Testarossa&quot;</td><td>4.9</td><td>12</td><td>&quot;Manual 5-spd&quot;</td><td>&quot;Rear-Wheel Drive&quot;</td><td>&quot;Two Seaters&quot;</td><td>&quot;Regular&quot;</td><td>27.046364</td><td>9</td><td>14</td><td>2013-01-01 00:00:00</td><td>&quot;false&quot;</td><td>5</td></tr><tr><td>1985</td><td>&quot;Dodge&quot;</td><td>&quot;Charger&quot;</td><td>2.2</td><td>4</td><td>&quot;Manual 5-spd&quot;</td><td>&quot;Front-Wheel Drive&quot;</td><td>&quot;Subcompact Cars&quot;</td><td>&quot;Regular&quot;</td><td>11.018888</td><td>23</td><td>33</td><td>2013-01-01 00:00:00</td><td>&quot;false&quot;</td><td>5</td></tr><tr><td>1985</td><td>&quot;Dodge&quot;</td><td>&quot;B150/B250 Wagon 2WD&quot;</td><td>5.2</td><td>8</td><td>&quot;Automatic 3-spd&quot;</td><td>&quot;Rear-Wheel Drive&quot;</td><td>&quot;Vans&quot;</td><td>&quot;Regular&quot;</td><td>27.046364</td><td>10</td><td>12</td><td>2013-01-01 00:00:00</td><td>&quot;true&quot;</td><td>3</td></tr><tr><td>1993</td><td>&quot;Subaru&quot;</td><td>&quot;Legacy AWD Turbo&quot;</td><td>2.2</td><td>4</td><td>&quot;Manual 5-spd&quot;</td><td>&quot;4-Wheel or All-Wheel Drive&quot;</td><td>&quot;Compact Cars&quot;</td><td>&quot;Premium&quot;</td><td>15.658422</td><td>17</td><td>23</td><td>2013-01-01 00:00:00</td><td>&quot;false&quot;</td><td>5</td></tr><tr><td>&hellip;</td><td>&hellip;</td><td>&hellip;</td><td>&hellip;</td><td>&hellip;</td><td>&hellip;</td><td>&hellip;</td><td>&hellip;</td><td>&hellip;</td><td>&hellip;</td><td>&hellip;</td><td>&hellip;</td><td>&hellip;</td><td>&hellip;</td><td>&hellip;</td></tr><tr><td>1993</td><td>&quot;Subaru&quot;</td><td>&quot;Legacy&quot;</td><td>2.2</td><td>4</td><td>&quot;Automatic 4-spd&quot;</td><td>&quot;Front-Wheel Drive&quot;</td><td>&quot;Compact Cars&quot;</td><td>&quot;Regular&quot;</td><td>13.523182</td><td>19</td><td>26</td><td>2013-01-01 00:00:00</td><td>&quot;true&quot;</td><td>4</td></tr><tr><td>1993</td><td>&quot;Subaru&quot;</td><td>&quot;Legacy&quot;</td><td>2.2</td><td>4</td><td>&quot;Manual 5-spd&quot;</td><td>&quot;Front-Wheel Drive&quot;</td><td>&quot;Compact Cars&quot;</td><td>&quot;Regular&quot;</td><td>12.935218</td><td>20</td><td>28</td><td>2013-01-01 00:00:00</td><td>&quot;false&quot;</td><td>5</td></tr><tr><td>1993</td><td>&quot;Subaru&quot;</td><td>&quot;Legacy AWD&quot;</td><td>2.2</td><td>4</td><td>&quot;Automatic 4-spd&quot;</td><td>&quot;4-Wheel or All-Wheel Drive&quot;</td><td>&quot;Compact Cars&quot;</td><td>&quot;Regular&quot;</td><td>14.167143</td><td>18</td><td>24</td><td>2013-01-01 00:00:00</td><td>&quot;true&quot;</td><td>4</td></tr><tr><td>1993</td><td>&quot;Subaru&quot;</td><td>&quot;Legacy AWD&quot;</td><td>2.2</td><td>4</td><td>&quot;Manual 5-spd&quot;</td><td>&quot;4-Wheel or All-Wheel Drive&quot;</td><td>&quot;Compact Cars&quot;</td><td>&quot;Regular&quot;</td><td>14.167143</td><td>18</td><td>24</td><td>2013-01-01 00:00:00</td><td>&quot;false&quot;</td><td>5</td></tr><tr><td>1993</td><td>&quot;Subaru&quot;</td><td>&quot;Legacy AWD Turbo&quot;</td><td>2.2</td><td>4</td><td>&quot;Automatic 4-spd&quot;</td><td>&quot;4-Wheel or All-Wheel Drive&quot;</td><td>&quot;Compact Cars&quot;</td><td>&quot;Premium&quot;</td><td>16.528334</td><td>16</td><td>21</td><td>2013-01-01 00:00:00</td><td>&quot;true&quot;</td><td>4</td></tr></tbody></table></div>"
      ],
      "text/plain": [
       "shape: (47_237, 15)\n",
       "+-----+-----+-----+-----+-----+-----+-----+-----+-----+-----+-----+--------+-------+-------+-------+\n",
       "| yea | mak | mod | dis | cyl | tra | dri | VCl | fue | bar | cit | highwa | creat | is_au | num_g |\n",
       "| r   | e   | el  | pl  | ind | ny  | ve  | ass | lTy | rel | y08 | y08    | edOn  | tomat | ears  |\n",
       "| --- | --- | --- | --- | ers | --- | --- | --- | pe  | s08 | --- | ---    | ---   | ic    | ---   |\n",
       "| i16 | cat | cat | f32 | --- | str | cat | cat | --- | --- | u8  | u8     | datet | ---   | u8    |\n",
       "|     |     |     |     | u8  |     |     |     | cat | f32 |     |        | ime[μ | str   |       |\n",
       "|     |     |     |     |     |     |     |     |     |     |     |        | s]    |       |       |\n",
       "+==================================================================================================+\n",
       "| 198 | Alf | Spi | 2.0 | 4   | Man | Rea | Two | Reg | 14. | 19  | 25     | 2013- | false | 5     |\n",
       "| 5   | a   | der |     |     | ual | r-W | Sea | ula | 167 |     |        | 01-01 |       |       |\n",
       "|     | Rom | Vel |     |     | 5-s | hee | ter | r   | 143 |     |        | 00:00 |       |       |\n",
       "|     | eo  | oce |     |     | pd  | l   | s   |     |     |     |        | :00   |       |       |\n",
       "|     |     | 200 |     |     |     | Dri |     |     |     |     |        |       |       |       |\n",
       "|     |     | 0   |     |     |     | ve  |     |     |     |     |        |       |       |       |\n",
       "| 198 | Fer | Tes | 4.9 | 12  | Man | Rea | Two | Reg | 27. | 9   | 14     | 2013- | false | 5     |\n",
       "| 5   | rar | tar |     |     | ual | r-W | Sea | ula | 046 |     |        | 01-01 |       |       |\n",
       "|     | i   | oss |     |     | 5-s | hee | ter | r   | 364 |     |        | 00:00 |       |       |\n",
       "|     |     | a   |     |     | pd  | l   | s   |     |     |     |        | :00   |       |       |\n",
       "|     |     |     |     |     |     | Dri |     |     |     |     |        |       |       |       |\n",
       "|     |     |     |     |     |     | ve  |     |     |     |     |        |       |       |       |\n",
       "| 198 | Dod | Cha | 2.2 | 4   | Man | Fro | Sub | Reg | 11. | 23  | 33     | 2013- | false | 5     |\n",
       "| 5   | ge  | rge |     |     | ual | nt- | com | ula | 018 |     |        | 01-01 |       |       |\n",
       "|     |     | r   |     |     | 5-s | Whe | pac | r   | 888 |     |        | 00:00 |       |       |\n",
       "|     |     |     |     |     | pd  | el  | t   |     |     |     |        | :00   |       |       |\n",
       "|     |     |     |     |     |     | Dri | Car |     |     |     |        |       |       |       |\n",
       "|     |     |     |     |     |     | ve  | s   |     |     |     |        |       |       |       |\n",
       "| 198 | Dod | B15 | 5.2 | 8   | Aut | Rea | Van | Reg | 27. | 10  | 12     | 2013- | true  | 3     |\n",
       "| 5   | ge  | 0/B |     |     | oma | r-W | s   | ula | 046 |     |        | 01-01 |       |       |\n",
       "|     |     | 250 |     |     | tic | hee |     | r   | 364 |     |        | 00:00 |       |       |\n",
       "|     |     | Wag |     |     | 3-s | l   |     |     |     |     |        | :00   |       |       |\n",
       "|     |     | on  |     |     | pd  | Dri |     |     |     |     |        |       |       |       |\n",
       "|     |     | 2WD |     |     |     | ve  |     |     |     |     |        |       |       |       |\n",
       "| 199 | Sub | Leg | 2.2 | 4   | Man | 4-W | Com | Pre | 15. | 17  | 23     | 2013- | false | 5     |\n",
       "| 3   | aru | acy |     |     | ual | hee | pac | miu | 658 |     |        | 01-01 |       |       |\n",
       "|     |     | AWD |     |     | 5-s | l   | t   | m   | 422 |     |        | 00:00 |       |       |\n",
       "|     |     | Tur |     |     | pd  | or  | Car |     |     |     |        | :00   |       |       |\n",
       "|     |     | bo  |     |     |     | All | s   |     |     |     |        |       |       |       |\n",
       "|     |     |     |     |     |     | -Wh |     |     |     |     |        |       |       |       |\n",
       "|     |     |     |     |     |     | eel |     |     |     |     |        |       |       |       |\n",
       "|     |     |     |     |     |     | Dri |     |     |     |     |        |       |       |       |\n",
       "|     |     |     |     |     |     | ve  |     |     |     |     |        |       |       |       |\n",
       "| …   | …   | …   | …   | …   | …   | …   | …   | …   | …   | …   | …      | …     | …     | …     |\n",
       "| 199 | Sub | Leg | 2.2 | 4   | Aut | Fro | Com | Reg | 13. | 19  | 26     | 2013- | true  | 4     |\n",
       "| 3   | aru | acy |     |     | oma | nt- | pac | ula | 523 |     |        | 01-01 |       |       |\n",
       "|     |     |     |     |     | tic | Whe | t   | r   | 182 |     |        | 00:00 |       |       |\n",
       "|     |     |     |     |     | 4-s | el  | Car |     |     |     |        | :00   |       |       |\n",
       "|     |     |     |     |     | pd  | Dri | s   |     |     |     |        |       |       |       |\n",
       "|     |     |     |     |     |     | ve  |     |     |     |     |        |       |       |       |\n",
       "| 199 | Sub | Leg | 2.2 | 4   | Man | Fro | Com | Reg | 12. | 20  | 28     | 2013- | false | 5     |\n",
       "| 3   | aru | acy |     |     | ual | nt- | pac | ula | 935 |     |        | 01-01 |       |       |\n",
       "|     |     |     |     |     | 5-s | Whe | t   | r   | 218 |     |        | 00:00 |       |       |\n",
       "|     |     |     |     |     | pd  | el  | Car |     |     |     |        | :00   |       |       |\n",
       "|     |     |     |     |     |     | Dri | s   |     |     |     |        |       |       |       |\n",
       "|     |     |     |     |     |     | ve  |     |     |     |     |        |       |       |       |\n",
       "| 199 | Sub | Leg | 2.2 | 4   | Aut | 4-W | Com | Reg | 14. | 18  | 24     | 2013- | true  | 4     |\n",
       "| 3   | aru | acy |     |     | oma | hee | pac | ula | 167 |     |        | 01-01 |       |       |\n",
       "|     |     | AWD |     |     | tic | l   | t   | r   | 143 |     |        | 00:00 |       |       |\n",
       "|     |     |     |     |     | 4-s | or  | Car |     |     |     |        | :00   |       |       |\n",
       "|     |     |     |     |     | pd  | All | s   |     |     |     |        |       |       |       |\n",
       "|     |     |     |     |     |     | -Wh |     |     |     |     |        |       |       |       |\n",
       "|     |     |     |     |     |     | eel |     |     |     |     |        |       |       |       |\n",
       "|     |     |     |     |     |     | Dri |     |     |     |     |        |       |       |       |\n",
       "|     |     |     |     |     |     | ve  |     |     |     |     |        |       |       |       |\n",
       "| 199 | Sub | Leg | 2.2 | 4   | Man | 4-W | Com | Reg | 14. | 18  | 24     | 2013- | false | 5     |\n",
       "| 3   | aru | acy |     |     | ual | hee | pac | ula | 167 |     |        | 01-01 |       |       |\n",
       "|     |     | AWD |     |     | 5-s | l   | t   | r   | 143 |     |        | 00:00 |       |       |\n",
       "|     |     |     |     |     | pd  | or  | Car |     |     |     |        | :00   |       |       |\n",
       "|     |     |     |     |     |     | All | s   |     |     |     |        |       |       |       |\n",
       "|     |     |     |     |     |     | -Wh |     |     |     |     |        |       |       |       |\n",
       "|     |     |     |     |     |     | eel |     |     |     |     |        |       |       |       |\n",
       "|     |     |     |     |     |     | Dri |     |     |     |     |        |       |       |       |\n",
       "|     |     |     |     |     |     | ve  |     |     |     |     |        |       |       |       |\n",
       "| 199 | Sub | Leg | 2.2 | 4   | Aut | 4-W | Com | Pre | 16. | 16  | 21     | 2013- | true  | 4     |\n",
       "| 3   | aru | acy |     |     | oma | hee | pac | miu | 528 |     |        | 01-01 |       |       |\n",
       "|     |     | AWD |     |     | tic | l   | t   | m   | 334 |     |        | 00:00 |       |       |\n",
       "|     |     | Tur |     |     | 4-s | or  | Car |     |     |     |        | :00   |       |       |\n",
       "|     |     | bo  |     |     | pd  | All | s   |     |     |     |        |       |       |       |\n",
       "|     |     |     |     |     |     | -Wh |     |     |     |     |        |       |       |       |\n",
       "|     |     |     |     |     |     | eel |     |     |     |     |        |       |       |       |\n",
       "|     |     |     |     |     |     | Dri |     |     |     |     |        |       |       |       |\n",
       "|     |     |     |     |     |     | ve  |     |     |     |     |        |       |       |       |\n",
       "+-----+-----+-----+-----+-----+-----+-----+-----+-----+-----+-----+--------+-------+-------+-------+"
      ]
     },
     "execution_count": 53,
     "metadata": {},
     "output_type": "execute_result"
    }
   ],
   "source": [
    "(\n",
    "    autos\n",
    "    .drop_nulls(subset=cs.numeric())\n",
    ")"
   ]
  },
  {
   "cell_type": "markdown",
   "id": "04a84966-c4d2-4ba5-852c-22eae9231d1e",
   "metadata": {},
   "source": [
    "* We can run PCA now."
   ]
  },
  {
   "cell_type": "code",
   "execution_count": 54,
   "id": "843463c5-4e3a-4fec-82e5-3eb5c1561b30",
   "metadata": {},
   "outputs": [
    {
     "name": "stderr",
     "output_type": "stream",
     "text": [
      "dataframe filtered\n"
     ]
    },
    {
     "data": {
      "text/html": [
       "<style>#sk-container-id-1 {\n",
       "  /* Definition of color scheme common for light and dark mode */\n",
       "  --sklearn-color-text: black;\n",
       "  --sklearn-color-line: gray;\n",
       "  /* Definition of color scheme for unfitted estimators */\n",
       "  --sklearn-color-unfitted-level-0: #fff5e6;\n",
       "  --sklearn-color-unfitted-level-1: #f6e4d2;\n",
       "  --sklearn-color-unfitted-level-2: #ffe0b3;\n",
       "  --sklearn-color-unfitted-level-3: chocolate;\n",
       "  /* Definition of color scheme for fitted estimators */\n",
       "  --sklearn-color-fitted-level-0: #f0f8ff;\n",
       "  --sklearn-color-fitted-level-1: #d4ebff;\n",
       "  --sklearn-color-fitted-level-2: #b3dbfd;\n",
       "  --sklearn-color-fitted-level-3: cornflowerblue;\n",
       "\n",
       "  /* Specific color for light theme */\n",
       "  --sklearn-color-text-on-default-background: var(--sg-text-color, var(--theme-code-foreground, var(--jp-content-font-color1, black)));\n",
       "  --sklearn-color-background: var(--sg-background-color, var(--theme-background, var(--jp-layout-color0, white)));\n",
       "  --sklearn-color-border-box: var(--sg-text-color, var(--theme-code-foreground, var(--jp-content-font-color1, black)));\n",
       "  --sklearn-color-icon: #696969;\n",
       "\n",
       "  @media (prefers-color-scheme: dark) {\n",
       "    /* Redefinition of color scheme for dark theme */\n",
       "    --sklearn-color-text-on-default-background: var(--sg-text-color, var(--theme-code-foreground, var(--jp-content-font-color1, white)));\n",
       "    --sklearn-color-background: var(--sg-background-color, var(--theme-background, var(--jp-layout-color0, #111)));\n",
       "    --sklearn-color-border-box: var(--sg-text-color, var(--theme-code-foreground, var(--jp-content-font-color1, white)));\n",
       "    --sklearn-color-icon: #878787;\n",
       "  }\n",
       "}\n",
       "\n",
       "#sk-container-id-1 {\n",
       "  color: var(--sklearn-color-text);\n",
       "}\n",
       "\n",
       "#sk-container-id-1 pre {\n",
       "  padding: 0;\n",
       "}\n",
       "\n",
       "#sk-container-id-1 input.sk-hidden--visually {\n",
       "  border: 0;\n",
       "  clip: rect(1px 1px 1px 1px);\n",
       "  clip: rect(1px, 1px, 1px, 1px);\n",
       "  height: 1px;\n",
       "  margin: -1px;\n",
       "  overflow: hidden;\n",
       "  padding: 0;\n",
       "  position: absolute;\n",
       "  width: 1px;\n",
       "}\n",
       "\n",
       "#sk-container-id-1 div.sk-dashed-wrapped {\n",
       "  border: 1px dashed var(--sklearn-color-line);\n",
       "  margin: 0 0.4em 0.5em 0.4em;\n",
       "  box-sizing: border-box;\n",
       "  padding-bottom: 0.4em;\n",
       "  background-color: var(--sklearn-color-background);\n",
       "}\n",
       "\n",
       "#sk-container-id-1 div.sk-container {\n",
       "  /* jupyter's `normalize.less` sets `[hidden] { display: none; }`\n",
       "     but bootstrap.min.css set `[hidden] { display: none !important; }`\n",
       "     so we also need the `!important` here to be able to override the\n",
       "     default hidden behavior on the sphinx rendered scikit-learn.org.\n",
       "     See: https://github.com/scikit-learn/scikit-learn/issues/21755 */\n",
       "  display: inline-block !important;\n",
       "  position: relative;\n",
       "}\n",
       "\n",
       "#sk-container-id-1 div.sk-text-repr-fallback {\n",
       "  display: none;\n",
       "}\n",
       "\n",
       "div.sk-parallel-item,\n",
       "div.sk-serial,\n",
       "div.sk-item {\n",
       "  /* draw centered vertical line to link estimators */\n",
       "  background-image: linear-gradient(var(--sklearn-color-text-on-default-background), var(--sklearn-color-text-on-default-background));\n",
       "  background-size: 2px 100%;\n",
       "  background-repeat: no-repeat;\n",
       "  background-position: center center;\n",
       "}\n",
       "\n",
       "/* Parallel-specific style estimator block */\n",
       "\n",
       "#sk-container-id-1 div.sk-parallel-item::after {\n",
       "  content: \"\";\n",
       "  width: 100%;\n",
       "  border-bottom: 2px solid var(--sklearn-color-text-on-default-background);\n",
       "  flex-grow: 1;\n",
       "}\n",
       "\n",
       "#sk-container-id-1 div.sk-parallel {\n",
       "  display: flex;\n",
       "  align-items: stretch;\n",
       "  justify-content: center;\n",
       "  background-color: var(--sklearn-color-background);\n",
       "  position: relative;\n",
       "}\n",
       "\n",
       "#sk-container-id-1 div.sk-parallel-item {\n",
       "  display: flex;\n",
       "  flex-direction: column;\n",
       "}\n",
       "\n",
       "#sk-container-id-1 div.sk-parallel-item:first-child::after {\n",
       "  align-self: flex-end;\n",
       "  width: 50%;\n",
       "}\n",
       "\n",
       "#sk-container-id-1 div.sk-parallel-item:last-child::after {\n",
       "  align-self: flex-start;\n",
       "  width: 50%;\n",
       "}\n",
       "\n",
       "#sk-container-id-1 div.sk-parallel-item:only-child::after {\n",
       "  width: 0;\n",
       "}\n",
       "\n",
       "/* Serial-specific style estimator block */\n",
       "\n",
       "#sk-container-id-1 div.sk-serial {\n",
       "  display: flex;\n",
       "  flex-direction: column;\n",
       "  align-items: center;\n",
       "  background-color: var(--sklearn-color-background);\n",
       "  padding-right: 1em;\n",
       "  padding-left: 1em;\n",
       "}\n",
       "\n",
       "\n",
       "/* Toggleable style: style used for estimator/Pipeline/ColumnTransformer box that is\n",
       "clickable and can be expanded/collapsed.\n",
       "- Pipeline and ColumnTransformer use this feature and define the default style\n",
       "- Estimators will overwrite some part of the style using the `sk-estimator` class\n",
       "*/\n",
       "\n",
       "/* Pipeline and ColumnTransformer style (default) */\n",
       "\n",
       "#sk-container-id-1 div.sk-toggleable {\n",
       "  /* Default theme specific background. It is overwritten whether we have a\n",
       "  specific estimator or a Pipeline/ColumnTransformer */\n",
       "  background-color: var(--sklearn-color-background);\n",
       "}\n",
       "\n",
       "/* Toggleable label */\n",
       "#sk-container-id-1 label.sk-toggleable__label {\n",
       "  cursor: pointer;\n",
       "  display: block;\n",
       "  width: 100%;\n",
       "  margin-bottom: 0;\n",
       "  padding: 0.5em;\n",
       "  box-sizing: border-box;\n",
       "  text-align: center;\n",
       "}\n",
       "\n",
       "#sk-container-id-1 label.sk-toggleable__label-arrow:before {\n",
       "  /* Arrow on the left of the label */\n",
       "  content: \"▸\";\n",
       "  float: left;\n",
       "  margin-right: 0.25em;\n",
       "  color: var(--sklearn-color-icon);\n",
       "}\n",
       "\n",
       "#sk-container-id-1 label.sk-toggleable__label-arrow:hover:before {\n",
       "  color: var(--sklearn-color-text);\n",
       "}\n",
       "\n",
       "/* Toggleable content - dropdown */\n",
       "\n",
       "#sk-container-id-1 div.sk-toggleable__content {\n",
       "  max-height: 0;\n",
       "  max-width: 0;\n",
       "  overflow: hidden;\n",
       "  text-align: left;\n",
       "  /* unfitted */\n",
       "  background-color: var(--sklearn-color-unfitted-level-0);\n",
       "}\n",
       "\n",
       "#sk-container-id-1 div.sk-toggleable__content.fitted {\n",
       "  /* fitted */\n",
       "  background-color: var(--sklearn-color-fitted-level-0);\n",
       "}\n",
       "\n",
       "#sk-container-id-1 div.sk-toggleable__content pre {\n",
       "  margin: 0.2em;\n",
       "  border-radius: 0.25em;\n",
       "  color: var(--sklearn-color-text);\n",
       "  /* unfitted */\n",
       "  background-color: var(--sklearn-color-unfitted-level-0);\n",
       "}\n",
       "\n",
       "#sk-container-id-1 div.sk-toggleable__content.fitted pre {\n",
       "  /* unfitted */\n",
       "  background-color: var(--sklearn-color-fitted-level-0);\n",
       "}\n",
       "\n",
       "#sk-container-id-1 input.sk-toggleable__control:checked~div.sk-toggleable__content {\n",
       "  /* Expand drop-down */\n",
       "  max-height: 200px;\n",
       "  max-width: 100%;\n",
       "  overflow: auto;\n",
       "}\n",
       "\n",
       "#sk-container-id-1 input.sk-toggleable__control:checked~label.sk-toggleable__label-arrow:before {\n",
       "  content: \"▾\";\n",
       "}\n",
       "\n",
       "/* Pipeline/ColumnTransformer-specific style */\n",
       "\n",
       "#sk-container-id-1 div.sk-label input.sk-toggleable__control:checked~label.sk-toggleable__label {\n",
       "  color: var(--sklearn-color-text);\n",
       "  background-color: var(--sklearn-color-unfitted-level-2);\n",
       "}\n",
       "\n",
       "#sk-container-id-1 div.sk-label.fitted input.sk-toggleable__control:checked~label.sk-toggleable__label {\n",
       "  background-color: var(--sklearn-color-fitted-level-2);\n",
       "}\n",
       "\n",
       "/* Estimator-specific style */\n",
       "\n",
       "/* Colorize estimator box */\n",
       "#sk-container-id-1 div.sk-estimator input.sk-toggleable__control:checked~label.sk-toggleable__label {\n",
       "  /* unfitted */\n",
       "  background-color: var(--sklearn-color-unfitted-level-2);\n",
       "}\n",
       "\n",
       "#sk-container-id-1 div.sk-estimator.fitted input.sk-toggleable__control:checked~label.sk-toggleable__label {\n",
       "  /* fitted */\n",
       "  background-color: var(--sklearn-color-fitted-level-2);\n",
       "}\n",
       "\n",
       "#sk-container-id-1 div.sk-label label.sk-toggleable__label,\n",
       "#sk-container-id-1 div.sk-label label {\n",
       "  /* The background is the default theme color */\n",
       "  color: var(--sklearn-color-text-on-default-background);\n",
       "}\n",
       "\n",
       "/* On hover, darken the color of the background */\n",
       "#sk-container-id-1 div.sk-label:hover label.sk-toggleable__label {\n",
       "  color: var(--sklearn-color-text);\n",
       "  background-color: var(--sklearn-color-unfitted-level-2);\n",
       "}\n",
       "\n",
       "/* Label box, darken color on hover, fitted */\n",
       "#sk-container-id-1 div.sk-label.fitted:hover label.sk-toggleable__label.fitted {\n",
       "  color: var(--sklearn-color-text);\n",
       "  background-color: var(--sklearn-color-fitted-level-2);\n",
       "}\n",
       "\n",
       "/* Estimator label */\n",
       "\n",
       "#sk-container-id-1 div.sk-label label {\n",
       "  font-family: monospace;\n",
       "  font-weight: bold;\n",
       "  display: inline-block;\n",
       "  line-height: 1.2em;\n",
       "}\n",
       "\n",
       "#sk-container-id-1 div.sk-label-container {\n",
       "  text-align: center;\n",
       "}\n",
       "\n",
       "/* Estimator-specific */\n",
       "#sk-container-id-1 div.sk-estimator {\n",
       "  font-family: monospace;\n",
       "  border: 1px dotted var(--sklearn-color-border-box);\n",
       "  border-radius: 0.25em;\n",
       "  box-sizing: border-box;\n",
       "  margin-bottom: 0.5em;\n",
       "  /* unfitted */\n",
       "  background-color: var(--sklearn-color-unfitted-level-0);\n",
       "}\n",
       "\n",
       "#sk-container-id-1 div.sk-estimator.fitted {\n",
       "  /* fitted */\n",
       "  background-color: var(--sklearn-color-fitted-level-0);\n",
       "}\n",
       "\n",
       "/* on hover */\n",
       "#sk-container-id-1 div.sk-estimator:hover {\n",
       "  /* unfitted */\n",
       "  background-color: var(--sklearn-color-unfitted-level-2);\n",
       "}\n",
       "\n",
       "#sk-container-id-1 div.sk-estimator.fitted:hover {\n",
       "  /* fitted */\n",
       "  background-color: var(--sklearn-color-fitted-level-2);\n",
       "}\n",
       "\n",
       "/* Specification for estimator info (e.g. \"i\" and \"?\") */\n",
       "\n",
       "/* Common style for \"i\" and \"?\" */\n",
       "\n",
       ".sk-estimator-doc-link,\n",
       "a:link.sk-estimator-doc-link,\n",
       "a:visited.sk-estimator-doc-link {\n",
       "  float: right;\n",
       "  font-size: smaller;\n",
       "  line-height: 1em;\n",
       "  font-family: monospace;\n",
       "  background-color: var(--sklearn-color-background);\n",
       "  border-radius: 1em;\n",
       "  height: 1em;\n",
       "  width: 1em;\n",
       "  text-decoration: none !important;\n",
       "  margin-left: 1ex;\n",
       "  /* unfitted */\n",
       "  border: var(--sklearn-color-unfitted-level-1) 1pt solid;\n",
       "  color: var(--sklearn-color-unfitted-level-1);\n",
       "}\n",
       "\n",
       ".sk-estimator-doc-link.fitted,\n",
       "a:link.sk-estimator-doc-link.fitted,\n",
       "a:visited.sk-estimator-doc-link.fitted {\n",
       "  /* fitted */\n",
       "  border: var(--sklearn-color-fitted-level-1) 1pt solid;\n",
       "  color: var(--sklearn-color-fitted-level-1);\n",
       "}\n",
       "\n",
       "/* On hover */\n",
       "div.sk-estimator:hover .sk-estimator-doc-link:hover,\n",
       ".sk-estimator-doc-link:hover,\n",
       "div.sk-label-container:hover .sk-estimator-doc-link:hover,\n",
       ".sk-estimator-doc-link:hover {\n",
       "  /* unfitted */\n",
       "  background-color: var(--sklearn-color-unfitted-level-3);\n",
       "  color: var(--sklearn-color-background);\n",
       "  text-decoration: none;\n",
       "}\n",
       "\n",
       "div.sk-estimator.fitted:hover .sk-estimator-doc-link.fitted:hover,\n",
       ".sk-estimator-doc-link.fitted:hover,\n",
       "div.sk-label-container:hover .sk-estimator-doc-link.fitted:hover,\n",
       ".sk-estimator-doc-link.fitted:hover {\n",
       "  /* fitted */\n",
       "  background-color: var(--sklearn-color-fitted-level-3);\n",
       "  color: var(--sklearn-color-background);\n",
       "  text-decoration: none;\n",
       "}\n",
       "\n",
       "/* Span, style for the box shown on hovering the info icon */\n",
       ".sk-estimator-doc-link span {\n",
       "  display: none;\n",
       "  z-index: 9999;\n",
       "  position: relative;\n",
       "  font-weight: normal;\n",
       "  right: .2ex;\n",
       "  padding: .5ex;\n",
       "  margin: .5ex;\n",
       "  width: min-content;\n",
       "  min-width: 20ex;\n",
       "  max-width: 50ex;\n",
       "  color: var(--sklearn-color-text);\n",
       "  box-shadow: 2pt 2pt 4pt #999;\n",
       "  /* unfitted */\n",
       "  background: var(--sklearn-color-unfitted-level-0);\n",
       "  border: .5pt solid var(--sklearn-color-unfitted-level-3);\n",
       "}\n",
       "\n",
       ".sk-estimator-doc-link.fitted span {\n",
       "  /* fitted */\n",
       "  background: var(--sklearn-color-fitted-level-0);\n",
       "  border: var(--sklearn-color-fitted-level-3);\n",
       "}\n",
       "\n",
       ".sk-estimator-doc-link:hover span {\n",
       "  display: block;\n",
       "}\n",
       "\n",
       "/* \"?\"-specific style due to the `<a>` HTML tag */\n",
       "\n",
       "#sk-container-id-1 a.estimator_doc_link {\n",
       "  float: right;\n",
       "  font-size: 1rem;\n",
       "  line-height: 1em;\n",
       "  font-family: monospace;\n",
       "  background-color: var(--sklearn-color-background);\n",
       "  border-radius: 1rem;\n",
       "  height: 1rem;\n",
       "  width: 1rem;\n",
       "  text-decoration: none;\n",
       "  /* unfitted */\n",
       "  color: var(--sklearn-color-unfitted-level-1);\n",
       "  border: var(--sklearn-color-unfitted-level-1) 1pt solid;\n",
       "}\n",
       "\n",
       "#sk-container-id-1 a.estimator_doc_link.fitted {\n",
       "  /* fitted */\n",
       "  border: var(--sklearn-color-fitted-level-1) 1pt solid;\n",
       "  color: var(--sklearn-color-fitted-level-1);\n",
       "}\n",
       "\n",
       "/* On hover */\n",
       "#sk-container-id-1 a.estimator_doc_link:hover {\n",
       "  /* unfitted */\n",
       "  background-color: var(--sklearn-color-unfitted-level-3);\n",
       "  color: var(--sklearn-color-background);\n",
       "  text-decoration: none;\n",
       "}\n",
       "\n",
       "#sk-container-id-1 a.estimator_doc_link.fitted:hover {\n",
       "  /* fitted */\n",
       "  background-color: var(--sklearn-color-fitted-level-3);\n",
       "}\n",
       "</style><div id=\"sk-container-id-1\" class=\"sk-top-container\"><div class=\"sk-text-repr-fallback\"><pre>PCA()</pre><b>In a Jupyter environment, please rerun this cell to show the HTML representation or trust the notebook. <br />On GitHub, the HTML representation is unable to render, please try loading this page with nbviewer.org.</b></div><div class=\"sk-container\" hidden><div class=\"sk-item\"><div class=\"sk-estimator fitted sk-toggleable\"><input class=\"sk-toggleable__control sk-hidden--visually\" id=\"sk-estimator-id-1\" type=\"checkbox\" checked><label for=\"sk-estimator-id-1\" class=\"sk-toggleable__label fitted sk-toggleable__label-arrow fitted\">&nbsp;&nbsp;PCA<a class=\"sk-estimator-doc-link fitted\" rel=\"noreferrer\" target=\"_blank\" href=\"https://scikit-learn.org/1.4/modules/generated/sklearn.decomposition.PCA.html\">?<span>Documentation for PCA</span></a><span class=\"sk-estimator-doc-link fitted\">i<span>Fitted</span></span></label><div class=\"sk-toggleable__content fitted\"><pre>PCA()</pre></div> </div></div></div></div>"
      ],
      "text/plain": [
       "PCA()"
      ]
     },
     "execution_count": 54,
     "metadata": {},
     "output_type": "execute_result"
    }
   ],
   "source": [
    "pca = decomposition.PCA()\n",
    "pca.fit(autos.select(cs.numeric()).drop_nulls())"
   ]
  },
  {
   "cell_type": "markdown",
   "id": "23f5773d-2d1f-4320-a6cf-57af844eeeb9",
   "metadata": {},
   "source": [
    "* Next, we want to remove rows with missing values.\n",
    "* For ex, we want to remove rows where both *num_gears* and *is_automatic* are missing.\n",
    "* If we use both columns in the column expression and use `.is_null()`, Polars complains this is an ambiguous operation.\n",
    "* It doesn't know if we want to do an `and` or an `or` operation."
   ]
  },
  {
   "cell_type": "code",
   "execution_count": 55,
   "id": "fee44d25-1de8-433d-9e8b-d0758e78df93",
   "metadata": {},
   "outputs": [
    {
     "name": "stdout",
     "output_type": "stream",
     "text": [
      "The predicate passed to 'LazyFrame.filter' expanded to multiple expressions: \n",
      "\n",
      "\tcol(\"num_gears\").is_null(),\n",
      "\tcol(\"is_automatic\").is_null(),\n",
      "This is ambiguous. Try to combine the predicates with the 'all' or `any' expression.\n",
      "\n",
      "Resolved plan until failure:\n",
      "\n",
      "\t---> FAILED HERE RESOLVING 'filter' <---\n",
      "DF [\"year\", \"make\", \"model\", \"displ\"]; PROJECT */15 COLUMNS; SELECTION: None\n"
     ]
    }
   ],
   "source": [
    "try:\n",
    "    autos.filter(pl.col('num_gears', 'is_automatic').is_null())\n",
    "except Exception as e:\n",
    "    print(e)"
   ]
  },
  {
   "cell_type": "markdown",
   "id": "3eda6994-d6f2-4c9d-a2a2-8266ce8ca644",
   "metadata": {},
   "source": [
    "---\n",
    "* Instead, we can write out an expression in a more explicit way.\n",
    "* Use the `&` operator to combine the two conditions."
   ]
  },
  {
   "cell_type": "code",
   "execution_count": 56,
   "id": "f5a29af9-c34b-4aa2-b4a9-96203b3fd5ff",
   "metadata": {},
   "outputs": [
    {
     "name": "stderr",
     "output_type": "stream",
     "text": [
      "dataframe filtered\n",
      "dataframe filtered\n"
     ]
    },
    {
     "data": {
      "text/html": [
       "<div><style>\n",
       ".dataframe > thead > tr,\n",
       ".dataframe > tbody > tr {\n",
       "  text-align: right;\n",
       "  white-space: pre-wrap;\n",
       "}\n",
       "</style>\n",
       "<small>shape: (0, 15)</small><table border=\"1\" class=\"dataframe\"><thead><tr><th>year</th><th>make</th><th>model</th><th>displ</th><th>cylinders</th><th>trany</th><th>drive</th><th>VClass</th><th>fuelType</th><th>barrels08</th><th>city08</th><th>highway08</th><th>createdOn</th><th>is_automatic</th><th>num_gears</th></tr><tr><td>i16</td><td>cat</td><td>cat</td><td>f32</td><td>u8</td><td>str</td><td>cat</td><td>cat</td><td>cat</td><td>f32</td><td>u8</td><td>u8</td><td>datetime[μs]</td><td>str</td><td>u8</td></tr></thead><tbody></tbody></table></div>"
      ],
      "text/plain": [
       "shape: (0, 15)\n",
       "+-----+-----+-----+-----+-----+-----+-----+-----+-----+-----+-----+--------+-------+-------+-------+\n",
       "| yea | mak | mod | dis | cyl | tra | dri | VCl | fue | bar | cit | highwa | creat | is_au | num_g |\n",
       "| r   | e   | el  | pl  | ind | ny  | ve  | ass | lTy | rel | y08 | y08    | edOn  | tomat | ears  |\n",
       "| --- | --- | --- | --- | ers | --- | --- | --- | pe  | s08 | --- | ---    | ---   | ic    | ---   |\n",
       "| i16 | cat | cat | f32 | --- | str | cat | cat | --- | --- | u8  | u8     | datet | ---   | u8    |\n",
       "|     |     |     |     | u8  |     |     |     | cat | f32 |     |        | ime[μ | str   |       |\n",
       "|     |     |     |     |     |     |     |     |     |     |     |        | s]    |       |       |\n",
       "+==================================================================================================+\n",
       "+-----+-----+-----+-----+-----+-----+-----+-----+-----+-----+-----+--------+-------+-------+-------+"
      ]
     },
     "execution_count": 56,
     "metadata": {},
     "output_type": "execute_result"
    }
   ],
   "source": [
    "(\n",
    "    autos\n",
    "    .filter(\n",
    "        pl.col('num_gears').is_null() &\n",
    "        pl.col('is_automatic').is_null()\n",
    "    )\n",
    ")"
   ]
  },
  {
   "cell_type": "markdown",
   "id": "e18f3c18-7225-4b92-a6c8-fd476a4a5e7c",
   "metadata": {},
   "source": [
    "* We can also use `.all_horizontal()` to perform row-wise `and` operations.\n",
    "* There is also `.any_horizontal()` to perform row-wise `any` operations."
   ]
  },
  {
   "cell_type": "code",
   "execution_count": 57,
   "id": "efd189d5-a54b-44e3-8f66-549c2d4ad836",
   "metadata": {},
   "outputs": [
    {
     "name": "stderr",
     "output_type": "stream",
     "text": [
      "dataframe filtered\n"
     ]
    },
    {
     "data": {
      "text/html": [
       "<div><style>\n",
       ".dataframe > thead > tr,\n",
       ".dataframe > tbody > tr {\n",
       "  text-align: right;\n",
       "  white-space: pre-wrap;\n",
       "}\n",
       "</style>\n",
       "<small>shape: (0, 15)</small><table border=\"1\" class=\"dataframe\"><thead><tr><th>year</th><th>make</th><th>model</th><th>displ</th><th>cylinders</th><th>trany</th><th>drive</th><th>VClass</th><th>fuelType</th><th>barrels08</th><th>city08</th><th>highway08</th><th>createdOn</th><th>is_automatic</th><th>num_gears</th></tr><tr><td>i16</td><td>cat</td><td>cat</td><td>f32</td><td>u8</td><td>str</td><td>cat</td><td>cat</td><td>cat</td><td>f32</td><td>u8</td><td>u8</td><td>datetime[μs]</td><td>str</td><td>u8</td></tr></thead><tbody></tbody></table></div>"
      ],
      "text/plain": [
       "shape: (0, 15)\n",
       "+-----+-----+-----+-----+-----+-----+-----+-----+-----+-----+-----+--------+-------+-------+-------+\n",
       "| yea | mak | mod | dis | cyl | tra | dri | VCl | fue | bar | cit | highwa | creat | is_au | num_g |\n",
       "| r   | e   | el  | pl  | ind | ny  | ve  | ass | lTy | rel | y08 | y08    | edOn  | tomat | ears  |\n",
       "| --- | --- | --- | --- | ers | --- | --- | --- | pe  | s08 | --- | ---    | ---   | ic    | ---   |\n",
       "| i16 | cat | cat | f32 | --- | str | cat | cat | --- | --- | u8  | u8     | datet | ---   | u8    |\n",
       "|     |     |     |     | u8  |     |     |     | cat | f32 |     |        | ime[μ | str   |       |\n",
       "|     |     |     |     |     |     |     |     |     |     |     |        | s]    |       |       |\n",
       "+==================================================================================================+\n",
       "+-----+-----+-----+-----+-----+-----+-----+-----+-----+-----+-----+--------+-------+-------+-------+"
      ]
     },
     "execution_count": 57,
     "metadata": {},
     "output_type": "execute_result"
    }
   ],
   "source": [
    "(\n",
    "    autos\n",
    "    .filter(pl.all_horizontal(\n",
    "        pl.col('num_gears', 'is_automatic').is_null()\n",
    "    ))\n",
    ")"
   ]
  },
  {
   "cell_type": "markdown",
   "id": "0378f3e1-51ba-4069-99dd-d265b9c0864d",
   "metadata": {},
   "source": [
    "* To filter rows where both *num_gears* and *is_automatic* are missing, invert the filter by adding a ~ in front of the expression."
   ]
  },
  {
   "cell_type": "code",
   "execution_count": 58,
   "id": "56484f76-f25d-4918-ad1f-95288070c2cf",
   "metadata": {},
   "outputs": [
    {
     "name": "stderr",
     "output_type": "stream",
     "text": [
      "dataframe filtered\n"
     ]
    },
    {
     "data": {
      "text/html": [
       "<div><style>\n",
       ".dataframe > thead > tr,\n",
       ".dataframe > tbody > tr {\n",
       "  text-align: right;\n",
       "  white-space: pre-wrap;\n",
       "}\n",
       "</style>\n",
       "<small>shape: (48_202, 15)</small><table border=\"1\" class=\"dataframe\"><thead><tr><th>year</th><th>make</th><th>model</th><th>displ</th><th>cylinders</th><th>trany</th><th>drive</th><th>VClass</th><th>fuelType</th><th>barrels08</th><th>city08</th><th>highway08</th><th>createdOn</th><th>is_automatic</th><th>num_gears</th></tr><tr><td>i16</td><td>cat</td><td>cat</td><td>f32</td><td>u8</td><td>str</td><td>cat</td><td>cat</td><td>cat</td><td>f32</td><td>u8</td><td>u8</td><td>datetime[μs]</td><td>str</td><td>u8</td></tr></thead><tbody><tr><td>1985</td><td>&quot;Alfa Romeo&quot;</td><td>&quot;Spider Veloce 2000&quot;</td><td>2.0</td><td>4</td><td>&quot;Manual 5-spd&quot;</td><td>&quot;Rear-Wheel Drive&quot;</td><td>&quot;Two Seaters&quot;</td><td>&quot;Regular&quot;</td><td>14.167143</td><td>19</td><td>25</td><td>2013-01-01 00:00:00</td><td>&quot;false&quot;</td><td>5</td></tr><tr><td>1985</td><td>&quot;Ferrari&quot;</td><td>&quot;Testarossa&quot;</td><td>4.9</td><td>12</td><td>&quot;Manual 5-spd&quot;</td><td>&quot;Rear-Wheel Drive&quot;</td><td>&quot;Two Seaters&quot;</td><td>&quot;Regular&quot;</td><td>27.046364</td><td>9</td><td>14</td><td>2013-01-01 00:00:00</td><td>&quot;false&quot;</td><td>5</td></tr><tr><td>1985</td><td>&quot;Dodge&quot;</td><td>&quot;Charger&quot;</td><td>2.2</td><td>4</td><td>&quot;Manual 5-spd&quot;</td><td>&quot;Front-Wheel Drive&quot;</td><td>&quot;Subcompact Cars&quot;</td><td>&quot;Regular&quot;</td><td>11.018888</td><td>23</td><td>33</td><td>2013-01-01 00:00:00</td><td>&quot;false&quot;</td><td>5</td></tr><tr><td>1985</td><td>&quot;Dodge&quot;</td><td>&quot;B150/B250 Wagon 2WD&quot;</td><td>5.2</td><td>8</td><td>&quot;Automatic 3-spd&quot;</td><td>&quot;Rear-Wheel Drive&quot;</td><td>&quot;Vans&quot;</td><td>&quot;Regular&quot;</td><td>27.046364</td><td>10</td><td>12</td><td>2013-01-01 00:00:00</td><td>&quot;true&quot;</td><td>3</td></tr><tr><td>1993</td><td>&quot;Subaru&quot;</td><td>&quot;Legacy AWD Turbo&quot;</td><td>2.2</td><td>4</td><td>&quot;Manual 5-spd&quot;</td><td>&quot;4-Wheel or All-Wheel Drive&quot;</td><td>&quot;Compact Cars&quot;</td><td>&quot;Premium&quot;</td><td>15.658422</td><td>17</td><td>23</td><td>2013-01-01 00:00:00</td><td>&quot;false&quot;</td><td>5</td></tr><tr><td>&hellip;</td><td>&hellip;</td><td>&hellip;</td><td>&hellip;</td><td>&hellip;</td><td>&hellip;</td><td>&hellip;</td><td>&hellip;</td><td>&hellip;</td><td>&hellip;</td><td>&hellip;</td><td>&hellip;</td><td>&hellip;</td><td>&hellip;</td><td>&hellip;</td></tr><tr><td>1993</td><td>&quot;Subaru&quot;</td><td>&quot;Legacy&quot;</td><td>2.2</td><td>4</td><td>&quot;Automatic 4-spd&quot;</td><td>&quot;Front-Wheel Drive&quot;</td><td>&quot;Compact Cars&quot;</td><td>&quot;Regular&quot;</td><td>13.523182</td><td>19</td><td>26</td><td>2013-01-01 00:00:00</td><td>&quot;true&quot;</td><td>4</td></tr><tr><td>1993</td><td>&quot;Subaru&quot;</td><td>&quot;Legacy&quot;</td><td>2.2</td><td>4</td><td>&quot;Manual 5-spd&quot;</td><td>&quot;Front-Wheel Drive&quot;</td><td>&quot;Compact Cars&quot;</td><td>&quot;Regular&quot;</td><td>12.935218</td><td>20</td><td>28</td><td>2013-01-01 00:00:00</td><td>&quot;false&quot;</td><td>5</td></tr><tr><td>1993</td><td>&quot;Subaru&quot;</td><td>&quot;Legacy AWD&quot;</td><td>2.2</td><td>4</td><td>&quot;Automatic 4-spd&quot;</td><td>&quot;4-Wheel or All-Wheel Drive&quot;</td><td>&quot;Compact Cars&quot;</td><td>&quot;Regular&quot;</td><td>14.167143</td><td>18</td><td>24</td><td>2013-01-01 00:00:00</td><td>&quot;true&quot;</td><td>4</td></tr><tr><td>1993</td><td>&quot;Subaru&quot;</td><td>&quot;Legacy AWD&quot;</td><td>2.2</td><td>4</td><td>&quot;Manual 5-spd&quot;</td><td>&quot;4-Wheel or All-Wheel Drive&quot;</td><td>&quot;Compact Cars&quot;</td><td>&quot;Regular&quot;</td><td>14.167143</td><td>18</td><td>24</td><td>2013-01-01 00:00:00</td><td>&quot;false&quot;</td><td>5</td></tr><tr><td>1993</td><td>&quot;Subaru&quot;</td><td>&quot;Legacy AWD Turbo&quot;</td><td>2.2</td><td>4</td><td>&quot;Automatic 4-spd&quot;</td><td>&quot;4-Wheel or All-Wheel Drive&quot;</td><td>&quot;Compact Cars&quot;</td><td>&quot;Premium&quot;</td><td>16.528334</td><td>16</td><td>21</td><td>2013-01-01 00:00:00</td><td>&quot;true&quot;</td><td>4</td></tr></tbody></table></div>"
      ],
      "text/plain": [
       "shape: (48_202, 15)\n",
       "+-----+-----+-----+-----+-----+-----+-----+-----+-----+-----+-----+--------+-------+-------+-------+\n",
       "| yea | mak | mod | dis | cyl | tra | dri | VCl | fue | bar | cit | highwa | creat | is_au | num_g |\n",
       "| r   | e   | el  | pl  | ind | ny  | ve  | ass | lTy | rel | y08 | y08    | edOn  | tomat | ears  |\n",
       "| --- | --- | --- | --- | ers | --- | --- | --- | pe  | s08 | --- | ---    | ---   | ic    | ---   |\n",
       "| i16 | cat | cat | f32 | --- | str | cat | cat | --- | --- | u8  | u8     | datet | ---   | u8    |\n",
       "|     |     |     |     | u8  |     |     |     | cat | f32 |     |        | ime[μ | str   |       |\n",
       "|     |     |     |     |     |     |     |     |     |     |     |        | s]    |       |       |\n",
       "+==================================================================================================+\n",
       "| 198 | Alf | Spi | 2.0 | 4   | Man | Rea | Two | Reg | 14. | 19  | 25     | 2013- | false | 5     |\n",
       "| 5   | a   | der |     |     | ual | r-W | Sea | ula | 167 |     |        | 01-01 |       |       |\n",
       "|     | Rom | Vel |     |     | 5-s | hee | ter | r   | 143 |     |        | 00:00 |       |       |\n",
       "|     | eo  | oce |     |     | pd  | l   | s   |     |     |     |        | :00   |       |       |\n",
       "|     |     | 200 |     |     |     | Dri |     |     |     |     |        |       |       |       |\n",
       "|     |     | 0   |     |     |     | ve  |     |     |     |     |        |       |       |       |\n",
       "| 198 | Fer | Tes | 4.9 | 12  | Man | Rea | Two | Reg | 27. | 9   | 14     | 2013- | false | 5     |\n",
       "| 5   | rar | tar |     |     | ual | r-W | Sea | ula | 046 |     |        | 01-01 |       |       |\n",
       "|     | i   | oss |     |     | 5-s | hee | ter | r   | 364 |     |        | 00:00 |       |       |\n",
       "|     |     | a   |     |     | pd  | l   | s   |     |     |     |        | :00   |       |       |\n",
       "|     |     |     |     |     |     | Dri |     |     |     |     |        |       |       |       |\n",
       "|     |     |     |     |     |     | ve  |     |     |     |     |        |       |       |       |\n",
       "| 198 | Dod | Cha | 2.2 | 4   | Man | Fro | Sub | Reg | 11. | 23  | 33     | 2013- | false | 5     |\n",
       "| 5   | ge  | rge |     |     | ual | nt- | com | ula | 018 |     |        | 01-01 |       |       |\n",
       "|     |     | r   |     |     | 5-s | Whe | pac | r   | 888 |     |        | 00:00 |       |       |\n",
       "|     |     |     |     |     | pd  | el  | t   |     |     |     |        | :00   |       |       |\n",
       "|     |     |     |     |     |     | Dri | Car |     |     |     |        |       |       |       |\n",
       "|     |     |     |     |     |     | ve  | s   |     |     |     |        |       |       |       |\n",
       "| 198 | Dod | B15 | 5.2 | 8   | Aut | Rea | Van | Reg | 27. | 10  | 12     | 2013- | true  | 3     |\n",
       "| 5   | ge  | 0/B |     |     | oma | r-W | s   | ula | 046 |     |        | 01-01 |       |       |\n",
       "|     |     | 250 |     |     | tic | hee |     | r   | 364 |     |        | 00:00 |       |       |\n",
       "|     |     | Wag |     |     | 3-s | l   |     |     |     |     |        | :00   |       |       |\n",
       "|     |     | on  |     |     | pd  | Dri |     |     |     |     |        |       |       |       |\n",
       "|     |     | 2WD |     |     |     | ve  |     |     |     |     |        |       |       |       |\n",
       "| 199 | Sub | Leg | 2.2 | 4   | Man | 4-W | Com | Pre | 15. | 17  | 23     | 2013- | false | 5     |\n",
       "| 3   | aru | acy |     |     | ual | hee | pac | miu | 658 |     |        | 01-01 |       |       |\n",
       "|     |     | AWD |     |     | 5-s | l   | t   | m   | 422 |     |        | 00:00 |       |       |\n",
       "|     |     | Tur |     |     | pd  | or  | Car |     |     |     |        | :00   |       |       |\n",
       "|     |     | bo  |     |     |     | All | s   |     |     |     |        |       |       |       |\n",
       "|     |     |     |     |     |     | -Wh |     |     |     |     |        |       |       |       |\n",
       "|     |     |     |     |     |     | eel |     |     |     |     |        |       |       |       |\n",
       "|     |     |     |     |     |     | Dri |     |     |     |     |        |       |       |       |\n",
       "|     |     |     |     |     |     | ve  |     |     |     |     |        |       |       |       |\n",
       "| …   | …   | …   | …   | …   | …   | …   | …   | …   | …   | …   | …      | …     | …     | …     |\n",
       "| 199 | Sub | Leg | 2.2 | 4   | Aut | Fro | Com | Reg | 13. | 19  | 26     | 2013- | true  | 4     |\n",
       "| 3   | aru | acy |     |     | oma | nt- | pac | ula | 523 |     |        | 01-01 |       |       |\n",
       "|     |     |     |     |     | tic | Whe | t   | r   | 182 |     |        | 00:00 |       |       |\n",
       "|     |     |     |     |     | 4-s | el  | Car |     |     |     |        | :00   |       |       |\n",
       "|     |     |     |     |     | pd  | Dri | s   |     |     |     |        |       |       |       |\n",
       "|     |     |     |     |     |     | ve  |     |     |     |     |        |       |       |       |\n",
       "| 199 | Sub | Leg | 2.2 | 4   | Man | Fro | Com | Reg | 12. | 20  | 28     | 2013- | false | 5     |\n",
       "| 3   | aru | acy |     |     | ual | nt- | pac | ula | 935 |     |        | 01-01 |       |       |\n",
       "|     |     |     |     |     | 5-s | Whe | t   | r   | 218 |     |        | 00:00 |       |       |\n",
       "|     |     |     |     |     | pd  | el  | Car |     |     |     |        | :00   |       |       |\n",
       "|     |     |     |     |     |     | Dri | s   |     |     |     |        |       |       |       |\n",
       "|     |     |     |     |     |     | ve  |     |     |     |     |        |       |       |       |\n",
       "| 199 | Sub | Leg | 2.2 | 4   | Aut | 4-W | Com | Reg | 14. | 18  | 24     | 2013- | true  | 4     |\n",
       "| 3   | aru | acy |     |     | oma | hee | pac | ula | 167 |     |        | 01-01 |       |       |\n",
       "|     |     | AWD |     |     | tic | l   | t   | r   | 143 |     |        | 00:00 |       |       |\n",
       "|     |     |     |     |     | 4-s | or  | Car |     |     |     |        | :00   |       |       |\n",
       "|     |     |     |     |     | pd  | All | s   |     |     |     |        |       |       |       |\n",
       "|     |     |     |     |     |     | -Wh |     |     |     |     |        |       |       |       |\n",
       "|     |     |     |     |     |     | eel |     |     |     |     |        |       |       |       |\n",
       "|     |     |     |     |     |     | Dri |     |     |     |     |        |       |       |       |\n",
       "|     |     |     |     |     |     | ve  |     |     |     |     |        |       |       |       |\n",
       "| 199 | Sub | Leg | 2.2 | 4   | Man | 4-W | Com | Reg | 14. | 18  | 24     | 2013- | false | 5     |\n",
       "| 3   | aru | acy |     |     | ual | hee | pac | ula | 167 |     |        | 01-01 |       |       |\n",
       "|     |     | AWD |     |     | 5-s | l   | t   | r   | 143 |     |        | 00:00 |       |       |\n",
       "|     |     |     |     |     | pd  | or  | Car |     |     |     |        | :00   |       |       |\n",
       "|     |     |     |     |     |     | All | s   |     |     |     |        |       |       |       |\n",
       "|     |     |     |     |     |     | -Wh |     |     |     |     |        |       |       |       |\n",
       "|     |     |     |     |     |     | eel |     |     |     |     |        |       |       |       |\n",
       "|     |     |     |     |     |     | Dri |     |     |     |     |        |       |       |       |\n",
       "|     |     |     |     |     |     | ve  |     |     |     |     |        |       |       |       |\n",
       "| 199 | Sub | Leg | 2.2 | 4   | Aut | 4-W | Com | Pre | 16. | 16  | 21     | 2013- | true  | 4     |\n",
       "| 3   | aru | acy |     |     | oma | hee | pac | miu | 528 |     |        | 01-01 |       |       |\n",
       "|     |     | AWD |     |     | tic | l   | t   | m   | 334 |     |        | 00:00 |       |       |\n",
       "|     |     | Tur |     |     | 4-s | or  | Car |     |     |     |        | :00   |       |       |\n",
       "|     |     | bo  |     |     | pd  | All | s   |     |     |     |        |       |       |       |\n",
       "|     |     |     |     |     |     | -Wh |     |     |     |     |        |       |       |       |\n",
       "|     |     |     |     |     |     | eel |     |     |     |     |        |       |       |       |\n",
       "|     |     |     |     |     |     | Dri |     |     |     |     |        |       |       |       |\n",
       "|     |     |     |     |     |     | ve  |     |     |     |     |        |       |       |       |\n",
       "+-----+-----+-----+-----+-----+-----+-----+-----+-----+-----+-----+--------+-------+-------+-------+"
      ]
     },
     "execution_count": 58,
     "metadata": {},
     "output_type": "execute_result"
    }
   ],
   "source": [
    "(\n",
    "    autos\n",
    "    .filter(\n",
    "        ~pl.all_horizontal(\n",
    "            pl.col('num_gears', 'is_automatic').is_null()\n",
    "        )\n",
    "    )\n",
    ")"
   ]
  },
  {
   "cell_type": "markdown",
   "id": "8b5496e9-4067-475f-b6c0-b06567471cb6",
   "metadata": {},
   "source": [
    "---\n",
    "# 5.11 Filling in Missing Values\n",
    "\n",
    "[back to Top](#Top)\n",
    "\n",
    "* Fill in missing values in the *cylinders* column with 0.\n",
    "* Use `fill_null()` for this."
   ]
  },
  {
   "cell_type": "code",
   "execution_count": 59,
   "id": "17bcd20d-10b0-472f-917a-d7f016f06d94",
   "metadata": {},
   "outputs": [
    {
     "data": {
      "text/html": [
       "<div><style>\n",
       ".dataframe > thead > tr,\n",
       ".dataframe > tbody > tr {\n",
       "  text-align: right;\n",
       "  white-space: pre-wrap;\n",
       "}\n",
       "</style>\n",
       "<small>shape: (48_202, 15)</small><table border=\"1\" class=\"dataframe\"><thead><tr><th>year</th><th>make</th><th>model</th><th>displ</th><th>cylinders</th><th>trany</th><th>drive</th><th>VClass</th><th>fuelType</th><th>barrels08</th><th>city08</th><th>highway08</th><th>createdOn</th><th>is_automatic</th><th>num_gears</th></tr><tr><td>i16</td><td>cat</td><td>cat</td><td>f32</td><td>u8</td><td>str</td><td>cat</td><td>cat</td><td>cat</td><td>f32</td><td>u8</td><td>u8</td><td>datetime[μs]</td><td>str</td><td>u8</td></tr></thead><tbody><tr><td>2000</td><td>&quot;Nissan&quot;</td><td>&quot;Altra EV&quot;</td><td>null</td><td>0</td><td>null</td><td>null</td><td>&quot;Midsize Station Wagons&quot;</td><td>&quot;Electricity&quot;</td><td>0.096</td><td>81</td><td>91</td><td>2013-01-01 00:00:00</td><td>&quot;Automatic&quot;</td><td>6</td></tr><tr><td>2000</td><td>&quot;Toyota&quot;</td><td>&quot;RAV4 EV&quot;</td><td>null</td><td>0</td><td>null</td><td>&quot;2-Wheel Drive&quot;</td><td>&quot;Sport Utility Vehicle - 2WD&quot;</td><td>&quot;Electricity&quot;</td><td>0.1128</td><td>81</td><td>64</td><td>2013-01-01 00:00:00</td><td>&quot;Automatic&quot;</td><td>6</td></tr><tr><td>2001</td><td>&quot;Toyota&quot;</td><td>&quot;RAV4 EV&quot;</td><td>null</td><td>0</td><td>null</td><td>&quot;2-Wheel Drive&quot;</td><td>&quot;Sport Utility Vehicle - 2WD&quot;</td><td>&quot;Electricity&quot;</td><td>0.1128</td><td>81</td><td>64</td><td>2013-01-01 00:00:00</td><td>&quot;Automatic&quot;</td><td>6</td></tr><tr><td>2001</td><td>&quot;Ford&quot;</td><td>&quot;Th!nk&quot;</td><td>null</td><td>0</td><td>null</td><td>null</td><td>&quot;Two Seaters&quot;</td><td>&quot;Electricity&quot;</td><td>0.1248</td><td>74</td><td>58</td><td>2013-01-01 00:00:00</td><td>&quot;Automatic&quot;</td><td>6</td></tr><tr><td>2001</td><td>&quot;Ford&quot;</td><td>&quot;Explorer USPS Electric&quot;</td><td>null</td><td>0</td><td>null</td><td>&quot;2-Wheel Drive&quot;</td><td>&quot;Sport Utility Vehicle - 2WD&quot;</td><td>&quot;Electricity&quot;</td><td>0.2088</td><td>45</td><td>33</td><td>2013-01-01 00:00:00</td><td>&quot;Automatic&quot;</td><td>6</td></tr><tr><td>&hellip;</td><td>&hellip;</td><td>&hellip;</td><td>&hellip;</td><td>&hellip;</td><td>&hellip;</td><td>&hellip;</td><td>&hellip;</td><td>&hellip;</td><td>&hellip;</td><td>&hellip;</td><td>&hellip;</td><td>&hellip;</td><td>&hellip;</td><td>&hellip;</td></tr><tr><td>2023</td><td>&quot;Bugatti&quot;</td><td>&quot;Chiron Pur Sport&quot;</td><td>8.0</td><td>16</td><td>&quot;Automatic (AM-S7)&quot;</td><td>&quot;All-Wheel Drive&quot;</td><td>&quot;Two Seaters&quot;</td><td>&quot;Premium&quot;</td><td>33.056667</td><td>8</td><td>11</td><td>2022-09-20 00:00:00</td><td>&quot;true&quot;</td><td>7</td></tr><tr><td>2023</td><td>&quot;Bugatti&quot;</td><td>&quot;Chiron Super Sport&quot;</td><td>8.0</td><td>16</td><td>&quot;Automatic (AM-S7)&quot;</td><td>&quot;All-Wheel Drive&quot;</td><td>&quot;Two Seaters&quot;</td><td>&quot;Premium&quot;</td><td>33.056667</td><td>8</td><td>11</td><td>2022-09-20 00:00:00</td><td>&quot;true&quot;</td><td>7</td></tr><tr><td>2023</td><td>&quot;Bugatti&quot;</td><td>&quot;Chiron&quot;</td><td>8.0</td><td>16</td><td>&quot;Automatic (AM-S7)&quot;</td><td>&quot;All-Wheel Drive&quot;</td><td>&quot;Two Seaters&quot;</td><td>&quot;Premium&quot;</td><td>27.046364</td><td>9</td><td>14</td><td>2022-10-13 00:00:00</td><td>&quot;true&quot;</td><td>7</td></tr><tr><td>2024</td><td>&quot;Bugatti&quot;</td><td>&quot;Chiron Super Sport&quot;</td><td>8.0</td><td>16</td><td>&quot;Automatic (AM-S7)&quot;</td><td>&quot;All-Wheel Drive&quot;</td><td>&quot;Two Seaters&quot;</td><td>&quot;Premium&quot;</td><td>33.056667</td><td>8</td><td>11</td><td>2023-09-19 00:00:00</td><td>&quot;true&quot;</td><td>7</td></tr><tr><td>2025</td><td>&quot;Bugatti&quot;</td><td>&quot;Mistral&quot;</td><td>8.0</td><td>16</td><td>&quot;Automatic (AM-S7)&quot;</td><td>&quot;All-Wheel Drive&quot;</td><td>&quot;Two Seaters&quot;</td><td>&quot;Premium&quot;</td><td>33.056667</td><td>8</td><td>12</td><td>2024-10-17 00:00:00</td><td>&quot;true&quot;</td><td>7</td></tr></tbody></table></div>"
      ],
      "text/plain": [
       "shape: (48_202, 15)\n",
       "+-----+-----+-----+-----+-----+-----+-----+-----+-----+-----+-----+--------+-------+-------+-------+\n",
       "| yea | mak | mod | dis | cyl | tra | dri | VCl | fue | bar | cit | highwa | creat | is_au | num_g |\n",
       "| r   | e   | el  | pl  | ind | ny  | ve  | ass | lTy | rel | y08 | y08    | edOn  | tomat | ears  |\n",
       "| --- | --- | --- | --- | ers | --- | --- | --- | pe  | s08 | --- | ---    | ---   | ic    | ---   |\n",
       "| i16 | cat | cat | f32 | --- | str | cat | cat | --- | --- | u8  | u8     | datet | ---   | u8    |\n",
       "|     |     |     |     | u8  |     |     |     | cat | f32 |     |        | ime[μ | str   |       |\n",
       "|     |     |     |     |     |     |     |     |     |     |     |        | s]    |       |       |\n",
       "+==================================================================================================+\n",
       "| 200 | Nis | Alt | nul | 0   | nul | nul | Mid | Ele | 0.0 | 81  | 91     | 2013- | Autom | 6     |\n",
       "| 0   | san | ra  | l   |     | l   | l   | siz | ctr | 96  |     |        | 01-01 | atic  |       |\n",
       "|     |     | EV  |     |     |     |     | e   | ici |     |     |        | 00:00 |       |       |\n",
       "|     |     |     |     |     |     |     | Sta | ty  |     |     |        | :00   |       |       |\n",
       "|     |     |     |     |     |     |     | tio |     |     |     |        |       |       |       |\n",
       "|     |     |     |     |     |     |     | n   |     |     |     |        |       |       |       |\n",
       "|     |     |     |     |     |     |     | Wag |     |     |     |        |       |       |       |\n",
       "|     |     |     |     |     |     |     | ons |     |     |     |        |       |       |       |\n",
       "| 200 | Toy | RAV | nul | 0   | nul | 2-W | Spo | Ele | 0.1 | 81  | 64     | 2013- | Autom | 6     |\n",
       "| 0   | ota | 4   | l   |     | l   | hee | rt  | ctr | 128 |     |        | 01-01 | atic  |       |\n",
       "|     |     | EV  |     |     |     | l   | Uti | ici |     |     |        | 00:00 |       |       |\n",
       "|     |     |     |     |     |     | Dri | lit | ty  |     |     |        | :00   |       |       |\n",
       "|     |     |     |     |     |     | ve  | y   |     |     |     |        |       |       |       |\n",
       "|     |     |     |     |     |     |     | Veh |     |     |     |        |       |       |       |\n",
       "|     |     |     |     |     |     |     | icl |     |     |     |        |       |       |       |\n",
       "|     |     |     |     |     |     |     | e - |     |     |     |        |       |       |       |\n",
       "|     |     |     |     |     |     |     | 2WD |     |     |     |        |       |       |       |\n",
       "| 200 | Toy | RAV | nul | 0   | nul | 2-W | Spo | Ele | 0.1 | 81  | 64     | 2013- | Autom | 6     |\n",
       "| 1   | ota | 4   | l   |     | l   | hee | rt  | ctr | 128 |     |        | 01-01 | atic  |       |\n",
       "|     |     | EV  |     |     |     | l   | Uti | ici |     |     |        | 00:00 |       |       |\n",
       "|     |     |     |     |     |     | Dri | lit | ty  |     |     |        | :00   |       |       |\n",
       "|     |     |     |     |     |     | ve  | y   |     |     |     |        |       |       |       |\n",
       "|     |     |     |     |     |     |     | Veh |     |     |     |        |       |       |       |\n",
       "|     |     |     |     |     |     |     | icl |     |     |     |        |       |       |       |\n",
       "|     |     |     |     |     |     |     | e - |     |     |     |        |       |       |       |\n",
       "|     |     |     |     |     |     |     | 2WD |     |     |     |        |       |       |       |\n",
       "| 200 | For | Th! | nul | 0   | nul | nul | Two | Ele | 0.1 | 74  | 58     | 2013- | Autom | 6     |\n",
       "| 1   | d   | nk  | l   |     | l   | l   | Sea | ctr | 248 |     |        | 01-01 | atic  |       |\n",
       "|     |     |     |     |     |     |     | ter | ici |     |     |        | 00:00 |       |       |\n",
       "|     |     |     |     |     |     |     | s   | ty  |     |     |        | :00   |       |       |\n",
       "| 200 | For | Exp | nul | 0   | nul | 2-W | Spo | Ele | 0.2 | 45  | 33     | 2013- | Autom | 6     |\n",
       "| 1   | d   | lor | l   |     | l   | hee | rt  | ctr | 088 |     |        | 01-01 | atic  |       |\n",
       "|     |     | er  |     |     |     | l   | Uti | ici |     |     |        | 00:00 |       |       |\n",
       "|     |     | USP |     |     |     | Dri | lit | ty  |     |     |        | :00   |       |       |\n",
       "|     |     | S   |     |     |     | ve  | y   |     |     |     |        |       |       |       |\n",
       "|     |     | Ele |     |     |     |     | Veh |     |     |     |        |       |       |       |\n",
       "|     |     | ctr |     |     |     |     | icl |     |     |     |        |       |       |       |\n",
       "|     |     | ic  |     |     |     |     | e - |     |     |     |        |       |       |       |\n",
       "|     |     |     |     |     |     |     | 2WD |     |     |     |        |       |       |       |\n",
       "| …   | …   | …   | …   | …   | …   | …   | …   | …   | …   | …   | …      | …     | …     | …     |\n",
       "| 202 | Bug | Chi | 8.0 | 16  | Aut | All | Two | Pre | 33. | 8   | 11     | 2022- | true  | 7     |\n",
       "| 3   | att | ron |     |     | oma | -Wh | Sea | miu | 056 |     |        | 09-20 |       |       |\n",
       "|     | i   | Pur |     |     | tic | eel | ter | m   | 667 |     |        | 00:00 |       |       |\n",
       "|     |     | Spo |     |     | (AM | Dri | s   |     |     |     |        | :00   |       |       |\n",
       "|     |     | rt  |     |     | -S7 | ve  |     |     |     |     |        |       |       |       |\n",
       "|     |     |     |     |     | )   |     |     |     |     |     |        |       |       |       |\n",
       "| 202 | Bug | Chi | 8.0 | 16  | Aut | All | Two | Pre | 33. | 8   | 11     | 2022- | true  | 7     |\n",
       "| 3   | att | ron |     |     | oma | -Wh | Sea | miu | 056 |     |        | 09-20 |       |       |\n",
       "|     | i   | Sup |     |     | tic | eel | ter | m   | 667 |     |        | 00:00 |       |       |\n",
       "|     |     | er  |     |     | (AM | Dri | s   |     |     |     |        | :00   |       |       |\n",
       "|     |     | Spo |     |     | -S7 | ve  |     |     |     |     |        |       |       |       |\n",
       "|     |     | rt  |     |     | )   |     |     |     |     |     |        |       |       |       |\n",
       "| 202 | Bug | Chi | 8.0 | 16  | Aut | All | Two | Pre | 27. | 9   | 14     | 2022- | true  | 7     |\n",
       "| 3   | att | ron |     |     | oma | -Wh | Sea | miu | 046 |     |        | 10-13 |       |       |\n",
       "|     | i   |     |     |     | tic | eel | ter | m   | 364 |     |        | 00:00 |       |       |\n",
       "|     |     |     |     |     | (AM | Dri | s   |     |     |     |        | :00   |       |       |\n",
       "|     |     |     |     |     | -S7 | ve  |     |     |     |     |        |       |       |       |\n",
       "|     |     |     |     |     | )   |     |     |     |     |     |        |       |       |       |\n",
       "| 202 | Bug | Chi | 8.0 | 16  | Aut | All | Two | Pre | 33. | 8   | 11     | 2023- | true  | 7     |\n",
       "| 4   | att | ron |     |     | oma | -Wh | Sea | miu | 056 |     |        | 09-19 |       |       |\n",
       "|     | i   | Sup |     |     | tic | eel | ter | m   | 667 |     |        | 00:00 |       |       |\n",
       "|     |     | er  |     |     | (AM | Dri | s   |     |     |     |        | :00   |       |       |\n",
       "|     |     | Spo |     |     | -S7 | ve  |     |     |     |     |        |       |       |       |\n",
       "|     |     | rt  |     |     | )   |     |     |     |     |     |        |       |       |       |\n",
       "| 202 | Bug | Mis | 8.0 | 16  | Aut | All | Two | Pre | 33. | 8   | 12     | 2024- | true  | 7     |\n",
       "| 5   | att | tra |     |     | oma | -Wh | Sea | miu | 056 |     |        | 10-17 |       |       |\n",
       "|     | i   | l   |     |     | tic | eel | ter | m   | 667 |     |        | 00:00 |       |       |\n",
       "|     |     |     |     |     | (AM | Dri | s   |     |     |     |        | :00   |       |       |\n",
       "|     |     |     |     |     | -S7 | ve  |     |     |     |     |        |       |       |       |\n",
       "|     |     |     |     |     | )   |     |     |     |     |     |        |       |       |       |\n",
       "+-----+-----+-----+-----+-----+-----+-----+-----+-----+-----+-----+--------+-------+-------+-------+"
      ]
     },
     "execution_count": 59,
     "metadata": {},
     "output_type": "execute_result"
    }
   ],
   "source": [
    "(\n",
    "    autos\n",
    "    .with_columns(\n",
    "        pl.col('cylinders').fill_null(0)\n",
    "    )\n",
    "    .sort(by='cylinders')\n",
    ")"
   ]
  },
  {
   "cell_type": "markdown",
   "id": "58de451b-8b53-4076-8fb4-734ba05f6ba2",
   "metadata": {},
   "source": [
    "* Note that arbitrarily filling in missing values can be problematic.\n",
    "* Often, we distribution of the data is likely to change.\n",
    "* Here, we can see the mean value change."
   ]
  },
  {
   "cell_type": "code",
   "execution_count": 60,
   "id": "d7087eff-f54c-4085-bee6-f240705bebf6",
   "metadata": {},
   "outputs": [
    {
     "data": {
      "text/html": [
       "<div><style>\n",
       ".dataframe > thead > tr,\n",
       ".dataframe > tbody > tr {\n",
       "  text-align: right;\n",
       "  white-space: pre-wrap;\n",
       "}\n",
       "</style>\n",
       "<small>shape: (1, 2)</small><table border=\"1\" class=\"dataframe\"><thead><tr><th>cyl_mean</th><th>cyl_fill0</th></tr><tr><td>f64</td><td>f64</td></tr></thead><tbody><tr><td>5.698838</td><td>5.584748</td></tr></tbody></table></div>"
      ],
      "text/plain": [
       "shape: (1, 2)\n",
       "+----------+-----------+\n",
       "| cyl_mean | cyl_fill0 |\n",
       "| ---      | ---       |\n",
       "| f64      | f64       |\n",
       "+======================+\n",
       "| 5.698838 | 5.584748  |\n",
       "+----------+-----------+"
      ]
     },
     "execution_count": 60,
     "metadata": {},
     "output_type": "execute_result"
    }
   ],
   "source": [
    "(\n",
    "    autos\n",
    "    .select(\n",
    "        cyl_mean=pl.col('cylinders').mean(),\n",
    "        cyl_fill0=pl.col('cylinders').fill_null(0).mean()\n",
    "    )\n",
    ")"
   ]
  },
  {
   "cell_type": "markdown",
   "id": "21a259fc-7367-4033-aefb-d2636542c6ed",
   "metadata": {},
   "source": [
    "---\n",
    "# 5.12 Filling in Time Series Missing Values\n",
    "\n",
    "[back to Top](#Top)\n",
    "\n",
    "* When you have ordered data with missing values, you may want to fill in the missing values based on the previous or next value.\n",
    "* This is called forward or backward filling.\n",
    "* Polars has a `strategy` parameter that allows this.\n",
    "* Here we create a dataframe representing snow on the ground over time.\n",
    "* Since we are using Polars, we will include both NULL and NaN values."
   ]
  },
  {
   "cell_type": "code",
   "execution_count": 61,
   "id": "862a0349-19b1-4720-9c8f-262262c0be9d",
   "metadata": {},
   "outputs": [
    {
     "data": {
      "text/html": [
       "<div><style>\n",
       ".dataframe > thead > tr,\n",
       ".dataframe > tbody > tr {\n",
       "  text-align: right;\n",
       "  white-space: pre-wrap;\n",
       "}\n",
       "</style>\n",
       "<small>shape: (9, 1)</small><table border=\"1\" class=\"dataframe\"><thead><tr><th>depth</th></tr><tr><td>f64</td></tr></thead><tbody><tr><td>0.0</td></tr><tr><td>0.0</td></tr><tr><td>NaN</td></tr><tr><td>9.1</td></tr><tr><td>11.3</td></tr><tr><td>null</td></tr><tr><td>7.8</td></tr><tr><td>15.0</td></tr><tr><td>20.0</td></tr></tbody></table></div>"
      ],
      "text/plain": [
       "shape: (9, 1)\n",
       "+-------+\n",
       "| depth |\n",
       "| ---   |\n",
       "| f64   |\n",
       "+=======+\n",
       "| 0.0   |\n",
       "| 0.0   |\n",
       "| NaN   |\n",
       "| 9.1   |\n",
       "| 11.3  |\n",
       "| null  |\n",
       "| 7.8   |\n",
       "| 15.0  |\n",
       "| 20.0  |\n",
       "+-------+"
      ]
     },
     "execution_count": 61,
     "metadata": {},
     "output_type": "execute_result"
    }
   ],
   "source": [
    "import numpy as np\n",
    "\n",
    "snow = pl.DataFrame({\n",
    "    'depth': [0,0,np.nan, 9.1, 11.3, None, 7.8, 15, 20],\n",
    "},\n",
    "strict=False)\n",
    "\n",
    "snow"
   ]
  },
  {
   "cell_type": "markdown",
   "id": "27805734-d9bf-47cc-ba23-08f392f87267",
   "metadata": {},
   "source": [
    "Here we use forward fill, backward fill, linear interpolation, and filling in the missing values with a constant value (0) and the mean."
   ]
  },
  {
   "cell_type": "code",
   "execution_count": 62,
   "id": "54d4ac95-f676-4258-84dc-cbf7b07dca22",
   "metadata": {},
   "outputs": [
    {
     "data": {
      "text/html": [
       "<div><style>\n",
       ".dataframe > thead > tr,\n",
       ".dataframe > tbody > tr {\n",
       "  text-align: right;\n",
       "  white-space: pre-wrap;\n",
       "}\n",
       "</style>\n",
       "<small>shape: (9, 6)</small><table border=\"1\" class=\"dataframe\"><thead><tr><th>depth</th><th>depth_ffill</th><th>depth_bfill</th><th>depth_interp</th><th>depth_0fill</th><th>depth_mean</th></tr><tr><td>f64</td><td>f64</td><td>f64</td><td>f64</td><td>f64</td><td>f64</td></tr></thead><tbody><tr><td>0.0</td><td>0.0</td><td>0.0</td><td>0.0</td><td>0.0</td><td>0.0</td></tr><tr><td>0.0</td><td>0.0</td><td>0.0</td><td>0.0</td><td>0.0</td><td>0.0</td></tr><tr><td>NaN</td><td>NaN</td><td>NaN</td><td>NaN</td><td>NaN</td><td>NaN</td></tr><tr><td>9.1</td><td>9.1</td><td>9.1</td><td>9.1</td><td>9.1</td><td>9.1</td></tr><tr><td>11.3</td><td>11.3</td><td>11.3</td><td>11.3</td><td>11.3</td><td>11.3</td></tr><tr><td>null</td><td>11.3</td><td>7.8</td><td>9.55</td><td>0.0</td><td>NaN</td></tr><tr><td>7.8</td><td>7.8</td><td>7.8</td><td>7.8</td><td>7.8</td><td>7.8</td></tr><tr><td>15.0</td><td>15.0</td><td>15.0</td><td>15.0</td><td>15.0</td><td>15.0</td></tr><tr><td>20.0</td><td>20.0</td><td>20.0</td><td>20.0</td><td>20.0</td><td>20.0</td></tr></tbody></table></div>"
      ],
      "text/plain": [
       "shape: (9, 6)\n",
       "+-------+-------------+-------------+--------------+-------------+------------+\n",
       "| depth | depth_ffill | depth_bfill | depth_interp | depth_0fill | depth_mean |\n",
       "| ---   | ---         | ---         | ---          | ---         | ---        |\n",
       "| f64   | f64         | f64         | f64          | f64         | f64        |\n",
       "+=============================================================================+\n",
       "| 0.0   | 0.0         | 0.0         | 0.0          | 0.0         | 0.0        |\n",
       "| 0.0   | 0.0         | 0.0         | 0.0          | 0.0         | 0.0        |\n",
       "| NaN   | NaN         | NaN         | NaN          | NaN         | NaN        |\n",
       "| 9.1   | 9.1         | 9.1         | 9.1          | 9.1         | 9.1        |\n",
       "| 11.3  | 11.3        | 11.3        | 11.3         | 11.3        | 11.3       |\n",
       "| null  | 11.3        | 7.8         | 9.55         | 0.0         | NaN        |\n",
       "| 7.8   | 7.8         | 7.8         | 7.8          | 7.8         | 7.8        |\n",
       "| 15.0  | 15.0        | 15.0        | 15.0         | 15.0        | 15.0       |\n",
       "| 20.0  | 20.0        | 20.0        | 20.0         | 20.0        | 20.0       |\n",
       "+-------+-------------+-------------+--------------+-------------+------------+"
      ]
     },
     "execution_count": 62,
     "metadata": {},
     "output_type": "execute_result"
    }
   ],
   "source": [
    "(\n",
    "    snow\n",
    "    .with_columns(\n",
    "        pl.col('depth'),\n",
    "        depth_ffill=pl.col('depth').fill_null(strategy='forward'),\n",
    "        depth_bfill=pl.col('depth').fill_null(strategy='backward'),\n",
    "        depth_interp=pl.col('depth').interpolate(),\n",
    "        depth_0fill=pl.col('depth').fill_null(0),\n",
    "        depth_mean=pl.col('depth').fill_null(strategy='mean')\n",
    "    )\n",
    "    \n",
    ")"
   ]
  },
  {
   "cell_type": "code",
   "execution_count": 63,
   "id": "07430bb5-e872-4ab8-924e-80a374e205fc",
   "metadata": {},
   "outputs": [
    {
     "data": {
      "text/html": [
       "<div><style>\n",
       ".dataframe > thead > tr,\n",
       ".dataframe > tbody > tr {\n",
       "  text-align: right;\n",
       "  white-space: pre-wrap;\n",
       "}\n",
       "</style>\n",
       "<small>shape: (9, 2)</small><table border=\"1\" class=\"dataframe\"><thead><tr><th>statistic</th><th>depth</th></tr><tr><td>str</td><td>f64</td></tr></thead><tbody><tr><td>&quot;count&quot;</td><td>8.0</td></tr><tr><td>&quot;null_count&quot;</td><td>1.0</td></tr><tr><td>&quot;mean&quot;</td><td>NaN</td></tr><tr><td>&quot;std&quot;</td><td>NaN</td></tr><tr><td>&quot;min&quot;</td><td>0.0</td></tr><tr><td>&quot;25%&quot;</td><td>7.8</td></tr><tr><td>&quot;50%&quot;</td><td>11.3</td></tr><tr><td>&quot;75%&quot;</td><td>15.0</td></tr><tr><td>&quot;max&quot;</td><td>20.0</td></tr></tbody></table></div>"
      ],
      "text/plain": [
       "shape: (9, 2)\n",
       "+------------+-------+\n",
       "| statistic  | depth |\n",
       "| ---        | ---   |\n",
       "| str        | f64   |\n",
       "+====================+\n",
       "| count      | 8.0   |\n",
       "| null_count | 1.0   |\n",
       "| mean       | NaN   |\n",
       "| std        | NaN   |\n",
       "| min        | 0.0   |\n",
       "| 25%        | 7.8   |\n",
       "| 50%        | 11.3  |\n",
       "| 75%        | 15.0  |\n",
       "| max        | 20.0  |\n",
       "+------------+-------+"
      ]
     },
     "execution_count": 63,
     "metadata": {},
     "output_type": "execute_result"
    }
   ],
   "source": [
    "snow.describe()"
   ]
  },
  {
   "cell_type": "markdown",
   "id": "00fcde04-bc1a-44c5-abf1-bbb0a04e0a71",
   "metadata": {},
   "source": [
    "Polars has `.is_nan()` and `.fill_nan()` to handle these values."
   ]
  },
  {
   "cell_type": "code",
   "execution_count": 64,
   "id": "48b8aff6-b6a0-4632-95f5-6a613da32e72",
   "metadata": {},
   "outputs": [
    {
     "data": {
      "text/html": [
       "<div><style>\n",
       ".dataframe > thead > tr,\n",
       ".dataframe > tbody > tr {\n",
       "  text-align: right;\n",
       "  white-space: pre-wrap;\n",
       "}\n",
       "</style>\n",
       "<small>shape: (9, 6)</small><table border=\"1\" class=\"dataframe\"><thead><tr><th>depth</th><th>fill_nan</th><th>depth_ffill</th><th>depth_bfill</th><th>depth_interp</th><th>depth_mean</th></tr><tr><td>f64</td><td>f64</td><td>f64</td><td>f64</td><td>f64</td><td>f64</td></tr></thead><tbody><tr><td>0.0</td><td>0.0</td><td>0.0</td><td>0.0</td><td>0.0</td><td>0.0</td></tr><tr><td>0.0</td><td>0.0</td><td>0.0</td><td>0.0</td><td>0.0</td><td>0.0</td></tr><tr><td>NaN</td><td>null</td><td>NaN</td><td>NaN</td><td>NaN</td><td>NaN</td></tr><tr><td>9.1</td><td>9.1</td><td>9.1</td><td>9.1</td><td>9.1</td><td>9.1</td></tr><tr><td>11.3</td><td>11.3</td><td>11.3</td><td>11.3</td><td>11.3</td><td>11.3</td></tr><tr><td>null</td><td>null</td><td>11.3</td><td>7.8</td><td>9.55</td><td>NaN</td></tr><tr><td>7.8</td><td>7.8</td><td>7.8</td><td>7.8</td><td>7.8</td><td>7.8</td></tr><tr><td>15.0</td><td>15.0</td><td>15.0</td><td>15.0</td><td>15.0</td><td>15.0</td></tr><tr><td>20.0</td><td>20.0</td><td>20.0</td><td>20.0</td><td>20.0</td><td>20.0</td></tr></tbody></table></div>"
      ],
      "text/plain": [
       "shape: (9, 6)\n",
       "+-------+----------+-------------+-------------+--------------+------------+\n",
       "| depth | fill_nan | depth_ffill | depth_bfill | depth_interp | depth_mean |\n",
       "| ---   | ---      | ---         | ---         | ---          | ---        |\n",
       "| f64   | f64      | f64         | f64         | f64          | f64        |\n",
       "+==========================================================================+\n",
       "| 0.0   | 0.0      | 0.0         | 0.0         | 0.0          | 0.0        |\n",
       "| 0.0   | 0.0      | 0.0         | 0.0         | 0.0          | 0.0        |\n",
       "| NaN   | null     | NaN         | NaN         | NaN          | NaN        |\n",
       "| 9.1   | 9.1      | 9.1         | 9.1         | 9.1          | 9.1        |\n",
       "| 11.3  | 11.3     | 11.3        | 11.3        | 11.3         | 11.3       |\n",
       "| null  | null     | 11.3        | 7.8         | 9.55         | NaN        |\n",
       "| 7.8   | 7.8      | 7.8         | 7.8         | 7.8          | 7.8        |\n",
       "| 15.0  | 15.0     | 15.0        | 15.0        | 15.0         | 15.0       |\n",
       "| 20.0  | 20.0     | 20.0        | 20.0        | 20.0         | 20.0       |\n",
       "+-------+----------+-------------+-------------+--------------+------------+"
      ]
     },
     "execution_count": 64,
     "metadata": {},
     "output_type": "execute_result"
    }
   ],
   "source": [
    "(\n",
    "    snow\n",
    "\t.with_columns('depth',\n",
    "\t\tfill_nan=pl.col('depth').fill_nan(None),\n",
    "\t\tdepth_ffill=pl.col('depth').fill_null(strategy='forward'),\n",
    "\t\tdepth_bfill=pl.col('depth').fill_null(strategy='backward'),\n",
    "\t\tdepth_interp=pl.col('depth').interpolate(),\n",
    "\t\tdepth_mean=pl.col('depth').fill_null(strategy='mean')\n",
    "\t)\n",
    ")"
   ]
  },
  {
   "cell_type": "markdown",
   "id": "366810bc-063c-4a00-8d07-f12c1c5e843c",
   "metadata": {},
   "source": [
    "* We tried to fill in the missing NaN values, but the fill operation didn't work.\n",
    "* This is because Polars is trying to run these operations in parallel.\n",
    "* It doesn't know that the *depth* column was updated.\n",
    "* It fails if we refer to the *fill_nan* column inside the same `.with_columns` call."
   ]
  },
  {
   "cell_type": "code",
   "execution_count": 65,
   "id": "8fc15802-58ff-4a1f-bf0c-8e9364382c64",
   "metadata": {},
   "outputs": [
    {
     "name": "stdout",
     "output_type": "stream",
     "text": [
      "fill_nan\n",
      "\n",
      "Resolved plan until failure:\n",
      "\n",
      "\t---> FAILED HERE RESOLVING 'with_columns' <---\n",
      "DF [\"depth\"]; PROJECT */1 COLUMNS; SELECTION: None\n"
     ]
    }
   ],
   "source": [
    "try: \n",
    "    (\n",
    "    \tsnow\n",
    "    \t.with_columns(\n",
    "    \t\t'depth',\n",
    "    \t\tfill_nan=pl.col('depth').fill_nan(None),\n",
    "    \t\tdepth_ffill=pl.col('fill_nan').fill_null(strategy='forward'),\n",
    "    \t\tdepth_bfill=pl.col('fill_nan').fill_null(strategy='backward'),\n",
    "    \t\tdepth_interp=pl.col('fill_nan').interpolate(),\n",
    "    \t\tdepth_mean=pl.col('fill_nan').fill_null(strategy='mean')\n",
    "    \t)\n",
    "    )\n",
    "except Exception as e:\n",
    "    print(e)"
   ]
  },
  {
   "cell_type": "markdown",
   "id": "20eeb559-fed0-4fc4-adfa-3a3dc471e689",
   "metadata": {},
   "source": [
    "---\n",
    "* We can add synchronization to the previous example.\n",
    "* We can use two calls to `.with_columns()` so that the second can use the updated *depth* column."
   ]
  },
  {
   "cell_type": "code",
   "execution_count": 66,
   "id": "6a56a675-ceb0-48bf-8f8c-61576cc49b77",
   "metadata": {},
   "outputs": [
    {
     "data": {
      "text/html": [
       "<div><style>\n",
       ".dataframe > thead > tr,\n",
       ".dataframe > tbody > tr {\n",
       "  text-align: right;\n",
       "  white-space: pre-wrap;\n",
       "}\n",
       "</style>\n",
       "<small>shape: (9, 6)</small><table border=\"1\" class=\"dataframe\"><thead><tr><th>depth</th><th>fill_nan</th><th>depth_ffill</th><th>depth_bfill</th><th>depth_interp</th><th>depth_mean</th></tr><tr><td>f64</td><td>f64</td><td>f64</td><td>f64</td><td>f64</td><td>f64</td></tr></thead><tbody><tr><td>0.0</td><td>0.0</td><td>0.0</td><td>0.0</td><td>0.0</td><td>0.0</td></tr><tr><td>0.0</td><td>0.0</td><td>0.0</td><td>0.0</td><td>0.0</td><td>0.0</td></tr><tr><td>NaN</td><td>null</td><td>0.0</td><td>9.1</td><td>4.55</td><td>9.028571</td></tr><tr><td>9.1</td><td>9.1</td><td>9.1</td><td>9.1</td><td>9.1</td><td>9.1</td></tr><tr><td>11.3</td><td>11.3</td><td>11.3</td><td>11.3</td><td>11.3</td><td>11.3</td></tr><tr><td>null</td><td>null</td><td>11.3</td><td>7.8</td><td>9.55</td><td>9.028571</td></tr><tr><td>7.8</td><td>7.8</td><td>7.8</td><td>7.8</td><td>7.8</td><td>7.8</td></tr><tr><td>15.0</td><td>15.0</td><td>15.0</td><td>15.0</td><td>15.0</td><td>15.0</td></tr><tr><td>20.0</td><td>20.0</td><td>20.0</td><td>20.0</td><td>20.0</td><td>20.0</td></tr></tbody></table></div>"
      ],
      "text/plain": [
       "shape: (9, 6)\n",
       "+-------+----------+-------------+-------------+--------------+------------+\n",
       "| depth | fill_nan | depth_ffill | depth_bfill | depth_interp | depth_mean |\n",
       "| ---   | ---      | ---         | ---         | ---          | ---        |\n",
       "| f64   | f64      | f64         | f64         | f64          | f64        |\n",
       "+==========================================================================+\n",
       "| 0.0   | 0.0      | 0.0         | 0.0         | 0.0          | 0.0        |\n",
       "| 0.0   | 0.0      | 0.0         | 0.0         | 0.0          | 0.0        |\n",
       "| NaN   | null     | 0.0         | 9.1         | 4.55         | 9.028571   |\n",
       "| 9.1   | 9.1      | 9.1         | 9.1         | 9.1          | 9.1        |\n",
       "| 11.3  | 11.3     | 11.3        | 11.3        | 11.3         | 11.3       |\n",
       "| null  | null     | 11.3        | 7.8         | 9.55         | 9.028571   |\n",
       "| 7.8   | 7.8      | 7.8         | 7.8         | 7.8          | 7.8        |\n",
       "| 15.0  | 15.0     | 15.0        | 15.0        | 15.0         | 15.0       |\n",
       "| 20.0  | 20.0     | 20.0        | 20.0        | 20.0         | 20.0       |\n",
       "+-------+----------+-------------+-------------+--------------+------------+"
      ]
     },
     "execution_count": 66,
     "metadata": {},
     "output_type": "execute_result"
    }
   ],
   "source": [
    "imp_pl = (\n",
    "    snow\n",
    "    .with_columns(fill_nan=pl.col('depth').fill_nan(None))\n",
    "    .with_columns(\n",
    "        depth_ffill=pl.col('fill_nan').fill_null(strategy='forward'),\n",
    "        depth_bfill=pl.col('fill_nan').fill_null(strategy='backward'),\n",
    "        depth_interp=pl.col('fill_nan').interpolate(),\n",
    "        depth_mean=pl.col('fill_nan').fill_null(strategy='mean') \n",
    "    )\n",
    ")\n",
    "imp_pl"
   ]
  },
  {
   "cell_type": "markdown",
   "id": "739c05eb-6714-46d8-a7be-b1ca84ce5c0a",
   "metadata": {},
   "source": [
    "Create a Matplotlib plot with Polars to visualize the different fill types"
   ]
  },
  {
   "cell_type": "code",
   "execution_count": 67,
   "id": "e0b0ca7e-334c-415e-ad83-52cb44e64a63",
   "metadata": {},
   "outputs": [
    {
     "data": {
      "application/javascript": [
       "(function(root) {\n",
       "  function now() {\n",
       "    return new Date();\n",
       "  }\n",
       "\n",
       "  var force = true;\n",
       "  var py_version = '3.4.3'.replace('rc', '-rc.').replace('.dev', '-dev.');\n",
       "  var reloading = false;\n",
       "  var Bokeh = root.Bokeh;\n",
       "\n",
       "  if (typeof (root._bokeh_timeout) === \"undefined\" || force) {\n",
       "    root._bokeh_timeout = Date.now() + 5000;\n",
       "    root._bokeh_failed_load = false;\n",
       "  }\n",
       "\n",
       "  function run_callbacks() {\n",
       "    try {\n",
       "      root._bokeh_onload_callbacks.forEach(function(callback) {\n",
       "        if (callback != null)\n",
       "          callback();\n",
       "      });\n",
       "    } finally {\n",
       "      delete root._bokeh_onload_callbacks;\n",
       "    }\n",
       "    console.debug(\"Bokeh: all callbacks have finished\");\n",
       "  }\n",
       "\n",
       "  function load_libs(css_urls, js_urls, js_modules, js_exports, callback) {\n",
       "    if (css_urls == null) css_urls = [];\n",
       "    if (js_urls == null) js_urls = [];\n",
       "    if (js_modules == null) js_modules = [];\n",
       "    if (js_exports == null) js_exports = {};\n",
       "\n",
       "    root._bokeh_onload_callbacks.push(callback);\n",
       "\n",
       "    if (root._bokeh_is_loading > 0) {\n",
       "      console.debug(\"Bokeh: BokehJS is being loaded, scheduling callback at\", now());\n",
       "      return null;\n",
       "    }\n",
       "    if (js_urls.length === 0 && js_modules.length === 0 && Object.keys(js_exports).length === 0) {\n",
       "      run_callbacks();\n",
       "      return null;\n",
       "    }\n",
       "    if (!reloading) {\n",
       "      console.debug(\"Bokeh: BokehJS not loaded, scheduling load and callback at\", now());\n",
       "    }\n",
       "\n",
       "    function on_load() {\n",
       "      root._bokeh_is_loading--;\n",
       "      if (root._bokeh_is_loading === 0) {\n",
       "        console.debug(\"Bokeh: all BokehJS libraries/stylesheets loaded\");\n",
       "        run_callbacks()\n",
       "      }\n",
       "    }\n",
       "    window._bokeh_on_load = on_load\n",
       "\n",
       "    function on_error() {\n",
       "      console.error(\"failed to load \" + url);\n",
       "    }\n",
       "\n",
       "    var skip = [];\n",
       "    if (window.requirejs) {\n",
       "      window.requirejs.config({'packages': {}, 'paths': {}, 'shim': {}});\n",
       "      root._bokeh_is_loading = css_urls.length + 0;\n",
       "    } else {\n",
       "      root._bokeh_is_loading = css_urls.length + js_urls.length + js_modules.length + Object.keys(js_exports).length;\n",
       "    }\n",
       "\n",
       "    var existing_stylesheets = []\n",
       "    var links = document.getElementsByTagName('link')\n",
       "    for (var i = 0; i < links.length; i++) {\n",
       "      var link = links[i]\n",
       "      if (link.href != null) {\n",
       "\texisting_stylesheets.push(link.href)\n",
       "      }\n",
       "    }\n",
       "    for (var i = 0; i < css_urls.length; i++) {\n",
       "      var url = css_urls[i];\n",
       "      if (existing_stylesheets.indexOf(url) !== -1) {\n",
       "\ton_load()\n",
       "\tcontinue;\n",
       "      }\n",
       "      const element = document.createElement(\"link\");\n",
       "      element.onload = on_load;\n",
       "      element.onerror = on_error;\n",
       "      element.rel = \"stylesheet\";\n",
       "      element.type = \"text/css\";\n",
       "      element.href = url;\n",
       "      console.debug(\"Bokeh: injecting link tag for BokehJS stylesheet: \", url);\n",
       "      document.body.appendChild(element);\n",
       "    }    var existing_scripts = []\n",
       "    var scripts = document.getElementsByTagName('script')\n",
       "    for (var i = 0; i < scripts.length; i++) {\n",
       "      var script = scripts[i]\n",
       "      if (script.src != null) {\n",
       "\texisting_scripts.push(script.src)\n",
       "      }\n",
       "    }\n",
       "    for (var i = 0; i < js_urls.length; i++) {\n",
       "      var url = js_urls[i];\n",
       "      if (skip.indexOf(url) !== -1 || existing_scripts.indexOf(url) !== -1) {\n",
       "\tif (!window.requirejs) {\n",
       "\t  on_load();\n",
       "\t}\n",
       "\tcontinue;\n",
       "      }\n",
       "      var element = document.createElement('script');\n",
       "      element.onload = on_load;\n",
       "      element.onerror = on_error;\n",
       "      element.async = false;\n",
       "      element.src = url;\n",
       "      console.debug(\"Bokeh: injecting script tag for BokehJS library: \", url);\n",
       "      document.head.appendChild(element);\n",
       "    }\n",
       "    for (var i = 0; i < js_modules.length; i++) {\n",
       "      var url = js_modules[i];\n",
       "      if (skip.indexOf(url) !== -1 || existing_scripts.indexOf(url) !== -1) {\n",
       "\tif (!window.requirejs) {\n",
       "\t  on_load();\n",
       "\t}\n",
       "\tcontinue;\n",
       "      }\n",
       "      var element = document.createElement('script');\n",
       "      element.onload = on_load;\n",
       "      element.onerror = on_error;\n",
       "      element.async = false;\n",
       "      element.src = url;\n",
       "      element.type = \"module\";\n",
       "      console.debug(\"Bokeh: injecting script tag for BokehJS library: \", url);\n",
       "      document.head.appendChild(element);\n",
       "    }\n",
       "    for (const name in js_exports) {\n",
       "      var url = js_exports[name];\n",
       "      if (skip.indexOf(url) >= 0 || root[name] != null) {\n",
       "\tif (!window.requirejs) {\n",
       "\t  on_load();\n",
       "\t}\n",
       "\tcontinue;\n",
       "      }\n",
       "      var element = document.createElement('script');\n",
       "      element.onerror = on_error;\n",
       "      element.async = false;\n",
       "      element.type = \"module\";\n",
       "      console.debug(\"Bokeh: injecting script tag for BokehJS library: \", url);\n",
       "      element.textContent = `\n",
       "      import ${name} from \"${url}\"\n",
       "      window.${name} = ${name}\n",
       "      window._bokeh_on_load()\n",
       "      `\n",
       "      document.head.appendChild(element);\n",
       "    }\n",
       "    if (!js_urls.length && !js_modules.length) {\n",
       "      on_load()\n",
       "    }\n",
       "  };\n",
       "\n",
       "  function inject_raw_css(css) {\n",
       "    const element = document.createElement(\"style\");\n",
       "    element.appendChild(document.createTextNode(css));\n",
       "    document.body.appendChild(element);\n",
       "  }\n",
       "\n",
       "  var js_urls = [\"https://cdn.bokeh.org/bokeh/release/bokeh-3.4.3.min.js\", \"https://cdn.bokeh.org/bokeh/release/bokeh-gl-3.4.3.min.js\", \"https://cdn.bokeh.org/bokeh/release/bokeh-widgets-3.4.3.min.js\", \"https://cdn.bokeh.org/bokeh/release/bokeh-tables-3.4.3.min.js\", \"https://cdn.holoviz.org/panel/1.4.5/dist/panel.min.js\"];\n",
       "  var js_modules = [];\n",
       "  var js_exports = {};\n",
       "  var css_urls = [];\n",
       "  var inline_js = [    function(Bokeh) {\n",
       "      Bokeh.set_log_level(\"info\");\n",
       "    },\n",
       "function(Bokeh) {} // ensure no trailing comma for IE\n",
       "  ];\n",
       "\n",
       "  function run_inline_js() {\n",
       "    if ((root.Bokeh !== undefined) || (force === true)) {\n",
       "      for (var i = 0; i < inline_js.length; i++) {\n",
       "\ttry {\n",
       "          inline_js[i].call(root, root.Bokeh);\n",
       "\t} catch(e) {\n",
       "\t  if (!reloading) {\n",
       "\t    throw e;\n",
       "\t  }\n",
       "\t}\n",
       "      }\n",
       "      // Cache old bokeh versions\n",
       "      if (Bokeh != undefined && !reloading) {\n",
       "\tvar NewBokeh = root.Bokeh;\n",
       "\tif (Bokeh.versions === undefined) {\n",
       "\t  Bokeh.versions = new Map();\n",
       "\t}\n",
       "\tif (NewBokeh.version !== Bokeh.version) {\n",
       "\t  Bokeh.versions.set(NewBokeh.version, NewBokeh)\n",
       "\t}\n",
       "\troot.Bokeh = Bokeh;\n",
       "      }} else if (Date.now() < root._bokeh_timeout) {\n",
       "      setTimeout(run_inline_js, 100);\n",
       "    } else if (!root._bokeh_failed_load) {\n",
       "      console.log(\"Bokeh: BokehJS failed to load within specified timeout.\");\n",
       "      root._bokeh_failed_load = true;\n",
       "    }\n",
       "    root._bokeh_is_initializing = false\n",
       "  }\n",
       "\n",
       "  function load_or_wait() {\n",
       "    // Implement a backoff loop that tries to ensure we do not load multiple\n",
       "    // versions of Bokeh and its dependencies at the same time.\n",
       "    // In recent versions we use the root._bokeh_is_initializing flag\n",
       "    // to determine whether there is an ongoing attempt to initialize\n",
       "    // bokeh, however for backward compatibility we also try to ensure\n",
       "    // that we do not start loading a newer (Panel>=1.0 and Bokeh>3) version\n",
       "    // before older versions are fully initialized.\n",
       "    if (root._bokeh_is_initializing && Date.now() > root._bokeh_timeout) {\n",
       "      root._bokeh_is_initializing = false;\n",
       "      root._bokeh_onload_callbacks = undefined;\n",
       "      console.log(\"Bokeh: BokehJS was loaded multiple times but one version failed to initialize.\");\n",
       "      load_or_wait();\n",
       "    } else if (root._bokeh_is_initializing || (typeof root._bokeh_is_initializing === \"undefined\" && root._bokeh_onload_callbacks !== undefined)) {\n",
       "      setTimeout(load_or_wait, 100);\n",
       "    } else {\n",
       "      root._bokeh_is_initializing = true\n",
       "      root._bokeh_onload_callbacks = []\n",
       "      var bokeh_loaded = Bokeh != null && (Bokeh.version === py_version || (Bokeh.versions !== undefined && Bokeh.versions.has(py_version)));\n",
       "      if (!reloading && !bokeh_loaded) {\n",
       "\troot.Bokeh = undefined;\n",
       "      }\n",
       "      load_libs(css_urls, js_urls, js_modules, js_exports, function() {\n",
       "\tconsole.debug(\"Bokeh: BokehJS plotting callback run at\", now());\n",
       "\trun_inline_js();\n",
       "      });\n",
       "    }\n",
       "  }\n",
       "  // Give older versions of the autoload script a head-start to ensure\n",
       "  // they initialize before we start loading newer version.\n",
       "  setTimeout(load_or_wait, 100)\n",
       "}(window));"
      ],
      "application/vnd.holoviews_load.v0+json": "(function(root) {\n  function now() {\n    return new Date();\n  }\n\n  var force = true;\n  var py_version = '3.4.3'.replace('rc', '-rc.').replace('.dev', '-dev.');\n  var reloading = false;\n  var Bokeh = root.Bokeh;\n\n  if (typeof (root._bokeh_timeout) === \"undefined\" || force) {\n    root._bokeh_timeout = Date.now() + 5000;\n    root._bokeh_failed_load = false;\n  }\n\n  function run_callbacks() {\n    try {\n      root._bokeh_onload_callbacks.forEach(function(callback) {\n        if (callback != null)\n          callback();\n      });\n    } finally {\n      delete root._bokeh_onload_callbacks;\n    }\n    console.debug(\"Bokeh: all callbacks have finished\");\n  }\n\n  function load_libs(css_urls, js_urls, js_modules, js_exports, callback) {\n    if (css_urls == null) css_urls = [];\n    if (js_urls == null) js_urls = [];\n    if (js_modules == null) js_modules = [];\n    if (js_exports == null) js_exports = {};\n\n    root._bokeh_onload_callbacks.push(callback);\n\n    if (root._bokeh_is_loading > 0) {\n      console.debug(\"Bokeh: BokehJS is being loaded, scheduling callback at\", now());\n      return null;\n    }\n    if (js_urls.length === 0 && js_modules.length === 0 && Object.keys(js_exports).length === 0) {\n      run_callbacks();\n      return null;\n    }\n    if (!reloading) {\n      console.debug(\"Bokeh: BokehJS not loaded, scheduling load and callback at\", now());\n    }\n\n    function on_load() {\n      root._bokeh_is_loading--;\n      if (root._bokeh_is_loading === 0) {\n        console.debug(\"Bokeh: all BokehJS libraries/stylesheets loaded\");\n        run_callbacks()\n      }\n    }\n    window._bokeh_on_load = on_load\n\n    function on_error() {\n      console.error(\"failed to load \" + url);\n    }\n\n    var skip = [];\n    if (window.requirejs) {\n      window.requirejs.config({'packages': {}, 'paths': {}, 'shim': {}});\n      root._bokeh_is_loading = css_urls.length + 0;\n    } else {\n      root._bokeh_is_loading = css_urls.length + js_urls.length + js_modules.length + Object.keys(js_exports).length;\n    }\n\n    var existing_stylesheets = []\n    var links = document.getElementsByTagName('link')\n    for (var i = 0; i < links.length; i++) {\n      var link = links[i]\n      if (link.href != null) {\n\texisting_stylesheets.push(link.href)\n      }\n    }\n    for (var i = 0; i < css_urls.length; i++) {\n      var url = css_urls[i];\n      if (existing_stylesheets.indexOf(url) !== -1) {\n\ton_load()\n\tcontinue;\n      }\n      const element = document.createElement(\"link\");\n      element.onload = on_load;\n      element.onerror = on_error;\n      element.rel = \"stylesheet\";\n      element.type = \"text/css\";\n      element.href = url;\n      console.debug(\"Bokeh: injecting link tag for BokehJS stylesheet: \", url);\n      document.body.appendChild(element);\n    }    var existing_scripts = []\n    var scripts = document.getElementsByTagName('script')\n    for (var i = 0; i < scripts.length; i++) {\n      var script = scripts[i]\n      if (script.src != null) {\n\texisting_scripts.push(script.src)\n      }\n    }\n    for (var i = 0; i < js_urls.length; i++) {\n      var url = js_urls[i];\n      if (skip.indexOf(url) !== -1 || existing_scripts.indexOf(url) !== -1) {\n\tif (!window.requirejs) {\n\t  on_load();\n\t}\n\tcontinue;\n      }\n      var element = document.createElement('script');\n      element.onload = on_load;\n      element.onerror = on_error;\n      element.async = false;\n      element.src = url;\n      console.debug(\"Bokeh: injecting script tag for BokehJS library: \", url);\n      document.head.appendChild(element);\n    }\n    for (var i = 0; i < js_modules.length; i++) {\n      var url = js_modules[i];\n      if (skip.indexOf(url) !== -1 || existing_scripts.indexOf(url) !== -1) {\n\tif (!window.requirejs) {\n\t  on_load();\n\t}\n\tcontinue;\n      }\n      var element = document.createElement('script');\n      element.onload = on_load;\n      element.onerror = on_error;\n      element.async = false;\n      element.src = url;\n      element.type = \"module\";\n      console.debug(\"Bokeh: injecting script tag for BokehJS library: \", url);\n      document.head.appendChild(element);\n    }\n    for (const name in js_exports) {\n      var url = js_exports[name];\n      if (skip.indexOf(url) >= 0 || root[name] != null) {\n\tif (!window.requirejs) {\n\t  on_load();\n\t}\n\tcontinue;\n      }\n      var element = document.createElement('script');\n      element.onerror = on_error;\n      element.async = false;\n      element.type = \"module\";\n      console.debug(\"Bokeh: injecting script tag for BokehJS library: \", url);\n      element.textContent = `\n      import ${name} from \"${url}\"\n      window.${name} = ${name}\n      window._bokeh_on_load()\n      `\n      document.head.appendChild(element);\n    }\n    if (!js_urls.length && !js_modules.length) {\n      on_load()\n    }\n  };\n\n  function inject_raw_css(css) {\n    const element = document.createElement(\"style\");\n    element.appendChild(document.createTextNode(css));\n    document.body.appendChild(element);\n  }\n\n  var js_urls = [\"https://cdn.bokeh.org/bokeh/release/bokeh-3.4.3.min.js\", \"https://cdn.bokeh.org/bokeh/release/bokeh-gl-3.4.3.min.js\", \"https://cdn.bokeh.org/bokeh/release/bokeh-widgets-3.4.3.min.js\", \"https://cdn.bokeh.org/bokeh/release/bokeh-tables-3.4.3.min.js\", \"https://cdn.holoviz.org/panel/1.4.5/dist/panel.min.js\"];\n  var js_modules = [];\n  var js_exports = {};\n  var css_urls = [];\n  var inline_js = [    function(Bokeh) {\n      Bokeh.set_log_level(\"info\");\n    },\nfunction(Bokeh) {} // ensure no trailing comma for IE\n  ];\n\n  function run_inline_js() {\n    if ((root.Bokeh !== undefined) || (force === true)) {\n      for (var i = 0; i < inline_js.length; i++) {\n\ttry {\n          inline_js[i].call(root, root.Bokeh);\n\t} catch(e) {\n\t  if (!reloading) {\n\t    throw e;\n\t  }\n\t}\n      }\n      // Cache old bokeh versions\n      if (Bokeh != undefined && !reloading) {\n\tvar NewBokeh = root.Bokeh;\n\tif (Bokeh.versions === undefined) {\n\t  Bokeh.versions = new Map();\n\t}\n\tif (NewBokeh.version !== Bokeh.version) {\n\t  Bokeh.versions.set(NewBokeh.version, NewBokeh)\n\t}\n\troot.Bokeh = Bokeh;\n      }} else if (Date.now() < root._bokeh_timeout) {\n      setTimeout(run_inline_js, 100);\n    } else if (!root._bokeh_failed_load) {\n      console.log(\"Bokeh: BokehJS failed to load within specified timeout.\");\n      root._bokeh_failed_load = true;\n    }\n    root._bokeh_is_initializing = false\n  }\n\n  function load_or_wait() {\n    // Implement a backoff loop that tries to ensure we do not load multiple\n    // versions of Bokeh and its dependencies at the same time.\n    // In recent versions we use the root._bokeh_is_initializing flag\n    // to determine whether there is an ongoing attempt to initialize\n    // bokeh, however for backward compatibility we also try to ensure\n    // that we do not start loading a newer (Panel>=1.0 and Bokeh>3) version\n    // before older versions are fully initialized.\n    if (root._bokeh_is_initializing && Date.now() > root._bokeh_timeout) {\n      root._bokeh_is_initializing = false;\n      root._bokeh_onload_callbacks = undefined;\n      console.log(\"Bokeh: BokehJS was loaded multiple times but one version failed to initialize.\");\n      load_or_wait();\n    } else if (root._bokeh_is_initializing || (typeof root._bokeh_is_initializing === \"undefined\" && root._bokeh_onload_callbacks !== undefined)) {\n      setTimeout(load_or_wait, 100);\n    } else {\n      root._bokeh_is_initializing = true\n      root._bokeh_onload_callbacks = []\n      var bokeh_loaded = Bokeh != null && (Bokeh.version === py_version || (Bokeh.versions !== undefined && Bokeh.versions.has(py_version)));\n      if (!reloading && !bokeh_loaded) {\n\troot.Bokeh = undefined;\n      }\n      load_libs(css_urls, js_urls, js_modules, js_exports, function() {\n\tconsole.debug(\"Bokeh: BokehJS plotting callback run at\", now());\n\trun_inline_js();\n      });\n    }\n  }\n  // Give older versions of the autoload script a head-start to ensure\n  // they initialize before we start loading newer version.\n  setTimeout(load_or_wait, 100)\n}(window));"
     },
     "metadata": {},
     "output_type": "display_data"
    },
    {
     "data": {
      "application/javascript": [
       "\n",
       "if ((window.PyViz === undefined) || (window.PyViz instanceof HTMLElement)) {\n",
       "  window.PyViz = {comms: {}, comm_status:{}, kernels:{}, receivers: {}, plot_index: []}\n",
       "}\n",
       "\n",
       "\n",
       "    function JupyterCommManager() {\n",
       "    }\n",
       "\n",
       "    JupyterCommManager.prototype.register_target = function(plot_id, comm_id, msg_handler) {\n",
       "      if (window.comm_manager || ((window.Jupyter !== undefined) && (Jupyter.notebook.kernel != null))) {\n",
       "        var comm_manager = window.comm_manager || Jupyter.notebook.kernel.comm_manager;\n",
       "        comm_manager.register_target(comm_id, function(comm) {\n",
       "          comm.on_msg(msg_handler);\n",
       "        });\n",
       "      } else if ((plot_id in window.PyViz.kernels) && (window.PyViz.kernels[plot_id])) {\n",
       "        window.PyViz.kernels[plot_id].registerCommTarget(comm_id, function(comm) {\n",
       "          comm.onMsg = msg_handler;\n",
       "        });\n",
       "      } else if (typeof google != 'undefined' && google.colab.kernel != null) {\n",
       "        google.colab.kernel.comms.registerTarget(comm_id, (comm) => {\n",
       "          var messages = comm.messages[Symbol.asyncIterator]();\n",
       "          function processIteratorResult(result) {\n",
       "            var message = result.value;\n",
       "            console.log(message)\n",
       "            var content = {data: message.data, comm_id};\n",
       "            var buffers = []\n",
       "            for (var buffer of message.buffers || []) {\n",
       "              buffers.push(new DataView(buffer))\n",
       "            }\n",
       "            var metadata = message.metadata || {};\n",
       "            var msg = {content, buffers, metadata}\n",
       "            msg_handler(msg);\n",
       "            return messages.next().then(processIteratorResult);\n",
       "          }\n",
       "          return messages.next().then(processIteratorResult);\n",
       "        })\n",
       "      }\n",
       "    }\n",
       "\n",
       "    JupyterCommManager.prototype.get_client_comm = function(plot_id, comm_id, msg_handler) {\n",
       "      if (comm_id in window.PyViz.comms) {\n",
       "        return window.PyViz.comms[comm_id];\n",
       "      } else if (window.comm_manager || ((window.Jupyter !== undefined) && (Jupyter.notebook.kernel != null))) {\n",
       "        var comm_manager = window.comm_manager || Jupyter.notebook.kernel.comm_manager;\n",
       "        var comm = comm_manager.new_comm(comm_id, {}, {}, {}, comm_id);\n",
       "        if (msg_handler) {\n",
       "          comm.on_msg(msg_handler);\n",
       "        }\n",
       "      } else if ((plot_id in window.PyViz.kernels) && (window.PyViz.kernels[plot_id])) {\n",
       "        var comm = window.PyViz.kernels[plot_id].connectToComm(comm_id);\n",
       "        comm.open();\n",
       "        if (msg_handler) {\n",
       "          comm.onMsg = msg_handler;\n",
       "        }\n",
       "      } else if (typeof google != 'undefined' && google.colab.kernel != null) {\n",
       "        var comm_promise = google.colab.kernel.comms.open(comm_id)\n",
       "        comm_promise.then((comm) => {\n",
       "          window.PyViz.comms[comm_id] = comm;\n",
       "          if (msg_handler) {\n",
       "            var messages = comm.messages[Symbol.asyncIterator]();\n",
       "            function processIteratorResult(result) {\n",
       "              var message = result.value;\n",
       "              var content = {data: message.data};\n",
       "              var metadata = message.metadata || {comm_id};\n",
       "              var msg = {content, metadata}\n",
       "              msg_handler(msg);\n",
       "              return messages.next().then(processIteratorResult);\n",
       "            }\n",
       "            return messages.next().then(processIteratorResult);\n",
       "          }\n",
       "        }) \n",
       "        var sendClosure = (data, metadata, buffers, disposeOnDone) => {\n",
       "          return comm_promise.then((comm) => {\n",
       "            comm.send(data, metadata, buffers, disposeOnDone);\n",
       "          });\n",
       "        };\n",
       "        var comm = {\n",
       "          send: sendClosure\n",
       "        };\n",
       "      }\n",
       "      window.PyViz.comms[comm_id] = comm;\n",
       "      return comm;\n",
       "    }\n",
       "    window.PyViz.comm_manager = new JupyterCommManager();\n",
       "    \n",
       "\n",
       "\n",
       "var JS_MIME_TYPE = 'application/javascript';\n",
       "var HTML_MIME_TYPE = 'text/html';\n",
       "var EXEC_MIME_TYPE = 'application/vnd.holoviews_exec.v0+json';\n",
       "var CLASS_NAME = 'output';\n",
       "\n",
       "/**\n",
       " * Render data to the DOM node\n",
       " */\n",
       "function render(props, node) {\n",
       "  var div = document.createElement(\"div\");\n",
       "  var script = document.createElement(\"script\");\n",
       "  node.appendChild(div);\n",
       "  node.appendChild(script);\n",
       "}\n",
       "\n",
       "/**\n",
       " * Handle when a new output is added\n",
       " */\n",
       "function handle_add_output(event, handle) {\n",
       "  var output_area = handle.output_area;\n",
       "  var output = handle.output;\n",
       "  if ((output.data == undefined) || (!output.data.hasOwnProperty(EXEC_MIME_TYPE))) {\n",
       "    return\n",
       "  }\n",
       "  var id = output.metadata[EXEC_MIME_TYPE][\"id\"];\n",
       "  var toinsert = output_area.element.find(\".\" + CLASS_NAME.split(' ')[0]);\n",
       "  if (id !== undefined) {\n",
       "    var nchildren = toinsert.length;\n",
       "    var html_node = toinsert[nchildren-1].children[0];\n",
       "    html_node.innerHTML = output.data[HTML_MIME_TYPE];\n",
       "    var scripts = [];\n",
       "    var nodelist = html_node.querySelectorAll(\"script\");\n",
       "    for (var i in nodelist) {\n",
       "      if (nodelist.hasOwnProperty(i)) {\n",
       "        scripts.push(nodelist[i])\n",
       "      }\n",
       "    }\n",
       "\n",
       "    scripts.forEach( function (oldScript) {\n",
       "      var newScript = document.createElement(\"script\");\n",
       "      var attrs = [];\n",
       "      var nodemap = oldScript.attributes;\n",
       "      for (var j in nodemap) {\n",
       "        if (nodemap.hasOwnProperty(j)) {\n",
       "          attrs.push(nodemap[j])\n",
       "        }\n",
       "      }\n",
       "      attrs.forEach(function(attr) { newScript.setAttribute(attr.name, attr.value) });\n",
       "      newScript.appendChild(document.createTextNode(oldScript.innerHTML));\n",
       "      oldScript.parentNode.replaceChild(newScript, oldScript);\n",
       "    });\n",
       "    if (JS_MIME_TYPE in output.data) {\n",
       "      toinsert[nchildren-1].children[1].textContent = output.data[JS_MIME_TYPE];\n",
       "    }\n",
       "    output_area._hv_plot_id = id;\n",
       "    if ((window.Bokeh !== undefined) && (id in Bokeh.index)) {\n",
       "      window.PyViz.plot_index[id] = Bokeh.index[id];\n",
       "    } else {\n",
       "      window.PyViz.plot_index[id] = null;\n",
       "    }\n",
       "  } else if (output.metadata[EXEC_MIME_TYPE][\"server_id\"] !== undefined) {\n",
       "    var bk_div = document.createElement(\"div\");\n",
       "    bk_div.innerHTML = output.data[HTML_MIME_TYPE];\n",
       "    var script_attrs = bk_div.children[0].attributes;\n",
       "    for (var i = 0; i < script_attrs.length; i++) {\n",
       "      toinsert[toinsert.length - 1].childNodes[1].setAttribute(script_attrs[i].name, script_attrs[i].value);\n",
       "    }\n",
       "    // store reference to server id on output_area\n",
       "    output_area._bokeh_server_id = output.metadata[EXEC_MIME_TYPE][\"server_id\"];\n",
       "  }\n",
       "}\n",
       "\n",
       "/**\n",
       " * Handle when an output is cleared or removed\n",
       " */\n",
       "function handle_clear_output(event, handle) {\n",
       "  var id = handle.cell.output_area._hv_plot_id;\n",
       "  var server_id = handle.cell.output_area._bokeh_server_id;\n",
       "  if (((id === undefined) || !(id in PyViz.plot_index)) && (server_id !== undefined)) { return; }\n",
       "  var comm = window.PyViz.comm_manager.get_client_comm(\"hv-extension-comm\", \"hv-extension-comm\", function () {});\n",
       "  if (server_id !== null) {\n",
       "    comm.send({event_type: 'server_delete', 'id': server_id});\n",
       "    return;\n",
       "  } else if (comm !== null) {\n",
       "    comm.send({event_type: 'delete', 'id': id});\n",
       "  }\n",
       "  delete PyViz.plot_index[id];\n",
       "  if ((window.Bokeh !== undefined) & (id in window.Bokeh.index)) {\n",
       "    var doc = window.Bokeh.index[id].model.document\n",
       "    doc.clear();\n",
       "    const i = window.Bokeh.documents.indexOf(doc);\n",
       "    if (i > -1) {\n",
       "      window.Bokeh.documents.splice(i, 1);\n",
       "    }\n",
       "  }\n",
       "}\n",
       "\n",
       "/**\n",
       " * Handle kernel restart event\n",
       " */\n",
       "function handle_kernel_cleanup(event, handle) {\n",
       "  delete PyViz.comms[\"hv-extension-comm\"];\n",
       "  window.PyViz.plot_index = {}\n",
       "}\n",
       "\n",
       "/**\n",
       " * Handle update_display_data messages\n",
       " */\n",
       "function handle_update_output(event, handle) {\n",
       "  handle_clear_output(event, {cell: {output_area: handle.output_area}})\n",
       "  handle_add_output(event, handle)\n",
       "}\n",
       "\n",
       "function register_renderer(events, OutputArea) {\n",
       "  function append_mime(data, metadata, element) {\n",
       "    // create a DOM node to render to\n",
       "    var toinsert = this.create_output_subarea(\n",
       "    metadata,\n",
       "    CLASS_NAME,\n",
       "    EXEC_MIME_TYPE\n",
       "    );\n",
       "    this.keyboard_manager.register_events(toinsert);\n",
       "    // Render to node\n",
       "    var props = {data: data, metadata: metadata[EXEC_MIME_TYPE]};\n",
       "    render(props, toinsert[0]);\n",
       "    element.append(toinsert);\n",
       "    return toinsert\n",
       "  }\n",
       "\n",
       "  events.on('output_added.OutputArea', handle_add_output);\n",
       "  events.on('output_updated.OutputArea', handle_update_output);\n",
       "  events.on('clear_output.CodeCell', handle_clear_output);\n",
       "  events.on('delete.Cell', handle_clear_output);\n",
       "  events.on('kernel_ready.Kernel', handle_kernel_cleanup);\n",
       "\n",
       "  OutputArea.prototype.register_mime_type(EXEC_MIME_TYPE, append_mime, {\n",
       "    safe: true,\n",
       "    index: 0\n",
       "  });\n",
       "}\n",
       "\n",
       "if (window.Jupyter !== undefined) {\n",
       "  try {\n",
       "    var events = require('base/js/events');\n",
       "    var OutputArea = require('notebook/js/outputarea').OutputArea;\n",
       "    if (OutputArea.prototype.mime_types().indexOf(EXEC_MIME_TYPE) == -1) {\n",
       "      register_renderer(events, OutputArea);\n",
       "    }\n",
       "  } catch(err) {\n",
       "  }\n",
       "}\n"
      ],
      "application/vnd.holoviews_load.v0+json": "\nif ((window.PyViz === undefined) || (window.PyViz instanceof HTMLElement)) {\n  window.PyViz = {comms: {}, comm_status:{}, kernels:{}, receivers: {}, plot_index: []}\n}\n\n\n    function JupyterCommManager() {\n    }\n\n    JupyterCommManager.prototype.register_target = function(plot_id, comm_id, msg_handler) {\n      if (window.comm_manager || ((window.Jupyter !== undefined) && (Jupyter.notebook.kernel != null))) {\n        var comm_manager = window.comm_manager || Jupyter.notebook.kernel.comm_manager;\n        comm_manager.register_target(comm_id, function(comm) {\n          comm.on_msg(msg_handler);\n        });\n      } else if ((plot_id in window.PyViz.kernels) && (window.PyViz.kernels[plot_id])) {\n        window.PyViz.kernels[plot_id].registerCommTarget(comm_id, function(comm) {\n          comm.onMsg = msg_handler;\n        });\n      } else if (typeof google != 'undefined' && google.colab.kernel != null) {\n        google.colab.kernel.comms.registerTarget(comm_id, (comm) => {\n          var messages = comm.messages[Symbol.asyncIterator]();\n          function processIteratorResult(result) {\n            var message = result.value;\n            console.log(message)\n            var content = {data: message.data, comm_id};\n            var buffers = []\n            for (var buffer of message.buffers || []) {\n              buffers.push(new DataView(buffer))\n            }\n            var metadata = message.metadata || {};\n            var msg = {content, buffers, metadata}\n            msg_handler(msg);\n            return messages.next().then(processIteratorResult);\n          }\n          return messages.next().then(processIteratorResult);\n        })\n      }\n    }\n\n    JupyterCommManager.prototype.get_client_comm = function(plot_id, comm_id, msg_handler) {\n      if (comm_id in window.PyViz.comms) {\n        return window.PyViz.comms[comm_id];\n      } else if (window.comm_manager || ((window.Jupyter !== undefined) && (Jupyter.notebook.kernel != null))) {\n        var comm_manager = window.comm_manager || Jupyter.notebook.kernel.comm_manager;\n        var comm = comm_manager.new_comm(comm_id, {}, {}, {}, comm_id);\n        if (msg_handler) {\n          comm.on_msg(msg_handler);\n        }\n      } else if ((plot_id in window.PyViz.kernels) && (window.PyViz.kernels[plot_id])) {\n        var comm = window.PyViz.kernels[plot_id].connectToComm(comm_id);\n        comm.open();\n        if (msg_handler) {\n          comm.onMsg = msg_handler;\n        }\n      } else if (typeof google != 'undefined' && google.colab.kernel != null) {\n        var comm_promise = google.colab.kernel.comms.open(comm_id)\n        comm_promise.then((comm) => {\n          window.PyViz.comms[comm_id] = comm;\n          if (msg_handler) {\n            var messages = comm.messages[Symbol.asyncIterator]();\n            function processIteratorResult(result) {\n              var message = result.value;\n              var content = {data: message.data};\n              var metadata = message.metadata || {comm_id};\n              var msg = {content, metadata}\n              msg_handler(msg);\n              return messages.next().then(processIteratorResult);\n            }\n            return messages.next().then(processIteratorResult);\n          }\n        }) \n        var sendClosure = (data, metadata, buffers, disposeOnDone) => {\n          return comm_promise.then((comm) => {\n            comm.send(data, metadata, buffers, disposeOnDone);\n          });\n        };\n        var comm = {\n          send: sendClosure\n        };\n      }\n      window.PyViz.comms[comm_id] = comm;\n      return comm;\n    }\n    window.PyViz.comm_manager = new JupyterCommManager();\n    \n\n\nvar JS_MIME_TYPE = 'application/javascript';\nvar HTML_MIME_TYPE = 'text/html';\nvar EXEC_MIME_TYPE = 'application/vnd.holoviews_exec.v0+json';\nvar CLASS_NAME = 'output';\n\n/**\n * Render data to the DOM node\n */\nfunction render(props, node) {\n  var div = document.createElement(\"div\");\n  var script = document.createElement(\"script\");\n  node.appendChild(div);\n  node.appendChild(script);\n}\n\n/**\n * Handle when a new output is added\n */\nfunction handle_add_output(event, handle) {\n  var output_area = handle.output_area;\n  var output = handle.output;\n  if ((output.data == undefined) || (!output.data.hasOwnProperty(EXEC_MIME_TYPE))) {\n    return\n  }\n  var id = output.metadata[EXEC_MIME_TYPE][\"id\"];\n  var toinsert = output_area.element.find(\".\" + CLASS_NAME.split(' ')[0]);\n  if (id !== undefined) {\n    var nchildren = toinsert.length;\n    var html_node = toinsert[nchildren-1].children[0];\n    html_node.innerHTML = output.data[HTML_MIME_TYPE];\n    var scripts = [];\n    var nodelist = html_node.querySelectorAll(\"script\");\n    for (var i in nodelist) {\n      if (nodelist.hasOwnProperty(i)) {\n        scripts.push(nodelist[i])\n      }\n    }\n\n    scripts.forEach( function (oldScript) {\n      var newScript = document.createElement(\"script\");\n      var attrs = [];\n      var nodemap = oldScript.attributes;\n      for (var j in nodemap) {\n        if (nodemap.hasOwnProperty(j)) {\n          attrs.push(nodemap[j])\n        }\n      }\n      attrs.forEach(function(attr) { newScript.setAttribute(attr.name, attr.value) });\n      newScript.appendChild(document.createTextNode(oldScript.innerHTML));\n      oldScript.parentNode.replaceChild(newScript, oldScript);\n    });\n    if (JS_MIME_TYPE in output.data) {\n      toinsert[nchildren-1].children[1].textContent = output.data[JS_MIME_TYPE];\n    }\n    output_area._hv_plot_id = id;\n    if ((window.Bokeh !== undefined) && (id in Bokeh.index)) {\n      window.PyViz.plot_index[id] = Bokeh.index[id];\n    } else {\n      window.PyViz.plot_index[id] = null;\n    }\n  } else if (output.metadata[EXEC_MIME_TYPE][\"server_id\"] !== undefined) {\n    var bk_div = document.createElement(\"div\");\n    bk_div.innerHTML = output.data[HTML_MIME_TYPE];\n    var script_attrs = bk_div.children[0].attributes;\n    for (var i = 0; i < script_attrs.length; i++) {\n      toinsert[toinsert.length - 1].childNodes[1].setAttribute(script_attrs[i].name, script_attrs[i].value);\n    }\n    // store reference to server id on output_area\n    output_area._bokeh_server_id = output.metadata[EXEC_MIME_TYPE][\"server_id\"];\n  }\n}\n\n/**\n * Handle when an output is cleared or removed\n */\nfunction handle_clear_output(event, handle) {\n  var id = handle.cell.output_area._hv_plot_id;\n  var server_id = handle.cell.output_area._bokeh_server_id;\n  if (((id === undefined) || !(id in PyViz.plot_index)) && (server_id !== undefined)) { return; }\n  var comm = window.PyViz.comm_manager.get_client_comm(\"hv-extension-comm\", \"hv-extension-comm\", function () {});\n  if (server_id !== null) {\n    comm.send({event_type: 'server_delete', 'id': server_id});\n    return;\n  } else if (comm !== null) {\n    comm.send({event_type: 'delete', 'id': id});\n  }\n  delete PyViz.plot_index[id];\n  if ((window.Bokeh !== undefined) & (id in window.Bokeh.index)) {\n    var doc = window.Bokeh.index[id].model.document\n    doc.clear();\n    const i = window.Bokeh.documents.indexOf(doc);\n    if (i > -1) {\n      window.Bokeh.documents.splice(i, 1);\n    }\n  }\n}\n\n/**\n * Handle kernel restart event\n */\nfunction handle_kernel_cleanup(event, handle) {\n  delete PyViz.comms[\"hv-extension-comm\"];\n  window.PyViz.plot_index = {}\n}\n\n/**\n * Handle update_display_data messages\n */\nfunction handle_update_output(event, handle) {\n  handle_clear_output(event, {cell: {output_area: handle.output_area}})\n  handle_add_output(event, handle)\n}\n\nfunction register_renderer(events, OutputArea) {\n  function append_mime(data, metadata, element) {\n    // create a DOM node to render to\n    var toinsert = this.create_output_subarea(\n    metadata,\n    CLASS_NAME,\n    EXEC_MIME_TYPE\n    );\n    this.keyboard_manager.register_events(toinsert);\n    // Render to node\n    var props = {data: data, metadata: metadata[EXEC_MIME_TYPE]};\n    render(props, toinsert[0]);\n    element.append(toinsert);\n    return toinsert\n  }\n\n  events.on('output_added.OutputArea', handle_add_output);\n  events.on('output_updated.OutputArea', handle_update_output);\n  events.on('clear_output.CodeCell', handle_clear_output);\n  events.on('delete.Cell', handle_clear_output);\n  events.on('kernel_ready.Kernel', handle_kernel_cleanup);\n\n  OutputArea.prototype.register_mime_type(EXEC_MIME_TYPE, append_mime, {\n    safe: true,\n    index: 0\n  });\n}\n\nif (window.Jupyter !== undefined) {\n  try {\n    var events = require('base/js/events');\n    var OutputArea = require('notebook/js/outputarea').OutputArea;\n    if (OutputArea.prototype.mime_types().indexOf(EXEC_MIME_TYPE) == -1) {\n      register_renderer(events, OutputArea);\n    }\n  } catch(err) {\n  }\n}\n"
     },
     "metadata": {},
     "output_type": "display_data"
    },
    {
     "data": {
      "text/html": [
       "<style>*[data-root-id],\n",
       "*[data-root-id] > * {\n",
       "  box-sizing: border-box;\n",
       "  font-family: var(--jp-ui-font-family);\n",
       "  font-size: var(--jp-ui-font-size1);\n",
       "  color: var(--vscode-editor-foreground, var(--jp-ui-font-color1));\n",
       "}\n",
       "\n",
       "/* Override VSCode background color */\n",
       ".cell-output-ipywidget-background:has(\n",
       "    > .cell-output-ipywidget-background > .lm-Widget > *[data-root-id]\n",
       "  ),\n",
       ".cell-output-ipywidget-background:has(> .lm-Widget > *[data-root-id]) {\n",
       "  background-color: transparent !important;\n",
       "}\n",
       "</style>"
      ]
     },
     "metadata": {},
     "output_type": "display_data"
    },
    {
     "data": {
      "application/vnd.holoviews_exec.v0+json": "",
      "text/html": [
       "<div id='p1004'>\n",
       "  <div id=\"d6db805c-7a1d-4cdf-9b42-8bf5885f99ea\" data-root-id=\"p1004\" style=\"display: contents;\"></div>\n",
       "</div>\n",
       "<script type=\"application/javascript\">(function(root) {\n",
       "  var docs_json = {\"f619f9fc-8498-4e78-a032-8c0f149ba655\":{\"version\":\"3.4.3\",\"title\":\"Bokeh Application\",\"roots\":[{\"type\":\"object\",\"name\":\"panel.models.browser.BrowserInfo\",\"id\":\"p1004\"},{\"type\":\"object\",\"name\":\"panel.models.comm_manager.CommManager\",\"id\":\"p1005\",\"attributes\":{\"plot_id\":\"p1004\",\"comm_id\":\"97197dbf53ff4e3c8ad145da2b077e40\",\"client_comm_id\":\"90d7477e9bcd47098177899ce51ce13f\"}}],\"defs\":[{\"type\":\"model\",\"name\":\"ReactiveHTML1\"},{\"type\":\"model\",\"name\":\"FlexBox1\",\"properties\":[{\"name\":\"align_content\",\"kind\":\"Any\",\"default\":\"flex-start\"},{\"name\":\"align_items\",\"kind\":\"Any\",\"default\":\"flex-start\"},{\"name\":\"flex_direction\",\"kind\":\"Any\",\"default\":\"row\"},{\"name\":\"flex_wrap\",\"kind\":\"Any\",\"default\":\"wrap\"},{\"name\":\"gap\",\"kind\":\"Any\",\"default\":\"\"},{\"name\":\"justify_content\",\"kind\":\"Any\",\"default\":\"flex-start\"}]},{\"type\":\"model\",\"name\":\"FloatPanel1\",\"properties\":[{\"name\":\"config\",\"kind\":\"Any\",\"default\":{\"type\":\"map\"}},{\"name\":\"contained\",\"kind\":\"Any\",\"default\":true},{\"name\":\"position\",\"kind\":\"Any\",\"default\":\"right-top\"},{\"name\":\"offsetx\",\"kind\":\"Any\",\"default\":null},{\"name\":\"offsety\",\"kind\":\"Any\",\"default\":null},{\"name\":\"theme\",\"kind\":\"Any\",\"default\":\"primary\"},{\"name\":\"status\",\"kind\":\"Any\",\"default\":\"normalized\"}]},{\"type\":\"model\",\"name\":\"GridStack1\",\"properties\":[{\"name\":\"mode\",\"kind\":\"Any\",\"default\":\"warn\"},{\"name\":\"ncols\",\"kind\":\"Any\",\"default\":null},{\"name\":\"nrows\",\"kind\":\"Any\",\"default\":null},{\"name\":\"allow_resize\",\"kind\":\"Any\",\"default\":true},{\"name\":\"allow_drag\",\"kind\":\"Any\",\"default\":true},{\"name\":\"state\",\"kind\":\"Any\",\"default\":[]}]},{\"type\":\"model\",\"name\":\"drag1\",\"properties\":[{\"name\":\"slider_width\",\"kind\":\"Any\",\"default\":5},{\"name\":\"slider_color\",\"kind\":\"Any\",\"default\":\"black\"},{\"name\":\"value\",\"kind\":\"Any\",\"default\":50}]},{\"type\":\"model\",\"name\":\"click1\",\"properties\":[{\"name\":\"terminal_output\",\"kind\":\"Any\",\"default\":\"\"},{\"name\":\"debug_name\",\"kind\":\"Any\",\"default\":\"\"},{\"name\":\"clears\",\"kind\":\"Any\",\"default\":0}]},{\"type\":\"model\",\"name\":\"FastWrapper1\",\"properties\":[{\"name\":\"object\",\"kind\":\"Any\",\"default\":null},{\"name\":\"style\",\"kind\":\"Any\",\"default\":null}]},{\"type\":\"model\",\"name\":\"NotificationAreaBase1\",\"properties\":[{\"name\":\"js_events\",\"kind\":\"Any\",\"default\":{\"type\":\"map\"}},{\"name\":\"position\",\"kind\":\"Any\",\"default\":\"bottom-right\"},{\"name\":\"_clear\",\"kind\":\"Any\",\"default\":0}]},{\"type\":\"model\",\"name\":\"NotificationArea1\",\"properties\":[{\"name\":\"js_events\",\"kind\":\"Any\",\"default\":{\"type\":\"map\"}},{\"name\":\"notifications\",\"kind\":\"Any\",\"default\":[]},{\"name\":\"position\",\"kind\":\"Any\",\"default\":\"bottom-right\"},{\"name\":\"_clear\",\"kind\":\"Any\",\"default\":0},{\"name\":\"types\",\"kind\":\"Any\",\"default\":[{\"type\":\"map\",\"entries\":[[\"type\",\"warning\"],[\"background\",\"#ffc107\"],[\"icon\",{\"type\":\"map\",\"entries\":[[\"className\",\"fas fa-exclamation-triangle\"],[\"tagName\",\"i\"],[\"color\",\"white\"]]}]]},{\"type\":\"map\",\"entries\":[[\"type\",\"info\"],[\"background\",\"#007bff\"],[\"icon\",{\"type\":\"map\",\"entries\":[[\"className\",\"fas fa-info-circle\"],[\"tagName\",\"i\"],[\"color\",\"white\"]]}]]}]}]},{\"type\":\"model\",\"name\":\"Notification\",\"properties\":[{\"name\":\"background\",\"kind\":\"Any\",\"default\":null},{\"name\":\"duration\",\"kind\":\"Any\",\"default\":3000},{\"name\":\"icon\",\"kind\":\"Any\",\"default\":null},{\"name\":\"message\",\"kind\":\"Any\",\"default\":\"\"},{\"name\":\"notification_type\",\"kind\":\"Any\",\"default\":null},{\"name\":\"_destroyed\",\"kind\":\"Any\",\"default\":false}]},{\"type\":\"model\",\"name\":\"TemplateActions1\",\"properties\":[{\"name\":\"open_modal\",\"kind\":\"Any\",\"default\":0},{\"name\":\"close_modal\",\"kind\":\"Any\",\"default\":0}]},{\"type\":\"model\",\"name\":\"BootstrapTemplateActions1\",\"properties\":[{\"name\":\"open_modal\",\"kind\":\"Any\",\"default\":0},{\"name\":\"close_modal\",\"kind\":\"Any\",\"default\":0}]},{\"type\":\"model\",\"name\":\"TemplateEditor1\",\"properties\":[{\"name\":\"layout\",\"kind\":\"Any\",\"default\":[]}]},{\"type\":\"model\",\"name\":\"MaterialTemplateActions1\",\"properties\":[{\"name\":\"open_modal\",\"kind\":\"Any\",\"default\":0},{\"name\":\"close_modal\",\"kind\":\"Any\",\"default\":0}]},{\"type\":\"model\",\"name\":\"copy_to_clipboard1\",\"properties\":[{\"name\":\"fill\",\"kind\":\"Any\",\"default\":\"none\"},{\"name\":\"value\",\"kind\":\"Any\",\"default\":null}]}]}};\n",
       "  var render_items = [{\"docid\":\"f619f9fc-8498-4e78-a032-8c0f149ba655\",\"roots\":{\"p1004\":\"d6db805c-7a1d-4cdf-9b42-8bf5885f99ea\"},\"root_ids\":[\"p1004\"]}];\n",
       "  var docs = Object.values(docs_json)\n",
       "  if (!docs) {\n",
       "    return\n",
       "  }\n",
       "  const py_version = docs[0].version.replace('rc', '-rc.').replace('.dev', '-dev.')\n",
       "  async function embed_document(root) {\n",
       "    var Bokeh = get_bokeh(root)\n",
       "    await Bokeh.embed.embed_items_notebook(docs_json, render_items);\n",
       "    for (const render_item of render_items) {\n",
       "      for (const root_id of render_item.root_ids) {\n",
       "\tconst id_el = document.getElementById(root_id)\n",
       "\tif (id_el.children.length && id_el.children[0].hasAttribute('data-root-id')) {\n",
       "\t  const root_el = id_el.children[0]\n",
       "\t  root_el.id = root_el.id + '-rendered'\n",
       "\t  for (const child of root_el.children) {\n",
       "            // Ensure JupyterLab does not capture keyboard shortcuts\n",
       "            // see: https://jupyterlab.readthedocs.io/en/4.1.x/extension/notebook.html#keyboard-interaction-model\n",
       "\t    child.setAttribute('data-lm-suppress-shortcuts', 'true')\n",
       "\t  }\n",
       "\t}\n",
       "      }\n",
       "    }\n",
       "  }\n",
       "  function get_bokeh(root) {\n",
       "    if (root.Bokeh === undefined) {\n",
       "      return null\n",
       "    } else if (root.Bokeh.version !== py_version) {\n",
       "      if (root.Bokeh.versions === undefined || !root.Bokeh.versions.has(py_version)) {\n",
       "\treturn null\n",
       "      }\n",
       "      return root.Bokeh.versions.get(py_version);\n",
       "    } else if (root.Bokeh.version === py_version) {\n",
       "      return root.Bokeh\n",
       "    }\n",
       "    return null\n",
       "  }\n",
       "  function is_loaded(root) {\n",
       "    var Bokeh = get_bokeh(root)\n",
       "    return (Bokeh != null && Bokeh.Panel !== undefined)\n",
       "  }\n",
       "  if (is_loaded(root)) {\n",
       "    embed_document(root);\n",
       "  } else {\n",
       "    var attempts = 0;\n",
       "    var timer = setInterval(function(root) {\n",
       "      if (is_loaded(root)) {\n",
       "        clearInterval(timer);\n",
       "        embed_document(root);\n",
       "      } else if (document.readyState == \"complete\") {\n",
       "        attempts++;\n",
       "        if (attempts > 200) {\n",
       "          clearInterval(timer);\n",
       "\t  var Bokeh = get_bokeh(root)\n",
       "\t  if (Bokeh == null || Bokeh.Panel == null) {\n",
       "            console.warn(\"Panel: ERROR: Unable to run Panel code because Bokeh or Panel library is missing\");\n",
       "\t  } else {\n",
       "\t    console.warn(\"Panel: WARNING: Attempting to render but not all required libraries could be resolved.\")\n",
       "\t    embed_document(root)\n",
       "\t  }\n",
       "        }\n",
       "      }\n",
       "    }, 25, root)\n",
       "  }\n",
       "})(window);</script>"
      ]
     },
     "metadata": {
      "application/vnd.holoviews_exec.v0+json": {
       "id": "p1004"
      }
     },
     "output_type": "display_data"
    },
    {
     "data": {
      "text/html": [
       "<img src='data:image/png;base64,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' style='max-width:100%; margin: auto; display: block; '/>"
      ],
      "text/plain": [
       ":NdOverlay   [Variable]\n",
       "   :Curve   [index]   (value)"
      ]
     },
     "execution_count": 67,
     "metadata": {
      "application/vnd.holoviews_exec.v0+json": {}
     },
     "output_type": "execute_result"
    }
   ],
   "source": [
    "import hvplot \n",
    "hvplot.extension('matplotlib')\n",
    "\n",
    "shift = .8\n",
    "plot=(\n",
    "    imp_pl\n",
    "    .select(\n",
    "        Original=pl.col('depth'),\n",
    "        Backward_fill=pl.col('depth_bfill')+shift * 2,\n",
    "        Interpolate=pl.col('depth_interp')+shift * 3,\n",
    "        Mean_fill=pl.col('depth_mean')+shift * 4,\n",
    "    )\n",
    "    .hvplot(title='Missing Values Demo', width=800, height=500)\n",
    ")\n",
    "\n",
    "plot"
   ]
  },
  {
   "cell_type": "markdown",
   "id": "61dfd5ea-8e47-4d71-8594-2447ee317f30",
   "metadata": {},
   "source": [
    "---\n",
    "# 5.13 Chapter Methods and Functions\n",
    "\n",
    "[back to Top](#Top)"
   ]
  },
  {
   "cell_type": "code",
   "execution_count": 68,
   "id": "de502fa8-4e8d-484f-b321-2e83f7b0e132",
   "metadata": {},
   "outputs": [
    {
     "data": {
      "text/html": [
       "<div><style>\n",
       ".dataframe > thead > tr,\n",
       ".dataframe > tbody > tr {\n",
       "  text-align: right;\n",
       "  white-space: pre-wrap;\n",
       "}\n",
       "</style>\n",
       "<small>shape: (1, 15)</small><table border=\"1\" class=\"dataframe\"><thead><tr><th>year</th><th>make</th><th>model</th><th>displ</th><th>cylinders</th><th>trany</th><th>drive</th><th>VClass</th><th>fuelType</th><th>barrels08</th><th>city08</th><th>highway08</th><th>createdOn</th><th>is_automatic</th><th>num_gears</th></tr><tr><td>i16</td><td>cat</td><td>cat</td><td>f32</td><td>u8</td><td>str</td><td>cat</td><td>cat</td><td>cat</td><td>f32</td><td>u8</td><td>u8</td><td>datetime[μs]</td><td>str</td><td>u8</td></tr></thead><tbody><tr><td>1985</td><td>&quot;Alfa Romeo&quot;</td><td>&quot;Spider Veloce 2000&quot;</td><td>2.0</td><td>4</td><td>&quot;Manual 5-spd&quot;</td><td>&quot;Rear-Wheel Drive&quot;</td><td>&quot;Two Seaters&quot;</td><td>&quot;Regular&quot;</td><td>14.167143</td><td>19</td><td>25</td><td>2013-01-01 00:00:00</td><td>&quot;false&quot;</td><td>5</td></tr></tbody></table></div>"
      ],
      "text/plain": [
       "shape: (1, 15)\n",
       "+-----+-----+-----+-----+-----+-----+-----+-----+-----+-----+-----+--------+-------+-------+-------+\n",
       "| yea | mak | mod | dis | cyl | tra | dri | VCl | fue | bar | cit | highwa | creat | is_au | num_g |\n",
       "| r   | e   | el  | pl  | ind | ny  | ve  | ass | lTy | rel | y08 | y08    | edOn  | tomat | ears  |\n",
       "| --- | --- | --- | --- | ers | --- | --- | --- | pe  | s08 | --- | ---    | ---   | ic    | ---   |\n",
       "| i16 | cat | cat | f32 | --- | str | cat | cat | --- | --- | u8  | u8     | datet | ---   | u8    |\n",
       "|     |     |     |     | u8  |     |     |     | cat | f32 |     |        | ime[μ | str   |       |\n",
       "|     |     |     |     |     |     |     |     |     |     |     |        | s]    |       |       |\n",
       "+==================================================================================================+\n",
       "| 198 | Alf | Spi | 2.0 | 4   | Man | Rea | Two | Reg | 14. | 19  | 25     | 2013- | false | 5     |\n",
       "| 5   | a   | der |     |     | ual | r-W | Sea | ula | 167 |     |        | 01-01 |       |       |\n",
       "|     | Rom | Vel |     |     | 5-s | hee | ter | r   | 143 |     |        | 00:00 |       |       |\n",
       "|     | eo  | oce |     |     | pd  | l   | s   |     |     |     |        | :00   |       |       |\n",
       "|     |     | 200 |     |     |     | Dri |     |     |     |     |        |       |       |       |\n",
       "|     |     | 0   |     |     |     | ve  |     |     |     |     |        |       |       |       |\n",
       "+-----+-----+-----+-----+-----+-----+-----+-----+-----+-----+-----+--------+-------+-------+-------+"
      ]
     },
     "execution_count": 68,
     "metadata": {},
     "output_type": "execute_result"
    }
   ],
   "source": [
    "# For reference\n",
    "autos.head(1)"
   ]
  },
  {
   "cell_type": "markdown",
   "id": "14438c96-9bdf-48cb-82d0-915140328315",
   "metadata": {},
   "source": [
    "## df.filter\n",
    "\n",
    "* https://docs.pola.rs/py-polars/html/reference/dataframe/api/polars.DataFrame.filter.html\n",
    "* Filter the rows in the DataFrame based on one or more predicate expressions.\n",
    "* The original order of the remaining rows is preserved.\n",
    "* Returns a new dataframe with only the rows that satisfy the condition."
   ]
  },
  {
   "cell_type": "code",
   "execution_count": 69,
   "id": "77fc751a-8cb0-420b-9701-a6c4d3ac30c0",
   "metadata": {},
   "outputs": [
    {
     "name": "stderr",
     "output_type": "stream",
     "text": [
      "dataframe filtered\n",
      "dataframe filtered\n"
     ]
    },
    {
     "data": {
      "text/html": [
       "<div><style>\n",
       ".dataframe > thead > tr,\n",
       ".dataframe > tbody > tr {\n",
       "  text-align: right;\n",
       "  white-space: pre-wrap;\n",
       "}\n",
       "</style>\n",
       "<small>shape: (2, 15)</small><table border=\"1\" class=\"dataframe\"><thead><tr><th>year</th><th>make</th><th>model</th><th>displ</th><th>cylinders</th><th>trany</th><th>drive</th><th>VClass</th><th>fuelType</th><th>barrels08</th><th>city08</th><th>highway08</th><th>createdOn</th><th>is_automatic</th><th>num_gears</th></tr><tr><td>i16</td><td>cat</td><td>cat</td><td>f32</td><td>u8</td><td>str</td><td>cat</td><td>cat</td><td>cat</td><td>f32</td><td>u8</td><td>u8</td><td>datetime[μs]</td><td>str</td><td>u8</td></tr></thead><tbody><tr><td>1985</td><td>&quot;Alfa Romeo&quot;</td><td>&quot;Spider Veloce 2000&quot;</td><td>2.0</td><td>4</td><td>&quot;Manual 5-spd&quot;</td><td>&quot;Rear-Wheel Drive&quot;</td><td>&quot;Two Seaters&quot;</td><td>&quot;Regular&quot;</td><td>14.167143</td><td>19</td><td>25</td><td>2013-01-01 00:00:00</td><td>&quot;false&quot;</td><td>5</td></tr><tr><td>1985</td><td>&quot;Alfa Romeo&quot;</td><td>&quot;GT V6 2.5&quot;</td><td>2.5</td><td>6</td><td>&quot;Manual 5-spd&quot;</td><td>&quot;Rear-Wheel Drive&quot;</td><td>&quot;Minicompact Cars&quot;</td><td>&quot;Regular&quot;</td><td>15.658422</td><td>17</td><td>24</td><td>2013-01-01 00:00:00</td><td>&quot;false&quot;</td><td>5</td></tr></tbody></table></div>"
      ],
      "text/plain": [
       "shape: (2, 15)\n",
       "+-----+-----+-----+-----+-----+-----+-----+-----+-----+-----+-----+--------+-------+-------+-------+\n",
       "| yea | mak | mod | dis | cyl | tra | dri | VCl | fue | bar | cit | highwa | creat | is_au | num_g |\n",
       "| r   | e   | el  | pl  | ind | ny  | ve  | ass | lTy | rel | y08 | y08    | edOn  | tomat | ears  |\n",
       "| --- | --- | --- | --- | ers | --- | --- | --- | pe  | s08 | --- | ---    | ---   | ic    | ---   |\n",
       "| i16 | cat | cat | f32 | --- | str | cat | cat | --- | --- | u8  | u8     | datet | ---   | u8    |\n",
       "|     |     |     |     | u8  |     |     |     | cat | f32 |     |        | ime[μ | str   |       |\n",
       "|     |     |     |     |     |     |     |     |     |     |     |        | s]    |       |       |\n",
       "+==================================================================================================+\n",
       "| 198 | Alf | Spi | 2.0 | 4   | Man | Rea | Two | Reg | 14. | 19  | 25     | 2013- | false | 5     |\n",
       "| 5   | a   | der |     |     | ual | r-W | Sea | ula | 167 |     |        | 01-01 |       |       |\n",
       "|     | Rom | Vel |     |     | 5-s | hee | ter | r   | 143 |     |        | 00:00 |       |       |\n",
       "|     | eo  | oce |     |     | pd  | l   | s   |     |     |     |        | :00   |       |       |\n",
       "|     |     | 200 |     |     |     | Dri |     |     |     |     |        |       |       |       |\n",
       "|     |     | 0   |     |     |     | ve  |     |     |     |     |        |       |       |       |\n",
       "| 198 | Alf | GT  | 2.5 | 6   | Man | Rea | Min | Reg | 15. | 17  | 24     | 2013- | false | 5     |\n",
       "| 5   | a   | V6  |     |     | ual | r-W | ico | ula | 658 |     |        | 01-01 |       |       |\n",
       "|     | Rom | 2.5 |     |     | 5-s | hee | mpa | r   | 422 |     |        | 00:00 |       |       |\n",
       "|     | eo  |     |     |     | pd  | l   | ct  |     |     |     |        | :00   |       |       |\n",
       "|     |     |     |     |     |     | Dri | Car |     |     |     |        |       |       |       |\n",
       "|     |     |     |     |     |     | ve  | s   |     |     |     |        |       |       |       |\n",
       "+-----+-----+-----+-----+-----+-----+-----+-----+-----+-----+-----+--------+-------+-------+-------+"
      ]
     },
     "execution_count": 69,
     "metadata": {},
     "output_type": "execute_result"
    }
   ],
   "source": [
    "(\n",
    "    autos\n",
    "    .filter((pl.col('year')==1985) & (pl.col('make')=='Alfa Romeo'))\n",
    ")"
   ]
  },
  {
   "cell_type": "markdown",
   "id": "accc61da-5efe-4f49-a165-091345e91579",
   "metadata": {},
   "source": [
    "## df.describe()\n",
    "\n",
    "* https://docs.pola.rs/py-polars/html/reference/dataframe/api/polars.DataFrame.describe.html#polars.DataFrame.describe\n",
    "* Summary statistics for a DataFrame.\n"
   ]
  },
  {
   "cell_type": "code",
   "execution_count": 70,
   "id": "7962b2c9-7fae-4f42-8728-df390d827f87",
   "metadata": {},
   "outputs": [
    {
     "name": "stdout",
     "output_type": "stream",
     "text": [
      "shape: (9, 16)\n",
      "+-----+-----+-----+-----+-----+-----+-----+-----+-----+-----+-----+-----+-----+-----+-----+--------+\n",
      "| sta | yea | mak | mod | dis | cyl | tra | dri | VCl | fue | bar | cit | hig | cre | is_ | num_ge |\n",
      "| tis | r   | e   | el  | pl  | ind | ny  | ve  | ass | lTy | rel | y08 | hwa | ate | aut | ars    |\n",
      "| tic | --- | --- | --- | --- | ers | --- | --- | --- | pe  | s08 | --- | y08 | dOn | oma | ---    |\n",
      "| --- | f64 | str | str | f64 | --- | str | str | str | --- | --- | f64 | --- | --- | tic | f64    |\n",
      "| str |     |     |     |     | f64 |     |     |     | str | f64 |     | f64 | str | --- |        |\n",
      "|     |     |     |     |     |     |     |     |     |     |     |     |     |     | str |        |\n",
      "+==================================================================================================+\n",
      "| cou | 482 | 482 | 482 | 472 | 472 | 481 | 470 | 482 | 482 | 482 | 482 | 482 | 482 | 482 | 48202. |\n",
      "| nt  | 02. | 02  | 02  | 39. | 37. | 91  | 16  | 02  | 02  | 02. | 02. | 02. | 02  | 02  | 0      |\n",
      "|     | 0   |     |     | 0   | 0   |     |     |     |     | 0   | 0   | 0   |     |     |        |\n",
      "| nul | 0.0 | 0   | 0   | 963 | 965 | 11  | 118 | 0   | 0   | 0.0 | 0.0 | 0.0 | 0   | 0   | 0.0    |\n",
      "| l_c |     |     |     | .0  | .0  |     | 6   |     |     |     |     |     |     |     |        |\n",
      "| oun |     |     |     |     |     |     |     |     |     |     |     |     |     |     |        |\n",
      "| t   |     |     |     |     |     |     |     |     |     |     |     |     |     |     |        |\n",
      "| mea | 200 | nul | nul | 3.2 | 5.6 | nul | nul | nul | nul | 15. | 19. | 25. | 201 | nul | 5.3466 |\n",
      "| n   | 4.5 | l   | l   | 706 | 988 | l   | l   | l   | l   | 106 | 929 | 821 | 4-1 | l   | 66     |\n",
      "|     | 934 |     |     | 6   | 38  |     |     |     |     | 042 | 235 | 294 | 1-1 |     |        |\n",
      "|     | 4   |     |     |     |     |     |     |     |     |     |     |     | 4   |     |        |\n",
      "|     |     |     |     |     |     |     |     |     |     |     |     |     | 05: |     |        |\n",
      "|     |     |     |     |     |     |     |     |     |     |     |     |     | 34: |     |        |\n",
      "|     |     |     |     |     |     |     |     |     |     |     |     |     | 17. |     |        |\n",
      "|     |     |     |     |     |     |     |     |     |     |     |     |     | 590 |     |        |\n",
      "|     |     |     |     |     |     |     |     |     |     |     |     |     | 971 |     |        |\n",
      "| std | 12. | nul | nul | 1.3 | 1.7 | nul | nul | nul | nul | 4.5 | 12. | 11. | nul | nul | 1.7349 |\n",
      "|     | 681 | l   | l   | 530 | 729 | l   | l   | l   | l   | 601 | 658 | 087 | l   | l   | 6      |\n",
      "|     | 444 |     |     | 53  | 64  |     |     |     |     | 56  | 018 | 154 |     |     |        |\n",
      "| min | 198 | nul | nul | 0.0 | 2.0 | Aut | nul | nul | nul | 0.0 | 6.0 | 9.0 | 201 | Aut | 1.0    |\n",
      "|     | 4.0 | l   | l   |     |     | oma | l   | l   | l   | 470 |     |     | 3-0 | oma |        |\n",
      "|     |     |     |     |     |     | tic |     |     |     | 81  |     |     | 1-0 | tic |        |\n",
      "|     |     |     |     |     |     | (A1 |     |     |     |     |     |     | 1   |     |        |\n",
      "|     |     |     |     |     |     | )   |     |     |     |     |     |     | 00: |     |        |\n",
      "|     |     |     |     |     |     |     |     |     |     |     |     |     | 00: |     |        |\n",
      "|     |     |     |     |     |     |     |     |     |     |     |     |     | 00  |     |        |\n",
      "| 25% | 199 | nul | nul | 2.2 | 4.0 | nul | nul | nul | nul | 12. | 15. | 20. | 201 | nul | 4.0    |\n",
      "|     | 3.0 | l   | l   |     |     | l   | l   | l   | l   | 396 | 0   | 0   | 3-0 | l   |        |\n",
      "|     |     |     |     |     |     |     |     |     |     | 25  |     |     | 1-0 |     |        |\n",
      "|     |     |     |     |     |     |     |     |     |     |     |     |     | 1   |     |        |\n",
      "|     |     |     |     |     |     |     |     |     |     |     |     |     | 00: |     |        |\n",
      "|     |     |     |     |     |     |     |     |     |     |     |     |     | 00: |     |        |\n",
      "|     |     |     |     |     |     |     |     |     |     |     |     |     | 00  |     |        |\n",
      "| 50% | 200 | nul | nul | 3.0 | 6.0 | nul | nul | nul | nul | 14. | 18. | 24. | 201 | nul | 5.0    |\n",
      "|     | 6.0 | l   | l   |     |     | l   | l   | l   | l   | 875 | 0   | 0   | 3-0 | l   |        |\n",
      "|     |     |     |     |     |     |     |     |     |     | 5   |     |     | 1-0 |     |        |\n",
      "|     |     |     |     |     |     |     |     |     |     |     |     |     | 1   |     |        |\n",
      "|     |     |     |     |     |     |     |     |     |     |     |     |     | 00: |     |        |\n",
      "|     |     |     |     |     |     |     |     |     |     |     |     |     | 00: |     |        |\n",
      "|     |     |     |     |     |     |     |     |     |     |     |     |     | 00  |     |        |\n",
      "| 75% | 201 | nul | nul | 4.2 | 6.0 | nul | nul | nul | nul | 17. | 21. | 28. | 201 | nul | 6.0    |\n",
      "|     | 6.0 | l   | l   |     |     | l   | l   | l   | l   | 500 | 0   | 0   | 5-0 | l   |        |\n",
      "|     |     |     |     |     |     |     |     |     |     | 587 |     |     | 7-0 |     |        |\n",
      "|     |     |     |     |     |     |     |     |     |     |     |     |     | 2   |     |        |\n",
      "|     |     |     |     |     |     |     |     |     |     |     |     |     | 00: |     |        |\n",
      "|     |     |     |     |     |     |     |     |     |     |     |     |     | 00: |     |        |\n",
      "|     |     |     |     |     |     |     |     |     |     |     |     |     | 00  |     |        |\n",
      "| max | 202 | nul | nul | 8.4 | 16. | Man | nul | nul | nul | 42. | 153 | 142 | 202 | tru | 10.0   |\n",
      "|     | 5.0 | l   | l   |     | 0   | ual | l   | l   | l   | 501 | .0  | .0  | 4-1 | e   |        |\n",
      "|     |     |     |     |     |     | 7-s |     |     |     | 427 |     |     | 0-1 |     |        |\n",
      "|     |     |     |     |     |     | pd  |     |     |     |     |     |     | 7   |     |        |\n",
      "|     |     |     |     |     |     |     |     |     |     |     |     |     | 00: |     |        |\n",
      "|     |     |     |     |     |     |     |     |     |     |     |     |     | 00: |     |        |\n",
      "|     |     |     |     |     |     |     |     |     |     |     |     |     | 00  |     |        |\n",
      "+-----+-----+-----+-----+-----+-----+-----+-----+-----+-----+-----+-----+-----+-----+-----+--------+\n"
     ]
    }
   ],
   "source": [
    "print(autos.describe())"
   ]
  },
  {
   "cell_type": "markdown",
   "id": "faef8041-96b9-4cf5-93f1-2784eff6ef89",
   "metadata": {},
   "source": [
    "## df.glimpse()\n",
    "\n",
    "* Return a dense preview of the DataFrame.\n",
    "* The formatting shows one line per column so that wide dataframes display cleanly.\n",
    "* Each line shows the column name, the data type, and the first few values.\n",
    "* GB: Akin to df.head()"
   ]
  },
  {
   "cell_type": "code",
   "execution_count": 71,
   "id": "bd134942-aa1d-47a2-aec1-36f8622564cb",
   "metadata": {},
   "outputs": [
    {
     "name": "stdout",
     "output_type": "stream",
     "text": [
      "Rows: 48202\n",
      "Columns: 15\n",
      "$ year                  <i16> 1985, 1985, 1985\n",
      "$ make                  <cat> Alfa Romeo, Ferrari, Dodge\n",
      "$ model                 <cat> Spider Veloce 2000, Testarossa, Charger\n",
      "$ displ                 <f32> 2.0, 4.900000095367432, 2.200000047683716\n",
      "$ cylinders              <u8> 4, 12, 4\n",
      "$ trany                 <str> 'Manual 5-spd', 'Manual 5-spd', 'Manual 5-spd'\n",
      "$ drive                 <cat> Rear-Wheel Drive, Rear-Wheel Drive, Front-Wheel Drive\n",
      "$ VClass                <cat> Two Seaters, Two Seaters, Subcompact Cars\n",
      "$ fuelType              <cat> Regular, Regular, Regular\n",
      "$ barrels08             <f32> 14.167142868041992, 27.046363830566406, 11.018888473510742\n",
      "$ city08                 <u8> 19, 9, 23\n",
      "$ highway08              <u8> 25, 14, 33\n",
      "$ createdOn    <datetime[μs]> 2013-01-01 00:00:00, 2013-01-01 00:00:00, 2013-01-01 00:00:00\n",
      "$ is_automatic          <str> 'false', 'false', 'false'\n",
      "$ num_gears              <u8> 5, 5, 5\n",
      "\n"
     ]
    }
   ],
   "source": [
    "autos.glimpse(max_items_per_column=3)"
   ]
  },
  {
   "cell_type": "markdown",
   "id": "1e5b0561-55bc-4c87-96a5-936f29fc34c7",
   "metadata": {},
   "source": [
    "## df.drop_nulls()\n",
    "\n",
    "* https://docs.pola.rs/py-polars/html/reference/dataframe/api/polars.DataFrame.drop_nulls.html#polars.DataFrame.drop_nulls\n",
    "* Drop all rows that contain null values.\n",
    "* The original order of the remaining rows is preserved."
   ]
  },
  {
   "cell_type": "code",
   "execution_count": 72,
   "id": "5f1b5ebd-febd-4914-b267-e63f079e3e6b",
   "metadata": {},
   "outputs": [
    {
     "name": "stderr",
     "output_type": "stream",
     "text": [
      "dataframe filtered\n"
     ]
    },
    {
     "data": {
      "text/html": [
       "<div><style>\n",
       ".dataframe > thead > tr,\n",
       ".dataframe > tbody > tr {\n",
       "  text-align: right;\n",
       "  white-space: pre-wrap;\n",
       "}\n",
       "</style>\n",
       "<small>shape: (5, 15)</small><table border=\"1\" class=\"dataframe\"><thead><tr><th>year</th><th>make</th><th>model</th><th>displ</th><th>cylinders</th><th>trany</th><th>drive</th><th>VClass</th><th>fuelType</th><th>barrels08</th><th>city08</th><th>highway08</th><th>createdOn</th><th>is_automatic</th><th>num_gears</th></tr><tr><td>i16</td><td>cat</td><td>cat</td><td>f32</td><td>u8</td><td>str</td><td>cat</td><td>cat</td><td>cat</td><td>f32</td><td>u8</td><td>u8</td><td>datetime[μs]</td><td>str</td><td>u8</td></tr></thead><tbody><tr><td>1985</td><td>&quot;Alfa Romeo&quot;</td><td>&quot;Spider Veloce 2000&quot;</td><td>2.0</td><td>4</td><td>&quot;Manual 5-spd&quot;</td><td>&quot;Rear-Wheel Drive&quot;</td><td>&quot;Two Seaters&quot;</td><td>&quot;Regular&quot;</td><td>14.167143</td><td>19</td><td>25</td><td>2013-01-01 00:00:00</td><td>&quot;false&quot;</td><td>5</td></tr><tr><td>1985</td><td>&quot;Ferrari&quot;</td><td>&quot;Testarossa&quot;</td><td>4.9</td><td>12</td><td>&quot;Manual 5-spd&quot;</td><td>&quot;Rear-Wheel Drive&quot;</td><td>&quot;Two Seaters&quot;</td><td>&quot;Regular&quot;</td><td>27.046364</td><td>9</td><td>14</td><td>2013-01-01 00:00:00</td><td>&quot;false&quot;</td><td>5</td></tr><tr><td>1985</td><td>&quot;Dodge&quot;</td><td>&quot;Charger&quot;</td><td>2.2</td><td>4</td><td>&quot;Manual 5-spd&quot;</td><td>&quot;Front-Wheel Drive&quot;</td><td>&quot;Subcompact Cars&quot;</td><td>&quot;Regular&quot;</td><td>11.018888</td><td>23</td><td>33</td><td>2013-01-01 00:00:00</td><td>&quot;false&quot;</td><td>5</td></tr><tr><td>1985</td><td>&quot;Dodge&quot;</td><td>&quot;B150/B250 Wagon 2WD&quot;</td><td>5.2</td><td>8</td><td>&quot;Automatic 3-spd&quot;</td><td>&quot;Rear-Wheel Drive&quot;</td><td>&quot;Vans&quot;</td><td>&quot;Regular&quot;</td><td>27.046364</td><td>10</td><td>12</td><td>2013-01-01 00:00:00</td><td>&quot;true&quot;</td><td>3</td></tr><tr><td>1993</td><td>&quot;Subaru&quot;</td><td>&quot;Legacy AWD Turbo&quot;</td><td>2.2</td><td>4</td><td>&quot;Manual 5-spd&quot;</td><td>&quot;4-Wheel or All-Wheel Drive&quot;</td><td>&quot;Compact Cars&quot;</td><td>&quot;Premium&quot;</td><td>15.658422</td><td>17</td><td>23</td><td>2013-01-01 00:00:00</td><td>&quot;false&quot;</td><td>5</td></tr></tbody></table></div>"
      ],
      "text/plain": [
       "shape: (5, 15)\n",
       "+-----+-----+-----+-----+-----+-----+-----+-----+-----+-----+-----+--------+-------+-------+-------+\n",
       "| yea | mak | mod | dis | cyl | tra | dri | VCl | fue | bar | cit | highwa | creat | is_au | num_g |\n",
       "| r   | e   | el  | pl  | ind | ny  | ve  | ass | lTy | rel | y08 | y08    | edOn  | tomat | ears  |\n",
       "| --- | --- | --- | --- | ers | --- | --- | --- | pe  | s08 | --- | ---    | ---   | ic    | ---   |\n",
       "| i16 | cat | cat | f32 | --- | str | cat | cat | --- | --- | u8  | u8     | datet | ---   | u8    |\n",
       "|     |     |     |     | u8  |     |     |     | cat | f32 |     |        | ime[μ | str   |       |\n",
       "|     |     |     |     |     |     |     |     |     |     |     |        | s]    |       |       |\n",
       "+==================================================================================================+\n",
       "| 198 | Alf | Spi | 2.0 | 4   | Man | Rea | Two | Reg | 14. | 19  | 25     | 2013- | false | 5     |\n",
       "| 5   | a   | der |     |     | ual | r-W | Sea | ula | 167 |     |        | 01-01 |       |       |\n",
       "|     | Rom | Vel |     |     | 5-s | hee | ter | r   | 143 |     |        | 00:00 |       |       |\n",
       "|     | eo  | oce |     |     | pd  | l   | s   |     |     |     |        | :00   |       |       |\n",
       "|     |     | 200 |     |     |     | Dri |     |     |     |     |        |       |       |       |\n",
       "|     |     | 0   |     |     |     | ve  |     |     |     |     |        |       |       |       |\n",
       "| 198 | Fer | Tes | 4.9 | 12  | Man | Rea | Two | Reg | 27. | 9   | 14     | 2013- | false | 5     |\n",
       "| 5   | rar | tar |     |     | ual | r-W | Sea | ula | 046 |     |        | 01-01 |       |       |\n",
       "|     | i   | oss |     |     | 5-s | hee | ter | r   | 364 |     |        | 00:00 |       |       |\n",
       "|     |     | a   |     |     | pd  | l   | s   |     |     |     |        | :00   |       |       |\n",
       "|     |     |     |     |     |     | Dri |     |     |     |     |        |       |       |       |\n",
       "|     |     |     |     |     |     | ve  |     |     |     |     |        |       |       |       |\n",
       "| 198 | Dod | Cha | 2.2 | 4   | Man | Fro | Sub | Reg | 11. | 23  | 33     | 2013- | false | 5     |\n",
       "| 5   | ge  | rge |     |     | ual | nt- | com | ula | 018 |     |        | 01-01 |       |       |\n",
       "|     |     | r   |     |     | 5-s | Whe | pac | r   | 888 |     |        | 00:00 |       |       |\n",
       "|     |     |     |     |     | pd  | el  | t   |     |     |     |        | :00   |       |       |\n",
       "|     |     |     |     |     |     | Dri | Car |     |     |     |        |       |       |       |\n",
       "|     |     |     |     |     |     | ve  | s   |     |     |     |        |       |       |       |\n",
       "| 198 | Dod | B15 | 5.2 | 8   | Aut | Rea | Van | Reg | 27. | 10  | 12     | 2013- | true  | 3     |\n",
       "| 5   | ge  | 0/B |     |     | oma | r-W | s   | ula | 046 |     |        | 01-01 |       |       |\n",
       "|     |     | 250 |     |     | tic | hee |     | r   | 364 |     |        | 00:00 |       |       |\n",
       "|     |     | Wag |     |     | 3-s | l   |     |     |     |     |        | :00   |       |       |\n",
       "|     |     | on  |     |     | pd  | Dri |     |     |     |     |        |       |       |       |\n",
       "|     |     | 2WD |     |     |     | ve  |     |     |     |     |        |       |       |       |\n",
       "| 199 | Sub | Leg | 2.2 | 4   | Man | 4-W | Com | Pre | 15. | 17  | 23     | 2013- | false | 5     |\n",
       "| 3   | aru | acy |     |     | ual | hee | pac | miu | 658 |     |        | 01-01 |       |       |\n",
       "|     |     | AWD |     |     | 5-s | l   | t   | m   | 422 |     |        | 00:00 |       |       |\n",
       "|     |     | Tur |     |     | pd  | or  | Car |     |     |     |        | :00   |       |       |\n",
       "|     |     | bo  |     |     |     | All | s   |     |     |     |        |       |       |       |\n",
       "|     |     |     |     |     |     | -Wh |     |     |     |     |        |       |       |       |\n",
       "|     |     |     |     |     |     | eel |     |     |     |     |        |       |       |       |\n",
       "|     |     |     |     |     |     | Dri |     |     |     |     |        |       |       |       |\n",
       "|     |     |     |     |     |     | ve  |     |     |     |     |        |       |       |       |\n",
       "+-----+-----+-----+-----+-----+-----+-----+-----+-----+-----+-----+--------+-------+-------+-------+"
      ]
     },
     "execution_count": 72,
     "metadata": {},
     "output_type": "execute_result"
    }
   ],
   "source": [
    "(\n",
    "    autos\n",
    "    .drop_nulls().head()\n",
    ")"
   ]
  },
  {
   "cell_type": "markdown",
   "id": "648cfa03-9b43-4ffe-a156-ad938dc153aa",
   "metadata": {},
   "source": [
    "## col.is_between(lower_bound, upper_bound, closed='both')\n",
    "\n",
    "* https://docs.pola.rs/py-polars/html/reference/expressions/api/polars.Expr.is_between.html#polars.Expr.is_between\n",
    "* Check if this expression is between the given lower and upper bounds.\n",
    "* Returns: Expression of data type Boolean."
   ]
  },
  {
   "cell_type": "code",
   "execution_count": 73,
   "id": "3d34e22e-094b-471a-9cbb-03bec7854edc",
   "metadata": {},
   "outputs": [
    {
     "data": {
      "text/html": [
       "<div><style>\n",
       ".dataframe > thead > tr,\n",
       ".dataframe > tbody > tr {\n",
       "  text-align: right;\n",
       "  white-space: pre-wrap;\n",
       "}\n",
       "</style>\n",
       "<small>shape: (48_202, 3)</small><table border=\"1\" class=\"dataframe\"><thead><tr><th>year</th><th>make</th><th>cylinders_1_2</th></tr><tr><td>i16</td><td>cat</td><td>bool</td></tr></thead><tbody><tr><td>1985</td><td>&quot;Alfa Romeo&quot;</td><td>false</td></tr><tr><td>1985</td><td>&quot;Ferrari&quot;</td><td>false</td></tr><tr><td>1985</td><td>&quot;Dodge&quot;</td><td>false</td></tr><tr><td>1985</td><td>&quot;Dodge&quot;</td><td>false</td></tr><tr><td>1993</td><td>&quot;Subaru&quot;</td><td>false</td></tr><tr><td>&hellip;</td><td>&hellip;</td><td>&hellip;</td></tr><tr><td>1993</td><td>&quot;Subaru&quot;</td><td>false</td></tr><tr><td>1993</td><td>&quot;Subaru&quot;</td><td>false</td></tr><tr><td>1993</td><td>&quot;Subaru&quot;</td><td>false</td></tr><tr><td>1993</td><td>&quot;Subaru&quot;</td><td>false</td></tr><tr><td>1993</td><td>&quot;Subaru&quot;</td><td>false</td></tr></tbody></table></div>"
      ],
      "text/plain": [
       "shape: (48_202, 3)\n",
       "+------+------------+---------------+\n",
       "| year | make       | cylinders_1_2 |\n",
       "| ---  | ---        | ---           |\n",
       "| i16  | cat        | bool          |\n",
       "+===================================+\n",
       "| 1985 | Alfa Romeo | false         |\n",
       "| 1985 | Ferrari    | false         |\n",
       "| 1985 | Dodge      | false         |\n",
       "| 1985 | Dodge      | false         |\n",
       "| 1993 | Subaru     | false         |\n",
       "| …    | …          | …             |\n",
       "| 1993 | Subaru     | false         |\n",
       "| 1993 | Subaru     | false         |\n",
       "| 1993 | Subaru     | false         |\n",
       "| 1993 | Subaru     | false         |\n",
       "| 1993 | Subaru     | false         |\n",
       "+------+------------+---------------+"
      ]
     },
     "execution_count": 73,
     "metadata": {},
     "output_type": "execute_result"
    }
   ],
   "source": [
    "(\n",
    "    autos\n",
    "    .with_columns(\n",
    "        cylinders_1_2=pl.col('cylinders').is_between(1, 2)\n",
    "    )\n",
    "    .select(['year', 'make', 'cylinders_1_2'])\n",
    ")"
   ]
  },
  {
   "cell_type": "code",
   "execution_count": 74,
   "id": "63609eb1-6377-4088-a8fc-caf19c29d992",
   "metadata": {},
   "outputs": [
    {
     "name": "stderr",
     "output_type": "stream",
     "text": [
      "dataframe filtered\n"
     ]
    },
    {
     "data": {
      "text/html": [
       "<div><style>\n",
       ".dataframe > thead > tr,\n",
       ".dataframe > tbody > tr {\n",
       "  text-align: right;\n",
       "  white-space: pre-wrap;\n",
       "}\n",
       "</style>\n",
       "<small>shape: (63, 3)</small><table border=\"1\" class=\"dataframe\"><thead><tr><th>year</th><th>make</th><th>cylinders_1_2</th></tr><tr><td>i16</td><td>cat</td><td>u8</td></tr></thead><tbody><tr><td>1994</td><td>&quot;Mazda&quot;</td><td>2</td></tr><tr><td>1994</td><td>&quot;Mazda&quot;</td><td>2</td></tr><tr><td>1995</td><td>&quot;Mazda&quot;</td><td>2</td></tr><tr><td>1995</td><td>&quot;Mazda&quot;</td><td>2</td></tr><tr><td>1985</td><td>&quot;Mazda&quot;</td><td>2</td></tr><tr><td>&hellip;</td><td>&hellip;</td><td>&hellip;</td></tr><tr><td>1991</td><td>&quot;Mazda&quot;</td><td>2</td></tr><tr><td>1992</td><td>&quot;Mazda&quot;</td><td>2</td></tr><tr><td>1992</td><td>&quot;Mazda&quot;</td><td>2</td></tr><tr><td>1993</td><td>&quot;Mazda&quot;</td><td>2</td></tr><tr><td>1993</td><td>&quot;Mazda&quot;</td><td>2</td></tr></tbody></table></div>"
      ],
      "text/plain": [
       "shape: (63, 3)\n",
       "+------+-------+---------------+\n",
       "| year | make  | cylinders_1_2 |\n",
       "| ---  | ---   | ---           |\n",
       "| i16  | cat   | u8            |\n",
       "+==============================+\n",
       "| 1994 | Mazda | 2             |\n",
       "| 1994 | Mazda | 2             |\n",
       "| 1995 | Mazda | 2             |\n",
       "| 1995 | Mazda | 2             |\n",
       "| 1985 | Mazda | 2             |\n",
       "| …    | …     | …             |\n",
       "| 1991 | Mazda | 2             |\n",
       "| 1992 | Mazda | 2             |\n",
       "| 1992 | Mazda | 2             |\n",
       "| 1993 | Mazda | 2             |\n",
       "| 1993 | Mazda | 2             |\n",
       "+------+-------+---------------+"
      ]
     },
     "execution_count": 74,
     "metadata": {},
     "output_type": "execute_result"
    }
   ],
   "source": [
    "# Variation using together with .filter(), .with_columns, custom name\n",
    "(\n",
    "    autos\n",
    "    .with_columns(cylinders_1_2=pl.col('cylinders'))\n",
    "    .filter(\n",
    "        pl.col('cylinders_1_2').is_between(1, 2)\n",
    "    )\n",
    "    .select(['year', 'make', 'cylinders_1_2'])\n",
    ")"
   ]
  },
  {
   "cell_type": "markdown",
   "id": "df4f624a-3b93-4006-9fc7-ec06448fccb7",
   "metadata": {},
   "source": [
    "## col.is_null(), polars.Expr.is_null()\n",
    "\n",
    "* Returns a boolean Series indicating which values are null.\n"
   ]
  },
  {
   "cell_type": "code",
   "execution_count": 75,
   "id": "55bf5ab4-782b-488d-af5d-1afadfdaa1c9",
   "metadata": {},
   "outputs": [
    {
     "data": {
      "text/html": [
       "<div><style>\n",
       ".dataframe > thead > tr,\n",
       ".dataframe > tbody > tr {\n",
       "  text-align: right;\n",
       "  white-space: pre-wrap;\n",
       "}\n",
       "</style>\n",
       "<small>shape: (1, 15)</small><table border=\"1\" class=\"dataframe\"><thead><tr><th>year</th><th>make</th><th>model</th><th>displ</th><th>cylinders</th><th>trany</th><th>drive</th><th>VClass</th><th>fuelType</th><th>barrels08</th><th>city08</th><th>highway08</th><th>createdOn</th><th>is_automatic</th><th>num_gears</th></tr><tr><td>bool</td><td>bool</td><td>bool</td><td>bool</td><td>bool</td><td>bool</td><td>bool</td><td>bool</td><td>bool</td><td>bool</td><td>bool</td><td>bool</td><td>bool</td><td>bool</td><td>bool</td></tr></thead><tbody><tr><td>false</td><td>false</td><td>false</td><td>true</td><td>true</td><td>true</td><td>true</td><td>false</td><td>false</td><td>false</td><td>false</td><td>false</td><td>false</td><td>false</td><td>false</td></tr></tbody></table></div>"
      ],
      "text/plain": [
       "shape: (1, 15)\n",
       "+-----+-----+-----+-----+-----+-----+-----+-----+-----+-----+-----+--------+-------+-------+-------+\n",
       "| yea | mak | mod | dis | cyl | tra | dri | VCl | fue | bar | cit | highwa | creat | is_au | num_g |\n",
       "| r   | e   | el  | pl  | ind | ny  | ve  | ass | lTy | rel | y08 | y08    | edOn  | tomat | ears  |\n",
       "| --- | --- | --- | --- | ers | --- | --- | --- | pe  | s08 | --- | ---    | ---   | ic    | ---   |\n",
       "| boo | boo | boo | boo | --- | boo | boo | boo | --- | --- | boo | bool   | bool  | ---   | bool  |\n",
       "| l   | l   | l   | l   | boo | l   | l   | l   | boo | boo | l   |        |       | bool  |       |\n",
       "|     |     |     |     | l   |     |     |     | l   | l   |     |        |       |       |       |\n",
       "+==================================================================================================+\n",
       "| fal | fal | fal | tru | tru | tru | tru | fal | fal | fal | fal | false  | false | false | false |\n",
       "| se  | se  | se  | e   | e   | e   | e   | se  | se  | se  | se  |        |       |       |       |\n",
       "+-----+-----+-----+-----+-----+-----+-----+-----+-----+-----+-----+--------+-------+-------+-------+"
      ]
     },
     "execution_count": 75,
     "metadata": {},
     "output_type": "execute_result"
    }
   ],
   "source": [
    "# df.with_columns(pl.all().is_null().name.suffix(\"_isnull\"))  # nan != null\n",
    "\n",
    "(\n",
    "    autos\n",
    "    .select(\n",
    "        pl.col(\"*\").is_null().any()\n",
    "    )\n",
    ")"
   ]
  },
  {
   "cell_type": "code",
   "execution_count": 76,
   "id": "57ae4d7a-e189-4bfe-abba-dc8e95bf613b",
   "metadata": {},
   "outputs": [
    {
     "name": "stdout",
     "output_type": "stream",
     "text": [
      "497490\n"
     ]
    },
    {
     "data": {
      "text/html": [
       "<div><style>\n",
       ".dataframe > thead > tr,\n",
       ".dataframe > tbody > tr {\n",
       "  text-align: right;\n",
       "  white-space: pre-wrap;\n",
       "}\n",
       "</style>\n",
       "<small>shape: (48_202, 4)</small><table border=\"1\" class=\"dataframe\"><thead><tr><th>year</th><th>make</th><th>displ</th><th>displ_isnull</th></tr><tr><td>i16</td><td>cat</td><td>f32</td><td>bool</td></tr></thead><tbody><tr><td>1985</td><td>&quot;Alfa Romeo&quot;</td><td>2.0</td><td>false</td></tr><tr><td>1985</td><td>&quot;Ferrari&quot;</td><td>4.9</td><td>false</td></tr><tr><td>1985</td><td>&quot;Dodge&quot;</td><td>2.2</td><td>false</td></tr><tr><td>1985</td><td>&quot;Dodge&quot;</td><td>5.2</td><td>false</td></tr><tr><td>1993</td><td>&quot;Subaru&quot;</td><td>2.2</td><td>false</td></tr><tr><td>&hellip;</td><td>&hellip;</td><td>&hellip;</td><td>&hellip;</td></tr><tr><td>1993</td><td>&quot;Subaru&quot;</td><td>2.2</td><td>false</td></tr><tr><td>1993</td><td>&quot;Subaru&quot;</td><td>2.2</td><td>false</td></tr><tr><td>1993</td><td>&quot;Subaru&quot;</td><td>2.2</td><td>false</td></tr><tr><td>1993</td><td>&quot;Subaru&quot;</td><td>2.2</td><td>false</td></tr><tr><td>1993</td><td>&quot;Subaru&quot;</td><td>2.2</td><td>false</td></tr></tbody></table></div>"
      ],
      "text/plain": [
       "shape: (48_202, 4)\n",
       "+------+------------+-------+--------------+\n",
       "| year | make       | displ | displ_isnull |\n",
       "| ---  | ---        | ---   | ---          |\n",
       "| i16  | cat        | f32   | bool         |\n",
       "+==========================================+\n",
       "| 1985 | Alfa Romeo | 2.0   | false        |\n",
       "| 1985 | Ferrari    | 4.9   | false        |\n",
       "| 1985 | Dodge      | 2.2   | false        |\n",
       "| 1985 | Dodge      | 5.2   | false        |\n",
       "| 1993 | Subaru     | 2.2   | false        |\n",
       "| …    | …          | …     | …            |\n",
       "| 1993 | Subaru     | 2.2   | false        |\n",
       "| 1993 | Subaru     | 2.2   | false        |\n",
       "| 1993 | Subaru     | 2.2   | false        |\n",
       "| 1993 | Subaru     | 2.2   | false        |\n",
       "| 1993 | Subaru     | 2.2   | false        |\n",
       "+------+------------+-------+--------------+"
      ]
     },
     "execution_count": 76,
     "metadata": {},
     "output_type": "execute_result"
    }
   ],
   "source": [
    "test1 = (\n",
    "    autos\n",
    "    .with_columns(\n",
    "        pl.col(\"year\"),\n",
    "        pl.col(\"make\"),\n",
    "        pl.col(\"displ\").is_null().name.suffix(\"_isnull\")\n",
    "    )\n",
    "    .select(\"year\", \"make\", \"displ\", \"displ_isnull\")\n",
    ")\n",
    "\n",
    "print(test1.estimated_size())\n",
    "test1"
   ]
  },
  {
   "cell_type": "code",
   "execution_count": 77,
   "id": "7861ab05-6348-44eb-a668-c9e461b3834d",
   "metadata": {},
   "outputs": [
    {
     "name": "stdout",
     "output_type": "stream",
     "text": [
      "13292\n"
     ]
    },
    {
     "name": "stderr",
     "output_type": "stream",
     "text": [
      "dataframe filtered\n"
     ]
    },
    {
     "data": {
      "text/html": [
       "<div><style>\n",
       ".dataframe > thead > tr,\n",
       ".dataframe > tbody > tr {\n",
       "  text-align: right;\n",
       "  white-space: pre-wrap;\n",
       "}\n",
       "</style>\n",
       "<small>shape: (963, 4)</small><table border=\"1\" class=\"dataframe\"><thead><tr><th>year</th><th>make</th><th>displ</th><th>displ_isnull</th></tr><tr><td>i16</td><td>cat</td><td>f32</td><td>bool</td></tr></thead><tbody><tr><td>2000</td><td>&quot;Nissan&quot;</td><td>null</td><td>true</td></tr><tr><td>2000</td><td>&quot;Toyota&quot;</td><td>null</td><td>true</td></tr><tr><td>2001</td><td>&quot;Toyota&quot;</td><td>null</td><td>true</td></tr><tr><td>2001</td><td>&quot;Ford&quot;</td><td>null</td><td>true</td></tr><tr><td>2001</td><td>&quot;Ford&quot;</td><td>null</td><td>true</td></tr><tr><td>&hellip;</td><td>&hellip;</td><td>&hellip;</td><td>&hellip;</td></tr><tr><td>2024</td><td>&quot;Mercedes-Benz&quot;</td><td>null</td><td>true</td></tr><tr><td>2024</td><td>&quot;Tesla&quot;</td><td>null</td><td>true</td></tr><tr><td>2024</td><td>&quot;Tesla&quot;</td><td>null</td><td>true</td></tr><tr><td>2024</td><td>&quot;Tesla&quot;</td><td>null</td><td>true</td></tr><tr><td>2024</td><td>&quot;Tesla&quot;</td><td>null</td><td>true</td></tr></tbody></table></div>"
      ],
      "text/plain": [
       "shape: (963, 4)\n",
       "+------+---------------+-------+--------------+\n",
       "| year | make          | displ | displ_isnull |\n",
       "| ---  | ---           | ---   | ---          |\n",
       "| i16  | cat           | f32   | bool         |\n",
       "+=============================================+\n",
       "| 2000 | Nissan        | null  | true         |\n",
       "| 2000 | Toyota        | null  | true         |\n",
       "| 2001 | Toyota        | null  | true         |\n",
       "| 2001 | Ford          | null  | true         |\n",
       "| 2001 | Ford          | null  | true         |\n",
       "| …    | …             | …     | …            |\n",
       "| 2024 | Mercedes-Benz | null  | true         |\n",
       "| 2024 | Tesla         | null  | true         |\n",
       "| 2024 | Tesla         | null  | true         |\n",
       "| 2024 | Tesla         | null  | true         |\n",
       "| 2024 | Tesla         | null  | true         |\n",
       "+------+---------------+-------+--------------+"
      ]
     },
     "execution_count": 77,
     "metadata": {},
     "output_type": "execute_result"
    }
   ],
   "source": [
    "# Another variation: .with_columns(.is_null()) -> .filter -> .select\n",
    "test2 = (\n",
    "    autos\n",
    "    .with_columns(\n",
    "        pl.col(\"year\"),\n",
    "        pl.col(\"make\"),\n",
    "        pl.col(\"displ\").is_null().name.suffix(\"_isnull\")\n",
    "    )\n",
    "    .filter(pl.col(\"displ_isnull\"))\n",
    "    .select(\"year\", \"make\", \"displ\", \"displ_isnull\")\n",
    ")\n",
    "\n",
    "print(test2.estimated_size())\n",
    "test2"
   ]
  },
  {
   "cell_type": "code",
   "execution_count": 78,
   "id": "d8bc532c-fba6-4031-a0e9-c0593686fc5d",
   "metadata": {},
   "outputs": [
    {
     "name": "stdout",
     "output_type": "stream",
     "text": [
      "13292\n"
     ]
    },
    {
     "name": "stderr",
     "output_type": "stream",
     "text": [
      "dataframe filtered\n"
     ]
    },
    {
     "data": {
      "text/html": [
       "<div><style>\n",
       ".dataframe > thead > tr,\n",
       ".dataframe > tbody > tr {\n",
       "  text-align: right;\n",
       "  white-space: pre-wrap;\n",
       "}\n",
       "</style>\n",
       "<small>shape: (963, 4)</small><table border=\"1\" class=\"dataframe\"><thead><tr><th>year</th><th>make</th><th>displ</th><th>displ_isnull</th></tr><tr><td>i16</td><td>cat</td><td>f32</td><td>bool</td></tr></thead><tbody><tr><td>2000</td><td>&quot;Nissan&quot;</td><td>null</td><td>true</td></tr><tr><td>2000</td><td>&quot;Toyota&quot;</td><td>null</td><td>true</td></tr><tr><td>2001</td><td>&quot;Toyota&quot;</td><td>null</td><td>true</td></tr><tr><td>2001</td><td>&quot;Ford&quot;</td><td>null</td><td>true</td></tr><tr><td>2001</td><td>&quot;Ford&quot;</td><td>null</td><td>true</td></tr><tr><td>&hellip;</td><td>&hellip;</td><td>&hellip;</td><td>&hellip;</td></tr><tr><td>2024</td><td>&quot;Mercedes-Benz&quot;</td><td>null</td><td>true</td></tr><tr><td>2024</td><td>&quot;Tesla&quot;</td><td>null</td><td>true</td></tr><tr><td>2024</td><td>&quot;Tesla&quot;</td><td>null</td><td>true</td></tr><tr><td>2024</td><td>&quot;Tesla&quot;</td><td>null</td><td>true</td></tr><tr><td>2024</td><td>&quot;Tesla&quot;</td><td>null</td><td>true</td></tr></tbody></table></div>"
      ],
      "text/plain": [
       "shape: (963, 4)\n",
       "+------+---------------+-------+--------------+\n",
       "| year | make          | displ | displ_isnull |\n",
       "| ---  | ---           | ---   | ---          |\n",
       "| i16  | cat           | f32   | bool         |\n",
       "+=============================================+\n",
       "| 2000 | Nissan        | null  | true         |\n",
       "| 2000 | Toyota        | null  | true         |\n",
       "| 2001 | Toyota        | null  | true         |\n",
       "| 2001 | Ford          | null  | true         |\n",
       "| 2001 | Ford          | null  | true         |\n",
       "| …    | …             | …     | …            |\n",
       "| 2024 | Mercedes-Benz | null  | true         |\n",
       "| 2024 | Tesla         | null  | true         |\n",
       "| 2024 | Tesla         | null  | true         |\n",
       "| 2024 | Tesla         | null  | true         |\n",
       "| 2024 | Tesla         | null  | true         |\n",
       "+------+---------------+-------+--------------+"
      ]
     },
     "execution_count": 78,
     "metadata": {},
     "output_type": "execute_result"
    }
   ],
   "source": [
    "# Another variation: .select -> .with_columns(.is_null()) -> .filter\n",
    "test3 = (\n",
    "    autos\n",
    "    .select(\"year\", \"make\", \"displ\")\n",
    "    .with_columns(\n",
    "        pl.col(\"year\"),\n",
    "        pl.col(\"make\"),\n",
    "        pl.col(\"displ\").is_null().name.suffix(\"_isnull\")\n",
    "    )\n",
    "    .filter(pl.col(\"displ_isnull\"))\n",
    ")\n",
    "\n",
    "print(test3.estimated_size())\n",
    "test3"
   ]
  },
  {
   "cell_type": "markdown",
   "id": "9944928a-0b1d-4be1-b0c5-f272b42bbfb2",
   "metadata": {},
   "source": [
    "## col.null_count(), polars.Expr.null_count, \n",
    "\n",
    "* https://docs.pola.rs/py-polars/html/reference/expressions/api/polars.Expr.null_count.html#polars.Expr.null_count\n",
    "* Count null values."
   ]
  },
  {
   "cell_type": "code",
   "execution_count": 79,
   "id": "d23a1f23-1155-46ef-8806-c76ee363a2e2",
   "metadata": {},
   "outputs": [
    {
     "data": {
      "text/html": [
       "<div><style>\n",
       ".dataframe > thead > tr,\n",
       ".dataframe > tbody > tr {\n",
       "  text-align: right;\n",
       "  white-space: pre-wrap;\n",
       "}\n",
       "</style>\n",
       "<small>shape: (1, 1)</small><table border=\"1\" class=\"dataframe\"><thead><tr><th>displ</th></tr><tr><td>u32</td></tr></thead><tbody><tr><td>963</td></tr></tbody></table></div>"
      ],
      "text/plain": [
       "shape: (1, 1)\n",
       "+-------+\n",
       "| displ |\n",
       "| ---   |\n",
       "| u32   |\n",
       "+=======+\n",
       "| 963   |\n",
       "+-------+"
      ]
     },
     "execution_count": 79,
     "metadata": {},
     "output_type": "execute_result"
    }
   ],
   "source": [
    "(\n",
    "    autos\n",
    "    .select(pl.col('displ').null_count())\n",
    ")"
   ]
  },
  {
   "cell_type": "markdown",
   "id": "afcf718a-38e8-4b54-a236-15079ed2eb6f",
   "metadata": {},
   "source": [
    "## polars.DataFrame.null_count\n",
    "* https://docs.pola.rs/py-polars/html/reference/dataframe/api/polars.DataFrame.null_count.html#polars.DataFrame.null_count\n",
    "* Create a new DataFrame that shows the null counts per column."
   ]
  },
  {
   "cell_type": "code",
   "execution_count": 80,
   "id": "adbce4b3-fe2b-48a7-a05b-9c300e99a203",
   "metadata": {},
   "outputs": [
    {
     "name": "stdout",
     "output_type": "stream",
     "text": [
      "Rows: 1\n",
      "Columns: 15\n",
      "$ year         <u32> 0\n",
      "$ make         <u32> 0\n",
      "$ model        <u32> 0\n",
      "$ displ        <u32> 963\n",
      "$ cylinders    <u32> 965\n",
      "$ trany        <u32> 11\n",
      "$ drive        <u32> 1186\n",
      "$ VClass       <u32> 0\n",
      "$ fuelType     <u32> 0\n",
      "$ barrels08    <u32> 0\n",
      "$ city08       <u32> 0\n",
      "$ highway08    <u32> 0\n",
      "$ createdOn    <u32> 0\n",
      "$ is_automatic <u32> 0\n",
      "$ num_gears    <u32> 0\n",
      "\n"
     ]
    }
   ],
   "source": [
    "# very easy to understand UX when used with .glimpse\n",
    "(\n",
    "    autos\n",
    "    .null_count()\n",
    ").glimpse()"
   ]
  },
  {
   "cell_type": "code",
   "execution_count": 81,
   "id": "81e3b1a1-bd27-4b42-a1a1-6585964b92e2",
   "metadata": {},
   "outputs": [
    {
     "name": "stdout",
     "output_type": "stream",
     "text": [
      "Rows: 1\n",
      "Columns: 15\n",
      "$ year         <u32> 0\n",
      "$ make         <u32> 0\n",
      "$ model        <u32> 0\n",
      "$ displ        <u32> 963\n",
      "$ cylinders    <u32> 965\n",
      "$ trany        <u32> 11\n",
      "$ drive        <u32> 1186\n",
      "$ VClass       <u32> 0\n",
      "$ fuelType     <u32> 0\n",
      "$ barrels08    <u32> 0\n",
      "$ city08       <u32> 0\n",
      "$ highway08    <u32> 0\n",
      "$ createdOn    <u32> 0\n",
      "$ is_automatic <u32> 0\n",
      "$ num_gears    <u32> 0\n",
      "\n"
     ]
    }
   ],
   "source": [
    "# equivalent to this:\n",
    "(\n",
    "    autos\n",
    "    .select(pl.all().null_count())\n",
    ").glimpse()"
   ]
  },
  {
   "cell_type": "markdown",
   "id": "1348258a-06cf-4fc3-aeee-4d0e54e4ed98",
   "metadata": {},
   "source": [
    "## col.fill_null\n",
    "\n",
    "* https://docs.pola.rs/py-polars/html/reference/expressions/api/polars.Expr.fill_null.html#polars.Expr.fill_null\n",
    "* Fill null values using the specified value or strategy.\n",
    "* strategy: {None, ‘forward’, ‘backward’, ‘min’, ‘max’, ‘mean’, ‘zero’, ‘one’}"
   ]
  },
  {
   "cell_type": "code",
   "execution_count": 82,
   "id": "65f87806-785a-4cad-b358-0250069286cc",
   "metadata": {},
   "outputs": [
    {
     "name": "stderr",
     "output_type": "stream",
     "text": [
      "dataframe filtered\n"
     ]
    },
    {
     "data": {
      "text/html": [
       "<div><style>\n",
       ".dataframe > thead > tr,\n",
       ".dataframe > tbody > tr {\n",
       "  text-align: right;\n",
       "  white-space: pre-wrap;\n",
       "}\n",
       "</style>\n",
       "<small>shape: (963, 5)</small><table border=\"1\" class=\"dataframe\"><thead><tr><th>year</th><th>make</th><th>model</th><th>displ</th><th>displ_filled</th></tr><tr><td>i16</td><td>cat</td><td>cat</td><td>f32</td><td>f32</td></tr></thead><tbody><tr><td>2000</td><td>&quot;Nissan&quot;</td><td>&quot;Altra EV&quot;</td><td>null</td><td>0.0</td></tr><tr><td>2000</td><td>&quot;Toyota&quot;</td><td>&quot;RAV4 EV&quot;</td><td>null</td><td>0.0</td></tr><tr><td>2001</td><td>&quot;Toyota&quot;</td><td>&quot;RAV4 EV&quot;</td><td>null</td><td>0.0</td></tr><tr><td>2001</td><td>&quot;Ford&quot;</td><td>&quot;Th!nk&quot;</td><td>null</td><td>0.0</td></tr><tr><td>2001</td><td>&quot;Ford&quot;</td><td>&quot;Explorer USPS Electric&quot;</td><td>null</td><td>0.0</td></tr><tr><td>&hellip;</td><td>&hellip;</td><td>&hellip;</td><td>&hellip;</td><td>&hellip;</td></tr><tr><td>2024</td><td>&quot;Mercedes-Benz&quot;</td><td>&quot;EQB 300 4matic&quot;</td><td>null</td><td>0.0</td></tr><tr><td>2024</td><td>&quot;Tesla&quot;</td><td>&quot;Model 3 Long Range AWD-E&quot;</td><td>null</td><td>0.0</td></tr><tr><td>2024</td><td>&quot;Tesla&quot;</td><td>&quot;Model Y Long Range AWD-I&quot;</td><td>null</td><td>0.0</td></tr><tr><td>2024</td><td>&quot;Tesla&quot;</td><td>&quot;Model Y Long Range RWD&quot;</td><td>null</td><td>0.0</td></tr><tr><td>2024</td><td>&quot;Tesla&quot;</td><td>&quot;Model Y RWD&quot;</td><td>null</td><td>0.0</td></tr></tbody></table></div>"
      ],
      "text/plain": [
       "shape: (963, 5)\n",
       "+------+---------------+--------------------------+-------+--------------+\n",
       "| year | make          | model                    | displ | displ_filled |\n",
       "| ---  | ---           | ---                      | ---   | ---          |\n",
       "| i16  | cat           | cat                      | f32   | f32          |\n",
       "+========================================================================+\n",
       "| 2000 | Nissan        | Altra EV                 | null  | 0.0          |\n",
       "| 2000 | Toyota        | RAV4 EV                  | null  | 0.0          |\n",
       "| 2001 | Toyota        | RAV4 EV                  | null  | 0.0          |\n",
       "| 2001 | Ford          | Th!nk                    | null  | 0.0          |\n",
       "| 2001 | Ford          | Explorer USPS Electric   | null  | 0.0          |\n",
       "| …    | …             | …                        | …     | …            |\n",
       "| 2024 | Mercedes-Benz | EQB 300 4matic           | null  | 0.0          |\n",
       "| 2024 | Tesla         | Model 3 Long Range AWD-E | null  | 0.0          |\n",
       "| 2024 | Tesla         | Model Y Long Range AWD-I | null  | 0.0          |\n",
       "| 2024 | Tesla         | Model Y Long Range RWD   | null  | 0.0          |\n",
       "| 2024 | Tesla         | Model Y RWD              | null  | 0.0          |\n",
       "+------+---------------+--------------------------+-------+--------------+"
      ]
     },
     "execution_count": 82,
     "metadata": {},
     "output_type": "execute_result"
    }
   ],
   "source": [
    "(\n",
    "    autos\n",
    "    .with_columns(\n",
    "        displ_filled=pl.col('displ').fill_null(0)\n",
    "    )\n",
    "    .filter(pl.col('displ').is_null())\n",
    "    .select(['year', 'make', 'model', 'displ', 'displ_filled'])\n",
    ")"
   ]
  },
  {
   "cell_type": "code",
   "execution_count": 83,
   "id": "a40d876a-f22e-49f8-b64e-26cf2e328ea9",
   "metadata": {},
   "outputs": [
    {
     "name": "stdout",
     "output_type": "stream",
     "text": [
      "Rows: 1\n",
      "Columns: 15\n",
      "$ year         <u32> 0\n",
      "$ make         <u32> 0\n",
      "$ model        <u32> 0\n",
      "$ displ        <u32> 963\n",
      "$ cylinders    <u32> 965\n",
      "$ trany        <u32> 11\n",
      "$ drive        <u32> 1186\n",
      "$ VClass       <u32> 0\n",
      "$ fuelType     <u32> 0\n",
      "$ barrels08    <u32> 0\n",
      "$ city08       <u32> 0\n",
      "$ highway08    <u32> 0\n",
      "$ createdOn    <u32> 0\n",
      "$ is_automatic <u32> 0\n",
      "$ num_gears    <u32> 0\n",
      "\n"
     ]
    }
   ],
   "source": [
    "# equivalent to this:\n",
    "(\n",
    "    autos\n",
    "    .select(pl.all().null_count())\n",
    ").glimpse()"
   ]
  },
  {
   "cell_type": "markdown",
   "id": "67b6617a-0401-4cfb-94e8-eb9552719e27",
   "metadata": {},
   "source": [
    "## col.fill_nan()\n",
    "\n",
    "* https://docs.pola.rs/py-polars/html/reference/expressions/api/polars.Expr.fill_nan.html#polars.Expr.fill_nan\n",
    "* Fill floating point NaN value with a fill value.\n",
    "* Note that floating point NaNs (Not a Number) are not missing values. To replace missing values, use fill_null()."
   ]
  },
  {
   "cell_type": "code",
   "execution_count": 84,
   "id": "f9ad899f-5f57-4aba-8f35-354d80e1023c",
   "metadata": {},
   "outputs": [
    {
     "name": "stdout",
     "output_type": "stream",
     "text": [
      "Rows: 1\n",
      "Columns: 7\n",
      "$ year      <u32> 0\n",
      "$ displ     <u32> 0\n",
      "$ cylinders <u32> 0\n",
      "$ barrels08 <u32> 0\n",
      "$ city08    <u32> 0\n",
      "$ highway08 <u32> 0\n",
      "$ num_gears <u32> 0\n",
      "\n"
     ]
    }
   ],
   "source": [
    "# Test for NaN; no built-in method for this in Polars\n",
    "(\n",
    "    autos\n",
    "    .select(cs.numeric().is_nan().sum())\n",
    ").glimpse()"
   ]
  },
  {
   "cell_type": "code",
   "execution_count": 85,
   "id": "76342fd0-d139-4997-ac93-59d7d1c01629",
   "metadata": {},
   "outputs": [
    {
     "data": {
      "text/html": [
       "<div><style>\n",
       ".dataframe > thead > tr,\n",
       ".dataframe > tbody > tr {\n",
       "  text-align: right;\n",
       "  white-space: pre-wrap;\n",
       "}\n",
       "</style>\n",
       "<small>shape: (48_202, 2)</small><table border=\"1\" class=\"dataframe\"><thead><tr><th>year</th><th>year_filled_nan</th></tr><tr><td>i16</td><td>i16</td></tr></thead><tbody><tr><td>1985</td><td>1985</td></tr><tr><td>1985</td><td>1985</td></tr><tr><td>1985</td><td>1985</td></tr><tr><td>1985</td><td>1985</td></tr><tr><td>1993</td><td>1993</td></tr><tr><td>&hellip;</td><td>&hellip;</td></tr><tr><td>1993</td><td>1993</td></tr><tr><td>1993</td><td>1993</td></tr><tr><td>1993</td><td>1993</td></tr><tr><td>1993</td><td>1993</td></tr><tr><td>1993</td><td>1993</td></tr></tbody></table></div>"
      ],
      "text/plain": [
       "shape: (48_202, 2)\n",
       "+------+-----------------+\n",
       "| year | year_filled_nan |\n",
       "| ---  | ---             |\n",
       "| i16  | i16             |\n",
       "+========================+\n",
       "| 1985 | 1985            |\n",
       "| 1985 | 1985            |\n",
       "| 1985 | 1985            |\n",
       "| 1985 | 1985            |\n",
       "| 1993 | 1993            |\n",
       "| …    | …               |\n",
       "| 1993 | 1993            |\n",
       "| 1993 | 1993            |\n",
       "| 1993 | 1993            |\n",
       "| 1993 | 1993            |\n",
       "| 1993 | 1993            |\n",
       "+------+-----------------+"
      ]
     },
     "execution_count": 85,
     "metadata": {},
     "output_type": "execute_result"
    }
   ],
   "source": [
    "# Problem is we can't tell if a column has been filled or not.\n",
    "(\n",
    "    autos\n",
    "    .with_columns(\n",
    "        pl.col('year').fill_nan(0).name.suffix(\"_filled_nan\")\n",
    "    )\n",
    "    .select(['year', 'year_filled_nan'])\n",
    ")"
   ]
  },
  {
   "cell_type": "markdown",
   "id": "db3ee240-33d5-464a-bc79-5b62866ae6a7",
   "metadata": {},
   "source": [
    "## col.interpolate()\n",
    "\n",
    "* https://docs.pola.rs/py-polars/html/reference/expressions/api/polars.Expr.interpolate.html#polars.Expr.interpolate\n",
    "* Fill null values using interpolation."
   ]
  },
  {
   "cell_type": "code",
   "execution_count": 86,
   "id": "1bb65c86-3bb7-439d-8bdf-a93312d06741",
   "metadata": {},
   "outputs": [
    {
     "name": "stdout",
     "output_type": "stream",
     "text": [
      "Rows: 1\n",
      "Columns: 15\n",
      "$ year         <u32> 0\n",
      "$ make         <u32> 0\n",
      "$ model        <u32> 0\n",
      "$ displ        <u32> 963\n",
      "$ cylinders    <u32> 965\n",
      "$ trany        <u32> 11\n",
      "$ drive        <u32> 1186\n",
      "$ VClass       <u32> 0\n",
      "$ fuelType     <u32> 0\n",
      "$ barrels08    <u32> 0\n",
      "$ city08       <u32> 0\n",
      "$ highway08    <u32> 0\n",
      "$ createdOn    <u32> 0\n",
      "$ is_automatic <u32> 0\n",
      "$ num_gears    <u32> 0\n",
      "\n"
     ]
    }
   ],
   "source": [
    "autos.null_count().glimpse()"
   ]
  },
  {
   "cell_type": "code",
   "execution_count": 87,
   "id": "ecd518e8-761c-4f72-a7ee-dfabb769a995",
   "metadata": {},
   "outputs": [
    {
     "name": "stderr",
     "output_type": "stream",
     "text": [
      "dataframe filtered\n"
     ]
    },
    {
     "data": {
      "text/html": [
       "<div><style>\n",
       ".dataframe > thead > tr,\n",
       ".dataframe > tbody > tr {\n",
       "  text-align: right;\n",
       "  white-space: pre-wrap;\n",
       "}\n",
       "</style>\n",
       "<small>shape: (963, 5)</small><table border=\"1\" class=\"dataframe\"><thead><tr><th>year</th><th>make</th><th>model</th><th>displ</th><th>displ_filled</th></tr><tr><td>i16</td><td>cat</td><td>cat</td><td>f32</td><td>f32</td></tr></thead><tbody><tr><td>2000</td><td>&quot;Nissan&quot;</td><td>&quot;Altra EV&quot;</td><td>null</td><td>3.3</td></tr><tr><td>2000</td><td>&quot;Toyota&quot;</td><td>&quot;RAV4 EV&quot;</td><td>null</td><td>3.0</td></tr><tr><td>2001</td><td>&quot;Toyota&quot;</td><td>&quot;RAV4 EV&quot;</td><td>null</td><td>3.3</td></tr><tr><td>2001</td><td>&quot;Ford&quot;</td><td>&quot;Th!nk&quot;</td><td>null</td><td>1.3</td></tr><tr><td>2001</td><td>&quot;Ford&quot;</td><td>&quot;Explorer USPS Electric&quot;</td><td>null</td><td>1.3</td></tr><tr><td>&hellip;</td><td>&hellip;</td><td>&hellip;</td><td>&hellip;</td><td>&hellip;</td></tr><tr><td>2024</td><td>&quot;Mercedes-Benz&quot;</td><td>&quot;EQB 300 4matic&quot;</td><td>null</td><td>2.2</td></tr><tr><td>2024</td><td>&quot;Tesla&quot;</td><td>&quot;Model 3 Long Range AWD-E&quot;</td><td>null</td><td>6.2</td></tr><tr><td>2024</td><td>&quot;Tesla&quot;</td><td>&quot;Model Y Long Range AWD-I&quot;</td><td>null</td><td>6.2</td></tr><tr><td>2024</td><td>&quot;Tesla&quot;</td><td>&quot;Model Y Long Range RWD&quot;</td><td>null</td><td>6.2</td></tr><tr><td>2024</td><td>&quot;Tesla&quot;</td><td>&quot;Model Y RWD&quot;</td><td>null</td><td>6.2</td></tr></tbody></table></div>"
      ],
      "text/plain": [
       "shape: (963, 5)\n",
       "+------+---------------+--------------------------+-------+--------------+\n",
       "| year | make          | model                    | displ | displ_filled |\n",
       "| ---  | ---           | ---                      | ---   | ---          |\n",
       "| i16  | cat           | cat                      | f32   | f32          |\n",
       "+========================================================================+\n",
       "| 2000 | Nissan        | Altra EV                 | null  | 3.3          |\n",
       "| 2000 | Toyota        | RAV4 EV                  | null  | 3.0          |\n",
       "| 2001 | Toyota        | RAV4 EV                  | null  | 3.3          |\n",
       "| 2001 | Ford          | Th!nk                    | null  | 1.3          |\n",
       "| 2001 | Ford          | Explorer USPS Electric   | null  | 1.3          |\n",
       "| …    | …             | …                        | …     | …            |\n",
       "| 2024 | Mercedes-Benz | EQB 300 4matic           | null  | 2.2          |\n",
       "| 2024 | Tesla         | Model 3 Long Range AWD-E | null  | 6.2          |\n",
       "| 2024 | Tesla         | Model Y Long Range AWD-I | null  | 6.2          |\n",
       "| 2024 | Tesla         | Model Y Long Range RWD   | null  | 6.2          |\n",
       "| 2024 | Tesla         | Model Y RWD              | null  | 6.2          |\n",
       "+------+---------------+--------------------------+-------+--------------+"
      ]
     },
     "execution_count": 87,
     "metadata": {},
     "output_type": "execute_result"
    }
   ],
   "source": [
    "# In order to interpolate to work, we need to have non-null values also in the column\n",
    "(\n",
    "    autos\n",
    "    .select(['year', 'make', 'model', 'displ'])\n",
    "    .with_columns(\n",
    "        displ_filled = pl.col('displ').interpolate(method='nearest')\n",
    "    )\n",
    "    .filter(pl.col('displ').is_null())\n",
    ")"
   ]
  },
  {
   "cell_type": "code",
   "execution_count": 88,
   "id": "19afd680-f209-4ada-bccd-d17acd6c3dc4",
   "metadata": {},
   "outputs": [
    {
     "name": "stdout",
     "output_type": "stream",
     "text": [
      "shape: (3, 2)\n",
      "+------+-----+\n",
      "| a    | b   |\n",
      "| ---  | --- |\n",
      "| i64  | f64 |\n",
      "+============+\n",
      "| 1    | 1.0 |\n",
      "| null | NaN |\n",
      "| 3    | 3.0 |\n",
      "+------+-----+\n"
     ]
    },
    {
     "data": {
      "text/html": [
       "<div><style>\n",
       ".dataframe > thead > tr,\n",
       ".dataframe > tbody > tr {\n",
       "  text-align: right;\n",
       "  white-space: pre-wrap;\n",
       "}\n",
       "</style>\n",
       "<small>shape: (3, 2)</small><table border=\"1\" class=\"dataframe\"><thead><tr><th>a</th><th>b</th></tr><tr><td>f64</td><td>f64</td></tr></thead><tbody><tr><td>1.0</td><td>1.0</td></tr><tr><td>2.0</td><td>NaN</td></tr><tr><td>3.0</td><td>3.0</td></tr></tbody></table></div>"
      ],
      "text/plain": [
       "shape: (3, 2)\n",
       "+-----+-----+\n",
       "| a   | b   |\n",
       "| --- | --- |\n",
       "| f64 | f64 |\n",
       "+===========+\n",
       "| 1.0 | 1.0 |\n",
       "| 2.0 | NaN |\n",
       "| 3.0 | 3.0 |\n",
       "+-----+-----+"
      ]
     },
     "execution_count": 88,
     "metadata": {},
     "output_type": "execute_result"
    }
   ],
   "source": [
    "df = pl.DataFrame(\n",
    "    {\n",
    "        \"a\": [1, None, 3],\n",
    "        \"b\": [1.0, float(\"nan\"), 3.0],\n",
    "    }\n",
    ")\n",
    "print(df)\n",
    "df.select(pl.all().interpolate())"
   ]
  },
  {
   "cell_type": "markdown",
   "id": "d1a7a08b-200f-4725-8a36-d37a704333fc",
   "metadata": {},
   "source": [
    "## col.over()\n",
    "\n",
    "* https://docs.pola.rs/py-polars/html/reference/expressions/api/polars.Expr.over.html#polars.Expr.over\n",
    "* Compute expressions over the given groups.\n",
    "* This expression is similar to performing a group by aggregation and joining the result back into the original DataFrame.\n",
    "* The outcome is similar to how window functions work in PostgreSQL."
   ]
  },
  {
   "cell_type": "code",
   "execution_count": 89,
   "id": "edb0e242-6cd3-4cd4-8ac0-3bb855a27bd9",
   "metadata": {},
   "outputs": [
    {
     "data": {
      "text/html": [
       "<div><style>\n",
       ".dataframe > thead > tr,\n",
       ".dataframe > tbody > tr {\n",
       "  text-align: right;\n",
       "  white-space: pre-wrap;\n",
       "}\n",
       "</style>\n",
       "<small>shape: (48_202, 3)</small><table border=\"1\" class=\"dataframe\"><thead><tr><th>make</th><th>model</th><th>city08_max</th></tr><tr><td>cat</td><td>cat</td><td>u8</td></tr></thead><tbody><tr><td>&quot;Alfa Romeo&quot;</td><td>&quot;Spider Veloce 2000&quot;</td><td>19</td></tr><tr><td>&quot;Ferrari&quot;</td><td>&quot;Testarossa&quot;</td><td>10</td></tr><tr><td>&quot;Dodge&quot;</td><td>&quot;Charger&quot;</td><td>26</td></tr><tr><td>&quot;Dodge&quot;</td><td>&quot;B150/B250 Wagon 2WD&quot;</td><td>15</td></tr><tr><td>&quot;Subaru&quot;</td><td>&quot;Legacy AWD Turbo&quot;</td><td>17</td></tr><tr><td>&hellip;</td><td>&hellip;</td><td>&hellip;</td></tr><tr><td>&quot;Subaru&quot;</td><td>&quot;Legacy&quot;</td><td>21</td></tr><tr><td>&quot;Subaru&quot;</td><td>&quot;Legacy&quot;</td><td>21</td></tr><tr><td>&quot;Subaru&quot;</td><td>&quot;Legacy AWD&quot;</td><td>27</td></tr><tr><td>&quot;Subaru&quot;</td><td>&quot;Legacy AWD&quot;</td><td>27</td></tr><tr><td>&quot;Subaru&quot;</td><td>&quot;Legacy AWD Turbo&quot;</td><td>17</td></tr></tbody></table></div>"
      ],
      "text/plain": [
       "shape: (48_202, 3)\n",
       "+------------+---------------------+------------+\n",
       "| make       | model               | city08_max |\n",
       "| ---        | ---                 | ---        |\n",
       "| cat        | cat                 | u8         |\n",
       "+===============================================+\n",
       "| Alfa Romeo | Spider Veloce 2000  | 19         |\n",
       "| Ferrari    | Testarossa          | 10         |\n",
       "| Dodge      | Charger             | 26         |\n",
       "| Dodge      | B150/B250 Wagon 2WD | 15         |\n",
       "| Subaru     | Legacy AWD Turbo    | 17         |\n",
       "| …          | …                   | …          |\n",
       "| Subaru     | Legacy              | 21         |\n",
       "| Subaru     | Legacy              | 21         |\n",
       "| Subaru     | Legacy AWD          | 27         |\n",
       "| Subaru     | Legacy AWD          | 27         |\n",
       "| Subaru     | Legacy AWD Turbo    | 17         |\n",
       "+------------+---------------------+------------+"
      ]
     },
     "execution_count": 89,
     "metadata": {},
     "output_type": "execute_result"
    }
   ],
   "source": [
    "# Standard use, returns full dataframe in original order\n",
    "(\n",
    "    autos\n",
    "    .select(\n",
    "        pl.col(['make', 'model']),\n",
    "        pl.col('city08').max().over(['make', 'model']).name.suffix('_max')\n",
    "    )\n",
    ")"
   ]
  },
  {
   "cell_type": "code",
   "execution_count": 90,
   "id": "ef368bdb-3ce0-4ced-9790-78d75368c7cf",
   "metadata": {},
   "outputs": [
    {
     "name": "stderr",
     "output_type": "stream",
     "text": [
      "keys/aggregates are not partitionable: running default HASH AGGREGATION\n"
     ]
    },
    {
     "data": {
      "text/html": [
       "<div><style>\n",
       ".dataframe > thead > tr,\n",
       ".dataframe > tbody > tr {\n",
       "  text-align: right;\n",
       "  white-space: pre-wrap;\n",
       "}\n",
       "</style>\n",
       "<small>shape: (5_238, 3)</small><table border=\"1\" class=\"dataframe\"><thead><tr><th>make</th><th>model</th><th>city08_max</th></tr><tr><td>cat</td><td>cat</td><td>list[u8]</td></tr></thead><tbody><tr><td>&quot;Hyundai&quot;</td><td>&quot;Ioniq 6 Long range RWD (18 inc…</td><td>[153, 153]</td></tr><tr><td>&quot;Hyundai&quot;</td><td>&quot;Ioniq 6 Standard Range RWD&quot;</td><td>[151, 151]</td></tr><tr><td>&quot;Hyundai&quot;</td><td>&quot;Ioniq 6 Standard Range&quot;</td><td>[151]</td></tr><tr><td>&quot;Hyundai&quot;</td><td>&quot;Ioniq Electric&quot;</td><td>[150, 150, … 150]</td></tr><tr><td>&quot;Tesla&quot;</td><td>&quot;Model 3 Standard Range Plus RW…</td><td>[150]</td></tr><tr><td>&hellip;</td><td>&hellip;</td><td>&hellip;</td></tr><tr><td>&quot;Ferrari&quot;</td><td>&quot;Ferrari F50&quot;</td><td>[7]</td></tr><tr><td>&quot;Ferrari&quot;</td><td>&quot;Enzo Ferrari&quot;</td><td>[7]</td></tr><tr><td>&quot;Rolls-Royce&quot;</td><td>&quot;Corniche II/Continental&quot;</td><td>[7]</td></tr><tr><td>&quot;Rolls-Royce&quot;</td><td>&quot;Corniche/Continental&quot;</td><td>[7]</td></tr><tr><td>&quot;Lamborghini&quot;</td><td>&quot;Countach&quot;</td><td>[6, 6, … 6]</td></tr></tbody></table></div>"
      ],
      "text/plain": [
       "shape: (5_238, 3)\n",
       "+-------------+---------------------------------+-------------------+\n",
       "| make        | model                           | city08_max        |\n",
       "| ---         | ---                             | ---               |\n",
       "| cat         | cat                             | list[u8]          |\n",
       "+===================================================================+\n",
       "| Hyundai     | Ioniq 6 Long range RWD (18 inc… | [153, 153]        |\n",
       "| Hyundai     | Ioniq 6 Standard Range RWD      | [151, 151]        |\n",
       "| Hyundai     | Ioniq 6 Standard Range          | [151]             |\n",
       "| Hyundai     | Ioniq Electric                  | [150, 150, … 150] |\n",
       "| Tesla       | Model 3 Standard Range Plus RW… | [150]             |\n",
       "| …           | …                               | …                 |\n",
       "| Ferrari     | Ferrari F50                     | [7]               |\n",
       "| Ferrari     | Enzo Ferrari                    | [7]               |\n",
       "| Rolls-Royce | Corniche II/Continental         | [7]               |\n",
       "| Rolls-Royce | Corniche/Continental            | [7]               |\n",
       "| Lamborghini | Countach                        | [6, 6, … 6]       |\n",
       "+-------------+---------------------------------+-------------------+"
      ]
     },
     "execution_count": 90,
     "metadata": {},
     "output_type": "execute_result"
    }
   ],
   "source": [
    "# Use group_by see the over-grouping of ['make','model'] easier.\n",
    "(\n",
    "    autos\n",
    "    .with_columns(\n",
    "        pl.col(['make', 'model']),\n",
    "        pl.col('city08').max().over(['make', 'model']).name.suffix('_max')\n",
    "    )\n",
    "    .group_by(['make', 'model']).all()\n",
    "    .sort(\n",
    "        pl.col(\"city08_max\").list.to_struct(\"max_width\"), \n",
    "        descending=True, \n",
    "        nulls_last=True    \n",
    "    )\n",
    "    .select(['make', 'model', 'city08_max'])\n",
    ")"
   ]
  },
  {
   "cell_type": "markdown",
   "id": "f672815f-e920-4aff-901e-c663917533d3",
   "metadata": {},
   "source": [
    "## group_by.GroupBy.len()\n",
    "\n",
    "* https://docs.pola.rs/py-polars/html/reference/dataframe/api/polars.dataframe.group_by.GroupBy.len.html#polars.dataframe.group_by.GroupBy.len\n",
    "* Return the number of rows in each group.\n",
    "* This replaces the deprecated `group_by.GroupBy.count`"
   ]
  },
  {
   "cell_type": "code",
   "execution_count": 91,
   "id": "9f3236ea-ff88-4961-b85b-8e3d2fa03cb5",
   "metadata": {},
   "outputs": [
    {
     "name": "stderr",
     "output_type": "stream",
     "text": [
      "estimated unique values: 22060\n",
      "estimated unique count: 22060 exceeded the boundary: 1000, running default HASH AGGREGATION\n"
     ]
    },
    {
     "data": {
      "text/html": [
       "<div><style>\n",
       ".dataframe > thead > tr,\n",
       ".dataframe > tbody > tr {\n",
       "  text-align: right;\n",
       "  white-space: pre-wrap;\n",
       "}\n",
       "</style>\n",
       "<small>shape: (5_238, 3)</small><table border=\"1\" class=\"dataframe\"><thead><tr><th>make</th><th>model</th><th>len</th></tr><tr><td>cat</td><td>cat</td><td>u32</td></tr></thead><tbody><tr><td>&quot;Ford&quot;</td><td>&quot;F150 Pickup 2WD&quot;</td><td>229</td></tr><tr><td>&quot;Chevrolet&quot;</td><td>&quot;Camaro&quot;</td><td>220</td></tr><tr><td>&quot;Ford&quot;</td><td>&quot;Mustang&quot;</td><td>215</td></tr><tr><td>&quot;Ford&quot;</td><td>&quot;F150 Pickup 4WD&quot;</td><td>211</td></tr><tr><td>&quot;Volkswagen&quot;</td><td>&quot;Jetta&quot;</td><td>203</td></tr><tr><td>&hellip;</td><td>&hellip;</td><td>&hellip;</td></tr><tr><td>&quot;Federal Coach&quot;</td><td>&quot;85J&quot;</td><td>1</td></tr><tr><td>&quot;Daihatsu&quot;</td><td>&quot;Charade E&quot;</td><td>1</td></tr><tr><td>&quot;Porsche&quot;</td><td>&quot;Panamera 4S e-Hybrid ST&quot;</td><td>1</td></tr><tr><td>&quot;GMC&quot;</td><td>&quot;Yukon Denali K10 AWD&quot;</td><td>1</td></tr><tr><td>&quot;GMC&quot;</td><td>&quot;Yukon XL K10 AWD&quot;</td><td>1</td></tr></tbody></table></div>"
      ],
      "text/plain": [
       "shape: (5_238, 3)\n",
       "+---------------+-------------------------+-----+\n",
       "| make          | model                   | len |\n",
       "| ---           | ---                     | --- |\n",
       "| cat           | cat                     | u32 |\n",
       "+===============================================+\n",
       "| Ford          | F150 Pickup 2WD         | 229 |\n",
       "| Chevrolet     | Camaro                  | 220 |\n",
       "| Ford          | Mustang                 | 215 |\n",
       "| Ford          | F150 Pickup 4WD         | 211 |\n",
       "| Volkswagen    | Jetta                   | 203 |\n",
       "| …             | …                       | …   |\n",
       "| Federal Coach | 85J                     | 1   |\n",
       "| Daihatsu      | Charade E               | 1   |\n",
       "| Porsche       | Panamera 4S e-Hybrid ST | 1   |\n",
       "| GMC           | Yukon Denali K10 AWD    | 1   |\n",
       "| GMC           | Yukon XL K10 AWD        | 1   |\n",
       "+---------------+-------------------------+-----+"
      ]
     },
     "execution_count": 91,
     "metadata": {},
     "output_type": "execute_result"
    }
   ],
   "source": [
    "# This is pretty useful!\n",
    "(\n",
    "    autos\n",
    "    .group_by('make', 'model')\n",
    "    .len()\n",
    "    .sort(by='len', descending=True)\n",
    ")"
   ]
  },
  {
   "cell_type": "code",
   "execution_count": 92,
   "id": "6e261230-952e-4db5-a8db-e700d83279b8",
   "metadata": {},
   "outputs": [
    {
     "name": "stderr",
     "output_type": "stream",
     "text": [
      "keys/aggregates are not partitionable: running default HASH AGGREGATION\n"
     ]
    },
    {
     "data": {
      "text/html": [
       "<div><style>\n",
       ".dataframe > thead > tr,\n",
       ".dataframe > tbody > tr {\n",
       "  text-align: right;\n",
       "  white-space: pre-wrap;\n",
       "}\n",
       "</style>\n",
       "<small>shape: (24_554, 4)</small><table border=\"1\" class=\"dataframe\"><thead><tr><th>year</th><th>make</th><th>model</th><th>len</th></tr><tr><td>i16</td><td>cat</td><td>cat</td><td>u32</td></tr></thead><tbody><tr><td>1984</td><td>&quot;Ford&quot;</td><td>&quot;F150 Pickup 2WD&quot;</td><td>19</td></tr><tr><td>1984</td><td>&quot;GMC&quot;</td><td>&quot;C15 Pickup 2WD&quot;</td><td>19</td></tr><tr><td>1984</td><td>&quot;Chevrolet&quot;</td><td>&quot;C10 Pickup 2WD&quot;</td><td>19</td></tr><tr><td>1984</td><td>&quot;Chevrolet&quot;</td><td>&quot;S10 Pickup 2WD&quot;</td><td>18</td></tr><tr><td>1984</td><td>&quot;GMC&quot;</td><td>&quot;S15 Pickup 2WD&quot;</td><td>18</td></tr><tr><td>&hellip;</td><td>&hellip;</td><td>&hellip;</td><td>&hellip;</td></tr><tr><td>2025</td><td>&quot;BMW&quot;</td><td>&quot;X4 M Competition&quot;</td><td>1</td></tr><tr><td>2025</td><td>&quot;Subaru&quot;</td><td>&quot;Forester Sport/Touring AWD&quot;</td><td>1</td></tr><tr><td>2025</td><td>&quot;Hyundai&quot;</td><td>&quot;Tucson Hybrid Blue&quot;</td><td>1</td></tr><tr><td>2025</td><td>&quot;Volkswagen&quot;</td><td>&quot;Atlas&quot;</td><td>1</td></tr><tr><td>2025</td><td>&quot;Mercedes-Benz&quot;</td><td>&quot;EQE 500 4matic&quot;</td><td>1</td></tr></tbody></table></div>"
      ],
      "text/plain": [
       "shape: (24_554, 4)\n",
       "+------+---------------+----------------------------+-----+\n",
       "| year | make          | model                      | len |\n",
       "| ---  | ---           | ---                        | --- |\n",
       "| i16  | cat           | cat                        | u32 |\n",
       "+=========================================================+\n",
       "| 1984 | Ford          | F150 Pickup 2WD            | 19  |\n",
       "| 1984 | GMC           | C15 Pickup 2WD             | 19  |\n",
       "| 1984 | Chevrolet     | C10 Pickup 2WD             | 19  |\n",
       "| 1984 | Chevrolet     | S10 Pickup 2WD             | 18  |\n",
       "| 1984 | GMC           | S15 Pickup 2WD             | 18  |\n",
       "| …    | …             | …                          | …   |\n",
       "| 2025 | BMW           | X4 M Competition           | 1   |\n",
       "| 2025 | Subaru        | Forester Sport/Touring AWD | 1   |\n",
       "| 2025 | Hyundai       | Tucson Hybrid Blue         | 1   |\n",
       "| 2025 | Volkswagen    | Atlas                      | 1   |\n",
       "| 2025 | Mercedes-Benz | EQE 500 4matic             | 1   |\n",
       "+------+---------------+----------------------------+-----+"
      ]
     },
     "execution_count": 92,
     "metadata": {},
     "output_type": "execute_result"
    }
   ],
   "source": [
    "# Group by year for more granular detail\n",
    "# Sort multiple columns: year-ascending, len-descending\n",
    "(\n",
    "    autos\n",
    "    .group_by('year','make', 'model')\n",
    "    .len()\n",
    "    .sort(by=['year', 'len'], descending=[False, True])\n",
    ")"
   ]
  },
  {
   "cell_type": "markdown",
   "id": "e7066986-85cd-45fe-b431-a60391b22dcc",
   "metadata": {},
   "source": [
    "## pl.lit\n",
    "\n",
    "* https://docs.pola.rs/py-polars/html/reference/expressions/api/polars.lit.html#polars.lit\n",
    "* Return an expression representing a literal value."
   ]
  },
  {
   "cell_type": "code",
   "execution_count": 93,
   "id": "06f42450-2ba7-478f-81ce-06ef13421185",
   "metadata": {},
   "outputs": [
    {
     "name": "stdout",
     "output_type": "stream",
     "text": [
      "dyn int: 1\n",
      "dyn float: 5.5\n",
      "null\n",
      "String(foo_bar)\n",
      "2021-01-20\n",
      "2023-03-31 10:30:45.strict_cast(Datetime(Microseconds, None))\n"
     ]
    }
   ],
   "source": [
    "import datetime\n",
    "\n",
    "# Literal scalar values\n",
    "print(pl.lit(1)) \n",
    "print(pl.lit(5.5)) \n",
    "print(pl.lit(None))\n",
    "print(pl.lit(\"foo_bar\")) \n",
    "print(pl.lit(datetime.date(2021, 1, 20))) \n",
    "print(pl.lit(datetime.datetime(2023, 3, 31, 10, 30, 45))) "
   ]
  },
  {
   "cell_type": "code",
   "execution_count": 94,
   "id": "c391a504-b110-4bb9-a647-5826ac860138",
   "metadata": {},
   "outputs": [
    {
     "name": "stdout",
     "output_type": "stream",
     "text": [
      "[1, 2, 3]\n",
      "Series[x]\n"
     ]
    }
   ],
   "source": [
    "# Literal list/Series data (1D)\n",
    "print(pl.lit([1, 2, 3]))\n",
    "print(pl.lit(pl.Series(\"x\", [1, 2, 3])))"
   ]
  },
  {
   "cell_type": "markdown",
   "id": "992f9e0f-ebae-47ac-bbe6-7433a5efd39a",
   "metadata": {},
   "source": [
    "## pl.when()\n",
    "\n",
    "* https://docs.pola.rs/py-polars/html/reference/expressions/api/polars.when.html\n",
    "* Start a when-then-otherwise expression."
   ]
  },
  {
   "cell_type": "code",
   "execution_count": 95,
   "id": "731b415b-948a-411c-8db9-1082b3156eee",
   "metadata": {},
   "outputs": [
    {
     "data": {
      "text/html": [
       "<div><style>\n",
       ".dataframe > thead > tr,\n",
       ".dataframe > tbody > tr {\n",
       "  text-align: right;\n",
       "  white-space: pre-wrap;\n",
       "}\n",
       "</style>\n",
       "<small>shape: (48_202, 1)</small><table border=\"1\" class=\"dataframe\"><thead><tr><th>drive</th></tr><tr><td>cat</td></tr></thead><tbody><tr><td>&quot;Rear-Wheel Drive&quot;</td></tr><tr><td>&quot;Rear-Wheel Drive&quot;</td></tr><tr><td>&quot;Front-Wheel Drive&quot;</td></tr><tr><td>&quot;Rear-Wheel Drive&quot;</td></tr><tr><td>&quot;4-Wheel or All-Wheel Drive&quot;</td></tr><tr><td>&hellip;</td></tr><tr><td>&quot;Front-Wheel Drive&quot;</td></tr><tr><td>&quot;Front-Wheel Drive&quot;</td></tr><tr><td>&quot;4-Wheel or All-Wheel Drive&quot;</td></tr><tr><td>&quot;4-Wheel or All-Wheel Drive&quot;</td></tr><tr><td>&quot;4-Wheel or All-Wheel Drive&quot;</td></tr></tbody></table></div>"
      ],
      "text/plain": [
       "shape: (48_202, 1)\n",
       "+----------------------------+\n",
       "| drive                      |\n",
       "| ---                        |\n",
       "| cat                        |\n",
       "+============================+\n",
       "| Rear-Wheel Drive           |\n",
       "| Rear-Wheel Drive           |\n",
       "| Front-Wheel Drive          |\n",
       "| Rear-Wheel Drive           |\n",
       "| 4-Wheel or All-Wheel Drive |\n",
       "| …                          |\n",
       "| Front-Wheel Drive          |\n",
       "| Front-Wheel Drive          |\n",
       "| 4-Wheel or All-Wheel Drive |\n",
       "| 4-Wheel or All-Wheel Drive |\n",
       "| 4-Wheel or All-Wheel Drive |\n",
       "+----------------------------+"
      ]
     },
     "execution_count": 95,
     "metadata": {},
     "output_type": "execute_result"
    }
   ],
   "source": [
    "autos.select(pl.col('drive'))"
   ]
  },
  {
   "cell_type": "code",
   "execution_count": 96,
   "id": "c713f76a-bd0a-47f8-b97a-d6f45f571b4d",
   "metadata": {},
   "outputs": [
    {
     "data": {
      "text/html": [
       "<div><style>\n",
       ".dataframe > thead > tr,\n",
       ".dataframe > tbody > tr {\n",
       "  text-align: right;\n",
       "  white-space: pre-wrap;\n",
       "}\n",
       "</style>\n",
       "<small>shape: (48_202, 4)</small><table border=\"1\" class=\"dataframe\"><thead><tr><th>make</th><th>model</th><th>drive</th><th>drive_check</th></tr><tr><td>cat</td><td>cat</td><td>cat</td><td>str</td></tr></thead><tbody><tr><td>&quot;Eagle&quot;</td><td>&quot;Talon&quot;</td><td>&quot;4-Wheel or All-Wheel Drive&quot;</td><td>&quot;4-Wheeler&quot;</td></tr><tr><td>&quot;Eagle&quot;</td><td>&quot;Summit Wagon&quot;</td><td>&quot;4-Wheel or All-Wheel Drive&quot;</td><td>&quot;4-Wheeler&quot;</td></tr><tr><td>&quot;Eagle&quot;</td><td>&quot;Summit Wagon&quot;</td><td>&quot;4-Wheel or All-Wheel Drive&quot;</td><td>&quot;4-Wheeler&quot;</td></tr><tr><td>&quot;Eagle&quot;</td><td>&quot;Summit Wagon&quot;</td><td>&quot;4-Wheel or All-Wheel Drive&quot;</td><td>&quot;4-Wheeler&quot;</td></tr><tr><td>&quot;Eagle&quot;</td><td>&quot;Summit Wagon&quot;</td><td>&quot;4-Wheel or All-Wheel Drive&quot;</td><td>&quot;4-Wheeler&quot;</td></tr><tr><td>&hellip;</td><td>&hellip;</td><td>&hellip;</td><td>&hellip;</td></tr><tr><td>&quot;Consulier Industries Inc&quot;</td><td>&quot;Consulier GTP&quot;</td><td>&quot;Rear-Wheel Drive&quot;</td><td>&quot;NON 4-WHEELER&quot;</td></tr><tr><td>&quot;Goldacre&quot;</td><td>&quot;Goldacre Limited&quot;</td><td>&quot;Rear-Wheel Drive&quot;</td><td>&quot;NON 4-WHEELER&quot;</td></tr><tr><td>&quot;Isis Imports Ltd&quot;</td><td>&quot;Morgan Plus 8&quot;</td><td>&quot;Rear-Wheel Drive&quot;</td><td>&quot;NON 4-WHEELER&quot;</td></tr><tr><td>&quot;PAS Inc - GMC&quot;</td><td>&quot;Pas-typhoon&quot;</td><td>&quot;4-Wheel or All-Wheel Drive&quot;</td><td>&quot;4-Wheeler&quot;</td></tr><tr><td>&quot;PAS Inc - GMC&quot;</td><td>&quot;Pas-Syclone&quot;</td><td>&quot;4-Wheel or All-Wheel Drive&quot;</td><td>&quot;4-Wheeler&quot;</td></tr></tbody></table></div>"
      ],
      "text/plain": [
       "shape: (48_202, 4)\n",
       "+--------------------------+------------------+----------------------------+---------------+\n",
       "| make                     | model            | drive                      | drive_check   |\n",
       "| ---                      | ---              | ---                        | ---           |\n",
       "| cat                      | cat              | cat                        | str           |\n",
       "+==========================================================================================+\n",
       "| Eagle                    | Talon            | 4-Wheel or All-Wheel Drive | 4-Wheeler     |\n",
       "| Eagle                    | Summit Wagon     | 4-Wheel or All-Wheel Drive | 4-Wheeler     |\n",
       "| Eagle                    | Summit Wagon     | 4-Wheel or All-Wheel Drive | 4-Wheeler     |\n",
       "| Eagle                    | Summit Wagon     | 4-Wheel or All-Wheel Drive | 4-Wheeler     |\n",
       "| Eagle                    | Summit Wagon     | 4-Wheel or All-Wheel Drive | 4-Wheeler     |\n",
       "| …                        | …                | …                          | …             |\n",
       "| Consulier Industries Inc | Consulier GTP    | Rear-Wheel Drive           | NON 4-WHEELER |\n",
       "| Goldacre                 | Goldacre Limited | Rear-Wheel Drive           | NON 4-WHEELER |\n",
       "| Isis Imports Ltd         | Morgan Plus 8    | Rear-Wheel Drive           | NON 4-WHEELER |\n",
       "| PAS Inc - GMC            | Pas-typhoon      | 4-Wheel or All-Wheel Drive | 4-Wheeler     |\n",
       "| PAS Inc - GMC            | Pas-Syclone      | 4-Wheel or All-Wheel Drive | 4-Wheeler     |\n",
       "+--------------------------+------------------+----------------------------+---------------+"
      ]
     },
     "execution_count": 96,
     "metadata": {},
     "output_type": "execute_result"
    }
   ],
   "source": [
    "drive_str = pl.col('drive').cast(pl.String)\n",
    "\n",
    "(\n",
    "    autos\n",
    "    .select(\n",
    "        pl.col(['make', 'model', 'drive']),\n",
    "        drive_check = pl\n",
    "            .when(drive_str.str.contains('4-Wheel')).then(pl.lit(\"4-Wheeler\"))\n",
    "            .when(drive_str.str.contains('All-Wheel Drive')).then(pl.lit(\"4-Wheeler\"))\n",
    "            .otherwise(pl.lit(\"NON 4-WHEELER\")),\n",
    "    )\n",
    "    .sort(by=['make','drive_check'])\n",
    ")"
   ]
  },
  {
   "cell_type": "code",
   "execution_count": null,
   "id": "ea952598-9057-47c4-9ac6-39425cd9dec4",
   "metadata": {},
   "outputs": [],
   "source": []
  }
 ],
 "metadata": {
  "kernelspec": {
   "display_name": "Python 3 (ipykernel)",
   "language": "python",
   "name": "python3"
  },
  "language_info": {
   "codemirror_mode": {
    "name": "ipython",
    "version": 3
   },
   "file_extension": ".py",
   "mimetype": "text/x-python",
   "name": "python",
   "nbconvert_exporter": "python",
   "pygments_lexer": "ipython3",
   "version": "3.11.5"
  }
 },
 "nbformat": 4,
 "nbformat_minor": 5
}
