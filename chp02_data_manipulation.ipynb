{
 "cells": [
  {
   "cell_type": "markdown",
   "id": "9a56d08b-8f0f-4639-86cf-f4642bfa65b3",
   "metadata": {},
   "source": [
    "#### Top"
   ]
  },
  {
   "cell_type": "markdown",
   "id": "aca6c0ae-39cf-4bb7-a5c8-11f5fbabdb77",
   "metadata": {},
   "source": [
    "# Chapter 2 Data Manipulation with Polars Using the Fuel Economy Dataset\n",
    "\n",
    "* [2.0 Imports and Setup](#2.0-Imports-and-Setup)\n",
    "* [2.1 Introduction](#2.1-Introduction)\n",
    "* [2.2 Getting the Data](#2.2-Getting-the-Data)\n",
    "  - [2.2.1 Notes on Categorical data](#2.2.1-Notes-on-Categorical-data)\n",
    "* [2.3 Adding Columns](#2.3-Adding-Columns)\n",
    "* [2.4 Simulating the Index](#2.4-Simulating-the-Index)\n",
    "* [2.5 Removing Columns](#2.5-Removing-Columns)\n",
    "* [2.6 Renaming Columns](#2.6-Renaming-Columns)\n",
    "* [2.7 Left Joins](#2.7-Left-Joins)\n",
    "* [2.8 Right Joins](#2.8-Right-Joins)\n",
    "* [2.9 Inner Joins](#2.9-Inner-Joins)\n",
    "* [2.10 Outer Joins](#2.10-Outer-Joins)\n",
    "* [2.11 Semi Joins](#2.11-Semi-Joins)\n",
    "* [2.12 Cross Joins](#2.12-Cross-Joins)\n",
    "* [2.13 Anti Joins](#2.13-Anti-Joins)\n",
    "* [2.14 Join Validation](#2.14-Join-Validation)\n",
    "* [2.15 Speeding up Joins with Sorting](#2.15-Speeding-up-Joins-with-Sorting)\n",
    "  - [2.15.1 Join OpenEI with autos data](#2.15.1-Join-OpenEI-with-autos-data)\n",
    "  - [2.15.2 Joins Benchmarking](#2.15.2-Joins-Benchmarking)\n",
    "* [2.16 Visualizing the Join](#2.16-Visualizing-the-Join)\n",
    "* [2.17 Adding Rows](#2.17-Adding-Rows)\n",
    "* [2.18 Reshape and Pivoting Data](#2.18-Reshape-and-Pivoting-Data)\n",
    "* [2.19 Melted Data](#2.19-Melted-Data)\n",
    "* [2.20 Finding Duplicates](#2.20-Finding-Duplicates)\n",
    "* [2.21 Finding Missing Values](#2.21-Finding-Missing-Values)\n",
    "* [2.22 Third-Party Libraries and Missing Values](#2.22-Third-Party-Libraries-and-Missing-Values)\n",
    "* [2.23 Additional Column Selectors and Missing Values](#2.23-Additional-Column-Selectors-and-Missing-Values)\n",
    "* [2.24 Map and Apply](#2.24-Map-and-Apply)\n",
    "\n"
   ]
  },
  {
   "cell_type": "markdown",
   "id": "f28da4a9-79d6-4cbc-b293-2f3b8d842aae",
   "metadata": {},
   "source": [
    "---\n",
    "# 2.0 Imports and Setup\n",
    "[back to Top](#Top)\n"
   ]
  },
  {
   "cell_type": "markdown",
   "id": "c3164112-f3b0-4066-bc3b-b778a26dc66f",
   "metadata": {},
   "source": [
    "\n",
    "*  polars.Config.set_tbl_formatting\n",
    "* Adjust for better Table UX\n",
    "* https://docs.pola.rs/py-polars/html/reference/api/polars.Config.set_tbl_formatting.html"
   ]
  },
  {
   "cell_type": "code",
   "execution_count": 1,
   "id": "b08296d4-98df-48f2-b72a-fb32e4de48dc",
   "metadata": {},
   "outputs": [
    {
     "data": {
      "application/javascript": [
       "(function(root) {\n",
       "  function now() {\n",
       "    return new Date();\n",
       "  }\n",
       "\n",
       "  var force = true;\n",
       "  var py_version = '3.4.3'.replace('rc', '-rc.').replace('.dev', '-dev.');\n",
       "  var reloading = false;\n",
       "  var Bokeh = root.Bokeh;\n",
       "\n",
       "  if (typeof (root._bokeh_timeout) === \"undefined\" || force) {\n",
       "    root._bokeh_timeout = Date.now() + 5000;\n",
       "    root._bokeh_failed_load = false;\n",
       "  }\n",
       "\n",
       "  function run_callbacks() {\n",
       "    try {\n",
       "      root._bokeh_onload_callbacks.forEach(function(callback) {\n",
       "        if (callback != null)\n",
       "          callback();\n",
       "      });\n",
       "    } finally {\n",
       "      delete root._bokeh_onload_callbacks;\n",
       "    }\n",
       "    console.debug(\"Bokeh: all callbacks have finished\");\n",
       "  }\n",
       "\n",
       "  function load_libs(css_urls, js_urls, js_modules, js_exports, callback) {\n",
       "    if (css_urls == null) css_urls = [];\n",
       "    if (js_urls == null) js_urls = [];\n",
       "    if (js_modules == null) js_modules = [];\n",
       "    if (js_exports == null) js_exports = {};\n",
       "\n",
       "    root._bokeh_onload_callbacks.push(callback);\n",
       "\n",
       "    if (root._bokeh_is_loading > 0) {\n",
       "      console.debug(\"Bokeh: BokehJS is being loaded, scheduling callback at\", now());\n",
       "      return null;\n",
       "    }\n",
       "    if (js_urls.length === 0 && js_modules.length === 0 && Object.keys(js_exports).length === 0) {\n",
       "      run_callbacks();\n",
       "      return null;\n",
       "    }\n",
       "    if (!reloading) {\n",
       "      console.debug(\"Bokeh: BokehJS not loaded, scheduling load and callback at\", now());\n",
       "    }\n",
       "\n",
       "    function on_load() {\n",
       "      root._bokeh_is_loading--;\n",
       "      if (root._bokeh_is_loading === 0) {\n",
       "        console.debug(\"Bokeh: all BokehJS libraries/stylesheets loaded\");\n",
       "        run_callbacks()\n",
       "      }\n",
       "    }\n",
       "    window._bokeh_on_load = on_load\n",
       "\n",
       "    function on_error() {\n",
       "      console.error(\"failed to load \" + url);\n",
       "    }\n",
       "\n",
       "    var skip = [];\n",
       "    if (window.requirejs) {\n",
       "      window.requirejs.config({'packages': {}, 'paths': {}, 'shim': {}});\n",
       "      root._bokeh_is_loading = css_urls.length + 0;\n",
       "    } else {\n",
       "      root._bokeh_is_loading = css_urls.length + js_urls.length + js_modules.length + Object.keys(js_exports).length;\n",
       "    }\n",
       "\n",
       "    var existing_stylesheets = []\n",
       "    var links = document.getElementsByTagName('link')\n",
       "    for (var i = 0; i < links.length; i++) {\n",
       "      var link = links[i]\n",
       "      if (link.href != null) {\n",
       "\texisting_stylesheets.push(link.href)\n",
       "      }\n",
       "    }\n",
       "    for (var i = 0; i < css_urls.length; i++) {\n",
       "      var url = css_urls[i];\n",
       "      if (existing_stylesheets.indexOf(url) !== -1) {\n",
       "\ton_load()\n",
       "\tcontinue;\n",
       "      }\n",
       "      const element = document.createElement(\"link\");\n",
       "      element.onload = on_load;\n",
       "      element.onerror = on_error;\n",
       "      element.rel = \"stylesheet\";\n",
       "      element.type = \"text/css\";\n",
       "      element.href = url;\n",
       "      console.debug(\"Bokeh: injecting link tag for BokehJS stylesheet: \", url);\n",
       "      document.body.appendChild(element);\n",
       "    }    var existing_scripts = []\n",
       "    var scripts = document.getElementsByTagName('script')\n",
       "    for (var i = 0; i < scripts.length; i++) {\n",
       "      var script = scripts[i]\n",
       "      if (script.src != null) {\n",
       "\texisting_scripts.push(script.src)\n",
       "      }\n",
       "    }\n",
       "    for (var i = 0; i < js_urls.length; i++) {\n",
       "      var url = js_urls[i];\n",
       "      if (skip.indexOf(url) !== -1 || existing_scripts.indexOf(url) !== -1) {\n",
       "\tif (!window.requirejs) {\n",
       "\t  on_load();\n",
       "\t}\n",
       "\tcontinue;\n",
       "      }\n",
       "      var element = document.createElement('script');\n",
       "      element.onload = on_load;\n",
       "      element.onerror = on_error;\n",
       "      element.async = false;\n",
       "      element.src = url;\n",
       "      console.debug(\"Bokeh: injecting script tag for BokehJS library: \", url);\n",
       "      document.head.appendChild(element);\n",
       "    }\n",
       "    for (var i = 0; i < js_modules.length; i++) {\n",
       "      var url = js_modules[i];\n",
       "      if (skip.indexOf(url) !== -1 || existing_scripts.indexOf(url) !== -1) {\n",
       "\tif (!window.requirejs) {\n",
       "\t  on_load();\n",
       "\t}\n",
       "\tcontinue;\n",
       "      }\n",
       "      var element = document.createElement('script');\n",
       "      element.onload = on_load;\n",
       "      element.onerror = on_error;\n",
       "      element.async = false;\n",
       "      element.src = url;\n",
       "      element.type = \"module\";\n",
       "      console.debug(\"Bokeh: injecting script tag for BokehJS library: \", url);\n",
       "      document.head.appendChild(element);\n",
       "    }\n",
       "    for (const name in js_exports) {\n",
       "      var url = js_exports[name];\n",
       "      if (skip.indexOf(url) >= 0 || root[name] != null) {\n",
       "\tif (!window.requirejs) {\n",
       "\t  on_load();\n",
       "\t}\n",
       "\tcontinue;\n",
       "      }\n",
       "      var element = document.createElement('script');\n",
       "      element.onerror = on_error;\n",
       "      element.async = false;\n",
       "      element.type = \"module\";\n",
       "      console.debug(\"Bokeh: injecting script tag for BokehJS library: \", url);\n",
       "      element.textContent = `\n",
       "      import ${name} from \"${url}\"\n",
       "      window.${name} = ${name}\n",
       "      window._bokeh_on_load()\n",
       "      `\n",
       "      document.head.appendChild(element);\n",
       "    }\n",
       "    if (!js_urls.length && !js_modules.length) {\n",
       "      on_load()\n",
       "    }\n",
       "  };\n",
       "\n",
       "  function inject_raw_css(css) {\n",
       "    const element = document.createElement(\"style\");\n",
       "    element.appendChild(document.createTextNode(css));\n",
       "    document.body.appendChild(element);\n",
       "  }\n",
       "\n",
       "  var js_urls = [\"https://cdn.bokeh.org/bokeh/release/bokeh-3.4.3.min.js\", \"https://cdn.bokeh.org/bokeh/release/bokeh-gl-3.4.3.min.js\", \"https://cdn.bokeh.org/bokeh/release/bokeh-widgets-3.4.3.min.js\", \"https://cdn.bokeh.org/bokeh/release/bokeh-tables-3.4.3.min.js\", \"https://cdn.holoviz.org/panel/1.4.5/dist/panel.min.js\"];\n",
       "  var js_modules = [];\n",
       "  var js_exports = {};\n",
       "  var css_urls = [];\n",
       "  var inline_js = [    function(Bokeh) {\n",
       "      Bokeh.set_log_level(\"info\");\n",
       "    },\n",
       "function(Bokeh) {} // ensure no trailing comma for IE\n",
       "  ];\n",
       "\n",
       "  function run_inline_js() {\n",
       "    if ((root.Bokeh !== undefined) || (force === true)) {\n",
       "      for (var i = 0; i < inline_js.length; i++) {\n",
       "\ttry {\n",
       "          inline_js[i].call(root, root.Bokeh);\n",
       "\t} catch(e) {\n",
       "\t  if (!reloading) {\n",
       "\t    throw e;\n",
       "\t  }\n",
       "\t}\n",
       "      }\n",
       "      // Cache old bokeh versions\n",
       "      if (Bokeh != undefined && !reloading) {\n",
       "\tvar NewBokeh = root.Bokeh;\n",
       "\tif (Bokeh.versions === undefined) {\n",
       "\t  Bokeh.versions = new Map();\n",
       "\t}\n",
       "\tif (NewBokeh.version !== Bokeh.version) {\n",
       "\t  Bokeh.versions.set(NewBokeh.version, NewBokeh)\n",
       "\t}\n",
       "\troot.Bokeh = Bokeh;\n",
       "      }} else if (Date.now() < root._bokeh_timeout) {\n",
       "      setTimeout(run_inline_js, 100);\n",
       "    } else if (!root._bokeh_failed_load) {\n",
       "      console.log(\"Bokeh: BokehJS failed to load within specified timeout.\");\n",
       "      root._bokeh_failed_load = true;\n",
       "    }\n",
       "    root._bokeh_is_initializing = false\n",
       "  }\n",
       "\n",
       "  function load_or_wait() {\n",
       "    // Implement a backoff loop that tries to ensure we do not load multiple\n",
       "    // versions of Bokeh and its dependencies at the same time.\n",
       "    // In recent versions we use the root._bokeh_is_initializing flag\n",
       "    // to determine whether there is an ongoing attempt to initialize\n",
       "    // bokeh, however for backward compatibility we also try to ensure\n",
       "    // that we do not start loading a newer (Panel>=1.0 and Bokeh>3) version\n",
       "    // before older versions are fully initialized.\n",
       "    if (root._bokeh_is_initializing && Date.now() > root._bokeh_timeout) {\n",
       "      root._bokeh_is_initializing = false;\n",
       "      root._bokeh_onload_callbacks = undefined;\n",
       "      console.log(\"Bokeh: BokehJS was loaded multiple times but one version failed to initialize.\");\n",
       "      load_or_wait();\n",
       "    } else if (root._bokeh_is_initializing || (typeof root._bokeh_is_initializing === \"undefined\" && root._bokeh_onload_callbacks !== undefined)) {\n",
       "      setTimeout(load_or_wait, 100);\n",
       "    } else {\n",
       "      root._bokeh_is_initializing = true\n",
       "      root._bokeh_onload_callbacks = []\n",
       "      var bokeh_loaded = Bokeh != null && (Bokeh.version === py_version || (Bokeh.versions !== undefined && Bokeh.versions.has(py_version)));\n",
       "      if (!reloading && !bokeh_loaded) {\n",
       "\troot.Bokeh = undefined;\n",
       "      }\n",
       "      load_libs(css_urls, js_urls, js_modules, js_exports, function() {\n",
       "\tconsole.debug(\"Bokeh: BokehJS plotting callback run at\", now());\n",
       "\trun_inline_js();\n",
       "      });\n",
       "    }\n",
       "  }\n",
       "  // Give older versions of the autoload script a head-start to ensure\n",
       "  // they initialize before we start loading newer version.\n",
       "  setTimeout(load_or_wait, 100)\n",
       "}(window));"
      ],
      "application/vnd.holoviews_load.v0+json": "(function(root) {\n  function now() {\n    return new Date();\n  }\n\n  var force = true;\n  var py_version = '3.4.3'.replace('rc', '-rc.').replace('.dev', '-dev.');\n  var reloading = false;\n  var Bokeh = root.Bokeh;\n\n  if (typeof (root._bokeh_timeout) === \"undefined\" || force) {\n    root._bokeh_timeout = Date.now() + 5000;\n    root._bokeh_failed_load = false;\n  }\n\n  function run_callbacks() {\n    try {\n      root._bokeh_onload_callbacks.forEach(function(callback) {\n        if (callback != null)\n          callback();\n      });\n    } finally {\n      delete root._bokeh_onload_callbacks;\n    }\n    console.debug(\"Bokeh: all callbacks have finished\");\n  }\n\n  function load_libs(css_urls, js_urls, js_modules, js_exports, callback) {\n    if (css_urls == null) css_urls = [];\n    if (js_urls == null) js_urls = [];\n    if (js_modules == null) js_modules = [];\n    if (js_exports == null) js_exports = {};\n\n    root._bokeh_onload_callbacks.push(callback);\n\n    if (root._bokeh_is_loading > 0) {\n      console.debug(\"Bokeh: BokehJS is being loaded, scheduling callback at\", now());\n      return null;\n    }\n    if (js_urls.length === 0 && js_modules.length === 0 && Object.keys(js_exports).length === 0) {\n      run_callbacks();\n      return null;\n    }\n    if (!reloading) {\n      console.debug(\"Bokeh: BokehJS not loaded, scheduling load and callback at\", now());\n    }\n\n    function on_load() {\n      root._bokeh_is_loading--;\n      if (root._bokeh_is_loading === 0) {\n        console.debug(\"Bokeh: all BokehJS libraries/stylesheets loaded\");\n        run_callbacks()\n      }\n    }\n    window._bokeh_on_load = on_load\n\n    function on_error() {\n      console.error(\"failed to load \" + url);\n    }\n\n    var skip = [];\n    if (window.requirejs) {\n      window.requirejs.config({'packages': {}, 'paths': {}, 'shim': {}});\n      root._bokeh_is_loading = css_urls.length + 0;\n    } else {\n      root._bokeh_is_loading = css_urls.length + js_urls.length + js_modules.length + Object.keys(js_exports).length;\n    }\n\n    var existing_stylesheets = []\n    var links = document.getElementsByTagName('link')\n    for (var i = 0; i < links.length; i++) {\n      var link = links[i]\n      if (link.href != null) {\n\texisting_stylesheets.push(link.href)\n      }\n    }\n    for (var i = 0; i < css_urls.length; i++) {\n      var url = css_urls[i];\n      if (existing_stylesheets.indexOf(url) !== -1) {\n\ton_load()\n\tcontinue;\n      }\n      const element = document.createElement(\"link\");\n      element.onload = on_load;\n      element.onerror = on_error;\n      element.rel = \"stylesheet\";\n      element.type = \"text/css\";\n      element.href = url;\n      console.debug(\"Bokeh: injecting link tag for BokehJS stylesheet: \", url);\n      document.body.appendChild(element);\n    }    var existing_scripts = []\n    var scripts = document.getElementsByTagName('script')\n    for (var i = 0; i < scripts.length; i++) {\n      var script = scripts[i]\n      if (script.src != null) {\n\texisting_scripts.push(script.src)\n      }\n    }\n    for (var i = 0; i < js_urls.length; i++) {\n      var url = js_urls[i];\n      if (skip.indexOf(url) !== -1 || existing_scripts.indexOf(url) !== -1) {\n\tif (!window.requirejs) {\n\t  on_load();\n\t}\n\tcontinue;\n      }\n      var element = document.createElement('script');\n      element.onload = on_load;\n      element.onerror = on_error;\n      element.async = false;\n      element.src = url;\n      console.debug(\"Bokeh: injecting script tag for BokehJS library: \", url);\n      document.head.appendChild(element);\n    }\n    for (var i = 0; i < js_modules.length; i++) {\n      var url = js_modules[i];\n      if (skip.indexOf(url) !== -1 || existing_scripts.indexOf(url) !== -1) {\n\tif (!window.requirejs) {\n\t  on_load();\n\t}\n\tcontinue;\n      }\n      var element = document.createElement('script');\n      element.onload = on_load;\n      element.onerror = on_error;\n      element.async = false;\n      element.src = url;\n      element.type = \"module\";\n      console.debug(\"Bokeh: injecting script tag for BokehJS library: \", url);\n      document.head.appendChild(element);\n    }\n    for (const name in js_exports) {\n      var url = js_exports[name];\n      if (skip.indexOf(url) >= 0 || root[name] != null) {\n\tif (!window.requirejs) {\n\t  on_load();\n\t}\n\tcontinue;\n      }\n      var element = document.createElement('script');\n      element.onerror = on_error;\n      element.async = false;\n      element.type = \"module\";\n      console.debug(\"Bokeh: injecting script tag for BokehJS library: \", url);\n      element.textContent = `\n      import ${name} from \"${url}\"\n      window.${name} = ${name}\n      window._bokeh_on_load()\n      `\n      document.head.appendChild(element);\n    }\n    if (!js_urls.length && !js_modules.length) {\n      on_load()\n    }\n  };\n\n  function inject_raw_css(css) {\n    const element = document.createElement(\"style\");\n    element.appendChild(document.createTextNode(css));\n    document.body.appendChild(element);\n  }\n\n  var js_urls = [\"https://cdn.bokeh.org/bokeh/release/bokeh-3.4.3.min.js\", \"https://cdn.bokeh.org/bokeh/release/bokeh-gl-3.4.3.min.js\", \"https://cdn.bokeh.org/bokeh/release/bokeh-widgets-3.4.3.min.js\", \"https://cdn.bokeh.org/bokeh/release/bokeh-tables-3.4.3.min.js\", \"https://cdn.holoviz.org/panel/1.4.5/dist/panel.min.js\"];\n  var js_modules = [];\n  var js_exports = {};\n  var css_urls = [];\n  var inline_js = [    function(Bokeh) {\n      Bokeh.set_log_level(\"info\");\n    },\nfunction(Bokeh) {} // ensure no trailing comma for IE\n  ];\n\n  function run_inline_js() {\n    if ((root.Bokeh !== undefined) || (force === true)) {\n      for (var i = 0; i < inline_js.length; i++) {\n\ttry {\n          inline_js[i].call(root, root.Bokeh);\n\t} catch(e) {\n\t  if (!reloading) {\n\t    throw e;\n\t  }\n\t}\n      }\n      // Cache old bokeh versions\n      if (Bokeh != undefined && !reloading) {\n\tvar NewBokeh = root.Bokeh;\n\tif (Bokeh.versions === undefined) {\n\t  Bokeh.versions = new Map();\n\t}\n\tif (NewBokeh.version !== Bokeh.version) {\n\t  Bokeh.versions.set(NewBokeh.version, NewBokeh)\n\t}\n\troot.Bokeh = Bokeh;\n      }} else if (Date.now() < root._bokeh_timeout) {\n      setTimeout(run_inline_js, 100);\n    } else if (!root._bokeh_failed_load) {\n      console.log(\"Bokeh: BokehJS failed to load within specified timeout.\");\n      root._bokeh_failed_load = true;\n    }\n    root._bokeh_is_initializing = false\n  }\n\n  function load_or_wait() {\n    // Implement a backoff loop that tries to ensure we do not load multiple\n    // versions of Bokeh and its dependencies at the same time.\n    // In recent versions we use the root._bokeh_is_initializing flag\n    // to determine whether there is an ongoing attempt to initialize\n    // bokeh, however for backward compatibility we also try to ensure\n    // that we do not start loading a newer (Panel>=1.0 and Bokeh>3) version\n    // before older versions are fully initialized.\n    if (root._bokeh_is_initializing && Date.now() > root._bokeh_timeout) {\n      root._bokeh_is_initializing = false;\n      root._bokeh_onload_callbacks = undefined;\n      console.log(\"Bokeh: BokehJS was loaded multiple times but one version failed to initialize.\");\n      load_or_wait();\n    } else if (root._bokeh_is_initializing || (typeof root._bokeh_is_initializing === \"undefined\" && root._bokeh_onload_callbacks !== undefined)) {\n      setTimeout(load_or_wait, 100);\n    } else {\n      root._bokeh_is_initializing = true\n      root._bokeh_onload_callbacks = []\n      var bokeh_loaded = Bokeh != null && (Bokeh.version === py_version || (Bokeh.versions !== undefined && Bokeh.versions.has(py_version)));\n      if (!reloading && !bokeh_loaded) {\n\troot.Bokeh = undefined;\n      }\n      load_libs(css_urls, js_urls, js_modules, js_exports, function() {\n\tconsole.debug(\"Bokeh: BokehJS plotting callback run at\", now());\n\trun_inline_js();\n      });\n    }\n  }\n  // Give older versions of the autoload script a head-start to ensure\n  // they initialize before we start loading newer version.\n  setTimeout(load_or_wait, 100)\n}(window));"
     },
     "metadata": {},
     "output_type": "display_data"
    },
    {
     "data": {
      "application/javascript": [
       "\n",
       "if ((window.PyViz === undefined) || (window.PyViz instanceof HTMLElement)) {\n",
       "  window.PyViz = {comms: {}, comm_status:{}, kernels:{}, receivers: {}, plot_index: []}\n",
       "}\n",
       "\n",
       "\n",
       "    function JupyterCommManager() {\n",
       "    }\n",
       "\n",
       "    JupyterCommManager.prototype.register_target = function(plot_id, comm_id, msg_handler) {\n",
       "      if (window.comm_manager || ((window.Jupyter !== undefined) && (Jupyter.notebook.kernel != null))) {\n",
       "        var comm_manager = window.comm_manager || Jupyter.notebook.kernel.comm_manager;\n",
       "        comm_manager.register_target(comm_id, function(comm) {\n",
       "          comm.on_msg(msg_handler);\n",
       "        });\n",
       "      } else if ((plot_id in window.PyViz.kernels) && (window.PyViz.kernels[plot_id])) {\n",
       "        window.PyViz.kernels[plot_id].registerCommTarget(comm_id, function(comm) {\n",
       "          comm.onMsg = msg_handler;\n",
       "        });\n",
       "      } else if (typeof google != 'undefined' && google.colab.kernel != null) {\n",
       "        google.colab.kernel.comms.registerTarget(comm_id, (comm) => {\n",
       "          var messages = comm.messages[Symbol.asyncIterator]();\n",
       "          function processIteratorResult(result) {\n",
       "            var message = result.value;\n",
       "            console.log(message)\n",
       "            var content = {data: message.data, comm_id};\n",
       "            var buffers = []\n",
       "            for (var buffer of message.buffers || []) {\n",
       "              buffers.push(new DataView(buffer))\n",
       "            }\n",
       "            var metadata = message.metadata || {};\n",
       "            var msg = {content, buffers, metadata}\n",
       "            msg_handler(msg);\n",
       "            return messages.next().then(processIteratorResult);\n",
       "          }\n",
       "          return messages.next().then(processIteratorResult);\n",
       "        })\n",
       "      }\n",
       "    }\n",
       "\n",
       "    JupyterCommManager.prototype.get_client_comm = function(plot_id, comm_id, msg_handler) {\n",
       "      if (comm_id in window.PyViz.comms) {\n",
       "        return window.PyViz.comms[comm_id];\n",
       "      } else if (window.comm_manager || ((window.Jupyter !== undefined) && (Jupyter.notebook.kernel != null))) {\n",
       "        var comm_manager = window.comm_manager || Jupyter.notebook.kernel.comm_manager;\n",
       "        var comm = comm_manager.new_comm(comm_id, {}, {}, {}, comm_id);\n",
       "        if (msg_handler) {\n",
       "          comm.on_msg(msg_handler);\n",
       "        }\n",
       "      } else if ((plot_id in window.PyViz.kernels) && (window.PyViz.kernels[plot_id])) {\n",
       "        var comm = window.PyViz.kernels[plot_id].connectToComm(comm_id);\n",
       "        comm.open();\n",
       "        if (msg_handler) {\n",
       "          comm.onMsg = msg_handler;\n",
       "        }\n",
       "      } else if (typeof google != 'undefined' && google.colab.kernel != null) {\n",
       "        var comm_promise = google.colab.kernel.comms.open(comm_id)\n",
       "        comm_promise.then((comm) => {\n",
       "          window.PyViz.comms[comm_id] = comm;\n",
       "          if (msg_handler) {\n",
       "            var messages = comm.messages[Symbol.asyncIterator]();\n",
       "            function processIteratorResult(result) {\n",
       "              var message = result.value;\n",
       "              var content = {data: message.data};\n",
       "              var metadata = message.metadata || {comm_id};\n",
       "              var msg = {content, metadata}\n",
       "              msg_handler(msg);\n",
       "              return messages.next().then(processIteratorResult);\n",
       "            }\n",
       "            return messages.next().then(processIteratorResult);\n",
       "          }\n",
       "        }) \n",
       "        var sendClosure = (data, metadata, buffers, disposeOnDone) => {\n",
       "          return comm_promise.then((comm) => {\n",
       "            comm.send(data, metadata, buffers, disposeOnDone);\n",
       "          });\n",
       "        };\n",
       "        var comm = {\n",
       "          send: sendClosure\n",
       "        };\n",
       "      }\n",
       "      window.PyViz.comms[comm_id] = comm;\n",
       "      return comm;\n",
       "    }\n",
       "    window.PyViz.comm_manager = new JupyterCommManager();\n",
       "    \n",
       "\n",
       "\n",
       "var JS_MIME_TYPE = 'application/javascript';\n",
       "var HTML_MIME_TYPE = 'text/html';\n",
       "var EXEC_MIME_TYPE = 'application/vnd.holoviews_exec.v0+json';\n",
       "var CLASS_NAME = 'output';\n",
       "\n",
       "/**\n",
       " * Render data to the DOM node\n",
       " */\n",
       "function render(props, node) {\n",
       "  var div = document.createElement(\"div\");\n",
       "  var script = document.createElement(\"script\");\n",
       "  node.appendChild(div);\n",
       "  node.appendChild(script);\n",
       "}\n",
       "\n",
       "/**\n",
       " * Handle when a new output is added\n",
       " */\n",
       "function handle_add_output(event, handle) {\n",
       "  var output_area = handle.output_area;\n",
       "  var output = handle.output;\n",
       "  if ((output.data == undefined) || (!output.data.hasOwnProperty(EXEC_MIME_TYPE))) {\n",
       "    return\n",
       "  }\n",
       "  var id = output.metadata[EXEC_MIME_TYPE][\"id\"];\n",
       "  var toinsert = output_area.element.find(\".\" + CLASS_NAME.split(' ')[0]);\n",
       "  if (id !== undefined) {\n",
       "    var nchildren = toinsert.length;\n",
       "    var html_node = toinsert[nchildren-1].children[0];\n",
       "    html_node.innerHTML = output.data[HTML_MIME_TYPE];\n",
       "    var scripts = [];\n",
       "    var nodelist = html_node.querySelectorAll(\"script\");\n",
       "    for (var i in nodelist) {\n",
       "      if (nodelist.hasOwnProperty(i)) {\n",
       "        scripts.push(nodelist[i])\n",
       "      }\n",
       "    }\n",
       "\n",
       "    scripts.forEach( function (oldScript) {\n",
       "      var newScript = document.createElement(\"script\");\n",
       "      var attrs = [];\n",
       "      var nodemap = oldScript.attributes;\n",
       "      for (var j in nodemap) {\n",
       "        if (nodemap.hasOwnProperty(j)) {\n",
       "          attrs.push(nodemap[j])\n",
       "        }\n",
       "      }\n",
       "      attrs.forEach(function(attr) { newScript.setAttribute(attr.name, attr.value) });\n",
       "      newScript.appendChild(document.createTextNode(oldScript.innerHTML));\n",
       "      oldScript.parentNode.replaceChild(newScript, oldScript);\n",
       "    });\n",
       "    if (JS_MIME_TYPE in output.data) {\n",
       "      toinsert[nchildren-1].children[1].textContent = output.data[JS_MIME_TYPE];\n",
       "    }\n",
       "    output_area._hv_plot_id = id;\n",
       "    if ((window.Bokeh !== undefined) && (id in Bokeh.index)) {\n",
       "      window.PyViz.plot_index[id] = Bokeh.index[id];\n",
       "    } else {\n",
       "      window.PyViz.plot_index[id] = null;\n",
       "    }\n",
       "  } else if (output.metadata[EXEC_MIME_TYPE][\"server_id\"] !== undefined) {\n",
       "    var bk_div = document.createElement(\"div\");\n",
       "    bk_div.innerHTML = output.data[HTML_MIME_TYPE];\n",
       "    var script_attrs = bk_div.children[0].attributes;\n",
       "    for (var i = 0; i < script_attrs.length; i++) {\n",
       "      toinsert[toinsert.length - 1].childNodes[1].setAttribute(script_attrs[i].name, script_attrs[i].value);\n",
       "    }\n",
       "    // store reference to server id on output_area\n",
       "    output_area._bokeh_server_id = output.metadata[EXEC_MIME_TYPE][\"server_id\"];\n",
       "  }\n",
       "}\n",
       "\n",
       "/**\n",
       " * Handle when an output is cleared or removed\n",
       " */\n",
       "function handle_clear_output(event, handle) {\n",
       "  var id = handle.cell.output_area._hv_plot_id;\n",
       "  var server_id = handle.cell.output_area._bokeh_server_id;\n",
       "  if (((id === undefined) || !(id in PyViz.plot_index)) && (server_id !== undefined)) { return; }\n",
       "  var comm = window.PyViz.comm_manager.get_client_comm(\"hv-extension-comm\", \"hv-extension-comm\", function () {});\n",
       "  if (server_id !== null) {\n",
       "    comm.send({event_type: 'server_delete', 'id': server_id});\n",
       "    return;\n",
       "  } else if (comm !== null) {\n",
       "    comm.send({event_type: 'delete', 'id': id});\n",
       "  }\n",
       "  delete PyViz.plot_index[id];\n",
       "  if ((window.Bokeh !== undefined) & (id in window.Bokeh.index)) {\n",
       "    var doc = window.Bokeh.index[id].model.document\n",
       "    doc.clear();\n",
       "    const i = window.Bokeh.documents.indexOf(doc);\n",
       "    if (i > -1) {\n",
       "      window.Bokeh.documents.splice(i, 1);\n",
       "    }\n",
       "  }\n",
       "}\n",
       "\n",
       "/**\n",
       " * Handle kernel restart event\n",
       " */\n",
       "function handle_kernel_cleanup(event, handle) {\n",
       "  delete PyViz.comms[\"hv-extension-comm\"];\n",
       "  window.PyViz.plot_index = {}\n",
       "}\n",
       "\n",
       "/**\n",
       " * Handle update_display_data messages\n",
       " */\n",
       "function handle_update_output(event, handle) {\n",
       "  handle_clear_output(event, {cell: {output_area: handle.output_area}})\n",
       "  handle_add_output(event, handle)\n",
       "}\n",
       "\n",
       "function register_renderer(events, OutputArea) {\n",
       "  function append_mime(data, metadata, element) {\n",
       "    // create a DOM node to render to\n",
       "    var toinsert = this.create_output_subarea(\n",
       "    metadata,\n",
       "    CLASS_NAME,\n",
       "    EXEC_MIME_TYPE\n",
       "    );\n",
       "    this.keyboard_manager.register_events(toinsert);\n",
       "    // Render to node\n",
       "    var props = {data: data, metadata: metadata[EXEC_MIME_TYPE]};\n",
       "    render(props, toinsert[0]);\n",
       "    element.append(toinsert);\n",
       "    return toinsert\n",
       "  }\n",
       "\n",
       "  events.on('output_added.OutputArea', handle_add_output);\n",
       "  events.on('output_updated.OutputArea', handle_update_output);\n",
       "  events.on('clear_output.CodeCell', handle_clear_output);\n",
       "  events.on('delete.Cell', handle_clear_output);\n",
       "  events.on('kernel_ready.Kernel', handle_kernel_cleanup);\n",
       "\n",
       "  OutputArea.prototype.register_mime_type(EXEC_MIME_TYPE, append_mime, {\n",
       "    safe: true,\n",
       "    index: 0\n",
       "  });\n",
       "}\n",
       "\n",
       "if (window.Jupyter !== undefined) {\n",
       "  try {\n",
       "    var events = require('base/js/events');\n",
       "    var OutputArea = require('notebook/js/outputarea').OutputArea;\n",
       "    if (OutputArea.prototype.mime_types().indexOf(EXEC_MIME_TYPE) == -1) {\n",
       "      register_renderer(events, OutputArea);\n",
       "    }\n",
       "  } catch(err) {\n",
       "  }\n",
       "}\n"
      ],
      "application/vnd.holoviews_load.v0+json": "\nif ((window.PyViz === undefined) || (window.PyViz instanceof HTMLElement)) {\n  window.PyViz = {comms: {}, comm_status:{}, kernels:{}, receivers: {}, plot_index: []}\n}\n\n\n    function JupyterCommManager() {\n    }\n\n    JupyterCommManager.prototype.register_target = function(plot_id, comm_id, msg_handler) {\n      if (window.comm_manager || ((window.Jupyter !== undefined) && (Jupyter.notebook.kernel != null))) {\n        var comm_manager = window.comm_manager || Jupyter.notebook.kernel.comm_manager;\n        comm_manager.register_target(comm_id, function(comm) {\n          comm.on_msg(msg_handler);\n        });\n      } else if ((plot_id in window.PyViz.kernels) && (window.PyViz.kernels[plot_id])) {\n        window.PyViz.kernels[plot_id].registerCommTarget(comm_id, function(comm) {\n          comm.onMsg = msg_handler;\n        });\n      } else if (typeof google != 'undefined' && google.colab.kernel != null) {\n        google.colab.kernel.comms.registerTarget(comm_id, (comm) => {\n          var messages = comm.messages[Symbol.asyncIterator]();\n          function processIteratorResult(result) {\n            var message = result.value;\n            console.log(message)\n            var content = {data: message.data, comm_id};\n            var buffers = []\n            for (var buffer of message.buffers || []) {\n              buffers.push(new DataView(buffer))\n            }\n            var metadata = message.metadata || {};\n            var msg = {content, buffers, metadata}\n            msg_handler(msg);\n            return messages.next().then(processIteratorResult);\n          }\n          return messages.next().then(processIteratorResult);\n        })\n      }\n    }\n\n    JupyterCommManager.prototype.get_client_comm = function(plot_id, comm_id, msg_handler) {\n      if (comm_id in window.PyViz.comms) {\n        return window.PyViz.comms[comm_id];\n      } else if (window.comm_manager || ((window.Jupyter !== undefined) && (Jupyter.notebook.kernel != null))) {\n        var comm_manager = window.comm_manager || Jupyter.notebook.kernel.comm_manager;\n        var comm = comm_manager.new_comm(comm_id, {}, {}, {}, comm_id);\n        if (msg_handler) {\n          comm.on_msg(msg_handler);\n        }\n      } else if ((plot_id in window.PyViz.kernels) && (window.PyViz.kernels[plot_id])) {\n        var comm = window.PyViz.kernels[plot_id].connectToComm(comm_id);\n        comm.open();\n        if (msg_handler) {\n          comm.onMsg = msg_handler;\n        }\n      } else if (typeof google != 'undefined' && google.colab.kernel != null) {\n        var comm_promise = google.colab.kernel.comms.open(comm_id)\n        comm_promise.then((comm) => {\n          window.PyViz.comms[comm_id] = comm;\n          if (msg_handler) {\n            var messages = comm.messages[Symbol.asyncIterator]();\n            function processIteratorResult(result) {\n              var message = result.value;\n              var content = {data: message.data};\n              var metadata = message.metadata || {comm_id};\n              var msg = {content, metadata}\n              msg_handler(msg);\n              return messages.next().then(processIteratorResult);\n            }\n            return messages.next().then(processIteratorResult);\n          }\n        }) \n        var sendClosure = (data, metadata, buffers, disposeOnDone) => {\n          return comm_promise.then((comm) => {\n            comm.send(data, metadata, buffers, disposeOnDone);\n          });\n        };\n        var comm = {\n          send: sendClosure\n        };\n      }\n      window.PyViz.comms[comm_id] = comm;\n      return comm;\n    }\n    window.PyViz.comm_manager = new JupyterCommManager();\n    \n\n\nvar JS_MIME_TYPE = 'application/javascript';\nvar HTML_MIME_TYPE = 'text/html';\nvar EXEC_MIME_TYPE = 'application/vnd.holoviews_exec.v0+json';\nvar CLASS_NAME = 'output';\n\n/**\n * Render data to the DOM node\n */\nfunction render(props, node) {\n  var div = document.createElement(\"div\");\n  var script = document.createElement(\"script\");\n  node.appendChild(div);\n  node.appendChild(script);\n}\n\n/**\n * Handle when a new output is added\n */\nfunction handle_add_output(event, handle) {\n  var output_area = handle.output_area;\n  var output = handle.output;\n  if ((output.data == undefined) || (!output.data.hasOwnProperty(EXEC_MIME_TYPE))) {\n    return\n  }\n  var id = output.metadata[EXEC_MIME_TYPE][\"id\"];\n  var toinsert = output_area.element.find(\".\" + CLASS_NAME.split(' ')[0]);\n  if (id !== undefined) {\n    var nchildren = toinsert.length;\n    var html_node = toinsert[nchildren-1].children[0];\n    html_node.innerHTML = output.data[HTML_MIME_TYPE];\n    var scripts = [];\n    var nodelist = html_node.querySelectorAll(\"script\");\n    for (var i in nodelist) {\n      if (nodelist.hasOwnProperty(i)) {\n        scripts.push(nodelist[i])\n      }\n    }\n\n    scripts.forEach( function (oldScript) {\n      var newScript = document.createElement(\"script\");\n      var attrs = [];\n      var nodemap = oldScript.attributes;\n      for (var j in nodemap) {\n        if (nodemap.hasOwnProperty(j)) {\n          attrs.push(nodemap[j])\n        }\n      }\n      attrs.forEach(function(attr) { newScript.setAttribute(attr.name, attr.value) });\n      newScript.appendChild(document.createTextNode(oldScript.innerHTML));\n      oldScript.parentNode.replaceChild(newScript, oldScript);\n    });\n    if (JS_MIME_TYPE in output.data) {\n      toinsert[nchildren-1].children[1].textContent = output.data[JS_MIME_TYPE];\n    }\n    output_area._hv_plot_id = id;\n    if ((window.Bokeh !== undefined) && (id in Bokeh.index)) {\n      window.PyViz.plot_index[id] = Bokeh.index[id];\n    } else {\n      window.PyViz.plot_index[id] = null;\n    }\n  } else if (output.metadata[EXEC_MIME_TYPE][\"server_id\"] !== undefined) {\n    var bk_div = document.createElement(\"div\");\n    bk_div.innerHTML = output.data[HTML_MIME_TYPE];\n    var script_attrs = bk_div.children[0].attributes;\n    for (var i = 0; i < script_attrs.length; i++) {\n      toinsert[toinsert.length - 1].childNodes[1].setAttribute(script_attrs[i].name, script_attrs[i].value);\n    }\n    // store reference to server id on output_area\n    output_area._bokeh_server_id = output.metadata[EXEC_MIME_TYPE][\"server_id\"];\n  }\n}\n\n/**\n * Handle when an output is cleared or removed\n */\nfunction handle_clear_output(event, handle) {\n  var id = handle.cell.output_area._hv_plot_id;\n  var server_id = handle.cell.output_area._bokeh_server_id;\n  if (((id === undefined) || !(id in PyViz.plot_index)) && (server_id !== undefined)) { return; }\n  var comm = window.PyViz.comm_manager.get_client_comm(\"hv-extension-comm\", \"hv-extension-comm\", function () {});\n  if (server_id !== null) {\n    comm.send({event_type: 'server_delete', 'id': server_id});\n    return;\n  } else if (comm !== null) {\n    comm.send({event_type: 'delete', 'id': id});\n  }\n  delete PyViz.plot_index[id];\n  if ((window.Bokeh !== undefined) & (id in window.Bokeh.index)) {\n    var doc = window.Bokeh.index[id].model.document\n    doc.clear();\n    const i = window.Bokeh.documents.indexOf(doc);\n    if (i > -1) {\n      window.Bokeh.documents.splice(i, 1);\n    }\n  }\n}\n\n/**\n * Handle kernel restart event\n */\nfunction handle_kernel_cleanup(event, handle) {\n  delete PyViz.comms[\"hv-extension-comm\"];\n  window.PyViz.plot_index = {}\n}\n\n/**\n * Handle update_display_data messages\n */\nfunction handle_update_output(event, handle) {\n  handle_clear_output(event, {cell: {output_area: handle.output_area}})\n  handle_add_output(event, handle)\n}\n\nfunction register_renderer(events, OutputArea) {\n  function append_mime(data, metadata, element) {\n    // create a DOM node to render to\n    var toinsert = this.create_output_subarea(\n    metadata,\n    CLASS_NAME,\n    EXEC_MIME_TYPE\n    );\n    this.keyboard_manager.register_events(toinsert);\n    // Render to node\n    var props = {data: data, metadata: metadata[EXEC_MIME_TYPE]};\n    render(props, toinsert[0]);\n    element.append(toinsert);\n    return toinsert\n  }\n\n  events.on('output_added.OutputArea', handle_add_output);\n  events.on('output_updated.OutputArea', handle_update_output);\n  events.on('clear_output.CodeCell', handle_clear_output);\n  events.on('delete.Cell', handle_clear_output);\n  events.on('kernel_ready.Kernel', handle_kernel_cleanup);\n\n  OutputArea.prototype.register_mime_type(EXEC_MIME_TYPE, append_mime, {\n    safe: true,\n    index: 0\n  });\n}\n\nif (window.Jupyter !== undefined) {\n  try {\n    var events = require('base/js/events');\n    var OutputArea = require('notebook/js/outputarea').OutputArea;\n    if (OutputArea.prototype.mime_types().indexOf(EXEC_MIME_TYPE) == -1) {\n      register_renderer(events, OutputArea);\n    }\n  } catch(err) {\n  }\n}\n"
     },
     "metadata": {},
     "output_type": "display_data"
    },
    {
     "data": {
      "text/html": [
       "<style>*[data-root-id],\n",
       "*[data-root-id] > * {\n",
       "  box-sizing: border-box;\n",
       "  font-family: var(--jp-ui-font-family);\n",
       "  font-size: var(--jp-ui-font-size1);\n",
       "  color: var(--vscode-editor-foreground, var(--jp-ui-font-color1));\n",
       "}\n",
       "\n",
       "/* Override VSCode background color */\n",
       ".cell-output-ipywidget-background:has(\n",
       "    > .cell-output-ipywidget-background > .lm-Widget > *[data-root-id]\n",
       "  ),\n",
       ".cell-output-ipywidget-background:has(> .lm-Widget > *[data-root-id]) {\n",
       "  background-color: transparent !important;\n",
       "}\n",
       "</style>"
      ]
     },
     "metadata": {},
     "output_type": "display_data"
    },
    {
     "data": {
      "application/vnd.holoviews_exec.v0+json": "",
      "text/html": [
       "<div id='p1002'>\n",
       "  <div id=\"e7e8c0df-81fd-468f-b83a-be31548118c3\" data-root-id=\"p1002\" style=\"display: contents;\"></div>\n",
       "</div>\n",
       "<script type=\"application/javascript\">(function(root) {\n",
       "  var docs_json = {\"21433054-0ea8-4a6b-b573-837081732aee\":{\"version\":\"3.4.3\",\"title\":\"Bokeh Application\",\"roots\":[{\"type\":\"object\",\"name\":\"panel.models.browser.BrowserInfo\",\"id\":\"p1002\"},{\"type\":\"object\",\"name\":\"panel.models.comm_manager.CommManager\",\"id\":\"p1003\",\"attributes\":{\"plot_id\":\"p1002\",\"comm_id\":\"35cd0db8ed894c609ac41ee2f9f86175\",\"client_comm_id\":\"0e26d215ddd5499987774da44685bd21\"}}],\"defs\":[{\"type\":\"model\",\"name\":\"ReactiveHTML1\"},{\"type\":\"model\",\"name\":\"FlexBox1\",\"properties\":[{\"name\":\"align_content\",\"kind\":\"Any\",\"default\":\"flex-start\"},{\"name\":\"align_items\",\"kind\":\"Any\",\"default\":\"flex-start\"},{\"name\":\"flex_direction\",\"kind\":\"Any\",\"default\":\"row\"},{\"name\":\"flex_wrap\",\"kind\":\"Any\",\"default\":\"wrap\"},{\"name\":\"gap\",\"kind\":\"Any\",\"default\":\"\"},{\"name\":\"justify_content\",\"kind\":\"Any\",\"default\":\"flex-start\"}]},{\"type\":\"model\",\"name\":\"FloatPanel1\",\"properties\":[{\"name\":\"config\",\"kind\":\"Any\",\"default\":{\"type\":\"map\"}},{\"name\":\"contained\",\"kind\":\"Any\",\"default\":true},{\"name\":\"position\",\"kind\":\"Any\",\"default\":\"right-top\"},{\"name\":\"offsetx\",\"kind\":\"Any\",\"default\":null},{\"name\":\"offsety\",\"kind\":\"Any\",\"default\":null},{\"name\":\"theme\",\"kind\":\"Any\",\"default\":\"primary\"},{\"name\":\"status\",\"kind\":\"Any\",\"default\":\"normalized\"}]},{\"type\":\"model\",\"name\":\"GridStack1\",\"properties\":[{\"name\":\"mode\",\"kind\":\"Any\",\"default\":\"warn\"},{\"name\":\"ncols\",\"kind\":\"Any\",\"default\":null},{\"name\":\"nrows\",\"kind\":\"Any\",\"default\":null},{\"name\":\"allow_resize\",\"kind\":\"Any\",\"default\":true},{\"name\":\"allow_drag\",\"kind\":\"Any\",\"default\":true},{\"name\":\"state\",\"kind\":\"Any\",\"default\":[]}]},{\"type\":\"model\",\"name\":\"drag1\",\"properties\":[{\"name\":\"slider_width\",\"kind\":\"Any\",\"default\":5},{\"name\":\"slider_color\",\"kind\":\"Any\",\"default\":\"black\"},{\"name\":\"value\",\"kind\":\"Any\",\"default\":50}]},{\"type\":\"model\",\"name\":\"click1\",\"properties\":[{\"name\":\"terminal_output\",\"kind\":\"Any\",\"default\":\"\"},{\"name\":\"debug_name\",\"kind\":\"Any\",\"default\":\"\"},{\"name\":\"clears\",\"kind\":\"Any\",\"default\":0}]},{\"type\":\"model\",\"name\":\"FastWrapper1\",\"properties\":[{\"name\":\"object\",\"kind\":\"Any\",\"default\":null},{\"name\":\"style\",\"kind\":\"Any\",\"default\":null}]},{\"type\":\"model\",\"name\":\"NotificationAreaBase1\",\"properties\":[{\"name\":\"js_events\",\"kind\":\"Any\",\"default\":{\"type\":\"map\"}},{\"name\":\"position\",\"kind\":\"Any\",\"default\":\"bottom-right\"},{\"name\":\"_clear\",\"kind\":\"Any\",\"default\":0}]},{\"type\":\"model\",\"name\":\"NotificationArea1\",\"properties\":[{\"name\":\"js_events\",\"kind\":\"Any\",\"default\":{\"type\":\"map\"}},{\"name\":\"notifications\",\"kind\":\"Any\",\"default\":[]},{\"name\":\"position\",\"kind\":\"Any\",\"default\":\"bottom-right\"},{\"name\":\"_clear\",\"kind\":\"Any\",\"default\":0},{\"name\":\"types\",\"kind\":\"Any\",\"default\":[{\"type\":\"map\",\"entries\":[[\"type\",\"warning\"],[\"background\",\"#ffc107\"],[\"icon\",{\"type\":\"map\",\"entries\":[[\"className\",\"fas fa-exclamation-triangle\"],[\"tagName\",\"i\"],[\"color\",\"white\"]]}]]},{\"type\":\"map\",\"entries\":[[\"type\",\"info\"],[\"background\",\"#007bff\"],[\"icon\",{\"type\":\"map\",\"entries\":[[\"className\",\"fas fa-info-circle\"],[\"tagName\",\"i\"],[\"color\",\"white\"]]}]]}]}]},{\"type\":\"model\",\"name\":\"Notification\",\"properties\":[{\"name\":\"background\",\"kind\":\"Any\",\"default\":null},{\"name\":\"duration\",\"kind\":\"Any\",\"default\":3000},{\"name\":\"icon\",\"kind\":\"Any\",\"default\":null},{\"name\":\"message\",\"kind\":\"Any\",\"default\":\"\"},{\"name\":\"notification_type\",\"kind\":\"Any\",\"default\":null},{\"name\":\"_destroyed\",\"kind\":\"Any\",\"default\":false}]},{\"type\":\"model\",\"name\":\"TemplateActions1\",\"properties\":[{\"name\":\"open_modal\",\"kind\":\"Any\",\"default\":0},{\"name\":\"close_modal\",\"kind\":\"Any\",\"default\":0}]},{\"type\":\"model\",\"name\":\"BootstrapTemplateActions1\",\"properties\":[{\"name\":\"open_modal\",\"kind\":\"Any\",\"default\":0},{\"name\":\"close_modal\",\"kind\":\"Any\",\"default\":0}]},{\"type\":\"model\",\"name\":\"TemplateEditor1\",\"properties\":[{\"name\":\"layout\",\"kind\":\"Any\",\"default\":[]}]},{\"type\":\"model\",\"name\":\"MaterialTemplateActions1\",\"properties\":[{\"name\":\"open_modal\",\"kind\":\"Any\",\"default\":0},{\"name\":\"close_modal\",\"kind\":\"Any\",\"default\":0}]},{\"type\":\"model\",\"name\":\"copy_to_clipboard1\",\"properties\":[{\"name\":\"fill\",\"kind\":\"Any\",\"default\":\"none\"},{\"name\":\"value\",\"kind\":\"Any\",\"default\":null}]}]}};\n",
       "  var render_items = [{\"docid\":\"21433054-0ea8-4a6b-b573-837081732aee\",\"roots\":{\"p1002\":\"e7e8c0df-81fd-468f-b83a-be31548118c3\"},\"root_ids\":[\"p1002\"]}];\n",
       "  var docs = Object.values(docs_json)\n",
       "  if (!docs) {\n",
       "    return\n",
       "  }\n",
       "  const py_version = docs[0].version.replace('rc', '-rc.').replace('.dev', '-dev.')\n",
       "  async function embed_document(root) {\n",
       "    var Bokeh = get_bokeh(root)\n",
       "    await Bokeh.embed.embed_items_notebook(docs_json, render_items);\n",
       "    for (const render_item of render_items) {\n",
       "      for (const root_id of render_item.root_ids) {\n",
       "\tconst id_el = document.getElementById(root_id)\n",
       "\tif (id_el.children.length && id_el.children[0].hasAttribute('data-root-id')) {\n",
       "\t  const root_el = id_el.children[0]\n",
       "\t  root_el.id = root_el.id + '-rendered'\n",
       "\t  for (const child of root_el.children) {\n",
       "            // Ensure JupyterLab does not capture keyboard shortcuts\n",
       "            // see: https://jupyterlab.readthedocs.io/en/4.1.x/extension/notebook.html#keyboard-interaction-model\n",
       "\t    child.setAttribute('data-lm-suppress-shortcuts', 'true')\n",
       "\t  }\n",
       "\t}\n",
       "      }\n",
       "    }\n",
       "  }\n",
       "  function get_bokeh(root) {\n",
       "    if (root.Bokeh === undefined) {\n",
       "      return null\n",
       "    } else if (root.Bokeh.version !== py_version) {\n",
       "      if (root.Bokeh.versions === undefined || !root.Bokeh.versions.has(py_version)) {\n",
       "\treturn null\n",
       "      }\n",
       "      return root.Bokeh.versions.get(py_version);\n",
       "    } else if (root.Bokeh.version === py_version) {\n",
       "      return root.Bokeh\n",
       "    }\n",
       "    return null\n",
       "  }\n",
       "  function is_loaded(root) {\n",
       "    var Bokeh = get_bokeh(root)\n",
       "    return (Bokeh != null && Bokeh.Panel !== undefined)\n",
       "  }\n",
       "  if (is_loaded(root)) {\n",
       "    embed_document(root);\n",
       "  } else {\n",
       "    var attempts = 0;\n",
       "    var timer = setInterval(function(root) {\n",
       "      if (is_loaded(root)) {\n",
       "        clearInterval(timer);\n",
       "        embed_document(root);\n",
       "      } else if (document.readyState == \"complete\") {\n",
       "        attempts++;\n",
       "        if (attempts > 200) {\n",
       "          clearInterval(timer);\n",
       "\t  var Bokeh = get_bokeh(root)\n",
       "\t  if (Bokeh == null || Bokeh.Panel == null) {\n",
       "            console.warn(\"Panel: ERROR: Unable to run Panel code because Bokeh or Panel library is missing\");\n",
       "\t  } else {\n",
       "\t    console.warn(\"Panel: WARNING: Attempting to render but not all required libraries could be resolved.\")\n",
       "\t    embed_document(root)\n",
       "\t  }\n",
       "        }\n",
       "      }\n",
       "    }, 25, root)\n",
       "  }\n",
       "})(window);</script>"
      ]
     },
     "metadata": {
      "application/vnd.holoviews_exec.v0+json": {
       "id": "p1002"
      }
     },
     "output_type": "display_data"
    },
    {
     "data": {
      "application/javascript": [
       "(function(root) {\n",
       "  function now() {\n",
       "    return new Date();\n",
       "  }\n",
       "\n",
       "  var force = true;\n",
       "  var py_version = '3.4.3'.replace('rc', '-rc.').replace('.dev', '-dev.');\n",
       "  var reloading = true;\n",
       "  var Bokeh = root.Bokeh;\n",
       "\n",
       "  if (typeof (root._bokeh_timeout) === \"undefined\" || force) {\n",
       "    root._bokeh_timeout = Date.now() + 5000;\n",
       "    root._bokeh_failed_load = false;\n",
       "  }\n",
       "\n",
       "  function run_callbacks() {\n",
       "    try {\n",
       "      root._bokeh_onload_callbacks.forEach(function(callback) {\n",
       "        if (callback != null)\n",
       "          callback();\n",
       "      });\n",
       "    } finally {\n",
       "      delete root._bokeh_onload_callbacks;\n",
       "    }\n",
       "    console.debug(\"Bokeh: all callbacks have finished\");\n",
       "  }\n",
       "\n",
       "  function load_libs(css_urls, js_urls, js_modules, js_exports, callback) {\n",
       "    if (css_urls == null) css_urls = [];\n",
       "    if (js_urls == null) js_urls = [];\n",
       "    if (js_modules == null) js_modules = [];\n",
       "    if (js_exports == null) js_exports = {};\n",
       "\n",
       "    root._bokeh_onload_callbacks.push(callback);\n",
       "\n",
       "    if (root._bokeh_is_loading > 0) {\n",
       "      console.debug(\"Bokeh: BokehJS is being loaded, scheduling callback at\", now());\n",
       "      return null;\n",
       "    }\n",
       "    if (js_urls.length === 0 && js_modules.length === 0 && Object.keys(js_exports).length === 0) {\n",
       "      run_callbacks();\n",
       "      return null;\n",
       "    }\n",
       "    if (!reloading) {\n",
       "      console.debug(\"Bokeh: BokehJS not loaded, scheduling load and callback at\", now());\n",
       "    }\n",
       "\n",
       "    function on_load() {\n",
       "      root._bokeh_is_loading--;\n",
       "      if (root._bokeh_is_loading === 0) {\n",
       "        console.debug(\"Bokeh: all BokehJS libraries/stylesheets loaded\");\n",
       "        run_callbacks()\n",
       "      }\n",
       "    }\n",
       "    window._bokeh_on_load = on_load\n",
       "\n",
       "    function on_error() {\n",
       "      console.error(\"failed to load \" + url);\n",
       "    }\n",
       "\n",
       "    var skip = [];\n",
       "    if (window.requirejs) {\n",
       "      window.requirejs.config({'packages': {}, 'paths': {}, 'shim': {}});\n",
       "      root._bokeh_is_loading = css_urls.length + 0;\n",
       "    } else {\n",
       "      root._bokeh_is_loading = css_urls.length + js_urls.length + js_modules.length + Object.keys(js_exports).length;\n",
       "    }\n",
       "\n",
       "    var existing_stylesheets = []\n",
       "    var links = document.getElementsByTagName('link')\n",
       "    for (var i = 0; i < links.length; i++) {\n",
       "      var link = links[i]\n",
       "      if (link.href != null) {\n",
       "\texisting_stylesheets.push(link.href)\n",
       "      }\n",
       "    }\n",
       "    for (var i = 0; i < css_urls.length; i++) {\n",
       "      var url = css_urls[i];\n",
       "      if (existing_stylesheets.indexOf(url) !== -1) {\n",
       "\ton_load()\n",
       "\tcontinue;\n",
       "      }\n",
       "      const element = document.createElement(\"link\");\n",
       "      element.onload = on_load;\n",
       "      element.onerror = on_error;\n",
       "      element.rel = \"stylesheet\";\n",
       "      element.type = \"text/css\";\n",
       "      element.href = url;\n",
       "      console.debug(\"Bokeh: injecting link tag for BokehJS stylesheet: \", url);\n",
       "      document.body.appendChild(element);\n",
       "    }    var existing_scripts = []\n",
       "    var scripts = document.getElementsByTagName('script')\n",
       "    for (var i = 0; i < scripts.length; i++) {\n",
       "      var script = scripts[i]\n",
       "      if (script.src != null) {\n",
       "\texisting_scripts.push(script.src)\n",
       "      }\n",
       "    }\n",
       "    for (var i = 0; i < js_urls.length; i++) {\n",
       "      var url = js_urls[i];\n",
       "      if (skip.indexOf(url) !== -1 || existing_scripts.indexOf(url) !== -1) {\n",
       "\tif (!window.requirejs) {\n",
       "\t  on_load();\n",
       "\t}\n",
       "\tcontinue;\n",
       "      }\n",
       "      var element = document.createElement('script');\n",
       "      element.onload = on_load;\n",
       "      element.onerror = on_error;\n",
       "      element.async = false;\n",
       "      element.src = url;\n",
       "      console.debug(\"Bokeh: injecting script tag for BokehJS library: \", url);\n",
       "      document.head.appendChild(element);\n",
       "    }\n",
       "    for (var i = 0; i < js_modules.length; i++) {\n",
       "      var url = js_modules[i];\n",
       "      if (skip.indexOf(url) !== -1 || existing_scripts.indexOf(url) !== -1) {\n",
       "\tif (!window.requirejs) {\n",
       "\t  on_load();\n",
       "\t}\n",
       "\tcontinue;\n",
       "      }\n",
       "      var element = document.createElement('script');\n",
       "      element.onload = on_load;\n",
       "      element.onerror = on_error;\n",
       "      element.async = false;\n",
       "      element.src = url;\n",
       "      element.type = \"module\";\n",
       "      console.debug(\"Bokeh: injecting script tag for BokehJS library: \", url);\n",
       "      document.head.appendChild(element);\n",
       "    }\n",
       "    for (const name in js_exports) {\n",
       "      var url = js_exports[name];\n",
       "      if (skip.indexOf(url) >= 0 || root[name] != null) {\n",
       "\tif (!window.requirejs) {\n",
       "\t  on_load();\n",
       "\t}\n",
       "\tcontinue;\n",
       "      }\n",
       "      var element = document.createElement('script');\n",
       "      element.onerror = on_error;\n",
       "      element.async = false;\n",
       "      element.type = \"module\";\n",
       "      console.debug(\"Bokeh: injecting script tag for BokehJS library: \", url);\n",
       "      element.textContent = `\n",
       "      import ${name} from \"${url}\"\n",
       "      window.${name} = ${name}\n",
       "      window._bokeh_on_load()\n",
       "      `\n",
       "      document.head.appendChild(element);\n",
       "    }\n",
       "    if (!js_urls.length && !js_modules.length) {\n",
       "      on_load()\n",
       "    }\n",
       "  };\n",
       "\n",
       "  function inject_raw_css(css) {\n",
       "    const element = document.createElement(\"style\");\n",
       "    element.appendChild(document.createTextNode(css));\n",
       "    document.body.appendChild(element);\n",
       "  }\n",
       "\n",
       "  var js_urls = [];\n",
       "  var js_modules = [];\n",
       "  var js_exports = {};\n",
       "  var css_urls = [];\n",
       "  var inline_js = [    function(Bokeh) {\n",
       "      Bokeh.set_log_level(\"info\");\n",
       "    },\n",
       "function(Bokeh) {} // ensure no trailing comma for IE\n",
       "  ];\n",
       "\n",
       "  function run_inline_js() {\n",
       "    if ((root.Bokeh !== undefined) || (force === true)) {\n",
       "      for (var i = 0; i < inline_js.length; i++) {\n",
       "\ttry {\n",
       "          inline_js[i].call(root, root.Bokeh);\n",
       "\t} catch(e) {\n",
       "\t  if (!reloading) {\n",
       "\t    throw e;\n",
       "\t  }\n",
       "\t}\n",
       "      }\n",
       "      // Cache old bokeh versions\n",
       "      if (Bokeh != undefined && !reloading) {\n",
       "\tvar NewBokeh = root.Bokeh;\n",
       "\tif (Bokeh.versions === undefined) {\n",
       "\t  Bokeh.versions = new Map();\n",
       "\t}\n",
       "\tif (NewBokeh.version !== Bokeh.version) {\n",
       "\t  Bokeh.versions.set(NewBokeh.version, NewBokeh)\n",
       "\t}\n",
       "\troot.Bokeh = Bokeh;\n",
       "      }} else if (Date.now() < root._bokeh_timeout) {\n",
       "      setTimeout(run_inline_js, 100);\n",
       "    } else if (!root._bokeh_failed_load) {\n",
       "      console.log(\"Bokeh: BokehJS failed to load within specified timeout.\");\n",
       "      root._bokeh_failed_load = true;\n",
       "    }\n",
       "    root._bokeh_is_initializing = false\n",
       "  }\n",
       "\n",
       "  function load_or_wait() {\n",
       "    // Implement a backoff loop that tries to ensure we do not load multiple\n",
       "    // versions of Bokeh and its dependencies at the same time.\n",
       "    // In recent versions we use the root._bokeh_is_initializing flag\n",
       "    // to determine whether there is an ongoing attempt to initialize\n",
       "    // bokeh, however for backward compatibility we also try to ensure\n",
       "    // that we do not start loading a newer (Panel>=1.0 and Bokeh>3) version\n",
       "    // before older versions are fully initialized.\n",
       "    if (root._bokeh_is_initializing && Date.now() > root._bokeh_timeout) {\n",
       "      root._bokeh_is_initializing = false;\n",
       "      root._bokeh_onload_callbacks = undefined;\n",
       "      console.log(\"Bokeh: BokehJS was loaded multiple times but one version failed to initialize.\");\n",
       "      load_or_wait();\n",
       "    } else if (root._bokeh_is_initializing || (typeof root._bokeh_is_initializing === \"undefined\" && root._bokeh_onload_callbacks !== undefined)) {\n",
       "      setTimeout(load_or_wait, 100);\n",
       "    } else {\n",
       "      root._bokeh_is_initializing = true\n",
       "      root._bokeh_onload_callbacks = []\n",
       "      var bokeh_loaded = Bokeh != null && (Bokeh.version === py_version || (Bokeh.versions !== undefined && Bokeh.versions.has(py_version)));\n",
       "      if (!reloading && !bokeh_loaded) {\n",
       "\troot.Bokeh = undefined;\n",
       "      }\n",
       "      load_libs(css_urls, js_urls, js_modules, js_exports, function() {\n",
       "\tconsole.debug(\"Bokeh: BokehJS plotting callback run at\", now());\n",
       "\trun_inline_js();\n",
       "      });\n",
       "    }\n",
       "  }\n",
       "  // Give older versions of the autoload script a head-start to ensure\n",
       "  // they initialize before we start loading newer version.\n",
       "  setTimeout(load_or_wait, 100)\n",
       "}(window));"
      ],
      "application/vnd.holoviews_load.v0+json": "(function(root) {\n  function now() {\n    return new Date();\n  }\n\n  var force = true;\n  var py_version = '3.4.3'.replace('rc', '-rc.').replace('.dev', '-dev.');\n  var reloading = true;\n  var Bokeh = root.Bokeh;\n\n  if (typeof (root._bokeh_timeout) === \"undefined\" || force) {\n    root._bokeh_timeout = Date.now() + 5000;\n    root._bokeh_failed_load = false;\n  }\n\n  function run_callbacks() {\n    try {\n      root._bokeh_onload_callbacks.forEach(function(callback) {\n        if (callback != null)\n          callback();\n      });\n    } finally {\n      delete root._bokeh_onload_callbacks;\n    }\n    console.debug(\"Bokeh: all callbacks have finished\");\n  }\n\n  function load_libs(css_urls, js_urls, js_modules, js_exports, callback) {\n    if (css_urls == null) css_urls = [];\n    if (js_urls == null) js_urls = [];\n    if (js_modules == null) js_modules = [];\n    if (js_exports == null) js_exports = {};\n\n    root._bokeh_onload_callbacks.push(callback);\n\n    if (root._bokeh_is_loading > 0) {\n      console.debug(\"Bokeh: BokehJS is being loaded, scheduling callback at\", now());\n      return null;\n    }\n    if (js_urls.length === 0 && js_modules.length === 0 && Object.keys(js_exports).length === 0) {\n      run_callbacks();\n      return null;\n    }\n    if (!reloading) {\n      console.debug(\"Bokeh: BokehJS not loaded, scheduling load and callback at\", now());\n    }\n\n    function on_load() {\n      root._bokeh_is_loading--;\n      if (root._bokeh_is_loading === 0) {\n        console.debug(\"Bokeh: all BokehJS libraries/stylesheets loaded\");\n        run_callbacks()\n      }\n    }\n    window._bokeh_on_load = on_load\n\n    function on_error() {\n      console.error(\"failed to load \" + url);\n    }\n\n    var skip = [];\n    if (window.requirejs) {\n      window.requirejs.config({'packages': {}, 'paths': {}, 'shim': {}});\n      root._bokeh_is_loading = css_urls.length + 0;\n    } else {\n      root._bokeh_is_loading = css_urls.length + js_urls.length + js_modules.length + Object.keys(js_exports).length;\n    }\n\n    var existing_stylesheets = []\n    var links = document.getElementsByTagName('link')\n    for (var i = 0; i < links.length; i++) {\n      var link = links[i]\n      if (link.href != null) {\n\texisting_stylesheets.push(link.href)\n      }\n    }\n    for (var i = 0; i < css_urls.length; i++) {\n      var url = css_urls[i];\n      if (existing_stylesheets.indexOf(url) !== -1) {\n\ton_load()\n\tcontinue;\n      }\n      const element = document.createElement(\"link\");\n      element.onload = on_load;\n      element.onerror = on_error;\n      element.rel = \"stylesheet\";\n      element.type = \"text/css\";\n      element.href = url;\n      console.debug(\"Bokeh: injecting link tag for BokehJS stylesheet: \", url);\n      document.body.appendChild(element);\n    }    var existing_scripts = []\n    var scripts = document.getElementsByTagName('script')\n    for (var i = 0; i < scripts.length; i++) {\n      var script = scripts[i]\n      if (script.src != null) {\n\texisting_scripts.push(script.src)\n      }\n    }\n    for (var i = 0; i < js_urls.length; i++) {\n      var url = js_urls[i];\n      if (skip.indexOf(url) !== -1 || existing_scripts.indexOf(url) !== -1) {\n\tif (!window.requirejs) {\n\t  on_load();\n\t}\n\tcontinue;\n      }\n      var element = document.createElement('script');\n      element.onload = on_load;\n      element.onerror = on_error;\n      element.async = false;\n      element.src = url;\n      console.debug(\"Bokeh: injecting script tag for BokehJS library: \", url);\n      document.head.appendChild(element);\n    }\n    for (var i = 0; i < js_modules.length; i++) {\n      var url = js_modules[i];\n      if (skip.indexOf(url) !== -1 || existing_scripts.indexOf(url) !== -1) {\n\tif (!window.requirejs) {\n\t  on_load();\n\t}\n\tcontinue;\n      }\n      var element = document.createElement('script');\n      element.onload = on_load;\n      element.onerror = on_error;\n      element.async = false;\n      element.src = url;\n      element.type = \"module\";\n      console.debug(\"Bokeh: injecting script tag for BokehJS library: \", url);\n      document.head.appendChild(element);\n    }\n    for (const name in js_exports) {\n      var url = js_exports[name];\n      if (skip.indexOf(url) >= 0 || root[name] != null) {\n\tif (!window.requirejs) {\n\t  on_load();\n\t}\n\tcontinue;\n      }\n      var element = document.createElement('script');\n      element.onerror = on_error;\n      element.async = false;\n      element.type = \"module\";\n      console.debug(\"Bokeh: injecting script tag for BokehJS library: \", url);\n      element.textContent = `\n      import ${name} from \"${url}\"\n      window.${name} = ${name}\n      window._bokeh_on_load()\n      `\n      document.head.appendChild(element);\n    }\n    if (!js_urls.length && !js_modules.length) {\n      on_load()\n    }\n  };\n\n  function inject_raw_css(css) {\n    const element = document.createElement(\"style\");\n    element.appendChild(document.createTextNode(css));\n    document.body.appendChild(element);\n  }\n\n  var js_urls = [];\n  var js_modules = [];\n  var js_exports = {};\n  var css_urls = [];\n  var inline_js = [    function(Bokeh) {\n      Bokeh.set_log_level(\"info\");\n    },\nfunction(Bokeh) {} // ensure no trailing comma for IE\n  ];\n\n  function run_inline_js() {\n    if ((root.Bokeh !== undefined) || (force === true)) {\n      for (var i = 0; i < inline_js.length; i++) {\n\ttry {\n          inline_js[i].call(root, root.Bokeh);\n\t} catch(e) {\n\t  if (!reloading) {\n\t    throw e;\n\t  }\n\t}\n      }\n      // Cache old bokeh versions\n      if (Bokeh != undefined && !reloading) {\n\tvar NewBokeh = root.Bokeh;\n\tif (Bokeh.versions === undefined) {\n\t  Bokeh.versions = new Map();\n\t}\n\tif (NewBokeh.version !== Bokeh.version) {\n\t  Bokeh.versions.set(NewBokeh.version, NewBokeh)\n\t}\n\troot.Bokeh = Bokeh;\n      }} else if (Date.now() < root._bokeh_timeout) {\n      setTimeout(run_inline_js, 100);\n    } else if (!root._bokeh_failed_load) {\n      console.log(\"Bokeh: BokehJS failed to load within specified timeout.\");\n      root._bokeh_failed_load = true;\n    }\n    root._bokeh_is_initializing = false\n  }\n\n  function load_or_wait() {\n    // Implement a backoff loop that tries to ensure we do not load multiple\n    // versions of Bokeh and its dependencies at the same time.\n    // In recent versions we use the root._bokeh_is_initializing flag\n    // to determine whether there is an ongoing attempt to initialize\n    // bokeh, however for backward compatibility we also try to ensure\n    // that we do not start loading a newer (Panel>=1.0 and Bokeh>3) version\n    // before older versions are fully initialized.\n    if (root._bokeh_is_initializing && Date.now() > root._bokeh_timeout) {\n      root._bokeh_is_initializing = false;\n      root._bokeh_onload_callbacks = undefined;\n      console.log(\"Bokeh: BokehJS was loaded multiple times but one version failed to initialize.\");\n      load_or_wait();\n    } else if (root._bokeh_is_initializing || (typeof root._bokeh_is_initializing === \"undefined\" && root._bokeh_onload_callbacks !== undefined)) {\n      setTimeout(load_or_wait, 100);\n    } else {\n      root._bokeh_is_initializing = true\n      root._bokeh_onload_callbacks = []\n      var bokeh_loaded = Bokeh != null && (Bokeh.version === py_version || (Bokeh.versions !== undefined && Bokeh.versions.has(py_version)));\n      if (!reloading && !bokeh_loaded) {\n\troot.Bokeh = undefined;\n      }\n      load_libs(css_urls, js_urls, js_modules, js_exports, function() {\n\tconsole.debug(\"Bokeh: BokehJS plotting callback run at\", now());\n\trun_inline_js();\n      });\n    }\n  }\n  // Give older versions of the autoload script a head-start to ensure\n  // they initialize before we start loading newer version.\n  setTimeout(load_or_wait, 100)\n}(window));"
     },
     "metadata": {},
     "output_type": "display_data"
    },
    {
     "data": {
      "application/javascript": [
       "\n",
       "if ((window.PyViz === undefined) || (window.PyViz instanceof HTMLElement)) {\n",
       "  window.PyViz = {comms: {}, comm_status:{}, kernels:{}, receivers: {}, plot_index: []}\n",
       "}\n",
       "\n",
       "\n",
       "    function JupyterCommManager() {\n",
       "    }\n",
       "\n",
       "    JupyterCommManager.prototype.register_target = function(plot_id, comm_id, msg_handler) {\n",
       "      if (window.comm_manager || ((window.Jupyter !== undefined) && (Jupyter.notebook.kernel != null))) {\n",
       "        var comm_manager = window.comm_manager || Jupyter.notebook.kernel.comm_manager;\n",
       "        comm_manager.register_target(comm_id, function(comm) {\n",
       "          comm.on_msg(msg_handler);\n",
       "        });\n",
       "      } else if ((plot_id in window.PyViz.kernels) && (window.PyViz.kernels[plot_id])) {\n",
       "        window.PyViz.kernels[plot_id].registerCommTarget(comm_id, function(comm) {\n",
       "          comm.onMsg = msg_handler;\n",
       "        });\n",
       "      } else if (typeof google != 'undefined' && google.colab.kernel != null) {\n",
       "        google.colab.kernel.comms.registerTarget(comm_id, (comm) => {\n",
       "          var messages = comm.messages[Symbol.asyncIterator]();\n",
       "          function processIteratorResult(result) {\n",
       "            var message = result.value;\n",
       "            console.log(message)\n",
       "            var content = {data: message.data, comm_id};\n",
       "            var buffers = []\n",
       "            for (var buffer of message.buffers || []) {\n",
       "              buffers.push(new DataView(buffer))\n",
       "            }\n",
       "            var metadata = message.metadata || {};\n",
       "            var msg = {content, buffers, metadata}\n",
       "            msg_handler(msg);\n",
       "            return messages.next().then(processIteratorResult);\n",
       "          }\n",
       "          return messages.next().then(processIteratorResult);\n",
       "        })\n",
       "      }\n",
       "    }\n",
       "\n",
       "    JupyterCommManager.prototype.get_client_comm = function(plot_id, comm_id, msg_handler) {\n",
       "      if (comm_id in window.PyViz.comms) {\n",
       "        return window.PyViz.comms[comm_id];\n",
       "      } else if (window.comm_manager || ((window.Jupyter !== undefined) && (Jupyter.notebook.kernel != null))) {\n",
       "        var comm_manager = window.comm_manager || Jupyter.notebook.kernel.comm_manager;\n",
       "        var comm = comm_manager.new_comm(comm_id, {}, {}, {}, comm_id);\n",
       "        if (msg_handler) {\n",
       "          comm.on_msg(msg_handler);\n",
       "        }\n",
       "      } else if ((plot_id in window.PyViz.kernels) && (window.PyViz.kernels[plot_id])) {\n",
       "        var comm = window.PyViz.kernels[plot_id].connectToComm(comm_id);\n",
       "        comm.open();\n",
       "        if (msg_handler) {\n",
       "          comm.onMsg = msg_handler;\n",
       "        }\n",
       "      } else if (typeof google != 'undefined' && google.colab.kernel != null) {\n",
       "        var comm_promise = google.colab.kernel.comms.open(comm_id)\n",
       "        comm_promise.then((comm) => {\n",
       "          window.PyViz.comms[comm_id] = comm;\n",
       "          if (msg_handler) {\n",
       "            var messages = comm.messages[Symbol.asyncIterator]();\n",
       "            function processIteratorResult(result) {\n",
       "              var message = result.value;\n",
       "              var content = {data: message.data};\n",
       "              var metadata = message.metadata || {comm_id};\n",
       "              var msg = {content, metadata}\n",
       "              msg_handler(msg);\n",
       "              return messages.next().then(processIteratorResult);\n",
       "            }\n",
       "            return messages.next().then(processIteratorResult);\n",
       "          }\n",
       "        }) \n",
       "        var sendClosure = (data, metadata, buffers, disposeOnDone) => {\n",
       "          return comm_promise.then((comm) => {\n",
       "            comm.send(data, metadata, buffers, disposeOnDone);\n",
       "          });\n",
       "        };\n",
       "        var comm = {\n",
       "          send: sendClosure\n",
       "        };\n",
       "      }\n",
       "      window.PyViz.comms[comm_id] = comm;\n",
       "      return comm;\n",
       "    }\n",
       "    window.PyViz.comm_manager = new JupyterCommManager();\n",
       "    \n",
       "\n",
       "\n",
       "var JS_MIME_TYPE = 'application/javascript';\n",
       "var HTML_MIME_TYPE = 'text/html';\n",
       "var EXEC_MIME_TYPE = 'application/vnd.holoviews_exec.v0+json';\n",
       "var CLASS_NAME = 'output';\n",
       "\n",
       "/**\n",
       " * Render data to the DOM node\n",
       " */\n",
       "function render(props, node) {\n",
       "  var div = document.createElement(\"div\");\n",
       "  var script = document.createElement(\"script\");\n",
       "  node.appendChild(div);\n",
       "  node.appendChild(script);\n",
       "}\n",
       "\n",
       "/**\n",
       " * Handle when a new output is added\n",
       " */\n",
       "function handle_add_output(event, handle) {\n",
       "  var output_area = handle.output_area;\n",
       "  var output = handle.output;\n",
       "  if ((output.data == undefined) || (!output.data.hasOwnProperty(EXEC_MIME_TYPE))) {\n",
       "    return\n",
       "  }\n",
       "  var id = output.metadata[EXEC_MIME_TYPE][\"id\"];\n",
       "  var toinsert = output_area.element.find(\".\" + CLASS_NAME.split(' ')[0]);\n",
       "  if (id !== undefined) {\n",
       "    var nchildren = toinsert.length;\n",
       "    var html_node = toinsert[nchildren-1].children[0];\n",
       "    html_node.innerHTML = output.data[HTML_MIME_TYPE];\n",
       "    var scripts = [];\n",
       "    var nodelist = html_node.querySelectorAll(\"script\");\n",
       "    for (var i in nodelist) {\n",
       "      if (nodelist.hasOwnProperty(i)) {\n",
       "        scripts.push(nodelist[i])\n",
       "      }\n",
       "    }\n",
       "\n",
       "    scripts.forEach( function (oldScript) {\n",
       "      var newScript = document.createElement(\"script\");\n",
       "      var attrs = [];\n",
       "      var nodemap = oldScript.attributes;\n",
       "      for (var j in nodemap) {\n",
       "        if (nodemap.hasOwnProperty(j)) {\n",
       "          attrs.push(nodemap[j])\n",
       "        }\n",
       "      }\n",
       "      attrs.forEach(function(attr) { newScript.setAttribute(attr.name, attr.value) });\n",
       "      newScript.appendChild(document.createTextNode(oldScript.innerHTML));\n",
       "      oldScript.parentNode.replaceChild(newScript, oldScript);\n",
       "    });\n",
       "    if (JS_MIME_TYPE in output.data) {\n",
       "      toinsert[nchildren-1].children[1].textContent = output.data[JS_MIME_TYPE];\n",
       "    }\n",
       "    output_area._hv_plot_id = id;\n",
       "    if ((window.Bokeh !== undefined) && (id in Bokeh.index)) {\n",
       "      window.PyViz.plot_index[id] = Bokeh.index[id];\n",
       "    } else {\n",
       "      window.PyViz.plot_index[id] = null;\n",
       "    }\n",
       "  } else if (output.metadata[EXEC_MIME_TYPE][\"server_id\"] !== undefined) {\n",
       "    var bk_div = document.createElement(\"div\");\n",
       "    bk_div.innerHTML = output.data[HTML_MIME_TYPE];\n",
       "    var script_attrs = bk_div.children[0].attributes;\n",
       "    for (var i = 0; i < script_attrs.length; i++) {\n",
       "      toinsert[toinsert.length - 1].childNodes[1].setAttribute(script_attrs[i].name, script_attrs[i].value);\n",
       "    }\n",
       "    // store reference to server id on output_area\n",
       "    output_area._bokeh_server_id = output.metadata[EXEC_MIME_TYPE][\"server_id\"];\n",
       "  }\n",
       "}\n",
       "\n",
       "/**\n",
       " * Handle when an output is cleared or removed\n",
       " */\n",
       "function handle_clear_output(event, handle) {\n",
       "  var id = handle.cell.output_area._hv_plot_id;\n",
       "  var server_id = handle.cell.output_area._bokeh_server_id;\n",
       "  if (((id === undefined) || !(id in PyViz.plot_index)) && (server_id !== undefined)) { return; }\n",
       "  var comm = window.PyViz.comm_manager.get_client_comm(\"hv-extension-comm\", \"hv-extension-comm\", function () {});\n",
       "  if (server_id !== null) {\n",
       "    comm.send({event_type: 'server_delete', 'id': server_id});\n",
       "    return;\n",
       "  } else if (comm !== null) {\n",
       "    comm.send({event_type: 'delete', 'id': id});\n",
       "  }\n",
       "  delete PyViz.plot_index[id];\n",
       "  if ((window.Bokeh !== undefined) & (id in window.Bokeh.index)) {\n",
       "    var doc = window.Bokeh.index[id].model.document\n",
       "    doc.clear();\n",
       "    const i = window.Bokeh.documents.indexOf(doc);\n",
       "    if (i > -1) {\n",
       "      window.Bokeh.documents.splice(i, 1);\n",
       "    }\n",
       "  }\n",
       "}\n",
       "\n",
       "/**\n",
       " * Handle kernel restart event\n",
       " */\n",
       "function handle_kernel_cleanup(event, handle) {\n",
       "  delete PyViz.comms[\"hv-extension-comm\"];\n",
       "  window.PyViz.plot_index = {}\n",
       "}\n",
       "\n",
       "/**\n",
       " * Handle update_display_data messages\n",
       " */\n",
       "function handle_update_output(event, handle) {\n",
       "  handle_clear_output(event, {cell: {output_area: handle.output_area}})\n",
       "  handle_add_output(event, handle)\n",
       "}\n",
       "\n",
       "function register_renderer(events, OutputArea) {\n",
       "  function append_mime(data, metadata, element) {\n",
       "    // create a DOM node to render to\n",
       "    var toinsert = this.create_output_subarea(\n",
       "    metadata,\n",
       "    CLASS_NAME,\n",
       "    EXEC_MIME_TYPE\n",
       "    );\n",
       "    this.keyboard_manager.register_events(toinsert);\n",
       "    // Render to node\n",
       "    var props = {data: data, metadata: metadata[EXEC_MIME_TYPE]};\n",
       "    render(props, toinsert[0]);\n",
       "    element.append(toinsert);\n",
       "    return toinsert\n",
       "  }\n",
       "\n",
       "  events.on('output_added.OutputArea', handle_add_output);\n",
       "  events.on('output_updated.OutputArea', handle_update_output);\n",
       "  events.on('clear_output.CodeCell', handle_clear_output);\n",
       "  events.on('delete.Cell', handle_clear_output);\n",
       "  events.on('kernel_ready.Kernel', handle_kernel_cleanup);\n",
       "\n",
       "  OutputArea.prototype.register_mime_type(EXEC_MIME_TYPE, append_mime, {\n",
       "    safe: true,\n",
       "    index: 0\n",
       "  });\n",
       "}\n",
       "\n",
       "if (window.Jupyter !== undefined) {\n",
       "  try {\n",
       "    var events = require('base/js/events');\n",
       "    var OutputArea = require('notebook/js/outputarea').OutputArea;\n",
       "    if (OutputArea.prototype.mime_types().indexOf(EXEC_MIME_TYPE) == -1) {\n",
       "      register_renderer(events, OutputArea);\n",
       "    }\n",
       "  } catch(err) {\n",
       "  }\n",
       "}\n"
      ],
      "application/vnd.holoviews_load.v0+json": "\nif ((window.PyViz === undefined) || (window.PyViz instanceof HTMLElement)) {\n  window.PyViz = {comms: {}, comm_status:{}, kernels:{}, receivers: {}, plot_index: []}\n}\n\n\n    function JupyterCommManager() {\n    }\n\n    JupyterCommManager.prototype.register_target = function(plot_id, comm_id, msg_handler) {\n      if (window.comm_manager || ((window.Jupyter !== undefined) && (Jupyter.notebook.kernel != null))) {\n        var comm_manager = window.comm_manager || Jupyter.notebook.kernel.comm_manager;\n        comm_manager.register_target(comm_id, function(comm) {\n          comm.on_msg(msg_handler);\n        });\n      } else if ((plot_id in window.PyViz.kernels) && (window.PyViz.kernels[plot_id])) {\n        window.PyViz.kernels[plot_id].registerCommTarget(comm_id, function(comm) {\n          comm.onMsg = msg_handler;\n        });\n      } else if (typeof google != 'undefined' && google.colab.kernel != null) {\n        google.colab.kernel.comms.registerTarget(comm_id, (comm) => {\n          var messages = comm.messages[Symbol.asyncIterator]();\n          function processIteratorResult(result) {\n            var message = result.value;\n            console.log(message)\n            var content = {data: message.data, comm_id};\n            var buffers = []\n            for (var buffer of message.buffers || []) {\n              buffers.push(new DataView(buffer))\n            }\n            var metadata = message.metadata || {};\n            var msg = {content, buffers, metadata}\n            msg_handler(msg);\n            return messages.next().then(processIteratorResult);\n          }\n          return messages.next().then(processIteratorResult);\n        })\n      }\n    }\n\n    JupyterCommManager.prototype.get_client_comm = function(plot_id, comm_id, msg_handler) {\n      if (comm_id in window.PyViz.comms) {\n        return window.PyViz.comms[comm_id];\n      } else if (window.comm_manager || ((window.Jupyter !== undefined) && (Jupyter.notebook.kernel != null))) {\n        var comm_manager = window.comm_manager || Jupyter.notebook.kernel.comm_manager;\n        var comm = comm_manager.new_comm(comm_id, {}, {}, {}, comm_id);\n        if (msg_handler) {\n          comm.on_msg(msg_handler);\n        }\n      } else if ((plot_id in window.PyViz.kernels) && (window.PyViz.kernels[plot_id])) {\n        var comm = window.PyViz.kernels[plot_id].connectToComm(comm_id);\n        comm.open();\n        if (msg_handler) {\n          comm.onMsg = msg_handler;\n        }\n      } else if (typeof google != 'undefined' && google.colab.kernel != null) {\n        var comm_promise = google.colab.kernel.comms.open(comm_id)\n        comm_promise.then((comm) => {\n          window.PyViz.comms[comm_id] = comm;\n          if (msg_handler) {\n            var messages = comm.messages[Symbol.asyncIterator]();\n            function processIteratorResult(result) {\n              var message = result.value;\n              var content = {data: message.data};\n              var metadata = message.metadata || {comm_id};\n              var msg = {content, metadata}\n              msg_handler(msg);\n              return messages.next().then(processIteratorResult);\n            }\n            return messages.next().then(processIteratorResult);\n          }\n        }) \n        var sendClosure = (data, metadata, buffers, disposeOnDone) => {\n          return comm_promise.then((comm) => {\n            comm.send(data, metadata, buffers, disposeOnDone);\n          });\n        };\n        var comm = {\n          send: sendClosure\n        };\n      }\n      window.PyViz.comms[comm_id] = comm;\n      return comm;\n    }\n    window.PyViz.comm_manager = new JupyterCommManager();\n    \n\n\nvar JS_MIME_TYPE = 'application/javascript';\nvar HTML_MIME_TYPE = 'text/html';\nvar EXEC_MIME_TYPE = 'application/vnd.holoviews_exec.v0+json';\nvar CLASS_NAME = 'output';\n\n/**\n * Render data to the DOM node\n */\nfunction render(props, node) {\n  var div = document.createElement(\"div\");\n  var script = document.createElement(\"script\");\n  node.appendChild(div);\n  node.appendChild(script);\n}\n\n/**\n * Handle when a new output is added\n */\nfunction handle_add_output(event, handle) {\n  var output_area = handle.output_area;\n  var output = handle.output;\n  if ((output.data == undefined) || (!output.data.hasOwnProperty(EXEC_MIME_TYPE))) {\n    return\n  }\n  var id = output.metadata[EXEC_MIME_TYPE][\"id\"];\n  var toinsert = output_area.element.find(\".\" + CLASS_NAME.split(' ')[0]);\n  if (id !== undefined) {\n    var nchildren = toinsert.length;\n    var html_node = toinsert[nchildren-1].children[0];\n    html_node.innerHTML = output.data[HTML_MIME_TYPE];\n    var scripts = [];\n    var nodelist = html_node.querySelectorAll(\"script\");\n    for (var i in nodelist) {\n      if (nodelist.hasOwnProperty(i)) {\n        scripts.push(nodelist[i])\n      }\n    }\n\n    scripts.forEach( function (oldScript) {\n      var newScript = document.createElement(\"script\");\n      var attrs = [];\n      var nodemap = oldScript.attributes;\n      for (var j in nodemap) {\n        if (nodemap.hasOwnProperty(j)) {\n          attrs.push(nodemap[j])\n        }\n      }\n      attrs.forEach(function(attr) { newScript.setAttribute(attr.name, attr.value) });\n      newScript.appendChild(document.createTextNode(oldScript.innerHTML));\n      oldScript.parentNode.replaceChild(newScript, oldScript);\n    });\n    if (JS_MIME_TYPE in output.data) {\n      toinsert[nchildren-1].children[1].textContent = output.data[JS_MIME_TYPE];\n    }\n    output_area._hv_plot_id = id;\n    if ((window.Bokeh !== undefined) && (id in Bokeh.index)) {\n      window.PyViz.plot_index[id] = Bokeh.index[id];\n    } else {\n      window.PyViz.plot_index[id] = null;\n    }\n  } else if (output.metadata[EXEC_MIME_TYPE][\"server_id\"] !== undefined) {\n    var bk_div = document.createElement(\"div\");\n    bk_div.innerHTML = output.data[HTML_MIME_TYPE];\n    var script_attrs = bk_div.children[0].attributes;\n    for (var i = 0; i < script_attrs.length; i++) {\n      toinsert[toinsert.length - 1].childNodes[1].setAttribute(script_attrs[i].name, script_attrs[i].value);\n    }\n    // store reference to server id on output_area\n    output_area._bokeh_server_id = output.metadata[EXEC_MIME_TYPE][\"server_id\"];\n  }\n}\n\n/**\n * Handle when an output is cleared or removed\n */\nfunction handle_clear_output(event, handle) {\n  var id = handle.cell.output_area._hv_plot_id;\n  var server_id = handle.cell.output_area._bokeh_server_id;\n  if (((id === undefined) || !(id in PyViz.plot_index)) && (server_id !== undefined)) { return; }\n  var comm = window.PyViz.comm_manager.get_client_comm(\"hv-extension-comm\", \"hv-extension-comm\", function () {});\n  if (server_id !== null) {\n    comm.send({event_type: 'server_delete', 'id': server_id});\n    return;\n  } else if (comm !== null) {\n    comm.send({event_type: 'delete', 'id': id});\n  }\n  delete PyViz.plot_index[id];\n  if ((window.Bokeh !== undefined) & (id in window.Bokeh.index)) {\n    var doc = window.Bokeh.index[id].model.document\n    doc.clear();\n    const i = window.Bokeh.documents.indexOf(doc);\n    if (i > -1) {\n      window.Bokeh.documents.splice(i, 1);\n    }\n  }\n}\n\n/**\n * Handle kernel restart event\n */\nfunction handle_kernel_cleanup(event, handle) {\n  delete PyViz.comms[\"hv-extension-comm\"];\n  window.PyViz.plot_index = {}\n}\n\n/**\n * Handle update_display_data messages\n */\nfunction handle_update_output(event, handle) {\n  handle_clear_output(event, {cell: {output_area: handle.output_area}})\n  handle_add_output(event, handle)\n}\n\nfunction register_renderer(events, OutputArea) {\n  function append_mime(data, metadata, element) {\n    // create a DOM node to render to\n    var toinsert = this.create_output_subarea(\n    metadata,\n    CLASS_NAME,\n    EXEC_MIME_TYPE\n    );\n    this.keyboard_manager.register_events(toinsert);\n    // Render to node\n    var props = {data: data, metadata: metadata[EXEC_MIME_TYPE]};\n    render(props, toinsert[0]);\n    element.append(toinsert);\n    return toinsert\n  }\n\n  events.on('output_added.OutputArea', handle_add_output);\n  events.on('output_updated.OutputArea', handle_update_output);\n  events.on('clear_output.CodeCell', handle_clear_output);\n  events.on('delete.Cell', handle_clear_output);\n  events.on('kernel_ready.Kernel', handle_kernel_cleanup);\n\n  OutputArea.prototype.register_mime_type(EXEC_MIME_TYPE, append_mime, {\n    safe: true,\n    index: 0\n  });\n}\n\nif (window.Jupyter !== undefined) {\n  try {\n    var events = require('base/js/events');\n    var OutputArea = require('notebook/js/outputarea').OutputArea;\n    if (OutputArea.prototype.mime_types().indexOf(EXEC_MIME_TYPE) == -1) {\n      register_renderer(events, OutputArea);\n    }\n  } catch(err) {\n  }\n}\n"
     },
     "metadata": {},
     "output_type": "display_data"
    },
    {
     "data": {
      "text/html": [
       "<style>*[data-root-id],\n",
       "*[data-root-id] > * {\n",
       "  box-sizing: border-box;\n",
       "  font-family: var(--jp-ui-font-family);\n",
       "  font-size: var(--jp-ui-font-size1);\n",
       "  color: var(--vscode-editor-foreground, var(--jp-ui-font-color1));\n",
       "}\n",
       "\n",
       "/* Override VSCode background color */\n",
       ".cell-output-ipywidget-background:has(\n",
       "    > .cell-output-ipywidget-background > .lm-Widget > *[data-root-id]\n",
       "  ),\n",
       ".cell-output-ipywidget-background:has(> .lm-Widget > *[data-root-id]) {\n",
       "  background-color: transparent !important;\n",
       "}\n",
       "</style>"
      ]
     },
     "metadata": {},
     "output_type": "display_data"
    },
    {
     "name": "stdout",
     "output_type": "stream",
     "text": [
      "True\n",
      "--------Version info---------\n",
      "Polars:              1.9.0\n",
      "Index type:          UInt32\n",
      "Platform:            macOS-12.7.6-x86_64-i386-64bit\n",
      "Python:              3.11.5 (main, Jan 16 2024, 17:25:53) [Clang 14.0.0 (clang-1400.0.29.202)]\n",
      "\n",
      "----Optional dependencies----\n",
      "adbc_driver_manager  1.1.0\n",
      "altair               5.4.0\n",
      "cloudpickle          3.0.0\n",
      "connectorx           0.3.3\n",
      "deltalake            0.19.1\n",
      "fastexcel            0.11.6\n",
      "fsspec               2023.12.2\n",
      "gevent               24.2.1\n",
      "great_tables         0.10.0\n",
      "matplotlib           3.9.2\n",
      "nest_asyncio         1.6.0\n",
      "numpy                2.0.2\n",
      "openpyxl             3.1.5\n",
      "pandas               2.2.2\n",
      "pyarrow              17.0.0\n",
      "pydantic             2.8.2\n",
      "pyiceberg            0.6.1\n",
      "sqlalchemy           2.0.32\n",
      "torch                <not installed>\n",
      "xlsx2csv             0.8.3\n",
      "xlsxwriter           3.2.0\n"
     ]
    }
   ],
   "source": [
    "import polars as pl\n",
    "import pandas as pd\n",
    "import matplotlib.pyplot as plt\n",
    "import matplotlib_inline.backend_inline\n",
    "import chardet\n",
    "import pprint as pp\n",
    "import hvplot.polars\n",
    "hvplot.extension('matplotlib')\n",
    "\n",
    "matplotlib_inline.backend_inline.set_matplotlib_formats(\"retina\")\n",
    "pd.options.mode.copy_on_write = True\n",
    "print(pd.options.mode.copy_on_write)\n",
    "pl.Config.set_verbose(True)\n",
    "pl.show_versions()\n",
    "\n",
    "def HR():\n",
    "    print(\"-\"*40)\n",
    "\n",
    "@pl.Config(tbl_cols=-1, ascii_tables=True)\n",
    "def tight_layout(df: pl.DataFrame, n=5) -> None:\n",
    "    with pl.Config(tbl_cols=-1, fmt_str_lengths=n):\n",
    "        print(df)\n",
    "\n",
    "def detect_encoding(filename: str) -> str:\n",
    "    \"\"\"Return the most probable character encoding for a file.\"\"\"\n",
    "    with open(filename, \"rb\") as f:\n",
    "        raw_data = f.read()\n",
    "        print(raw_data)\n",
    "        result = chardet.detect(raw_data)\n",
    "        return result[\"encoding\"]"
   ]
  },
  {
   "cell_type": "markdown",
   "id": "1a9e884c-1810-4e17-aa58-eff20a32b931",
   "metadata": {},
   "source": [
    "---\n",
    "# 2.1 Introduction\n",
    "[back to Top](#Top)\n",
    "\n",
    "Goals:\n",
    "\n",
    "* Manage and analyze data effectively\n",
    "* Adding, removing, renaming columns\n",
    "* Joining, concatenating, appending data\n",
    "* Extract insights from data\n",
    "* Handle a wide range of data manipulation tasks with Polars"
   ]
  },
  {
   "cell_type": "markdown",
   "id": "989317e1-bb84-4e53-9352-1ff720937df0",
   "metadata": {},
   "source": [
    "---\n",
    "# 2.2 Getting the Data\n",
    "\n",
    "[back to Top](#Top)"
   ]
  },
  {
   "cell_type": "code",
   "execution_count": 2,
   "id": "225fae45-dcc1-4565-a3f5-9f1434dc7e46",
   "metadata": {},
   "outputs": [
    {
     "name": "stdout",
     "output_type": "stream",
     "text": [
      "(48202, 84)\n",
      "29.34MB\n"
     ]
    },
    {
     "name": "stderr",
     "output_type": "stream",
     "text": [
      "avg line length: 434.78027\n",
      "std. dev. line length: 23.885818\n",
      "initial row estimate: 47850\n",
      "no. of chunks: 4 processed by: 4 threads.\n"
     ]
    }
   ],
   "source": [
    "path = 'data/vehicles.csv'\n",
    "raw = pl.read_csv(path, null_values=['NA'])\n",
    "print(raw.shape)\n",
    "print(f\"{raw.estimated_size(unit='mb'):.2f}MB\")"
   ]
  },
  {
   "cell_type": "markdown",
   "id": "278f8a81-76a1-4f74-a6b7-b628ec402233",
   "metadata": {},
   "source": [
    "## 2.2.1 Notes on Categorical data\n",
    "\n",
    "[back to Top](#Top)\n",
    "\n",
    "https://docs.pola.rs/user-guide/concepts/data-types/categoricals/\n",
    "\n",
    "*Enum vs Categorical*\n",
    "\n",
    "Polars supports two different DataTypes for working with categorical data: Enum and Categorical. When the categories are known up front, use Enum. When you don't know the categories or they are not fixed, then use Categorical. In case your requirements change along the way you can always cast from one to the other.\n",
    "\n",
    "\n",
    "\n",
    "*polars.StringCache*\n",
    "\n",
    "Context manager for enabling and disabling the global string cache.\n",
    "\n",
    "Categorical columns created under the same global string cache have the same underlying physical value when string values are equal. This allows the columns to be concatenated or used in a join operation, for example.\n",
    "\n",
    "* https://docs.pola.rs/py-polars/html/reference/api/polars.StringCache.html\n",
    "\n",
    "\n",
    "*CategoricalRemappingWarning*: \n",
    "Local categoricals have different encodings, expensive re-encoding is done to perform this merge operation. Consider using a StringCache or an Enum type if the categories are known in advance"
   ]
  },
  {
   "cell_type": "code",
   "execution_count": 3,
   "id": "500a40d7-1fa9-424d-be07-f2cb1bbcdbe7",
   "metadata": {},
   "outputs": [
    {
     "name": "stdout",
     "output_type": "stream",
     "text": [
      "<class 'polars.dataframe.frame.DataFrame'>\n",
      "(48202, 15)\n",
      "2.94MB\n"
     ]
    }
   ],
   "source": [
    "@pl.StringCache()\n",
    "def tweak_auto(df):\n",
    "    cols = ['year', 'make', 'model', 'displ', 'cylinders', 'trany', \n",
    "           'drive', 'VClass', 'fuelType', 'barrels08', 'city08', \n",
    "           'highway08', 'createdOn']\n",
    "    return (\n",
    "        df\n",
    "        .select(pl.col(cols))\n",
    "        .with_columns( \n",
    "            pl.col('year').cast(pl.Int16),\n",
    "            pl.col(['cylinders', 'highway08', 'city08']).cast(pl.UInt8),\n",
    "            pl.col(['displ', 'barrels08']).cast(pl.Float32),\n",
    "            pl.col(['make', 'model', 'VClass', 'drive', 'fuelType']).cast(pl.Categorical),\n",
    "            pl.col('createdOn').str.to_datetime('%a %b %d %H:%M:%S %Z %Y'),\n",
    "            is_automatic=pl.col('trany')                    \n",
    "               .str.contains('Automatic')\n",
    "               .fill_null('Automatic'),\n",
    "            num_gears=pl.col('trany')\n",
    "                .str.extract(r'(\\d+)')\n",
    "                .cast(pl.UInt8)\n",
    "                .fill_null(6)\n",
    "        )\n",
    "    )\n",
    "\n",
    "autos = tweak_auto(raw)\n",
    "print(type(autos))\n",
    "print(autos.shape)\n",
    "print(f\"{autos.estimated_size(unit='mb'):.2f}MB\")"
   ]
  },
  {
   "cell_type": "code",
   "execution_count": 4,
   "id": "08c7866f-9309-49ec-ae33-d98b147050e5",
   "metadata": {},
   "outputs": [
    {
     "data": {
      "text/html": [
       "<div><style>\n",
       ".dataframe > thead > tr,\n",
       ".dataframe > tbody > tr {\n",
       "  text-align: right;\n",
       "  white-space: pre-wrap;\n",
       "}\n",
       "</style>\n",
       "<small>shape: (1, 15)</small><table border=\"1\" class=\"dataframe\"><thead><tr><th>year</th><th>make</th><th>model</th><th>displ</th><th>cylinders</th><th>trany</th><th>drive</th><th>VClass</th><th>fuelType</th><th>barrels08</th><th>city08</th><th>highway08</th><th>createdOn</th><th>is_automatic</th><th>num_gears</th></tr><tr><td>i16</td><td>cat</td><td>cat</td><td>f32</td><td>u8</td><td>str</td><td>cat</td><td>cat</td><td>cat</td><td>f32</td><td>u8</td><td>u8</td><td>datetime[μs]</td><td>str</td><td>u8</td></tr></thead><tbody><tr><td>1985</td><td>&quot;Alfa Romeo&quot;</td><td>&quot;Spider Veloce 2000&quot;</td><td>2.0</td><td>4</td><td>&quot;Manual 5-spd&quot;</td><td>&quot;Rear-Wheel Drive&quot;</td><td>&quot;Two Seaters&quot;</td><td>&quot;Regular&quot;</td><td>14.167143</td><td>19</td><td>25</td><td>2013-01-01 00:00:00</td><td>&quot;false&quot;</td><td>5</td></tr></tbody></table></div>"
      ],
      "text/plain": [
       "shape: (1, 15)\n",
       "+-----+-----+-----+-----+-----+-----+-----+-----+-----+-----+-----+--------+-------+-------+-------+\n",
       "| yea | mak | mod | dis | cyl | tra | dri | VCl | fue | bar | cit | highwa | creat | is_au | num_g |\n",
       "| r   | e   | el  | pl  | ind | ny  | ve  | ass | lTy | rel | y08 | y08    | edOn  | tomat | ears  |\n",
       "| --- | --- | --- | --- | ers | --- | --- | --- | pe  | s08 | --- | ---    | ---   | ic    | ---   |\n",
       "| i16 | cat | cat | f32 | --- | str | cat | cat | --- | --- | u8  | u8     | datet | ---   | u8    |\n",
       "|     |     |     |     | u8  |     |     |     | cat | f32 |     |        | ime[μ | str   |       |\n",
       "|     |     |     |     |     |     |     |     |     |     |     |        | s]    |       |       |\n",
       "+==================================================================================================+\n",
       "| 198 | Alf | Spi | 2.0 | 4   | Man | Rea | Two | Reg | 14. | 19  | 25     | 2013- | false | 5     |\n",
       "| 5   | a   | der |     |     | ual | r-W | Sea | ula | 167 |     |        | 01-01 |       |       |\n",
       "|     | Rom | Vel |     |     | 5-s | hee | ter | r   | 143 |     |        | 00:00 |       |       |\n",
       "|     | eo  | oce |     |     | pd  | l   | s   |     |     |     |        | :00   |       |       |\n",
       "|     |     | 200 |     |     |     | Dri |     |     |     |     |        |       |       |       |\n",
       "|     |     | 0   |     |     |     | ve  |     |     |     |     |        |       |       |       |\n",
       "+-----+-----+-----+-----+-----+-----+-----+-----+-----+-----+-----+--------+-------+-------+-------+"
      ]
     },
     "execution_count": 4,
     "metadata": {},
     "output_type": "execute_result"
    }
   ],
   "source": [
    "autos.head(1)"
   ]
  },
  {
   "cell_type": "code",
   "execution_count": 5,
   "id": "e7ffaee6-0fb9-4608-a44a-12acf5414ead",
   "metadata": {},
   "outputs": [
    {
     "data": {
      "text/plain": [
       "{'year': {'SORTED_ASC': False, 'SORTED_DESC': False},\n",
       " 'make': {'SORTED_ASC': False, 'SORTED_DESC': False},\n",
       " 'model': {'SORTED_ASC': False, 'SORTED_DESC': False},\n",
       " 'displ': {'SORTED_ASC': False, 'SORTED_DESC': False},\n",
       " 'cylinders': {'SORTED_ASC': False, 'SORTED_DESC': False},\n",
       " 'trany': {'SORTED_ASC': False, 'SORTED_DESC': False},\n",
       " 'drive': {'SORTED_ASC': False, 'SORTED_DESC': False},\n",
       " 'VClass': {'SORTED_ASC': False, 'SORTED_DESC': False},\n",
       " 'fuelType': {'SORTED_ASC': False, 'SORTED_DESC': False},\n",
       " 'barrels08': {'SORTED_ASC': False, 'SORTED_DESC': False},\n",
       " 'city08': {'SORTED_ASC': False, 'SORTED_DESC': False},\n",
       " 'highway08': {'SORTED_ASC': False, 'SORTED_DESC': False},\n",
       " 'createdOn': {'SORTED_ASC': False, 'SORTED_DESC': False},\n",
       " 'is_automatic': {'SORTED_ASC': False, 'SORTED_DESC': False},\n",
       " 'num_gears': {'SORTED_ASC': False, 'SORTED_DESC': False}}"
      ]
     },
     "execution_count": 5,
     "metadata": {},
     "output_type": "execute_result"
    }
   ],
   "source": [
    "autos.flags"
   ]
  },
  {
   "cell_type": "code",
   "execution_count": 6,
   "id": "2c15e871-646d-47cc-9e79-eb2c8d610ae9",
   "metadata": {},
   "outputs": [
    {
     "data": {
      "text/plain": [
       "{'year': False,\n",
       " 'make': False,\n",
       " 'model': False,\n",
       " 'displ': False,\n",
       " 'cylinders': False,\n",
       " 'trany': False,\n",
       " 'drive': False,\n",
       " 'VClass': False,\n",
       " 'fuelType': False,\n",
       " 'barrels08': False,\n",
       " 'city08': False,\n",
       " 'highway08': False,\n",
       " 'createdOn': False,\n",
       " 'is_automatic': False,\n",
       " 'num_gears': False}"
      ]
     },
     "execution_count": 6,
     "metadata": {},
     "output_type": "execute_result"
    }
   ],
   "source": [
    "{col:autos[col].is_sorted() for col in autos.columns}"
   ]
  },
  {
   "cell_type": "markdown",
   "id": "1adc6c11-73d3-44b7-a103-a534409b02db",
   "metadata": {},
   "source": [
    "---\n",
    "# 2.3 Adding Columns\n",
    "[back to Top](#Top)\n",
    "\n",
    "* Cover the basic DataFrame operations for practical data analysis.\n",
    "* Add, remove and rename columns.\n",
    "\n",
    "*Example*\n",
    "* Create a new column for fuel efficiency ratio of each vehicle.\n",
    "* Divide highway MPG by the city MPG"
   ]
  },
  {
   "cell_type": "code",
   "execution_count": 7,
   "id": "30b9e6ca-70b6-4b4c-b7d2-e7710c31cbad",
   "metadata": {},
   "outputs": [
    {
     "data": {
      "text/html": [
       "<div><style>\n",
       ".dataframe > thead > tr,\n",
       ".dataframe > tbody > tr {\n",
       "  text-align: right;\n",
       "  white-space: pre-wrap;\n",
       "}\n",
       "</style>\n",
       "<small>shape: (48_202, 3)</small><table border=\"1\" class=\"dataframe\"><thead><tr><th>highway08</th><th>city08</th><th>mpg_ratio</th></tr><tr><td>u8</td><td>u8</td><td>f64</td></tr></thead><tbody><tr><td>25</td><td>19</td><td>1.315789</td></tr><tr><td>14</td><td>9</td><td>1.555556</td></tr><tr><td>33</td><td>23</td><td>1.434783</td></tr><tr><td>12</td><td>10</td><td>1.2</td></tr><tr><td>23</td><td>17</td><td>1.352941</td></tr><tr><td>&hellip;</td><td>&hellip;</td><td>&hellip;</td></tr><tr><td>26</td><td>19</td><td>1.368421</td></tr><tr><td>28</td><td>20</td><td>1.4</td></tr><tr><td>24</td><td>18</td><td>1.333333</td></tr><tr><td>24</td><td>18</td><td>1.333333</td></tr><tr><td>21</td><td>16</td><td>1.3125</td></tr></tbody></table></div>"
      ],
      "text/plain": [
       "shape: (48_202, 3)\n",
       "+-----------+--------+-----------+\n",
       "| highway08 | city08 | mpg_ratio |\n",
       "| ---       | ---    | ---       |\n",
       "| u8        | u8     | f64       |\n",
       "+================================+\n",
       "| 25        | 19     | 1.315789  |\n",
       "| 14        | 9      | 1.555556  |\n",
       "| 33        | 23     | 1.434783  |\n",
       "| 12        | 10     | 1.2       |\n",
       "| 23        | 17     | 1.352941  |\n",
       "| …         | …      | …         |\n",
       "| 26        | 19     | 1.368421  |\n",
       "| 28        | 20     | 1.4       |\n",
       "| 24        | 18     | 1.333333  |\n",
       "| 24        | 18     | 1.333333  |\n",
       "| 21        | 16     | 1.3125    |\n",
       "+-----------+--------+-----------+"
      ]
     },
     "execution_count": 7,
     "metadata": {},
     "output_type": "execute_result"
    }
   ],
   "source": [
    "# Ratio calculation\n",
    "(\n",
    "    autos\n",
    "    .select(\n",
    "        pl.col(['highway08', 'city08']),\n",
    "        (pl.col('highway08') / pl.col('city08')).alias('mpg_ratio')\n",
    "    )\n",
    ")"
   ]
  },
  {
   "cell_type": "markdown",
   "id": "27827fa4-196c-4fd9-a4ee-f25a9b32eada",
   "metadata": {},
   "source": [
    "Add the *mpg_ratio* column to the dataframe with `.with_columns`.\n",
    "This preserves the existing dataframe columns and adds *mpg_ratio* as a new column at the end."
   ]
  },
  {
   "cell_type": "code",
   "execution_count": 8,
   "id": "60d230b7-fbdc-4aad-af21-8631b4529e0d",
   "metadata": {},
   "outputs": [
    {
     "data": {
      "text/html": [
       "<div><style>\n",
       ".dataframe > thead > tr,\n",
       ".dataframe > tbody > tr {\n",
       "  text-align: right;\n",
       "  white-space: pre-wrap;\n",
       "}\n",
       "</style>\n",
       "<small>shape: (48_202, 16)</small><table border=\"1\" class=\"dataframe\"><thead><tr><th>year</th><th>make</th><th>model</th><th>displ</th><th>cylinders</th><th>trany</th><th>drive</th><th>VClass</th><th>fuelType</th><th>barrels08</th><th>city08</th><th>highway08</th><th>createdOn</th><th>is_automatic</th><th>num_gears</th><th>mpg_ratio</th></tr><tr><td>i16</td><td>cat</td><td>cat</td><td>f32</td><td>u8</td><td>str</td><td>cat</td><td>cat</td><td>cat</td><td>f32</td><td>u8</td><td>u8</td><td>datetime[μs]</td><td>str</td><td>u8</td><td>f64</td></tr></thead><tbody><tr><td>1985</td><td>&quot;Alfa Romeo&quot;</td><td>&quot;Spider Veloce 2000&quot;</td><td>2.0</td><td>4</td><td>&quot;Manual 5-spd&quot;</td><td>&quot;Rear-Wheel Drive&quot;</td><td>&quot;Two Seaters&quot;</td><td>&quot;Regular&quot;</td><td>14.167143</td><td>19</td><td>25</td><td>2013-01-01 00:00:00</td><td>&quot;false&quot;</td><td>5</td><td>1.315789</td></tr><tr><td>1985</td><td>&quot;Ferrari&quot;</td><td>&quot;Testarossa&quot;</td><td>4.9</td><td>12</td><td>&quot;Manual 5-spd&quot;</td><td>&quot;Rear-Wheel Drive&quot;</td><td>&quot;Two Seaters&quot;</td><td>&quot;Regular&quot;</td><td>27.046364</td><td>9</td><td>14</td><td>2013-01-01 00:00:00</td><td>&quot;false&quot;</td><td>5</td><td>1.555556</td></tr><tr><td>1985</td><td>&quot;Dodge&quot;</td><td>&quot;Charger&quot;</td><td>2.2</td><td>4</td><td>&quot;Manual 5-spd&quot;</td><td>&quot;Front-Wheel Drive&quot;</td><td>&quot;Subcompact Cars&quot;</td><td>&quot;Regular&quot;</td><td>11.018888</td><td>23</td><td>33</td><td>2013-01-01 00:00:00</td><td>&quot;false&quot;</td><td>5</td><td>1.434783</td></tr><tr><td>1985</td><td>&quot;Dodge&quot;</td><td>&quot;B150/B250 Wagon 2WD&quot;</td><td>5.2</td><td>8</td><td>&quot;Automatic 3-spd&quot;</td><td>&quot;Rear-Wheel Drive&quot;</td><td>&quot;Vans&quot;</td><td>&quot;Regular&quot;</td><td>27.046364</td><td>10</td><td>12</td><td>2013-01-01 00:00:00</td><td>&quot;true&quot;</td><td>3</td><td>1.2</td></tr><tr><td>1993</td><td>&quot;Subaru&quot;</td><td>&quot;Legacy AWD Turbo&quot;</td><td>2.2</td><td>4</td><td>&quot;Manual 5-spd&quot;</td><td>&quot;4-Wheel or All-Wheel Drive&quot;</td><td>&quot;Compact Cars&quot;</td><td>&quot;Premium&quot;</td><td>15.658422</td><td>17</td><td>23</td><td>2013-01-01 00:00:00</td><td>&quot;false&quot;</td><td>5</td><td>1.352941</td></tr><tr><td>&hellip;</td><td>&hellip;</td><td>&hellip;</td><td>&hellip;</td><td>&hellip;</td><td>&hellip;</td><td>&hellip;</td><td>&hellip;</td><td>&hellip;</td><td>&hellip;</td><td>&hellip;</td><td>&hellip;</td><td>&hellip;</td><td>&hellip;</td><td>&hellip;</td><td>&hellip;</td></tr><tr><td>1993</td><td>&quot;Subaru&quot;</td><td>&quot;Legacy&quot;</td><td>2.2</td><td>4</td><td>&quot;Automatic 4-spd&quot;</td><td>&quot;Front-Wheel Drive&quot;</td><td>&quot;Compact Cars&quot;</td><td>&quot;Regular&quot;</td><td>13.523182</td><td>19</td><td>26</td><td>2013-01-01 00:00:00</td><td>&quot;true&quot;</td><td>4</td><td>1.368421</td></tr><tr><td>1993</td><td>&quot;Subaru&quot;</td><td>&quot;Legacy&quot;</td><td>2.2</td><td>4</td><td>&quot;Manual 5-spd&quot;</td><td>&quot;Front-Wheel Drive&quot;</td><td>&quot;Compact Cars&quot;</td><td>&quot;Regular&quot;</td><td>12.935218</td><td>20</td><td>28</td><td>2013-01-01 00:00:00</td><td>&quot;false&quot;</td><td>5</td><td>1.4</td></tr><tr><td>1993</td><td>&quot;Subaru&quot;</td><td>&quot;Legacy AWD&quot;</td><td>2.2</td><td>4</td><td>&quot;Automatic 4-spd&quot;</td><td>&quot;4-Wheel or All-Wheel Drive&quot;</td><td>&quot;Compact Cars&quot;</td><td>&quot;Regular&quot;</td><td>14.167143</td><td>18</td><td>24</td><td>2013-01-01 00:00:00</td><td>&quot;true&quot;</td><td>4</td><td>1.333333</td></tr><tr><td>1993</td><td>&quot;Subaru&quot;</td><td>&quot;Legacy AWD&quot;</td><td>2.2</td><td>4</td><td>&quot;Manual 5-spd&quot;</td><td>&quot;4-Wheel or All-Wheel Drive&quot;</td><td>&quot;Compact Cars&quot;</td><td>&quot;Regular&quot;</td><td>14.167143</td><td>18</td><td>24</td><td>2013-01-01 00:00:00</td><td>&quot;false&quot;</td><td>5</td><td>1.333333</td></tr><tr><td>1993</td><td>&quot;Subaru&quot;</td><td>&quot;Legacy AWD Turbo&quot;</td><td>2.2</td><td>4</td><td>&quot;Automatic 4-spd&quot;</td><td>&quot;4-Wheel or All-Wheel Drive&quot;</td><td>&quot;Compact Cars&quot;</td><td>&quot;Premium&quot;</td><td>16.528334</td><td>16</td><td>21</td><td>2013-01-01 00:00:00</td><td>&quot;true&quot;</td><td>4</td><td>1.3125</td></tr></tbody></table></div>"
      ],
      "text/plain": [
       "shape: (48_202, 16)\n",
       "+-----+-----+-----+-----+-----+-----+-----+-----+-----+-----+-----+-----+-----+-----+-----+--------+\n",
       "| yea | mak | mod | dis | cyl | tra | dri | VCl | fue | bar | cit | hig | cre | is_ | num | mpg_ra |\n",
       "| r   | e   | el  | pl  | ind | ny  | ve  | ass | lTy | rel | y08 | hwa | ate | aut | _ge | tio    |\n",
       "| --- | --- | --- | --- | ers | --- | --- | --- | pe  | s08 | --- | y08 | dOn | oma | ars | ---    |\n",
       "| i16 | cat | cat | f32 | --- | str | cat | cat | --- | --- | u8  | --- | --- | tic | --- | f64    |\n",
       "|     |     |     |     | u8  |     |     |     | cat | f32 |     | u8  | dat | --- | u8  |        |\n",
       "|     |     |     |     |     |     |     |     |     |     |     |     | eti | str |     |        |\n",
       "|     |     |     |     |     |     |     |     |     |     |     |     | me[ |     |     |        |\n",
       "|     |     |     |     |     |     |     |     |     |     |     |     | μs] |     |     |        |\n",
       "+==================================================================================================+\n",
       "| 198 | Alf | Spi | 2.0 | 4   | Man | Rea | Two | Reg | 14. | 19  | 25  | 201 | fal | 5   | 1.3157 |\n",
       "| 5   | a   | der |     |     | ual | r-W | Sea | ula | 167 |     |     | 3-0 | se  |     | 89     |\n",
       "|     | Rom | Vel |     |     | 5-s | hee | ter | r   | 143 |     |     | 1-0 |     |     |        |\n",
       "|     | eo  | oce |     |     | pd  | l   | s   |     |     |     |     | 1   |     |     |        |\n",
       "|     |     | 200 |     |     |     | Dri |     |     |     |     |     | 00: |     |     |        |\n",
       "|     |     | 0   |     |     |     | ve  |     |     |     |     |     | 00: |     |     |        |\n",
       "|     |     |     |     |     |     |     |     |     |     |     |     | 00  |     |     |        |\n",
       "| 198 | Fer | Tes | 4.9 | 12  | Man | Rea | Two | Reg | 27. | 9   | 14  | 201 | fal | 5   | 1.5555 |\n",
       "| 5   | rar | tar |     |     | ual | r-W | Sea | ula | 046 |     |     | 3-0 | se  |     | 56     |\n",
       "|     | i   | oss |     |     | 5-s | hee | ter | r   | 364 |     |     | 1-0 |     |     |        |\n",
       "|     |     | a   |     |     | pd  | l   | s   |     |     |     |     | 1   |     |     |        |\n",
       "|     |     |     |     |     |     | Dri |     |     |     |     |     | 00: |     |     |        |\n",
       "|     |     |     |     |     |     | ve  |     |     |     |     |     | 00: |     |     |        |\n",
       "|     |     |     |     |     |     |     |     |     |     |     |     | 00  |     |     |        |\n",
       "| 198 | Dod | Cha | 2.2 | 4   | Man | Fro | Sub | Reg | 11. | 23  | 33  | 201 | fal | 5   | 1.4347 |\n",
       "| 5   | ge  | rge |     |     | ual | nt- | com | ula | 018 |     |     | 3-0 | se  |     | 83     |\n",
       "|     |     | r   |     |     | 5-s | Whe | pac | r   | 888 |     |     | 1-0 |     |     |        |\n",
       "|     |     |     |     |     | pd  | el  | t   |     |     |     |     | 1   |     |     |        |\n",
       "|     |     |     |     |     |     | Dri | Car |     |     |     |     | 00: |     |     |        |\n",
       "|     |     |     |     |     |     | ve  | s   |     |     |     |     | 00: |     |     |        |\n",
       "|     |     |     |     |     |     |     |     |     |     |     |     | 00  |     |     |        |\n",
       "| 198 | Dod | B15 | 5.2 | 8   | Aut | Rea | Van | Reg | 27. | 10  | 12  | 201 | tru | 3   | 1.2    |\n",
       "| 5   | ge  | 0/B |     |     | oma | r-W | s   | ula | 046 |     |     | 3-0 | e   |     |        |\n",
       "|     |     | 250 |     |     | tic | hee |     | r   | 364 |     |     | 1-0 |     |     |        |\n",
       "|     |     | Wag |     |     | 3-s | l   |     |     |     |     |     | 1   |     |     |        |\n",
       "|     |     | on  |     |     | pd  | Dri |     |     |     |     |     | 00: |     |     |        |\n",
       "|     |     | 2WD |     |     |     | ve  |     |     |     |     |     | 00: |     |     |        |\n",
       "|     |     |     |     |     |     |     |     |     |     |     |     | 00  |     |     |        |\n",
       "| 199 | Sub | Leg | 2.2 | 4   | Man | 4-W | Com | Pre | 15. | 17  | 23  | 201 | fal | 5   | 1.3529 |\n",
       "| 3   | aru | acy |     |     | ual | hee | pac | miu | 658 |     |     | 3-0 | se  |     | 41     |\n",
       "|     |     | AWD |     |     | 5-s | l   | t   | m   | 422 |     |     | 1-0 |     |     |        |\n",
       "|     |     | Tur |     |     | pd  | or  | Car |     |     |     |     | 1   |     |     |        |\n",
       "|     |     | bo  |     |     |     | All | s   |     |     |     |     | 00: |     |     |        |\n",
       "|     |     |     |     |     |     | -Wh |     |     |     |     |     | 00: |     |     |        |\n",
       "|     |     |     |     |     |     | eel |     |     |     |     |     | 00  |     |     |        |\n",
       "|     |     |     |     |     |     | Dri |     |     |     |     |     |     |     |     |        |\n",
       "|     |     |     |     |     |     | ve  |     |     |     |     |     |     |     |     |        |\n",
       "| …   | …   | …   | …   | …   | …   | …   | …   | …   | …   | …   | …   | …   | …   | …   | …      |\n",
       "| 199 | Sub | Leg | 2.2 | 4   | Aut | Fro | Com | Reg | 13. | 19  | 26  | 201 | tru | 4   | 1.3684 |\n",
       "| 3   | aru | acy |     |     | oma | nt- | pac | ula | 523 |     |     | 3-0 | e   |     | 21     |\n",
       "|     |     |     |     |     | tic | Whe | t   | r   | 182 |     |     | 1-0 |     |     |        |\n",
       "|     |     |     |     |     | 4-s | el  | Car |     |     |     |     | 1   |     |     |        |\n",
       "|     |     |     |     |     | pd  | Dri | s   |     |     |     |     | 00: |     |     |        |\n",
       "|     |     |     |     |     |     | ve  |     |     |     |     |     | 00: |     |     |        |\n",
       "|     |     |     |     |     |     |     |     |     |     |     |     | 00  |     |     |        |\n",
       "| 199 | Sub | Leg | 2.2 | 4   | Man | Fro | Com | Reg | 12. | 20  | 28  | 201 | fal | 5   | 1.4    |\n",
       "| 3   | aru | acy |     |     | ual | nt- | pac | ula | 935 |     |     | 3-0 | se  |     |        |\n",
       "|     |     |     |     |     | 5-s | Whe | t   | r   | 218 |     |     | 1-0 |     |     |        |\n",
       "|     |     |     |     |     | pd  | el  | Car |     |     |     |     | 1   |     |     |        |\n",
       "|     |     |     |     |     |     | Dri | s   |     |     |     |     | 00: |     |     |        |\n",
       "|     |     |     |     |     |     | ve  |     |     |     |     |     | 00: |     |     |        |\n",
       "|     |     |     |     |     |     |     |     |     |     |     |     | 00  |     |     |        |\n",
       "| 199 | Sub | Leg | 2.2 | 4   | Aut | 4-W | Com | Reg | 14. | 18  | 24  | 201 | tru | 4   | 1.3333 |\n",
       "| 3   | aru | acy |     |     | oma | hee | pac | ula | 167 |     |     | 3-0 | e   |     | 33     |\n",
       "|     |     | AWD |     |     | tic | l   | t   | r   | 143 |     |     | 1-0 |     |     |        |\n",
       "|     |     |     |     |     | 4-s | or  | Car |     |     |     |     | 1   |     |     |        |\n",
       "|     |     |     |     |     | pd  | All | s   |     |     |     |     | 00: |     |     |        |\n",
       "|     |     |     |     |     |     | -Wh |     |     |     |     |     | 00: |     |     |        |\n",
       "|     |     |     |     |     |     | eel |     |     |     |     |     | 00  |     |     |        |\n",
       "|     |     |     |     |     |     | Dri |     |     |     |     |     |     |     |     |        |\n",
       "|     |     |     |     |     |     | ve  |     |     |     |     |     |     |     |     |        |\n",
       "| 199 | Sub | Leg | 2.2 | 4   | Man | 4-W | Com | Reg | 14. | 18  | 24  | 201 | fal | 5   | 1.3333 |\n",
       "| 3   | aru | acy |     |     | ual | hee | pac | ula | 167 |     |     | 3-0 | se  |     | 33     |\n",
       "|     |     | AWD |     |     | 5-s | l   | t   | r   | 143 |     |     | 1-0 |     |     |        |\n",
       "|     |     |     |     |     | pd  | or  | Car |     |     |     |     | 1   |     |     |        |\n",
       "|     |     |     |     |     |     | All | s   |     |     |     |     | 00: |     |     |        |\n",
       "|     |     |     |     |     |     | -Wh |     |     |     |     |     | 00: |     |     |        |\n",
       "|     |     |     |     |     |     | eel |     |     |     |     |     | 00  |     |     |        |\n",
       "|     |     |     |     |     |     | Dri |     |     |     |     |     |     |     |     |        |\n",
       "|     |     |     |     |     |     | ve  |     |     |     |     |     |     |     |     |        |\n",
       "| 199 | Sub | Leg | 2.2 | 4   | Aut | 4-W | Com | Pre | 16. | 16  | 21  | 201 | tru | 4   | 1.3125 |\n",
       "| 3   | aru | acy |     |     | oma | hee | pac | miu | 528 |     |     | 3-0 | e   |     |        |\n",
       "|     |     | AWD |     |     | tic | l   | t   | m   | 334 |     |     | 1-0 |     |     |        |\n",
       "|     |     | Tur |     |     | 4-s | or  | Car |     |     |     |     | 1   |     |     |        |\n",
       "|     |     | bo  |     |     | pd  | All | s   |     |     |     |     | 00: |     |     |        |\n",
       "|     |     |     |     |     |     | -Wh |     |     |     |     |     | 00: |     |     |        |\n",
       "|     |     |     |     |     |     | eel |     |     |     |     |     | 00  |     |     |        |\n",
       "|     |     |     |     |     |     | Dri |     |     |     |     |     |     |     |     |        |\n",
       "|     |     |     |     |     |     | ve  |     |     |     |     |     |     |     |     |        |\n",
       "+-----+-----+-----+-----+-----+-----+-----+-----+-----+-----+-----+-----+-----+-----+-----+--------+"
      ]
     },
     "execution_count": 8,
     "metadata": {},
     "output_type": "execute_result"
    }
   ],
   "source": [
    "# Use .with_column to add this column\n",
    "(\n",
    "    autos\n",
    "    .with_columns(\n",
    "        (pl.col('highway08') / pl.col('city08')).alias('mpg_ratio')\n",
    "    )\n",
    ")"
   ]
  },
  {
   "cell_type": "markdown",
   "id": "0a176b97-8d25-498d-ae86-06a7e4dbcd9a",
   "metadata": {},
   "source": [
    "---\n",
    "# 2.4 Simulating the Index\n",
    "[back to Top](#Top)\n",
    "\n",
    "* Polars does not have an index column like Pandas.\n",
    "* If you need to rely on a numeric monotomic index, you can create a column to simulate the index with `.with_row_index`.\n",
    "* https://docs.pola.rs/py-polars/html/reference/dataframe/api/polars.DataFrame.with_row_index.html\n",
    "* Add a row index as the first column in the DataFrame.\n",
    "* The resulting column does not have any special properties. It is a regular column of type UInt32 (or UInt64 in polars-u64-idx)."
   ]
  },
  {
   "cell_type": "code",
   "execution_count": 9,
   "id": "3ec2f182-391c-4676-9c80-3b8cd2d53402",
   "metadata": {},
   "outputs": [
    {
     "name": "stderr",
     "output_type": "stream",
     "text": [
      "dataframe filtered\n"
     ]
    },
    {
     "data": {
      "text/html": [
       "<div><style>\n",
       ".dataframe > thead > tr,\n",
       ".dataframe > tbody > tr {\n",
       "  text-align: right;\n",
       "  white-space: pre-wrap;\n",
       "}\n",
       "</style>\n",
       "<small>shape: (5, 16)</small><table border=\"1\" class=\"dataframe\"><thead><tr><th>index</th><th>year</th><th>make</th><th>model</th><th>displ</th><th>cylinders</th><th>trany</th><th>drive</th><th>VClass</th><th>fuelType</th><th>barrels08</th><th>city08</th><th>highway08</th><th>createdOn</th><th>is_automatic</th><th>num_gears</th></tr><tr><td>u32</td><td>i16</td><td>cat</td><td>cat</td><td>f32</td><td>u8</td><td>str</td><td>cat</td><td>cat</td><td>cat</td><td>f32</td><td>u8</td><td>u8</td><td>datetime[μs]</td><td>str</td><td>u8</td></tr></thead><tbody><tr><td>0</td><td>1985</td><td>&quot;Alfa Romeo&quot;</td><td>&quot;Spider Veloce 2000&quot;</td><td>2.0</td><td>4</td><td>&quot;Manual 5-spd&quot;</td><td>&quot;Rear-Wheel Drive&quot;</td><td>&quot;Two Seaters&quot;</td><td>&quot;Regular&quot;</td><td>14.167143</td><td>19</td><td>25</td><td>2013-01-01 00:00:00</td><td>&quot;false&quot;</td><td>5</td></tr><tr><td>1</td><td>1985</td><td>&quot;Ferrari&quot;</td><td>&quot;Testarossa&quot;</td><td>4.9</td><td>12</td><td>&quot;Manual 5-spd&quot;</td><td>&quot;Rear-Wheel Drive&quot;</td><td>&quot;Two Seaters&quot;</td><td>&quot;Regular&quot;</td><td>27.046364</td><td>9</td><td>14</td><td>2013-01-01 00:00:00</td><td>&quot;false&quot;</td><td>5</td></tr><tr><td>2</td><td>1985</td><td>&quot;Dodge&quot;</td><td>&quot;Charger&quot;</td><td>2.2</td><td>4</td><td>&quot;Manual 5-spd&quot;</td><td>&quot;Front-Wheel Drive&quot;</td><td>&quot;Subcompact Cars&quot;</td><td>&quot;Regular&quot;</td><td>11.018888</td><td>23</td><td>33</td><td>2013-01-01 00:00:00</td><td>&quot;false&quot;</td><td>5</td></tr><tr><td>3</td><td>1985</td><td>&quot;Dodge&quot;</td><td>&quot;B150/B250 Wagon 2WD&quot;</td><td>5.2</td><td>8</td><td>&quot;Automatic 3-spd&quot;</td><td>&quot;Rear-Wheel Drive&quot;</td><td>&quot;Vans&quot;</td><td>&quot;Regular&quot;</td><td>27.046364</td><td>10</td><td>12</td><td>2013-01-01 00:00:00</td><td>&quot;true&quot;</td><td>3</td></tr><tr><td>4</td><td>1993</td><td>&quot;Subaru&quot;</td><td>&quot;Legacy AWD Turbo&quot;</td><td>2.2</td><td>4</td><td>&quot;Manual 5-spd&quot;</td><td>&quot;4-Wheel or All-Wheel Drive&quot;</td><td>&quot;Compact Cars&quot;</td><td>&quot;Premium&quot;</td><td>15.658422</td><td>17</td><td>23</td><td>2013-01-01 00:00:00</td><td>&quot;false&quot;</td><td>5</td></tr></tbody></table></div>"
      ],
      "text/plain": [
       "shape: (5, 16)\n",
       "+-----+-----+-----+-----+-----+-----+-----+-----+-----+-----+-----+-----+-----+-----+-----+--------+\n",
       "| ind | yea | mak | mod | dis | cyl | tra | dri | VCl | fue | bar | cit | hig | cre | is_ | num_ge |\n",
       "| ex  | r   | e   | el  | pl  | ind | ny  | ve  | ass | lTy | rel | y08 | hwa | ate | aut | ars    |\n",
       "| --- | --- | --- | --- | --- | ers | --- | --- | --- | pe  | s08 | --- | y08 | dOn | oma | ---    |\n",
       "| u32 | i16 | cat | cat | f32 | --- | str | cat | cat | --- | --- | u8  | --- | --- | tic | u8     |\n",
       "|     |     |     |     |     | u8  |     |     |     | cat | f32 |     | u8  | dat | --- |        |\n",
       "|     |     |     |     |     |     |     |     |     |     |     |     |     | eti | str |        |\n",
       "|     |     |     |     |     |     |     |     |     |     |     |     |     | me[ |     |        |\n",
       "|     |     |     |     |     |     |     |     |     |     |     |     |     | μs] |     |        |\n",
       "+==================================================================================================+\n",
       "| 0   | 198 | Alf | Spi | 2.0 | 4   | Man | Rea | Two | Reg | 14. | 19  | 25  | 201 | fal | 5      |\n",
       "|     | 5   | a   | der |     |     | ual | r-W | Sea | ula | 167 |     |     | 3-0 | se  |        |\n",
       "|     |     | Rom | Vel |     |     | 5-s | hee | ter | r   | 143 |     |     | 1-0 |     |        |\n",
       "|     |     | eo  | oce |     |     | pd  | l   | s   |     |     |     |     | 1   |     |        |\n",
       "|     |     |     | 200 |     |     |     | Dri |     |     |     |     |     | 00: |     |        |\n",
       "|     |     |     | 0   |     |     |     | ve  |     |     |     |     |     | 00: |     |        |\n",
       "|     |     |     |     |     |     |     |     |     |     |     |     |     | 00  |     |        |\n",
       "| 1   | 198 | Fer | Tes | 4.9 | 12  | Man | Rea | Two | Reg | 27. | 9   | 14  | 201 | fal | 5      |\n",
       "|     | 5   | rar | tar |     |     | ual | r-W | Sea | ula | 046 |     |     | 3-0 | se  |        |\n",
       "|     |     | i   | oss |     |     | 5-s | hee | ter | r   | 364 |     |     | 1-0 |     |        |\n",
       "|     |     |     | a   |     |     | pd  | l   | s   |     |     |     |     | 1   |     |        |\n",
       "|     |     |     |     |     |     |     | Dri |     |     |     |     |     | 00: |     |        |\n",
       "|     |     |     |     |     |     |     | ve  |     |     |     |     |     | 00: |     |        |\n",
       "|     |     |     |     |     |     |     |     |     |     |     |     |     | 00  |     |        |\n",
       "| 2   | 198 | Dod | Cha | 2.2 | 4   | Man | Fro | Sub | Reg | 11. | 23  | 33  | 201 | fal | 5      |\n",
       "|     | 5   | ge  | rge |     |     | ual | nt- | com | ula | 018 |     |     | 3-0 | se  |        |\n",
       "|     |     |     | r   |     |     | 5-s | Whe | pac | r   | 888 |     |     | 1-0 |     |        |\n",
       "|     |     |     |     |     |     | pd  | el  | t   |     |     |     |     | 1   |     |        |\n",
       "|     |     |     |     |     |     |     | Dri | Car |     |     |     |     | 00: |     |        |\n",
       "|     |     |     |     |     |     |     | ve  | s   |     |     |     |     | 00: |     |        |\n",
       "|     |     |     |     |     |     |     |     |     |     |     |     |     | 00  |     |        |\n",
       "| 3   | 198 | Dod | B15 | 5.2 | 8   | Aut | Rea | Van | Reg | 27. | 10  | 12  | 201 | tru | 3      |\n",
       "|     | 5   | ge  | 0/B |     |     | oma | r-W | s   | ula | 046 |     |     | 3-0 | e   |        |\n",
       "|     |     |     | 250 |     |     | tic | hee |     | r   | 364 |     |     | 1-0 |     |        |\n",
       "|     |     |     | Wag |     |     | 3-s | l   |     |     |     |     |     | 1   |     |        |\n",
       "|     |     |     | on  |     |     | pd  | Dri |     |     |     |     |     | 00: |     |        |\n",
       "|     |     |     | 2WD |     |     |     | ve  |     |     |     |     |     | 00: |     |        |\n",
       "|     |     |     |     |     |     |     |     |     |     |     |     |     | 00  |     |        |\n",
       "| 4   | 199 | Sub | Leg | 2.2 | 4   | Man | 4-W | Com | Pre | 15. | 17  | 23  | 201 | fal | 5      |\n",
       "|     | 3   | aru | acy |     |     | ual | hee | pac | miu | 658 |     |     | 3-0 | se  |        |\n",
       "|     |     |     | AWD |     |     | 5-s | l   | t   | m   | 422 |     |     | 1-0 |     |        |\n",
       "|     |     |     | Tur |     |     | pd  | or  | Car |     |     |     |     | 1   |     |        |\n",
       "|     |     |     | bo  |     |     |     | All | s   |     |     |     |     | 00: |     |        |\n",
       "|     |     |     |     |     |     |     | -Wh |     |     |     |     |     | 00: |     |        |\n",
       "|     |     |     |     |     |     |     | eel |     |     |     |     |     | 00  |     |        |\n",
       "|     |     |     |     |     |     |     | Dri |     |     |     |     |     |     |     |        |\n",
       "|     |     |     |     |     |     |     | ve  |     |     |     |     |     |     |     |        |\n",
       "+-----+-----+-----+-----+-----+-----+-----+-----+-----+-----+-----+-----+-----+-----+-----+--------+"
      ]
     },
     "execution_count": 9,
     "metadata": {},
     "output_type": "execute_result"
    }
   ],
   "source": [
    "(\n",
    "    autos\n",
    "    .with_row_index('index')\n",
    "    .filter(pl.col('index')<5)\n",
    ")"
   ]
  },
  {
   "cell_type": "code",
   "execution_count": 10,
   "id": "1fc22682-0ab8-4cbd-9877-c2a200ca8327",
   "metadata": {},
   "outputs": [
    {
     "name": "stdout",
     "output_type": "stream",
     "text": [
      "Adding index\n"
     ]
    },
    {
     "data": {
      "text/html": [
       "<div><style>\n",
       ".dataframe > thead > tr,\n",
       ".dataframe > tbody > tr {\n",
       "  text-align: right;\n",
       "  white-space: pre-wrap;\n",
       "}\n",
       "</style>\n",
       "<small>shape: (2, 16)</small><table border=\"1\" class=\"dataframe\"><thead><tr><th>index</th><th>year</th><th>make</th><th>model</th><th>displ</th><th>cylinders</th><th>trany</th><th>drive</th><th>VClass</th><th>fuelType</th><th>barrels08</th><th>city08</th><th>highway08</th><th>createdOn</th><th>is_automatic</th><th>num_gears</th></tr><tr><td>u32</td><td>i16</td><td>cat</td><td>cat</td><td>f32</td><td>u8</td><td>str</td><td>cat</td><td>cat</td><td>cat</td><td>f32</td><td>u8</td><td>u8</td><td>datetime[μs]</td><td>str</td><td>u8</td></tr></thead><tbody><tr><td>48200</td><td>1993</td><td>&quot;Subaru&quot;</td><td>&quot;Legacy AWD&quot;</td><td>2.2</td><td>4</td><td>&quot;Manual 5-spd&quot;</td><td>&quot;4-Wheel or All-Wheel Drive&quot;</td><td>&quot;Compact Cars&quot;</td><td>&quot;Regular&quot;</td><td>14.167143</td><td>18</td><td>24</td><td>2013-01-01 00:00:00</td><td>&quot;false&quot;</td><td>5</td></tr><tr><td>48201</td><td>1993</td><td>&quot;Subaru&quot;</td><td>&quot;Legacy AWD Turbo&quot;</td><td>2.2</td><td>4</td><td>&quot;Automatic 4-spd&quot;</td><td>&quot;4-Wheel or All-Wheel Drive&quot;</td><td>&quot;Compact Cars&quot;</td><td>&quot;Premium&quot;</td><td>16.528334</td><td>16</td><td>21</td><td>2013-01-01 00:00:00</td><td>&quot;true&quot;</td><td>4</td></tr></tbody></table></div>"
      ],
      "text/plain": [
       "shape: (2, 16)\n",
       "+-----+-----+-----+-----+-----+-----+-----+-----+-----+-----+-----+-----+-----+-----+-----+--------+\n",
       "| ind | yea | mak | mod | dis | cyl | tra | dri | VCl | fue | bar | cit | hig | cre | is_ | num_ge |\n",
       "| ex  | r   | e   | el  | pl  | ind | ny  | ve  | ass | lTy | rel | y08 | hwa | ate | aut | ars    |\n",
       "| --- | --- | --- | --- | --- | ers | --- | --- | --- | pe  | s08 | --- | y08 | dOn | oma | ---    |\n",
       "| u32 | i16 | cat | cat | f32 | --- | str | cat | cat | --- | --- | u8  | --- | --- | tic | u8     |\n",
       "|     |     |     |     |     | u8  |     |     |     | cat | f32 |     | u8  | dat | --- |        |\n",
       "|     |     |     |     |     |     |     |     |     |     |     |     |     | eti | str |        |\n",
       "|     |     |     |     |     |     |     |     |     |     |     |     |     | me[ |     |        |\n",
       "|     |     |     |     |     |     |     |     |     |     |     |     |     | μs] |     |        |\n",
       "+==================================================================================================+\n",
       "| 482 | 199 | Sub | Leg | 2.2 | 4   | Man | 4-W | Com | Reg | 14. | 18  | 24  | 201 | fal | 5      |\n",
       "| 00  | 3   | aru | acy |     |     | ual | hee | pac | ula | 167 |     |     | 3-0 | se  |        |\n",
       "|     |     |     | AWD |     |     | 5-s | l   | t   | r   | 143 |     |     | 1-0 |     |        |\n",
       "|     |     |     |     |     |     | pd  | or  | Car |     |     |     |     | 1   |     |        |\n",
       "|     |     |     |     |     |     |     | All | s   |     |     |     |     | 00: |     |        |\n",
       "|     |     |     |     |     |     |     | -Wh |     |     |     |     |     | 00: |     |        |\n",
       "|     |     |     |     |     |     |     | eel |     |     |     |     |     | 00  |     |        |\n",
       "|     |     |     |     |     |     |     | Dri |     |     |     |     |     |     |     |        |\n",
       "|     |     |     |     |     |     |     | ve  |     |     |     |     |     |     |     |        |\n",
       "| 482 | 199 | Sub | Leg | 2.2 | 4   | Aut | 4-W | Com | Pre | 16. | 16  | 21  | 201 | tru | 4      |\n",
       "| 01  | 3   | aru | acy |     |     | oma | hee | pac | miu | 528 |     |     | 3-0 | e   |        |\n",
       "|     |     |     | AWD |     |     | tic | l   | t   | m   | 334 |     |     | 1-0 |     |        |\n",
       "|     |     |     | Tur |     |     | 4-s | or  | Car |     |     |     |     | 1   |     |        |\n",
       "|     |     |     | bo  |     |     | pd  | All | s   |     |     |     |     | 00: |     |        |\n",
       "|     |     |     |     |     |     |     | -Wh |     |     |     |     |     | 00: |     |        |\n",
       "|     |     |     |     |     |     |     | eel |     |     |     |     |     | 00  |     |        |\n",
       "|     |     |     |     |     |     |     | Dri |     |     |     |     |     |     |     |        |\n",
       "|     |     |     |     |     |     |     | ve  |     |     |     |     |     |     |     |        |\n",
       "+-----+-----+-----+-----+-----+-----+-----+-----+-----+-----+-----+-----+-----+-----+-----+--------+"
      ]
     },
     "execution_count": 10,
     "metadata": {},
     "output_type": "execute_result"
    }
   ],
   "source": [
    "# Add only if does not exist\n",
    "if not \"index\" in autos.columns:\n",
    "    print(\"Adding index\")\n",
    "    autos = autos.with_row_index('index')\n",
    "else:\n",
    "    print(\"index exists\")\n",
    "\n",
    "# Check end of data\n",
    "autos.tail(2)"
   ]
  },
  {
   "cell_type": "markdown",
   "id": "1b90f631-fbf9-4a49-9cb9-424de64c1871",
   "metadata": {},
   "source": [
    "---\n",
    "# 2.5 Removing Columns\n",
    "[back to Top](#Top)\n",
    "\n",
    "Three basic ways to remove columns from a DataFrame:\n",
    "  1. `.drop()`\n",
    "  2. `.select()`\n",
    "  3. `.exclude`\n"
   ]
  },
  {
   "cell_type": "code",
   "execution_count": 11,
   "id": "3c7cb24a-8e46-4ecf-ab24-4251811ce651",
   "metadata": {},
   "outputs": [
    {
     "name": "stdout",
     "output_type": "stream",
     "text": [
      "['index', 'year', 'make', 'model', 'displ', 'cylinders', 'trany', 'drive', 'VClass', 'fuelType', 'barrels08', 'city08', 'highway08', 'is_automatic', 'num_gears']\n"
     ]
    }
   ],
   "source": [
    "print(\n",
    "    autos\n",
    "    .drop('createdOn')\n",
    "    .columns\n",
    ")"
   ]
  },
  {
   "cell_type": "code",
   "execution_count": 12,
   "id": "819cb203-b0aa-468f-be83-72ef6519877b",
   "metadata": {},
   "outputs": [],
   "source": [
    "final_cols = ['index', 'year', 'make', 'model', 'displ', 'cylinders', 'trany', \n",
    "              'drive', 'VClass', 'fuelType', 'barrels08', 'city08', \n",
    "              'highway08', 'is_automatic', 'num_gears']"
   ]
  },
  {
   "cell_type": "code",
   "execution_count": 13,
   "id": "417a1ab9-0b7f-4d29-851e-14c099062e46",
   "metadata": {},
   "outputs": [
    {
     "data": {
      "text/html": [
       "<div><style>\n",
       ".dataframe > thead > tr,\n",
       ".dataframe > tbody > tr {\n",
       "  text-align: right;\n",
       "  white-space: pre-wrap;\n",
       "}\n",
       "</style>\n",
       "<small>shape: (2, 15)</small><table border=\"1\" class=\"dataframe\"><thead><tr><th>index</th><th>year</th><th>make</th><th>model</th><th>displ</th><th>cylinders</th><th>trany</th><th>drive</th><th>VClass</th><th>fuelType</th><th>barrels08</th><th>city08</th><th>highway08</th><th>is_automatic</th><th>num_gears</th></tr><tr><td>u32</td><td>i16</td><td>cat</td><td>cat</td><td>f32</td><td>u8</td><td>str</td><td>cat</td><td>cat</td><td>cat</td><td>f32</td><td>u8</td><td>u8</td><td>str</td><td>u8</td></tr></thead><tbody><tr><td>48200</td><td>1993</td><td>&quot;Subaru&quot;</td><td>&quot;Legacy AWD&quot;</td><td>2.2</td><td>4</td><td>&quot;Manual 5-spd&quot;</td><td>&quot;4-Wheel or All-Wheel Drive&quot;</td><td>&quot;Compact Cars&quot;</td><td>&quot;Regular&quot;</td><td>14.167143</td><td>18</td><td>24</td><td>&quot;false&quot;</td><td>5</td></tr><tr><td>48201</td><td>1993</td><td>&quot;Subaru&quot;</td><td>&quot;Legacy AWD Turbo&quot;</td><td>2.2</td><td>4</td><td>&quot;Automatic 4-spd&quot;</td><td>&quot;4-Wheel or All-Wheel Drive&quot;</td><td>&quot;Compact Cars&quot;</td><td>&quot;Premium&quot;</td><td>16.528334</td><td>16</td><td>21</td><td>&quot;true&quot;</td><td>4</td></tr></tbody></table></div>"
      ],
      "text/plain": [
       "shape: (2, 15)\n",
       "+-----+-----+-----+-----+-----+-----+-----+-----+-----+-----+-----+--------+-------+-------+-------+\n",
       "| ind | yea | mak | mod | dis | cyl | tra | dri | VCl | fue | bar | city08 | highw | is_au | num_g |\n",
       "| ex  | r   | e   | el  | pl  | ind | ny  | ve  | ass | lTy | rel | ---    | ay08  | tomat | ears  |\n",
       "| --- | --- | --- | --- | --- | ers | --- | --- | --- | pe  | s08 | u8     | ---   | ic    | ---   |\n",
       "| u32 | i16 | cat | cat | f32 | --- | str | cat | cat | --- | --- |        | u8    | ---   | u8    |\n",
       "|     |     |     |     |     | u8  |     |     |     | cat | f32 |        |       | str   |       |\n",
       "+==================================================================================================+\n",
       "| 482 | 199 | Sub | Leg | 2.2 | 4   | Man | 4-W | Com | Reg | 14. | 18     | 24    | false | 5     |\n",
       "| 00  | 3   | aru | acy |     |     | ual | hee | pac | ula | 167 |        |       |       |       |\n",
       "|     |     |     | AWD |     |     | 5-s | l   | t   | r   | 143 |        |       |       |       |\n",
       "|     |     |     |     |     |     | pd  | or  | Car |     |     |        |       |       |       |\n",
       "|     |     |     |     |     |     |     | All | s   |     |     |        |       |       |       |\n",
       "|     |     |     |     |     |     |     | -Wh |     |     |     |        |       |       |       |\n",
       "|     |     |     |     |     |     |     | eel |     |     |     |        |       |       |       |\n",
       "|     |     |     |     |     |     |     | Dri |     |     |     |        |       |       |       |\n",
       "|     |     |     |     |     |     |     | ve  |     |     |     |        |       |       |       |\n",
       "| 482 | 199 | Sub | Leg | 2.2 | 4   | Aut | 4-W | Com | Pre | 16. | 16     | 21    | true  | 4     |\n",
       "| 01  | 3   | aru | acy |     |     | oma | hee | pac | miu | 528 |        |       |       |       |\n",
       "|     |     |     | AWD |     |     | tic | l   | t   | m   | 334 |        |       |       |       |\n",
       "|     |     |     | Tur |     |     | 4-s | or  | Car |     |     |        |       |       |       |\n",
       "|     |     |     | bo  |     |     | pd  | All | s   |     |     |        |       |       |       |\n",
       "|     |     |     |     |     |     |     | -Wh |     |     |     |        |       |       |       |\n",
       "|     |     |     |     |     |     |     | eel |     |     |     |        |       |       |       |\n",
       "|     |     |     |     |     |     |     | Dri |     |     |     |        |       |       |       |\n",
       "|     |     |     |     |     |     |     | ve  |     |     |     |        |       |       |       |\n",
       "+-----+-----+-----+-----+-----+-----+-----+-----+-----+-----+-----+--------+-------+-------+-------+"
      ]
     },
     "execution_count": 13,
     "metadata": {},
     "output_type": "execute_result"
    }
   ],
   "source": [
    "(\n",
    "    autos\n",
    "    .select(final_cols)\n",
    ").tail(2)"
   ]
  },
  {
   "cell_type": "markdown",
   "id": "20e6e9d1-d031-49fe-9f16-a92c4054ef2f",
   "metadata": {},
   "source": [
    "* Polars also has an `.exclude` method on a column expression.\n",
    "* This is probably more flexible than the `.drop` context because you can perform further operations on the columns that are not excluded.\n",
    "* Being positive about what columns you want to preserve (rather than indicating the columns to drop) can aid the Polars query planner operating in lazy mode."
   ]
  },
  {
   "cell_type": "code",
   "execution_count": 14,
   "id": "57661e0a-6431-4779-a62b-d5f197b28f31",
   "metadata": {},
   "outputs": [
    {
     "data": {
      "text/html": [
       "<div><style>\n",
       ".dataframe > thead > tr,\n",
       ".dataframe > tbody > tr {\n",
       "  text-align: right;\n",
       "  white-space: pre-wrap;\n",
       "}\n",
       "</style>\n",
       "<small>shape: (2, 14)</small><table border=\"1\" class=\"dataframe\"><thead><tr><th>index_auto</th><th>year_auto</th><th>make_auto</th><th>model_auto</th><th>displ_auto</th><th>cylinders_auto</th><th>trany_auto</th><th>drive_auto</th><th>VClass_auto</th><th>fuelType_auto</th><th>city08_auto</th><th>highway08_auto</th><th>is_automatic_auto</th><th>num_gears_auto</th></tr><tr><td>u32</td><td>i16</td><td>cat</td><td>cat</td><td>f32</td><td>u8</td><td>str</td><td>cat</td><td>cat</td><td>cat</td><td>u8</td><td>u8</td><td>str</td><td>u8</td></tr></thead><tbody><tr><td>0</td><td>1985</td><td>&quot;Alfa Romeo&quot;</td><td>&quot;Spider Veloce 2000&quot;</td><td>2.0</td><td>4</td><td>&quot;Manual 5-spd&quot;</td><td>&quot;Rear-Wheel Drive&quot;</td><td>&quot;Two Seaters&quot;</td><td>&quot;Regular&quot;</td><td>19</td><td>25</td><td>&quot;false&quot;</td><td>5</td></tr><tr><td>1</td><td>1985</td><td>&quot;Ferrari&quot;</td><td>&quot;Testarossa&quot;</td><td>4.9</td><td>12</td><td>&quot;Manual 5-spd&quot;</td><td>&quot;Rear-Wheel Drive&quot;</td><td>&quot;Two Seaters&quot;</td><td>&quot;Regular&quot;</td><td>9</td><td>14</td><td>&quot;false&quot;</td><td>5</td></tr></tbody></table></div>"
      ],
      "text/plain": [
       "shape: (2, 14)\n",
       "+-----+-----+-----+-----+-----+-----+-----+--------+-------+-------+-------+-------+-------+-------+\n",
       "| ind | yea | mak | mod | dis | cyl | tra | drive_ | VClas | fuelT | city0 | highw | is_au | num_g |\n",
       "| ex_ | r_a | e_a | el_ | pl_ | ind | ny_ | auto   | s_aut | ype_a | 8_aut | ay08_ | tomat | ears_ |\n",
       "| aut | uto | uto | aut | aut | ers | aut | ---    | o     | uto   | o     | auto  | ic_au | auto  |\n",
       "| o   | --- | --- | o   | o   | _au | o   | cat    | ---   | ---   | ---   | ---   | to    | ---   |\n",
       "| --- | i16 | cat | --- | --- | to  | --- |        | cat   | cat   | u8    | u8    | ---   | u8    |\n",
       "| u32 |     |     | cat | f32 | --- | str |        |       |       |       |       | str   |       |\n",
       "|     |     |     |     |     | u8  |     |        |       |       |       |       |       |       |\n",
       "+==================================================================================================+\n",
       "| 0   | 198 | Alf | Spi | 2.0 | 4   | Man | Rear-W | Two   | Regul | 19    | 25    | false | 5     |\n",
       "|     | 5   | a   | der |     |     | ual | heel   | Seate | ar    |       |       |       |       |\n",
       "|     |     | Rom | Vel |     |     | 5-s | Drive  | rs    |       |       |       |       |       |\n",
       "|     |     | eo  | oce |     |     | pd  |        |       |       |       |       |       |       |\n",
       "|     |     |     | 200 |     |     |     |        |       |       |       |       |       |       |\n",
       "|     |     |     | 0   |     |     |     |        |       |       |       |       |       |       |\n",
       "| 1   | 198 | Fer | Tes | 4.9 | 12  | Man | Rear-W | Two   | Regul | 9     | 14    | false | 5     |\n",
       "|     | 5   | rar | tar |     |     | ual | heel   | Seate | ar    |       |       |       |       |\n",
       "|     |     | i   | oss |     |     | 5-s | Drive  | rs    |       |       |       |       |       |\n",
       "|     |     |     | a   |     |     | pd  |        |       |       |       |       |       |       |\n",
       "+-----+-----+-----+-----+-----+-----+-----+--------+-------+-------+-------+-------+-------+-------+"
      ]
     },
     "execution_count": 14,
     "metadata": {},
     "output_type": "execute_result"
    }
   ],
   "source": [
    "(\n",
    "    autos\n",
    "    .select(\n",
    "        pl.all()\n",
    "        .exclude(['createdOn', 'barrels08'])\n",
    "        .name.suffix('_auto')\n",
    "    )\n",
    "    .head(2)\n",
    ")"
   ]
  },
  {
   "cell_type": "markdown",
   "id": "26da7cfa-7094-4fe9-bc07-850ede781996",
   "metadata": {},
   "source": [
    "---\n",
    "# 2.6 Renaming Columns\n",
    "[back to top](#Top)\n",
    "\n",
    "* Unlike Pandas, Polars does not allow duplicate column names.\n",
    "* We can rename a column using the `.alias` method or keyword argument. \n",
    "\n",
    "*Example*\n",
    "* Rename city08 to city_mpg, and highway08 to highway_mpg. "
   ]
  },
  {
   "cell_type": "code",
   "execution_count": 15,
   "id": "22c346ac-b3e0-4b41-a22c-ec56fbad58f5",
   "metadata": {},
   "outputs": [
    {
     "data": {
      "text/html": [
       "<div><style>\n",
       ".dataframe > thead > tr,\n",
       ".dataframe > tbody > tr {\n",
       "  text-align: right;\n",
       "  white-space: pre-wrap;\n",
       "}\n",
       "</style>\n",
       "<small>shape: (48_202, 5)</small><table border=\"1\" class=\"dataframe\"><thead><tr><th>year</th><th>make</th><th>model</th><th>city_mpg</th><th>highway_mpg</th></tr><tr><td>i16</td><td>cat</td><td>cat</td><td>u8</td><td>u8</td></tr></thead><tbody><tr><td>1985</td><td>&quot;Alfa Romeo&quot;</td><td>&quot;Spider Veloce 2000&quot;</td><td>19</td><td>25</td></tr><tr><td>1985</td><td>&quot;Ferrari&quot;</td><td>&quot;Testarossa&quot;</td><td>9</td><td>14</td></tr><tr><td>1985</td><td>&quot;Dodge&quot;</td><td>&quot;Charger&quot;</td><td>23</td><td>33</td></tr><tr><td>1985</td><td>&quot;Dodge&quot;</td><td>&quot;B150/B250 Wagon 2WD&quot;</td><td>10</td><td>12</td></tr><tr><td>1993</td><td>&quot;Subaru&quot;</td><td>&quot;Legacy AWD Turbo&quot;</td><td>17</td><td>23</td></tr><tr><td>&hellip;</td><td>&hellip;</td><td>&hellip;</td><td>&hellip;</td><td>&hellip;</td></tr><tr><td>1993</td><td>&quot;Subaru&quot;</td><td>&quot;Legacy&quot;</td><td>19</td><td>26</td></tr><tr><td>1993</td><td>&quot;Subaru&quot;</td><td>&quot;Legacy&quot;</td><td>20</td><td>28</td></tr><tr><td>1993</td><td>&quot;Subaru&quot;</td><td>&quot;Legacy AWD&quot;</td><td>18</td><td>24</td></tr><tr><td>1993</td><td>&quot;Subaru&quot;</td><td>&quot;Legacy AWD&quot;</td><td>18</td><td>24</td></tr><tr><td>1993</td><td>&quot;Subaru&quot;</td><td>&quot;Legacy AWD Turbo&quot;</td><td>16</td><td>21</td></tr></tbody></table></div>"
      ],
      "text/plain": [
       "shape: (48_202, 5)\n",
       "+------+------------+---------------------+----------+-------------+\n",
       "| year | make       | model               | city_mpg | highway_mpg |\n",
       "| ---  | ---        | ---                 | ---      | ---         |\n",
       "| i16  | cat        | cat                 | u8       | u8          |\n",
       "+==================================================================+\n",
       "| 1985 | Alfa Romeo | Spider Veloce 2000  | 19       | 25          |\n",
       "| 1985 | Ferrari    | Testarossa          | 9        | 14          |\n",
       "| 1985 | Dodge      | Charger             | 23       | 33          |\n",
       "| 1985 | Dodge      | B150/B250 Wagon 2WD | 10       | 12          |\n",
       "| 1993 | Subaru     | Legacy AWD Turbo    | 17       | 23          |\n",
       "| …    | …          | …                   | …        | …           |\n",
       "| 1993 | Subaru     | Legacy              | 19       | 26          |\n",
       "| 1993 | Subaru     | Legacy              | 20       | 28          |\n",
       "| 1993 | Subaru     | Legacy AWD          | 18       | 24          |\n",
       "| 1993 | Subaru     | Legacy AWD          | 18       | 24          |\n",
       "| 1993 | Subaru     | Legacy AWD Turbo    | 16       | 21          |\n",
       "+------+------------+---------------------+----------+-------------+"
      ]
     },
     "execution_count": 15,
     "metadata": {},
     "output_type": "execute_result"
    }
   ],
   "source": [
    "final_cols = ['year', 'make', 'model', 'city_mpg', 'highway_mpg']\n",
    "\n",
    "(\n",
    "    autos\n",
    "    .with_columns(\n",
    "        pl.col('city08').alias('city_mpg'), # style 1\n",
    "        highway_mpg=pl.col('highway08'), # style 2\n",
    "    )\n",
    "    .select(final_cols)\n",
    ")"
   ]
  },
  {
   "cell_type": "markdown",
   "id": "71c211cb-8460-4823-884a-80f4aeb571e5",
   "metadata": {},
   "source": [
    "\n",
    "There is also a dataframe method `.rename` that accepts a dictionary mapping for renaming columns."
   ]
  },
  {
   "cell_type": "code",
   "execution_count": 16,
   "id": "ccd71068-953c-4186-9eca-ce02709f006f",
   "metadata": {},
   "outputs": [
    {
     "data": {
      "text/html": [
       "<div><style>\n",
       ".dataframe > thead > tr,\n",
       ".dataframe > tbody > tr {\n",
       "  text-align: right;\n",
       "  white-space: pre-wrap;\n",
       "}\n",
       "</style>\n",
       "<small>shape: (48_202, 5)</small><table border=\"1\" class=\"dataframe\"><thead><tr><th>year</th><th>make</th><th>model</th><th>city_mpg</th><th>highway_mpg</th></tr><tr><td>i16</td><td>cat</td><td>cat</td><td>u8</td><td>u8</td></tr></thead><tbody><tr><td>1985</td><td>&quot;Alfa Romeo&quot;</td><td>&quot;Spider Veloce 2000&quot;</td><td>19</td><td>25</td></tr><tr><td>1985</td><td>&quot;Ferrari&quot;</td><td>&quot;Testarossa&quot;</td><td>9</td><td>14</td></tr><tr><td>1985</td><td>&quot;Dodge&quot;</td><td>&quot;Charger&quot;</td><td>23</td><td>33</td></tr><tr><td>1985</td><td>&quot;Dodge&quot;</td><td>&quot;B150/B250 Wagon 2WD&quot;</td><td>10</td><td>12</td></tr><tr><td>1993</td><td>&quot;Subaru&quot;</td><td>&quot;Legacy AWD Turbo&quot;</td><td>17</td><td>23</td></tr><tr><td>&hellip;</td><td>&hellip;</td><td>&hellip;</td><td>&hellip;</td><td>&hellip;</td></tr><tr><td>1993</td><td>&quot;Subaru&quot;</td><td>&quot;Legacy&quot;</td><td>19</td><td>26</td></tr><tr><td>1993</td><td>&quot;Subaru&quot;</td><td>&quot;Legacy&quot;</td><td>20</td><td>28</td></tr><tr><td>1993</td><td>&quot;Subaru&quot;</td><td>&quot;Legacy AWD&quot;</td><td>18</td><td>24</td></tr><tr><td>1993</td><td>&quot;Subaru&quot;</td><td>&quot;Legacy AWD&quot;</td><td>18</td><td>24</td></tr><tr><td>1993</td><td>&quot;Subaru&quot;</td><td>&quot;Legacy AWD Turbo&quot;</td><td>16</td><td>21</td></tr></tbody></table></div>"
      ],
      "text/plain": [
       "shape: (48_202, 5)\n",
       "+------+------------+---------------------+----------+-------------+\n",
       "| year | make       | model               | city_mpg | highway_mpg |\n",
       "| ---  | ---        | ---                 | ---      | ---         |\n",
       "| i16  | cat        | cat                 | u8       | u8          |\n",
       "+==================================================================+\n",
       "| 1985 | Alfa Romeo | Spider Veloce 2000  | 19       | 25          |\n",
       "| 1985 | Ferrari    | Testarossa          | 9        | 14          |\n",
       "| 1985 | Dodge      | Charger             | 23       | 33          |\n",
       "| 1985 | Dodge      | B150/B250 Wagon 2WD | 10       | 12          |\n",
       "| 1993 | Subaru     | Legacy AWD Turbo    | 17       | 23          |\n",
       "| …    | …          | …                   | …        | …           |\n",
       "| 1993 | Subaru     | Legacy              | 19       | 26          |\n",
       "| 1993 | Subaru     | Legacy              | 20       | 28          |\n",
       "| 1993 | Subaru     | Legacy AWD          | 18       | 24          |\n",
       "| 1993 | Subaru     | Legacy AWD          | 18       | 24          |\n",
       "| 1993 | Subaru     | Legacy AWD Turbo    | 16       | 21          |\n",
       "+------+------------+---------------------+----------+-------------+"
      ]
     },
     "execution_count": 16,
     "metadata": {},
     "output_type": "execute_result"
    }
   ],
   "source": [
    "final_cols = ['year', 'make', 'model', 'city_mpg', 'highway_mpg']\n",
    "\n",
    "(\n",
    "    autos\n",
    "    .rename({\n",
    "        'city08': 'city_mpg',\n",
    "        'highway08': 'highway_mpg'\n",
    "    })\n",
    "    .select(final_cols)\n",
    ")"
   ]
  },
  {
   "cell_type": "markdown",
   "id": "c7b9a81a-99ee-41f5-8f4d-b79edef0a99a",
   "metadata": {},
   "source": [
    "---\n",
    "# 2.7 Left Joins\n",
    "[back to Top](#Top)\n",
    "\n",
    "Joining dataframes is a typical operation in data analysis. It allows us to combine data from multiple sources into a single dataframe:\n",
    "\n",
    "* Inner Joins\n",
    "* Outer Joins\n",
    "* Left Joins\n",
    "* Right Joins\n",
    "* Cross Joins\n",
    "* Anti Joins\n",
    "\n",
    "Start with *left joins*\n",
    "\n",
    "* **Preserve all the rows from the left dataframe** (possibly duplicating them).\n",
    "* Adds the columns from the right dataframe, where appropriate.\n",
    "* If there are rows in the left dataframe that don't have a match in the right dataframe, the columns from the RD will be filled with null values.\n",
    "* If there are rows in the left dataframe that match multiple rows in the right dataframe, you will get a row for each match."
   ]
  },
  {
   "cell_type": "code",
   "execution_count": 17,
   "id": "58f550ed-89a7-49c5-aa63-ea6617bfb98d",
   "metadata": {},
   "outputs": [
    {
     "name": "stdout",
     "output_type": "stream",
     "text": [
      "shape: (5, 4)\n",
      "+--------+------------+------+----------+\n",
      "| make   | model      | year | city_mpg |\n",
      "| ---    | ---        | ---  | ---      |\n",
      "| str    | str        | i64  | i64      |\n",
      "+=======================================+\n",
      "| Chevy  | Silverado  | 2019 | 17       |\n",
      "| Custom | HotRod     | 1967 | 12       |\n",
      "| Ford   | F150       | 2018 | 19       |\n",
      "| Ford   | F250       | 2017 | 18       |\n",
      "| Tesla  | Cybertruck | 2024 | null     |\n",
      "+--------+------------+------+----------+\n"
     ]
    },
    {
     "data": {
      "text/plain": [
       "{'make': {'SORTED_ASC': True, 'SORTED_DESC': False},\n",
       " 'model': {'SORTED_ASC': False, 'SORTED_DESC': False},\n",
       " 'year': {'SORTED_ASC': False, 'SORTED_DESC': False},\n",
       " 'city_mpg': {'SORTED_ASC': False, 'SORTED_DESC': False}}"
      ]
     },
     "execution_count": 17,
     "metadata": {},
     "output_type": "execute_result"
    }
   ],
   "source": [
    "# dataframe 1\n",
    "trucks = pl.DataFrame({\n",
    "    'make': ['Ford', 'Tesla', 'Chevy', 'Custom', 'Ford'],\n",
    "    'model': ['F150', 'Cybertruck', 'Silverado', 'HotRod', 'F250'], \n",
    "    'year': [2018, 2024, 2019, 1967, 2017],\n",
    "    'city_mpg': [19, None, 17, 12, 18],\n",
    "}).sort(by='make')\n",
    "\n",
    "print(trucks)\n",
    "trucks.flags"
   ]
  },
  {
   "cell_type": "code",
   "execution_count": 18,
   "id": "a6f65187-5e6f-4d39-8f25-d1838a654f1d",
   "metadata": {},
   "outputs": [
    {
     "name": "stdout",
     "output_type": "stream",
     "text": [
      "shape: (4, 5)\n",
      "+--------+---------+---------+-----------+----------+\n",
      "| name   | country | founded | employees | vehicles |\n",
      "| ---    | ---     | ---     | ---       | ---      |\n",
      "| str    | str     | i64     | i64       | i64      |\n",
      "+===================================================+\n",
      "| Chevy  | USA     | 1911    | 225000    | 45       |\n",
      "| Ford   | USA     | 1903    | 199000    | 80       |\n",
      "| Tesla  | USA     | 2003    | 48000     | 3        |\n",
      "| Toyota | Japan   | 1937    | 370000    | 30       |\n",
      "+--------+---------+---------+-----------+----------+\n"
     ]
    },
    {
     "data": {
      "text/plain": [
       "{'name': {'SORTED_ASC': True, 'SORTED_DESC': False},\n",
       " 'country': {'SORTED_ASC': False, 'SORTED_DESC': False},\n",
       " 'founded': {'SORTED_ASC': False, 'SORTED_DESC': False},\n",
       " 'employees': {'SORTED_ASC': False, 'SORTED_DESC': False},\n",
       " 'vehicles': {'SORTED_ASC': False, 'SORTED_DESC': False}}"
      ]
     },
     "execution_count": 18,
     "metadata": {},
     "output_type": "execute_result"
    }
   ],
   "source": [
    "# dataframe 2\n",
    "manufacturer = pl.DataFrame({\n",
    "    'name': ['Ford', 'Tesla', 'Chevy', 'Toyota'],\n",
    "    'country': ['USA', 'USA', 'USA', 'Japan'],\n",
    "    'founded': [1903, 2003, 1911, 1937],\n",
    "    'employees': [199_000, 48_000, 225_000, 370_000],\n",
    "    'vehicles': [80, 3, 45, 30],\n",
    "}).sort(by='name')\n",
    "\n",
    "print(manufacturer)\n",
    "manufacturer.flags"
   ]
  },
  {
   "cell_type": "code",
   "execution_count": 19,
   "id": "033fcfb9-8ec3-4889-a37e-31ffd0285ec6",
   "metadata": {},
   "outputs": [
    {
     "name": "stdout",
     "output_type": "stream",
     "text": [
      "shape: (4, 5)\n",
      "+--------+---------+---------+-----------+----------+\n",
      "| name   | country | founded | employees | vehicles |\n",
      "| ---    | ---     | ---     | ---       | ---      |\n",
      "| str    | str     | i64     | i64       | i64      |\n",
      "+===================================================+\n",
      "| Chevy  | USA     | 1911    | 225000    | 45       |\n",
      "| Ford   | USA     | 1903    | 199000    | 80       |\n",
      "| Tesla  | USA     | 2003    | 48000     | 3        |\n",
      "| Toyota | Japan   | 1937    | 370000    | 30       |\n",
      "+--------+---------+---------+-----------+----------+\n",
      "shape: (5, 4)\n",
      "+--------+------------+------+----------+\n",
      "| make   | model      | year | city_mpg |\n",
      "| ---    | ---        | ---  | ---      |\n",
      "| str    | str        | i64  | i64      |\n",
      "+=======================================+\n",
      "| Chevy  | Silverado  | 2019 | 17       |\n",
      "| Custom | HotRod     | 1967 | 12       |\n",
      "| Ford   | F150       | 2018 | 19       |\n",
      "| Ford   | F250       | 2017 | 18       |\n",
      "| Tesla  | Cybertruck | 2024 | null     |\n",
      "+--------+------------+------+----------+\n"
     ]
    },
    {
     "name": "stderr",
     "output_type": "stream",
     "text": [
      "join parallel: true\n",
      "LEFT join dataframes finished\n"
     ]
    },
    {
     "data": {
      "text/html": [
       "<div><style>\n",
       ".dataframe > thead > tr,\n",
       ".dataframe > tbody > tr {\n",
       "  text-align: right;\n",
       "  white-space: pre-wrap;\n",
       "}\n",
       "</style>\n",
       "<small>shape: (5, 8)</small><table border=\"1\" class=\"dataframe\"><thead><tr><th>name</th><th>country</th><th>founded</th><th>employees</th><th>vehicles</th><th>model</th><th>year</th><th>city_mpg</th></tr><tr><td>str</td><td>str</td><td>i64</td><td>i64</td><td>i64</td><td>str</td><td>i64</td><td>i64</td></tr></thead><tbody><tr><td>&quot;Chevy&quot;</td><td>&quot;USA&quot;</td><td>1911</td><td>225000</td><td>45</td><td>&quot;Silverado&quot;</td><td>2019</td><td>17</td></tr><tr><td>&quot;Ford&quot;</td><td>&quot;USA&quot;</td><td>1903</td><td>199000</td><td>80</td><td>&quot;F150&quot;</td><td>2018</td><td>19</td></tr><tr><td>&quot;Ford&quot;</td><td>&quot;USA&quot;</td><td>1903</td><td>199000</td><td>80</td><td>&quot;F250&quot;</td><td>2017</td><td>18</td></tr><tr><td>&quot;Tesla&quot;</td><td>&quot;USA&quot;</td><td>2003</td><td>48000</td><td>3</td><td>&quot;Cybertruck&quot;</td><td>2024</td><td>null</td></tr><tr><td>&quot;Toyota&quot;</td><td>&quot;Japan&quot;</td><td>1937</td><td>370000</td><td>30</td><td>null</td><td>null</td><td>null</td></tr></tbody></table></div>"
      ],
      "text/plain": [
       "shape: (5, 8)\n",
       "+--------+---------+---------+-----------+----------+------------+------+----------+\n",
       "| name   | country | founded | employees | vehicles | model      | year | city_mpg |\n",
       "| ---    | ---     | ---     | ---       | ---      | ---        | ---  | ---      |\n",
       "| str    | str     | i64     | i64       | i64      | str        | i64  | i64      |\n",
       "+==================================================================================+\n",
       "| Chevy  | USA     | 1911    | 225000    | 45       | Silverado  | 2019 | 17       |\n",
       "| Ford   | USA     | 1903    | 199000    | 80       | F150       | 2018 | 19       |\n",
       "| Ford   | USA     | 1903    | 199000    | 80       | F250       | 2017 | 18       |\n",
       "| Tesla  | USA     | 2003    | 48000     | 3        | Cybertruck | 2024 | null     |\n",
       "| Toyota | Japan   | 1937    | 370000    | 30       | null       | null | null     |\n",
       "+--------+---------+---------+-----------+----------+------------+------+----------+"
      ]
     },
     "execution_count": 19,
     "metadata": {},
     "output_type": "execute_result"
    }
   ],
   "source": [
    "print(manufacturer)\n",
    "print(trucks)\n",
    "\n",
    "(\n",
    "    manufacturer\n",
    "    .join(\n",
    "        trucks, \n",
    "        how='left', \n",
    "        left_on='name',\n",
    "        right_on='make'\n",
    "    )\n",
    ")"
   ]
  },
  {
   "cell_type": "markdown",
   "id": "7d276c70-c15a-484b-8090-37ef3538b801",
   "metadata": {},
   "source": [
    "---\n",
    "# 2.8 Right Joins\n",
    "[back to Top](#Top)\n",
    "\n",
    "* Polars doesn't support how='right' in `.join()`\n",
    "* Instead, just use `how=left`, and swap the dataframes, `left_on`, and `right_on`.\n",
    "* This keeps all the rows from the right dataframe and adds the columns from the left dataframe. \n",
    "* If there are rows in the right dataframe that don't have a match in the left dataframe, the columns from the left dataframe will be filled with null values.\n",
    "* Place the data you want to keep on the left."
   ]
  },
  {
   "cell_type": "code",
   "execution_count": 20,
   "id": "e1e565a7-4421-4976-904b-fc0d2662f770",
   "metadata": {},
   "outputs": [
    {
     "name": "stdout",
     "output_type": "stream",
     "text": [
      "shape: (4, 5)\n",
      "+--------+---------+---------+-----------+----------+\n",
      "| name   | country | founded | employees | vehicles |\n",
      "| ---    | ---     | ---     | ---       | ---      |\n",
      "| str    | str     | i64     | i64       | i64      |\n",
      "+===================================================+\n",
      "| Chevy  | USA     | 1911    | 225000    | 45       |\n",
      "| Ford   | USA     | 1903    | 199000    | 80       |\n",
      "| Tesla  | USA     | 2003    | 48000     | 3        |\n",
      "| Toyota | Japan   | 1937    | 370000    | 30       |\n",
      "+--------+---------+---------+-----------+----------+\n",
      "shape: (5, 4)\n",
      "+--------+------------+------+----------+\n",
      "| make   | model      | year | city_mpg |\n",
      "| ---    | ---        | ---  | ---      |\n",
      "| str    | str        | i64  | i64      |\n",
      "+=======================================+\n",
      "| Chevy  | Silverado  | 2019 | 17       |\n",
      "| Custom | HotRod     | 1967 | 12       |\n",
      "| Ford   | F150       | 2018 | 19       |\n",
      "| Ford   | F250       | 2017 | 18       |\n",
      "| Tesla  | Cybertruck | 2024 | null     |\n",
      "+--------+------------+------+----------+\n"
     ]
    },
    {
     "name": "stderr",
     "output_type": "stream",
     "text": [
      "join parallel: true\n",
      "LEFT join dataframes finished\n"
     ]
    },
    {
     "data": {
      "text/html": [
       "<div><style>\n",
       ".dataframe > thead > tr,\n",
       ".dataframe > tbody > tr {\n",
       "  text-align: right;\n",
       "  white-space: pre-wrap;\n",
       "}\n",
       "</style>\n",
       "<small>shape: (5, 8)</small><table border=\"1\" class=\"dataframe\"><thead><tr><th>make</th><th>model</th><th>year</th><th>city_mpg</th><th>country</th><th>founded</th><th>employees</th><th>vehicles</th></tr><tr><td>str</td><td>str</td><td>i64</td><td>i64</td><td>str</td><td>i64</td><td>i64</td><td>i64</td></tr></thead><tbody><tr><td>&quot;Chevy&quot;</td><td>&quot;Silverado&quot;</td><td>2019</td><td>17</td><td>&quot;USA&quot;</td><td>1911</td><td>225000</td><td>45</td></tr><tr><td>&quot;Custom&quot;</td><td>&quot;HotRod&quot;</td><td>1967</td><td>12</td><td>null</td><td>null</td><td>null</td><td>null</td></tr><tr><td>&quot;Ford&quot;</td><td>&quot;F150&quot;</td><td>2018</td><td>19</td><td>&quot;USA&quot;</td><td>1903</td><td>199000</td><td>80</td></tr><tr><td>&quot;Ford&quot;</td><td>&quot;F250&quot;</td><td>2017</td><td>18</td><td>&quot;USA&quot;</td><td>1903</td><td>199000</td><td>80</td></tr><tr><td>&quot;Tesla&quot;</td><td>&quot;Cybertruck&quot;</td><td>2024</td><td>null</td><td>&quot;USA&quot;</td><td>2003</td><td>48000</td><td>3</td></tr></tbody></table></div>"
      ],
      "text/plain": [
       "shape: (5, 8)\n",
       "+--------+------------+------+----------+---------+---------+-----------+----------+\n",
       "| make   | model      | year | city_mpg | country | founded | employees | vehicles |\n",
       "| ---    | ---        | ---  | ---      | ---     | ---     | ---       | ---      |\n",
       "| str    | str        | i64  | i64      | str     | i64     | i64       | i64      |\n",
       "+==================================================================================+\n",
       "| Chevy  | Silverado  | 2019 | 17       | USA     | 1911    | 225000    | 45       |\n",
       "| Custom | HotRod     | 1967 | 12       | null    | null    | null      | null     |\n",
       "| Ford   | F150       | 2018 | 19       | USA     | 1903    | 199000    | 80       |\n",
       "| Ford   | F250       | 2017 | 18       | USA     | 1903    | 199000    | 80       |\n",
       "| Tesla  | Cybertruck | 2024 | null     | USA     | 2003    | 48000     | 3        |\n",
       "+--------+------------+------+----------+---------+---------+-----------+----------+"
      ]
     },
     "execution_count": 20,
     "metadata": {},
     "output_type": "execute_result"
    }
   ],
   "source": [
    "print(manufacturer)\n",
    "print(trucks)\n",
    "\n",
    "(\n",
    "    trucks\n",
    "    .join(\n",
    "        manufacturer,\n",
    "        how='left',\n",
    "        right_on='name',\n",
    "        left_on='make'\n",
    "    )\n",
    ")"
   ]
  },
  {
   "cell_type": "markdown",
   "id": "060c32a0-f247-48e8-b3a7-a1957fb2b81f",
   "metadata": {},
   "source": [
    "---\n",
    "# 2.9 Inner Joins\n",
    "[back to Top](#Top)\n",
    "\n",
    "* An inner join keeps only rows that have a **match in both DataFrames**.\n",
    "* **This is the default join type in Polars.**\n",
    "* You use this when you want to **preserve the data that is common** to both DataFrames.\n",
    "* If multiple rows match, it will include each match.\n",
    "* This join will often simplify the data analysis because you don't have to worry about null vlaues that result from a join."
   ]
  },
  {
   "cell_type": "code",
   "execution_count": 21,
   "id": "869dacf0-c968-42b8-8fad-db516ea989f8",
   "metadata": {},
   "outputs": [
    {
     "name": "stdout",
     "output_type": "stream",
     "text": [
      "shape: (4, 5)\n",
      "+--------+---------+---------+-----------+----------+\n",
      "| name   | country | founded | employees | vehicles |\n",
      "| ---    | ---     | ---     | ---       | ---      |\n",
      "| str    | str     | i64     | i64       | i64      |\n",
      "+===================================================+\n",
      "| Chevy  | USA     | 1911    | 225000    | 45       |\n",
      "| Ford   | USA     | 1903    | 199000    | 80       |\n",
      "| Tesla  | USA     | 2003    | 48000     | 3        |\n",
      "| Toyota | Japan   | 1937    | 370000    | 30       |\n",
      "+--------+---------+---------+-----------+----------+\n",
      "shape: (5, 4)\n",
      "+--------+------------+------+----------+\n",
      "| make   | model      | year | city_mpg |\n",
      "| ---    | ---        | ---  | ---      |\n",
      "| str    | str        | i64  | i64      |\n",
      "+=======================================+\n",
      "| Chevy  | Silverado  | 2019 | 17       |\n",
      "| Custom | HotRod     | 1967 | 12       |\n",
      "| Ford   | F150       | 2018 | 19       |\n",
      "| Ford   | F250       | 2017 | 18       |\n",
      "| Tesla  | Cybertruck | 2024 | null     |\n",
      "+--------+------------+------+----------+\n"
     ]
    },
    {
     "name": "stderr",
     "output_type": "stream",
     "text": [
      "join parallel: true\n",
      "INNER join dataframes finished\n"
     ]
    },
    {
     "data": {
      "text/html": [
       "<div><style>\n",
       ".dataframe > thead > tr,\n",
       ".dataframe > tbody > tr {\n",
       "  text-align: right;\n",
       "  white-space: pre-wrap;\n",
       "}\n",
       "</style>\n",
       "<small>shape: (4, 8)</small><table border=\"1\" class=\"dataframe\"><thead><tr><th>name</th><th>country</th><th>founded</th><th>employees</th><th>vehicles</th><th>model</th><th>year</th><th>city_mpg</th></tr><tr><td>str</td><td>str</td><td>i64</td><td>i64</td><td>i64</td><td>str</td><td>i64</td><td>i64</td></tr></thead><tbody><tr><td>&quot;Chevy&quot;</td><td>&quot;USA&quot;</td><td>1911</td><td>225000</td><td>45</td><td>&quot;Silverado&quot;</td><td>2019</td><td>17</td></tr><tr><td>&quot;Ford&quot;</td><td>&quot;USA&quot;</td><td>1903</td><td>199000</td><td>80</td><td>&quot;F150&quot;</td><td>2018</td><td>19</td></tr><tr><td>&quot;Ford&quot;</td><td>&quot;USA&quot;</td><td>1903</td><td>199000</td><td>80</td><td>&quot;F250&quot;</td><td>2017</td><td>18</td></tr><tr><td>&quot;Tesla&quot;</td><td>&quot;USA&quot;</td><td>2003</td><td>48000</td><td>3</td><td>&quot;Cybertruck&quot;</td><td>2024</td><td>null</td></tr></tbody></table></div>"
      ],
      "text/plain": [
       "shape: (4, 8)\n",
       "+-------+---------+---------+-----------+----------+------------+------+----------+\n",
       "| name  | country | founded | employees | vehicles | model      | year | city_mpg |\n",
       "| ---   | ---     | ---     | ---       | ---      | ---        | ---  | ---      |\n",
       "| str   | str     | i64     | i64       | i64      | str        | i64  | i64      |\n",
       "+=================================================================================+\n",
       "| Chevy | USA     | 1911    | 225000    | 45       | Silverado  | 2019 | 17       |\n",
       "| Ford  | USA     | 1903    | 199000    | 80       | F150       | 2018 | 19       |\n",
       "| Ford  | USA     | 1903    | 199000    | 80       | F250       | 2017 | 18       |\n",
       "| Tesla | USA     | 2003    | 48000     | 3        | Cybertruck | 2024 | null     |\n",
       "+-------+---------+---------+-----------+----------+------------+------+----------+"
      ]
     },
     "execution_count": 21,
     "metadata": {},
     "output_type": "execute_result"
    }
   ],
   "source": [
    "print(manufacturer)\n",
    "print(trucks)\n",
    "\n",
    "(\n",
    "    manufacturer\n",
    "    .join(\n",
    "        trucks,\n",
    "        how='inner',\n",
    "        left_on='name',\n",
    "        right_on='make'\n",
    "    )\n",
    ")"
   ]
  },
  {
   "cell_type": "markdown",
   "id": "9e075eaf-b6ed-4799-a060-5f36af61f9f0",
   "metadata": {},
   "source": [
    "---\n",
    "# 2.10 Outer Joins\n",
    "[back to Top](#Top)\n",
    "\n",
    "* An outer join keeps all of the rows from both DataFrames. \n",
    "* If there is a match in the other dataframe, the columns from the other dataframe are included.\n",
    "* If there is no match in the other dataframe, the columns from the other dataframe are filled with null values. \n",
    "* Use an outer join to keep all of the data from both dataframes."
   ]
  },
  {
   "cell_type": "code",
   "execution_count": 22,
   "id": "f132dd08-ec62-4c2e-b7c5-cca8ef0c3c52",
   "metadata": {},
   "outputs": [
    {
     "name": "stdout",
     "output_type": "stream",
     "text": [
      "shape: (4, 5)\n",
      "+--------+---------+---------+-----------+----------+\n",
      "| name   | country | founded | employees | vehicles |\n",
      "| ---    | ---     | ---     | ---       | ---      |\n",
      "| str    | str     | i64     | i64       | i64      |\n",
      "+===================================================+\n",
      "| Chevy  | USA     | 1911    | 225000    | 45       |\n",
      "| Ford   | USA     | 1903    | 199000    | 80       |\n",
      "| Tesla  | USA     | 2003    | 48000     | 3        |\n",
      "| Toyota | Japan   | 1937    | 370000    | 30       |\n",
      "+--------+---------+---------+-----------+----------+\n",
      "shape: (5, 4)\n",
      "+--------+------------+------+----------+\n",
      "| make   | model      | year | city_mpg |\n",
      "| ---    | ---        | ---  | ---      |\n",
      "| str    | str        | i64  | i64      |\n",
      "+=======================================+\n",
      "| Chevy  | Silverado  | 2019 | 17       |\n",
      "| Custom | HotRod     | 1967 | 12       |\n",
      "| Ford   | F150       | 2018 | 19       |\n",
      "| Ford   | F250       | 2017 | 18       |\n",
      "| Tesla  | Cybertruck | 2024 | null     |\n",
      "+--------+------------+------+----------+\n"
     ]
    },
    {
     "name": "stderr",
     "output_type": "stream",
     "text": [
      "join parallel: true\n",
      "FULL join dataframes finished\n"
     ]
    },
    {
     "data": {
      "text/html": [
       "<div><style>\n",
       ".dataframe > thead > tr,\n",
       ".dataframe > tbody > tr {\n",
       "  text-align: right;\n",
       "  white-space: pre-wrap;\n",
       "}\n",
       "</style>\n",
       "<small>shape: (6, 9)</small><table border=\"1\" class=\"dataframe\"><thead><tr><th>name</th><th>country</th><th>founded</th><th>employees</th><th>vehicles</th><th>make</th><th>model</th><th>year</th><th>city_mpg</th></tr><tr><td>str</td><td>str</td><td>i64</td><td>i64</td><td>i64</td><td>str</td><td>str</td><td>i64</td><td>i64</td></tr></thead><tbody><tr><td>&quot;Chevy&quot;</td><td>&quot;USA&quot;</td><td>1911</td><td>225000</td><td>45</td><td>&quot;Chevy&quot;</td><td>&quot;Silverado&quot;</td><td>2019</td><td>17</td></tr><tr><td>null</td><td>null</td><td>null</td><td>null</td><td>null</td><td>&quot;Custom&quot;</td><td>&quot;HotRod&quot;</td><td>1967</td><td>12</td></tr><tr><td>&quot;Ford&quot;</td><td>&quot;USA&quot;</td><td>1903</td><td>199000</td><td>80</td><td>&quot;Ford&quot;</td><td>&quot;F150&quot;</td><td>2018</td><td>19</td></tr><tr><td>&quot;Ford&quot;</td><td>&quot;USA&quot;</td><td>1903</td><td>199000</td><td>80</td><td>&quot;Ford&quot;</td><td>&quot;F250&quot;</td><td>2017</td><td>18</td></tr><tr><td>&quot;Tesla&quot;</td><td>&quot;USA&quot;</td><td>2003</td><td>48000</td><td>3</td><td>&quot;Tesla&quot;</td><td>&quot;Cybertruck&quot;</td><td>2024</td><td>null</td></tr><tr><td>&quot;Toyota&quot;</td><td>&quot;Japan&quot;</td><td>1937</td><td>370000</td><td>30</td><td>null</td><td>null</td><td>null</td><td>null</td></tr></tbody></table></div>"
      ],
      "text/plain": [
       "shape: (6, 9)\n",
       "+--------+---------+---------+-----------+----------+--------+------------+------+----------+\n",
       "| name   | country | founded | employees | vehicles | make   | model      | year | city_mpg |\n",
       "| ---    | ---     | ---     | ---       | ---      | ---    | ---        | ---  | ---      |\n",
       "| str    | str     | i64     | i64       | i64      | str    | str        | i64  | i64      |\n",
       "+===========================================================================================+\n",
       "| Chevy  | USA     | 1911    | 225000    | 45       | Chevy  | Silverado  | 2019 | 17       |\n",
       "| null   | null    | null    | null      | null     | Custom | HotRod     | 1967 | 12       |\n",
       "| Ford   | USA     | 1903    | 199000    | 80       | Ford   | F150       | 2018 | 19       |\n",
       "| Ford   | USA     | 1903    | 199000    | 80       | Ford   | F250       | 2017 | 18       |\n",
       "| Tesla  | USA     | 2003    | 48000     | 3        | Tesla  | Cybertruck | 2024 | null     |\n",
       "| Toyota | Japan   | 1937    | 370000    | 30       | null   | null       | null | null     |\n",
       "+--------+---------+---------+-----------+----------+--------+------------+------+----------+"
      ]
     },
     "execution_count": 22,
     "metadata": {},
     "output_type": "execute_result"
    }
   ],
   "source": [
    "print(manufacturer)\n",
    "print(trucks)\n",
    "\n",
    "(\n",
    "    manufacturer.join(\n",
    "        trucks,\n",
    "        how='full', # outer is deprecated\n",
    "        left_on='name',\n",
    "        right_on='make'\n",
    "    )\n",
    ")"
   ]
  },
  {
   "cell_type": "markdown",
   "id": "6af09395-2a00-49f9-82d8-605dd1599871",
   "metadata": {},
   "source": [
    "---\n",
    "# 2.11 Semi Joins\n",
    "[back to Top](#Top)\n",
    "\n",
    "* A *semi-join* keeps only the rows from the left dataframe that have a match with the right dataframe.\n",
    "* It does not add any columns from the right dataframe.\n",
    "* This is useful when you want to filter the rows in the left dataframe based on rows in the right dataframe.\n",
    "* It differs from a left join because it **doesn't add any columns from the right dataframe.**\n",
    "* It differs from an inner join because it **doesn't keep any rows that don't have a match in the right dataframe.**\n",
    "\n",
    "If we want to keep all the rows from *manufacturer* that have a match in *trucks*, we can use a semi-join. This will keep the Ford, Tesla and Checy rows from manufacturer. It drops the Toyota row."
   ]
  },
  {
   "cell_type": "code",
   "execution_count": 23,
   "id": "5ffd5c41-c3ad-4e69-88fa-548ae1f3f25c",
   "metadata": {},
   "outputs": [
    {
     "name": "stdout",
     "output_type": "stream",
     "text": [
      "shape: (4, 5)\n",
      "+--------+---------+---------+-----------+----------+\n",
      "| name   | country | founded | employees | vehicles |\n",
      "| ---    | ---     | ---     | ---       | ---      |\n",
      "| str    | str     | i64     | i64       | i64      |\n",
      "+===================================================+\n",
      "| Chevy  | USA     | 1911    | 225000    | 45       |\n",
      "| Ford   | USA     | 1903    | 199000    | 80       |\n",
      "| Tesla  | USA     | 2003    | 48000     | 3        |\n",
      "| Toyota | Japan   | 1937    | 370000    | 30       |\n",
      "+--------+---------+---------+-----------+----------+\n",
      "shape: (5, 4)\n",
      "+--------+------------+------+----------+\n",
      "| make   | model      | year | city_mpg |\n",
      "| ---    | ---        | ---  | ---      |\n",
      "| str    | str        | i64  | i64      |\n",
      "+=======================================+\n",
      "| Chevy  | Silverado  | 2019 | 17       |\n",
      "| Custom | HotRod     | 1967 | 12       |\n",
      "| Ford   | F150       | 2018 | 19       |\n",
      "| Ford   | F250       | 2017 | 18       |\n",
      "| Tesla  | Cybertruck | 2024 | null     |\n",
      "+--------+------------+------+----------+\n"
     ]
    },
    {
     "name": "stderr",
     "output_type": "stream",
     "text": [
      "join parallel: true\n",
      "SEMI join dataframes finished\n"
     ]
    },
    {
     "data": {
      "text/html": [
       "<div><style>\n",
       ".dataframe > thead > tr,\n",
       ".dataframe > tbody > tr {\n",
       "  text-align: right;\n",
       "  white-space: pre-wrap;\n",
       "}\n",
       "</style>\n",
       "<small>shape: (3, 5)</small><table border=\"1\" class=\"dataframe\"><thead><tr><th>name</th><th>country</th><th>founded</th><th>employees</th><th>vehicles</th></tr><tr><td>str</td><td>str</td><td>i64</td><td>i64</td><td>i64</td></tr></thead><tbody><tr><td>&quot;Chevy&quot;</td><td>&quot;USA&quot;</td><td>1911</td><td>225000</td><td>45</td></tr><tr><td>&quot;Ford&quot;</td><td>&quot;USA&quot;</td><td>1903</td><td>199000</td><td>80</td></tr><tr><td>&quot;Tesla&quot;</td><td>&quot;USA&quot;</td><td>2003</td><td>48000</td><td>3</td></tr></tbody></table></div>"
      ],
      "text/plain": [
       "shape: (3, 5)\n",
       "+-------+---------+---------+-----------+----------+\n",
       "| name  | country | founded | employees | vehicles |\n",
       "| ---   | ---     | ---     | ---       | ---      |\n",
       "| str   | str     | i64     | i64       | i64      |\n",
       "+==================================================+\n",
       "| Chevy | USA     | 1911    | 225000    | 45       |\n",
       "| Ford  | USA     | 1903    | 199000    | 80       |\n",
       "| Tesla | USA     | 2003    | 48000     | 3        |\n",
       "+-------+---------+---------+-----------+----------+"
      ]
     },
     "execution_count": 23,
     "metadata": {},
     "output_type": "execute_result"
    }
   ],
   "source": [
    "print(manufacturer)\n",
    "print(trucks)\n",
    "\n",
    "(\n",
    "    manufacturer.join(\n",
    "        trucks, \n",
    "        how='semi',\n",
    "        left_on='name',\n",
    "        right_on='make'\n",
    "    )\n",
    ")"
   ]
  },
  {
   "cell_type": "markdown",
   "id": "fed74aec-8e8b-4b6d-8831-c39f43deb506",
   "metadata": {},
   "source": [
    "---\n",
    "# 2.12 Cross Joins\n",
    "[back to Top](#Top)\n",
    "\n",
    "* Doesn't match up the rows based on column values.\n",
    "* A cross-join combines every row from the left dataframe with every row from the right dataframe.\n",
    "* This is also known as a **Cartesian product**.\n",
    "* This is rarely used because it can result in a very large dataframe."
   ]
  },
  {
   "cell_type": "code",
   "execution_count": 24,
   "id": "aa428eab-8ec4-4008-a258-bc9b8e0ae4d2",
   "metadata": {},
   "outputs": [
    {
     "name": "stdout",
     "output_type": "stream",
     "text": [
      "shape: (3, 1)\n",
      "+--------+\n",
      "| size   |\n",
      "| ---    |\n",
      "| str    |\n",
      "+========+\n",
      "| small  |\n",
      "| medium |\n",
      "| large  |\n",
      "+--------+\n",
      "shape: (2, 1)\n",
      "+-------+\n",
      "| color |\n",
      "| ---   |\n",
      "| str   |\n",
      "+=======+\n",
      "| red   |\n",
      "| green |\n",
      "+-------+\n"
     ]
    },
    {
     "name": "stderr",
     "output_type": "stream",
     "text": [
      "join parallel: true\n",
      "CROSS join dataframes finished\n"
     ]
    },
    {
     "data": {
      "text/html": [
       "<div><style>\n",
       ".dataframe > thead > tr,\n",
       ".dataframe > tbody > tr {\n",
       "  text-align: right;\n",
       "  white-space: pre-wrap;\n",
       "}\n",
       "</style>\n",
       "<small>shape: (6, 2)</small><table border=\"1\" class=\"dataframe\"><thead><tr><th>size</th><th>color</th></tr><tr><td>str</td><td>str</td></tr></thead><tbody><tr><td>&quot;small&quot;</td><td>&quot;red&quot;</td></tr><tr><td>&quot;small&quot;</td><td>&quot;green&quot;</td></tr><tr><td>&quot;medium&quot;</td><td>&quot;red&quot;</td></tr><tr><td>&quot;medium&quot;</td><td>&quot;green&quot;</td></tr><tr><td>&quot;large&quot;</td><td>&quot;red&quot;</td></tr><tr><td>&quot;large&quot;</td><td>&quot;green&quot;</td></tr></tbody></table></div>"
      ],
      "text/plain": [
       "shape: (6, 2)\n",
       "+--------+-------+\n",
       "| size   | color |\n",
       "| ---    | ---   |\n",
       "| str    | str   |\n",
       "+================+\n",
       "| small  | red   |\n",
       "| small  | green |\n",
       "| medium | red   |\n",
       "| medium | green |\n",
       "| large  | red   |\n",
       "| large  | green |\n",
       "+--------+-------+"
      ]
     },
     "execution_count": 24,
     "metadata": {},
     "output_type": "execute_result"
    }
   ],
   "source": [
    "sizes = pl.DataFrame({\n",
    "    'size': ['small', 'medium', 'large']\n",
    "})\n",
    "colors = pl.DataFrame({\n",
    "    'color': ['red', 'green']\n",
    "})\n",
    "\n",
    "print(sizes)\n",
    "print(colors)\n",
    "\n",
    "# make a combination of every row on the left and right\n",
    "(\n",
    "    sizes.join(colors, how='cross')\n",
    ")"
   ]
  },
  {
   "cell_type": "code",
   "execution_count": 25,
   "id": "72f1eaf3-5c3c-44d7-b7ac-9e474cd1ee7c",
   "metadata": {},
   "outputs": [
    {
     "name": "stderr",
     "output_type": "stream",
     "text": [
      "join parallel: true\n",
      "CROSS join dataframes finished\n"
     ]
    },
    {
     "data": {
      "text/html": [
       "<div><style>\n",
       ".dataframe > thead > tr,\n",
       ".dataframe > tbody > tr {\n",
       "  text-align: right;\n",
       "  white-space: pre-wrap;\n",
       "}\n",
       "</style>\n",
       "<small>shape: (20, 9)</small><table border=\"1\" class=\"dataframe\"><thead><tr><th>name</th><th>country</th><th>founded</th><th>employees</th><th>vehicles</th><th>make</th><th>model</th><th>year</th><th>city_mpg</th></tr><tr><td>str</td><td>str</td><td>i64</td><td>i64</td><td>i64</td><td>str</td><td>str</td><td>i64</td><td>i64</td></tr></thead><tbody><tr><td>&quot;Chevy&quot;</td><td>&quot;USA&quot;</td><td>1911</td><td>225000</td><td>45</td><td>&quot;Chevy&quot;</td><td>&quot;Silverado&quot;</td><td>2019</td><td>17</td></tr><tr><td>&quot;Chevy&quot;</td><td>&quot;USA&quot;</td><td>1911</td><td>225000</td><td>45</td><td>&quot;Custom&quot;</td><td>&quot;HotRod&quot;</td><td>1967</td><td>12</td></tr><tr><td>&quot;Chevy&quot;</td><td>&quot;USA&quot;</td><td>1911</td><td>225000</td><td>45</td><td>&quot;Ford&quot;</td><td>&quot;F150&quot;</td><td>2018</td><td>19</td></tr><tr><td>&quot;Chevy&quot;</td><td>&quot;USA&quot;</td><td>1911</td><td>225000</td><td>45</td><td>&quot;Ford&quot;</td><td>&quot;F250&quot;</td><td>2017</td><td>18</td></tr><tr><td>&quot;Chevy&quot;</td><td>&quot;USA&quot;</td><td>1911</td><td>225000</td><td>45</td><td>&quot;Tesla&quot;</td><td>&quot;Cybertruck&quot;</td><td>2024</td><td>null</td></tr><tr><td>&hellip;</td><td>&hellip;</td><td>&hellip;</td><td>&hellip;</td><td>&hellip;</td><td>&hellip;</td><td>&hellip;</td><td>&hellip;</td><td>&hellip;</td></tr><tr><td>&quot;Toyota&quot;</td><td>&quot;Japan&quot;</td><td>1937</td><td>370000</td><td>30</td><td>&quot;Chevy&quot;</td><td>&quot;Silverado&quot;</td><td>2019</td><td>17</td></tr><tr><td>&quot;Toyota&quot;</td><td>&quot;Japan&quot;</td><td>1937</td><td>370000</td><td>30</td><td>&quot;Custom&quot;</td><td>&quot;HotRod&quot;</td><td>1967</td><td>12</td></tr><tr><td>&quot;Toyota&quot;</td><td>&quot;Japan&quot;</td><td>1937</td><td>370000</td><td>30</td><td>&quot;Ford&quot;</td><td>&quot;F150&quot;</td><td>2018</td><td>19</td></tr><tr><td>&quot;Toyota&quot;</td><td>&quot;Japan&quot;</td><td>1937</td><td>370000</td><td>30</td><td>&quot;Ford&quot;</td><td>&quot;F250&quot;</td><td>2017</td><td>18</td></tr><tr><td>&quot;Toyota&quot;</td><td>&quot;Japan&quot;</td><td>1937</td><td>370000</td><td>30</td><td>&quot;Tesla&quot;</td><td>&quot;Cybertruck&quot;</td><td>2024</td><td>null</td></tr></tbody></table></div>"
      ],
      "text/plain": [
       "shape: (20, 9)\n",
       "+--------+---------+---------+-----------+----------+--------+------------+------+----------+\n",
       "| name   | country | founded | employees | vehicles | make   | model      | year | city_mpg |\n",
       "| ---    | ---     | ---     | ---       | ---      | ---    | ---        | ---  | ---      |\n",
       "| str    | str     | i64     | i64       | i64      | str    | str        | i64  | i64      |\n",
       "+===========================================================================================+\n",
       "| Chevy  | USA     | 1911    | 225000    | 45       | Chevy  | Silverado  | 2019 | 17       |\n",
       "| Chevy  | USA     | 1911    | 225000    | 45       | Custom | HotRod     | 1967 | 12       |\n",
       "| Chevy  | USA     | 1911    | 225000    | 45       | Ford   | F150       | 2018 | 19       |\n",
       "| Chevy  | USA     | 1911    | 225000    | 45       | Ford   | F250       | 2017 | 18       |\n",
       "| Chevy  | USA     | 1911    | 225000    | 45       | Tesla  | Cybertruck | 2024 | null     |\n",
       "| …      | …       | …       | …         | …        | …      | …          | …    | …        |\n",
       "| Toyota | Japan   | 1937    | 370000    | 30       | Chevy  | Silverado  | 2019 | 17       |\n",
       "| Toyota | Japan   | 1937    | 370000    | 30       | Custom | HotRod     | 1967 | 12       |\n",
       "| Toyota | Japan   | 1937    | 370000    | 30       | Ford   | F150       | 2018 | 19       |\n",
       "| Toyota | Japan   | 1937    | 370000    | 30       | Ford   | F250       | 2017 | 18       |\n",
       "| Toyota | Japan   | 1937    | 370000    | 30       | Tesla  | Cybertruck | 2024 | null     |\n",
       "+--------+---------+---------+-----------+----------+--------+------------+------+----------+"
      ]
     },
     "execution_count": 25,
     "metadata": {},
     "output_type": "execute_result"
    }
   ],
   "source": [
    "(\n",
    "    manufacturer.join(\n",
    "        trucks, \n",
    "        how='cross'\n",
    "    )\n",
    ")"
   ]
  },
  {
   "cell_type": "markdown",
   "id": "7c0dc223-9be6-4243-ae9f-f82f7ff23f36",
   "metadata": {},
   "source": [
    "---\n",
    "# 2.13 Anti-Joins\n",
    "[back to Top](#Top)\n",
    "\n",
    "* Keep all the rows from the left dataframe that don't have a match in the right dataframe.\n",
    "* Does not keep any rows that have a match in the right dataframe.\n",
    "* Useful when you want to find the rows in one dataframe but not in the other.\n",
    "* Can be very useful for debugging.\n",
    "\n",
    "An anti-join can be used to determine **which manufacturers are not in the trucks dataframe.**"
   ]
  },
  {
   "cell_type": "code",
   "execution_count": 26,
   "id": "ddf8f80a-e144-45a2-bffb-d04a7da60160",
   "metadata": {},
   "outputs": [
    {
     "name": "stdout",
     "output_type": "stream",
     "text": [
      "shape: (4, 5)\n",
      "+--------+---------+---------+-----------+----------+\n",
      "| name   | country | founded | employees | vehicles |\n",
      "| ---    | ---     | ---     | ---       | ---      |\n",
      "| str    | str     | i64     | i64       | i64      |\n",
      "+===================================================+\n",
      "| Chevy  | USA     | 1911    | 225000    | 45       |\n",
      "| Ford   | USA     | 1903    | 199000    | 80       |\n",
      "| Tesla  | USA     | 2003    | 48000     | 3        |\n",
      "| Toyota | Japan   | 1937    | 370000    | 30       |\n",
      "+--------+---------+---------+-----------+----------+\n",
      "shape: (5, 4)\n",
      "+--------+------------+------+----------+\n",
      "| make   | model      | year | city_mpg |\n",
      "| ---    | ---        | ---  | ---      |\n",
      "| str    | str        | i64  | i64      |\n",
      "+=======================================+\n",
      "| Chevy  | Silverado  | 2019 | 17       |\n",
      "| Custom | HotRod     | 1967 | 12       |\n",
      "| Ford   | F150       | 2018 | 19       |\n",
      "| Ford   | F250       | 2017 | 18       |\n",
      "| Tesla  | Cybertruck | 2024 | null     |\n",
      "+--------+------------+------+----------+\n"
     ]
    },
    {
     "name": "stderr",
     "output_type": "stream",
     "text": [
      "join parallel: true\n",
      "ANTI join dataframes finished\n"
     ]
    },
    {
     "data": {
      "text/html": [
       "<div><style>\n",
       ".dataframe > thead > tr,\n",
       ".dataframe > tbody > tr {\n",
       "  text-align: right;\n",
       "  white-space: pre-wrap;\n",
       "}\n",
       "</style>\n",
       "<small>shape: (1, 5)</small><table border=\"1\" class=\"dataframe\"><thead><tr><th>name</th><th>country</th><th>founded</th><th>employees</th><th>vehicles</th></tr><tr><td>str</td><td>str</td><td>i64</td><td>i64</td><td>i64</td></tr></thead><tbody><tr><td>&quot;Toyota&quot;</td><td>&quot;Japan&quot;</td><td>1937</td><td>370000</td><td>30</td></tr></tbody></table></div>"
      ],
      "text/plain": [
       "shape: (1, 5)\n",
       "+--------+---------+---------+-----------+----------+\n",
       "| name   | country | founded | employees | vehicles |\n",
       "| ---    | ---     | ---     | ---       | ---      |\n",
       "| str    | str     | i64     | i64       | i64      |\n",
       "+===================================================+\n",
       "| Toyota | Japan   | 1937    | 370000    | 30       |\n",
       "+--------+---------+---------+-----------+----------+"
      ]
     },
     "execution_count": 26,
     "metadata": {},
     "output_type": "execute_result"
    }
   ],
   "source": [
    "print(manufacturer)\n",
    "print(trucks)\n",
    "\n",
    "(\n",
    "    manufacturer.join(\n",
    "        trucks,\n",
    "        how='anti',\n",
    "        left_on='name',\n",
    "        right_on='make'\n",
    "    )\n",
    ")"
   ]
  },
  {
   "cell_type": "markdown",
   "id": "bf126904-2b46-428e-a9ec-15f1bce72086",
   "metadata": {},
   "source": [
    "---\n",
    "If we want to know **which trucks are not in the manufacturers dataframe**, we can put the manufacturers dataframe on the right side of the anti-join."
   ]
  },
  {
   "cell_type": "code",
   "execution_count": 27,
   "id": "ae12482e-73ed-4017-8489-4129870af0d8",
   "metadata": {},
   "outputs": [
    {
     "name": "stdout",
     "output_type": "stream",
     "text": [
      "shape: (4, 5)\n",
      "+--------+---------+---------+-----------+----------+\n",
      "| name   | country | founded | employees | vehicles |\n",
      "| ---    | ---     | ---     | ---       | ---      |\n",
      "| str    | str     | i64     | i64       | i64      |\n",
      "+===================================================+\n",
      "| Chevy  | USA     | 1911    | 225000    | 45       |\n",
      "| Ford   | USA     | 1903    | 199000    | 80       |\n",
      "| Tesla  | USA     | 2003    | 48000     | 3        |\n",
      "| Toyota | Japan   | 1937    | 370000    | 30       |\n",
      "+--------+---------+---------+-----------+----------+\n",
      "shape: (5, 4)\n",
      "+--------+------------+------+----------+\n",
      "| make   | model      | year | city_mpg |\n",
      "| ---    | ---        | ---  | ---      |\n",
      "| str    | str        | i64  | i64      |\n",
      "+=======================================+\n",
      "| Chevy  | Silverado  | 2019 | 17       |\n",
      "| Custom | HotRod     | 1967 | 12       |\n",
      "| Ford   | F150       | 2018 | 19       |\n",
      "| Ford   | F250       | 2017 | 18       |\n",
      "| Tesla  | Cybertruck | 2024 | null     |\n",
      "+--------+------------+------+----------+\n"
     ]
    },
    {
     "name": "stderr",
     "output_type": "stream",
     "text": [
      "join parallel: true\n",
      "ANTI join dataframes finished\n"
     ]
    },
    {
     "data": {
      "text/html": [
       "<div><style>\n",
       ".dataframe > thead > tr,\n",
       ".dataframe > tbody > tr {\n",
       "  text-align: right;\n",
       "  white-space: pre-wrap;\n",
       "}\n",
       "</style>\n",
       "<small>shape: (1, 4)</small><table border=\"1\" class=\"dataframe\"><thead><tr><th>make</th><th>model</th><th>year</th><th>city_mpg</th></tr><tr><td>str</td><td>str</td><td>i64</td><td>i64</td></tr></thead><tbody><tr><td>&quot;Custom&quot;</td><td>&quot;HotRod&quot;</td><td>1967</td><td>12</td></tr></tbody></table></div>"
      ],
      "text/plain": [
       "shape: (1, 4)\n",
       "+--------+--------+------+----------+\n",
       "| make   | model  | year | city_mpg |\n",
       "| ---    | ---    | ---  | ---      |\n",
       "| str    | str    | i64  | i64      |\n",
       "+===================================+\n",
       "| Custom | HotRod | 1967 | 12       |\n",
       "+--------+--------+------+----------+"
      ]
     },
     "execution_count": 27,
     "metadata": {},
     "output_type": "execute_result"
    }
   ],
   "source": [
    "print(manufacturer)\n",
    "print(trucks)\n",
    "\n",
    "(\n",
    "    trucks.join(\n",
    "        manufacturer,\n",
    "        how='anti',\n",
    "        right_on='name',\n",
    "        left_on='make'\n",
    "    )\n",
    ")"
   ]
  },
  {
   "cell_type": "markdown",
   "id": "4566aab7-a333-4bdd-90d3-6681b9dbc242",
   "metadata": {},
   "source": [
    "---\n",
    "# 2.14 Join Validation\n",
    "[back to Top](#Top)\n",
    "\n",
    "* When you join two dataframes, you want to understand if the join is a one-to-one join, a one-to-many join, or a many-to-many join.\n",
    "* This will help you understand the structure of the data and how to use it in your analysis.\n",
    "* It can also prevent errors.\n",
    "* For example, if you run an online store and allow customers to have multiple shipping addresses, you want to ensure that a shipment only goes to one address.\n",
    "* If you had an orders table and a shipping table, you would want to ensure that the join is a one-to-one join."
   ]
  },
  {
   "cell_type": "code",
   "execution_count": 28,
   "id": "15ff1646-04e5-48e5-adb5-195afeb6648a",
   "metadata": {},
   "outputs": [
    {
     "name": "stdout",
     "output_type": "stream",
     "text": [
      "shape: (4, 5)\n",
      "+--------+---------+---------+-----------+----------+\n",
      "| name   | country | founded | employees | vehicles |\n",
      "| ---    | ---     | ---     | ---       | ---      |\n",
      "| str    | str     | i64     | i64       | i64      |\n",
      "+===================================================+\n",
      "| Chevy  | USA     | 1911    | 225000    | 45       |\n",
      "| Ford   | USA     | 1903    | 199000    | 80       |\n",
      "| Tesla  | USA     | 2003    | 48000     | 3        |\n",
      "| Toyota | Japan   | 1937    | 370000    | 30       |\n",
      "+--------+---------+---------+-----------+----------+\n",
      "shape: (5, 4)\n",
      "+--------+------------+------+----------+\n",
      "| make   | model      | year | city_mpg |\n",
      "| ---    | ---        | ---  | ---      |\n",
      "| str    | str        | i64  | i64      |\n",
      "+=======================================+\n",
      "| Chevy  | Silverado  | 2019 | 17       |\n",
      "| Custom | HotRod     | 1967 | 12       |\n",
      "| Ford   | F150       | 2018 | 19       |\n",
      "| Ford   | F250       | 2017 | 18       |\n",
      "| Tesla  | Cybertruck | 2024 | null     |\n",
      "+--------+------------+------+----------+\n",
      "join keys did not fulfill 1:1 validation\n"
     ]
    },
    {
     "name": "stderr",
     "output_type": "stream",
     "text": [
      "join parallel: true\n",
      "INNER join dataframes finished\n"
     ]
    }
   ],
   "source": [
    "print(manufacturer)\n",
    "print(trucks)\n",
    "\n",
    "try:\n",
    "    print(\n",
    "        manufacturer.join(\n",
    "            trucks,\n",
    "            left_on='name',\n",
    "            right_on='make',\n",
    "            validate='1:1'\n",
    "        )\n",
    "    )\n",
    "except Exception as e:\n",
    "    print(e)"
   ]
  },
  {
   "cell_type": "code",
   "execution_count": 29,
   "id": "9db8d087-960e-4f6d-920d-d48cfe961e77",
   "metadata": {},
   "outputs": [
    {
     "name": "stdout",
     "output_type": "stream",
     "text": [
      "join keys did not fulfill m:1 validation\n"
     ]
    },
    {
     "name": "stderr",
     "output_type": "stream",
     "text": [
      "join parallel: true\n",
      "INNER join dataframes finished\n"
     ]
    }
   ],
   "source": [
    "# try many-to-one validation\n",
    "try:\n",
    "    print(\n",
    "        manufacturer.join(\n",
    "            trucks,\n",
    "            left_on='name',\n",
    "            right_on='make',\n",
    "            validate='m:1'\n",
    "        )\n",
    "    )\n",
    "except Exception as e:\n",
    "    print(e)"
   ]
  },
  {
   "cell_type": "code",
   "execution_count": 30,
   "id": "ff1d8fbd-15de-416e-bf45-4311ef62d04d",
   "metadata": {},
   "outputs": [
    {
     "name": "stdout",
     "output_type": "stream",
     "text": [
      "shape: (4, 8)\n",
      "+-------+---------+---------+-----------+----------+------------+------+----------+\n",
      "| name  | country | founded | employees | vehicles | model      | year | city_mpg |\n",
      "| ---   | ---     | ---     | ---       | ---      | ---        | ---  | ---      |\n",
      "| str   | str     | i64     | i64       | i64      | str        | i64  | i64      |\n",
      "+=================================================================================+\n",
      "| Chevy | USA     | 1911    | 225000    | 45       | Silverado  | 2019 | 17       |\n",
      "| Ford  | USA     | 1903    | 199000    | 80       | F150       | 2018 | 19       |\n",
      "| Ford  | USA     | 1903    | 199000    | 80       | F250       | 2017 | 18       |\n",
      "| Tesla | USA     | 2003    | 48000     | 3        | Cybertruck | 2024 | null     |\n",
      "+-------+---------+---------+-----------+----------+------------+------+----------+\n"
     ]
    },
    {
     "name": "stderr",
     "output_type": "stream",
     "text": [
      "join parallel: true\n",
      "INNER join dataframes finished\n"
     ]
    }
   ],
   "source": [
    "# try  1:many validation\n",
    "try:\n",
    "    print(\n",
    "        manufacturer.join(\n",
    "            trucks,\n",
    "            left_on='name',\n",
    "            right_on='make',\n",
    "            validate='1:m'\n",
    "        )\n",
    "    )\n",
    "except Exception as e:\n",
    "    print(e)"
   ]
  },
  {
   "cell_type": "markdown",
   "id": "dac47e85-7de3-42d0-849a-ecac189d11aa",
   "metadata": {},
   "source": [
    "---\n",
    "# 2.15 Speeding up Joins with Sorting\n",
    "[back to Top](#Top)\n",
    "\n",
    "* Polars has a query engine and can be smart about joins.\n",
    "* Polars can use a faster algorithm to join data if your data is sorted.\n",
    "* Here, use the Open Energy Information (OpenEI) dataset.\n"
   ]
  },
  {
   "cell_type": "code",
   "execution_count": 31,
   "id": "51dfac77-8137-4c06-8cdc-3953ad97c65c",
   "metadata": {},
   "outputs": [
    {
     "name": "stdout",
     "output_type": "stream",
     "text": [
      "--2024-10-25 10:54:35--  https://data.openei.org/files/907/2016cityandcountylightdutyvehicleinventory.xlsb\n",
      "data.openei.org (data.openei.org) をDNSに問いあわせています... 35.164.34.232, 52.43.166.203, 52.11.187.133\n",
      "data.openei.org (data.openei.org)|35.164.34.232|:443 に接続しています... 接続しました。\n",
      "HTTP による接続要求を送信しました、応答を待っています... 200 OK\n",
      "長さ: 62605647 (60M) [application/octet-stream]\n",
      "`./data/2016cityandcountylightdutyvehicleinventory.xlsb' に保存中\n",
      "\n",
      "2016cityandcountyli 100%[===================>]  59.71M  1.36MB/s 時間 29s        \n",
      "\n",
      "2024-10-25 10:55:05 (2.05 MB/s) - `./data/2016cityandcountylightdutyvehicleinventory.xlsb' へ保存完了 [62605647/62605647]\n",
      "\n"
     ]
    }
   ],
   "source": [
    "url = 'https://data.openei.org/files/907/2016cityandcountylightdutyvehicleinventory.xlsb'\n",
    "url_file = './data/2016cityandcountylightdutyvehicleinventory.xlsb'\n",
    "\n",
    "!wget -P ./data -nc $url"
   ]
  },
  {
   "cell_type": "code",
   "execution_count": 32,
   "id": "e7bc1d6f-9b17-4b5c-a601-1842475c4278",
   "metadata": {},
   "outputs": [
    {
     "name": "stderr",
     "output_type": "stream",
     "text": [
      "dataframe filtered\n"
     ]
    },
    {
     "data": {
      "text/plain": [
       "(307828, 51)"
      ]
     },
     "execution_count": 32,
     "metadata": {},
     "output_type": "execute_result"
    }
   ],
   "source": [
    "inv_raw = pl.read_excel(\n",
    "    url_file,\n",
    "    engine='calamine',\n",
    "    read_options=dict(header_row=1),\n",
    "    sheet_name='City'\n",
    ")\n",
    "inv_raw.shape"
   ]
  },
  {
   "cell_type": "code",
   "execution_count": 33,
   "id": "66451566-d28c-485f-aab1-efc326382261",
   "metadata": {},
   "outputs": [
    {
     "data": {
      "text/plain": [
       "{'state_abbr': False,\n",
       " 'gisjoin': False,\n",
       " 'city_id': True,\n",
       " 'city_name': False,\n",
       " 'fuel_type_org': False,\n",
       " 'fuel_type': False,\n",
       " 'class': False,\n",
       " 'before 1980': False,\n",
       " '1980-99': False,\n",
       " '1990-99': False,\n",
       " '2000': False,\n",
       " '2001': False,\n",
       " '2002': False,\n",
       " '2003': False,\n",
       " '2004': False,\n",
       " '2005': False,\n",
       " '2006': False,\n",
       " '2007': False,\n",
       " '2008': False,\n",
       " '2009': False,\n",
       " '2010': False,\n",
       " '2011': False,\n",
       " '2012': False,\n",
       " '2013': False,\n",
       " '2014': False,\n",
       " '2015': False,\n",
       " '2016': False,\n",
       " '2017': False,\n",
       " '2018': True,\n",
       " 'before 1980_1': False,\n",
       " '1980-99_1': False,\n",
       " '1990-99_1': False,\n",
       " '2000_1': False,\n",
       " '2001_1': False,\n",
       " '2002_1': False,\n",
       " '2003_1': False,\n",
       " '2004_1': False,\n",
       " '2005_1': False,\n",
       " '2006_1': False,\n",
       " '2007_1': False,\n",
       " '2008_1': False,\n",
       " '2009_1': False,\n",
       " '2010_1': False,\n",
       " '2011_1': False,\n",
       " '2012_1': False,\n",
       " '2013_1': False,\n",
       " '2014_1': False,\n",
       " '2015_1': False,\n",
       " '2016_1': False,\n",
       " '2017_1': False,\n",
       " '2018_1': True}"
      ]
     },
     "execution_count": 33,
     "metadata": {},
     "output_type": "execute_result"
    }
   ],
   "source": [
    "{col:inv_raw[col].is_sorted() for col in inv_raw.columns}"
   ]
  },
  {
   "cell_type": "code",
   "execution_count": 34,
   "id": "fb37e4c9-5e44-464c-aff2-ee13ccb86613",
   "metadata": {},
   "outputs": [
    {
     "data": {
      "text/html": [
       "<div><style>\n",
       ".dataframe > thead > tr,\n",
       ".dataframe > tbody > tr {\n",
       "  text-align: right;\n",
       "  white-space: pre-wrap;\n",
       "}\n",
       "</style>\n",
       "<small>shape: (307_828, 51)</small><table border=\"1\" class=\"dataframe\"><thead><tr><th>state_abbr</th><th>gisjoin</th><th>city_id</th><th>city_name</th><th>fuel_type_org</th><th>fuel_type</th><th>class</th><th>before 1980</th><th>1980-99</th><th>1990-99</th><th>2000</th><th>2001</th><th>2002</th><th>2003</th><th>2004</th><th>2005</th><th>2006</th><th>2007</th><th>2008</th><th>2009</th><th>2010</th><th>2011</th><th>2012</th><th>2013</th><th>2014</th><th>2015</th><th>2016</th><th>2017</th><th>2018</th><th>before 1980_1</th><th>1980-99_1</th><th>1990-99_1</th><th>2000_1</th><th>2001_1</th><th>2002_1</th><th>2003_1</th><th>2004_1</th><th>2005_1</th><th>2006_1</th><th>2007_1</th><th>2008_1</th><th>2009_1</th><th>2010_1</th><th>2011_1</th><th>2012_1</th><th>2013_1</th><th>2014_1</th><th>2015_1</th><th>2016_1</th><th>2017_1</th><th>2018_1</th></tr><tr><td>str</td><td>str</td><td>i64</td><td>str</td><td>str</td><td>str</td><td>str</td><td>f64</td><td>f64</td><td>f64</td><td>f64</td><td>f64</td><td>f64</td><td>f64</td><td>f64</td><td>f64</td><td>f64</td><td>f64</td><td>f64</td><td>f64</td><td>f64</td><td>f64</td><td>f64</td><td>f64</td><td>f64</td><td>f64</td><td>f64</td><td>f64</td><td>null</td><td>i64</td><td>i64</td><td>i64</td><td>f64</td><td>f64</td><td>f64</td><td>f64</td><td>f64</td><td>f64</td><td>f64</td><td>f64</td><td>f64</td><td>f64</td><td>f64</td><td>f64</td><td>f64</td><td>f64</td><td>f64</td><td>f64</td><td>f64</td><td>f64</td><td>null</td></tr></thead><tbody><tr><td>&quot;AL&quot;</td><td>&quot;G01000124&quot;</td><td>100124</td><td>&quot;Abbeville&quot;</td><td>&quot;BI&quot;</td><td>&quot;Other/Unknown&quot;</td><td>&quot;Car&quot;</td><td>null</td><td>null</td><td>null</td><td>null</td><td>0.000135</td><td>null</td><td>null</td><td>null</td><td>null</td><td>null</td><td>null</td><td>null</td><td>null</td><td>null</td><td>null</td><td>null</td><td>null</td><td>null</td><td>null</td><td>null</td><td>null</td><td>null</td><td>null</td><td>null</td><td>null</td><td>null</td><td>0.000006</td><td>null</td><td>null</td><td>null</td><td>null</td><td>null</td><td>null</td><td>null</td><td>null</td><td>null</td><td>null</td><td>null</td><td>null</td><td>null</td><td>null</td><td>null</td><td>null</td><td>null</td></tr><tr><td>&quot;AL&quot;</td><td>&quot;G01000124&quot;</td><td>100124</td><td>&quot;Abbeville&quot;</td><td>&quot;DIES&quot;</td><td>&quot;Diesel vehicle&quot;</td><td>&quot;Car&quot;</td><td>null</td><td>0.000676</td><td>null</td><td>0.00027</td><td>null</td><td>null</td><td>0.000135</td><td>null</td><td>null</td><td>null</td><td>null</td><td>null</td><td>null</td><td>null</td><td>0.000135</td><td>null</td><td>null</td><td>0.000135</td><td>0.000135</td><td>null</td><td>null</td><td>null</td><td>null</td><td>0</td><td>null</td><td>0.0</td><td>null</td><td>null</td><td>0.0</td><td>null</td><td>null</td><td>null</td><td>null</td><td>null</td><td>null</td><td>null</td><td>0.000006</td><td>null</td><td>null</td><td>0.000005</td><td>0.0</td><td>null</td><td>null</td><td>null</td></tr><tr><td>&quot;AL&quot;</td><td>&quot;G01000124&quot;</td><td>100124</td><td>&quot;Abbeville&quot;</td><td>&quot;DIES&quot;</td><td>&quot;Diesel vehicle&quot;</td><td>&quot;Truck&quot;</td><td>null</td><td>0.000946</td><td>0.005003</td><td>0.001622</td><td>0.001893</td><td>0.001487</td><td>0.001622</td><td>0.001758</td><td>0.002299</td><td>0.002028</td><td>0.001758</td><td>0.001082</td><td>0.000541</td><td>0.000676</td><td>0.001217</td><td>0.001217</td><td>0.000946</td><td>0.001352</td><td>0.001893</td><td>0.002028</td><td>null</td><td>null</td><td>null</td><td>0</td><td>0</td><td>0.0</td><td>0.0</td><td>0.0</td><td>0.0</td><td>0.0</td><td>0.0</td><td>0.0</td><td>0.0</td><td>0.0</td><td>0.0</td><td>0.0</td><td>0.0</td><td>0.0</td><td>0.0</td><td>0.0</td><td>0.0</td><td>0.00009</td><td>null</td><td>null</td></tr><tr><td>&quot;AL&quot;</td><td>&quot;G01000124&quot;</td><td>100124</td><td>&quot;Abbeville&quot;</td><td>&quot;DIES&quot;</td><td>&quot;Diesel vehicle&quot;</td><td>&quot;Unknown&quot;</td><td>0.000541</td><td>null</td><td>null</td><td>null</td><td>null</td><td>null</td><td>null</td><td>null</td><td>null</td><td>null</td><td>null</td><td>null</td><td>null</td><td>null</td><td>null</td><td>null</td><td>null</td><td>null</td><td>null</td><td>null</td><td>null</td><td>null</td><td>0</td><td>null</td><td>null</td><td>null</td><td>null</td><td>null</td><td>null</td><td>null</td><td>null</td><td>null</td><td>null</td><td>null</td><td>null</td><td>null</td><td>null</td><td>null</td><td>null</td><td>null</td><td>null</td><td>null</td><td>null</td><td>null</td></tr><tr><td>&quot;AL&quot;</td><td>&quot;G01000124&quot;</td><td>100124</td><td>&quot;Abbeville&quot;</td><td>&quot;ELECTRIC VEHICLE&quot;</td><td>&quot;Electric vehicle&quot;</td><td>&quot;Car&quot;</td><td>null</td><td>null</td><td>null</td><td>null</td><td>null</td><td>null</td><td>null</td><td>null</td><td>null</td><td>null</td><td>null</td><td>null</td><td>null</td><td>null</td><td>null</td><td>null</td><td>null</td><td>null</td><td>0.000135</td><td>null</td><td>null</td><td>null</td><td>null</td><td>null</td><td>null</td><td>null</td><td>null</td><td>null</td><td>null</td><td>null</td><td>null</td><td>null</td><td>null</td><td>null</td><td>null</td><td>null</td><td>null</td><td>null</td><td>null</td><td>null</td><td>0.000001</td><td>null</td><td>null</td><td>null</td></tr><tr><td>&hellip;</td><td>&hellip;</td><td>&hellip;</td><td>&hellip;</td><td>&hellip;</td><td>&hellip;</td><td>&hellip;</td><td>&hellip;</td><td>&hellip;</td><td>&hellip;</td><td>&hellip;</td><td>&hellip;</td><td>&hellip;</td><td>&hellip;</td><td>&hellip;</td><td>&hellip;</td><td>&hellip;</td><td>&hellip;</td><td>&hellip;</td><td>&hellip;</td><td>&hellip;</td><td>&hellip;</td><td>&hellip;</td><td>&hellip;</td><td>&hellip;</td><td>&hellip;</td><td>&hellip;</td><td>&hellip;</td><td>&hellip;</td><td>&hellip;</td><td>&hellip;</td><td>&hellip;</td><td>&hellip;</td><td>&hellip;</td><td>&hellip;</td><td>&hellip;</td><td>&hellip;</td><td>&hellip;</td><td>&hellip;</td><td>&hellip;</td><td>&hellip;</td><td>&hellip;</td><td>&hellip;</td><td>&hellip;</td><td>&hellip;</td><td>&hellip;</td><td>&hellip;</td><td>&hellip;</td><td>&hellip;</td><td>&hellip;</td><td>&hellip;</td></tr><tr><td>&quot;WY&quot;</td><td>&quot;G56086665&quot;</td><td>5686665</td><td>&quot;Yoder&quot;</td><td>&quot;GAS&quot;</td><td>&quot;Gasoline vehicle&quot;</td><td>&quot;Car&quot;</td><td>null</td><td>0.020339</td><td>0.079661</td><td>0.022034</td><td>0.016949</td><td>0.013559</td><td>0.022034</td><td>0.023729</td><td>0.010169</td><td>0.00678</td><td>0.022034</td><td>0.022034</td><td>0.013559</td><td>0.008475</td><td>0.018644</td><td>0.013559</td><td>0.013559</td><td>0.020339</td><td>0.016949</td><td>0.00678</td><td>null</td><td>null</td><td>null</td><td>0</td><td>0</td><td>0.001013</td><td>0.000734</td><td>0.000673</td><td>0.000965</td><td>0.001225</td><td>0.00045</td><td>0.00029</td><td>0.001034</td><td>0.001102</td><td>0.000904</td><td>0.000456</td><td>0.000896</td><td>0.000549</td><td>0.000581</td><td>0.000887</td><td>0.000772</td><td>0.0</td><td>null</td><td>null</td></tr><tr><td>&quot;WY&quot;</td><td>&quot;G56086665&quot;</td><td>5686665</td><td>&quot;Yoder&quot;</td><td>&quot;GAS&quot;</td><td>&quot;Gasoline vehicle&quot;</td><td>&quot;Truck&quot;</td><td>null</td><td>0.040678</td><td>0.115254</td><td>0.022034</td><td>0.013559</td><td>0.016949</td><td>0.018644</td><td>0.00678</td><td>0.013559</td><td>0.011864</td><td>0.015254</td><td>0.00678</td><td>0.001695</td><td>0.00339</td><td>0.001695</td><td>0.008475</td><td>0.005085</td><td>0.010169</td><td>0.016949</td><td>0.00339</td><td>null</td><td>null</td><td>null</td><td>0</td><td>0</td><td>0.001425</td><td>0.00085</td><td>0.001049</td><td>0.001172</td><td>0.000399</td><td>0.000871</td><td>0.000744</td><td>0.000885</td><td>0.0</td><td>0.0</td><td>0.000195</td><td>0.000113</td><td>0.000499</td><td>0.000299</td><td>0.000566</td><td>0.000936</td><td>0.000188</td><td>null</td><td>null</td></tr><tr><td>&quot;WY&quot;</td><td>&quot;G56086665&quot;</td><td>5686665</td><td>&quot;Yoder&quot;</td><td>&quot;GAS&quot;</td><td>&quot;Gasoline vehicle&quot;</td><td>&quot;Unknown&quot;</td><td>0.023729</td><td>null</td><td>0.001695</td><td>null</td><td>null</td><td>null</td><td>null</td><td>null</td><td>0.001695</td><td>null</td><td>null</td><td>null</td><td>null</td><td>null</td><td>null</td><td>null</td><td>null</td><td>null</td><td>null</td><td>null</td><td>null</td><td>null</td><td>0</td><td>null</td><td>0</td><td>null</td><td>null</td><td>null</td><td>null</td><td>null</td><td>0.0</td><td>null</td><td>null</td><td>null</td><td>null</td><td>null</td><td>null</td><td>null</td><td>null</td><td>null</td><td>null</td><td>null</td><td>null</td><td>null</td></tr><tr><td>&quot;WY&quot;</td><td>&quot;G56086665&quot;</td><td>5686665</td><td>&quot;Yoder&quot;</td><td>&quot;HYBRID ELECTRIC VEHICLE&quot;</td><td>&quot;Hybrid electric vehicle&quot;</td><td>&quot;Car&quot;</td><td>null</td><td>null</td><td>null</td><td>null</td><td>null</td><td>null</td><td>null</td><td>null</td><td>null</td><td>null</td><td>0.001695</td><td>null</td><td>null</td><td>null</td><td>null</td><td>null</td><td>null</td><td>null</td><td>0.001695</td><td>null</td><td>null</td><td>null</td><td>null</td><td>null</td><td>null</td><td>null</td><td>null</td><td>null</td><td>null</td><td>null</td><td>null</td><td>null</td><td>0.0</td><td>null</td><td>null</td><td>null</td><td>null</td><td>null</td><td>null</td><td>null</td><td>0.000034</td><td>null</td><td>null</td><td>null</td></tr><tr><td>&quot;WY&quot;</td><td>&quot;G56086665&quot;</td><td>5686665</td><td>&quot;Yoder&quot;</td><td>&quot;UNK&quot;</td><td>&quot;Other/Unknown&quot;</td><td>&quot;Unknown&quot;</td><td>0.001695</td><td>null</td><td>null</td><td>null</td><td>null</td><td>null</td><td>null</td><td>null</td><td>null</td><td>null</td><td>null</td><td>0.001695</td><td>null</td><td>null</td><td>null</td><td>null</td><td>null</td><td>null</td><td>null</td><td>null</td><td>null</td><td>null</td><td>0</td><td>null</td><td>null</td><td>null</td><td>null</td><td>null</td><td>null</td><td>null</td><td>null</td><td>null</td><td>null</td><td>0.0</td><td>null</td><td>null</td><td>null</td><td>null</td><td>null</td><td>null</td><td>null</td><td>null</td><td>null</td><td>null</td></tr></tbody></table></div>"
      ],
      "text/plain": [
       "shape: (307_828, 51)\n",
       "+-----+-----+-----+-----+-----+-----+-----+-----+-----+-----+-----+-----+-----+-----+-----+-----+-----+-----+-----+-----+-----+-----+-----+-----+-----+-----+-----+-----+-----+-----+-----+-----+-----+-----+-----+-----+-----+-----+-----+-----+-----+-----+-----+-----+-----+-----+-----+-----+-----+-----+-----+\n",
       "| sta | gis | cit | cit | fue | fue | cla | bef | 198 | 199 | 200 | 200 | 200 | 200 | 200 | 200 | 200 | 200 | 200 | 200 | 201 | 201 | 201 | 201 | 201 | 201 | 201 | 201 | 201 | bef | 198 | 199 | 200 | 200 | 200 | 200 | 200 | 200 | 200 | 200 | 200 | 200 | 201 | 201 | 201 | 201 | 201 | 201 | 201 | 201 | 201 |\n",
       "| te_ | joi | y_i | y_n | l_t | l_t | ss  | ore | 0-9 | 0-9 | 0   | 1   | 2   | 3   | 4   | 5   | 6   | 7   | 8   | 9   | 0   | 1   | 2   | 3   | 4   | 5   | 6   | 7   | 8   | ore | 0-9 | 0-9 | 0_1 | 1_1 | 2_1 | 3_1 | 4_1 | 5_1 | 6_1 | 7_1 | 8_1 | 9_1 | 0_1 | 1_1 | 2_1 | 3_1 | 4_1 | 5_1 | 6_1 | 7_1 | 8_1 |\n",
       "| abb | n   | d   | ame | ype | ype | --- | 198 | 9   | 9   | --- | --- | --- | --- | --- | --- | --- | --- | --- | --- | --- | --- | --- | --- | --- | --- | --- | --- | --- | 198 | 9_1 | 9_1 | --- | --- | --- | --- | --- | --- | --- | --- | --- | --- | --- | --- | --- | --- | --- | --- | --- | --- | --- |\n",
       "| r   | --- | --- | --- | _or | --- | str | 0   | --- | --- | f64 | f64 | f64 | f64 | f64 | f64 | f64 | f64 | f64 | f64 | f64 | f64 | f64 | f64 | f64 | f64 | f64 | f64 | nul | 0_1 | --- | --- | f64 | f64 | f64 | f64 | f64 | f64 | f64 | f64 | f64 | f64 | f64 | f64 | f64 | f64 | f64 | f64 | f64 | f64 | nul |\n",
       "| --- | str | i64 | str | g   | str |     | --- | f64 | f64 |     |     |     |     |     |     |     |     |     |     |     |     |     |     |     |     |     |     | l   | --- | i64 | i64 |     |     |     |     |     |     |     |     |     |     |     |     |     |     |     |     |     |     | l   |\n",
       "| str |     |     |     | --- |     |     | f64 |     |     |     |     |     |     |     |     |     |     |     |     |     |     |     |     |     |     |     |     |     | i64 |     |     |     |     |     |     |     |     |     |     |     |     |     |     |     |     |     |     |     |     |     |\n",
       "|     |     |     |     | str |     |     |     |     |     |     |     |     |     |     |     |     |     |     |     |     |     |     |     |     |     |     |     |     |     |     |     |     |     |     |     |     |     |     |     |     |     |     |     |     |     |     |     |     |     |     |\n",
       "+=================================================================================================================================================================================================================================================================================================================+\n",
       "| AL  | G01 | 100 | Abb | BI  | Oth | Car | nul | nul | nul | nul | 0.0 | nul | nul | nul | nul | nul | nul | nul | nul | nul | nul | nul | nul | nul | nul | nul | nul | nul | nul | nul | nul | nul | 0.0 | nul | nul | nul | nul | nul | nul | nul | nul | nul | nul | nul | nul | nul | nul | nul | nul | nul |\n",
       "|     | 000 | 124 | evi |     | er/ |     | l   | l   | l   | l   | 001 | l   | l   | l   | l   | l   | l   | l   | l   | l   | l   | l   | l   | l   | l   | l   | l   | l   | l   | l   | l   | l   | 000 | l   | l   | l   | l   | l   | l   | l   | l   | l   | l   | l   | l   | l   | l   | l   | l   | l   |\n",
       "|     | 124 |     | lle |     | Unk |     |     |     |     |     | 35  |     |     |     |     |     |     |     |     |     |     |     |     |     |     |     |     |     |     |     |     |     | 06  |     |     |     |     |     |     |     |     |     |     |     |     |     |     |     |     |     |\n",
       "|     |     |     |     |     | now |     |     |     |     |     |     |     |     |     |     |     |     |     |     |     |     |     |     |     |     |     |     |     |     |     |     |     |     |     |     |     |     |     |     |     |     |     |     |     |     |     |     |     |     |     |\n",
       "|     |     |     |     |     | n   |     |     |     |     |     |     |     |     |     |     |     |     |     |     |     |     |     |     |     |     |     |     |     |     |     |     |     |     |     |     |     |     |     |     |     |     |     |     |     |     |     |     |     |     |     |\n",
       "| AL  | G01 | 100 | Abb | DIE | Die | Car | nul | 0.0 | nul | 0.0 | nul | nul | 0.0 | nul | nul | nul | nul | nul | nul | nul | 0.0 | nul | nul | 0.0 | 0.0 | nul | nul | nul | nul | 0   | nul | 0.0 | nul | nul | 0.0 | nul | nul | nul | nul | nul | nul | nul | 0.0 | nul | nul | 0.0 | 0.0 | nul | nul | nul |\n",
       "|     | 000 | 124 | evi | S   | sel |     | l   | 006 | l   | 002 | l   | l   | 001 | l   | l   | l   | l   | l   | l   | l   | 001 | l   | l   | 001 | 001 | l   | l   | l   | l   |     | l   |     | l   | l   |     | l   | l   | l   | l   | l   | l   | l   | 000 | l   | l   | 000 |     | l   | l   | l   |\n",
       "|     | 124 |     | lle |     | veh |     |     | 76  |     | 7   |     |     | 35  |     |     |     |     |     |     |     | 35  |     |     | 35  | 35  |     |     |     |     |     |     |     |     |     |     |     |     |     |     |     |     |     | 06  |     |     | 05  |     |     |     |     |\n",
       "|     |     |     |     |     | icl |     |     |     |     |     |     |     |     |     |     |     |     |     |     |     |     |     |     |     |     |     |     |     |     |     |     |     |     |     |     |     |     |     |     |     |     |     |     |     |     |     |     |     |     |     |\n",
       "|     |     |     |     |     | e   |     |     |     |     |     |     |     |     |     |     |     |     |     |     |     |     |     |     |     |     |     |     |     |     |     |     |     |     |     |     |     |     |     |     |     |     |     |     |     |     |     |     |     |     |     |\n",
       "| AL  | G01 | 100 | Abb | DIE | Die | Tru | nul | 0.0 | 0.0 | 0.0 | 0.0 | 0.0 | 0.0 | 0.0 | 0.0 | 0.0 | 0.0 | 0.0 | 0.0 | 0.0 | 0.0 | 0.0 | 0.0 | 0.0 | 0.0 | 0.0 | nul | nul | nul | 0   | 0   | 0.0 | 0.0 | 0.0 | 0.0 | 0.0 | 0.0 | 0.0 | 0.0 | 0.0 | 0.0 | 0.0 | 0.0 | 0.0 | 0.0 | 0.0 | 0.0 | 0.0 | nul | nul |\n",
       "|     | 000 | 124 | evi | S   | sel | ck  | l   | 009 | 050 | 016 | 018 | 014 | 016 | 017 | 022 | 020 | 017 | 010 | 005 | 006 | 012 | 012 | 009 | 013 | 018 | 020 | l   | l   | l   |     |     |     |     |     |     |     |     |     |     |     |     |     |     |     |     |     |     | 000 | l   | l   |\n",
       "|     | 124 |     | lle |     | veh |     |     | 46  | 03  | 22  | 93  | 87  | 22  | 58  | 99  | 28  | 58  | 82  | 41  | 76  | 17  | 17  | 46  | 52  | 93  | 28  |     |     |     |     |     |     |     |     |     |     |     |     |     |     |     |     |     |     |     |     |     | 9   |     |     |\n",
       "|     |     |     |     |     | icl |     |     |     |     |     |     |     |     |     |     |     |     |     |     |     |     |     |     |     |     |     |     |     |     |     |     |     |     |     |     |     |     |     |     |     |     |     |     |     |     |     |     |     |     |     |\n",
       "|     |     |     |     |     | e   |     |     |     |     |     |     |     |     |     |     |     |     |     |     |     |     |     |     |     |     |     |     |     |     |     |     |     |     |     |     |     |     |     |     |     |     |     |     |     |     |     |     |     |     |     |\n",
       "| AL  | G01 | 100 | Abb | DIE | Die | Unk | 0.0 | nul | nul | nul | nul | nul | nul | nul | nul | nul | nul | nul | nul | nul | nul | nul | nul | nul | nul | nul | nul | nul | 0   | nul | nul | nul | nul | nul | nul | nul | nul | nul | nul | nul | nul | nul | nul | nul | nul | nul | nul | nul | nul | nul |\n",
       "|     | 000 | 124 | evi | S   | sel | now | 005 | l   | l   | l   | l   | l   | l   | l   | l   | l   | l   | l   | l   | l   | l   | l   | l   | l   | l   | l   | l   | l   |     | l   | l   | l   | l   | l   | l   | l   | l   | l   | l   | l   | l   | l   | l   | l   | l   | l   | l   | l   | l   | l   |\n",
       "|     | 124 |     | lle |     | veh | n   | 41  |     |     |     |     |     |     |     |     |     |     |     |     |     |     |     |     |     |     |     |     |     |     |     |     |     |     |     |     |     |     |     |     |     |     |     |     |     |     |     |     |     |     |     |\n",
       "|     |     |     |     |     | icl |     |     |     |     |     |     |     |     |     |     |     |     |     |     |     |     |     |     |     |     |     |     |     |     |     |     |     |     |     |     |     |     |     |     |     |     |     |     |     |     |     |     |     |     |     |\n",
       "|     |     |     |     |     | e   |     |     |     |     |     |     |     |     |     |     |     |     |     |     |     |     |     |     |     |     |     |     |     |     |     |     |     |     |     |     |     |     |     |     |     |     |     |     |     |     |     |     |     |     |     |\n",
       "| AL  | G01 | 100 | Abb | ELE | Ele | Car | nul | nul | nul | nul | nul | nul | nul | nul | nul | nul | nul | nul | nul | nul | nul | nul | nul | nul | 0.0 | nul | nul | nul | nul | nul | nul | nul | nul | nul | nul | nul | nul | nul | nul | nul | nul | nul | nul | nul | nul | nul | 0.0 | nul | nul | nul |\n",
       "|     | 000 | 124 | evi | CTR | ctr |     | l   | l   | l   | l   | l   | l   | l   | l   | l   | l   | l   | l   | l   | l   | l   | l   | l   | l   | 001 | l   | l   | l   | l   | l   | l   | l   | l   | l   | l   | l   | l   | l   | l   | l   | l   | l   | l   | l   | l   | l   | 000 | l   | l   | l   |\n",
       "|     | 124 |     | lle | IC  | ic  |     |     |     |     |     |     |     |     |     |     |     |     |     |     |     |     |     |     |     | 35  |     |     |     |     |     |     |     |     |     |     |     |     |     |     |     |     |     |     |     |     |     | 01  |     |     |     |\n",
       "|     |     |     |     | VEH | veh |     |     |     |     |     |     |     |     |     |     |     |     |     |     |     |     |     |     |     |     |     |     |     |     |     |     |     |     |     |     |     |     |     |     |     |     |     |     |     |     |     |     |     |     |     |\n",
       "|     |     |     |     | ICL | icl |     |     |     |     |     |     |     |     |     |     |     |     |     |     |     |     |     |     |     |     |     |     |     |     |     |     |     |     |     |     |     |     |     |     |     |     |     |     |     |     |     |     |     |     |     |\n",
       "|     |     |     |     | E   | e   |     |     |     |     |     |     |     |     |     |     |     |     |     |     |     |     |     |     |     |     |     |     |     |     |     |     |     |     |     |     |     |     |     |     |     |     |     |     |     |     |     |     |     |     |     |\n",
       "| …   | …   | …   | …   | …   | …   | …   | …   | …   | …   | …   | …   | …   | …   | …   | …   | …   | …   | …   | …   | …   | …   | …   | …   | …   | …   | …   | …   | …   | …   | …   | …   | …   | …   | …   | …   | …   | …   | …   | …   | …   | …   | …   | …   | …   | …   | …   | …   | …   | …   | …   |\n",
       "| WY  | G56 | 568 | Yod | GAS | Gas | Car | nul | 0.0 | 0.0 | 0.0 | 0.0 | 0.0 | 0.0 | 0.0 | 0.0 | 0.0 | 0.0 | 0.0 | 0.0 | 0.0 | 0.0 | 0.0 | 0.0 | 0.0 | 0.0 | 0.0 | nul | nul | nul | 0   | 0   | 0.0 | 0.0 | 0.0 | 0.0 | 0.0 | 0.0 | 0.0 | 0.0 | 0.0 | 0.0 | 0.0 | 0.0 | 0.0 | 0.0 | 0.0 | 0.0 | 0.0 | nul | nul |\n",
       "|     | 086 | 666 | er  |     | oli |     | l   | 203 | 796 | 220 | 169 | 135 | 220 | 237 | 101 | 067 | 220 | 220 | 135 | 084 | 186 | 135 | 135 | 203 | 169 | 067 | l   | l   | l   |     |     | 010 | 007 | 006 | 009 | 012 | 004 | 002 | 010 | 011 | 009 | 004 | 008 | 005 | 005 | 008 | 007 |     | l   | l   |\n",
       "|     | 665 | 5   |     |     | ne  |     |     | 39  | 61  | 34  | 49  | 59  | 34  | 29  | 69  | 8   | 34  | 34  | 59  | 75  | 44  | 59  | 59  | 39  | 49  | 8   |     |     |     |     |     | 13  | 34  | 73  | 65  | 25  | 5   | 9   | 34  | 02  | 04  | 56  | 96  | 49  | 81  | 87  | 72  |     |     |     |\n",
       "|     |     |     |     |     | veh |     |     |     |     |     |     |     |     |     |     |     |     |     |     |     |     |     |     |     |     |     |     |     |     |     |     |     |     |     |     |     |     |     |     |     |     |     |     |     |     |     |     |     |     |     |\n",
       "|     |     |     |     |     | icl |     |     |     |     |     |     |     |     |     |     |     |     |     |     |     |     |     |     |     |     |     |     |     |     |     |     |     |     |     |     |     |     |     |     |     |     |     |     |     |     |     |     |     |     |     |\n",
       "|     |     |     |     |     | e   |     |     |     |     |     |     |     |     |     |     |     |     |     |     |     |     |     |     |     |     |     |     |     |     |     |     |     |     |     |     |     |     |     |     |     |     |     |     |     |     |     |     |     |     |     |\n",
       "| WY  | G56 | 568 | Yod | GAS | Gas | Tru | nul | 0.0 | 0.1 | 0.0 | 0.0 | 0.0 | 0.0 | 0.0 | 0.0 | 0.0 | 0.0 | 0.0 | 0.0 | 0.0 | 0.0 | 0.0 | 0.0 | 0.0 | 0.0 | 0.0 | nul | nul | nul | 0   | 0   | 0.0 | 0.0 | 0.0 | 0.0 | 0.0 | 0.0 | 0.0 | 0.0 | 0.0 | 0.0 | 0.0 | 0.0 | 0.0 | 0.0 | 0.0 | 0.0 | 0.0 | nul | nul |\n",
       "|     | 086 | 666 | er  |     | oli | ck  | l   | 406 | 152 | 220 | 135 | 169 | 186 | 067 | 135 | 118 | 152 | 067 | 016 | 033 | 016 | 084 | 050 | 101 | 169 | 033 | l   | l   | l   |     |     | 014 | 008 | 010 | 011 | 003 | 008 | 007 | 008 |     |     | 001 | 001 | 004 | 002 | 005 | 009 | 001 | l   | l   |\n",
       "|     | 665 | 5   |     |     | ne  |     |     | 78  | 54  | 34  | 59  | 49  | 44  | 8   | 59  | 64  | 54  | 8   | 95  | 9   | 95  | 75  | 85  | 69  | 49  | 9   |     |     |     |     |     | 25  | 5   | 49  | 72  | 99  | 71  | 44  | 85  |     |     | 95  | 13  | 99  | 99  | 66  | 36  | 88  |     |     |\n",
       "|     |     |     |     |     | veh |     |     |     |     |     |     |     |     |     |     |     |     |     |     |     |     |     |     |     |     |     |     |     |     |     |     |     |     |     |     |     |     |     |     |     |     |     |     |     |     |     |     |     |     |     |\n",
       "|     |     |     |     |     | icl |     |     |     |     |     |     |     |     |     |     |     |     |     |     |     |     |     |     |     |     |     |     |     |     |     |     |     |     |     |     |     |     |     |     |     |     |     |     |     |     |     |     |     |     |     |\n",
       "|     |     |     |     |     | e   |     |     |     |     |     |     |     |     |     |     |     |     |     |     |     |     |     |     |     |     |     |     |     |     |     |     |     |     |     |     |     |     |     |     |     |     |     |     |     |     |     |     |     |     |     |\n",
       "| WY  | G56 | 568 | Yod | GAS | Gas | Unk | 0.0 | nul | 0.0 | nul | nul | nul | nul | nul | 0.0 | nul | nul | nul | nul | nul | nul | nul | nul | nul | nul | nul | nul | nul | 0   | nul | 0   | nul | nul | nul | nul | nul | 0.0 | nul | nul | nul | nul | nul | nul | nul | nul | nul | nul | nul | nul | nul |\n",
       "|     | 086 | 666 | er  |     | oli | now | 237 | l   | 016 | l   | l   | l   | l   | l   | 016 | l   | l   | l   | l   | l   | l   | l   | l   | l   | l   | l   | l   | l   |     | l   |     | l   | l   | l   | l   | l   |     | l   | l   | l   | l   | l   | l   | l   | l   | l   | l   | l   | l   | l   |\n",
       "|     | 665 | 5   |     |     | ne  | n   | 29  |     | 95  |     |     |     |     |     | 95  |     |     |     |     |     |     |     |     |     |     |     |     |     |     |     |     |     |     |     |     |     |     |     |     |     |     |     |     |     |     |     |     |     |     |     |\n",
       "|     |     |     |     |     | veh |     |     |     |     |     |     |     |     |     |     |     |     |     |     |     |     |     |     |     |     |     |     |     |     |     |     |     |     |     |     |     |     |     |     |     |     |     |     |     |     |     |     |     |     |     |\n",
       "|     |     |     |     |     | icl |     |     |     |     |     |     |     |     |     |     |     |     |     |     |     |     |     |     |     |     |     |     |     |     |     |     |     |     |     |     |     |     |     |     |     |     |     |     |     |     |     |     |     |     |     |\n",
       "|     |     |     |     |     | e   |     |     |     |     |     |     |     |     |     |     |     |     |     |     |     |     |     |     |     |     |     |     |     |     |     |     |     |     |     |     |     |     |     |     |     |     |     |     |     |     |     |     |     |     |     |\n",
       "| WY  | G56 | 568 | Yod | HYB | Hyb | Car | nul | nul | nul | nul | nul | nul | nul | nul | nul | nul | 0.0 | nul | nul | nul | nul | nul | nul | nul | 0.0 | nul | nul | nul | nul | nul | nul | nul | nul | nul | nul | nul | nul | nul | 0.0 | nul | nul | nul | nul | nul | nul | nul | 0.0 | nul | nul | nul |\n",
       "|     | 086 | 666 | er  | RID | rid |     | l   | l   | l   | l   | l   | l   | l   | l   | l   | l   | 016 | l   | l   | l   | l   | l   | l   | l   | 016 | l   | l   | l   | l   | l   | l   | l   | l   | l   | l   | l   | l   | l   |     | l   | l   | l   | l   | l   | l   | l   | 000 | l   | l   | l   |\n",
       "|     | 665 | 5   |     | ELE | ele |     |     |     |     |     |     |     |     |     |     |     | 95  |     |     |     |     |     |     |     | 95  |     |     |     |     |     |     |     |     |     |     |     |     |     |     |     |     |     |     |     |     |     | 34  |     |     |     |\n",
       "|     |     |     |     | CTR | ctr |     |     |     |     |     |     |     |     |     |     |     |     |     |     |     |     |     |     |     |     |     |     |     |     |     |     |     |     |     |     |     |     |     |     |     |     |     |     |     |     |     |     |     |     |     |\n",
       "|     |     |     |     | IC  | ic  |     |     |     |     |     |     |     |     |     |     |     |     |     |     |     |     |     |     |     |     |     |     |     |     |     |     |     |     |     |     |     |     |     |     |     |     |     |     |     |     |     |     |     |     |     |\n",
       "|     |     |     |     | VEH | veh |     |     |     |     |     |     |     |     |     |     |     |     |     |     |     |     |     |     |     |     |     |     |     |     |     |     |     |     |     |     |     |     |     |     |     |     |     |     |     |     |     |     |     |     |     |\n",
       "|     |     |     |     | ICL | icl |     |     |     |     |     |     |     |     |     |     |     |     |     |     |     |     |     |     |     |     |     |     |     |     |     |     |     |     |     |     |     |     |     |     |     |     |     |     |     |     |     |     |     |     |     |\n",
       "|     |     |     |     | E   | e   |     |     |     |     |     |     |     |     |     |     |     |     |     |     |     |     |     |     |     |     |     |     |     |     |     |     |     |     |     |     |     |     |     |     |     |     |     |     |     |     |     |     |     |     |     |\n",
       "| WY  | G56 | 568 | Yod | UNK | Oth | Unk | 0.0 | nul | nul | nul | nul | nul | nul | nul | nul | nul | nul | 0.0 | nul | nul | nul | nul | nul | nul | nul | nul | nul | nul | 0   | nul | nul | nul | nul | nul | nul | nul | nul | nul | nul | 0.0 | nul | nul | nul | nul | nul | nul | nul | nul | nul | nul |\n",
       "|     | 086 | 666 | er  |     | er/ | now | 016 | l   | l   | l   | l   | l   | l   | l   | l   | l   | l   | 016 | l   | l   | l   | l   | l   | l   | l   | l   | l   | l   |     | l   | l   | l   | l   | l   | l   | l   | l   | l   | l   |     | l   | l   | l   | l   | l   | l   | l   | l   | l   | l   |\n",
       "|     | 665 | 5   |     |     | Unk | n   | 95  |     |     |     |     |     |     |     |     |     |     | 95  |     |     |     |     |     |     |     |     |     |     |     |     |     |     |     |     |     |     |     |     |     |     |     |     |     |     |     |     |     |     |     |     |\n",
       "|     |     |     |     |     | now |     |     |     |     |     |     |     |     |     |     |     |     |     |     |     |     |     |     |     |     |     |     |     |     |     |     |     |     |     |     |     |     |     |     |     |     |     |     |     |     |     |     |     |     |     |\n",
       "|     |     |     |     |     | n   |     |     |     |     |     |     |     |     |     |     |     |     |     |     |     |     |     |     |     |     |     |     |     |     |     |     |     |     |     |     |     |     |     |     |     |     |     |     |     |     |     |     |     |     |     |\n",
       "+-----+-----+-----+-----+-----+-----+-----+-----+-----+-----+-----+-----+-----+-----+-----+-----+-----+-----+-----+-----+-----+-----+-----+-----+-----+-----+-----+-----+-----+-----+-----+-----+-----+-----+-----+-----+-----+-----+-----+-----+-----+-----+-----+-----+-----+-----+-----+-----+-----+-----+-----+"
      ]
     },
     "execution_count": 34,
     "metadata": {},
     "output_type": "execute_result"
    }
   ],
   "source": [
    "inv_raw"
   ]
  },
  {
   "cell_type": "code",
   "execution_count": 35,
   "id": "dd5e7f43-be35-4549-ad4a-935cfa0cb9df",
   "metadata": {},
   "outputs": [
    {
     "data": {
      "text/html": [
       "<div><style>\n",
       ".dataframe > thead > tr,\n",
       ".dataframe > tbody > tr {\n",
       "  text-align: right;\n",
       "  white-space: pre-wrap;\n",
       "}\n",
       "</style>\n",
       "<small>shape: (307_828, 9)</small><table border=\"1\" class=\"dataframe\"><thead><tr><th>state_abbr</th><th>gisjoin</th><th>city_id</th><th>city_name</th><th>fuel_type_org</th><th>fuel_type</th><th>class</th><th>2000</th><th>2001</th></tr><tr><td>str</td><td>str</td><td>i64</td><td>str</td><td>str</td><td>str</td><td>str</td><td>f64</td><td>f64</td></tr></thead><tbody><tr><td>&quot;AL&quot;</td><td>&quot;G01000124&quot;</td><td>100124</td><td>&quot;Abbeville&quot;</td><td>&quot;BI&quot;</td><td>&quot;Other/Unknown&quot;</td><td>&quot;Car&quot;</td><td>null</td><td>0.000135</td></tr><tr><td>&quot;AL&quot;</td><td>&quot;G01000124&quot;</td><td>100124</td><td>&quot;Abbeville&quot;</td><td>&quot;DIES&quot;</td><td>&quot;Diesel vehicle&quot;</td><td>&quot;Car&quot;</td><td>0.00027</td><td>null</td></tr><tr><td>&quot;AL&quot;</td><td>&quot;G01000124&quot;</td><td>100124</td><td>&quot;Abbeville&quot;</td><td>&quot;DIES&quot;</td><td>&quot;Diesel vehicle&quot;</td><td>&quot;Truck&quot;</td><td>0.001622</td><td>0.001893</td></tr><tr><td>&quot;AL&quot;</td><td>&quot;G01000124&quot;</td><td>100124</td><td>&quot;Abbeville&quot;</td><td>&quot;DIES&quot;</td><td>&quot;Diesel vehicle&quot;</td><td>&quot;Unknown&quot;</td><td>null</td><td>null</td></tr><tr><td>&quot;AL&quot;</td><td>&quot;G01000124&quot;</td><td>100124</td><td>&quot;Abbeville&quot;</td><td>&quot;ELECTRIC VEHICLE&quot;</td><td>&quot;Electric vehicle&quot;</td><td>&quot;Car&quot;</td><td>null</td><td>null</td></tr><tr><td>&hellip;</td><td>&hellip;</td><td>&hellip;</td><td>&hellip;</td><td>&hellip;</td><td>&hellip;</td><td>&hellip;</td><td>&hellip;</td><td>&hellip;</td></tr><tr><td>&quot;WY&quot;</td><td>&quot;G56086665&quot;</td><td>5686665</td><td>&quot;Yoder&quot;</td><td>&quot;GAS&quot;</td><td>&quot;Gasoline vehicle&quot;</td><td>&quot;Car&quot;</td><td>0.022034</td><td>0.016949</td></tr><tr><td>&quot;WY&quot;</td><td>&quot;G56086665&quot;</td><td>5686665</td><td>&quot;Yoder&quot;</td><td>&quot;GAS&quot;</td><td>&quot;Gasoline vehicle&quot;</td><td>&quot;Truck&quot;</td><td>0.022034</td><td>0.013559</td></tr><tr><td>&quot;WY&quot;</td><td>&quot;G56086665&quot;</td><td>5686665</td><td>&quot;Yoder&quot;</td><td>&quot;GAS&quot;</td><td>&quot;Gasoline vehicle&quot;</td><td>&quot;Unknown&quot;</td><td>null</td><td>null</td></tr><tr><td>&quot;WY&quot;</td><td>&quot;G56086665&quot;</td><td>5686665</td><td>&quot;Yoder&quot;</td><td>&quot;HYBRID ELECTRIC VEHICLE&quot;</td><td>&quot;Hybrid electric vehicle&quot;</td><td>&quot;Car&quot;</td><td>null</td><td>null</td></tr><tr><td>&quot;WY&quot;</td><td>&quot;G56086665&quot;</td><td>5686665</td><td>&quot;Yoder&quot;</td><td>&quot;UNK&quot;</td><td>&quot;Other/Unknown&quot;</td><td>&quot;Unknown&quot;</td><td>null</td><td>null</td></tr></tbody></table></div>"
      ],
      "text/plain": [
       "shape: (307_828, 9)\n",
       "+-----------+-----------+---------+----------+----------+----------+---------+----------+----------+\n",
       "| state_abb | gisjoin   | city_id | city_nam | fuel_typ | fuel_typ | class   | 2000     | 2001     |\n",
       "| r         | ---       | ---     | e        | e_org    | e        | ---     | ---      | ---      |\n",
       "| ---       | str       | i64     | ---      | ---      | ---      | str     | f64      | f64      |\n",
       "| str       |           |         | str      | str      | str      |         |          |          |\n",
       "+==================================================================================================+\n",
       "| AL        | G01000124 | 100124  | Abbevill | BI       | Other/Un | Car     | null     | 0.000135 |\n",
       "|           |           |         | e        |          | known    |         |          |          |\n",
       "| AL        | G01000124 | 100124  | Abbevill | DIES     | Diesel   | Car     | 0.00027  | null     |\n",
       "|           |           |         | e        |          | vehicle  |         |          |          |\n",
       "| AL        | G01000124 | 100124  | Abbevill | DIES     | Diesel   | Truck   | 0.001622 | 0.001893 |\n",
       "|           |           |         | e        |          | vehicle  |         |          |          |\n",
       "| AL        | G01000124 | 100124  | Abbevill | DIES     | Diesel   | Unknown | null     | null     |\n",
       "|           |           |         | e        |          | vehicle  |         |          |          |\n",
       "| AL        | G01000124 | 100124  | Abbevill | ELECTRIC | Electric | Car     | null     | null     |\n",
       "|           |           |         | e        | VEHICLE  | vehicle  |         |          |          |\n",
       "| …         | …         | …       | …        | …        | …        | …       | …        | …        |\n",
       "| WY        | G56086665 | 5686665 | Yoder    | GAS      | Gasoline | Car     | 0.022034 | 0.016949 |\n",
       "|           |           |         |          |          | vehicle  |         |          |          |\n",
       "| WY        | G56086665 | 5686665 | Yoder    | GAS      | Gasoline | Truck   | 0.022034 | 0.013559 |\n",
       "|           |           |         |          |          | vehicle  |         |          |          |\n",
       "| WY        | G56086665 | 5686665 | Yoder    | GAS      | Gasoline | Unknown | null     | null     |\n",
       "|           |           |         |          |          | vehicle  |         |          |          |\n",
       "| WY        | G56086665 | 5686665 | Yoder    | HYBRID   | Hybrid   | Car     | null     | null     |\n",
       "|           |           |         |          | ELECTRIC | electric |         |          |          |\n",
       "|           |           |         |          | VEHICLE  | vehicle  |         |          |          |\n",
       "| WY        | G56086665 | 5686665 | Yoder    | UNK      | Other/Un | Unknown | null     | null     |\n",
       "|           |           |         |          |          | known    |         |          |          |\n",
       "+-----------+-----------+---------+----------+----------+----------+---------+----------+----------+"
      ]
     },
     "execution_count": 35,
     "metadata": {},
     "output_type": "execute_result"
    }
   ],
   "source": [
    "(\n",
    "    inv_raw\n",
    "    .select([\n",
    "        'state_abbr', 'gisjoin', 'city_id', 'city_name',\n",
    "        'fuel_type_org', 'fuel_type', 'class', '2000', '2001'\n",
    "    ])\n",
    ")"
   ]
  },
  {
   "cell_type": "markdown",
   "id": "ea11aafd-f468-4d83-ac4b-55f2af5a8f67",
   "metadata": {},
   "source": [
    "---\n",
    "Aggregate the city mileage for each vehicle type, and then join it with the autos dataframe."
   ]
  },
  {
   "cell_type": "code",
   "execution_count": 36,
   "id": "a22b57bd-9446-447f-a13d-afdfaf94e3b7",
   "metadata": {},
   "outputs": [
    {
     "data": {
      "text/plain": [
       "['2000',\n",
       " '2001',\n",
       " '2002',\n",
       " '2003',\n",
       " '2004',\n",
       " '2005',\n",
       " '2006',\n",
       " '2007',\n",
       " '2008',\n",
       " '2009',\n",
       " '2010',\n",
       " '2011',\n",
       " '2012',\n",
       " '2013',\n",
       " '2014',\n",
       " '2015',\n",
       " '2016',\n",
       " '2017',\n",
       " '2018']"
      ]
     },
     "execution_count": 36,
     "metadata": {},
     "output_type": "execute_result"
    }
   ],
   "source": [
    "years = [str(i) for i in range(2000,2019)]\n",
    "years"
   ]
  },
  {
   "cell_type": "code",
   "execution_count": 37,
   "id": "c31c833a-2504-47bd-8338-65de090a6f76",
   "metadata": {},
   "outputs": [
    {
     "data": {
      "text/html": [
       "<div><style>\n",
       ".dataframe > thead > tr,\n",
       ".dataframe > tbody > tr {\n",
       "  text-align: right;\n",
       "  white-space: pre-wrap;\n",
       "}\n",
       "</style>\n",
       "<small>shape: (307_828, 19)</small><table border=\"1\" class=\"dataframe\"><thead><tr><th>2000</th><th>2001</th><th>2002</th><th>2003</th><th>2004</th><th>2005</th><th>2006</th><th>2007</th><th>2008</th><th>2009</th><th>2010</th><th>2011</th><th>2012</th><th>2013</th><th>2014</th><th>2015</th><th>2016</th><th>2017</th><th>2018</th></tr><tr><td>i16</td><td>i16</td><td>i16</td><td>i16</td><td>i16</td><td>i16</td><td>i16</td><td>i16</td><td>i16</td><td>i16</td><td>i16</td><td>i16</td><td>i16</td><td>i16</td><td>i16</td><td>i16</td><td>i16</td><td>i16</td><td>i16</td></tr></thead><tbody><tr><td>null</td><td>0</td><td>null</td><td>null</td><td>null</td><td>null</td><td>null</td><td>null</td><td>null</td><td>null</td><td>null</td><td>null</td><td>null</td><td>null</td><td>null</td><td>null</td><td>null</td><td>null</td><td>null</td></tr><tr><td>0</td><td>null</td><td>null</td><td>0</td><td>null</td><td>null</td><td>null</td><td>null</td><td>null</td><td>null</td><td>null</td><td>0</td><td>null</td><td>null</td><td>0</td><td>0</td><td>null</td><td>null</td><td>null</td></tr><tr><td>0</td><td>0</td><td>0</td><td>0</td><td>0</td><td>0</td><td>0</td><td>0</td><td>0</td><td>0</td><td>0</td><td>0</td><td>0</td><td>0</td><td>0</td><td>0</td><td>0</td><td>null</td><td>null</td></tr><tr><td>null</td><td>null</td><td>null</td><td>null</td><td>null</td><td>null</td><td>null</td><td>null</td><td>null</td><td>null</td><td>null</td><td>null</td><td>null</td><td>null</td><td>null</td><td>null</td><td>null</td><td>null</td><td>null</td></tr><tr><td>null</td><td>null</td><td>null</td><td>null</td><td>null</td><td>null</td><td>null</td><td>null</td><td>null</td><td>null</td><td>null</td><td>null</td><td>null</td><td>null</td><td>null</td><td>0</td><td>null</td><td>null</td><td>null</td></tr><tr><td>&hellip;</td><td>&hellip;</td><td>&hellip;</td><td>&hellip;</td><td>&hellip;</td><td>&hellip;</td><td>&hellip;</td><td>&hellip;</td><td>&hellip;</td><td>&hellip;</td><td>&hellip;</td><td>&hellip;</td><td>&hellip;</td><td>&hellip;</td><td>&hellip;</td><td>&hellip;</td><td>&hellip;</td><td>&hellip;</td><td>&hellip;</td></tr><tr><td>0</td><td>0</td><td>0</td><td>0</td><td>0</td><td>0</td><td>0</td><td>0</td><td>0</td><td>0</td><td>0</td><td>0</td><td>0</td><td>0</td><td>0</td><td>0</td><td>0</td><td>null</td><td>null</td></tr><tr><td>0</td><td>0</td><td>0</td><td>0</td><td>0</td><td>0</td><td>0</td><td>0</td><td>0</td><td>0</td><td>0</td><td>0</td><td>0</td><td>0</td><td>0</td><td>0</td><td>0</td><td>null</td><td>null</td></tr><tr><td>null</td><td>null</td><td>null</td><td>null</td><td>null</td><td>0</td><td>null</td><td>null</td><td>null</td><td>null</td><td>null</td><td>null</td><td>null</td><td>null</td><td>null</td><td>null</td><td>null</td><td>null</td><td>null</td></tr><tr><td>null</td><td>null</td><td>null</td><td>null</td><td>null</td><td>null</td><td>null</td><td>0</td><td>null</td><td>null</td><td>null</td><td>null</td><td>null</td><td>null</td><td>null</td><td>0</td><td>null</td><td>null</td><td>null</td></tr><tr><td>null</td><td>null</td><td>null</td><td>null</td><td>null</td><td>null</td><td>null</td><td>null</td><td>0</td><td>null</td><td>null</td><td>null</td><td>null</td><td>null</td><td>null</td><td>null</td><td>null</td><td>null</td><td>null</td></tr></tbody></table></div>"
      ],
      "text/plain": [
       "shape: (307_828, 19)\n",
       "+-----+-----+-----+-----+-----+-----+-----+-----+-----+-----+-----+-----+-----+-----+-----+-----+-----+-----+-----+\n",
       "| 200 | 200 | 200 | 200 | 200 | 200 | 200 | 200 | 200 | 200 | 201 | 201 | 201 | 201 | 201 | 201 | 201 | 201 | 201 |\n",
       "| 0   | 1   | 2   | 3   | 4   | 5   | 6   | 7   | 8   | 9   | 0   | 1   | 2   | 3   | 4   | 5   | 6   | 7   | 8   |\n",
       "| --- | --- | --- | --- | --- | --- | --- | --- | --- | --- | --- | --- | --- | --- | --- | --- | --- | --- | --- |\n",
       "| i16 | i16 | i16 | i16 | i16 | i16 | i16 | i16 | i16 | i16 | i16 | i16 | i16 | i16 | i16 | i16 | i16 | i16 | i16 |\n",
       "+=================================================================================================================+\n",
       "| nul | 0   | nul | nul | nul | nul | nul | nul | nul | nul | nul | nul | nul | nul | nul | nul | nul | nul | nul |\n",
       "| l   |     | l   | l   | l   | l   | l   | l   | l   | l   | l   | l   | l   | l   | l   | l   | l   | l   | l   |\n",
       "| 0   | nul | nul | 0   | nul | nul | nul | nul | nul | nul | nul | 0   | nul | nul | 0   | 0   | nul | nul | nul |\n",
       "|     | l   | l   |     | l   | l   | l   | l   | l   | l   | l   |     | l   | l   |     |     | l   | l   | l   |\n",
       "| 0   | 0   | 0   | 0   | 0   | 0   | 0   | 0   | 0   | 0   | 0   | 0   | 0   | 0   | 0   | 0   | 0   | nul | nul |\n",
       "|     |     |     |     |     |     |     |     |     |     |     |     |     |     |     |     |     | l   | l   |\n",
       "| nul | nul | nul | nul | nul | nul | nul | nul | nul | nul | nul | nul | nul | nul | nul | nul | nul | nul | nul |\n",
       "| l   | l   | l   | l   | l   | l   | l   | l   | l   | l   | l   | l   | l   | l   | l   | l   | l   | l   | l   |\n",
       "| nul | nul | nul | nul | nul | nul | nul | nul | nul | nul | nul | nul | nul | nul | nul | 0   | nul | nul | nul |\n",
       "| l   | l   | l   | l   | l   | l   | l   | l   | l   | l   | l   | l   | l   | l   | l   |     | l   | l   | l   |\n",
       "| …   | …   | …   | …   | …   | …   | …   | …   | …   | …   | …   | …   | …   | …   | …   | …   | …   | …   | …   |\n",
       "| 0   | 0   | 0   | 0   | 0   | 0   | 0   | 0   | 0   | 0   | 0   | 0   | 0   | 0   | 0   | 0   | 0   | nul | nul |\n",
       "|     |     |     |     |     |     |     |     |     |     |     |     |     |     |     |     |     | l   | l   |\n",
       "| 0   | 0   | 0   | 0   | 0   | 0   | 0   | 0   | 0   | 0   | 0   | 0   | 0   | 0   | 0   | 0   | 0   | nul | nul |\n",
       "|     |     |     |     |     |     |     |     |     |     |     |     |     |     |     |     |     | l   | l   |\n",
       "| nul | nul | nul | nul | nul | 0   | nul | nul | nul | nul | nul | nul | nul | nul | nul | nul | nul | nul | nul |\n",
       "| l   | l   | l   | l   | l   |     | l   | l   | l   | l   | l   | l   | l   | l   | l   | l   | l   | l   | l   |\n",
       "| nul | nul | nul | nul | nul | nul | nul | 0   | nul | nul | nul | nul | nul | nul | nul | 0   | nul | nul | nul |\n",
       "| l   | l   | l   | l   | l   | l   | l   |     | l   | l   | l   | l   | l   | l   | l   |     | l   | l   | l   |\n",
       "| nul | nul | nul | nul | nul | nul | nul | nul | 0   | nul | nul | nul | nul | nul | nul | nul | nul | nul | nul |\n",
       "| l   | l   | l   | l   | l   | l   | l   | l   |     | l   | l   | l   | l   | l   | l   | l   | l   | l   | l   |\n",
       "+-----+-----+-----+-----+-----+-----+-----+-----+-----+-----+-----+-----+-----+-----+-----+-----+-----+-----+-----+"
      ]
     },
     "execution_count": 37,
     "metadata": {},
     "output_type": "execute_result"
    }
   ],
   "source": [
    "# Test\n",
    "(\n",
    "    inv_raw\n",
    "    .select(\n",
    "        [pl.col(year).cast(pl.Int16) for year in years]\n",
    "    )\n",
    "    # .unpivot(\n",
    "    #     variable_name='year',\n",
    "    #     on=years,\n",
    "    #     index=['state_abbr', 'gisjoin', 'city_id', 'city_name', 'fuel_type_org', 'fuel_type', 'class']\n",
    "    # ) \n",
    ")"
   ]
  },
  {
   "cell_type": "code",
   "execution_count": 38,
   "id": "eab95bce-b5cc-41b9-9de7-c7144cc3d575",
   "metadata": {},
   "outputs": [
    {
     "data": {
      "text/html": [
       "<div><style>\n",
       ".dataframe > thead > tr,\n",
       ".dataframe > tbody > tr {\n",
       "  text-align: right;\n",
       "  white-space: pre-wrap;\n",
       "}\n",
       "</style>\n",
       "<small>shape: (5_848_732, 7)</small><table border=\"1\" class=\"dataframe\"><thead><tr><th>year</th><th>percent</th><th>state_abbr</th><th>city_name</th><th>fuel_type_org</th><th>fuel_type</th><th>class</th></tr><tr><td>i16</td><td>f32</td><td>str</td><td>str</td><td>str</td><td>str</td><td>str</td></tr></thead><tbody><tr><td>2000</td><td>null</td><td>&quot;AL&quot;</td><td>&quot;Abbeville&quot;</td><td>&quot;BI&quot;</td><td>&quot;Other/Unknown&quot;</td><td>&quot;Car&quot;</td></tr><tr><td>2000</td><td>0.0</td><td>&quot;AL&quot;</td><td>&quot;Abbeville&quot;</td><td>&quot;DIES&quot;</td><td>&quot;Diesel vehicle&quot;</td><td>&quot;Car&quot;</td></tr><tr><td>2000</td><td>0.0</td><td>&quot;AL&quot;</td><td>&quot;Abbeville&quot;</td><td>&quot;DIES&quot;</td><td>&quot;Diesel vehicle&quot;</td><td>&quot;Truck&quot;</td></tr><tr><td>2000</td><td>null</td><td>&quot;AL&quot;</td><td>&quot;Abbeville&quot;</td><td>&quot;DIES&quot;</td><td>&quot;Diesel vehicle&quot;</td><td>&quot;Unknown&quot;</td></tr><tr><td>2000</td><td>null</td><td>&quot;AL&quot;</td><td>&quot;Abbeville&quot;</td><td>&quot;ELECTRIC VEHICLE&quot;</td><td>&quot;Electric vehicle&quot;</td><td>&quot;Car&quot;</td></tr><tr><td>&hellip;</td><td>&hellip;</td><td>&hellip;</td><td>&hellip;</td><td>&hellip;</td><td>&hellip;</td><td>&hellip;</td></tr><tr><td>2018</td><td>null</td><td>&quot;WY&quot;</td><td>&quot;Yoder&quot;</td><td>&quot;GAS&quot;</td><td>&quot;Gasoline vehicle&quot;</td><td>&quot;Car&quot;</td></tr><tr><td>2018</td><td>null</td><td>&quot;WY&quot;</td><td>&quot;Yoder&quot;</td><td>&quot;GAS&quot;</td><td>&quot;Gasoline vehicle&quot;</td><td>&quot;Truck&quot;</td></tr><tr><td>2018</td><td>null</td><td>&quot;WY&quot;</td><td>&quot;Yoder&quot;</td><td>&quot;GAS&quot;</td><td>&quot;Gasoline vehicle&quot;</td><td>&quot;Unknown&quot;</td></tr><tr><td>2018</td><td>null</td><td>&quot;WY&quot;</td><td>&quot;Yoder&quot;</td><td>&quot;HYBRID ELECTRIC VEHICLE&quot;</td><td>&quot;Hybrid electric vehicle&quot;</td><td>&quot;Car&quot;</td></tr><tr><td>2018</td><td>null</td><td>&quot;WY&quot;</td><td>&quot;Yoder&quot;</td><td>&quot;UNK&quot;</td><td>&quot;Other/Unknown&quot;</td><td>&quot;Unknown&quot;</td></tr></tbody></table></div>"
      ],
      "text/plain": [
       "shape: (5_848_732, 7)\n",
       "+------+---------+------------+-----------+------------------+---------------------------+---------+\n",
       "| year | percent | state_abbr | city_name | fuel_type_org    | fuel_type                 | class   |\n",
       "| ---  | ---     | ---        | ---       | ---              | ---                       | ---     |\n",
       "| i16  | f32     | str        | str       | str              | str                       | str     |\n",
       "+==================================================================================================+\n",
       "| 2000 | null    | AL         | Abbeville | BI               | Other/Unknown             | Car     |\n",
       "| 2000 | 0.0     | AL         | Abbeville | DIES             | Diesel vehicle            | Car     |\n",
       "| 2000 | 0.0     | AL         | Abbeville | DIES             | Diesel vehicle            | Truck   |\n",
       "| 2000 | null    | AL         | Abbeville | DIES             | Diesel vehicle            | Unknown |\n",
       "| 2000 | null    | AL         | Abbeville | ELECTRIC VEHICLE | Electric vehicle          | Car     |\n",
       "| …    | …       | …          | …         | …                | …                         | …       |\n",
       "| 2018 | null    | WY         | Yoder     | GAS              | Gasoline vehicle          | Car     |\n",
       "| 2018 | null    | WY         | Yoder     | GAS              | Gasoline vehicle          | Truck   |\n",
       "| 2018 | null    | WY         | Yoder     | GAS              | Gasoline vehicle          | Unknown |\n",
       "| 2018 | null    | WY         | Yoder     | HYBRID ELECTRIC  | Hybrid electric vehicle   | Car     |\n",
       "|      |         |            |           | VEHICLE          |                           |         |\n",
       "| 2018 | null    | WY         | Yoder     | UNK              | Other/Unknown             | Unknown |\n",
       "+------+---------+------------+-----------+------------------+---------------------------+---------+"
      ]
     },
     "execution_count": 38,
     "metadata": {},
     "output_type": "execute_result"
    }
   ],
   "source": [
    "inv_yr = (\n",
    "    inv_raw\n",
    "    .with_columns(\n",
    "        [pl.col(year).cast(pl.Int16) for year in years]\n",
    "    )\n",
    "    .unpivot(\n",
    "        variable_name='year',\n",
    "        on=years,\n",
    "        index=['state_abbr', 'gisjoin', 'city_id', 'city_name', 'fuel_type_org', 'fuel_type', 'class']\n",
    "    )\n",
    "    .with_columns(\n",
    "        year=pl.col('year').cast(pl.Int16),\n",
    "        percent=(pl.col('value')*100).cast(pl.Float32)\n",
    "    )\n",
    "    .select(\n",
    "        'year', 'percent', 'state_abbr', 'city_name', 'fuel_type_org', 'fuel_type', 'class',\n",
    "    )\n",
    ")\n",
    "\n",
    "inv_yr"
   ]
  },
  {
   "cell_type": "code",
   "execution_count": 39,
   "id": "1cc72269-b326-46a9-9ebc-23effd5b15ca",
   "metadata": {},
   "outputs": [
    {
     "data": {
      "text/html": [
       "<div><style>\n",
       ".dataframe > thead > tr,\n",
       ".dataframe > tbody > tr {\n",
       "  text-align: right;\n",
       "  white-space: pre-wrap;\n",
       "}\n",
       "</style>\n",
       "<small>shape: (5_848_732, 7)</small><table border=\"1\" class=\"dataframe\"><thead><tr><th>year</th><th>percent</th><th>state_abbr</th><th>city_name</th><th>fuel_type_org</th><th>fuel_type</th><th>class</th></tr><tr><td>i16</td><td>f32</td><td>str</td><td>str</td><td>str</td><td>str</td><td>str</td></tr></thead><tbody><tr><td>2000</td><td>null</td><td>&quot;AL&quot;</td><td>&quot;Abbeville&quot;</td><td>&quot;BI&quot;</td><td>&quot;Other/Unknown&quot;</td><td>&quot;Car&quot;</td></tr><tr><td>2000</td><td>0.0</td><td>&quot;AL&quot;</td><td>&quot;Abbeville&quot;</td><td>&quot;DIES&quot;</td><td>&quot;Diesel vehicle&quot;</td><td>&quot;Car&quot;</td></tr><tr><td>2000</td><td>0.0</td><td>&quot;AL&quot;</td><td>&quot;Abbeville&quot;</td><td>&quot;DIES&quot;</td><td>&quot;Diesel vehicle&quot;</td><td>&quot;Truck&quot;</td></tr><tr><td>2000</td><td>null</td><td>&quot;AL&quot;</td><td>&quot;Abbeville&quot;</td><td>&quot;DIES&quot;</td><td>&quot;Diesel vehicle&quot;</td><td>&quot;Unknown&quot;</td></tr><tr><td>2000</td><td>null</td><td>&quot;AL&quot;</td><td>&quot;Abbeville&quot;</td><td>&quot;ELECTRIC VEHICLE&quot;</td><td>&quot;Electric vehicle&quot;</td><td>&quot;Car&quot;</td></tr><tr><td>&hellip;</td><td>&hellip;</td><td>&hellip;</td><td>&hellip;</td><td>&hellip;</td><td>&hellip;</td><td>&hellip;</td></tr><tr><td>2018</td><td>null</td><td>&quot;WY&quot;</td><td>&quot;Yoder&quot;</td><td>&quot;GAS&quot;</td><td>&quot;Gasoline vehicle&quot;</td><td>&quot;Car&quot;</td></tr><tr><td>2018</td><td>null</td><td>&quot;WY&quot;</td><td>&quot;Yoder&quot;</td><td>&quot;GAS&quot;</td><td>&quot;Gasoline vehicle&quot;</td><td>&quot;Truck&quot;</td></tr><tr><td>2018</td><td>null</td><td>&quot;WY&quot;</td><td>&quot;Yoder&quot;</td><td>&quot;GAS&quot;</td><td>&quot;Gasoline vehicle&quot;</td><td>&quot;Unknown&quot;</td></tr><tr><td>2018</td><td>null</td><td>&quot;WY&quot;</td><td>&quot;Yoder&quot;</td><td>&quot;HYBRID ELECTRIC VEHICLE&quot;</td><td>&quot;Hybrid electric vehicle&quot;</td><td>&quot;Car&quot;</td></tr><tr><td>2018</td><td>null</td><td>&quot;WY&quot;</td><td>&quot;Yoder&quot;</td><td>&quot;UNK&quot;</td><td>&quot;Other/Unknown&quot;</td><td>&quot;Unknown&quot;</td></tr></tbody></table></div>"
      ],
      "text/plain": [
       "shape: (5_848_732, 7)\n",
       "+------+---------+------------+-----------+------------------+---------------------------+---------+\n",
       "| year | percent | state_abbr | city_name | fuel_type_org    | fuel_type                 | class   |\n",
       "| ---  | ---     | ---        | ---       | ---              | ---                       | ---     |\n",
       "| i16  | f32     | str        | str       | str              | str                       | str     |\n",
       "+==================================================================================================+\n",
       "| 2000 | null    | AL         | Abbeville | BI               | Other/Unknown             | Car     |\n",
       "| 2000 | 0.0     | AL         | Abbeville | DIES             | Diesel vehicle            | Car     |\n",
       "| 2000 | 0.0     | AL         | Abbeville | DIES             | Diesel vehicle            | Truck   |\n",
       "| 2000 | null    | AL         | Abbeville | DIES             | Diesel vehicle            | Unknown |\n",
       "| 2000 | null    | AL         | Abbeville | ELECTRIC VEHICLE | Electric vehicle          | Car     |\n",
       "| …    | …       | …          | …         | …                | …                         | …       |\n",
       "| 2018 | null    | WY         | Yoder     | GAS              | Gasoline vehicle          | Car     |\n",
       "| 2018 | null    | WY         | Yoder     | GAS              | Gasoline vehicle          | Truck   |\n",
       "| 2018 | null    | WY         | Yoder     | GAS              | Gasoline vehicle          | Unknown |\n",
       "| 2018 | null    | WY         | Yoder     | HYBRID ELECTRIC  | Hybrid electric vehicle   | Car     |\n",
       "|      |         |            |           | VEHICLE          |                           |         |\n",
       "| 2018 | null    | WY         | Yoder     | UNK              | Other/Unknown             | Unknown |\n",
       "+------+---------+------------+-----------+------------------+---------------------------+---------+"
      ]
     },
     "execution_count": 39,
     "metadata": {},
     "output_type": "execute_result"
    }
   ],
   "source": [
    "# Updated version using unpivot\n",
    "inv_yr = (\n",
    "    inv_raw\n",
    "    .with_columns(\n",
    "        [pl.col(year).cast(pl.Int16) for year in years]\n",
    "    )\n",
    "    .unpivot(\n",
    "        variable_name='year',\n",
    "        on=years,\n",
    "        index=['state_abbr', 'gisjoin', 'city_id', 'city_name', 'fuel_type_org', 'fuel_type', 'class']\n",
    "    )\n",
    "    .with_columns(\n",
    "        year=pl.col('year').cast(pl.Int16),\n",
    "        percent=(pl.col('value')*100).cast(pl.Float32)\n",
    "    )\n",
    "    .select(\n",
    "        'year', 'percent', 'state_abbr', 'city_name', 'fuel_type_org', 'fuel_type', 'class',\n",
    "        # year=pl.col('year').cast(pl.Int16),\n",
    "        # percent=(pl.col('value')*100).cast(pl.Float32)\n",
    "    )\n",
    ")\n",
    "\n",
    "inv_yr"
   ]
  },
  {
   "cell_type": "markdown",
   "id": "56283a4a-c3ec-4030-8a50-7ed54040a24a",
   "metadata": {},
   "source": [
    "---\n",
    "## 2.15.1 Join OpenEI with autos data\n",
    "[back to Top](#Top)\n",
    "\n",
    "* We can join `inv_yr` with the `autos` data.\n",
    "* We want aggregated mileage data: mean city milage for each year, vehicle type and fuel type.\n",
    "* Convert VClass to a string\n",
    "* Create a new column called simple_class that generalizes VClass\n",
    "* Cast fuel_type to a string\n",
    "* Then join by year, simple_class and fuel_type.\n",
    "* Then aggregate the city mileage with the mean function.\n",
    "\n",
    "We are working with melting and aggregating here."
   ]
  },
  {
   "cell_type": "code",
   "execution_count": 40,
   "id": "b52ef447-4686-4fe1-b771-4df72848a45c",
   "metadata": {},
   "outputs": [
    {
     "name": "stdout",
     "output_type": "stream",
     "text": [
      "shape: (3, 2)\n",
      "+-----+-----+\n",
      "| foo | bar |\n",
      "| --- | --- |\n",
      "| i64 | i64 |\n",
      "+===========+\n",
      "| 1   | 3   |\n",
      "| 3   | 4   |\n",
      "| 4   | 0   |\n",
      "+-----+-----+\n",
      "shape: (3, 3)\n",
      "+-----+-----+-------------------+\n",
      "| foo | bar | VALUE_MINUS1_OR_1 |\n",
      "| --- | --- | ---               |\n",
      "| i64 | i64 | i32               |\n",
      "+===============================+\n",
      "| 1   | 3   | -1                |\n",
      "| 3   | 4   | 1                 |\n",
      "| 4   | 0   | 1                 |\n",
      "+-----+-----+-------------------+\n"
     ]
    }
   ],
   "source": [
    "# Example\n",
    "df = pl.DataFrame({\"foo\": [1, 3, 4], \"bar\": [3, 4, 0]})\n",
    "print(df)\n",
    "\n",
    "#print(df.with_columns(pl.when(pl.col(\"foo\") > 2).then(1).otherwise(-1).alias(\"val\")))\n",
    "print(df.with_columns(VALUE_MINUS1_OR_1 = pl\n",
    "                      .when(pl.col(\"foo\") > 2).then(1).otherwise(-1)))"
   ]
  },
  {
   "cell_type": "code",
   "execution_count": 41,
   "id": "6f356e1d-0539-47ea-a3b7-ee885e76a35f",
   "metadata": {},
   "outputs": [
    {
     "name": "stdout",
     "output_type": "stream",
     "text": [
      "(5848732, 7)\n",
      "(445, 4)\n",
      "shape: (5_848_732, 7)\n",
      "+------+---------+------------+-----------+------------------+---------------------------+---------+\n",
      "| year | percent | state_abbr | city_name | fuel_type_org    | fuel_type                 | class   |\n",
      "| ---  | ---     | ---        | ---       | ---              | ---                       | ---     |\n",
      "| i16  | f32     | str        | str       | str              | str                       | str     |\n",
      "+==================================================================================================+\n",
      "| 2000 | null    | AL         | Abbeville | BI               | Other/Unknown             | Car     |\n",
      "| 2000 | 0.0     | AL         | Abbeville | DIES             | Diesel vehicle            | Car     |\n",
      "| 2000 | 0.0     | AL         | Abbeville | DIES             | Diesel vehicle            | Truck   |\n",
      "| 2000 | null    | AL         | Abbeville | DIES             | Diesel vehicle            | Unknown |\n",
      "| 2000 | null    | AL         | Abbeville | ELECTRIC VEHICLE | Electric vehicle          | Car     |\n",
      "| …    | …       | …          | …         | …                | …                         | …       |\n",
      "| 2018 | null    | WY         | Yoder     | GAS              | Gasoline vehicle          | Car     |\n",
      "| 2018 | null    | WY         | Yoder     | GAS              | Gasoline vehicle          | Truck   |\n",
      "| 2018 | null    | WY         | Yoder     | GAS              | Gasoline vehicle          | Unknown |\n",
      "| 2018 | null    | WY         | Yoder     | HYBRID ELECTRIC  | Hybrid electric vehicle   | Car     |\n",
      "|      |         |            |           | VEHICLE          |                           |         |\n",
      "| 2018 | null    | WY         | Yoder     | UNK              | Other/Unknown             | Unknown |\n",
      "+------+---------+------------+-----------+------------------+---------------------------+---------+\n",
      "shape: (445, 4)\n",
      "+------+--------------+-------------------------+-----------+\n",
      "| year | simple_class | fuel_type               | mean_mpg  |\n",
      "| ---  | ---          | ---                     | ---       |\n",
      "| i16  | str          | str                     | f64       |\n",
      "+===========================================================+\n",
      "| 2018 | Truck        | Flex fuel vehicle       | 16.565217 |\n",
      "| 2023 | Other        | Hybrid electric vehicle | 26.366667 |\n",
      "| 2018 | Other        | Diesel vehicle          | 25.333333 |\n",
      "| 2006 | Other        | Diesel vehicle          | 17.0      |\n",
      "| 2000 | Truck        | Gasoline vehicle        | 14.792793 |\n",
      "| …    | …            | …                       | …         |\n",
      "| 2016 | Car          | Missing                 | 67.0      |\n",
      "| 2023 | Other        | Diesel vehicle          | 20.666667 |\n",
      "| 1985 | Other        | Gasoline vehicle        | 16.6098   |\n",
      "| 1987 | Truck        | Diesel vehicle          | 18.555556 |\n",
      "| 2022 | Other        | Missing                 | 62.0      |\n",
      "+------+--------------+-------------------------+-----------+\n"
     ]
    },
    {
     "name": "stderr",
     "output_type": "stream",
     "text": [
      "keys/aggregates are not partitionable: running default HASH AGGREGATION\n"
     ]
    }
   ],
   "source": [
    "# Make a simple category\n",
    "gas_mapping = {\n",
    "    'Diesel': 'Diesel vehicle',\n",
    "    'Regular': 'Gasoline vehicle',\n",
    "    'Premium': 'Gasoline vehicle',\n",
    "    'Midgrade': 'Gasoline vehicle',\n",
    "    'Gasoline or E85': 'Flex fuel vehicle',\n",
    "    'Premium or E85': 'Flex fuel vehicle',\n",
    "    'Premium Gas or Electricity': 'Plug-in hybrid electric vehicle',\n",
    "    'Regular Gas or Electricity': 'Plug-in hybrid electric vehicle',\n",
    "    'Premium and Electricity': 'Hybrid electric vehicle',\n",
    "    'Regular Gas and Electricity': 'Hybrid electric vehicle',\n",
    "    'Electricity': 'Electric vehicle',\n",
    "    'Gasoline or natural gas': 'Other/Unknown',\n",
    "    'Gasoline or propane': 'Other/Unknown',\n",
    "    'CNG': 'Other/Unknown',\n",
    "}\n",
    "\n",
    "agg_yr = (\n",
    "    autos\n",
    "    .with_columns(VClass=pl.col('VClass').cast(pl.String))\n",
    "    .with_columns(\n",
    "        simple_class=pl\n",
    "        .when(pl.col('VClass').str.to_lowercase().str.contains('car'))\n",
    "            .then(pl.lit('Car'))\n",
    "        .when(pl.col('VClass').str.to_lowercase().str.contains('truck'))\n",
    "            .then(pl.lit('Truck'))\n",
    "        .otherwise(pl.lit('Other')),\n",
    "        \n",
    "        fuel_type=pl.col('fuelType')\n",
    "            .cast(pl.String)\n",
    "            #.replace(gas_mapping, default='Missing') # deprecated\n",
    "            .replace_strict(gas_mapping, default='Missing')\n",
    "    )\n",
    "    .group_by(['year', 'simple_class', 'fuel_type'])\n",
    "    .agg(mean_mpg = pl.col('city08').mean())\n",
    ")\n",
    "print(inv_yr.shape)\n",
    "print(agg_yr.shape)\n",
    "print(inv_yr)\n",
    "print(agg_yr)"
   ]
  },
  {
   "cell_type": "markdown",
   "id": "19a719db-8519-4095-aaf7-c04fa7c80f17",
   "metadata": {},
   "source": [
    "---\n",
    "Join these two datasets by year, vehicle class, and fuel type.\n"
   ]
  },
  {
   "cell_type": "code",
   "execution_count": 42,
   "id": "ccfa5b42-9673-4b60-ada9-c20f404dabb7",
   "metadata": {},
   "outputs": [
    {
     "name": "stderr",
     "output_type": "stream",
     "text": [
      "join parallel: true\n",
      "INNER join triggered a rechunk of the left DataFrame: 4 columns are affected\n",
      "INNER join dataframes finished\n"
     ]
    },
    {
     "data": {
      "text/html": [
       "<div><style>\n",
       ".dataframe > thead > tr,\n",
       ".dataframe > tbody > tr {\n",
       "  text-align: right;\n",
       "  white-space: pre-wrap;\n",
       "}\n",
       "</style>\n",
       "<small>shape: (3_234_418, 8)</small><table border=\"1\" class=\"dataframe\"><thead><tr><th>year</th><th>simple_class</th><th>fuel_type</th><th>mean_mpg</th><th>percent</th><th>state_abbr</th><th>city_name</th><th>fuel_type_org</th></tr><tr><td>i16</td><td>str</td><td>str</td><td>f64</td><td>f32</td><td>str</td><td>str</td><td>str</td></tr></thead><tbody><tr><td>2000</td><td>&quot;Car&quot;</td><td>&quot;Other/Unknown&quot;</td><td>17.6</td><td>null</td><td>&quot;AL&quot;</td><td>&quot;Abbeville&quot;</td><td>&quot;BI&quot;</td></tr><tr><td>2000</td><td>&quot;Car&quot;</td><td>&quot;Diesel vehicle&quot;</td><td>32.0</td><td>0.0</td><td>&quot;AL&quot;</td><td>&quot;Abbeville&quot;</td><td>&quot;DIES&quot;</td></tr><tr><td>2000</td><td>&quot;Car&quot;</td><td>&quot;Flex fuel vehicle&quot;</td><td>17.0</td><td>0.0</td><td>&quot;AL&quot;</td><td>&quot;Abbeville&quot;</td><td>&quot;FFV&quot;</td></tr><tr><td>2000</td><td>&quot;Truck&quot;</td><td>&quot;Flex fuel vehicle&quot;</td><td>15.0</td><td>0.0</td><td>&quot;AL&quot;</td><td>&quot;Abbeville&quot;</td><td>&quot;FFV&quot;</td></tr><tr><td>2000</td><td>&quot;Car&quot;</td><td>&quot;Gasoline vehicle&quot;</td><td>18.129032</td><td>0.0</td><td>&quot;AL&quot;</td><td>&quot;Abbeville&quot;</td><td>&quot;GAS&quot;</td></tr><tr><td>&hellip;</td><td>&hellip;</td><td>&hellip;</td><td>&hellip;</td><td>&hellip;</td><td>&hellip;</td><td>&hellip;</td><td>&hellip;</td></tr><tr><td>2018</td><td>&quot;Car&quot;</td><td>&quot;Flex fuel vehicle&quot;</td><td>18.875</td><td>null</td><td>&quot;WY&quot;</td><td>&quot;Yoder&quot;</td><td>&quot;FFV&quot;</td></tr><tr><td>2018</td><td>&quot;Truck&quot;</td><td>&quot;Flex fuel vehicle&quot;</td><td>16.565217</td><td>null</td><td>&quot;WY&quot;</td><td>&quot;Yoder&quot;</td><td>&quot;FFV&quot;</td></tr><tr><td>2018</td><td>&quot;Car&quot;</td><td>&quot;Gasoline vehicle&quot;</td><td>22.004785</td><td>null</td><td>&quot;WY&quot;</td><td>&quot;Yoder&quot;</td><td>&quot;GAS&quot;</td></tr><tr><td>2018</td><td>&quot;Truck&quot;</td><td>&quot;Gasoline vehicle&quot;</td><td>16.710526</td><td>null</td><td>&quot;WY&quot;</td><td>&quot;Yoder&quot;</td><td>&quot;GAS&quot;</td></tr><tr><td>2018</td><td>&quot;Car&quot;</td><td>&quot;Hybrid electric vehicle&quot;</td><td>34.4</td><td>null</td><td>&quot;WY&quot;</td><td>&quot;Yoder&quot;</td><td>&quot;HYBRID ELECTRIC VEHICLE&quot;</td></tr></tbody></table></div>"
      ],
      "text/plain": [
       "shape: (3_234_418, 8)\n",
       "+------+--------------+--------------+-----------+---------+------------+-----------+--------------+\n",
       "| year | simple_class | fuel_type    | mean_mpg  | percent | state_abbr | city_name | fuel_type_or |\n",
       "| ---  | ---          | ---          | ---       | ---     | ---        | ---       | g            |\n",
       "| i16  | str          | str          | f64       | f32     | str        | str       | ---          |\n",
       "|      |              |              |           |         |            |           | str          |\n",
       "+==================================================================================================+\n",
       "| 2000 | Car          | Other/Unknow | 17.6      | null    | AL         | Abbeville | BI           |\n",
       "|      |              | n            |           |         |            |           |              |\n",
       "| 2000 | Car          | Diesel       | 32.0      | 0.0     | AL         | Abbeville | DIES         |\n",
       "|      |              | vehicle      |           |         |            |           |              |\n",
       "| 2000 | Car          | Flex fuel    | 17.0      | 0.0     | AL         | Abbeville | FFV          |\n",
       "|      |              | vehicle      |           |         |            |           |              |\n",
       "| 2000 | Truck        | Flex fuel    | 15.0      | 0.0     | AL         | Abbeville | FFV          |\n",
       "|      |              | vehicle      |           |         |            |           |              |\n",
       "| 2000 | Car          | Gasoline     | 18.129032 | 0.0     | AL         | Abbeville | GAS          |\n",
       "|      |              | vehicle      |           |         |            |           |              |\n",
       "| …    | …            | …            | …         | …       | …          | …         | …            |\n",
       "| 2018 | Car          | Flex fuel    | 18.875    | null    | WY         | Yoder     | FFV          |\n",
       "|      |              | vehicle      |           |         |            |           |              |\n",
       "| 2018 | Truck        | Flex fuel    | 16.565217 | null    | WY         | Yoder     | FFV          |\n",
       "|      |              | vehicle      |           |         |            |           |              |\n",
       "| 2018 | Car          | Gasoline     | 22.004785 | null    | WY         | Yoder     | GAS          |\n",
       "|      |              | vehicle      |           |         |            |           |              |\n",
       "| 2018 | Truck        | Gasoline     | 16.710526 | null    | WY         | Yoder     | GAS          |\n",
       "|      |              | vehicle      |           |         |            |           |              |\n",
       "| 2018 | Car          | Hybrid       | 34.4      | null    | WY         | Yoder     | HYBRID       |\n",
       "|      |              | electric     |           |         |            |           | ELECTRIC     |\n",
       "|      |              | vehicle      |           |         |            |           | VEHICLE      |\n",
       "+------+--------------+--------------+-----------+---------+------------+-----------+--------------+"
      ]
     },
     "execution_count": 42,
     "metadata": {},
     "output_type": "execute_result"
    }
   ],
   "source": [
    "(\n",
    "    agg_yr\n",
    "    .join(\n",
    "        inv_yr,\n",
    "        left_on=['year', 'simple_class', 'fuel_type'],\n",
    "        right_on=['year', 'class', 'fuel_type']\n",
    "    )\n",
    ")"
   ]
  },
  {
   "cell_type": "markdown",
   "id": "2fc4fde5-1e23-4521-b8c8-1e5292b681b5",
   "metadata": {},
   "source": [
    "---\n",
    "Do some simple quick benchmarks to see if sorting or using categoricals has an impact on joining.\n",
    "\n",
    "`inv_yr` has + 5 million rows."
   ]
  },
  {
   "cell_type": "code",
   "execution_count": 43,
   "id": "a3129c11-96ea-4854-b615-e5af8f45672c",
   "metadata": {},
   "outputs": [
    {
     "name": "stdout",
     "output_type": "stream",
     "text": [
      "(445, 4)\n",
      "(5848732, 7)\n"
     ]
    }
   ],
   "source": [
    "agg_yr_shuf = agg_yr.sample(len(agg_yr), with_replacement=False, seed=42)\n",
    "print(agg_yr_shuf.shape)\n",
    "\n",
    "inv_yr_shuf = inv_yr.sample(len(inv_yr), with_replacement=False, seed=42)\n",
    "print(inv_yr_shuf.shape)"
   ]
  },
  {
   "cell_type": "code",
   "execution_count": 44,
   "id": "77f52a67-ef8f-4f2c-8d20-4d617aeb73e7",
   "metadata": {},
   "outputs": [
    {
     "data": {
      "text/plain": [
       "{'year': {'SORTED_ASC': False, 'SORTED_DESC': False},\n",
       " 'simple_class': {'SORTED_ASC': False, 'SORTED_DESC': False},\n",
       " 'fuel_type': {'SORTED_ASC': False, 'SORTED_DESC': False},\n",
       " 'mean_mpg': {'SORTED_ASC': False, 'SORTED_DESC': False}}"
      ]
     },
     "execution_count": 44,
     "metadata": {},
     "output_type": "execute_result"
    }
   ],
   "source": [
    "agg_yr_shuf.flags"
   ]
  },
  {
   "cell_type": "code",
   "execution_count": 45,
   "id": "e336ead7-b15b-4cee-85d0-fd7d41349681",
   "metadata": {},
   "outputs": [
    {
     "data": {
      "text/plain": [
       "{'year': {'SORTED_ASC': False, 'SORTED_DESC': False},\n",
       " 'percent': {'SORTED_ASC': False, 'SORTED_DESC': False},\n",
       " 'state_abbr': {'SORTED_ASC': False, 'SORTED_DESC': False},\n",
       " 'city_name': {'SORTED_ASC': False, 'SORTED_DESC': False},\n",
       " 'fuel_type_org': {'SORTED_ASC': False, 'SORTED_DESC': False},\n",
       " 'fuel_type': {'SORTED_ASC': False, 'SORTED_DESC': False},\n",
       " 'class': {'SORTED_ASC': False, 'SORTED_DESC': False}}"
      ]
     },
     "execution_count": 45,
     "metadata": {},
     "output_type": "execute_result"
    }
   ],
   "source": [
    "inv_yr_shuf.flags"
   ]
  },
  {
   "cell_type": "markdown",
   "id": "64aaeaf5-dcb0-444d-90da-984ada21d348",
   "metadata": {},
   "source": [
    "---\n",
    "## 2.15.2 Joins Benchmarking\n",
    "[back to Top](#Top)"
   ]
  },
  {
   "cell_type": "code",
   "execution_count": 46,
   "id": "6aaf439c-90f2-4367-abf2-d85137928018",
   "metadata": {},
   "outputs": [
    {
     "name": "stdout",
     "output_type": "stream",
     "text": [
      "616 ms ± 80.9 ms per loop (mean ± std. dev. of 7 runs, 1 loop each)\n"
     ]
    }
   ],
   "source": [
    "%%timeit\n",
    "@pl.Config(set_verbose=False)\n",
    "def timing_test():\n",
    "    \n",
    "    # baseline time\n",
    "    (\n",
    "        agg_yr_shuf\n",
    "        .join(\n",
    "            inv_yr_shuf,\n",
    "            left_on=['year', 'simple_class', 'fuel_type'],\n",
    "            right_on=['year', 'class', 'fuel_type']\n",
    "        )\n",
    "    )\n",
    "\n",
    "timing_test()"
   ]
  },
  {
   "cell_type": "markdown",
   "id": "786409d7-38f7-4d3d-bb40-2ef295fe7d10",
   "metadata": {},
   "source": [
    "---\n",
    "Sort each dataframe by *year* and run it again."
   ]
  },
  {
   "cell_type": "code",
   "execution_count": 47,
   "id": "b5efbc6e-5659-440c-bce3-3061d5016718",
   "metadata": {},
   "outputs": [],
   "source": [
    "# sort by year\n",
    "agg_yr_sort = agg_yr.sort('year')\n",
    "inv_yr_sort = inv_yr.sort('year')"
   ]
  },
  {
   "cell_type": "code",
   "execution_count": 48,
   "id": "4f376b76-6d85-43d1-b90d-2676a6eb6ad5",
   "metadata": {},
   "outputs": [
    {
     "name": "stdout",
     "output_type": "stream",
     "text": [
      "545 ms ± 53.3 ms per loop (mean ± std. dev. of 7 runs, 1 loop each)\n"
     ]
    }
   ],
   "source": [
    "%%timeit\n",
    "@pl.Config(set_verbose=False)\n",
    "def timing_test():\n",
    "    # baseline time\n",
    "    (\n",
    "        agg_yr_sort\n",
    "        .join(\n",
    "            inv_yr_sort,\n",
    "            left_on=['year', 'simple_class', 'fuel_type'],\n",
    "            right_on=['year', 'class', 'fuel_type']\n",
    "        )\n",
    "    )\n",
    "\n",
    "timing_test()"
   ]
  },
  {
   "cell_type": "markdown",
   "id": "8c96cdb6-6078-4567-911e-edfa4604a501",
   "metadata": {},
   "source": [
    "---\n",
    "* There is not much of a difference here.\n",
    "\n",
    "* This time, try sorting all of the joining columns."
   ]
  },
  {
   "cell_type": "code",
   "execution_count": 49,
   "id": "248ae7b2-29ce-4d00-9b9f-c92ff221413c",
   "metadata": {},
   "outputs": [],
   "source": [
    "# sort by year and class\n",
    "agg_yr_sort2 = agg_yr.sort('year', 'simple_class', 'fuel_type')\n",
    "inv_yr_sort2 = inv_yr.sort('year', 'class', 'fuel_type')"
   ]
  },
  {
   "cell_type": "code",
   "execution_count": 50,
   "id": "40df1286-b11c-4607-8800-a12521aae2a7",
   "metadata": {},
   "outputs": [
    {
     "name": "stdout",
     "output_type": "stream",
     "text": [
      "700 ms ± 132 ms per loop (mean ± std. dev. of 7 runs, 1 loop each)\n"
     ]
    }
   ],
   "source": [
    "%%timeit\n",
    "@pl.Config(set_verbose=False)\n",
    "def timing_test():\n",
    "    (\n",
    "        agg_yr_sort2\n",
    "        .join(\n",
    "            inv_yr_sort2,\n",
    "            left_on=['year', 'simple_class', 'fuel_type'],\n",
    "            right_on=['year', 'class', 'fuel_type']\n",
    "        )\n",
    "    )\n",
    "\n",
    "timing_test()"
   ]
  },
  {
   "cell_type": "markdown",
   "id": "c3d88cd0-bd87-41c1-a6ed-aff36ba87341",
   "metadata": {},
   "source": [
    "---\n",
    "Try converting the strings to categorical values.\n",
    "\n",
    "We need to use the `pl.StringCache` context manager and convert all of the columns to categories inside of the same context.\n",
    "\n",
    "When you are working with multiple dataframes that have categoricals with the same values, you can use the StringCache to ensure that the categories are the same across the dataframes. This can help with joins and aggregations."
   ]
  },
  {
   "cell_type": "code",
   "execution_count": 51,
   "id": "01394800-54ef-4ddf-ac9b-80808c55423d",
   "metadata": {},
   "outputs": [],
   "source": [
    "with pl.StringCache():\n",
    "    agg_yr_cat = agg_yr_sort2.with_columns(\n",
    "        pl.col('simple_class', 'fuel_type').cast(pl.Categorical)\n",
    "    )\n",
    "    inv_yr_cat = inv_yr_sort2.with_columns(\n",
    "        pl.col('class', 'fuel_type').cast(pl.Categorical)\n",
    "    )"
   ]
  },
  {
   "cell_type": "code",
   "execution_count": 52,
   "id": "4e633c26-b17e-453f-86ed-6261ccf4a7cf",
   "metadata": {},
   "outputs": [
    {
     "name": "stdout",
     "output_type": "stream",
     "text": [
      "501 ms ± 88.3 ms per loop (mean ± std. dev. of 7 runs, 1 loop each)\n"
     ]
    }
   ],
   "source": [
    "%%timeit\n",
    "@pl.Config(set_verbose=False)\n",
    "def timing_test():\n",
    "    (\n",
    "        agg_yr_cat\n",
    "        .join(\n",
    "            inv_yr_cat, \n",
    "            left_on=['year', 'simple_class', 'fuel_type'], \n",
    "            right_on=['year', 'class', 'fuel_type']\n",
    "        )\n",
    "    )\n",
    "\n",
    "timing_test()"
   ]
  },
  {
   "cell_type": "markdown",
   "id": "c8734598-24e0-4ead-8eae-f4d8bb004ada",
   "metadata": {},
   "source": [
    "This is much faster.\n",
    "\n",
    "---\n",
    "We can compare this to a Pandas sort.\n"
   ]
  },
  {
   "cell_type": "code",
   "execution_count": 53,
   "id": "4408fbc2-5566-44f6-b5fb-683c9039ce59",
   "metadata": {},
   "outputs": [],
   "source": [
    "agg_pd = agg_yr_sort2.to_pandas().sort_values(['year', 'simple_class', 'fuel_type'])\n",
    "inv_pd = inv_yr_sort2.to_pandas().sort_values(['year', 'class','fuel_type'])"
   ]
  },
  {
   "cell_type": "code",
   "execution_count": 54,
   "id": "2737d93c-eafb-434f-be28-7c872b480ab0",
   "metadata": {},
   "outputs": [
    {
     "data": {
      "text/html": [
       "<div>\n",
       "<style scoped>\n",
       "    .dataframe tbody tr th:only-of-type {\n",
       "        vertical-align: middle;\n",
       "    }\n",
       "\n",
       "    .dataframe tbody tr th {\n",
       "        vertical-align: top;\n",
       "    }\n",
       "\n",
       "    .dataframe thead th {\n",
       "        text-align: right;\n",
       "    }\n",
       "</style>\n",
       "<table border=\"1\" class=\"dataframe\">\n",
       "  <thead>\n",
       "    <tr style=\"text-align: right;\">\n",
       "      <th></th>\n",
       "      <th>year</th>\n",
       "      <th>simple_class</th>\n",
       "      <th>fuel_type</th>\n",
       "      <th>mean_mpg</th>\n",
       "    </tr>\n",
       "  </thead>\n",
       "  <tbody>\n",
       "    <tr>\n",
       "      <th>0</th>\n",
       "      <td>1984</td>\n",
       "      <td>Car</td>\n",
       "      <td>Diesel vehicle</td>\n",
       "      <td>24.338462</td>\n",
       "    </tr>\n",
       "    <tr>\n",
       "      <th>1</th>\n",
       "      <td>1984</td>\n",
       "      <td>Car</td>\n",
       "      <td>Gasoline vehicle</td>\n",
       "      <td>18.221835</td>\n",
       "    </tr>\n",
       "    <tr>\n",
       "      <th>2</th>\n",
       "      <td>1984</td>\n",
       "      <td>Other</td>\n",
       "      <td>Diesel vehicle</td>\n",
       "      <td>21.300000</td>\n",
       "    </tr>\n",
       "    <tr>\n",
       "      <th>3</th>\n",
       "      <td>1984</td>\n",
       "      <td>Other</td>\n",
       "      <td>Gasoline vehicle</td>\n",
       "      <td>16.907631</td>\n",
       "    </tr>\n",
       "    <tr>\n",
       "      <th>4</th>\n",
       "      <td>1984</td>\n",
       "      <td>Truck</td>\n",
       "      <td>Diesel vehicle</td>\n",
       "      <td>20.708333</td>\n",
       "    </tr>\n",
       "    <tr>\n",
       "      <th>...</th>\n",
       "      <td>...</td>\n",
       "      <td>...</td>\n",
       "      <td>...</td>\n",
       "      <td>...</td>\n",
       "    </tr>\n",
       "    <tr>\n",
       "      <th>440</th>\n",
       "      <td>2025</td>\n",
       "      <td>Other</td>\n",
       "      <td>Gasoline vehicle</td>\n",
       "      <td>20.737430</td>\n",
       "    </tr>\n",
       "    <tr>\n",
       "      <th>441</th>\n",
       "      <td>2025</td>\n",
       "      <td>Truck</td>\n",
       "      <td>Diesel vehicle</td>\n",
       "      <td>21.400000</td>\n",
       "    </tr>\n",
       "    <tr>\n",
       "      <th>442</th>\n",
       "      <td>2025</td>\n",
       "      <td>Truck</td>\n",
       "      <td>Electric vehicle</td>\n",
       "      <td>78.187500</td>\n",
       "    </tr>\n",
       "    <tr>\n",
       "      <th>443</th>\n",
       "      <td>2025</td>\n",
       "      <td>Truck</td>\n",
       "      <td>Flex fuel vehicle</td>\n",
       "      <td>15.000000</td>\n",
       "    </tr>\n",
       "    <tr>\n",
       "      <th>444</th>\n",
       "      <td>2025</td>\n",
       "      <td>Truck</td>\n",
       "      <td>Gasoline vehicle</td>\n",
       "      <td>16.471698</td>\n",
       "    </tr>\n",
       "  </tbody>\n",
       "</table>\n",
       "<p>445 rows × 4 columns</p>\n",
       "</div>"
      ],
      "text/plain": [
       "     year simple_class          fuel_type   mean_mpg\n",
       "0    1984          Car     Diesel vehicle  24.338462\n",
       "1    1984          Car   Gasoline vehicle  18.221835\n",
       "2    1984        Other     Diesel vehicle  21.300000\n",
       "3    1984        Other   Gasoline vehicle  16.907631\n",
       "4    1984        Truck     Diesel vehicle  20.708333\n",
       "..    ...          ...                ...        ...\n",
       "440  2025        Other   Gasoline vehicle  20.737430\n",
       "441  2025        Truck     Diesel vehicle  21.400000\n",
       "442  2025        Truck   Electric vehicle  78.187500\n",
       "443  2025        Truck  Flex fuel vehicle  15.000000\n",
       "444  2025        Truck   Gasoline vehicle  16.471698\n",
       "\n",
       "[445 rows x 4 columns]"
      ]
     },
     "execution_count": 54,
     "metadata": {},
     "output_type": "execute_result"
    }
   ],
   "source": [
    "agg_pd"
   ]
  },
  {
   "cell_type": "code",
   "execution_count": 55,
   "id": "59fbab8a-e907-4b81-bff8-d71df97f3173",
   "metadata": {},
   "outputs": [
    {
     "name": "stdout",
     "output_type": "stream",
     "text": [
      "2.45 s ± 560 ms per loop (mean ± std. dev. of 7 runs, 1 loop each)\n"
     ]
    }
   ],
   "source": [
    "%%timeit\n",
    "@pl.Config(set_verbose=False)\n",
    "def timing_test():\n",
    "    (\n",
    "        agg_pd\n",
    "        .merge(\n",
    "            inv_pd, \n",
    "            left_on=['year', 'simple_class', 'fuel_type'], \n",
    "            right_on=['year', 'class', 'fuel_type']\n",
    "        )\n",
    "    )\n",
    "\n",
    "timing_test()"
   ]
  },
  {
   "cell_type": "markdown",
   "id": "a2722a64-383a-4ed6-91ea-8bb104f94640",
   "metadata": {},
   "source": [
    "The Pandas sort is much slower!\n",
    "\n",
    "---"
   ]
  },
  {
   "cell_type": "markdown",
   "id": "dd694c06-4723-46df-a475-8e9dfacb0d12",
   "metadata": {},
   "source": [
    "# 2.16 Visualizing the Join\n",
    "[back to Top](#Top)\n",
    "\n",
    "* Make a line for each *simple class* vehicle type over the years for Salt Lake City.\n",
    "* Need a dataframe aggregated by year.\n",
    "* Use `.pivot()`\n",
    "* Once we have the year in a column and other columns for each line, make the plot."
   ]
  },
  {
   "cell_type": "code",
   "execution_count": 56,
   "id": "01bc466a-15f4-48fb-bbdf-19e532dc396a",
   "metadata": {},
   "outputs": [
    {
     "name": "stderr",
     "output_type": "stream",
     "text": [
      "join parallel: true\n",
      "INNER join triggered a rechunk of the left DataFrame: 4 columns are affected\n",
      "INNER join dataframes finished\n",
      "dataframe filtered\n"
     ]
    },
    {
     "data": {
      "text/html": [
       "<div><style>\n",
       ".dataframe > thead > tr,\n",
       ".dataframe > tbody > tr {\n",
       "  text-align: right;\n",
       "  white-space: pre-wrap;\n",
       "}\n",
       "</style>\n",
       "<small>shape: (19, 3)</small><table border=\"1\" class=\"dataframe\"><thead><tr><th>year</th><th>Car</th><th>Truck</th></tr><tr><td>i16</td><td>f64</td><td>f64</td></tr></thead><tbody><tr><td>2000</td><td>20.465806</td><td>12.558559</td></tr><tr><td>2001</td><td>19.972288</td><td>12.685439</td></tr><tr><td>2002</td><td>20.834157</td><td>12.618696</td></tr><tr><td>2003</td><td>20.505458</td><td>12.45977</td></tr><tr><td>2004</td><td>19.001403</td><td>12.260606</td></tr><tr><td>&hellip;</td><td>&hellip;</td><td>&hellip;</td></tr><tr><td>2014</td><td>37.992402</td><td>16.691919</td></tr><tr><td>2015</td><td>35.871053</td><td>17.464186</td></tr><tr><td>2016</td><td>34.458447</td><td>17.664933</td></tr><tr><td>2017</td><td>43.256047</td><td>17.57901</td></tr><tr><td>2018</td><td>41.715381</td><td>17.953026</td></tr></tbody></table></div>"
      ],
      "text/plain": [
       "shape: (19, 3)\n",
       "+------+-----------+-----------+\n",
       "| year | Car       | Truck     |\n",
       "| ---  | ---       | ---       |\n",
       "| i16  | f64       | f64       |\n",
       "+==============================+\n",
       "| 2000 | 20.465806 | 12.558559 |\n",
       "| 2001 | 19.972288 | 12.685439 |\n",
       "| 2002 | 20.834157 | 12.618696 |\n",
       "| 2003 | 20.505458 | 12.45977  |\n",
       "| 2004 | 19.001403 | 12.260606 |\n",
       "| …    | …         | …         |\n",
       "| 2014 | 37.992402 | 16.691919 |\n",
       "| 2015 | 35.871053 | 17.464186 |\n",
       "| 2016 | 34.458447 | 17.664933 |\n",
       "| 2017 | 43.256047 | 17.57901  |\n",
       "| 2018 | 41.715381 | 17.953026 |\n",
       "+------+-----------+-----------+"
      ]
     },
     "execution_count": 56,
     "metadata": {},
     "output_type": "execute_result"
    }
   ],
   "source": [
    "# Data prepped for the plot\n",
    "(\n",
    "    agg_yr\n",
    "    .join(\n",
    "        inv_yr,\n",
    "        left_on=['year', 'simple_class', 'fuel_type'],\n",
    "        right_on=['year', 'class', 'fuel_type']\n",
    "    )\n",
    "    .filter(city_name='Salt Lake City')\n",
    "    .pivot(\n",
    "        index='year',\n",
    "        on='simple_class',\n",
    "        values='mean_mpg',\n",
    "        aggregate_function='mean'\n",
    "    )\n",
    ")"
   ]
  },
  {
   "cell_type": "markdown",
   "id": "af5e33e0-d3c0-4ff1-9e52-a5d4f1d624c9",
   "metadata": {},
   "source": [
    "Use .plot.line() for the visualization."
   ]
  },
  {
   "cell_type": "code",
   "execution_count": 57,
   "id": "00139e8d-2a5a-4b36-81d4-a1f9e49e3452",
   "metadata": {},
   "outputs": [
    {
     "name": "stderr",
     "output_type": "stream",
     "text": [
      "join parallel: true\n",
      "INNER join triggered a rechunk of the left DataFrame: 4 columns are affected\n",
      "INNER join dataframes finished\n",
      "dataframe filtered\n"
     ]
    }
   ],
   "source": [
    "try:\n",
    "    (\n",
    "        agg_yr\n",
    "        .join(\n",
    "            inv_yr,\n",
    "            left_on=['year', 'simple_class', 'fuel_type'],\n",
    "            right_on=['year', 'class', 'fuel_type']\n",
    "        )\n",
    "        .filter(city_name='Salt Lake City')\n",
    "        .pivot(\n",
    "            index='year',\n",
    "            on='simple_class',\n",
    "            values='mean_mpg',\n",
    "            aggregate_function='mean'\n",
    "        )\n",
    "        .plot.line(\n",
    "            x='year',\n",
    "            y=['Car', 'Truck'],\n",
    "        )\n",
    "    )\n",
    "except Exception as e:\n",
    "    print(e)"
   ]
  },
  {
   "cell_type": "markdown",
   "id": "9d7b1672-9ef0-4073-acd2-485decc377b6",
   "metadata": {},
   "source": [
    "* Encountering `SchemaValidationError` using book-code as-is.\n",
    "\n",
    "Fix:\n",
    "\n",
    "* After pivoting, use the melt() function to reshape the data from wide to long format. This creates a column for the vehicle class and a column for the mean MPG values\n",
    "\n",
    "* In the plot.line() function, we now use:\n",
    "```\n",
    "x='year' # for the x-axis\n",
    "y='mean_mpg' # for the y-axis\n",
    "color='vehicle_class' # to distinguish between different vehicle classes\n",
    "```\n",
    "*  These changes should resolve the SchemaValidationError by providing the correct data structure for the line plot. The resulting plot will show the mean MPG trends over time for different vehicle classes in Salt Lake City \n"
   ]
  },
  {
   "cell_type": "code",
   "execution_count": 58,
   "id": "801bcf60-e231-4767-b040-c6f5b9915a82",
   "metadata": {},
   "outputs": [
    {
     "name": "stderr",
     "output_type": "stream",
     "text": [
      "join parallel: true\n",
      "INNER join triggered a rechunk of the left DataFrame: 4 columns are affected\n",
      "INNER join dataframes finished\n",
      "dataframe filtered\n"
     ]
    },
    {
     "data": {
      "text/html": [
       "<div><style>\n",
       ".dataframe > thead > tr,\n",
       ".dataframe > tbody > tr {\n",
       "  text-align: right;\n",
       "  white-space: pre-wrap;\n",
       "}\n",
       "</style>\n",
       "<small>shape: (38, 3)</small><table border=\"1\" class=\"dataframe\"><thead><tr><th>year</th><th>vehicle_class</th><th>mean_mpg</th></tr><tr><td>i16</td><td>str</td><td>f64</td></tr></thead><tbody><tr><td>2000</td><td>&quot;Car&quot;</td><td>20.465806</td></tr><tr><td>2001</td><td>&quot;Car&quot;</td><td>19.972288</td></tr><tr><td>2002</td><td>&quot;Car&quot;</td><td>20.834157</td></tr><tr><td>2003</td><td>&quot;Car&quot;</td><td>20.505458</td></tr><tr><td>2004</td><td>&quot;Car&quot;</td><td>19.001403</td></tr><tr><td>&hellip;</td><td>&hellip;</td><td>&hellip;</td></tr><tr><td>2014</td><td>&quot;Truck&quot;</td><td>16.691919</td></tr><tr><td>2015</td><td>&quot;Truck&quot;</td><td>17.464186</td></tr><tr><td>2016</td><td>&quot;Truck&quot;</td><td>17.664933</td></tr><tr><td>2017</td><td>&quot;Truck&quot;</td><td>17.57901</td></tr><tr><td>2018</td><td>&quot;Truck&quot;</td><td>17.953026</td></tr></tbody></table></div>"
      ],
      "text/plain": [
       "shape: (38, 3)\n",
       "+------+---------------+-----------+\n",
       "| year | vehicle_class | mean_mpg  |\n",
       "| ---  | ---           | ---       |\n",
       "| i16  | str           | f64       |\n",
       "+==================================+\n",
       "| 2000 | Car           | 20.465806 |\n",
       "| 2001 | Car           | 19.972288 |\n",
       "| 2002 | Car           | 20.834157 |\n",
       "| 2003 | Car           | 20.505458 |\n",
       "| 2004 | Car           | 19.001403 |\n",
       "| …    | …             | …         |\n",
       "| 2014 | Truck         | 16.691919 |\n",
       "| 2015 | Truck         | 17.464186 |\n",
       "| 2016 | Truck         | 17.664933 |\n",
       "| 2017 | Truck         | 17.57901  |\n",
       "| 2018 | Truck         | 17.953026 |\n",
       "+------+---------------+-----------+"
      ]
     },
     "execution_count": 58,
     "metadata": {},
     "output_type": "execute_result"
    }
   ],
   "source": [
    "(\n",
    "    agg_yr\n",
    "    .join(\n",
    "        inv_yr,\n",
    "        left_on=['year', 'simple_class', 'fuel_type'],\n",
    "        right_on=['year', 'class', 'fuel_type']\n",
    "    )\n",
    "    .filter(pl.col('city_name') == 'Salt Lake City')\n",
    "    .pivot(\n",
    "        index='year',\n",
    "        on='simple_class',\n",
    "        values='mean_mpg',\n",
    "        aggregate_function='mean'\n",
    "    )\n",
    "    .unpivot(\n",
    "        index='year', \n",
    "        variable_name='vehicle_class', \n",
    "        value_name='mean_mpg'\n",
    "    )\n",
    ")"
   ]
  },
  {
   "cell_type": "code",
   "execution_count": 59,
   "id": "e64db648-fbfb-4a9a-8b21-bc3d885c5ebc",
   "metadata": {},
   "outputs": [
    {
     "name": "stderr",
     "output_type": "stream",
     "text": [
      "join parallel: true\n",
      "INNER join triggered a rechunk of the left DataFrame: 4 columns are affected\n",
      "INNER join dataframes finished\n",
      "dataframe filtered\n"
     ]
    },
    {
     "data": {
      "text/html": [
       "\n",
       "<style>\n",
       "  #altair-viz-87dffb36b45f4f7a85d0bab2e74ab708.vega-embed {\n",
       "    width: 100%;\n",
       "    display: flex;\n",
       "  }\n",
       "\n",
       "  #altair-viz-87dffb36b45f4f7a85d0bab2e74ab708.vega-embed details,\n",
       "  #altair-viz-87dffb36b45f4f7a85d0bab2e74ab708.vega-embed details summary {\n",
       "    position: relative;\n",
       "  }\n",
       "</style>\n",
       "<div id=\"altair-viz-87dffb36b45f4f7a85d0bab2e74ab708\"></div>\n",
       "<script type=\"text/javascript\">\n",
       "  var VEGA_DEBUG = (typeof VEGA_DEBUG == \"undefined\") ? {} : VEGA_DEBUG;\n",
       "  (function(spec, embedOpt){\n",
       "    let outputDiv = document.currentScript.previousElementSibling;\n",
       "    if (outputDiv.id !== \"altair-viz-87dffb36b45f4f7a85d0bab2e74ab708\") {\n",
       "      outputDiv = document.getElementById(\"altair-viz-87dffb36b45f4f7a85d0bab2e74ab708\");\n",
       "    }\n",
       "    const paths = {\n",
       "      \"vega\": \"https://cdn.jsdelivr.net/npm/vega@5?noext\",\n",
       "      \"vega-lib\": \"https://cdn.jsdelivr.net/npm/vega-lib?noext\",\n",
       "      \"vega-lite\": \"https://cdn.jsdelivr.net/npm/vega-lite@5.20.1?noext\",\n",
       "      \"vega-embed\": \"https://cdn.jsdelivr.net/npm/vega-embed@6?noext\",\n",
       "    };\n",
       "\n",
       "    function maybeLoadScript(lib, version) {\n",
       "      var key = `${lib.replace(\"-\", \"\")}_version`;\n",
       "      return (VEGA_DEBUG[key] == version) ?\n",
       "        Promise.resolve(paths[lib]) :\n",
       "        new Promise(function(resolve, reject) {\n",
       "          var s = document.createElement('script');\n",
       "          document.getElementsByTagName(\"head\")[0].appendChild(s);\n",
       "          s.async = true;\n",
       "          s.onload = () => {\n",
       "            VEGA_DEBUG[key] = version;\n",
       "            return resolve(paths[lib]);\n",
       "          };\n",
       "          s.onerror = () => reject(`Error loading script: ${paths[lib]}`);\n",
       "          s.src = paths[lib];\n",
       "        });\n",
       "    }\n",
       "\n",
       "    function showError(err) {\n",
       "      outputDiv.innerHTML = `<div class=\"error\" style=\"color:red;\">${err}</div>`;\n",
       "      throw err;\n",
       "    }\n",
       "\n",
       "    function displayChart(vegaEmbed) {\n",
       "      vegaEmbed(outputDiv, spec, embedOpt)\n",
       "        .catch(err => showError(`Javascript Error: ${err.message}<br>This usually means there's a typo in your chart specification. See the javascript console for the full traceback.`));\n",
       "    }\n",
       "\n",
       "    if(typeof define === \"function\" && define.amd) {\n",
       "      requirejs.config({paths});\n",
       "      require([\"vega-embed\"], displayChart, err => showError(`Error loading script: ${err.message}`));\n",
       "    } else {\n",
       "      maybeLoadScript(\"vega\", \"5\")\n",
       "        .then(() => maybeLoadScript(\"vega-lite\", \"5.20.1\"))\n",
       "        .then(() => maybeLoadScript(\"vega-embed\", \"6\"))\n",
       "        .catch(showError)\n",
       "        .then(() => displayChart(vegaEmbed));\n",
       "    }\n",
       "  })({\"config\": {\"view\": {\"continuousWidth\": 300, \"continuousHeight\": 300}}, \"data\": {\"name\": \"data-42fe77c776628e07ec36233b0d6b8f0e\"}, \"mark\": {\"type\": \"line\"}, \"encoding\": {\"color\": {\"field\": \"vehicle_class\", \"type\": \"nominal\"}, \"tooltip\": [{\"field\": \"year\", \"type\": \"quantitative\"}, {\"field\": \"mean_mpg\", \"type\": \"quantitative\"}, {\"field\": \"vehicle_class\", \"type\": \"nominal\"}], \"x\": {\"field\": \"year\", \"type\": \"quantitative\"}, \"y\": {\"field\": \"mean_mpg\", \"type\": \"quantitative\"}}, \"params\": [{\"name\": \"param_2\", \"select\": {\"type\": \"interval\", \"encodings\": [\"x\", \"y\"]}, \"bind\": \"scales\"}], \"$schema\": \"https://vega.github.io/schema/vega-lite/v5.20.1.json\", \"datasets\": {\"data-42fe77c776628e07ec36233b0d6b8f0e\": [{\"year\": 2000, \"vehicle_class\": \"Car\", \"mean_mpg\": 20.465806451612902}, {\"year\": 2001, \"vehicle_class\": \"Car\", \"mean_mpg\": 19.972288202692003}, {\"year\": 2002, \"vehicle_class\": \"Car\", \"mean_mpg\": 20.834157303370787}, {\"year\": 2003, \"vehicle_class\": \"Car\", \"mean_mpg\": 20.50545842217484}, {\"year\": 2004, \"vehicle_class\": \"Car\", \"mean_mpg\": 19.001402597402596}, {\"year\": 2005, \"vehicle_class\": \"Car\", \"mean_mpg\": 23.397732457656414}, {\"year\": 2006, \"vehicle_class\": \"Car\", \"mean_mpg\": 22.40826086956522}, {\"year\": 2007, \"vehicle_class\": \"Car\", \"mean_mpg\": 20.730546357615896}, {\"year\": 2008, \"vehicle_class\": \"Car\", \"mean_mpg\": 34.33153142679997}, {\"year\": 2009, \"vehicle_class\": \"Car\", \"mean_mpg\": 21.673112659698027}, {\"year\": 2010, \"vehicle_class\": \"Car\", \"mean_mpg\": 22.402446236559136}, {\"year\": 2011, \"vehicle_class\": \"Car\", \"mean_mpg\": 36.00514329094705}, {\"year\": 2012, \"vehicle_class\": \"Car\", \"mean_mpg\": 37.47445986074135}, {\"year\": 2013, \"vehicle_class\": \"Car\", \"mean_mpg\": 38.43999042145594}, {\"year\": 2014, \"vehicle_class\": \"Car\", \"mean_mpg\": 37.99240196078432}, {\"year\": 2015, \"vehicle_class\": \"Car\", \"mean_mpg\": 35.871052582474995}, {\"year\": 2016, \"vehicle_class\": \"Car\", \"mean_mpg\": 34.458446577705374}, {\"year\": 2017, \"vehicle_class\": \"Car\", \"mean_mpg\": 43.25604731525784}, {\"year\": 2018, \"vehicle_class\": \"Car\", \"mean_mpg\": 41.7153807814992}, {\"year\": 2000, \"vehicle_class\": \"Truck\", \"mean_mpg\": 12.558558558558559}, {\"year\": 2001, \"vehicle_class\": \"Truck\", \"mean_mpg\": 12.685438596491228}, {\"year\": 2002, \"vehicle_class\": \"Truck\", \"mean_mpg\": 12.618695652173914}, {\"year\": 2003, \"vehicle_class\": \"Truck\", \"mean_mpg\": 12.459770114942529}, {\"year\": 2004, \"vehicle_class\": \"Truck\", \"mean_mpg\": 12.260606060606062}, {\"year\": 2005, \"vehicle_class\": \"Truck\", \"mean_mpg\": 10.288760330578512}, {\"year\": 2006, \"vehicle_class\": \"Truck\", \"mean_mpg\": 13.593103448275862}, {\"year\": 2007, \"vehicle_class\": \"Truck\", \"mean_mpg\": 13.798454746136866}, {\"year\": 2008, \"vehicle_class\": \"Truck\", \"mean_mpg\": 14.04063762909744}, {\"year\": 2009, \"vehicle_class\": \"Truck\", \"mean_mpg\": 14.542995169082126}, {\"year\": 2010, \"vehicle_class\": \"Truck\", \"mean_mpg\": 14.77126436781609}, {\"year\": 2011, \"vehicle_class\": \"Truck\", \"mean_mpg\": 16.35238095238095}, {\"year\": 2012, \"vehicle_class\": \"Truck\", \"mean_mpg\": 15.097744360902256}, {\"year\": 2013, \"vehicle_class\": \"Truck\", \"mean_mpg\": 15.06860465116279}, {\"year\": 2014, \"vehicle_class\": \"Truck\", \"mean_mpg\": 16.69191919191919}, {\"year\": 2015, \"vehicle_class\": \"Truck\", \"mean_mpg\": 17.46418567426971}, {\"year\": 2016, \"vehicle_class\": \"Truck\", \"mean_mpg\": 17.664933406312716}, {\"year\": 2017, \"vehicle_class\": \"Truck\", \"mean_mpg\": 17.57900971333807}, {\"year\": 2018, \"vehicle_class\": \"Truck\", \"mean_mpg\": 17.953025680142385}]}}, {\"mode\": \"vega-lite\"});\n",
       "</script>"
      ],
      "text/plain": [
       "alt.Chart(...)"
      ]
     },
     "execution_count": 59,
     "metadata": {},
     "output_type": "execute_result"
    }
   ],
   "source": [
    "(\n",
    "    agg_yr\n",
    "    .join(\n",
    "        inv_yr,\n",
    "        left_on=['year', 'simple_class', 'fuel_type'],\n",
    "        right_on=['year', 'class', 'fuel_type']\n",
    "    )\n",
    "    .filter(pl.col('city_name') == 'Salt Lake City')\n",
    "    .pivot(\n",
    "        index='year',\n",
    "        on='simple_class',\n",
    "        values='mean_mpg',\n",
    "        aggregate_function='mean'\n",
    "    )\n",
    "    .unpivot(\n",
    "        index='year', \n",
    "        variable_name='vehicle_class', \n",
    "        value_name='mean_mpg'\n",
    "    )\n",
    "    .plot.line(\n",
    "        x='year', \n",
    "        y='mean_mpg', \n",
    "        color='vehicle_class'\n",
    "    )\n",
    ")"
   ]
  },
  {
   "cell_type": "markdown",
   "id": "eb2bc07c-b811-4d77-9e42-2643acc3a723",
   "metadata": {},
   "source": [
    "---\n",
    "# 2.17 Adding Rows\n",
    "[back to Top](#Top)\n",
    "\n",
    "* To add a row to a dataframe, we can use `.vstack`.\n",
    "* This takes a dataframe and returns a new dataframe with the rows from the original dataframe, and rows from the dataframe that was passed in.\n",
    "* This does not modify the original dataframe.\n",
    "\n",
    "In this example, remove the last 10 rows of the `autos` dataframe, and add the first ten rows to the end of the dataframe."
   ]
  },
  {
   "cell_type": "code",
   "execution_count": 60,
   "id": "e60f3130-e9ed-4cca-aaa4-41f10b7f48e7",
   "metadata": {},
   "outputs": [
    {
     "data": {
      "text/html": [
       "<div><style>\n",
       ".dataframe > thead > tr,\n",
       ".dataframe > tbody > tr {\n",
       "  text-align: right;\n",
       "  white-space: pre-wrap;\n",
       "}\n",
       "</style>\n",
       "<small>shape: (20, 16)</small><table border=\"1\" class=\"dataframe\"><thead><tr><th>index</th><th>year</th><th>make</th><th>model</th><th>displ</th><th>cylinders</th><th>trany</th><th>drive</th><th>VClass</th><th>fuelType</th><th>barrels08</th><th>city08</th><th>highway08</th><th>createdOn</th><th>is_automatic</th><th>num_gears</th></tr><tr><td>u32</td><td>i16</td><td>cat</td><td>cat</td><td>f32</td><td>u8</td><td>str</td><td>cat</td><td>cat</td><td>cat</td><td>f32</td><td>u8</td><td>u8</td><td>datetime[μs]</td><td>str</td><td>u8</td></tr></thead><tbody><tr><td>48192</td><td>1993</td><td>&quot;Saab&quot;</td><td>&quot;900&quot;</td><td>2.1</td><td>4</td><td>&quot;Manual 5-spd&quot;</td><td>&quot;Front-Wheel Drive&quot;</td><td>&quot;Compact Cars&quot;</td><td>&quot;Regular&quot;</td><td>14.8755</td><td>18</td><td>24</td><td>2013-01-01 00:00:00</td><td>&quot;false&quot;</td><td>5</td></tr><tr><td>48193</td><td>1993</td><td>&quot;Saturn&quot;</td><td>&quot;SL&quot;</td><td>1.9</td><td>4</td><td>&quot;Automatic 4-spd&quot;</td><td>&quot;Front-Wheel Drive&quot;</td><td>&quot;Compact Cars&quot;</td><td>&quot;Regular&quot;</td><td>11.442693</td><td>23</td><td>33</td><td>2013-01-01 00:00:00</td><td>&quot;true&quot;</td><td>4</td></tr><tr><td>48194</td><td>1993</td><td>&quot;Saturn&quot;</td><td>&quot;SL&quot;</td><td>1.9</td><td>4</td><td>&quot;Automatic 4-spd&quot;</td><td>&quot;Front-Wheel Drive&quot;</td><td>&quot;Compact Cars&quot;</td><td>&quot;Regular&quot;</td><td>12.39625</td><td>21</td><td>30</td><td>2013-01-01 00:00:00</td><td>&quot;true&quot;</td><td>4</td></tr><tr><td>48195</td><td>1993</td><td>&quot;Saturn&quot;</td><td>&quot;SL&quot;</td><td>1.9</td><td>4</td><td>&quot;Manual 5-spd&quot;</td><td>&quot;Front-Wheel Drive&quot;</td><td>&quot;Compact Cars&quot;</td><td>&quot;Regular&quot;</td><td>10.625357</td><td>24</td><td>33</td><td>2013-01-01 00:00:00</td><td>&quot;false&quot;</td><td>5</td></tr><tr><td>48196</td><td>1993</td><td>&quot;Saturn&quot;</td><td>&quot;SL&quot;</td><td>1.9</td><td>4</td><td>&quot;Manual 5-spd&quot;</td><td>&quot;Front-Wheel Drive&quot;</td><td>&quot;Compact Cars&quot;</td><td>&quot;Regular&quot;</td><td>11.9004</td><td>21</td><td>32</td><td>2013-01-01 00:00:00</td><td>&quot;false&quot;</td><td>5</td></tr><tr><td>&hellip;</td><td>&hellip;</td><td>&hellip;</td><td>&hellip;</td><td>&hellip;</td><td>&hellip;</td><td>&hellip;</td><td>&hellip;</td><td>&hellip;</td><td>&hellip;</td><td>&hellip;</td><td>&hellip;</td><td>&hellip;</td><td>&hellip;</td><td>&hellip;</td><td>&hellip;</td></tr><tr><td>5</td><td>1993</td><td>&quot;Subaru&quot;</td><td>&quot;Loyale&quot;</td><td>1.8</td><td>4</td><td>&quot;Automatic 3-spd&quot;</td><td>&quot;Front-Wheel Drive&quot;</td><td>&quot;Compact Cars&quot;</td><td>&quot;Regular&quot;</td><td>13.523182</td><td>21</td><td>24</td><td>2013-01-01 00:00:00</td><td>&quot;true&quot;</td><td>3</td></tr><tr><td>6</td><td>1993</td><td>&quot;Subaru&quot;</td><td>&quot;Loyale&quot;</td><td>1.8</td><td>4</td><td>&quot;Manual 5-spd&quot;</td><td>&quot;Front-Wheel Drive&quot;</td><td>&quot;Compact Cars&quot;</td><td>&quot;Regular&quot;</td><td>11.9004</td><td>22</td><td>29</td><td>2013-01-01 00:00:00</td><td>&quot;false&quot;</td><td>5</td></tr><tr><td>7</td><td>1993</td><td>&quot;Toyota&quot;</td><td>&quot;Corolla&quot;</td><td>1.6</td><td>4</td><td>&quot;Automatic 3-spd&quot;</td><td>&quot;Front-Wheel Drive&quot;</td><td>&quot;Compact Cars&quot;</td><td>&quot;Regular&quot;</td><td>12.39625</td><td>23</td><td>26</td><td>2013-01-01 00:00:00</td><td>&quot;true&quot;</td><td>3</td></tr><tr><td>8</td><td>1993</td><td>&quot;Toyota&quot;</td><td>&quot;Corolla&quot;</td><td>1.6</td><td>4</td><td>&quot;Manual 5-spd&quot;</td><td>&quot;Front-Wheel Drive&quot;</td><td>&quot;Compact Cars&quot;</td><td>&quot;Regular&quot;</td><td>11.442693</td><td>23</td><td>31</td><td>2013-01-01 00:00:00</td><td>&quot;false&quot;</td><td>5</td></tr><tr><td>9</td><td>1993</td><td>&quot;Toyota&quot;</td><td>&quot;Corolla&quot;</td><td>1.8</td><td>4</td><td>&quot;Automatic 4-spd&quot;</td><td>&quot;Front-Wheel Drive&quot;</td><td>&quot;Compact Cars&quot;</td><td>&quot;Regular&quot;</td><td>11.9004</td><td>23</td><td>30</td><td>2013-01-01 00:00:00</td><td>&quot;true&quot;</td><td>4</td></tr></tbody></table></div>"
      ],
      "text/plain": [
       "shape: (20, 16)\n",
       "+-----+-----+-----+-----+-----+-----+-----+-----+-----+-----+-----+-----+-----+-----+-----+--------+\n",
       "| ind | yea | mak | mod | dis | cyl | tra | dri | VCl | fue | bar | cit | hig | cre | is_ | num_ge |\n",
       "| ex  | r   | e   | el  | pl  | ind | ny  | ve  | ass | lTy | rel | y08 | hwa | ate | aut | ars    |\n",
       "| --- | --- | --- | --- | --- | ers | --- | --- | --- | pe  | s08 | --- | y08 | dOn | oma | ---    |\n",
       "| u32 | i16 | cat | cat | f32 | --- | str | cat | cat | --- | --- | u8  | --- | --- | tic | u8     |\n",
       "|     |     |     |     |     | u8  |     |     |     | cat | f32 |     | u8  | dat | --- |        |\n",
       "|     |     |     |     |     |     |     |     |     |     |     |     |     | eti | str |        |\n",
       "|     |     |     |     |     |     |     |     |     |     |     |     |     | me[ |     |        |\n",
       "|     |     |     |     |     |     |     |     |     |     |     |     |     | μs] |     |        |\n",
       "+==================================================================================================+\n",
       "| 481 | 199 | Saa | 900 | 2.1 | 4   | Man | Fro | Com | Reg | 14. | 18  | 24  | 201 | fal | 5      |\n",
       "| 92  | 3   | b   |     |     |     | ual | nt- | pac | ula | 875 |     |     | 3-0 | se  |        |\n",
       "|     |     |     |     |     |     | 5-s | Whe | t   | r   | 5   |     |     | 1-0 |     |        |\n",
       "|     |     |     |     |     |     | pd  | el  | Car |     |     |     |     | 1   |     |        |\n",
       "|     |     |     |     |     |     |     | Dri | s   |     |     |     |     | 00: |     |        |\n",
       "|     |     |     |     |     |     |     | ve  |     |     |     |     |     | 00: |     |        |\n",
       "|     |     |     |     |     |     |     |     |     |     |     |     |     | 00  |     |        |\n",
       "| 481 | 199 | Sat | SL  | 1.9 | 4   | Aut | Fro | Com | Reg | 11. | 23  | 33  | 201 | tru | 4      |\n",
       "| 93  | 3   | urn |     |     |     | oma | nt- | pac | ula | 442 |     |     | 3-0 | e   |        |\n",
       "|     |     |     |     |     |     | tic | Whe | t   | r   | 693 |     |     | 1-0 |     |        |\n",
       "|     |     |     |     |     |     | 4-s | el  | Car |     |     |     |     | 1   |     |        |\n",
       "|     |     |     |     |     |     | pd  | Dri | s   |     |     |     |     | 00: |     |        |\n",
       "|     |     |     |     |     |     |     | ve  |     |     |     |     |     | 00: |     |        |\n",
       "|     |     |     |     |     |     |     |     |     |     |     |     |     | 00  |     |        |\n",
       "| 481 | 199 | Sat | SL  | 1.9 | 4   | Aut | Fro | Com | Reg | 12. | 21  | 30  | 201 | tru | 4      |\n",
       "| 94  | 3   | urn |     |     |     | oma | nt- | pac | ula | 396 |     |     | 3-0 | e   |        |\n",
       "|     |     |     |     |     |     | tic | Whe | t   | r   | 25  |     |     | 1-0 |     |        |\n",
       "|     |     |     |     |     |     | 4-s | el  | Car |     |     |     |     | 1   |     |        |\n",
       "|     |     |     |     |     |     | pd  | Dri | s   |     |     |     |     | 00: |     |        |\n",
       "|     |     |     |     |     |     |     | ve  |     |     |     |     |     | 00: |     |        |\n",
       "|     |     |     |     |     |     |     |     |     |     |     |     |     | 00  |     |        |\n",
       "| 481 | 199 | Sat | SL  | 1.9 | 4   | Man | Fro | Com | Reg | 10. | 24  | 33  | 201 | fal | 5      |\n",
       "| 95  | 3   | urn |     |     |     | ual | nt- | pac | ula | 625 |     |     | 3-0 | se  |        |\n",
       "|     |     |     |     |     |     | 5-s | Whe | t   | r   | 357 |     |     | 1-0 |     |        |\n",
       "|     |     |     |     |     |     | pd  | el  | Car |     |     |     |     | 1   |     |        |\n",
       "|     |     |     |     |     |     |     | Dri | s   |     |     |     |     | 00: |     |        |\n",
       "|     |     |     |     |     |     |     | ve  |     |     |     |     |     | 00: |     |        |\n",
       "|     |     |     |     |     |     |     |     |     |     |     |     |     | 00  |     |        |\n",
       "| 481 | 199 | Sat | SL  | 1.9 | 4   | Man | Fro | Com | Reg | 11. | 21  | 32  | 201 | fal | 5      |\n",
       "| 96  | 3   | urn |     |     |     | ual | nt- | pac | ula | 900 |     |     | 3-0 | se  |        |\n",
       "|     |     |     |     |     |     | 5-s | Whe | t   | r   | 4   |     |     | 1-0 |     |        |\n",
       "|     |     |     |     |     |     | pd  | el  | Car |     |     |     |     | 1   |     |        |\n",
       "|     |     |     |     |     |     |     | Dri | s   |     |     |     |     | 00: |     |        |\n",
       "|     |     |     |     |     |     |     | ve  |     |     |     |     |     | 00: |     |        |\n",
       "|     |     |     |     |     |     |     |     |     |     |     |     |     | 00  |     |        |\n",
       "| …   | …   | …   | …   | …   | …   | …   | …   | …   | …   | …   | …   | …   | …   | …   | …      |\n",
       "| 5   | 199 | Sub | Loy | 1.8 | 4   | Aut | Fro | Com | Reg | 13. | 21  | 24  | 201 | tru | 3      |\n",
       "|     | 3   | aru | ale |     |     | oma | nt- | pac | ula | 523 |     |     | 3-0 | e   |        |\n",
       "|     |     |     |     |     |     | tic | Whe | t   | r   | 182 |     |     | 1-0 |     |        |\n",
       "|     |     |     |     |     |     | 3-s | el  | Car |     |     |     |     | 1   |     |        |\n",
       "|     |     |     |     |     |     | pd  | Dri | s   |     |     |     |     | 00: |     |        |\n",
       "|     |     |     |     |     |     |     | ve  |     |     |     |     |     | 00: |     |        |\n",
       "|     |     |     |     |     |     |     |     |     |     |     |     |     | 00  |     |        |\n",
       "| 6   | 199 | Sub | Loy | 1.8 | 4   | Man | Fro | Com | Reg | 11. | 22  | 29  | 201 | fal | 5      |\n",
       "|     | 3   | aru | ale |     |     | ual | nt- | pac | ula | 900 |     |     | 3-0 | se  |        |\n",
       "|     |     |     |     |     |     | 5-s | Whe | t   | r   | 4   |     |     | 1-0 |     |        |\n",
       "|     |     |     |     |     |     | pd  | el  | Car |     |     |     |     | 1   |     |        |\n",
       "|     |     |     |     |     |     |     | Dri | s   |     |     |     |     | 00: |     |        |\n",
       "|     |     |     |     |     |     |     | ve  |     |     |     |     |     | 00: |     |        |\n",
       "|     |     |     |     |     |     |     |     |     |     |     |     |     | 00  |     |        |\n",
       "| 7   | 199 | Toy | Cor | 1.6 | 4   | Aut | Fro | Com | Reg | 12. | 23  | 26  | 201 | tru | 3      |\n",
       "|     | 3   | ota | oll |     |     | oma | nt- | pac | ula | 396 |     |     | 3-0 | e   |        |\n",
       "|     |     |     | a   |     |     | tic | Whe | t   | r   | 25  |     |     | 1-0 |     |        |\n",
       "|     |     |     |     |     |     | 3-s | el  | Car |     |     |     |     | 1   |     |        |\n",
       "|     |     |     |     |     |     | pd  | Dri | s   |     |     |     |     | 00: |     |        |\n",
       "|     |     |     |     |     |     |     | ve  |     |     |     |     |     | 00: |     |        |\n",
       "|     |     |     |     |     |     |     |     |     |     |     |     |     | 00  |     |        |\n",
       "| 8   | 199 | Toy | Cor | 1.6 | 4   | Man | Fro | Com | Reg | 11. | 23  | 31  | 201 | fal | 5      |\n",
       "|     | 3   | ota | oll |     |     | ual | nt- | pac | ula | 442 |     |     | 3-0 | se  |        |\n",
       "|     |     |     | a   |     |     | 5-s | Whe | t   | r   | 693 |     |     | 1-0 |     |        |\n",
       "|     |     |     |     |     |     | pd  | el  | Car |     |     |     |     | 1   |     |        |\n",
       "|     |     |     |     |     |     |     | Dri | s   |     |     |     |     | 00: |     |        |\n",
       "|     |     |     |     |     |     |     | ve  |     |     |     |     |     | 00: |     |        |\n",
       "|     |     |     |     |     |     |     |     |     |     |     |     |     | 00  |     |        |\n",
       "| 9   | 199 | Toy | Cor | 1.8 | 4   | Aut | Fro | Com | Reg | 11. | 23  | 30  | 201 | tru | 4      |\n",
       "|     | 3   | ota | oll |     |     | oma | nt- | pac | ula | 900 |     |     | 3-0 | e   |        |\n",
       "|     |     |     | a   |     |     | tic | Whe | t   | r   | 4   |     |     | 1-0 |     |        |\n",
       "|     |     |     |     |     |     | 4-s | el  | Car |     |     |     |     | 1   |     |        |\n",
       "|     |     |     |     |     |     | pd  | Dri | s   |     |     |     |     | 00: |     |        |\n",
       "|     |     |     |     |     |     |     | ve  |     |     |     |     |     | 00: |     |        |\n",
       "|     |     |     |     |     |     |     |     |     |     |     |     |     | 00  |     |        |\n",
       "+-----+-----+-----+-----+-----+-----+-----+-----+-----+-----+-----+-----+-----+-----+-----+--------+"
      ]
     },
     "execution_count": 60,
     "metadata": {},
     "output_type": "execute_result"
    }
   ],
   "source": [
    "(\n",
    "    autos\n",
    "    .tail(10)\n",
    "    .vstack(autos.head(10))\n",
    ")"
   ]
  },
  {
   "cell_type": "markdown",
   "id": "33094e73-8c65-41b8-aa39-28521386e61f",
   "metadata": {},
   "source": [
    "* You could use `.head()` and `.tail()` to undo a simple `.vstack()` operation if you know how many rows you added."
   ]
  },
  {
   "cell_type": "markdown",
   "id": "0d52ee74-ed26-4c5b-ba0b-a5eec80dd226",
   "metadata": {},
   "source": [
    "---\n",
    "# 2.18 Reshape and Pivoting Data\n",
    "[back to Top](#Top)\n",
    "\n",
    "* **One of the most powerful features of Polas is the ability to reshape and pivot data.**\n",
    "* This allows you to transform data from a **wide format** to a **long format**, and vice versa.\n",
    "* This is a typical operation in data analysis.\n",
    "* It is often used to prepare data for plotting or machine learning.\n",
    "\n",
    "We use `pivot` in this example:\n",
    "* Filter out the top 5 car manufacturers.\n",
    "* Pull out values from the *make* column into a new column.\n",
    "* Make *year* the first column.\n",
    "* Polars will call this the *index*.\n",
    "* Take the median of the *city08* column for each *year* and *make* combination.\n",
    "* This gives us the median city fuel efficiency for each *year* and *make* of car.\n"
   ]
  },
  {
   "cell_type": "code",
   "execution_count": 61,
   "id": "fa5184db-92cb-4483-8904-726437b87134",
   "metadata": {},
   "outputs": [
    {
     "name": "stdout",
     "output_type": "stream",
     "text": [
      "shape: (5, 2)\n",
      "+-----------+--------+\n",
      "| make      | city08 |\n",
      "| ---       | ---    |\n",
      "| cat       | u32    |\n",
      "+====================+\n",
      "| BMW       | 2536   |\n",
      "| Dodge     | 2695   |\n",
      "| GMC       | 2823   |\n",
      "| Ford      | 3834   |\n",
      "| Chevrolet | 4472   |\n",
      "+-----------+--------+\n"
     ]
    },
    {
     "name": "stderr",
     "output_type": "stream",
     "text": [
      "keys/aggregates are not partitionable: running default HASH AGGREGATION\n"
     ]
    }
   ],
   "source": [
    "# First, determine the top 5 car manufacturers\n",
    "top_n = (\n",
    "    autos\n",
    "    .group_by('make')\n",
    "    .agg(pl.col('city08').count())\n",
    "    .sort('city08')\n",
    "    .tail(5)\n",
    ")\n",
    "print(top_n)"
   ]
  },
  {
   "cell_type": "markdown",
   "id": "b012bd07-d8f0-4e8f-ace9-ffaa729d5692",
   "metadata": {},
   "source": [
    "Next,\n",
    "\n",
    "* With this expression, filter the dataset for the top-5 car manufacturers.\n",
    "* Use `.pivot()`\n",
    "    - Put `year` down the leftmost column.\n",
    "    - Put `make` across the top.\n",
    "* **We want city fuel efficiency in the cells**.\n",
    "* Because there are multiple vehicles for each year and make, we need to aggregate them.\n",
    "* Use `.median` to reduce multiple values into a single value.\n",
    "* This table should represent the typical fuel efficiency for each `year` and `make` of car."
   ]
  },
  {
   "cell_type": "code",
   "execution_count": 62,
   "id": "e69ef7ea-17ea-4c33-b341-f96b4f50a681",
   "metadata": {},
   "outputs": [
    {
     "name": "stdout",
     "output_type": "stream",
     "text": [
      "shape: (42, 6)\n",
      "+------+-------+------+-----------+------+------+\n",
      "| year | Dodge | BMW  | Chevrolet | Ford | GMC  |\n",
      "| ---  | ---   | ---  | ---       | ---  | ---  |\n",
      "| i16  | f64   | f64  | f64       | f64  | f64  |\n",
      "+===============================================+\n",
      "| 1985 | 17.0  | 18.0 | 15.0      | 15.0 | 15.0 |\n",
      "| 1993 | 14.0  | 15.0 | 15.0      | 15.0 | 14.0 |\n",
      "| 1994 | 14.5  | 15.5 | 15.0      | 15.0 | 14.0 |\n",
      "| 1995 | 15.0  | 16.5 | 15.0      | 15.0 | 14.0 |\n",
      "| 1996 | 13.0  | 18.0 | 15.0      | 15.0 | 14.0 |\n",
      "| …    | …     | …    | …         | …    | …    |\n",
      "| 2021 | 15.0  | 21.0 | 16.0      | 20.0 | 15.0 |\n",
      "| 2022 | 15.0  | 21.0 | 16.0      | 20.0 | 15.0 |\n",
      "| 2023 | 15.0  | 22.0 | 17.0      | 19.0 | 16.0 |\n",
      "| 2024 | 16.0  | 23.0 | 17.0      | 19.0 | 16.0 |\n",
      "| 2025 | 15.5  | 25.0 | 16.0      | 20.0 | 16.0 |\n",
      "+------+-------+------+-----------+------+------+\n"
     ]
    },
    {
     "name": "stderr",
     "output_type": "stream",
     "text": [
      "dataframe filtered\n"
     ]
    }
   ],
   "source": [
    "print(\n",
    "    autos\n",
    "    .filter(pl.col('make').is_in(top_n['make']))\n",
    "    .pivot(\n",
    "        index='year', # row-index\n",
    "        on='make', # columns from make-values\n",
    "        values='city08', # actual values to extract\n",
    "        aggregate_function='median' # aggregated operation\n",
    "    )\n",
    ")"
   ]
  },
  {
   "cell_type": "markdown",
   "id": "268b666f-fde6-41e9-979f-d7d577063767",
   "metadata": {},
   "source": [
    "Notes:\n",
    "\n",
    "* The `year` column is not sorted.\n",
    "* This is because Polars runs the group-by operation in parallel, and then combines the results.\n",
    "* You would get different row orders if you ran the same code multiple times.\n",
    "* We can address this by sorting the `year` column at the end."
   ]
  },
  {
   "cell_type": "code",
   "execution_count": 63,
   "id": "3965510b-6f46-4b1f-a3af-d2bb62e51892",
   "metadata": {},
   "outputs": [
    {
     "name": "stdout",
     "output_type": "stream",
     "text": [
      "shape: (42, 6)\n",
      "+------+-------+------+-----------+------+------+\n",
      "| year | Dodge | BMW  | Chevrolet | Ford | GMC  |\n",
      "| ---  | ---   | ---  | ---       | ---  | ---  |\n",
      "| i16  | f64   | f64  | f64       | f64  | f64  |\n",
      "+===============================================+\n",
      "| 1984 | 18.0  | 18.0 | 16.0      | 14.5 | 15.0 |\n",
      "| 1985 | 17.0  | 18.0 | 15.0      | 15.0 | 15.0 |\n",
      "| 1986 | 14.5  | 15.0 | 15.0      | 16.0 | 15.0 |\n",
      "| 1987 | 15.0  | 15.0 | 15.0      | 15.0 | 15.0 |\n",
      "| 1988 | 14.0  | 15.0 | 15.0      | 15.0 | 15.0 |\n",
      "| …    | …     | …    | …         | …    | …    |\n",
      "| 2021 | 15.0  | 21.0 | 16.0      | 20.0 | 15.0 |\n",
      "| 2022 | 15.0  | 21.0 | 16.0      | 20.0 | 15.0 |\n",
      "| 2023 | 15.0  | 22.0 | 17.0      | 19.0 | 16.0 |\n",
      "| 2024 | 16.0  | 23.0 | 17.0      | 19.0 | 16.0 |\n",
      "| 2025 | 15.5  | 25.0 | 16.0      | 20.0 | 16.0 |\n",
      "+------+-------+------+-----------+------+------+\n"
     ]
    },
    {
     "name": "stderr",
     "output_type": "stream",
     "text": [
      "dataframe filtered\n"
     ]
    }
   ],
   "source": [
    "pivoted1 = (\n",
    "    autos\n",
    "    .filter(pl.col('make').is_in(top_n['make']))\n",
    "    .pivot(\n",
    "        index='year',\n",
    "        on='make',\n",
    "        values='city08',\n",
    "        aggregate_function='median'\n",
    "    )\n",
    "    .sort('year')\n",
    ")\n",
    "\n",
    "print(pivoted1)"
   ]
  },
  {
   "cell_type": "markdown",
   "id": "6a8f5e3e-50d1-45b8-894e-ef3b4c61d72b",
   "metadata": {},
   "source": [
    "We also have an alternative way of using `.sort()`:\n",
    "\n",
    "* Tell Polars to preserve the order of the rows by first sorting the `year` column\n",
    "* Then indicate that the column is sorted with `.set_sorted`."
   ]
  },
  {
   "cell_type": "code",
   "execution_count": 64,
   "id": "fae1b497-cd8a-49ff-b3cc-944eb3804009",
   "metadata": {},
   "outputs": [
    {
     "name": "stdout",
     "output_type": "stream",
     "text": [
      "shape: (42, 6)\n",
      "+------+-----------+------+------+-------+------+\n",
      "| year | Chevrolet | Ford | BMW  | Dodge | GMC  |\n",
      "| ---  | ---       | ---  | ---  | ---   | ---  |\n",
      "| i16  | f64       | f64  | f64  | f64   | f64  |\n",
      "+===============================================+\n",
      "| 1984 | 16.0      | 14.5 | 18.0 | 18.0  | 15.0 |\n",
      "| 1985 | 15.0      | 15.0 | 18.0 | 17.0  | 15.0 |\n",
      "| 1986 | 15.0      | 16.0 | 15.0 | 14.5  | 15.0 |\n",
      "| 1987 | 15.0      | 15.0 | 15.0 | 15.0  | 15.0 |\n",
      "| 1988 | 15.0      | 15.0 | 15.0 | 14.0  | 15.0 |\n",
      "| …    | …         | …    | …    | …     | …    |\n",
      "| 2021 | 16.0      | 20.0 | 21.0 | 15.0  | 15.0 |\n",
      "| 2022 | 16.0      | 20.0 | 21.0 | 15.0  | 15.0 |\n",
      "| 2023 | 17.0      | 19.0 | 22.0 | 15.0  | 16.0 |\n",
      "| 2024 | 17.0      | 19.0 | 23.0 | 16.0  | 16.0 |\n",
      "| 2025 | 16.0      | 20.0 | 25.0 | 15.5  | 16.0 |\n",
      "+------+-----------+------+------+-------+------+\n"
     ]
    },
    {
     "name": "stderr",
     "output_type": "stream",
     "text": [
      "dataframe filtered\n"
     ]
    }
   ],
   "source": [
    "pivoted2= (\n",
    "    autos\n",
    "    .filter(pl.col('make').is_in(top_n['make']))\n",
    "    .sort('year')\n",
    "    .set_sorted('year')\n",
    "    .pivot(\n",
    "        index='year',\n",
    "        on='make',\n",
    "        values='city08',\n",
    "        aggregate_function='median'\n",
    "    )\n",
    ")\n",
    "\n",
    "print(pivoted2)"
   ]
  },
  {
   "cell_type": "markdown",
   "id": "891ac269-735f-464d-a5b0-afc287e0aa91",
   "metadata": {},
   "source": [
    "---\n",
    "There is also an additional option:\n",
    "\n",
    "* Indicate in `.pivot()` that the result should be in the order of the index column.\n",
    "* For this, use `maintain_order=True` in `.pivot()`"
   ]
  },
  {
   "cell_type": "code",
   "execution_count": 65,
   "id": "dee8b3a3-ce1a-4e40-b90b-4c87027cbc8f",
   "metadata": {},
   "outputs": [
    {
     "name": "stdout",
     "output_type": "stream",
     "text": [
      "shape: (42, 6)\n",
      "+------+-----------+------+------+-------+------+\n",
      "| year | Chevrolet | Ford | BMW  | Dodge | GMC  |\n",
      "| ---  | ---       | ---  | ---  | ---   | ---  |\n",
      "| i16  | f64       | f64  | f64  | f64   | f64  |\n",
      "+===============================================+\n",
      "| 1984 | 16.0      | 14.5 | 18.0 | 18.0  | 15.0 |\n",
      "| 1985 | 15.0      | 15.0 | 18.0 | 17.0  | 15.0 |\n",
      "| 1986 | 15.0      | 16.0 | 15.0 | 14.5  | 15.0 |\n",
      "| 1987 | 15.0      | 15.0 | 15.0 | 15.0  | 15.0 |\n",
      "| 1988 | 15.0      | 15.0 | 15.0 | 14.0  | 15.0 |\n",
      "| …    | …         | …    | …    | …     | …    |\n",
      "| 2021 | 16.0      | 20.0 | 21.0 | 15.0  | 15.0 |\n",
      "| 2022 | 16.0      | 20.0 | 21.0 | 15.0  | 15.0 |\n",
      "| 2023 | 17.0      | 19.0 | 22.0 | 15.0  | 16.0 |\n",
      "| 2024 | 17.0      | 19.0 | 23.0 | 16.0  | 16.0 |\n",
      "| 2025 | 16.0      | 20.0 | 25.0 | 15.5  | 16.0 |\n",
      "+------+-----------+------+------+-------+------+\n"
     ]
    },
    {
     "name": "stderr",
     "output_type": "stream",
     "text": [
      "dataframe filtered\n"
     ]
    }
   ],
   "source": [
    "pivoted3 = (\n",
    "    autos\n",
    "    .filter(pl.col('make').is_in(top_n['make']))\n",
    "    .sort('year')\n",
    "    .pivot(\n",
    "        index='year',\n",
    "        on='make',\n",
    "        values='city08',\n",
    "        aggregate_function='median',\n",
    "        maintain_order=True\n",
    "    )\n",
    ")\n",
    "print(pivoted3)"
   ]
  },
  {
   "cell_type": "markdown",
   "id": "15d210b8-3a17-4628-a834-c5265856de98",
   "metadata": {},
   "source": [
    "---\n",
    "# 2.19 Melted Data\n",
    "[back to Top](#Top)\n",
    "\n",
    "* Melted data is the opposite of pivoting data.\n",
    "* It transform data from a wide format to a long format (\"tidy data\")\n",
    "* `.melt()` has been deprecated; use `.unpivot()` instead.\n",
    "\n",
    "Here we want to unpivot the data from the previous example.\n",
    "\n",
    "* Pass at least 2 parameters to `.unpivot()`:\n",
    "    1. `index` parameter is a list of columns we want to keep.\n",
    "        - `index='year'`\n",
    "    2. `value_vars` parameter lists columns we want to melt.\n",
    "        - `value_vars=['Chevrolet', 'Ford', 'BMW', 'Dodge', 'GMC']`"
   ]
  },
  {
   "cell_type": "code",
   "execution_count": 66,
   "id": "e00fe71a-cd42-4070-8d8c-2ccb02127445",
   "metadata": {},
   "outputs": [
    {
     "name": "stdout",
     "output_type": "stream",
     "text": [
      "shape: (42, 6)\n",
      "+------+-----------+------+------+-------+------+\n",
      "| year | Chevrolet | Ford | BMW  | Dodge | GMC  |\n",
      "| ---  | ---       | ---  | ---  | ---   | ---  |\n",
      "| i16  | f64       | f64  | f64  | f64   | f64  |\n",
      "+===============================================+\n",
      "| 1984 | 16.0      | 14.5 | 18.0 | 18.0  | 15.0 |\n",
      "| 1985 | 15.0      | 15.0 | 18.0 | 17.0  | 15.0 |\n",
      "| 1986 | 15.0      | 16.0 | 15.0 | 14.5  | 15.0 |\n",
      "| 1987 | 15.0      | 15.0 | 15.0 | 15.0  | 15.0 |\n",
      "| 1988 | 15.0      | 15.0 | 15.0 | 14.0  | 15.0 |\n",
      "| …    | …         | …    | …    | …     | …    |\n",
      "| 2021 | 16.0      | 20.0 | 21.0 | 15.0  | 15.0 |\n",
      "| 2022 | 16.0      | 20.0 | 21.0 | 15.0  | 15.0 |\n",
      "| 2023 | 17.0      | 19.0 | 22.0 | 15.0  | 16.0 |\n",
      "| 2024 | 17.0      | 19.0 | 23.0 | 16.0  | 16.0 |\n",
      "| 2025 | 16.0      | 20.0 | 25.0 | 15.5  | 16.0 |\n",
      "+------+-----------+------+------+-------+------+\n"
     ]
    }
   ],
   "source": [
    "# Original pivoted data (before melting)\n",
    "print(pivoted3)"
   ]
  },
  {
   "cell_type": "code",
   "execution_count": 67,
   "id": "434a3759-35ca-45a8-8410-d27915c9138d",
   "metadata": {},
   "outputs": [
    {
     "data": {
      "text/plain": [
       "['year', 'Chevrolet', 'Ford', 'BMW', 'Dodge', 'GMC']"
      ]
     },
     "execution_count": 67,
     "metadata": {},
     "output_type": "execute_result"
    }
   ],
   "source": [
    "pivoted3.columns"
   ]
  },
  {
   "cell_type": "code",
   "execution_count": 68,
   "id": "ba72eca8-d0c2-4f43-a419-df00fecf48f3",
   "metadata": {},
   "outputs": [
    {
     "name": "stdout",
     "output_type": "stream",
     "text": [
      "shape: (252, 2)\n",
      "+----------+--------+\n",
      "| variable | value  |\n",
      "| ---      | ---    |\n",
      "| str      | f64    |\n",
      "+===================+\n",
      "| year     | 1984.0 |\n",
      "| year     | 1985.0 |\n",
      "| year     | 1986.0 |\n",
      "| year     | 1987.0 |\n",
      "| year     | 1988.0 |\n",
      "| …        | …      |\n",
      "| GMC      | 15.0   |\n",
      "| GMC      | 15.0   |\n",
      "| GMC      | 16.0   |\n",
      "| GMC      | 16.0   |\n",
      "| GMC      | 16.0   |\n",
      "+----------+--------+\n"
     ]
    },
    {
     "name": "stderr",
     "output_type": "stream",
     "text": [
      "/var/folders/sb/p6dz60l562q8pzfgzf74gsxm0000gn/T/ipykernel_1929/1126281606.py:3: DeprecationWarning: `DataFrame.melt` is deprecated. Use `unpivot` instead, with `index` instead of `id_vars` and `on` instead of `value_vars`\n",
      "  pivoted3.melt()\n"
     ]
    }
   ],
   "source": [
    "# using deprecated 'melt' with default arguments\n",
    "print(\n",
    "    pivoted3.melt()\n",
    ")"
   ]
  },
  {
   "cell_type": "code",
   "execution_count": 69,
   "id": "cd59c3d8-efe6-4c96-9c28-9745663a3ed7",
   "metadata": {},
   "outputs": [
    {
     "name": "stdout",
     "output_type": "stream",
     "text": [
      "shape: (252, 2)\n",
      "+----------+--------+\n",
      "| variable | value  |\n",
      "| ---      | ---    |\n",
      "| str      | f64    |\n",
      "+===================+\n",
      "| year     | 1984.0 |\n",
      "| year     | 1985.0 |\n",
      "| year     | 1986.0 |\n",
      "| year     | 1987.0 |\n",
      "| year     | 1988.0 |\n",
      "| …        | …      |\n",
      "| GMC      | 15.0   |\n",
      "| GMC      | 15.0   |\n",
      "| GMC      | 16.0   |\n",
      "| GMC      | 16.0   |\n",
      "| GMC      | 16.0   |\n",
      "+----------+--------+\n"
     ]
    }
   ],
   "source": [
    "# With new unpivot with default arguments\n",
    "print(\n",
    "    pivoted3.unpivot()\n",
    ")\n",
    "\n",
    "# DeprecationWarning: `DataFrame.melt` is deprecated. \n",
    "# Use `unpivot` instead, with `index` instead of `id_vars` and \n",
    "# `on` instead of `value_vars` melt()"
   ]
  },
  {
   "cell_type": "code",
   "execution_count": 70,
   "id": "fc3fff40-e8f1-4401-9715-d73fa4426c22",
   "metadata": {},
   "outputs": [
    {
     "name": "stdout",
     "output_type": "stream",
     "text": [
      "shape: (210, 3)\n",
      "+------+-----------+-------+\n",
      "| year | variable  | value |\n",
      "| ---  | ---       | ---   |\n",
      "| i16  | str       | f64   |\n",
      "+==========================+\n",
      "| 1984 | Chevrolet | 16.0  |\n",
      "| 1985 | Chevrolet | 15.0  |\n",
      "| 1986 | Chevrolet | 15.0  |\n",
      "| 1987 | Chevrolet | 15.0  |\n",
      "| 1988 | Chevrolet | 15.0  |\n",
      "| …    | …         | …     |\n",
      "| 2021 | GMC       | 15.0  |\n",
      "| 2022 | GMC       | 15.0  |\n",
      "| 2023 | GMC       | 16.0  |\n",
      "| 2024 | GMC       | 16.0  |\n",
      "| 2025 | GMC       | 16.0  |\n",
      "+------+-----------+-------+\n"
     ]
    }
   ],
   "source": [
    "# Using id_vars argument\n",
    "print(\n",
    "    pivoted3.unpivot(index='year')\n",
    ")"
   ]
  },
  {
   "cell_type": "code",
   "execution_count": 71,
   "id": "571e228a-3315-4b2e-b6e6-06d02f929165",
   "metadata": {},
   "outputs": [
    {
     "name": "stdout",
     "output_type": "stream",
     "text": [
      "shape: (210, 3)\n",
      "+------+-----------+-------+\n",
      "| year | variable  | value |\n",
      "| ---  | ---       | ---   |\n",
      "| i16  | str       | f64   |\n",
      "+==========================+\n",
      "| 1984 | Chevrolet | 16.0  |\n",
      "| 1985 | Chevrolet | 15.0  |\n",
      "| 1986 | Chevrolet | 15.0  |\n",
      "| 1987 | Chevrolet | 15.0  |\n",
      "| 1988 | Chevrolet | 15.0  |\n",
      "| …    | …         | …     |\n",
      "| 2021 | GMC       | 15.0  |\n",
      "| 2022 | GMC       | 15.0  |\n",
      "| 2023 | GMC       | 16.0  |\n",
      "| 2024 | GMC       | 16.0  |\n",
      "| 2025 | GMC       | 16.0  |\n",
      "+------+-----------+-------+\n"
     ]
    }
   ],
   "source": [
    "# Using id_vars and value_vars argument\n",
    "print(\n",
    "    pivoted3.unpivot(\n",
    "        index='year',\n",
    "        on=['Chevrolet', 'Ford', 'BMW', 'Dodge', 'GMC']\n",
    "    )\n",
    ")"
   ]
  },
  {
   "cell_type": "markdown",
   "id": "91d34aed-9f67-4916-a40f-7ae248d100d3",
   "metadata": {},
   "source": [
    "**Notes**:\n",
    "\n",
    "* The dataframe has default names of `variable` and `value` for the columns.\n",
    "* We can change them with the `variable_name` and `value_name` parameters.\n",
    "* The `variable_name` is the name of the column that contains the melted column names. Here, it is the `make` column.\n",
    "* The `value_name` parameter is the name of the column that contains the melted values. Here, it is the `city08` column. "
   ]
  },
  {
   "cell_type": "code",
   "execution_count": 72,
   "id": "8d9e5229-c372-48c8-9d74-b89b68d61b4b",
   "metadata": {},
   "outputs": [
    {
     "name": "stdout",
     "output_type": "stream",
     "text": [
      "shape: (210, 3)\n",
      "+------+-----------+-----------------+\n",
      "| year | make      | median_city_mpg |\n",
      "| ---  | ---       | ---             |\n",
      "| i16  | str       | f64             |\n",
      "+====================================+\n",
      "| 1984 | Chevrolet | 16.0            |\n",
      "| 1985 | Chevrolet | 15.0            |\n",
      "| 1986 | Chevrolet | 15.0            |\n",
      "| 1987 | Chevrolet | 15.0            |\n",
      "| 1988 | Chevrolet | 15.0            |\n",
      "| …    | …         | …               |\n",
      "| 2021 | GMC       | 15.0            |\n",
      "| 2022 | GMC       | 15.0            |\n",
      "| 2023 | GMC       | 16.0            |\n",
      "| 2024 | GMC       | 16.0            |\n",
      "| 2025 | GMC       | 16.0            |\n",
      "+------+-----------+-----------------+\n"
     ]
    }
   ],
   "source": [
    "print(\n",
    "    pivoted3\n",
    "    .unpivot(\n",
    "        index='year',\n",
    "        on=['Chevrolet', 'Ford', 'BMW', 'Dodge', 'GMC'],\n",
    "        variable_name='make',\n",
    "        value_name='median_city_mpg',\n",
    "    )\n",
    ")"
   ]
  },
  {
   "cell_type": "markdown",
   "id": "f930f807-73e1-4d5e-ae67-64336949bb2e",
   "metadata": {},
   "source": [
    "---\n",
    "# 2.20 Finding Duplicates\n",
    "[back to Top](#Top)\n",
    "\n",
    "* `.join()` allows us to validate the join type.\n",
    "* This can help catch errors where we have a one-to-many or many-to-many join when we expect a 1-to-1 join.\n",
    "* However, sometimes we have data from an external source and want to validate the data is correct and there are no duplicates.\n",
    "* We can use `.is_duplicated()` on both the dataframe and column expression.\n",
    "* We usually want to combine an expression returning boolean values with `.filter()` to find duplicate rows.\n",
    "\n",
    "*Example*\n",
    "* Here, we check for duplicate rows in the autos dataset."
   ]
  },
  {
   "cell_type": "code",
   "execution_count": 73,
   "id": "3ed1ca5a-d2ff-4950-ae5a-1981be72b389",
   "metadata": {},
   "outputs": [
    {
     "data": {
      "text/html": [
       "<div><style>\n",
       ".dataframe > thead > tr,\n",
       ".dataframe > tbody > tr {\n",
       "  text-align: right;\n",
       "  white-space: pre-wrap;\n",
       "}\n",
       "</style>\n",
       "<small>shape: (48_202, 1)</small><table border=\"1\" class=\"dataframe\"><thead><tr><th>highway08</th></tr><tr><td>bool</td></tr></thead><tbody><tr><td>true</td></tr><tr><td>true</td></tr><tr><td>true</td></tr><tr><td>true</td></tr><tr><td>true</td></tr><tr><td>&hellip;</td></tr><tr><td>true</td></tr><tr><td>true</td></tr><tr><td>true</td></tr><tr><td>true</td></tr><tr><td>true</td></tr></tbody></table></div>"
      ],
      "text/plain": [
       "shape: (48_202, 1)\n",
       "+-----------+\n",
       "| highway08 |\n",
       "| ---       |\n",
       "| bool      |\n",
       "+===========+\n",
       "| true      |\n",
       "| true      |\n",
       "| true      |\n",
       "| true      |\n",
       "| true      |\n",
       "| …         |\n",
       "| true      |\n",
       "| true      |\n",
       "| true      |\n",
       "| true      |\n",
       "| true      |\n",
       "+-----------+"
      ]
     },
     "execution_count": 73,
     "metadata": {},
     "output_type": "execute_result"
    }
   ],
   "source": [
    "(\n",
    "    autos\n",
    "    # selects works in a column-basis\n",
    "    .select(\n",
    "        pl.col('highway08').is_duplicated()\n",
    "    )\n",
    ")"
   ]
  },
  {
   "cell_type": "markdown",
   "id": "d1d53da3-c290-4e12-99ed-b1b0b437c51a",
   "metadata": {},
   "source": [
    "* We can view the rows with duplicate values using `.filter()`.\n",
    "* Pass in the boolean mask we created with `.is_duplicated()`."
   ]
  },
  {
   "cell_type": "code",
   "execution_count": 74,
   "id": "2c8d6b82-c34e-44bb-a658-8e428db654ba",
   "metadata": {},
   "outputs": [
    {
     "name": "stderr",
     "output_type": "stream",
     "text": [
      "dataframe filtered\n"
     ]
    },
    {
     "data": {
      "text/html": [
       "<div><style>\n",
       ".dataframe > thead > tr,\n",
       ".dataframe > tbody > tr {\n",
       "  text-align: right;\n",
       "  white-space: pre-wrap;\n",
       "}\n",
       "</style>\n",
       "<small>shape: (48_193, 16)</small><table border=\"1\" class=\"dataframe\"><thead><tr><th>index</th><th>year</th><th>make</th><th>model</th><th>displ</th><th>cylinders</th><th>trany</th><th>drive</th><th>VClass</th><th>fuelType</th><th>barrels08</th><th>city08</th><th>highway08</th><th>createdOn</th><th>is_automatic</th><th>num_gears</th></tr><tr><td>u32</td><td>i16</td><td>cat</td><td>cat</td><td>f32</td><td>u8</td><td>str</td><td>cat</td><td>cat</td><td>cat</td><td>f32</td><td>u8</td><td>u8</td><td>datetime[μs]</td><td>str</td><td>u8</td></tr></thead><tbody><tr><td>0</td><td>1985</td><td>&quot;Alfa Romeo&quot;</td><td>&quot;Spider Veloce 2000&quot;</td><td>2.0</td><td>4</td><td>&quot;Manual 5-spd&quot;</td><td>&quot;Rear-Wheel Drive&quot;</td><td>&quot;Two Seaters&quot;</td><td>&quot;Regular&quot;</td><td>14.167143</td><td>19</td><td>25</td><td>2013-01-01 00:00:00</td><td>&quot;false&quot;</td><td>5</td></tr><tr><td>1</td><td>1985</td><td>&quot;Ferrari&quot;</td><td>&quot;Testarossa&quot;</td><td>4.9</td><td>12</td><td>&quot;Manual 5-spd&quot;</td><td>&quot;Rear-Wheel Drive&quot;</td><td>&quot;Two Seaters&quot;</td><td>&quot;Regular&quot;</td><td>27.046364</td><td>9</td><td>14</td><td>2013-01-01 00:00:00</td><td>&quot;false&quot;</td><td>5</td></tr><tr><td>2</td><td>1985</td><td>&quot;Dodge&quot;</td><td>&quot;Charger&quot;</td><td>2.2</td><td>4</td><td>&quot;Manual 5-spd&quot;</td><td>&quot;Front-Wheel Drive&quot;</td><td>&quot;Subcompact Cars&quot;</td><td>&quot;Regular&quot;</td><td>11.018888</td><td>23</td><td>33</td><td>2013-01-01 00:00:00</td><td>&quot;false&quot;</td><td>5</td></tr><tr><td>3</td><td>1985</td><td>&quot;Dodge&quot;</td><td>&quot;B150/B250 Wagon 2WD&quot;</td><td>5.2</td><td>8</td><td>&quot;Automatic 3-spd&quot;</td><td>&quot;Rear-Wheel Drive&quot;</td><td>&quot;Vans&quot;</td><td>&quot;Regular&quot;</td><td>27.046364</td><td>10</td><td>12</td><td>2013-01-01 00:00:00</td><td>&quot;true&quot;</td><td>3</td></tr><tr><td>4</td><td>1993</td><td>&quot;Subaru&quot;</td><td>&quot;Legacy AWD Turbo&quot;</td><td>2.2</td><td>4</td><td>&quot;Manual 5-spd&quot;</td><td>&quot;4-Wheel or All-Wheel Drive&quot;</td><td>&quot;Compact Cars&quot;</td><td>&quot;Premium&quot;</td><td>15.658422</td><td>17</td><td>23</td><td>2013-01-01 00:00:00</td><td>&quot;false&quot;</td><td>5</td></tr><tr><td>&hellip;</td><td>&hellip;</td><td>&hellip;</td><td>&hellip;</td><td>&hellip;</td><td>&hellip;</td><td>&hellip;</td><td>&hellip;</td><td>&hellip;</td><td>&hellip;</td><td>&hellip;</td><td>&hellip;</td><td>&hellip;</td><td>&hellip;</td><td>&hellip;</td><td>&hellip;</td></tr><tr><td>48197</td><td>1993</td><td>&quot;Subaru&quot;</td><td>&quot;Legacy&quot;</td><td>2.2</td><td>4</td><td>&quot;Automatic 4-spd&quot;</td><td>&quot;Front-Wheel Drive&quot;</td><td>&quot;Compact Cars&quot;</td><td>&quot;Regular&quot;</td><td>13.523182</td><td>19</td><td>26</td><td>2013-01-01 00:00:00</td><td>&quot;true&quot;</td><td>4</td></tr><tr><td>48198</td><td>1993</td><td>&quot;Subaru&quot;</td><td>&quot;Legacy&quot;</td><td>2.2</td><td>4</td><td>&quot;Manual 5-spd&quot;</td><td>&quot;Front-Wheel Drive&quot;</td><td>&quot;Compact Cars&quot;</td><td>&quot;Regular&quot;</td><td>12.935218</td><td>20</td><td>28</td><td>2013-01-01 00:00:00</td><td>&quot;false&quot;</td><td>5</td></tr><tr><td>48199</td><td>1993</td><td>&quot;Subaru&quot;</td><td>&quot;Legacy AWD&quot;</td><td>2.2</td><td>4</td><td>&quot;Automatic 4-spd&quot;</td><td>&quot;4-Wheel or All-Wheel Drive&quot;</td><td>&quot;Compact Cars&quot;</td><td>&quot;Regular&quot;</td><td>14.167143</td><td>18</td><td>24</td><td>2013-01-01 00:00:00</td><td>&quot;true&quot;</td><td>4</td></tr><tr><td>48200</td><td>1993</td><td>&quot;Subaru&quot;</td><td>&quot;Legacy AWD&quot;</td><td>2.2</td><td>4</td><td>&quot;Manual 5-spd&quot;</td><td>&quot;4-Wheel or All-Wheel Drive&quot;</td><td>&quot;Compact Cars&quot;</td><td>&quot;Regular&quot;</td><td>14.167143</td><td>18</td><td>24</td><td>2013-01-01 00:00:00</td><td>&quot;false&quot;</td><td>5</td></tr><tr><td>48201</td><td>1993</td><td>&quot;Subaru&quot;</td><td>&quot;Legacy AWD Turbo&quot;</td><td>2.2</td><td>4</td><td>&quot;Automatic 4-spd&quot;</td><td>&quot;4-Wheel or All-Wheel Drive&quot;</td><td>&quot;Compact Cars&quot;</td><td>&quot;Premium&quot;</td><td>16.528334</td><td>16</td><td>21</td><td>2013-01-01 00:00:00</td><td>&quot;true&quot;</td><td>4</td></tr></tbody></table></div>"
      ],
      "text/plain": [
       "shape: (48_193, 16)\n",
       "+-----+-----+-----+-----+-----+-----+-----+-----+-----+-----+-----+-----+-----+-----+-----+--------+\n",
       "| ind | yea | mak | mod | dis | cyl | tra | dri | VCl | fue | bar | cit | hig | cre | is_ | num_ge |\n",
       "| ex  | r   | e   | el  | pl  | ind | ny  | ve  | ass | lTy | rel | y08 | hwa | ate | aut | ars    |\n",
       "| --- | --- | --- | --- | --- | ers | --- | --- | --- | pe  | s08 | --- | y08 | dOn | oma | ---    |\n",
       "| u32 | i16 | cat | cat | f32 | --- | str | cat | cat | --- | --- | u8  | --- | --- | tic | u8     |\n",
       "|     |     |     |     |     | u8  |     |     |     | cat | f32 |     | u8  | dat | --- |        |\n",
       "|     |     |     |     |     |     |     |     |     |     |     |     |     | eti | str |        |\n",
       "|     |     |     |     |     |     |     |     |     |     |     |     |     | me[ |     |        |\n",
       "|     |     |     |     |     |     |     |     |     |     |     |     |     | μs] |     |        |\n",
       "+==================================================================================================+\n",
       "| 0   | 198 | Alf | Spi | 2.0 | 4   | Man | Rea | Two | Reg | 14. | 19  | 25  | 201 | fal | 5      |\n",
       "|     | 5   | a   | der |     |     | ual | r-W | Sea | ula | 167 |     |     | 3-0 | se  |        |\n",
       "|     |     | Rom | Vel |     |     | 5-s | hee | ter | r   | 143 |     |     | 1-0 |     |        |\n",
       "|     |     | eo  | oce |     |     | pd  | l   | s   |     |     |     |     | 1   |     |        |\n",
       "|     |     |     | 200 |     |     |     | Dri |     |     |     |     |     | 00: |     |        |\n",
       "|     |     |     | 0   |     |     |     | ve  |     |     |     |     |     | 00: |     |        |\n",
       "|     |     |     |     |     |     |     |     |     |     |     |     |     | 00  |     |        |\n",
       "| 1   | 198 | Fer | Tes | 4.9 | 12  | Man | Rea | Two | Reg | 27. | 9   | 14  | 201 | fal | 5      |\n",
       "|     | 5   | rar | tar |     |     | ual | r-W | Sea | ula | 046 |     |     | 3-0 | se  |        |\n",
       "|     |     | i   | oss |     |     | 5-s | hee | ter | r   | 364 |     |     | 1-0 |     |        |\n",
       "|     |     |     | a   |     |     | pd  | l   | s   |     |     |     |     | 1   |     |        |\n",
       "|     |     |     |     |     |     |     | Dri |     |     |     |     |     | 00: |     |        |\n",
       "|     |     |     |     |     |     |     | ve  |     |     |     |     |     | 00: |     |        |\n",
       "|     |     |     |     |     |     |     |     |     |     |     |     |     | 00  |     |        |\n",
       "| 2   | 198 | Dod | Cha | 2.2 | 4   | Man | Fro | Sub | Reg | 11. | 23  | 33  | 201 | fal | 5      |\n",
       "|     | 5   | ge  | rge |     |     | ual | nt- | com | ula | 018 |     |     | 3-0 | se  |        |\n",
       "|     |     |     | r   |     |     | 5-s | Whe | pac | r   | 888 |     |     | 1-0 |     |        |\n",
       "|     |     |     |     |     |     | pd  | el  | t   |     |     |     |     | 1   |     |        |\n",
       "|     |     |     |     |     |     |     | Dri | Car |     |     |     |     | 00: |     |        |\n",
       "|     |     |     |     |     |     |     | ve  | s   |     |     |     |     | 00: |     |        |\n",
       "|     |     |     |     |     |     |     |     |     |     |     |     |     | 00  |     |        |\n",
       "| 3   | 198 | Dod | B15 | 5.2 | 8   | Aut | Rea | Van | Reg | 27. | 10  | 12  | 201 | tru | 3      |\n",
       "|     | 5   | ge  | 0/B |     |     | oma | r-W | s   | ula | 046 |     |     | 3-0 | e   |        |\n",
       "|     |     |     | 250 |     |     | tic | hee |     | r   | 364 |     |     | 1-0 |     |        |\n",
       "|     |     |     | Wag |     |     | 3-s | l   |     |     |     |     |     | 1   |     |        |\n",
       "|     |     |     | on  |     |     | pd  | Dri |     |     |     |     |     | 00: |     |        |\n",
       "|     |     |     | 2WD |     |     |     | ve  |     |     |     |     |     | 00: |     |        |\n",
       "|     |     |     |     |     |     |     |     |     |     |     |     |     | 00  |     |        |\n",
       "| 4   | 199 | Sub | Leg | 2.2 | 4   | Man | 4-W | Com | Pre | 15. | 17  | 23  | 201 | fal | 5      |\n",
       "|     | 3   | aru | acy |     |     | ual | hee | pac | miu | 658 |     |     | 3-0 | se  |        |\n",
       "|     |     |     | AWD |     |     | 5-s | l   | t   | m   | 422 |     |     | 1-0 |     |        |\n",
       "|     |     |     | Tur |     |     | pd  | or  | Car |     |     |     |     | 1   |     |        |\n",
       "|     |     |     | bo  |     |     |     | All | s   |     |     |     |     | 00: |     |        |\n",
       "|     |     |     |     |     |     |     | -Wh |     |     |     |     |     | 00: |     |        |\n",
       "|     |     |     |     |     |     |     | eel |     |     |     |     |     | 00  |     |        |\n",
       "|     |     |     |     |     |     |     | Dri |     |     |     |     |     |     |     |        |\n",
       "|     |     |     |     |     |     |     | ve  |     |     |     |     |     |     |     |        |\n",
       "| …   | …   | …   | …   | …   | …   | …   | …   | …   | …   | …   | …   | …   | …   | …   | …      |\n",
       "| 481 | 199 | Sub | Leg | 2.2 | 4   | Aut | Fro | Com | Reg | 13. | 19  | 26  | 201 | tru | 4      |\n",
       "| 97  | 3   | aru | acy |     |     | oma | nt- | pac | ula | 523 |     |     | 3-0 | e   |        |\n",
       "|     |     |     |     |     |     | tic | Whe | t   | r   | 182 |     |     | 1-0 |     |        |\n",
       "|     |     |     |     |     |     | 4-s | el  | Car |     |     |     |     | 1   |     |        |\n",
       "|     |     |     |     |     |     | pd  | Dri | s   |     |     |     |     | 00: |     |        |\n",
       "|     |     |     |     |     |     |     | ve  |     |     |     |     |     | 00: |     |        |\n",
       "|     |     |     |     |     |     |     |     |     |     |     |     |     | 00  |     |        |\n",
       "| 481 | 199 | Sub | Leg | 2.2 | 4   | Man | Fro | Com | Reg | 12. | 20  | 28  | 201 | fal | 5      |\n",
       "| 98  | 3   | aru | acy |     |     | ual | nt- | pac | ula | 935 |     |     | 3-0 | se  |        |\n",
       "|     |     |     |     |     |     | 5-s | Whe | t   | r   | 218 |     |     | 1-0 |     |        |\n",
       "|     |     |     |     |     |     | pd  | el  | Car |     |     |     |     | 1   |     |        |\n",
       "|     |     |     |     |     |     |     | Dri | s   |     |     |     |     | 00: |     |        |\n",
       "|     |     |     |     |     |     |     | ve  |     |     |     |     |     | 00: |     |        |\n",
       "|     |     |     |     |     |     |     |     |     |     |     |     |     | 00  |     |        |\n",
       "| 481 | 199 | Sub | Leg | 2.2 | 4   | Aut | 4-W | Com | Reg | 14. | 18  | 24  | 201 | tru | 4      |\n",
       "| 99  | 3   | aru | acy |     |     | oma | hee | pac | ula | 167 |     |     | 3-0 | e   |        |\n",
       "|     |     |     | AWD |     |     | tic | l   | t   | r   | 143 |     |     | 1-0 |     |        |\n",
       "|     |     |     |     |     |     | 4-s | or  | Car |     |     |     |     | 1   |     |        |\n",
       "|     |     |     |     |     |     | pd  | All | s   |     |     |     |     | 00: |     |        |\n",
       "|     |     |     |     |     |     |     | -Wh |     |     |     |     |     | 00: |     |        |\n",
       "|     |     |     |     |     |     |     | eel |     |     |     |     |     | 00  |     |        |\n",
       "|     |     |     |     |     |     |     | Dri |     |     |     |     |     |     |     |        |\n",
       "|     |     |     |     |     |     |     | ve  |     |     |     |     |     |     |     |        |\n",
       "| 482 | 199 | Sub | Leg | 2.2 | 4   | Man | 4-W | Com | Reg | 14. | 18  | 24  | 201 | fal | 5      |\n",
       "| 00  | 3   | aru | acy |     |     | ual | hee | pac | ula | 167 |     |     | 3-0 | se  |        |\n",
       "|     |     |     | AWD |     |     | 5-s | l   | t   | r   | 143 |     |     | 1-0 |     |        |\n",
       "|     |     |     |     |     |     | pd  | or  | Car |     |     |     |     | 1   |     |        |\n",
       "|     |     |     |     |     |     |     | All | s   |     |     |     |     | 00: |     |        |\n",
       "|     |     |     |     |     |     |     | -Wh |     |     |     |     |     | 00: |     |        |\n",
       "|     |     |     |     |     |     |     | eel |     |     |     |     |     | 00  |     |        |\n",
       "|     |     |     |     |     |     |     | Dri |     |     |     |     |     |     |     |        |\n",
       "|     |     |     |     |     |     |     | ve  |     |     |     |     |     |     |     |        |\n",
       "| 482 | 199 | Sub | Leg | 2.2 | 4   | Aut | 4-W | Com | Pre | 16. | 16  | 21  | 201 | tru | 4      |\n",
       "| 01  | 3   | aru | acy |     |     | oma | hee | pac | miu | 528 |     |     | 3-0 | e   |        |\n",
       "|     |     |     | AWD |     |     | tic | l   | t   | m   | 334 |     |     | 1-0 |     |        |\n",
       "|     |     |     | Tur |     |     | 4-s | or  | Car |     |     |     |     | 1   |     |        |\n",
       "|     |     |     | bo  |     |     | pd  | All | s   |     |     |     |     | 00: |     |        |\n",
       "|     |     |     |     |     |     |     | -Wh |     |     |     |     |     | 00: |     |        |\n",
       "|     |     |     |     |     |     |     | eel |     |     |     |     |     | 00  |     |        |\n",
       "|     |     |     |     |     |     |     | Dri |     |     |     |     |     |     |     |        |\n",
       "|     |     |     |     |     |     |     | ve  |     |     |     |     |     |     |     |        |\n",
       "+-----+-----+-----+-----+-----+-----+-----+-----+-----+-----+-----+-----+-----+-----+-----+--------+"
      ]
     },
     "execution_count": 74,
     "metadata": {},
     "output_type": "execute_result"
    }
   ],
   "source": [
    "(\n",
    "    autos\n",
    "    # filter works vertically on a row basis (eg .loc, .iloc, query in Pandas)\n",
    "    .filter(pl.col('highway08').is_duplicated())\n",
    ")"
   ]
  },
  {
   "cell_type": "markdown",
   "id": "97a5c27c-089b-4f6f-a491-b05ae85d47fd",
   "metadata": {},
   "source": [
    "* This isn't particulary interesting, since many cars have the same highway fuel efficiency.\n",
    "* A more realistic example is checking for duplicate year-model combinations.\n",
    "* We cannot include both columns in the `pl.col` expression like `pl.col('year', 'model').is_duplicated()` as this will throw an error.\n",
    "* If we want to determine where a combination of columns is duplicated as a group, we need to combine them.\n",
    "* We can do this with a *struct* expression.\n",
    "* In Polars, a *struct* is a single column that contains a sequence of values (the collection of columns that are combined).\n",
    "* We will check for duplicates of *year* *model* combinations.\n",
    "* First, combine the two columns into a single column using `pl.struct()`."
   ]
  },
  {
   "cell_type": "code",
   "execution_count": 75,
   "id": "4a49a6ec-94b9-4511-96bb-e4c96abe03fd",
   "metadata": {},
   "outputs": [
    {
     "name": "stdout",
     "output_type": "stream",
     "text": [
      "<class 'polars.series.series.Series'>\n",
      "----------------------------------------\n",
      "shape: (2,)\n",
      "Series: '' [struct[16]]\n",
      "[\n",
      "\t{0,1985,\"Alfa Romeo\",\"Spider Veloce 2000\",2.0,4,\"Manual 5-spd\",\"Rear-Wheel Drive\",\"Two Seaters\",\"Regular\",14.167143,19,25,2013-01-01 00:00:00,\"false\",5}\n",
      "\t{1,1985,\"Ferrari\",\"Testarossa\",4.9,12,\"Manual 5-spd\",\"Rear-Wheel Drive\",\"Two Seaters\",\"Regular\",27.046364,9,14,2013-01-01 00:00:00,\"false\",5}\n",
      "]\n"
     ]
    }
   ],
   "source": [
    "# If we use .to_struct without any arguments, \n",
    "# all columns are pulled into a row-wise struct\n",
    "all_structs1 = autos.to_struct()\n",
    "\n",
    "print(type(all_structs1))\n",
    "HR()\n",
    "print(all_structs1.head(2))"
   ]
  },
  {
   "cell_type": "code",
   "execution_count": 76,
   "id": "7f10d44e-5214-4cc7-9ad6-233e3e5575fb",
   "metadata": {},
   "outputs": [
    {
     "name": "stdout",
     "output_type": "stream",
     "text": [
      "<class 'polars.dataframe.frame.DataFrame'>\n",
      "----------------------------------------\n",
      "shape: (2, 1)\n",
      "+---------------------------------+\n",
      "| index                           |\n",
      "| ---                             |\n",
      "| struct[16]                      |\n",
      "+=================================+\n",
      "| {0,1985,\"Alfa Romeo\",\"Spider V… |\n",
      "| {1,1985,\"Ferrari\",\"Testarossa\"… |\n",
      "+---------------------------------+\n"
     ]
    }
   ],
   "source": [
    "# Create structs but in DataFrame format\n",
    "all_structs2 = autos.select(pl.struct(pl.all()))\n",
    "\n",
    "print(type(all_structs2))\n",
    "HR()\n",
    "print(all_structs2.head(2))"
   ]
  },
  {
   "cell_type": "code",
   "execution_count": 77,
   "id": "2ad6251e-a3d8-46b1-83ee-013d7fc31e6e",
   "metadata": {},
   "outputs": [
    {
     "name": "stdout",
     "output_type": "stream",
     "text": [
      "cannot convert Python type 'DataFrame' to Struct({'index': UInt32, 'year': Int16, 'make': Categorical(ordering='physical'), 'model': Categorical(ordering='physical'), 'displ': Float32, 'cylinders': UInt8, 'trany': String, 'drive': Categorical(ordering='physical'), 'VClass': Categorical(ordering='physical'), 'fuelType': Categorical(ordering='physical'), 'barrels08': Float32, 'city08': UInt8, 'highway08': UInt8, 'createdOn': Datetime(time_unit='us', time_zone=None), 'is_automatic': String, 'num_gears': UInt8})\n"
     ]
    }
   ],
   "source": [
    "try:\n",
    "    all_structs1 == all_structs2\n",
    "except Exception as e:\n",
    "    print(e)"
   ]
  },
  {
   "cell_type": "code",
   "execution_count": 78,
   "id": "e35e911e-a78b-4f37-b97c-f568d1e71039",
   "metadata": {},
   "outputs": [
    {
     "data": {
      "text/html": [
       "cols([\"year\", \"model\"]).as_struct()"
      ],
      "text/plain": [
       "<Expr ['cols([\"year\", \"model\"]).as_str…'] at 0x128113E90>"
      ]
     },
     "execution_count": 78,
     "metadata": {},
     "output_type": "execute_result"
    }
   ],
   "source": [
    "pl.struct(pl.col('year', 'model'))"
   ]
  },
  {
   "cell_type": "code",
   "execution_count": 79,
   "id": "5695421a-50f2-4c77-9c30-e20bc74f8464",
   "metadata": {},
   "outputs": [
    {
     "data": {
      "text/html": [
       "col(\"year\").as_struct([col(\"model\")])"
      ],
      "text/plain": [
       "<Expr ['col(\"year\").as_struct([col(\"mo…'] at 0x13E3D72D0>"
      ]
     },
     "execution_count": 79,
     "metadata": {},
     "output_type": "execute_result"
    }
   ],
   "source": [
    "pl.struct(pl.col('year'), pl.col('model'))"
   ]
  },
  {
   "cell_type": "code",
   "execution_count": 80,
   "id": "167f916f-138c-4a5f-9a54-816281410c85",
   "metadata": {},
   "outputs": [
    {
     "data": {
      "text/html": [
       "<div><style>\n",
       ".dataframe > thead > tr,\n",
       ".dataframe > tbody > tr {\n",
       "  text-align: right;\n",
       "  white-space: pre-wrap;\n",
       "}\n",
       "</style>\n",
       "<small>shape: (48_202, 1)</small><table border=\"1\" class=\"dataframe\"><thead><tr><th>year</th></tr><tr><td>struct[2]</td></tr></thead><tbody><tr><td>{1985,&quot;Spider Veloce 2000&quot;}</td></tr><tr><td>{1985,&quot;Testarossa&quot;}</td></tr><tr><td>{1985,&quot;Charger&quot;}</td></tr><tr><td>{1985,&quot;B150/B250 Wagon 2WD&quot;}</td></tr><tr><td>{1993,&quot;Legacy AWD Turbo&quot;}</td></tr><tr><td>&hellip;</td></tr><tr><td>{1993,&quot;Legacy&quot;}</td></tr><tr><td>{1993,&quot;Legacy&quot;}</td></tr><tr><td>{1993,&quot;Legacy AWD&quot;}</td></tr><tr><td>{1993,&quot;Legacy AWD&quot;}</td></tr><tr><td>{1993,&quot;Legacy AWD Turbo&quot;}</td></tr></tbody></table></div>"
      ],
      "text/plain": [
       "shape: (48_202, 1)\n",
       "+------------------------------+\n",
       "| year                         |\n",
       "| ---                          |\n",
       "| struct[2]                    |\n",
       "+==============================+\n",
       "| {1985,\"Spider Veloce 2000\"}  |\n",
       "| {1985,\"Testarossa\"}          |\n",
       "| {1985,\"Charger\"}             |\n",
       "| {1985,\"B150/B250 Wagon 2WD\"} |\n",
       "| {1993,\"Legacy AWD Turbo\"}    |\n",
       "| …                            |\n",
       "| {1993,\"Legacy\"}              |\n",
       "| {1993,\"Legacy\"}              |\n",
       "| {1993,\"Legacy AWD\"}          |\n",
       "| {1993,\"Legacy AWD\"}          |\n",
       "| {1993,\"Legacy AWD Turbo\"}    |\n",
       "+------------------------------+"
      ]
     },
     "execution_count": 80,
     "metadata": {},
     "output_type": "execute_result"
    }
   ],
   "source": [
    "struct1 = (\n",
    "    autos\n",
    "    .select(\n",
    "        pl.struct(pl.col('year'), pl.col('model'))\n",
    "    )\n",
    ")\n",
    "struct1"
   ]
  },
  {
   "cell_type": "code",
   "execution_count": 81,
   "id": "7d5c45f4-5fdb-4527-86d7-9005bc74265b",
   "metadata": {},
   "outputs": [
    {
     "data": {
      "text/html": [
       "<div><style>\n",
       ".dataframe > thead > tr,\n",
       ".dataframe > tbody > tr {\n",
       "  text-align: right;\n",
       "  white-space: pre-wrap;\n",
       "}\n",
       "</style>\n",
       "<small>shape: (48_202, 1)</small><table border=\"1\" class=\"dataframe\"><thead><tr><th>year</th></tr><tr><td>struct[2]</td></tr></thead><tbody><tr><td>{1985,&quot;Spider Veloce 2000&quot;}</td></tr><tr><td>{1985,&quot;Testarossa&quot;}</td></tr><tr><td>{1985,&quot;Charger&quot;}</td></tr><tr><td>{1985,&quot;B150/B250 Wagon 2WD&quot;}</td></tr><tr><td>{1993,&quot;Legacy AWD Turbo&quot;}</td></tr><tr><td>&hellip;</td></tr><tr><td>{1993,&quot;Legacy&quot;}</td></tr><tr><td>{1993,&quot;Legacy&quot;}</td></tr><tr><td>{1993,&quot;Legacy AWD&quot;}</td></tr><tr><td>{1993,&quot;Legacy AWD&quot;}</td></tr><tr><td>{1993,&quot;Legacy AWD Turbo&quot;}</td></tr></tbody></table></div>"
      ],
      "text/plain": [
       "shape: (48_202, 1)\n",
       "+------------------------------+\n",
       "| year                         |\n",
       "| ---                          |\n",
       "| struct[2]                    |\n",
       "+==============================+\n",
       "| {1985,\"Spider Veloce 2000\"}  |\n",
       "| {1985,\"Testarossa\"}          |\n",
       "| {1985,\"Charger\"}             |\n",
       "| {1985,\"B150/B250 Wagon 2WD\"} |\n",
       "| {1993,\"Legacy AWD Turbo\"}    |\n",
       "| …                            |\n",
       "| {1993,\"Legacy\"}              |\n",
       "| {1993,\"Legacy\"}              |\n",
       "| {1993,\"Legacy AWD\"}          |\n",
       "| {1993,\"Legacy AWD\"}          |\n",
       "| {1993,\"Legacy AWD Turbo\"}    |\n",
       "+------------------------------+"
      ]
     },
     "execution_count": 81,
     "metadata": {},
     "output_type": "execute_result"
    }
   ],
   "source": [
    "struct2 = (\n",
    "    autos\n",
    "    .select(\n",
    "        pl.struct(pl.col(['year', 'model']))\n",
    "    )\n",
    ")\n",
    "struct2"
   ]
  },
  {
   "cell_type": "code",
   "execution_count": 82,
   "id": "89f6f77f-6614-48c9-9acb-d1aef1261c7c",
   "metadata": {},
   "outputs": [
    {
     "data": {
      "text/plain": [
       "True"
      ]
     },
     "execution_count": 82,
     "metadata": {},
     "output_type": "execute_result"
    }
   ],
   "source": [
    "struct1.equals(struct2)"
   ]
  },
  {
   "cell_type": "markdown",
   "id": "d3684b48-3938-4171-b704-581d9c915505",
   "metadata": {},
   "source": [
    "---\n",
    "Now we can use `.is_duplicated()` to find the duplicate values."
   ]
  },
  {
   "cell_type": "code",
   "execution_count": 83,
   "id": "15d5b070-3af1-49c3-9860-25b12e8282d6",
   "metadata": {},
   "outputs": [
    {
     "data": {
      "text/html": [
       "<div><style>\n",
       ".dataframe > thead > tr,\n",
       ".dataframe > tbody > tr {\n",
       "  text-align: right;\n",
       "  white-space: pre-wrap;\n",
       "}\n",
       "</style>\n",
       "<small>shape: (48_202, 1)</small><table border=\"1\" class=\"dataframe\"><thead><tr><th>year</th></tr><tr><td>bool</td></tr></thead><tbody><tr><td>false</td></tr><tr><td>false</td></tr><tr><td>true</td></tr><tr><td>true</td></tr><tr><td>true</td></tr><tr><td>&hellip;</td></tr><tr><td>true</td></tr><tr><td>true</td></tr><tr><td>true</td></tr><tr><td>true</td></tr><tr><td>true</td></tr></tbody></table></div>"
      ],
      "text/plain": [
       "shape: (48_202, 1)\n",
       "+-------+\n",
       "| year  |\n",
       "| ---   |\n",
       "| bool  |\n",
       "+=======+\n",
       "| false |\n",
       "| false |\n",
       "| true  |\n",
       "| true  |\n",
       "| true  |\n",
       "| …     |\n",
       "| true  |\n",
       "| true  |\n",
       "| true  |\n",
       "| true  |\n",
       "| true  |\n",
       "+-------+"
      ]
     },
     "execution_count": 83,
     "metadata": {},
     "output_type": "execute_result"
    }
   ],
   "source": [
    "(\n",
    "    autos\n",
    "    .select(pl.struct(pl.col(['year', 'model'])).is_duplicated())\n",
    ")"
   ]
  },
  {
   "cell_type": "markdown",
   "id": "13a3bb5e-a38a-497f-b7d7-e74fe7bd9d24",
   "metadata": {},
   "source": [
    "---\n",
    "We can then find the duplicate rows by replacing `.select` with `.filter`\n",
    "\n",
    "GB: Conceptually, this allows us to find popular combinations, eg Jones Solution in size 164cm, etc"
   ]
  },
  {
   "cell_type": "code",
   "execution_count": 84,
   "id": "aa478646-2ffd-4936-abca-436c715f2c92",
   "metadata": {},
   "outputs": [
    {
     "name": "stderr",
     "output_type": "stream",
     "text": [
      "dataframe filtered\n"
     ]
    },
    {
     "data": {
      "text/html": [
       "<div><style>\n",
       ".dataframe > thead > tr,\n",
       ".dataframe > tbody > tr {\n",
       "  text-align: right;\n",
       "  white-space: pre-wrap;\n",
       "}\n",
       "</style>\n",
       "<small>shape: (35_075, 16)</small><table border=\"1\" class=\"dataframe\"><thead><tr><th>index</th><th>year</th><th>make</th><th>model</th><th>displ</th><th>cylinders</th><th>trany</th><th>drive</th><th>VClass</th><th>fuelType</th><th>barrels08</th><th>city08</th><th>highway08</th><th>createdOn</th><th>is_automatic</th><th>num_gears</th></tr><tr><td>u32</td><td>i16</td><td>cat</td><td>cat</td><td>f32</td><td>u8</td><td>str</td><td>cat</td><td>cat</td><td>cat</td><td>f32</td><td>u8</td><td>u8</td><td>datetime[μs]</td><td>str</td><td>u8</td></tr></thead><tbody><tr><td>18214</td><td>1984</td><td>&quot;Alfa Romeo&quot;</td><td>&quot;Spider Veloce 2000&quot;</td><td>2.0</td><td>4</td><td>&quot;Manual 5-spd&quot;</td><td>null</td><td>&quot;Two Seaters&quot;</td><td>&quot;Regular&quot;</td><td>14.167143</td><td>18</td><td>25</td><td>2013-01-01 00:00:00</td><td>&quot;false&quot;</td><td>5</td></tr><tr><td>19458</td><td>1984</td><td>&quot;Alfa Romeo&quot;</td><td>&quot;Spider Veloce 2000&quot;</td><td>2.0</td><td>4</td><td>&quot;Manual 5-spd&quot;</td><td>null</td><td>&quot;Two Seaters&quot;</td><td>&quot;Regular&quot;</td><td>14.167143</td><td>18</td><td>25</td><td>2013-01-01 00:00:00</td><td>&quot;false&quot;</td><td>5</td></tr><tr><td>19555</td><td>1984</td><td>&quot;Dodge&quot;</td><td>&quot;Charger&quot;</td><td>1.6</td><td>4</td><td>&quot;Manual 4-spd&quot;</td><td>null</td><td>&quot;Subcompact Cars&quot;</td><td>&quot;Regular&quot;</td><td>10.258965</td><td>25</td><td>35</td><td>2013-01-01 00:00:00</td><td>&quot;false&quot;</td><td>4</td></tr><tr><td>18318</td><td>1984</td><td>&quot;Dodge&quot;</td><td>&quot;Charger&quot;</td><td>1.6</td><td>4</td><td>&quot;Manual 4-spd&quot;</td><td>null</td><td>&quot;Subcompact Cars&quot;</td><td>&quot;Regular&quot;</td><td>9.917</td><td>26</td><td>35</td><td>2013-01-01 00:00:00</td><td>&quot;false&quot;</td><td>4</td></tr><tr><td>18319</td><td>1984</td><td>&quot;Dodge&quot;</td><td>&quot;Charger&quot;</td><td>2.2</td><td>4</td><td>&quot;Automatic 3-spd&quot;</td><td>null</td><td>&quot;Subcompact Cars&quot;</td><td>&quot;Regular&quot;</td><td>12.935218</td><td>21</td><td>26</td><td>2013-01-01 00:00:00</td><td>&quot;true&quot;</td><td>3</td></tr><tr><td>&hellip;</td><td>&hellip;</td><td>&hellip;</td><td>&hellip;</td><td>&hellip;</td><td>&hellip;</td><td>&hellip;</td><td>&hellip;</td><td>&hellip;</td><td>&hellip;</td><td>&hellip;</td><td>&hellip;</td><td>&hellip;</td><td>&hellip;</td><td>&hellip;</td><td>&hellip;</td></tr><tr><td>41457</td><td>2025</td><td>&quot;Lexus&quot;</td><td>&quot;UX 300h AWD&quot;</td><td>2.0</td><td>4</td><td>&quot;Automatic (AV-S6)&quot;</td><td>&quot;All-Wheel Drive&quot;</td><td>&quot;Compact Cars&quot;</td><td>&quot;Regular&quot;</td><td>7.083571</td><td>44</td><td>40</td><td>2024-03-19 00:00:00</td><td>&quot;true&quot;</td><td>6</td></tr><tr><td>41925</td><td>2025</td><td>&quot;Mazda&quot;</td><td>&quot;CX-70 4WD&quot;</td><td>3.3</td><td>6</td><td>&quot;Automatic (S8)&quot;</td><td>&quot;4-Wheel Drive&quot;</td><td>&quot;Standard Sport Utility Vehicle…</td><td>&quot;Premium&quot;</td><td>11.9004</td><td>23</td><td>28</td><td>2024-08-07 00:00:00</td><td>&quot;true&quot;</td><td>8</td></tr><tr><td>42102</td><td>2025</td><td>&quot;Mazda&quot;</td><td>&quot;CX-70 4WD&quot;</td><td>3.3</td><td>6</td><td>&quot;Automatic (S8)&quot;</td><td>&quot;4-Wheel Drive&quot;</td><td>&quot;Standard Sport Utility Vehicle…</td><td>&quot;Regular&quot;</td><td>11.9004</td><td>24</td><td>28</td><td>2024-08-25 00:00:00</td><td>&quot;true&quot;</td><td>8</td></tr><tr><td>41977</td><td>2025</td><td>&quot;Kia&quot;</td><td>&quot;K4&quot;</td><td>2.0</td><td>4</td><td>&quot;Automatic (AV-S1)&quot;</td><td>&quot;Front-Wheel Drive&quot;</td><td>&quot;Midsize Cars&quot;</td><td>&quot;Regular&quot;</td><td>8.750294</td><td>30</td><td>40</td><td>2024-08-25 00:00:00</td><td>&quot;true&quot;</td><td>1</td></tr><tr><td>41975</td><td>2025</td><td>&quot;Kia&quot;</td><td>&quot;K4&quot;</td><td>2.0</td><td>4</td><td>&quot;Automatic (AV-S1)&quot;</td><td>&quot;Front-Wheel Drive&quot;</td><td>&quot;Midsize Cars&quot;</td><td>&quot;Regular&quot;</td><td>9.015454</td><td>29</td><td>39</td><td>2024-08-25 00:00:00</td><td>&quot;true&quot;</td><td>1</td></tr></tbody></table></div>"
      ],
      "text/plain": [
       "shape: (35_075, 16)\n",
       "+-----+-----+-----+-----+-----+-----+-----+-----+-----+-----+-----+-----+-----+-----+-----+--------+\n",
       "| ind | yea | mak | mod | dis | cyl | tra | dri | VCl | fue | bar | cit | hig | cre | is_ | num_ge |\n",
       "| ex  | r   | e   | el  | pl  | ind | ny  | ve  | ass | lTy | rel | y08 | hwa | ate | aut | ars    |\n",
       "| --- | --- | --- | --- | --- | ers | --- | --- | --- | pe  | s08 | --- | y08 | dOn | oma | ---    |\n",
       "| u32 | i16 | cat | cat | f32 | --- | str | cat | cat | --- | --- | u8  | --- | --- | tic | u8     |\n",
       "|     |     |     |     |     | u8  |     |     |     | cat | f32 |     | u8  | dat | --- |        |\n",
       "|     |     |     |     |     |     |     |     |     |     |     |     |     | eti | str |        |\n",
       "|     |     |     |     |     |     |     |     |     |     |     |     |     | me[ |     |        |\n",
       "|     |     |     |     |     |     |     |     |     |     |     |     |     | μs] |     |        |\n",
       "+==================================================================================================+\n",
       "| 182 | 198 | Alf | Spi | 2.0 | 4   | Man | nul | Two | Reg | 14. | 18  | 25  | 201 | fal | 5      |\n",
       "| 14  | 4   | a   | der |     |     | ual | l   | Sea | ula | 167 |     |     | 3-0 | se  |        |\n",
       "|     |     | Rom | Vel |     |     | 5-s |     | ter | r   | 143 |     |     | 1-0 |     |        |\n",
       "|     |     | eo  | oce |     |     | pd  |     | s   |     |     |     |     | 1   |     |        |\n",
       "|     |     |     | 200 |     |     |     |     |     |     |     |     |     | 00: |     |        |\n",
       "|     |     |     | 0   |     |     |     |     |     |     |     |     |     | 00: |     |        |\n",
       "|     |     |     |     |     |     |     |     |     |     |     |     |     | 00  |     |        |\n",
       "| 194 | 198 | Alf | Spi | 2.0 | 4   | Man | nul | Two | Reg | 14. | 18  | 25  | 201 | fal | 5      |\n",
       "| 58  | 4   | a   | der |     |     | ual | l   | Sea | ula | 167 |     |     | 3-0 | se  |        |\n",
       "|     |     | Rom | Vel |     |     | 5-s |     | ter | r   | 143 |     |     | 1-0 |     |        |\n",
       "|     |     | eo  | oce |     |     | pd  |     | s   |     |     |     |     | 1   |     |        |\n",
       "|     |     |     | 200 |     |     |     |     |     |     |     |     |     | 00: |     |        |\n",
       "|     |     |     | 0   |     |     |     |     |     |     |     |     |     | 00: |     |        |\n",
       "|     |     |     |     |     |     |     |     |     |     |     |     |     | 00  |     |        |\n",
       "| 195 | 198 | Dod | Cha | 1.6 | 4   | Man | nul | Sub | Reg | 10. | 25  | 35  | 201 | fal | 4      |\n",
       "| 55  | 4   | ge  | rge |     |     | ual | l   | com | ula | 258 |     |     | 3-0 | se  |        |\n",
       "|     |     |     | r   |     |     | 4-s |     | pac | r   | 965 |     |     | 1-0 |     |        |\n",
       "|     |     |     |     |     |     | pd  |     | t   |     |     |     |     | 1   |     |        |\n",
       "|     |     |     |     |     |     |     |     | Car |     |     |     |     | 00: |     |        |\n",
       "|     |     |     |     |     |     |     |     | s   |     |     |     |     | 00: |     |        |\n",
       "|     |     |     |     |     |     |     |     |     |     |     |     |     | 00  |     |        |\n",
       "| 183 | 198 | Dod | Cha | 1.6 | 4   | Man | nul | Sub | Reg | 9.9 | 26  | 35  | 201 | fal | 4      |\n",
       "| 18  | 4   | ge  | rge |     |     | ual | l   | com | ula | 17  |     |     | 3-0 | se  |        |\n",
       "|     |     |     | r   |     |     | 4-s |     | pac | r   |     |     |     | 1-0 |     |        |\n",
       "|     |     |     |     |     |     | pd  |     | t   |     |     |     |     | 1   |     |        |\n",
       "|     |     |     |     |     |     |     |     | Car |     |     |     |     | 00: |     |        |\n",
       "|     |     |     |     |     |     |     |     | s   |     |     |     |     | 00: |     |        |\n",
       "|     |     |     |     |     |     |     |     |     |     |     |     |     | 00  |     |        |\n",
       "| 183 | 198 | Dod | Cha | 2.2 | 4   | Aut | nul | Sub | Reg | 12. | 21  | 26  | 201 | tru | 3      |\n",
       "| 19  | 4   | ge  | rge |     |     | oma | l   | com | ula | 935 |     |     | 3-0 | e   |        |\n",
       "|     |     |     | r   |     |     | tic |     | pac | r   | 218 |     |     | 1-0 |     |        |\n",
       "|     |     |     |     |     |     | 3-s |     | t   |     |     |     |     | 1   |     |        |\n",
       "|     |     |     |     |     |     | pd  |     | Car |     |     |     |     | 00: |     |        |\n",
       "|     |     |     |     |     |     |     |     | s   |     |     |     |     | 00: |     |        |\n",
       "|     |     |     |     |     |     |     |     |     |     |     |     |     | 00  |     |        |\n",
       "| …   | …   | …   | …   | …   | …   | …   | …   | …   | …   | …   | …   | …   | …   | …   | …      |\n",
       "| 414 | 202 | Lex | UX  | 2.0 | 4   | Aut | All | Com | Reg | 7.0 | 44  | 40  | 202 | tru | 6      |\n",
       "| 57  | 5   | us  | 300 |     |     | oma | -Wh | pac | ula | 835 |     |     | 4-0 | e   |        |\n",
       "|     |     |     | h   |     |     | tic | eel | t   | r   | 71  |     |     | 3-1 |     |        |\n",
       "|     |     |     | AWD |     |     | (AV | Dri | Car |     |     |     |     | 9   |     |        |\n",
       "|     |     |     |     |     |     | -S6 | ve  | s   |     |     |     |     | 00: |     |        |\n",
       "|     |     |     |     |     |     | )   |     |     |     |     |     |     | 00: |     |        |\n",
       "|     |     |     |     |     |     |     |     |     |     |     |     |     | 00  |     |        |\n",
       "| 419 | 202 | Maz | CX- | 3.3 | 6   | Aut | 4-W | Sta | Pre | 11. | 23  | 28  | 202 | tru | 8      |\n",
       "| 25  | 5   | da  | 70  |     |     | oma | hee | nda | miu | 900 |     |     | 4-0 | e   |        |\n",
       "|     |     |     | 4WD |     |     | tic | l   | rd  | m   | 4   |     |     | 8-0 |     |        |\n",
       "|     |     |     |     |     |     | (S8 | Dri | Spo |     |     |     |     | 7   |     |        |\n",
       "|     |     |     |     |     |     | )   | ve  | rt  |     |     |     |     | 00: |     |        |\n",
       "|     |     |     |     |     |     |     |     | Uti |     |     |     |     | 00: |     |        |\n",
       "|     |     |     |     |     |     |     |     | lit |     |     |     |     | 00  |     |        |\n",
       "|     |     |     |     |     |     |     |     | y   |     |     |     |     |     |     |        |\n",
       "|     |     |     |     |     |     |     |     | Veh |     |     |     |     |     |     |        |\n",
       "|     |     |     |     |     |     |     |     | icl |     |     |     |     |     |     |        |\n",
       "|     |     |     |     |     |     |     |     | e…  |     |     |     |     |     |     |        |\n",
       "| 421 | 202 | Maz | CX- | 3.3 | 6   | Aut | 4-W | Sta | Reg | 11. | 24  | 28  | 202 | tru | 8      |\n",
       "| 02  | 5   | da  | 70  |     |     | oma | hee | nda | ula | 900 |     |     | 4-0 | e   |        |\n",
       "|     |     |     | 4WD |     |     | tic | l   | rd  | r   | 4   |     |     | 8-2 |     |        |\n",
       "|     |     |     |     |     |     | (S8 | Dri | Spo |     |     |     |     | 5   |     |        |\n",
       "|     |     |     |     |     |     | )   | ve  | rt  |     |     |     |     | 00: |     |        |\n",
       "|     |     |     |     |     |     |     |     | Uti |     |     |     |     | 00: |     |        |\n",
       "|     |     |     |     |     |     |     |     | lit |     |     |     |     | 00  |     |        |\n",
       "|     |     |     |     |     |     |     |     | y   |     |     |     |     |     |     |        |\n",
       "|     |     |     |     |     |     |     |     | Veh |     |     |     |     |     |     |        |\n",
       "|     |     |     |     |     |     |     |     | icl |     |     |     |     |     |     |        |\n",
       "|     |     |     |     |     |     |     |     | e…  |     |     |     |     |     |     |        |\n",
       "| 419 | 202 | Kia | K4  | 2.0 | 4   | Aut | Fro | Mid | Reg | 8.7 | 30  | 40  | 202 | tru | 1      |\n",
       "| 77  | 5   |     |     |     |     | oma | nt- | siz | ula | 502 |     |     | 4-0 | e   |        |\n",
       "|     |     |     |     |     |     | tic | Whe | e   | r   | 94  |     |     | 8-2 |     |        |\n",
       "|     |     |     |     |     |     | (AV | el  | Car |     |     |     |     | 5   |     |        |\n",
       "|     |     |     |     |     |     | -S1 | Dri | s   |     |     |     |     | 00: |     |        |\n",
       "|     |     |     |     |     |     | )   | ve  |     |     |     |     |     | 00: |     |        |\n",
       "|     |     |     |     |     |     |     |     |     |     |     |     |     | 00  |     |        |\n",
       "| 419 | 202 | Kia | K4  | 2.0 | 4   | Aut | Fro | Mid | Reg | 9.0 | 29  | 39  | 202 | tru | 1      |\n",
       "| 75  | 5   |     |     |     |     | oma | nt- | siz | ula | 154 |     |     | 4-0 | e   |        |\n",
       "|     |     |     |     |     |     | tic | Whe | e   | r   | 54  |     |     | 8-2 |     |        |\n",
       "|     |     |     |     |     |     | (AV | el  | Car |     |     |     |     | 5   |     |        |\n",
       "|     |     |     |     |     |     | -S1 | Dri | s   |     |     |     |     | 00: |     |        |\n",
       "|     |     |     |     |     |     | )   | ve  |     |     |     |     |     | 00: |     |        |\n",
       "|     |     |     |     |     |     |     |     |     |     |     |     |     | 00  |     |        |\n",
       "+-----+-----+-----+-----+-----+-----+-----+-----+-----+-----+-----+-----+-----+-----+-----+--------+"
      ]
     },
     "execution_count": 84,
     "metadata": {},
     "output_type": "execute_result"
    }
   ],
   "source": [
    "(\n",
    "    autos\n",
    "    .filter(pl.struct(pl.col(['year', 'model'])).is_duplicated())\n",
    "    .sort('year', 'model')\n",
    ")"
   ]
  },
  {
   "cell_type": "markdown",
   "id": "c3c37577-13c5-46d5-aab3-6278b0e89cc9",
   "metadata": {},
   "source": [
    "We can see there are multiple *year* *model* combinations that are duplicated."
   ]
  },
  {
   "cell_type": "markdown",
   "id": "365a79bd-fdf8-459b-8d77-d54733cea3d7",
   "metadata": {},
   "source": [
    "---\n",
    "# 2.21 Finding Missing Values\n",
    "[back to Top](#Top)\n",
    "\n",
    "* A big difference between Pandas and Polars is Polars distinguishes between NULL and NaN values.\n",
    "    - A NULL value is a value that is missing.\n",
    "    - A NaN value is a value that is not a number and may result from a mathematical operation.\n",
    "* Non-numerical data types cannot be NaN types.\n",
    "* For ex, a string cannot be a NaN type.\n",
    "* Polars has both `.is_null()` and `.is_nan()` that are found on a column expression.\n",
    "* When reading a CSV file, it is possible to get both NULL and NaN values in a single column.\n",
    "\n",
    "Here, we use synthetic data to demonstrate the difference between NULL and NaN values."
   ]
  },
  {
   "cell_type": "code",
   "execution_count": 85,
   "id": "64c96b97-851e-4a0c-a7aa-b254d43685a9",
   "metadata": {},
   "outputs": [
    {
     "name": "stdout",
     "output_type": "stream",
     "text": [
      "shape: (6, 1)\n",
      "+------+\n",
      "| val  |\n",
      "| ---  |\n",
      "| f64  |\n",
      "+======+\n",
      "| -1.1 |\n",
      "| 0.0  |\n",
      "| 2.3  |\n",
      "| null |\n",
      "| 5.7  |\n",
      "| 7.0  |\n",
      "+------+\n"
     ]
    }
   ],
   "source": [
    "missing_df = pl.DataFrame({'val': [-1.1, 0, 2.3, None, 5.7, 7]})\n",
    "print(missing_df)"
   ]
  },
  {
   "cell_type": "markdown",
   "id": "6514d5b9-e32c-409c-acf2-53b36471da6e",
   "metadata": {},
   "source": [
    "We can see a null value here. See what happens when we try to divide the `val` column by itself."
   ]
  },
  {
   "cell_type": "code",
   "execution_count": 86,
   "id": "522778a5-df74-4bac-a9e1-c58db8bd407b",
   "metadata": {},
   "outputs": [
    {
     "data": {
      "text/html": [
       "<div><style>\n",
       ".dataframe > thead > tr,\n",
       ".dataframe > tbody > tr {\n",
       "  text-align: right;\n",
       "  white-space: pre-wrap;\n",
       "}\n",
       "</style>\n",
       "<small>shape: (6, 2)</small><table border=\"1\" class=\"dataframe\"><thead><tr><th>val</th><th>val2</th></tr><tr><td>f64</td><td>f64</td></tr></thead><tbody><tr><td>-1.1</td><td>1.0</td></tr><tr><td>0.0</td><td>NaN</td></tr><tr><td>2.3</td><td>1.0</td></tr><tr><td>null</td><td>null</td></tr><tr><td>5.7</td><td>1.0</td></tr><tr><td>7.0</td><td>1.0</td></tr></tbody></table></div>"
      ],
      "text/plain": [
       "shape: (6, 2)\n",
       "+------+------+\n",
       "| val  | val2 |\n",
       "| ---  | ---  |\n",
       "| f64  | f64  |\n",
       "+=============+\n",
       "| -1.1 | 1.0  |\n",
       "| 0.0  | NaN  |\n",
       "| 2.3  | 1.0  |\n",
       "| null | null |\n",
       "| 5.7  | 1.0  |\n",
       "| 7.0  | 1.0  |\n",
       "+------+------+"
      ]
     },
     "execution_count": 86,
     "metadata": {},
     "output_type": "execute_result"
    }
   ],
   "source": [
    "(\n",
    "    missing_df\n",
    "    .with_columns(\n",
    "        val2=pl.col('val') / pl.col('val')\n",
    "    )\n",
    ")"
   ]
  },
  {
   "cell_type": "markdown",
   "id": "0bc104d4-54d9-43a9-92fb-b9f1cfd1f14b",
   "metadata": {},
   "source": [
    "When 0 is divided by 0, the result is NaN. \n",
    "\n",
    "NaN in Polars means it is not a number (eg the result of an invalid math operation).\n",
    "\n",
    "Null simply means a missing value.\n",
    "\n",
    "There are several expressions that deal with missing values and NaNs: `.is_finite`, `.is_nan`, `.is_null`.\n",
    "\n",
    "Here, we use predicate methods that deal with missing values and NaNs to see how they work on a column that has both NaN and null values."
   ]
  },
  {
   "cell_type": "code",
   "execution_count": 87,
   "id": "4460a8e0-a0eb-4b24-a0a7-be721b51bdfe",
   "metadata": {},
   "outputs": [
    {
     "data": {
      "text/html": [
       "<div><style>\n",
       ".dataframe > thead > tr,\n",
       ".dataframe > tbody > tr {\n",
       "  text-align: right;\n",
       "  white-space: pre-wrap;\n",
       "}\n",
       "</style>\n",
       "<small>shape: (6, 6)</small><table border=\"1\" class=\"dataframe\"><thead><tr><th>val</th><th>val2</th><th>is_null2</th><th>is_nan2</th><th>is_finite2</th><th>interpolate</th></tr><tr><td>f64</td><td>f64</td><td>bool</td><td>bool</td><td>bool</td><td>f64</td></tr></thead><tbody><tr><td>-1.1</td><td>1.0</td><td>false</td><td>false</td><td>true</td><td>1.0</td></tr><tr><td>0.0</td><td>NaN</td><td>false</td><td>true</td><td>false</td><td>NaN</td></tr><tr><td>2.3</td><td>1.0</td><td>false</td><td>false</td><td>true</td><td>1.0</td></tr><tr><td>null</td><td>null</td><td>true</td><td>null</td><td>null</td><td>1.0</td></tr><tr><td>5.7</td><td>1.0</td><td>false</td><td>false</td><td>true</td><td>1.0</td></tr><tr><td>7.0</td><td>1.0</td><td>false</td><td>false</td><td>true</td><td>1.0</td></tr></tbody></table></div>"
      ],
      "text/plain": [
       "shape: (6, 6)\n",
       "+------+------+----------+---------+------------+-------------+\n",
       "| val  | val2 | is_null2 | is_nan2 | is_finite2 | interpolate |\n",
       "| ---  | ---  | ---      | ---     | ---        | ---         |\n",
       "| f64  | f64  | bool     | bool    | bool       | f64         |\n",
       "+=============================================================+\n",
       "| -1.1 | 1.0  | false    | false   | true       | 1.0         |\n",
       "| 0.0  | NaN  | false    | true    | false      | NaN         |\n",
       "| 2.3  | 1.0  | false    | false   | true       | 1.0         |\n",
       "| null | null | true     | null    | null       | 1.0         |\n",
       "| 5.7  | 1.0  | false    | false   | true       | 1.0         |\n",
       "| 7.0  | 1.0  | false    | false   | true       | 1.0         |\n",
       "+------+------+----------+---------+------------+-------------+"
      ]
     },
     "execution_count": 87,
     "metadata": {},
     "output_type": "execute_result"
    }
   ],
   "source": [
    "(\n",
    "    missing_df\n",
    "    .with_columns(val2=pl.col('val')/pl.col('val'))\n",
    "    .with_columns(\n",
    "        is_null2=pl.col('val2').is_null(),\n",
    "        is_nan2=pl.col('val2').is_nan(),\n",
    "        is_finite2=pl.col('val2').is_finite(),\n",
    "        interpolate=pl.col('val2').interpolate()\n",
    "    )\n",
    "    \n",
    ")"
   ]
  },
  {
   "cell_type": "markdown",
   "id": "00796817-4bcf-4fc4-a911-eac67ae0cc70",
   "metadata": {},
   "source": [
    "We can use `.fill_null` to replace the NULL values in the *val* column with 0."
   ]
  },
  {
   "cell_type": "code",
   "execution_count": 88,
   "id": "66b2c303-cceb-4e41-bce6-d5f699662889",
   "metadata": {},
   "outputs": [
    {
     "data": {
      "text/html": [
       "<div><style>\n",
       ".dataframe > thead > tr,\n",
       ".dataframe > tbody > tr {\n",
       "  text-align: right;\n",
       "  white-space: pre-wrap;\n",
       "}\n",
       "</style>\n",
       "<small>shape: (6, 5)</small><table border=\"1\" class=\"dataframe\"><thead><tr><th>val</th><th>forward</th><th>backward</th><th>min</th><th>max</th></tr><tr><td>f64</td><td>f64</td><td>f64</td><td>f64</td><td>f64</td></tr></thead><tbody><tr><td>-1.1</td><td>-1.1</td><td>-1.1</td><td>-1.1</td><td>-1.1</td></tr><tr><td>0.0</td><td>0.0</td><td>0.0</td><td>0.0</td><td>0.0</td></tr><tr><td>2.3</td><td>2.3</td><td>2.3</td><td>2.3</td><td>2.3</td></tr><tr><td>null</td><td>2.3</td><td>5.7</td><td>-1.1</td><td>7.0</td></tr><tr><td>5.7</td><td>5.7</td><td>5.7</td><td>5.7</td><td>5.7</td></tr><tr><td>7.0</td><td>7.0</td><td>7.0</td><td>7.0</td><td>7.0</td></tr></tbody></table></div>"
      ],
      "text/plain": [
       "shape: (6, 5)\n",
       "+------+---------+----------+------+------+\n",
       "| val  | forward | backward | min  | max  |\n",
       "| ---  | ---     | ---      | ---  | ---  |\n",
       "| f64  | f64     | f64      | f64  | f64  |\n",
       "+=========================================+\n",
       "| -1.1 | -1.1    | -1.1     | -1.1 | -1.1 |\n",
       "| 0.0  | 0.0     | 0.0      | 0.0  | 0.0  |\n",
       "| 2.3  | 2.3     | 2.3      | 2.3  | 2.3  |\n",
       "| null | 2.3     | 5.7      | -1.1 | 7.0  |\n",
       "| 5.7  | 5.7     | 5.7      | 5.7  | 5.7  |\n",
       "| 7.0  | 7.0     | 7.0      | 7.0  | 7.0  |\n",
       "+------+---------+----------+------+------+"
      ]
     },
     "execution_count": 88,
     "metadata": {},
     "output_type": "execute_result"
    }
   ],
   "source": [
    "(\n",
    "    missing_df\n",
    "    .with_columns(\n",
    "        forward=pl.col('val').fill_null(strategy='forward'),\n",
    "        backward=pl.col('val').fill_null(strategy='backward'),\n",
    "        min=pl.col('val').fill_null(strategy='min'),\n",
    "        max=pl.col('val').fill_null(strategy='max')\n",
    "    )\n",
    ")"
   ]
  },
  {
   "cell_type": "markdown",
   "id": "55272f20-9ee9-4e73-888c-367db2c27826",
   "metadata": {},
   "source": [
    "This is an example of using `.fill_null()` and `.interpolate`."
   ]
  },
  {
   "cell_type": "code",
   "execution_count": 89,
   "id": "59128bdb-d1f8-48aa-956a-67e813c66386",
   "metadata": {},
   "outputs": [
    {
     "data": {
      "text/html": [
       "<div><style>\n",
       ".dataframe > thead > tr,\n",
       ".dataframe > tbody > tr {\n",
       "  text-align: right;\n",
       "  white-space: pre-wrap;\n",
       "}\n",
       "</style>\n",
       "<small>shape: (6, 4)</small><table border=\"1\" class=\"dataframe\"><thead><tr><th>val</th><th>mean</th><th>interpolate</th><th>nearest</th></tr><tr><td>f64</td><td>f64</td><td>f64</td><td>f64</td></tr></thead><tbody><tr><td>-1.1</td><td>-1.1</td><td>-1.1</td><td>-1.1</td></tr><tr><td>0.0</td><td>0.0</td><td>0.0</td><td>0.0</td></tr><tr><td>2.3</td><td>2.3</td><td>2.3</td><td>2.3</td></tr><tr><td>null</td><td>2.78</td><td>4.0</td><td>5.7</td></tr><tr><td>5.7</td><td>5.7</td><td>5.7</td><td>5.7</td></tr><tr><td>7.0</td><td>7.0</td><td>7.0</td><td>7.0</td></tr></tbody></table></div>"
      ],
      "text/plain": [
       "shape: (6, 4)\n",
       "+------+------+-------------+---------+\n",
       "| val  | mean | interpolate | nearest |\n",
       "| ---  | ---  | ---         | ---     |\n",
       "| f64  | f64  | f64         | f64     |\n",
       "+=====================================+\n",
       "| -1.1 | -1.1 | -1.1        | -1.1    |\n",
       "| 0.0  | 0.0  | 0.0         | 0.0     |\n",
       "| 2.3  | 2.3  | 2.3         | 2.3     |\n",
       "| null | 2.78 | 4.0         | 5.7     |\n",
       "| 5.7  | 5.7  | 5.7         | 5.7     |\n",
       "| 7.0  | 7.0  | 7.0         | 7.0     |\n",
       "+------+------+-------------+---------+"
      ]
     },
     "execution_count": 89,
     "metadata": {},
     "output_type": "execute_result"
    }
   ],
   "source": [
    "(\n",
    "    missing_df\n",
    "    .with_columns(\n",
    "        mean=pl.col('val').fill_null(pl.col('val').mean()),\n",
    "        interpolate=pl.col('val').interpolate(),\n",
    "        nearest=pl.col('val').interpolate('nearest')\n",
    "    )\n",
    ")"
   ]
  },
  {
   "cell_type": "markdown",
   "id": "21c09cc2-8d0d-472f-89b0-8e2e830114fd",
   "metadata": {},
   "source": [
    "Experiment with saving to a CSV and reading it again."
   ]
  },
  {
   "cell_type": "code",
   "execution_count": 90,
   "id": "3e899c91-62a2-4f32-95f2-e802d23c9c95",
   "metadata": {},
   "outputs": [],
   "source": [
    "(\n",
    "    missing_df\n",
    "    .with_columns(\n",
    "        val2=pl.col('val')/pl.col('val')\n",
    "    )\n",
    "    .write_csv('./data/missing.csv')\n",
    ")"
   ]
  },
  {
   "cell_type": "code",
   "execution_count": 91,
   "id": "d32d03c4-79d6-4e01-abb7-04a889f8ab4e",
   "metadata": {},
   "outputs": [
    {
     "name": "stdout",
     "output_type": "stream",
     "text": [
      "Object `./data/missing.csv` not found.\n"
     ]
    },
    {
     "data": {
      "text/plain": [
       "\u001b[0mval\u001b[0m\u001b[0;34m,\u001b[0m\u001b[0mval2\u001b[0m\u001b[0;34m\u001b[0m\n",
       "\u001b[0;34m\u001b[0m\u001b[0;34m-\u001b[0m\u001b[0;36m1.1\u001b[0m\u001b[0;34m,\u001b[0m\u001b[0;36m1.0\u001b[0m\u001b[0;34m\u001b[0m\n",
       "\u001b[0;34m\u001b[0m\u001b[0;36m0.0\u001b[0m\u001b[0;34m,\u001b[0m\u001b[0mNaN\u001b[0m\u001b[0;34m\u001b[0m\n",
       "\u001b[0;34m\u001b[0m\u001b[0;36m2.3\u001b[0m\u001b[0;34m,\u001b[0m\u001b[0;36m1.0\u001b[0m\u001b[0;34m\u001b[0m\n",
       "\u001b[0;34m\u001b[0m\u001b[0;34m,\u001b[0m\u001b[0;34m\u001b[0m\n",
       "\u001b[0;34m\u001b[0m\u001b[0;36m5.7\u001b[0m\u001b[0;34m,\u001b[0m\u001b[0;36m1.0\u001b[0m\u001b[0;34m\u001b[0m\n",
       "\u001b[0;34m\u001b[0m\u001b[0;36m7.0\u001b[0m\u001b[0;34m,\u001b[0m\u001b[0;36m1.0\u001b[0m\u001b[0;34m\u001b[0m\u001b[0;34m\u001b[0m\u001b[0m\n"
      ]
     },
     "metadata": {},
     "output_type": "display_data"
    }
   ],
   "source": [
    "%pfile ./data/missing.csv"
   ]
  },
  {
   "cell_type": "code",
   "execution_count": 92,
   "id": "6b6cb2cb-8744-47dd-ab7b-1565b674c5da",
   "metadata": {},
   "outputs": [
    {
     "name": "stderr",
     "output_type": "stream",
     "text": [
      "file < 128 rows, no statistics determined\n",
      "no. of chunks: 1 processed by: 1 threads.\n"
     ]
    },
    {
     "data": {
      "text/html": [
       "<div><style>\n",
       ".dataframe > thead > tr,\n",
       ".dataframe > tbody > tr {\n",
       "  text-align: right;\n",
       "  white-space: pre-wrap;\n",
       "}\n",
       "</style>\n",
       "<small>shape: (6, 2)</small><table border=\"1\" class=\"dataframe\"><thead><tr><th>val</th><th>val2</th></tr><tr><td>f64</td><td>f64</td></tr></thead><tbody><tr><td>-1.1</td><td>1.0</td></tr><tr><td>0.0</td><td>NaN</td></tr><tr><td>2.3</td><td>1.0</td></tr><tr><td>null</td><td>null</td></tr><tr><td>5.7</td><td>1.0</td></tr><tr><td>7.0</td><td>1.0</td></tr></tbody></table></div>"
      ],
      "text/plain": [
       "shape: (6, 2)\n",
       "+------+------+\n",
       "| val  | val2 |\n",
       "| ---  | ---  |\n",
       "| f64  | f64  |\n",
       "+=============+\n",
       "| -1.1 | 1.0  |\n",
       "| 0.0  | NaN  |\n",
       "| 2.3  | 1.0  |\n",
       "| null | null |\n",
       "| 5.7  | 1.0  |\n",
       "| 7.0  | 1.0  |\n",
       "+------+------+"
      ]
     },
     "execution_count": 92,
     "metadata": {},
     "output_type": "execute_result"
    }
   ],
   "source": [
    "pl.read_csv('./data/missing.csv')"
   ]
  },
  {
   "cell_type": "markdown",
   "id": "86e81b2d-a868-4be4-8ea9-6e4318a040b4",
   "metadata": {},
   "source": [
    "* Polars is able to parse this correctly.\n",
    "* It can distinguish between NaN and null values.\n",
    "* If we read this with Pandas, it will convert both of the values to Nan.\n",
    "\n",
    "As a test, we can convert the dataframe to Pandas with `.to_pandas()`"
   ]
  },
  {
   "cell_type": "code",
   "execution_count": 93,
   "id": "2753e5d5-e488-4459-9847-e83cbe1246ef",
   "metadata": {},
   "outputs": [
    {
     "data": {
      "text/html": [
       "<div>\n",
       "<style scoped>\n",
       "    .dataframe tbody tr th:only-of-type {\n",
       "        vertical-align: middle;\n",
       "    }\n",
       "\n",
       "    .dataframe tbody tr th {\n",
       "        vertical-align: top;\n",
       "    }\n",
       "\n",
       "    .dataframe thead th {\n",
       "        text-align: right;\n",
       "    }\n",
       "</style>\n",
       "<table border=\"1\" class=\"dataframe\">\n",
       "  <thead>\n",
       "    <tr style=\"text-align: right;\">\n",
       "      <th></th>\n",
       "      <th>val</th>\n",
       "      <th>val2</th>\n",
       "    </tr>\n",
       "  </thead>\n",
       "  <tbody>\n",
       "    <tr>\n",
       "      <th>0</th>\n",
       "      <td>-1.1</td>\n",
       "      <td>1.0</td>\n",
       "    </tr>\n",
       "    <tr>\n",
       "      <th>1</th>\n",
       "      <td>0.0</td>\n",
       "      <td>NaN</td>\n",
       "    </tr>\n",
       "    <tr>\n",
       "      <th>2</th>\n",
       "      <td>2.3</td>\n",
       "      <td>1.0</td>\n",
       "    </tr>\n",
       "    <tr>\n",
       "      <th>3</th>\n",
       "      <td>NaN</td>\n",
       "      <td>NaN</td>\n",
       "    </tr>\n",
       "    <tr>\n",
       "      <th>4</th>\n",
       "      <td>5.7</td>\n",
       "      <td>1.0</td>\n",
       "    </tr>\n",
       "    <tr>\n",
       "      <th>5</th>\n",
       "      <td>7.0</td>\n",
       "      <td>1.0</td>\n",
       "    </tr>\n",
       "  </tbody>\n",
       "</table>\n",
       "</div>"
      ],
      "text/plain": [
       "   val  val2\n",
       "0 -1.1   1.0\n",
       "1  0.0   NaN\n",
       "2  2.3   1.0\n",
       "3  NaN   NaN\n",
       "4  5.7   1.0\n",
       "5  7.0   1.0"
      ]
     },
     "execution_count": 93,
     "metadata": {},
     "output_type": "execute_result"
    }
   ],
   "source": [
    "# Pandas\n",
    "(\n",
    "    missing_df\n",
    "    .with_columns(val2=pl.col('val')/pl.col('val'))\n",
    "    .to_pandas()\n",
    ")"
   ]
  },
  {
   "cell_type": "code",
   "execution_count": 94,
   "id": "a0e4c3ae-1837-46b2-9f2b-0580de6aaa16",
   "metadata": {},
   "outputs": [
    {
     "data": {
      "text/html": [
       "<div>\n",
       "<style scoped>\n",
       "    .dataframe tbody tr th:only-of-type {\n",
       "        vertical-align: middle;\n",
       "    }\n",
       "\n",
       "    .dataframe tbody tr th {\n",
       "        vertical-align: top;\n",
       "    }\n",
       "\n",
       "    .dataframe thead th {\n",
       "        text-align: right;\n",
       "    }\n",
       "</style>\n",
       "<table border=\"1\" class=\"dataframe\">\n",
       "  <thead>\n",
       "    <tr style=\"text-align: right;\">\n",
       "      <th></th>\n",
       "      <th>val</th>\n",
       "      <th>val2</th>\n",
       "    </tr>\n",
       "  </thead>\n",
       "  <tbody>\n",
       "    <tr>\n",
       "      <th>0</th>\n",
       "      <td>-1.1</td>\n",
       "      <td>1.0</td>\n",
       "    </tr>\n",
       "    <tr>\n",
       "      <th>1</th>\n",
       "      <td>0.0</td>\n",
       "      <td>NaN</td>\n",
       "    </tr>\n",
       "    <tr>\n",
       "      <th>2</th>\n",
       "      <td>2.3</td>\n",
       "      <td>1.0</td>\n",
       "    </tr>\n",
       "    <tr>\n",
       "      <th>3</th>\n",
       "      <td>NaN</td>\n",
       "      <td>NaN</td>\n",
       "    </tr>\n",
       "    <tr>\n",
       "      <th>4</th>\n",
       "      <td>5.7</td>\n",
       "      <td>1.0</td>\n",
       "    </tr>\n",
       "    <tr>\n",
       "      <th>5</th>\n",
       "      <td>7.0</td>\n",
       "      <td>1.0</td>\n",
       "    </tr>\n",
       "  </tbody>\n",
       "</table>\n",
       "</div>"
      ],
      "text/plain": [
       "   val  val2\n",
       "0 -1.1   1.0\n",
       "1  0.0   NaN\n",
       "2  2.3   1.0\n",
       "3  NaN   NaN\n",
       "4  5.7   1.0\n",
       "5  7.0   1.0"
      ]
     },
     "execution_count": 94,
     "metadata": {},
     "output_type": "execute_result"
    }
   ],
   "source": [
    "# Pandas\n",
    "pd.read_csv('./data/missing.csv')"
   ]
  },
  {
   "cell_type": "markdown",
   "id": "c1ea5d9f-baca-4b97-bcc2-cea2aada7671",
   "metadata": {},
   "source": [
    "---\n",
    "# 2.22 Third-Party Libraries and Missing Values\n",
    "[back to Top](#Top)\n",
    "\n",
    "* Explore how libraries like XGBoost and NumPy deal with Polars data that has NaN and null values.\n",
    "* We will use the XGBoost library to make a regression model.\n",
    "* We train it on the synthetic data that has both NaN and null values.\n",
    "* XGBoost supports missing values in Pandas data."
   ]
  },
  {
   "cell_type": "code",
   "execution_count": 95,
   "id": "cd5b1454-bc6d-4e1e-bac2-e414c7eda26d",
   "metadata": {},
   "outputs": [
    {
     "data": {
      "text/html": [
       "<div><style>\n",
       ".dataframe > thead > tr,\n",
       ".dataframe > tbody > tr {\n",
       "  text-align: right;\n",
       "  white-space: pre-wrap;\n",
       "}\n",
       "</style>\n",
       "<small>shape: (6, 2)</small><table border=\"1\" class=\"dataframe\"><thead><tr><th>val</th><th>val2</th></tr><tr><td>f64</td><td>f64</td></tr></thead><tbody><tr><td>-1.1</td><td>1.0</td></tr><tr><td>0.0</td><td>NaN</td></tr><tr><td>2.3</td><td>1.0</td></tr><tr><td>null</td><td>null</td></tr><tr><td>5.7</td><td>1.0</td></tr><tr><td>7.0</td><td>1.0</td></tr></tbody></table></div>"
      ],
      "text/plain": [
       "shape: (6, 2)\n",
       "+------+------+\n",
       "| val  | val2 |\n",
       "| ---  | ---  |\n",
       "| f64  | f64  |\n",
       "+=============+\n",
       "| -1.1 | 1.0  |\n",
       "| 0.0  | NaN  |\n",
       "| 2.3  | 1.0  |\n",
       "| null | null |\n",
       "| 5.7  | 1.0  |\n",
       "| 7.0  | 1.0  |\n",
       "+------+------+"
      ]
     },
     "execution_count": 95,
     "metadata": {},
     "output_type": "execute_result"
    }
   ],
   "source": [
    "X = (\n",
    "    missing_df\n",
    "    .with_columns(val2=pl.col('val')/pl.col('val'))\n",
    ")\n",
    "X"
   ]
  },
  {
   "cell_type": "markdown",
   "id": "84cd06c9-2e53-474a-b433-969868fe4f9d",
   "metadata": {},
   "source": [
    "Labels for the regression model."
   ]
  },
  {
   "cell_type": "code",
   "execution_count": 96,
   "id": "8adc8962-b800-4e72-b555-87870b6b6b6e",
   "metadata": {},
   "outputs": [
    {
     "data": {
      "text/html": [
       "<div><style>\n",
       ".dataframe > thead > tr,\n",
       ".dataframe > tbody > tr {\n",
       "  text-align: right;\n",
       "  white-space: pre-wrap;\n",
       "}\n",
       "</style>\n",
       "<small>shape: (6,)</small><table border=\"1\" class=\"dataframe\"><thead><tr><th></th></tr><tr><td>i64</td></tr></thead><tbody><tr><td>0</td></tr><tr><td>1</td></tr><tr><td>2</td></tr><tr><td>3</td></tr><tr><td>4</td></tr><tr><td>5</td></tr></tbody></table></div>"
      ],
      "text/plain": [
       "shape: (6,)\n",
       "Series: '' [i64]\n",
       "[\n",
       "\t0\n",
       "\t1\n",
       "\t2\n",
       "\t3\n",
       "\t4\n",
       "\t5\n",
       "]"
      ]
     },
     "execution_count": 96,
     "metadata": {},
     "output_type": "execute_result"
    }
   ],
   "source": [
    "y = pl.Series(range(6))\n",
    "y"
   ]
  },
  {
   "cell_type": "markdown",
   "id": "2d830fb4-12db-4268-9bc1-9249b1edd870",
   "metadata": {},
   "source": [
    "Train the model."
   ]
  },
  {
   "cell_type": "code",
   "execution_count": 97,
   "id": "d2980000-be66-4b44-8798-a3affaa19409",
   "metadata": {},
   "outputs": [
    {
     "data": {
      "text/html": [
       "<style>#sk-container-id-1 {\n",
       "  /* Definition of color scheme common for light and dark mode */\n",
       "  --sklearn-color-text: black;\n",
       "  --sklearn-color-line: gray;\n",
       "  /* Definition of color scheme for unfitted estimators */\n",
       "  --sklearn-color-unfitted-level-0: #fff5e6;\n",
       "  --sklearn-color-unfitted-level-1: #f6e4d2;\n",
       "  --sklearn-color-unfitted-level-2: #ffe0b3;\n",
       "  --sklearn-color-unfitted-level-3: chocolate;\n",
       "  /* Definition of color scheme for fitted estimators */\n",
       "  --sklearn-color-fitted-level-0: #f0f8ff;\n",
       "  --sklearn-color-fitted-level-1: #d4ebff;\n",
       "  --sklearn-color-fitted-level-2: #b3dbfd;\n",
       "  --sklearn-color-fitted-level-3: cornflowerblue;\n",
       "\n",
       "  /* Specific color for light theme */\n",
       "  --sklearn-color-text-on-default-background: var(--sg-text-color, var(--theme-code-foreground, var(--jp-content-font-color1, black)));\n",
       "  --sklearn-color-background: var(--sg-background-color, var(--theme-background, var(--jp-layout-color0, white)));\n",
       "  --sklearn-color-border-box: var(--sg-text-color, var(--theme-code-foreground, var(--jp-content-font-color1, black)));\n",
       "  --sklearn-color-icon: #696969;\n",
       "\n",
       "  @media (prefers-color-scheme: dark) {\n",
       "    /* Redefinition of color scheme for dark theme */\n",
       "    --sklearn-color-text-on-default-background: var(--sg-text-color, var(--theme-code-foreground, var(--jp-content-font-color1, white)));\n",
       "    --sklearn-color-background: var(--sg-background-color, var(--theme-background, var(--jp-layout-color0, #111)));\n",
       "    --sklearn-color-border-box: var(--sg-text-color, var(--theme-code-foreground, var(--jp-content-font-color1, white)));\n",
       "    --sklearn-color-icon: #878787;\n",
       "  }\n",
       "}\n",
       "\n",
       "#sk-container-id-1 {\n",
       "  color: var(--sklearn-color-text);\n",
       "}\n",
       "\n",
       "#sk-container-id-1 pre {\n",
       "  padding: 0;\n",
       "}\n",
       "\n",
       "#sk-container-id-1 input.sk-hidden--visually {\n",
       "  border: 0;\n",
       "  clip: rect(1px 1px 1px 1px);\n",
       "  clip: rect(1px, 1px, 1px, 1px);\n",
       "  height: 1px;\n",
       "  margin: -1px;\n",
       "  overflow: hidden;\n",
       "  padding: 0;\n",
       "  position: absolute;\n",
       "  width: 1px;\n",
       "}\n",
       "\n",
       "#sk-container-id-1 div.sk-dashed-wrapped {\n",
       "  border: 1px dashed var(--sklearn-color-line);\n",
       "  margin: 0 0.4em 0.5em 0.4em;\n",
       "  box-sizing: border-box;\n",
       "  padding-bottom: 0.4em;\n",
       "  background-color: var(--sklearn-color-background);\n",
       "}\n",
       "\n",
       "#sk-container-id-1 div.sk-container {\n",
       "  /* jupyter's `normalize.less` sets `[hidden] { display: none; }`\n",
       "     but bootstrap.min.css set `[hidden] { display: none !important; }`\n",
       "     so we also need the `!important` here to be able to override the\n",
       "     default hidden behavior on the sphinx rendered scikit-learn.org.\n",
       "     See: https://github.com/scikit-learn/scikit-learn/issues/21755 */\n",
       "  display: inline-block !important;\n",
       "  position: relative;\n",
       "}\n",
       "\n",
       "#sk-container-id-1 div.sk-text-repr-fallback {\n",
       "  display: none;\n",
       "}\n",
       "\n",
       "div.sk-parallel-item,\n",
       "div.sk-serial,\n",
       "div.sk-item {\n",
       "  /* draw centered vertical line to link estimators */\n",
       "  background-image: linear-gradient(var(--sklearn-color-text-on-default-background), var(--sklearn-color-text-on-default-background));\n",
       "  background-size: 2px 100%;\n",
       "  background-repeat: no-repeat;\n",
       "  background-position: center center;\n",
       "}\n",
       "\n",
       "/* Parallel-specific style estimator block */\n",
       "\n",
       "#sk-container-id-1 div.sk-parallel-item::after {\n",
       "  content: \"\";\n",
       "  width: 100%;\n",
       "  border-bottom: 2px solid var(--sklearn-color-text-on-default-background);\n",
       "  flex-grow: 1;\n",
       "}\n",
       "\n",
       "#sk-container-id-1 div.sk-parallel {\n",
       "  display: flex;\n",
       "  align-items: stretch;\n",
       "  justify-content: center;\n",
       "  background-color: var(--sklearn-color-background);\n",
       "  position: relative;\n",
       "}\n",
       "\n",
       "#sk-container-id-1 div.sk-parallel-item {\n",
       "  display: flex;\n",
       "  flex-direction: column;\n",
       "}\n",
       "\n",
       "#sk-container-id-1 div.sk-parallel-item:first-child::after {\n",
       "  align-self: flex-end;\n",
       "  width: 50%;\n",
       "}\n",
       "\n",
       "#sk-container-id-1 div.sk-parallel-item:last-child::after {\n",
       "  align-self: flex-start;\n",
       "  width: 50%;\n",
       "}\n",
       "\n",
       "#sk-container-id-1 div.sk-parallel-item:only-child::after {\n",
       "  width: 0;\n",
       "}\n",
       "\n",
       "/* Serial-specific style estimator block */\n",
       "\n",
       "#sk-container-id-1 div.sk-serial {\n",
       "  display: flex;\n",
       "  flex-direction: column;\n",
       "  align-items: center;\n",
       "  background-color: var(--sklearn-color-background);\n",
       "  padding-right: 1em;\n",
       "  padding-left: 1em;\n",
       "}\n",
       "\n",
       "\n",
       "/* Toggleable style: style used for estimator/Pipeline/ColumnTransformer box that is\n",
       "clickable and can be expanded/collapsed.\n",
       "- Pipeline and ColumnTransformer use this feature and define the default style\n",
       "- Estimators will overwrite some part of the style using the `sk-estimator` class\n",
       "*/\n",
       "\n",
       "/* Pipeline and ColumnTransformer style (default) */\n",
       "\n",
       "#sk-container-id-1 div.sk-toggleable {\n",
       "  /* Default theme specific background. It is overwritten whether we have a\n",
       "  specific estimator or a Pipeline/ColumnTransformer */\n",
       "  background-color: var(--sklearn-color-background);\n",
       "}\n",
       "\n",
       "/* Toggleable label */\n",
       "#sk-container-id-1 label.sk-toggleable__label {\n",
       "  cursor: pointer;\n",
       "  display: block;\n",
       "  width: 100%;\n",
       "  margin-bottom: 0;\n",
       "  padding: 0.5em;\n",
       "  box-sizing: border-box;\n",
       "  text-align: center;\n",
       "}\n",
       "\n",
       "#sk-container-id-1 label.sk-toggleable__label-arrow:before {\n",
       "  /* Arrow on the left of the label */\n",
       "  content: \"▸\";\n",
       "  float: left;\n",
       "  margin-right: 0.25em;\n",
       "  color: var(--sklearn-color-icon);\n",
       "}\n",
       "\n",
       "#sk-container-id-1 label.sk-toggleable__label-arrow:hover:before {\n",
       "  color: var(--sklearn-color-text);\n",
       "}\n",
       "\n",
       "/* Toggleable content - dropdown */\n",
       "\n",
       "#sk-container-id-1 div.sk-toggleable__content {\n",
       "  max-height: 0;\n",
       "  max-width: 0;\n",
       "  overflow: hidden;\n",
       "  text-align: left;\n",
       "  /* unfitted */\n",
       "  background-color: var(--sklearn-color-unfitted-level-0);\n",
       "}\n",
       "\n",
       "#sk-container-id-1 div.sk-toggleable__content.fitted {\n",
       "  /* fitted */\n",
       "  background-color: var(--sklearn-color-fitted-level-0);\n",
       "}\n",
       "\n",
       "#sk-container-id-1 div.sk-toggleable__content pre {\n",
       "  margin: 0.2em;\n",
       "  border-radius: 0.25em;\n",
       "  color: var(--sklearn-color-text);\n",
       "  /* unfitted */\n",
       "  background-color: var(--sklearn-color-unfitted-level-0);\n",
       "}\n",
       "\n",
       "#sk-container-id-1 div.sk-toggleable__content.fitted pre {\n",
       "  /* unfitted */\n",
       "  background-color: var(--sklearn-color-fitted-level-0);\n",
       "}\n",
       "\n",
       "#sk-container-id-1 input.sk-toggleable__control:checked~div.sk-toggleable__content {\n",
       "  /* Expand drop-down */\n",
       "  max-height: 200px;\n",
       "  max-width: 100%;\n",
       "  overflow: auto;\n",
       "}\n",
       "\n",
       "#sk-container-id-1 input.sk-toggleable__control:checked~label.sk-toggleable__label-arrow:before {\n",
       "  content: \"▾\";\n",
       "}\n",
       "\n",
       "/* Pipeline/ColumnTransformer-specific style */\n",
       "\n",
       "#sk-container-id-1 div.sk-label input.sk-toggleable__control:checked~label.sk-toggleable__label {\n",
       "  color: var(--sklearn-color-text);\n",
       "  background-color: var(--sklearn-color-unfitted-level-2);\n",
       "}\n",
       "\n",
       "#sk-container-id-1 div.sk-label.fitted input.sk-toggleable__control:checked~label.sk-toggleable__label {\n",
       "  background-color: var(--sklearn-color-fitted-level-2);\n",
       "}\n",
       "\n",
       "/* Estimator-specific style */\n",
       "\n",
       "/* Colorize estimator box */\n",
       "#sk-container-id-1 div.sk-estimator input.sk-toggleable__control:checked~label.sk-toggleable__label {\n",
       "  /* unfitted */\n",
       "  background-color: var(--sklearn-color-unfitted-level-2);\n",
       "}\n",
       "\n",
       "#sk-container-id-1 div.sk-estimator.fitted input.sk-toggleable__control:checked~label.sk-toggleable__label {\n",
       "  /* fitted */\n",
       "  background-color: var(--sklearn-color-fitted-level-2);\n",
       "}\n",
       "\n",
       "#sk-container-id-1 div.sk-label label.sk-toggleable__label,\n",
       "#sk-container-id-1 div.sk-label label {\n",
       "  /* The background is the default theme color */\n",
       "  color: var(--sklearn-color-text-on-default-background);\n",
       "}\n",
       "\n",
       "/* On hover, darken the color of the background */\n",
       "#sk-container-id-1 div.sk-label:hover label.sk-toggleable__label {\n",
       "  color: var(--sklearn-color-text);\n",
       "  background-color: var(--sklearn-color-unfitted-level-2);\n",
       "}\n",
       "\n",
       "/* Label box, darken color on hover, fitted */\n",
       "#sk-container-id-1 div.sk-label.fitted:hover label.sk-toggleable__label.fitted {\n",
       "  color: var(--sklearn-color-text);\n",
       "  background-color: var(--sklearn-color-fitted-level-2);\n",
       "}\n",
       "\n",
       "/* Estimator label */\n",
       "\n",
       "#sk-container-id-1 div.sk-label label {\n",
       "  font-family: monospace;\n",
       "  font-weight: bold;\n",
       "  display: inline-block;\n",
       "  line-height: 1.2em;\n",
       "}\n",
       "\n",
       "#sk-container-id-1 div.sk-label-container {\n",
       "  text-align: center;\n",
       "}\n",
       "\n",
       "/* Estimator-specific */\n",
       "#sk-container-id-1 div.sk-estimator {\n",
       "  font-family: monospace;\n",
       "  border: 1px dotted var(--sklearn-color-border-box);\n",
       "  border-radius: 0.25em;\n",
       "  box-sizing: border-box;\n",
       "  margin-bottom: 0.5em;\n",
       "  /* unfitted */\n",
       "  background-color: var(--sklearn-color-unfitted-level-0);\n",
       "}\n",
       "\n",
       "#sk-container-id-1 div.sk-estimator.fitted {\n",
       "  /* fitted */\n",
       "  background-color: var(--sklearn-color-fitted-level-0);\n",
       "}\n",
       "\n",
       "/* on hover */\n",
       "#sk-container-id-1 div.sk-estimator:hover {\n",
       "  /* unfitted */\n",
       "  background-color: var(--sklearn-color-unfitted-level-2);\n",
       "}\n",
       "\n",
       "#sk-container-id-1 div.sk-estimator.fitted:hover {\n",
       "  /* fitted */\n",
       "  background-color: var(--sklearn-color-fitted-level-2);\n",
       "}\n",
       "\n",
       "/* Specification for estimator info (e.g. \"i\" and \"?\") */\n",
       "\n",
       "/* Common style for \"i\" and \"?\" */\n",
       "\n",
       ".sk-estimator-doc-link,\n",
       "a:link.sk-estimator-doc-link,\n",
       "a:visited.sk-estimator-doc-link {\n",
       "  float: right;\n",
       "  font-size: smaller;\n",
       "  line-height: 1em;\n",
       "  font-family: monospace;\n",
       "  background-color: var(--sklearn-color-background);\n",
       "  border-radius: 1em;\n",
       "  height: 1em;\n",
       "  width: 1em;\n",
       "  text-decoration: none !important;\n",
       "  margin-left: 1ex;\n",
       "  /* unfitted */\n",
       "  border: var(--sklearn-color-unfitted-level-1) 1pt solid;\n",
       "  color: var(--sklearn-color-unfitted-level-1);\n",
       "}\n",
       "\n",
       ".sk-estimator-doc-link.fitted,\n",
       "a:link.sk-estimator-doc-link.fitted,\n",
       "a:visited.sk-estimator-doc-link.fitted {\n",
       "  /* fitted */\n",
       "  border: var(--sklearn-color-fitted-level-1) 1pt solid;\n",
       "  color: var(--sklearn-color-fitted-level-1);\n",
       "}\n",
       "\n",
       "/* On hover */\n",
       "div.sk-estimator:hover .sk-estimator-doc-link:hover,\n",
       ".sk-estimator-doc-link:hover,\n",
       "div.sk-label-container:hover .sk-estimator-doc-link:hover,\n",
       ".sk-estimator-doc-link:hover {\n",
       "  /* unfitted */\n",
       "  background-color: var(--sklearn-color-unfitted-level-3);\n",
       "  color: var(--sklearn-color-background);\n",
       "  text-decoration: none;\n",
       "}\n",
       "\n",
       "div.sk-estimator.fitted:hover .sk-estimator-doc-link.fitted:hover,\n",
       ".sk-estimator-doc-link.fitted:hover,\n",
       "div.sk-label-container:hover .sk-estimator-doc-link.fitted:hover,\n",
       ".sk-estimator-doc-link.fitted:hover {\n",
       "  /* fitted */\n",
       "  background-color: var(--sklearn-color-fitted-level-3);\n",
       "  color: var(--sklearn-color-background);\n",
       "  text-decoration: none;\n",
       "}\n",
       "\n",
       "/* Span, style for the box shown on hovering the info icon */\n",
       ".sk-estimator-doc-link span {\n",
       "  display: none;\n",
       "  z-index: 9999;\n",
       "  position: relative;\n",
       "  font-weight: normal;\n",
       "  right: .2ex;\n",
       "  padding: .5ex;\n",
       "  margin: .5ex;\n",
       "  width: min-content;\n",
       "  min-width: 20ex;\n",
       "  max-width: 50ex;\n",
       "  color: var(--sklearn-color-text);\n",
       "  box-shadow: 2pt 2pt 4pt #999;\n",
       "  /* unfitted */\n",
       "  background: var(--sklearn-color-unfitted-level-0);\n",
       "  border: .5pt solid var(--sklearn-color-unfitted-level-3);\n",
       "}\n",
       "\n",
       ".sk-estimator-doc-link.fitted span {\n",
       "  /* fitted */\n",
       "  background: var(--sklearn-color-fitted-level-0);\n",
       "  border: var(--sklearn-color-fitted-level-3);\n",
       "}\n",
       "\n",
       ".sk-estimator-doc-link:hover span {\n",
       "  display: block;\n",
       "}\n",
       "\n",
       "/* \"?\"-specific style due to the `<a>` HTML tag */\n",
       "\n",
       "#sk-container-id-1 a.estimator_doc_link {\n",
       "  float: right;\n",
       "  font-size: 1rem;\n",
       "  line-height: 1em;\n",
       "  font-family: monospace;\n",
       "  background-color: var(--sklearn-color-background);\n",
       "  border-radius: 1rem;\n",
       "  height: 1rem;\n",
       "  width: 1rem;\n",
       "  text-decoration: none;\n",
       "  /* unfitted */\n",
       "  color: var(--sklearn-color-unfitted-level-1);\n",
       "  border: var(--sklearn-color-unfitted-level-1) 1pt solid;\n",
       "}\n",
       "\n",
       "#sk-container-id-1 a.estimator_doc_link.fitted {\n",
       "  /* fitted */\n",
       "  border: var(--sklearn-color-fitted-level-1) 1pt solid;\n",
       "  color: var(--sklearn-color-fitted-level-1);\n",
       "}\n",
       "\n",
       "/* On hover */\n",
       "#sk-container-id-1 a.estimator_doc_link:hover {\n",
       "  /* unfitted */\n",
       "  background-color: var(--sklearn-color-unfitted-level-3);\n",
       "  color: var(--sklearn-color-background);\n",
       "  text-decoration: none;\n",
       "}\n",
       "\n",
       "#sk-container-id-1 a.estimator_doc_link.fitted:hover {\n",
       "  /* fitted */\n",
       "  background-color: var(--sklearn-color-fitted-level-3);\n",
       "}\n",
       "</style><div id=\"sk-container-id-1\" class=\"sk-top-container\"><div class=\"sk-text-repr-fallback\"><pre>XGBRegressor(base_score=None, booster=None, callbacks=None,\n",
       "             colsample_bylevel=None, colsample_bynode=None,\n",
       "             colsample_bytree=None, device=None, early_stopping_rounds=None,\n",
       "             enable_categorical=False, eval_metric=None, feature_types=None,\n",
       "             gamma=None, grow_policy=None, importance_type=None,\n",
       "             interaction_constraints=None, learning_rate=None, max_bin=None,\n",
       "             max_cat_threshold=None, max_cat_to_onehot=None,\n",
       "             max_delta_step=None, max_depth=None, max_leaves=None,\n",
       "             min_child_weight=None, missing=nan, monotone_constraints=None,\n",
       "             multi_strategy=None, n_estimators=None, n_jobs=None,\n",
       "             num_parallel_tree=None, random_state=None, ...)</pre><b>In a Jupyter environment, please rerun this cell to show the HTML representation or trust the notebook. <br />On GitHub, the HTML representation is unable to render, please try loading this page with nbviewer.org.</b></div><div class=\"sk-container\" hidden><div class=\"sk-item\"><div class=\"sk-estimator fitted sk-toggleable\"><input class=\"sk-toggleable__control sk-hidden--visually\" id=\"sk-estimator-id-1\" type=\"checkbox\" checked><label for=\"sk-estimator-id-1\" class=\"sk-toggleable__label fitted sk-toggleable__label-arrow fitted\">&nbsp;XGBRegressor<span class=\"sk-estimator-doc-link fitted\">i<span>Fitted</span></span></label><div class=\"sk-toggleable__content fitted\"><pre>XGBRegressor(base_score=None, booster=None, callbacks=None,\n",
       "             colsample_bylevel=None, colsample_bynode=None,\n",
       "             colsample_bytree=None, device=None, early_stopping_rounds=None,\n",
       "             enable_categorical=False, eval_metric=None, feature_types=None,\n",
       "             gamma=None, grow_policy=None, importance_type=None,\n",
       "             interaction_constraints=None, learning_rate=None, max_bin=None,\n",
       "             max_cat_threshold=None, max_cat_to_onehot=None,\n",
       "             max_delta_step=None, max_depth=None, max_leaves=None,\n",
       "             min_child_weight=None, missing=nan, monotone_constraints=None,\n",
       "             multi_strategy=None, n_estimators=None, n_jobs=None,\n",
       "             num_parallel_tree=None, random_state=None, ...)</pre></div> </div></div></div></div>"
      ],
      "text/plain": [
       "XGBRegressor(base_score=None, booster=None, callbacks=None,\n",
       "             colsample_bylevel=None, colsample_bynode=None,\n",
       "             colsample_bytree=None, device=None, early_stopping_rounds=None,\n",
       "             enable_categorical=False, eval_metric=None, feature_types=None,\n",
       "             gamma=None, grow_policy=None, importance_type=None,\n",
       "             interaction_constraints=None, learning_rate=None, max_bin=None,\n",
       "             max_cat_threshold=None, max_cat_to_onehot=None,\n",
       "             max_delta_step=None, max_depth=None, max_leaves=None,\n",
       "             min_child_weight=None, missing=nan, monotone_constraints=None,\n",
       "             multi_strategy=None, n_estimators=None, n_jobs=None,\n",
       "             num_parallel_tree=None, random_state=None, ...)"
      ]
     },
     "execution_count": 97,
     "metadata": {},
     "output_type": "execute_result"
    }
   ],
   "source": [
    "import xgboost as xgb\n",
    "\n",
    "reg = xgb.XGBRegressor()\n",
    "reg.fit(X, y)"
   ]
  },
  {
   "cell_type": "markdown",
   "id": "2b3d621a-92aa-4e50-b8cd-ef13a0226226",
   "metadata": {},
   "source": [
    "From the above, the model trained with no problems.\n",
    "\n",
    "Make a prediction using the training data."
   ]
  },
  {
   "cell_type": "code",
   "execution_count": 98,
   "id": "0e4c70d7-5933-4243-a840-4a4942552c24",
   "metadata": {},
   "outputs": [
    {
     "data": {
      "text/plain": [
       "array([1.1198493e-03, 1.0000179e+00, 1.9999869e+00, 3.0000448e+00,\n",
       "       3.9999456e+00, 4.9988852e+00], dtype=float32)"
      ]
     },
     "execution_count": 98,
     "metadata": {},
     "output_type": "execute_result"
    }
   ],
   "source": [
    "reg.predict(X)"
   ]
  },
  {
   "cell_type": "markdown",
   "id": "73631fab-e290-43ea-b3be-95d9ec1cff7c",
   "metadata": {},
   "source": [
    "XGBoost works fine with Polars numeric values. Note that it returns a NumPy array.\n",
    "\n",
    "---\n",
    "\n",
    "Next, we will try the NumPy library.\n",
    "Take the sine of the X variable."
   ]
  },
  {
   "cell_type": "code",
   "execution_count": 99,
   "id": "a1d11092-682f-49b0-96a5-d2cc01d6494f",
   "metadata": {},
   "outputs": [
    {
     "data": {
      "text/plain": [
       "array([[-0.89120736,  0.84147098],\n",
       "       [ 0.        ,         nan],\n",
       "       [ 0.74570521,  0.84147098],\n",
       "       [        nan,         nan],\n",
       "       [-0.55068554,  0.84147098],\n",
       "       [ 0.6569866 ,  0.84147098]])"
      ]
     },
     "execution_count": 99,
     "metadata": {},
     "output_type": "execute_result"
    }
   ],
   "source": [
    "import numpy as np\n",
    "\n",
    "np.sin(X)"
   ]
  },
  {
   "cell_type": "markdown",
   "id": "6ec5ae17-6ac6-47b6-b94d-2ddc39e61a38",
   "metadata": {},
   "source": [
    "**Notes**\n",
    "\n",
    "* NumPy treats the NaN and null as nan. \n",
    "* Polars represents missing values using a bitmask to indicate that values are missing. \n",
    "* NumPy doesn't have this concept."
   ]
  },
  {
   "cell_type": "markdown",
   "id": "3c3cfc2c-0d75-47bd-8a8d-d218f856422e",
   "metadata": {},
   "source": [
    "---\n",
    "# 2.23 Additional Column Selectors and Missing Values\n",
    "[back to Top](#Top)\n",
    "\n",
    "* Examine the numeric rows from the *autos* data where any value is null.\n",
    "* Use the selectors module to select the numeric columns.\n",
    "* It has a numeric function that returns all numeric columns in a Dataframe."
   ]
  },
  {
   "cell_type": "markdown",
   "id": "85be1fe2-e25b-470e-8eb1-8bc85d5849cf",
   "metadata": {},
   "source": [
    "--- \n",
    "## Notes: polars.selectors\n",
    "\n",
    "Polars.selectors is a module in the Polars Python library that provides a convenient and intuitive way to select columns from DataFrame or LazyFrame objects based on various criteria such as column names, data types, or other properties. It unifies and extends the functionality available through the `col()` expression, allowing for more expressive and composable column selection.\n",
    "\n",
    "**Key Features of Polars.selectors**\n",
    "\n",
    "1. **Column Selection by Name**: You can select columns by their names using `cs.by_name()`. For example, `df.select(cs.by_name(\"col1\", \"col2\"))` selects columns named \"col1\" and \"col2\".\n",
    "\n",
    "2. **Column Selection by Data Type**: You can select columns based on their data types using `cs.by_dtype()`. For example, `df.select(cs.by_dtype(pl.Int64))` selects all integer columns, and `df.select(cs.numeric())` selects all numeric columns (integers and floats).\n",
    "\n",
    "3. **Positional Selection**: You can select the first or last column using `cs.first()` and `cs.last()`, respectively.\n",
    "\n",
    "4. **Set Operations**: Selectors support set operations like union (`|`), intersection (`&`), difference (`-`), and complement (`~`). For example, `df.select(cs.numeric() | cs.string())` selects all numeric and string columns.\n",
    "\n",
    "5. **Composability**: Selectors can be combined with expressions and applied to the selected columns. For example, `df.select(cs.numeric().sum())` sums all numeric columns.\n",
    "\n",
    "6. **Expansion**: You can expand a selector to column names with respect to a specific DataFrame, LazyFrame, or schema using `cs.expand_selector()`.\n",
    "\n",
    "## Notes: Rationale for Separating Selectors and Expressions\n",
    "\n",
    "While selectors are a type of expression and use expressions internally, they are kept separate from the `col()` expressions for several reasons:\n",
    "\n",
    "1. **Clarity**: Separating selectors and expressions makes the API more intuitive and easier to understand, especially for new users.\n",
    "\n",
    "2. **Distinct Behavior**: Selectors have distinct behaviors and properties that differ from standard expressions, such as set operations and column expansion.\n",
    "\n",
    "3. **Composability**: Keeping selectors separate allows for better composability and easier extension of the selector functionality.\n",
    "\n",
    "4. **Ambiguity Avoidance**: Merging selectors and expressions could lead to ambiguity and unexpected behavior when dealing with operations that involve both types of objects."
   ]
  },
  {
   "cell_type": "markdown",
   "id": "e4d972ca-941d-4958-a36f-a51f64567f06",
   "metadata": {},
   "source": [
    "---\n",
    "## Notes: Difference between Polars expressions and selectors\n",
    "\n",
    "Selectors and expressions in the Polars library are related but distinct concepts that serve different purposes:\n",
    "\n",
    "**Expressions**\n",
    "\n",
    "Expressions in Polars represent computations or transformations on columns or data. They are created using the `pl.col()` function or by combining other expressions with operators or methods. Expressions can perform various operations like arithmetic, comparisons, string manipulations, etc.\n",
    "\n",
    "Examples:\n",
    "- `pl.col(\"col1\") + pl.col(\"col2\")` (addition of two columns)\n",
    "- `pl.col(\"col1\").str.contains(\"pattern\")` (string operation on a column)\n",
    "\n",
    "**Selectors**\n",
    "\n",
    "Selectors, on the other hand, are used to select or filter columns from a DataFrame or LazyFrame based on certain criteria like column names, data types, or other properties. They provide a more intuitive and composable way to select columns compared to using expressions directly.\n",
    "\n",
    "Key differences between selectors and expressions:\n",
    "\n",
    "1. **Purpose**: Expressions represent computations, while selectors are used for column selection/filtering.\n",
    "\n",
    "2. **Creation**: Expressions are created using `pl.col()` or combining other expressions, while selectors are imported from `polars.selectors` (typically as `cs`).\n",
    "\n",
    "3. **Set Operations**: Selectors support set operations like union (`|`), intersection (`&`), difference (`-`), and complement (`~`) for combining or manipulating selections, which is not directly possible with expressions.\n",
    "\n",
    "4. **Composability**: Selectors can be easily composed and combined with expressions to perform operations on the selected columns. For example, `df.select(cs.numeric().sum())` sums all numeric columns.\n",
    "\n",
    "5. **Expansion**: Selectors can be expanded to column names with respect to a specific DataFrame, LazyFrame, or schema using `cs.expand_selector()`.\n",
    "\n",
    "6. **Separation of Concerns**: Keeping selectors separate from expressions makes the API more intuitive, avoids ambiguity, and allows for better composability and extensibility of the selector functionality.\n",
    "\n",
    "While selectors are based on expressions internally, they provide a higher-level abstraction for column selection and manipulation, making the API more user-friendly and expressive. The separation between selectors and expressions is intentional in the Polars library to improve clarity, composability, and extensibility of the API."
   ]
  },
  {
   "cell_type": "code",
   "execution_count": 100,
   "id": "92a73d75-8bef-43ee-844f-0ab367e1a7b4",
   "metadata": {},
   "outputs": [],
   "source": [
    "import polars.selectors as cs"
   ]
  },
  {
   "cell_type": "code",
   "execution_count": 101,
   "id": "24349cc5-db61-46d9-938f-89be9ed2da60",
   "metadata": {},
   "outputs": [
    {
     "data": {
      "text/plain": [
       "['Any',\n",
       " 'Binary',\n",
       " 'Boolean',\n",
       " 'Categorical',\n",
       " 'Collection',\n",
       " 'Date',\n",
       " 'Datetime',\n",
       " 'Decimal',\n",
       " 'Duration',\n",
       " 'Expr',\n",
       " 'F',\n",
       " 'FLOAT_DTYPES',\n",
       " 'INTEGER_DTYPES',\n",
       " 'Literal',\n",
       " 'Mapping',\n",
       " 'NUMERIC_DTYPES',\n",
       " 'NoReturn',\n",
       " 'Object',\n",
       " 'SIGNED_INTEGER_DTYPES',\n",
       " 'Sequence',\n",
       " 'String',\n",
       " 'TEMPORAL_DTYPES',\n",
       " 'TYPE_CHECKING',\n",
       " 'Time',\n",
       " 'UNSIGNED_INTEGER_DTYPES',\n",
       " 'all',\n",
       " 'alpha',\n",
       " 'alphanumeric',\n",
       " 'annotations',\n",
       " 'binary',\n",
       " 'boolean',\n",
       " 'by_dtype',\n",
       " 'by_index',\n",
       " 'by_name',\n",
       " 'categorical',\n",
       " 'contains',\n",
       " 'date',\n",
       " 'datetime',\n",
       " 'decimal',\n",
       " 'digit',\n",
       " 'duration',\n",
       " 'ends_with',\n",
       " 'exclude',\n",
       " 'expand_selector',\n",
       " 'first',\n",
       " 'float',\n",
       " 'integer',\n",
       " 'is_column',\n",
       " 'is_polars_dtype',\n",
       " 'is_selector',\n",
       " 'last',\n",
       " 'matches',\n",
       " 'numeric',\n",
       " 'object',\n",
       " 'or_',\n",
       " 'overload',\n",
       " 're_escape',\n",
       " 'reduce',\n",
       " 'signed_integer',\n",
       " 'starts_with',\n",
       " 'string',\n",
       " 'temporal',\n",
       " 'time',\n",
       " 'timezone',\n",
       " 'unsigned_integer']"
      ]
     },
     "execution_count": 101,
     "metadata": {},
     "output_type": "execute_result"
    }
   ],
   "source": [
    "[x for x in dir(cs) if not x.startswith('_')]"
   ]
  },
  {
   "cell_type": "code",
   "execution_count": 102,
   "id": "6e7f1c23-8a19-48e5-b13b-b0967b860075",
   "metadata": {},
   "outputs": [
    {
     "data": {
      "text/html": [
       "<div><style>\n",
       ".dataframe > thead > tr,\n",
       ".dataframe > tbody > tr {\n",
       "  text-align: right;\n",
       "  white-space: pre-wrap;\n",
       "}\n",
       "</style>\n",
       "<small>shape: (1, 8)</small><table border=\"1\" class=\"dataframe\"><thead><tr><th>index</th><th>year</th><th>displ</th><th>cylinders</th><th>barrels08</th><th>city08</th><th>highway08</th><th>num_gears</th></tr><tr><td>u32</td><td>u32</td><td>u32</td><td>u32</td><td>u32</td><td>u32</td><td>u32</td><td>u32</td></tr></thead><tbody><tr><td>0</td><td>0</td><td>963</td><td>965</td><td>0</td><td>0</td><td>0</td><td>0</td></tr></tbody></table></div>"
      ],
      "text/plain": [
       "shape: (1, 8)\n",
       "+-------+------+-------+-----------+-----------+--------+-----------+-----------+\n",
       "| index | year | displ | cylinders | barrels08 | city08 | highway08 | num_gears |\n",
       "| ---   | ---  | ---   | ---       | ---       | ---    | ---       | ---       |\n",
       "| u32   | u32  | u32   | u32       | u32       | u32    | u32       | u32       |\n",
       "+===============================================================================+\n",
       "| 0     | 0    | 963   | 965       | 0         | 0      | 0         | 0         |\n",
       "+-------+------+-------+-----------+-----------+--------+-----------+-----------+"
      ]
     },
     "execution_count": 102,
     "metadata": {},
     "output_type": "execute_result"
    }
   ],
   "source": [
    "(\n",
    "    autos\n",
    "    .select(cs.numeric().is_null().sum())\n",
    ")"
   ]
  },
  {
   "cell_type": "markdown",
   "id": "c4860208-25b5-4726-b975-ed9306e2ff17",
   "metadata": {},
   "source": [
    "The `selectors` module has many convenience functions for selecitn columns. \n",
    "\n",
    "For ex, if you wanted to select all integer columns, you can use the `integer` function.\n",
    "\n",
    "Here are other polar.selectors available:\n",
    "\n",
    "    all\n",
    "    binary\n",
    "    boolean\n",
    "    categorical\n",
    "    date\n",
    "    datetime\n",
    "    float\n",
    "    integer\n",
    "    numeric\n",
    "    object\n",
    "    string\n",
    "    temporal\n",
    "    time\n",
    "    timezone\n"
   ]
  },
  {
   "cell_type": "markdown",
   "id": "e0a4c376-9c57-4610-918f-198d954df90c",
   "metadata": {},
   "source": [
    "* You can also perform set operations on the selectors.\n",
    "* You can use + and | to perform a union operation.\n",
    "* You can use - to perform a set difference operation.\n",
    "* You can use & to perform an intersection operation.\n",
    "* You can use ^ to perform a symmetric difference operation.\n",
    "\n",
    "In this example to select all columns that are not dates or booleans:\n",
    "* Start with all columns\n",
    "* Remove any date columns\n",
    "* Remove any boolean columns using set difference\n"
   ]
  },
  {
   "cell_type": "code",
   "execution_count": 103,
   "id": "6c2883a2-61c6-4a04-a026-b6b7bcb7a2e2",
   "metadata": {},
   "outputs": [
    {
     "data": {
      "text/html": [
       "selector"
      ],
      "text/plain": [
       "((cs.all() - cs.date()) - cs.boolean())"
      ]
     },
     "execution_count": 103,
     "metadata": {},
     "output_type": "execute_result"
    }
   ],
   "source": [
    "no_dates_or_booleans = (\n",
    "    cs.all() - cs.date() - cs.boolean()\n",
    ")\n",
    "no_dates_or_booleans"
   ]
  },
  {
   "cell_type": "markdown",
   "id": "51e53a1d-3af7-4d23-bc3d-e8d946f39bff",
   "metadata": {},
   "source": [
    "You can debug the selectors with `expand_selector()`. This will show you which columns are selected by the selector."
   ]
  },
  {
   "cell_type": "code",
   "execution_count": 104,
   "id": "370e9aca-187a-4881-965b-c97187cd1532",
   "metadata": {},
   "outputs": [
    {
     "data": {
      "text/plain": [
       "('index',\n",
       " 'year',\n",
       " 'make',\n",
       " 'model',\n",
       " 'displ',\n",
       " 'cylinders',\n",
       " 'trany',\n",
       " 'drive',\n",
       " 'VClass',\n",
       " 'fuelType',\n",
       " 'barrels08',\n",
       " 'city08',\n",
       " 'highway08',\n",
       " 'createdOn',\n",
       " 'is_automatic',\n",
       " 'num_gears')"
      ]
     },
     "execution_count": 104,
     "metadata": {},
     "output_type": "execute_result"
    }
   ],
   "source": [
    "cs.expand_selector(autos, no_dates_or_booleans)"
   ]
  },
  {
   "cell_type": "markdown",
   "id": "25bc0fcb-6d65-43ee-98ef-a2c4c2261b3f",
   "metadata": {},
   "source": [
    "We can fill in the missing values of *displ* and *cylinders* with the mean of each year's *make* column. \n",
    "\n",
    "First, create an expression to perform that calculation.\n",
    "\n",
    "---\n",
    "\n",
    "**polars.Expr.over**\n",
    "\n",
    "* https://docs.pola.rs/py-polars/html/reference/expressions/api/polars.Expr.over.html\n",
    "\n",
    "Compute expressions over the given groups.\n",
    "\n",
    "This expression is similar to performing a group by aggregation and joining the result back into the original DataFrame.\n",
    "\n",
    "The outcome is similar to how window functions work in PostgreSQL."
   ]
  },
  {
   "cell_type": "code",
   "execution_count": 105,
   "id": "86e86700-e205-442b-ae02-0b7fb7fdb3f7",
   "metadata": {},
   "outputs": [
    {
     "data": {
      "text/html": [
       "<div><style>\n",
       ".dataframe > thead > tr,\n",
       ".dataframe > tbody > tr {\n",
       "  text-align: right;\n",
       "  white-space: pre-wrap;\n",
       "}\n",
       "</style>\n",
       "<small>shape: (48_202, 1)</small><table border=\"1\" class=\"dataframe\"><thead><tr><th>displ</th></tr><tr><td>f32</td></tr></thead><tbody><tr><td>2.25</td></tr><tr><td>3.566667</td></tr><tr><td>3.33211</td></tr><tr><td>3.33211</td></tr><tr><td>1.951515</td></tr><tr><td>&hellip;</td></tr><tr><td>1.951515</td></tr><tr><td>1.951515</td></tr><tr><td>1.951515</td></tr><tr><td>1.951515</td></tr><tr><td>1.951515</td></tr></tbody></table></div>"
      ],
      "text/plain": [
       "shape: (48_202, 1)\n",
       "+----------+\n",
       "| displ    |\n",
       "| ---      |\n",
       "| f32      |\n",
       "+==========+\n",
       "| 2.25     |\n",
       "| 3.566667 |\n",
       "| 3.33211  |\n",
       "| 3.33211  |\n",
       "| 1.951515 |\n",
       "| …        |\n",
       "| 1.951515 |\n",
       "| 1.951515 |\n",
       "| 1.951515 |\n",
       "| 1.951515 |\n",
       "| 1.951515 |\n",
       "+----------+"
      ]
     },
     "execution_count": 105,
     "metadata": {},
     "output_type": "execute_result"
    }
   ],
   "source": [
    "(\n",
    "    autos\n",
    "    .select(pl.col('displ').mean().over(['year', 'make']))\n",
    ")"
   ]
  },
  {
   "cell_type": "markdown",
   "id": "ab04196e-c55a-419c-853e-4caae20f1cc4",
   "metadata": {},
   "source": [
    "Now, debug by looking at the rows where the *displ* is null."
   ]
  },
  {
   "cell_type": "code",
   "execution_count": 106,
   "id": "ac766c40-9acc-4b77-af76-f6f58cc1b0ea",
   "metadata": {},
   "outputs": [
    {
     "name": "stderr",
     "output_type": "stream",
     "text": [
      "dataframe filtered\n"
     ]
    },
    {
     "data": {
      "text/html": [
       "<div><style>\n",
       ".dataframe > thead > tr,\n",
       ".dataframe > tbody > tr {\n",
       "  text-align: right;\n",
       "  white-space: pre-wrap;\n",
       "}\n",
       "</style>\n",
       "<small>shape: (963, 4)</small><table border=\"1\" class=\"dataframe\"><thead><tr><th>year</th><th>make</th><th>displ</th><th>mean_displ</th></tr><tr><td>i16</td><td>cat</td><td>f32</td><td>f32</td></tr></thead><tbody><tr><td>2000</td><td>&quot;Nissan&quot;</td><td>null</td><td>2.836</td></tr><tr><td>2000</td><td>&quot;Toyota&quot;</td><td>null</td><td>2.644444</td></tr><tr><td>2001</td><td>&quot;Toyota&quot;</td><td>null</td><td>2.736538</td></tr><tr><td>2001</td><td>&quot;Ford&quot;</td><td>null</td><td>3.837362</td></tr><tr><td>2001</td><td>&quot;Ford&quot;</td><td>null</td><td>3.837362</td></tr><tr><td>&hellip;</td><td>&hellip;</td><td>&hellip;</td><td>&hellip;</td></tr><tr><td>2024</td><td>&quot;Mercedes-Benz&quot;</td><td>null</td><td>2.90566</td></tr><tr><td>2024</td><td>&quot;Tesla&quot;</td><td>null</td><td>null</td></tr><tr><td>2024</td><td>&quot;Tesla&quot;</td><td>null</td><td>null</td></tr><tr><td>2024</td><td>&quot;Tesla&quot;</td><td>null</td><td>null</td></tr><tr><td>2024</td><td>&quot;Tesla&quot;</td><td>null</td><td>null</td></tr></tbody></table></div>"
      ],
      "text/plain": [
       "shape: (963, 4)\n",
       "+------+---------------+-------+------------+\n",
       "| year | make          | displ | mean_displ |\n",
       "| ---  | ---           | ---   | ---        |\n",
       "| i16  | cat           | f32   | f32        |\n",
       "+===========================================+\n",
       "| 2000 | Nissan        | null  | 2.836      |\n",
       "| 2000 | Toyota        | null  | 2.644444   |\n",
       "| 2001 | Toyota        | null  | 2.736538   |\n",
       "| 2001 | Ford          | null  | 3.837362   |\n",
       "| 2001 | Ford          | null  | 3.837362   |\n",
       "| …    | …             | …     | …          |\n",
       "| 2024 | Mercedes-Benz | null  | 2.90566    |\n",
       "| 2024 | Tesla         | null  | null       |\n",
       "| 2024 | Tesla         | null  | null       |\n",
       "| 2024 | Tesla         | null  | null       |\n",
       "| 2024 | Tesla         | null  | null       |\n",
       "+------+---------------+-------+------------+"
      ]
     },
     "execution_count": 106,
     "metadata": {},
     "output_type": "execute_result"
    }
   ],
   "source": [
    "# Fill in the missing values of displ and cylinders with the mean\n",
    "# of each year's make column.\n",
    "(\n",
    "    autos\n",
    "    .with_columns(\n",
    "        # Create mean for each year and make combination\n",
    "        mean_displ = pl.col('displ').mean().over(['year', 'make'])\n",
    "    )\n",
    "    \n",
    "    # Use .filter to select rows where displ column is null\n",
    "    .filter(pl.col('displ').is_null())\n",
    "    \n",
    "    # Use .select to limit the columns to the make, year, displ and mean_displ columns\n",
    "    .select(['year', 'make', 'displ', 'mean_displ'])\n",
    ")"
   ]
  },
  {
   "cell_type": "code",
   "execution_count": 107,
   "id": "3e1ec027-62d9-4785-8dc6-65b6b5f85376",
   "metadata": {},
   "outputs": [
    {
     "name": "stderr",
     "output_type": "stream",
     "text": [
      "dataframe filtered\n"
     ]
    },
    {
     "data": {
      "text/html": [
       "<div><style>\n",
       ".dataframe > thead > tr,\n",
       ".dataframe > tbody > tr {\n",
       "  text-align: right;\n",
       "  white-space: pre-wrap;\n",
       "}\n",
       "</style>\n",
       "<small>shape: (14, 2)</small><table border=\"1\" class=\"dataframe\"><thead><tr><th>make</th><th>count</th></tr><tr><td>cat</td><td>u32</td></tr></thead><tbody><tr><td>&quot;Tesla&quot;</td><td>148</td></tr><tr><td>&quot;Rivian&quot;</td><td>91</td></tr><tr><td>&quot;Lucid&quot;</td><td>33</td></tr><tr><td>&quot;Polestar&quot;</td><td>22</td></tr><tr><td>&quot;BYD&quot;</td><td>7</td></tr><tr><td>&hellip;</td><td>&hellip;</td></tr><tr><td>&quot;Fiat&quot;</td><td>2</td></tr><tr><td>&quot;Bugatti Rimac&quot;</td><td>2</td></tr><tr><td>&quot;Azure Dynamics&quot;</td><td>1</td></tr><tr><td>&quot;Kandi&quot;</td><td>1</td></tr><tr><td>&quot;Lordstown&quot;</td><td>1</td></tr></tbody></table></div>"
      ],
      "text/plain": [
       "shape: (14, 2)\n",
       "+----------------+-------+\n",
       "| make           | count |\n",
       "| ---            | ---   |\n",
       "| cat            | u32   |\n",
       "+========================+\n",
       "| Tesla          | 148   |\n",
       "| Rivian         | 91    |\n",
       "| Lucid          | 33    |\n",
       "| Polestar       | 22    |\n",
       "| BYD            | 7     |\n",
       "| …              | …     |\n",
       "| Fiat           | 2     |\n",
       "| Bugatti Rimac  | 2     |\n",
       "| Azure Dynamics | 1     |\n",
       "| Kandi          | 1     |\n",
       "| Lordstown      | 1     |\n",
       "+----------------+-------+"
      ]
     },
     "execution_count": 107,
     "metadata": {},
     "output_type": "execute_result"
    }
   ],
   "source": [
    "# Also check for null values in mean_displ\n",
    "(\n",
    "    autos\n",
    "    .with_columns(\n",
    "        # Create mean for each year and make combination\n",
    "        mean_displ = pl.col('displ').mean().over(['year', 'make'])\n",
    "    )\n",
    "    # Use .filter to select rows where displ column is null\n",
    "    .filter(pl.col('mean_displ').is_null())\n",
    "    # Use .select to limit the columns to the make, year, displ and mean_displ columns\n",
    "    .select(['year', 'make', 'displ', 'mean_displ'])\n",
    "    .select(pl.col('make')).to_series().value_counts(sort=True)\n",
    ")"
   ]
  },
  {
   "cell_type": "markdown",
   "id": "b9fd14db-942d-4474-909c-f963a27c2923",
   "metadata": {},
   "source": [
    "**Notes**\n",
    "\n",
    "* We can see null values for `mean_displ` for Tesla, Revian, etc.\n",
    "* This is because none of these cars have internal combustion engines.\n",
    "* We can address this by calling `.fill_null(0)` on the *mean_displ* column."
   ]
  },
  {
   "cell_type": "code",
   "execution_count": 108,
   "id": "ea0c8ea3-1438-4ae1-918c-26ac60767f18",
   "metadata": {},
   "outputs": [
    {
     "data": {
      "text/html": [
       "col(\"displ\").mean().over([col(\"year\"), col(\"make\")]).fill_null([dyn int: 0]).alias(\"mean_displ\")"
      ],
      "text/plain": [
       "<Expr ['col(\"displ\").mean().over([col(…'] at 0x201F7E850>"
      ]
     },
     "execution_count": 108,
     "metadata": {},
     "output_type": "execute_result"
    }
   ],
   "source": [
    "mean_displ = (\n",
    "    pl.col('displ')\n",
    "    .mean().over(['year', 'make'])\n",
    "    .fill_null(0)\n",
    "    .alias('mean_displ')\n",
    ")\n",
    "\n",
    "mean_displ"
   ]
  },
  {
   "cell_type": "code",
   "execution_count": 109,
   "id": "30dc5368-8454-48ae-8855-61c92a8d3014",
   "metadata": {},
   "outputs": [
    {
     "name": "stderr",
     "output_type": "stream",
     "text": [
      "dataframe filtered\n"
     ]
    },
    {
     "data": {
      "text/html": [
       "<div><style>\n",
       ".dataframe > thead > tr,\n",
       ".dataframe > tbody > tr {\n",
       "  text-align: right;\n",
       "  white-space: pre-wrap;\n",
       "}\n",
       "</style>\n",
       "<small>shape: (963, 4)</small><table border=\"1\" class=\"dataframe\"><thead><tr><th>year</th><th>make</th><th>displ</th><th>mean_displ</th></tr><tr><td>i16</td><td>cat</td><td>f32</td><td>f32</td></tr></thead><tbody><tr><td>2000</td><td>&quot;Nissan&quot;</td><td>null</td><td>2.836</td></tr><tr><td>2000</td><td>&quot;Toyota&quot;</td><td>null</td><td>2.644444</td></tr><tr><td>2001</td><td>&quot;Toyota&quot;</td><td>null</td><td>2.736538</td></tr><tr><td>2001</td><td>&quot;Ford&quot;</td><td>null</td><td>3.837362</td></tr><tr><td>2001</td><td>&quot;Ford&quot;</td><td>null</td><td>3.837362</td></tr><tr><td>&hellip;</td><td>&hellip;</td><td>&hellip;</td><td>&hellip;</td></tr><tr><td>2024</td><td>&quot;Mercedes-Benz&quot;</td><td>null</td><td>2.90566</td></tr><tr><td>2024</td><td>&quot;Tesla&quot;</td><td>null</td><td>0.0</td></tr><tr><td>2024</td><td>&quot;Tesla&quot;</td><td>null</td><td>0.0</td></tr><tr><td>2024</td><td>&quot;Tesla&quot;</td><td>null</td><td>0.0</td></tr><tr><td>2024</td><td>&quot;Tesla&quot;</td><td>null</td><td>0.0</td></tr></tbody></table></div>"
      ],
      "text/plain": [
       "shape: (963, 4)\n",
       "+------+---------------+-------+------------+\n",
       "| year | make          | displ | mean_displ |\n",
       "| ---  | ---           | ---   | ---        |\n",
       "| i16  | cat           | f32   | f32        |\n",
       "+===========================================+\n",
       "| 2000 | Nissan        | null  | 2.836      |\n",
       "| 2000 | Toyota        | null  | 2.644444   |\n",
       "| 2001 | Toyota        | null  | 2.736538   |\n",
       "| 2001 | Ford          | null  | 3.837362   |\n",
       "| 2001 | Ford          | null  | 3.837362   |\n",
       "| …    | …             | …     | …          |\n",
       "| 2024 | Mercedes-Benz | null  | 2.90566    |\n",
       "| 2024 | Tesla         | null  | 0.0        |\n",
       "| 2024 | Tesla         | null  | 0.0        |\n",
       "| 2024 | Tesla         | null  | 0.0        |\n",
       "| 2024 | Tesla         | null  | 0.0        |\n",
       "+------+---------------+-------+------------+"
      ]
     },
     "execution_count": 109,
     "metadata": {},
     "output_type": "execute_result"
    }
   ],
   "source": [
    "(\n",
    "    autos\n",
    "    .with_columns(mean_displ)\n",
    "    .filter(pl.col('displ').is_null()) # include rows that are null in this column\n",
    "    .select(['year', 'make', 'displ', 'mean_displ'])\n",
    ")"
   ]
  },
  {
   "cell_type": "markdown",
   "id": "d01bb49d-a662-4534-aa25-5f6c603a99d8",
   "metadata": {},
   "source": [
    "---\n",
    "Finally, create a new dataframe without missing *displ* values.\n",
    "\n",
    "For this we fill in the missing values with the *mean_displ* column.\n",
    "\n",
    "We need to pass the expression we stored in the `mean_displ` variable to `.fill_null()`."
   ]
  },
  {
   "cell_type": "code",
   "execution_count": 110,
   "id": "ebf4941e-a67e-4aa8-8801-e0c815762956",
   "metadata": {},
   "outputs": [
    {
     "data": {
      "text/html": [
       "<div><style>\n",
       ".dataframe > thead > tr,\n",
       ".dataframe > tbody > tr {\n",
       "  text-align: right;\n",
       "  white-space: pre-wrap;\n",
       "}\n",
       "</style>\n",
       "<small>shape: (48_202, 4)</small><table border=\"1\" class=\"dataframe\"><thead><tr><th>year</th><th>make</th><th>model</th><th>displ</th></tr><tr><td>i16</td><td>cat</td><td>cat</td><td>f32</td></tr></thead><tbody><tr><td>1985</td><td>&quot;Alfa Romeo&quot;</td><td>&quot;Spider Veloce 2000&quot;</td><td>2.0</td></tr><tr><td>1985</td><td>&quot;Ferrari&quot;</td><td>&quot;Testarossa&quot;</td><td>4.9</td></tr><tr><td>1985</td><td>&quot;Dodge&quot;</td><td>&quot;Charger&quot;</td><td>2.2</td></tr><tr><td>1985</td><td>&quot;Dodge&quot;</td><td>&quot;B150/B250 Wagon 2WD&quot;</td><td>5.2</td></tr><tr><td>1993</td><td>&quot;Subaru&quot;</td><td>&quot;Legacy AWD Turbo&quot;</td><td>2.2</td></tr><tr><td>&hellip;</td><td>&hellip;</td><td>&hellip;</td><td>&hellip;</td></tr><tr><td>1993</td><td>&quot;Subaru&quot;</td><td>&quot;Legacy&quot;</td><td>2.2</td></tr><tr><td>1993</td><td>&quot;Subaru&quot;</td><td>&quot;Legacy&quot;</td><td>2.2</td></tr><tr><td>1993</td><td>&quot;Subaru&quot;</td><td>&quot;Legacy AWD&quot;</td><td>2.2</td></tr><tr><td>1993</td><td>&quot;Subaru&quot;</td><td>&quot;Legacy AWD&quot;</td><td>2.2</td></tr><tr><td>1993</td><td>&quot;Subaru&quot;</td><td>&quot;Legacy AWD Turbo&quot;</td><td>2.2</td></tr></tbody></table></div>"
      ],
      "text/plain": [
       "shape: (48_202, 4)\n",
       "+------+------------+---------------------+-------+\n",
       "| year | make       | model               | displ |\n",
       "| ---  | ---        | ---                 | ---   |\n",
       "| i16  | cat        | cat                 | f32   |\n",
       "+=================================================+\n",
       "| 1985 | Alfa Romeo | Spider Veloce 2000  | 2.0   |\n",
       "| 1985 | Ferrari    | Testarossa          | 4.9   |\n",
       "| 1985 | Dodge      | Charger             | 2.2   |\n",
       "| 1985 | Dodge      | B150/B250 Wagon 2WD | 5.2   |\n",
       "| 1993 | Subaru     | Legacy AWD Turbo    | 2.2   |\n",
       "| …    | …          | …                   | …     |\n",
       "| 1993 | Subaru     | Legacy              | 2.2   |\n",
       "| 1993 | Subaru     | Legacy              | 2.2   |\n",
       "| 1993 | Subaru     | Legacy AWD          | 2.2   |\n",
       "| 1993 | Subaru     | Legacy AWD          | 2.2   |\n",
       "| 1993 | Subaru     | Legacy AWD Turbo    | 2.2   |\n",
       "+------+------------+---------------------+-------+"
      ]
     },
     "execution_count": 110,
     "metadata": {},
     "output_type": "execute_result"
    }
   ],
   "source": [
    "(\n",
    "    autos\n",
    "    .with_columns(pl.col('displ').fill_null(mean_displ))\n",
    "    .select(['year', 'make', 'model', 'displ'])\n",
    ")"
   ]
  },
  {
   "cell_type": "markdown",
   "id": "cd4fa405-092d-46d1-afaa-15ce8da85d88",
   "metadata": {},
   "source": [
    "**Notes**\n",
    "\n",
    "This is example of how to debug and work out expressions needed to manipulate data.\n",
    "\n",
    "* Start with `.select`\n",
    "* Convert it to a `.with_columns` to add new columns\n",
    "* Use `.filter` to select values to explore with boolean expressions."
   ]
  },
  {
   "cell_type": "markdown",
   "id": "31666155-5d7d-449c-885f-ae507ff6abd1",
   "metadata": {},
   "source": [
    "---\n",
    "# 2.24 Map and Apply\n",
    "[back to Top](#Top)\n",
    "\n",
    "If you need to to integrate Polars with a library that doesn't understand Polars expressions, you can use `.map_batches()` to pass a series to a custom function.\n",
    "\n",
    "Here we make a debug function that prints out the type of object passed to it.\n",
    "This helps to understand what happens when passing a Polars series to a custom function.\n"
   ]
  },
  {
   "cell_type": "markdown",
   "id": "7861f8f2-315f-426a-8ae2-a76895df5eb8",
   "metadata": {},
   "source": [
    "**Notes**\n",
    "\n",
    "`.map_batches` is a method in Polars that allows you to apply a custom Python function to a whole Series or a sequence of Series. It is useful for transforming the values represented by an expression using a third-party library or performing complex operations that cannot be expressed directly in Polars' expression syntax.\n",
    "\n",
    "The key points about `.map_batches` are:\n",
    "\n",
    "1. It takes a function as an argument that operates on one or more Series as input and returns a single Series as output. The function can be a lambda or a regular Python function.\n",
    "\n",
    "2. It can be used in both a regular DataFrame context as well as in a grouped context (after `groupby`).\n",
    "\n",
    "3. In a grouped context, you can use the `agg_list` parameter to control whether the function is applied to each group individually (when `agg_list=False`) or to the aggregated list of values across all groups (when `agg_list=True`). Using `agg_list=True` can improve performance for certain operations.\n",
    "\n",
    "4. The `return_dtype` parameter specifies the data type of the output Series. If not provided, it will be inferred from the first non-null value returned by the function.\n",
    "\n",
    "5. There is some confusion around whether `.map_batches` works with window functions like `over()`. The documentation doesn't explicitly mention this, and there are open issues discussing this behavior.\n",
    "\n",
    "This will produce a new DataFrame with three columns: \"a\", \"b\", and \"a+b+c\", where the last column is the result of applying `test_func` to the corresponding \"a\" and \"b\" values plus 1."
   ]
  },
  {
   "cell_type": "code",
   "execution_count": 111,
   "id": "b53f2e5f-ca83-4ad7-9239-9d37cd01b6e4",
   "metadata": {},
   "outputs": [
    {
     "name": "stdout",
     "output_type": "stream",
     "text": [
      "<class 'polars.series.series.Series'>\n"
     ]
    },
    {
     "data": {
      "text/html": [
       "<div><style>\n",
       ".dataframe > thead > tr,\n",
       ".dataframe > tbody > tr {\n",
       "  text-align: right;\n",
       "  white-space: pre-wrap;\n",
       "}\n",
       "</style>\n",
       "<small>shape: (48_202, 1)</small><table border=\"1\" class=\"dataframe\"><thead><tr><th>make</th></tr><tr><td>cat</td></tr></thead><tbody><tr><td>&quot;Alfa Romeo&quot;</td></tr><tr><td>&quot;Ferrari&quot;</td></tr><tr><td>&quot;Dodge&quot;</td></tr><tr><td>&quot;Dodge&quot;</td></tr><tr><td>&quot;Subaru&quot;</td></tr><tr><td>&hellip;</td></tr><tr><td>&quot;Subaru&quot;</td></tr><tr><td>&quot;Subaru&quot;</td></tr><tr><td>&quot;Subaru&quot;</td></tr><tr><td>&quot;Subaru&quot;</td></tr><tr><td>&quot;Subaru&quot;</td></tr></tbody></table></div>"
      ],
      "text/plain": [
       "shape: (48_202, 1)\n",
       "+------------+\n",
       "| make       |\n",
       "| ---        |\n",
       "| cat        |\n",
       "+============+\n",
       "| Alfa Romeo |\n",
       "| Ferrari    |\n",
       "| Dodge      |\n",
       "| Dodge      |\n",
       "| Subaru     |\n",
       "| …          |\n",
       "| Subaru     |\n",
       "| Subaru     |\n",
       "| Subaru     |\n",
       "| Subaru     |\n",
       "| Subaru     |\n",
       "+------------+"
      ]
     },
     "execution_count": 111,
     "metadata": {},
     "output_type": "execute_result"
    }
   ],
   "source": [
    "def debug(thing):\n",
    "    print(type(thing))\n",
    "    return thing\n",
    "\n",
    "(\n",
    "    autos\n",
    "    .select(\n",
    "        pl.col('make').map_batches(debug)\n",
    "    )\n",
    ")"
   ]
  },
  {
   "cell_type": "markdown",
   "id": "4eb4b9e3-7a46-4d48-9384-a9e4897d4bf7",
   "metadata": {},
   "source": [
    "---\n",
    "* Next, we make a NumPy function that standardizes a column.\n",
    "* This will be a function that subtracts the mean and divide it by the standard deviation.\n",
    "* We need to convert the Polars series to NumPy with `.to_numpy()`"
   ]
  },
  {
   "cell_type": "code",
   "execution_count": 112,
   "id": "57aaceb4-1b0d-4547-a084-a62f7cbb950d",
   "metadata": {},
   "outputs": [
    {
     "data": {
      "text/html": [
       "<div><style>\n",
       ".dataframe > thead > tr,\n",
       ".dataframe > tbody > tr {\n",
       "  text-align: right;\n",
       "  white-space: pre-wrap;\n",
       "}\n",
       "</style>\n",
       "<small>shape: (48_202, 1)</small><table border=\"1\" class=\"dataframe\"><thead><tr><th>city08_standardized</th></tr><tr><td>f64</td></tr></thead><tbody><tr><td>-0.073412</td></tr><tr><td>-0.863433</td></tr><tr><td>0.242597</td></tr><tr><td>-0.784431</td></tr><tr><td>-0.231416</td></tr><tr><td>&hellip;</td></tr><tr><td>-0.073412</td></tr><tr><td>0.005591</td></tr><tr><td>-0.152414</td></tr><tr><td>-0.152414</td></tr><tr><td>-0.310418</td></tr></tbody></table></div>"
      ],
      "text/plain": [
       "shape: (48_202, 1)\n",
       "+---------------------+\n",
       "| city08_standardized |\n",
       "| ---                 |\n",
       "| f64                 |\n",
       "+=====================+\n",
       "| -0.073412           |\n",
       "| -0.863433           |\n",
       "| 0.242597            |\n",
       "| -0.784431           |\n",
       "| -0.231416           |\n",
       "| …                   |\n",
       "| -0.073412           |\n",
       "| 0.005591            |\n",
       "| -0.152414           |\n",
       "| -0.152414           |\n",
       "| -0.310418           |\n",
       "+---------------------+"
      ]
     },
     "execution_count": 112,
     "metadata": {},
     "output_type": "execute_result"
    }
   ],
   "source": [
    "def standardize(arr_pl):\n",
    "    arr = arr_pl.to_numpy()\n",
    "    return (arr - np.mean(arr)) / np.std(arr)\n",
    "\n",
    "(\n",
    "    autos\n",
    "    .select(city08_standardized = pl.col('city08').map_batches(standardize))\n",
    ")"
   ]
  },
  {
   "cell_type": "markdown",
   "id": "a4767b35-6d5c-4e70-bada-20063b324440",
   "metadata": {},
   "source": [
    "For comparision, we can also do this wholly in Polars.\n"
   ]
  },
  {
   "cell_type": "code",
   "execution_count": 113,
   "id": "f3e2f40c-e54e-4d99-8bdd-286f0dddeb70",
   "metadata": {},
   "outputs": [
    {
     "data": {
      "text/html": [
       "<div><style>\n",
       ".dataframe > thead > tr,\n",
       ".dataframe > tbody > tr {\n",
       "  text-align: right;\n",
       "  white-space: pre-wrap;\n",
       "}\n",
       "</style>\n",
       "<small>shape: (48_202, 1)</small><table border=\"1\" class=\"dataframe\"><thead><tr><th>city08_standardized</th></tr><tr><td>f64</td></tr></thead><tbody><tr><td>-0.073411</td></tr><tr><td>-0.863424</td></tr><tr><td>0.242594</td></tr><tr><td>-0.784423</td></tr><tr><td>-0.231413</td></tr><tr><td>&hellip;</td></tr><tr><td>-0.073411</td></tr><tr><td>0.005591</td></tr><tr><td>-0.152412</td></tr><tr><td>-0.152412</td></tr><tr><td>-0.310415</td></tr></tbody></table></div>"
      ],
      "text/plain": [
       "shape: (48_202, 1)\n",
       "+---------------------+\n",
       "| city08_standardized |\n",
       "| ---                 |\n",
       "| f64                 |\n",
       "+=====================+\n",
       "| -0.073411           |\n",
       "| -0.863424           |\n",
       "| 0.242594            |\n",
       "| -0.784423           |\n",
       "| -0.231413           |\n",
       "| …                   |\n",
       "| -0.073411           |\n",
       "| 0.005591            |\n",
       "| -0.152412           |\n",
       "| -0.152412           |\n",
       "| -0.310415           |\n",
       "+---------------------+"
      ]
     },
     "execution_count": 113,
     "metadata": {},
     "output_type": "execute_result"
    }
   ],
   "source": [
    "def standardize_pl(col):\n",
    "    return (col - col.mean()) / col.std()\n",
    "\n",
    "(\n",
    "    autos\n",
    "    .select(city08_standardized = standardize_pl(pl.col('city08')))\n",
    ")"
   ]
  },
  {
   "cell_type": "markdown",
   "id": "5d55d969-69b3-4871-991d-ce4e15ce6dfe",
   "metadata": {},
   "source": [
    "---\n",
    "Compare the timing of both:"
   ]
  },
  {
   "cell_type": "code",
   "execution_count": 114,
   "id": "8c960d61-db1b-4e40-a6d7-b1c6bb69f7c9",
   "metadata": {},
   "outputs": [
    {
     "name": "stdout",
     "output_type": "stream",
     "text": [
      "2.31 ms ± 592 µs per loop (mean ± std. dev. of 7 runs, 100 loops each)\n"
     ]
    }
   ],
   "source": [
    "%%timeit\n",
    "@pl.Config(set_verbose=False)\n",
    "def timing_test():\n",
    "    \n",
    "    def standardize(arr_pl):\n",
    "        arr = arr_pl.to_numpy()\n",
    "        return (arr - np.mean(arr)) / np.std(arr)\n",
    "    \n",
    "    (\n",
    "        autos\n",
    "        .select(city08_standardized = pl.col('city08').map_batches(standardize))\n",
    "    )\n",
    "\n",
    "timing_test()"
   ]
  },
  {
   "cell_type": "code",
   "execution_count": 115,
   "id": "b102e877-845e-4c98-bd79-ba9c539bc858",
   "metadata": {},
   "outputs": [
    {
     "name": "stdout",
     "output_type": "stream",
     "text": [
      "909 µs ± 196 µs per loop (mean ± std. dev. of 7 runs, 1,000 loops each)\n"
     ]
    }
   ],
   "source": [
    "%%timeit\n",
    "@pl.Config(set_verbose=False)\n",
    "def timing_test():\n",
    "           \n",
    "    def standardize_pl(col):\n",
    "        return (col - col.mean()) / col.std()\n",
    "    \n",
    "    (\n",
    "        autos\n",
    "        .select(city08_standardized = standardize_pl(pl.col('city08')))\n",
    "    )\n",
    "\n",
    "timing_test()"
   ]
  }
 ],
 "metadata": {
  "kernelspec": {
   "display_name": "Python 3 (ipykernel)",
   "language": "python",
   "name": "python3"
  },
  "language_info": {
   "codemirror_mode": {
    "name": "ipython",
    "version": 3
   },
   "file_extension": ".py",
   "mimetype": "text/x-python",
   "name": "python",
   "nbconvert_exporter": "python",
   "pygments_lexer": "ipython3",
   "version": "3.11.5"
  }
 },
 "nbformat": 4,
 "nbformat_minor": 5
}
