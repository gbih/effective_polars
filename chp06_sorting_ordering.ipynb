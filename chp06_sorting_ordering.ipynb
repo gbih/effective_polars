{
 "cells": [
  {
   "cell_type": "markdown",
   "id": "19a5e041-94af-43c3-af27-e02f8414938f",
   "metadata": {},
   "source": [
    "#### Top"
   ]
  },
  {
   "cell_type": "markdown",
   "id": "c0f4060b-84a6-4be9-8fb2-f849519a2eab",
   "metadata": {},
   "source": [
    "# Chapter 6 Sorting and Ordering in Polars\n",
    "\n",
    "* [6.0 Imports and Setup](#6.0-Imports-and-Setup)\n",
    "* [6.1 Introduction](#6.1-Introduction)\n",
    "* [6.2 Loading the Fuel Economy Dataset](#6.2-Loading-the-Fuel-Economy-Dataset)\n",
    "* [6.3 Sorting by a Single Column](#6.3-Sorting-by-a-Single-Column)\n",
    "* [6.4 Sorting by Multiple Columns](#6.4-Sorting-by-Multiple-Columns)\n",
    "* [6.5 Specifying Custom Ordering for Categorical Columns](#6.5-Specifying-Custom-Ordering-for-Categorical-Columns)\n",
    "* [6.6 Enums and Ordering](#6.6-Enums-and-Ordering)\n",
    "* [6.7 Group Ordering and maintain_order](#6.7-Group-Ordering-and-maintain_order)\n",
    "* [6.8 Stable Sorting](#6.8-Stable-Sorting)\n",
    "* [6.9 Sorting and Filtering](#6.9-Sorting-and-Filtering)"
   ]
  },
  {
   "cell_type": "markdown",
   "id": "6f0b8d56-5283-473e-b86c-a1ac40828662",
   "metadata": {},
   "source": [
    "---\n",
    "# 6.0 Imports and Setup\n",
    "\n",
    "[back to Top](#Top)"
   ]
  },
  {
   "cell_type": "code",
   "execution_count": 1,
   "id": "4cf81012-ad23-4aa1-adeb-f527dfdba190",
   "metadata": {},
   "outputs": [
    {
     "data": {
      "application/javascript": [
       "(function(root) {\n",
       "  function now() {\n",
       "    return new Date();\n",
       "  }\n",
       "\n",
       "  var force = true;\n",
       "  var py_version = '3.4.3'.replace('rc', '-rc.').replace('.dev', '-dev.');\n",
       "  var reloading = false;\n",
       "  var Bokeh = root.Bokeh;\n",
       "\n",
       "  if (typeof (root._bokeh_timeout) === \"undefined\" || force) {\n",
       "    root._bokeh_timeout = Date.now() + 5000;\n",
       "    root._bokeh_failed_load = false;\n",
       "  }\n",
       "\n",
       "  function run_callbacks() {\n",
       "    try {\n",
       "      root._bokeh_onload_callbacks.forEach(function(callback) {\n",
       "        if (callback != null)\n",
       "          callback();\n",
       "      });\n",
       "    } finally {\n",
       "      delete root._bokeh_onload_callbacks;\n",
       "    }\n",
       "    console.debug(\"Bokeh: all callbacks have finished\");\n",
       "  }\n",
       "\n",
       "  function load_libs(css_urls, js_urls, js_modules, js_exports, callback) {\n",
       "    if (css_urls == null) css_urls = [];\n",
       "    if (js_urls == null) js_urls = [];\n",
       "    if (js_modules == null) js_modules = [];\n",
       "    if (js_exports == null) js_exports = {};\n",
       "\n",
       "    root._bokeh_onload_callbacks.push(callback);\n",
       "\n",
       "    if (root._bokeh_is_loading > 0) {\n",
       "      console.debug(\"Bokeh: BokehJS is being loaded, scheduling callback at\", now());\n",
       "      return null;\n",
       "    }\n",
       "    if (js_urls.length === 0 && js_modules.length === 0 && Object.keys(js_exports).length === 0) {\n",
       "      run_callbacks();\n",
       "      return null;\n",
       "    }\n",
       "    if (!reloading) {\n",
       "      console.debug(\"Bokeh: BokehJS not loaded, scheduling load and callback at\", now());\n",
       "    }\n",
       "\n",
       "    function on_load() {\n",
       "      root._bokeh_is_loading--;\n",
       "      if (root._bokeh_is_loading === 0) {\n",
       "        console.debug(\"Bokeh: all BokehJS libraries/stylesheets loaded\");\n",
       "        run_callbacks()\n",
       "      }\n",
       "    }\n",
       "    window._bokeh_on_load = on_load\n",
       "\n",
       "    function on_error() {\n",
       "      console.error(\"failed to load \" + url);\n",
       "    }\n",
       "\n",
       "    var skip = [];\n",
       "    if (window.requirejs) {\n",
       "      window.requirejs.config({'packages': {}, 'paths': {}, 'shim': {}});\n",
       "      root._bokeh_is_loading = css_urls.length + 0;\n",
       "    } else {\n",
       "      root._bokeh_is_loading = css_urls.length + js_urls.length + js_modules.length + Object.keys(js_exports).length;\n",
       "    }\n",
       "\n",
       "    var existing_stylesheets = []\n",
       "    var links = document.getElementsByTagName('link')\n",
       "    for (var i = 0; i < links.length; i++) {\n",
       "      var link = links[i]\n",
       "      if (link.href != null) {\n",
       "\texisting_stylesheets.push(link.href)\n",
       "      }\n",
       "    }\n",
       "    for (var i = 0; i < css_urls.length; i++) {\n",
       "      var url = css_urls[i];\n",
       "      if (existing_stylesheets.indexOf(url) !== -1) {\n",
       "\ton_load()\n",
       "\tcontinue;\n",
       "      }\n",
       "      const element = document.createElement(\"link\");\n",
       "      element.onload = on_load;\n",
       "      element.onerror = on_error;\n",
       "      element.rel = \"stylesheet\";\n",
       "      element.type = \"text/css\";\n",
       "      element.href = url;\n",
       "      console.debug(\"Bokeh: injecting link tag for BokehJS stylesheet: \", url);\n",
       "      document.body.appendChild(element);\n",
       "    }    var existing_scripts = []\n",
       "    var scripts = document.getElementsByTagName('script')\n",
       "    for (var i = 0; i < scripts.length; i++) {\n",
       "      var script = scripts[i]\n",
       "      if (script.src != null) {\n",
       "\texisting_scripts.push(script.src)\n",
       "      }\n",
       "    }\n",
       "    for (var i = 0; i < js_urls.length; i++) {\n",
       "      var url = js_urls[i];\n",
       "      if (skip.indexOf(url) !== -1 || existing_scripts.indexOf(url) !== -1) {\n",
       "\tif (!window.requirejs) {\n",
       "\t  on_load();\n",
       "\t}\n",
       "\tcontinue;\n",
       "      }\n",
       "      var element = document.createElement('script');\n",
       "      element.onload = on_load;\n",
       "      element.onerror = on_error;\n",
       "      element.async = false;\n",
       "      element.src = url;\n",
       "      console.debug(\"Bokeh: injecting script tag for BokehJS library: \", url);\n",
       "      document.head.appendChild(element);\n",
       "    }\n",
       "    for (var i = 0; i < js_modules.length; i++) {\n",
       "      var url = js_modules[i];\n",
       "      if (skip.indexOf(url) !== -1 || existing_scripts.indexOf(url) !== -1) {\n",
       "\tif (!window.requirejs) {\n",
       "\t  on_load();\n",
       "\t}\n",
       "\tcontinue;\n",
       "      }\n",
       "      var element = document.createElement('script');\n",
       "      element.onload = on_load;\n",
       "      element.onerror = on_error;\n",
       "      element.async = false;\n",
       "      element.src = url;\n",
       "      element.type = \"module\";\n",
       "      console.debug(\"Bokeh: injecting script tag for BokehJS library: \", url);\n",
       "      document.head.appendChild(element);\n",
       "    }\n",
       "    for (const name in js_exports) {\n",
       "      var url = js_exports[name];\n",
       "      if (skip.indexOf(url) >= 0 || root[name] != null) {\n",
       "\tif (!window.requirejs) {\n",
       "\t  on_load();\n",
       "\t}\n",
       "\tcontinue;\n",
       "      }\n",
       "      var element = document.createElement('script');\n",
       "      element.onerror = on_error;\n",
       "      element.async = false;\n",
       "      element.type = \"module\";\n",
       "      console.debug(\"Bokeh: injecting script tag for BokehJS library: \", url);\n",
       "      element.textContent = `\n",
       "      import ${name} from \"${url}\"\n",
       "      window.${name} = ${name}\n",
       "      window._bokeh_on_load()\n",
       "      `\n",
       "      document.head.appendChild(element);\n",
       "    }\n",
       "    if (!js_urls.length && !js_modules.length) {\n",
       "      on_load()\n",
       "    }\n",
       "  };\n",
       "\n",
       "  function inject_raw_css(css) {\n",
       "    const element = document.createElement(\"style\");\n",
       "    element.appendChild(document.createTextNode(css));\n",
       "    document.body.appendChild(element);\n",
       "  }\n",
       "\n",
       "  var js_urls = [\"https://cdn.bokeh.org/bokeh/release/bokeh-3.4.3.min.js\", \"https://cdn.bokeh.org/bokeh/release/bokeh-gl-3.4.3.min.js\", \"https://cdn.bokeh.org/bokeh/release/bokeh-widgets-3.4.3.min.js\", \"https://cdn.bokeh.org/bokeh/release/bokeh-tables-3.4.3.min.js\", \"https://cdn.holoviz.org/panel/1.4.5/dist/panel.min.js\"];\n",
       "  var js_modules = [];\n",
       "  var js_exports = {};\n",
       "  var css_urls = [];\n",
       "  var inline_js = [    function(Bokeh) {\n",
       "      Bokeh.set_log_level(\"info\");\n",
       "    },\n",
       "function(Bokeh) {} // ensure no trailing comma for IE\n",
       "  ];\n",
       "\n",
       "  function run_inline_js() {\n",
       "    if ((root.Bokeh !== undefined) || (force === true)) {\n",
       "      for (var i = 0; i < inline_js.length; i++) {\n",
       "\ttry {\n",
       "          inline_js[i].call(root, root.Bokeh);\n",
       "\t} catch(e) {\n",
       "\t  if (!reloading) {\n",
       "\t    throw e;\n",
       "\t  }\n",
       "\t}\n",
       "      }\n",
       "      // Cache old bokeh versions\n",
       "      if (Bokeh != undefined && !reloading) {\n",
       "\tvar NewBokeh = root.Bokeh;\n",
       "\tif (Bokeh.versions === undefined) {\n",
       "\t  Bokeh.versions = new Map();\n",
       "\t}\n",
       "\tif (NewBokeh.version !== Bokeh.version) {\n",
       "\t  Bokeh.versions.set(NewBokeh.version, NewBokeh)\n",
       "\t}\n",
       "\troot.Bokeh = Bokeh;\n",
       "      }} else if (Date.now() < root._bokeh_timeout) {\n",
       "      setTimeout(run_inline_js, 100);\n",
       "    } else if (!root._bokeh_failed_load) {\n",
       "      console.log(\"Bokeh: BokehJS failed to load within specified timeout.\");\n",
       "      root._bokeh_failed_load = true;\n",
       "    }\n",
       "    root._bokeh_is_initializing = false\n",
       "  }\n",
       "\n",
       "  function load_or_wait() {\n",
       "    // Implement a backoff loop that tries to ensure we do not load multiple\n",
       "    // versions of Bokeh and its dependencies at the same time.\n",
       "    // In recent versions we use the root._bokeh_is_initializing flag\n",
       "    // to determine whether there is an ongoing attempt to initialize\n",
       "    // bokeh, however for backward compatibility we also try to ensure\n",
       "    // that we do not start loading a newer (Panel>=1.0 and Bokeh>3) version\n",
       "    // before older versions are fully initialized.\n",
       "    if (root._bokeh_is_initializing && Date.now() > root._bokeh_timeout) {\n",
       "      root._bokeh_is_initializing = false;\n",
       "      root._bokeh_onload_callbacks = undefined;\n",
       "      console.log(\"Bokeh: BokehJS was loaded multiple times but one version failed to initialize.\");\n",
       "      load_or_wait();\n",
       "    } else if (root._bokeh_is_initializing || (typeof root._bokeh_is_initializing === \"undefined\" && root._bokeh_onload_callbacks !== undefined)) {\n",
       "      setTimeout(load_or_wait, 100);\n",
       "    } else {\n",
       "      root._bokeh_is_initializing = true\n",
       "      root._bokeh_onload_callbacks = []\n",
       "      var bokeh_loaded = Bokeh != null && (Bokeh.version === py_version || (Bokeh.versions !== undefined && Bokeh.versions.has(py_version)));\n",
       "      if (!reloading && !bokeh_loaded) {\n",
       "\troot.Bokeh = undefined;\n",
       "      }\n",
       "      load_libs(css_urls, js_urls, js_modules, js_exports, function() {\n",
       "\tconsole.debug(\"Bokeh: BokehJS plotting callback run at\", now());\n",
       "\trun_inline_js();\n",
       "      });\n",
       "    }\n",
       "  }\n",
       "  // Give older versions of the autoload script a head-start to ensure\n",
       "  // they initialize before we start loading newer version.\n",
       "  setTimeout(load_or_wait, 100)\n",
       "}(window));"
      ],
      "application/vnd.holoviews_load.v0+json": "(function(root) {\n  function now() {\n    return new Date();\n  }\n\n  var force = true;\n  var py_version = '3.4.3'.replace('rc', '-rc.').replace('.dev', '-dev.');\n  var reloading = false;\n  var Bokeh = root.Bokeh;\n\n  if (typeof (root._bokeh_timeout) === \"undefined\" || force) {\n    root._bokeh_timeout = Date.now() + 5000;\n    root._bokeh_failed_load = false;\n  }\n\n  function run_callbacks() {\n    try {\n      root._bokeh_onload_callbacks.forEach(function(callback) {\n        if (callback != null)\n          callback();\n      });\n    } finally {\n      delete root._bokeh_onload_callbacks;\n    }\n    console.debug(\"Bokeh: all callbacks have finished\");\n  }\n\n  function load_libs(css_urls, js_urls, js_modules, js_exports, callback) {\n    if (css_urls == null) css_urls = [];\n    if (js_urls == null) js_urls = [];\n    if (js_modules == null) js_modules = [];\n    if (js_exports == null) js_exports = {};\n\n    root._bokeh_onload_callbacks.push(callback);\n\n    if (root._bokeh_is_loading > 0) {\n      console.debug(\"Bokeh: BokehJS is being loaded, scheduling callback at\", now());\n      return null;\n    }\n    if (js_urls.length === 0 && js_modules.length === 0 && Object.keys(js_exports).length === 0) {\n      run_callbacks();\n      return null;\n    }\n    if (!reloading) {\n      console.debug(\"Bokeh: BokehJS not loaded, scheduling load and callback at\", now());\n    }\n\n    function on_load() {\n      root._bokeh_is_loading--;\n      if (root._bokeh_is_loading === 0) {\n        console.debug(\"Bokeh: all BokehJS libraries/stylesheets loaded\");\n        run_callbacks()\n      }\n    }\n    window._bokeh_on_load = on_load\n\n    function on_error() {\n      console.error(\"failed to load \" + url);\n    }\n\n    var skip = [];\n    if (window.requirejs) {\n      window.requirejs.config({'packages': {}, 'paths': {}, 'shim': {}});\n      root._bokeh_is_loading = css_urls.length + 0;\n    } else {\n      root._bokeh_is_loading = css_urls.length + js_urls.length + js_modules.length + Object.keys(js_exports).length;\n    }\n\n    var existing_stylesheets = []\n    var links = document.getElementsByTagName('link')\n    for (var i = 0; i < links.length; i++) {\n      var link = links[i]\n      if (link.href != null) {\n\texisting_stylesheets.push(link.href)\n      }\n    }\n    for (var i = 0; i < css_urls.length; i++) {\n      var url = css_urls[i];\n      if (existing_stylesheets.indexOf(url) !== -1) {\n\ton_load()\n\tcontinue;\n      }\n      const element = document.createElement(\"link\");\n      element.onload = on_load;\n      element.onerror = on_error;\n      element.rel = \"stylesheet\";\n      element.type = \"text/css\";\n      element.href = url;\n      console.debug(\"Bokeh: injecting link tag for BokehJS stylesheet: \", url);\n      document.body.appendChild(element);\n    }    var existing_scripts = []\n    var scripts = document.getElementsByTagName('script')\n    for (var i = 0; i < scripts.length; i++) {\n      var script = scripts[i]\n      if (script.src != null) {\n\texisting_scripts.push(script.src)\n      }\n    }\n    for (var i = 0; i < js_urls.length; i++) {\n      var url = js_urls[i];\n      if (skip.indexOf(url) !== -1 || existing_scripts.indexOf(url) !== -1) {\n\tif (!window.requirejs) {\n\t  on_load();\n\t}\n\tcontinue;\n      }\n      var element = document.createElement('script');\n      element.onload = on_load;\n      element.onerror = on_error;\n      element.async = false;\n      element.src = url;\n      console.debug(\"Bokeh: injecting script tag for BokehJS library: \", url);\n      document.head.appendChild(element);\n    }\n    for (var i = 0; i < js_modules.length; i++) {\n      var url = js_modules[i];\n      if (skip.indexOf(url) !== -1 || existing_scripts.indexOf(url) !== -1) {\n\tif (!window.requirejs) {\n\t  on_load();\n\t}\n\tcontinue;\n      }\n      var element = document.createElement('script');\n      element.onload = on_load;\n      element.onerror = on_error;\n      element.async = false;\n      element.src = url;\n      element.type = \"module\";\n      console.debug(\"Bokeh: injecting script tag for BokehJS library: \", url);\n      document.head.appendChild(element);\n    }\n    for (const name in js_exports) {\n      var url = js_exports[name];\n      if (skip.indexOf(url) >= 0 || root[name] != null) {\n\tif (!window.requirejs) {\n\t  on_load();\n\t}\n\tcontinue;\n      }\n      var element = document.createElement('script');\n      element.onerror = on_error;\n      element.async = false;\n      element.type = \"module\";\n      console.debug(\"Bokeh: injecting script tag for BokehJS library: \", url);\n      element.textContent = `\n      import ${name} from \"${url}\"\n      window.${name} = ${name}\n      window._bokeh_on_load()\n      `\n      document.head.appendChild(element);\n    }\n    if (!js_urls.length && !js_modules.length) {\n      on_load()\n    }\n  };\n\n  function inject_raw_css(css) {\n    const element = document.createElement(\"style\");\n    element.appendChild(document.createTextNode(css));\n    document.body.appendChild(element);\n  }\n\n  var js_urls = [\"https://cdn.bokeh.org/bokeh/release/bokeh-3.4.3.min.js\", \"https://cdn.bokeh.org/bokeh/release/bokeh-gl-3.4.3.min.js\", \"https://cdn.bokeh.org/bokeh/release/bokeh-widgets-3.4.3.min.js\", \"https://cdn.bokeh.org/bokeh/release/bokeh-tables-3.4.3.min.js\", \"https://cdn.holoviz.org/panel/1.4.5/dist/panel.min.js\"];\n  var js_modules = [];\n  var js_exports = {};\n  var css_urls = [];\n  var inline_js = [    function(Bokeh) {\n      Bokeh.set_log_level(\"info\");\n    },\nfunction(Bokeh) {} // ensure no trailing comma for IE\n  ];\n\n  function run_inline_js() {\n    if ((root.Bokeh !== undefined) || (force === true)) {\n      for (var i = 0; i < inline_js.length; i++) {\n\ttry {\n          inline_js[i].call(root, root.Bokeh);\n\t} catch(e) {\n\t  if (!reloading) {\n\t    throw e;\n\t  }\n\t}\n      }\n      // Cache old bokeh versions\n      if (Bokeh != undefined && !reloading) {\n\tvar NewBokeh = root.Bokeh;\n\tif (Bokeh.versions === undefined) {\n\t  Bokeh.versions = new Map();\n\t}\n\tif (NewBokeh.version !== Bokeh.version) {\n\t  Bokeh.versions.set(NewBokeh.version, NewBokeh)\n\t}\n\troot.Bokeh = Bokeh;\n      }} else if (Date.now() < root._bokeh_timeout) {\n      setTimeout(run_inline_js, 100);\n    } else if (!root._bokeh_failed_load) {\n      console.log(\"Bokeh: BokehJS failed to load within specified timeout.\");\n      root._bokeh_failed_load = true;\n    }\n    root._bokeh_is_initializing = false\n  }\n\n  function load_or_wait() {\n    // Implement a backoff loop that tries to ensure we do not load multiple\n    // versions of Bokeh and its dependencies at the same time.\n    // In recent versions we use the root._bokeh_is_initializing flag\n    // to determine whether there is an ongoing attempt to initialize\n    // bokeh, however for backward compatibility we also try to ensure\n    // that we do not start loading a newer (Panel>=1.0 and Bokeh>3) version\n    // before older versions are fully initialized.\n    if (root._bokeh_is_initializing && Date.now() > root._bokeh_timeout) {\n      root._bokeh_is_initializing = false;\n      root._bokeh_onload_callbacks = undefined;\n      console.log(\"Bokeh: BokehJS was loaded multiple times but one version failed to initialize.\");\n      load_or_wait();\n    } else if (root._bokeh_is_initializing || (typeof root._bokeh_is_initializing === \"undefined\" && root._bokeh_onload_callbacks !== undefined)) {\n      setTimeout(load_or_wait, 100);\n    } else {\n      root._bokeh_is_initializing = true\n      root._bokeh_onload_callbacks = []\n      var bokeh_loaded = Bokeh != null && (Bokeh.version === py_version || (Bokeh.versions !== undefined && Bokeh.versions.has(py_version)));\n      if (!reloading && !bokeh_loaded) {\n\troot.Bokeh = undefined;\n      }\n      load_libs(css_urls, js_urls, js_modules, js_exports, function() {\n\tconsole.debug(\"Bokeh: BokehJS plotting callback run at\", now());\n\trun_inline_js();\n      });\n    }\n  }\n  // Give older versions of the autoload script a head-start to ensure\n  // they initialize before we start loading newer version.\n  setTimeout(load_or_wait, 100)\n}(window));"
     },
     "metadata": {},
     "output_type": "display_data"
    },
    {
     "data": {
      "application/javascript": [
       "\n",
       "if ((window.PyViz === undefined) || (window.PyViz instanceof HTMLElement)) {\n",
       "  window.PyViz = {comms: {}, comm_status:{}, kernels:{}, receivers: {}, plot_index: []}\n",
       "}\n",
       "\n",
       "\n",
       "    function JupyterCommManager() {\n",
       "    }\n",
       "\n",
       "    JupyterCommManager.prototype.register_target = function(plot_id, comm_id, msg_handler) {\n",
       "      if (window.comm_manager || ((window.Jupyter !== undefined) && (Jupyter.notebook.kernel != null))) {\n",
       "        var comm_manager = window.comm_manager || Jupyter.notebook.kernel.comm_manager;\n",
       "        comm_manager.register_target(comm_id, function(comm) {\n",
       "          comm.on_msg(msg_handler);\n",
       "        });\n",
       "      } else if ((plot_id in window.PyViz.kernels) && (window.PyViz.kernels[plot_id])) {\n",
       "        window.PyViz.kernels[plot_id].registerCommTarget(comm_id, function(comm) {\n",
       "          comm.onMsg = msg_handler;\n",
       "        });\n",
       "      } else if (typeof google != 'undefined' && google.colab.kernel != null) {\n",
       "        google.colab.kernel.comms.registerTarget(comm_id, (comm) => {\n",
       "          var messages = comm.messages[Symbol.asyncIterator]();\n",
       "          function processIteratorResult(result) {\n",
       "            var message = result.value;\n",
       "            console.log(message)\n",
       "            var content = {data: message.data, comm_id};\n",
       "            var buffers = []\n",
       "            for (var buffer of message.buffers || []) {\n",
       "              buffers.push(new DataView(buffer))\n",
       "            }\n",
       "            var metadata = message.metadata || {};\n",
       "            var msg = {content, buffers, metadata}\n",
       "            msg_handler(msg);\n",
       "            return messages.next().then(processIteratorResult);\n",
       "          }\n",
       "          return messages.next().then(processIteratorResult);\n",
       "        })\n",
       "      }\n",
       "    }\n",
       "\n",
       "    JupyterCommManager.prototype.get_client_comm = function(plot_id, comm_id, msg_handler) {\n",
       "      if (comm_id in window.PyViz.comms) {\n",
       "        return window.PyViz.comms[comm_id];\n",
       "      } else if (window.comm_manager || ((window.Jupyter !== undefined) && (Jupyter.notebook.kernel != null))) {\n",
       "        var comm_manager = window.comm_manager || Jupyter.notebook.kernel.comm_manager;\n",
       "        var comm = comm_manager.new_comm(comm_id, {}, {}, {}, comm_id);\n",
       "        if (msg_handler) {\n",
       "          comm.on_msg(msg_handler);\n",
       "        }\n",
       "      } else if ((plot_id in window.PyViz.kernels) && (window.PyViz.kernels[plot_id])) {\n",
       "        var comm = window.PyViz.kernels[plot_id].connectToComm(comm_id);\n",
       "        comm.open();\n",
       "        if (msg_handler) {\n",
       "          comm.onMsg = msg_handler;\n",
       "        }\n",
       "      } else if (typeof google != 'undefined' && google.colab.kernel != null) {\n",
       "        var comm_promise = google.colab.kernel.comms.open(comm_id)\n",
       "        comm_promise.then((comm) => {\n",
       "          window.PyViz.comms[comm_id] = comm;\n",
       "          if (msg_handler) {\n",
       "            var messages = comm.messages[Symbol.asyncIterator]();\n",
       "            function processIteratorResult(result) {\n",
       "              var message = result.value;\n",
       "              var content = {data: message.data};\n",
       "              var metadata = message.metadata || {comm_id};\n",
       "              var msg = {content, metadata}\n",
       "              msg_handler(msg);\n",
       "              return messages.next().then(processIteratorResult);\n",
       "            }\n",
       "            return messages.next().then(processIteratorResult);\n",
       "          }\n",
       "        }) \n",
       "        var sendClosure = (data, metadata, buffers, disposeOnDone) => {\n",
       "          return comm_promise.then((comm) => {\n",
       "            comm.send(data, metadata, buffers, disposeOnDone);\n",
       "          });\n",
       "        };\n",
       "        var comm = {\n",
       "          send: sendClosure\n",
       "        };\n",
       "      }\n",
       "      window.PyViz.comms[comm_id] = comm;\n",
       "      return comm;\n",
       "    }\n",
       "    window.PyViz.comm_manager = new JupyterCommManager();\n",
       "    \n",
       "\n",
       "\n",
       "var JS_MIME_TYPE = 'application/javascript';\n",
       "var HTML_MIME_TYPE = 'text/html';\n",
       "var EXEC_MIME_TYPE = 'application/vnd.holoviews_exec.v0+json';\n",
       "var CLASS_NAME = 'output';\n",
       "\n",
       "/**\n",
       " * Render data to the DOM node\n",
       " */\n",
       "function render(props, node) {\n",
       "  var div = document.createElement(\"div\");\n",
       "  var script = document.createElement(\"script\");\n",
       "  node.appendChild(div);\n",
       "  node.appendChild(script);\n",
       "}\n",
       "\n",
       "/**\n",
       " * Handle when a new output is added\n",
       " */\n",
       "function handle_add_output(event, handle) {\n",
       "  var output_area = handle.output_area;\n",
       "  var output = handle.output;\n",
       "  if ((output.data == undefined) || (!output.data.hasOwnProperty(EXEC_MIME_TYPE))) {\n",
       "    return\n",
       "  }\n",
       "  var id = output.metadata[EXEC_MIME_TYPE][\"id\"];\n",
       "  var toinsert = output_area.element.find(\".\" + CLASS_NAME.split(' ')[0]);\n",
       "  if (id !== undefined) {\n",
       "    var nchildren = toinsert.length;\n",
       "    var html_node = toinsert[nchildren-1].children[0];\n",
       "    html_node.innerHTML = output.data[HTML_MIME_TYPE];\n",
       "    var scripts = [];\n",
       "    var nodelist = html_node.querySelectorAll(\"script\");\n",
       "    for (var i in nodelist) {\n",
       "      if (nodelist.hasOwnProperty(i)) {\n",
       "        scripts.push(nodelist[i])\n",
       "      }\n",
       "    }\n",
       "\n",
       "    scripts.forEach( function (oldScript) {\n",
       "      var newScript = document.createElement(\"script\");\n",
       "      var attrs = [];\n",
       "      var nodemap = oldScript.attributes;\n",
       "      for (var j in nodemap) {\n",
       "        if (nodemap.hasOwnProperty(j)) {\n",
       "          attrs.push(nodemap[j])\n",
       "        }\n",
       "      }\n",
       "      attrs.forEach(function(attr) { newScript.setAttribute(attr.name, attr.value) });\n",
       "      newScript.appendChild(document.createTextNode(oldScript.innerHTML));\n",
       "      oldScript.parentNode.replaceChild(newScript, oldScript);\n",
       "    });\n",
       "    if (JS_MIME_TYPE in output.data) {\n",
       "      toinsert[nchildren-1].children[1].textContent = output.data[JS_MIME_TYPE];\n",
       "    }\n",
       "    output_area._hv_plot_id = id;\n",
       "    if ((window.Bokeh !== undefined) && (id in Bokeh.index)) {\n",
       "      window.PyViz.plot_index[id] = Bokeh.index[id];\n",
       "    } else {\n",
       "      window.PyViz.plot_index[id] = null;\n",
       "    }\n",
       "  } else if (output.metadata[EXEC_MIME_TYPE][\"server_id\"] !== undefined) {\n",
       "    var bk_div = document.createElement(\"div\");\n",
       "    bk_div.innerHTML = output.data[HTML_MIME_TYPE];\n",
       "    var script_attrs = bk_div.children[0].attributes;\n",
       "    for (var i = 0; i < script_attrs.length; i++) {\n",
       "      toinsert[toinsert.length - 1].childNodes[1].setAttribute(script_attrs[i].name, script_attrs[i].value);\n",
       "    }\n",
       "    // store reference to server id on output_area\n",
       "    output_area._bokeh_server_id = output.metadata[EXEC_MIME_TYPE][\"server_id\"];\n",
       "  }\n",
       "}\n",
       "\n",
       "/**\n",
       " * Handle when an output is cleared or removed\n",
       " */\n",
       "function handle_clear_output(event, handle) {\n",
       "  var id = handle.cell.output_area._hv_plot_id;\n",
       "  var server_id = handle.cell.output_area._bokeh_server_id;\n",
       "  if (((id === undefined) || !(id in PyViz.plot_index)) && (server_id !== undefined)) { return; }\n",
       "  var comm = window.PyViz.comm_manager.get_client_comm(\"hv-extension-comm\", \"hv-extension-comm\", function () {});\n",
       "  if (server_id !== null) {\n",
       "    comm.send({event_type: 'server_delete', 'id': server_id});\n",
       "    return;\n",
       "  } else if (comm !== null) {\n",
       "    comm.send({event_type: 'delete', 'id': id});\n",
       "  }\n",
       "  delete PyViz.plot_index[id];\n",
       "  if ((window.Bokeh !== undefined) & (id in window.Bokeh.index)) {\n",
       "    var doc = window.Bokeh.index[id].model.document\n",
       "    doc.clear();\n",
       "    const i = window.Bokeh.documents.indexOf(doc);\n",
       "    if (i > -1) {\n",
       "      window.Bokeh.documents.splice(i, 1);\n",
       "    }\n",
       "  }\n",
       "}\n",
       "\n",
       "/**\n",
       " * Handle kernel restart event\n",
       " */\n",
       "function handle_kernel_cleanup(event, handle) {\n",
       "  delete PyViz.comms[\"hv-extension-comm\"];\n",
       "  window.PyViz.plot_index = {}\n",
       "}\n",
       "\n",
       "/**\n",
       " * Handle update_display_data messages\n",
       " */\n",
       "function handle_update_output(event, handle) {\n",
       "  handle_clear_output(event, {cell: {output_area: handle.output_area}})\n",
       "  handle_add_output(event, handle)\n",
       "}\n",
       "\n",
       "function register_renderer(events, OutputArea) {\n",
       "  function append_mime(data, metadata, element) {\n",
       "    // create a DOM node to render to\n",
       "    var toinsert = this.create_output_subarea(\n",
       "    metadata,\n",
       "    CLASS_NAME,\n",
       "    EXEC_MIME_TYPE\n",
       "    );\n",
       "    this.keyboard_manager.register_events(toinsert);\n",
       "    // Render to node\n",
       "    var props = {data: data, metadata: metadata[EXEC_MIME_TYPE]};\n",
       "    render(props, toinsert[0]);\n",
       "    element.append(toinsert);\n",
       "    return toinsert\n",
       "  }\n",
       "\n",
       "  events.on('output_added.OutputArea', handle_add_output);\n",
       "  events.on('output_updated.OutputArea', handle_update_output);\n",
       "  events.on('clear_output.CodeCell', handle_clear_output);\n",
       "  events.on('delete.Cell', handle_clear_output);\n",
       "  events.on('kernel_ready.Kernel', handle_kernel_cleanup);\n",
       "\n",
       "  OutputArea.prototype.register_mime_type(EXEC_MIME_TYPE, append_mime, {\n",
       "    safe: true,\n",
       "    index: 0\n",
       "  });\n",
       "}\n",
       "\n",
       "if (window.Jupyter !== undefined) {\n",
       "  try {\n",
       "    var events = require('base/js/events');\n",
       "    var OutputArea = require('notebook/js/outputarea').OutputArea;\n",
       "    if (OutputArea.prototype.mime_types().indexOf(EXEC_MIME_TYPE) == -1) {\n",
       "      register_renderer(events, OutputArea);\n",
       "    }\n",
       "  } catch(err) {\n",
       "  }\n",
       "}\n"
      ],
      "application/vnd.holoviews_load.v0+json": "\nif ((window.PyViz === undefined) || (window.PyViz instanceof HTMLElement)) {\n  window.PyViz = {comms: {}, comm_status:{}, kernels:{}, receivers: {}, plot_index: []}\n}\n\n\n    function JupyterCommManager() {\n    }\n\n    JupyterCommManager.prototype.register_target = function(plot_id, comm_id, msg_handler) {\n      if (window.comm_manager || ((window.Jupyter !== undefined) && (Jupyter.notebook.kernel != null))) {\n        var comm_manager = window.comm_manager || Jupyter.notebook.kernel.comm_manager;\n        comm_manager.register_target(comm_id, function(comm) {\n          comm.on_msg(msg_handler);\n        });\n      } else if ((plot_id in window.PyViz.kernels) && (window.PyViz.kernels[plot_id])) {\n        window.PyViz.kernels[plot_id].registerCommTarget(comm_id, function(comm) {\n          comm.onMsg = msg_handler;\n        });\n      } else if (typeof google != 'undefined' && google.colab.kernel != null) {\n        google.colab.kernel.comms.registerTarget(comm_id, (comm) => {\n          var messages = comm.messages[Symbol.asyncIterator]();\n          function processIteratorResult(result) {\n            var message = result.value;\n            console.log(message)\n            var content = {data: message.data, comm_id};\n            var buffers = []\n            for (var buffer of message.buffers || []) {\n              buffers.push(new DataView(buffer))\n            }\n            var metadata = message.metadata || {};\n            var msg = {content, buffers, metadata}\n            msg_handler(msg);\n            return messages.next().then(processIteratorResult);\n          }\n          return messages.next().then(processIteratorResult);\n        })\n      }\n    }\n\n    JupyterCommManager.prototype.get_client_comm = function(plot_id, comm_id, msg_handler) {\n      if (comm_id in window.PyViz.comms) {\n        return window.PyViz.comms[comm_id];\n      } else if (window.comm_manager || ((window.Jupyter !== undefined) && (Jupyter.notebook.kernel != null))) {\n        var comm_manager = window.comm_manager || Jupyter.notebook.kernel.comm_manager;\n        var comm = comm_manager.new_comm(comm_id, {}, {}, {}, comm_id);\n        if (msg_handler) {\n          comm.on_msg(msg_handler);\n        }\n      } else if ((plot_id in window.PyViz.kernels) && (window.PyViz.kernels[plot_id])) {\n        var comm = window.PyViz.kernels[plot_id].connectToComm(comm_id);\n        comm.open();\n        if (msg_handler) {\n          comm.onMsg = msg_handler;\n        }\n      } else if (typeof google != 'undefined' && google.colab.kernel != null) {\n        var comm_promise = google.colab.kernel.comms.open(comm_id)\n        comm_promise.then((comm) => {\n          window.PyViz.comms[comm_id] = comm;\n          if (msg_handler) {\n            var messages = comm.messages[Symbol.asyncIterator]();\n            function processIteratorResult(result) {\n              var message = result.value;\n              var content = {data: message.data};\n              var metadata = message.metadata || {comm_id};\n              var msg = {content, metadata}\n              msg_handler(msg);\n              return messages.next().then(processIteratorResult);\n            }\n            return messages.next().then(processIteratorResult);\n          }\n        }) \n        var sendClosure = (data, metadata, buffers, disposeOnDone) => {\n          return comm_promise.then((comm) => {\n            comm.send(data, metadata, buffers, disposeOnDone);\n          });\n        };\n        var comm = {\n          send: sendClosure\n        };\n      }\n      window.PyViz.comms[comm_id] = comm;\n      return comm;\n    }\n    window.PyViz.comm_manager = new JupyterCommManager();\n    \n\n\nvar JS_MIME_TYPE = 'application/javascript';\nvar HTML_MIME_TYPE = 'text/html';\nvar EXEC_MIME_TYPE = 'application/vnd.holoviews_exec.v0+json';\nvar CLASS_NAME = 'output';\n\n/**\n * Render data to the DOM node\n */\nfunction render(props, node) {\n  var div = document.createElement(\"div\");\n  var script = document.createElement(\"script\");\n  node.appendChild(div);\n  node.appendChild(script);\n}\n\n/**\n * Handle when a new output is added\n */\nfunction handle_add_output(event, handle) {\n  var output_area = handle.output_area;\n  var output = handle.output;\n  if ((output.data == undefined) || (!output.data.hasOwnProperty(EXEC_MIME_TYPE))) {\n    return\n  }\n  var id = output.metadata[EXEC_MIME_TYPE][\"id\"];\n  var toinsert = output_area.element.find(\".\" + CLASS_NAME.split(' ')[0]);\n  if (id !== undefined) {\n    var nchildren = toinsert.length;\n    var html_node = toinsert[nchildren-1].children[0];\n    html_node.innerHTML = output.data[HTML_MIME_TYPE];\n    var scripts = [];\n    var nodelist = html_node.querySelectorAll(\"script\");\n    for (var i in nodelist) {\n      if (nodelist.hasOwnProperty(i)) {\n        scripts.push(nodelist[i])\n      }\n    }\n\n    scripts.forEach( function (oldScript) {\n      var newScript = document.createElement(\"script\");\n      var attrs = [];\n      var nodemap = oldScript.attributes;\n      for (var j in nodemap) {\n        if (nodemap.hasOwnProperty(j)) {\n          attrs.push(nodemap[j])\n        }\n      }\n      attrs.forEach(function(attr) { newScript.setAttribute(attr.name, attr.value) });\n      newScript.appendChild(document.createTextNode(oldScript.innerHTML));\n      oldScript.parentNode.replaceChild(newScript, oldScript);\n    });\n    if (JS_MIME_TYPE in output.data) {\n      toinsert[nchildren-1].children[1].textContent = output.data[JS_MIME_TYPE];\n    }\n    output_area._hv_plot_id = id;\n    if ((window.Bokeh !== undefined) && (id in Bokeh.index)) {\n      window.PyViz.plot_index[id] = Bokeh.index[id];\n    } else {\n      window.PyViz.plot_index[id] = null;\n    }\n  } else if (output.metadata[EXEC_MIME_TYPE][\"server_id\"] !== undefined) {\n    var bk_div = document.createElement(\"div\");\n    bk_div.innerHTML = output.data[HTML_MIME_TYPE];\n    var script_attrs = bk_div.children[0].attributes;\n    for (var i = 0; i < script_attrs.length; i++) {\n      toinsert[toinsert.length - 1].childNodes[1].setAttribute(script_attrs[i].name, script_attrs[i].value);\n    }\n    // store reference to server id on output_area\n    output_area._bokeh_server_id = output.metadata[EXEC_MIME_TYPE][\"server_id\"];\n  }\n}\n\n/**\n * Handle when an output is cleared or removed\n */\nfunction handle_clear_output(event, handle) {\n  var id = handle.cell.output_area._hv_plot_id;\n  var server_id = handle.cell.output_area._bokeh_server_id;\n  if (((id === undefined) || !(id in PyViz.plot_index)) && (server_id !== undefined)) { return; }\n  var comm = window.PyViz.comm_manager.get_client_comm(\"hv-extension-comm\", \"hv-extension-comm\", function () {});\n  if (server_id !== null) {\n    comm.send({event_type: 'server_delete', 'id': server_id});\n    return;\n  } else if (comm !== null) {\n    comm.send({event_type: 'delete', 'id': id});\n  }\n  delete PyViz.plot_index[id];\n  if ((window.Bokeh !== undefined) & (id in window.Bokeh.index)) {\n    var doc = window.Bokeh.index[id].model.document\n    doc.clear();\n    const i = window.Bokeh.documents.indexOf(doc);\n    if (i > -1) {\n      window.Bokeh.documents.splice(i, 1);\n    }\n  }\n}\n\n/**\n * Handle kernel restart event\n */\nfunction handle_kernel_cleanup(event, handle) {\n  delete PyViz.comms[\"hv-extension-comm\"];\n  window.PyViz.plot_index = {}\n}\n\n/**\n * Handle update_display_data messages\n */\nfunction handle_update_output(event, handle) {\n  handle_clear_output(event, {cell: {output_area: handle.output_area}})\n  handle_add_output(event, handle)\n}\n\nfunction register_renderer(events, OutputArea) {\n  function append_mime(data, metadata, element) {\n    // create a DOM node to render to\n    var toinsert = this.create_output_subarea(\n    metadata,\n    CLASS_NAME,\n    EXEC_MIME_TYPE\n    );\n    this.keyboard_manager.register_events(toinsert);\n    // Render to node\n    var props = {data: data, metadata: metadata[EXEC_MIME_TYPE]};\n    render(props, toinsert[0]);\n    element.append(toinsert);\n    return toinsert\n  }\n\n  events.on('output_added.OutputArea', handle_add_output);\n  events.on('output_updated.OutputArea', handle_update_output);\n  events.on('clear_output.CodeCell', handle_clear_output);\n  events.on('delete.Cell', handle_clear_output);\n  events.on('kernel_ready.Kernel', handle_kernel_cleanup);\n\n  OutputArea.prototype.register_mime_type(EXEC_MIME_TYPE, append_mime, {\n    safe: true,\n    index: 0\n  });\n}\n\nif (window.Jupyter !== undefined) {\n  try {\n    var events = require('base/js/events');\n    var OutputArea = require('notebook/js/outputarea').OutputArea;\n    if (OutputArea.prototype.mime_types().indexOf(EXEC_MIME_TYPE) == -1) {\n      register_renderer(events, OutputArea);\n    }\n  } catch(err) {\n  }\n}\n"
     },
     "metadata": {},
     "output_type": "display_data"
    },
    {
     "data": {
      "text/html": [
       "<style>*[data-root-id],\n",
       "*[data-root-id] > * {\n",
       "  box-sizing: border-box;\n",
       "  font-family: var(--jp-ui-font-family);\n",
       "  font-size: var(--jp-ui-font-size1);\n",
       "  color: var(--vscode-editor-foreground, var(--jp-ui-font-color1));\n",
       "}\n",
       "\n",
       "/* Override VSCode background color */\n",
       ".cell-output-ipywidget-background:has(\n",
       "    > .cell-output-ipywidget-background > .lm-Widget > *[data-root-id]\n",
       "  ),\n",
       ".cell-output-ipywidget-background:has(> .lm-Widget > *[data-root-id]) {\n",
       "  background-color: transparent !important;\n",
       "}\n",
       "</style>"
      ]
     },
     "metadata": {},
     "output_type": "display_data"
    },
    {
     "data": {
      "application/vnd.holoviews_exec.v0+json": "",
      "text/html": [
       "<div id='p1002'>\n",
       "  <div id=\"a41b2760-1bea-45bb-9a1a-8ce2f42ed0e6\" data-root-id=\"p1002\" style=\"display: contents;\"></div>\n",
       "</div>\n",
       "<script type=\"application/javascript\">(function(root) {\n",
       "  var docs_json = {\"adc35ff0-fa50-4b02-b855-4656a49ea04c\":{\"version\":\"3.4.3\",\"title\":\"Bokeh Application\",\"roots\":[{\"type\":\"object\",\"name\":\"panel.models.browser.BrowserInfo\",\"id\":\"p1002\"},{\"type\":\"object\",\"name\":\"panel.models.comm_manager.CommManager\",\"id\":\"p1003\",\"attributes\":{\"plot_id\":\"p1002\",\"comm_id\":\"3133256ab882468a8de6532f06f2c84e\",\"client_comm_id\":\"ce8493b9eba84e298eb23a80c37528cb\"}}],\"defs\":[{\"type\":\"model\",\"name\":\"ReactiveHTML1\"},{\"type\":\"model\",\"name\":\"FlexBox1\",\"properties\":[{\"name\":\"align_content\",\"kind\":\"Any\",\"default\":\"flex-start\"},{\"name\":\"align_items\",\"kind\":\"Any\",\"default\":\"flex-start\"},{\"name\":\"flex_direction\",\"kind\":\"Any\",\"default\":\"row\"},{\"name\":\"flex_wrap\",\"kind\":\"Any\",\"default\":\"wrap\"},{\"name\":\"gap\",\"kind\":\"Any\",\"default\":\"\"},{\"name\":\"justify_content\",\"kind\":\"Any\",\"default\":\"flex-start\"}]},{\"type\":\"model\",\"name\":\"FloatPanel1\",\"properties\":[{\"name\":\"config\",\"kind\":\"Any\",\"default\":{\"type\":\"map\"}},{\"name\":\"contained\",\"kind\":\"Any\",\"default\":true},{\"name\":\"position\",\"kind\":\"Any\",\"default\":\"right-top\"},{\"name\":\"offsetx\",\"kind\":\"Any\",\"default\":null},{\"name\":\"offsety\",\"kind\":\"Any\",\"default\":null},{\"name\":\"theme\",\"kind\":\"Any\",\"default\":\"primary\"},{\"name\":\"status\",\"kind\":\"Any\",\"default\":\"normalized\"}]},{\"type\":\"model\",\"name\":\"GridStack1\",\"properties\":[{\"name\":\"mode\",\"kind\":\"Any\",\"default\":\"warn\"},{\"name\":\"ncols\",\"kind\":\"Any\",\"default\":null},{\"name\":\"nrows\",\"kind\":\"Any\",\"default\":null},{\"name\":\"allow_resize\",\"kind\":\"Any\",\"default\":true},{\"name\":\"allow_drag\",\"kind\":\"Any\",\"default\":true},{\"name\":\"state\",\"kind\":\"Any\",\"default\":[]}]},{\"type\":\"model\",\"name\":\"drag1\",\"properties\":[{\"name\":\"slider_width\",\"kind\":\"Any\",\"default\":5},{\"name\":\"slider_color\",\"kind\":\"Any\",\"default\":\"black\"},{\"name\":\"value\",\"kind\":\"Any\",\"default\":50}]},{\"type\":\"model\",\"name\":\"click1\",\"properties\":[{\"name\":\"terminal_output\",\"kind\":\"Any\",\"default\":\"\"},{\"name\":\"debug_name\",\"kind\":\"Any\",\"default\":\"\"},{\"name\":\"clears\",\"kind\":\"Any\",\"default\":0}]},{\"type\":\"model\",\"name\":\"FastWrapper1\",\"properties\":[{\"name\":\"object\",\"kind\":\"Any\",\"default\":null},{\"name\":\"style\",\"kind\":\"Any\",\"default\":null}]},{\"type\":\"model\",\"name\":\"NotificationAreaBase1\",\"properties\":[{\"name\":\"js_events\",\"kind\":\"Any\",\"default\":{\"type\":\"map\"}},{\"name\":\"position\",\"kind\":\"Any\",\"default\":\"bottom-right\"},{\"name\":\"_clear\",\"kind\":\"Any\",\"default\":0}]},{\"type\":\"model\",\"name\":\"NotificationArea1\",\"properties\":[{\"name\":\"js_events\",\"kind\":\"Any\",\"default\":{\"type\":\"map\"}},{\"name\":\"notifications\",\"kind\":\"Any\",\"default\":[]},{\"name\":\"position\",\"kind\":\"Any\",\"default\":\"bottom-right\"},{\"name\":\"_clear\",\"kind\":\"Any\",\"default\":0},{\"name\":\"types\",\"kind\":\"Any\",\"default\":[{\"type\":\"map\",\"entries\":[[\"type\",\"warning\"],[\"background\",\"#ffc107\"],[\"icon\",{\"type\":\"map\",\"entries\":[[\"className\",\"fas fa-exclamation-triangle\"],[\"tagName\",\"i\"],[\"color\",\"white\"]]}]]},{\"type\":\"map\",\"entries\":[[\"type\",\"info\"],[\"background\",\"#007bff\"],[\"icon\",{\"type\":\"map\",\"entries\":[[\"className\",\"fas fa-info-circle\"],[\"tagName\",\"i\"],[\"color\",\"white\"]]}]]}]}]},{\"type\":\"model\",\"name\":\"Notification\",\"properties\":[{\"name\":\"background\",\"kind\":\"Any\",\"default\":null},{\"name\":\"duration\",\"kind\":\"Any\",\"default\":3000},{\"name\":\"icon\",\"kind\":\"Any\",\"default\":null},{\"name\":\"message\",\"kind\":\"Any\",\"default\":\"\"},{\"name\":\"notification_type\",\"kind\":\"Any\",\"default\":null},{\"name\":\"_destroyed\",\"kind\":\"Any\",\"default\":false}]},{\"type\":\"model\",\"name\":\"TemplateActions1\",\"properties\":[{\"name\":\"open_modal\",\"kind\":\"Any\",\"default\":0},{\"name\":\"close_modal\",\"kind\":\"Any\",\"default\":0}]},{\"type\":\"model\",\"name\":\"BootstrapTemplateActions1\",\"properties\":[{\"name\":\"open_modal\",\"kind\":\"Any\",\"default\":0},{\"name\":\"close_modal\",\"kind\":\"Any\",\"default\":0}]},{\"type\":\"model\",\"name\":\"TemplateEditor1\",\"properties\":[{\"name\":\"layout\",\"kind\":\"Any\",\"default\":[]}]},{\"type\":\"model\",\"name\":\"MaterialTemplateActions1\",\"properties\":[{\"name\":\"open_modal\",\"kind\":\"Any\",\"default\":0},{\"name\":\"close_modal\",\"kind\":\"Any\",\"default\":0}]},{\"type\":\"model\",\"name\":\"copy_to_clipboard1\",\"properties\":[{\"name\":\"fill\",\"kind\":\"Any\",\"default\":\"none\"},{\"name\":\"value\",\"kind\":\"Any\",\"default\":null}]}]}};\n",
       "  var render_items = [{\"docid\":\"adc35ff0-fa50-4b02-b855-4656a49ea04c\",\"roots\":{\"p1002\":\"a41b2760-1bea-45bb-9a1a-8ce2f42ed0e6\"},\"root_ids\":[\"p1002\"]}];\n",
       "  var docs = Object.values(docs_json)\n",
       "  if (!docs) {\n",
       "    return\n",
       "  }\n",
       "  const py_version = docs[0].version.replace('rc', '-rc.').replace('.dev', '-dev.')\n",
       "  async function embed_document(root) {\n",
       "    var Bokeh = get_bokeh(root)\n",
       "    await Bokeh.embed.embed_items_notebook(docs_json, render_items);\n",
       "    for (const render_item of render_items) {\n",
       "      for (const root_id of render_item.root_ids) {\n",
       "\tconst id_el = document.getElementById(root_id)\n",
       "\tif (id_el.children.length && id_el.children[0].hasAttribute('data-root-id')) {\n",
       "\t  const root_el = id_el.children[0]\n",
       "\t  root_el.id = root_el.id + '-rendered'\n",
       "\t  for (const child of root_el.children) {\n",
       "            // Ensure JupyterLab does not capture keyboard shortcuts\n",
       "            // see: https://jupyterlab.readthedocs.io/en/4.1.x/extension/notebook.html#keyboard-interaction-model\n",
       "\t    child.setAttribute('data-lm-suppress-shortcuts', 'true')\n",
       "\t  }\n",
       "\t}\n",
       "      }\n",
       "    }\n",
       "  }\n",
       "  function get_bokeh(root) {\n",
       "    if (root.Bokeh === undefined) {\n",
       "      return null\n",
       "    } else if (root.Bokeh.version !== py_version) {\n",
       "      if (root.Bokeh.versions === undefined || !root.Bokeh.versions.has(py_version)) {\n",
       "\treturn null\n",
       "      }\n",
       "      return root.Bokeh.versions.get(py_version);\n",
       "    } else if (root.Bokeh.version === py_version) {\n",
       "      return root.Bokeh\n",
       "    }\n",
       "    return null\n",
       "  }\n",
       "  function is_loaded(root) {\n",
       "    var Bokeh = get_bokeh(root)\n",
       "    return (Bokeh != null && Bokeh.Panel !== undefined)\n",
       "  }\n",
       "  if (is_loaded(root)) {\n",
       "    embed_document(root);\n",
       "  } else {\n",
       "    var attempts = 0;\n",
       "    var timer = setInterval(function(root) {\n",
       "      if (is_loaded(root)) {\n",
       "        clearInterval(timer);\n",
       "        embed_document(root);\n",
       "      } else if (document.readyState == \"complete\") {\n",
       "        attempts++;\n",
       "        if (attempts > 200) {\n",
       "          clearInterval(timer);\n",
       "\t  var Bokeh = get_bokeh(root)\n",
       "\t  if (Bokeh == null || Bokeh.Panel == null) {\n",
       "            console.warn(\"Panel: ERROR: Unable to run Panel code because Bokeh or Panel library is missing\");\n",
       "\t  } else {\n",
       "\t    console.warn(\"Panel: WARNING: Attempting to render but not all required libraries could be resolved.\")\n",
       "\t    embed_document(root)\n",
       "\t  }\n",
       "        }\n",
       "      }\n",
       "    }, 25, root)\n",
       "  }\n",
       "})(window);</script>"
      ]
     },
     "metadata": {
      "application/vnd.holoviews_exec.v0+json": {
       "id": "p1002"
      }
     },
     "output_type": "display_data"
    },
    {
     "data": {
      "application/javascript": [
       "(function(root) {\n",
       "  function now() {\n",
       "    return new Date();\n",
       "  }\n",
       "\n",
       "  var force = true;\n",
       "  var py_version = '3.4.3'.replace('rc', '-rc.').replace('.dev', '-dev.');\n",
       "  var reloading = true;\n",
       "  var Bokeh = root.Bokeh;\n",
       "\n",
       "  if (typeof (root._bokeh_timeout) === \"undefined\" || force) {\n",
       "    root._bokeh_timeout = Date.now() + 5000;\n",
       "    root._bokeh_failed_load = false;\n",
       "  }\n",
       "\n",
       "  function run_callbacks() {\n",
       "    try {\n",
       "      root._bokeh_onload_callbacks.forEach(function(callback) {\n",
       "        if (callback != null)\n",
       "          callback();\n",
       "      });\n",
       "    } finally {\n",
       "      delete root._bokeh_onload_callbacks;\n",
       "    }\n",
       "    console.debug(\"Bokeh: all callbacks have finished\");\n",
       "  }\n",
       "\n",
       "  function load_libs(css_urls, js_urls, js_modules, js_exports, callback) {\n",
       "    if (css_urls == null) css_urls = [];\n",
       "    if (js_urls == null) js_urls = [];\n",
       "    if (js_modules == null) js_modules = [];\n",
       "    if (js_exports == null) js_exports = {};\n",
       "\n",
       "    root._bokeh_onload_callbacks.push(callback);\n",
       "\n",
       "    if (root._bokeh_is_loading > 0) {\n",
       "      console.debug(\"Bokeh: BokehJS is being loaded, scheduling callback at\", now());\n",
       "      return null;\n",
       "    }\n",
       "    if (js_urls.length === 0 && js_modules.length === 0 && Object.keys(js_exports).length === 0) {\n",
       "      run_callbacks();\n",
       "      return null;\n",
       "    }\n",
       "    if (!reloading) {\n",
       "      console.debug(\"Bokeh: BokehJS not loaded, scheduling load and callback at\", now());\n",
       "    }\n",
       "\n",
       "    function on_load() {\n",
       "      root._bokeh_is_loading--;\n",
       "      if (root._bokeh_is_loading === 0) {\n",
       "        console.debug(\"Bokeh: all BokehJS libraries/stylesheets loaded\");\n",
       "        run_callbacks()\n",
       "      }\n",
       "    }\n",
       "    window._bokeh_on_load = on_load\n",
       "\n",
       "    function on_error() {\n",
       "      console.error(\"failed to load \" + url);\n",
       "    }\n",
       "\n",
       "    var skip = [];\n",
       "    if (window.requirejs) {\n",
       "      window.requirejs.config({'packages': {}, 'paths': {}, 'shim': {}});\n",
       "      root._bokeh_is_loading = css_urls.length + 0;\n",
       "    } else {\n",
       "      root._bokeh_is_loading = css_urls.length + js_urls.length + js_modules.length + Object.keys(js_exports).length;\n",
       "    }\n",
       "\n",
       "    var existing_stylesheets = []\n",
       "    var links = document.getElementsByTagName('link')\n",
       "    for (var i = 0; i < links.length; i++) {\n",
       "      var link = links[i]\n",
       "      if (link.href != null) {\n",
       "\texisting_stylesheets.push(link.href)\n",
       "      }\n",
       "    }\n",
       "    for (var i = 0; i < css_urls.length; i++) {\n",
       "      var url = css_urls[i];\n",
       "      if (existing_stylesheets.indexOf(url) !== -1) {\n",
       "\ton_load()\n",
       "\tcontinue;\n",
       "      }\n",
       "      const element = document.createElement(\"link\");\n",
       "      element.onload = on_load;\n",
       "      element.onerror = on_error;\n",
       "      element.rel = \"stylesheet\";\n",
       "      element.type = \"text/css\";\n",
       "      element.href = url;\n",
       "      console.debug(\"Bokeh: injecting link tag for BokehJS stylesheet: \", url);\n",
       "      document.body.appendChild(element);\n",
       "    }    var existing_scripts = []\n",
       "    var scripts = document.getElementsByTagName('script')\n",
       "    for (var i = 0; i < scripts.length; i++) {\n",
       "      var script = scripts[i]\n",
       "      if (script.src != null) {\n",
       "\texisting_scripts.push(script.src)\n",
       "      }\n",
       "    }\n",
       "    for (var i = 0; i < js_urls.length; i++) {\n",
       "      var url = js_urls[i];\n",
       "      if (skip.indexOf(url) !== -1 || existing_scripts.indexOf(url) !== -1) {\n",
       "\tif (!window.requirejs) {\n",
       "\t  on_load();\n",
       "\t}\n",
       "\tcontinue;\n",
       "      }\n",
       "      var element = document.createElement('script');\n",
       "      element.onload = on_load;\n",
       "      element.onerror = on_error;\n",
       "      element.async = false;\n",
       "      element.src = url;\n",
       "      console.debug(\"Bokeh: injecting script tag for BokehJS library: \", url);\n",
       "      document.head.appendChild(element);\n",
       "    }\n",
       "    for (var i = 0; i < js_modules.length; i++) {\n",
       "      var url = js_modules[i];\n",
       "      if (skip.indexOf(url) !== -1 || existing_scripts.indexOf(url) !== -1) {\n",
       "\tif (!window.requirejs) {\n",
       "\t  on_load();\n",
       "\t}\n",
       "\tcontinue;\n",
       "      }\n",
       "      var element = document.createElement('script');\n",
       "      element.onload = on_load;\n",
       "      element.onerror = on_error;\n",
       "      element.async = false;\n",
       "      element.src = url;\n",
       "      element.type = \"module\";\n",
       "      console.debug(\"Bokeh: injecting script tag for BokehJS library: \", url);\n",
       "      document.head.appendChild(element);\n",
       "    }\n",
       "    for (const name in js_exports) {\n",
       "      var url = js_exports[name];\n",
       "      if (skip.indexOf(url) >= 0 || root[name] != null) {\n",
       "\tif (!window.requirejs) {\n",
       "\t  on_load();\n",
       "\t}\n",
       "\tcontinue;\n",
       "      }\n",
       "      var element = document.createElement('script');\n",
       "      element.onerror = on_error;\n",
       "      element.async = false;\n",
       "      element.type = \"module\";\n",
       "      console.debug(\"Bokeh: injecting script tag for BokehJS library: \", url);\n",
       "      element.textContent = `\n",
       "      import ${name} from \"${url}\"\n",
       "      window.${name} = ${name}\n",
       "      window._bokeh_on_load()\n",
       "      `\n",
       "      document.head.appendChild(element);\n",
       "    }\n",
       "    if (!js_urls.length && !js_modules.length) {\n",
       "      on_load()\n",
       "    }\n",
       "  };\n",
       "\n",
       "  function inject_raw_css(css) {\n",
       "    const element = document.createElement(\"style\");\n",
       "    element.appendChild(document.createTextNode(css));\n",
       "    document.body.appendChild(element);\n",
       "  }\n",
       "\n",
       "  var js_urls = [];\n",
       "  var js_modules = [];\n",
       "  var js_exports = {};\n",
       "  var css_urls = [];\n",
       "  var inline_js = [    function(Bokeh) {\n",
       "      Bokeh.set_log_level(\"info\");\n",
       "    },\n",
       "function(Bokeh) {} // ensure no trailing comma for IE\n",
       "  ];\n",
       "\n",
       "  function run_inline_js() {\n",
       "    if ((root.Bokeh !== undefined) || (force === true)) {\n",
       "      for (var i = 0; i < inline_js.length; i++) {\n",
       "\ttry {\n",
       "          inline_js[i].call(root, root.Bokeh);\n",
       "\t} catch(e) {\n",
       "\t  if (!reloading) {\n",
       "\t    throw e;\n",
       "\t  }\n",
       "\t}\n",
       "      }\n",
       "      // Cache old bokeh versions\n",
       "      if (Bokeh != undefined && !reloading) {\n",
       "\tvar NewBokeh = root.Bokeh;\n",
       "\tif (Bokeh.versions === undefined) {\n",
       "\t  Bokeh.versions = new Map();\n",
       "\t}\n",
       "\tif (NewBokeh.version !== Bokeh.version) {\n",
       "\t  Bokeh.versions.set(NewBokeh.version, NewBokeh)\n",
       "\t}\n",
       "\troot.Bokeh = Bokeh;\n",
       "      }} else if (Date.now() < root._bokeh_timeout) {\n",
       "      setTimeout(run_inline_js, 100);\n",
       "    } else if (!root._bokeh_failed_load) {\n",
       "      console.log(\"Bokeh: BokehJS failed to load within specified timeout.\");\n",
       "      root._bokeh_failed_load = true;\n",
       "    }\n",
       "    root._bokeh_is_initializing = false\n",
       "  }\n",
       "\n",
       "  function load_or_wait() {\n",
       "    // Implement a backoff loop that tries to ensure we do not load multiple\n",
       "    // versions of Bokeh and its dependencies at the same time.\n",
       "    // In recent versions we use the root._bokeh_is_initializing flag\n",
       "    // to determine whether there is an ongoing attempt to initialize\n",
       "    // bokeh, however for backward compatibility we also try to ensure\n",
       "    // that we do not start loading a newer (Panel>=1.0 and Bokeh>3) version\n",
       "    // before older versions are fully initialized.\n",
       "    if (root._bokeh_is_initializing && Date.now() > root._bokeh_timeout) {\n",
       "      root._bokeh_is_initializing = false;\n",
       "      root._bokeh_onload_callbacks = undefined;\n",
       "      console.log(\"Bokeh: BokehJS was loaded multiple times but one version failed to initialize.\");\n",
       "      load_or_wait();\n",
       "    } else if (root._bokeh_is_initializing || (typeof root._bokeh_is_initializing === \"undefined\" && root._bokeh_onload_callbacks !== undefined)) {\n",
       "      setTimeout(load_or_wait, 100);\n",
       "    } else {\n",
       "      root._bokeh_is_initializing = true\n",
       "      root._bokeh_onload_callbacks = []\n",
       "      var bokeh_loaded = Bokeh != null && (Bokeh.version === py_version || (Bokeh.versions !== undefined && Bokeh.versions.has(py_version)));\n",
       "      if (!reloading && !bokeh_loaded) {\n",
       "\troot.Bokeh = undefined;\n",
       "      }\n",
       "      load_libs(css_urls, js_urls, js_modules, js_exports, function() {\n",
       "\tconsole.debug(\"Bokeh: BokehJS plotting callback run at\", now());\n",
       "\trun_inline_js();\n",
       "      });\n",
       "    }\n",
       "  }\n",
       "  // Give older versions of the autoload script a head-start to ensure\n",
       "  // they initialize before we start loading newer version.\n",
       "  setTimeout(load_or_wait, 100)\n",
       "}(window));"
      ],
      "application/vnd.holoviews_load.v0+json": "(function(root) {\n  function now() {\n    return new Date();\n  }\n\n  var force = true;\n  var py_version = '3.4.3'.replace('rc', '-rc.').replace('.dev', '-dev.');\n  var reloading = true;\n  var Bokeh = root.Bokeh;\n\n  if (typeof (root._bokeh_timeout) === \"undefined\" || force) {\n    root._bokeh_timeout = Date.now() + 5000;\n    root._bokeh_failed_load = false;\n  }\n\n  function run_callbacks() {\n    try {\n      root._bokeh_onload_callbacks.forEach(function(callback) {\n        if (callback != null)\n          callback();\n      });\n    } finally {\n      delete root._bokeh_onload_callbacks;\n    }\n    console.debug(\"Bokeh: all callbacks have finished\");\n  }\n\n  function load_libs(css_urls, js_urls, js_modules, js_exports, callback) {\n    if (css_urls == null) css_urls = [];\n    if (js_urls == null) js_urls = [];\n    if (js_modules == null) js_modules = [];\n    if (js_exports == null) js_exports = {};\n\n    root._bokeh_onload_callbacks.push(callback);\n\n    if (root._bokeh_is_loading > 0) {\n      console.debug(\"Bokeh: BokehJS is being loaded, scheduling callback at\", now());\n      return null;\n    }\n    if (js_urls.length === 0 && js_modules.length === 0 && Object.keys(js_exports).length === 0) {\n      run_callbacks();\n      return null;\n    }\n    if (!reloading) {\n      console.debug(\"Bokeh: BokehJS not loaded, scheduling load and callback at\", now());\n    }\n\n    function on_load() {\n      root._bokeh_is_loading--;\n      if (root._bokeh_is_loading === 0) {\n        console.debug(\"Bokeh: all BokehJS libraries/stylesheets loaded\");\n        run_callbacks()\n      }\n    }\n    window._bokeh_on_load = on_load\n\n    function on_error() {\n      console.error(\"failed to load \" + url);\n    }\n\n    var skip = [];\n    if (window.requirejs) {\n      window.requirejs.config({'packages': {}, 'paths': {}, 'shim': {}});\n      root._bokeh_is_loading = css_urls.length + 0;\n    } else {\n      root._bokeh_is_loading = css_urls.length + js_urls.length + js_modules.length + Object.keys(js_exports).length;\n    }\n\n    var existing_stylesheets = []\n    var links = document.getElementsByTagName('link')\n    for (var i = 0; i < links.length; i++) {\n      var link = links[i]\n      if (link.href != null) {\n\texisting_stylesheets.push(link.href)\n      }\n    }\n    for (var i = 0; i < css_urls.length; i++) {\n      var url = css_urls[i];\n      if (existing_stylesheets.indexOf(url) !== -1) {\n\ton_load()\n\tcontinue;\n      }\n      const element = document.createElement(\"link\");\n      element.onload = on_load;\n      element.onerror = on_error;\n      element.rel = \"stylesheet\";\n      element.type = \"text/css\";\n      element.href = url;\n      console.debug(\"Bokeh: injecting link tag for BokehJS stylesheet: \", url);\n      document.body.appendChild(element);\n    }    var existing_scripts = []\n    var scripts = document.getElementsByTagName('script')\n    for (var i = 0; i < scripts.length; i++) {\n      var script = scripts[i]\n      if (script.src != null) {\n\texisting_scripts.push(script.src)\n      }\n    }\n    for (var i = 0; i < js_urls.length; i++) {\n      var url = js_urls[i];\n      if (skip.indexOf(url) !== -1 || existing_scripts.indexOf(url) !== -1) {\n\tif (!window.requirejs) {\n\t  on_load();\n\t}\n\tcontinue;\n      }\n      var element = document.createElement('script');\n      element.onload = on_load;\n      element.onerror = on_error;\n      element.async = false;\n      element.src = url;\n      console.debug(\"Bokeh: injecting script tag for BokehJS library: \", url);\n      document.head.appendChild(element);\n    }\n    for (var i = 0; i < js_modules.length; i++) {\n      var url = js_modules[i];\n      if (skip.indexOf(url) !== -1 || existing_scripts.indexOf(url) !== -1) {\n\tif (!window.requirejs) {\n\t  on_load();\n\t}\n\tcontinue;\n      }\n      var element = document.createElement('script');\n      element.onload = on_load;\n      element.onerror = on_error;\n      element.async = false;\n      element.src = url;\n      element.type = \"module\";\n      console.debug(\"Bokeh: injecting script tag for BokehJS library: \", url);\n      document.head.appendChild(element);\n    }\n    for (const name in js_exports) {\n      var url = js_exports[name];\n      if (skip.indexOf(url) >= 0 || root[name] != null) {\n\tif (!window.requirejs) {\n\t  on_load();\n\t}\n\tcontinue;\n      }\n      var element = document.createElement('script');\n      element.onerror = on_error;\n      element.async = false;\n      element.type = \"module\";\n      console.debug(\"Bokeh: injecting script tag for BokehJS library: \", url);\n      element.textContent = `\n      import ${name} from \"${url}\"\n      window.${name} = ${name}\n      window._bokeh_on_load()\n      `\n      document.head.appendChild(element);\n    }\n    if (!js_urls.length && !js_modules.length) {\n      on_load()\n    }\n  };\n\n  function inject_raw_css(css) {\n    const element = document.createElement(\"style\");\n    element.appendChild(document.createTextNode(css));\n    document.body.appendChild(element);\n  }\n\n  var js_urls = [];\n  var js_modules = [];\n  var js_exports = {};\n  var css_urls = [];\n  var inline_js = [    function(Bokeh) {\n      Bokeh.set_log_level(\"info\");\n    },\nfunction(Bokeh) {} // ensure no trailing comma for IE\n  ];\n\n  function run_inline_js() {\n    if ((root.Bokeh !== undefined) || (force === true)) {\n      for (var i = 0; i < inline_js.length; i++) {\n\ttry {\n          inline_js[i].call(root, root.Bokeh);\n\t} catch(e) {\n\t  if (!reloading) {\n\t    throw e;\n\t  }\n\t}\n      }\n      // Cache old bokeh versions\n      if (Bokeh != undefined && !reloading) {\n\tvar NewBokeh = root.Bokeh;\n\tif (Bokeh.versions === undefined) {\n\t  Bokeh.versions = new Map();\n\t}\n\tif (NewBokeh.version !== Bokeh.version) {\n\t  Bokeh.versions.set(NewBokeh.version, NewBokeh)\n\t}\n\troot.Bokeh = Bokeh;\n      }} else if (Date.now() < root._bokeh_timeout) {\n      setTimeout(run_inline_js, 100);\n    } else if (!root._bokeh_failed_load) {\n      console.log(\"Bokeh: BokehJS failed to load within specified timeout.\");\n      root._bokeh_failed_load = true;\n    }\n    root._bokeh_is_initializing = false\n  }\n\n  function load_or_wait() {\n    // Implement a backoff loop that tries to ensure we do not load multiple\n    // versions of Bokeh and its dependencies at the same time.\n    // In recent versions we use the root._bokeh_is_initializing flag\n    // to determine whether there is an ongoing attempt to initialize\n    // bokeh, however for backward compatibility we also try to ensure\n    // that we do not start loading a newer (Panel>=1.0 and Bokeh>3) version\n    // before older versions are fully initialized.\n    if (root._bokeh_is_initializing && Date.now() > root._bokeh_timeout) {\n      root._bokeh_is_initializing = false;\n      root._bokeh_onload_callbacks = undefined;\n      console.log(\"Bokeh: BokehJS was loaded multiple times but one version failed to initialize.\");\n      load_or_wait();\n    } else if (root._bokeh_is_initializing || (typeof root._bokeh_is_initializing === \"undefined\" && root._bokeh_onload_callbacks !== undefined)) {\n      setTimeout(load_or_wait, 100);\n    } else {\n      root._bokeh_is_initializing = true\n      root._bokeh_onload_callbacks = []\n      var bokeh_loaded = Bokeh != null && (Bokeh.version === py_version || (Bokeh.versions !== undefined && Bokeh.versions.has(py_version)));\n      if (!reloading && !bokeh_loaded) {\n\troot.Bokeh = undefined;\n      }\n      load_libs(css_urls, js_urls, js_modules, js_exports, function() {\n\tconsole.debug(\"Bokeh: BokehJS plotting callback run at\", now());\n\trun_inline_js();\n      });\n    }\n  }\n  // Give older versions of the autoload script a head-start to ensure\n  // they initialize before we start loading newer version.\n  setTimeout(load_or_wait, 100)\n}(window));"
     },
     "metadata": {},
     "output_type": "display_data"
    },
    {
     "data": {
      "application/javascript": [
       "\n",
       "if ((window.PyViz === undefined) || (window.PyViz instanceof HTMLElement)) {\n",
       "  window.PyViz = {comms: {}, comm_status:{}, kernels:{}, receivers: {}, plot_index: []}\n",
       "}\n",
       "\n",
       "\n",
       "    function JupyterCommManager() {\n",
       "    }\n",
       "\n",
       "    JupyterCommManager.prototype.register_target = function(plot_id, comm_id, msg_handler) {\n",
       "      if (window.comm_manager || ((window.Jupyter !== undefined) && (Jupyter.notebook.kernel != null))) {\n",
       "        var comm_manager = window.comm_manager || Jupyter.notebook.kernel.comm_manager;\n",
       "        comm_manager.register_target(comm_id, function(comm) {\n",
       "          comm.on_msg(msg_handler);\n",
       "        });\n",
       "      } else if ((plot_id in window.PyViz.kernels) && (window.PyViz.kernels[plot_id])) {\n",
       "        window.PyViz.kernels[plot_id].registerCommTarget(comm_id, function(comm) {\n",
       "          comm.onMsg = msg_handler;\n",
       "        });\n",
       "      } else if (typeof google != 'undefined' && google.colab.kernel != null) {\n",
       "        google.colab.kernel.comms.registerTarget(comm_id, (comm) => {\n",
       "          var messages = comm.messages[Symbol.asyncIterator]();\n",
       "          function processIteratorResult(result) {\n",
       "            var message = result.value;\n",
       "            console.log(message)\n",
       "            var content = {data: message.data, comm_id};\n",
       "            var buffers = []\n",
       "            for (var buffer of message.buffers || []) {\n",
       "              buffers.push(new DataView(buffer))\n",
       "            }\n",
       "            var metadata = message.metadata || {};\n",
       "            var msg = {content, buffers, metadata}\n",
       "            msg_handler(msg);\n",
       "            return messages.next().then(processIteratorResult);\n",
       "          }\n",
       "          return messages.next().then(processIteratorResult);\n",
       "        })\n",
       "      }\n",
       "    }\n",
       "\n",
       "    JupyterCommManager.prototype.get_client_comm = function(plot_id, comm_id, msg_handler) {\n",
       "      if (comm_id in window.PyViz.comms) {\n",
       "        return window.PyViz.comms[comm_id];\n",
       "      } else if (window.comm_manager || ((window.Jupyter !== undefined) && (Jupyter.notebook.kernel != null))) {\n",
       "        var comm_manager = window.comm_manager || Jupyter.notebook.kernel.comm_manager;\n",
       "        var comm = comm_manager.new_comm(comm_id, {}, {}, {}, comm_id);\n",
       "        if (msg_handler) {\n",
       "          comm.on_msg(msg_handler);\n",
       "        }\n",
       "      } else if ((plot_id in window.PyViz.kernels) && (window.PyViz.kernels[plot_id])) {\n",
       "        var comm = window.PyViz.kernels[plot_id].connectToComm(comm_id);\n",
       "        comm.open();\n",
       "        if (msg_handler) {\n",
       "          comm.onMsg = msg_handler;\n",
       "        }\n",
       "      } else if (typeof google != 'undefined' && google.colab.kernel != null) {\n",
       "        var comm_promise = google.colab.kernel.comms.open(comm_id)\n",
       "        comm_promise.then((comm) => {\n",
       "          window.PyViz.comms[comm_id] = comm;\n",
       "          if (msg_handler) {\n",
       "            var messages = comm.messages[Symbol.asyncIterator]();\n",
       "            function processIteratorResult(result) {\n",
       "              var message = result.value;\n",
       "              var content = {data: message.data};\n",
       "              var metadata = message.metadata || {comm_id};\n",
       "              var msg = {content, metadata}\n",
       "              msg_handler(msg);\n",
       "              return messages.next().then(processIteratorResult);\n",
       "            }\n",
       "            return messages.next().then(processIteratorResult);\n",
       "          }\n",
       "        }) \n",
       "        var sendClosure = (data, metadata, buffers, disposeOnDone) => {\n",
       "          return comm_promise.then((comm) => {\n",
       "            comm.send(data, metadata, buffers, disposeOnDone);\n",
       "          });\n",
       "        };\n",
       "        var comm = {\n",
       "          send: sendClosure\n",
       "        };\n",
       "      }\n",
       "      window.PyViz.comms[comm_id] = comm;\n",
       "      return comm;\n",
       "    }\n",
       "    window.PyViz.comm_manager = new JupyterCommManager();\n",
       "    \n",
       "\n",
       "\n",
       "var JS_MIME_TYPE = 'application/javascript';\n",
       "var HTML_MIME_TYPE = 'text/html';\n",
       "var EXEC_MIME_TYPE = 'application/vnd.holoviews_exec.v0+json';\n",
       "var CLASS_NAME = 'output';\n",
       "\n",
       "/**\n",
       " * Render data to the DOM node\n",
       " */\n",
       "function render(props, node) {\n",
       "  var div = document.createElement(\"div\");\n",
       "  var script = document.createElement(\"script\");\n",
       "  node.appendChild(div);\n",
       "  node.appendChild(script);\n",
       "}\n",
       "\n",
       "/**\n",
       " * Handle when a new output is added\n",
       " */\n",
       "function handle_add_output(event, handle) {\n",
       "  var output_area = handle.output_area;\n",
       "  var output = handle.output;\n",
       "  if ((output.data == undefined) || (!output.data.hasOwnProperty(EXEC_MIME_TYPE))) {\n",
       "    return\n",
       "  }\n",
       "  var id = output.metadata[EXEC_MIME_TYPE][\"id\"];\n",
       "  var toinsert = output_area.element.find(\".\" + CLASS_NAME.split(' ')[0]);\n",
       "  if (id !== undefined) {\n",
       "    var nchildren = toinsert.length;\n",
       "    var html_node = toinsert[nchildren-1].children[0];\n",
       "    html_node.innerHTML = output.data[HTML_MIME_TYPE];\n",
       "    var scripts = [];\n",
       "    var nodelist = html_node.querySelectorAll(\"script\");\n",
       "    for (var i in nodelist) {\n",
       "      if (nodelist.hasOwnProperty(i)) {\n",
       "        scripts.push(nodelist[i])\n",
       "      }\n",
       "    }\n",
       "\n",
       "    scripts.forEach( function (oldScript) {\n",
       "      var newScript = document.createElement(\"script\");\n",
       "      var attrs = [];\n",
       "      var nodemap = oldScript.attributes;\n",
       "      for (var j in nodemap) {\n",
       "        if (nodemap.hasOwnProperty(j)) {\n",
       "          attrs.push(nodemap[j])\n",
       "        }\n",
       "      }\n",
       "      attrs.forEach(function(attr) { newScript.setAttribute(attr.name, attr.value) });\n",
       "      newScript.appendChild(document.createTextNode(oldScript.innerHTML));\n",
       "      oldScript.parentNode.replaceChild(newScript, oldScript);\n",
       "    });\n",
       "    if (JS_MIME_TYPE in output.data) {\n",
       "      toinsert[nchildren-1].children[1].textContent = output.data[JS_MIME_TYPE];\n",
       "    }\n",
       "    output_area._hv_plot_id = id;\n",
       "    if ((window.Bokeh !== undefined) && (id in Bokeh.index)) {\n",
       "      window.PyViz.plot_index[id] = Bokeh.index[id];\n",
       "    } else {\n",
       "      window.PyViz.plot_index[id] = null;\n",
       "    }\n",
       "  } else if (output.metadata[EXEC_MIME_TYPE][\"server_id\"] !== undefined) {\n",
       "    var bk_div = document.createElement(\"div\");\n",
       "    bk_div.innerHTML = output.data[HTML_MIME_TYPE];\n",
       "    var script_attrs = bk_div.children[0].attributes;\n",
       "    for (var i = 0; i < script_attrs.length; i++) {\n",
       "      toinsert[toinsert.length - 1].childNodes[1].setAttribute(script_attrs[i].name, script_attrs[i].value);\n",
       "    }\n",
       "    // store reference to server id on output_area\n",
       "    output_area._bokeh_server_id = output.metadata[EXEC_MIME_TYPE][\"server_id\"];\n",
       "  }\n",
       "}\n",
       "\n",
       "/**\n",
       " * Handle when an output is cleared or removed\n",
       " */\n",
       "function handle_clear_output(event, handle) {\n",
       "  var id = handle.cell.output_area._hv_plot_id;\n",
       "  var server_id = handle.cell.output_area._bokeh_server_id;\n",
       "  if (((id === undefined) || !(id in PyViz.plot_index)) && (server_id !== undefined)) { return; }\n",
       "  var comm = window.PyViz.comm_manager.get_client_comm(\"hv-extension-comm\", \"hv-extension-comm\", function () {});\n",
       "  if (server_id !== null) {\n",
       "    comm.send({event_type: 'server_delete', 'id': server_id});\n",
       "    return;\n",
       "  } else if (comm !== null) {\n",
       "    comm.send({event_type: 'delete', 'id': id});\n",
       "  }\n",
       "  delete PyViz.plot_index[id];\n",
       "  if ((window.Bokeh !== undefined) & (id in window.Bokeh.index)) {\n",
       "    var doc = window.Bokeh.index[id].model.document\n",
       "    doc.clear();\n",
       "    const i = window.Bokeh.documents.indexOf(doc);\n",
       "    if (i > -1) {\n",
       "      window.Bokeh.documents.splice(i, 1);\n",
       "    }\n",
       "  }\n",
       "}\n",
       "\n",
       "/**\n",
       " * Handle kernel restart event\n",
       " */\n",
       "function handle_kernel_cleanup(event, handle) {\n",
       "  delete PyViz.comms[\"hv-extension-comm\"];\n",
       "  window.PyViz.plot_index = {}\n",
       "}\n",
       "\n",
       "/**\n",
       " * Handle update_display_data messages\n",
       " */\n",
       "function handle_update_output(event, handle) {\n",
       "  handle_clear_output(event, {cell: {output_area: handle.output_area}})\n",
       "  handle_add_output(event, handle)\n",
       "}\n",
       "\n",
       "function register_renderer(events, OutputArea) {\n",
       "  function append_mime(data, metadata, element) {\n",
       "    // create a DOM node to render to\n",
       "    var toinsert = this.create_output_subarea(\n",
       "    metadata,\n",
       "    CLASS_NAME,\n",
       "    EXEC_MIME_TYPE\n",
       "    );\n",
       "    this.keyboard_manager.register_events(toinsert);\n",
       "    // Render to node\n",
       "    var props = {data: data, metadata: metadata[EXEC_MIME_TYPE]};\n",
       "    render(props, toinsert[0]);\n",
       "    element.append(toinsert);\n",
       "    return toinsert\n",
       "  }\n",
       "\n",
       "  events.on('output_added.OutputArea', handle_add_output);\n",
       "  events.on('output_updated.OutputArea', handle_update_output);\n",
       "  events.on('clear_output.CodeCell', handle_clear_output);\n",
       "  events.on('delete.Cell', handle_clear_output);\n",
       "  events.on('kernel_ready.Kernel', handle_kernel_cleanup);\n",
       "\n",
       "  OutputArea.prototype.register_mime_type(EXEC_MIME_TYPE, append_mime, {\n",
       "    safe: true,\n",
       "    index: 0\n",
       "  });\n",
       "}\n",
       "\n",
       "if (window.Jupyter !== undefined) {\n",
       "  try {\n",
       "    var events = require('base/js/events');\n",
       "    var OutputArea = require('notebook/js/outputarea').OutputArea;\n",
       "    if (OutputArea.prototype.mime_types().indexOf(EXEC_MIME_TYPE) == -1) {\n",
       "      register_renderer(events, OutputArea);\n",
       "    }\n",
       "  } catch(err) {\n",
       "  }\n",
       "}\n"
      ],
      "application/vnd.holoviews_load.v0+json": "\nif ((window.PyViz === undefined) || (window.PyViz instanceof HTMLElement)) {\n  window.PyViz = {comms: {}, comm_status:{}, kernels:{}, receivers: {}, plot_index: []}\n}\n\n\n    function JupyterCommManager() {\n    }\n\n    JupyterCommManager.prototype.register_target = function(plot_id, comm_id, msg_handler) {\n      if (window.comm_manager || ((window.Jupyter !== undefined) && (Jupyter.notebook.kernel != null))) {\n        var comm_manager = window.comm_manager || Jupyter.notebook.kernel.comm_manager;\n        comm_manager.register_target(comm_id, function(comm) {\n          comm.on_msg(msg_handler);\n        });\n      } else if ((plot_id in window.PyViz.kernels) && (window.PyViz.kernels[plot_id])) {\n        window.PyViz.kernels[plot_id].registerCommTarget(comm_id, function(comm) {\n          comm.onMsg = msg_handler;\n        });\n      } else if (typeof google != 'undefined' && google.colab.kernel != null) {\n        google.colab.kernel.comms.registerTarget(comm_id, (comm) => {\n          var messages = comm.messages[Symbol.asyncIterator]();\n          function processIteratorResult(result) {\n            var message = result.value;\n            console.log(message)\n            var content = {data: message.data, comm_id};\n            var buffers = []\n            for (var buffer of message.buffers || []) {\n              buffers.push(new DataView(buffer))\n            }\n            var metadata = message.metadata || {};\n            var msg = {content, buffers, metadata}\n            msg_handler(msg);\n            return messages.next().then(processIteratorResult);\n          }\n          return messages.next().then(processIteratorResult);\n        })\n      }\n    }\n\n    JupyterCommManager.prototype.get_client_comm = function(plot_id, comm_id, msg_handler) {\n      if (comm_id in window.PyViz.comms) {\n        return window.PyViz.comms[comm_id];\n      } else if (window.comm_manager || ((window.Jupyter !== undefined) && (Jupyter.notebook.kernel != null))) {\n        var comm_manager = window.comm_manager || Jupyter.notebook.kernel.comm_manager;\n        var comm = comm_manager.new_comm(comm_id, {}, {}, {}, comm_id);\n        if (msg_handler) {\n          comm.on_msg(msg_handler);\n        }\n      } else if ((plot_id in window.PyViz.kernels) && (window.PyViz.kernels[plot_id])) {\n        var comm = window.PyViz.kernels[plot_id].connectToComm(comm_id);\n        comm.open();\n        if (msg_handler) {\n          comm.onMsg = msg_handler;\n        }\n      } else if (typeof google != 'undefined' && google.colab.kernel != null) {\n        var comm_promise = google.colab.kernel.comms.open(comm_id)\n        comm_promise.then((comm) => {\n          window.PyViz.comms[comm_id] = comm;\n          if (msg_handler) {\n            var messages = comm.messages[Symbol.asyncIterator]();\n            function processIteratorResult(result) {\n              var message = result.value;\n              var content = {data: message.data};\n              var metadata = message.metadata || {comm_id};\n              var msg = {content, metadata}\n              msg_handler(msg);\n              return messages.next().then(processIteratorResult);\n            }\n            return messages.next().then(processIteratorResult);\n          }\n        }) \n        var sendClosure = (data, metadata, buffers, disposeOnDone) => {\n          return comm_promise.then((comm) => {\n            comm.send(data, metadata, buffers, disposeOnDone);\n          });\n        };\n        var comm = {\n          send: sendClosure\n        };\n      }\n      window.PyViz.comms[comm_id] = comm;\n      return comm;\n    }\n    window.PyViz.comm_manager = new JupyterCommManager();\n    \n\n\nvar JS_MIME_TYPE = 'application/javascript';\nvar HTML_MIME_TYPE = 'text/html';\nvar EXEC_MIME_TYPE = 'application/vnd.holoviews_exec.v0+json';\nvar CLASS_NAME = 'output';\n\n/**\n * Render data to the DOM node\n */\nfunction render(props, node) {\n  var div = document.createElement(\"div\");\n  var script = document.createElement(\"script\");\n  node.appendChild(div);\n  node.appendChild(script);\n}\n\n/**\n * Handle when a new output is added\n */\nfunction handle_add_output(event, handle) {\n  var output_area = handle.output_area;\n  var output = handle.output;\n  if ((output.data == undefined) || (!output.data.hasOwnProperty(EXEC_MIME_TYPE))) {\n    return\n  }\n  var id = output.metadata[EXEC_MIME_TYPE][\"id\"];\n  var toinsert = output_area.element.find(\".\" + CLASS_NAME.split(' ')[0]);\n  if (id !== undefined) {\n    var nchildren = toinsert.length;\n    var html_node = toinsert[nchildren-1].children[0];\n    html_node.innerHTML = output.data[HTML_MIME_TYPE];\n    var scripts = [];\n    var nodelist = html_node.querySelectorAll(\"script\");\n    for (var i in nodelist) {\n      if (nodelist.hasOwnProperty(i)) {\n        scripts.push(nodelist[i])\n      }\n    }\n\n    scripts.forEach( function (oldScript) {\n      var newScript = document.createElement(\"script\");\n      var attrs = [];\n      var nodemap = oldScript.attributes;\n      for (var j in nodemap) {\n        if (nodemap.hasOwnProperty(j)) {\n          attrs.push(nodemap[j])\n        }\n      }\n      attrs.forEach(function(attr) { newScript.setAttribute(attr.name, attr.value) });\n      newScript.appendChild(document.createTextNode(oldScript.innerHTML));\n      oldScript.parentNode.replaceChild(newScript, oldScript);\n    });\n    if (JS_MIME_TYPE in output.data) {\n      toinsert[nchildren-1].children[1].textContent = output.data[JS_MIME_TYPE];\n    }\n    output_area._hv_plot_id = id;\n    if ((window.Bokeh !== undefined) && (id in Bokeh.index)) {\n      window.PyViz.plot_index[id] = Bokeh.index[id];\n    } else {\n      window.PyViz.plot_index[id] = null;\n    }\n  } else if (output.metadata[EXEC_MIME_TYPE][\"server_id\"] !== undefined) {\n    var bk_div = document.createElement(\"div\");\n    bk_div.innerHTML = output.data[HTML_MIME_TYPE];\n    var script_attrs = bk_div.children[0].attributes;\n    for (var i = 0; i < script_attrs.length; i++) {\n      toinsert[toinsert.length - 1].childNodes[1].setAttribute(script_attrs[i].name, script_attrs[i].value);\n    }\n    // store reference to server id on output_area\n    output_area._bokeh_server_id = output.metadata[EXEC_MIME_TYPE][\"server_id\"];\n  }\n}\n\n/**\n * Handle when an output is cleared or removed\n */\nfunction handle_clear_output(event, handle) {\n  var id = handle.cell.output_area._hv_plot_id;\n  var server_id = handle.cell.output_area._bokeh_server_id;\n  if (((id === undefined) || !(id in PyViz.plot_index)) && (server_id !== undefined)) { return; }\n  var comm = window.PyViz.comm_manager.get_client_comm(\"hv-extension-comm\", \"hv-extension-comm\", function () {});\n  if (server_id !== null) {\n    comm.send({event_type: 'server_delete', 'id': server_id});\n    return;\n  } else if (comm !== null) {\n    comm.send({event_type: 'delete', 'id': id});\n  }\n  delete PyViz.plot_index[id];\n  if ((window.Bokeh !== undefined) & (id in window.Bokeh.index)) {\n    var doc = window.Bokeh.index[id].model.document\n    doc.clear();\n    const i = window.Bokeh.documents.indexOf(doc);\n    if (i > -1) {\n      window.Bokeh.documents.splice(i, 1);\n    }\n  }\n}\n\n/**\n * Handle kernel restart event\n */\nfunction handle_kernel_cleanup(event, handle) {\n  delete PyViz.comms[\"hv-extension-comm\"];\n  window.PyViz.plot_index = {}\n}\n\n/**\n * Handle update_display_data messages\n */\nfunction handle_update_output(event, handle) {\n  handle_clear_output(event, {cell: {output_area: handle.output_area}})\n  handle_add_output(event, handle)\n}\n\nfunction register_renderer(events, OutputArea) {\n  function append_mime(data, metadata, element) {\n    // create a DOM node to render to\n    var toinsert = this.create_output_subarea(\n    metadata,\n    CLASS_NAME,\n    EXEC_MIME_TYPE\n    );\n    this.keyboard_manager.register_events(toinsert);\n    // Render to node\n    var props = {data: data, metadata: metadata[EXEC_MIME_TYPE]};\n    render(props, toinsert[0]);\n    element.append(toinsert);\n    return toinsert\n  }\n\n  events.on('output_added.OutputArea', handle_add_output);\n  events.on('output_updated.OutputArea', handle_update_output);\n  events.on('clear_output.CodeCell', handle_clear_output);\n  events.on('delete.Cell', handle_clear_output);\n  events.on('kernel_ready.Kernel', handle_kernel_cleanup);\n\n  OutputArea.prototype.register_mime_type(EXEC_MIME_TYPE, append_mime, {\n    safe: true,\n    index: 0\n  });\n}\n\nif (window.Jupyter !== undefined) {\n  try {\n    var events = require('base/js/events');\n    var OutputArea = require('notebook/js/outputarea').OutputArea;\n    if (OutputArea.prototype.mime_types().indexOf(EXEC_MIME_TYPE) == -1) {\n      register_renderer(events, OutputArea);\n    }\n  } catch(err) {\n  }\n}\n"
     },
     "metadata": {},
     "output_type": "display_data"
    },
    {
     "data": {
      "text/html": [
       "<style>*[data-root-id],\n",
       "*[data-root-id] > * {\n",
       "  box-sizing: border-box;\n",
       "  font-family: var(--jp-ui-font-family);\n",
       "  font-size: var(--jp-ui-font-size1);\n",
       "  color: var(--vscode-editor-foreground, var(--jp-ui-font-color1));\n",
       "}\n",
       "\n",
       "/* Override VSCode background color */\n",
       ".cell-output-ipywidget-background:has(\n",
       "    > .cell-output-ipywidget-background > .lm-Widget > *[data-root-id]\n",
       "  ),\n",
       ".cell-output-ipywidget-background:has(> .lm-Widget > *[data-root-id]) {\n",
       "  background-color: transparent !important;\n",
       "}\n",
       "</style>"
      ]
     },
     "metadata": {},
     "output_type": "display_data"
    },
    {
     "name": "stdout",
     "output_type": "stream",
     "text": [
      "True\n",
      "--------Version info---------\n",
      "Polars:              1.9.0\n",
      "Index type:          UInt32\n",
      "Platform:            macOS-12.7.6-x86_64-i386-64bit\n",
      "Python:              3.11.5 (main, Jan 16 2024, 17:25:53) [Clang 14.0.0 (clang-1400.0.29.202)]\n",
      "\n",
      "----Optional dependencies----\n",
      "adbc_driver_manager  1.1.0\n",
      "altair               5.4.0\n",
      "cloudpickle          3.0.0\n",
      "connectorx           0.3.3\n",
      "deltalake            0.19.1\n",
      "fastexcel            0.11.6\n",
      "fsspec               2023.12.2\n",
      "gevent               24.2.1\n",
      "great_tables         0.10.0\n",
      "matplotlib           3.9.2\n",
      "nest_asyncio         1.6.0\n",
      "numpy                2.0.2\n",
      "openpyxl             3.1.5\n",
      "pandas               2.2.2\n",
      "pyarrow              17.0.0\n",
      "pydantic             2.8.2\n",
      "pyiceberg            0.6.1\n",
      "sqlalchemy           2.0.32\n",
      "torch                <not installed>\n",
      "xlsx2csv             0.8.3\n",
      "xlsxwriter           3.2.0\n"
     ]
    }
   ],
   "source": [
    "import polars as pl\n",
    "import pandas as pd\n",
    "import matplotlib.pyplot as plt\n",
    "import matplotlib_inline.backend_inline\n",
    "import chardet\n",
    "import pprint as pp\n",
    "import hvplot.polars\n",
    "hvplot.extension('matplotlib')\n",
    "\n",
    "matplotlib_inline.backend_inline.set_matplotlib_formats(\"retina\")\n",
    "pd.options.mode.copy_on_write = True\n",
    "print(pd.options.mode.copy_on_write)\n",
    "pl.Config.set_verbose(True)\n",
    "pl.show_versions()\n",
    "\n",
    "def HR():\n",
    "    print(\"-\"*40)\n",
    "\n",
    "@pl.Config(tbl_cols=-1, ascii_tables=True)\n",
    "def tight_layout(df: pl.DataFrame, n=5) -> None:\n",
    "    with pl.Config(tbl_cols=-1, fmt_str_lengths=n):\n",
    "        print(df)\n",
    "\n",
    "def detect_encoding(filename: str) -> str:\n",
    "    \"\"\"Return the most probable character encoding for a file.\"\"\"\n",
    "    with open(filename, \"rb\") as f:\n",
    "        raw_data = f.read()\n",
    "        print(raw_data)\n",
    "        result = chardet.detect(raw_data)\n",
    "        return result[\"encoding\"]"
   ]
  },
  {
   "cell_type": "markdown",
   "id": "02b1d7b6-b056-4875-9c8d-7003adf7fc97",
   "metadata": {},
   "source": [
    "---\n",
    "# 6.1 Introduction\n",
    "\n",
    "[back to Top](#Top)\n",
    "\n",
    "Cover these points:\n",
    "\n",
    "* How sorting is a fundamental operation in data analysis.\n",
    "* Sorting criteria and how to implement them in Polars.\n",
    "* Performance aspsects of sorting.\n",
    "* How to optimize sorting operations for large datasets."
   ]
  },
  {
   "cell_type": "markdown",
   "id": "71377775-55a8-4ae1-9d8f-c8f2e3b98422",
   "metadata": {},
   "source": [
    "---\n",
    "# 6.2 Loading the Fuel Economy Dataset\n",
    "\n",
    "[back to Top](#Top)\n"
   ]
  },
  {
   "cell_type": "code",
   "execution_count": 2,
   "id": "e9d2cd99-c033-490f-b6fd-67d1e3f270e2",
   "metadata": {},
   "outputs": [
    {
     "name": "stderr",
     "output_type": "stream",
     "text": [
      "avg line length: 434.78027\n",
      "std. dev. line length: 23.885818\n",
      "initial row estimate: 47850\n",
      "no. of chunks: 4 processed by: 4 threads.\n"
     ]
    },
    {
     "name": "stdout",
     "output_type": "stream",
     "text": [
      "(48202, 84)\n",
      "29.34MB\n",
      "<class 'polars.dataframe.frame.DataFrame'>\n",
      "(48202, 15)\n",
      "2.89MB\n"
     ]
    },
    {
     "name": "stderr",
     "output_type": "stream",
     "text": [
      "/var/folders/sb/p6dz60l562q8pzfgzf74gsxm0000gn/T/ipykernel_2033/3756075621.py:14: CategoricalRemappingWarning: Local categoricals have different encodings, expensive re-encoding is done to perform this merge operation. Consider using a StringCache or an Enum type if the categories are known in advance\n",
      "  .with_columns(\n"
     ]
    }
   ],
   "source": [
    "path = 'data/vehicles.csv'\n",
    "raw = pl.read_csv(path, null_values=['NA'])\n",
    "print(raw.shape)\n",
    "print(f\"{raw.estimated_size(unit='mb'):.2f}MB\")\n",
    "\n",
    "#@pl.StringCache()\n",
    "def tweak_auto(df):\n",
    "    cols = ['year', 'make', 'model', 'displ', 'cylinders', 'trany', \n",
    "           'drive', 'VClass', 'fuelType', 'barrels08', 'city08', \n",
    "           'highway08', 'createdOn']\n",
    "    return (\n",
    "        df\n",
    "        .select(pl.col(cols))\n",
    "        .with_columns( \n",
    "            pl.col('year').cast(pl.Int16),\n",
    "            pl.col(['cylinders', 'highway08', 'city08']).cast(pl.UInt8),\n",
    "            pl.col(['displ', 'barrels08']).cast(pl.Float32),\n",
    "            pl.col(['make', 'model', 'VClass', 'drive', 'fuelType']).cast(pl.Categorical),\n",
    "            pl.col('createdOn').str.to_datetime('%a %b %d %H:%M:%S %Z %Y'),\n",
    "            is_automatic=pl.col('trany')                    \n",
    "               .str.contains('Automatic')\n",
    "               .fill_null('Automatic'),\n",
    "            num_gears=pl.col('trany')\n",
    "                .str.extract(r'(\\d+)')\n",
    "                .cast(pl.UInt8)\n",
    "                .fill_null(6)\n",
    "        )\n",
    "    )\n",
    "\n",
    "autos = tweak_auto(raw)\n",
    "print(type(autos))\n",
    "print(autos.shape)\n",
    "print(f\"{autos.estimated_size(unit='mb'):.2f}MB\")"
   ]
  },
  {
   "cell_type": "markdown",
   "id": "a5100d34-42e1-4238-9429-ce78844cb974",
   "metadata": {},
   "source": [
    "---\n",
    "# 6.3 Sorting by a Single Column\n",
    "\n",
    "[back to Top](#Top)\n",
    "\n",
    "* The primary method for sorting data in Polars is `.sort()`.\n",
    "* It can sort data by single or multiple columns.\n",
    "* Regular Python uses a `key` argument for specifying a custom sorting function.\n",
    "* Polars uses a different approach, where instead of passing a function, we pass a column or expression."
   ]
  },
  {
   "cell_type": "code",
   "execution_count": 3,
   "id": "c29db801-f0e9-4e48-ae9f-6cd572d36395",
   "metadata": {},
   "outputs": [
    {
     "data": {
      "text/plain": [
       "['Al', 'Bob', 'Charlie', 'Dan', 'Edith', 'Frank']"
      ]
     },
     "execution_count": 3,
     "metadata": {},
     "output_type": "execute_result"
    }
   ],
   "source": [
    "names = ['Al', 'Bob', 'Charlie', 'Dan', 'Edith', 'Frank']\n",
    "\n",
    "# Python sorting, sort lexically via sorted()\n",
    "sorted(names)"
   ]
  },
  {
   "cell_type": "code",
   "execution_count": 4,
   "id": "6c2e84de-91ac-442f-ab9e-1773ee310a8b",
   "metadata": {},
   "outputs": [
    {
     "data": {
      "text/plain": [
       "['Al', 'Bob', 'Dan', 'Edith', 'Frank', 'Charlie']"
      ]
     },
     "execution_count": 4,
     "metadata": {},
     "output_type": "execute_result"
    }
   ],
   "source": [
    "# Python, sort by length of the strings by passing a function to key argument\n",
    "sorted(names, key=len)"
   ]
  },
  {
   "cell_type": "markdown",
   "id": "a49eedeb-4ca9-4c82-a115-51f2d4124f53",
   "metadata": {},
   "source": [
    "* In Polars, instead of using `key`, we use the `by` parameter.\n",
    "* This provides a parallel expression to sort the data on.\n",
    "\n",
    "For example, to sort the *autos* dataframe by the length of the *make* column:\n",
    "* First convert the *make* column from a categorical column to a string column.\n",
    "* Then use `.sort()` and pass in the length of the *make* column as the `by` parameter."
   ]
  },
  {
   "cell_type": "code",
   "execution_count": 5,
   "id": "9fa5864b-cbc2-4810-98fe-cf2ed8c2f531",
   "metadata": {},
   "outputs": [
    {
     "data": {
      "text/html": [
       "<div><style>\n",
       ".dataframe > thead > tr,\n",
       ".dataframe > tbody > tr {\n",
       "  text-align: right;\n",
       "  white-space: pre-wrap;\n",
       "}\n",
       "</style>\n",
       "<small>shape: (48_202, 1)</small><table border=\"1\" class=\"dataframe\"><thead><tr><th>make_len_chars</th></tr><tr><td>u32</td></tr></thead><tbody><tr><td>10</td></tr><tr><td>7</td></tr><tr><td>5</td></tr><tr><td>5</td></tr><tr><td>6</td></tr><tr><td>&hellip;</td></tr><tr><td>6</td></tr><tr><td>6</td></tr><tr><td>6</td></tr><tr><td>6</td></tr><tr><td>6</td></tr></tbody></table></div>"
      ],
      "text/plain": [
       "shape: (48_202, 1)\n",
       "+----------------+\n",
       "| make_len_chars |\n",
       "| ---            |\n",
       "| u32            |\n",
       "+================+\n",
       "| 10             |\n",
       "| 7              |\n",
       "| 5              |\n",
       "| 5              |\n",
       "| 6              |\n",
       "| …              |\n",
       "| 6              |\n",
       "| 6              |\n",
       "| 6              |\n",
       "| 6              |\n",
       "| 6              |\n",
       "+----------------+"
      ]
     },
     "execution_count": 5,
     "metadata": {},
     "output_type": "execute_result"
    }
   ],
   "source": [
    "# test to make sure we get the correct length of 'make'\n",
    "(\n",
    "    autos\n",
    "    .select(\n",
    "        make_len_chars=pl.col('make').cast(pl.String).str.len_chars()\n",
    "    )\n",
    ")"
   ]
  },
  {
   "cell_type": "markdown",
   "id": "a525a5ee-1c38-446a-8c5d-936e9703fe98",
   "metadata": {},
   "source": [
    "---\n",
    "* We can also sort the autos dataframe by *year* without providing a custom sorting expression."
   ]
  },
  {
   "cell_type": "code",
   "execution_count": 6,
   "id": "99f411a4-bf2c-434c-853e-4a556aad4af7",
   "metadata": {},
   "outputs": [
    {
     "data": {
      "text/html": [
       "<div><style>\n",
       ".dataframe > thead > tr,\n",
       ".dataframe > tbody > tr {\n",
       "  text-align: right;\n",
       "  white-space: pre-wrap;\n",
       "}\n",
       "</style>\n",
       "<small>shape: (48_202, 15)</small><table border=\"1\" class=\"dataframe\"><thead><tr><th>year</th><th>make</th><th>model</th><th>displ</th><th>cylinders</th><th>trany</th><th>drive</th><th>VClass</th><th>fuelType</th><th>barrels08</th><th>city08</th><th>highway08</th><th>createdOn</th><th>is_automatic</th><th>num_gears</th></tr><tr><td>i16</td><td>cat</td><td>cat</td><td>f32</td><td>u8</td><td>str</td><td>cat</td><td>cat</td><td>cat</td><td>f32</td><td>u8</td><td>u8</td><td>datetime[μs]</td><td>str</td><td>u8</td></tr></thead><tbody><tr><td>1984</td><td>&quot;Alfa Romeo&quot;</td><td>&quot;Spider Veloce 2000&quot;</td><td>2.0</td><td>4</td><td>&quot;Manual 5-spd&quot;</td><td>null</td><td>&quot;Two Seaters&quot;</td><td>&quot;Regular&quot;</td><td>14.167143</td><td>18</td><td>25</td><td>2013-01-01 00:00:00</td><td>&quot;false&quot;</td><td>5</td></tr><tr><td>1984</td><td>&quot;Bertone&quot;</td><td>&quot;X1/9&quot;</td><td>1.5</td><td>4</td><td>&quot;Manual 5-spd&quot;</td><td>null</td><td>&quot;Two Seaters&quot;</td><td>&quot;Regular&quot;</td><td>13.523182</td><td>20</td><td>26</td><td>2013-01-01 00:00:00</td><td>&quot;false&quot;</td><td>5</td></tr><tr><td>1984</td><td>&quot;Chevrolet&quot;</td><td>&quot;Corvette&quot;</td><td>5.7</td><td>8</td><td>&quot;Automatic 4-spd&quot;</td><td>null</td><td>&quot;Two Seaters&quot;</td><td>&quot;Regular&quot;</td><td>19.834</td><td>13</td><td>20</td><td>2013-01-01 00:00:00</td><td>&quot;true&quot;</td><td>4</td></tr><tr><td>1984</td><td>&quot;Chevrolet&quot;</td><td>&quot;Corvette&quot;</td><td>5.7</td><td>8</td><td>&quot;Manual 4-spd&quot;</td><td>null</td><td>&quot;Two Seaters&quot;</td><td>&quot;Regular&quot;</td><td>19.834</td><td>13</td><td>20</td><td>2013-01-01 00:00:00</td><td>&quot;false&quot;</td><td>4</td></tr><tr><td>1984</td><td>&quot;Nissan&quot;</td><td>&quot;300ZX&quot;</td><td>3.0</td><td>6</td><td>&quot;Automatic 4-spd&quot;</td><td>null</td><td>&quot;Two Seaters&quot;</td><td>&quot;Regular&quot;</td><td>17.500587</td><td>15</td><td>20</td><td>2013-01-01 00:00:00</td><td>&quot;true&quot;</td><td>4</td></tr><tr><td>&hellip;</td><td>&hellip;</td><td>&hellip;</td><td>&hellip;</td><td>&hellip;</td><td>&hellip;</td><td>&hellip;</td><td>&hellip;</td><td>&hellip;</td><td>&hellip;</td><td>&hellip;</td><td>&hellip;</td><td>&hellip;</td><td>&hellip;</td><td>&hellip;</td></tr><tr><td>2025</td><td>&quot;Land Rover&quot;</td><td>&quot;Defender 130 Outbound&quot;</td><td>3.0</td><td>6</td><td>&quot;Automatic (S8)&quot;</td><td>&quot;4-Wheel Drive&quot;</td><td>&quot;Standard Sport Utility Vehicle…</td><td>&quot;Premium&quot;</td><td>16.528334</td><td>16</td><td>19</td><td>2024-10-17 00:00:00</td><td>&quot;true&quot;</td><td>8</td></tr><tr><td>2025</td><td>&quot;Nissan&quot;</td><td>&quot;Pathfinder 4WD Platinum&quot;</td><td>3.5</td><td>6</td><td>&quot;Automatic (S9)&quot;</td><td>&quot;4-Wheel Drive&quot;</td><td>&quot;Standard Sport Utility Vehicle…</td><td>&quot;Regular&quot;</td><td>13.523182</td><td>20</td><td>25</td><td>2024-10-17 00:00:00</td><td>&quot;true&quot;</td><td>9</td></tr><tr><td>2025</td><td>&quot;Porsche&quot;</td><td>&quot;Cayenne Turbo GT&quot;</td><td>4.0</td><td>8</td><td>&quot;Automatic (S8)&quot;</td><td>&quot;All-Wheel Drive&quot;</td><td>&quot;Standard Sport Utility Vehicle…</td><td>&quot;Premium&quot;</td><td>17.500587</td><td>15</td><td>20</td><td>2024-10-17 00:00:00</td><td>&quot;true&quot;</td><td>8</td></tr><tr><td>2025</td><td>&quot;Porsche&quot;</td><td>&quot;Cayenne GTS&quot;</td><td>4.0</td><td>8</td><td>&quot;Automatic (S8)&quot;</td><td>&quot;All-Wheel Drive&quot;</td><td>&quot;Standard Sport Utility Vehicle…</td><td>&quot;Premium&quot;</td><td>16.528334</td><td>15</td><td>22</td><td>2024-10-17 00:00:00</td><td>&quot;true&quot;</td><td>8</td></tr><tr><td>2025</td><td>&quot;Porsche&quot;</td><td>&quot;Cayenne GTS Coupe&quot;</td><td>4.0</td><td>8</td><td>&quot;Automatic (S8)&quot;</td><td>&quot;All-Wheel Drive&quot;</td><td>&quot;Standard Sport Utility Vehicle…</td><td>&quot;Premium&quot;</td><td>16.528334</td><td>16</td><td>22</td><td>2024-10-17 00:00:00</td><td>&quot;true&quot;</td><td>8</td></tr></tbody></table></div>"
      ],
      "text/plain": [
       "shape: (48_202, 15)\n",
       "+-----+-----+-----+-----+-----+-----+-----+-----+-----+-----+-----+--------+-------+-------+-------+\n",
       "| yea | mak | mod | dis | cyl | tra | dri | VCl | fue | bar | cit | highwa | creat | is_au | num_g |\n",
       "| r   | e   | el  | pl  | ind | ny  | ve  | ass | lTy | rel | y08 | y08    | edOn  | tomat | ears  |\n",
       "| --- | --- | --- | --- | ers | --- | --- | --- | pe  | s08 | --- | ---    | ---   | ic    | ---   |\n",
       "| i16 | cat | cat | f32 | --- | str | cat | cat | --- | --- | u8  | u8     | datet | ---   | u8    |\n",
       "|     |     |     |     | u8  |     |     |     | cat | f32 |     |        | ime[μ | str   |       |\n",
       "|     |     |     |     |     |     |     |     |     |     |     |        | s]    |       |       |\n",
       "+==================================================================================================+\n",
       "| 198 | Alf | Spi | 2.0 | 4   | Man | nul | Two | Reg | 14. | 18  | 25     | 2013- | false | 5     |\n",
       "| 4   | a   | der |     |     | ual | l   | Sea | ula | 167 |     |        | 01-01 |       |       |\n",
       "|     | Rom | Vel |     |     | 5-s |     | ter | r   | 143 |     |        | 00:00 |       |       |\n",
       "|     | eo  | oce |     |     | pd  |     | s   |     |     |     |        | :00   |       |       |\n",
       "|     |     | 200 |     |     |     |     |     |     |     |     |        |       |       |       |\n",
       "|     |     | 0   |     |     |     |     |     |     |     |     |        |       |       |       |\n",
       "| 198 | Ber | X1/ | 1.5 | 4   | Man | nul | Two | Reg | 13. | 20  | 26     | 2013- | false | 5     |\n",
       "| 4   | ton | 9   |     |     | ual | l   | Sea | ula | 523 |     |        | 01-01 |       |       |\n",
       "|     | e   |     |     |     | 5-s |     | ter | r   | 182 |     |        | 00:00 |       |       |\n",
       "|     |     |     |     |     | pd  |     | s   |     |     |     |        | :00   |       |       |\n",
       "| 198 | Che | Cor | 5.7 | 8   | Aut | nul | Two | Reg | 19. | 13  | 20     | 2013- | true  | 4     |\n",
       "| 4   | vro | vet |     |     | oma | l   | Sea | ula | 834 |     |        | 01-01 |       |       |\n",
       "|     | let | te  |     |     | tic |     | ter | r   |     |     |        | 00:00 |       |       |\n",
       "|     |     |     |     |     | 4-s |     | s   |     |     |     |        | :00   |       |       |\n",
       "|     |     |     |     |     | pd  |     |     |     |     |     |        |       |       |       |\n",
       "| 198 | Che | Cor | 5.7 | 8   | Man | nul | Two | Reg | 19. | 13  | 20     | 2013- | false | 4     |\n",
       "| 4   | vro | vet |     |     | ual | l   | Sea | ula | 834 |     |        | 01-01 |       |       |\n",
       "|     | let | te  |     |     | 4-s |     | ter | r   |     |     |        | 00:00 |       |       |\n",
       "|     |     |     |     |     | pd  |     | s   |     |     |     |        | :00   |       |       |\n",
       "| 198 | Nis | 300 | 3.0 | 6   | Aut | nul | Two | Reg | 17. | 15  | 20     | 2013- | true  | 4     |\n",
       "| 4   | san | ZX  |     |     | oma | l   | Sea | ula | 500 |     |        | 01-01 |       |       |\n",
       "|     |     |     |     |     | tic |     | ter | r   | 587 |     |        | 00:00 |       |       |\n",
       "|     |     |     |     |     | 4-s |     | s   |     |     |     |        | :00   |       |       |\n",
       "|     |     |     |     |     | pd  |     |     |     |     |     |        |       |       |       |\n",
       "| …   | …   | …   | …   | …   | …   | …   | …   | …   | …   | …   | …      | …     | …     | …     |\n",
       "| 202 | Lan | Def | 3.0 | 6   | Aut | 4-W | Sta | Pre | 16. | 16  | 19     | 2024- | true  | 8     |\n",
       "| 5   | d   | end |     |     | oma | hee | nda | miu | 528 |     |        | 10-17 |       |       |\n",
       "|     | Rov | er  |     |     | tic | l   | rd  | m   | 334 |     |        | 00:00 |       |       |\n",
       "|     | er  | 130 |     |     | (S8 | Dri | Spo |     |     |     |        | :00   |       |       |\n",
       "|     |     | Out |     |     | )   | ve  | rt  |     |     |     |        |       |       |       |\n",
       "|     |     | bou |     |     |     |     | Uti |     |     |     |        |       |       |       |\n",
       "|     |     | nd  |     |     |     |     | lit |     |     |     |        |       |       |       |\n",
       "|     |     |     |     |     |     |     | y   |     |     |     |        |       |       |       |\n",
       "|     |     |     |     |     |     |     | Veh |     |     |     |        |       |       |       |\n",
       "|     |     |     |     |     |     |     | icl |     |     |     |        |       |       |       |\n",
       "|     |     |     |     |     |     |     | e…  |     |     |     |        |       |       |       |\n",
       "| 202 | Nis | Pat | 3.5 | 6   | Aut | 4-W | Sta | Reg | 13. | 20  | 25     | 2024- | true  | 9     |\n",
       "| 5   | san | hfi |     |     | oma | hee | nda | ula | 523 |     |        | 10-17 |       |       |\n",
       "|     |     | nde |     |     | tic | l   | rd  | r   | 182 |     |        | 00:00 |       |       |\n",
       "|     |     | r   |     |     | (S9 | Dri | Spo |     |     |     |        | :00   |       |       |\n",
       "|     |     | 4WD |     |     | )   | ve  | rt  |     |     |     |        |       |       |       |\n",
       "|     |     | Pla |     |     |     |     | Uti |     |     |     |        |       |       |       |\n",
       "|     |     | tin |     |     |     |     | lit |     |     |     |        |       |       |       |\n",
       "|     |     | um  |     |     |     |     | y   |     |     |     |        |       |       |       |\n",
       "|     |     |     |     |     |     |     | Veh |     |     |     |        |       |       |       |\n",
       "|     |     |     |     |     |     |     | icl |     |     |     |        |       |       |       |\n",
       "|     |     |     |     |     |     |     | e…  |     |     |     |        |       |       |       |\n",
       "| 202 | Por | Cay | 4.0 | 8   | Aut | All | Sta | Pre | 17. | 15  | 20     | 2024- | true  | 8     |\n",
       "| 5   | sch | enn |     |     | oma | -Wh | nda | miu | 500 |     |        | 10-17 |       |       |\n",
       "|     | e   | e   |     |     | tic | eel | rd  | m   | 587 |     |        | 00:00 |       |       |\n",
       "|     |     | Tur |     |     | (S8 | Dri | Spo |     |     |     |        | :00   |       |       |\n",
       "|     |     | bo  |     |     | )   | ve  | rt  |     |     |     |        |       |       |       |\n",
       "|     |     | GT  |     |     |     |     | Uti |     |     |     |        |       |       |       |\n",
       "|     |     |     |     |     |     |     | lit |     |     |     |        |       |       |       |\n",
       "|     |     |     |     |     |     |     | y   |     |     |     |        |       |       |       |\n",
       "|     |     |     |     |     |     |     | Veh |     |     |     |        |       |       |       |\n",
       "|     |     |     |     |     |     |     | icl |     |     |     |        |       |       |       |\n",
       "|     |     |     |     |     |     |     | e…  |     |     |     |        |       |       |       |\n",
       "| 202 | Por | Cay | 4.0 | 8   | Aut | All | Sta | Pre | 16. | 15  | 22     | 2024- | true  | 8     |\n",
       "| 5   | sch | enn |     |     | oma | -Wh | nda | miu | 528 |     |        | 10-17 |       |       |\n",
       "|     | e   | e   |     |     | tic | eel | rd  | m   | 334 |     |        | 00:00 |       |       |\n",
       "|     |     | GTS |     |     | (S8 | Dri | Spo |     |     |     |        | :00   |       |       |\n",
       "|     |     |     |     |     | )   | ve  | rt  |     |     |     |        |       |       |       |\n",
       "|     |     |     |     |     |     |     | Uti |     |     |     |        |       |       |       |\n",
       "|     |     |     |     |     |     |     | lit |     |     |     |        |       |       |       |\n",
       "|     |     |     |     |     |     |     | y   |     |     |     |        |       |       |       |\n",
       "|     |     |     |     |     |     |     | Veh |     |     |     |        |       |       |       |\n",
       "|     |     |     |     |     |     |     | icl |     |     |     |        |       |       |       |\n",
       "|     |     |     |     |     |     |     | e…  |     |     |     |        |       |       |       |\n",
       "| 202 | Por | Cay | 4.0 | 8   | Aut | All | Sta | Pre | 16. | 16  | 22     | 2024- | true  | 8     |\n",
       "| 5   | sch | enn |     |     | oma | -Wh | nda | miu | 528 |     |        | 10-17 |       |       |\n",
       "|     | e   | e   |     |     | tic | eel | rd  | m   | 334 |     |        | 00:00 |       |       |\n",
       "|     |     | GTS |     |     | (S8 | Dri | Spo |     |     |     |        | :00   |       |       |\n",
       "|     |     | Cou |     |     | )   | ve  | rt  |     |     |     |        |       |       |       |\n",
       "|     |     | pe  |     |     |     |     | Uti |     |     |     |        |       |       |       |\n",
       "|     |     |     |     |     |     |     | lit |     |     |     |        |       |       |       |\n",
       "|     |     |     |     |     |     |     | y   |     |     |     |        |       |       |       |\n",
       "|     |     |     |     |     |     |     | Veh |     |     |     |        |       |       |       |\n",
       "|     |     |     |     |     |     |     | icl |     |     |     |        |       |       |       |\n",
       "|     |     |     |     |     |     |     | e…  |     |     |     |        |       |       |       |\n",
       "+-----+-----+-----+-----+-----+-----+-----+-----+-----+-----+-----+--------+-------+-------+-------+"
      ]
     },
     "execution_count": 6,
     "metadata": {},
     "output_type": "execute_result"
    }
   ],
   "source": [
    "autos.sort('year')"
   ]
  },
  {
   "cell_type": "markdown",
   "id": "98765923-5c7d-428d-8efd-a4272cf65595",
   "metadata": {},
   "source": [
    "* Sort the *autos* dataframe by the average of city and highway miles per gallon."
   ]
  },
  {
   "cell_type": "code",
   "execution_count": 7,
   "id": "86f4f77c-7fa9-45f0-a988-d206b08e5583",
   "metadata": {},
   "outputs": [
    {
     "data": {
      "text/html": [
       "<div><style>\n",
       ".dataframe > thead > tr,\n",
       ".dataframe > tbody > tr {\n",
       "  text-align: right;\n",
       "  white-space: pre-wrap;\n",
       "}\n",
       "</style>\n",
       "<small>shape: (48_202, 2)</small><table border=\"1\" class=\"dataframe\"><thead><tr><th>city08</th><th>highway08</th></tr><tr><td>u8</td><td>u8</td></tr></thead><tbody><tr><td>132</td><td>125</td></tr><tr><td>130</td><td>128</td></tr><tr><td>136</td><td>123</td></tr><tr><td>136</td><td>123</td></tr><tr><td>136</td><td>123</td></tr><tr><td>&hellip;</td><td>&hellip;</td></tr><tr><td>137</td><td>112</td></tr><tr><td>131</td><td>120</td></tr><tr><td>126</td><td>125</td></tr><tr><td>129</td><td>126</td></tr><tr><td>133</td><td>122</td></tr></tbody></table></div>"
      ],
      "text/plain": [
       "shape: (48_202, 2)\n",
       "+--------+-----------+\n",
       "| city08 | highway08 |\n",
       "| ---    | ---       |\n",
       "| u8     | u8        |\n",
       "+====================+\n",
       "| 132    | 125       |\n",
       "| 130    | 128       |\n",
       "| 136    | 123       |\n",
       "| 136    | 123       |\n",
       "| 136    | 123       |\n",
       "| …      | …         |\n",
       "| 137    | 112       |\n",
       "| 131    | 120       |\n",
       "| 126    | 125       |\n",
       "| 129    | 126       |\n",
       "| 133    | 122       |\n",
       "+--------+-----------+"
      ]
     },
     "execution_count": 7,
     "metadata": {},
     "output_type": "execute_result"
    }
   ],
   "source": [
    "(\n",
    "    autos.\n",
    "    sort(\n",
    "        (pl.col('city08') + pl.col('highway08'))/2\n",
    "    )\n",
    "    .select(['city08', 'highway08'])\n",
    ")"
   ]
  },
  {
   "cell_type": "code",
   "execution_count": 8,
   "id": "8b6b370b-ee37-480f-b244-a50bdd93d62a",
   "metadata": {},
   "outputs": [
    {
     "data": {
      "text/html": [
       "<div><style>\n",
       ".dataframe > thead > tr,\n",
       ".dataframe > tbody > tr {\n",
       "  text-align: right;\n",
       "  white-space: pre-wrap;\n",
       "}\n",
       "</style>\n",
       "<small>shape: (48_202, 3)</small><table border=\"1\" class=\"dataframe\"><thead><tr><th>city08</th><th>highway08</th><th>total_avg</th></tr><tr><td>u8</td><td>u8</td><td>f64</td></tr></thead><tbody><tr><td>132</td><td>125</td><td>0.5</td></tr><tr><td>130</td><td>128</td><td>1.0</td></tr><tr><td>136</td><td>123</td><td>1.5</td></tr><tr><td>136</td><td>123</td><td>1.5</td></tr><tr><td>136</td><td>123</td><td>1.5</td></tr><tr><td>&hellip;</td><td>&hellip;</td><td>&hellip;</td></tr><tr><td>137</td><td>112</td><td>124.5</td></tr><tr><td>131</td><td>120</td><td>125.5</td></tr><tr><td>126</td><td>125</td><td>125.5</td></tr><tr><td>129</td><td>126</td><td>127.5</td></tr><tr><td>133</td><td>122</td><td>127.5</td></tr></tbody></table></div>"
      ],
      "text/plain": [
       "shape: (48_202, 3)\n",
       "+--------+-----------+-----------+\n",
       "| city08 | highway08 | total_avg |\n",
       "| ---    | ---       | ---       |\n",
       "| u8     | u8        | f64       |\n",
       "+================================+\n",
       "| 132    | 125       | 0.5       |\n",
       "| 130    | 128       | 1.0       |\n",
       "| 136    | 123       | 1.5       |\n",
       "| 136    | 123       | 1.5       |\n",
       "| 136    | 123       | 1.5       |\n",
       "| …      | …         | …         |\n",
       "| 137    | 112       | 124.5     |\n",
       "| 131    | 120       | 125.5     |\n",
       "| 126    | 125       | 125.5     |\n",
       "| 129    | 126       | 127.5     |\n",
       "| 133    | 122       | 127.5     |\n",
       "+--------+-----------+-----------+"
      ]
     },
     "execution_count": 8,
     "metadata": {},
     "output_type": "execute_result"
    }
   ],
   "source": [
    "# GB: if we sort by a calculated combination of columns,\n",
    "# ts is much clearer if we simply create that column\n",
    "# and explicitly sort on that.\n",
    "\n",
    "# Some of the output for total_avg seems wonky!\n",
    "(\n",
    "    autos\n",
    "    .with_columns(\n",
    "        total_avg=(pl.col('city08') + pl.col('highway08'))/2\n",
    "    )\n",
    "    .sort(by='total_avg')\n",
    "    .select(['city08', 'highway08', 'total_avg'])\n",
    ")"
   ]
  },
  {
   "cell_type": "markdown",
   "id": "8fe79c70-e0a1-4fe8-b8f4-57bca7810dae",
   "metadata": {},
   "source": [
    "* Sort by a categorical column, *VClass*."
   ]
  },
  {
   "cell_type": "code",
   "execution_count": 9,
   "id": "3af7b8d6-788c-467b-bbc4-08f5718bcd96",
   "metadata": {},
   "outputs": [
    {
     "data": {
      "text/html": [
       "<div><style>\n",
       ".dataframe > thead > tr,\n",
       ".dataframe > tbody > tr {\n",
       "  text-align: right;\n",
       "  white-space: pre-wrap;\n",
       "}\n",
       "</style>\n",
       "<small>shape: (48_202, 4)</small><table border=\"1\" class=\"dataframe\"><thead><tr><th>year</th><th>make</th><th>model</th><th>VClass</th></tr><tr><td>i16</td><td>cat</td><td>cat</td><td>cat</td></tr></thead><tbody><tr><td>1985</td><td>&quot;Alfa Romeo&quot;</td><td>&quot;Spider Veloce 2000&quot;</td><td>&quot;Two Seaters&quot;</td></tr><tr><td>1985</td><td>&quot;Ferrari&quot;</td><td>&quot;Testarossa&quot;</td><td>&quot;Two Seaters&quot;</td></tr><tr><td>1994</td><td>&quot;Acura&quot;</td><td>&quot;NSX&quot;</td><td>&quot;Two Seaters&quot;</td></tr><tr><td>1994</td><td>&quot;Acura&quot;</td><td>&quot;NSX&quot;</td><td>&quot;Two Seaters&quot;</td></tr><tr><td>1994</td><td>&quot;Alfa Romeo&quot;</td><td>&quot;Spider&quot;</td><td>&quot;Two Seaters&quot;</td></tr><tr><td>&hellip;</td><td>&hellip;</td><td>&hellip;</td><td>&hellip;</td></tr><tr><td>2025</td><td>&quot;Ford&quot;</td><td>&quot;Escape FWD&quot;</td><td>&quot;Small Sport Utility Vehicle 2W…</td></tr><tr><td>2025</td><td>&quot;GMC&quot;</td><td>&quot;Terrain FWD&quot;</td><td>&quot;Small Sport Utility Vehicle 2W…</td></tr><tr><td>2025</td><td>&quot;Hyundai&quot;</td><td>&quot;Venue&quot;</td><td>&quot;Small Sport Utility Vehicle 2W…</td></tr><tr><td>2025</td><td>&quot;Lincoln&quot;</td><td>&quot;Corsair FWD&quot;</td><td>&quot;Small Sport Utility Vehicle 2W…</td></tr><tr><td>2025</td><td>&quot;Nissan&quot;</td><td>&quot;Pathfinder 2WD&quot;</td><td>&quot;Small Sport Utility Vehicle 2W…</td></tr></tbody></table></div>"
      ],
      "text/plain": [
       "shape: (48_202, 4)\n",
       "+------+------------+--------------------+---------------------------------+\n",
       "| year | make       | model              | VClass                          |\n",
       "| ---  | ---        | ---                | ---                             |\n",
       "| i16  | cat        | cat                | cat                             |\n",
       "+==========================================================================+\n",
       "| 1985 | Alfa Romeo | Spider Veloce 2000 | Two Seaters                     |\n",
       "| 1985 | Ferrari    | Testarossa         | Two Seaters                     |\n",
       "| 1994 | Acura      | NSX                | Two Seaters                     |\n",
       "| 1994 | Acura      | NSX                | Two Seaters                     |\n",
       "| 1994 | Alfa Romeo | Spider             | Two Seaters                     |\n",
       "| …    | …          | …                  | …                               |\n",
       "| 2025 | Ford       | Escape FWD         | Small Sport Utility Vehicle 2W… |\n",
       "| 2025 | GMC        | Terrain FWD        | Small Sport Utility Vehicle 2W… |\n",
       "| 2025 | Hyundai    | Venue              | Small Sport Utility Vehicle 2W… |\n",
       "| 2025 | Lincoln    | Corsair FWD        | Small Sport Utility Vehicle 2W… |\n",
       "| 2025 | Nissan     | Pathfinder 2WD     | Small Sport Utility Vehicle 2W… |\n",
       "+------+------------+--------------------+---------------------------------+"
      ]
     },
     "execution_count": 9,
     "metadata": {},
     "output_type": "execute_result"
    }
   ],
   "source": [
    "(\n",
    "    autos\n",
    "    .sort(by='VClass')\n",
    "    .select(['year', 'make', 'model', 'VClass'])\n",
    ")"
   ]
  },
  {
   "cell_type": "markdown",
   "id": "0a44ffca-943a-461d-84f1-f9f9e5b4aa24",
   "metadata": {},
   "source": [
    "* Sort by the average of the *city08* for each make.\n",
    "* First check we can compute the average of *city08* for each make.\n",
    "* We don't want the results to be aggregated by *make*.\n",
    "* So, we use `.over()` to compute for the makes, but preserve the original rows."
   ]
  },
  {
   "cell_type": "code",
   "execution_count": 10,
   "id": "bf0a1ce7-70ba-4535-a7a7-c2ac90a37f03",
   "metadata": {},
   "outputs": [
    {
     "data": {
      "text/html": [
       "<div><style>\n",
       ".dataframe > thead > tr,\n",
       ".dataframe > tbody > tr {\n",
       "  text-align: right;\n",
       "  white-space: pre-wrap;\n",
       "}\n",
       "</style>\n",
       "<small>shape: (48_202, 3)</small><table border=\"1\" class=\"dataframe\"><thead><tr><th>make</th><th>year</th><th>make_avg</th></tr><tr><td>cat</td><td>i16</td><td>f64</td></tr></thead><tbody><tr><td>&quot;Vector&quot;</td><td>1996</td><td>7.25</td></tr><tr><td>&quot;Vector&quot;</td><td>1997</td><td>7.25</td></tr><tr><td>&quot;Vector&quot;</td><td>1992</td><td>7.25</td></tr><tr><td>&quot;Vector&quot;</td><td>1993</td><td>7.25</td></tr><tr><td>&quot;Bugatti&quot;</td><td>2006</td><td>8.318182</td></tr><tr><td>&hellip;</td><td>&hellip;</td><td>&hellip;</td></tr><tr><td>&quot;Lucid&quot;</td><td>2025</td><td>124.454545</td></tr><tr><td>&quot;Lucid&quot;</td><td>2025</td><td>124.454545</td></tr><tr><td>&quot;Lucid&quot;</td><td>2025</td><td>124.454545</td></tr><tr><td>&quot;Lucid&quot;</td><td>2025</td><td>124.454545</td></tr><tr><td>&quot;Kandi&quot;</td><td>2021</td><td>127.0</td></tr></tbody></table></div>"
      ],
      "text/plain": [
       "shape: (48_202, 3)\n",
       "+---------+------+------------+\n",
       "| make    | year | make_avg   |\n",
       "| ---     | ---  | ---        |\n",
       "| cat     | i16  | f64        |\n",
       "+=============================+\n",
       "| Vector  | 1996 | 7.25       |\n",
       "| Vector  | 1997 | 7.25       |\n",
       "| Vector  | 1992 | 7.25       |\n",
       "| Vector  | 1993 | 7.25       |\n",
       "| Bugatti | 2006 | 8.318182   |\n",
       "| …       | …    | …          |\n",
       "| Lucid   | 2025 | 124.454545 |\n",
       "| Lucid   | 2025 | 124.454545 |\n",
       "| Lucid   | 2025 | 124.454545 |\n",
       "| Lucid   | 2025 | 124.454545 |\n",
       "| Kandi   | 2021 | 127.0      |\n",
       "+---------+------+------------+"
      ]
     },
     "execution_count": 10,
     "metadata": {},
     "output_type": "execute_result"
    }
   ],
   "source": [
    "(\n",
    "    autos\n",
    "    .with_columns(\n",
    "        make_avg=pl.col('city08').mean().over(pl.col('make'))\n",
    "    )\n",
    "    .select(['make', 'year', 'make_avg'])\n",
    "    .sort('make_avg')\n",
    ")"
   ]
  },
  {
   "cell_type": "markdown",
   "id": "fcf6b2b5-7790-4ff1-8ce9-5cd7a04fad4e",
   "metadata": {},
   "source": [
    "---\n",
    "# 6.4 Sorting by Multiple Columns\n",
    "\n",
    "[back to Top](#Top)\n",
    "\n",
    "* Polars `.sort()` supports multiple columns.\n",
    "* First, sort by year, then make."
   ]
  },
  {
   "cell_type": "code",
   "execution_count": 11,
   "id": "54b98f21-0ffe-4fca-a6b3-780bff19bf12",
   "metadata": {},
   "outputs": [
    {
     "data": {
      "text/html": [
       "<div><style>\n",
       ".dataframe > thead > tr,\n",
       ".dataframe > tbody > tr {\n",
       "  text-align: right;\n",
       "  white-space: pre-wrap;\n",
       "}\n",
       "</style>\n",
       "<small>shape: (48_202, 4)</small><table border=\"1\" class=\"dataframe\"><thead><tr><th>year</th><th>make</th><th>model</th><th>num_gears</th></tr><tr><td>i16</td><td>cat</td><td>cat</td><td>u8</td></tr></thead><tbody><tr><td>1984</td><td>&quot;Alfa Romeo&quot;</td><td>&quot;Spider Veloce 2000&quot;</td><td>5</td></tr><tr><td>1984</td><td>&quot;Alfa Romeo&quot;</td><td>&quot;Spider Veloce 2000&quot;</td><td>5</td></tr><tr><td>1984</td><td>&quot;Alfa Romeo&quot;</td><td>&quot;GT V6 2.5&quot;</td><td>5</td></tr><tr><td>1984</td><td>&quot;Alfa Romeo&quot;</td><td>&quot;GT V6 2.5&quot;</td><td>5</td></tr><tr><td>1984</td><td>&quot;Dodge&quot;</td><td>&quot;Charger&quot;</td><td>5</td></tr><tr><td>&hellip;</td><td>&hellip;</td><td>&hellip;</td><td>&hellip;</td></tr><tr><td>2025</td><td>&quot;Lucid&quot;</td><td>&quot;Air Pure RWD with 20 inch whee…</td><td>1</td></tr><tr><td>2025</td><td>&quot;Lucid&quot;</td><td>&quot;Air Sapphire AWD&quot;</td><td>1</td></tr><tr><td>2025</td><td>&quot;INEOS Automotive&quot;</td><td>&quot;Grenadier&quot;</td><td>8</td></tr><tr><td>2025</td><td>&quot;INEOS Automotive&quot;</td><td>&quot;Grenadier Trialmaster Edition&quot;</td><td>8</td></tr><tr><td>2025</td><td>&quot;Bugatti Rimac&quot;</td><td>&quot;Nevera&quot;</td><td>1</td></tr></tbody></table></div>"
      ],
      "text/plain": [
       "shape: (48_202, 4)\n",
       "+------+------------------+---------------------------------+-----------+\n",
       "| year | make             | model                           | num_gears |\n",
       "| ---  | ---              | ---                             | ---       |\n",
       "| i16  | cat              | cat                             | u8        |\n",
       "+=======================================================================+\n",
       "| 1984 | Alfa Romeo       | Spider Veloce 2000              | 5         |\n",
       "| 1984 | Alfa Romeo       | Spider Veloce 2000              | 5         |\n",
       "| 1984 | Alfa Romeo       | GT V6 2.5                       | 5         |\n",
       "| 1984 | Alfa Romeo       | GT V6 2.5                       | 5         |\n",
       "| 1984 | Dodge            | Charger                         | 5         |\n",
       "| …    | …                | …                               | …         |\n",
       "| 2025 | Lucid            | Air Pure RWD with 20 inch whee… | 1         |\n",
       "| 2025 | Lucid            | Air Sapphire AWD                | 1         |\n",
       "| 2025 | INEOS Automotive | Grenadier                       | 8         |\n",
       "| 2025 | INEOS Automotive | Grenadier Trialmaster Edition   | 8         |\n",
       "| 2025 | Bugatti Rimac    | Nevera                          | 1         |\n",
       "+------+------------------+---------------------------------+-----------+"
      ]
     },
     "execution_count": 11,
     "metadata": {},
     "output_type": "execute_result"
    }
   ],
   "source": [
    "\n",
    "(\n",
    "    autos\n",
    "    .sort(['year', 'make', 'model'])\n",
    "    .select('year', 'make', 'model', 'num_gears')\n",
    ")"
   ]
  },
  {
   "cell_type": "markdown",
   "id": "1ad5a038-a08f-46be-8323-18bb5c284176",
   "metadata": {},
   "source": [
    "* Sort by *year* in descending order\n",
    "* Sort by *make* and *model* in ascending order."
   ]
  },
  {
   "cell_type": "code",
   "execution_count": 12,
   "id": "069d158b-4c13-4fc6-9501-19442b88b1b9",
   "metadata": {},
   "outputs": [
    {
     "data": {
      "text/html": [
       "<div><style>\n",
       ".dataframe > thead > tr,\n",
       ".dataframe > tbody > tr {\n",
       "  text-align: right;\n",
       "  white-space: pre-wrap;\n",
       "}\n",
       "</style>\n",
       "<small>shape: (48_202, 4)</small><table border=\"1\" class=\"dataframe\"><thead><tr><th>year</th><th>make</th><th>model</th><th>num_gears</th></tr><tr><td>i16</td><td>cat</td><td>cat</td><td>u8</td></tr></thead><tbody><tr><td>2025</td><td>&quot;Alfa Romeo&quot;</td><td>&quot;Giulia&quot;</td><td>8</td></tr><tr><td>2025</td><td>&quot;Alfa Romeo&quot;</td><td>&quot;Giulia AWD&quot;</td><td>8</td></tr><tr><td>2025</td><td>&quot;Alfa Romeo&quot;</td><td>&quot;Stelvio AWD&quot;</td><td>8</td></tr><tr><td>2025</td><td>&quot;Ferrari&quot;</td><td>&quot;Daytona SP3&quot;</td><td>7</td></tr><tr><td>2025</td><td>&quot;Ferrari&quot;</td><td>&quot;Roma Spider&quot;</td><td>8</td></tr><tr><td>&hellip;</td><td>&hellip;</td><td>&hellip;</td><td>&hellip;</td></tr><tr><td>1984</td><td>&quot;Bill Dovell Motor Car Company&quot;</td><td>&quot;Dovell 230CE&quot;</td><td>4</td></tr><tr><td>1984</td><td>&quot;Bill Dovell Motor Car Company&quot;</td><td>&quot;Dovell 230E&quot;</td><td>4</td></tr><tr><td>1984</td><td>&quot;Import Foreign Auto Sales Inc&quot;</td><td>&quot;1fas 410&quot;</td><td>4</td></tr><tr><td>1984</td><td>&quot;S and S Coach Company  E.p. Du…</td><td>&quot;Funeral Coach  2WD&quot;</td><td>3</td></tr><tr><td>1984</td><td>&quot;Superior Coaches Div E.p. Dutt…</td><td>&quot;Funeral Coach  2WD&quot;</td><td>3</td></tr></tbody></table></div>"
      ],
      "text/plain": [
       "shape: (48_202, 4)\n",
       "+------+---------------------------------+--------------------+-----------+\n",
       "| year | make                            | model              | num_gears |\n",
       "| ---  | ---                             | ---                | ---       |\n",
       "| i16  | cat                             | cat                | u8        |\n",
       "+=========================================================================+\n",
       "| 2025 | Alfa Romeo                      | Giulia             | 8         |\n",
       "| 2025 | Alfa Romeo                      | Giulia AWD         | 8         |\n",
       "| 2025 | Alfa Romeo                      | Stelvio AWD        | 8         |\n",
       "| 2025 | Ferrari                         | Daytona SP3        | 7         |\n",
       "| 2025 | Ferrari                         | Roma Spider        | 8         |\n",
       "| …    | …                               | …                  | …         |\n",
       "| 1984 | Bill Dovell Motor Car Company   | Dovell 230CE       | 4         |\n",
       "| 1984 | Bill Dovell Motor Car Company   | Dovell 230E        | 4         |\n",
       "| 1984 | Import Foreign Auto Sales Inc   | 1fas 410           | 4         |\n",
       "| 1984 | S and S Coach Company  E.p. Du… | Funeral Coach  2WD | 3         |\n",
       "| 1984 | Superior Coaches Div E.p. Dutt… | Funeral Coach  2WD | 3         |\n",
       "+------+---------------------------------+--------------------+-----------+"
      ]
     },
     "execution_count": 12,
     "metadata": {},
     "output_type": "execute_result"
    }
   ],
   "source": [
    "(\n",
    "    autos\n",
    "    .sort(\n",
    "        ['year', 'make', 'model'],\n",
    "        descending=[True, False, False]\n",
    "    )\n",
    "    .select('year', 'make', 'model', 'num_gears')\n",
    ")"
   ]
  },
  {
   "cell_type": "markdown",
   "id": "ddbb2685-03ea-4808-a42f-334b6a15f43f",
   "metadata": {},
   "source": [
    "* This did not work.\n",
    "* This is because *make* and *model* columns are categorical, but not ordered.\n",
    "* We need to set the order for them.\n",
    "* We can cast it to an ordered categorical with `cast(pl.Categorical('lexical'))`.\n",
    "* This sets the ordering to *lexical ordering* (alphabetic ordering)."
   ]
  },
  {
   "cell_type": "code",
   "execution_count": 13,
   "id": "c888fdb4-d2c5-400b-9f24-056f94ef8aaf",
   "metadata": {},
   "outputs": [
    {
     "data": {
      "text/html": [
       "<div><style>\n",
       ".dataframe > thead > tr,\n",
       ".dataframe > tbody > tr {\n",
       "  text-align: right;\n",
       "  white-space: pre-wrap;\n",
       "}\n",
       "</style>\n",
       "<small>shape: (48_202, 4)</small><table border=\"1\" class=\"dataframe\"><thead><tr><th>year</th><th>make</th><th>model</th><th>num_gears</th></tr><tr><td>i16</td><td>cat</td><td>cat</td><td>u8</td></tr></thead><tbody><tr><td>2025</td><td>&quot;Acura&quot;</td><td>&quot;Integra&quot;</td><td>7</td></tr><tr><td>2025</td><td>&quot;Acura&quot;</td><td>&quot;Integra&quot;</td><td>6</td></tr><tr><td>2025</td><td>&quot;Acura&quot;</td><td>&quot;Integra A-Spec&quot;</td><td>6</td></tr><tr><td>2025</td><td>&quot;Acura&quot;</td><td>&quot;Integra A-Spec&quot;</td><td>7</td></tr><tr><td>2025</td><td>&quot;Acura&quot;</td><td>&quot;MDX AWD&quot;</td><td>10</td></tr><tr><td>&hellip;</td><td>&hellip;</td><td>&hellip;</td><td>&hellip;</td></tr><tr><td>1984</td><td>&quot;Volvo&quot;</td><td>&quot;760 GLE&quot;</td><td>5</td></tr><tr><td>1984</td><td>&quot;Volvo&quot;</td><td>&quot;760 GLE&quot;</td><td>4</td></tr><tr><td>1984</td><td>&quot;Volvo&quot;</td><td>&quot;760 GLE&quot;</td><td>4</td></tr><tr><td>1984</td><td>&quot;Volvo&quot;</td><td>&quot;760 GLE&quot;</td><td>4</td></tr><tr><td>1984</td><td>&quot;Volvo&quot;</td><td>&quot;760 GLE&quot;</td><td>5</td></tr></tbody></table></div>"
      ],
      "text/plain": [
       "shape: (48_202, 4)\n",
       "+------+-------+----------------+-----------+\n",
       "| year | make  | model          | num_gears |\n",
       "| ---  | ---   | ---            | ---       |\n",
       "| i16  | cat   | cat            | u8        |\n",
       "+===========================================+\n",
       "| 2025 | Acura | Integra        | 7         |\n",
       "| 2025 | Acura | Integra        | 6         |\n",
       "| 2025 | Acura | Integra A-Spec | 6         |\n",
       "| 2025 | Acura | Integra A-Spec | 7         |\n",
       "| 2025 | Acura | MDX AWD        | 10        |\n",
       "| …    | …     | …              | …         |\n",
       "| 1984 | Volvo | 760 GLE        | 5         |\n",
       "| 1984 | Volvo | 760 GLE        | 4         |\n",
       "| 1984 | Volvo | 760 GLE        | 4         |\n",
       "| 1984 | Volvo | 760 GLE        | 4         |\n",
       "| 1984 | Volvo | 760 GLE        | 5         |\n",
       "+------+-------+----------------+-----------+"
      ]
     },
     "execution_count": 13,
     "metadata": {},
     "output_type": "execute_result"
    }
   ],
   "source": [
    "(\n",
    "    autos\n",
    "    .with_columns(\n",
    "        pl.col('make').cast(pl.Categorical('lexical')),\n",
    "        pl.col('model').cast(pl.Categorical('lexical'))\n",
    "    )\n",
    "    .sort(\n",
    "        ['year', 'make', 'model'],\n",
    "        descending=[True, False, False]\n",
    "    )\n",
    "    .select('year', 'make', 'model', 'num_gears')\n",
    ")"
   ]
  },
  {
   "cell_type": "markdown",
   "id": "9bcd05ee-0a2e-40a9-a545-f387c4a8ca43",
   "metadata": {},
   "source": [
    "---\n",
    "# 6.5 Specifying Custom Ordering for Categorical Columns\n",
    "\n",
    "[back to Top](#Top)\n",
    "\n",
    "* We have column with month names, and we want to sort by month."
   ]
  },
  {
   "cell_type": "code",
   "execution_count": 14,
   "id": "2af5e55a-641a-48b8-a17c-f243010f1302",
   "metadata": {},
   "outputs": [
    {
     "name": "stderr",
     "output_type": "stream",
     "text": [
      "keys/aggregates are not partitionable: running default HASH AGGREGATION\n"
     ]
    },
    {
     "data": {
      "text/html": [
       "<div><style>\n",
       ".dataframe > thead > tr,\n",
       ".dataframe > tbody > tr {\n",
       "  text-align: right;\n",
       "  white-space: pre-wrap;\n",
       "}\n",
       "</style>\n",
       "<small>shape: (12, 3)</small><table border=\"1\" class=\"dataframe\"><thead><tr><th>month</th><th>year</th><th>make</th></tr><tr><td>str</td><td>list[i16]</td><td>list[cat]</td></tr></thead><tbody><tr><td>&quot;April&quot;</td><td>[2014, 2014, … 2025]</td><td>[&quot;Porsche&quot;, &quot;MINI&quot;, … &quot;BMW&quot;]</td></tr><tr><td>&quot;August&quot;</td><td>[2015, 2015, … 2024]</td><td>[&quot;Audi&quot;, &quot;BMW&quot;, … &quot;Tesla&quot;]</td></tr><tr><td>&quot;December&quot;</td><td>[2009, 2009, … 2023]</td><td>[&quot;Pontiac&quot;, &quot;Pontiac&quot;, … &quot;Rivian&quot;]</td></tr><tr><td>&quot;February&quot;</td><td>[2015, 2015, … 2023]</td><td>[&quot;Jaguar&quot;, &quot;Jaguar&quot;, … &quot;Porsche&quot;]</td></tr><tr><td>&quot;January&quot;</td><td>[1985, 1985, … 1993]</td><td>[&quot;Alfa Romeo&quot;, &quot;Ferrari&quot;, … &quot;Subaru&quot;]</td></tr><tr><td>&hellip;</td><td>&hellip;</td><td>&hellip;</td></tr><tr><td>&quot;March&quot;</td><td>[2015, 2014, … 2024]</td><td>[&quot;Audi&quot;, &quot;Honda&quot;, … &quot;Toyota&quot;]</td></tr><tr><td>&quot;May&quot;</td><td>[2015, 2015, … 2025]</td><td>[&quot;Mazda&quot;, &quot;Mazda&quot;, … &quot;Aston Martin&quot;]</td></tr><tr><td>&quot;November&quot;</td><td>[2014, 2014, … 2023]</td><td>[&quot;Lexus&quot;, &quot;Subaru&quot;, … &quot;INEOS Automotive&quot;]</td></tr><tr><td>&quot;October&quot;</td><td>[2014, 2014, … 2025]</td><td>[&quot;Lexus&quot;, &quot;Nissan&quot;, … &quot;Porsche&quot;]</td></tr><tr><td>&quot;September&quot;</td><td>[2015, 2015, … 2024]</td><td>[&quot;Chevrolet&quot;, &quot;Ferrari&quot;, … &quot;Chevrolet&quot;]</td></tr></tbody></table></div>"
      ],
      "text/plain": [
       "shape: (12, 3)\n",
       "+-----------+----------------------+---------------------------------+\n",
       "| month     | year                 | make                            |\n",
       "| ---       | ---                  | ---                             |\n",
       "| str       | list[i16]            | list[cat]                       |\n",
       "+====================================================================+\n",
       "| April     | [2014, 2014, … 2025] | [\"Porsche\", \"MINI\", … \"BMW\"]    |\n",
       "| August    | [2015, 2015, … 2024] | [\"Audi\", \"BMW\", … \"Tesla\"]      |\n",
       "| December  | [2009, 2009, … 2023] | [\"Pontiac\", \"Pontiac\", … \"Rivi… |\n",
       "| February  | [2015, 2015, … 2023] | [\"Jaguar\", \"Jaguar\", … \"Porsch… |\n",
       "| January   | [1985, 1985, … 1993] | [\"Alfa Romeo\", \"Ferrari\", … \"S… |\n",
       "| …         | …                    | …                               |\n",
       "| March     | [2015, 2014, … 2024] | [\"Audi\", \"Honda\", … \"Toyota\"]   |\n",
       "| May       | [2015, 2015, … 2025] | [\"Mazda\", \"Mazda\", … \"Aston Ma… |\n",
       "| November  | [2014, 2014, … 2023] | [\"Lexus\", \"Subaru\", … \"INEOS A… |\n",
       "| October   | [2014, 2014, … 2025] | [\"Lexus\", \"Nissan\", … \"Porsche… |\n",
       "| September | [2015, 2015, … 2024] | [\"Chevrolet\", \"Ferrari\", … \"Ch… |\n",
       "+-----------+----------------------+---------------------------------+"
      ]
     },
     "execution_count": 14,
     "metadata": {},
     "output_type": "execute_result"
    }
   ],
   "source": [
    "(\n",
    "    autos\n",
    "    .with_columns(\n",
    "        month=pl.col('createdOn').dt.strftime('%B')\n",
    "    )\n",
    "    .group_by('month').all()\n",
    "    .sort('month')\n",
    "    .select(['month', 'year', 'make'])\n",
    ")"
   ]
  },
  {
   "cell_type": "markdown",
   "id": "d66d63f8-071d-4f92-a5a1-e9c93e32e5d8",
   "metadata": {},
   "source": [
    "* A naive approach would be to sort by month names.\n",
    "* This does not work because it orders the months alphabetically.\n",
    "* We need the months to be in the order of the months, such as Jan, Feb, Mar, etc\n",
    "* We need to create a *string cache*.\n",
    "* This can be used in a context manager that allows us to temporarily creating categoricals with a custom ordering.\n",
    "* We need to create a `Series` with a categorical type and pass in the categories in the order to sort them.\n",
    "* This is the 'physical' ordering and the default ordering that the categorical type uses for sorting.\n",
    "* Next, while inside the context manager, we can cast a column with those same values to a categorical column.\n",
    "* This will use the ordering we specified in the string cache.\n",
    "\n",
    "---\n",
    "\n",
    "**polars.StringCache**\n",
    "\n",
    "A better, more explicit name would be **polars.GlobalStringCache**\n",
    "\n",
    "Context manager for enabling and disabling the global string cache.\n",
    "\n",
    "Categorical columns created under the same global string cache have the same underlying physical value when string values are equal. This allows the columns to be concatenated or used in a join operation, for example.\n",
    "\n",
    "Enabling the global string cache introduces some overhead. The amount of overhead depends on the number of categories in your data. It is advised to enable the global string cache only when strictly necessary.\n",
    "\n",
    "If StringCache calls are nested, the global string cache will only be disabled and cleared when the outermost context exits.\n",
    "\n",
    "* https://docs.pola.rs/user-guide/concepts/data-types/categoricals/#comparisons\n",
    "* https://docs.pola.rs/py-polars/html/reference/api/polars.StringCache.html#polars.StringCache"
   ]
  },
  {
   "cell_type": "code",
   "execution_count": 15,
   "id": "92760e97-df4e-4b86-b4a4-3bc1ad077d87",
   "metadata": {},
   "outputs": [
    {
     "data": {
      "text/html": [
       "<div><style>\n",
       ".dataframe > thead > tr,\n",
       ".dataframe > tbody > tr {\n",
       "  text-align: right;\n",
       "  white-space: pre-wrap;\n",
       "}\n",
       "</style>\n",
       "<small>shape: (1, 15)</small><table border=\"1\" class=\"dataframe\"><thead><tr><th>year</th><th>make</th><th>model</th><th>displ</th><th>cylinders</th><th>trany</th><th>drive</th><th>VClass</th><th>fuelType</th><th>barrels08</th><th>city08</th><th>highway08</th><th>createdOn</th><th>is_automatic</th><th>num_gears</th></tr><tr><td>i16</td><td>cat</td><td>cat</td><td>f32</td><td>u8</td><td>str</td><td>cat</td><td>cat</td><td>cat</td><td>f32</td><td>u8</td><td>u8</td><td>datetime[μs]</td><td>str</td><td>u8</td></tr></thead><tbody><tr><td>1985</td><td>&quot;Alfa Romeo&quot;</td><td>&quot;Spider Veloce 2000&quot;</td><td>2.0</td><td>4</td><td>&quot;Manual 5-spd&quot;</td><td>&quot;Rear-Wheel Drive&quot;</td><td>&quot;Two Seaters&quot;</td><td>&quot;Regular&quot;</td><td>14.167143</td><td>19</td><td>25</td><td>2013-01-01 00:00:00</td><td>&quot;false&quot;</td><td>5</td></tr></tbody></table></div>"
      ],
      "text/plain": [
       "shape: (1, 15)\n",
       "+-----+-----+-----+-----+-----+-----+-----+-----+-----+-----+-----+--------+-------+-------+-------+\n",
       "| yea | mak | mod | dis | cyl | tra | dri | VCl | fue | bar | cit | highwa | creat | is_au | num_g |\n",
       "| r   | e   | el  | pl  | ind | ny  | ve  | ass | lTy | rel | y08 | y08    | edOn  | tomat | ears  |\n",
       "| --- | --- | --- | --- | ers | --- | --- | --- | pe  | s08 | --- | ---    | ---   | ic    | ---   |\n",
       "| i16 | cat | cat | f32 | --- | str | cat | cat | --- | --- | u8  | u8     | datet | ---   | u8    |\n",
       "|     |     |     |     | u8  |     |     |     | cat | f32 |     |        | ime[μ | str   |       |\n",
       "|     |     |     |     |     |     |     |     |     |     |     |        | s]    |       |       |\n",
       "+==================================================================================================+\n",
       "| 198 | Alf | Spi | 2.0 | 4   | Man | Rea | Two | Reg | 14. | 19  | 25     | 2013- | false | 5     |\n",
       "| 5   | a   | der |     |     | ual | r-W | Sea | ula | 167 |     |        | 01-01 |       |       |\n",
       "|     | Rom | Vel |     |     | 5-s | hee | ter | r   | 143 |     |        | 00:00 |       |       |\n",
       "|     | eo  | oce |     |     | pd  | l   | s   |     |     |     |        | :00   |       |       |\n",
       "|     |     | 200 |     |     |     | Dri |     |     |     |     |        |       |       |       |\n",
       "|     |     | 0   |     |     |     | ve  |     |     |     |     |        |       |       |       |\n",
       "+-----+-----+-----+-----+-----+-----+-----+-----+-----+-----+-----+--------+-------+-------+-------+"
      ]
     },
     "execution_count": 15,
     "metadata": {},
     "output_type": "execute_result"
    }
   ],
   "source": [
    "autos.head(1)"
   ]
  },
  {
   "cell_type": "code",
   "execution_count": 16,
   "id": "39a39168-5c05-4345-8fe8-a0016fc1a871",
   "metadata": {},
   "outputs": [
    {
     "name": "stdout",
     "output_type": "stream",
     "text": [
      "shape: (48_202, 4)\n",
      "+----------+----------------+------+------------+\n",
      "| month    | month_physical | year | make       |\n",
      "| ---      | ---            | ---  | ---        |\n",
      "| cat      | u32            | i16  | cat        |\n",
      "+===============================================+\n",
      "| January  | 0              | 1985 | Alfa Romeo |\n",
      "| January  | 0              | 1985 | Ferrari    |\n",
      "| January  | 0              | 1985 | Dodge      |\n",
      "| January  | 0              | 1985 | Dodge      |\n",
      "| January  | 0              | 1993 | Subaru     |\n",
      "| …        | …              | …    | …          |\n",
      "| December | 11             | 2023 | Rivian     |\n",
      "| December | 11             | 2023 | Rivian     |\n",
      "| December | 11             | 2023 | Rivian     |\n",
      "| December | 11             | 2023 | Rivian     |\n",
      "| December | 11             | 2023 | Rivian     |\n",
      "+----------+----------------+------+------------+\n"
     ]
    }
   ],
   "source": [
    "month_order = [\n",
    "    'January', 'February', 'March', 'April', 'May', 'June',\n",
    "    'July', 'August', 'September', 'October', 'November',\n",
    "    'December'\n",
    "]\n",
    "\n",
    "with pl.StringCache():\n",
    "\n",
    "    # Need this line for the ordering\n",
    "    pl.Series(month_order).cast(pl.Categorical)\n",
    "    \n",
    "    print(\n",
    "        autos\n",
    "        .with_columns(\n",
    "            month=pl.col('createdOn')\n",
    "                .dt.strftime('%B')\n",
    "                .cast(pl.Categorical),\n",
    "            month_physical=pl.col('createdOn')\n",
    "                .dt.strftime('%B')\n",
    "                .cast(pl.Categorical)\n",
    "                .to_physical()\n",
    "        )\n",
    "        # .group_by('month').all()\n",
    "        .sort('month')\n",
    "        .select(['month', 'month_physical','year', 'make'])\n",
    "    )"
   ]
  },
  {
   "cell_type": "markdown",
   "id": "9598fe4e-e321-4662-9cde-66b8886d936f",
   "metadata": {},
   "source": [
    "* Alternatively, we can use `@pl.StringCache` as a decorator to create a string cache.\n",
    "* If we create a categorical column inside this decorated function, it will use the ordering we specified."
   ]
  },
  {
   "cell_type": "code",
   "execution_count": 17,
   "id": "a71b17e5-3e81-4ecd-a916-459faa6e01e4",
   "metadata": {},
   "outputs": [
    {
     "name": "stderr",
     "output_type": "stream",
     "text": [
      "keys/aggregates are not partitionable: running default HASH AGGREGATION\n"
     ]
    },
    {
     "data": {
      "text/html": [
       "<div><style>\n",
       ".dataframe > thead > tr,\n",
       ".dataframe > tbody > tr {\n",
       "  text-align: right;\n",
       "  white-space: pre-wrap;\n",
       "}\n",
       "</style>\n",
       "<small>shape: (12, 4)</small><table border=\"1\" class=\"dataframe\"><thead><tr><th>month</th><th>month_physical</th><th>year</th><th>make</th></tr><tr><td>cat</td><td>list[u32]</td><td>list[i16]</td><td>list[cat]</td></tr></thead><tbody><tr><td>&quot;January&quot;</td><td>[0, 0, … 0]</td><td>[1985, 1985, … 1993]</td><td>[&quot;Alfa Romeo&quot;, &quot;Ferrari&quot;, … &quot;Subaru&quot;]</td></tr><tr><td>&quot;February&quot;</td><td>[1, 1, … 1]</td><td>[2015, 2015, … 2023]</td><td>[&quot;Jaguar&quot;, &quot;Jaguar&quot;, … &quot;Porsche&quot;]</td></tr><tr><td>&quot;March&quot;</td><td>[2, 2, … 2]</td><td>[2015, 2014, … 2024]</td><td>[&quot;Audi&quot;, &quot;Honda&quot;, … &quot;Toyota&quot;]</td></tr><tr><td>&quot;April&quot;</td><td>[3, 3, … 3]</td><td>[2014, 2014, … 2025]</td><td>[&quot;Porsche&quot;, &quot;MINI&quot;, … &quot;BMW&quot;]</td></tr><tr><td>&quot;May&quot;</td><td>[4, 4, … 4]</td><td>[2015, 2015, … 2025]</td><td>[&quot;Mazda&quot;, &quot;Mazda&quot;, … &quot;Aston Martin&quot;]</td></tr><tr><td>&hellip;</td><td>&hellip;</td><td>&hellip;</td><td>&hellip;</td></tr><tr><td>&quot;August&quot;</td><td>[7, 7, … 7]</td><td>[2015, 2015, … 2024]</td><td>[&quot;Audi&quot;, &quot;BMW&quot;, … &quot;Tesla&quot;]</td></tr><tr><td>&quot;September&quot;</td><td>[8, 8, … 8]</td><td>[2015, 2015, … 2024]</td><td>[&quot;Chevrolet&quot;, &quot;Ferrari&quot;, … &quot;Chevrolet&quot;]</td></tr><tr><td>&quot;October&quot;</td><td>[9, 9, … 9]</td><td>[2014, 2014, … 2025]</td><td>[&quot;Lexus&quot;, &quot;Nissan&quot;, … &quot;Porsche&quot;]</td></tr><tr><td>&quot;November&quot;</td><td>[10, 10, … 10]</td><td>[2014, 2014, … 2023]</td><td>[&quot;Lexus&quot;, &quot;Subaru&quot;, … &quot;INEOS Automotive&quot;]</td></tr><tr><td>&quot;December&quot;</td><td>[11, 11, … 11]</td><td>[2009, 2009, … 2023]</td><td>[&quot;Pontiac&quot;, &quot;Pontiac&quot;, … &quot;Rivian&quot;]</td></tr></tbody></table></div>"
      ],
      "text/plain": [
       "shape: (12, 4)\n",
       "+-----------+----------------+----------------------+---------------------------------+\n",
       "| month     | month_physical | year                 | make                            |\n",
       "| ---       | ---            | ---                  | ---                             |\n",
       "| cat       | list[u32]      | list[i16]            | list[cat]                       |\n",
       "+=====================================================================================+\n",
       "| January   | [0, 0, … 0]    | [1985, 1985, … 1993] | [\"Alfa Romeo\", \"Ferrari\", … \"S… |\n",
       "| February  | [1, 1, … 1]    | [2015, 2015, … 2023] | [\"Jaguar\", \"Jaguar\", … \"Porsch… |\n",
       "| March     | [2, 2, … 2]    | [2015, 2014, … 2024] | [\"Audi\", \"Honda\", … \"Toyota\"]   |\n",
       "| April     | [3, 3, … 3]    | [2014, 2014, … 2025] | [\"Porsche\", \"MINI\", … \"BMW\"]    |\n",
       "| May       | [4, 4, … 4]    | [2015, 2015, … 2025] | [\"Mazda\", \"Mazda\", … \"Aston Ma… |\n",
       "| …         | …              | …                    | …                               |\n",
       "| August    | [7, 7, … 7]    | [2015, 2015, … 2024] | [\"Audi\", \"BMW\", … \"Tesla\"]      |\n",
       "| September | [8, 8, … 8]    | [2015, 2015, … 2024] | [\"Chevrolet\", \"Ferrari\", … \"Ch… |\n",
       "| October   | [9, 9, … 9]    | [2014, 2014, … 2025] | [\"Lexus\", \"Nissan\", … \"Porsche… |\n",
       "| November  | [10, 10, … 10] | [2014, 2014, … 2023] | [\"Lexus\", \"Subaru\", … \"INEOS A… |\n",
       "| December  | [11, 11, … 11] | [2009, 2009, … 2023] | [\"Pontiac\", \"Pontiac\", … \"Rivi… |\n",
       "+-----------+----------------+----------------------+---------------------------------+"
      ]
     },
     "execution_count": 17,
     "metadata": {},
     "output_type": "execute_result"
    }
   ],
   "source": [
    "month_order = [\n",
    "    'January', 'February', 'March', 'April', 'May', 'June',\n",
    "    'July', 'August', 'September', 'October', 'November',\n",
    "    'December'\n",
    "]\n",
    "\n",
    "@pl.StringCache()\n",
    "def create_month_order():\n",
    "\n",
    "    # Need this line for ordering.\n",
    "    # Because this column has the same value as the series,\n",
    "    # Polars uses the series order.\n",
    "    s = pl.Series(month_order).cast(pl.Categorical)\n",
    "    \n",
    "    return (\n",
    "        autos\n",
    "        .with_columns(\n",
    "            month=pl.col('createdOn')\n",
    "                .dt.strftime('%B')\n",
    "                .cast(pl.Categorical()),\n",
    "            month_physical=pl.col('createdOn')\n",
    "                .dt.strftime('%B')\n",
    "                .cast(pl.Categorical)\n",
    "                .to_physical()       \n",
    "        )\n",
    "    )\n",
    "\n",
    "(\n",
    "    create_month_order()\n",
    "        .group_by('month').all()\n",
    "        .sort('month')\n",
    "        .select(['month', 'month_physical', 'year', 'make'])\n",
    "        .head(12)\n",
    ")"
   ]
  },
  {
   "cell_type": "markdown",
   "id": "99968a42-b174-4782-b12a-a6c0cfa33641",
   "metadata": {},
   "source": [
    "---\n",
    "**Note**\n",
    "\n",
    "* We can go back to the initial `tweak_auto` function and set the ordering to 'lexical' on the `.cast` call."
   ]
  },
  {
   "cell_type": "code",
   "execution_count": 18,
   "id": "64acf6ea-7a2d-4cee-9dfe-ca5983127edf",
   "metadata": {},
   "outputs": [
    {
     "name": "stderr",
     "output_type": "stream",
     "text": [
      "avg line length: 434.78027\n",
      "std. dev. line length: 23.885818\n",
      "initial row estimate: 47850\n",
      "no. of chunks: 4 processed by: 4 threads.\n"
     ]
    },
    {
     "name": "stdout",
     "output_type": "stream",
     "text": [
      "(48202, 84)\n",
      "29.34MB\n",
      "<class 'polars.dataframe.frame.DataFrame'>\n",
      "(48202, 15)\n",
      "2.94MB\n"
     ]
    },
    {
     "data": {
      "text/html": [
       "<div><style>\n",
       ".dataframe > thead > tr,\n",
       ".dataframe > tbody > tr {\n",
       "  text-align: right;\n",
       "  white-space: pre-wrap;\n",
       "}\n",
       "</style>\n",
       "<small>shape: (1, 15)</small><table border=\"1\" class=\"dataframe\"><thead><tr><th>year</th><th>make</th><th>model</th><th>displ</th><th>cylinders</th><th>trany</th><th>drive</th><th>VClass</th><th>fuelType</th><th>barrels08</th><th>city08</th><th>highway08</th><th>createdOn</th><th>is_automatic</th><th>num_gears</th></tr><tr><td>i16</td><td>cat</td><td>cat</td><td>f32</td><td>u8</td><td>str</td><td>cat</td><td>cat</td><td>cat</td><td>f32</td><td>u8</td><td>u8</td><td>datetime[μs]</td><td>str</td><td>u8</td></tr></thead><tbody><tr><td>1985</td><td>&quot;Alfa Romeo&quot;</td><td>&quot;Spider Veloce 2000&quot;</td><td>2.0</td><td>4</td><td>&quot;Manual 5-spd&quot;</td><td>&quot;Rear-Wheel Drive&quot;</td><td>&quot;Two Seaters&quot;</td><td>&quot;Regular&quot;</td><td>14.167143</td><td>19</td><td>25</td><td>2013-01-01 00:00:00</td><td>&quot;false&quot;</td><td>5</td></tr></tbody></table></div>"
      ],
      "text/plain": [
       "shape: (1, 15)\n",
       "+-----+-----+-----+-----+-----+-----+-----+-----+-----+-----+-----+--------+-------+-------+-------+\n",
       "| yea | mak | mod | dis | cyl | tra | dri | VCl | fue | bar | cit | highwa | creat | is_au | num_g |\n",
       "| r   | e   | el  | pl  | ind | ny  | ve  | ass | lTy | rel | y08 | y08    | edOn  | tomat | ears  |\n",
       "| --- | --- | --- | --- | ers | --- | --- | --- | pe  | s08 | --- | ---    | ---   | ic    | ---   |\n",
       "| i16 | cat | cat | f32 | --- | str | cat | cat | --- | --- | u8  | u8     | datet | ---   | u8    |\n",
       "|     |     |     |     | u8  |     |     |     | cat | f32 |     |        | ime[μ | str   |       |\n",
       "|     |     |     |     |     |     |     |     |     |     |     |        | s]    |       |       |\n",
       "+==================================================================================================+\n",
       "| 198 | Alf | Spi | 2.0 | 4   | Man | Rea | Two | Reg | 14. | 19  | 25     | 2013- | false | 5     |\n",
       "| 5   | a   | der |     |     | ual | r-W | Sea | ula | 167 |     |        | 01-01 |       |       |\n",
       "|     | Rom | Vel |     |     | 5-s | hee | ter | r   | 143 |     |        | 00:00 |       |       |\n",
       "|     | eo  | oce |     |     | pd  | l   | s   |     |     |     |        | :00   |       |       |\n",
       "|     |     | 200 |     |     |     | Dri |     |     |     |     |        |       |       |       |\n",
       "|     |     | 0   |     |     |     | ve  |     |     |     |     |        |       |       |       |\n",
       "+-----+-----+-----+-----+-----+-----+-----+-----+-----+-----+-----+--------+-------+-------+-------+"
      ]
     },
     "execution_count": 18,
     "metadata": {},
     "output_type": "execute_result"
    }
   ],
   "source": [
    "path = 'data/vehicles.csv'\n",
    "raw = pl.read_csv(path, null_values=['NA'])\n",
    "print(raw.shape)\n",
    "print(f\"{raw.estimated_size(unit='mb'):.2f}MB\")\n",
    "\n",
    "\n",
    "@pl.StringCache()\n",
    "def tweak_auto_ordered(df):\n",
    "    month_order = [\n",
    "        'January', 'February', 'March', 'April', 'May', 'June',\n",
    "        'July', 'August', 'September', 'October', 'November',\n",
    "        'December'\n",
    "    ]\n",
    "    s = pl.Series(month_order).cast(pl.Categorical)\n",
    "    \n",
    "    cols = ['year', 'make', 'model', 'displ', 'cylinders', 'trany', \n",
    "           'drive', 'VClass', 'fuelType', 'barrels08', 'city08', \n",
    "           'highway08', 'createdOn']\n",
    "    \n",
    "    return (\n",
    "        df\n",
    "        .select(pl.col(cols))\n",
    "        .with_columns( \n",
    "            pl.col('year').cast(pl.Int16),\n",
    "            pl.col(['cylinders', 'highway08', 'city08']).cast(pl.UInt8),\n",
    "            pl.col(['displ', 'barrels08']).cast(pl.Float32),\n",
    "\n",
    "            # ordered\n",
    "            # Does it make a difference if we only sort 'make'?\n",
    "            pl.col(['make']).cast(pl.Categorical('lexical')),\n",
    "            \n",
    "            pl.col(['model', 'VClass', 'drive', 'fuelType']).cast(pl.Categorical()),\n",
    "            \n",
    "            createdOn=pl.col('createdOn').str.to_datetime('%a %b %d %H:%M:%S %Z %Y'),\n",
    "            is_automatic=pl.col('trany')                    \n",
    "               .str.contains('Automatic')\n",
    "               .fill_null('Automatic'),\n",
    "            num_gears=pl.col('trany')\n",
    "                .str.extract(r'(\\d+)')\n",
    "                .cast(pl.UInt8)\n",
    "                .fill_null(6),\n",
    "        )\n",
    "    )\n",
    "\n",
    "autos = tweak_auto_ordered(raw)\n",
    "print(type(autos))\n",
    "print(autos.shape)\n",
    "print(f\"{autos.estimated_size(unit='mb'):.2f}MB\")\n",
    "\n",
    "autos.head(1)"
   ]
  },
  {
   "cell_type": "markdown",
   "id": "eeafd400-8ff5-4b41-9103-44764d2167ba",
   "metadata": {},
   "source": [
    "---\n",
    "* Check that 'make' is now an ordered category"
   ]
  },
  {
   "cell_type": "code",
   "execution_count": 19,
   "id": "6ec11284-afed-42ed-89d1-f62c3e710b11",
   "metadata": {},
   "outputs": [
    {
     "data": {
      "text/html": [
       "<div><style>\n",
       ".dataframe > thead > tr,\n",
       ".dataframe > tbody > tr {\n",
       "  text-align: right;\n",
       "  white-space: pre-wrap;\n",
       "}\n",
       "</style>\n",
       "<small>shape: (48_202, 15)</small><table border=\"1\" class=\"dataframe\"><thead><tr><th>year</th><th>make</th><th>model</th><th>displ</th><th>cylinders</th><th>trany</th><th>drive</th><th>VClass</th><th>fuelType</th><th>barrels08</th><th>city08</th><th>highway08</th><th>createdOn</th><th>is_automatic</th><th>num_gears</th></tr><tr><td>i16</td><td>cat</td><td>cat</td><td>f32</td><td>u8</td><td>str</td><td>cat</td><td>cat</td><td>cat</td><td>f32</td><td>u8</td><td>u8</td><td>datetime[μs]</td><td>str</td><td>u8</td></tr></thead><tbody><tr><td>1985</td><td>&quot;AM General&quot;</td><td>&quot;Post Office DJ5 2WD&quot;</td><td>2.5</td><td>4</td><td>&quot;Automatic 3-spd&quot;</td><td>&quot;Rear-Wheel Drive&quot;</td><td>&quot;Special Purpose Vehicle 2WD&quot;</td><td>&quot;Regular&quot;</td><td>18.594376</td><td>16</td><td>17</td><td>2013-01-01 00:00:00</td><td>&quot;true&quot;</td><td>3</td></tr><tr><td>1985</td><td>&quot;AM General&quot;</td><td>&quot;Post Office DJ8 2WD&quot;</td><td>4.2</td><td>6</td><td>&quot;Automatic 3-spd&quot;</td><td>&quot;Rear-Wheel Drive&quot;</td><td>&quot;Special Purpose Vehicle 2WD&quot;</td><td>&quot;Regular&quot;</td><td>22.885386</td><td>13</td><td>13</td><td>2013-01-01 00:00:00</td><td>&quot;true&quot;</td><td>3</td></tr><tr><td>1984</td><td>&quot;AM General&quot;</td><td>&quot;FJ8c Post Office&quot;</td><td>4.2</td><td>6</td><td>&quot;Automatic 3-spd&quot;</td><td>&quot;2-Wheel Drive&quot;</td><td>&quot;Special Purpose Vehicle 2WD&quot;</td><td>&quot;Regular&quot;</td><td>22.885386</td><td>13</td><td>13</td><td>2013-01-01 00:00:00</td><td>&quot;true&quot;</td><td>3</td></tr><tr><td>1984</td><td>&quot;AM General&quot;</td><td>&quot;DJ Po Vehicle 2WD&quot;</td><td>2.5</td><td>4</td><td>&quot;Automatic 3-spd&quot;</td><td>&quot;2-Wheel Drive&quot;</td><td>&quot;Special Purpose Vehicle 2WD&quot;</td><td>&quot;Regular&quot;</td><td>17.500587</td><td>18</td><td>17</td><td>2013-01-01 00:00:00</td><td>&quot;true&quot;</td><td>3</td></tr><tr><td>1984</td><td>&quot;AM General&quot;</td><td>&quot;FJ8c Post Office&quot;</td><td>4.2</td><td>6</td><td>&quot;Automatic 3-spd&quot;</td><td>&quot;2-Wheel Drive&quot;</td><td>&quot;Special Purpose Vehicle 2WD&quot;</td><td>&quot;Regular&quot;</td><td>22.885386</td><td>13</td><td>13</td><td>2013-01-01 00:00:00</td><td>&quot;true&quot;</td><td>3</td></tr><tr><td>&hellip;</td><td>&hellip;</td><td>&hellip;</td><td>&hellip;</td><td>&hellip;</td><td>&hellip;</td><td>&hellip;</td><td>&hellip;</td><td>&hellip;</td><td>&hellip;</td><td>&hellip;</td><td>&hellip;</td><td>&hellip;</td><td>&hellip;</td><td>&hellip;</td></tr><tr><td>2017</td><td>&quot;smart&quot;</td><td>&quot;fortwo electric drive converti…</td><td>null</td><td>null</td><td>&quot;Automatic (A1)&quot;</td><td>&quot;Rear-Wheel Drive&quot;</td><td>&quot;Two Seaters&quot;</td><td>&quot;Electricity&quot;</td><td>0.0792</td><td>112</td><td>91</td><td>2017-10-11 00:00:00</td><td>&quot;true&quot;</td><td>1</td></tr><tr><td>2018</td><td>&quot;smart&quot;</td><td>&quot;fortwo electric drive coupe&quot;</td><td>null</td><td>null</td><td>&quot;Automatic (A1)&quot;</td><td>&quot;Rear-Wheel Drive&quot;</td><td>&quot;Two Seaters&quot;</td><td>&quot;Electricity&quot;</td><td>0.0744</td><td>124</td><td>94</td><td>2017-12-05 00:00:00</td><td>&quot;true&quot;</td><td>1</td></tr><tr><td>2018</td><td>&quot;smart&quot;</td><td>&quot;fortwo electric drive converti…</td><td>null</td><td>null</td><td>&quot;Automatic (A1)&quot;</td><td>&quot;Rear-Wheel Drive&quot;</td><td>&quot;Two Seaters&quot;</td><td>&quot;Electricity&quot;</td><td>0.0792</td><td>112</td><td>91</td><td>2017-12-05 00:00:00</td><td>&quot;true&quot;</td><td>1</td></tr><tr><td>2019</td><td>&quot;smart&quot;</td><td>&quot;EQ fortwo (coupe)&quot;</td><td>null</td><td>null</td><td>&quot;Automatic (A1)&quot;</td><td>&quot;Rear-Wheel Drive&quot;</td><td>&quot;Two Seaters&quot;</td><td>&quot;Electricity&quot;</td><td>0.0744</td><td>124</td><td>94</td><td>2019-01-29 00:00:00</td><td>&quot;true&quot;</td><td>1</td></tr><tr><td>2019</td><td>&quot;smart&quot;</td><td>&quot;EQ fortwo (convertible)&quot;</td><td>null</td><td>null</td><td>&quot;Automatic (A1)&quot;</td><td>&quot;Rear-Wheel Drive&quot;</td><td>&quot;Two Seaters&quot;</td><td>&quot;Electricity&quot;</td><td>0.0792</td><td>112</td><td>91</td><td>2019-01-29 00:00:00</td><td>&quot;true&quot;</td><td>1</td></tr></tbody></table></div>"
      ],
      "text/plain": [
       "shape: (48_202, 15)\n",
       "+-----+-----+-----+-----+-----+-----+-----+-----+-----+-----+-----+--------+-------+-------+-------+\n",
       "| yea | mak | mod | dis | cyl | tra | dri | VCl | fue | bar | cit | highwa | creat | is_au | num_g |\n",
       "| r   | e   | el  | pl  | ind | ny  | ve  | ass | lTy | rel | y08 | y08    | edOn  | tomat | ears  |\n",
       "| --- | --- | --- | --- | ers | --- | --- | --- | pe  | s08 | --- | ---    | ---   | ic    | ---   |\n",
       "| i16 | cat | cat | f32 | --- | str | cat | cat | --- | --- | u8  | u8     | datet | ---   | u8    |\n",
       "|     |     |     |     | u8  |     |     |     | cat | f32 |     |        | ime[μ | str   |       |\n",
       "|     |     |     |     |     |     |     |     |     |     |     |        | s]    |       |       |\n",
       "+==================================================================================================+\n",
       "| 198 | AM  | Pos | 2.5 | 4   | Aut | Rea | Spe | Reg | 18. | 16  | 17     | 2013- | true  | 3     |\n",
       "| 5   | Gen | t   |     |     | oma | r-W | cia | ula | 594 |     |        | 01-01 |       |       |\n",
       "|     | era | Off |     |     | tic | hee | l   | r   | 376 |     |        | 00:00 |       |       |\n",
       "|     | l   | ice |     |     | 3-s | l   | Pur |     |     |     |        | :00   |       |       |\n",
       "|     |     | DJ5 |     |     | pd  | Dri | pos |     |     |     |        |       |       |       |\n",
       "|     |     | 2WD |     |     |     | ve  | e   |     |     |     |        |       |       |       |\n",
       "|     |     |     |     |     |     |     | Veh |     |     |     |        |       |       |       |\n",
       "|     |     |     |     |     |     |     | icl |     |     |     |        |       |       |       |\n",
       "|     |     |     |     |     |     |     | e   |     |     |     |        |       |       |       |\n",
       "|     |     |     |     |     |     |     | 2WD |     |     |     |        |       |       |       |\n",
       "| 198 | AM  | Pos | 4.2 | 6   | Aut | Rea | Spe | Reg | 22. | 13  | 13     | 2013- | true  | 3     |\n",
       "| 5   | Gen | t   |     |     | oma | r-W | cia | ula | 885 |     |        | 01-01 |       |       |\n",
       "|     | era | Off |     |     | tic | hee | l   | r   | 386 |     |        | 00:00 |       |       |\n",
       "|     | l   | ice |     |     | 3-s | l   | Pur |     |     |     |        | :00   |       |       |\n",
       "|     |     | DJ8 |     |     | pd  | Dri | pos |     |     |     |        |       |       |       |\n",
       "|     |     | 2WD |     |     |     | ve  | e   |     |     |     |        |       |       |       |\n",
       "|     |     |     |     |     |     |     | Veh |     |     |     |        |       |       |       |\n",
       "|     |     |     |     |     |     |     | icl |     |     |     |        |       |       |       |\n",
       "|     |     |     |     |     |     |     | e   |     |     |     |        |       |       |       |\n",
       "|     |     |     |     |     |     |     | 2WD |     |     |     |        |       |       |       |\n",
       "| 198 | AM  | FJ8 | 4.2 | 6   | Aut | 2-W | Spe | Reg | 22. | 13  | 13     | 2013- | true  | 3     |\n",
       "| 4   | Gen | c   |     |     | oma | hee | cia | ula | 885 |     |        | 01-01 |       |       |\n",
       "|     | era | Pos |     |     | tic | l   | l   | r   | 386 |     |        | 00:00 |       |       |\n",
       "|     | l   | t   |     |     | 3-s | Dri | Pur |     |     |     |        | :00   |       |       |\n",
       "|     |     | Off |     |     | pd  | ve  | pos |     |     |     |        |       |       |       |\n",
       "|     |     | ice |     |     |     |     | e   |     |     |     |        |       |       |       |\n",
       "|     |     |     |     |     |     |     | Veh |     |     |     |        |       |       |       |\n",
       "|     |     |     |     |     |     |     | icl |     |     |     |        |       |       |       |\n",
       "|     |     |     |     |     |     |     | e   |     |     |     |        |       |       |       |\n",
       "|     |     |     |     |     |     |     | 2WD |     |     |     |        |       |       |       |\n",
       "| 198 | AM  | DJ  | 2.5 | 4   | Aut | 2-W | Spe | Reg | 17. | 18  | 17     | 2013- | true  | 3     |\n",
       "| 4   | Gen | Po  |     |     | oma | hee | cia | ula | 500 |     |        | 01-01 |       |       |\n",
       "|     | era | Veh |     |     | tic | l   | l   | r   | 587 |     |        | 00:00 |       |       |\n",
       "|     | l   | icl |     |     | 3-s | Dri | Pur |     |     |     |        | :00   |       |       |\n",
       "|     |     | e   |     |     | pd  | ve  | pos |     |     |     |        |       |       |       |\n",
       "|     |     | 2WD |     |     |     |     | e   |     |     |     |        |       |       |       |\n",
       "|     |     |     |     |     |     |     | Veh |     |     |     |        |       |       |       |\n",
       "|     |     |     |     |     |     |     | icl |     |     |     |        |       |       |       |\n",
       "|     |     |     |     |     |     |     | e   |     |     |     |        |       |       |       |\n",
       "|     |     |     |     |     |     |     | 2WD |     |     |     |        |       |       |       |\n",
       "| 198 | AM  | FJ8 | 4.2 | 6   | Aut | 2-W | Spe | Reg | 22. | 13  | 13     | 2013- | true  | 3     |\n",
       "| 4   | Gen | c   |     |     | oma | hee | cia | ula | 885 |     |        | 01-01 |       |       |\n",
       "|     | era | Pos |     |     | tic | l   | l   | r   | 386 |     |        | 00:00 |       |       |\n",
       "|     | l   | t   |     |     | 3-s | Dri | Pur |     |     |     |        | :00   |       |       |\n",
       "|     |     | Off |     |     | pd  | ve  | pos |     |     |     |        |       |       |       |\n",
       "|     |     | ice |     |     |     |     | e   |     |     |     |        |       |       |       |\n",
       "|     |     |     |     |     |     |     | Veh |     |     |     |        |       |       |       |\n",
       "|     |     |     |     |     |     |     | icl |     |     |     |        |       |       |       |\n",
       "|     |     |     |     |     |     |     | e   |     |     |     |        |       |       |       |\n",
       "|     |     |     |     |     |     |     | 2WD |     |     |     |        |       |       |       |\n",
       "| …   | …   | …   | …   | …   | …   | …   | …   | …   | …   | …   | …      | …     | …     | …     |\n",
       "| 201 | sma | for | nul | nul | Aut | Rea | Two | Ele | 0.0 | 112 | 91     | 2017- | true  | 1     |\n",
       "| 7   | rt  | two | l   | l   | oma | r-W | Sea | ctr | 792 |     |        | 10-11 |       |       |\n",
       "|     |     | ele |     |     | tic | hee | ter | ici |     |     |        | 00:00 |       |       |\n",
       "|     |     | ctr |     |     | (A1 | l   | s   | ty  |     |     |        | :00   |       |       |\n",
       "|     |     | ic  |     |     | )   | Dri |     |     |     |     |        |       |       |       |\n",
       "|     |     | dri |     |     |     | ve  |     |     |     |     |        |       |       |       |\n",
       "|     |     | ve  |     |     |     |     |     |     |     |     |        |       |       |       |\n",
       "|     |     | con |     |     |     |     |     |     |     |     |        |       |       |       |\n",
       "|     |     | ver |     |     |     |     |     |     |     |     |        |       |       |       |\n",
       "|     |     | ti… |     |     |     |     |     |     |     |     |        |       |       |       |\n",
       "| 201 | sma | for | nul | nul | Aut | Rea | Two | Ele | 0.0 | 124 | 94     | 2017- | true  | 1     |\n",
       "| 8   | rt  | two | l   | l   | oma | r-W | Sea | ctr | 744 |     |        | 12-05 |       |       |\n",
       "|     |     | ele |     |     | tic | hee | ter | ici |     |     |        | 00:00 |       |       |\n",
       "|     |     | ctr |     |     | (A1 | l   | s   | ty  |     |     |        | :00   |       |       |\n",
       "|     |     | ic  |     |     | )   | Dri |     |     |     |     |        |       |       |       |\n",
       "|     |     | dri |     |     |     | ve  |     |     |     |     |        |       |       |       |\n",
       "|     |     | ve  |     |     |     |     |     |     |     |     |        |       |       |       |\n",
       "|     |     | cou |     |     |     |     |     |     |     |     |        |       |       |       |\n",
       "|     |     | pe  |     |     |     |     |     |     |     |     |        |       |       |       |\n",
       "| 201 | sma | for | nul | nul | Aut | Rea | Two | Ele | 0.0 | 112 | 91     | 2017- | true  | 1     |\n",
       "| 8   | rt  | two | l   | l   | oma | r-W | Sea | ctr | 792 |     |        | 12-05 |       |       |\n",
       "|     |     | ele |     |     | tic | hee | ter | ici |     |     |        | 00:00 |       |       |\n",
       "|     |     | ctr |     |     | (A1 | l   | s   | ty  |     |     |        | :00   |       |       |\n",
       "|     |     | ic  |     |     | )   | Dri |     |     |     |     |        |       |       |       |\n",
       "|     |     | dri |     |     |     | ve  |     |     |     |     |        |       |       |       |\n",
       "|     |     | ve  |     |     |     |     |     |     |     |     |        |       |       |       |\n",
       "|     |     | con |     |     |     |     |     |     |     |     |        |       |       |       |\n",
       "|     |     | ver |     |     |     |     |     |     |     |     |        |       |       |       |\n",
       "|     |     | ti… |     |     |     |     |     |     |     |     |        |       |       |       |\n",
       "| 201 | sma | EQ  | nul | nul | Aut | Rea | Two | Ele | 0.0 | 124 | 94     | 2019- | true  | 1     |\n",
       "| 9   | rt  | for | l   | l   | oma | r-W | Sea | ctr | 744 |     |        | 01-29 |       |       |\n",
       "|     |     | two |     |     | tic | hee | ter | ici |     |     |        | 00:00 |       |       |\n",
       "|     |     | (co |     |     | (A1 | l   | s   | ty  |     |     |        | :00   |       |       |\n",
       "|     |     | upe |     |     | )   | Dri |     |     |     |     |        |       |       |       |\n",
       "|     |     | )   |     |     |     | ve  |     |     |     |     |        |       |       |       |\n",
       "| 201 | sma | EQ  | nul | nul | Aut | Rea | Two | Ele | 0.0 | 112 | 91     | 2019- | true  | 1     |\n",
       "| 9   | rt  | for | l   | l   | oma | r-W | Sea | ctr | 792 |     |        | 01-29 |       |       |\n",
       "|     |     | two |     |     | tic | hee | ter | ici |     |     |        | 00:00 |       |       |\n",
       "|     |     | (co |     |     | (A1 | l   | s   | ty  |     |     |        | :00   |       |       |\n",
       "|     |     | nve |     |     | )   | Dri |     |     |     |     |        |       |       |       |\n",
       "|     |     | rti |     |     |     | ve  |     |     |     |     |        |       |       |       |\n",
       "|     |     | ble |     |     |     |     |     |     |     |     |        |       |       |       |\n",
       "|     |     | )   |     |     |     |     |     |     |     |     |        |       |       |       |\n",
       "+-----+-----+-----+-----+-----+-----+-----+-----+-----+-----+-----+--------+-------+-------+-------+"
      ]
     },
     "execution_count": 19,
     "metadata": {},
     "output_type": "execute_result"
    }
   ],
   "source": [
    "(\n",
    "    autos\n",
    "    .sort('make')\n",
    ")"
   ]
  },
  {
   "cell_type": "markdown",
   "id": "ab030021-ee2f-47b9-9709-4da43af8a22e",
   "metadata": {},
   "source": [
    "---\n",
    "# 6.6 Enums and Ordering\n",
    "\n",
    "[back to Top](#Top)\n",
    "\n",
    "If you know the ordering of categorical columns ahead of time and have multiple dataframes with the same categories, this is when you can use an `Enum`.\n",
    "\n",
    "Enums are more efficient than categorical types because the encoding is more straightforward.\n",
    "\n",
    "We define Enums using `pl.Enum`.\n",
    "\n",
    "Here, we make a dataset of birthdays to explore enums."
   ]
  },
  {
   "cell_type": "code",
   "execution_count": 20,
   "id": "7d28aa18-70c8-4823-8ac2-27b85a790c18",
   "metadata": {},
   "outputs": [
    {
     "name": "stderr",
     "output_type": "stream",
     "text": [
      "file < 128 rows, no statistics determined\n",
      "no. of chunks: 1 processed by: 1 threads.\n"
     ]
    },
    {
     "data": {
      "text/html": [
       "<div><style>\n",
       ".dataframe > thead > tr,\n",
       ".dataframe > tbody > tr {\n",
       "  text-align: right;\n",
       "  white-space: pre-wrap;\n",
       "}\n",
       "</style>\n",
       "<small>shape: (10, 2)</small><table border=\"1\" class=\"dataframe\"><thead><tr><th>Name</th><th>Birthday</th></tr><tr><td>str</td><td>str</td></tr></thead><tbody><tr><td>&quot;Brianna Smith&quot;</td><td>&quot;2000-02-16&quot;</td></tr><tr><td>&quot;Alex Johnson&quot;</td><td>&quot;2001-01-15&quot;</td></tr><tr><td>&quot;Carlos Gomez&quot;</td><td>&quot;2002-03-17&quot;</td></tr><tr><td>&quot;Diana Clarke&quot;</td><td>&quot;2003-04-18&quot;</td></tr><tr><td>&quot;Ethan Hunt&quot;</td><td>&quot;2002-05-19&quot;</td></tr><tr><td>&quot;Fiona Gray&quot;</td><td>&quot;2005-06-20&quot;</td></tr><tr><td>&quot;George King&quot;</td><td>&quot;2006-07-21&quot;</td></tr><tr><td>&quot;Hannah Scott&quot;</td><td>&quot;2007-08-22&quot;</td></tr><tr><td>&quot;Ian Miles&quot;</td><td>&quot;2008-09-23&quot;</td></tr><tr><td>&quot;Julia Banks&quot;</td><td>&quot;2009-10-24&quot;</td></tr></tbody></table></div>"
      ],
      "text/plain": [
       "shape: (10, 2)\n",
       "+---------------+------------+\n",
       "| Name          | Birthday   |\n",
       "| ---           | ---        |\n",
       "| str           | str        |\n",
       "+============================+\n",
       "| Brianna Smith | 2000-02-16 |\n",
       "| Alex Johnson  | 2001-01-15 |\n",
       "| Carlos Gomez  | 2002-03-17 |\n",
       "| Diana Clarke  | 2003-04-18 |\n",
       "| Ethan Hunt    | 2002-05-19 |\n",
       "| Fiona Gray    | 2005-06-20 |\n",
       "| George King   | 2006-07-21 |\n",
       "| Hannah Scott  | 2007-08-22 |\n",
       "| Ian Miles     | 2008-09-23 |\n",
       "| Julia Banks   | 2009-10-24 |\n",
       "+---------------+------------+"
      ]
     },
     "execution_count": 20,
     "metadata": {},
     "output_type": "execute_result"
    }
   ],
   "source": [
    "import io\n",
    "\n",
    "data = '''Name,Birthday\n",
    "Brianna Smith,2000-02-16\n",
    "Alex Johnson,2001-01-15\n",
    "Carlos Gomez,2002-03-17\n",
    "Diana Clarke,2003-04-18\n",
    "Ethan Hunt,2002-05-19\n",
    "Fiona Gray,2005-06-20\n",
    "George King,2006-07-21\n",
    "Hannah Scott,2007-08-22\n",
    "Ian Miles,2008-09-23\n",
    "Julia Banks,2009-10-24'''\n",
    "\n",
    "students = pl.read_csv(io.StringIO(data))\n",
    "students"
   ]
  },
  {
   "cell_type": "markdown",
   "id": "634e1095-ac50-47c5-a768-b76ed96fdcae",
   "metadata": {},
   "source": [
    "* Add a month column and sort by month.\n",
    "* First, convert the string data from the *Birthday* column to a date.\n",
    "* Then, use `.dt.strftime` to retrieve the month name.\n",
    "* Finally, use `.sort()`"
   ]
  },
  {
   "cell_type": "code",
   "execution_count": 21,
   "id": "b3e3c9b6-1625-4963-a4c8-4b7020ce71cf",
   "metadata": {},
   "outputs": [
    {
     "data": {
      "text/html": [
       "<div><style>\n",
       ".dataframe > thead > tr,\n",
       ".dataframe > tbody > tr {\n",
       "  text-align: right;\n",
       "  white-space: pre-wrap;\n",
       "}\n",
       "</style>\n",
       "<small>shape: (10, 3)</small><table border=\"1\" class=\"dataframe\"><thead><tr><th>Name</th><th>Birthday</th><th>month</th></tr><tr><td>str</td><td>datetime[μs]</td><td>str</td></tr></thead><tbody><tr><td>&quot;Diana Clarke&quot;</td><td>2003-04-18 00:00:00</td><td>&quot;April&quot;</td></tr><tr><td>&quot;Hannah Scott&quot;</td><td>2007-08-22 00:00:00</td><td>&quot;August&quot;</td></tr><tr><td>&quot;Brianna Smith&quot;</td><td>2000-02-16 00:00:00</td><td>&quot;February&quot;</td></tr><tr><td>&quot;Alex Johnson&quot;</td><td>2001-01-15 00:00:00</td><td>&quot;January&quot;</td></tr><tr><td>&quot;George King&quot;</td><td>2006-07-21 00:00:00</td><td>&quot;July&quot;</td></tr><tr><td>&quot;Fiona Gray&quot;</td><td>2005-06-20 00:00:00</td><td>&quot;June&quot;</td></tr><tr><td>&quot;Carlos Gomez&quot;</td><td>2002-03-17 00:00:00</td><td>&quot;March&quot;</td></tr><tr><td>&quot;Ethan Hunt&quot;</td><td>2002-05-19 00:00:00</td><td>&quot;May&quot;</td></tr><tr><td>&quot;Julia Banks&quot;</td><td>2009-10-24 00:00:00</td><td>&quot;October&quot;</td></tr><tr><td>&quot;Ian Miles&quot;</td><td>2008-09-23 00:00:00</td><td>&quot;September&quot;</td></tr></tbody></table></div>"
      ],
      "text/plain": [
       "shape: (10, 3)\n",
       "+---------------+---------------------+-----------+\n",
       "| Name          | Birthday            | month     |\n",
       "| ---           | ---                 | ---       |\n",
       "| str           | datetime[μs]        | str       |\n",
       "+=================================================+\n",
       "| Diana Clarke  | 2003-04-18 00:00:00 | April     |\n",
       "| Hannah Scott  | 2007-08-22 00:00:00 | August    |\n",
       "| Brianna Smith | 2000-02-16 00:00:00 | February  |\n",
       "| Alex Johnson  | 2001-01-15 00:00:00 | January   |\n",
       "| George King   | 2006-07-21 00:00:00 | July      |\n",
       "| Fiona Gray    | 2005-06-20 00:00:00 | June      |\n",
       "| Carlos Gomez  | 2002-03-17 00:00:00 | March     |\n",
       "| Ethan Hunt    | 2002-05-19 00:00:00 | May       |\n",
       "| Julia Banks   | 2009-10-24 00:00:00 | October   |\n",
       "| Ian Miles     | 2008-09-23 00:00:00 | September |\n",
       "+---------------+---------------------+-----------+"
      ]
     },
     "execution_count": 21,
     "metadata": {},
     "output_type": "execute_result"
    }
   ],
   "source": [
    "bday=pl.col('Birthday')\n",
    "\n",
    "(\n",
    "    students\n",
    "    .with_columns(\n",
    "        bday.str.to_datetime('%Y-%m-%d')\n",
    "    )\n",
    "    .with_columns(\n",
    "        month=bday.dt.strftime('%B')\n",
    "    )\n",
    "    .sort(by='month')\n",
    ")"
   ]
  },
  {
   "cell_type": "markdown",
   "id": "eef68c36-6747-4c2f-a420-d943674f6f6e",
   "metadata": {},
   "source": [
    "* Note that the order of the *month* column is alphabetical.\n",
    "* We want this in chronological order.\n",
    "* For this, create an `Enum` with the months in the desired order."
   ]
  },
  {
   "cell_type": "code",
   "execution_count": 22,
   "id": "62e5a12d-b7b9-4c7a-9bf5-168052b8757d",
   "metadata": {},
   "outputs": [
    {
     "data": {
      "text/plain": [
       "Enum(categories=['January', 'February', 'March', 'April', 'May', 'June', 'July', 'August', 'September', 'October', 'November', 'December'])"
      ]
     },
     "execution_count": 22,
     "metadata": {},
     "output_type": "execute_result"
    }
   ],
   "source": [
    "month_type = pl.Enum([\n",
    "    'January', 'February', 'March', 'April', 'May', 'June',\n",
    "    'July', 'August', 'September', 'October', 'November',\n",
    "    'December'\n",
    "])\n",
    "month_type"
   ]
  },
  {
   "cell_type": "markdown",
   "id": "88b02e9e-2d17-4e35-b35e-21d2be71fbec",
   "metadata": {},
   "source": [
    "* After we defined an enum, we can cast to it."
   ]
  },
  {
   "cell_type": "code",
   "execution_count": 23,
   "id": "49d61e3c-8d7d-4154-b2a7-a6973f69fe86",
   "metadata": {},
   "outputs": [
    {
     "data": {
      "text/html": [
       "<div><style>\n",
       ".dataframe > thead > tr,\n",
       ".dataframe > tbody > tr {\n",
       "  text-align: right;\n",
       "  white-space: pre-wrap;\n",
       "}\n",
       "</style>\n",
       "<small>shape: (10, 3)</small><table border=\"1\" class=\"dataframe\"><thead><tr><th>Name</th><th>Birthday</th><th>month</th></tr><tr><td>str</td><td>datetime[μs]</td><td>enum</td></tr></thead><tbody><tr><td>&quot;Alex Johnson&quot;</td><td>2001-01-15 00:00:00</td><td>&quot;January&quot;</td></tr><tr><td>&quot;Brianna Smith&quot;</td><td>2000-02-16 00:00:00</td><td>&quot;February&quot;</td></tr><tr><td>&quot;Carlos Gomez&quot;</td><td>2002-03-17 00:00:00</td><td>&quot;March&quot;</td></tr><tr><td>&quot;Diana Clarke&quot;</td><td>2003-04-18 00:00:00</td><td>&quot;April&quot;</td></tr><tr><td>&quot;Ethan Hunt&quot;</td><td>2002-05-19 00:00:00</td><td>&quot;May&quot;</td></tr><tr><td>&quot;Fiona Gray&quot;</td><td>2005-06-20 00:00:00</td><td>&quot;June&quot;</td></tr><tr><td>&quot;George King&quot;</td><td>2006-07-21 00:00:00</td><td>&quot;July&quot;</td></tr><tr><td>&quot;Hannah Scott&quot;</td><td>2007-08-22 00:00:00</td><td>&quot;August&quot;</td></tr><tr><td>&quot;Ian Miles&quot;</td><td>2008-09-23 00:00:00</td><td>&quot;September&quot;</td></tr><tr><td>&quot;Julia Banks&quot;</td><td>2009-10-24 00:00:00</td><td>&quot;October&quot;</td></tr></tbody></table></div>"
      ],
      "text/plain": [
       "shape: (10, 3)\n",
       "+---------------+---------------------+-----------+\n",
       "| Name          | Birthday            | month     |\n",
       "| ---           | ---                 | ---       |\n",
       "| str           | datetime[μs]        | enum      |\n",
       "+=================================================+\n",
       "| Alex Johnson  | 2001-01-15 00:00:00 | January   |\n",
       "| Brianna Smith | 2000-02-16 00:00:00 | February  |\n",
       "| Carlos Gomez  | 2002-03-17 00:00:00 | March     |\n",
       "| Diana Clarke  | 2003-04-18 00:00:00 | April     |\n",
       "| Ethan Hunt    | 2002-05-19 00:00:00 | May       |\n",
       "| Fiona Gray    | 2005-06-20 00:00:00 | June      |\n",
       "| George King   | 2006-07-21 00:00:00 | July      |\n",
       "| Hannah Scott  | 2007-08-22 00:00:00 | August    |\n",
       "| Ian Miles     | 2008-09-23 00:00:00 | September |\n",
       "| Julia Banks   | 2009-10-24 00:00:00 | October   |\n",
       "+---------------+---------------------+-----------+"
      ]
     },
     "execution_count": 23,
     "metadata": {},
     "output_type": "execute_result"
    }
   ],
   "source": [
    "(\n",
    "    students\n",
    "    .with_columns(bday.str.to_datetime('%Y-%m-%d'))\n",
    "    .with_columns(month=bday.dt.strftime('%B').cast(month_type))\n",
    "    .sort(by='month')\n",
    ")"
   ]
  },
  {
   "cell_type": "markdown",
   "id": "c3f325b6-c10f-494f-8d8d-249b6ca136a5",
   "metadata": {},
   "source": [
    "---\n",
    "* Here is another dataset with holidays.\n",
    "* We want to merge a holiday for each birthday month"
   ]
  },
  {
   "cell_type": "code",
   "execution_count": 24,
   "id": "f70919b3-fac2-4fa8-8fb3-bca55975a239",
   "metadata": {},
   "outputs": [
    {
     "name": "stderr",
     "output_type": "stream",
     "text": [
      "file < 128 rows, no statistics determined\n",
      "no. of chunks: 1 processed by: 1 threads.\n"
     ]
    },
    {
     "data": {
      "text/html": [
       "<div><style>\n",
       ".dataframe > thead > tr,\n",
       ".dataframe > tbody > tr {\n",
       "  text-align: right;\n",
       "  white-space: pre-wrap;\n",
       "}\n",
       "</style>\n",
       "<small>shape: (12, 2)</small><table border=\"1\" class=\"dataframe\"><thead><tr><th>Month</th><th>Holiday</th></tr><tr><td>str</td><td>str</td></tr></thead><tbody><tr><td>&quot;January&quot;</td><td>&quot;New Year&#x27;s Day&quot;</td></tr><tr><td>&quot;February&quot;</td><td>&quot;Valentine&#x27;s Day&quot;</td></tr><tr><td>&quot;March&quot;</td><td>&quot;St. Patrick&#x27;s Day&quot;</td></tr><tr><td>&quot;April&quot;</td><td>&quot;April Fools&#x27; Day&quot;</td></tr><tr><td>&quot;May&quot;</td><td>&quot;Memorial Day&quot;</td></tr><tr><td>&hellip;</td><td>&hellip;</td></tr><tr><td>&quot;August&quot;</td><td>&quot;Labor Day&quot;</td></tr><tr><td>&quot;September&quot;</td><td>&quot;Patriot Day&quot;</td></tr><tr><td>&quot;October&quot;</td><td>&quot;Halloween&quot;</td></tr><tr><td>&quot;November&quot;</td><td>&quot;Thanksgiving&quot;</td></tr><tr><td>&quot;December&quot;</td><td>&quot;Christmas Day&quot;</td></tr></tbody></table></div>"
      ],
      "text/plain": [
       "shape: (12, 2)\n",
       "+-----------+-------------------+\n",
       "| Month     | Holiday           |\n",
       "| ---       | ---               |\n",
       "| str       | str               |\n",
       "+===============================+\n",
       "| January   | New Year's Day    |\n",
       "| February  | Valentine's Day   |\n",
       "| March     | St. Patrick's Day |\n",
       "| April     | April Fools' Day  |\n",
       "| May       | Memorial Day      |\n",
       "| …         | …                 |\n",
       "| August    | Labor Day         |\n",
       "| September | Patriot Day       |\n",
       "| October   | Halloween         |\n",
       "| November  | Thanksgiving      |\n",
       "| December  | Christmas Day     |\n",
       "+-----------+-------------------+"
      ]
     },
     "execution_count": 24,
     "metadata": {},
     "output_type": "execute_result"
    }
   ],
   "source": [
    "holiday_data = '''Month,Holiday\n",
    "January,New Year's Day\n",
    "February,Valentine's Day\n",
    "March,St. Patrick's Day\n",
    "April,April Fools' Day\n",
    "May,Memorial Day\n",
    "June,Juneteenth\n",
    "July,Independence Day\n",
    "August,Labor Day\n",
    "September,Patriot Day\n",
    "October,Halloween\n",
    "November,Thanksgiving\n",
    "December,Christmas Day'''\n",
    "\n",
    "holidays = pl.read_csv(io.StringIO(holiday_data))\n",
    "holidays"
   ]
  },
  {
   "cell_type": "markdown",
   "id": "cde17e13-c17a-41d5-8161-b9e149b1d0a8",
   "metadata": {},
   "source": [
    "* If we try to merge the the month columns as strings, and sort by months, we are back to lexical ordering."
   ]
  },
  {
   "cell_type": "code",
   "execution_count": 25,
   "id": "5cbf16c6-802a-4945-971f-894d00262124",
   "metadata": {},
   "outputs": [
    {
     "name": "stderr",
     "output_type": "stream",
     "text": [
      "join parallel: true\n",
      "INNER join dataframes finished\n"
     ]
    },
    {
     "data": {
      "text/html": [
       "<div><style>\n",
       ".dataframe > thead > tr,\n",
       ".dataframe > tbody > tr {\n",
       "  text-align: right;\n",
       "  white-space: pre-wrap;\n",
       "}\n",
       "</style>\n",
       "<small>shape: (10, 4)</small><table border=\"1\" class=\"dataframe\"><thead><tr><th>Name</th><th>Birthday</th><th>month</th><th>Holiday</th></tr><tr><td>str</td><td>datetime[μs]</td><td>str</td><td>str</td></tr></thead><tbody><tr><td>&quot;Diana Clarke&quot;</td><td>2003-04-18 00:00:00</td><td>&quot;April&quot;</td><td>&quot;April Fools&#x27; Day&quot;</td></tr><tr><td>&quot;Hannah Scott&quot;</td><td>2007-08-22 00:00:00</td><td>&quot;August&quot;</td><td>&quot;Labor Day&quot;</td></tr><tr><td>&quot;Brianna Smith&quot;</td><td>2000-02-16 00:00:00</td><td>&quot;February&quot;</td><td>&quot;Valentine&#x27;s Day&quot;</td></tr><tr><td>&quot;Alex Johnson&quot;</td><td>2001-01-15 00:00:00</td><td>&quot;January&quot;</td><td>&quot;New Year&#x27;s Day&quot;</td></tr><tr><td>&quot;George King&quot;</td><td>2006-07-21 00:00:00</td><td>&quot;July&quot;</td><td>&quot;Independence Day&quot;</td></tr><tr><td>&quot;Fiona Gray&quot;</td><td>2005-06-20 00:00:00</td><td>&quot;June&quot;</td><td>&quot;Juneteenth&quot;</td></tr><tr><td>&quot;Carlos Gomez&quot;</td><td>2002-03-17 00:00:00</td><td>&quot;March&quot;</td><td>&quot;St. Patrick&#x27;s Day&quot;</td></tr><tr><td>&quot;Ethan Hunt&quot;</td><td>2002-05-19 00:00:00</td><td>&quot;May&quot;</td><td>&quot;Memorial Day&quot;</td></tr><tr><td>&quot;Julia Banks&quot;</td><td>2009-10-24 00:00:00</td><td>&quot;October&quot;</td><td>&quot;Halloween&quot;</td></tr><tr><td>&quot;Ian Miles&quot;</td><td>2008-09-23 00:00:00</td><td>&quot;September&quot;</td><td>&quot;Patriot Day&quot;</td></tr></tbody></table></div>"
      ],
      "text/plain": [
       "shape: (10, 4)\n",
       "+---------------+---------------------+-----------+-------------------+\n",
       "| Name          | Birthday            | month     | Holiday           |\n",
       "| ---           | ---                 | ---       | ---               |\n",
       "| str           | datetime[μs]        | str       | str               |\n",
       "+=====================================================================+\n",
       "| Diana Clarke  | 2003-04-18 00:00:00 | April     | April Fools' Day  |\n",
       "| Hannah Scott  | 2007-08-22 00:00:00 | August    | Labor Day         |\n",
       "| Brianna Smith | 2000-02-16 00:00:00 | February  | Valentine's Day   |\n",
       "| Alex Johnson  | 2001-01-15 00:00:00 | January   | New Year's Day    |\n",
       "| George King   | 2006-07-21 00:00:00 | July      | Independence Day  |\n",
       "| Fiona Gray    | 2005-06-20 00:00:00 | June      | Juneteenth        |\n",
       "| Carlos Gomez  | 2002-03-17 00:00:00 | March     | St. Patrick's Day |\n",
       "| Ethan Hunt    | 2002-05-19 00:00:00 | May       | Memorial Day      |\n",
       "| Julia Banks   | 2009-10-24 00:00:00 | October   | Halloween         |\n",
       "| Ian Miles     | 2008-09-23 00:00:00 | September | Patriot Day       |\n",
       "+---------------+---------------------+-----------+-------------------+"
      ]
     },
     "execution_count": 25,
     "metadata": {},
     "output_type": "execute_result"
    }
   ],
   "source": [
    "(\n",
    "    students\n",
    "    .with_columns(bday.str.to_datetime('%Y-%m-%d'))\n",
    "    .with_columns(month=bday.dt.strftime('%B'))\n",
    "    .join(holidays, left_on='month', right_on='Month')\n",
    "    .sort('month')\n",
    ")"
   ]
  },
  {
   "cell_type": "markdown",
   "id": "44ff0851-9f70-4d02-8973-a2f3744ed022",
   "metadata": {},
   "source": [
    "* If one of the columns is a categorical, we will see an error."
   ]
  },
  {
   "cell_type": "code",
   "execution_count": 26,
   "id": "9c38ca93-e805-408d-84af-d0119ff8d62e",
   "metadata": {},
   "outputs": [
    {
     "name": "stderr",
     "output_type": "stream",
     "text": [
      "join parallel: true\n"
     ]
    },
    {
     "name": "stdout",
     "output_type": "stream",
     "text": [
      "datatypes of join keys don't match - `month`: cat on left does not match `Month`: str on right\n"
     ]
    },
    {
     "name": "stderr",
     "output_type": "stream",
     "text": [
      "INNER join dataframes finished\n"
     ]
    }
   ],
   "source": [
    "try:\n",
    "    print(\n",
    "        students\n",
    "        .with_columns(bday.str.to_datetime('%Y-%m-%d'))\n",
    "        .with_columns(month=bday.dt.strftime('%B').cast(pl.Categorical()))\n",
    "        .join(holidays, left_on='month', right_on='Month')\n",
    "        .sort('month')\n",
    "    )\n",
    "except Exception as e:\n",
    "    print(e)"
   ]
  },
  {
   "cell_type": "markdown",
   "id": "0c7d59a2-8524-48c4-a90d-8da2a97c2cf6",
   "metadata": {},
   "source": [
    "* If both merge columns are categoricals defined outside of a string cache, we get a `CategoricalRemappingWarning` warning.\n",
    "* Also, the ordering is based on the appearance of the categories in the *students* data.\n",
    "* The February date came first in the data, the first month in the physical ordering."
   ]
  },
  {
   "cell_type": "code",
   "execution_count": 27,
   "id": "08bfd8c9-9363-43a5-8e95-6435668afa02",
   "metadata": {},
   "outputs": [
    {
     "name": "stderr",
     "output_type": "stream",
     "text": [
      "join parallel: true\n",
      "/var/folders/sb/p6dz60l562q8pzfgzf74gsxm0000gn/T/ipykernel_2033/3470789166.py:5: CategoricalRemappingWarning: Local categoricals have different encodings, expensive re-encoding is done to perform this merge operation. Consider using a StringCache or an Enum type if the categories are known in advance\n",
      "  .join(\n",
      "INNER join dataframes finished\n"
     ]
    },
    {
     "data": {
      "text/html": [
       "<div><style>\n",
       ".dataframe > thead > tr,\n",
       ".dataframe > tbody > tr {\n",
       "  text-align: right;\n",
       "  white-space: pre-wrap;\n",
       "}\n",
       "</style>\n",
       "<small>shape: (10, 4)</small><table border=\"1\" class=\"dataframe\"><thead><tr><th>Name</th><th>Birthday</th><th>month</th><th>Holiday</th></tr><tr><td>str</td><td>datetime[μs]</td><td>cat</td><td>str</td></tr></thead><tbody><tr><td>&quot;Brianna Smith&quot;</td><td>2000-02-16 00:00:00</td><td>&quot;February&quot;</td><td>&quot;Valentine&#x27;s Day&quot;</td></tr><tr><td>&quot;Alex Johnson&quot;</td><td>2001-01-15 00:00:00</td><td>&quot;January&quot;</td><td>&quot;New Year&#x27;s Day&quot;</td></tr><tr><td>&quot;Carlos Gomez&quot;</td><td>2002-03-17 00:00:00</td><td>&quot;March&quot;</td><td>&quot;St. Patrick&#x27;s Day&quot;</td></tr><tr><td>&quot;Diana Clarke&quot;</td><td>2003-04-18 00:00:00</td><td>&quot;April&quot;</td><td>&quot;April Fools&#x27; Day&quot;</td></tr><tr><td>&quot;Ethan Hunt&quot;</td><td>2002-05-19 00:00:00</td><td>&quot;May&quot;</td><td>&quot;Memorial Day&quot;</td></tr><tr><td>&quot;Fiona Gray&quot;</td><td>2005-06-20 00:00:00</td><td>&quot;June&quot;</td><td>&quot;Juneteenth&quot;</td></tr><tr><td>&quot;George King&quot;</td><td>2006-07-21 00:00:00</td><td>&quot;July&quot;</td><td>&quot;Independence Day&quot;</td></tr><tr><td>&quot;Hannah Scott&quot;</td><td>2007-08-22 00:00:00</td><td>&quot;August&quot;</td><td>&quot;Labor Day&quot;</td></tr><tr><td>&quot;Ian Miles&quot;</td><td>2008-09-23 00:00:00</td><td>&quot;September&quot;</td><td>&quot;Patriot Day&quot;</td></tr><tr><td>&quot;Julia Banks&quot;</td><td>2009-10-24 00:00:00</td><td>&quot;October&quot;</td><td>&quot;Halloween&quot;</td></tr></tbody></table></div>"
      ],
      "text/plain": [
       "shape: (10, 4)\n",
       "+---------------+---------------------+-----------+-------------------+\n",
       "| Name          | Birthday            | month     | Holiday           |\n",
       "| ---           | ---                 | ---       | ---               |\n",
       "| str           | datetime[μs]        | cat       | str               |\n",
       "+=====================================================================+\n",
       "| Brianna Smith | 2000-02-16 00:00:00 | February  | Valentine's Day   |\n",
       "| Alex Johnson  | 2001-01-15 00:00:00 | January   | New Year's Day    |\n",
       "| Carlos Gomez  | 2002-03-17 00:00:00 | March     | St. Patrick's Day |\n",
       "| Diana Clarke  | 2003-04-18 00:00:00 | April     | April Fools' Day  |\n",
       "| Ethan Hunt    | 2002-05-19 00:00:00 | May       | Memorial Day      |\n",
       "| Fiona Gray    | 2005-06-20 00:00:00 | June      | Juneteenth        |\n",
       "| George King   | 2006-07-21 00:00:00 | July      | Independence Day  |\n",
       "| Hannah Scott  | 2007-08-22 00:00:00 | August    | Labor Day         |\n",
       "| Ian Miles     | 2008-09-23 00:00:00 | September | Patriot Day       |\n",
       "| Julia Banks   | 2009-10-24 00:00:00 | October   | Halloween         |\n",
       "+---------------+---------------------+-----------+-------------------+"
      ]
     },
     "execution_count": 27,
     "metadata": {},
     "output_type": "execute_result"
    }
   ],
   "source": [
    "(\n",
    "    students\n",
    "    .with_columns(bday.str.to_datetime('%Y-%m-%d'))\n",
    "    .with_columns(month=bday.dt.strftime('%B').cast(pl.Categorical))\n",
    "    .join(\n",
    "        holidays.with_columns(pl.col('Month').cast(pl.Categorical)),\n",
    "        left_on='month',\n",
    "        right_on='Month'\n",
    "    ).sort('month')\n",
    ")"
   ]
  },
  {
   "cell_type": "markdown",
   "id": "1dec1dff-e6e3-4d42-8fa9-416d98b7a825",
   "metadata": {},
   "source": [
    "---\n",
    "* If we cast both columns to the month enum, we get the desired behavior.\n",
    "* The months are now sorted in chronological order."
   ]
  },
  {
   "cell_type": "code",
   "execution_count": 28,
   "id": "a81d8479-b2de-40a5-9cbe-58d1806ef363",
   "metadata": {},
   "outputs": [
    {
     "name": "stderr",
     "output_type": "stream",
     "text": [
      "join parallel: true\n",
      "INNER join dataframes finished\n"
     ]
    },
    {
     "data": {
      "text/html": [
       "<div><style>\n",
       ".dataframe > thead > tr,\n",
       ".dataframe > tbody > tr {\n",
       "  text-align: right;\n",
       "  white-space: pre-wrap;\n",
       "}\n",
       "</style>\n",
       "<small>shape: (10, 4)</small><table border=\"1\" class=\"dataframe\"><thead><tr><th>Name</th><th>Birthday</th><th>month</th><th>Holiday</th></tr><tr><td>str</td><td>datetime[μs]</td><td>enum</td><td>str</td></tr></thead><tbody><tr><td>&quot;Alex Johnson&quot;</td><td>2001-01-15 00:00:00</td><td>&quot;January&quot;</td><td>&quot;New Year&#x27;s Day&quot;</td></tr><tr><td>&quot;Brianna Smith&quot;</td><td>2000-02-16 00:00:00</td><td>&quot;February&quot;</td><td>&quot;Valentine&#x27;s Day&quot;</td></tr><tr><td>&quot;Carlos Gomez&quot;</td><td>2002-03-17 00:00:00</td><td>&quot;March&quot;</td><td>&quot;St. Patrick&#x27;s Day&quot;</td></tr><tr><td>&quot;Diana Clarke&quot;</td><td>2003-04-18 00:00:00</td><td>&quot;April&quot;</td><td>&quot;April Fools&#x27; Day&quot;</td></tr><tr><td>&quot;Ethan Hunt&quot;</td><td>2002-05-19 00:00:00</td><td>&quot;May&quot;</td><td>&quot;Memorial Day&quot;</td></tr><tr><td>&quot;Fiona Gray&quot;</td><td>2005-06-20 00:00:00</td><td>&quot;June&quot;</td><td>&quot;Juneteenth&quot;</td></tr><tr><td>&quot;George King&quot;</td><td>2006-07-21 00:00:00</td><td>&quot;July&quot;</td><td>&quot;Independence Day&quot;</td></tr><tr><td>&quot;Hannah Scott&quot;</td><td>2007-08-22 00:00:00</td><td>&quot;August&quot;</td><td>&quot;Labor Day&quot;</td></tr><tr><td>&quot;Ian Miles&quot;</td><td>2008-09-23 00:00:00</td><td>&quot;September&quot;</td><td>&quot;Patriot Day&quot;</td></tr><tr><td>&quot;Julia Banks&quot;</td><td>2009-10-24 00:00:00</td><td>&quot;October&quot;</td><td>&quot;Halloween&quot;</td></tr></tbody></table></div>"
      ],
      "text/plain": [
       "shape: (10, 4)\n",
       "+---------------+---------------------+-----------+-------------------+\n",
       "| Name          | Birthday            | month     | Holiday           |\n",
       "| ---           | ---                 | ---       | ---               |\n",
       "| str           | datetime[μs]        | enum      | str               |\n",
       "+=====================================================================+\n",
       "| Alex Johnson  | 2001-01-15 00:00:00 | January   | New Year's Day    |\n",
       "| Brianna Smith | 2000-02-16 00:00:00 | February  | Valentine's Day   |\n",
       "| Carlos Gomez  | 2002-03-17 00:00:00 | March     | St. Patrick's Day |\n",
       "| Diana Clarke  | 2003-04-18 00:00:00 | April     | April Fools' Day  |\n",
       "| Ethan Hunt    | 2002-05-19 00:00:00 | May       | Memorial Day      |\n",
       "| Fiona Gray    | 2005-06-20 00:00:00 | June      | Juneteenth        |\n",
       "| George King   | 2006-07-21 00:00:00 | July      | Independence Day  |\n",
       "| Hannah Scott  | 2007-08-22 00:00:00 | August    | Labor Day         |\n",
       "| Ian Miles     | 2008-09-23 00:00:00 | September | Patriot Day       |\n",
       "| Julia Banks   | 2009-10-24 00:00:00 | October   | Halloween         |\n",
       "+---------------+---------------------+-----------+-------------------+"
      ]
     },
     "execution_count": 28,
     "metadata": {},
     "output_type": "execute_result"
    }
   ],
   "source": [
    "(\n",
    "    students\n",
    "    .with_columns(bday.str.to_datetime('%Y-%m-%d'))\n",
    "    .with_columns(month=bday.dt.strftime('%B').cast(month_type))\n",
    "    .join(\n",
    "        holidays.with_columns(pl.col('Month').cast(month_type)),\n",
    "        left_on='month',\n",
    "        right_on='Month'\n",
    "    )\n",
    "    .sort('month')\n",
    ")"
   ]
  },
  {
   "cell_type": "markdown",
   "id": "36e3d82e-44c4-4418-8029-a364566cc19e",
   "metadata": {},
   "source": [
    "* Enums are preferred for handling low cardinal categorical data when:\n",
    "     - You are concerned about the order.\n",
    "     - You know the values ahead of time."
   ]
  },
  {
   "cell_type": "markdown",
   "id": "537a24be-49b9-4042-8092-e9a241eead34",
   "metadata": {},
   "source": [
    "---\n",
    "# 6.7 Group Ordering and maintain_order\n",
    "\n",
    "[back to Top](#Top)\n",
    "\n",
    "* If we group by *make*, the results do not come back with *make* ordered.\n",
    "* If we run this multiple times, the order of the rows will change."
   ]
  },
  {
   "cell_type": "code",
   "execution_count": 29,
   "id": "68db18e8-2b50-4dc4-bc69-93757748929f",
   "metadata": {},
   "outputs": [
    {
     "name": "stderr",
     "output_type": "stream",
     "text": [
      "known unique values: 145\n",
      "run PARTITIONED HASH AGGREGATION\n",
      "known unique values: 145\n",
      "run PARTITIONED HASH AGGREGATION\n"
     ]
    },
    {
     "name": "stdout",
     "output_type": "stream",
     "text": [
      "shape: (145, 2)\n",
      "+-------------------------------+-----+\n",
      "| make                          | len |\n",
      "| ---                           | --- |\n",
      "| cat                           | u32 |\n",
      "+=====================================+\n",
      "| Bitter Gmbh and Co. Kg        | 5   |\n",
      "| Goldacre                      | 1   |\n",
      "| Aurora Cars Ltd               | 1   |\n",
      "| Ruf Automobile Gmbh           | 3   |\n",
      "| Isuzu                         | 434 |\n",
      "| …                             | …   |\n",
      "| Import Foreign Auto Sales Inc | 1   |\n",
      "| Bentley                       | 176 |\n",
      "| Panoz Auto-Development        | 1   |\n",
      "| Daewoo                        | 67  |\n",
      "| Merkur                        | 14  |\n",
      "+-------------------------------+-----+\n",
      "shape: (145, 2)\n",
      "+-----------------------------+------+\n",
      "| make                        | len  |\n",
      "| ---                         | ---  |\n",
      "| cat                         | u32  |\n",
      "+====================================+\n",
      "| TVR Engineering Ltd         | 4    |\n",
      "| Consulier Industries Inc    | 3    |\n",
      "| Dodge                       | 2695 |\n",
      "| PAS Inc - GMC               | 2    |\n",
      "| Grumman Olson               | 4    |\n",
      "| …                           | …    |\n",
      "| Lamborghini                 | 163  |\n",
      "| ASC Incorporated            | 1    |\n",
      "| Import Trade Services       | 13   |\n",
      "| Aston Martin                | 183  |\n",
      "| American Motors Corporation | 27   |\n",
      "+-----------------------------+------+\n"
     ]
    }
   ],
   "source": [
    "def order_test():\n",
    "    print(\n",
    "        autos\n",
    "        .group_by(pl.col('make'))\n",
    "        .len()\n",
    "    )\n",
    "\n",
    "order_test()\n",
    "order_test()"
   ]
  },
  {
   "cell_type": "markdown",
   "id": "f1bcaa11-d321-4724-9cbe-1ec1de6448cc",
   "metadata": {},
   "source": [
    "* You can make the order consistent by passing `maintain_order=True`.\n",
    "* However, results are sorted based on the order of rows in the initial data, not on the order of the categoricals we grouped by."
   ]
  },
  {
   "cell_type": "code",
   "execution_count": 30,
   "id": "9ca7a3be-7ca1-453d-8fc5-b8b03eaa39e9",
   "metadata": {},
   "outputs": [
    {
     "name": "stderr",
     "output_type": "stream",
     "text": [
      "known unique values: 145\n",
      "run PARTITIONED HASH AGGREGATION\n"
     ]
    },
    {
     "data": {
      "text/html": [
       "<div><style>\n",
       ".dataframe > thead > tr,\n",
       ".dataframe > tbody > tr {\n",
       "  text-align: right;\n",
       "  white-space: pre-wrap;\n",
       "}\n",
       "</style>\n",
       "<small>shape: (145, 2)</small><table border=\"1\" class=\"dataframe\"><thead><tr><th>make</th><th>len</th></tr><tr><td>cat</td><td>u32</td></tr></thead><tbody><tr><td>&quot;Alfa Romeo&quot;</td><td>97</td></tr><tr><td>&quot;Ferrari&quot;</td><td>279</td></tr><tr><td>&quot;Dodge&quot;</td><td>2695</td></tr><tr><td>&quot;Subaru&quot;</td><td>1013</td></tr><tr><td>&quot;Toyota&quot;</td><td>2470</td></tr><tr><td>&hellip;</td><td>&hellip;</td></tr><tr><td>&quot;General Motors&quot;</td><td>1</td></tr><tr><td>&quot;Consulier Industries Inc&quot;</td><td>3</td></tr><tr><td>&quot;Goldacre&quot;</td><td>1</td></tr><tr><td>&quot;Isis Imports Ltd&quot;</td><td>1</td></tr><tr><td>&quot;PAS Inc - GMC&quot;</td><td>2</td></tr></tbody></table></div>"
      ],
      "text/plain": [
       "shape: (145, 2)\n",
       "+--------------------------+------+\n",
       "| make                     | len  |\n",
       "| ---                      | ---  |\n",
       "| cat                      | u32  |\n",
       "+=================================+\n",
       "| Alfa Romeo               | 97   |\n",
       "| Ferrari                  | 279  |\n",
       "| Dodge                    | 2695 |\n",
       "| Subaru                   | 1013 |\n",
       "| Toyota                   | 2470 |\n",
       "| …                        | …    |\n",
       "| General Motors           | 1    |\n",
       "| Consulier Industries Inc | 3    |\n",
       "| Goldacre                 | 1    |\n",
       "| Isis Imports Ltd         | 1    |\n",
       "| PAS Inc - GMC            | 2    |\n",
       "+--------------------------+------+"
      ]
     },
     "execution_count": 30,
     "metadata": {},
     "output_type": "execute_result"
    }
   ],
   "source": [
    "(\n",
    "    autos\n",
    "    .group_by(pl.col('make'), maintain_order=True)\n",
    "    .len()\n",
    ")"
   ]
  },
  {
   "cell_type": "markdown",
   "id": "b6d0457d-45a9-4ce3-994a-256beb83838e",
   "metadata": {},
   "source": [
    "* If you want the results in the order of the categorical, you need to sort the results after. "
   ]
  },
  {
   "cell_type": "code",
   "execution_count": 31,
   "id": "a0b59939-8035-468d-b922-0e9d566243c5",
   "metadata": {},
   "outputs": [
    {
     "name": "stderr",
     "output_type": "stream",
     "text": [
      "known unique values: 145\n",
      "run PARTITIONED HASH AGGREGATION\n"
     ]
    },
    {
     "data": {
      "text/html": [
       "<div><style>\n",
       ".dataframe > thead > tr,\n",
       ".dataframe > tbody > tr {\n",
       "  text-align: right;\n",
       "  white-space: pre-wrap;\n",
       "}\n",
       "</style>\n",
       "<small>shape: (145, 2)</small><table border=\"1\" class=\"dataframe\"><thead><tr><th>make</th><th>len</th></tr><tr><td>cat</td><td>u32</td></tr></thead><tbody><tr><td>&quot;AM General&quot;</td><td>6</td></tr><tr><td>&quot;ASC Incorporated&quot;</td><td>1</td></tr><tr><td>&quot;Acura&quot;</td><td>424</td></tr><tr><td>&quot;Alfa Romeo&quot;</td><td>97</td></tr><tr><td>&quot;American Motors Corporation&quot;</td><td>27</td></tr><tr><td>&hellip;</td><td>&hellip;</td></tr><tr><td>&quot;Volkswagen&quot;</td><td>1326</td></tr><tr><td>&quot;Volvo&quot;</td><td>929</td></tr><tr><td>&quot;Wallace Environmental&quot;</td><td>32</td></tr><tr><td>&quot;Yugo&quot;</td><td>8</td></tr><tr><td>&quot;smart&quot;</td><td>38</td></tr></tbody></table></div>"
      ],
      "text/plain": [
       "shape: (145, 2)\n",
       "+-----------------------------+------+\n",
       "| make                        | len  |\n",
       "| ---                         | ---  |\n",
       "| cat                         | u32  |\n",
       "+====================================+\n",
       "| AM General                  | 6    |\n",
       "| ASC Incorporated            | 1    |\n",
       "| Acura                       | 424  |\n",
       "| Alfa Romeo                  | 97   |\n",
       "| American Motors Corporation | 27   |\n",
       "| …                           | …    |\n",
       "| Volkswagen                  | 1326 |\n",
       "| Volvo                       | 929  |\n",
       "| Wallace Environmental       | 32   |\n",
       "| Yugo                        | 8    |\n",
       "| smart                       | 38   |\n",
       "+-----------------------------+------+"
      ]
     },
     "execution_count": 31,
     "metadata": {},
     "output_type": "execute_result"
    }
   ],
   "source": [
    "(\n",
    "    autos\n",
    "    .group_by(pl.col('make'))\n",
    "    .len()\n",
    "    .sort('make')\n",
    ")"
   ]
  },
  {
   "cell_type": "markdown",
   "id": "92a55739-fcc3-4927-9ff5-3d3b0d2b3973",
   "metadata": {},
   "source": [
    "---\n",
    "# 6.8 Stable Sorting\n",
    "\n",
    "[back to Top](#Top)\n",
    "\n",
    "* Polars use a *stable* sort algorithm."
   ]
  },
  {
   "cell_type": "code",
   "execution_count": 32,
   "id": "fb5f1ffa-8ffd-40df-b3af-be79692b4ac0",
   "metadata": {},
   "outputs": [
    {
     "data": {
      "text/html": [
       "<div><style>\n",
       ".dataframe > thead > tr,\n",
       ".dataframe > tbody > tr {\n",
       "  text-align: right;\n",
       "  white-space: pre-wrap;\n",
       "}\n",
       "</style>\n",
       "<small>shape: (5, 3)</small><table border=\"1\" class=\"dataframe\"><thead><tr><th>name</th><th>age</th><th>grade</th></tr><tr><td>str</td><td>i64</td><td>i64</td></tr></thead><tbody><tr><td>&quot;Alice&quot;</td><td>25</td><td>88</td></tr><tr><td>&quot;Bob&quot;</td><td>20</td><td>92</td></tr><tr><td>&quot;Charlie&quot;</td><td>25</td><td>95</td></tr><tr><td>&quot;Dana&quot;</td><td>21</td><td>88</td></tr><tr><td>&quot;Eve&quot;</td><td>24</td><td>60</td></tr></tbody></table></div>"
      ],
      "text/plain": [
       "shape: (5, 3)\n",
       "+---------+-----+-------+\n",
       "| name    | age | grade |\n",
       "| ---     | --- | ---   |\n",
       "| str     | i64 | i64   |\n",
       "+=======================+\n",
       "| Alice   | 25  | 88    |\n",
       "| Bob     | 20  | 92    |\n",
       "| Charlie | 25  | 95    |\n",
       "| Dana    | 21  | 88    |\n",
       "| Eve     | 24  | 60    |\n",
       "+---------+-----+-------+"
      ]
     },
     "execution_count": 32,
     "metadata": {},
     "output_type": "execute_result"
    }
   ],
   "source": [
    "students = pl.DataFrame({\n",
    "    'name': ['Alice', 'Bob', 'Charlie', 'Dana', 'Eve'],\n",
    "    'age': [25, 20, 25, 21, 24],\n",
    "    'grade': [88, 92, 95, 88, 60],\n",
    "})\n",
    "students"
   ]
  },
  {
   "cell_type": "code",
   "execution_count": 33,
   "id": "a77074c8-e2ac-400d-9ef4-ce3def1973b5",
   "metadata": {},
   "outputs": [
    {
     "data": {
      "text/html": [
       "<div><style>\n",
       ".dataframe > thead > tr,\n",
       ".dataframe > tbody > tr {\n",
       "  text-align: right;\n",
       "  white-space: pre-wrap;\n",
       "}\n",
       "</style>\n",
       "<small>shape: (5, 3)</small><table border=\"1\" class=\"dataframe\"><thead><tr><th>name</th><th>age</th><th>grade</th></tr><tr><td>str</td><td>i64</td><td>i64</td></tr></thead><tbody><tr><td>&quot;Bob&quot;</td><td>20</td><td>92</td></tr><tr><td>&quot;Dana&quot;</td><td>21</td><td>88</td></tr><tr><td>&quot;Eve&quot;</td><td>24</td><td>60</td></tr><tr><td>&quot;Alice&quot;</td><td>25</td><td>88</td></tr><tr><td>&quot;Charlie&quot;</td><td>25</td><td>95</td></tr></tbody></table></div>"
      ],
      "text/plain": [
       "shape: (5, 3)\n",
       "+---------+-----+-------+\n",
       "| name    | age | grade |\n",
       "| ---     | --- | ---   |\n",
       "| str     | i64 | i64   |\n",
       "+=======================+\n",
       "| Bob     | 20  | 92    |\n",
       "| Dana    | 21  | 88    |\n",
       "| Eve     | 24  | 60    |\n",
       "| Alice   | 25  | 88    |\n",
       "| Charlie | 25  | 95    |\n",
       "+---------+-----+-------+"
      ]
     },
     "execution_count": 33,
     "metadata": {},
     "output_type": "execute_result"
    }
   ],
   "source": [
    "(\n",
    "    students\n",
    "    .sort('age')\n",
    ")"
   ]
  },
  {
   "cell_type": "code",
   "execution_count": 34,
   "id": "47547c75-59e6-4b20-a1ac-bf8a859391ef",
   "metadata": {},
   "outputs": [
    {
     "data": {
      "text/html": [
       "<div><style>\n",
       ".dataframe > thead > tr,\n",
       ".dataframe > tbody > tr {\n",
       "  text-align: right;\n",
       "  white-space: pre-wrap;\n",
       "}\n",
       "</style>\n",
       "<small>shape: (5, 3)</small><table border=\"1\" class=\"dataframe\"><thead><tr><th>name</th><th>age</th><th>grade</th></tr><tr><td>str</td><td>i64</td><td>i64</td></tr></thead><tbody><tr><td>&quot;Eve&quot;</td><td>24</td><td>60</td></tr><tr><td>&quot;Alice&quot;</td><td>25</td><td>88</td></tr><tr><td>&quot;Dana&quot;</td><td>21</td><td>88</td></tr><tr><td>&quot;Bob&quot;</td><td>20</td><td>92</td></tr><tr><td>&quot;Charlie&quot;</td><td>25</td><td>95</td></tr></tbody></table></div>"
      ],
      "text/plain": [
       "shape: (5, 3)\n",
       "+---------+-----+-------+\n",
       "| name    | age | grade |\n",
       "| ---     | --- | ---   |\n",
       "| str     | i64 | i64   |\n",
       "+=======================+\n",
       "| Eve     | 24  | 60    |\n",
       "| Alice   | 25  | 88    |\n",
       "| Dana    | 21  | 88    |\n",
       "| Bob     | 20  | 92    |\n",
       "| Charlie | 25  | 95    |\n",
       "+---------+-----+-------+"
      ]
     },
     "execution_count": 34,
     "metadata": {},
     "output_type": "execute_result"
    }
   ],
   "source": [
    "(\n",
    "    students\n",
    "    .sort('grade')\n",
    ")"
   ]
  },
  {
   "cell_type": "markdown",
   "id": "9246b009-72b6-4de2-bea0-fd866d0f6032",
   "metadata": {},
   "source": [
    "---\n",
    "# 6.9 Sorting and Filtering\n",
    "\n",
    "[back to Top](#Top)\n",
    "\n",
    "* Because Polars has a query planner, it can do smart things if it knows the column is sorted."
   ]
  },
  {
   "cell_type": "markdown",
   "id": "964e86e9-4871-4b19-b93d-ae700db9e73a",
   "metadata": {},
   "source": [
    "Test on unsorted data:"
   ]
  },
  {
   "cell_type": "code",
   "execution_count": 35,
   "id": "f338f8f5-e52d-408b-a81f-3e48e395cdc7",
   "metadata": {},
   "outputs": [
    {
     "name": "stdout",
     "output_type": "stream",
     "text": [
      "645 µs ± 122 µs per loop (mean ± std. dev. of 7 runs, 1,000 loops each)\n"
     ]
    }
   ],
   "source": [
    "%%timeit\n",
    "@pl.Config(set_verbose=False)\n",
    "def timing_test():\n",
    "    (\n",
    "        autos\n",
    "        .filter(pl.col('year')==1994)\n",
    "    )\n",
    "\n",
    "timing_test()"
   ]
  },
  {
   "cell_type": "markdown",
   "id": "ce23d21d-238d-4398-8b23-7d2e2d495bc3",
   "metadata": {},
   "source": [
    "Test on sorted data."
   ]
  },
  {
   "cell_type": "code",
   "execution_count": 36,
   "id": "70c6bc37-14d5-4316-ba58-ecae5e39372e",
   "metadata": {},
   "outputs": [],
   "source": [
    "autos_year_sorted = autos.sort('year')"
   ]
  },
  {
   "cell_type": "code",
   "execution_count": 37,
   "id": "a55c2555-9ca0-4735-8330-78806e6dc561",
   "metadata": {},
   "outputs": [
    {
     "name": "stdout",
     "output_type": "stream",
     "text": [
      "575 µs ± 15.8 µs per loop (mean ± std. dev. of 7 runs, 1,000 loops each)\n"
     ]
    }
   ],
   "source": [
    "%%timeit\n",
    "@pl.Config(set_verbose=False)\n",
    "def timing_test():\n",
    "    (\n",
    "        autos_year_sorted\n",
    "        .filter(pl.col('year')==1994)\n",
    "    )\n",
    "\n",
    "timing_test()"
   ]
  },
  {
   "cell_type": "markdown",
   "id": "8f5096bf-7375-47f8-8257-3855d651d1fe",
   "metadata": {},
   "source": [
    "---\n",
    "Try searching for all Ford cars with three dataframes:\n",
    "1. Categorical *make* column\n",
    "2. String *make* column\n",
    "3. Sorted string *make* column"
   ]
  },
  {
   "cell_type": "code",
   "execution_count": 38,
   "id": "61d0380b-682c-449e-9639-b5787fdba800",
   "metadata": {},
   "outputs": [],
   "source": [
    "cat_make = (\n",
    "    autos\n",
    "    .with_columns(make=pl.col('make').cast(pl.Categorical('lexical'))\n",
    "    )\n",
    ")\n",
    "\n",
    "string_make = (\n",
    "    autos\n",
    "    .with_columns(make=pl.col('make').cast(pl.String))\n",
    ")\n",
    "\n",
    "sorted_make = (\n",
    "    autos\n",
    "    .with_columns(make=pl.col('make').cast(pl.String)).sort('make')\n",
    ")"
   ]
  },
  {
   "cell_type": "markdown",
   "id": "92c4da44-bac7-4e4d-9ef6-a9fc1e3db1d8",
   "metadata": {},
   "source": [
    "* Now, time searching for all Ford cars with the three dataframes."
   ]
  },
  {
   "cell_type": "code",
   "execution_count": 39,
   "id": "d15e53cf-615c-424b-b99e-0f8cec15cfe3",
   "metadata": {},
   "outputs": [
    {
     "name": "stdout",
     "output_type": "stream",
     "text": [
      "911 µs ± 62.4 µs per loop (mean ± std. dev. of 7 runs, 1,000 loops each)\n"
     ]
    }
   ],
   "source": [
    "%%timeit\n",
    "@pl.Config(set_verbose=False)\n",
    "def timing_test():\n",
    "    cat_make.filter(pl.col('make')=='Ford')\n",
    "\n",
    "timing_test()"
   ]
  },
  {
   "cell_type": "code",
   "execution_count": 40,
   "id": "39ab4d00-c1b3-4e17-9b4b-f3066446f87f",
   "metadata": {},
   "outputs": [
    {
     "name": "stdout",
     "output_type": "stream",
     "text": [
      "1 ms ± 34.6 µs per loop (mean ± std. dev. of 7 runs, 1,000 loops each)\n"
     ]
    }
   ],
   "source": [
    "%%timeit\n",
    "@pl.Config(set_verbose=False)\n",
    "def timing_test():\n",
    "    string_make.filter(pl.col('make')=='Ford')\n",
    "\n",
    "timing_test()"
   ]
  },
  {
   "cell_type": "code",
   "execution_count": 41,
   "id": "4338bcac-152f-4bd2-9339-7325f46d8225",
   "metadata": {},
   "outputs": [
    {
     "name": "stdout",
     "output_type": "stream",
     "text": [
      "773 µs ± 29.1 µs per loop (mean ± std. dev. of 7 runs, 1,000 loops each)\n"
     ]
    }
   ],
   "source": [
    "%%timeit\n",
    "@pl.Config(set_verbose=False)\n",
    "def timing_test():\n",
    "    sorted_make.filter(pl.col('make')=='Ford')\n",
    "\n",
    "timing_test()"
   ]
  },
  {
   "cell_type": "code",
   "execution_count": null,
   "id": "273bd3a4-d139-40bc-8840-889b901fb1e4",
   "metadata": {},
   "outputs": [],
   "source": []
  }
 ],
 "metadata": {
  "kernelspec": {
   "display_name": "Python 3 (ipykernel)",
   "language": "python",
   "name": "python3"
  },
  "language_info": {
   "codemirror_mode": {
    "name": "ipython",
    "version": 3
   },
   "file_extension": ".py",
   "mimetype": "text/x-python",
   "name": "python",
   "nbconvert_exporter": "python",
   "pygments_lexer": "ipython3",
   "version": "3.11.5"
  }
 },
 "nbformat": 4,
 "nbformat_minor": 5
}
