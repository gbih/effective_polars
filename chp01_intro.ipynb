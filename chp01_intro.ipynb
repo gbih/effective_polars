{
 "cells": [
  {
   "cell_type": "markdown",
   "id": "c6cce501-5be0-400a-b873-33926d79ee8a",
   "metadata": {},
   "source": [
    "#### Top"
   ]
  },
  {
   "cell_type": "markdown",
   "id": "f5dc2044-76bf-4e3c-a51d-35697f64d9f0",
   "metadata": {},
   "source": [
    "# Chapter 1 Getting Started with Polars\n",
    "\n",
    "* [1.0 Imports and Setup](#1.0-Imports-and-Setup)\n",
    "* [1.1 Introduction](#1.1-Introduction)\n",
    "* [1.2 Installing Polars](#1.2-Installing-Polars)\n",
    "* [1.3 Polars Data Structures](#1.3-Polars-Data-Structures)\n",
    "* [1.4 Lazinesss](#1.4-Laziness)\n",
    "* [1.5 Contexts and Expressions](#1.5-Contexts-and-Expressions)\n",
    "* [1.6 Reading CSV Files](#1.6-Reading-CSV-Files)\n",
    "* [1.7 Lazy CSV Reading](#1.7-Lazy-CSV-Reading)\n",
    "* [1.8 Data Type Inference and Manual Overrides](#1.8-Data-Type-Inference-and-Manual-Overrides)\n",
    "  - [1.8.1 Examine types](#1.8.1-Examine-types)\n",
    "  - [1.8.2 Change types](#1.8.2-Change-types)\n",
    "* [1.9 Automatic Type Shrinking](#1.9-Automatic-Type-Shrinking)\n",
    "* [1.10 Float Conversion](#1.10-Float-Conversion)\n",
    "* [1.11 Extracting Numbers from Strings](#1.11-Extracting-Numbers-from-Strings)\n",
    "* [1.12 String Columns](#1.12-String-Columns)\n",
    "* [1.13 Parsing Dates](#1.13-Parsing-Dates)\n",
    "* [1.14 Summary Statistics](#1.14-Summary-Statistics)\n",
    "    - [1.14.1 describe](#1.14.1-describe())\n",
    "    - [1.14.2 corr](#1.14.2-corr())\n",
    "    - [1.14.3 corr with Pandas](#1.14.3-corr()-with-Pandas)\n",
    "* [1.15 Being Lazy](#1.15-Being-Lazy)\n",
    "* [1.16 Chapter Functions and Methods](#1.16-Chapter-Functions-and-Methods)\n"
   ]
  },
  {
   "cell_type": "markdown",
   "id": "ff247972-ed13-40b7-9376-d6face1c82b5",
   "metadata": {},
   "source": [
    "---\n",
    "# 1.0 Imports and Setup\n",
    "[back to Top](#Top)\n"
   ]
  },
  {
   "cell_type": "code",
   "execution_count": 23,
   "id": "bd975c6f-877a-46da-a4d3-989e0702cddb",
   "metadata": {},
   "outputs": [
    {
     "name": "stdout",
     "output_type": "stream",
     "text": [
      "True\n"
     ]
    }
   ],
   "source": [
    "import polars as pl\n",
    "import pandas as pd\n",
    "import matplotlib.pyplot as plt\n",
    "import matplotlib_inline.backend_inline\n",
    "import chardet\n",
    "import pprint as pp\n",
    "\n",
    "matplotlib_inline.backend_inline.set_matplotlib_formats(\"retina\")\n",
    "pd.options.mode.copy_on_write = True\n",
    "print(pd.options.mode.copy_on_write)\n",
    "pl.Config.set_verbose(True)\n",
    "\n",
    "# Misc utilities\n",
    "def HR():\n",
    "    print(\"-\"*40)\n",
    "\n",
    "@pl.Config(tbl_cols=-1, ascii_tables=True)\n",
    "def tight_layout(df: pl.DataFrame, n=5) -> None:\n",
    "    with pl.Config(tbl_cols=-1, fmt_str_lengths=n):\n",
    "        print(df)\n",
    "\n",
    "def detect_encoding(filename: str) -> str:\n",
    "    \"\"\"Return the most probable character encoding for a file.\"\"\"\n",
    "    with open(filename, \"rb\") as f:\n",
    "        raw_data = f.read()\n",
    "        print(raw_data)\n",
    "        result = chardet.detect(raw_data)\n",
    "        return result[\"encoding\"]"
   ]
  },
  {
   "cell_type": "code",
   "execution_count": 24,
   "id": "a32d6ff7-2400-45ef-a5e9-b6e023573500",
   "metadata": {},
   "outputs": [
    {
     "name": "stdout",
     "output_type": "stream",
     "text": [
      "Directory 'data' already exists.\n"
     ]
    }
   ],
   "source": [
    "import os\n",
    "\n",
    "directory = \"data\"\n",
    "\n",
    "if not os.path.exists(directory):\n",
    "    os.makedirs(directory)\n",
    "    print(f\"Directory '{directory}' created successfully.\")\n",
    "else:\n",
    "    print(f\"Directory '{directory}' already exists.\")"
   ]
  },
  {
   "cell_type": "markdown",
   "id": "95c485bd-a68c-4baf-8c4e-598aa1b1e2d2",
   "metadata": {},
   "source": [
    "---\n",
    "# 1.1 Introduction\n",
    "[back to Top](#Top)\n",
    "\n",
    "Polars uses Apache Arrow, a columnar in-memory data format. Advantages are:\n",
    "\n",
    "* Fast data access: Arrow's columnar format allows for efficient vectorized operations and SIMD (Single Instruction, Multiple Data) processing.\n",
    "* Reduced memory usage: The columnar format is more memory-efficient for analytical workloads compared to row-based formats.\n",
    "* Zero-copy reads: Arrow enables zero-copy data sharing between different tools and libraries, eliminating the need for expensive data serialization and deserialization."
   ]
  },
  {
   "cell_type": "markdown",
   "id": "1111ef70-ffc9-474e-927b-5603b6b09943",
   "metadata": {},
   "source": [
    "---\n",
    "# 1.2 Installing Polars\n",
    "[back to top](#Top)\n"
   ]
  },
  {
   "cell_type": "code",
   "execution_count": 25,
   "id": "1aef52ad-10ee-4c16-a45a-d4140e7e1def",
   "metadata": {},
   "outputs": [
    {
     "name": "stdout",
     "output_type": "stream",
     "text": [
      "--------Version info---------\n",
      "Polars:              1.9.0\n",
      "Index type:          UInt32\n",
      "Platform:            macOS-12.7.6-x86_64-i386-64bit\n",
      "Python:              3.11.5 (main, Jan 16 2024, 17:25:53) [Clang 14.0.0 (clang-1400.0.29.202)]\n",
      "\n",
      "----Optional dependencies----\n",
      "adbc_driver_manager  1.1.0\n",
      "altair               5.4.0\n",
      "cloudpickle          3.0.0\n",
      "connectorx           0.3.3\n",
      "deltalake            0.19.1\n",
      "fastexcel            0.11.6\n",
      "fsspec               2023.12.2\n",
      "gevent               24.2.1\n",
      "great_tables         0.10.0\n",
      "matplotlib           3.9.2\n",
      "nest_asyncio         1.6.0\n",
      "numpy                2.0.2\n",
      "openpyxl             3.1.5\n",
      "pandas               2.2.2\n",
      "pyarrow              17.0.0\n",
      "pydantic             2.8.2\n",
      "pyiceberg            0.6.1\n",
      "sqlalchemy           2.0.32\n",
      "torch                <not installed>\n",
      "xlsx2csv             0.8.3\n",
      "xlsxwriter           3.2.0\n"
     ]
    }
   ],
   "source": [
    "# Check what version is installed\n",
    "pl.show_versions()"
   ]
  },
  {
   "cell_type": "code",
   "execution_count": 26,
   "id": "3f862169-9991-4752-a4ff-750813793f89",
   "metadata": {},
   "outputs": [
    {
     "data": {
      "text/plain": [
       "{0: 'Any',\n",
       " 1: 'Array',\n",
       " 2: 'Binary',\n",
       " 3: 'Boolean',\n",
       " 4: 'Categorical',\n",
       " 5: 'CompatLevel',\n",
       " 6: 'Config',\n",
       " 7: 'DataFrame',\n",
       " 8: 'DataType',\n",
       " 9: 'Date',\n",
       " 10: 'Datetime',\n",
       " 11: 'Decimal',\n",
       " 12: 'Duration',\n",
       " 13: 'Enum',\n",
       " 14: 'Expr',\n",
       " 15: 'Field',\n",
       " 16: 'Float32',\n",
       " 17: 'Float64',\n",
       " 18: 'GPUEngine',\n",
       " 19: 'Int16',\n",
       " 20: 'Int32',\n",
       " 21: 'Int64',\n",
       " 22: 'Int8',\n",
       " 23: 'LazyFrame',\n",
       " 24: 'List',\n",
       " 25: 'Null',\n",
       " 26: 'Object',\n",
       " 27: 'SQLContext',\n",
       " 28: 'Schema',\n",
       " 29: 'Series',\n",
       " 30: 'String',\n",
       " 31: 'StringCache',\n",
       " 32: 'Struct',\n",
       " 33: 'Time',\n",
       " 34: 'UInt16',\n",
       " 35: 'UInt32',\n",
       " 36: 'UInt64',\n",
       " 37: 'UInt8',\n",
       " 38: 'Unknown',\n",
       " 39: 'Utf8',\n",
       " 54: '_cpu_check',\n",
       " 55: '_reexport',\n",
       " 56: '_typing',\n",
       " 57: '_utils',\n",
       " 58: 'align_frames',\n",
       " 59: 'all',\n",
       " 60: 'all_horizontal',\n",
       " 61: 'any',\n",
       " 62: 'any_horizontal',\n",
       " 63: 'api',\n",
       " 64: 'approx_n_unique',\n",
       " 65: 'arange',\n",
       " 66: 'arctan2',\n",
       " 67: 'arctan2d',\n",
       " 68: 'arg_sort_by',\n",
       " 69: 'arg_where',\n",
       " 70: 'build_info',\n",
       " 71: 'business_day_count',\n",
       " 72: 'coalesce',\n",
       " 73: 'col',\n",
       " 74: 'collect_all',\n",
       " 75: 'collect_all_async',\n",
       " 76: 'concat',\n",
       " 77: 'concat_list',\n",
       " 78: 'concat_str',\n",
       " 79: 'config',\n",
       " 80: 'contextlib',\n",
       " 81: 'convert',\n",
       " 82: 'corr',\n",
       " 83: 'count',\n",
       " 84: 'cov',\n",
       " 85: 'cum_count',\n",
       " 86: 'cum_fold',\n",
       " 87: 'cum_reduce',\n",
       " 88: 'cum_sum',\n",
       " 89: 'cum_sum_horizontal',\n",
       " 90: 'dataframe',\n",
       " 91: 'datatypes',\n",
       " 92: 'date',\n",
       " 93: 'date_range',\n",
       " 94: 'date_ranges',\n",
       " 95: 'datetime',\n",
       " 96: 'datetime_range',\n",
       " 97: 'datetime_ranges',\n",
       " 98: 'dependencies',\n",
       " 99: 'disable_string_cache',\n",
       " 100: 'duration',\n",
       " 101: 'element',\n",
       " 102: 'enable_string_cache',\n",
       " 103: 'exceptions',\n",
       " 104: 'exclude',\n",
       " 105: 'expr',\n",
       " 106: 'field',\n",
       " 107: 'first',\n",
       " 108: 'fold',\n",
       " 109: 'format',\n",
       " 110: 'from_arrow',\n",
       " 111: 'from_dataframe',\n",
       " 112: 'from_dict',\n",
       " 113: 'from_dicts',\n",
       " 114: 'from_epoch',\n",
       " 115: 'from_numpy',\n",
       " 116: 'from_pandas',\n",
       " 117: 'from_records',\n",
       " 118: 'from_repr',\n",
       " 119: 'functions',\n",
       " 120: 'get_index_type',\n",
       " 121: 'groups',\n",
       " 122: 'head',\n",
       " 123: 'implode',\n",
       " 124: 'int_range',\n",
       " 125: 'int_ranges',\n",
       " 126: 'interchange',\n",
       " 127: 'io',\n",
       " 128: 'json_normalize',\n",
       " 129: 'last',\n",
       " 130: 'lazyframe',\n",
       " 131: 'len',\n",
       " 132: 'lit',\n",
       " 133: 'map_batches',\n",
       " 134: 'map_groups',\n",
       " 135: 'max',\n",
       " 136: 'max_horizontal',\n",
       " 137: 'mean',\n",
       " 138: 'mean_horizontal',\n",
       " 139: 'median',\n",
       " 140: 'meta',\n",
       " 141: 'min',\n",
       " 142: 'min_horizontal',\n",
       " 143: 'n_unique',\n",
       " 144: 'nth',\n",
       " 145: 'ones',\n",
       " 146: 'plugins',\n",
       " 147: 'polars',\n",
       " 148: 'quantile',\n",
       " 149: 'read_avro',\n",
       " 150: 'read_clipboard',\n",
       " 151: 'read_csv',\n",
       " 152: 'read_csv_batched',\n",
       " 153: 'read_database',\n",
       " 154: 'read_database_uri',\n",
       " 155: 'read_delta',\n",
       " 156: 'read_excel',\n",
       " 157: 'read_ipc',\n",
       " 158: 'read_ipc_schema',\n",
       " 159: 'read_ipc_stream',\n",
       " 160: 'read_json',\n",
       " 161: 'read_ndjson',\n",
       " 162: 'read_ods',\n",
       " 163: 'read_parquet',\n",
       " 164: 'read_parquet_schema',\n",
       " 165: 'reduce',\n",
       " 166: 'repeat',\n",
       " 167: 'rolling_corr',\n",
       " 168: 'rolling_cov',\n",
       " 169: 'scan_csv',\n",
       " 170: 'scan_delta',\n",
       " 171: 'scan_iceberg',\n",
       " 172: 'scan_ipc',\n",
       " 173: 'scan_ndjson',\n",
       " 174: 'scan_parquet',\n",
       " 175: 'scan_pyarrow_dataset',\n",
       " 176: 'schema',\n",
       " 177: 'select',\n",
       " 178: 'selectors',\n",
       " 179: 'series',\n",
       " 180: 'set_random_seed',\n",
       " 181: 'show_versions',\n",
       " 182: 'sql',\n",
       " 183: 'sql_expr',\n",
       " 184: 'std',\n",
       " 185: 'string_cache',\n",
       " 186: 'struct',\n",
       " 187: 'sum',\n",
       " 188: 'sum_horizontal',\n",
       " 189: 'tail',\n",
       " 190: 'thread_pool_size',\n",
       " 191: 'threadpool_size',\n",
       " 192: 'time',\n",
       " 193: 'time_range',\n",
       " 194: 'time_ranges',\n",
       " 195: 'using_string_cache',\n",
       " 196: 'var',\n",
       " 197: 'when',\n",
       " 198: 'wrap_df',\n",
       " 199: 'wrap_s',\n",
       " 200: 'zeros'}"
      ]
     },
     "execution_count": 26,
     "metadata": {},
     "output_type": "execute_result"
    }
   ],
   "source": [
    "# Check main polars functions and attributes\n",
    "pl_dict = dict((k, v) for k, v in enumerate(dir(pl)) if not v.startswith('__'))\n",
    "pl_dict"
   ]
  },
  {
   "cell_type": "markdown",
   "id": "a502192c-19b7-43be-a228-057f5f8108b5",
   "metadata": {},
   "source": [
    "---\n",
    "# 1.3 Polars Data Structures\n",
    "[back to top](#Top)\n",
    "\n",
    "* Generally, we don’t use the Series in Polars.\n",
    "* Instead, Polars has a mechanism to represent a single column as an expression.\n",
    "* This is typically done with the `pl.col` function\n",
    "* Read this as *polars-column*"
   ]
  },
  {
   "cell_type": "markdown",
   "id": "aa7397db-e552-4492-91ce-cadcd5b9694a",
   "metadata": {},
   "source": [
    "---\n",
    "# 1.4 Laziness\n",
    "[back to top](#Top)\n",
    "\n",
    "The computation graphs created in lazy mode are:\n",
    "\n",
    "1. Logical plan: This is the initial representation of the query as a tree of operations. It is a high-level representation of the computation without considering physical details.\n",
    "\n",
    "2. Physical plan: This is the optimized version of the logical plan, taking into account the physical implementation details. The physical plan is further optimized by the query optimizer.\n",
    "\n",
    "3. Execution plan: This is the final plan that will be executed, taking into account the available hardware resources and data distribution. The execution plan is parallelized to leverage multiple CPU cores."
   ]
  },
  {
   "cell_type": "code",
   "execution_count": 27,
   "id": "5dec5654-0bd4-4f1a-a41d-1b645ead5427",
   "metadata": {},
   "outputs": [
    {
     "data": {
      "text/plain": [
       "130"
      ]
     },
     "execution_count": 27,
     "metadata": {},
     "output_type": "execute_result"
    }
   ],
   "source": [
    "# Operations supported on eager dataframes\n",
    "df_ops = set(x for x in dir(pl.DataFrame()) if not x.startswith('_'))\n",
    "len(df_ops)"
   ]
  },
  {
   "cell_type": "code",
   "execution_count": 28,
   "id": "76c0dc92-3622-41b2-b998-87a3b0206885",
   "metadata": {},
   "outputs": [
    {
     "data": {
      "text/plain": [
       "78"
      ]
     },
     "execution_count": 28,
     "metadata": {},
     "output_type": "execute_result"
    }
   ],
   "source": [
    "# Operations supported on lazy dataframes\n",
    "lazy_ops = set(x for x in dir(pl.LazyFrame()) if not x.startswith('_'))\n",
    "len(lazy_ops)"
   ]
  },
  {
   "cell_type": "code",
   "execution_count": 29,
   "id": "822e573c-0f7a-4825-81e2-fdd5dd159dad",
   "metadata": {},
   "outputs": [
    {
     "name": "stdout",
     "output_type": "stream",
     "text": [
      "['corr', 'drop_in_place', 'equals', 'estimated_size', 'extend', 'flags', 'fold', 'get_column', 'get_column_index', 'get_columns', 'glimpse', 'hash_rows', 'height', 'hstack', 'insert_column', 'is_duplicated', 'is_empty', 'is_unique', 'item', 'iter_columns', 'iter_rows', 'iter_slices', 'map_rows', 'max_horizontal', 'mean_horizontal', 'min_horizontal', 'n_chunks', 'n_unique', 'partition_by', 'pivot', 'plot', 'product', 'rechunk', 'replace_column', 'row', 'rows', 'rows_by_key', 'sample', 'shape', 'shrink_to_fit', 'style', 'sum_horizontal', 'to_arrow', 'to_dict', 'to_dicts', 'to_dummies', 'to_init_repr', 'to_jax', 'to_numpy', 'to_pandas', 'to_series', 'to_struct', 'to_torch', 'transpose', 'unstack', 'upsample', 'vstack', 'write_avro', 'write_clipboard', 'write_csv', 'write_database', 'write_delta', 'write_excel', 'write_ipc', 'write_ipc_stream', 'write_json', 'write_ndjson', 'write_parquet']\n"
     ]
    }
   ],
   "source": [
    "# Operations not supported on lazy dataframes\n",
    "print(sorted(df_ops - lazy_ops))"
   ]
  },
  {
   "cell_type": "code",
   "execution_count": 30,
   "id": "513ca6f5-a053-44bc-9b63-cc68510c40d7",
   "metadata": {},
   "outputs": [
    {
     "name": "stdout",
     "output_type": "stream",
     "text": [
      "['cache', 'collect', 'collect_async', 'explain', 'fetch', 'first', 'inspect', 'last', 'map_batches', 'profile', 'show_graph', 'sink_csv', 'sink_ipc', 'sink_ndjson', 'sink_parquet', 'with_context']\n"
     ]
    }
   ],
   "source": [
    "# Operations not supported on eager dataframes\n",
    "print(sorted(lazy_ops - df_ops))"
   ]
  },
  {
   "cell_type": "code",
   "execution_count": 31,
   "id": "b1d76559-7d4f-4545-820c-1eab93f040b1",
   "metadata": {},
   "outputs": [
    {
     "name": "stdout",
     "output_type": "stream",
     "text": [
      "['approx_n_unique', 'bottom_k', 'cast', 'clear', 'clone', 'collect_schema', 'columns', 'count', 'describe', 'deserialize', 'drop', 'drop_nulls', 'dtypes', 'explode', 'fill_nan', 'fill_null', 'filter', 'gather_every', 'group_by', 'group_by_dynamic', 'head', 'interpolate', 'join', 'join_asof', 'join_where', 'lazy', 'limit', 'max', 'mean', 'median', 'melt', 'merge_sorted', 'min', 'null_count', 'pipe', 'quantile', 'rename', 'reverse', 'rolling', 'schema', 'select', 'select_seq', 'serialize', 'set_sorted', 'shift', 'slice', 'sort', 'sql', 'std', 'sum', 'tail', 'top_k', 'unique', 'unnest', 'unpivot', 'update', 'var', 'width', 'with_columns', 'with_columns_seq', 'with_row_count', 'with_row_index']\n"
     ]
    }
   ],
   "source": [
    "# Operations supported by both eager and lazy dataframes\n",
    "print(sorted(lazy_ops & df_ops))"
   ]
  },
  {
   "cell_type": "markdown",
   "id": "685642fd-8adc-42f3-9049-66f86dace1a5",
   "metadata": {},
   "source": [
    "---\n",
    "# 1.5 Contexts and Expressions\n",
    "[back to top](#Top)\n",
    "\n",
    "In Polars, we generally don’t work directly on a Series or DataFrame. Instead, we work with an **expression-operation**. This expression is then evaluated in a context. There are many contexts available in Polars. Contexts are operations like filter, select, group_by, etc.\n",
    "\n",
    "Inside these contexts, we can use operations to create columns. **These operations generally don’t work directly on the data.** Instead, we build up an expression that is evaluated in the context.\n",
    "\n",
    "Let’s look at what is available in an expression. Often, expressions are created from the `pl.col()` function, which is used to **represent a column**. In other words, we use `pl.col()` to create **column expressions**. This is a key thing to understand about Polars. \n",
    "\n",
    "When we use pl.col, we don’t have access to the data directly. We describe the operation that we want to perform on the data. Polars will **use this expression, build up an execution plan, and then execute the plan.**\n"
   ]
  },
  {
   "cell_type": "code",
   "execution_count": 32,
   "id": "d65fc180-ba9a-4c3a-99fb-4222989a854f",
   "metadata": {},
   "outputs": [
    {
     "name": "stdout",
     "output_type": "stream",
     "text": [
      "['abs', 'add', 'agg_groups', 'alias', 'all', 'and_', 'any', 'append', 'approx_n_unique', 'arccos', 'arccosh', 'arcsin', 'arcsinh', 'arctan', 'arctanh', 'arg_max', 'arg_min', 'arg_sort', 'arg_true', 'arg_unique', 'arr', 'backward_fill', 'bin', 'bitwise_and', 'bitwise_count_ones', 'bitwise_count_zeros', 'bitwise_leading_ones', 'bitwise_leading_zeros', 'bitwise_or', 'bitwise_trailing_ones', 'bitwise_trailing_zeros', 'bitwise_xor', 'bottom_k', 'bottom_k_by', 'cast', 'cat', 'cbrt', 'ceil', 'clip', 'cos', 'cosh', 'cot', 'count', 'cum_count', 'cum_max', 'cum_min', 'cum_prod', 'cum_sum', 'cumulative_eval', 'cut', 'degrees', 'deserialize', 'diff', 'dot', 'drop_nans', 'drop_nulls', 'dt', 'entropy', 'eq', 'eq_missing', 'ewm_mean', 'ewm_mean_by', 'ewm_std', 'ewm_var', 'exclude', 'exp', 'explode', 'extend_constant', 'fill_nan', 'fill_null', 'filter', 'first', 'flatten', 'floor', 'floordiv', 'forward_fill', 'from_json', 'gather', 'gather_every', 'ge', 'get', 'gt', 'has_nulls', 'hash', 'head', 'hist', 'implode', 'inspect', 'interpolate', 'interpolate_by', 'is_between', 'is_duplicated', 'is_finite', 'is_first_distinct', 'is_in', 'is_infinite', 'is_last_distinct', 'is_nan', 'is_not_nan', 'is_not_null', 'is_null', 'is_unique', 'kurtosis', 'last', 'le', 'len', 'limit', 'list', 'log', 'log10', 'log1p', 'lower_bound', 'lt', 'map_batches', 'map_elements', 'max', 'mean', 'median', 'meta', 'min', 'mod', 'mode', 'mul', 'n_unique', 'name', 'nan_max', 'nan_min', 'ne', 'ne_missing', 'neg', 'not_', 'null_count', 'or_', 'over', 'pct_change', 'peak_max', 'peak_min', 'pipe', 'pow', 'product', 'qcut', 'quantile', 'radians', 'rank', 'rechunk', 'register_plugin', 'reinterpret', 'repeat_by', 'replace', 'replace_strict', 'reshape', 'reverse', 'rle', 'rle_id', 'rolling', 'rolling_map', 'rolling_max', 'rolling_max_by', 'rolling_mean', 'rolling_mean_by', 'rolling_median', 'rolling_median_by', 'rolling_min', 'rolling_min_by', 'rolling_quantile', 'rolling_quantile_by', 'rolling_skew', 'rolling_std', 'rolling_std_by', 'rolling_sum', 'rolling_sum_by', 'rolling_var', 'rolling_var_by', 'round', 'round_sig_figs', 'sample', 'search_sorted', 'set_sorted', 'shift', 'shrink_dtype', 'shuffle', 'sign', 'sin', 'sinh', 'skew', 'slice', 'sort', 'sort_by', 'sqrt', 'std', 'str', 'struct', 'sub', 'sum', 'tail', 'tan', 'tanh', 'to_physical', 'top_k', 'top_k_by', 'truediv', 'unique', 'unique_counts', 'upper_bound', 'value_counts', 'var', 'where', 'xor']\n"
     ]
    }
   ],
   "source": [
    "# Operations available on pl.col\n",
    "col = pl.col('sample')\n",
    "col_ops = set(x for x in dir(col) if not x.startswith('_'))\n",
    "print(sorted(col_ops))"
   ]
  },
  {
   "cell_type": "code",
   "execution_count": 33,
   "id": "4dc043ff-e20c-4bb4-a1d2-831e999e59cd",
   "metadata": {},
   "outputs": [
    {
     "name": "stdout",
     "output_type": "stream",
     "text": [
      "<class 'polars.expr.expr.Expr'>\n"
     ]
    },
    {
     "data": {
      "text/html": [
       "col(\"sample\").strict_cast(Int32).fill_null([col(\"sample\").mean()]).clip_max([dyn int: 100]).sample([dyn int: 10]).mean()"
      ],
      "text/plain": [
       "<Expr ['col(\"sample\").strict_cast(Int3…'] at 0x12528CA10>"
      ]
     },
     "execution_count": 33,
     "metadata": {},
     "output_type": "execute_result"
    }
   ],
   "source": [
    "test = (\n",
    "    col\n",
    "    .cast(pl.Int32)\n",
    "    .fill_null(col.mean())\n",
    "    .clip(upper_bound=100)\n",
    "    .sample(10)\n",
    "    .mean()\n",
    ")\n",
    "print(type(test))\n",
    "test"
   ]
  },
  {
   "cell_type": "markdown",
   "id": "05e844fc-cd8d-4bb2-bdf3-f4b3885fcf74",
   "metadata": {},
   "source": [
    "Unchained style of coding."
   ]
  },
  {
   "cell_type": "code",
   "execution_count": 34,
   "id": "3384538d-e45d-438b-a28a-3660000d7b3c",
   "metadata": {},
   "outputs": [
    {
     "data": {
      "text/html": [
       "col(\"sample\").strict_cast(Int64)"
      ],
      "text/plain": [
       "<Expr ['col(\"sample\").strict_cast(Int6…'] at 0x1262E0390>"
      ]
     },
     "execution_count": 34,
     "metadata": {},
     "output_type": "execute_result"
    }
   ],
   "source": [
    "ex1 = col.cast(pl.Int64)\n",
    "ex1"
   ]
  },
  {
   "cell_type": "code",
   "execution_count": 35,
   "id": "d424f75b-3b2d-46b7-9e5c-73929f3cce10",
   "metadata": {},
   "outputs": [
    {
     "data": {
      "text/html": [
       "col(\"sample\").strict_cast(Int64).fill_null([col(\"sample\").strict_cast(Int64)])"
      ],
      "text/plain": [
       "<Expr ['col(\"sample\").strict_cast(Int6…'] at 0x126785490>"
      ]
     },
     "execution_count": 35,
     "metadata": {},
     "output_type": "execute_result"
    }
   ],
   "source": [
    "ex2 = ex1.fill_null(col.cast(pl.Int64))\n",
    "ex2"
   ]
  },
  {
   "cell_type": "code",
   "execution_count": 36,
   "id": "5be92473-57df-46e1-9156-e68a2dc42aa2",
   "metadata": {},
   "outputs": [
    {
     "data": {
      "text/html": [
       "col(\"sample\").strict_cast(Int64).fill_null([col(\"sample\").strict_cast(Int64)]).clip_max([dyn int: 100])"
      ],
      "text/plain": [
       "<Expr ['col(\"sample\").strict_cast(Int6…'] at 0x12674FD90>"
      ]
     },
     "execution_count": 36,
     "metadata": {},
     "output_type": "execute_result"
    }
   ],
   "source": [
    "ex3 = ex2.clip(upper_bound=100)\n",
    "ex3"
   ]
  },
  {
   "cell_type": "code",
   "execution_count": 37,
   "id": "5002df9b-0475-4604-9c6b-c0fdc05a9bb3",
   "metadata": {},
   "outputs": [
    {
     "data": {
      "text/html": [
       "col(\"sample\").strict_cast(Int64).fill_null([col(\"sample\").strict_cast(Int64)]).clip_max([dyn int: 100]).sample([dyn int: 10])"
      ],
      "text/plain": [
       "<Expr ['col(\"sample\").strict_cast(Int6…'] at 0x1262E0ED0>"
      ]
     },
     "execution_count": 37,
     "metadata": {},
     "output_type": "execute_result"
    }
   ],
   "source": [
    "ex4 = ex3.sample(10)\n",
    "ex4"
   ]
  },
  {
   "cell_type": "code",
   "execution_count": 38,
   "id": "44ae8018-fc3f-4b1c-beca-ee4335c8294c",
   "metadata": {},
   "outputs": [
    {
     "data": {
      "text/html": [
       "col(\"sample\").strict_cast(Int64).fill_null([col(\"sample\").strict_cast(Int64)]).clip_max([dyn int: 100]).sample([dyn int: 10]).mean()"
      ],
      "text/plain": [
       "<Expr ['col(\"sample\").strict_cast(Int6…'] at 0x126157790>"
      ]
     },
     "execution_count": 38,
     "metadata": {},
     "output_type": "execute_result"
    }
   ],
   "source": [
    "ex5 = ex4.mean()\n",
    "ex5"
   ]
  },
  {
   "cell_type": "markdown",
   "id": "a6c08635-7940-49f3-852f-bfdd5380fd0a",
   "metadata": {},
   "source": [
    "---\n",
    "You can also create expressions using an attribute syntax.\n",
    "\n",
    "In general this is not the recommended style."
   ]
  },
  {
   "cell_type": "code",
   "execution_count": 39,
   "id": "117549c1-e58e-4d70-b546-fb7dc68039be",
   "metadata": {},
   "outputs": [
    {
     "data": {
      "text/html": [
       "col(\"a_column\")"
      ],
      "text/plain": [
       "<Expr ['col(\"a_column\")'] at 0x1262E1510>"
      ]
     },
     "execution_count": 39,
     "metadata": {},
     "output_type": "execute_result"
    }
   ],
   "source": [
    "# attribute syntax\n",
    "pl.col.a_column"
   ]
  },
  {
   "cell_type": "markdown",
   "id": "ea072de7-bc9d-4faa-baae-123537c9d79b",
   "metadata": {},
   "source": [
    "---\n",
    "# 1.6 Reading CSV Files\n",
    "[back to top](#Top)\n",
    "\n",
    "* Fuel Economy dataset from the US Department of Energy\n",
    "* https://www.fueleconomy.gov/feg/download.shtml\n",
    "* https://www.fueleconomy.gov/feg/epadata/vehicles.csv.zip\n",
    "* Polars cannot read ZIP file directly."
   ]
  },
  {
   "cell_type": "code",
   "execution_count": 40,
   "id": "207ae8d3-ca5d-4a04-a3ad-c9b6a2f12574",
   "metadata": {},
   "outputs": [
    {
     "name": "stdout",
     "output_type": "stream",
     "text": [
      "ファイル `data/vehicles.csv.zip' はすでに存在するので、取得しません。\n",
      "\n"
     ]
    },
    {
     "name": "stderr",
     "output_type": "stream",
     "text": [
      "avg line length: 434.78027\n",
      "std. dev. line length: 23.885818\n",
      "initial row estimate: 47850\n",
      "no. of chunks: 4 processed by: 4 threads.\n"
     ]
    },
    {
     "data": {
      "text/html": [
       "<div><style>\n",
       ".dataframe > thead > tr,\n",
       ".dataframe > tbody > tr {\n",
       "  text-align: right;\n",
       "  white-space: pre-wrap;\n",
       "}\n",
       "</style>\n",
       "<small>shape: (48_202, 84)</small><table border=\"1\" class=\"dataframe\"><thead><tr><th>barrels08</th><th>barrelsA08</th><th>charge120</th><th>charge240</th><th>city08</th><th>city08U</th><th>cityA08</th><th>cityA08U</th><th>cityCD</th><th>cityE</th><th>cityUF</th><th>co2</th><th>co2A</th><th>co2TailpipeAGpm</th><th>co2TailpipeGpm</th><th>comb08</th><th>comb08U</th><th>combA08</th><th>combA08U</th><th>combE</th><th>combinedCD</th><th>combinedUF</th><th>cylinders</th><th>displ</th><th>drive</th><th>engId</th><th>eng_dscr</th><th>feScore</th><th>fuelCost08</th><th>fuelCostA08</th><th>fuelType</th><th>fuelType1</th><th>ghgScore</th><th>ghgScoreA</th><th>highway08</th><th>highway08U</th><th>highwayA08</th><th>highwayA08U</th><th>highwayCD</th><th>highwayE</th><th>highwayUF</th><th>hlv</th><th>hpv</th><th>id</th><th>lv2</th><th>lv4</th><th>make</th><th>model</th><th>mpgData</th><th>phevBlended</th><th>pv2</th><th>pv4</th><th>range</th><th>rangeCity</th><th>rangeCityA</th><th>rangeHwy</th><th>rangeHwyA</th><th>trany</th><th>UCity</th><th>UCityA</th><th>UHighway</th><th>UHighwayA</th><th>VClass</th><th>year</th><th>youSaveSpend</th><th>baseModel</th><th>guzzler</th><th>trans_dscr</th><th>tCharger</th><th>sCharger</th><th>atvType</th><th>fuelType2</th><th>rangeA</th><th>evMotor</th><th>mfrCode</th><th>c240Dscr</th><th>charge240b</th><th>c240bDscr</th><th>createdOn</th><th>modifiedOn</th><th>startStop</th><th>phevCity</th><th>phevHwy</th><th>phevComb</th></tr><tr><td>f64</td><td>f64</td><td>f64</td><td>f64</td><td>i64</td><td>f64</td><td>i64</td><td>f64</td><td>f64</td><td>f64</td><td>f64</td><td>i64</td><td>i64</td><td>f64</td><td>f64</td><td>i64</td><td>f64</td><td>i64</td><td>f64</td><td>f64</td><td>f64</td><td>f64</td><td>i64</td><td>f64</td><td>str</td><td>i64</td><td>str</td><td>i64</td><td>i64</td><td>i64</td><td>str</td><td>str</td><td>i64</td><td>i64</td><td>i64</td><td>f64</td><td>i64</td><td>f64</td><td>f64</td><td>f64</td><td>f64</td><td>i64</td><td>i64</td><td>i64</td><td>i64</td><td>i64</td><td>str</td><td>str</td><td>str</td><td>bool</td><td>i64</td><td>i64</td><td>i64</td><td>f64</td><td>f64</td><td>f64</td><td>f64</td><td>str</td><td>f64</td><td>f64</td><td>f64</td><td>f64</td><td>str</td><td>i64</td><td>i64</td><td>str</td><td>str</td><td>str</td><td>str</td><td>str</td><td>str</td><td>str</td><td>str</td><td>str</td><td>str</td><td>str</td><td>f64</td><td>str</td><td>str</td><td>str</td><td>str</td><td>i64</td><td>i64</td><td>i64</td></tr></thead><tbody><tr><td>14.167143</td><td>0.0</td><td>0.0</td><td>0.0</td><td>19</td><td>0.0</td><td>0</td><td>0.0</td><td>0.0</td><td>0.0</td><td>0.0</td><td>-1</td><td>-1</td><td>0.0</td><td>423.190476</td><td>21</td><td>0.0</td><td>0</td><td>0.0</td><td>0.0</td><td>0.0</td><td>0.0</td><td>4</td><td>2.0</td><td>&quot;Rear-Wheel Drive&quot;</td><td>9011</td><td>&quot;(FFS)&quot;</td><td>-1</td><td>2250</td><td>0</td><td>&quot;Regular&quot;</td><td>&quot;Regular Gasoline&quot;</td><td>-1</td><td>-1</td><td>25</td><td>0.0</td><td>0</td><td>0.0</td><td>0.0</td><td>0.0</td><td>0.0</td><td>0</td><td>0</td><td>1</td><td>0</td><td>0</td><td>&quot;Alfa Romeo&quot;</td><td>&quot;Spider Veloce 2000&quot;</td><td>&quot;Y&quot;</td><td>false</td><td>0</td><td>0</td><td>0</td><td>0.0</td><td>0.0</td><td>0.0</td><td>0.0</td><td>&quot;Manual 5-spd&quot;</td><td>23.3333</td><td>0.0</td><td>35.0</td><td>0.0</td><td>&quot;Two Seaters&quot;</td><td>1985</td><td>-2750</td><td>&quot;Spider&quot;</td><td>null</td><td>null</td><td>null</td><td>null</td><td>null</td><td>null</td><td>null</td><td>null</td><td>null</td><td>null</td><td>0.0</td><td>null</td><td>&quot;Tue Jan 01 00:00:00 EST 2013&quot;</td><td>&quot;Tue Jan 01 00:00:00 EST 2013&quot;</td><td>null</td><td>0</td><td>0</td><td>0</td></tr><tr><td>27.046364</td><td>0.0</td><td>0.0</td><td>0.0</td><td>9</td><td>0.0</td><td>0</td><td>0.0</td><td>0.0</td><td>0.0</td><td>0.0</td><td>-1</td><td>-1</td><td>0.0</td><td>807.909091</td><td>11</td><td>0.0</td><td>0</td><td>0.0</td><td>0.0</td><td>0.0</td><td>0.0</td><td>12</td><td>4.9</td><td>&quot;Rear-Wheel Drive&quot;</td><td>22020</td><td>&quot;(GUZZLER)&quot;</td><td>-1</td><td>4300</td><td>0</td><td>&quot;Regular&quot;</td><td>&quot;Regular Gasoline&quot;</td><td>-1</td><td>-1</td><td>14</td><td>0.0</td><td>0</td><td>0.0</td><td>0.0</td><td>0.0</td><td>0.0</td><td>0</td><td>0</td><td>10</td><td>0</td><td>0</td><td>&quot;Ferrari&quot;</td><td>&quot;Testarossa&quot;</td><td>&quot;N&quot;</td><td>false</td><td>0</td><td>0</td><td>0</td><td>0.0</td><td>0.0</td><td>0.0</td><td>0.0</td><td>&quot;Manual 5-spd&quot;</td><td>11.0</td><td>0.0</td><td>19.0</td><td>0.0</td><td>&quot;Two Seaters&quot;</td><td>1985</td><td>-13000</td><td>&quot;Testarossa&quot;</td><td>&quot;T&quot;</td><td>null</td><td>null</td><td>null</td><td>null</td><td>null</td><td>null</td><td>null</td><td>null</td><td>null</td><td>0.0</td><td>null</td><td>&quot;Tue Jan 01 00:00:00 EST 2013&quot;</td><td>&quot;Tue Jan 01 00:00:00 EST 2013&quot;</td><td>null</td><td>0</td><td>0</td><td>0</td></tr><tr><td>11.018889</td><td>0.0</td><td>0.0</td><td>0.0</td><td>23</td><td>0.0</td><td>0</td><td>0.0</td><td>0.0</td><td>0.0</td><td>0.0</td><td>-1</td><td>-1</td><td>0.0</td><td>329.148148</td><td>27</td><td>0.0</td><td>0</td><td>0.0</td><td>0.0</td><td>0.0</td><td>0.0</td><td>4</td><td>2.2</td><td>&quot;Front-Wheel Drive&quot;</td><td>2100</td><td>&quot;(FFS)&quot;</td><td>-1</td><td>1750</td><td>0</td><td>&quot;Regular&quot;</td><td>&quot;Regular Gasoline&quot;</td><td>-1</td><td>-1</td><td>33</td><td>0.0</td><td>0</td><td>0.0</td><td>0.0</td><td>0.0</td><td>0.0</td><td>19</td><td>77</td><td>100</td><td>0</td><td>0</td><td>&quot;Dodge&quot;</td><td>&quot;Charger&quot;</td><td>&quot;Y&quot;</td><td>false</td><td>0</td><td>0</td><td>0</td><td>0.0</td><td>0.0</td><td>0.0</td><td>0.0</td><td>&quot;Manual 5-spd&quot;</td><td>29.0</td><td>0.0</td><td>47.0</td><td>0.0</td><td>&quot;Subcompact Cars&quot;</td><td>1985</td><td>-250</td><td>&quot;Charger&quot;</td><td>null</td><td>&quot;SIL&quot;</td><td>null</td><td>null</td><td>null</td><td>null</td><td>null</td><td>null</td><td>null</td><td>null</td><td>0.0</td><td>null</td><td>&quot;Tue Jan 01 00:00:00 EST 2013&quot;</td><td>&quot;Tue Jan 01 00:00:00 EST 2013&quot;</td><td>null</td><td>0</td><td>0</td><td>0</td></tr><tr><td>27.046364</td><td>0.0</td><td>0.0</td><td>0.0</td><td>10</td><td>0.0</td><td>0</td><td>0.0</td><td>0.0</td><td>0.0</td><td>0.0</td><td>-1</td><td>-1</td><td>0.0</td><td>807.909091</td><td>11</td><td>0.0</td><td>0</td><td>0.0</td><td>0.0</td><td>0.0</td><td>0.0</td><td>8</td><td>5.2</td><td>&quot;Rear-Wheel Drive&quot;</td><td>2850</td><td>null</td><td>-1</td><td>4300</td><td>0</td><td>&quot;Regular&quot;</td><td>&quot;Regular Gasoline&quot;</td><td>-1</td><td>-1</td><td>12</td><td>0.0</td><td>0</td><td>0.0</td><td>0.0</td><td>0.0</td><td>0.0</td><td>0</td><td>0</td><td>1000</td><td>0</td><td>0</td><td>&quot;Dodge&quot;</td><td>&quot;B150/B250 Wagon 2WD&quot;</td><td>&quot;N&quot;</td><td>false</td><td>0</td><td>0</td><td>0</td><td>0.0</td><td>0.0</td><td>0.0</td><td>0.0</td><td>&quot;Automatic 3-spd&quot;</td><td>12.2222</td><td>0.0</td><td>16.6667</td><td>0.0</td><td>&quot;Vans&quot;</td><td>1985</td><td>-13000</td><td>&quot;B150/B250 Wagon&quot;</td><td>null</td><td>null</td><td>null</td><td>null</td><td>null</td><td>null</td><td>null</td><td>null</td><td>null</td><td>null</td><td>0.0</td><td>null</td><td>&quot;Tue Jan 01 00:00:00 EST 2013&quot;</td><td>&quot;Tue Jan 01 00:00:00 EST 2013&quot;</td><td>null</td><td>0</td><td>0</td><td>0</td></tr><tr><td>15.658421</td><td>0.0</td><td>0.0</td><td>0.0</td><td>17</td><td>0.0</td><td>0</td><td>0.0</td><td>0.0</td><td>0.0</td><td>0.0</td><td>-1</td><td>-1</td><td>0.0</td><td>467.736842</td><td>19</td><td>0.0</td><td>0</td><td>0.0</td><td>0.0</td><td>0.0</td><td>0.0</td><td>4</td><td>2.2</td><td>&quot;4-Wheel or All-Wheel Drive&quot;</td><td>66031</td><td>&quot;(FFS,TRBO)&quot;</td><td>-1</td><td>3200</td><td>0</td><td>&quot;Premium&quot;</td><td>&quot;Premium Gasoline&quot;</td><td>-1</td><td>-1</td><td>23</td><td>0.0</td><td>0</td><td>0.0</td><td>0.0</td><td>0.0</td><td>0.0</td><td>0</td><td>0</td><td>10000</td><td>0</td><td>14</td><td>&quot;Subaru&quot;</td><td>&quot;Legacy AWD Turbo&quot;</td><td>&quot;N&quot;</td><td>false</td><td>0</td><td>90</td><td>0</td><td>0.0</td><td>0.0</td><td>0.0</td><td>0.0</td><td>&quot;Manual 5-spd&quot;</td><td>21.0</td><td>0.0</td><td>32.0</td><td>0.0</td><td>&quot;Compact Cars&quot;</td><td>1993</td><td>-7500</td><td>&quot;Legacy/Outback&quot;</td><td>null</td><td>null</td><td>&quot;T&quot;</td><td>null</td><td>null</td><td>null</td><td>null</td><td>null</td><td>null</td><td>null</td><td>0.0</td><td>null</td><td>&quot;Tue Jan 01 00:00:00 EST 2013&quot;</td><td>&quot;Tue Jan 01 00:00:00 EST 2013&quot;</td><td>null</td><td>0</td><td>0</td><td>0</td></tr><tr><td>&hellip;</td><td>&hellip;</td><td>&hellip;</td><td>&hellip;</td><td>&hellip;</td><td>&hellip;</td><td>&hellip;</td><td>&hellip;</td><td>&hellip;</td><td>&hellip;</td><td>&hellip;</td><td>&hellip;</td><td>&hellip;</td><td>&hellip;</td><td>&hellip;</td><td>&hellip;</td><td>&hellip;</td><td>&hellip;</td><td>&hellip;</td><td>&hellip;</td><td>&hellip;</td><td>&hellip;</td><td>&hellip;</td><td>&hellip;</td><td>&hellip;</td><td>&hellip;</td><td>&hellip;</td><td>&hellip;</td><td>&hellip;</td><td>&hellip;</td><td>&hellip;</td><td>&hellip;</td><td>&hellip;</td><td>&hellip;</td><td>&hellip;</td><td>&hellip;</td><td>&hellip;</td><td>&hellip;</td><td>&hellip;</td><td>&hellip;</td><td>&hellip;</td><td>&hellip;</td><td>&hellip;</td><td>&hellip;</td><td>&hellip;</td><td>&hellip;</td><td>&hellip;</td><td>&hellip;</td><td>&hellip;</td><td>&hellip;</td><td>&hellip;</td><td>&hellip;</td><td>&hellip;</td><td>&hellip;</td><td>&hellip;</td><td>&hellip;</td><td>&hellip;</td><td>&hellip;</td><td>&hellip;</td><td>&hellip;</td><td>&hellip;</td><td>&hellip;</td><td>&hellip;</td><td>&hellip;</td><td>&hellip;</td><td>&hellip;</td><td>&hellip;</td><td>&hellip;</td><td>&hellip;</td><td>&hellip;</td><td>&hellip;</td><td>&hellip;</td><td>&hellip;</td><td>&hellip;</td><td>&hellip;</td><td>&hellip;</td><td>&hellip;</td><td>&hellip;</td><td>&hellip;</td><td>&hellip;</td><td>&hellip;</td><td>&hellip;</td><td>&hellip;</td><td>&hellip;</td></tr><tr><td>13.523182</td><td>0.0</td><td>0.0</td><td>0.0</td><td>19</td><td>0.0</td><td>0</td><td>0.0</td><td>0.0</td><td>0.0</td><td>0.0</td><td>-1</td><td>-1</td><td>0.0</td><td>403.954545</td><td>22</td><td>0.0</td><td>0</td><td>0.0</td><td>0.0</td><td>0.0</td><td>0.0</td><td>4</td><td>2.2</td><td>&quot;Front-Wheel Drive&quot;</td><td>66030</td><td>&quot;(FFS)&quot;</td><td>-1</td><td>2150</td><td>0</td><td>&quot;Regular&quot;</td><td>&quot;Regular Gasoline&quot;</td><td>-1</td><td>-1</td><td>26</td><td>0.0</td><td>0</td><td>0.0</td><td>0.0</td><td>0.0</td><td>0.0</td><td>0</td><td>0</td><td>9995</td><td>0</td><td>14</td><td>&quot;Subaru&quot;</td><td>&quot;Legacy&quot;</td><td>&quot;N&quot;</td><td>false</td><td>0</td><td>90</td><td>0</td><td>0.0</td><td>0.0</td><td>0.0</td><td>0.0</td><td>&quot;Automatic 4-spd&quot;</td><td>24.0</td><td>0.0</td><td>37.0</td><td>0.0</td><td>&quot;Compact Cars&quot;</td><td>1993</td><td>-2250</td><td>&quot;Legacy/Outback&quot;</td><td>null</td><td>&quot;CLKUP&quot;</td><td>null</td><td>null</td><td>null</td><td>null</td><td>null</td><td>null</td><td>null</td><td>null</td><td>0.0</td><td>null</td><td>&quot;Tue Jan 01 00:00:00 EST 2013&quot;</td><td>&quot;Tue Jan 01 00:00:00 EST 2013&quot;</td><td>null</td><td>0</td><td>0</td><td>0</td></tr><tr><td>12.935217</td><td>0.0</td><td>0.0</td><td>0.0</td><td>20</td><td>0.0</td><td>0</td><td>0.0</td><td>0.0</td><td>0.0</td><td>0.0</td><td>-1</td><td>-1</td><td>0.0</td><td>386.391304</td><td>23</td><td>0.0</td><td>0</td><td>0.0</td><td>0.0</td><td>0.0</td><td>0.0</td><td>4</td><td>2.2</td><td>&quot;Front-Wheel Drive&quot;</td><td>66030</td><td>&quot;(FFS)&quot;</td><td>-1</td><td>2050</td><td>0</td><td>&quot;Regular&quot;</td><td>&quot;Regular Gasoline&quot;</td><td>-1</td><td>-1</td><td>28</td><td>0.0</td><td>0</td><td>0.0</td><td>0.0</td><td>0.0</td><td>0.0</td><td>0</td><td>0</td><td>9996</td><td>0</td><td>14</td><td>&quot;Subaru&quot;</td><td>&quot;Legacy&quot;</td><td>&quot;N&quot;</td><td>false</td><td>0</td><td>90</td><td>0</td><td>0.0</td><td>0.0</td><td>0.0</td><td>0.0</td><td>&quot;Manual 5-spd&quot;</td><td>25.0</td><td>0.0</td><td>39.0</td><td>0.0</td><td>&quot;Compact Cars&quot;</td><td>1993</td><td>-1750</td><td>&quot;Legacy/Outback&quot;</td><td>null</td><td>null</td><td>null</td><td>null</td><td>null</td><td>null</td><td>null</td><td>null</td><td>null</td><td>null</td><td>0.0</td><td>null</td><td>&quot;Tue Jan 01 00:00:00 EST 2013&quot;</td><td>&quot;Tue Jan 01 00:00:00 EST 2013&quot;</td><td>null</td><td>0</td><td>0</td><td>0</td></tr><tr><td>14.167143</td><td>0.0</td><td>0.0</td><td>0.0</td><td>18</td><td>0.0</td><td>0</td><td>0.0</td><td>0.0</td><td>0.0</td><td>0.0</td><td>-1</td><td>-1</td><td>0.0</td><td>423.190476</td><td>21</td><td>0.0</td><td>0</td><td>0.0</td><td>0.0</td><td>0.0</td><td>0.0</td><td>4</td><td>2.2</td><td>&quot;4-Wheel or All-Wheel Drive&quot;</td><td>66030</td><td>&quot;(FFS)&quot;</td><td>-1</td><td>2250</td><td>0</td><td>&quot;Regular&quot;</td><td>&quot;Regular Gasoline&quot;</td><td>-1</td><td>-1</td><td>24</td><td>0.0</td><td>0</td><td>0.0</td><td>0.0</td><td>0.0</td><td>0.0</td><td>0</td><td>0</td><td>9997</td><td>0</td><td>14</td><td>&quot;Subaru&quot;</td><td>&quot;Legacy AWD&quot;</td><td>&quot;Y&quot;</td><td>false</td><td>0</td><td>90</td><td>0</td><td>0.0</td><td>0.0</td><td>0.0</td><td>0.0</td><td>&quot;Automatic 4-spd&quot;</td><td>23.0</td><td>0.0</td><td>34.0</td><td>0.0</td><td>&quot;Compact Cars&quot;</td><td>1993</td><td>-2750</td><td>&quot;Legacy/Outback&quot;</td><td>null</td><td>&quot;CLKUP&quot;</td><td>null</td><td>null</td><td>null</td><td>null</td><td>null</td><td>null</td><td>null</td><td>null</td><td>0.0</td><td>null</td><td>&quot;Tue Jan 01 00:00:00 EST 2013&quot;</td><td>&quot;Tue Jan 01 00:00:00 EST 2013&quot;</td><td>null</td><td>0</td><td>0</td><td>0</td></tr><tr><td>14.167143</td><td>0.0</td><td>0.0</td><td>0.0</td><td>18</td><td>0.0</td><td>0</td><td>0.0</td><td>0.0</td><td>0.0</td><td>0.0</td><td>-1</td><td>-1</td><td>0.0</td><td>423.190476</td><td>21</td><td>0.0</td><td>0</td><td>0.0</td><td>0.0</td><td>0.0</td><td>0.0</td><td>4</td><td>2.2</td><td>&quot;4-Wheel or All-Wheel Drive&quot;</td><td>66030</td><td>&quot;(FFS)&quot;</td><td>-1</td><td>2250</td><td>0</td><td>&quot;Regular&quot;</td><td>&quot;Regular Gasoline&quot;</td><td>-1</td><td>-1</td><td>24</td><td>0.0</td><td>0</td><td>0.0</td><td>0.0</td><td>0.0</td><td>0.0</td><td>0</td><td>0</td><td>9998</td><td>0</td><td>14</td><td>&quot;Subaru&quot;</td><td>&quot;Legacy AWD&quot;</td><td>&quot;Y&quot;</td><td>false</td><td>0</td><td>90</td><td>0</td><td>0.0</td><td>0.0</td><td>0.0</td><td>0.0</td><td>&quot;Manual 5-spd&quot;</td><td>23.0</td><td>0.0</td><td>34.0</td><td>0.0</td><td>&quot;Compact Cars&quot;</td><td>1993</td><td>-2750</td><td>&quot;Legacy/Outback&quot;</td><td>null</td><td>null</td><td>null</td><td>null</td><td>null</td><td>null</td><td>null</td><td>null</td><td>null</td><td>null</td><td>0.0</td><td>null</td><td>&quot;Tue Jan 01 00:00:00 EST 2013&quot;</td><td>&quot;Tue Jan 01 00:00:00 EST 2013&quot;</td><td>null</td><td>0</td><td>0</td><td>0</td></tr><tr><td>16.528333</td><td>0.0</td><td>0.0</td><td>0.0</td><td>16</td><td>0.0</td><td>0</td><td>0.0</td><td>0.0</td><td>0.0</td><td>0.0</td><td>-1</td><td>-1</td><td>0.0</td><td>493.722222</td><td>18</td><td>0.0</td><td>0</td><td>0.0</td><td>0.0</td><td>0.0</td><td>0.0</td><td>4</td><td>2.2</td><td>&quot;4-Wheel or All-Wheel Drive&quot;</td><td>66031</td><td>&quot;(FFS,TRBO)&quot;</td><td>-1</td><td>3400</td><td>0</td><td>&quot;Premium&quot;</td><td>&quot;Premium Gasoline&quot;</td><td>-1</td><td>-1</td><td>21</td><td>0.0</td><td>0</td><td>0.0</td><td>0.0</td><td>0.0</td><td>0.0</td><td>0</td><td>0</td><td>9999</td><td>0</td><td>14</td><td>&quot;Subaru&quot;</td><td>&quot;Legacy AWD Turbo&quot;</td><td>&quot;N&quot;</td><td>false</td><td>0</td><td>90</td><td>0</td><td>0.0</td><td>0.0</td><td>0.0</td><td>0.0</td><td>&quot;Automatic 4-spd&quot;</td><td>20.0</td><td>0.0</td><td>29.0</td><td>0.0</td><td>&quot;Compact Cars&quot;</td><td>1993</td><td>-8500</td><td>&quot;Legacy/Outback&quot;</td><td>null</td><td>&quot;CLKUP&quot;</td><td>&quot;T&quot;</td><td>null</td><td>null</td><td>null</td><td>null</td><td>null</td><td>null</td><td>null</td><td>0.0</td><td>null</td><td>&quot;Tue Jan 01 00:00:00 EST 2013&quot;</td><td>&quot;Tue Jan 01 00:00:00 EST 2013&quot;</td><td>null</td><td>0</td><td>0</td><td>0</td></tr></tbody></table></div>"
      ],
      "text/plain": [
       "shape: (48_202, 84)\n",
       "+-----+-----+-----+-----+-----+-----+-----+-----+-----+-----+-----+-----+-----+-----+-----+-----+-----+-----+-----+-----+-----+-----+-----+-----+-----+-----+-----+-----+-----+-----+-----+-----+-----+-----+-----+-----+-----+-----+-----+-----+-----+-----+-----+-----+-----+-----+-----+-----+-----+-----+-----+-----+-----+-----+-----+-----+-----+-----+-----+-----+-----+-----+-----+-----+-----+-----+-----+-----+-----+-----+-----+-----+-----+-----+-----+-----+-----+-----+-----+-----+-----+-----+-----+-----+\n",
       "| bar | bar | cha | cha | cit | cit | cit | cit | cit | cit | cit | co2 | co2 | co2 | co2 | com | com | com | com | com | com | com | cyl | dis | dri | eng | eng | feS | fue | fue | fue | fue | ghg | ghg | hig | hig | hig | hig | hig | hig | hig | hlv | hpv | id  | lv2 | lv4 | mak | mod | mpg | phe | pv2 | pv4 | ran | ran | ran | ran | ran | tra | UCi | UCi | UHi | UHi | VCl | yea | you | bas | guz | tra | tCh | sCh | atv | fue | ran | evM | mfr | c24 | cha | c24 | cre | mod | sta | phe | phe | phe |\n",
       "| rel | rel | rge | rge | y08 | y08 | yA0 | yA0 | yCD | yE  | yUF | --- | A   | Tai | Tai | b08 | b08 | bA0 | bA0 | bE  | bin | bin | ind | pl  | ve  | Id  | _ds | cor | lCo | lCo | lTy | lTy | Sco | Sco | hwa | hwa | hwa | hwa | hwa | hwa | hwa | --- | --- | --- | --- | --- | e   | el  | Dat | vBl | --- | --- | ge  | geC | geC | geH | geH | ny  | ty  | tyA | ghw | ghw | ass | r   | Sav | eMo | zle | ns_ | arg | arg | Typ | lTy | geA | oto | Cod | 0Ds | rge | 0bD | ate | ifi | rtS | vCi | vHw | vCo |\n",
       "| s08 | sA0 | 120 | 240 | --- | U   | 8   | 8U  | --- | --- | --- | i64 | --- | lpi | lpi | --- | U   | 8   | 8U  | --- | edC | edU | ers | --- | --- | --- | cr  | e   | st0 | stA | pe  | pe1 | re  | reA | y08 | y08 | yA0 | yA0 | yCD | yE  | yUF | i64 | i64 | i64 | i64 | i64 | --- | --- | a   | end | i64 | i64 | --- | ity | ity | wy  | wyA | --- | --- | --- | ay  | ayA | --- | --- | eSp | del | r   | dsc | er  | er  | e   | pe2 | --- | r   | e   | cr  | 240 | scr | dOn | edO | top | ty  | y   | mb  |\n",
       "| --- | 8   | --- | --- | i64 | --- | --- | --- | f64 | f64 | f64 |     | i64 | peA | peG | i64 | --- | --- | --- | f64 | D   | F   | --- | f64 | str | i64 | --- | --- | 8   | 08  | --- | --- | --- | --- | --- | U   | 8   | 8U  | --- | --- | --- |     |     |     |     |     | str | str | --- | ed  |     |     | i64 | --- | A   | --- | --- | str | f64 | f64 | --- | --- | str | i64 | end | --- | --- | r   | --- | --- | --- | --- | str | --- | --- | --- | b   | --- | --- | n   | --- | --- | --- | --- |\n",
       "| f64 | --- | f64 | f64 |     | f64 | i64 | f64 |     |     |     |     |     | Gpm | pm  |     | f64 | i64 | f64 |     | --- | --- | i64 |     |     |     | str | i64 | --- | --- | str | str | i64 | i64 | i64 | --- | --- | --- | f64 | f64 | f64 |     |     |     |     |     |     |     | str | --- |     |     |     | f64 | --- | f64 | f64 |     |     |     | f64 | f64 |     |     | --- | str | str | --- | str | str | str | str |     | str | str | str | --- | str | str | --- | str | i64 | i64 | i64 |\n",
       "|     | f64 |     |     |     |     |     |     |     |     |     |     |     | --- | --- |     |     |     |     |     | f64 | f64 |     |     |     |     |     |     | i64 | i64 |     |     |     |     |     | f64 | i64 | f64 |     |     |     |     |     |     |     |     |     |     |     | boo |     |     |     |     | f64 |     |     |     |     |     |     |     |     |     | i64 |     |     | str |     |     |     |     |     |     |     |     | f64 |     |     | str |     |     |     |     |\n",
       "|     |     |     |     |     |     |     |     |     |     |     |     |     | f64 | f64 |     |     |     |     |     |     |     |     |     |     |     |     |     |     |     |     |     |     |     |     |     |     |     |     |     |     |     |     |     |     |     |     |     |     | l   |     |     |     |     |     |     |     |     |     |     |     |     |     |     |     |     |     |     |     |     |     |     |     |     |     |     |     |     |     |     |     |     |     |     |\n",
       "+=======================================================================================================================================================================================================================================================================================================================================================================================================================================================================================================================+\n",
       "| 14. | 0.0 | 0.0 | 0.0 | 19  | 0.0 | 0   | 0.0 | 0.0 | 0.0 | 0.0 | -1  | -1  | 0.0 | 423 | 21  | 0.0 | 0   | 0.0 | 0.0 | 0.0 | 0.0 | 4   | 2.0 | Rea | 901 | (FF | -1  | 225 | 0   | Reg | Reg | -1  | -1  | 25  | 0.0 | 0   | 0.0 | 0.0 | 0.0 | 0.0 | 0   | 0   | 1   | 0   | 0   | Alf | Spi | Y   | fal | 0   | 0   | 0   | 0.0 | 0.0 | 0.0 | 0.0 | Man | 23. | 0.0 | 35. | 0.0 | Two | 198 | -27 | Spi | nul | nul | nul | nul | nul | nul | nul | nul | nul | nul | 0.0 | nul | Tue | Tue | nul | 0   | 0   | 0   |\n",
       "| 167 |     |     |     |     |     |     |     |     |     |     |     |     |     | .19 |     |     |     |     |     |     |     |     |     | r-W | 1   | S)  |     | 0   |     | ula | ula |     |     |     |     |     |     |     |     |     |     |     |     |     |     | a   | der |     | se  |     |     |     |     |     |     |     | ual | 333 |     | 0   |     | Sea | 5   | 50  | der | l   | l   | l   | l   | l   | l   | l   | l   | l   | l   |     | l   | Jan | Jan | l   |     |     |     |\n",
       "| 143 |     |     |     |     |     |     |     |     |     |     |     |     |     | 047 |     |     |     |     |     |     |     |     |     | hee |     |     |     |     |     | r   | r   |     |     |     |     |     |     |     |     |     |     |     |     |     |     | Rom | Vel |     |     |     |     |     |     |     |     |     | 5-s | 3   |     |     |     | ter |     |     |     |     |     |     |     |     |     |     |     |     |     |     |     | 01  | 01  |     |     |     |     |\n",
       "|     |     |     |     |     |     |     |     |     |     |     |     |     |     | 6   |     |     |     |     |     |     |     |     |     | l   |     |     |     |     |     |     | Gas |     |     |     |     |     |     |     |     |     |     |     |     |     |     | eo  | oce |     |     |     |     |     |     |     |     |     | pd  |     |     |     |     | s   |     |     |     |     |     |     |     |     |     |     |     |     |     |     |     | 00: | 00: |     |     |     |     |\n",
       "|     |     |     |     |     |     |     |     |     |     |     |     |     |     |     |     |     |     |     |     |     |     |     |     | Dri |     |     |     |     |     |     | oli |     |     |     |     |     |     |     |     |     |     |     |     |     |     |     | 200 |     |     |     |     |     |     |     |     |     |     |     |     |     |     |     |     |     |     |     |     |     |     |     |     |     |     |     |     |     |     | 00: | 00: |     |     |     |     |\n",
       "|     |     |     |     |     |     |     |     |     |     |     |     |     |     |     |     |     |     |     |     |     |     |     |     | ve  |     |     |     |     |     |     | ne  |     |     |     |     |     |     |     |     |     |     |     |     |     |     |     | 0   |     |     |     |     |     |     |     |     |     |     |     |     |     |     |     |     |     |     |     |     |     |     |     |     |     |     |     |     |     |     | 00  | 00  |     |     |     |     |\n",
       "|     |     |     |     |     |     |     |     |     |     |     |     |     |     |     |     |     |     |     |     |     |     |     |     |     |     |     |     |     |     |     |     |     |     |     |     |     |     |     |     |     |     |     |     |     |     |     |     |     |     |     |     |     |     |     |     |     |     |     |     |     |     |     |     |     |     |     |     |     |     |     |     |     |     |     |     |     |     | EST | EST |     |     |     |     |\n",
       "|     |     |     |     |     |     |     |     |     |     |     |     |     |     |     |     |     |     |     |     |     |     |     |     |     |     |     |     |     |     |     |     |     |     |     |     |     |     |     |     |     |     |     |     |     |     |     |     |     |     |     |     |     |     |     |     |     |     |     |     |     |     |     |     |     |     |     |     |     |     |     |     |     |     |     |     |     |     | 201 | 201 |     |     |     |     |\n",
       "|     |     |     |     |     |     |     |     |     |     |     |     |     |     |     |     |     |     |     |     |     |     |     |     |     |     |     |     |     |     |     |     |     |     |     |     |     |     |     |     |     |     |     |     |     |     |     |     |     |     |     |     |     |     |     |     |     |     |     |     |     |     |     |     |     |     |     |     |     |     |     |     |     |     |     |     |     |     | 3   | 3   |     |     |     |     |\n",
       "| 27. | 0.0 | 0.0 | 0.0 | 9   | 0.0 | 0   | 0.0 | 0.0 | 0.0 | 0.0 | -1  | -1  | 0.0 | 807 | 11  | 0.0 | 0   | 0.0 | 0.0 | 0.0 | 0.0 | 12  | 4.9 | Rea | 220 | (GU | -1  | 430 | 0   | Reg | Reg | -1  | -1  | 14  | 0.0 | 0   | 0.0 | 0.0 | 0.0 | 0.0 | 0   | 0   | 10  | 0   | 0   | Fer | Tes | N   | fal | 0   | 0   | 0   | 0.0 | 0.0 | 0.0 | 0.0 | Man | 11. | 0.0 | 19. | 0.0 | Two | 198 | -13 | Tes | T   | nul | nul | nul | nul | nul | nul | nul | nul | nul | 0.0 | nul | Tue | Tue | nul | 0   | 0   | 0   |\n",
       "| 046 |     |     |     |     |     |     |     |     |     |     |     |     |     | .90 |     |     |     |     |     |     |     |     |     | r-W | 20  | ZZL |     | 0   |     | ula | ula |     |     |     |     |     |     |     |     |     |     |     |     |     |     | rar | tar |     | se  |     |     |     |     |     |     |     | ual | 0   |     | 0   |     | Sea | 5   | 000 | tar |     | l   | l   | l   | l   | l   | l   | l   | l   | l   |     | l   | Jan | Jan | l   |     |     |     |\n",
       "| 364 |     |     |     |     |     |     |     |     |     |     |     |     |     | 909 |     |     |     |     |     |     |     |     |     | hee |     | ER) |     |     |     | r   | r   |     |     |     |     |     |     |     |     |     |     |     |     |     |     | i   | oss |     |     |     |     |     |     |     |     |     | 5-s |     |     |     |     | ter |     |     | oss |     |     |     |     |     |     |     |     |     |     |     |     | 01  | 01  |     |     |     |     |\n",
       "|     |     |     |     |     |     |     |     |     |     |     |     |     |     | 1   |     |     |     |     |     |     |     |     |     | l   |     |     |     |     |     |     | Gas |     |     |     |     |     |     |     |     |     |     |     |     |     |     |     | a   |     |     |     |     |     |     |     |     |     | pd  |     |     |     |     | s   |     |     | a   |     |     |     |     |     |     |     |     |     |     |     |     | 00: | 00: |     |     |     |     |\n",
       "|     |     |     |     |     |     |     |     |     |     |     |     |     |     |     |     |     |     |     |     |     |     |     |     | Dri |     |     |     |     |     |     | oli |     |     |     |     |     |     |     |     |     |     |     |     |     |     |     |     |     |     |     |     |     |     |     |     |     |     |     |     |     |     |     |     |     |     |     |     |     |     |     |     |     |     |     |     |     |     | 00: | 00: |     |     |     |     |\n",
       "|     |     |     |     |     |     |     |     |     |     |     |     |     |     |     |     |     |     |     |     |     |     |     |     | ve  |     |     |     |     |     |     | ne  |     |     |     |     |     |     |     |     |     |     |     |     |     |     |     |     |     |     |     |     |     |     |     |     |     |     |     |     |     |     |     |     |     |     |     |     |     |     |     |     |     |     |     |     |     |     | 00  | 00  |     |     |     |     |\n",
       "|     |     |     |     |     |     |     |     |     |     |     |     |     |     |     |     |     |     |     |     |     |     |     |     |     |     |     |     |     |     |     |     |     |     |     |     |     |     |     |     |     |     |     |     |     |     |     |     |     |     |     |     |     |     |     |     |     |     |     |     |     |     |     |     |     |     |     |     |     |     |     |     |     |     |     |     |     |     | EST | EST |     |     |     |     |\n",
       "|     |     |     |     |     |     |     |     |     |     |     |     |     |     |     |     |     |     |     |     |     |     |     |     |     |     |     |     |     |     |     |     |     |     |     |     |     |     |     |     |     |     |     |     |     |     |     |     |     |     |     |     |     |     |     |     |     |     |     |     |     |     |     |     |     |     |     |     |     |     |     |     |     |     |     |     |     |     | 201 | 201 |     |     |     |     |\n",
       "|     |     |     |     |     |     |     |     |     |     |     |     |     |     |     |     |     |     |     |     |     |     |     |     |     |     |     |     |     |     |     |     |     |     |     |     |     |     |     |     |     |     |     |     |     |     |     |     |     |     |     |     |     |     |     |     |     |     |     |     |     |     |     |     |     |     |     |     |     |     |     |     |     |     |     |     |     |     | 3   | 3   |     |     |     |     |\n",
       "| 11. | 0.0 | 0.0 | 0.0 | 23  | 0.0 | 0   | 0.0 | 0.0 | 0.0 | 0.0 | -1  | -1  | 0.0 | 329 | 27  | 0.0 | 0   | 0.0 | 0.0 | 0.0 | 0.0 | 4   | 2.2 | Fro | 210 | (FF | -1  | 175 | 0   | Reg | Reg | -1  | -1  | 33  | 0.0 | 0   | 0.0 | 0.0 | 0.0 | 0.0 | 19  | 77  | 100 | 0   | 0   | Dod | Cha | Y   | fal | 0   | 0   | 0   | 0.0 | 0.0 | 0.0 | 0.0 | Man | 29. | 0.0 | 47. | 0.0 | Sub | 198 | -25 | Cha | nul | SIL | nul | nul | nul | nul | nul | nul | nul | nul | 0.0 | nul | Tue | Tue | nul | 0   | 0   | 0   |\n",
       "| 018 |     |     |     |     |     |     |     |     |     |     |     |     |     | .14 |     |     |     |     |     |     |     |     |     | nt- | 0   | S)  |     | 0   |     | ula | ula |     |     |     |     |     |     |     |     |     |     |     |     |     |     | ge  | rge |     | se  |     |     |     |     |     |     |     | ual | 0   |     | 0   |     | com | 5   | 0   | rge | l   |     | l   | l   | l   | l   | l   | l   | l   | l   |     | l   | Jan | Jan | l   |     |     |     |\n",
       "| 889 |     |     |     |     |     |     |     |     |     |     |     |     |     | 814 |     |     |     |     |     |     |     |     |     | Whe |     |     |     |     |     | r   | r   |     |     |     |     |     |     |     |     |     |     |     |     |     |     |     | r   |     |     |     |     |     |     |     |     |     | 5-s |     |     |     |     | pac |     |     | r   |     |     |     |     |     |     |     |     |     |     |     |     | 01  | 01  |     |     |     |     |\n",
       "|     |     |     |     |     |     |     |     |     |     |     |     |     |     | 8   |     |     |     |     |     |     |     |     |     | el  |     |     |     |     |     |     | Gas |     |     |     |     |     |     |     |     |     |     |     |     |     |     |     |     |     |     |     |     |     |     |     |     |     | pd  |     |     |     |     | t   |     |     |     |     |     |     |     |     |     |     |     |     |     |     |     | 00: | 00: |     |     |     |     |\n",
       "|     |     |     |     |     |     |     |     |     |     |     |     |     |     |     |     |     |     |     |     |     |     |     |     | Dri |     |     |     |     |     |     | oli |     |     |     |     |     |     |     |     |     |     |     |     |     |     |     |     |     |     |     |     |     |     |     |     |     |     |     |     |     |     | Car |     |     |     |     |     |     |     |     |     |     |     |     |     |     |     | 00: | 00: |     |     |     |     |\n",
       "|     |     |     |     |     |     |     |     |     |     |     |     |     |     |     |     |     |     |     |     |     |     |     |     | ve  |     |     |     |     |     |     | ne  |     |     |     |     |     |     |     |     |     |     |     |     |     |     |     |     |     |     |     |     |     |     |     |     |     |     |     |     |     |     | s   |     |     |     |     |     |     |     |     |     |     |     |     |     |     |     | 00  | 00  |     |     |     |     |\n",
       "|     |     |     |     |     |     |     |     |     |     |     |     |     |     |     |     |     |     |     |     |     |     |     |     |     |     |     |     |     |     |     |     |     |     |     |     |     |     |     |     |     |     |     |     |     |     |     |     |     |     |     |     |     |     |     |     |     |     |     |     |     |     |     |     |     |     |     |     |     |     |     |     |     |     |     |     |     |     | EST | EST |     |     |     |     |\n",
       "|     |     |     |     |     |     |     |     |     |     |     |     |     |     |     |     |     |     |     |     |     |     |     |     |     |     |     |     |     |     |     |     |     |     |     |     |     |     |     |     |     |     |     |     |     |     |     |     |     |     |     |     |     |     |     |     |     |     |     |     |     |     |     |     |     |     |     |     |     |     |     |     |     |     |     |     |     |     | 201 | 201 |     |     |     |     |\n",
       "|     |     |     |     |     |     |     |     |     |     |     |     |     |     |     |     |     |     |     |     |     |     |     |     |     |     |     |     |     |     |     |     |     |     |     |     |     |     |     |     |     |     |     |     |     |     |     |     |     |     |     |     |     |     |     |     |     |     |     |     |     |     |     |     |     |     |     |     |     |     |     |     |     |     |     |     |     |     | 3   | 3   |     |     |     |     |\n",
       "| 27. | 0.0 | 0.0 | 0.0 | 10  | 0.0 | 0   | 0.0 | 0.0 | 0.0 | 0.0 | -1  | -1  | 0.0 | 807 | 11  | 0.0 | 0   | 0.0 | 0.0 | 0.0 | 0.0 | 8   | 5.2 | Rea | 285 | nul | -1  | 430 | 0   | Reg | Reg | -1  | -1  | 12  | 0.0 | 0   | 0.0 | 0.0 | 0.0 | 0.0 | 0   | 0   | 100 | 0   | 0   | Dod | B15 | N   | fal | 0   | 0   | 0   | 0.0 | 0.0 | 0.0 | 0.0 | Aut | 12. | 0.0 | 16. | 0.0 | Van | 198 | -13 | B15 | nul | nul | nul | nul | nul | nul | nul | nul | nul | nul | 0.0 | nul | Tue | Tue | nul | 0   | 0   | 0   |\n",
       "| 046 |     |     |     |     |     |     |     |     |     |     |     |     |     | .90 |     |     |     |     |     |     |     |     |     | r-W | 0   | l   |     | 0   |     | ula | ula |     |     |     |     |     |     |     |     |     |     |     | 0   |     |     | ge  | 0/B |     | se  |     |     |     |     |     |     |     | oma | 222 |     | 666 |     | s   | 5   | 000 | 0/B | l   | l   | l   | l   | l   | l   | l   | l   | l   | l   |     | l   | Jan | Jan | l   |     |     |     |\n",
       "| 364 |     |     |     |     |     |     |     |     |     |     |     |     |     | 909 |     |     |     |     |     |     |     |     |     | hee |     |     |     |     |     | r   | r   |     |     |     |     |     |     |     |     |     |     |     |     |     |     |     | 250 |     |     |     |     |     |     |     |     |     | tic | 2   |     | 7   |     |     |     |     | 250 |     |     |     |     |     |     |     |     |     |     |     |     | 01  | 01  |     |     |     |     |\n",
       "|     |     |     |     |     |     |     |     |     |     |     |     |     |     | 1   |     |     |     |     |     |     |     |     |     | l   |     |     |     |     |     |     | Gas |     |     |     |     |     |     |     |     |     |     |     |     |     |     |     | Wag |     |     |     |     |     |     |     |     |     | 3-s |     |     |     |     |     |     |     | Wag |     |     |     |     |     |     |     |     |     |     |     |     | 00: | 00: |     |     |     |     |\n",
       "|     |     |     |     |     |     |     |     |     |     |     |     |     |     |     |     |     |     |     |     |     |     |     |     | Dri |     |     |     |     |     |     | oli |     |     |     |     |     |     |     |     |     |     |     |     |     |     |     | on  |     |     |     |     |     |     |     |     |     | pd  |     |     |     |     |     |     |     | on  |     |     |     |     |     |     |     |     |     |     |     |     | 00: | 00: |     |     |     |     |\n",
       "|     |     |     |     |     |     |     |     |     |     |     |     |     |     |     |     |     |     |     |     |     |     |     |     | ve  |     |     |     |     |     |     | ne  |     |     |     |     |     |     |     |     |     |     |     |     |     |     |     | 2WD |     |     |     |     |     |     |     |     |     |     |     |     |     |     |     |     |     |     |     |     |     |     |     |     |     |     |     |     |     |     | 00  | 00  |     |     |     |     |\n",
       "|     |     |     |     |     |     |     |     |     |     |     |     |     |     |     |     |     |     |     |     |     |     |     |     |     |     |     |     |     |     |     |     |     |     |     |     |     |     |     |     |     |     |     |     |     |     |     |     |     |     |     |     |     |     |     |     |     |     |     |     |     |     |     |     |     |     |     |     |     |     |     |     |     |     |     |     |     |     | EST | EST |     |     |     |     |\n",
       "|     |     |     |     |     |     |     |     |     |     |     |     |     |     |     |     |     |     |     |     |     |     |     |     |     |     |     |     |     |     |     |     |     |     |     |     |     |     |     |     |     |     |     |     |     |     |     |     |     |     |     |     |     |     |     |     |     |     |     |     |     |     |     |     |     |     |     |     |     |     |     |     |     |     |     |     |     |     | 201 | 201 |     |     |     |     |\n",
       "|     |     |     |     |     |     |     |     |     |     |     |     |     |     |     |     |     |     |     |     |     |     |     |     |     |     |     |     |     |     |     |     |     |     |     |     |     |     |     |     |     |     |     |     |     |     |     |     |     |     |     |     |     |     |     |     |     |     |     |     |     |     |     |     |     |     |     |     |     |     |     |     |     |     |     |     |     |     | 3   | 3   |     |     |     |     |\n",
       "| 15. | 0.0 | 0.0 | 0.0 | 17  | 0.0 | 0   | 0.0 | 0.0 | 0.0 | 0.0 | -1  | -1  | 0.0 | 467 | 19  | 0.0 | 0   | 0.0 | 0.0 | 0.0 | 0.0 | 4   | 2.2 | 4-W | 660 | (FF | -1  | 320 | 0   | Pre | Pre | -1  | -1  | 23  | 0.0 | 0   | 0.0 | 0.0 | 0.0 | 0.0 | 0   | 0   | 100 | 0   | 14  | Sub | Leg | N   | fal | 0   | 90  | 0   | 0.0 | 0.0 | 0.0 | 0.0 | Man | 21. | 0.0 | 32. | 0.0 | Com | 199 | -75 | Leg | nul | nul | T   | nul | nul | nul | nul | nul | nul | nul | 0.0 | nul | Tue | Tue | nul | 0   | 0   | 0   |\n",
       "| 658 |     |     |     |     |     |     |     |     |     |     |     |     |     | .73 |     |     |     |     |     |     |     |     |     | hee | 31  | S,T |     | 0   |     | miu | miu |     |     |     |     |     |     |     |     |     |     |     | 00  |     |     | aru | acy |     | se  |     |     |     |     |     |     |     | ual | 0   |     | 0   |     | pac | 3   | 00  | acy | l   | l   |     | l   | l   | l   | l   | l   | l   | l   |     | l   | Jan | Jan | l   |     |     |     |\n",
       "| 421 |     |     |     |     |     |     |     |     |     |     |     |     |     | 684 |     |     |     |     |     |     |     |     |     | l   |     | RBO |     |     |     | m   | m   |     |     |     |     |     |     |     |     |     |     |     |     |     |     |     | AWD |     |     |     |     |     |     |     |     |     | 5-s |     |     |     |     | t   |     |     | /Ou |     |     |     |     |     |     |     |     |     |     |     |     | 01  | 01  |     |     |     |     |\n",
       "|     |     |     |     |     |     |     |     |     |     |     |     |     |     | 2   |     |     |     |     |     |     |     |     |     | or  |     | )   |     |     |     |     | Gas |     |     |     |     |     |     |     |     |     |     |     |     |     |     |     | Tur |     |     |     |     |     |     |     |     |     | pd  |     |     |     |     | Car |     |     | tba |     |     |     |     |     |     |     |     |     |     |     |     | 00: | 00: |     |     |     |     |\n",
       "|     |     |     |     |     |     |     |     |     |     |     |     |     |     |     |     |     |     |     |     |     |     |     |     | All |     |     |     |     |     |     | oli |     |     |     |     |     |     |     |     |     |     |     |     |     |     |     | bo  |     |     |     |     |     |     |     |     |     |     |     |     |     |     | s   |     |     | ck  |     |     |     |     |     |     |     |     |     |     |     |     | 00: | 00: |     |     |     |     |\n",
       "|     |     |     |     |     |     |     |     |     |     |     |     |     |     |     |     |     |     |     |     |     |     |     |     | -Wh |     |     |     |     |     |     | ne  |     |     |     |     |     |     |     |     |     |     |     |     |     |     |     |     |     |     |     |     |     |     |     |     |     |     |     |     |     |     |     |     |     |     |     |     |     |     |     |     |     |     |     |     |     |     | 00  | 00  |     |     |     |     |\n",
       "|     |     |     |     |     |     |     |     |     |     |     |     |     |     |     |     |     |     |     |     |     |     |     |     | eel |     |     |     |     |     |     |     |     |     |     |     |     |     |     |     |     |     |     |     |     |     |     |     |     |     |     |     |     |     |     |     |     |     |     |     |     |     |     |     |     |     |     |     |     |     |     |     |     |     |     |     |     |     | EST | EST |     |     |     |     |\n",
       "|     |     |     |     |     |     |     |     |     |     |     |     |     |     |     |     |     |     |     |     |     |     |     |     | Dri |     |     |     |     |     |     |     |     |     |     |     |     |     |     |     |     |     |     |     |     |     |     |     |     |     |     |     |     |     |     |     |     |     |     |     |     |     |     |     |     |     |     |     |     |     |     |     |     |     |     |     |     |     | 201 | 201 |     |     |     |     |\n",
       "|     |     |     |     |     |     |     |     |     |     |     |     |     |     |     |     |     |     |     |     |     |     |     |     | ve  |     |     |     |     |     |     |     |     |     |     |     |     |     |     |     |     |     |     |     |     |     |     |     |     |     |     |     |     |     |     |     |     |     |     |     |     |     |     |     |     |     |     |     |     |     |     |     |     |     |     |     |     |     | 3   | 3   |     |     |     |     |\n",
       "| …   | …   | …   | …   | …   | …   | …   | …   | …   | …   | …   | …   | …   | …   | …   | …   | …   | …   | …   | …   | …   | …   | …   | …   | …   | …   | …   | …   | …   | …   | …   | …   | …   | …   | …   | …   | …   | …   | …   | …   | …   | …   | …   | …   | …   | …   | …   | …   | …   | …   | …   | …   | …   | …   | …   | …   | …   | …   | …   | …   | …   | …   | …   | …   | …   | …   | …   | …   | …   | …   | …   | …   | …   | …   | …   | …   | …   | …   | …   | …   | …   | …   | …   | …   |\n",
       "| 13. | 0.0 | 0.0 | 0.0 | 19  | 0.0 | 0   | 0.0 | 0.0 | 0.0 | 0.0 | -1  | -1  | 0.0 | 403 | 22  | 0.0 | 0   | 0.0 | 0.0 | 0.0 | 0.0 | 4   | 2.2 | Fro | 660 | (FF | -1  | 215 | 0   | Reg | Reg | -1  | -1  | 26  | 0.0 | 0   | 0.0 | 0.0 | 0.0 | 0.0 | 0   | 0   | 999 | 0   | 14  | Sub | Leg | N   | fal | 0   | 90  | 0   | 0.0 | 0.0 | 0.0 | 0.0 | Aut | 24. | 0.0 | 37. | 0.0 | Com | 199 | -22 | Leg | nul | CLK | nul | nul | nul | nul | nul | nul | nul | nul | 0.0 | nul | Tue | Tue | nul | 0   | 0   | 0   |\n",
       "| 523 |     |     |     |     |     |     |     |     |     |     |     |     |     | .95 |     |     |     |     |     |     |     |     |     | nt- | 30  | S)  |     | 0   |     | ula | ula |     |     |     |     |     |     |     |     |     |     |     | 5   |     |     | aru | acy |     | se  |     |     |     |     |     |     |     | oma | 0   |     | 0   |     | pac | 3   | 50  | acy | l   | UP  | l   | l   | l   | l   | l   | l   | l   | l   |     | l   | Jan | Jan | l   |     |     |     |\n",
       "| 182 |     |     |     |     |     |     |     |     |     |     |     |     |     | 454 |     |     |     |     |     |     |     |     |     | Whe |     |     |     |     |     | r   | r   |     |     |     |     |     |     |     |     |     |     |     |     |     |     |     |     |     |     |     |     |     |     |     |     |     | tic |     |     |     |     | t   |     |     | /Ou |     |     |     |     |     |     |     |     |     |     |     |     | 01  | 01  |     |     |     |     |\n",
       "|     |     |     |     |     |     |     |     |     |     |     |     |     |     | 5   |     |     |     |     |     |     |     |     |     | el  |     |     |     |     |     |     | Gas |     |     |     |     |     |     |     |     |     |     |     |     |     |     |     |     |     |     |     |     |     |     |     |     |     | 4-s |     |     |     |     | Car |     |     | tba |     |     |     |     |     |     |     |     |     |     |     |     | 00: | 00: |     |     |     |     |\n",
       "|     |     |     |     |     |     |     |     |     |     |     |     |     |     |     |     |     |     |     |     |     |     |     |     | Dri |     |     |     |     |     |     | oli |     |     |     |     |     |     |     |     |     |     |     |     |     |     |     |     |     |     |     |     |     |     |     |     |     | pd  |     |     |     |     | s   |     |     | ck  |     |     |     |     |     |     |     |     |     |     |     |     | 00: | 00: |     |     |     |     |\n",
       "|     |     |     |     |     |     |     |     |     |     |     |     |     |     |     |     |     |     |     |     |     |     |     |     | ve  |     |     |     |     |     |     | ne  |     |     |     |     |     |     |     |     |     |     |     |     |     |     |     |     |     |     |     |     |     |     |     |     |     |     |     |     |     |     |     |     |     |     |     |     |     |     |     |     |     |     |     |     |     |     | 00  | 00  |     |     |     |     |\n",
       "|     |     |     |     |     |     |     |     |     |     |     |     |     |     |     |     |     |     |     |     |     |     |     |     |     |     |     |     |     |     |     |     |     |     |     |     |     |     |     |     |     |     |     |     |     |     |     |     |     |     |     |     |     |     |     |     |     |     |     |     |     |     |     |     |     |     |     |     |     |     |     |     |     |     |     |     |     |     | EST | EST |     |     |     |     |\n",
       "|     |     |     |     |     |     |     |     |     |     |     |     |     |     |     |     |     |     |     |     |     |     |     |     |     |     |     |     |     |     |     |     |     |     |     |     |     |     |     |     |     |     |     |     |     |     |     |     |     |     |     |     |     |     |     |     |     |     |     |     |     |     |     |     |     |     |     |     |     |     |     |     |     |     |     |     |     |     | 201 | 201 |     |     |     |     |\n",
       "|     |     |     |     |     |     |     |     |     |     |     |     |     |     |     |     |     |     |     |     |     |     |     |     |     |     |     |     |     |     |     |     |     |     |     |     |     |     |     |     |     |     |     |     |     |     |     |     |     |     |     |     |     |     |     |     |     |     |     |     |     |     |     |     |     |     |     |     |     |     |     |     |     |     |     |     |     |     | 3   | 3   |     |     |     |     |\n",
       "| 12. | 0.0 | 0.0 | 0.0 | 20  | 0.0 | 0   | 0.0 | 0.0 | 0.0 | 0.0 | -1  | -1  | 0.0 | 386 | 23  | 0.0 | 0   | 0.0 | 0.0 | 0.0 | 0.0 | 4   | 2.2 | Fro | 660 | (FF | -1  | 205 | 0   | Reg | Reg | -1  | -1  | 28  | 0.0 | 0   | 0.0 | 0.0 | 0.0 | 0.0 | 0   | 0   | 999 | 0   | 14  | Sub | Leg | N   | fal | 0   | 90  | 0   | 0.0 | 0.0 | 0.0 | 0.0 | Man | 25. | 0.0 | 39. | 0.0 | Com | 199 | -17 | Leg | nul | nul | nul | nul | nul | nul | nul | nul | nul | nul | 0.0 | nul | Tue | Tue | nul | 0   | 0   | 0   |\n",
       "| 935 |     |     |     |     |     |     |     |     |     |     |     |     |     | .39 |     |     |     |     |     |     |     |     |     | nt- | 30  | S)  |     | 0   |     | ula | ula |     |     |     |     |     |     |     |     |     |     |     | 6   |     |     | aru | acy |     | se  |     |     |     |     |     |     |     | ual | 0   |     | 0   |     | pac | 3   | 50  | acy | l   | l   | l   | l   | l   | l   | l   | l   | l   | l   |     | l   | Jan | Jan | l   |     |     |     |\n",
       "| 217 |     |     |     |     |     |     |     |     |     |     |     |     |     | 130 |     |     |     |     |     |     |     |     |     | Whe |     |     |     |     |     | r   | r   |     |     |     |     |     |     |     |     |     |     |     |     |     |     |     |     |     |     |     |     |     |     |     |     |     | 5-s |     |     |     |     | t   |     |     | /Ou |     |     |     |     |     |     |     |     |     |     |     |     | 01  | 01  |     |     |     |     |\n",
       "|     |     |     |     |     |     |     |     |     |     |     |     |     |     | 4   |     |     |     |     |     |     |     |     |     | el  |     |     |     |     |     |     | Gas |     |     |     |     |     |     |     |     |     |     |     |     |     |     |     |     |     |     |     |     |     |     |     |     |     | pd  |     |     |     |     | Car |     |     | tba |     |     |     |     |     |     |     |     |     |     |     |     | 00: | 00: |     |     |     |     |\n",
       "|     |     |     |     |     |     |     |     |     |     |     |     |     |     |     |     |     |     |     |     |     |     |     |     | Dri |     |     |     |     |     |     | oli |     |     |     |     |     |     |     |     |     |     |     |     |     |     |     |     |     |     |     |     |     |     |     |     |     |     |     |     |     |     | s   |     |     | ck  |     |     |     |     |     |     |     |     |     |     |     |     | 00: | 00: |     |     |     |     |\n",
       "|     |     |     |     |     |     |     |     |     |     |     |     |     |     |     |     |     |     |     |     |     |     |     |     | ve  |     |     |     |     |     |     | ne  |     |     |     |     |     |     |     |     |     |     |     |     |     |     |     |     |     |     |     |     |     |     |     |     |     |     |     |     |     |     |     |     |     |     |     |     |     |     |     |     |     |     |     |     |     |     | 00  | 00  |     |     |     |     |\n",
       "|     |     |     |     |     |     |     |     |     |     |     |     |     |     |     |     |     |     |     |     |     |     |     |     |     |     |     |     |     |     |     |     |     |     |     |     |     |     |     |     |     |     |     |     |     |     |     |     |     |     |     |     |     |     |     |     |     |     |     |     |     |     |     |     |     |     |     |     |     |     |     |     |     |     |     |     |     |     | EST | EST |     |     |     |     |\n",
       "|     |     |     |     |     |     |     |     |     |     |     |     |     |     |     |     |     |     |     |     |     |     |     |     |     |     |     |     |     |     |     |     |     |     |     |     |     |     |     |     |     |     |     |     |     |     |     |     |     |     |     |     |     |     |     |     |     |     |     |     |     |     |     |     |     |     |     |     |     |     |     |     |     |     |     |     |     |     | 201 | 201 |     |     |     |     |\n",
       "|     |     |     |     |     |     |     |     |     |     |     |     |     |     |     |     |     |     |     |     |     |     |     |     |     |     |     |     |     |     |     |     |     |     |     |     |     |     |     |     |     |     |     |     |     |     |     |     |     |     |     |     |     |     |     |     |     |     |     |     |     |     |     |     |     |     |     |     |     |     |     |     |     |     |     |     |     |     | 3   | 3   |     |     |     |     |\n",
       "| 14. | 0.0 | 0.0 | 0.0 | 18  | 0.0 | 0   | 0.0 | 0.0 | 0.0 | 0.0 | -1  | -1  | 0.0 | 423 | 21  | 0.0 | 0   | 0.0 | 0.0 | 0.0 | 0.0 | 4   | 2.2 | 4-W | 660 | (FF | -1  | 225 | 0   | Reg | Reg | -1  | -1  | 24  | 0.0 | 0   | 0.0 | 0.0 | 0.0 | 0.0 | 0   | 0   | 999 | 0   | 14  | Sub | Leg | Y   | fal | 0   | 90  | 0   | 0.0 | 0.0 | 0.0 | 0.0 | Aut | 23. | 0.0 | 34. | 0.0 | Com | 199 | -27 | Leg | nul | CLK | nul | nul | nul | nul | nul | nul | nul | nul | 0.0 | nul | Tue | Tue | nul | 0   | 0   | 0   |\n",
       "| 167 |     |     |     |     |     |     |     |     |     |     |     |     |     | .19 |     |     |     |     |     |     |     |     |     | hee | 30  | S)  |     | 0   |     | ula | ula |     |     |     |     |     |     |     |     |     |     |     | 7   |     |     | aru | acy |     | se  |     |     |     |     |     |     |     | oma | 0   |     | 0   |     | pac | 3   | 50  | acy | l   | UP  | l   | l   | l   | l   | l   | l   | l   | l   |     | l   | Jan | Jan | l   |     |     |     |\n",
       "| 143 |     |     |     |     |     |     |     |     |     |     |     |     |     | 047 |     |     |     |     |     |     |     |     |     | l   |     |     |     |     |     | r   | r   |     |     |     |     |     |     |     |     |     |     |     |     |     |     |     | AWD |     |     |     |     |     |     |     |     |     | tic |     |     |     |     | t   |     |     | /Ou |     |     |     |     |     |     |     |     |     |     |     |     | 01  | 01  |     |     |     |     |\n",
       "|     |     |     |     |     |     |     |     |     |     |     |     |     |     | 6   |     |     |     |     |     |     |     |     |     | or  |     |     |     |     |     |     | Gas |     |     |     |     |     |     |     |     |     |     |     |     |     |     |     |     |     |     |     |     |     |     |     |     |     | 4-s |     |     |     |     | Car |     |     | tba |     |     |     |     |     |     |     |     |     |     |     |     | 00: | 00: |     |     |     |     |\n",
       "|     |     |     |     |     |     |     |     |     |     |     |     |     |     |     |     |     |     |     |     |     |     |     |     | All |     |     |     |     |     |     | oli |     |     |     |     |     |     |     |     |     |     |     |     |     |     |     |     |     |     |     |     |     |     |     |     |     | pd  |     |     |     |     | s   |     |     | ck  |     |     |     |     |     |     |     |     |     |     |     |     | 00: | 00: |     |     |     |     |\n",
       "|     |     |     |     |     |     |     |     |     |     |     |     |     |     |     |     |     |     |     |     |     |     |     |     | -Wh |     |     |     |     |     |     | ne  |     |     |     |     |     |     |     |     |     |     |     |     |     |     |     |     |     |     |     |     |     |     |     |     |     |     |     |     |     |     |     |     |     |     |     |     |     |     |     |     |     |     |     |     |     |     | 00  | 00  |     |     |     |     |\n",
       "|     |     |     |     |     |     |     |     |     |     |     |     |     |     |     |     |     |     |     |     |     |     |     |     | eel |     |     |     |     |     |     |     |     |     |     |     |     |     |     |     |     |     |     |     |     |     |     |     |     |     |     |     |     |     |     |     |     |     |     |     |     |     |     |     |     |     |     |     |     |     |     |     |     |     |     |     |     |     | EST | EST |     |     |     |     |\n",
       "|     |     |     |     |     |     |     |     |     |     |     |     |     |     |     |     |     |     |     |     |     |     |     |     | Dri |     |     |     |     |     |     |     |     |     |     |     |     |     |     |     |     |     |     |     |     |     |     |     |     |     |     |     |     |     |     |     |     |     |     |     |     |     |     |     |     |     |     |     |     |     |     |     |     |     |     |     |     |     | 201 | 201 |     |     |     |     |\n",
       "|     |     |     |     |     |     |     |     |     |     |     |     |     |     |     |     |     |     |     |     |     |     |     |     | ve  |     |     |     |     |     |     |     |     |     |     |     |     |     |     |     |     |     |     |     |     |     |     |     |     |     |     |     |     |     |     |     |     |     |     |     |     |     |     |     |     |     |     |     |     |     |     |     |     |     |     |     |     |     | 3   | 3   |     |     |     |     |\n",
       "| 14. | 0.0 | 0.0 | 0.0 | 18  | 0.0 | 0   | 0.0 | 0.0 | 0.0 | 0.0 | -1  | -1  | 0.0 | 423 | 21  | 0.0 | 0   | 0.0 | 0.0 | 0.0 | 0.0 | 4   | 2.2 | 4-W | 660 | (FF | -1  | 225 | 0   | Reg | Reg | -1  | -1  | 24  | 0.0 | 0   | 0.0 | 0.0 | 0.0 | 0.0 | 0   | 0   | 999 | 0   | 14  | Sub | Leg | Y   | fal | 0   | 90  | 0   | 0.0 | 0.0 | 0.0 | 0.0 | Man | 23. | 0.0 | 34. | 0.0 | Com | 199 | -27 | Leg | nul | nul | nul | nul | nul | nul | nul | nul | nul | nul | 0.0 | nul | Tue | Tue | nul | 0   | 0   | 0   |\n",
       "| 167 |     |     |     |     |     |     |     |     |     |     |     |     |     | .19 |     |     |     |     |     |     |     |     |     | hee | 30  | S)  |     | 0   |     | ula | ula |     |     |     |     |     |     |     |     |     |     |     | 8   |     |     | aru | acy |     | se  |     |     |     |     |     |     |     | ual | 0   |     | 0   |     | pac | 3   | 50  | acy | l   | l   | l   | l   | l   | l   | l   | l   | l   | l   |     | l   | Jan | Jan | l   |     |     |     |\n",
       "| 143 |     |     |     |     |     |     |     |     |     |     |     |     |     | 047 |     |     |     |     |     |     |     |     |     | l   |     |     |     |     |     | r   | r   |     |     |     |     |     |     |     |     |     |     |     |     |     |     |     | AWD |     |     |     |     |     |     |     |     |     | 5-s |     |     |     |     | t   |     |     | /Ou |     |     |     |     |     |     |     |     |     |     |     |     | 01  | 01  |     |     |     |     |\n",
       "|     |     |     |     |     |     |     |     |     |     |     |     |     |     | 6   |     |     |     |     |     |     |     |     |     | or  |     |     |     |     |     |     | Gas |     |     |     |     |     |     |     |     |     |     |     |     |     |     |     |     |     |     |     |     |     |     |     |     |     | pd  |     |     |     |     | Car |     |     | tba |     |     |     |     |     |     |     |     |     |     |     |     | 00: | 00: |     |     |     |     |\n",
       "|     |     |     |     |     |     |     |     |     |     |     |     |     |     |     |     |     |     |     |     |     |     |     |     | All |     |     |     |     |     |     | oli |     |     |     |     |     |     |     |     |     |     |     |     |     |     |     |     |     |     |     |     |     |     |     |     |     |     |     |     |     |     | s   |     |     | ck  |     |     |     |     |     |     |     |     |     |     |     |     | 00: | 00: |     |     |     |     |\n",
       "|     |     |     |     |     |     |     |     |     |     |     |     |     |     |     |     |     |     |     |     |     |     |     |     | -Wh |     |     |     |     |     |     | ne  |     |     |     |     |     |     |     |     |     |     |     |     |     |     |     |     |     |     |     |     |     |     |     |     |     |     |     |     |     |     |     |     |     |     |     |     |     |     |     |     |     |     |     |     |     |     | 00  | 00  |     |     |     |     |\n",
       "|     |     |     |     |     |     |     |     |     |     |     |     |     |     |     |     |     |     |     |     |     |     |     |     | eel |     |     |     |     |     |     |     |     |     |     |     |     |     |     |     |     |     |     |     |     |     |     |     |     |     |     |     |     |     |     |     |     |     |     |     |     |     |     |     |     |     |     |     |     |     |     |     |     |     |     |     |     |     | EST | EST |     |     |     |     |\n",
       "|     |     |     |     |     |     |     |     |     |     |     |     |     |     |     |     |     |     |     |     |     |     |     |     | Dri |     |     |     |     |     |     |     |     |     |     |     |     |     |     |     |     |     |     |     |     |     |     |     |     |     |     |     |     |     |     |     |     |     |     |     |     |     |     |     |     |     |     |     |     |     |     |     |     |     |     |     |     |     | 201 | 201 |     |     |     |     |\n",
       "|     |     |     |     |     |     |     |     |     |     |     |     |     |     |     |     |     |     |     |     |     |     |     |     | ve  |     |     |     |     |     |     |     |     |     |     |     |     |     |     |     |     |     |     |     |     |     |     |     |     |     |     |     |     |     |     |     |     |     |     |     |     |     |     |     |     |     |     |     |     |     |     |     |     |     |     |     |     |     | 3   | 3   |     |     |     |     |\n",
       "| 16. | 0.0 | 0.0 | 0.0 | 16  | 0.0 | 0   | 0.0 | 0.0 | 0.0 | 0.0 | -1  | -1  | 0.0 | 493 | 18  | 0.0 | 0   | 0.0 | 0.0 | 0.0 | 0.0 | 4   | 2.2 | 4-W | 660 | (FF | -1  | 340 | 0   | Pre | Pre | -1  | -1  | 21  | 0.0 | 0   | 0.0 | 0.0 | 0.0 | 0.0 | 0   | 0   | 999 | 0   | 14  | Sub | Leg | N   | fal | 0   | 90  | 0   | 0.0 | 0.0 | 0.0 | 0.0 | Aut | 20. | 0.0 | 29. | 0.0 | Com | 199 | -85 | Leg | nul | CLK | T   | nul | nul | nul | nul | nul | nul | nul | 0.0 | nul | Tue | Tue | nul | 0   | 0   | 0   |\n",
       "| 528 |     |     |     |     |     |     |     |     |     |     |     |     |     | .72 |     |     |     |     |     |     |     |     |     | hee | 31  | S,T |     | 0   |     | miu | miu |     |     |     |     |     |     |     |     |     |     |     | 9   |     |     | aru | acy |     | se  |     |     |     |     |     |     |     | oma | 0   |     | 0   |     | pac | 3   | 00  | acy | l   | UP  |     | l   | l   | l   | l   | l   | l   | l   |     | l   | Jan | Jan | l   |     |     |     |\n",
       "| 333 |     |     |     |     |     |     |     |     |     |     |     |     |     | 222 |     |     |     |     |     |     |     |     |     | l   |     | RBO |     |     |     | m   | m   |     |     |     |     |     |     |     |     |     |     |     |     |     |     |     | AWD |     |     |     |     |     |     |     |     |     | tic |     |     |     |     | t   |     |     | /Ou |     |     |     |     |     |     |     |     |     |     |     |     | 01  | 01  |     |     |     |     |\n",
       "|     |     |     |     |     |     |     |     |     |     |     |     |     |     | 2   |     |     |     |     |     |     |     |     |     | or  |     | )   |     |     |     |     | Gas |     |     |     |     |     |     |     |     |     |     |     |     |     |     |     | Tur |     |     |     |     |     |     |     |     |     | 4-s |     |     |     |     | Car |     |     | tba |     |     |     |     |     |     |     |     |     |     |     |     | 00: | 00: |     |     |     |     |\n",
       "|     |     |     |     |     |     |     |     |     |     |     |     |     |     |     |     |     |     |     |     |     |     |     |     | All |     |     |     |     |     |     | oli |     |     |     |     |     |     |     |     |     |     |     |     |     |     |     | bo  |     |     |     |     |     |     |     |     |     | pd  |     |     |     |     | s   |     |     | ck  |     |     |     |     |     |     |     |     |     |     |     |     | 00: | 00: |     |     |     |     |\n",
       "|     |     |     |     |     |     |     |     |     |     |     |     |     |     |     |     |     |     |     |     |     |     |     |     | -Wh |     |     |     |     |     |     | ne  |     |     |     |     |     |     |     |     |     |     |     |     |     |     |     |     |     |     |     |     |     |     |     |     |     |     |     |     |     |     |     |     |     |     |     |     |     |     |     |     |     |     |     |     |     |     | 00  | 00  |     |     |     |     |\n",
       "|     |     |     |     |     |     |     |     |     |     |     |     |     |     |     |     |     |     |     |     |     |     |     |     | eel |     |     |     |     |     |     |     |     |     |     |     |     |     |     |     |     |     |     |     |     |     |     |     |     |     |     |     |     |     |     |     |     |     |     |     |     |     |     |     |     |     |     |     |     |     |     |     |     |     |     |     |     |     | EST | EST |     |     |     |     |\n",
       "|     |     |     |     |     |     |     |     |     |     |     |     |     |     |     |     |     |     |     |     |     |     |     |     | Dri |     |     |     |     |     |     |     |     |     |     |     |     |     |     |     |     |     |     |     |     |     |     |     |     |     |     |     |     |     |     |     |     |     |     |     |     |     |     |     |     |     |     |     |     |     |     |     |     |     |     |     |     |     | 201 | 201 |     |     |     |     |\n",
       "|     |     |     |     |     |     |     |     |     |     |     |     |     |     |     |     |     |     |     |     |     |     |     |     | ve  |     |     |     |     |     |     |     |     |     |     |     |     |     |     |     |     |     |     |     |     |     |     |     |     |     |     |     |     |     |     |     |     |     |     |     |     |     |     |     |     |     |     |     |     |     |     |     |     |     |     |     |     |     | 3   | 3   |     |     |     |     |\n",
       "+-----+-----+-----+-----+-----+-----+-----+-----+-----+-----+-----+-----+-----+-----+-----+-----+-----+-----+-----+-----+-----+-----+-----+-----+-----+-----+-----+-----+-----+-----+-----+-----+-----+-----+-----+-----+-----+-----+-----+-----+-----+-----+-----+-----+-----+-----+-----+-----+-----+-----+-----+-----+-----+-----+-----+-----+-----+-----+-----+-----+-----+-----+-----+-----+-----+-----+-----+-----+-----+-----+-----+-----+-----+-----+-----+-----+-----+-----+-----+-----+-----+-----+-----+-----+"
      ]
     },
     "execution_count": 40,
     "metadata": {},
     "output_type": "execute_result"
    }
   ],
   "source": [
    "import zipfile\n",
    "\n",
    "url = './data/vehicles.csv.zip'\n",
    "path = 'data/vehicles.csv'\n",
    "\n",
    "!wget -P data -nc https://www.fueleconomy.gov/feg/epadata/vehicles.csv.zip\n",
    "\n",
    "with zipfile.ZipFile(url) as z:\n",
    "    z.extractall('data/')\n",
    "\n",
    "df = pl.read_csv(path, null_values=['NA'])\n",
    "df"
   ]
  },
  {
   "cell_type": "markdown",
   "id": "a35720d2-022e-403d-aa5d-cfaf3d903f1a",
   "metadata": {},
   "source": [
    "---\n",
    "# 1.7 Lazy CSV Reading\n",
    "[back to top](#Top)\n",
    "\n",
    "Use `pl.scan_csv()` to return a lazy dataframe while reading CSV files."
   ]
  },
  {
   "cell_type": "code",
   "execution_count": 41,
   "id": "1db60b03-7ee3-412a-9667-b9b5669f3d15",
   "metadata": {},
   "outputs": [
    {
     "name": "stdout",
     "output_type": "stream",
     "text": [
      "naive plan: (run LazyFrame.explain(optimized=True) to see the optimized plan)\n",
      "\n",
      "Csv SCAN [data/vehicles.csv]\n",
      "PROJECT */84 COLUMNS\n"
     ]
    }
   ],
   "source": [
    "lazy = pl.scan_csv(path, null_values=['NA'])\n",
    "print(lazy)"
   ]
  },
  {
   "cell_type": "code",
   "execution_count": 42,
   "id": "07c03f53-7065-4fad-b672-93c6318e3772",
   "metadata": {},
   "outputs": [
    {
     "name": "stdout",
     "output_type": "stream",
     "text": [
      "naive plan: (run LazyFrame.explain(optimized=True) to see the optimized plan)\n",
      "\n",
      " SELECT [col(\"year\"), col(\"make\"), col(\"model\")] FROM\n",
      "  FILTER [(col(\"year\")) >= (1990)] FROM\n",
      "    FILTER [(col(\"year\")) < (2000)] FROM\n",
      "      Csv SCAN [data/vehicles.csv]\n",
      "      PROJECT */84 COLUMNS\n"
     ]
    }
   ],
   "source": [
    "# Filter out some rows and columns\n",
    "print(\n",
    "    lazy\n",
    "    .filter((pl.col('year')>=1990) & (pl.col('year')<2000))\n",
    "    .select(['year', 'make', 'model'])\n",
    ")"
   ]
  },
  {
   "cell_type": "code",
   "execution_count": 43,
   "id": "ead442f7-15a4-44d4-baed-510ef5249263",
   "metadata": {},
   "outputs": [
    {
     "name": "stdout",
     "output_type": "stream",
     "text": [
      "simple π 3/3 [\"year\", \"make\", \"model\"]\n",
      "  Csv SCAN [data/vehicles.csv]\n",
      "  PROJECT 3/84 COLUMNS\n",
      "  SELECTION: [([(col(\"year\")) < (2000)]) & ([(col(\"year\")) >= (1990)])]\n"
     ]
    }
   ],
   "source": [
    "# Run the .explain method\n",
    "print(\n",
    "    lazy\n",
    "    .filter((pl.col('year')>=1990) & (pl.col('year')<2000))\n",
    "    .select(['year', 'make', 'model'])\n",
    "    .explain(optimized=True)\n",
    ")"
   ]
  },
  {
   "cell_type": "code",
   "execution_count": 44,
   "id": "66dd7fbb-8cdc-4809-b02d-34c74cfa7f0e",
   "metadata": {},
   "outputs": [
    {
     "name": "stdout",
     "output_type": "stream",
     "text": [
      "shape: (9_572, 3)\n",
      "+------+--------+------------------+\n",
      "| year | make   | model            |\n",
      "| ---  | ---    | ---              |\n",
      "| i64  | str    | str              |\n",
      "+==================================+\n",
      "| 1993 | Subaru | Legacy AWD Turbo |\n",
      "| 1993 | Subaru | Loyale           |\n",
      "| 1993 | Subaru | Loyale           |\n",
      "| 1993 | Toyota | Corolla          |\n",
      "| 1993 | Toyota | Corolla          |\n",
      "| …    | …      | …                |\n",
      "| 1993 | Subaru | Legacy           |\n",
      "| 1993 | Subaru | Legacy           |\n",
      "| 1993 | Subaru | Legacy AWD       |\n",
      "| 1993 | Subaru | Legacy AWD       |\n",
      "| 1993 | Subaru | Legacy AWD Turbo |\n",
      "+------+--------+------------------+\n"
     ]
    },
    {
     "name": "stderr",
     "output_type": "stream",
     "text": [
      "read files in parallel\n",
      "avg line length: 434.78027\n",
      "std. dev. line length: 23.885818\n",
      "initial row estimate: 47850\n",
      "no. of chunks: 4 processed by: 4 threads.\n"
     ]
    }
   ],
   "source": [
    "# Execute lazy dataframe with .collect\n",
    "print(\n",
    "    lazy\n",
    "    .filter((pl.col('year')>=1990) & (pl.col('year')<2000))\n",
    "    .select(['year', 'make', 'model'])\n",
    "    .collect()\n",
    ")"
   ]
  },
  {
   "cell_type": "markdown",
   "id": "794f1fd6-1f28-4c34-92a2-4dbb13068b43",
   "metadata": {},
   "source": [
    "---\n",
    "# 1.8 Data Type Inference and Manual Overrides\n",
    "[back to top](#Top)\n"
   ]
  },
  {
   "cell_type": "markdown",
   "id": "39ad7859-909f-4a61-893c-de69bfcf191a",
   "metadata": {},
   "source": [
    "## 1.8.1 Examine types\n",
    "\n",
    "Examine the data types inferred for the Fuel Economy dataset columns.\n",
    "\n",
    "Use the `.dtypes` attribute.\n",
    "\n",
    "[back to top](#Top)"
   ]
  },
  {
   "cell_type": "code",
   "execution_count": 45,
   "id": "67ab5b35-5c85-4d69-a835-f8600db74c31",
   "metadata": {},
   "outputs": [
    {
     "name": "stdout",
     "output_type": "stream",
     "text": [
      "[Float64, Float64, Float64, Float64, Int64, Float64, Int64, Float64, Float64, Float64, Float64, Int64, Int64, Float64, Float64, Int64, Float64, Int64, Float64, Float64, Float64, Float64, Int64, Float64, String, Int64, String, Int64, Int64, Int64, String, String, Int64, Int64, Int64, Float64, Int64, Float64, Float64, Float64, Float64, Int64, Int64, Int64, Int64, Int64, String, String, String, Boolean, Int64, Int64, Int64, Float64, Float64, Float64, Float64, String, Float64, Float64, Float64, Float64, String, Int64, Int64, String, String, String, String, String, String, String, String, String, String, String, Float64, String, String, String, String, Int64, Int64, Int64]\n"
     ]
    }
   ],
   "source": [
    "# Not very helpful since the key is not shown\n",
    "print(df.dtypes)"
   ]
  },
  {
   "cell_type": "markdown",
   "id": "8aa49e04-fa79-422e-9994-fbfb125887be",
   "metadata": {},
   "source": [
    "Get a mapping of column names to data types with `.schema` attribute."
   ]
  },
  {
   "cell_type": "code",
   "execution_count": 46,
   "id": "74ff3bdc-263c-41cf-af74-3ee55ab94b8e",
   "metadata": {},
   "outputs": [
    {
     "data": {
      "text/plain": [
       "Schema([('barrels08', Float64),\n",
       "        ('barrelsA08', Float64),\n",
       "        ('charge120', Float64),\n",
       "        ('charge240', Float64),\n",
       "        ('city08', Int64),\n",
       "        ('city08U', Float64),\n",
       "        ('cityA08', Int64),\n",
       "        ('cityA08U', Float64),\n",
       "        ('cityCD', Float64),\n",
       "        ('cityE', Float64),\n",
       "        ('cityUF', Float64),\n",
       "        ('co2', Int64),\n",
       "        ('co2A', Int64),\n",
       "        ('co2TailpipeAGpm', Float64),\n",
       "        ('co2TailpipeGpm', Float64),\n",
       "        ('comb08', Int64),\n",
       "        ('comb08U', Float64),\n",
       "        ('combA08', Int64),\n",
       "        ('combA08U', Float64),\n",
       "        ('combE', Float64),\n",
       "        ('combinedCD', Float64),\n",
       "        ('combinedUF', Float64),\n",
       "        ('cylinders', Int64),\n",
       "        ('displ', Float64),\n",
       "        ('drive', String),\n",
       "        ('engId', Int64),\n",
       "        ('eng_dscr', String),\n",
       "        ('feScore', Int64),\n",
       "        ('fuelCost08', Int64),\n",
       "        ('fuelCostA08', Int64),\n",
       "        ('fuelType', String),\n",
       "        ('fuelType1', String),\n",
       "        ('ghgScore', Int64),\n",
       "        ('ghgScoreA', Int64),\n",
       "        ('highway08', Int64),\n",
       "        ('highway08U', Float64),\n",
       "        ('highwayA08', Int64),\n",
       "        ('highwayA08U', Float64),\n",
       "        ('highwayCD', Float64),\n",
       "        ('highwayE', Float64),\n",
       "        ('highwayUF', Float64),\n",
       "        ('hlv', Int64),\n",
       "        ('hpv', Int64),\n",
       "        ('id', Int64),\n",
       "        ('lv2', Int64),\n",
       "        ('lv4', Int64),\n",
       "        ('make', String),\n",
       "        ('model', String),\n",
       "        ('mpgData', String),\n",
       "        ('phevBlended', Boolean),\n",
       "        ('pv2', Int64),\n",
       "        ('pv4', Int64),\n",
       "        ('range', Int64),\n",
       "        ('rangeCity', Float64),\n",
       "        ('rangeCityA', Float64),\n",
       "        ('rangeHwy', Float64),\n",
       "        ('rangeHwyA', Float64),\n",
       "        ('trany', String),\n",
       "        ('UCity', Float64),\n",
       "        ('UCityA', Float64),\n",
       "        ('UHighway', Float64),\n",
       "        ('UHighwayA', Float64),\n",
       "        ('VClass', String),\n",
       "        ('year', Int64),\n",
       "        ('youSaveSpend', Int64),\n",
       "        ('baseModel', String),\n",
       "        ('guzzler', String),\n",
       "        ('trans_dscr', String),\n",
       "        ('tCharger', String),\n",
       "        ('sCharger', String),\n",
       "        ('atvType', String),\n",
       "        ('fuelType2', String),\n",
       "        ('rangeA', String),\n",
       "        ('evMotor', String),\n",
       "        ('mfrCode', String),\n",
       "        ('c240Dscr', String),\n",
       "        ('charge240b', Float64),\n",
       "        ('c240bDscr', String),\n",
       "        ('createdOn', String),\n",
       "        ('modifiedOn', String),\n",
       "        ('startStop', String),\n",
       "        ('phevCity', Int64),\n",
       "        ('phevHwy', Int64),\n",
       "        ('phevComb', Int64)])"
      ]
     },
     "execution_count": 46,
     "metadata": {},
     "output_type": "execute_result"
    }
   ],
   "source": [
    "# Returns a dict[column name, DataType]\n",
    "df.schema"
   ]
  },
  {
   "cell_type": "markdown",
   "id": "20a2a760-d942-4a52-81c1-527befb044ae",
   "metadata": {},
   "source": [
    "For convenience, look at only selected data, such as the cars' year, make and model."
   ]
  },
  {
   "cell_type": "code",
   "execution_count": 47,
   "id": "f2186189-cb7f-405c-8ba3-c700c8908365",
   "metadata": {},
   "outputs": [
    {
     "data": {
      "text/plain": [
       "['year',\n",
       " 'make',\n",
       " 'model',\n",
       " 'displ',\n",
       " 'cylinders',\n",
       " 'trany',\n",
       " 'drive',\n",
       " 'VClass',\n",
       " 'fuelType',\n",
       " 'barrels08',\n",
       " 'city08',\n",
       " 'highway08',\n",
       " 'createdOn']"
      ]
     },
     "execution_count": 47,
     "metadata": {},
     "output_type": "execute_result"
    }
   ],
   "source": [
    "cols = [\n",
    "    'year', 'make', 'model', 'displ', 'cylinders', 'trany', \n",
    "    'drive', 'VClass', 'fuelType', 'barrels08', 'city08', \n",
    "    'highway08', 'createdOn'\n",
    "]\n",
    "cols"
   ]
  },
  {
   "cell_type": "markdown",
   "id": "f0d81aa5-810b-49e4-b949-392ca822519a",
   "metadata": {},
   "source": [
    "We use the `.select` context to view these columns. \n",
    "\n",
    "This method takes a list of column names and returns a new dataframe with only those columns.\n",
    "\n",
    "If we only want to limit the columns but not perform other operations, we can use the `.select` method and pass a list of column names. \n",
    "\n",
    "We can also pass the names into `pl.col` **if we want to chain operations.**"
   ]
  },
  {
   "cell_type": "code",
   "execution_count": 48,
   "id": "afa72153-db2b-4a53-a79f-229e43b89349",
   "metadata": {},
   "outputs": [
    {
     "data": {
      "text/html": [
       "<div><style>\n",
       ".dataframe > thead > tr,\n",
       ".dataframe > tbody > tr {\n",
       "  text-align: right;\n",
       "  white-space: pre-wrap;\n",
       "}\n",
       "</style>\n",
       "<small>shape: (48_202, 13)</small><table border=\"1\" class=\"dataframe\"><thead><tr><th>year</th><th>make</th><th>model</th><th>displ</th><th>cylinders</th><th>trany</th><th>drive</th><th>VClass</th><th>fuelType</th><th>barrels08</th><th>city08</th><th>highway08</th><th>createdOn</th></tr><tr><td>i64</td><td>str</td><td>str</td><td>f64</td><td>i64</td><td>str</td><td>str</td><td>str</td><td>str</td><td>f64</td><td>i64</td><td>i64</td><td>str</td></tr></thead><tbody><tr><td>1985</td><td>&quot;Alfa Romeo&quot;</td><td>&quot;Spider Veloce 2000&quot;</td><td>2.0</td><td>4</td><td>&quot;Manual 5-spd&quot;</td><td>&quot;Rear-Wheel Drive&quot;</td><td>&quot;Two Seaters&quot;</td><td>&quot;Regular&quot;</td><td>14.167143</td><td>19</td><td>25</td><td>&quot;Tue Jan 01 00:00:00 EST 2013&quot;</td></tr><tr><td>1985</td><td>&quot;Ferrari&quot;</td><td>&quot;Testarossa&quot;</td><td>4.9</td><td>12</td><td>&quot;Manual 5-spd&quot;</td><td>&quot;Rear-Wheel Drive&quot;</td><td>&quot;Two Seaters&quot;</td><td>&quot;Regular&quot;</td><td>27.046364</td><td>9</td><td>14</td><td>&quot;Tue Jan 01 00:00:00 EST 2013&quot;</td></tr><tr><td>1985</td><td>&quot;Dodge&quot;</td><td>&quot;Charger&quot;</td><td>2.2</td><td>4</td><td>&quot;Manual 5-spd&quot;</td><td>&quot;Front-Wheel Drive&quot;</td><td>&quot;Subcompact Cars&quot;</td><td>&quot;Regular&quot;</td><td>11.018889</td><td>23</td><td>33</td><td>&quot;Tue Jan 01 00:00:00 EST 2013&quot;</td></tr><tr><td>1985</td><td>&quot;Dodge&quot;</td><td>&quot;B150/B250 Wagon 2WD&quot;</td><td>5.2</td><td>8</td><td>&quot;Automatic 3-spd&quot;</td><td>&quot;Rear-Wheel Drive&quot;</td><td>&quot;Vans&quot;</td><td>&quot;Regular&quot;</td><td>27.046364</td><td>10</td><td>12</td><td>&quot;Tue Jan 01 00:00:00 EST 2013&quot;</td></tr><tr><td>1993</td><td>&quot;Subaru&quot;</td><td>&quot;Legacy AWD Turbo&quot;</td><td>2.2</td><td>4</td><td>&quot;Manual 5-spd&quot;</td><td>&quot;4-Wheel or All-Wheel Drive&quot;</td><td>&quot;Compact Cars&quot;</td><td>&quot;Premium&quot;</td><td>15.658421</td><td>17</td><td>23</td><td>&quot;Tue Jan 01 00:00:00 EST 2013&quot;</td></tr><tr><td>&hellip;</td><td>&hellip;</td><td>&hellip;</td><td>&hellip;</td><td>&hellip;</td><td>&hellip;</td><td>&hellip;</td><td>&hellip;</td><td>&hellip;</td><td>&hellip;</td><td>&hellip;</td><td>&hellip;</td><td>&hellip;</td></tr><tr><td>1993</td><td>&quot;Subaru&quot;</td><td>&quot;Legacy&quot;</td><td>2.2</td><td>4</td><td>&quot;Automatic 4-spd&quot;</td><td>&quot;Front-Wheel Drive&quot;</td><td>&quot;Compact Cars&quot;</td><td>&quot;Regular&quot;</td><td>13.523182</td><td>19</td><td>26</td><td>&quot;Tue Jan 01 00:00:00 EST 2013&quot;</td></tr><tr><td>1993</td><td>&quot;Subaru&quot;</td><td>&quot;Legacy&quot;</td><td>2.2</td><td>4</td><td>&quot;Manual 5-spd&quot;</td><td>&quot;Front-Wheel Drive&quot;</td><td>&quot;Compact Cars&quot;</td><td>&quot;Regular&quot;</td><td>12.935217</td><td>20</td><td>28</td><td>&quot;Tue Jan 01 00:00:00 EST 2013&quot;</td></tr><tr><td>1993</td><td>&quot;Subaru&quot;</td><td>&quot;Legacy AWD&quot;</td><td>2.2</td><td>4</td><td>&quot;Automatic 4-spd&quot;</td><td>&quot;4-Wheel or All-Wheel Drive&quot;</td><td>&quot;Compact Cars&quot;</td><td>&quot;Regular&quot;</td><td>14.167143</td><td>18</td><td>24</td><td>&quot;Tue Jan 01 00:00:00 EST 2013&quot;</td></tr><tr><td>1993</td><td>&quot;Subaru&quot;</td><td>&quot;Legacy AWD&quot;</td><td>2.2</td><td>4</td><td>&quot;Manual 5-spd&quot;</td><td>&quot;4-Wheel or All-Wheel Drive&quot;</td><td>&quot;Compact Cars&quot;</td><td>&quot;Regular&quot;</td><td>14.167143</td><td>18</td><td>24</td><td>&quot;Tue Jan 01 00:00:00 EST 2013&quot;</td></tr><tr><td>1993</td><td>&quot;Subaru&quot;</td><td>&quot;Legacy AWD Turbo&quot;</td><td>2.2</td><td>4</td><td>&quot;Automatic 4-spd&quot;</td><td>&quot;4-Wheel or All-Wheel Drive&quot;</td><td>&quot;Compact Cars&quot;</td><td>&quot;Premium&quot;</td><td>16.528333</td><td>16</td><td>21</td><td>&quot;Tue Jan 01 00:00:00 EST 2013&quot;</td></tr></tbody></table></div>"
      ],
      "text/plain": [
       "shape: (48_202, 13)\n",
       "+-----+-----+-----+-------+--------+-------+-------+-------+-------+-------+-------+-------+-------+\n",
       "| yea | mak | mod | displ | cylind | trany | drive | VClas | fuelT | barre | city0 | highw | creat |\n",
       "| r   | e   | el  | ---   | ers    | ---   | ---   | s     | ype   | ls08  | 8     | ay08  | edOn  |\n",
       "| --- | --- | --- | f64   | ---    | str   | str   | ---   | ---   | ---   | ---   | ---   | ---   |\n",
       "| i64 | str | str |       | i64    |       |       | str   | str   | f64   | i64   | i64   | str   |\n",
       "+==================================================================================================+\n",
       "| 198 | Alf | Spi | 2.0   | 4      | Manua | Rear- | Two   | Regul | 14.16 | 19    | 25    | Tue   |\n",
       "| 5   | a   | der |       |        | l     | Wheel | Seate | ar    | 7143  |       |       | Jan   |\n",
       "|     | Rom | Vel |       |        | 5-spd | Drive | rs    |       |       |       |       | 01    |\n",
       "|     | eo  | oce |       |        |       |       |       |       |       |       |       | 00:00 |\n",
       "|     |     | 200 |       |        |       |       |       |       |       |       |       | :00   |\n",
       "|     |     | 0   |       |        |       |       |       |       |       |       |       | EST   |\n",
       "|     |     |     |       |        |       |       |       |       |       |       |       | 2013  |\n",
       "| 198 | Fer | Tes | 4.9   | 12     | Manua | Rear- | Two   | Regul | 27.04 | 9     | 14    | Tue   |\n",
       "| 5   | rar | tar |       |        | l     | Wheel | Seate | ar    | 6364  |       |       | Jan   |\n",
       "|     | i   | oss |       |        | 5-spd | Drive | rs    |       |       |       |       | 01    |\n",
       "|     |     | a   |       |        |       |       |       |       |       |       |       | 00:00 |\n",
       "|     |     |     |       |        |       |       |       |       |       |       |       | :00   |\n",
       "|     |     |     |       |        |       |       |       |       |       |       |       | EST   |\n",
       "|     |     |     |       |        |       |       |       |       |       |       |       | 2013  |\n",
       "| 198 | Dod | Cha | 2.2   | 4      | Manua | Front | Subco | Regul | 11.01 | 23    | 33    | Tue   |\n",
       "| 5   | ge  | rge |       |        | l     | -Whee | mpact | ar    | 8889  |       |       | Jan   |\n",
       "|     |     | r   |       |        | 5-spd | l     | Cars  |       |       |       |       | 01    |\n",
       "|     |     |     |       |        |       | Drive |       |       |       |       |       | 00:00 |\n",
       "|     |     |     |       |        |       |       |       |       |       |       |       | :00   |\n",
       "|     |     |     |       |        |       |       |       |       |       |       |       | EST   |\n",
       "|     |     |     |       |        |       |       |       |       |       |       |       | 2013  |\n",
       "| 198 | Dod | B15 | 5.2   | 8      | Autom | Rear- | Vans  | Regul | 27.04 | 10    | 12    | Tue   |\n",
       "| 5   | ge  | 0/B |       |        | atic  | Wheel |       | ar    | 6364  |       |       | Jan   |\n",
       "|     |     | 250 |       |        | 3-spd | Drive |       |       |       |       |       | 01    |\n",
       "|     |     | Wag |       |        |       |       |       |       |       |       |       | 00:00 |\n",
       "|     |     | on  |       |        |       |       |       |       |       |       |       | :00   |\n",
       "|     |     | 2WD |       |        |       |       |       |       |       |       |       | EST   |\n",
       "|     |     |     |       |        |       |       |       |       |       |       |       | 2013  |\n",
       "| 199 | Sub | Leg | 2.2   | 4      | Manua | 4-Whe | Compa | Premi | 15.65 | 17    | 23    | Tue   |\n",
       "| 3   | aru | acy |       |        | l     | el or | ct    | um    | 8421  |       |       | Jan   |\n",
       "|     |     | AWD |       |        | 5-spd | All-W | Cars  |       |       |       |       | 01    |\n",
       "|     |     | Tur |       |        |       | heel  |       |       |       |       |       | 00:00 |\n",
       "|     |     | bo  |       |        |       | Drive |       |       |       |       |       | :00   |\n",
       "|     |     |     |       |        |       |       |       |       |       |       |       | EST   |\n",
       "|     |     |     |       |        |       |       |       |       |       |       |       | 2013  |\n",
       "| …   | …   | …   | …     | …      | …     | …     | …     | …     | …     | …     | …     | …     |\n",
       "| 199 | Sub | Leg | 2.2   | 4      | Autom | Front | Compa | Regul | 13.52 | 19    | 26    | Tue   |\n",
       "| 3   | aru | acy |       |        | atic  | -Whee | ct    | ar    | 3182  |       |       | Jan   |\n",
       "|     |     |     |       |        | 4-spd | l     | Cars  |       |       |       |       | 01    |\n",
       "|     |     |     |       |        |       | Drive |       |       |       |       |       | 00:00 |\n",
       "|     |     |     |       |        |       |       |       |       |       |       |       | :00   |\n",
       "|     |     |     |       |        |       |       |       |       |       |       |       | EST   |\n",
       "|     |     |     |       |        |       |       |       |       |       |       |       | 2013  |\n",
       "| 199 | Sub | Leg | 2.2   | 4      | Manua | Front | Compa | Regul | 12.93 | 20    | 28    | Tue   |\n",
       "| 3   | aru | acy |       |        | l     | -Whee | ct    | ar    | 5217  |       |       | Jan   |\n",
       "|     |     |     |       |        | 5-spd | l     | Cars  |       |       |       |       | 01    |\n",
       "|     |     |     |       |        |       | Drive |       |       |       |       |       | 00:00 |\n",
       "|     |     |     |       |        |       |       |       |       |       |       |       | :00   |\n",
       "|     |     |     |       |        |       |       |       |       |       |       |       | EST   |\n",
       "|     |     |     |       |        |       |       |       |       |       |       |       | 2013  |\n",
       "| 199 | Sub | Leg | 2.2   | 4      | Autom | 4-Whe | Compa | Regul | 14.16 | 18    | 24    | Tue   |\n",
       "| 3   | aru | acy |       |        | atic  | el or | ct    | ar    | 7143  |       |       | Jan   |\n",
       "|     |     | AWD |       |        | 4-spd | All-W | Cars  |       |       |       |       | 01    |\n",
       "|     |     |     |       |        |       | heel  |       |       |       |       |       | 00:00 |\n",
       "|     |     |     |       |        |       | Drive |       |       |       |       |       | :00   |\n",
       "|     |     |     |       |        |       |       |       |       |       |       |       | EST   |\n",
       "|     |     |     |       |        |       |       |       |       |       |       |       | 2013  |\n",
       "| 199 | Sub | Leg | 2.2   | 4      | Manua | 4-Whe | Compa | Regul | 14.16 | 18    | 24    | Tue   |\n",
       "| 3   | aru | acy |       |        | l     | el or | ct    | ar    | 7143  |       |       | Jan   |\n",
       "|     |     | AWD |       |        | 5-spd | All-W | Cars  |       |       |       |       | 01    |\n",
       "|     |     |     |       |        |       | heel  |       |       |       |       |       | 00:00 |\n",
       "|     |     |     |       |        |       | Drive |       |       |       |       |       | :00   |\n",
       "|     |     |     |       |        |       |       |       |       |       |       |       | EST   |\n",
       "|     |     |     |       |        |       |       |       |       |       |       |       | 2013  |\n",
       "| 199 | Sub | Leg | 2.2   | 4      | Autom | 4-Whe | Compa | Premi | 16.52 | 16    | 21    | Tue   |\n",
       "| 3   | aru | acy |       |        | atic  | el or | ct    | um    | 8333  |       |       | Jan   |\n",
       "|     |     | AWD |       |        | 4-spd | All-W | Cars  |       |       |       |       | 01    |\n",
       "|     |     | Tur |       |        |       | heel  |       |       |       |       |       | 00:00 |\n",
       "|     |     | bo  |       |        |       | Drive |       |       |       |       |       | :00   |\n",
       "|     |     |     |       |        |       |       |       |       |       |       |       | EST   |\n",
       "|     |     |     |       |        |       |       |       |       |       |       |       | 2013  |\n",
       "+-----+-----+-----+-------+--------+-------+-------+-------+-------+-------+-------+-------+-------+"
      ]
     },
     "execution_count": 48,
     "metadata": {},
     "output_type": "execute_result"
    }
   ],
   "source": [
    "df.select(cols)"
   ]
  },
  {
   "cell_type": "markdown",
   "id": "4db9508f-c85b-43b5-8947-52ef661238f6",
   "metadata": {},
   "source": [
    "Use the `pl.col` function to use the expression-API and create an expression. This allows us to perform more operations on this."
   ]
  },
  {
   "cell_type": "code",
   "execution_count": 49,
   "id": "adaa9623-58c7-4546-bdb0-61d7d65e6324",
   "metadata": {},
   "outputs": [
    {
     "data": {
      "text/html": [
       "<div><style>\n",
       ".dataframe > thead > tr,\n",
       ".dataframe > tbody > tr {\n",
       "  text-align: right;\n",
       "  white-space: pre-wrap;\n",
       "}\n",
       "</style>\n",
       "<small>shape: (48_202, 13)</small><table border=\"1\" class=\"dataframe\"><thead><tr><th>year</th><th>make</th><th>model</th><th>displ</th><th>cylinders</th><th>trany</th><th>drive</th><th>VClass</th><th>fuelType</th><th>barrels08</th><th>city08</th><th>highway08</th><th>createdOn</th></tr><tr><td>i64</td><td>str</td><td>str</td><td>f64</td><td>i64</td><td>str</td><td>str</td><td>str</td><td>str</td><td>f64</td><td>i64</td><td>i64</td><td>str</td></tr></thead><tbody><tr><td>1985</td><td>&quot;Alfa Romeo&quot;</td><td>&quot;Spider Veloce 2000&quot;</td><td>2.0</td><td>4</td><td>&quot;Manual 5-spd&quot;</td><td>&quot;Rear-Wheel Drive&quot;</td><td>&quot;Two Seaters&quot;</td><td>&quot;Regular&quot;</td><td>14.167143</td><td>19</td><td>25</td><td>&quot;Tue Jan 01 00:00:00 EST 2013&quot;</td></tr><tr><td>1985</td><td>&quot;Ferrari&quot;</td><td>&quot;Testarossa&quot;</td><td>4.9</td><td>12</td><td>&quot;Manual 5-spd&quot;</td><td>&quot;Rear-Wheel Drive&quot;</td><td>&quot;Two Seaters&quot;</td><td>&quot;Regular&quot;</td><td>27.046364</td><td>9</td><td>14</td><td>&quot;Tue Jan 01 00:00:00 EST 2013&quot;</td></tr><tr><td>1985</td><td>&quot;Dodge&quot;</td><td>&quot;Charger&quot;</td><td>2.2</td><td>4</td><td>&quot;Manual 5-spd&quot;</td><td>&quot;Front-Wheel Drive&quot;</td><td>&quot;Subcompact Cars&quot;</td><td>&quot;Regular&quot;</td><td>11.018889</td><td>23</td><td>33</td><td>&quot;Tue Jan 01 00:00:00 EST 2013&quot;</td></tr><tr><td>1985</td><td>&quot;Dodge&quot;</td><td>&quot;B150/B250 Wagon 2WD&quot;</td><td>5.2</td><td>8</td><td>&quot;Automatic 3-spd&quot;</td><td>&quot;Rear-Wheel Drive&quot;</td><td>&quot;Vans&quot;</td><td>&quot;Regular&quot;</td><td>27.046364</td><td>10</td><td>12</td><td>&quot;Tue Jan 01 00:00:00 EST 2013&quot;</td></tr><tr><td>1993</td><td>&quot;Subaru&quot;</td><td>&quot;Legacy AWD Turbo&quot;</td><td>2.2</td><td>4</td><td>&quot;Manual 5-spd&quot;</td><td>&quot;4-Wheel or All-Wheel Drive&quot;</td><td>&quot;Compact Cars&quot;</td><td>&quot;Premium&quot;</td><td>15.658421</td><td>17</td><td>23</td><td>&quot;Tue Jan 01 00:00:00 EST 2013&quot;</td></tr><tr><td>&hellip;</td><td>&hellip;</td><td>&hellip;</td><td>&hellip;</td><td>&hellip;</td><td>&hellip;</td><td>&hellip;</td><td>&hellip;</td><td>&hellip;</td><td>&hellip;</td><td>&hellip;</td><td>&hellip;</td><td>&hellip;</td></tr><tr><td>1993</td><td>&quot;Subaru&quot;</td><td>&quot;Legacy&quot;</td><td>2.2</td><td>4</td><td>&quot;Automatic 4-spd&quot;</td><td>&quot;Front-Wheel Drive&quot;</td><td>&quot;Compact Cars&quot;</td><td>&quot;Regular&quot;</td><td>13.523182</td><td>19</td><td>26</td><td>&quot;Tue Jan 01 00:00:00 EST 2013&quot;</td></tr><tr><td>1993</td><td>&quot;Subaru&quot;</td><td>&quot;Legacy&quot;</td><td>2.2</td><td>4</td><td>&quot;Manual 5-spd&quot;</td><td>&quot;Front-Wheel Drive&quot;</td><td>&quot;Compact Cars&quot;</td><td>&quot;Regular&quot;</td><td>12.935217</td><td>20</td><td>28</td><td>&quot;Tue Jan 01 00:00:00 EST 2013&quot;</td></tr><tr><td>1993</td><td>&quot;Subaru&quot;</td><td>&quot;Legacy AWD&quot;</td><td>2.2</td><td>4</td><td>&quot;Automatic 4-spd&quot;</td><td>&quot;4-Wheel or All-Wheel Drive&quot;</td><td>&quot;Compact Cars&quot;</td><td>&quot;Regular&quot;</td><td>14.167143</td><td>18</td><td>24</td><td>&quot;Tue Jan 01 00:00:00 EST 2013&quot;</td></tr><tr><td>1993</td><td>&quot;Subaru&quot;</td><td>&quot;Legacy AWD&quot;</td><td>2.2</td><td>4</td><td>&quot;Manual 5-spd&quot;</td><td>&quot;4-Wheel or All-Wheel Drive&quot;</td><td>&quot;Compact Cars&quot;</td><td>&quot;Regular&quot;</td><td>14.167143</td><td>18</td><td>24</td><td>&quot;Tue Jan 01 00:00:00 EST 2013&quot;</td></tr><tr><td>1993</td><td>&quot;Subaru&quot;</td><td>&quot;Legacy AWD Turbo&quot;</td><td>2.2</td><td>4</td><td>&quot;Automatic 4-spd&quot;</td><td>&quot;4-Wheel or All-Wheel Drive&quot;</td><td>&quot;Compact Cars&quot;</td><td>&quot;Premium&quot;</td><td>16.528333</td><td>16</td><td>21</td><td>&quot;Tue Jan 01 00:00:00 EST 2013&quot;</td></tr></tbody></table></div>"
      ],
      "text/plain": [
       "shape: (48_202, 13)\n",
       "+-----+-----+-----+-------+--------+-------+-------+-------+-------+-------+-------+-------+-------+\n",
       "| yea | mak | mod | displ | cylind | trany | drive | VClas | fuelT | barre | city0 | highw | creat |\n",
       "| r   | e   | el  | ---   | ers    | ---   | ---   | s     | ype   | ls08  | 8     | ay08  | edOn  |\n",
       "| --- | --- | --- | f64   | ---    | str   | str   | ---   | ---   | ---   | ---   | ---   | ---   |\n",
       "| i64 | str | str |       | i64    |       |       | str   | str   | f64   | i64   | i64   | str   |\n",
       "+==================================================================================================+\n",
       "| 198 | Alf | Spi | 2.0   | 4      | Manua | Rear- | Two   | Regul | 14.16 | 19    | 25    | Tue   |\n",
       "| 5   | a   | der |       |        | l     | Wheel | Seate | ar    | 7143  |       |       | Jan   |\n",
       "|     | Rom | Vel |       |        | 5-spd | Drive | rs    |       |       |       |       | 01    |\n",
       "|     | eo  | oce |       |        |       |       |       |       |       |       |       | 00:00 |\n",
       "|     |     | 200 |       |        |       |       |       |       |       |       |       | :00   |\n",
       "|     |     | 0   |       |        |       |       |       |       |       |       |       | EST   |\n",
       "|     |     |     |       |        |       |       |       |       |       |       |       | 2013  |\n",
       "| 198 | Fer | Tes | 4.9   | 12     | Manua | Rear- | Two   | Regul | 27.04 | 9     | 14    | Tue   |\n",
       "| 5   | rar | tar |       |        | l     | Wheel | Seate | ar    | 6364  |       |       | Jan   |\n",
       "|     | i   | oss |       |        | 5-spd | Drive | rs    |       |       |       |       | 01    |\n",
       "|     |     | a   |       |        |       |       |       |       |       |       |       | 00:00 |\n",
       "|     |     |     |       |        |       |       |       |       |       |       |       | :00   |\n",
       "|     |     |     |       |        |       |       |       |       |       |       |       | EST   |\n",
       "|     |     |     |       |        |       |       |       |       |       |       |       | 2013  |\n",
       "| 198 | Dod | Cha | 2.2   | 4      | Manua | Front | Subco | Regul | 11.01 | 23    | 33    | Tue   |\n",
       "| 5   | ge  | rge |       |        | l     | -Whee | mpact | ar    | 8889  |       |       | Jan   |\n",
       "|     |     | r   |       |        | 5-spd | l     | Cars  |       |       |       |       | 01    |\n",
       "|     |     |     |       |        |       | Drive |       |       |       |       |       | 00:00 |\n",
       "|     |     |     |       |        |       |       |       |       |       |       |       | :00   |\n",
       "|     |     |     |       |        |       |       |       |       |       |       |       | EST   |\n",
       "|     |     |     |       |        |       |       |       |       |       |       |       | 2013  |\n",
       "| 198 | Dod | B15 | 5.2   | 8      | Autom | Rear- | Vans  | Regul | 27.04 | 10    | 12    | Tue   |\n",
       "| 5   | ge  | 0/B |       |        | atic  | Wheel |       | ar    | 6364  |       |       | Jan   |\n",
       "|     |     | 250 |       |        | 3-spd | Drive |       |       |       |       |       | 01    |\n",
       "|     |     | Wag |       |        |       |       |       |       |       |       |       | 00:00 |\n",
       "|     |     | on  |       |        |       |       |       |       |       |       |       | :00   |\n",
       "|     |     | 2WD |       |        |       |       |       |       |       |       |       | EST   |\n",
       "|     |     |     |       |        |       |       |       |       |       |       |       | 2013  |\n",
       "| 199 | Sub | Leg | 2.2   | 4      | Manua | 4-Whe | Compa | Premi | 15.65 | 17    | 23    | Tue   |\n",
       "| 3   | aru | acy |       |        | l     | el or | ct    | um    | 8421  |       |       | Jan   |\n",
       "|     |     | AWD |       |        | 5-spd | All-W | Cars  |       |       |       |       | 01    |\n",
       "|     |     | Tur |       |        |       | heel  |       |       |       |       |       | 00:00 |\n",
       "|     |     | bo  |       |        |       | Drive |       |       |       |       |       | :00   |\n",
       "|     |     |     |       |        |       |       |       |       |       |       |       | EST   |\n",
       "|     |     |     |       |        |       |       |       |       |       |       |       | 2013  |\n",
       "| …   | …   | …   | …     | …      | …     | …     | …     | …     | …     | …     | …     | …     |\n",
       "| 199 | Sub | Leg | 2.2   | 4      | Autom | Front | Compa | Regul | 13.52 | 19    | 26    | Tue   |\n",
       "| 3   | aru | acy |       |        | atic  | -Whee | ct    | ar    | 3182  |       |       | Jan   |\n",
       "|     |     |     |       |        | 4-spd | l     | Cars  |       |       |       |       | 01    |\n",
       "|     |     |     |       |        |       | Drive |       |       |       |       |       | 00:00 |\n",
       "|     |     |     |       |        |       |       |       |       |       |       |       | :00   |\n",
       "|     |     |     |       |        |       |       |       |       |       |       |       | EST   |\n",
       "|     |     |     |       |        |       |       |       |       |       |       |       | 2013  |\n",
       "| 199 | Sub | Leg | 2.2   | 4      | Manua | Front | Compa | Regul | 12.93 | 20    | 28    | Tue   |\n",
       "| 3   | aru | acy |       |        | l     | -Whee | ct    | ar    | 5217  |       |       | Jan   |\n",
       "|     |     |     |       |        | 5-spd | l     | Cars  |       |       |       |       | 01    |\n",
       "|     |     |     |       |        |       | Drive |       |       |       |       |       | 00:00 |\n",
       "|     |     |     |       |        |       |       |       |       |       |       |       | :00   |\n",
       "|     |     |     |       |        |       |       |       |       |       |       |       | EST   |\n",
       "|     |     |     |       |        |       |       |       |       |       |       |       | 2013  |\n",
       "| 199 | Sub | Leg | 2.2   | 4      | Autom | 4-Whe | Compa | Regul | 14.16 | 18    | 24    | Tue   |\n",
       "| 3   | aru | acy |       |        | atic  | el or | ct    | ar    | 7143  |       |       | Jan   |\n",
       "|     |     | AWD |       |        | 4-spd | All-W | Cars  |       |       |       |       | 01    |\n",
       "|     |     |     |       |        |       | heel  |       |       |       |       |       | 00:00 |\n",
       "|     |     |     |       |        |       | Drive |       |       |       |       |       | :00   |\n",
       "|     |     |     |       |        |       |       |       |       |       |       |       | EST   |\n",
       "|     |     |     |       |        |       |       |       |       |       |       |       | 2013  |\n",
       "| 199 | Sub | Leg | 2.2   | 4      | Manua | 4-Whe | Compa | Regul | 14.16 | 18    | 24    | Tue   |\n",
       "| 3   | aru | acy |       |        | l     | el or | ct    | ar    | 7143  |       |       | Jan   |\n",
       "|     |     | AWD |       |        | 5-spd | All-W | Cars  |       |       |       |       | 01    |\n",
       "|     |     |     |       |        |       | heel  |       |       |       |       |       | 00:00 |\n",
       "|     |     |     |       |        |       | Drive |       |       |       |       |       | :00   |\n",
       "|     |     |     |       |        |       |       |       |       |       |       |       | EST   |\n",
       "|     |     |     |       |        |       |       |       |       |       |       |       | 2013  |\n",
       "| 199 | Sub | Leg | 2.2   | 4      | Autom | 4-Whe | Compa | Premi | 16.52 | 16    | 21    | Tue   |\n",
       "| 3   | aru | acy |       |        | atic  | el or | ct    | um    | 8333  |       |       | Jan   |\n",
       "|     |     | AWD |       |        | 4-spd | All-W | Cars  |       |       |       |       | 01    |\n",
       "|     |     | Tur |       |        |       | heel  |       |       |       |       |       | 00:00 |\n",
       "|     |     | bo  |       |        |       | Drive |       |       |       |       |       | :00   |\n",
       "|     |     |     |       |        |       |       |       |       |       |       |       | EST   |\n",
       "|     |     |     |       |        |       |       |       |       |       |       |       | 2013  |\n",
       "+-----+-----+-----+-------+--------+-------+-------+-------+-------+-------+-------+-------+-------+"
      ]
     },
     "execution_count": 49,
     "metadata": {},
     "output_type": "execute_result"
    }
   ],
   "source": [
    "df.select(pl.col(cols))"
   ]
  },
  {
   "cell_type": "markdown",
   "id": "069920da-213e-417d-851a-3cfc193d7adf",
   "metadata": {},
   "source": [
    "## 1.8.2 Change types\n",
    "Use chaining-style syntax with parenthesis.\n",
    "\n",
    "[back to top](#Top)"
   ]
  },
  {
   "cell_type": "code",
   "execution_count": 50,
   "id": "3eedf148-cb19-475b-9268-9d174052aa05",
   "metadata": {},
   "outputs": [
    {
     "data": {
      "text/html": [
       "<div><style>\n",
       ".dataframe > thead > tr,\n",
       ".dataframe > tbody > tr {\n",
       "  text-align: right;\n",
       "  white-space: pre-wrap;\n",
       "}\n",
       "</style>\n",
       "<small>shape: (9, 5)</small><table border=\"1\" class=\"dataframe\"><thead><tr><th>statistic</th><th>year</th><th>cylinders</th><th>city08</th><th>highway08</th></tr><tr><td>str</td><td>f64</td><td>f64</td><td>f64</td><td>f64</td></tr></thead><tbody><tr><td>&quot;count&quot;</td><td>48202.0</td><td>47237.0</td><td>48202.0</td><td>48202.0</td></tr><tr><td>&quot;null_count&quot;</td><td>0.0</td><td>965.0</td><td>0.0</td><td>0.0</td></tr><tr><td>&quot;mean&quot;</td><td>2004.59344</td><td>5.698838</td><td>19.929235</td><td>25.821294</td></tr><tr><td>&quot;std&quot;</td><td>12.681444</td><td>1.772964</td><td>12.658018</td><td>11.087154</td></tr><tr><td>&quot;min&quot;</td><td>1984.0</td><td>2.0</td><td>6.0</td><td>9.0</td></tr><tr><td>&quot;25%&quot;</td><td>1993.0</td><td>4.0</td><td>15.0</td><td>20.0</td></tr><tr><td>&quot;50%&quot;</td><td>2006.0</td><td>6.0</td><td>18.0</td><td>24.0</td></tr><tr><td>&quot;75%&quot;</td><td>2016.0</td><td>6.0</td><td>21.0</td><td>28.0</td></tr><tr><td>&quot;max&quot;</td><td>2025.0</td><td>16.0</td><td>153.0</td><td>142.0</td></tr></tbody></table></div>"
      ],
      "text/plain": [
       "shape: (9, 5)\n",
       "+------------+------------+-----------+-----------+-----------+\n",
       "| statistic  | year       | cylinders | city08    | highway08 |\n",
       "| ---        | ---        | ---       | ---       | ---       |\n",
       "| str        | f64        | f64       | f64       | f64       |\n",
       "+=============================================================+\n",
       "| count      | 48202.0    | 47237.0   | 48202.0   | 48202.0   |\n",
       "| null_count | 0.0        | 965.0     | 0.0       | 0.0       |\n",
       "| mean       | 2004.59344 | 5.698838  | 19.929235 | 25.821294 |\n",
       "| std        | 12.681444  | 1.772964  | 12.658018 | 11.087154 |\n",
       "| min        | 1984.0     | 2.0       | 6.0       | 9.0       |\n",
       "| 25%        | 1993.0     | 4.0       | 15.0      | 20.0      |\n",
       "| 50%        | 2006.0     | 6.0       | 18.0      | 24.0      |\n",
       "| 75%        | 2016.0     | 6.0       | 21.0      | 28.0      |\n",
       "| max        | 2025.0     | 16.0      | 153.0     | 142.0     |\n",
       "+------------+------------+-----------+-----------+-----------+"
      ]
     },
     "execution_count": 50,
     "metadata": {},
     "output_type": "execute_result"
    }
   ],
   "source": [
    "# Examine the integer columns\n",
    "(\n",
    "    df\n",
    "    .select(pl.col(cols)) # select a small number of columns\n",
    "    .select(pl.col(pl.Int64)) # only select integer64 columns\n",
    "    .describe() # apply the describe operation\n",
    ")"
   ]
  },
  {
   "cell_type": "markdown",
   "id": "09db457c-4348-4a37-9894-d0a0d729339b",
   "metadata": {},
   "source": [
    "---\n",
    "* We can update columns with the `.with_columns` dataframe method.\n",
    "* This is used when you want to preserve existing columns and potentially add or update existing ones.\n",
    "* It takes a column expression and returns a new dataframe with the column added or updated.\n",
    "* Inside the `.with_columns` call, we can use the `pl.col` function to create an expression to cast the column to the desired type.\n",
    "* We aren't working directly with the data column in the *year* expression.\n",
    "* We are indicating to Polars that there is a column in the data, and we want to cast it to a 16-bit integer.\n",
    "* When the `.with_columns` context runs, Polars reads the data from the *year* column and casts it to a 16-bit integer.\n"
   ]
  },
  {
   "cell_type": "code",
   "execution_count": 51,
   "id": "6ab48eeb-7669-4e27-8db1-7b2acc541e21",
   "metadata": {},
   "outputs": [
    {
     "data": {
      "text/html": [
       "<div><style>\n",
       ".dataframe > thead > tr,\n",
       ".dataframe > tbody > tr {\n",
       "  text-align: right;\n",
       "  white-space: pre-wrap;\n",
       "}\n",
       "</style>\n",
       "<small>shape: (48_202, 13)</small><table border=\"1\" class=\"dataframe\"><thead><tr><th>year</th><th>make</th><th>model</th><th>displ</th><th>cylinders</th><th>trany</th><th>drive</th><th>VClass</th><th>fuelType</th><th>barrels08</th><th>city08</th><th>highway08</th><th>createdOn</th></tr><tr><td>i16</td><td>str</td><td>str</td><td>f64</td><td>u8</td><td>str</td><td>str</td><td>str</td><td>str</td><td>f64</td><td>u8</td><td>u8</td><td>str</td></tr></thead><tbody><tr><td>1985</td><td>&quot;Alfa Romeo&quot;</td><td>&quot;Spider Veloce 2000&quot;</td><td>2.0</td><td>4</td><td>&quot;Manual 5-spd&quot;</td><td>&quot;Rear-Wheel Drive&quot;</td><td>&quot;Two Seaters&quot;</td><td>&quot;Regular&quot;</td><td>14.167143</td><td>19</td><td>25</td><td>&quot;Tue Jan 01 00:00:00 EST 2013&quot;</td></tr><tr><td>1985</td><td>&quot;Ferrari&quot;</td><td>&quot;Testarossa&quot;</td><td>4.9</td><td>12</td><td>&quot;Manual 5-spd&quot;</td><td>&quot;Rear-Wheel Drive&quot;</td><td>&quot;Two Seaters&quot;</td><td>&quot;Regular&quot;</td><td>27.046364</td><td>9</td><td>14</td><td>&quot;Tue Jan 01 00:00:00 EST 2013&quot;</td></tr><tr><td>1985</td><td>&quot;Dodge&quot;</td><td>&quot;Charger&quot;</td><td>2.2</td><td>4</td><td>&quot;Manual 5-spd&quot;</td><td>&quot;Front-Wheel Drive&quot;</td><td>&quot;Subcompact Cars&quot;</td><td>&quot;Regular&quot;</td><td>11.018889</td><td>23</td><td>33</td><td>&quot;Tue Jan 01 00:00:00 EST 2013&quot;</td></tr><tr><td>1985</td><td>&quot;Dodge&quot;</td><td>&quot;B150/B250 Wagon 2WD&quot;</td><td>5.2</td><td>8</td><td>&quot;Automatic 3-spd&quot;</td><td>&quot;Rear-Wheel Drive&quot;</td><td>&quot;Vans&quot;</td><td>&quot;Regular&quot;</td><td>27.046364</td><td>10</td><td>12</td><td>&quot;Tue Jan 01 00:00:00 EST 2013&quot;</td></tr><tr><td>1993</td><td>&quot;Subaru&quot;</td><td>&quot;Legacy AWD Turbo&quot;</td><td>2.2</td><td>4</td><td>&quot;Manual 5-spd&quot;</td><td>&quot;4-Wheel or All-Wheel Drive&quot;</td><td>&quot;Compact Cars&quot;</td><td>&quot;Premium&quot;</td><td>15.658421</td><td>17</td><td>23</td><td>&quot;Tue Jan 01 00:00:00 EST 2013&quot;</td></tr><tr><td>&hellip;</td><td>&hellip;</td><td>&hellip;</td><td>&hellip;</td><td>&hellip;</td><td>&hellip;</td><td>&hellip;</td><td>&hellip;</td><td>&hellip;</td><td>&hellip;</td><td>&hellip;</td><td>&hellip;</td><td>&hellip;</td></tr><tr><td>1993</td><td>&quot;Subaru&quot;</td><td>&quot;Legacy&quot;</td><td>2.2</td><td>4</td><td>&quot;Automatic 4-spd&quot;</td><td>&quot;Front-Wheel Drive&quot;</td><td>&quot;Compact Cars&quot;</td><td>&quot;Regular&quot;</td><td>13.523182</td><td>19</td><td>26</td><td>&quot;Tue Jan 01 00:00:00 EST 2013&quot;</td></tr><tr><td>1993</td><td>&quot;Subaru&quot;</td><td>&quot;Legacy&quot;</td><td>2.2</td><td>4</td><td>&quot;Manual 5-spd&quot;</td><td>&quot;Front-Wheel Drive&quot;</td><td>&quot;Compact Cars&quot;</td><td>&quot;Regular&quot;</td><td>12.935217</td><td>20</td><td>28</td><td>&quot;Tue Jan 01 00:00:00 EST 2013&quot;</td></tr><tr><td>1993</td><td>&quot;Subaru&quot;</td><td>&quot;Legacy AWD&quot;</td><td>2.2</td><td>4</td><td>&quot;Automatic 4-spd&quot;</td><td>&quot;4-Wheel or All-Wheel Drive&quot;</td><td>&quot;Compact Cars&quot;</td><td>&quot;Regular&quot;</td><td>14.167143</td><td>18</td><td>24</td><td>&quot;Tue Jan 01 00:00:00 EST 2013&quot;</td></tr><tr><td>1993</td><td>&quot;Subaru&quot;</td><td>&quot;Legacy AWD&quot;</td><td>2.2</td><td>4</td><td>&quot;Manual 5-spd&quot;</td><td>&quot;4-Wheel or All-Wheel Drive&quot;</td><td>&quot;Compact Cars&quot;</td><td>&quot;Regular&quot;</td><td>14.167143</td><td>18</td><td>24</td><td>&quot;Tue Jan 01 00:00:00 EST 2013&quot;</td></tr><tr><td>1993</td><td>&quot;Subaru&quot;</td><td>&quot;Legacy AWD Turbo&quot;</td><td>2.2</td><td>4</td><td>&quot;Automatic 4-spd&quot;</td><td>&quot;4-Wheel or All-Wheel Drive&quot;</td><td>&quot;Compact Cars&quot;</td><td>&quot;Premium&quot;</td><td>16.528333</td><td>16</td><td>21</td><td>&quot;Tue Jan 01 00:00:00 EST 2013&quot;</td></tr></tbody></table></div>"
      ],
      "text/plain": [
       "shape: (48_202, 13)\n",
       "+-----+-----+-----+-------+--------+-------+-------+-------+-------+-------+-------+-------+-------+\n",
       "| yea | mak | mod | displ | cylind | trany | drive | VClas | fuelT | barre | city0 | highw | creat |\n",
       "| r   | e   | el  | ---   | ers    | ---   | ---   | s     | ype   | ls08  | 8     | ay08  | edOn  |\n",
       "| --- | --- | --- | f64   | ---    | str   | str   | ---   | ---   | ---   | ---   | ---   | ---   |\n",
       "| i16 | str | str |       | u8     |       |       | str   | str   | f64   | u8    | u8    | str   |\n",
       "+==================================================================================================+\n",
       "| 198 | Alf | Spi | 2.0   | 4      | Manua | Rear- | Two   | Regul | 14.16 | 19    | 25    | Tue   |\n",
       "| 5   | a   | der |       |        | l     | Wheel | Seate | ar    | 7143  |       |       | Jan   |\n",
       "|     | Rom | Vel |       |        | 5-spd | Drive | rs    |       |       |       |       | 01    |\n",
       "|     | eo  | oce |       |        |       |       |       |       |       |       |       | 00:00 |\n",
       "|     |     | 200 |       |        |       |       |       |       |       |       |       | :00   |\n",
       "|     |     | 0   |       |        |       |       |       |       |       |       |       | EST   |\n",
       "|     |     |     |       |        |       |       |       |       |       |       |       | 2013  |\n",
       "| 198 | Fer | Tes | 4.9   | 12     | Manua | Rear- | Two   | Regul | 27.04 | 9     | 14    | Tue   |\n",
       "| 5   | rar | tar |       |        | l     | Wheel | Seate | ar    | 6364  |       |       | Jan   |\n",
       "|     | i   | oss |       |        | 5-spd | Drive | rs    |       |       |       |       | 01    |\n",
       "|     |     | a   |       |        |       |       |       |       |       |       |       | 00:00 |\n",
       "|     |     |     |       |        |       |       |       |       |       |       |       | :00   |\n",
       "|     |     |     |       |        |       |       |       |       |       |       |       | EST   |\n",
       "|     |     |     |       |        |       |       |       |       |       |       |       | 2013  |\n",
       "| 198 | Dod | Cha | 2.2   | 4      | Manua | Front | Subco | Regul | 11.01 | 23    | 33    | Tue   |\n",
       "| 5   | ge  | rge |       |        | l     | -Whee | mpact | ar    | 8889  |       |       | Jan   |\n",
       "|     |     | r   |       |        | 5-spd | l     | Cars  |       |       |       |       | 01    |\n",
       "|     |     |     |       |        |       | Drive |       |       |       |       |       | 00:00 |\n",
       "|     |     |     |       |        |       |       |       |       |       |       |       | :00   |\n",
       "|     |     |     |       |        |       |       |       |       |       |       |       | EST   |\n",
       "|     |     |     |       |        |       |       |       |       |       |       |       | 2013  |\n",
       "| 198 | Dod | B15 | 5.2   | 8      | Autom | Rear- | Vans  | Regul | 27.04 | 10    | 12    | Tue   |\n",
       "| 5   | ge  | 0/B |       |        | atic  | Wheel |       | ar    | 6364  |       |       | Jan   |\n",
       "|     |     | 250 |       |        | 3-spd | Drive |       |       |       |       |       | 01    |\n",
       "|     |     | Wag |       |        |       |       |       |       |       |       |       | 00:00 |\n",
       "|     |     | on  |       |        |       |       |       |       |       |       |       | :00   |\n",
       "|     |     | 2WD |       |        |       |       |       |       |       |       |       | EST   |\n",
       "|     |     |     |       |        |       |       |       |       |       |       |       | 2013  |\n",
       "| 199 | Sub | Leg | 2.2   | 4      | Manua | 4-Whe | Compa | Premi | 15.65 | 17    | 23    | Tue   |\n",
       "| 3   | aru | acy |       |        | l     | el or | ct    | um    | 8421  |       |       | Jan   |\n",
       "|     |     | AWD |       |        | 5-spd | All-W | Cars  |       |       |       |       | 01    |\n",
       "|     |     | Tur |       |        |       | heel  |       |       |       |       |       | 00:00 |\n",
       "|     |     | bo  |       |        |       | Drive |       |       |       |       |       | :00   |\n",
       "|     |     |     |       |        |       |       |       |       |       |       |       | EST   |\n",
       "|     |     |     |       |        |       |       |       |       |       |       |       | 2013  |\n",
       "| …   | …   | …   | …     | …      | …     | …     | …     | …     | …     | …     | …     | …     |\n",
       "| 199 | Sub | Leg | 2.2   | 4      | Autom | Front | Compa | Regul | 13.52 | 19    | 26    | Tue   |\n",
       "| 3   | aru | acy |       |        | atic  | -Whee | ct    | ar    | 3182  |       |       | Jan   |\n",
       "|     |     |     |       |        | 4-spd | l     | Cars  |       |       |       |       | 01    |\n",
       "|     |     |     |       |        |       | Drive |       |       |       |       |       | 00:00 |\n",
       "|     |     |     |       |        |       |       |       |       |       |       |       | :00   |\n",
       "|     |     |     |       |        |       |       |       |       |       |       |       | EST   |\n",
       "|     |     |     |       |        |       |       |       |       |       |       |       | 2013  |\n",
       "| 199 | Sub | Leg | 2.2   | 4      | Manua | Front | Compa | Regul | 12.93 | 20    | 28    | Tue   |\n",
       "| 3   | aru | acy |       |        | l     | -Whee | ct    | ar    | 5217  |       |       | Jan   |\n",
       "|     |     |     |       |        | 5-spd | l     | Cars  |       |       |       |       | 01    |\n",
       "|     |     |     |       |        |       | Drive |       |       |       |       |       | 00:00 |\n",
       "|     |     |     |       |        |       |       |       |       |       |       |       | :00   |\n",
       "|     |     |     |       |        |       |       |       |       |       |       |       | EST   |\n",
       "|     |     |     |       |        |       |       |       |       |       |       |       | 2013  |\n",
       "| 199 | Sub | Leg | 2.2   | 4      | Autom | 4-Whe | Compa | Regul | 14.16 | 18    | 24    | Tue   |\n",
       "| 3   | aru | acy |       |        | atic  | el or | ct    | ar    | 7143  |       |       | Jan   |\n",
       "|     |     | AWD |       |        | 4-spd | All-W | Cars  |       |       |       |       | 01    |\n",
       "|     |     |     |       |        |       | heel  |       |       |       |       |       | 00:00 |\n",
       "|     |     |     |       |        |       | Drive |       |       |       |       |       | :00   |\n",
       "|     |     |     |       |        |       |       |       |       |       |       |       | EST   |\n",
       "|     |     |     |       |        |       |       |       |       |       |       |       | 2013  |\n",
       "| 199 | Sub | Leg | 2.2   | 4      | Manua | 4-Whe | Compa | Regul | 14.16 | 18    | 24    | Tue   |\n",
       "| 3   | aru | acy |       |        | l     | el or | ct    | ar    | 7143  |       |       | Jan   |\n",
       "|     |     | AWD |       |        | 5-spd | All-W | Cars  |       |       |       |       | 01    |\n",
       "|     |     |     |       |        |       | heel  |       |       |       |       |       | 00:00 |\n",
       "|     |     |     |       |        |       | Drive |       |       |       |       |       | :00   |\n",
       "|     |     |     |       |        |       |       |       |       |       |       |       | EST   |\n",
       "|     |     |     |       |        |       |       |       |       |       |       |       | 2013  |\n",
       "| 199 | Sub | Leg | 2.2   | 4      | Autom | 4-Whe | Compa | Premi | 16.52 | 16    | 21    | Tue   |\n",
       "| 3   | aru | acy |       |        | atic  | el or | ct    | um    | 8333  |       |       | Jan   |\n",
       "|     |     | AWD |       |        | 4-spd | All-W | Cars  |       |       |       |       | 01    |\n",
       "|     |     | Tur |       |        |       | heel  |       |       |       |       |       | 00:00 |\n",
       "|     |     | bo  |       |        |       | Drive |       |       |       |       |       | :00   |\n",
       "|     |     |     |       |        |       |       |       |       |       |       |       | EST   |\n",
       "|     |     |     |       |        |       |       |       |       |       |       |       | 2013  |\n",
       "+-----+-----+-----+-------+--------+-------+-------+-------+-------+-------+-------+-------+-------+"
      ]
     },
     "execution_count": 51,
     "metadata": {},
     "output_type": "execute_result"
    }
   ],
   "source": [
    "(\n",
    "    df\n",
    "    .select(pl.col(cols))\n",
    "    .with_columns(\n",
    "        pl.col('year').cast(pl.Int16),\n",
    "        pl.col('cylinders').cast(pl.UInt8),\n",
    "        pl.col('highway08').cast(pl.UInt8),\n",
    "        pl.col('city08').cast(pl.UInt8)\n",
    "    )\n",
    ")"
   ]
  },
  {
   "cell_type": "markdown",
   "id": "c556727d-3478-456d-be18-02bc584ba40f",
   "metadata": {},
   "source": [
    "Note that if we try to change an integer type that is too small, Polars will raise an error.\n"
   ]
  },
  {
   "cell_type": "code",
   "execution_count": 52,
   "id": "f1de0338-5246-4b94-b02a-f5c0956927df",
   "metadata": {},
   "outputs": [
    {
     "name": "stdout",
     "output_type": "stream",
     "text": [
      "conversion from `i64` to `i8` failed in column 'year' for 12131 out of 12131 values: [1985, 1985, … 2005]\n"
     ]
    }
   ],
   "source": [
    "try:\n",
    "    (df\n",
    "        .select(pl.col(cols))\n",
    "        .with_columns(pl.col('year').cast(pl.Int8))\n",
    "    )\n",
    "except Exception as e:\n",
    "    print(e)"
   ]
  },
  {
   "cell_type": "markdown",
   "id": "1a82e67d-9b29-4868-a301-d13d15ba691e",
   "metadata": {},
   "source": [
    "---\n",
    "# 1.9 Automatic Type Shrinking\n",
    "[back to top](#Top)\n",
    "\n",
    "The `.shrink_dtype` method can convenient for automatically shrinking numeric columns."
   ]
  },
  {
   "cell_type": "code",
   "execution_count": 53,
   "id": "32cdd784-8ab2-4d20-bf99-e861c3c13fc3",
   "metadata": {},
   "outputs": [
    {
     "data": {
      "text/html": [
       "<div><style>\n",
       ".dataframe > thead > tr,\n",
       ".dataframe > tbody > tr {\n",
       "  text-align: right;\n",
       "  white-space: pre-wrap;\n",
       "}\n",
       "</style>\n",
       "<small>shape: (1, 13)</small><table border=\"1\" class=\"dataframe\"><thead><tr><th>year</th><th>make</th><th>model</th><th>displ</th><th>cylinders</th><th>trany</th><th>drive</th><th>VClass</th><th>fuelType</th><th>barrels08</th><th>city08</th><th>highway08</th><th>createdOn</th></tr><tr><td>i64</td><td>str</td><td>str</td><td>f64</td><td>i64</td><td>str</td><td>str</td><td>str</td><td>str</td><td>f64</td><td>i64</td><td>i64</td><td>str</td></tr></thead><tbody><tr><td>1985</td><td>&quot;Alfa Romeo&quot;</td><td>&quot;Spider Veloce 2000&quot;</td><td>2.0</td><td>4</td><td>&quot;Manual 5-spd&quot;</td><td>&quot;Rear-Wheel Drive&quot;</td><td>&quot;Two Seaters&quot;</td><td>&quot;Regular&quot;</td><td>14.167143</td><td>19</td><td>25</td><td>&quot;Tue Jan 01 00:00:00 EST 2013&quot;</td></tr></tbody></table></div>"
      ],
      "text/plain": [
       "shape: (1, 13)\n",
       "+-----+-----+-----+-------+--------+-------+-------+-------+-------+-------+-------+-------+-------+\n",
       "| yea | mak | mod | displ | cylind | trany | drive | VClas | fuelT | barre | city0 | highw | creat |\n",
       "| r   | e   | el  | ---   | ers    | ---   | ---   | s     | ype   | ls08  | 8     | ay08  | edOn  |\n",
       "| --- | --- | --- | f64   | ---    | str   | str   | ---   | ---   | ---   | ---   | ---   | ---   |\n",
       "| i64 | str | str |       | i64    |       |       | str   | str   | f64   | i64   | i64   | str   |\n",
       "+==================================================================================================+\n",
       "| 198 | Alf | Spi | 2.0   | 4      | Manua | Rear- | Two   | Regul | 14.16 | 19    | 25    | Tue   |\n",
       "| 5   | a   | der |       |        | l     | Wheel | Seate | ar    | 7143  |       |       | Jan   |\n",
       "|     | Rom | Vel |       |        | 5-spd | Drive | rs    |       |       |       |       | 01    |\n",
       "|     | eo  | oce |       |        |       |       |       |       |       |       |       | 00:00 |\n",
       "|     |     | 200 |       |        |       |       |       |       |       |       |       | :00   |\n",
       "|     |     | 0   |       |        |       |       |       |       |       |       |       | EST   |\n",
       "|     |     |     |       |        |       |       |       |       |       |       |       | 2013  |\n",
       "+-----+-----+-----+-------+--------+-------+-------+-------+-------+-------+-------+-------+-------+"
      ]
     },
     "execution_count": 53,
     "metadata": {},
     "output_type": "execute_result"
    }
   ],
   "source": [
    "# Check\n",
    "df.select(pl.col(cols)).head(1)"
   ]
  },
  {
   "cell_type": "code",
   "execution_count": 54,
   "id": "5ded3209-2857-4ac4-83ab-77e81d338db9",
   "metadata": {},
   "outputs": [
    {
     "data": {
      "text/html": [
       "<div><style>\n",
       ".dataframe > thead > tr,\n",
       ".dataframe > tbody > tr {\n",
       "  text-align: right;\n",
       "  white-space: pre-wrap;\n",
       "}\n",
       "</style>\n",
       "<small>shape: (1, 13)</small><table border=\"1\" class=\"dataframe\"><thead><tr><th>year</th><th>make</th><th>model</th><th>displ</th><th>cylinders</th><th>trany</th><th>drive</th><th>VClass</th><th>fuelType</th><th>barrels08</th><th>city08</th><th>highway08</th><th>createdOn</th></tr><tr><td>i16</td><td>str</td><td>str</td><td>f32</td><td>i8</td><td>str</td><td>str</td><td>str</td><td>str</td><td>f32</td><td>i16</td><td>i16</td><td>str</td></tr></thead><tbody><tr><td>1985</td><td>&quot;Alfa Romeo&quot;</td><td>&quot;Spider Veloce 2000&quot;</td><td>2.0</td><td>4</td><td>&quot;Manual 5-spd&quot;</td><td>&quot;Rear-Wheel Drive&quot;</td><td>&quot;Two Seaters&quot;</td><td>&quot;Regular&quot;</td><td>14.167143</td><td>19</td><td>25</td><td>&quot;Tue Jan 01 00:00:00 EST 2013&quot;</td></tr></tbody></table></div>"
      ],
      "text/plain": [
       "shape: (1, 13)\n",
       "+-----+-----+-----+-------+--------+-------+-------+-------+-------+-------+-------+-------+-------+\n",
       "| yea | mak | mod | displ | cylind | trany | drive | VClas | fuelT | barre | city0 | highw | creat |\n",
       "| r   | e   | el  | ---   | ers    | ---   | ---   | s     | ype   | ls08  | 8     | ay08  | edOn  |\n",
       "| --- | --- | --- | f32   | ---    | str   | str   | ---   | ---   | ---   | ---   | ---   | ---   |\n",
       "| i16 | str | str |       | i8     |       |       | str   | str   | f32   | i16   | i16   | str   |\n",
       "+==================================================================================================+\n",
       "| 198 | Alf | Spi | 2.0   | 4      | Manua | Rear- | Two   | Regul | 14.16 | 19    | 25    | Tue   |\n",
       "| 5   | a   | der |       |        | l     | Wheel | Seate | ar    | 7143  |       |       | Jan   |\n",
       "|     | Rom | Vel |       |        | 5-spd | Drive | rs    |       |       |       |       | 01    |\n",
       "|     | eo  | oce |       |        |       |       |       |       |       |       |       | 00:00 |\n",
       "|     |     | 200 |       |        |       |       |       |       |       |       |       | :00   |\n",
       "|     |     | 0   |       |        |       |       |       |       |       |       |       | EST   |\n",
       "|     |     |     |       |        |       |       |       |       |       |       |       | 2013  |\n",
       "+-----+-----+-----+-------+--------+-------+-------+-------+-------+-------+-------+-------+-------+"
      ]
     },
     "execution_count": 54,
     "metadata": {},
     "output_type": "execute_result"
    }
   ],
   "source": [
    "# Use shrink_dtype\n",
    "(\n",
    "    df\n",
    "    .select(pl.col(cols).shrink_dtype())\n",
    "    .head(1)\n",
    ")"
   ]
  },
  {
   "cell_type": "code",
   "execution_count": 55,
   "id": "cb5293da-38af-41f6-a716-31ba8d83f693",
   "metadata": {},
   "outputs": [
    {
     "data": {
      "text/html": [
       "<div><style>\n",
       ".dataframe > thead > tr,\n",
       ".dataframe > tbody > tr {\n",
       "  text-align: right;\n",
       "  white-space: pre-wrap;\n",
       "}\n",
       "</style>\n",
       "<small>shape: (1, 26)</small><table border=\"1\" class=\"dataframe\"><thead><tr><th>VClass</th><th>VClass_sm</th><th>barrels08</th><th>barrels08_sm</th><th>city08</th><th>city08_sm</th><th>createdOn</th><th>createdOn_sm</th><th>cylinders</th><th>cylinders_sm</th><th>displ</th><th>displ_sm</th><th>drive</th><th>drive_sm</th><th>fuelType</th><th>fuelType_sm</th><th>highway08</th><th>highway08_sm</th><th>make</th><th>make_sm</th><th>model</th><th>model_sm</th><th>trany</th><th>trany_sm</th><th>year</th><th>year_sm</th></tr><tr><td>str</td><td>str</td><td>f64</td><td>f32</td><td>i64</td><td>i16</td><td>str</td><td>str</td><td>i64</td><td>i8</td><td>f64</td><td>f32</td><td>str</td><td>str</td><td>str</td><td>str</td><td>i64</td><td>i16</td><td>str</td><td>str</td><td>str</td><td>str</td><td>str</td><td>str</td><td>i64</td><td>i16</td></tr></thead><tbody><tr><td>&quot;Two Seaters&quot;</td><td>&quot;Two Seaters&quot;</td><td>14.167143</td><td>14.167143</td><td>19</td><td>19</td><td>&quot;Tue Jan 01 00:00:00 EST 2013&quot;</td><td>&quot;Tue Jan 01 00:00:00 EST 2013&quot;</td><td>4</td><td>4</td><td>2.0</td><td>2.0</td><td>&quot;Rear-Wheel Drive&quot;</td><td>&quot;Rear-Wheel Drive&quot;</td><td>&quot;Regular&quot;</td><td>&quot;Regular&quot;</td><td>25</td><td>25</td><td>&quot;Alfa Romeo&quot;</td><td>&quot;Alfa Romeo&quot;</td><td>&quot;Spider Veloce 2000&quot;</td><td>&quot;Spider Veloce 2000&quot;</td><td>&quot;Manual 5-spd&quot;</td><td>&quot;Manual 5-spd&quot;</td><td>1985</td><td>1985</td></tr></tbody></table></div>"
      ],
      "text/plain": [
       "shape: (1, 26)\n",
       "+-----+-----+-----+-----+-----+-----+-----+-----+-----+-----+-----+-----+-----+-----+-----+-----+-----+-----+-----+-----+-----+-----+-----+-----+-----+-----+\n",
       "| VCl | VCl | bar | bar | cit | cit | cre | cre | cyl | cyl | dis | dis | dri | dri | fue | fue | hig | hig | mak | mak | mod | mod | tra | tra | yea | yea |\n",
       "| ass | ass | rel | rel | y08 | y08 | ate | ate | ind | ind | pl  | pl_ | ve  | ve_ | lTy | lTy | hwa | hwa | e   | e_s | el  | el_ | ny  | ny_ | r   | r_s |\n",
       "| --- | _sm | s08 | s08 | --- | _sm | dOn | dOn | ers | ers | --- | sm  | --- | sm  | pe  | pe_ | y08 | y08 | --- | m   | --- | sm  | --- | sm  | --- | m   |\n",
       "| str | --- | --- | _sm | i64 | --- | --- | _sm | --- | _sm | f64 | --- | str | --- | --- | sm  | --- | _sm | str | --- | str | --- | str | --- | i64 | --- |\n",
       "|     | str | f64 | --- |     | i16 | str | --- | i64 | --- |     | f32 |     | str | str | --- | i64 | --- |     | str |     | str |     | str |     | i16 |\n",
       "|     |     |     | f32 |     |     |     | str |     | i8  |     |     |     |     |     | str |     | i16 |     |     |     |     |     |     |     |     |\n",
       "+===========================================================================================================================================================+\n",
       "| Two | Two | 14. | 14. | 19  | 19  | Tue | Tue | 4   | 4   | 2.0 | 2.0 | Rea | Rea | Reg | Reg | 25  | 25  | Alf | Alf | Spi | Spi | Man | Man | 198 | 198 |\n",
       "| Sea | Sea | 167 | 167 |     |     | Jan | Jan |     |     |     |     | r-W | r-W | ula | ula |     |     | a   | a   | der | der | ual | ual | 5   | 5   |\n",
       "| ter | ter | 143 | 143 |     |     | 01  | 01  |     |     |     |     | hee | hee | r   | r   |     |     | Rom | Rom | Vel | Vel | 5-s | 5-s |     |     |\n",
       "| s   | s   |     |     |     |     | 00: | 00: |     |     |     |     | l   | l   |     |     |     |     | eo  | eo  | oce | oce | pd  | pd  |     |     |\n",
       "|     |     |     |     |     |     | 00: | 00: |     |     |     |     | Dri | Dri |     |     |     |     |     |     | 200 | 200 |     |     |     |     |\n",
       "|     |     |     |     |     |     | 00  | 00  |     |     |     |     | ve  | ve  |     |     |     |     |     |     | 0   | 0   |     |     |     |     |\n",
       "|     |     |     |     |     |     | EST | EST |     |     |     |     |     |     |     |     |     |     |     |     |     |     |     |     |     |     |\n",
       "|     |     |     |     |     |     | 201 | 201 |     |     |     |     |     |     |     |     |     |     |     |     |     |     |     |     |     |     |\n",
       "|     |     |     |     |     |     | 3   | 3   |     |     |     |     |     |     |     |     |     |     |     |     |     |     |     |     |     |     |\n",
       "+-----+-----+-----+-----+-----+-----+-----+-----+-----+-----+-----+-----+-----+-----+-----+-----+-----+-----+-----+-----+-----+-----+-----+-----+-----+-----+"
      ]
     },
     "execution_count": 55,
     "metadata": {},
     "output_type": "execute_result"
    }
   ],
   "source": [
    "comparison = (\n",
    "    df\n",
    "    .select(pl.col(cols))\n",
    "    .with_columns(\n",
    "        pl.col(cols).shrink_dtype().name.suffix(\"_sm\")\n",
    "    )\n",
    ")\n",
    "\n",
    "# sort the columns for easier comparison\n",
    "comparison.select(sorted(comparison.columns)).head(1)"
   ]
  },
  {
   "cell_type": "markdown",
   "id": "620f84f9-b27b-48f6-b1d1-63ff82b81439",
   "metadata": {},
   "source": [
    "---\n",
    "# 1.10 Float Conversion\n",
    "[back to top](#Top)\n"
   ]
  },
  {
   "cell_type": "code",
   "execution_count": 56,
   "id": "eb61a79c-5571-4aa6-9338-2ed5500b0387",
   "metadata": {},
   "outputs": [
    {
     "data": {
      "text/html": [
       "<div><style>\n",
       ".dataframe > thead > tr,\n",
       ".dataframe > tbody > tr {\n",
       "  text-align: right;\n",
       "  white-space: pre-wrap;\n",
       "}\n",
       "</style>\n",
       "<small>shape: (3, 2)</small><table border=\"1\" class=\"dataframe\"><thead><tr><th>displ</th><th>barrels08</th></tr><tr><td>f64</td><td>f64</td></tr></thead><tbody><tr><td>2.0</td><td>8.750294</td></tr><tr><td>2.0</td><td>13.523182</td></tr><tr><td>2.0</td><td>12.39625</td></tr></tbody></table></div>"
      ],
      "text/plain": [
       "shape: (3, 2)\n",
       "+-------+-----------+\n",
       "| displ | barrels08 |\n",
       "| ---   | ---       |\n",
       "| f64   | f64       |\n",
       "+===================+\n",
       "| 2.0   | 8.750294  |\n",
       "| 2.0   | 13.523182 |\n",
       "| 2.0   | 12.39625  |\n",
       "+-------+-----------+"
      ]
     },
     "execution_count": 56,
     "metadata": {},
     "output_type": "execute_result"
    }
   ],
   "source": [
    "# Casting only integer-types\n",
    "(\n",
    "    df\n",
    "    .select(pl.col(cols))\n",
    "    .with_columns(\n",
    "        pl.col('year').cast(pl.Int16),\n",
    "        pl.col('cylinders').cast(pl.UInt8),\n",
    "        pl.col('highway08').cast(pl.UInt8),\n",
    "        pl.col('city08').cast(pl.UInt8)\n",
    "    )\n",
    "    .select(pl.col(pl.Float64))\n",
    "    .sample(n=3)\n",
    ")"
   ]
  },
  {
   "cell_type": "code",
   "execution_count": 57,
   "id": "8ba1f387-7e4b-4141-ad7a-4c4b48ddc89c",
   "metadata": {},
   "outputs": [
    {
     "data": {
      "text/html": [
       "<div><style>\n",
       ".dataframe > thead > tr,\n",
       ".dataframe > tbody > tr {\n",
       "  text-align: right;\n",
       "  white-space: pre-wrap;\n",
       "}\n",
       "</style>\n",
       "<small>shape: (3, 2)</small><table border=\"1\" class=\"dataframe\"><thead><tr><th>displ</th><th>barrels08</th></tr><tr><td>f32</td><td>f32</td></tr></thead><tbody><tr><td>2.5</td><td>7.628461</td></tr><tr><td>3.5</td><td>15.658422</td></tr><tr><td>3.2</td><td>12.39625</td></tr></tbody></table></div>"
      ],
      "text/plain": [
       "shape: (3, 2)\n",
       "+-------+-----------+\n",
       "| displ | barrels08 |\n",
       "| ---   | ---       |\n",
       "| f32   | f32       |\n",
       "+===================+\n",
       "| 2.5   | 7.628461  |\n",
       "| 3.5   | 15.658422 |\n",
       "| 3.2   | 12.39625  |\n",
       "+-------+-----------+"
      ]
     },
     "execution_count": 57,
     "metadata": {},
     "output_type": "execute_result"
    }
   ],
   "source": [
    "# Also casting float types\n",
    "(\n",
    "    df\n",
    "    .select(pl.col(cols))\n",
    "    .with_columns(\n",
    "        pl.col('year').cast(pl.Int16),\n",
    "        pl.col('cylinders').cast(pl.UInt8),\n",
    "        pl.col('highway08').cast(pl.UInt8),\n",
    "        pl.col('city08').cast(pl.UInt8),\n",
    "        pl.col('displ').cast(pl.Float32),\n",
    "        pl.col('barrels08').cast(pl.Float32)\n",
    "    )\n",
    "    .select(pl.col(pl.Float32))\n",
    "    .sample(n=3)\n",
    ")"
   ]
  },
  {
   "cell_type": "markdown",
   "id": "81009b26-2c51-4a71-8b9b-9d956edbfc73",
   "metadata": {},
   "source": [
    "---\n",
    "# 1.11 Extracting Numbers from Strings\n",
    "[back to top](#Top)\n",
    "\n",
    "The *trany* column contains 2 pieces of information in a single column. "
   ]
  },
  {
   "cell_type": "code",
   "execution_count": 58,
   "id": "c2cc6fbe-957a-489c-9e81-229525055c41",
   "metadata": {},
   "outputs": [
    {
     "data": {
      "text/html": [
       "<div><style>\n",
       ".dataframe > thead > tr,\n",
       ".dataframe > tbody > tr {\n",
       "  text-align: right;\n",
       "  white-space: pre-wrap;\n",
       "}\n",
       "</style>\n",
       "<small>shape: (5, 1)</small><table border=\"1\" class=\"dataframe\"><thead><tr><th>trany</th></tr><tr><td>str</td></tr></thead><tbody><tr><td>&quot;Automatic 8-spd&quot;</td></tr><tr><td>&quot;Automatic 6-spd&quot;</td></tr><tr><td>&quot;Automatic 3-spd&quot;</td></tr><tr><td>&quot;Automatic 4-spd&quot;</td></tr><tr><td>&quot;Automatic 4-spd&quot;</td></tr></tbody></table></div>"
      ],
      "text/plain": [
       "shape: (5, 1)\n",
       "+-----------------+\n",
       "| trany           |\n",
       "| ---             |\n",
       "| str             |\n",
       "+=================+\n",
       "| Automatic 8-spd |\n",
       "| Automatic 6-spd |\n",
       "| Automatic 3-spd |\n",
       "| Automatic 4-spd |\n",
       "| Automatic 4-spd |\n",
       "+-----------------+"
      ]
     },
     "execution_count": 58,
     "metadata": {},
     "output_type": "execute_result"
    }
   ],
   "source": [
    "(\n",
    "    df\n",
    "    .select('trany')\n",
    "    .sample(n=5)\n",
    ")"
   ]
  },
  {
   "cell_type": "markdown",
   "id": "1b795f84-4f7b-4413-a362-83c932a024a1",
   "metadata": {},
   "source": [
    "For machine learning on this data, we gain more information if we split this into two columns."
   ]
  },
  {
   "cell_type": "code",
   "execution_count": 59,
   "id": "d0cbd163-6fa7-4b70-9d68-c2a464e52d93",
   "metadata": {},
   "outputs": [
    {
     "data": {
      "text/html": [
       "<div><style>\n",
       ".dataframe > thead > tr,\n",
       ".dataframe > tbody > tr {\n",
       "  text-align: right;\n",
       "  white-space: pre-wrap;\n",
       "}\n",
       "</style>\n",
       "<small>shape: (3, 2)</small><table border=\"1\" class=\"dataframe\"><thead><tr><th>trany</th><th>automatic</th></tr><tr><td>str</td><td>bool</td></tr></thead><tbody><tr><td>&quot;Automatic 3-spd&quot;</td><td>true</td></tr><tr><td>&quot;Automatic (AV-S7)&quot;</td><td>true</td></tr><tr><td>&quot;Automatic 6-spd&quot;</td><td>true</td></tr></tbody></table></div>"
      ],
      "text/plain": [
       "shape: (3, 2)\n",
       "+-------------------+-----------+\n",
       "| trany             | automatic |\n",
       "| ---               | ---       |\n",
       "| str               | bool      |\n",
       "+===============================+\n",
       "| Automatic 3-spd   | true      |\n",
       "| Automatic (AV-S7) | true      |\n",
       "| Automatic 6-spd   | true      |\n",
       "+-------------------+-----------+"
      ]
     },
     "execution_count": 59,
     "metadata": {},
     "output_type": "execute_result"
    }
   ],
   "source": [
    "(\n",
    "    df\n",
    "    .select(\n",
    "        'trany',  # just retrieving the column for reference\n",
    "        pl.col('trany') # creating a column expression\n",
    "            .str.to_lowercase()\n",
    "            .str.contains('automatic')\n",
    "            .alias('automatic')\n",
    "    ).sample(n=3)\n",
    ")"
   ]
  },
  {
   "cell_type": "markdown",
   "id": "1cd65db6-45c5-4abb-8d0a-9333746476e2",
   "metadata": {},
   "source": [
    "Now, move this expression from the `.select` operation to the `.with_columns` chain.\n",
    "\n",
    "We use `.alias` method to set the column's name."
   ]
  },
  {
   "cell_type": "code",
   "execution_count": 60,
   "id": "c5f07440-6814-48c6-bcea-6ceebe7c49e6",
   "metadata": {},
   "outputs": [
    {
     "data": {
      "text/html": [
       "<div><style>\n",
       ".dataframe > thead > tr,\n",
       ".dataframe > tbody > tr {\n",
       "  text-align: right;\n",
       "  white-space: pre-wrap;\n",
       "}\n",
       "</style>\n",
       "<small>shape: (3, 3)</small><table border=\"1\" class=\"dataframe\"><thead><tr><th>make</th><th>trany</th><th>is_automatic</th></tr><tr><td>str</td><td>str</td><td>bool</td></tr></thead><tbody><tr><td>&quot;Buick&quot;</td><td>&quot;Manual 5-spd&quot;</td><td>false</td></tr><tr><td>&quot;BMW&quot;</td><td>&quot;Automatic 4-spd&quot;</td><td>true</td></tr><tr><td>&quot;Subaru&quot;</td><td>&quot;Manual 5-spd&quot;</td><td>false</td></tr></tbody></table></div>"
      ],
      "text/plain": [
       "shape: (3, 3)\n",
       "+--------+-----------------+--------------+\n",
       "| make   | trany           | is_automatic |\n",
       "| ---    | ---             | ---          |\n",
       "| str    | str             | bool         |\n",
       "+=========================================+\n",
       "| Buick  | Manual 5-spd    | false        |\n",
       "| BMW    | Automatic 4-spd | true         |\n",
       "| Subaru | Manual 5-spd    | false        |\n",
       "+--------+-----------------+--------------+"
      ]
     },
     "execution_count": 60,
     "metadata": {},
     "output_type": "execute_result"
    }
   ],
   "source": [
    "(\n",
    "    df\n",
    "    .with_columns(\n",
    "        'trany',\n",
    "        pl.col('trany')\n",
    "            .str.to_lowercase()\n",
    "            .str.contains('automatic')\n",
    "            .alias('is_automatic')\n",
    "    )\n",
    "    .select('make', 'trany', 'is_automatic')\n",
    "    .sample(n=3)\n",
    ")"
   ]
  },
  {
   "cell_type": "markdown",
   "id": "a6f59494-71df-4f04-a55e-eb3096442975",
   "metadata": {},
   "source": [
    "We can use a keyword argument to set the column name, instead using `.alias`"
   ]
  },
  {
   "cell_type": "code",
   "execution_count": 61,
   "id": "fe61a4c9-c71a-45c8-b3a4-1da2d476e6fe",
   "metadata": {},
   "outputs": [
    {
     "data": {
      "text/html": [
       "<div><style>\n",
       ".dataframe > thead > tr,\n",
       ".dataframe > tbody > tr {\n",
       "  text-align: right;\n",
       "  white-space: pre-wrap;\n",
       "}\n",
       "</style>\n",
       "<small>shape: (3, 3)</small><table border=\"1\" class=\"dataframe\"><thead><tr><th>make</th><th>trany</th><th>is_automatic</th></tr><tr><td>str</td><td>str</td><td>bool</td></tr></thead><tbody><tr><td>&quot;Chevrolet&quot;</td><td>&quot;Automatic 4-spd&quot;</td><td>true</td></tr><tr><td>&quot;Honda&quot;</td><td>&quot;Automatic 4-spd&quot;</td><td>true</td></tr><tr><td>&quot;Mercury&quot;</td><td>&quot;Automatic 6-spd&quot;</td><td>true</td></tr></tbody></table></div>"
      ],
      "text/plain": [
       "shape: (3, 3)\n",
       "+-----------+-----------------+--------------+\n",
       "| make      | trany           | is_automatic |\n",
       "| ---       | ---             | ---          |\n",
       "| str       | str             | bool         |\n",
       "+============================================+\n",
       "| Chevrolet | Automatic 4-spd | true         |\n",
       "| Honda     | Automatic 4-spd | true         |\n",
       "| Mercury   | Automatic 6-spd | true         |\n",
       "+-----------+-----------------+--------------+"
      ]
     },
     "execution_count": 61,
     "metadata": {},
     "output_type": "execute_result"
    }
   ],
   "source": [
    "(\n",
    "    df\n",
    "    .with_columns(\n",
    "        'trany',\n",
    "        is_automatic = pl.col('trany')\n",
    "            .str.to_lowercase()\n",
    "            .str.contains('automatic')\n",
    "\n",
    "    )\n",
    "    .select('make', 'trany', 'is_automatic')\n",
    "    .sample(n=3)\n",
    ")"
   ]
  },
  {
   "cell_type": "markdown",
   "id": "ac356cee-3a69-46a9-aba5-60331df47b4c",
   "metadata": {},
   "source": [
    "\n",
    "We can check how many different entries there are for the *trany* column."
   ]
  },
  {
   "cell_type": "code",
   "execution_count": 62,
   "id": "0c1650ca-ac95-4c53-b718-96ba6955f196",
   "metadata": {},
   "outputs": [
    {
     "name": "stderr",
     "output_type": "stream",
     "text": [
      "estimated unique values: 1121\n",
      "estimated unique count: 1121 exceeded the boundary: 1000, running default HASH AGGREGATION\n"
     ]
    },
    {
     "data": {
      "text/html": [
       "<div><style>\n",
       ".dataframe > thead > tr,\n",
       ".dataframe > tbody > tr {\n",
       "  text-align: right;\n",
       "  white-space: pre-wrap;\n",
       "}\n",
       "</style>\n",
       "<small>shape: (41, 2)</small><table border=\"1\" class=\"dataframe\"><thead><tr><th>trany</th><th>len</th></tr><tr><td>str</td><td>u32</td></tr></thead><tbody><tr><td>&quot;Automatic 4-spd&quot;</td><td>11048</td></tr><tr><td>&quot;Manual 5-spd&quot;</td><td>8392</td></tr><tr><td>&quot;Automatic (S6)&quot;</td><td>3352</td></tr><tr><td>&quot;Automatic (S8)&quot;</td><td>3292</td></tr><tr><td>&quot;Automatic 3-spd&quot;</td><td>3151</td></tr><tr><td>&hellip;</td><td>&hellip;</td></tr><tr><td>null</td><td>11</td></tr><tr><td>&quot;Automatic (AM-S9)&quot;</td><td>6</td></tr><tr><td>&quot;Automatic (L3)&quot;</td><td>2</td></tr><tr><td>&quot;Automatic (L4)&quot;</td><td>2</td></tr><tr><td>&quot;Automatic (AM-S10)&quot;</td><td>2</td></tr></tbody></table></div>"
      ],
      "text/plain": [
       "shape: (41, 2)\n",
       "+--------------------+-------+\n",
       "| trany              | len   |\n",
       "| ---                | ---   |\n",
       "| str                | u32   |\n",
       "+============================+\n",
       "| Automatic 4-spd    | 11048 |\n",
       "| Manual 5-spd       | 8392  |\n",
       "| Automatic (S6)     | 3352  |\n",
       "| Automatic (S8)     | 3292  |\n",
       "| Automatic 3-spd    | 3151  |\n",
       "| …                  | …     |\n",
       "| null               | 11    |\n",
       "| Automatic (AM-S9)  | 6     |\n",
       "| Automatic (L3)     | 2     |\n",
       "| Automatic (L4)     | 2     |\n",
       "| Automatic (AM-S10) | 2     |\n",
       "+--------------------+-------+"
      ]
     },
     "execution_count": 62,
     "metadata": {},
     "output_type": "execute_result"
    }
   ],
   "source": [
    "(\n",
    "    df\n",
    "    .group_by('trany')\n",
    "    .len()\n",
    "    .sort(by='len', descending=True)\n",
    ")"
   ]
  },
  {
   "cell_type": "markdown",
   "id": "6887897d-78b1-4569-b3d9-281afc7eb52f",
   "metadata": {},
   "source": [
    "\n",
    "The `.value_counts` expression creates a column with a struct of value and count."
   ]
  },
  {
   "cell_type": "code",
   "execution_count": 63,
   "id": "abc4578d-2c8a-4b92-99d6-591bd813bd92",
   "metadata": {},
   "outputs": [
    {
     "data": {
      "text/html": [
       "<div><style>\n",
       ".dataframe > thead > tr,\n",
       ".dataframe > tbody > tr {\n",
       "  text-align: right;\n",
       "  white-space: pre-wrap;\n",
       "}\n",
       "</style>\n",
       "<small>shape: (41, 1)</small><table border=\"1\" class=\"dataframe\"><thead><tr><th>trany</th></tr><tr><td>struct[2]</td></tr></thead><tbody><tr><td>{&quot;Automatic 4-spd&quot;,11048}</td></tr><tr><td>{&quot;Manual 5-spd&quot;,8392}</td></tr><tr><td>{&quot;Automatic (S6)&quot;,3352}</td></tr><tr><td>{&quot;Automatic (S8)&quot;,3292}</td></tr><tr><td>{&quot;Automatic 3-spd&quot;,3151}</td></tr><tr><td>&hellip;</td></tr><tr><td>{null,11}</td></tr><tr><td>{&quot;Automatic (AM-S9)&quot;,6}</td></tr><tr><td>{&quot;Automatic (L4)&quot;,2}</td></tr><tr><td>{&quot;Automatic (L3)&quot;,2}</td></tr><tr><td>{&quot;Automatic (AM-S10)&quot;,2}</td></tr></tbody></table></div>"
      ],
      "text/plain": [
       "shape: (41, 1)\n",
       "+---------------------------+\n",
       "| trany                     |\n",
       "| ---                       |\n",
       "| struct[2]                 |\n",
       "+===========================+\n",
       "| {\"Automatic 4-spd\",11048} |\n",
       "| {\"Manual 5-spd\",8392}     |\n",
       "| {\"Automatic (S6)\",3352}   |\n",
       "| {\"Automatic (S8)\",3292}   |\n",
       "| {\"Automatic 3-spd\",3151}  |\n",
       "| …                         |\n",
       "| {null,11}                 |\n",
       "| {\"Automatic (AM-S9)\",6}   |\n",
       "| {\"Automatic (L4)\",2}      |\n",
       "| {\"Automatic (L3)\",2}      |\n",
       "| {\"Automatic (AM-S10)\",2}  |\n",
       "+---------------------------+"
      ]
     },
     "execution_count": 63,
     "metadata": {},
     "output_type": "execute_result"
    }
   ],
   "source": [
    "# Creating a struct with value_counts\n",
    "(\n",
    "    df\n",
    "    .select(\n",
    "        pl.col('trany')\n",
    "        .value_counts(sort=True)\n",
    "    )\n",
    ")"
   ]
  },
  {
   "cell_type": "markdown",
   "id": "46e2b004-8922-458e-90b8-11794f45f617",
   "metadata": {},
   "source": [
    "You can unnest it to get the same results as above. This pulls the struct into separate columns."
   ]
  },
  {
   "cell_type": "code",
   "execution_count": 64,
   "id": "6ea4e341-7b9c-43a5-8005-5ae7b039ea74",
   "metadata": {},
   "outputs": [
    {
     "data": {
      "text/html": [
       "<div><style>\n",
       ".dataframe > thead > tr,\n",
       ".dataframe > tbody > tr {\n",
       "  text-align: right;\n",
       "  white-space: pre-wrap;\n",
       "}\n",
       "</style>\n",
       "<small>shape: (41, 2)</small><table border=\"1\" class=\"dataframe\"><thead><tr><th>trany</th><th>count</th></tr><tr><td>str</td><td>u32</td></tr></thead><tbody><tr><td>&quot;Automatic 4-spd&quot;</td><td>11048</td></tr><tr><td>&quot;Manual 5-spd&quot;</td><td>8392</td></tr><tr><td>&quot;Automatic (S6)&quot;</td><td>3352</td></tr><tr><td>&quot;Automatic (S8)&quot;</td><td>3292</td></tr><tr><td>&quot;Automatic 3-spd&quot;</td><td>3151</td></tr><tr><td>&hellip;</td><td>&hellip;</td></tr><tr><td>null</td><td>11</td></tr><tr><td>&quot;Automatic (AM-S9)&quot;</td><td>6</td></tr><tr><td>&quot;Automatic (L4)&quot;</td><td>2</td></tr><tr><td>&quot;Automatic (L3)&quot;</td><td>2</td></tr><tr><td>&quot;Automatic (AM-S10)&quot;</td><td>2</td></tr></tbody></table></div>"
      ],
      "text/plain": [
       "shape: (41, 2)\n",
       "+--------------------+-------+\n",
       "| trany              | count |\n",
       "| ---                | ---   |\n",
       "| str                | u32   |\n",
       "+============================+\n",
       "| Automatic 4-spd    | 11048 |\n",
       "| Manual 5-spd       | 8392  |\n",
       "| Automatic (S6)     | 3352  |\n",
       "| Automatic (S8)     | 3292  |\n",
       "| Automatic 3-spd    | 3151  |\n",
       "| …                  | …     |\n",
       "| null               | 11    |\n",
       "| Automatic (AM-S9)  | 6     |\n",
       "| Automatic (L4)     | 2     |\n",
       "| Automatic (L3)     | 2     |\n",
       "| Automatic (AM-S10) | 2     |\n",
       "+--------------------+-------+"
      ]
     },
     "execution_count": 64,
     "metadata": {},
     "output_type": "execute_result"
    }
   ],
   "source": [
    "# Using unnest to pull struct into separate columns\n",
    "(\n",
    "    df\n",
    "    .select(\n",
    "        pl.col('trany')\n",
    "        .value_counts(sort=True)\n",
    "    )\n",
    "    .unnest('trany')\n",
    ")"
   ]
  },
  {
   "cell_type": "markdown",
   "id": "67a254bd-f4a4-44f0-9fd2-827535272f7f",
   "metadata": {},
   "source": [
    "Here are the rows where the *trany* is missing."
   ]
  },
  {
   "cell_type": "code",
   "execution_count": 65,
   "id": "b4556976-f753-4287-97bc-27fb30a3b6a9",
   "metadata": {},
   "outputs": [
    {
     "name": "stdout",
     "output_type": "stream",
     "text": [
      "shape: (11, 5)\n",
      "+------+-------+--------+------------------------+-----------------------------+\n",
      "| year | trany | make   | model                  | VClass                      |\n",
      "| ---  | ---   | ---    | ---                    | ---                         |\n",
      "| i64  | str   | str    | str                    | str                         |\n",
      "+==============================================================================+\n",
      "| 2000 | null  | Nissan | Altra EV               | Midsize Station Wagons      |\n",
      "| 2000 | null  | Toyota | RAV4 EV                | Sport Utility Vehicle - 2WD |\n",
      "| 2001 | null  | Toyota | RAV4 EV                | Sport Utility Vehicle - 2WD |\n",
      "| 2001 | null  | Ford   | Th!nk                  | Two Seaters                 |\n",
      "| 2001 | null  | Ford   | Explorer USPS Electric | Sport Utility Vehicle - 2WD |\n",
      "| …    | …     | …      | …                      | …                           |\n",
      "| 2002 | null  | Toyota | RAV4 EV                | Sport Utility Vehicle - 2WD |\n",
      "| 2002 | null  | Ford   | Explorer USPS Electric | Sport Utility Vehicle - 2WD |\n",
      "| 2003 | null  | Toyota | RAV4 EV                | Sport Utility Vehicle - 2WD |\n",
      "| 1984 | null  | Ford   | F150 Pickup 2WD        | Standard Pickup Trucks 2WD  |\n",
      "| 1984 | null  | GMC    | C25 Pickup 2WD         | Standard Pickup Trucks 2WD  |\n",
      "+------+-------+--------+------------------------+-----------------------------+\n"
     ]
    },
    {
     "name": "stderr",
     "output_type": "stream",
     "text": [
      "dataframe filtered\n"
     ]
    }
   ],
   "source": [
    "print(\n",
    "    df\n",
    "    .filter(pl.col('trany').is_null())\n",
    "    .select('year', 'trany', 'make', 'model', 'VClass')\n",
    ")"
   ]
  },
  {
   "cell_type": "markdown",
   "id": "754ca6ed-766c-43c0-b247-c0be0658731f",
   "metadata": {},
   "source": [
    "This is code to handle the transmission type extraction:"
   ]
  },
  {
   "cell_type": "code",
   "execution_count": 66,
   "id": "1b1ba2ab-f739-4ca4-9374-1a197fad5c98",
   "metadata": {},
   "outputs": [
    {
     "data": {
      "text/html": [
       "<div><style>\n",
       ".dataframe > thead > tr,\n",
       ".dataframe > tbody > tr {\n",
       "  text-align: right;\n",
       "  white-space: pre-wrap;\n",
       "}\n",
       "</style>\n",
       "<small>shape: (48_202, 2)</small><table border=\"1\" class=\"dataframe\"><thead><tr><th>trany</th><th>is_automatic</th></tr><tr><td>str</td><td>bool</td></tr></thead><tbody><tr><td>null</td><td>true</td></tr><tr><td>null</td><td>true</td></tr><tr><td>null</td><td>true</td></tr><tr><td>null</td><td>true</td></tr><tr><td>null</td><td>true</td></tr><tr><td>&hellip;</td><td>&hellip;</td></tr><tr><td>&quot;Manual 7-spd&quot;</td><td>false</td></tr><tr><td>&quot;Manual 7-spd&quot;</td><td>false</td></tr><tr><td>&quot;Manual 7-spd&quot;</td><td>false</td></tr><tr><td>&quot;Manual 7-spd&quot;</td><td>false</td></tr><tr><td>&quot;Manual 7-spd&quot;</td><td>false</td></tr></tbody></table></div>"
      ],
      "text/plain": [
       "shape: (48_202, 2)\n",
       "+--------------+--------------+\n",
       "| trany        | is_automatic |\n",
       "| ---          | ---          |\n",
       "| str          | bool         |\n",
       "+=============================+\n",
       "| null         | true         |\n",
       "| null         | true         |\n",
       "| null         | true         |\n",
       "| null         | true         |\n",
       "| null         | true         |\n",
       "| …            | …            |\n",
       "| Manual 7-spd | false        |\n",
       "| Manual 7-spd | false        |\n",
       "| Manual 7-spd | false        |\n",
       "| Manual 7-spd | false        |\n",
       "| Manual 7-spd | false        |\n",
       "+--------------+--------------+"
      ]
     },
     "execution_count": 66,
     "metadata": {},
     "output_type": "execute_result"
    }
   ],
   "source": [
    "(\n",
    "    df\n",
    "    .select(\n",
    "        'trany',\n",
    "        pl.col('trany')\n",
    "            .str.contains('Automatic')\n",
    "            .fill_null(True)\n",
    "            .alias('is_automatic')\n",
    "    ).sort(\"trany\")\n",
    ")"
   ]
  },
  {
   "cell_type": "markdown",
   "id": "ce80e089-18a9-448d-bd46-3cc780833210",
   "metadata": {},
   "source": [
    "* Pull out the other bit of information in the *trany* column, which is the number of gears.\n",
    "* Use a regular expression to extract the number of gears or speeds.\n",
    "* For this, use the `.str` accessor again, but with the `.extract` method this time.\n",
    "* `.extract` uses a regular expression and returns a new column with the extracted views.\n",
    "* Use the regular expression `(\\d+)` to extract the digits."
   ]
  },
  {
   "cell_type": "code",
   "execution_count": 67,
   "id": "5a72be4d-e929-42d8-a97e-8e918c358c71",
   "metadata": {},
   "outputs": [
    {
     "data": {
      "text/html": [
       "<div><style>\n",
       ".dataframe > thead > tr,\n",
       ".dataframe > tbody > tr {\n",
       "  text-align: right;\n",
       "  white-space: pre-wrap;\n",
       "}\n",
       "</style>\n",
       "<small>shape: (48_202, 1)</small><table border=\"1\" class=\"dataframe\"><thead><tr><th>num_gears</th></tr><tr><td>str</td></tr></thead><tbody><tr><td>&quot;Manual 5-spd&quot;</td></tr><tr><td>&quot;Manual 5-spd&quot;</td></tr><tr><td>&quot;Manual 5-spd&quot;</td></tr><tr><td>&quot;Automatic 3-spd&quot;</td></tr><tr><td>&quot;Manual 5-spd&quot;</td></tr><tr><td>&hellip;</td></tr><tr><td>&quot;Automatic 4-spd&quot;</td></tr><tr><td>&quot;Manual 5-spd&quot;</td></tr><tr><td>&quot;Automatic 4-spd&quot;</td></tr><tr><td>&quot;Manual 5-spd&quot;</td></tr><tr><td>&quot;Automatic 4-spd&quot;</td></tr></tbody></table></div>"
      ],
      "text/plain": [
       "shape: (48_202, 1)\n",
       "+-----------------+\n",
       "| num_gears       |\n",
       "| ---             |\n",
       "| str             |\n",
       "+=================+\n",
       "| Manual 5-spd    |\n",
       "| Manual 5-spd    |\n",
       "| Manual 5-spd    |\n",
       "| Automatic 3-spd |\n",
       "| Manual 5-spd    |\n",
       "| …               |\n",
       "| Automatic 4-spd |\n",
       "| Manual 5-spd    |\n",
       "| Automatic 4-spd |\n",
       "| Manual 5-spd    |\n",
       "| Automatic 4-spd |\n",
       "+-----------------+"
      ]
     },
     "execution_count": 67,
     "metadata": {},
     "output_type": "execute_result"
    }
   ],
   "source": [
    "(\n",
    "    df\n",
    "    .select(\n",
    "        num_gears=pl.col('trany')\n",
    "    )\n",
    ")"
   ]
  },
  {
   "cell_type": "code",
   "execution_count": 68,
   "id": "c958f84e-7f93-42da-aa38-14c9cbe4e515",
   "metadata": {},
   "outputs": [
    {
     "data": {
      "text/html": [
       "<div><style>\n",
       ".dataframe > thead > tr,\n",
       ".dataframe > tbody > tr {\n",
       "  text-align: right;\n",
       "  white-space: pre-wrap;\n",
       "}\n",
       "</style>\n",
       "<small>shape: (48_202, 1)</small><table border=\"1\" class=\"dataframe\"><thead><tr><th>num_gears</th></tr><tr><td>u8</td></tr></thead><tbody><tr><td>5</td></tr><tr><td>5</td></tr><tr><td>5</td></tr><tr><td>3</td></tr><tr><td>5</td></tr><tr><td>&hellip;</td></tr><tr><td>4</td></tr><tr><td>5</td></tr><tr><td>4</td></tr><tr><td>5</td></tr><tr><td>4</td></tr></tbody></table></div>"
      ],
      "text/plain": [
       "shape: (48_202, 1)\n",
       "+-----------+\n",
       "| num_gears |\n",
       "| ---       |\n",
       "| u8        |\n",
       "+===========+\n",
       "| 5         |\n",
       "| 5         |\n",
       "| 5         |\n",
       "| 3         |\n",
       "| 5         |\n",
       "| …         |\n",
       "| 4         |\n",
       "| 5         |\n",
       "| 4         |\n",
       "| 5         |\n",
       "| 4         |\n",
       "+-----------+"
      ]
     },
     "execution_count": 68,
     "metadata": {},
     "output_type": "execute_result"
    }
   ],
   "source": [
    "(\n",
    "    df\n",
    "    .select(\n",
    "        num_gears=pl.col('trany')\n",
    "            .str.extract(r'(\\d+)')\n",
    "            .cast(pl.UInt8)\n",
    "    )\n",
    ")"
   ]
  },
  {
   "cell_type": "markdown",
   "id": "855b6d32-a2e4-4bdf-8acc-f7e530507a08",
   "metadata": {},
   "source": [
    "Next:\n",
    "\n",
    "* Chain a call to `.unique` to see what values are in the column.\n",
    "* Regex expressions can be very complex.\n",
    "* Here, we want to ensure we get things like 10-speed transmissions or rows with no number of gears."
   ]
  },
  {
   "cell_type": "code",
   "execution_count": 69,
   "id": "3dcd2c8e-910f-4aca-9336-b34961f765b7",
   "metadata": {},
   "outputs": [
    {
     "data": {
      "text/html": [
       "<div><style>\n",
       ".dataframe > thead > tr,\n",
       ".dataframe > tbody > tr {\n",
       "  text-align: right;\n",
       "  white-space: pre-wrap;\n",
       "}\n",
       "</style>\n",
       "<small>shape: (11, 1)</small><table border=\"1\" class=\"dataframe\"><thead><tr><th>num_gears</th></tr><tr><td>u8</td></tr></thead><tbody><tr><td>null</td></tr><tr><td>1</td></tr><tr><td>2</td></tr><tr><td>3</td></tr><tr><td>4</td></tr><tr><td>&hellip;</td></tr><tr><td>6</td></tr><tr><td>7</td></tr><tr><td>8</td></tr><tr><td>9</td></tr><tr><td>10</td></tr></tbody></table></div>"
      ],
      "text/plain": [
       "shape: (11, 1)\n",
       "+-----------+\n",
       "| num_gears |\n",
       "| ---       |\n",
       "| u8        |\n",
       "+===========+\n",
       "| null      |\n",
       "| 1         |\n",
       "| 2         |\n",
       "| 3         |\n",
       "| 4         |\n",
       "| …         |\n",
       "| 6         |\n",
       "| 7         |\n",
       "| 8         |\n",
       "| 9         |\n",
       "| 10        |\n",
       "+-----------+"
      ]
     },
     "execution_count": 69,
     "metadata": {},
     "output_type": "execute_result"
    }
   ],
   "source": [
    "(\n",
    "    df\n",
    "    .select(\n",
    "        num_gears=pl.col('trany')\n",
    "            .str.extract(r'(\\d+)')\n",
    "            .cast(pl.UInt8)\n",
    "            .unique()\n",
    "    )\n",
    ")"
   ]
  },
  {
   "cell_type": "markdown",
   "id": "2e6979a5-8c07-44fb-993e-aacb103601ff",
   "metadata": {},
   "source": [
    "Next,\n",
    "\n",
    "* See where where those values are missing."
   ]
  },
  {
   "cell_type": "code",
   "execution_count": 70,
   "id": "cb0d52ed-0d5e-458d-bd7d-02500fa8e0db",
   "metadata": {},
   "outputs": [
    {
     "name": "stderr",
     "output_type": "stream",
     "text": [
      "dataframe filtered\n"
     ]
    },
    {
     "data": {
      "text/html": [
       "<div><style>\n",
       ".dataframe > thead > tr,\n",
       ".dataframe > tbody > tr {\n",
       "  text-align: right;\n",
       "  white-space: pre-wrap;\n",
       "}\n",
       "</style>\n",
       "<small>shape: (1_141, 2)</small><table border=\"1\" class=\"dataframe\"><thead><tr><th>make</th><th>num_gears</th></tr><tr><td>str</td><td>u8</td></tr></thead><tbody><tr><td>&quot;Honda&quot;</td><td>null</td></tr><tr><td>&quot;Honda&quot;</td><td>null</td></tr><tr><td>&quot;Honda&quot;</td><td>null</td></tr><tr><td>&quot;Honda&quot;</td><td>null</td></tr><tr><td>&quot;Honda&quot;</td><td>null</td></tr><tr><td>&hellip;</td><td>&hellip;</td></tr><tr><td>&quot;Subaru&quot;</td><td>null</td></tr><tr><td>&quot;Subaru&quot;</td><td>null</td></tr><tr><td>&quot;Subaru&quot;</td><td>null</td></tr><tr><td>&quot;Subaru&quot;</td><td>null</td></tr><tr><td>&quot;Subaru&quot;</td><td>null</td></tr></tbody></table></div>"
      ],
      "text/plain": [
       "shape: (1_141, 2)\n",
       "+--------+-----------+\n",
       "| make   | num_gears |\n",
       "| ---    | ---       |\n",
       "| str    | u8        |\n",
       "+====================+\n",
       "| Honda  | null      |\n",
       "| Honda  | null      |\n",
       "| Honda  | null      |\n",
       "| Honda  | null      |\n",
       "| Honda  | null      |\n",
       "| …      | …         |\n",
       "| Subaru | null      |\n",
       "| Subaru | null      |\n",
       "| Subaru | null      |\n",
       "| Subaru | null      |\n",
       "| Subaru | null      |\n",
       "+--------+-----------+"
      ]
     },
     "execution_count": 70,
     "metadata": {},
     "output_type": "execute_result"
    }
   ],
   "source": [
    "(\n",
    "    df\n",
    "    .select(\n",
    "        \"make\",\n",
    "        num_gears=pl.col('trany')\n",
    "            .str.extract(r'(\\d+)')\n",
    "            .cast(pl.UInt8),\n",
    "    )\n",
    "    .filter(pl.col('num_gears').is_null())\n",
    ")"
   ]
  },
  {
   "cell_type": "markdown",
   "id": "e2cbad96-9f5b-4ecf-a424-5eefdfca6fd6",
   "metadata": {},
   "source": [
    "Next,\n",
    "\n",
    "* Set missing gears to 6\n",
    "* Combine both new columns to the data"
   ]
  },
  {
   "cell_type": "code",
   "execution_count": 71,
   "id": "8bacb02e-fcc1-42c7-aaac-484fa3c14e75",
   "metadata": {},
   "outputs": [
    {
     "data": {
      "text/html": [
       "<div><style>\n",
       ".dataframe > thead > tr,\n",
       ".dataframe > tbody > tr {\n",
       "  text-align: right;\n",
       "  white-space: pre-wrap;\n",
       "}\n",
       "</style>\n",
       "<small>shape: (48_202, 3)</small><table border=\"1\" class=\"dataframe\"><thead><tr><th>trany</th><th>is_automatic</th><th>num_gears</th></tr><tr><td>str</td><td>bool</td><td>u8</td></tr></thead><tbody><tr><td>&quot;Manual 5-spd&quot;</td><td>false</td><td>5</td></tr><tr><td>&quot;Manual 5-spd&quot;</td><td>false</td><td>5</td></tr><tr><td>&quot;Manual 5-spd&quot;</td><td>false</td><td>5</td></tr><tr><td>&quot;Automatic 3-spd&quot;</td><td>true</td><td>3</td></tr><tr><td>&quot;Manual 5-spd&quot;</td><td>false</td><td>5</td></tr><tr><td>&hellip;</td><td>&hellip;</td><td>&hellip;</td></tr><tr><td>&quot;Automatic 4-spd&quot;</td><td>true</td><td>4</td></tr><tr><td>&quot;Manual 5-spd&quot;</td><td>false</td><td>5</td></tr><tr><td>&quot;Automatic 4-spd&quot;</td><td>true</td><td>4</td></tr><tr><td>&quot;Manual 5-spd&quot;</td><td>false</td><td>5</td></tr><tr><td>&quot;Automatic 4-spd&quot;</td><td>true</td><td>4</td></tr></tbody></table></div>"
      ],
      "text/plain": [
       "shape: (48_202, 3)\n",
       "+-----------------+--------------+-----------+\n",
       "| trany           | is_automatic | num_gears |\n",
       "| ---             | ---          | ---       |\n",
       "| str             | bool         | u8        |\n",
       "+============================================+\n",
       "| Manual 5-spd    | false        | 5         |\n",
       "| Manual 5-spd    | false        | 5         |\n",
       "| Manual 5-spd    | false        | 5         |\n",
       "| Automatic 3-spd | true         | 3         |\n",
       "| Manual 5-spd    | false        | 5         |\n",
       "| …               | …            | …         |\n",
       "| Automatic 4-spd | true         | 4         |\n",
       "| Manual 5-spd    | false        | 5         |\n",
       "| Automatic 4-spd | true         | 4         |\n",
       "| Manual 5-spd    | false        | 5         |\n",
       "| Automatic 4-spd | true         | 4         |\n",
       "+-----------------+--------------+-----------+"
      ]
     },
     "execution_count": 71,
     "metadata": {},
     "output_type": "execute_result"
    }
   ],
   "source": [
    "(\n",
    "    df\n",
    "    .with_columns(\n",
    "        is_automatic=pl.col('trany')\n",
    "            .str.contains('Automatic')\n",
    "            .fill_null(True),\n",
    "        num_gears = pl.col('trany')\n",
    "            .str.extract(r'(\\d+)')\n",
    "            .cast(pl.UInt8)\n",
    "            .fill_null(6)\n",
    "    )\n",
    "    .select('trany', 'is_automatic', 'num_gears')\n",
    ")"
   ]
  },
  {
   "cell_type": "markdown",
   "id": "fa50d385-e376-4689-bd67-43ff07332cce",
   "metadata": {},
   "source": [
    "Now, instead of a column that looks pretty but has data encoded in a string, we have two columns that we can use for analysis."
   ]
  },
  {
   "cell_type": "markdown",
   "id": "d43d78ac-c9f9-4e37-a8fa-7867fc8b9e3e",
   "metadata": {},
   "source": [
    "---\n",
    "# 1.12 String Columns\n",
    "[back to top](#Top)\n",
    "\n",
    "* We can change the data type from a string to a categorical type.\n",
    "* We may also want to change from a string to the date type.\n",
    "* Use the column expression `pl.col(pl.String)` to select and examine Utf-8 type columns.\n",
    "* In Polars, `pl.Utf8` and `pl.String` are synonyms.\n"
   ]
  },
  {
   "cell_type": "code",
   "execution_count": 72,
   "id": "cff93bfc-006e-45c1-9cb2-82c1f2836e15",
   "metadata": {},
   "outputs": [
    {
     "data": {
      "text/html": [
       "<div><style>\n",
       ".dataframe > thead > tr,\n",
       ".dataframe > tbody > tr {\n",
       "  text-align: right;\n",
       "  white-space: pre-wrap;\n",
       "}\n",
       "</style>\n",
       "<small>shape: (3, 13)</small><table border=\"1\" class=\"dataframe\"><thead><tr><th>year</th><th>make</th><th>model</th><th>displ</th><th>cylinders</th><th>trany</th><th>drive</th><th>VClass</th><th>fuelType</th><th>barrels08</th><th>city08</th><th>highway08</th><th>createdOn</th></tr><tr><td>i16</td><td>str</td><td>str</td><td>f32</td><td>u8</td><td>str</td><td>str</td><td>str</td><td>str</td><td>f32</td><td>u8</td><td>u8</td><td>str</td></tr></thead><tbody><tr><td>1985</td><td>&quot;Alfa Romeo&quot;</td><td>&quot;Spider Veloce 2000&quot;</td><td>2.0</td><td>4</td><td>&quot;Manual 5-spd&quot;</td><td>&quot;Rear-Wheel Drive&quot;</td><td>&quot;Two Seaters&quot;</td><td>&quot;Regular&quot;</td><td>14.167143</td><td>19</td><td>25</td><td>&quot;Tue Jan 01 00:00:00 EST 2013&quot;</td></tr><tr><td>1985</td><td>&quot;Ferrari&quot;</td><td>&quot;Testarossa&quot;</td><td>4.9</td><td>12</td><td>&quot;Manual 5-spd&quot;</td><td>&quot;Rear-Wheel Drive&quot;</td><td>&quot;Two Seaters&quot;</td><td>&quot;Regular&quot;</td><td>27.046364</td><td>9</td><td>14</td><td>&quot;Tue Jan 01 00:00:00 EST 2013&quot;</td></tr><tr><td>1985</td><td>&quot;Dodge&quot;</td><td>&quot;Charger&quot;</td><td>2.2</td><td>4</td><td>&quot;Manual 5-spd&quot;</td><td>&quot;Front-Wheel Drive&quot;</td><td>&quot;Subcompact Cars&quot;</td><td>&quot;Regular&quot;</td><td>11.018888</td><td>23</td><td>33</td><td>&quot;Tue Jan 01 00:00:00 EST 2013&quot;</td></tr></tbody></table></div>"
      ],
      "text/plain": [
       "shape: (3, 13)\n",
       "+-----+-----+-----+-------+--------+-------+-------+-------+-------+-------+-------+-------+-------+\n",
       "| yea | mak | mod | displ | cylind | trany | drive | VClas | fuelT | barre | city0 | highw | creat |\n",
       "| r   | e   | el  | ---   | ers    | ---   | ---   | s     | ype   | ls08  | 8     | ay08  | edOn  |\n",
       "| --- | --- | --- | f32   | ---    | str   | str   | ---   | ---   | ---   | ---   | ---   | ---   |\n",
       "| i16 | str | str |       | u8     |       |       | str   | str   | f32   | u8    | u8    | str   |\n",
       "+==================================================================================================+\n",
       "| 198 | Alf | Spi | 2.0   | 4      | Manua | Rear- | Two   | Regul | 14.16 | 19    | 25    | Tue   |\n",
       "| 5   | a   | der |       |        | l     | Wheel | Seate | ar    | 7143  |       |       | Jan   |\n",
       "|     | Rom | Vel |       |        | 5-spd | Drive | rs    |       |       |       |       | 01    |\n",
       "|     | eo  | oce |       |        |       |       |       |       |       |       |       | 00:00 |\n",
       "|     |     | 200 |       |        |       |       |       |       |       |       |       | :00   |\n",
       "|     |     | 0   |       |        |       |       |       |       |       |       |       | EST   |\n",
       "|     |     |     |       |        |       |       |       |       |       |       |       | 2013  |\n",
       "| 198 | Fer | Tes | 4.9   | 12     | Manua | Rear- | Two   | Regul | 27.04 | 9     | 14    | Tue   |\n",
       "| 5   | rar | tar |       |        | l     | Wheel | Seate | ar    | 6364  |       |       | Jan   |\n",
       "|     | i   | oss |       |        | 5-spd | Drive | rs    |       |       |       |       | 01    |\n",
       "|     |     | a   |       |        |       |       |       |       |       |       |       | 00:00 |\n",
       "|     |     |     |       |        |       |       |       |       |       |       |       | :00   |\n",
       "|     |     |     |       |        |       |       |       |       |       |       |       | EST   |\n",
       "|     |     |     |       |        |       |       |       |       |       |       |       | 2013  |\n",
       "| 198 | Dod | Cha | 2.2   | 4      | Manua | Front | Subco | Regul | 11.01 | 23    | 33    | Tue   |\n",
       "| 5   | ge  | rge |       |        | l     | -Whee | mpact | ar    | 8888  |       |       | Jan   |\n",
       "|     |     | r   |       |        | 5-spd | l     | Cars  |       |       |       |       | 01    |\n",
       "|     |     |     |       |        |       | Drive |       |       |       |       |       | 00:00 |\n",
       "|     |     |     |       |        |       |       |       |       |       |       |       | :00   |\n",
       "|     |     |     |       |        |       |       |       |       |       |       |       | EST   |\n",
       "|     |     |     |       |        |       |       |       |       |       |       |       | 2013  |\n",
       "+-----+-----+-----+-------+--------+-------+-------+-------+-------+-------+-------+-------+-------+"
      ]
     },
     "execution_count": 72,
     "metadata": {},
     "output_type": "execute_result"
    }
   ],
   "source": [
    "# Check\n",
    "(\n",
    "    df\n",
    "    .select(pl.col(cols))\n",
    "    .with_columns(\n",
    "        pl.col('year').cast(pl.Int16),\n",
    "        pl.col('cylinders').cast(pl.UInt8),\n",
    "        pl.col('highway08').cast(pl.UInt8),\n",
    "        pl.col('city08').cast(pl.UInt8),\n",
    "        pl.col('displ').cast(pl.Float32),\n",
    "        pl.col('barrels08').cast(pl.Float32)\n",
    "    )\n",
    "    .head(3)\n",
    ")"
   ]
  },
  {
   "cell_type": "markdown",
   "id": "18ec88c3-f7e3-4b4f-ab5c-cef791ce7a30",
   "metadata": {},
   "source": [
    "* The `make`, `model`, `VClass` and `fueltype` columns looks like categorical columns.\n",
    "* They have a limited number of values.\n",
    "* The `trany` column is more complicated, since it has two values:\n",
    "    - The transmission type, and the number of gears\n",
    "* The `createdOn` column is a date.\n",
    "* Convert the categoricals in a single step, passing the columns as a list to `.cast` on  `pl.Categorical`"
   ]
  },
  {
   "cell_type": "code",
   "execution_count": 73,
   "id": "329efc53-669a-4b05-bf6f-6f76e01079c8",
   "metadata": {},
   "outputs": [
    {
     "name": "stderr",
     "output_type": "stream",
     "text": [
      "/var/folders/sb/p6dz60l562q8pzfgzf74gsxm0000gn/T/ipykernel_1914/1834189927.py:5: CategoricalRemappingWarning: Local categoricals have different encodings, expensive re-encoding is done to perform this merge operation. Consider using a StringCache or an Enum type if the categories are known in advance\n",
      "  .with_columns(\n"
     ]
    },
    {
     "data": {
      "text/html": [
       "<div><style>\n",
       ".dataframe > thead > tr,\n",
       ".dataframe > tbody > tr {\n",
       "  text-align: right;\n",
       "  white-space: pre-wrap;\n",
       "}\n",
       "</style>\n",
       "<small>shape: (48_202, 5)</small><table border=\"1\" class=\"dataframe\"><thead><tr><th>make</th><th>model</th><th>VClass</th><th>drive</th><th>fuelType</th></tr><tr><td>cat</td><td>cat</td><td>cat</td><td>cat</td><td>cat</td></tr></thead><tbody><tr><td>&quot;Alfa Romeo&quot;</td><td>&quot;Spider Veloce 2000&quot;</td><td>&quot;Two Seaters&quot;</td><td>&quot;Rear-Wheel Drive&quot;</td><td>&quot;Regular&quot;</td></tr><tr><td>&quot;Ferrari&quot;</td><td>&quot;Testarossa&quot;</td><td>&quot;Two Seaters&quot;</td><td>&quot;Rear-Wheel Drive&quot;</td><td>&quot;Regular&quot;</td></tr><tr><td>&quot;Dodge&quot;</td><td>&quot;Charger&quot;</td><td>&quot;Subcompact Cars&quot;</td><td>&quot;Front-Wheel Drive&quot;</td><td>&quot;Regular&quot;</td></tr><tr><td>&quot;Dodge&quot;</td><td>&quot;B150/B250 Wagon 2WD&quot;</td><td>&quot;Vans&quot;</td><td>&quot;Rear-Wheel Drive&quot;</td><td>&quot;Regular&quot;</td></tr><tr><td>&quot;Subaru&quot;</td><td>&quot;Legacy AWD Turbo&quot;</td><td>&quot;Compact Cars&quot;</td><td>&quot;4-Wheel or All-Wheel Drive&quot;</td><td>&quot;Premium&quot;</td></tr><tr><td>&hellip;</td><td>&hellip;</td><td>&hellip;</td><td>&hellip;</td><td>&hellip;</td></tr><tr><td>&quot;Subaru&quot;</td><td>&quot;Legacy&quot;</td><td>&quot;Compact Cars&quot;</td><td>&quot;Front-Wheel Drive&quot;</td><td>&quot;Regular&quot;</td></tr><tr><td>&quot;Subaru&quot;</td><td>&quot;Legacy&quot;</td><td>&quot;Compact Cars&quot;</td><td>&quot;Front-Wheel Drive&quot;</td><td>&quot;Regular&quot;</td></tr><tr><td>&quot;Subaru&quot;</td><td>&quot;Legacy AWD&quot;</td><td>&quot;Compact Cars&quot;</td><td>&quot;4-Wheel or All-Wheel Drive&quot;</td><td>&quot;Regular&quot;</td></tr><tr><td>&quot;Subaru&quot;</td><td>&quot;Legacy AWD&quot;</td><td>&quot;Compact Cars&quot;</td><td>&quot;4-Wheel or All-Wheel Drive&quot;</td><td>&quot;Regular&quot;</td></tr><tr><td>&quot;Subaru&quot;</td><td>&quot;Legacy AWD Turbo&quot;</td><td>&quot;Compact Cars&quot;</td><td>&quot;4-Wheel or All-Wheel Drive&quot;</td><td>&quot;Premium&quot;</td></tr></tbody></table></div>"
      ],
      "text/plain": [
       "shape: (48_202, 5)\n",
       "+------------+---------------------+-----------------+----------------------------+----------+\n",
       "| make       | model               | VClass          | drive                      | fuelType |\n",
       "| ---        | ---                 | ---             | ---                        | ---      |\n",
       "| cat        | cat                 | cat             | cat                        | cat      |\n",
       "+============================================================================================+\n",
       "| Alfa Romeo | Spider Veloce 2000  | Two Seaters     | Rear-Wheel Drive           | Regular  |\n",
       "| Ferrari    | Testarossa          | Two Seaters     | Rear-Wheel Drive           | Regular  |\n",
       "| Dodge      | Charger             | Subcompact Cars | Front-Wheel Drive          | Regular  |\n",
       "| Dodge      | B150/B250 Wagon 2WD | Vans            | Rear-Wheel Drive           | Regular  |\n",
       "| Subaru     | Legacy AWD Turbo    | Compact Cars    | 4-Wheel or All-Wheel Drive | Premium  |\n",
       "| …          | …                   | …               | …                          | …        |\n",
       "| Subaru     | Legacy              | Compact Cars    | Front-Wheel Drive          | Regular  |\n",
       "| Subaru     | Legacy              | Compact Cars    | Front-Wheel Drive          | Regular  |\n",
       "| Subaru     | Legacy AWD          | Compact Cars    | 4-Wheel or All-Wheel Drive | Regular  |\n",
       "| Subaru     | Legacy AWD          | Compact Cars    | 4-Wheel or All-Wheel Drive | Regular  |\n",
       "| Subaru     | Legacy AWD Turbo    | Compact Cars    | 4-Wheel or All-Wheel Drive | Premium  |\n",
       "+------------+---------------------+-----------------+----------------------------+----------+"
      ]
     },
     "execution_count": 73,
     "metadata": {},
     "output_type": "execute_result"
    }
   ],
   "source": [
    "# test\n",
    "(\n",
    "    df\n",
    "    .select(pl.col(['make', 'model', 'VClass', 'drive', 'fuelType']))\n",
    "    .with_columns(\n",
    "        pl.col(['make', 'model', 'VClass', 'drive', 'fuelType'])\n",
    "            .cast(pl.Categorical)\n",
    "    )\n",
    ")"
   ]
  },
  {
   "cell_type": "markdown",
   "id": "bcb97757-f2a8-4d41-921f-b1d652879a97",
   "metadata": {},
   "source": [
    "Combine with code to mass update the numeric columns by passing in a list of columns to convert to unsigned 8-bit integers and 32 bit floats."
   ]
  },
  {
   "cell_type": "code",
   "execution_count": 74,
   "id": "d17bb3cf-74ed-4f49-82b3-19a5999f231b",
   "metadata": {},
   "outputs": [
    {
     "name": "stderr",
     "output_type": "stream",
     "text": [
      "/var/folders/sb/p6dz60l562q8pzfgzf74gsxm0000gn/T/ipykernel_1914/2587083680.py:4: CategoricalRemappingWarning: Local categoricals have different encodings, expensive re-encoding is done to perform this merge operation. Consider using a StringCache or an Enum type if the categories are known in advance\n",
      "  .with_columns(\n"
     ]
    },
    {
     "data": {
      "text/html": [
       "<div><style>\n",
       ".dataframe > thead > tr,\n",
       ".dataframe > tbody > tr {\n",
       "  text-align: right;\n",
       "  white-space: pre-wrap;\n",
       "}\n",
       "</style>\n",
       "<small>shape: (48_202, 13)</small><table border=\"1\" class=\"dataframe\"><thead><tr><th>year</th><th>make</th><th>model</th><th>displ</th><th>cylinders</th><th>trany</th><th>drive</th><th>VClass</th><th>fuelType</th><th>barrels08</th><th>city08</th><th>highway08</th><th>createdOn</th></tr><tr><td>i16</td><td>cat</td><td>cat</td><td>f32</td><td>u8</td><td>str</td><td>cat</td><td>cat</td><td>cat</td><td>f32</td><td>u8</td><td>u8</td><td>str</td></tr></thead><tbody><tr><td>1985</td><td>&quot;Alfa Romeo&quot;</td><td>&quot;Spider Veloce 2000&quot;</td><td>2.0</td><td>4</td><td>&quot;Manual 5-spd&quot;</td><td>&quot;Rear-Wheel Drive&quot;</td><td>&quot;Two Seaters&quot;</td><td>&quot;Regular&quot;</td><td>14.167143</td><td>19</td><td>25</td><td>&quot;Tue Jan 01 00:00:00 EST 2013&quot;</td></tr><tr><td>1985</td><td>&quot;Ferrari&quot;</td><td>&quot;Testarossa&quot;</td><td>4.9</td><td>12</td><td>&quot;Manual 5-spd&quot;</td><td>&quot;Rear-Wheel Drive&quot;</td><td>&quot;Two Seaters&quot;</td><td>&quot;Regular&quot;</td><td>27.046364</td><td>9</td><td>14</td><td>&quot;Tue Jan 01 00:00:00 EST 2013&quot;</td></tr><tr><td>1985</td><td>&quot;Dodge&quot;</td><td>&quot;Charger&quot;</td><td>2.2</td><td>4</td><td>&quot;Manual 5-spd&quot;</td><td>&quot;Front-Wheel Drive&quot;</td><td>&quot;Subcompact Cars&quot;</td><td>&quot;Regular&quot;</td><td>11.018888</td><td>23</td><td>33</td><td>&quot;Tue Jan 01 00:00:00 EST 2013&quot;</td></tr><tr><td>1985</td><td>&quot;Dodge&quot;</td><td>&quot;B150/B250 Wagon 2WD&quot;</td><td>5.2</td><td>8</td><td>&quot;Automatic 3-spd&quot;</td><td>&quot;Rear-Wheel Drive&quot;</td><td>&quot;Vans&quot;</td><td>&quot;Regular&quot;</td><td>27.046364</td><td>10</td><td>12</td><td>&quot;Tue Jan 01 00:00:00 EST 2013&quot;</td></tr><tr><td>1993</td><td>&quot;Subaru&quot;</td><td>&quot;Legacy AWD Turbo&quot;</td><td>2.2</td><td>4</td><td>&quot;Manual 5-spd&quot;</td><td>&quot;4-Wheel or All-Wheel Drive&quot;</td><td>&quot;Compact Cars&quot;</td><td>&quot;Premium&quot;</td><td>15.658422</td><td>17</td><td>23</td><td>&quot;Tue Jan 01 00:00:00 EST 2013&quot;</td></tr><tr><td>&hellip;</td><td>&hellip;</td><td>&hellip;</td><td>&hellip;</td><td>&hellip;</td><td>&hellip;</td><td>&hellip;</td><td>&hellip;</td><td>&hellip;</td><td>&hellip;</td><td>&hellip;</td><td>&hellip;</td><td>&hellip;</td></tr><tr><td>1993</td><td>&quot;Subaru&quot;</td><td>&quot;Legacy&quot;</td><td>2.2</td><td>4</td><td>&quot;Automatic 4-spd&quot;</td><td>&quot;Front-Wheel Drive&quot;</td><td>&quot;Compact Cars&quot;</td><td>&quot;Regular&quot;</td><td>13.523182</td><td>19</td><td>26</td><td>&quot;Tue Jan 01 00:00:00 EST 2013&quot;</td></tr><tr><td>1993</td><td>&quot;Subaru&quot;</td><td>&quot;Legacy&quot;</td><td>2.2</td><td>4</td><td>&quot;Manual 5-spd&quot;</td><td>&quot;Front-Wheel Drive&quot;</td><td>&quot;Compact Cars&quot;</td><td>&quot;Regular&quot;</td><td>12.935218</td><td>20</td><td>28</td><td>&quot;Tue Jan 01 00:00:00 EST 2013&quot;</td></tr><tr><td>1993</td><td>&quot;Subaru&quot;</td><td>&quot;Legacy AWD&quot;</td><td>2.2</td><td>4</td><td>&quot;Automatic 4-spd&quot;</td><td>&quot;4-Wheel or All-Wheel Drive&quot;</td><td>&quot;Compact Cars&quot;</td><td>&quot;Regular&quot;</td><td>14.167143</td><td>18</td><td>24</td><td>&quot;Tue Jan 01 00:00:00 EST 2013&quot;</td></tr><tr><td>1993</td><td>&quot;Subaru&quot;</td><td>&quot;Legacy AWD&quot;</td><td>2.2</td><td>4</td><td>&quot;Manual 5-spd&quot;</td><td>&quot;4-Wheel or All-Wheel Drive&quot;</td><td>&quot;Compact Cars&quot;</td><td>&quot;Regular&quot;</td><td>14.167143</td><td>18</td><td>24</td><td>&quot;Tue Jan 01 00:00:00 EST 2013&quot;</td></tr><tr><td>1993</td><td>&quot;Subaru&quot;</td><td>&quot;Legacy AWD Turbo&quot;</td><td>2.2</td><td>4</td><td>&quot;Automatic 4-spd&quot;</td><td>&quot;4-Wheel or All-Wheel Drive&quot;</td><td>&quot;Compact Cars&quot;</td><td>&quot;Premium&quot;</td><td>16.528334</td><td>16</td><td>21</td><td>&quot;Tue Jan 01 00:00:00 EST 2013&quot;</td></tr></tbody></table></div>"
      ],
      "text/plain": [
       "shape: (48_202, 13)\n",
       "+-----+-----+-----+-------+--------+-------+-------+-------+-------+-------+-------+-------+-------+\n",
       "| yea | mak | mod | displ | cylind | trany | drive | VClas | fuelT | barre | city0 | highw | creat |\n",
       "| r   | e   | el  | ---   | ers    | ---   | ---   | s     | ype   | ls08  | 8     | ay08  | edOn  |\n",
       "| --- | --- | --- | f32   | ---    | str   | cat   | ---   | ---   | ---   | ---   | ---   | ---   |\n",
       "| i16 | cat | cat |       | u8     |       |       | cat   | cat   | f32   | u8    | u8    | str   |\n",
       "+==================================================================================================+\n",
       "| 198 | Alf | Spi | 2.0   | 4      | Manua | Rear- | Two   | Regul | 14.16 | 19    | 25    | Tue   |\n",
       "| 5   | a   | der |       |        | l     | Wheel | Seate | ar    | 7143  |       |       | Jan   |\n",
       "|     | Rom | Vel |       |        | 5-spd | Drive | rs    |       |       |       |       | 01    |\n",
       "|     | eo  | oce |       |        |       |       |       |       |       |       |       | 00:00 |\n",
       "|     |     | 200 |       |        |       |       |       |       |       |       |       | :00   |\n",
       "|     |     | 0   |       |        |       |       |       |       |       |       |       | EST   |\n",
       "|     |     |     |       |        |       |       |       |       |       |       |       | 2013  |\n",
       "| 198 | Fer | Tes | 4.9   | 12     | Manua | Rear- | Two   | Regul | 27.04 | 9     | 14    | Tue   |\n",
       "| 5   | rar | tar |       |        | l     | Wheel | Seate | ar    | 6364  |       |       | Jan   |\n",
       "|     | i   | oss |       |        | 5-spd | Drive | rs    |       |       |       |       | 01    |\n",
       "|     |     | a   |       |        |       |       |       |       |       |       |       | 00:00 |\n",
       "|     |     |     |       |        |       |       |       |       |       |       |       | :00   |\n",
       "|     |     |     |       |        |       |       |       |       |       |       |       | EST   |\n",
       "|     |     |     |       |        |       |       |       |       |       |       |       | 2013  |\n",
       "| 198 | Dod | Cha | 2.2   | 4      | Manua | Front | Subco | Regul | 11.01 | 23    | 33    | Tue   |\n",
       "| 5   | ge  | rge |       |        | l     | -Whee | mpact | ar    | 8888  |       |       | Jan   |\n",
       "|     |     | r   |       |        | 5-spd | l     | Cars  |       |       |       |       | 01    |\n",
       "|     |     |     |       |        |       | Drive |       |       |       |       |       | 00:00 |\n",
       "|     |     |     |       |        |       |       |       |       |       |       |       | :00   |\n",
       "|     |     |     |       |        |       |       |       |       |       |       |       | EST   |\n",
       "|     |     |     |       |        |       |       |       |       |       |       |       | 2013  |\n",
       "| 198 | Dod | B15 | 5.2   | 8      | Autom | Rear- | Vans  | Regul | 27.04 | 10    | 12    | Tue   |\n",
       "| 5   | ge  | 0/B |       |        | atic  | Wheel |       | ar    | 6364  |       |       | Jan   |\n",
       "|     |     | 250 |       |        | 3-spd | Drive |       |       |       |       |       | 01    |\n",
       "|     |     | Wag |       |        |       |       |       |       |       |       |       | 00:00 |\n",
       "|     |     | on  |       |        |       |       |       |       |       |       |       | :00   |\n",
       "|     |     | 2WD |       |        |       |       |       |       |       |       |       | EST   |\n",
       "|     |     |     |       |        |       |       |       |       |       |       |       | 2013  |\n",
       "| 199 | Sub | Leg | 2.2   | 4      | Manua | 4-Whe | Compa | Premi | 15.65 | 17    | 23    | Tue   |\n",
       "| 3   | aru | acy |       |        | l     | el or | ct    | um    | 8422  |       |       | Jan   |\n",
       "|     |     | AWD |       |        | 5-spd | All-W | Cars  |       |       |       |       | 01    |\n",
       "|     |     | Tur |       |        |       | heel  |       |       |       |       |       | 00:00 |\n",
       "|     |     | bo  |       |        |       | Drive |       |       |       |       |       | :00   |\n",
       "|     |     |     |       |        |       |       |       |       |       |       |       | EST   |\n",
       "|     |     |     |       |        |       |       |       |       |       |       |       | 2013  |\n",
       "| …   | …   | …   | …     | …      | …     | …     | …     | …     | …     | …     | …     | …     |\n",
       "| 199 | Sub | Leg | 2.2   | 4      | Autom | Front | Compa | Regul | 13.52 | 19    | 26    | Tue   |\n",
       "| 3   | aru | acy |       |        | atic  | -Whee | ct    | ar    | 3182  |       |       | Jan   |\n",
       "|     |     |     |       |        | 4-spd | l     | Cars  |       |       |       |       | 01    |\n",
       "|     |     |     |       |        |       | Drive |       |       |       |       |       | 00:00 |\n",
       "|     |     |     |       |        |       |       |       |       |       |       |       | :00   |\n",
       "|     |     |     |       |        |       |       |       |       |       |       |       | EST   |\n",
       "|     |     |     |       |        |       |       |       |       |       |       |       | 2013  |\n",
       "| 199 | Sub | Leg | 2.2   | 4      | Manua | Front | Compa | Regul | 12.93 | 20    | 28    | Tue   |\n",
       "| 3   | aru | acy |       |        | l     | -Whee | ct    | ar    | 5218  |       |       | Jan   |\n",
       "|     |     |     |       |        | 5-spd | l     | Cars  |       |       |       |       | 01    |\n",
       "|     |     |     |       |        |       | Drive |       |       |       |       |       | 00:00 |\n",
       "|     |     |     |       |        |       |       |       |       |       |       |       | :00   |\n",
       "|     |     |     |       |        |       |       |       |       |       |       |       | EST   |\n",
       "|     |     |     |       |        |       |       |       |       |       |       |       | 2013  |\n",
       "| 199 | Sub | Leg | 2.2   | 4      | Autom | 4-Whe | Compa | Regul | 14.16 | 18    | 24    | Tue   |\n",
       "| 3   | aru | acy |       |        | atic  | el or | ct    | ar    | 7143  |       |       | Jan   |\n",
       "|     |     | AWD |       |        | 4-spd | All-W | Cars  |       |       |       |       | 01    |\n",
       "|     |     |     |       |        |       | heel  |       |       |       |       |       | 00:00 |\n",
       "|     |     |     |       |        |       | Drive |       |       |       |       |       | :00   |\n",
       "|     |     |     |       |        |       |       |       |       |       |       |       | EST   |\n",
       "|     |     |     |       |        |       |       |       |       |       |       |       | 2013  |\n",
       "| 199 | Sub | Leg | 2.2   | 4      | Manua | 4-Whe | Compa | Regul | 14.16 | 18    | 24    | Tue   |\n",
       "| 3   | aru | acy |       |        | l     | el or | ct    | ar    | 7143  |       |       | Jan   |\n",
       "|     |     | AWD |       |        | 5-spd | All-W | Cars  |       |       |       |       | 01    |\n",
       "|     |     |     |       |        |       | heel  |       |       |       |       |       | 00:00 |\n",
       "|     |     |     |       |        |       | Drive |       |       |       |       |       | :00   |\n",
       "|     |     |     |       |        |       |       |       |       |       |       |       | EST   |\n",
       "|     |     |     |       |        |       |       |       |       |       |       |       | 2013  |\n",
       "| 199 | Sub | Leg | 2.2   | 4      | Autom | 4-Whe | Compa | Premi | 16.52 | 16    | 21    | Tue   |\n",
       "| 3   | aru | acy |       |        | atic  | el or | ct    | um    | 8334  |       |       | Jan   |\n",
       "|     |     | AWD |       |        | 4-spd | All-W | Cars  |       |       |       |       | 01    |\n",
       "|     |     | Tur |       |        |       | heel  |       |       |       |       |       | 00:00 |\n",
       "|     |     | bo  |       |        |       | Drive |       |       |       |       |       | :00   |\n",
       "|     |     |     |       |        |       |       |       |       |       |       |       | EST   |\n",
       "|     |     |     |       |        |       |       |       |       |       |       |       | 2013  |\n",
       "+-----+-----+-----+-------+--------+-------+-------+-------+-------+-------+-------+-------+-------+"
      ]
     },
     "execution_count": 74,
     "metadata": {},
     "output_type": "execute_result"
    }
   ],
   "source": [
    "(\n",
    "    df\n",
    "    .select(pl.col(cols))\n",
    "    .with_columns(\n",
    "        pl.col('year').cast(pl.Int16),\n",
    "        pl.col(['cylinders', 'highway08', 'city08']).cast(pl.UInt8),\n",
    "        pl.col(['displ', 'barrels08']).cast(pl.Float32),\n",
    "        pl.col(['make', 'model', 'VClass', 'drive', 'fuelType']).cast(pl.Categorical)\n",
    "    )\n",
    ")"
   ]
  },
  {
   "cell_type": "markdown",
   "id": "dcf2fdde-645e-4b98-b8d6-537ecacc1c44",
   "metadata": {},
   "source": [
    "Next, clean up the *transmission* column. We don't convert `trany` to a categorical, but break it up into boolean and u8 column types.\n"
   ]
  },
  {
   "cell_type": "code",
   "execution_count": 75,
   "id": "a15f9a61-ae06-4d28-b62a-d784a62f7677",
   "metadata": {},
   "outputs": [
    {
     "name": "stderr",
     "output_type": "stream",
     "text": [
      "/var/folders/sb/p6dz60l562q8pzfgzf74gsxm0000gn/T/ipykernel_1914/3830590899.py:4: CategoricalRemappingWarning: Local categoricals have different encodings, expensive re-encoding is done to perform this merge operation. Consider using a StringCache or an Enum type if the categories are known in advance\n",
      "  .with_columns(\n"
     ]
    },
    {
     "data": {
      "text/html": [
       "<div><style>\n",
       ".dataframe > thead > tr,\n",
       ".dataframe > tbody > tr {\n",
       "  text-align: right;\n",
       "  white-space: pre-wrap;\n",
       "}\n",
       "</style>\n",
       "<small>shape: (48_202, 15)</small><table border=\"1\" class=\"dataframe\"><thead><tr><th>year</th><th>make</th><th>model</th><th>displ</th><th>cylinders</th><th>trany</th><th>drive</th><th>VClass</th><th>fuelType</th><th>barrels08</th><th>city08</th><th>highway08</th><th>createdOn</th><th>is_automatic</th><th>num_gears</th></tr><tr><td>i16</td><td>cat</td><td>cat</td><td>f32</td><td>u8</td><td>str</td><td>cat</td><td>cat</td><td>cat</td><td>f32</td><td>u8</td><td>u8</td><td>str</td><td>bool</td><td>u8</td></tr></thead><tbody><tr><td>1985</td><td>&quot;Alfa Romeo&quot;</td><td>&quot;Spider Veloce 2000&quot;</td><td>2.0</td><td>4</td><td>&quot;Manual 5-spd&quot;</td><td>&quot;Rear-Wheel Drive&quot;</td><td>&quot;Two Seaters&quot;</td><td>&quot;Regular&quot;</td><td>14.167143</td><td>19</td><td>25</td><td>&quot;Tue Jan 01 00:00:00 EST 2013&quot;</td><td>false</td><td>5</td></tr><tr><td>1985</td><td>&quot;Ferrari&quot;</td><td>&quot;Testarossa&quot;</td><td>4.9</td><td>12</td><td>&quot;Manual 5-spd&quot;</td><td>&quot;Rear-Wheel Drive&quot;</td><td>&quot;Two Seaters&quot;</td><td>&quot;Regular&quot;</td><td>27.046364</td><td>9</td><td>14</td><td>&quot;Tue Jan 01 00:00:00 EST 2013&quot;</td><td>false</td><td>5</td></tr><tr><td>1985</td><td>&quot;Dodge&quot;</td><td>&quot;Charger&quot;</td><td>2.2</td><td>4</td><td>&quot;Manual 5-spd&quot;</td><td>&quot;Front-Wheel Drive&quot;</td><td>&quot;Subcompact Cars&quot;</td><td>&quot;Regular&quot;</td><td>11.018888</td><td>23</td><td>33</td><td>&quot;Tue Jan 01 00:00:00 EST 2013&quot;</td><td>false</td><td>5</td></tr><tr><td>1985</td><td>&quot;Dodge&quot;</td><td>&quot;B150/B250 Wagon 2WD&quot;</td><td>5.2</td><td>8</td><td>&quot;Automatic 3-spd&quot;</td><td>&quot;Rear-Wheel Drive&quot;</td><td>&quot;Vans&quot;</td><td>&quot;Regular&quot;</td><td>27.046364</td><td>10</td><td>12</td><td>&quot;Tue Jan 01 00:00:00 EST 2013&quot;</td><td>true</td><td>3</td></tr><tr><td>1993</td><td>&quot;Subaru&quot;</td><td>&quot;Legacy AWD Turbo&quot;</td><td>2.2</td><td>4</td><td>&quot;Manual 5-spd&quot;</td><td>&quot;4-Wheel or All-Wheel Drive&quot;</td><td>&quot;Compact Cars&quot;</td><td>&quot;Premium&quot;</td><td>15.658422</td><td>17</td><td>23</td><td>&quot;Tue Jan 01 00:00:00 EST 2013&quot;</td><td>false</td><td>5</td></tr><tr><td>&hellip;</td><td>&hellip;</td><td>&hellip;</td><td>&hellip;</td><td>&hellip;</td><td>&hellip;</td><td>&hellip;</td><td>&hellip;</td><td>&hellip;</td><td>&hellip;</td><td>&hellip;</td><td>&hellip;</td><td>&hellip;</td><td>&hellip;</td><td>&hellip;</td></tr><tr><td>1993</td><td>&quot;Subaru&quot;</td><td>&quot;Legacy&quot;</td><td>2.2</td><td>4</td><td>&quot;Automatic 4-spd&quot;</td><td>&quot;Front-Wheel Drive&quot;</td><td>&quot;Compact Cars&quot;</td><td>&quot;Regular&quot;</td><td>13.523182</td><td>19</td><td>26</td><td>&quot;Tue Jan 01 00:00:00 EST 2013&quot;</td><td>true</td><td>4</td></tr><tr><td>1993</td><td>&quot;Subaru&quot;</td><td>&quot;Legacy&quot;</td><td>2.2</td><td>4</td><td>&quot;Manual 5-spd&quot;</td><td>&quot;Front-Wheel Drive&quot;</td><td>&quot;Compact Cars&quot;</td><td>&quot;Regular&quot;</td><td>12.935218</td><td>20</td><td>28</td><td>&quot;Tue Jan 01 00:00:00 EST 2013&quot;</td><td>false</td><td>5</td></tr><tr><td>1993</td><td>&quot;Subaru&quot;</td><td>&quot;Legacy AWD&quot;</td><td>2.2</td><td>4</td><td>&quot;Automatic 4-spd&quot;</td><td>&quot;4-Wheel or All-Wheel Drive&quot;</td><td>&quot;Compact Cars&quot;</td><td>&quot;Regular&quot;</td><td>14.167143</td><td>18</td><td>24</td><td>&quot;Tue Jan 01 00:00:00 EST 2013&quot;</td><td>true</td><td>4</td></tr><tr><td>1993</td><td>&quot;Subaru&quot;</td><td>&quot;Legacy AWD&quot;</td><td>2.2</td><td>4</td><td>&quot;Manual 5-spd&quot;</td><td>&quot;4-Wheel or All-Wheel Drive&quot;</td><td>&quot;Compact Cars&quot;</td><td>&quot;Regular&quot;</td><td>14.167143</td><td>18</td><td>24</td><td>&quot;Tue Jan 01 00:00:00 EST 2013&quot;</td><td>false</td><td>5</td></tr><tr><td>1993</td><td>&quot;Subaru&quot;</td><td>&quot;Legacy AWD Turbo&quot;</td><td>2.2</td><td>4</td><td>&quot;Automatic 4-spd&quot;</td><td>&quot;4-Wheel or All-Wheel Drive&quot;</td><td>&quot;Compact Cars&quot;</td><td>&quot;Premium&quot;</td><td>16.528334</td><td>16</td><td>21</td><td>&quot;Tue Jan 01 00:00:00 EST 2013&quot;</td><td>true</td><td>4</td></tr></tbody></table></div>"
      ],
      "text/plain": [
       "shape: (48_202, 15)\n",
       "+-----+-----+-----+-----+-----+-----+-----+-----+-----+-----+-----+--------+-------+-------+-------+\n",
       "| yea | mak | mod | dis | cyl | tra | dri | VCl | fue | bar | cit | highwa | creat | is_au | num_g |\n",
       "| r   | e   | el  | pl  | ind | ny  | ve  | ass | lTy | rel | y08 | y08    | edOn  | tomat | ears  |\n",
       "| --- | --- | --- | --- | ers | --- | --- | --- | pe  | s08 | --- | ---    | ---   | ic    | ---   |\n",
       "| i16 | cat | cat | f32 | --- | str | cat | cat | --- | --- | u8  | u8     | str   | ---   | u8    |\n",
       "|     |     |     |     | u8  |     |     |     | cat | f32 |     |        |       | bool  |       |\n",
       "+==================================================================================================+\n",
       "| 198 | Alf | Spi | 2.0 | 4   | Man | Rea | Two | Reg | 14. | 19  | 25     | Tue   | false | 5     |\n",
       "| 5   | a   | der |     |     | ual | r-W | Sea | ula | 167 |     |        | Jan   |       |       |\n",
       "|     | Rom | Vel |     |     | 5-s | hee | ter | r   | 143 |     |        | 01    |       |       |\n",
       "|     | eo  | oce |     |     | pd  | l   | s   |     |     |     |        | 00:00 |       |       |\n",
       "|     |     | 200 |     |     |     | Dri |     |     |     |     |        | :00   |       |       |\n",
       "|     |     | 0   |     |     |     | ve  |     |     |     |     |        | EST   |       |       |\n",
       "|     |     |     |     |     |     |     |     |     |     |     |        | 2013  |       |       |\n",
       "| 198 | Fer | Tes | 4.9 | 12  | Man | Rea | Two | Reg | 27. | 9   | 14     | Tue   | false | 5     |\n",
       "| 5   | rar | tar |     |     | ual | r-W | Sea | ula | 046 |     |        | Jan   |       |       |\n",
       "|     | i   | oss |     |     | 5-s | hee | ter | r   | 364 |     |        | 01    |       |       |\n",
       "|     |     | a   |     |     | pd  | l   | s   |     |     |     |        | 00:00 |       |       |\n",
       "|     |     |     |     |     |     | Dri |     |     |     |     |        | :00   |       |       |\n",
       "|     |     |     |     |     |     | ve  |     |     |     |     |        | EST   |       |       |\n",
       "|     |     |     |     |     |     |     |     |     |     |     |        | 2013  |       |       |\n",
       "| 198 | Dod | Cha | 2.2 | 4   | Man | Fro | Sub | Reg | 11. | 23  | 33     | Tue   | false | 5     |\n",
       "| 5   | ge  | rge |     |     | ual | nt- | com | ula | 018 |     |        | Jan   |       |       |\n",
       "|     |     | r   |     |     | 5-s | Whe | pac | r   | 888 |     |        | 01    |       |       |\n",
       "|     |     |     |     |     | pd  | el  | t   |     |     |     |        | 00:00 |       |       |\n",
       "|     |     |     |     |     |     | Dri | Car |     |     |     |        | :00   |       |       |\n",
       "|     |     |     |     |     |     | ve  | s   |     |     |     |        | EST   |       |       |\n",
       "|     |     |     |     |     |     |     |     |     |     |     |        | 2013  |       |       |\n",
       "| 198 | Dod | B15 | 5.2 | 8   | Aut | Rea | Van | Reg | 27. | 10  | 12     | Tue   | true  | 3     |\n",
       "| 5   | ge  | 0/B |     |     | oma | r-W | s   | ula | 046 |     |        | Jan   |       |       |\n",
       "|     |     | 250 |     |     | tic | hee |     | r   | 364 |     |        | 01    |       |       |\n",
       "|     |     | Wag |     |     | 3-s | l   |     |     |     |     |        | 00:00 |       |       |\n",
       "|     |     | on  |     |     | pd  | Dri |     |     |     |     |        | :00   |       |       |\n",
       "|     |     | 2WD |     |     |     | ve  |     |     |     |     |        | EST   |       |       |\n",
       "|     |     |     |     |     |     |     |     |     |     |     |        | 2013  |       |       |\n",
       "| 199 | Sub | Leg | 2.2 | 4   | Man | 4-W | Com | Pre | 15. | 17  | 23     | Tue   | false | 5     |\n",
       "| 3   | aru | acy |     |     | ual | hee | pac | miu | 658 |     |        | Jan   |       |       |\n",
       "|     |     | AWD |     |     | 5-s | l   | t   | m   | 422 |     |        | 01    |       |       |\n",
       "|     |     | Tur |     |     | pd  | or  | Car |     |     |     |        | 00:00 |       |       |\n",
       "|     |     | bo  |     |     |     | All | s   |     |     |     |        | :00   |       |       |\n",
       "|     |     |     |     |     |     | -Wh |     |     |     |     |        | EST   |       |       |\n",
       "|     |     |     |     |     |     | eel |     |     |     |     |        | 2013  |       |       |\n",
       "|     |     |     |     |     |     | Dri |     |     |     |     |        |       |       |       |\n",
       "|     |     |     |     |     |     | ve  |     |     |     |     |        |       |       |       |\n",
       "| …   | …   | …   | …   | …   | …   | …   | …   | …   | …   | …   | …      | …     | …     | …     |\n",
       "| 199 | Sub | Leg | 2.2 | 4   | Aut | Fro | Com | Reg | 13. | 19  | 26     | Tue   | true  | 4     |\n",
       "| 3   | aru | acy |     |     | oma | nt- | pac | ula | 523 |     |        | Jan   |       |       |\n",
       "|     |     |     |     |     | tic | Whe | t   | r   | 182 |     |        | 01    |       |       |\n",
       "|     |     |     |     |     | 4-s | el  | Car |     |     |     |        | 00:00 |       |       |\n",
       "|     |     |     |     |     | pd  | Dri | s   |     |     |     |        | :00   |       |       |\n",
       "|     |     |     |     |     |     | ve  |     |     |     |     |        | EST   |       |       |\n",
       "|     |     |     |     |     |     |     |     |     |     |     |        | 2013  |       |       |\n",
       "| 199 | Sub | Leg | 2.2 | 4   | Man | Fro | Com | Reg | 12. | 20  | 28     | Tue   | false | 5     |\n",
       "| 3   | aru | acy |     |     | ual | nt- | pac | ula | 935 |     |        | Jan   |       |       |\n",
       "|     |     |     |     |     | 5-s | Whe | t   | r   | 218 |     |        | 01    |       |       |\n",
       "|     |     |     |     |     | pd  | el  | Car |     |     |     |        | 00:00 |       |       |\n",
       "|     |     |     |     |     |     | Dri | s   |     |     |     |        | :00   |       |       |\n",
       "|     |     |     |     |     |     | ve  |     |     |     |     |        | EST   |       |       |\n",
       "|     |     |     |     |     |     |     |     |     |     |     |        | 2013  |       |       |\n",
       "| 199 | Sub | Leg | 2.2 | 4   | Aut | 4-W | Com | Reg | 14. | 18  | 24     | Tue   | true  | 4     |\n",
       "| 3   | aru | acy |     |     | oma | hee | pac | ula | 167 |     |        | Jan   |       |       |\n",
       "|     |     | AWD |     |     | tic | l   | t   | r   | 143 |     |        | 01    |       |       |\n",
       "|     |     |     |     |     | 4-s | or  | Car |     |     |     |        | 00:00 |       |       |\n",
       "|     |     |     |     |     | pd  | All | s   |     |     |     |        | :00   |       |       |\n",
       "|     |     |     |     |     |     | -Wh |     |     |     |     |        | EST   |       |       |\n",
       "|     |     |     |     |     |     | eel |     |     |     |     |        | 2013  |       |       |\n",
       "|     |     |     |     |     |     | Dri |     |     |     |     |        |       |       |       |\n",
       "|     |     |     |     |     |     | ve  |     |     |     |     |        |       |       |       |\n",
       "| 199 | Sub | Leg | 2.2 | 4   | Man | 4-W | Com | Reg | 14. | 18  | 24     | Tue   | false | 5     |\n",
       "| 3   | aru | acy |     |     | ual | hee | pac | ula | 167 |     |        | Jan   |       |       |\n",
       "|     |     | AWD |     |     | 5-s | l   | t   | r   | 143 |     |        | 01    |       |       |\n",
       "|     |     |     |     |     | pd  | or  | Car |     |     |     |        | 00:00 |       |       |\n",
       "|     |     |     |     |     |     | All | s   |     |     |     |        | :00   |       |       |\n",
       "|     |     |     |     |     |     | -Wh |     |     |     |     |        | EST   |       |       |\n",
       "|     |     |     |     |     |     | eel |     |     |     |     |        | 2013  |       |       |\n",
       "|     |     |     |     |     |     | Dri |     |     |     |     |        |       |       |       |\n",
       "|     |     |     |     |     |     | ve  |     |     |     |     |        |       |       |       |\n",
       "| 199 | Sub | Leg | 2.2 | 4   | Aut | 4-W | Com | Pre | 16. | 16  | 21     | Tue   | true  | 4     |\n",
       "| 3   | aru | acy |     |     | oma | hee | pac | miu | 528 |     |        | Jan   |       |       |\n",
       "|     |     | AWD |     |     | tic | l   | t   | m   | 334 |     |        | 01    |       |       |\n",
       "|     |     | Tur |     |     | 4-s | or  | Car |     |     |     |        | 00:00 |       |       |\n",
       "|     |     | bo  |     |     | pd  | All | s   |     |     |     |        | :00   |       |       |\n",
       "|     |     |     |     |     |     | -Wh |     |     |     |     |        | EST   |       |       |\n",
       "|     |     |     |     |     |     | eel |     |     |     |     |        | 2013  |       |       |\n",
       "|     |     |     |     |     |     | Dri |     |     |     |     |        |       |       |       |\n",
       "|     |     |     |     |     |     | ve  |     |     |     |     |        |       |       |       |\n",
       "+-----+-----+-----+-----+-----+-----+-----+-----+-----+-----+-----+--------+-------+-------+-------+"
      ]
     },
     "execution_count": 75,
     "metadata": {},
     "output_type": "execute_result"
    }
   ],
   "source": [
    "(\n",
    "    df\n",
    "    .select(pl.col(cols))\n",
    "    .with_columns(\n",
    "        pl.col('year').cast(pl.Int16),\n",
    "        pl.col(['cylinders', 'highway08', 'city08']).cast(pl.UInt8),\n",
    "        pl.col(['displ', 'barrels08']).cast(pl.Float32),\n",
    "        pl.col(['make', 'model', 'VClass', 'drive', 'fuelType']).cast(pl.Categorical),\n",
    "        is_automatic=pl.col('trany')\n",
    "            .str.contains('Automatic')\n",
    "            .fill_null(True),\n",
    "        num_gears=pl.col('trany')\n",
    "            .str.extract(r'(\\d+)')\n",
    "            .cast(pl.UInt8)\n",
    "            .fill_null(6)\n",
    "    )\n",
    ")"
   ]
  },
  {
   "cell_type": "markdown",
   "id": "3cc2d91a-44c1-485e-a0dd-7750b64fb9cc",
   "metadata": {},
   "source": [
    "---\n",
    "# 1.13 Parsing Dates\n",
    "[back to top](#Top)\n",
    "\n",
    "* Convert the *createdOn* column to a date.\n",
    "* Use the `.str` accesor again, with `.str.to_datetime` method.\n",
    "* `.str.to_datetime` takes a special `format` parameter to describe the date format.\n",
    "* Most date libraries use a format called *strftime*, a IEEE C language standard.\n",
    "* Here, we use the format string `%a %b %d %H:%M:%S %Z %Y`"
   ]
  },
  {
   "cell_type": "code",
   "execution_count": 76,
   "id": "5f2d72d3-ce59-4db8-ac4e-fb369d4b0d9a",
   "metadata": {},
   "outputs": [
    {
     "data": {
      "text/html": [
       "<div><style>\n",
       ".dataframe > thead > tr,\n",
       ".dataframe > tbody > tr {\n",
       "  text-align: right;\n",
       "  white-space: pre-wrap;\n",
       "}\n",
       "</style>\n",
       "<small>shape: (48_202, 1)</small><table border=\"1\" class=\"dataframe\"><thead><tr><th>createdOn</th></tr><tr><td>str</td></tr></thead><tbody><tr><td>&quot;Tue Jan 01 00:00:00 EST 2013&quot;</td></tr><tr><td>&quot;Tue Jan 01 00:00:00 EST 2013&quot;</td></tr><tr><td>&quot;Tue Jan 01 00:00:00 EST 2013&quot;</td></tr><tr><td>&quot;Tue Jan 01 00:00:00 EST 2013&quot;</td></tr><tr><td>&quot;Tue Jan 01 00:00:00 EST 2013&quot;</td></tr><tr><td>&hellip;</td></tr><tr><td>&quot;Tue Jan 01 00:00:00 EST 2013&quot;</td></tr><tr><td>&quot;Tue Jan 01 00:00:00 EST 2013&quot;</td></tr><tr><td>&quot;Tue Jan 01 00:00:00 EST 2013&quot;</td></tr><tr><td>&quot;Tue Jan 01 00:00:00 EST 2013&quot;</td></tr><tr><td>&quot;Tue Jan 01 00:00:00 EST 2013&quot;</td></tr></tbody></table></div>"
      ],
      "text/plain": [
       "shape: (48_202, 1)\n",
       "+------------------------------+\n",
       "| createdOn                    |\n",
       "| ---                          |\n",
       "| str                          |\n",
       "+==============================+\n",
       "| Tue Jan 01 00:00:00 EST 2013 |\n",
       "| Tue Jan 01 00:00:00 EST 2013 |\n",
       "| Tue Jan 01 00:00:00 EST 2013 |\n",
       "| Tue Jan 01 00:00:00 EST 2013 |\n",
       "| Tue Jan 01 00:00:00 EST 2013 |\n",
       "| …                            |\n",
       "| Tue Jan 01 00:00:00 EST 2013 |\n",
       "| Tue Jan 01 00:00:00 EST 2013 |\n",
       "| Tue Jan 01 00:00:00 EST 2013 |\n",
       "| Tue Jan 01 00:00:00 EST 2013 |\n",
       "| Tue Jan 01 00:00:00 EST 2013 |\n",
       "+------------------------------+"
      ]
     },
     "execution_count": 76,
     "metadata": {},
     "output_type": "execute_result"
    }
   ],
   "source": [
    "# Test\n",
    "(\n",
    "    df\n",
    "    .select(\n",
    "        pl.col('createdOn')\n",
    "    )\n",
    ")"
   ]
  },
  {
   "cell_type": "code",
   "execution_count": 77,
   "id": "ede2649f-0ff2-42ab-8d99-035a5f2a1578",
   "metadata": {},
   "outputs": [
    {
     "data": {
      "text/html": [
       "<div><style>\n",
       ".dataframe > thead > tr,\n",
       ".dataframe > tbody > tr {\n",
       "  text-align: right;\n",
       "  white-space: pre-wrap;\n",
       "}\n",
       "</style>\n",
       "<small>shape: (48_202, 1)</small><table border=\"1\" class=\"dataframe\"><thead><tr><th>createdOn</th></tr><tr><td>datetime[μs]</td></tr></thead><tbody><tr><td>2013-01-01 00:00:00</td></tr><tr><td>2013-01-01 00:00:00</td></tr><tr><td>2013-01-01 00:00:00</td></tr><tr><td>2013-01-01 00:00:00</td></tr><tr><td>2013-01-01 00:00:00</td></tr><tr><td>&hellip;</td></tr><tr><td>2013-01-01 00:00:00</td></tr><tr><td>2013-01-01 00:00:00</td></tr><tr><td>2013-01-01 00:00:00</td></tr><tr><td>2013-01-01 00:00:00</td></tr><tr><td>2013-01-01 00:00:00</td></tr></tbody></table></div>"
      ],
      "text/plain": [
       "shape: (48_202, 1)\n",
       "+---------------------+\n",
       "| createdOn           |\n",
       "| ---                 |\n",
       "| datetime[μs]        |\n",
       "+=====================+\n",
       "| 2013-01-01 00:00:00 |\n",
       "| 2013-01-01 00:00:00 |\n",
       "| 2013-01-01 00:00:00 |\n",
       "| 2013-01-01 00:00:00 |\n",
       "| 2013-01-01 00:00:00 |\n",
       "| …                   |\n",
       "| 2013-01-01 00:00:00 |\n",
       "| 2013-01-01 00:00:00 |\n",
       "| 2013-01-01 00:00:00 |\n",
       "| 2013-01-01 00:00:00 |\n",
       "| 2013-01-01 00:00:00 |\n",
       "+---------------------+"
      ]
     },
     "execution_count": 77,
     "metadata": {},
     "output_type": "execute_result"
    }
   ],
   "source": [
    "# Test the correct datetime format\n",
    "(\n",
    "    df\n",
    "    .select(\n",
    "        pl.col('createdOn')\n",
    "            .str.to_datetime('%a %b %d %H:%M:%S %Z %Y')\n",
    "    )\n",
    ")"
   ]
  },
  {
   "cell_type": "markdown",
   "id": "c4e7fe79-dd24-4154-9735-1377f77756ac",
   "metadata": {},
   "source": [
    "Combine with rest of the expression"
   ]
  },
  {
   "cell_type": "code",
   "execution_count": 78,
   "id": "ae1c9faf-4dfb-4eb4-b50d-4ef51c270d05",
   "metadata": {},
   "outputs": [
    {
     "name": "stderr",
     "output_type": "stream",
     "text": [
      "/var/folders/sb/p6dz60l562q8pzfgzf74gsxm0000gn/T/ipykernel_1914/697311573.py:4: CategoricalRemappingWarning: Local categoricals have different encodings, expensive re-encoding is done to perform this merge operation. Consider using a StringCache or an Enum type if the categories are known in advance\n",
      "  .with_columns(\n"
     ]
    },
    {
     "data": {
      "text/html": [
       "<div><style>\n",
       ".dataframe > thead > tr,\n",
       ".dataframe > tbody > tr {\n",
       "  text-align: right;\n",
       "  white-space: pre-wrap;\n",
       "}\n",
       "</style>\n",
       "<small>shape: (48_202, 1)</small><table border=\"1\" class=\"dataframe\"><thead><tr><th>createdOn</th></tr><tr><td>datetime[μs]</td></tr></thead><tbody><tr><td>2013-01-01 00:00:00</td></tr><tr><td>2013-01-01 00:00:00</td></tr><tr><td>2013-01-01 00:00:00</td></tr><tr><td>2013-01-01 00:00:00</td></tr><tr><td>2013-01-01 00:00:00</td></tr><tr><td>&hellip;</td></tr><tr><td>2013-01-01 00:00:00</td></tr><tr><td>2013-01-01 00:00:00</td></tr><tr><td>2013-01-01 00:00:00</td></tr><tr><td>2013-01-01 00:00:00</td></tr><tr><td>2013-01-01 00:00:00</td></tr></tbody></table></div>"
      ],
      "text/plain": [
       "shape: (48_202, 1)\n",
       "+---------------------+\n",
       "| createdOn           |\n",
       "| ---                 |\n",
       "| datetime[μs]        |\n",
       "+=====================+\n",
       "| 2013-01-01 00:00:00 |\n",
       "| 2013-01-01 00:00:00 |\n",
       "| 2013-01-01 00:00:00 |\n",
       "| 2013-01-01 00:00:00 |\n",
       "| 2013-01-01 00:00:00 |\n",
       "| …                   |\n",
       "| 2013-01-01 00:00:00 |\n",
       "| 2013-01-01 00:00:00 |\n",
       "| 2013-01-01 00:00:00 |\n",
       "| 2013-01-01 00:00:00 |\n",
       "| 2013-01-01 00:00:00 |\n",
       "+---------------------+"
      ]
     },
     "execution_count": 78,
     "metadata": {},
     "output_type": "execute_result"
    }
   ],
   "source": [
    "(\n",
    "    df\n",
    "    .select(pl.col(cols))\n",
    "    .with_columns(\n",
    "        pl.col('year').cast(pl.Int16),\n",
    "        pl.col(['cylinders', 'highway08', 'city08']).cast(pl.UInt8),\n",
    "        pl.col(['displ', 'barrels08']).cast(pl.Float32),\n",
    "        pl.col(['make', 'model', 'VClass', 'drive', 'fuelType']).cast(pl.Categorical),\n",
    "        is_automatic=pl.col('trany')\n",
    "            .str.contains('Automatic')\n",
    "            .fill_null(True),\n",
    "        num_gears=pl.col('trany')\n",
    "            .str.extract(r'(\\d+)')\n",
    "            .cast(pl.UInt8)\n",
    "            .fill_null(6)\n",
    "    )\n",
    "    .select(\n",
    "        pl.col('createdOn')\n",
    "            .str.to_datetime('%a %b %d %H:%M:%S %Z %Y')\n",
    "    )\n",
    ")"
   ]
  },
  {
   "cell_type": "markdown",
   "id": "29487b6c-689d-4aec-88f8-b7e5ac349205",
   "metadata": {},
   "source": [
    "* Add the datetime to our chain\n",
    "* Convert our chain into a function\n",
    "* To avoid renaming the *createdOn* column, place the datetime before the keywords arguments."
   ]
  },
  {
   "cell_type": "code",
   "execution_count": 79,
   "id": "bbd2ef14-6105-4c0d-97b8-3acfa11ff7b9",
   "metadata": {},
   "outputs": [
    {
     "name": "stderr",
     "output_type": "stream",
     "text": [
      "/var/folders/sb/p6dz60l562q8pzfgzf74gsxm0000gn/T/ipykernel_1914/2541424730.py:7: CategoricalRemappingWarning: Local categoricals have different encodings, expensive re-encoding is done to perform this merge operation. Consider using a StringCache or an Enum type if the categories are known in advance\n",
      "  .with_columns(\n"
     ]
    },
    {
     "data": {
      "text/html": [
       "<div><style>\n",
       ".dataframe > thead > tr,\n",
       ".dataframe > tbody > tr {\n",
       "  text-align: right;\n",
       "  white-space: pre-wrap;\n",
       "}\n",
       "</style>\n",
       "<small>shape: (48_202, 15)</small><table border=\"1\" class=\"dataframe\"><thead><tr><th>year</th><th>make</th><th>model</th><th>displ</th><th>cylinders</th><th>trany</th><th>drive</th><th>VClass</th><th>fuelType</th><th>barrels08</th><th>city08</th><th>highway08</th><th>createdOn</th><th>is_automatic</th><th>num_gears</th></tr><tr><td>i16</td><td>cat</td><td>cat</td><td>f32</td><td>u8</td><td>str</td><td>cat</td><td>cat</td><td>cat</td><td>f32</td><td>u8</td><td>u8</td><td>datetime[μs]</td><td>str</td><td>u8</td></tr></thead><tbody><tr><td>1985</td><td>&quot;Alfa Romeo&quot;</td><td>&quot;Spider Veloce 2000&quot;</td><td>2.0</td><td>4</td><td>&quot;Manual 5-spd&quot;</td><td>&quot;Rear-Wheel Drive&quot;</td><td>&quot;Two Seaters&quot;</td><td>&quot;Regular&quot;</td><td>14.167143</td><td>19</td><td>25</td><td>2013-01-01 00:00:00</td><td>&quot;false&quot;</td><td>5</td></tr><tr><td>1985</td><td>&quot;Ferrari&quot;</td><td>&quot;Testarossa&quot;</td><td>4.9</td><td>12</td><td>&quot;Manual 5-spd&quot;</td><td>&quot;Rear-Wheel Drive&quot;</td><td>&quot;Two Seaters&quot;</td><td>&quot;Regular&quot;</td><td>27.046364</td><td>9</td><td>14</td><td>2013-01-01 00:00:00</td><td>&quot;false&quot;</td><td>5</td></tr><tr><td>1985</td><td>&quot;Dodge&quot;</td><td>&quot;Charger&quot;</td><td>2.2</td><td>4</td><td>&quot;Manual 5-spd&quot;</td><td>&quot;Front-Wheel Drive&quot;</td><td>&quot;Subcompact Cars&quot;</td><td>&quot;Regular&quot;</td><td>11.018888</td><td>23</td><td>33</td><td>2013-01-01 00:00:00</td><td>&quot;false&quot;</td><td>5</td></tr><tr><td>1985</td><td>&quot;Dodge&quot;</td><td>&quot;B150/B250 Wagon 2WD&quot;</td><td>5.2</td><td>8</td><td>&quot;Automatic 3-spd&quot;</td><td>&quot;Rear-Wheel Drive&quot;</td><td>&quot;Vans&quot;</td><td>&quot;Regular&quot;</td><td>27.046364</td><td>10</td><td>12</td><td>2013-01-01 00:00:00</td><td>&quot;true&quot;</td><td>3</td></tr><tr><td>1993</td><td>&quot;Subaru&quot;</td><td>&quot;Legacy AWD Turbo&quot;</td><td>2.2</td><td>4</td><td>&quot;Manual 5-spd&quot;</td><td>&quot;4-Wheel or All-Wheel Drive&quot;</td><td>&quot;Compact Cars&quot;</td><td>&quot;Premium&quot;</td><td>15.658422</td><td>17</td><td>23</td><td>2013-01-01 00:00:00</td><td>&quot;false&quot;</td><td>5</td></tr><tr><td>&hellip;</td><td>&hellip;</td><td>&hellip;</td><td>&hellip;</td><td>&hellip;</td><td>&hellip;</td><td>&hellip;</td><td>&hellip;</td><td>&hellip;</td><td>&hellip;</td><td>&hellip;</td><td>&hellip;</td><td>&hellip;</td><td>&hellip;</td><td>&hellip;</td></tr><tr><td>1993</td><td>&quot;Subaru&quot;</td><td>&quot;Legacy&quot;</td><td>2.2</td><td>4</td><td>&quot;Automatic 4-spd&quot;</td><td>&quot;Front-Wheel Drive&quot;</td><td>&quot;Compact Cars&quot;</td><td>&quot;Regular&quot;</td><td>13.523182</td><td>19</td><td>26</td><td>2013-01-01 00:00:00</td><td>&quot;true&quot;</td><td>4</td></tr><tr><td>1993</td><td>&quot;Subaru&quot;</td><td>&quot;Legacy&quot;</td><td>2.2</td><td>4</td><td>&quot;Manual 5-spd&quot;</td><td>&quot;Front-Wheel Drive&quot;</td><td>&quot;Compact Cars&quot;</td><td>&quot;Regular&quot;</td><td>12.935218</td><td>20</td><td>28</td><td>2013-01-01 00:00:00</td><td>&quot;false&quot;</td><td>5</td></tr><tr><td>1993</td><td>&quot;Subaru&quot;</td><td>&quot;Legacy AWD&quot;</td><td>2.2</td><td>4</td><td>&quot;Automatic 4-spd&quot;</td><td>&quot;4-Wheel or All-Wheel Drive&quot;</td><td>&quot;Compact Cars&quot;</td><td>&quot;Regular&quot;</td><td>14.167143</td><td>18</td><td>24</td><td>2013-01-01 00:00:00</td><td>&quot;true&quot;</td><td>4</td></tr><tr><td>1993</td><td>&quot;Subaru&quot;</td><td>&quot;Legacy AWD&quot;</td><td>2.2</td><td>4</td><td>&quot;Manual 5-spd&quot;</td><td>&quot;4-Wheel or All-Wheel Drive&quot;</td><td>&quot;Compact Cars&quot;</td><td>&quot;Regular&quot;</td><td>14.167143</td><td>18</td><td>24</td><td>2013-01-01 00:00:00</td><td>&quot;false&quot;</td><td>5</td></tr><tr><td>1993</td><td>&quot;Subaru&quot;</td><td>&quot;Legacy AWD Turbo&quot;</td><td>2.2</td><td>4</td><td>&quot;Automatic 4-spd&quot;</td><td>&quot;4-Wheel or All-Wheel Drive&quot;</td><td>&quot;Compact Cars&quot;</td><td>&quot;Premium&quot;</td><td>16.528334</td><td>16</td><td>21</td><td>2013-01-01 00:00:00</td><td>&quot;true&quot;</td><td>4</td></tr></tbody></table></div>"
      ],
      "text/plain": [
       "shape: (48_202, 15)\n",
       "+-----+-----+-----+-----+-----+-----+-----+-----+-----+-----+-----+--------+-------+-------+-------+\n",
       "| yea | mak | mod | dis | cyl | tra | dri | VCl | fue | bar | cit | highwa | creat | is_au | num_g |\n",
       "| r   | e   | el  | pl  | ind | ny  | ve  | ass | lTy | rel | y08 | y08    | edOn  | tomat | ears  |\n",
       "| --- | --- | --- | --- | ers | --- | --- | --- | pe  | s08 | --- | ---    | ---   | ic    | ---   |\n",
       "| i16 | cat | cat | f32 | --- | str | cat | cat | --- | --- | u8  | u8     | datet | ---   | u8    |\n",
       "|     |     |     |     | u8  |     |     |     | cat | f32 |     |        | ime[μ | str   |       |\n",
       "|     |     |     |     |     |     |     |     |     |     |     |        | s]    |       |       |\n",
       "+==================================================================================================+\n",
       "| 198 | Alf | Spi | 2.0 | 4   | Man | Rea | Two | Reg | 14. | 19  | 25     | 2013- | false | 5     |\n",
       "| 5   | a   | der |     |     | ual | r-W | Sea | ula | 167 |     |        | 01-01 |       |       |\n",
       "|     | Rom | Vel |     |     | 5-s | hee | ter | r   | 143 |     |        | 00:00 |       |       |\n",
       "|     | eo  | oce |     |     | pd  | l   | s   |     |     |     |        | :00   |       |       |\n",
       "|     |     | 200 |     |     |     | Dri |     |     |     |     |        |       |       |       |\n",
       "|     |     | 0   |     |     |     | ve  |     |     |     |     |        |       |       |       |\n",
       "| 198 | Fer | Tes | 4.9 | 12  | Man | Rea | Two | Reg | 27. | 9   | 14     | 2013- | false | 5     |\n",
       "| 5   | rar | tar |     |     | ual | r-W | Sea | ula | 046 |     |        | 01-01 |       |       |\n",
       "|     | i   | oss |     |     | 5-s | hee | ter | r   | 364 |     |        | 00:00 |       |       |\n",
       "|     |     | a   |     |     | pd  | l   | s   |     |     |     |        | :00   |       |       |\n",
       "|     |     |     |     |     |     | Dri |     |     |     |     |        |       |       |       |\n",
       "|     |     |     |     |     |     | ve  |     |     |     |     |        |       |       |       |\n",
       "| 198 | Dod | Cha | 2.2 | 4   | Man | Fro | Sub | Reg | 11. | 23  | 33     | 2013- | false | 5     |\n",
       "| 5   | ge  | rge |     |     | ual | nt- | com | ula | 018 |     |        | 01-01 |       |       |\n",
       "|     |     | r   |     |     | 5-s | Whe | pac | r   | 888 |     |        | 00:00 |       |       |\n",
       "|     |     |     |     |     | pd  | el  | t   |     |     |     |        | :00   |       |       |\n",
       "|     |     |     |     |     |     | Dri | Car |     |     |     |        |       |       |       |\n",
       "|     |     |     |     |     |     | ve  | s   |     |     |     |        |       |       |       |\n",
       "| 198 | Dod | B15 | 5.2 | 8   | Aut | Rea | Van | Reg | 27. | 10  | 12     | 2013- | true  | 3     |\n",
       "| 5   | ge  | 0/B |     |     | oma | r-W | s   | ula | 046 |     |        | 01-01 |       |       |\n",
       "|     |     | 250 |     |     | tic | hee |     | r   | 364 |     |        | 00:00 |       |       |\n",
       "|     |     | Wag |     |     | 3-s | l   |     |     |     |     |        | :00   |       |       |\n",
       "|     |     | on  |     |     | pd  | Dri |     |     |     |     |        |       |       |       |\n",
       "|     |     | 2WD |     |     |     | ve  |     |     |     |     |        |       |       |       |\n",
       "| 199 | Sub | Leg | 2.2 | 4   | Man | 4-W | Com | Pre | 15. | 17  | 23     | 2013- | false | 5     |\n",
       "| 3   | aru | acy |     |     | ual | hee | pac | miu | 658 |     |        | 01-01 |       |       |\n",
       "|     |     | AWD |     |     | 5-s | l   | t   | m   | 422 |     |        | 00:00 |       |       |\n",
       "|     |     | Tur |     |     | pd  | or  | Car |     |     |     |        | :00   |       |       |\n",
       "|     |     | bo  |     |     |     | All | s   |     |     |     |        |       |       |       |\n",
       "|     |     |     |     |     |     | -Wh |     |     |     |     |        |       |       |       |\n",
       "|     |     |     |     |     |     | eel |     |     |     |     |        |       |       |       |\n",
       "|     |     |     |     |     |     | Dri |     |     |     |     |        |       |       |       |\n",
       "|     |     |     |     |     |     | ve  |     |     |     |     |        |       |       |       |\n",
       "| …   | …   | …   | …   | …   | …   | …   | …   | …   | …   | …   | …      | …     | …     | …     |\n",
       "| 199 | Sub | Leg | 2.2 | 4   | Aut | Fro | Com | Reg | 13. | 19  | 26     | 2013- | true  | 4     |\n",
       "| 3   | aru | acy |     |     | oma | nt- | pac | ula | 523 |     |        | 01-01 |       |       |\n",
       "|     |     |     |     |     | tic | Whe | t   | r   | 182 |     |        | 00:00 |       |       |\n",
       "|     |     |     |     |     | 4-s | el  | Car |     |     |     |        | :00   |       |       |\n",
       "|     |     |     |     |     | pd  | Dri | s   |     |     |     |        |       |       |       |\n",
       "|     |     |     |     |     |     | ve  |     |     |     |     |        |       |       |       |\n",
       "| 199 | Sub | Leg | 2.2 | 4   | Man | Fro | Com | Reg | 12. | 20  | 28     | 2013- | false | 5     |\n",
       "| 3   | aru | acy |     |     | ual | nt- | pac | ula | 935 |     |        | 01-01 |       |       |\n",
       "|     |     |     |     |     | 5-s | Whe | t   | r   | 218 |     |        | 00:00 |       |       |\n",
       "|     |     |     |     |     | pd  | el  | Car |     |     |     |        | :00   |       |       |\n",
       "|     |     |     |     |     |     | Dri | s   |     |     |     |        |       |       |       |\n",
       "|     |     |     |     |     |     | ve  |     |     |     |     |        |       |       |       |\n",
       "| 199 | Sub | Leg | 2.2 | 4   | Aut | 4-W | Com | Reg | 14. | 18  | 24     | 2013- | true  | 4     |\n",
       "| 3   | aru | acy |     |     | oma | hee | pac | ula | 167 |     |        | 01-01 |       |       |\n",
       "|     |     | AWD |     |     | tic | l   | t   | r   | 143 |     |        | 00:00 |       |       |\n",
       "|     |     |     |     |     | 4-s | or  | Car |     |     |     |        | :00   |       |       |\n",
       "|     |     |     |     |     | pd  | All | s   |     |     |     |        |       |       |       |\n",
       "|     |     |     |     |     |     | -Wh |     |     |     |     |        |       |       |       |\n",
       "|     |     |     |     |     |     | eel |     |     |     |     |        |       |       |       |\n",
       "|     |     |     |     |     |     | Dri |     |     |     |     |        |       |       |       |\n",
       "|     |     |     |     |     |     | ve  |     |     |     |     |        |       |       |       |\n",
       "| 199 | Sub | Leg | 2.2 | 4   | Man | 4-W | Com | Reg | 14. | 18  | 24     | 2013- | false | 5     |\n",
       "| 3   | aru | acy |     |     | ual | hee | pac | ula | 167 |     |        | 01-01 |       |       |\n",
       "|     |     | AWD |     |     | 5-s | l   | t   | r   | 143 |     |        | 00:00 |       |       |\n",
       "|     |     |     |     |     | pd  | or  | Car |     |     |     |        | :00   |       |       |\n",
       "|     |     |     |     |     |     | All | s   |     |     |     |        |       |       |       |\n",
       "|     |     |     |     |     |     | -Wh |     |     |     |     |        |       |       |       |\n",
       "|     |     |     |     |     |     | eel |     |     |     |     |        |       |       |       |\n",
       "|     |     |     |     |     |     | Dri |     |     |     |     |        |       |       |       |\n",
       "|     |     |     |     |     |     | ve  |     |     |     |     |        |       |       |       |\n",
       "| 199 | Sub | Leg | 2.2 | 4   | Aut | 4-W | Com | Pre | 16. | 16  | 21     | 2013- | true  | 4     |\n",
       "| 3   | aru | acy |     |     | oma | hee | pac | miu | 528 |     |        | 01-01 |       |       |\n",
       "|     |     | AWD |     |     | tic | l   | t   | m   | 334 |     |        | 00:00 |       |       |\n",
       "|     |     | Tur |     |     | 4-s | or  | Car |     |     |     |        | :00   |       |       |\n",
       "|     |     | bo  |     |     | pd  | All | s   |     |     |     |        |       |       |       |\n",
       "|     |     |     |     |     |     | -Wh |     |     |     |     |        |       |       |       |\n",
       "|     |     |     |     |     |     | eel |     |     |     |     |        |       |       |       |\n",
       "|     |     |     |     |     |     | Dri |     |     |     |     |        |       |       |       |\n",
       "|     |     |     |     |     |     | ve  |     |     |     |     |        |       |       |       |\n",
       "+-----+-----+-----+-----+-----+-----+-----+-----+-----+-----+-----+--------+-------+-------+-------+"
      ]
     },
     "execution_count": 79,
     "metadata": {},
     "output_type": "execute_result"
    }
   ],
   "source": [
    "def tweak_auto(df):\n",
    "    col = ['year', 'make', 'model', 'displ', 'cylinders', 'trany', 'drive', \n",
    "           'VClass', 'fuelType', 'barrels08', 'city08', 'highway08', 'createdOn']\n",
    "    return (\n",
    "        df\n",
    "        .select(pl.col(cols))\n",
    "        .with_columns(\n",
    "            pl.col('year').cast(pl.Int16),\n",
    "            pl.col(['cylinders', 'highway08', 'city08']).cast(pl.UInt8),\n",
    "            pl.col(['displ', 'barrels08']).cast(pl.Float32),\n",
    "            pl.col(['make', 'model', 'VClass', 'drive', 'fuelType']).cast(pl.Categorical),\n",
    "            \n",
    "            pl.col('createdOn').str.to_datetime('%a %b %d %H:%M:%S %Z %Y'),\n",
    "            \n",
    "            is_automatic=pl.col('trany')\n",
    "                        .str.contains('Automatic')\n",
    "                        .fill_null('Automatic'),\n",
    "            num_gears=pl.col('trany')\n",
    "                        .str.extract(r'(\\d+)')\n",
    "                        .cast(pl.UInt8)\n",
    "                        .fill_null(6)\n",
    "                    \n",
    "        )\n",
    "    )\n",
    "\n",
    "tweak_auto(df)"
   ]
  },
  {
   "cell_type": "markdown",
   "id": "0e23d464-1585-4015-9aa3-0cdbe83f55a8",
   "metadata": {},
   "source": [
    "Check how much memory we saved by converting the types."
   ]
  },
  {
   "cell_type": "code",
   "execution_count": 80,
   "id": "4ffa42b0-26ff-412c-80da-3efa929985b7",
   "metadata": {},
   "outputs": [
    {
     "name": "stderr",
     "output_type": "stream",
     "text": [
      "/var/folders/sb/p6dz60l562q8pzfgzf74gsxm0000gn/T/ipykernel_1914/2541424730.py:7: CategoricalRemappingWarning: Local categoricals have different encodings, expensive re-encoding is done to perform this merge operation. Consider using a StringCache or an Enum type if the categories are known in advance\n",
      "  .with_columns(\n"
     ]
    },
    {
     "data": {
      "text/plain": [
       "2.886214256286621"
      ]
     },
     "execution_count": 80,
     "metadata": {},
     "output_type": "execute_result"
    }
   ],
   "source": [
    "# Converted\n",
    "tweak_auto(df).estimated_size(unit='mb')"
   ]
  },
  {
   "cell_type": "markdown",
   "id": "f237a942-6eb0-45e1-b0bb-f917b96d76be",
   "metadata": {},
   "source": [
    "Check the original subset of columns before we converted the types."
   ]
  },
  {
   "cell_type": "code",
   "execution_count": 81,
   "id": "8cf61c17-edd1-4a4b-b68d-500d30059f94",
   "metadata": {},
   "outputs": [
    {
     "data": {
      "text/plain": [
       "6.982625961303711"
      ]
     },
     "execution_count": 81,
     "metadata": {},
     "output_type": "execute_result"
    }
   ],
   "source": [
    "# Original\n",
    "df.select(cols).estimated_size(unit='mb')"
   ]
  },
  {
   "cell_type": "code",
   "execution_count": 82,
   "id": "134713e9-dba8-4bbd-9d5d-65700b47b99b",
   "metadata": {},
   "outputs": [
    {
     "name": "stderr",
     "output_type": "stream",
     "text": [
      "/var/folders/sb/p6dz60l562q8pzfgzf74gsxm0000gn/T/ipykernel_1914/2541424730.py:7: CategoricalRemappingWarning: Local categoricals have different encodings, expensive re-encoding is done to perform this merge operation. Consider using a StringCache or an Enum type if the categories are known in advance\n",
      "  .with_columns(\n"
     ]
    },
    {
     "data": {
      "text/plain": [
       "4.09641170501709"
      ]
     },
     "execution_count": 82,
     "metadata": {},
     "output_type": "execute_result"
    }
   ],
   "source": [
    "# Difference\n",
    "df.select(cols).estimated_size(unit='mb') - tweak_auto(df).estimated_size(unit='mb')"
   ]
  },
  {
   "cell_type": "markdown",
   "id": "a21e0646-e47d-492f-a841-415c26fdc1b6",
   "metadata": {},
   "source": [
    "---\n",
    "# 1.14 Summary Statistics\n",
    "[back to top](#Top)\n",
    "\n",
    "* `describe`\n",
    "  - Summary statistics for a DataFrame.\n",
    "  - https://docs.pola.rs/api/python/stable/reference/dataframe/api/polars.DataFrame.describe.html\n",
    "* `corr`\n",
    "  - Return pairwise Pearson product-moment correlation coefficients between columns.\n",
    "  - https://docs.pola.rs/api/python/stable/reference/dataframe/api/polars.DataFrame.corr.html#polars.DataFrame.corr\n",
    "  - This functionality requires numpy to be installed."
   ]
  },
  {
   "cell_type": "markdown",
   "id": "1aa1d227-b39a-4aa8-9174-2636ad81ab69",
   "metadata": {},
   "source": [
    "## 1.14.1 `describe()`\n",
    "[back to top](#Top)"
   ]
  },
  {
   "cell_type": "code",
   "execution_count": 83,
   "id": "223797a8-0985-40b3-8c7b-25ecd16f0f35",
   "metadata": {},
   "outputs": [
    {
     "name": "stderr",
     "output_type": "stream",
     "text": [
      "/var/folders/sb/p6dz60l562q8pzfgzf74gsxm0000gn/T/ipykernel_1914/2541424730.py:7: CategoricalRemappingWarning: Local categoricals have different encodings, expensive re-encoding is done to perform this merge operation. Consider using a StringCache or an Enum type if the categories are known in advance\n",
      "  .with_columns(\n"
     ]
    },
    {
     "data": {
      "text/html": [
       "<div><style>\n",
       ".dataframe > thead > tr,\n",
       ".dataframe > tbody > tr {\n",
       "  text-align: right;\n",
       "  white-space: pre-wrap;\n",
       "}\n",
       "</style>\n",
       "<small>shape: (9, 16)</small><table border=\"1\" class=\"dataframe\"><thead><tr><th>statistic</th><th>year</th><th>make</th><th>model</th><th>displ</th><th>cylinders</th><th>trany</th><th>drive</th><th>VClass</th><th>fuelType</th><th>barrels08</th><th>city08</th><th>highway08</th><th>createdOn</th><th>is_automatic</th><th>num_gears</th></tr><tr><td>str</td><td>f64</td><td>str</td><td>str</td><td>f64</td><td>f64</td><td>str</td><td>str</td><td>str</td><td>str</td><td>f64</td><td>f64</td><td>f64</td><td>str</td><td>str</td><td>f64</td></tr></thead><tbody><tr><td>&quot;count&quot;</td><td>48202.0</td><td>&quot;48202&quot;</td><td>&quot;48202&quot;</td><td>47239.0</td><td>47237.0</td><td>&quot;48191&quot;</td><td>&quot;47016&quot;</td><td>&quot;48202&quot;</td><td>&quot;48202&quot;</td><td>48202.0</td><td>48202.0</td><td>48202.0</td><td>&quot;48202&quot;</td><td>&quot;48202&quot;</td><td>48202.0</td></tr><tr><td>&quot;null_count&quot;</td><td>0.0</td><td>&quot;0&quot;</td><td>&quot;0&quot;</td><td>963.0</td><td>965.0</td><td>&quot;11&quot;</td><td>&quot;1186&quot;</td><td>&quot;0&quot;</td><td>&quot;0&quot;</td><td>0.0</td><td>0.0</td><td>0.0</td><td>&quot;0&quot;</td><td>&quot;0&quot;</td><td>0.0</td></tr><tr><td>&quot;mean&quot;</td><td>2004.59344</td><td>null</td><td>null</td><td>3.27066</td><td>5.698838</td><td>null</td><td>null</td><td>null</td><td>null</td><td>15.106042</td><td>19.929235</td><td>25.821294</td><td>&quot;2014-11-14 05:34:17.590971&quot;</td><td>null</td><td>5.346666</td></tr><tr><td>&quot;std&quot;</td><td>12.681444</td><td>null</td><td>null</td><td>1.353053</td><td>1.772964</td><td>null</td><td>null</td><td>null</td><td>null</td><td>4.560156</td><td>12.658018</td><td>11.087154</td><td>null</td><td>null</td><td>1.73496</td></tr><tr><td>&quot;min&quot;</td><td>1984.0</td><td>null</td><td>null</td><td>0.0</td><td>2.0</td><td>&quot;Automatic (A1)&quot;</td><td>null</td><td>null</td><td>null</td><td>0.047081</td><td>6.0</td><td>9.0</td><td>&quot;2013-01-01 00:00:00&quot;</td><td>&quot;Automatic&quot;</td><td>1.0</td></tr><tr><td>&quot;25%&quot;</td><td>1993.0</td><td>null</td><td>null</td><td>2.2</td><td>4.0</td><td>null</td><td>null</td><td>null</td><td>null</td><td>12.39625</td><td>15.0</td><td>20.0</td><td>&quot;2013-01-01 00:00:00&quot;</td><td>null</td><td>4.0</td></tr><tr><td>&quot;50%&quot;</td><td>2006.0</td><td>null</td><td>null</td><td>3.0</td><td>6.0</td><td>null</td><td>null</td><td>null</td><td>null</td><td>14.8755</td><td>18.0</td><td>24.0</td><td>&quot;2013-01-01 00:00:00&quot;</td><td>null</td><td>5.0</td></tr><tr><td>&quot;75%&quot;</td><td>2016.0</td><td>null</td><td>null</td><td>4.2</td><td>6.0</td><td>null</td><td>null</td><td>null</td><td>null</td><td>17.500587</td><td>21.0</td><td>28.0</td><td>&quot;2015-07-02 00:00:00&quot;</td><td>null</td><td>6.0</td></tr><tr><td>&quot;max&quot;</td><td>2025.0</td><td>null</td><td>null</td><td>8.4</td><td>16.0</td><td>&quot;Manual 7-spd&quot;</td><td>null</td><td>null</td><td>null</td><td>42.501427</td><td>153.0</td><td>142.0</td><td>&quot;2024-10-17 00:00:00&quot;</td><td>&quot;true&quot;</td><td>10.0</td></tr></tbody></table></div>"
      ],
      "text/plain": [
       "shape: (9, 16)\n",
       "+-----+-----+-----+-----+-----+-----+-----+-----+-----+-----+-----+-----+-----+-----+-----+--------+\n",
       "| sta | yea | mak | mod | dis | cyl | tra | dri | VCl | fue | bar | cit | hig | cre | is_ | num_ge |\n",
       "| tis | r   | e   | el  | pl  | ind | ny  | ve  | ass | lTy | rel | y08 | hwa | ate | aut | ars    |\n",
       "| tic | --- | --- | --- | --- | ers | --- | --- | --- | pe  | s08 | --- | y08 | dOn | oma | ---    |\n",
       "| --- | f64 | str | str | f64 | --- | str | str | str | --- | --- | f64 | --- | --- | tic | f64    |\n",
       "| str |     |     |     |     | f64 |     |     |     | str | f64 |     | f64 | str | --- |        |\n",
       "|     |     |     |     |     |     |     |     |     |     |     |     |     |     | str |        |\n",
       "+==================================================================================================+\n",
       "| cou | 482 | 482 | 482 | 472 | 472 | 481 | 470 | 482 | 482 | 482 | 482 | 482 | 482 | 482 | 48202. |\n",
       "| nt  | 02. | 02  | 02  | 39. | 37. | 91  | 16  | 02  | 02  | 02. | 02. | 02. | 02  | 02  | 0      |\n",
       "|     | 0   |     |     | 0   | 0   |     |     |     |     | 0   | 0   | 0   |     |     |        |\n",
       "| nul | 0.0 | 0   | 0   | 963 | 965 | 11  | 118 | 0   | 0   | 0.0 | 0.0 | 0.0 | 0   | 0   | 0.0    |\n",
       "| l_c |     |     |     | .0  | .0  |     | 6   |     |     |     |     |     |     |     |        |\n",
       "| oun |     |     |     |     |     |     |     |     |     |     |     |     |     |     |        |\n",
       "| t   |     |     |     |     |     |     |     |     |     |     |     |     |     |     |        |\n",
       "| mea | 200 | nul | nul | 3.2 | 5.6 | nul | nul | nul | nul | 15. | 19. | 25. | 201 | nul | 5.3466 |\n",
       "| n   | 4.5 | l   | l   | 706 | 988 | l   | l   | l   | l   | 106 | 929 | 821 | 4-1 | l   | 66     |\n",
       "|     | 934 |     |     | 6   | 38  |     |     |     |     | 042 | 235 | 294 | 1-1 |     |        |\n",
       "|     | 4   |     |     |     |     |     |     |     |     |     |     |     | 4   |     |        |\n",
       "|     |     |     |     |     |     |     |     |     |     |     |     |     | 05: |     |        |\n",
       "|     |     |     |     |     |     |     |     |     |     |     |     |     | 34: |     |        |\n",
       "|     |     |     |     |     |     |     |     |     |     |     |     |     | 17. |     |        |\n",
       "|     |     |     |     |     |     |     |     |     |     |     |     |     | 590 |     |        |\n",
       "|     |     |     |     |     |     |     |     |     |     |     |     |     | 971 |     |        |\n",
       "| std | 12. | nul | nul | 1.3 | 1.7 | nul | nul | nul | nul | 4.5 | 12. | 11. | nul | nul | 1.7349 |\n",
       "|     | 681 | l   | l   | 530 | 729 | l   | l   | l   | l   | 601 | 658 | 087 | l   | l   | 6      |\n",
       "|     | 444 |     |     | 53  | 64  |     |     |     |     | 56  | 018 | 154 |     |     |        |\n",
       "| min | 198 | nul | nul | 0.0 | 2.0 | Aut | nul | nul | nul | 0.0 | 6.0 | 9.0 | 201 | Aut | 1.0    |\n",
       "|     | 4.0 | l   | l   |     |     | oma | l   | l   | l   | 470 |     |     | 3-0 | oma |        |\n",
       "|     |     |     |     |     |     | tic |     |     |     | 81  |     |     | 1-0 | tic |        |\n",
       "|     |     |     |     |     |     | (A1 |     |     |     |     |     |     | 1   |     |        |\n",
       "|     |     |     |     |     |     | )   |     |     |     |     |     |     | 00: |     |        |\n",
       "|     |     |     |     |     |     |     |     |     |     |     |     |     | 00: |     |        |\n",
       "|     |     |     |     |     |     |     |     |     |     |     |     |     | 00  |     |        |\n",
       "| 25% | 199 | nul | nul | 2.2 | 4.0 | nul | nul | nul | nul | 12. | 15. | 20. | 201 | nul | 4.0    |\n",
       "|     | 3.0 | l   | l   |     |     | l   | l   | l   | l   | 396 | 0   | 0   | 3-0 | l   |        |\n",
       "|     |     |     |     |     |     |     |     |     |     | 25  |     |     | 1-0 |     |        |\n",
       "|     |     |     |     |     |     |     |     |     |     |     |     |     | 1   |     |        |\n",
       "|     |     |     |     |     |     |     |     |     |     |     |     |     | 00: |     |        |\n",
       "|     |     |     |     |     |     |     |     |     |     |     |     |     | 00: |     |        |\n",
       "|     |     |     |     |     |     |     |     |     |     |     |     |     | 00  |     |        |\n",
       "| 50% | 200 | nul | nul | 3.0 | 6.0 | nul | nul | nul | nul | 14. | 18. | 24. | 201 | nul | 5.0    |\n",
       "|     | 6.0 | l   | l   |     |     | l   | l   | l   | l   | 875 | 0   | 0   | 3-0 | l   |        |\n",
       "|     |     |     |     |     |     |     |     |     |     | 5   |     |     | 1-0 |     |        |\n",
       "|     |     |     |     |     |     |     |     |     |     |     |     |     | 1   |     |        |\n",
       "|     |     |     |     |     |     |     |     |     |     |     |     |     | 00: |     |        |\n",
       "|     |     |     |     |     |     |     |     |     |     |     |     |     | 00: |     |        |\n",
       "|     |     |     |     |     |     |     |     |     |     |     |     |     | 00  |     |        |\n",
       "| 75% | 201 | nul | nul | 4.2 | 6.0 | nul | nul | nul | nul | 17. | 21. | 28. | 201 | nul | 6.0    |\n",
       "|     | 6.0 | l   | l   |     |     | l   | l   | l   | l   | 500 | 0   | 0   | 5-0 | l   |        |\n",
       "|     |     |     |     |     |     |     |     |     |     | 587 |     |     | 7-0 |     |        |\n",
       "|     |     |     |     |     |     |     |     |     |     |     |     |     | 2   |     |        |\n",
       "|     |     |     |     |     |     |     |     |     |     |     |     |     | 00: |     |        |\n",
       "|     |     |     |     |     |     |     |     |     |     |     |     |     | 00: |     |        |\n",
       "|     |     |     |     |     |     |     |     |     |     |     |     |     | 00  |     |        |\n",
       "| max | 202 | nul | nul | 8.4 | 16. | Man | nul | nul | nul | 42. | 153 | 142 | 202 | tru | 10.0   |\n",
       "|     | 5.0 | l   | l   |     | 0   | ual | l   | l   | l   | 501 | .0  | .0  | 4-1 | e   |        |\n",
       "|     |     |     |     |     |     | 7-s |     |     |     | 427 |     |     | 0-1 |     |        |\n",
       "|     |     |     |     |     |     | pd  |     |     |     |     |     |     | 7   |     |        |\n",
       "|     |     |     |     |     |     |     |     |     |     |     |     |     | 00: |     |        |\n",
       "|     |     |     |     |     |     |     |     |     |     |     |     |     | 00: |     |        |\n",
       "|     |     |     |     |     |     |     |     |     |     |     |     |     | 00  |     |        |\n",
       "+-----+-----+-----+-----+-----+-----+-----+-----+-----+-----+-----+-----+-----+-----+-----+--------+"
      ]
     },
     "execution_count": 83,
     "metadata": {},
     "output_type": "execute_result"
    }
   ],
   "source": [
    "tweak_auto(df).describe()"
   ]
  },
  {
   "cell_type": "markdown",
   "id": "35e73909-b429-4fe0-906c-93621a3132b6",
   "metadata": {},
   "source": [
    "## 1.14.2 `corr()`\n",
    "[back to top](#Top)"
   ]
  },
  {
   "cell_type": "markdown",
   "id": "42868f25-c43b-4690-8f14-ea58048811b8",
   "metadata": {},
   "source": [
    "* To check how numeric columns interact, use the `.corr` method to compute the Pearson correlation coefficient.\n",
    "* This gives a number between -1 and 1.\n",
    "* Since `.corr` only work with numeric columns, use `cs.numeric` to select numeric columns."
   ]
  },
  {
   "cell_type": "code",
   "execution_count": 84,
   "id": "f224b1b2-e6c1-4ee6-810b-8dc68c66f15c",
   "metadata": {},
   "outputs": [
    {
     "data": {
      "text/plain": [
       "['Any',\n",
       " 'Binary',\n",
       " 'Boolean',\n",
       " 'Categorical',\n",
       " 'Collection',\n",
       " 'Date',\n",
       " 'Datetime',\n",
       " 'Decimal',\n",
       " 'Duration',\n",
       " 'Expr',\n",
       " 'F',\n",
       " 'FLOAT_DTYPES',\n",
       " 'INTEGER_DTYPES',\n",
       " 'Literal',\n",
       " 'Mapping',\n",
       " 'NUMERIC_DTYPES',\n",
       " 'NoReturn',\n",
       " 'Object',\n",
       " 'SIGNED_INTEGER_DTYPES',\n",
       " 'Sequence',\n",
       " 'String',\n",
       " 'TEMPORAL_DTYPES',\n",
       " 'TYPE_CHECKING',\n",
       " 'Time',\n",
       " 'UNSIGNED_INTEGER_DTYPES',\n",
       " 'all',\n",
       " 'alpha',\n",
       " 'alphanumeric',\n",
       " 'annotations',\n",
       " 'binary',\n",
       " 'boolean',\n",
       " 'by_dtype',\n",
       " 'by_index',\n",
       " 'by_name',\n",
       " 'categorical',\n",
       " 'contains',\n",
       " 'date',\n",
       " 'datetime',\n",
       " 'decimal',\n",
       " 'digit',\n",
       " 'duration',\n",
       " 'ends_with',\n",
       " 'exclude',\n",
       " 'expand_selector',\n",
       " 'first',\n",
       " 'float',\n",
       " 'integer',\n",
       " 'is_column',\n",
       " 'is_polars_dtype',\n",
       " 'is_selector',\n",
       " 'last',\n",
       " 'matches',\n",
       " 'numeric',\n",
       " 'object',\n",
       " 'or_',\n",
       " 'overload',\n",
       " 're_escape',\n",
       " 'reduce',\n",
       " 'signed_integer',\n",
       " 'starts_with',\n",
       " 'string',\n",
       " 'temporal',\n",
       " 'time',\n",
       " 'timezone',\n",
       " 'unsigned_integer']"
      ]
     },
     "execution_count": 84,
     "metadata": {},
     "output_type": "execute_result"
    }
   ],
   "source": [
    "import polars.selectors as cs\n",
    "\n",
    "[x for x in dir(cs) if not x.startswith('_')]"
   ]
  },
  {
   "cell_type": "code",
   "execution_count": 85,
   "id": "6a36d49d-e9fb-4aa4-9d06-aa7d7da7252b",
   "metadata": {},
   "outputs": [
    {
     "name": "stderr",
     "output_type": "stream",
     "text": [
      "/var/folders/sb/p6dz60l562q8pzfgzf74gsxm0000gn/T/ipykernel_1914/2541424730.py:7: CategoricalRemappingWarning: Local categoricals have different encodings, expensive re-encoding is done to perform this merge operation. Consider using a StringCache or an Enum type if the categories are known in advance\n",
      "  .with_columns(\n"
     ]
    },
    {
     "data": {
      "text/html": [
       "<div><style>\n",
       ".dataframe > thead > tr,\n",
       ".dataframe > tbody > tr {\n",
       "  text-align: right;\n",
       "  white-space: pre-wrap;\n",
       "}\n",
       "</style>\n",
       "<small>shape: (48_202, 7)</small><table border=\"1\" class=\"dataframe\"><thead><tr><th>year</th><th>displ</th><th>cylinders</th><th>barrels08</th><th>city08</th><th>highway08</th><th>num_gears</th></tr><tr><td>i16</td><td>f32</td><td>u8</td><td>f32</td><td>u8</td><td>u8</td><td>u8</td></tr></thead><tbody><tr><td>1985</td><td>2.0</td><td>4</td><td>14.167143</td><td>19</td><td>25</td><td>5</td></tr><tr><td>1985</td><td>4.9</td><td>12</td><td>27.046364</td><td>9</td><td>14</td><td>5</td></tr><tr><td>1985</td><td>2.2</td><td>4</td><td>11.018888</td><td>23</td><td>33</td><td>5</td></tr><tr><td>1985</td><td>5.2</td><td>8</td><td>27.046364</td><td>10</td><td>12</td><td>3</td></tr><tr><td>1993</td><td>2.2</td><td>4</td><td>15.658422</td><td>17</td><td>23</td><td>5</td></tr><tr><td>&hellip;</td><td>&hellip;</td><td>&hellip;</td><td>&hellip;</td><td>&hellip;</td><td>&hellip;</td><td>&hellip;</td></tr><tr><td>1993</td><td>2.2</td><td>4</td><td>13.523182</td><td>19</td><td>26</td><td>4</td></tr><tr><td>1993</td><td>2.2</td><td>4</td><td>12.935218</td><td>20</td><td>28</td><td>5</td></tr><tr><td>1993</td><td>2.2</td><td>4</td><td>14.167143</td><td>18</td><td>24</td><td>4</td></tr><tr><td>1993</td><td>2.2</td><td>4</td><td>14.167143</td><td>18</td><td>24</td><td>5</td></tr><tr><td>1993</td><td>2.2</td><td>4</td><td>16.528334</td><td>16</td><td>21</td><td>4</td></tr></tbody></table></div>"
      ],
      "text/plain": [
       "shape: (48_202, 7)\n",
       "+------+-------+-----------+-----------+--------+-----------+-----------+\n",
       "| year | displ | cylinders | barrels08 | city08 | highway08 | num_gears |\n",
       "| ---  | ---   | ---       | ---       | ---    | ---       | ---       |\n",
       "| i16  | f32   | u8        | f32       | u8     | u8        | u8        |\n",
       "+=======================================================================+\n",
       "| 1985 | 2.0   | 4         | 14.167143 | 19     | 25        | 5         |\n",
       "| 1985 | 4.9   | 12        | 27.046364 | 9      | 14        | 5         |\n",
       "| 1985 | 2.2   | 4         | 11.018888 | 23     | 33        | 5         |\n",
       "| 1985 | 5.2   | 8         | 27.046364 | 10     | 12        | 3         |\n",
       "| 1993 | 2.2   | 4         | 15.658422 | 17     | 23        | 5         |\n",
       "| …    | …     | …         | …         | …      | …         | …         |\n",
       "| 1993 | 2.2   | 4         | 13.523182 | 19     | 26        | 4         |\n",
       "| 1993 | 2.2   | 4         | 12.935218 | 20     | 28        | 5         |\n",
       "| 1993 | 2.2   | 4         | 14.167143 | 18     | 24        | 4         |\n",
       "| 1993 | 2.2   | 4         | 14.167143 | 18     | 24        | 5         |\n",
       "| 1993 | 2.2   | 4         | 16.528334 | 16     | 21        | 4         |\n",
       "+------+-------+-----------+-----------+--------+-----------+-----------+"
      ]
     },
     "execution_count": 85,
     "metadata": {},
     "output_type": "execute_result"
    }
   ],
   "source": [
    "# Test\n",
    "(\n",
    "    tweak_auto(df)\n",
    "    .select(cs.numeric())\n",
    ")"
   ]
  },
  {
   "cell_type": "code",
   "execution_count": 86,
   "id": "d9035987-01ab-48a7-92f3-af796ec05897",
   "metadata": {},
   "outputs": [
    {
     "name": "stderr",
     "output_type": "stream",
     "text": [
      "/var/folders/sb/p6dz60l562q8pzfgzf74gsxm0000gn/T/ipykernel_1914/2541424730.py:7: CategoricalRemappingWarning: Local categoricals have different encodings, expensive re-encoding is done to perform this merge operation. Consider using a StringCache or an Enum type if the categories are known in advance\n",
      "  .with_columns(\n"
     ]
    },
    {
     "data": {
      "text/html": [
       "<div><style>\n",
       ".dataframe > thead > tr,\n",
       ".dataframe > tbody > tr {\n",
       "  text-align: right;\n",
       "  white-space: pre-wrap;\n",
       "}\n",
       "</style>\n",
       "<small>shape: (7, 7)</small><table border=\"1\" class=\"dataframe\"><thead><tr><th>year</th><th>displ</th><th>cylinders</th><th>barrels08</th><th>city08</th><th>highway08</th><th>num_gears</th></tr><tr><td>f64</td><td>f64</td><td>f64</td><td>f64</td><td>f64</td><td>f64</td><td>f64</td></tr></thead><tbody><tr><td>1.0</td><td>NaN</td><td>NaN</td><td>-0.337749</td><td>0.265745</td><td>0.311381</td><td>0.655384</td></tr><tr><td>NaN</td><td>NaN</td><td>NaN</td><td>NaN</td><td>NaN</td><td>NaN</td><td>NaN</td></tr><tr><td>NaN</td><td>NaN</td><td>NaN</td><td>NaN</td><td>NaN</td><td>NaN</td><td>NaN</td></tr><tr><td>-0.337749</td><td>NaN</td><td>NaN</td><td>1.0</td><td>-0.728718</td><td>-0.812348</td><td>-0.035065</td></tr><tr><td>0.265745</td><td>NaN</td><td>NaN</td><td>-0.728718</td><td>1.0</td><td>0.9659</td><td>-0.231614</td></tr><tr><td>0.311381</td><td>NaN</td><td>NaN</td><td>-0.812348</td><td>0.9659</td><td>1.0</td><td>-0.153306</td></tr><tr><td>0.655384</td><td>NaN</td><td>NaN</td><td>-0.035065</td><td>-0.231614</td><td>-0.153306</td><td>1.0</td></tr></tbody></table></div>"
      ],
      "text/plain": [
       "shape: (7, 7)\n",
       "+-----------+-------+-----------+-----------+-----------+-----------+-----------+\n",
       "| year      | displ | cylinders | barrels08 | city08    | highway08 | num_gears |\n",
       "| ---       | ---   | ---       | ---       | ---       | ---       | ---       |\n",
       "| f64       | f64   | f64       | f64       | f64       | f64       | f64       |\n",
       "+===============================================================================+\n",
       "| 1.0       | NaN   | NaN       | -0.337749 | 0.265745  | 0.311381  | 0.655384  |\n",
       "| NaN       | NaN   | NaN       | NaN       | NaN       | NaN       | NaN       |\n",
       "| NaN       | NaN   | NaN       | NaN       | NaN       | NaN       | NaN       |\n",
       "| -0.337749 | NaN   | NaN       | 1.0       | -0.728718 | -0.812348 | -0.035065 |\n",
       "| 0.265745  | NaN   | NaN       | -0.728718 | 1.0       | 0.9659    | -0.231614 |\n",
       "| 0.311381  | NaN   | NaN       | -0.812348 | 0.9659    | 1.0       | -0.153306 |\n",
       "| 0.655384  | NaN   | NaN       | -0.035065 | -0.231614 | -0.153306 | 1.0       |\n",
       "+-----------+-------+-----------+-----------+-----------+-----------+-----------+"
      ]
     },
     "execution_count": 86,
     "metadata": {},
     "output_type": "execute_result"
    }
   ],
   "source": [
    "(\n",
    "    tweak_auto(df)\n",
    "    .select(cs.numeric())\n",
    "    .corr()\n",
    ")"
   ]
  },
  {
   "cell_type": "markdown",
   "id": "a728a967-e915-4034-a80a-cca92d4b5dce",
   "metadata": {},
   "source": [
    "* Use `.pipe()` to add a column showing which columns are being connected.\n",
    "* Use `.insert_column()` to insert a `Series` into a dataframe.\n",
    "* Use the `pl.Series` constructor to create a Series with the column names.\n",
    "* Use `.pipe` since we want to work with the **current state of the dataframe**, the correlation dataframe.\n",
    "* Grab columns from the correlation dataframe and insert them as the first column called *names*.\n",
    "* Use `.insert_column()` to insert the column."
   ]
  },
  {
   "cell_type": "code",
   "execution_count": 87,
   "id": "6840ad2a-52c8-462f-be3f-a35f5f1db0e9",
   "metadata": {},
   "outputs": [
    {
     "name": "stderr",
     "output_type": "stream",
     "text": [
      "/var/folders/sb/p6dz60l562q8pzfgzf74gsxm0000gn/T/ipykernel_1914/2541424730.py:7: CategoricalRemappingWarning: Local categoricals have different encodings, expensive re-encoding is done to perform this merge operation. Consider using a StringCache or an Enum type if the categories are known in advance\n",
      "  .with_columns(\n"
     ]
    },
    {
     "data": {
      "text/html": [
       "<div><style>\n",
       ".dataframe > thead > tr,\n",
       ".dataframe > tbody > tr {\n",
       "  text-align: right;\n",
       "  white-space: pre-wrap;\n",
       "}\n",
       "</style>\n",
       "<small>shape: (7, 7)</small><table border=\"1\" class=\"dataframe\"><thead><tr><th>year</th><th>displ</th><th>cylinders</th><th>barrels08</th><th>city08</th><th>highway08</th><th>num_gears</th></tr><tr><td>f64</td><td>f64</td><td>f64</td><td>f64</td><td>f64</td><td>f64</td><td>f64</td></tr></thead><tbody><tr><td>1.0</td><td>NaN</td><td>NaN</td><td>-0.337749</td><td>0.265745</td><td>0.311381</td><td>0.655384</td></tr><tr><td>NaN</td><td>NaN</td><td>NaN</td><td>NaN</td><td>NaN</td><td>NaN</td><td>NaN</td></tr><tr><td>NaN</td><td>NaN</td><td>NaN</td><td>NaN</td><td>NaN</td><td>NaN</td><td>NaN</td></tr><tr><td>-0.337749</td><td>NaN</td><td>NaN</td><td>1.0</td><td>-0.728718</td><td>-0.812348</td><td>-0.035065</td></tr><tr><td>0.265745</td><td>NaN</td><td>NaN</td><td>-0.728718</td><td>1.0</td><td>0.9659</td><td>-0.231614</td></tr><tr><td>0.311381</td><td>NaN</td><td>NaN</td><td>-0.812348</td><td>0.9659</td><td>1.0</td><td>-0.153306</td></tr><tr><td>0.655384</td><td>NaN</td><td>NaN</td><td>-0.035065</td><td>-0.231614</td><td>-0.153306</td><td>1.0</td></tr></tbody></table></div>"
      ],
      "text/plain": [
       "shape: (7, 7)\n",
       "+-----------+-------+-----------+-----------+-----------+-----------+-----------+\n",
       "| year      | displ | cylinders | barrels08 | city08    | highway08 | num_gears |\n",
       "| ---       | ---   | ---       | ---       | ---       | ---       | ---       |\n",
       "| f64       | f64   | f64       | f64       | f64       | f64       | f64       |\n",
       "+===============================================================================+\n",
       "| 1.0       | NaN   | NaN       | -0.337749 | 0.265745  | 0.311381  | 0.655384  |\n",
       "| NaN       | NaN   | NaN       | NaN       | NaN       | NaN       | NaN       |\n",
       "| NaN       | NaN   | NaN       | NaN       | NaN       | NaN       | NaN       |\n",
       "| -0.337749 | NaN   | NaN       | 1.0       | -0.728718 | -0.812348 | -0.035065 |\n",
       "| 0.265745  | NaN   | NaN       | -0.728718 | 1.0       | 0.9659    | -0.231614 |\n",
       "| 0.311381  | NaN   | NaN       | -0.812348 | 0.9659    | 1.0       | -0.153306 |\n",
       "| 0.655384  | NaN   | NaN       | -0.035065 | -0.231614 | -0.153306 | 1.0       |\n",
       "+-----------+-------+-----------+-----------+-----------+-----------+-----------+"
      ]
     },
     "execution_count": 87,
     "metadata": {},
     "output_type": "execute_result"
    }
   ],
   "source": [
    "pl_corr_df = (\n",
    "    tweak_auto(df)\n",
    "    .select(cs.numeric())\n",
    "    .corr()\n",
    ")\n",
    "pl_corr_df"
   ]
  },
  {
   "cell_type": "code",
   "execution_count": 88,
   "id": "80123bf1-3855-45ab-a439-8a2a13ae1524",
   "metadata": {},
   "outputs": [
    {
     "data": {
      "text/plain": [
       "['year', 'displ', 'cylinders', 'barrels08', 'city08', 'highway08', 'num_gears']"
      ]
     },
     "execution_count": 88,
     "metadata": {},
     "output_type": "execute_result"
    }
   ],
   "source": [
    "pl_corr_df_numeric = pl_corr_df.select(cs.numeric()).columns\n",
    "pl_corr_df_numeric"
   ]
  },
  {
   "cell_type": "code",
   "execution_count": 89,
   "id": "38eafdc1-dd46-486c-8871-945e5218e0d3",
   "metadata": {},
   "outputs": [
    {
     "data": {
      "text/html": [
       "<div><style>\n",
       ".dataframe > thead > tr,\n",
       ".dataframe > tbody > tr {\n",
       "  text-align: right;\n",
       "  white-space: pre-wrap;\n",
       "}\n",
       "</style>\n",
       "<small>shape: (7, 7)</small><table border=\"1\" class=\"dataframe\"><thead><tr><th>year</th><th>displ</th><th>cylinders</th><th>barrels08</th><th>city08</th><th>highway08</th><th>num_gears</th></tr><tr><td>f64</td><td>f64</td><td>f64</td><td>f64</td><td>f64</td><td>f64</td><td>f64</td></tr></thead><tbody><tr><td>1.0</td><td>NaN</td><td>NaN</td><td>-0.337749</td><td>0.265745</td><td>0.311381</td><td>0.655384</td></tr><tr><td>NaN</td><td>NaN</td><td>NaN</td><td>NaN</td><td>NaN</td><td>NaN</td><td>NaN</td></tr><tr><td>NaN</td><td>NaN</td><td>NaN</td><td>NaN</td><td>NaN</td><td>NaN</td><td>NaN</td></tr><tr><td>-0.337749</td><td>NaN</td><td>NaN</td><td>1.0</td><td>-0.728718</td><td>-0.812348</td><td>-0.035065</td></tr><tr><td>0.265745</td><td>NaN</td><td>NaN</td><td>-0.728718</td><td>1.0</td><td>0.9659</td><td>-0.231614</td></tr><tr><td>0.311381</td><td>NaN</td><td>NaN</td><td>-0.812348</td><td>0.9659</td><td>1.0</td><td>-0.153306</td></tr><tr><td>0.655384</td><td>NaN</td><td>NaN</td><td>-0.035065</td><td>-0.231614</td><td>-0.153306</td><td>1.0</td></tr></tbody></table></div>"
      ],
      "text/plain": [
       "shape: (7, 7)\n",
       "+-----------+-------+-----------+-----------+-----------+-----------+-----------+\n",
       "| year      | displ | cylinders | barrels08 | city08    | highway08 | num_gears |\n",
       "| ---       | ---   | ---       | ---       | ---       | ---       | ---       |\n",
       "| f64       | f64   | f64       | f64       | f64       | f64       | f64       |\n",
       "+===============================================================================+\n",
       "| 1.0       | NaN   | NaN       | -0.337749 | 0.265745  | 0.311381  | 0.655384  |\n",
       "| NaN       | NaN   | NaN       | NaN       | NaN       | NaN       | NaN       |\n",
       "| NaN       | NaN   | NaN       | NaN       | NaN       | NaN       | NaN       |\n",
       "| -0.337749 | NaN   | NaN       | 1.0       | -0.728718 | -0.812348 | -0.035065 |\n",
       "| 0.265745  | NaN   | NaN       | -0.728718 | 1.0       | 0.9659    | -0.231614 |\n",
       "| 0.311381  | NaN   | NaN       | -0.812348 | 0.9659    | 1.0       | -0.153306 |\n",
       "| 0.655384  | NaN   | NaN       | -0.035065 | -0.231614 | -0.153306 | 1.0       |\n",
       "+-----------+-------+-----------+-----------+-----------+-----------+-----------+"
      ]
     },
     "execution_count": 89,
     "metadata": {},
     "output_type": "execute_result"
    }
   ],
   "source": [
    "pl_corr_df"
   ]
  },
  {
   "cell_type": "code",
   "execution_count": 90,
   "id": "29b80b97-0260-49e1-893d-c6406242aaeb",
   "metadata": {},
   "outputs": [
    {
     "data": {
      "image/png": "[encoded data removed]",
      "text/plain": [
       "<Figure size 500x300 with 2 Axes>"
      ]
     },
     "metadata": {
      "image/png": {
       "height": 358,
       "width": 499
      }
     },
     "output_type": "display_data"
    }
   ],
   "source": [
    "import seaborn as sns\n",
    "import matplotlib.pyplot as plt\n",
    "\n",
    "plt.figure(figsize=(5, 3))\n",
    "sns.heatmap(pl_corr_df, \n",
    "            cmap='RdBu', \n",
    "            vmin=-1, \n",
    "            vmax=1, \n",
    "            center=0, \n",
    "            xticklabels=pl_corr_df_numeric, \n",
    "            yticklabels=pl_corr_df_numeric,\n",
    "            # annot=True\n",
    "            annot=pl_corr_df\n",
    "           )\n",
    "plt.title('Spearman Correlation Heatmap')\n",
    "plt.show()"
   ]
  },
  {
   "cell_type": "markdown",
   "id": "95861c80-db09-4814-9df6-9a861dbab5c6",
   "metadata": {},
   "source": [
    "## 1.14.3 `corr()` with Pandas\n",
    "[back to top](#Top)\n",
    "\n"
   ]
  },
  {
   "cell_type": "markdown",
   "id": "2f95d139-346a-4e4c-b05c-40c6bd8f60df",
   "metadata": {},
   "source": [
    "In practice, using Pandas is more convenient for examining correlations.\n",
    "\n",
    "* Pandas handles missing values better.\n",
    "* Pandas has support for the Pearson, Spearman and Kendall correlation coefficients.\n",
    "* We can color the cells to make it easier to see the correlation coefficients.\n",
    "* To enable access from Polars to Pandas, use `.to_pandas()`"
   ]
  },
  {
   "cell_type": "code",
   "execution_count": 91,
   "id": "62595227-f9d8-40c0-849f-336a38205b25",
   "metadata": {},
   "outputs": [
    {
     "name": "stdout",
     "output_type": "stream",
     "text": [
      "<class 'pandas.core.frame.DataFrame'>\n",
      "RangeIndex: 48202 entries, 0 to 48201\n",
      "Data columns (total 15 columns):\n",
      " #   Column        Non-Null Count  Dtype                                                             \n",
      "---  ------        --------------  -----                                                             \n",
      " 0   year          48202 non-null  int16[pyarrow]                                                    \n",
      " 1   make          48202 non-null  dictionary<values=large_string, indices=int64, ordered=0>[pyarrow]\n",
      " 2   model         48202 non-null  dictionary<values=large_string, indices=int64, ordered=0>[pyarrow]\n",
      " 3   displ         47239 non-null  float[pyarrow]                                                    \n",
      " 4   cylinders     47237 non-null  uint8[pyarrow]                                                    \n",
      " 5   trany         48191 non-null  large_string[pyarrow]                                             \n",
      " 6   drive         47016 non-null  dictionary<values=large_string, indices=int64, ordered=0>[pyarrow]\n",
      " 7   VClass        48202 non-null  dictionary<values=large_string, indices=int64, ordered=0>[pyarrow]\n",
      " 8   fuelType      48202 non-null  dictionary<values=large_string, indices=int64, ordered=0>[pyarrow]\n",
      " 9   barrels08     48202 non-null  float[pyarrow]                                                    \n",
      " 10  city08        48202 non-null  uint8[pyarrow]                                                    \n",
      " 11  highway08     48202 non-null  uint8[pyarrow]                                                    \n",
      " 12  createdOn     48202 non-null  timestamp[us][pyarrow]                                            \n",
      " 13  is_automatic  48202 non-null  large_string[pyarrow]                                             \n",
      " 14  num_gears     48202 non-null  uint8[pyarrow]                                                    \n",
      "dtypes: dictionary<values=large_string, indices=int64, ordered=0>[pyarrow](5), float[pyarrow](2), int16[pyarrow](1), large_string[pyarrow](2), timestamp[us][pyarrow](1), uint8[pyarrow](4)\n",
      "memory usage: 4.6 MB\n"
     ]
    },
    {
     "name": "stderr",
     "output_type": "stream",
     "text": [
      "/var/folders/sb/p6dz60l562q8pzfgzf74gsxm0000gn/T/ipykernel_1914/2541424730.py:7: CategoricalRemappingWarning: Local categoricals have different encodings, expensive re-encoding is done to perform this merge operation. Consider using a StringCache or an Enum type if the categories are known in advance\n",
      "  .with_columns(\n"
     ]
    }
   ],
   "source": [
    "# Test\n",
    "(\n",
    "    tweak_auto(df)\n",
    "    .to_pandas(\n",
    "        use_pyarrow_extension_array=True\n",
    "    )\n",
    "    .info()\n",
    ")"
   ]
  },
  {
   "cell_type": "code",
   "execution_count": 92,
   "id": "e56aa173-dec6-4b17-983f-e29c80c72335",
   "metadata": {},
   "outputs": [
    {
     "name": "stderr",
     "output_type": "stream",
     "text": [
      "/var/folders/sb/p6dz60l562q8pzfgzf74gsxm0000gn/T/ipykernel_1914/2541424730.py:7: CategoricalRemappingWarning: Local categoricals have different encodings, expensive re-encoding is done to perform this merge operation. Consider using a StringCache or an Enum type if the categories are known in advance\n",
      "  .with_columns(\n"
     ]
    },
    {
     "data": {
      "text/html": [
       "<style type=\"text/css\">\n",
       "#T_bfda7_row0_col0, #T_bfda7_row1_col1, #T_bfda7_row2_col2, #T_bfda7_row3_col3, #T_bfda7_row4_col4, #T_bfda7_row5_col5, #T_bfda7_row6_col6 {\n",
       "  background-color: #053061;\n",
       "  color: #f1f1f1;\n",
       "}\n",
       "#T_bfda7_row0_col1, #T_bfda7_row1_col0 {\n",
       "  background-color: #f6f7f7;\n",
       "  color: #000000;\n",
       "}\n",
       "#T_bfda7_row0_col2, #T_bfda7_row2_col0, #T_bfda7_row2_col6, #T_bfda7_row6_col2 {\n",
       "  background-color: #f3f5f6;\n",
       "  color: #000000;\n",
       "}\n",
       "#T_bfda7_row0_col3, #T_bfda7_row3_col0 {\n",
       "  background-color: #f8bb9e;\n",
       "  color: #000000;\n",
       "}\n",
       "#T_bfda7_row0_col4, #T_bfda7_row4_col0 {\n",
       "  background-color: #b8d8e9;\n",
       "  color: #000000;\n",
       "}\n",
       "#T_bfda7_row0_col5, #T_bfda7_row5_col0 {\n",
       "  background-color: #a9d1e5;\n",
       "  color: #000000;\n",
       "}\n",
       "#T_bfda7_row0_col6, #T_bfda7_row6_col0 {\n",
       "  background-color: #2e77b5;\n",
       "  color: #f1f1f1;\n",
       "}\n",
       "#T_bfda7_row1_col2, #T_bfda7_row2_col1 {\n",
       "  background-color: #0f437b;\n",
       "  color: #f1f1f1;\n",
       "}\n",
       "#T_bfda7_row1_col3, #T_bfda7_row3_col1 {\n",
       "  background-color: #1e61a5;\n",
       "  color: #f1f1f1;\n",
       "}\n",
       "#T_bfda7_row1_col4, #T_bfda7_row4_col1 {\n",
       "  background-color: #a21328;\n",
       "  color: #f1f1f1;\n",
       "}\n",
       "#T_bfda7_row1_col5, #T_bfda7_row5_col1 {\n",
       "  background-color: #ba2832;\n",
       "  color: #f1f1f1;\n",
       "}\n",
       "#T_bfda7_row1_col6, #T_bfda7_row6_col1 {\n",
       "  background-color: #f8f4f2;\n",
       "  color: #000000;\n",
       "}\n",
       "#T_bfda7_row2_col3, #T_bfda7_row3_col2 {\n",
       "  background-color: #246aae;\n",
       "  color: #f1f1f1;\n",
       "}\n",
       "#T_bfda7_row2_col4, #T_bfda7_row4_col2 {\n",
       "  background-color: #ae172a;\n",
       "  color: #f1f1f1;\n",
       "}\n",
       "#T_bfda7_row2_col5, #T_bfda7_row5_col2 {\n",
       "  background-color: #c43b3c;\n",
       "  color: #f1f1f1;\n",
       "}\n",
       "#T_bfda7_row3_col4, #T_bfda7_row4_col3 {\n",
       "  background-color: #700320;\n",
       "  color: #f1f1f1;\n",
       "}\n",
       "#T_bfda7_row3_col5, #T_bfda7_row5_col3 {\n",
       "  background-color: #760521;\n",
       "  color: #f1f1f1;\n",
       "}\n",
       "#T_bfda7_row3_col6, #T_bfda7_row6_col3 {\n",
       "  background-color: #fddbc7;\n",
       "  color: #000000;\n",
       "}\n",
       "#T_bfda7_row4_col5, #T_bfda7_row5_col4 {\n",
       "  background-color: #0e4179;\n",
       "  color: #f1f1f1;\n",
       "}\n",
       "#T_bfda7_row4_col6, #T_bfda7_row6_col4 {\n",
       "  background-color: #d7e8f1;\n",
       "  color: #000000;\n",
       "}\n",
       "#T_bfda7_row5_col6, #T_bfda7_row6_col5 {\n",
       "  background-color: #c7e0ed;\n",
       "  color: #000000;\n",
       "}\n",
       "</style>\n",
       "<table id=\"T_bfda7\">\n",
       "  <thead>\n",
       "    <tr>\n",
       "      <th class=\"blank level0\" >&nbsp;</th>\n",
       "      <th id=\"T_bfda7_level0_col0\" class=\"col_heading level0 col0\" >year</th>\n",
       "      <th id=\"T_bfda7_level0_col1\" class=\"col_heading level0 col1\" >displ</th>\n",
       "      <th id=\"T_bfda7_level0_col2\" class=\"col_heading level0 col2\" >cylinders</th>\n",
       "      <th id=\"T_bfda7_level0_col3\" class=\"col_heading level0 col3\" >barrels08</th>\n",
       "      <th id=\"T_bfda7_level0_col4\" class=\"col_heading level0 col4\" >city08</th>\n",
       "      <th id=\"T_bfda7_level0_col5\" class=\"col_heading level0 col5\" >highway08</th>\n",
       "      <th id=\"T_bfda7_level0_col6\" class=\"col_heading level0 col6\" >num_gears</th>\n",
       "    </tr>\n",
       "  </thead>\n",
       "  <tbody>\n",
       "    <tr>\n",
       "      <th id=\"T_bfda7_level0_row0\" class=\"row_heading level0 row0\" >year</th>\n",
       "      <td id=\"T_bfda7_row0_col0\" class=\"data row0 col0\" >1.000000</td>\n",
       "      <td id=\"T_bfda7_row0_col1\" class=\"data row0 col1\" >0.000921</td>\n",
       "      <td id=\"T_bfda7_row0_col2\" class=\"data row0 col2\" >0.017721</td>\n",
       "      <td id=\"T_bfda7_row0_col3\" class=\"data row0 col3\" >-0.313996</td>\n",
       "      <td id=\"T_bfda7_row0_col4\" class=\"data row0 col4\" >0.275952</td>\n",
       "      <td id=\"T_bfda7_row0_col5\" class=\"data row0 col5\" >0.326529</td>\n",
       "      <td id=\"T_bfda7_row0_col6\" class=\"data row0 col6\" >0.723908</td>\n",
       "    </tr>\n",
       "    <tr>\n",
       "      <th id=\"T_bfda7_level0_row1\" class=\"row_heading level0 row1\" >displ</th>\n",
       "      <td id=\"T_bfda7_row1_col0\" class=\"data row1 col0\" >0.000921</td>\n",
       "      <td id=\"T_bfda7_row1_col1\" class=\"data row1 col1\" >1.000000</td>\n",
       "      <td id=\"T_bfda7_row1_col2\" class=\"data row1 col2\" >0.928008</td>\n",
       "      <td id=\"T_bfda7_row1_col3\" class=\"data row1 col3\" >0.819792</td>\n",
       "      <td id=\"T_bfda7_row1_col4\" class=\"data row1 col4\" >-0.839134</td>\n",
       "      <td id=\"T_bfda7_row1_col5\" class=\"data row1 col5\" >-0.751833</td>\n",
       "      <td id=\"T_bfda7_row1_col6\" class=\"data row1 col6\" >-0.021957</td>\n",
       "    </tr>\n",
       "    <tr>\n",
       "      <th id=\"T_bfda7_level0_row2\" class=\"row_heading level0 row2\" >cylinders</th>\n",
       "      <td id=\"T_bfda7_row2_col0\" class=\"data row2 col0\" >0.017721</td>\n",
       "      <td id=\"T_bfda7_row2_col1\" class=\"data row2 col1\" >0.928008</td>\n",
       "      <td id=\"T_bfda7_row2_col2\" class=\"data row2 col2\" >1.000000</td>\n",
       "      <td id=\"T_bfda7_row2_col3\" class=\"data row2 col3\" >0.779714</td>\n",
       "      <td id=\"T_bfda7_row2_col4\" class=\"data row2 col4\" >-0.810492</td>\n",
       "      <td id=\"T_bfda7_row2_col5\" class=\"data row2 col5\" >-0.701827</td>\n",
       "      <td id=\"T_bfda7_row2_col6\" class=\"data row2 col6\" >0.020363</td>\n",
       "    </tr>\n",
       "    <tr>\n",
       "      <th id=\"T_bfda7_level0_row3\" class=\"row_heading level0 row3\" >barrels08</th>\n",
       "      <td id=\"T_bfda7_row3_col0\" class=\"data row3 col0\" >-0.313996</td>\n",
       "      <td id=\"T_bfda7_row3_col1\" class=\"data row3 col1\" >0.819792</td>\n",
       "      <td id=\"T_bfda7_row3_col2\" class=\"data row3 col2\" >0.779714</td>\n",
       "      <td id=\"T_bfda7_row3_col3\" class=\"data row3 col3\" >1.000000</td>\n",
       "      <td id=\"T_bfda7_row3_col4\" class=\"data row3 col4\" >-0.973140</td>\n",
       "      <td id=\"T_bfda7_row3_col5\" class=\"data row3 col5\" >-0.960104</td>\n",
       "      <td id=\"T_bfda7_row3_col6\" class=\"data row3 col6\" >-0.201620</td>\n",
       "    </tr>\n",
       "    <tr>\n",
       "      <th id=\"T_bfda7_level0_row4\" class=\"row_heading level0 row4\" >city08</th>\n",
       "      <td id=\"T_bfda7_row4_col0\" class=\"data row4 col0\" >0.275952</td>\n",
       "      <td id=\"T_bfda7_row4_col1\" class=\"data row4 col1\" >-0.839134</td>\n",
       "      <td id=\"T_bfda7_row4_col2\" class=\"data row4 col2\" >-0.810492</td>\n",
       "      <td id=\"T_bfda7_row4_col3\" class=\"data row4 col3\" >-0.973140</td>\n",
       "      <td id=\"T_bfda7_row4_col4\" class=\"data row4 col4\" >1.000000</td>\n",
       "      <td id=\"T_bfda7_row4_col5\" class=\"data row4 col5\" >0.935425</td>\n",
       "      <td id=\"T_bfda7_row4_col6\" class=\"data row4 col6\" >0.167498</td>\n",
       "    </tr>\n",
       "    <tr>\n",
       "      <th id=\"T_bfda7_level0_row5\" class=\"row_heading level0 row5\" >highway08</th>\n",
       "      <td id=\"T_bfda7_row5_col0\" class=\"data row5 col0\" >0.326529</td>\n",
       "      <td id=\"T_bfda7_row5_col1\" class=\"data row5 col1\" >-0.751833</td>\n",
       "      <td id=\"T_bfda7_row5_col2\" class=\"data row5 col2\" >-0.701827</td>\n",
       "      <td id=\"T_bfda7_row5_col3\" class=\"data row5 col3\" >-0.960104</td>\n",
       "      <td id=\"T_bfda7_row5_col4\" class=\"data row5 col4\" >0.935425</td>\n",
       "      <td id=\"T_bfda7_row5_col5\" class=\"data row5 col5\" >1.000000</td>\n",
       "      <td id=\"T_bfda7_row5_col6\" class=\"data row5 col6\" >0.230943</td>\n",
       "    </tr>\n",
       "    <tr>\n",
       "      <th id=\"T_bfda7_level0_row6\" class=\"row_heading level0 row6\" >num_gears</th>\n",
       "      <td id=\"T_bfda7_row6_col0\" class=\"data row6 col0\" >0.723908</td>\n",
       "      <td id=\"T_bfda7_row6_col1\" class=\"data row6 col1\" >-0.021957</td>\n",
       "      <td id=\"T_bfda7_row6_col2\" class=\"data row6 col2\" >0.020363</td>\n",
       "      <td id=\"T_bfda7_row6_col3\" class=\"data row6 col3\" >-0.201620</td>\n",
       "      <td id=\"T_bfda7_row6_col4\" class=\"data row6 col4\" >0.167498</td>\n",
       "      <td id=\"T_bfda7_row6_col5\" class=\"data row6 col5\" >0.230943</td>\n",
       "      <td id=\"T_bfda7_row6_col6\" class=\"data row6 col6\" >1.000000</td>\n",
       "    </tr>\n",
       "  </tbody>\n",
       "</table>\n"
      ],
      "text/plain": [
       "<pandas.io.formats.style.Styler at 0x14c0788d0>"
      ]
     },
     "execution_count": 92,
     "metadata": {},
     "output_type": "execute_result"
    }
   ],
   "source": [
    "(\n",
    "    tweak_auto(df)\n",
    "    .to_pandas(use_pyarrow_extension_array=True)\n",
    "    .corr(method='spearman', numeric_only=True)\n",
    "    .style.background_gradient(cmap='RdBu', vmin=-1, vmax=1)\n",
    ")"
   ]
  },
  {
   "cell_type": "markdown",
   "id": "c63b984a-6f94-470c-9759-ceade1cd44db",
   "metadata": {},
   "source": [
    "---\n",
    "# 1.15 Being Lazy\n",
    "[back to top](#Top)\n",
    "\n",
    "The chaining process we went through was *eager*. We were calculating the results as we went along.\n",
    "\n",
    "We will now make it lazy. We can make an eager dataframe lazy by using `.lazy()`.\n",
    "\n",
    "We can also use `pl.scan_csv()` to read the data lazily.\n",
    "\n",
    "One of the reasons for making it lazy is to enable Polars to use its query optimizer and create a more efficient optimization."
   ]
  },
  {
   "cell_type": "code",
   "execution_count": 93,
   "id": "56b5abc7-dd9d-4a24-bcd5-3a23e1daa68c",
   "metadata": {},
   "outputs": [],
   "source": [
    "def tweak_auto(df):\n",
    "    col = ['year', 'make', 'model', 'displ', 'cylinders', 'trany', 'drive', \n",
    "           'VClass', 'fuelType', 'barrels08', 'city08', 'highway08', 'createdOn']\n",
    "    return (\n",
    "        df\n",
    "        .select(pl.col(cols))\n",
    "        .with_columns(\n",
    "            pl.col('year').cast(pl.Int16),\n",
    "            pl.col(['cylinders', 'highway08', 'city08']).cast(pl.UInt8),\n",
    "            pl.col(['displ', 'barrels08']).cast(pl.Float32),\n",
    "            pl.col(['make', 'model', 'VClass', 'drive', 'fuelType']).cast(pl.Categorical),\n",
    "            pl.col('createdOn').str.to_datetime('%a %b %d %H:%M:%S %Z %Y'),\n",
    "            # keywords, like Pandas assign\n",
    "            is_automatic=pl.col('trany')\n",
    "                        .str.contains('Automatic')\n",
    "                        .fill_null('Automatic'),\n",
    "            num_gears=pl.col('trany')\n",
    "                        .str.extract(r'(\\d+)')\n",
    "                        .cast(pl.UInt8)\n",
    "                        .fill_null(6)\n",
    "                    \n",
    "        )\n",
    "    )"
   ]
  },
  {
   "cell_type": "markdown",
   "id": "50225cfc-5e7e-4858-8f4f-a4afa0a345d9",
   "metadata": {},
   "source": [
    "Because all of the eager methods used in the tweak function have a lazy equivalent, we can use the existing function and pass in a lazy dataframe, and get a lazy dataframe back."
   ]
  },
  {
   "cell_type": "code",
   "execution_count": 94,
   "id": "ae79c037-5713-480c-8a31-c5e4d00a0808",
   "metadata": {},
   "outputs": [
    {
     "data": {
      "text/html": [
       "<h4>NAIVE QUERY PLAN</h4><p>run <b>LazyFrame.show_graph()</b> to see the optimized version</p><?xml version=\"1.0\" encoding=\"UTF-8\" standalone=\"no\"?>\n",
       "<!DOCTYPE svg PUBLIC \"-//W3C//DTD SVG 1.1//EN\"\n",
       " \"http://www.w3.org/Graphics/SVG/1.1/DTD/svg11.dtd\">\n",
       "<!-- Generated by graphviz version 12.0.0 (20240704.0754)\n",
       " -->\n",
       "<!-- Title: polars_query Pages: 1 -->\n",
       "<svg width=\"4122pt\" height=\"193pt\"\n",
       " viewBox=\"0.00 0.00 4122.00 193.00\" xmlns=\"http://www.w3.org/2000/svg\" xmlns:xlink=\"http://www.w3.org/1999/xlink\">\n",
       "<g id=\"graph0\" class=\"graph\" transform=\"scale(1 1) rotate(0) translate(4 189)\">\n",
       "<title>polars_query</title>\n",
       "<polygon fill=\"white\" stroke=\"none\" points=\"-4,4 -4,-189 4118,-189 4118,4 -4,4\"/>\n",
       "<!-- p1 -->\n",
       "<g id=\"node1\" class=\"node\">\n",
       "<title>p1</title>\n",
       "<polygon fill=\"none\" stroke=\"black\" points=\"4114,-185 0,-185 0,-149 4114,-149 4114,-185\"/>\n",
       "<text text-anchor=\"middle\" x=\"2057\" y=\"-161.95\" font-family=\"Times,serif\" font-size=\"14.00\">WITH COLUMNS [col(&quot;year&quot;).strict_cast(Int16), col(&quot;cylinders&quot;).strict_cast(UInt8), col(&quot;highway08&quot;).strict_cast(UInt8), col(&quot;city08&quot;).strict_cast(UInt8), col(&quot;displ&quot;).strict_cast(Float32), col(&quot;barrels08&quot;).strict_cast(Float32), col(&quot;make&quot;).strict_cast(Categorical(None, Physical)), col(&quot;model&quot;).strict_cast(Categorical(None, Physical)), col(&quot;VClass&quot;).strict_cast(Categorical(None, Physical)), col(&quot;drive&quot;).strict_cast(Categorical(None, Physical)), col(&quot;fuelType&quot;).strict_cast(Categorical(None, Physical)), col(&quot;createdOn&quot;).str.strptime([String(raise)]), col(&quot;trany&quot;).str.contains([String(Automatic)]).cast(String).fill_null([String(Automatic)]).alias(&quot;is_automatic&quot;), col(&quot;trany&quot;).str.extract([String((d+))]).strict_cast(UInt8).fill_null([6]).alias(&quot;num_gears&quot;)]</text>\n",
       "</g>\n",
       "<!-- p2 -->\n",
       "<g id=\"node2\" class=\"node\">\n",
       "<title>p2</title>\n",
       "<polygon fill=\"none\" stroke=\"black\" points=\"2085.62,-113 2028.38,-113 2028.38,-77 2085.62,-77 2085.62,-113\"/>\n",
       "<text text-anchor=\"middle\" x=\"2057\" y=\"-89.95\" font-family=\"Times,serif\" font-size=\"14.00\">π 13/13</text>\n",
       "</g>\n",
       "<!-- p1&#45;&#45;p2 -->\n",
       "<g id=\"edge1\" class=\"edge\">\n",
       "<title>p1&#45;&#45;p2</title>\n",
       "<path fill=\"none\" stroke=\"black\" d=\"M2057,-148.7C2057,-137.85 2057,-123.92 2057,-113.1\"/>\n",
       "</g>\n",
       "<!-- p3 -->\n",
       "<g id=\"node3\" class=\"node\">\n",
       "<title>p3</title>\n",
       "<polygon fill=\"none\" stroke=\"black\" points=\"2147.88,-41 1966.12,-41 1966.12,0 2147.88,0 2147.88,-41\"/>\n",
       "<text text-anchor=\"middle\" x=\"2057\" y=\"-23.7\" font-family=\"Times,serif\" font-size=\"14.00\">Csv SCAN [data/vehicles.csv]</text>\n",
       "<text text-anchor=\"middle\" x=\"2057\" y=\"-7.2\" font-family=\"Times,serif\" font-size=\"14.00\">π */84;</text>\n",
       "</g>\n",
       "<!-- p2&#45;&#45;p3 -->\n",
       "<g id=\"edge2\" class=\"edge\">\n",
       "<title>p2&#45;&#45;p3</title>\n",
       "<path fill=\"none\" stroke=\"black\" d=\"M2057,-76.82C2057,-66.18 2057,-52.49 2057,-41.38\"/>\n",
       "</g>\n",
       "</g>\n",
       "</svg>\n"
      ],
      "text/plain": [
       "<LazyFrame at 0x14C16D9D0>"
      ]
     },
     "execution_count": 94,
     "metadata": {},
     "output_type": "execute_result"
    }
   ],
   "source": [
    "path = 'data/vehicles.csv'\n",
    "lazy = pl.scan_csv(path, null_values=['NA'])\n",
    "\n",
    "tweak_auto(lazy)"
   ]
  },
  {
   "cell_type": "code",
   "execution_count": 95,
   "id": "ccc4c11c-a89c-4236-9149-6f5309fc8e5e",
   "metadata": {},
   "outputs": [
    {
     "data": {
      "image/svg+xml": [
       "<svg xmlns=\"http://www.w3.org/2000/svg\" xmlns:xlink=\"http://www.w3.org/1999/xlink\" width=\"4122pt\" height=\"198pt\" viewBox=\"0.00 0.00 4122.00 198.00\">\n",
       "<g id=\"graph0\" class=\"graph\" transform=\"scale(1 1) rotate(0) translate(4 194)\">\n",
       "<title>polars_query</title>\n",
       "<polygon fill=\"white\" stroke=\"none\" points=\"-4,4 -4,-194 4118,-194 4118,4 -4,4\"/>\n",
       "<!-- p1 -->\n",
       "<g id=\"node1\" class=\"node\">\n",
       "<title>p1</title>\n",
       "<polygon fill=\"none\" stroke=\"black\" points=\"4114,-190 0,-190 0,-154 4114,-154 4114,-190\"/>\n",
       "<text text-anchor=\"middle\" x=\"2057\" y=\"-166.95\" font-family=\"Times,serif\" font-size=\"14.00\">WITH COLUMNS [col(&quot;year&quot;).strict_cast(Int16), col(&quot;cylinders&quot;).strict_cast(UInt8), col(&quot;highway08&quot;).strict_cast(UInt8), col(&quot;city08&quot;).strict_cast(UInt8), col(&quot;displ&quot;).strict_cast(Float32), col(&quot;barrels08&quot;).strict_cast(Float32), col(&quot;make&quot;).strict_cast(Categorical(None, Physical)), col(&quot;model&quot;).strict_cast(Categorical(None, Physical)), col(&quot;VClass&quot;).strict_cast(Categorical(None, Physical)), col(&quot;drive&quot;).strict_cast(Categorical(None, Physical)), col(&quot;fuelType&quot;).strict_cast(Categorical(None, Physical)), col(&quot;createdOn&quot;).str.strptime([String(raise)]), col(&quot;trany&quot;).str.contains([String(Automatic)]).cast(String).fill_null([String(Automatic)]).alias(&quot;is_automatic&quot;), col(&quot;trany&quot;).str.extract([String((d+))]).strict_cast(UInt8).fill_null([6]).alias(&quot;num_gears&quot;)]</text>\n",
       "</g>\n",
       "<!-- p2 -->\n",
       "<g id=\"node2\" class=\"node\">\n",
       "<title>p2</title>\n",
       "<polygon fill=\"none\" stroke=\"black\" points=\"2197.75,-118 1916.25,-118 1916.25,-77 2197.75,-77 2197.75,-118\"/>\n",
       "<text text-anchor=\"middle\" x=\"2057\" y=\"-100.7\" font-family=\"Times,serif\" font-size=\"14.00\">simple π 13/13</text>\n",
       "<text text-anchor=\"middle\" x=\"2057\" y=\"-84.2\" font-family=\"Times,serif\" font-size=\"14.00\">[&quot;year&quot;, &quot;make&quot;, &quot;model&quot;, ... 10 other columns]</text>\n",
       "</g>\n",
       "<!-- p1&#45;&#45;p2 -->\n",
       "<g id=\"edge1\" class=\"edge\">\n",
       "<title>p1--p2</title>\n",
       "<path fill=\"none\" stroke=\"black\" d=\"M2057,-153.82C2057,-143.18 2057,-129.49 2057,-118.38\"/>\n",
       "</g>\n",
       "<!-- p3 -->\n",
       "<g id=\"node3\" class=\"node\">\n",
       "<title>p3</title>\n",
       "<polygon fill=\"none\" stroke=\"black\" points=\"2147.88,-41 1966.12,-41 1966.12,0 2147.88,0 2147.88,-41\"/>\n",
       "<text text-anchor=\"middle\" x=\"2057\" y=\"-23.7\" font-family=\"Times,serif\" font-size=\"14.00\">Csv SCAN [data/vehicles.csv]</text>\n",
       "<text text-anchor=\"middle\" x=\"2057\" y=\"-7.2\" font-family=\"Times,serif\" font-size=\"14.00\">π 13/84;</text>\n",
       "</g>\n",
       "<!-- p2&#45;&#45;p3 -->\n",
       "<g id=\"edge2\" class=\"edge\">\n",
       "<title>p2--p3</title>\n",
       "<path fill=\"none\" stroke=\"black\" d=\"M2057,-76.79C2057,-65.86 2057,-52.29 2057,-41.33\"/>\n",
       "</g>\n",
       "</g>\n",
       "</svg>"
      ],
      "text/plain": [
       "<IPython.core.display.SVG object>"
      ]
     },
     "metadata": {},
     "output_type": "display_data"
    }
   ],
   "source": [
    "# see the optimized version\n",
    "tweak_auto(lazy).show_graph()"
   ]
  },
  {
   "cell_type": "markdown",
   "id": "d266e4dc-e4a8-4400-aa72-d4d70b30a9c8",
   "metadata": {},
   "source": [
    "To execute our lazy dataframe and function, we can add `.collect()` to the end, which indicates we want polars to optimize the chain and execute it."
   ]
  },
  {
   "cell_type": "code",
   "execution_count": 96,
   "id": "bab2f9d3-5e67-4ce5-a8ed-86fd92c19e8e",
   "metadata": {},
   "outputs": [
    {
     "name": "stderr",
     "output_type": "stream",
     "text": [
      "read files in parallel\n",
      "avg line length: 434.78027\n",
      "std. dev. line length: 23.885818\n",
      "initial row estimate: 47850\n",
      "no. of chunks: 4 processed by: 4 threads.\n",
      "/var/folders/sb/p6dz60l562q8pzfgzf74gsxm0000gn/T/ipykernel_1914/2906562194.py:1: CategoricalRemappingWarning: Local categoricals have different encodings, expensive re-encoding is done to perform this merge operation. Consider using a StringCache or an Enum type if the categories are known in advance\n",
      "  tweak_auto(lazy).collect()\n"
     ]
    },
    {
     "data": {
      "text/html": [
       "<div><style>\n",
       ".dataframe > thead > tr,\n",
       ".dataframe > tbody > tr {\n",
       "  text-align: right;\n",
       "  white-space: pre-wrap;\n",
       "}\n",
       "</style>\n",
       "<small>shape: (48_202, 15)</small><table border=\"1\" class=\"dataframe\"><thead><tr><th>year</th><th>make</th><th>model</th><th>displ</th><th>cylinders</th><th>trany</th><th>drive</th><th>VClass</th><th>fuelType</th><th>barrels08</th><th>city08</th><th>highway08</th><th>createdOn</th><th>is_automatic</th><th>num_gears</th></tr><tr><td>i16</td><td>cat</td><td>cat</td><td>f32</td><td>u8</td><td>str</td><td>cat</td><td>cat</td><td>cat</td><td>f32</td><td>u8</td><td>u8</td><td>datetime[μs]</td><td>str</td><td>u8</td></tr></thead><tbody><tr><td>1985</td><td>&quot;Alfa Romeo&quot;</td><td>&quot;Spider Veloce 2000&quot;</td><td>2.0</td><td>4</td><td>&quot;Manual 5-spd&quot;</td><td>&quot;Rear-Wheel Drive&quot;</td><td>&quot;Two Seaters&quot;</td><td>&quot;Regular&quot;</td><td>14.167143</td><td>19</td><td>25</td><td>2013-01-01 00:00:00</td><td>&quot;false&quot;</td><td>5</td></tr><tr><td>1985</td><td>&quot;Ferrari&quot;</td><td>&quot;Testarossa&quot;</td><td>4.9</td><td>12</td><td>&quot;Manual 5-spd&quot;</td><td>&quot;Rear-Wheel Drive&quot;</td><td>&quot;Two Seaters&quot;</td><td>&quot;Regular&quot;</td><td>27.046364</td><td>9</td><td>14</td><td>2013-01-01 00:00:00</td><td>&quot;false&quot;</td><td>5</td></tr><tr><td>1985</td><td>&quot;Dodge&quot;</td><td>&quot;Charger&quot;</td><td>2.2</td><td>4</td><td>&quot;Manual 5-spd&quot;</td><td>&quot;Front-Wheel Drive&quot;</td><td>&quot;Subcompact Cars&quot;</td><td>&quot;Regular&quot;</td><td>11.018888</td><td>23</td><td>33</td><td>2013-01-01 00:00:00</td><td>&quot;false&quot;</td><td>5</td></tr><tr><td>1985</td><td>&quot;Dodge&quot;</td><td>&quot;B150/B250 Wagon 2WD&quot;</td><td>5.2</td><td>8</td><td>&quot;Automatic 3-spd&quot;</td><td>&quot;Rear-Wheel Drive&quot;</td><td>&quot;Vans&quot;</td><td>&quot;Regular&quot;</td><td>27.046364</td><td>10</td><td>12</td><td>2013-01-01 00:00:00</td><td>&quot;true&quot;</td><td>3</td></tr><tr><td>1993</td><td>&quot;Subaru&quot;</td><td>&quot;Legacy AWD Turbo&quot;</td><td>2.2</td><td>4</td><td>&quot;Manual 5-spd&quot;</td><td>&quot;4-Wheel or All-Wheel Drive&quot;</td><td>&quot;Compact Cars&quot;</td><td>&quot;Premium&quot;</td><td>15.658422</td><td>17</td><td>23</td><td>2013-01-01 00:00:00</td><td>&quot;false&quot;</td><td>5</td></tr><tr><td>&hellip;</td><td>&hellip;</td><td>&hellip;</td><td>&hellip;</td><td>&hellip;</td><td>&hellip;</td><td>&hellip;</td><td>&hellip;</td><td>&hellip;</td><td>&hellip;</td><td>&hellip;</td><td>&hellip;</td><td>&hellip;</td><td>&hellip;</td><td>&hellip;</td></tr><tr><td>1993</td><td>&quot;Subaru&quot;</td><td>&quot;Legacy&quot;</td><td>2.2</td><td>4</td><td>&quot;Automatic 4-spd&quot;</td><td>&quot;Front-Wheel Drive&quot;</td><td>&quot;Compact Cars&quot;</td><td>&quot;Regular&quot;</td><td>13.523182</td><td>19</td><td>26</td><td>2013-01-01 00:00:00</td><td>&quot;true&quot;</td><td>4</td></tr><tr><td>1993</td><td>&quot;Subaru&quot;</td><td>&quot;Legacy&quot;</td><td>2.2</td><td>4</td><td>&quot;Manual 5-spd&quot;</td><td>&quot;Front-Wheel Drive&quot;</td><td>&quot;Compact Cars&quot;</td><td>&quot;Regular&quot;</td><td>12.935218</td><td>20</td><td>28</td><td>2013-01-01 00:00:00</td><td>&quot;false&quot;</td><td>5</td></tr><tr><td>1993</td><td>&quot;Subaru&quot;</td><td>&quot;Legacy AWD&quot;</td><td>2.2</td><td>4</td><td>&quot;Automatic 4-spd&quot;</td><td>&quot;4-Wheel or All-Wheel Drive&quot;</td><td>&quot;Compact Cars&quot;</td><td>&quot;Regular&quot;</td><td>14.167143</td><td>18</td><td>24</td><td>2013-01-01 00:00:00</td><td>&quot;true&quot;</td><td>4</td></tr><tr><td>1993</td><td>&quot;Subaru&quot;</td><td>&quot;Legacy AWD&quot;</td><td>2.2</td><td>4</td><td>&quot;Manual 5-spd&quot;</td><td>&quot;4-Wheel or All-Wheel Drive&quot;</td><td>&quot;Compact Cars&quot;</td><td>&quot;Regular&quot;</td><td>14.167143</td><td>18</td><td>24</td><td>2013-01-01 00:00:00</td><td>&quot;false&quot;</td><td>5</td></tr><tr><td>1993</td><td>&quot;Subaru&quot;</td><td>&quot;Legacy AWD Turbo&quot;</td><td>2.2</td><td>4</td><td>&quot;Automatic 4-spd&quot;</td><td>&quot;4-Wheel or All-Wheel Drive&quot;</td><td>&quot;Compact Cars&quot;</td><td>&quot;Premium&quot;</td><td>16.528334</td><td>16</td><td>21</td><td>2013-01-01 00:00:00</td><td>&quot;true&quot;</td><td>4</td></tr></tbody></table></div>"
      ],
      "text/plain": [
       "shape: (48_202, 15)\n",
       "+-----+-----+-----+-----+-----+-----+-----+-----+-----+-----+-----+--------+-------+-------+-------+\n",
       "| yea | mak | mod | dis | cyl | tra | dri | VCl | fue | bar | cit | highwa | creat | is_au | num_g |\n",
       "| r   | e   | el  | pl  | ind | ny  | ve  | ass | lTy | rel | y08 | y08    | edOn  | tomat | ears  |\n",
       "| --- | --- | --- | --- | ers | --- | --- | --- | pe  | s08 | --- | ---    | ---   | ic    | ---   |\n",
       "| i16 | cat | cat | f32 | --- | str | cat | cat | --- | --- | u8  | u8     | datet | ---   | u8    |\n",
       "|     |     |     |     | u8  |     |     |     | cat | f32 |     |        | ime[μ | str   |       |\n",
       "|     |     |     |     |     |     |     |     |     |     |     |        | s]    |       |       |\n",
       "+==================================================================================================+\n",
       "| 198 | Alf | Spi | 2.0 | 4   | Man | Rea | Two | Reg | 14. | 19  | 25     | 2013- | false | 5     |\n",
       "| 5   | a   | der |     |     | ual | r-W | Sea | ula | 167 |     |        | 01-01 |       |       |\n",
       "|     | Rom | Vel |     |     | 5-s | hee | ter | r   | 143 |     |        | 00:00 |       |       |\n",
       "|     | eo  | oce |     |     | pd  | l   | s   |     |     |     |        | :00   |       |       |\n",
       "|     |     | 200 |     |     |     | Dri |     |     |     |     |        |       |       |       |\n",
       "|     |     | 0   |     |     |     | ve  |     |     |     |     |        |       |       |       |\n",
       "| 198 | Fer | Tes | 4.9 | 12  | Man | Rea | Two | Reg | 27. | 9   | 14     | 2013- | false | 5     |\n",
       "| 5   | rar | tar |     |     | ual | r-W | Sea | ula | 046 |     |        | 01-01 |       |       |\n",
       "|     | i   | oss |     |     | 5-s | hee | ter | r   | 364 |     |        | 00:00 |       |       |\n",
       "|     |     | a   |     |     | pd  | l   | s   |     |     |     |        | :00   |       |       |\n",
       "|     |     |     |     |     |     | Dri |     |     |     |     |        |       |       |       |\n",
       "|     |     |     |     |     |     | ve  |     |     |     |     |        |       |       |       |\n",
       "| 198 | Dod | Cha | 2.2 | 4   | Man | Fro | Sub | Reg | 11. | 23  | 33     | 2013- | false | 5     |\n",
       "| 5   | ge  | rge |     |     | ual | nt- | com | ula | 018 |     |        | 01-01 |       |       |\n",
       "|     |     | r   |     |     | 5-s | Whe | pac | r   | 888 |     |        | 00:00 |       |       |\n",
       "|     |     |     |     |     | pd  | el  | t   |     |     |     |        | :00   |       |       |\n",
       "|     |     |     |     |     |     | Dri | Car |     |     |     |        |       |       |       |\n",
       "|     |     |     |     |     |     | ve  | s   |     |     |     |        |       |       |       |\n",
       "| 198 | Dod | B15 | 5.2 | 8   | Aut | Rea | Van | Reg | 27. | 10  | 12     | 2013- | true  | 3     |\n",
       "| 5   | ge  | 0/B |     |     | oma | r-W | s   | ula | 046 |     |        | 01-01 |       |       |\n",
       "|     |     | 250 |     |     | tic | hee |     | r   | 364 |     |        | 00:00 |       |       |\n",
       "|     |     | Wag |     |     | 3-s | l   |     |     |     |     |        | :00   |       |       |\n",
       "|     |     | on  |     |     | pd  | Dri |     |     |     |     |        |       |       |       |\n",
       "|     |     | 2WD |     |     |     | ve  |     |     |     |     |        |       |       |       |\n",
       "| 199 | Sub | Leg | 2.2 | 4   | Man | 4-W | Com | Pre | 15. | 17  | 23     | 2013- | false | 5     |\n",
       "| 3   | aru | acy |     |     | ual | hee | pac | miu | 658 |     |        | 01-01 |       |       |\n",
       "|     |     | AWD |     |     | 5-s | l   | t   | m   | 422 |     |        | 00:00 |       |       |\n",
       "|     |     | Tur |     |     | pd  | or  | Car |     |     |     |        | :00   |       |       |\n",
       "|     |     | bo  |     |     |     | All | s   |     |     |     |        |       |       |       |\n",
       "|     |     |     |     |     |     | -Wh |     |     |     |     |        |       |       |       |\n",
       "|     |     |     |     |     |     | eel |     |     |     |     |        |       |       |       |\n",
       "|     |     |     |     |     |     | Dri |     |     |     |     |        |       |       |       |\n",
       "|     |     |     |     |     |     | ve  |     |     |     |     |        |       |       |       |\n",
       "| …   | …   | …   | …   | …   | …   | …   | …   | …   | …   | …   | …      | …     | …     | …     |\n",
       "| 199 | Sub | Leg | 2.2 | 4   | Aut | Fro | Com | Reg | 13. | 19  | 26     | 2013- | true  | 4     |\n",
       "| 3   | aru | acy |     |     | oma | nt- | pac | ula | 523 |     |        | 01-01 |       |       |\n",
       "|     |     |     |     |     | tic | Whe | t   | r   | 182 |     |        | 00:00 |       |       |\n",
       "|     |     |     |     |     | 4-s | el  | Car |     |     |     |        | :00   |       |       |\n",
       "|     |     |     |     |     | pd  | Dri | s   |     |     |     |        |       |       |       |\n",
       "|     |     |     |     |     |     | ve  |     |     |     |     |        |       |       |       |\n",
       "| 199 | Sub | Leg | 2.2 | 4   | Man | Fro | Com | Reg | 12. | 20  | 28     | 2013- | false | 5     |\n",
       "| 3   | aru | acy |     |     | ual | nt- | pac | ula | 935 |     |        | 01-01 |       |       |\n",
       "|     |     |     |     |     | 5-s | Whe | t   | r   | 218 |     |        | 00:00 |       |       |\n",
       "|     |     |     |     |     | pd  | el  | Car |     |     |     |        | :00   |       |       |\n",
       "|     |     |     |     |     |     | Dri | s   |     |     |     |        |       |       |       |\n",
       "|     |     |     |     |     |     | ve  |     |     |     |     |        |       |       |       |\n",
       "| 199 | Sub | Leg | 2.2 | 4   | Aut | 4-W | Com | Reg | 14. | 18  | 24     | 2013- | true  | 4     |\n",
       "| 3   | aru | acy |     |     | oma | hee | pac | ula | 167 |     |        | 01-01 |       |       |\n",
       "|     |     | AWD |     |     | tic | l   | t   | r   | 143 |     |        | 00:00 |       |       |\n",
       "|     |     |     |     |     | 4-s | or  | Car |     |     |     |        | :00   |       |       |\n",
       "|     |     |     |     |     | pd  | All | s   |     |     |     |        |       |       |       |\n",
       "|     |     |     |     |     |     | -Wh |     |     |     |     |        |       |       |       |\n",
       "|     |     |     |     |     |     | eel |     |     |     |     |        |       |       |       |\n",
       "|     |     |     |     |     |     | Dri |     |     |     |     |        |       |       |       |\n",
       "|     |     |     |     |     |     | ve  |     |     |     |     |        |       |       |       |\n",
       "| 199 | Sub | Leg | 2.2 | 4   | Man | 4-W | Com | Reg | 14. | 18  | 24     | 2013- | false | 5     |\n",
       "| 3   | aru | acy |     |     | ual | hee | pac | ula | 167 |     |        | 01-01 |       |       |\n",
       "|     |     | AWD |     |     | 5-s | l   | t   | r   | 143 |     |        | 00:00 |       |       |\n",
       "|     |     |     |     |     | pd  | or  | Car |     |     |     |        | :00   |       |       |\n",
       "|     |     |     |     |     |     | All | s   |     |     |     |        |       |       |       |\n",
       "|     |     |     |     |     |     | -Wh |     |     |     |     |        |       |       |       |\n",
       "|     |     |     |     |     |     | eel |     |     |     |     |        |       |       |       |\n",
       "|     |     |     |     |     |     | Dri |     |     |     |     |        |       |       |       |\n",
       "|     |     |     |     |     |     | ve  |     |     |     |     |        |       |       |       |\n",
       "| 199 | Sub | Leg | 2.2 | 4   | Aut | 4-W | Com | Pre | 16. | 16  | 21     | 2013- | true  | 4     |\n",
       "| 3   | aru | acy |     |     | oma | hee | pac | miu | 528 |     |        | 01-01 |       |       |\n",
       "|     |     | AWD |     |     | tic | l   | t   | m   | 334 |     |        | 00:00 |       |       |\n",
       "|     |     | Tur |     |     | 4-s | or  | Car |     |     |     |        | :00   |       |       |\n",
       "|     |     | bo  |     |     | pd  | All | s   |     |     |     |        |       |       |       |\n",
       "|     |     |     |     |     |     | -Wh |     |     |     |     |        |       |       |       |\n",
       "|     |     |     |     |     |     | eel |     |     |     |     |        |       |       |       |\n",
       "|     |     |     |     |     |     | Dri |     |     |     |     |        |       |       |       |\n",
       "|     |     |     |     |     |     | ve  |     |     |     |     |        |       |       |       |\n",
       "+-----+-----+-----+-----+-----+-----+-----+-----+-----+-----+-----+--------+-------+-------+-------+"
      ]
     },
     "execution_count": 96,
     "metadata": {},
     "output_type": "execute_result"
    }
   ],
   "source": [
    "tweak_auto(lazy).collect()"
   ]
  },
  {
   "cell_type": "markdown",
   "id": "8361b048-9c77-458d-a118-2f6b4fdaf4eb",
   "metadata": {},
   "source": [
    "---\n",
    "# 1.16 Chapter Functions and Methods\n",
    "[back to top](#Top)\n",
    "\n",
    "See book."
   ]
  }
 ],
 "metadata": {
  "kernelspec": {
   "display_name": "Python 3 (ipykernel)",
   "language": "python",
   "name": "python3"
  },
  "language_info": {
   "codemirror_mode": {
    "name": "ipython",
    "version": 3
   },
   "file_extension": ".py",
   "mimetype": "text/x-python",
   "name": "python",
   "nbconvert_exporter": "python",
   "pygments_lexer": "ipython3",
   "version": "3.11.5"
  }
 },
 "nbformat": 4,
 "nbformat_minor": 5
}
