{
 "cells": [
  {
   "cell_type": "markdown",
   "id": "e3fdfa8e-aef2-4cc3-b562-8ee6bcf66f33",
   "metadata": {},
   "source": [
    "#### Top"
   ]
  },
  {
   "cell_type": "markdown",
   "id": "fc7057d3-38ff-42bb-a82a-80d4eb1e9f18",
   "metadata": {},
   "source": [
    "# Chapter 4 Aggregation with Polars\n",
    "\n",
    "* [4.0 Imports and Setup](#4.0-Imports-and-Setup)\n",
    "* [4.1 Introduction](#4.1-Introduction)\n",
    "* [4.2 Loading the Data](#4.2-Loading-the-Data)\n",
    "* [4.3 Aggregations](#4.3-Aggregations)\n",
    "* [4.4 Lists](#4.4-Lists)\n",
    "  - [4.4.1 Using `.with_columns_seq`](#4.4.1-Using-.with_columns_seq)\n",
    "* [4.5 GroupBy Operations](#4.5-GroupBy-Operations)\n",
    "* [4.6 Multiple Aggregations](#4.6-Multiple-Aggregations)\n",
    "* [4.7 Grouping by Multiple Columns](#4.7-Grouping-by-Multiple-Columns)\n",
    "* [4.8 Pivoting with Multiple Aggregations](#4.8-Pivoting-with-Multiple-Aggregations)\n",
    "* [4.9 Aggregating over the Original Rows](#4.9-Aggregating-over-the-Original-Rows)\n",
    "* [4.10 Grouping to Lists](#4.10-Grouping-to-Lists)\n",
    "* [4.11 Chapter Methods and Functions](#4.11-Chapter-Methods-and-Functions)\n"
   ]
  },
  {
   "cell_type": "markdown",
   "id": "312acbea-ea37-4c7c-b1eb-4bbdfb1b6d75",
   "metadata": {},
   "source": [
    "---\n",
    "# 4.0 Imports and Setup\n",
    "\n",
    "[back to Top](#Top)"
   ]
  },
  {
   "cell_type": "code",
   "execution_count": 1,
   "id": "745bc82d-2cb6-4b12-a562-3f0b8ca20c29",
   "metadata": {},
   "outputs": [
    {
     "data": {
      "application/javascript": [
       "(function(root) {\n",
       "  function now() {\n",
       "    return new Date();\n",
       "  }\n",
       "\n",
       "  var force = true;\n",
       "  var py_version = '3.4.3'.replace('rc', '-rc.').replace('.dev', '-dev.');\n",
       "  var reloading = false;\n",
       "  var Bokeh = root.Bokeh;\n",
       "\n",
       "  if (typeof (root._bokeh_timeout) === \"undefined\" || force) {\n",
       "    root._bokeh_timeout = Date.now() + 5000;\n",
       "    root._bokeh_failed_load = false;\n",
       "  }\n",
       "\n",
       "  function run_callbacks() {\n",
       "    try {\n",
       "      root._bokeh_onload_callbacks.forEach(function(callback) {\n",
       "        if (callback != null)\n",
       "          callback();\n",
       "      });\n",
       "    } finally {\n",
       "      delete root._bokeh_onload_callbacks;\n",
       "    }\n",
       "    console.debug(\"Bokeh: all callbacks have finished\");\n",
       "  }\n",
       "\n",
       "  function load_libs(css_urls, js_urls, js_modules, js_exports, callback) {\n",
       "    if (css_urls == null) css_urls = [];\n",
       "    if (js_urls == null) js_urls = [];\n",
       "    if (js_modules == null) js_modules = [];\n",
       "    if (js_exports == null) js_exports = {};\n",
       "\n",
       "    root._bokeh_onload_callbacks.push(callback);\n",
       "\n",
       "    if (root._bokeh_is_loading > 0) {\n",
       "      console.debug(\"Bokeh: BokehJS is being loaded, scheduling callback at\", now());\n",
       "      return null;\n",
       "    }\n",
       "    if (js_urls.length === 0 && js_modules.length === 0 && Object.keys(js_exports).length === 0) {\n",
       "      run_callbacks();\n",
       "      return null;\n",
       "    }\n",
       "    if (!reloading) {\n",
       "      console.debug(\"Bokeh: BokehJS not loaded, scheduling load and callback at\", now());\n",
       "    }\n",
       "\n",
       "    function on_load() {\n",
       "      root._bokeh_is_loading--;\n",
       "      if (root._bokeh_is_loading === 0) {\n",
       "        console.debug(\"Bokeh: all BokehJS libraries/stylesheets loaded\");\n",
       "        run_callbacks()\n",
       "      }\n",
       "    }\n",
       "    window._bokeh_on_load = on_load\n",
       "\n",
       "    function on_error() {\n",
       "      console.error(\"failed to load \" + url);\n",
       "    }\n",
       "\n",
       "    var skip = [];\n",
       "    if (window.requirejs) {\n",
       "      window.requirejs.config({'packages': {}, 'paths': {}, 'shim': {}});\n",
       "      root._bokeh_is_loading = css_urls.length + 0;\n",
       "    } else {\n",
       "      root._bokeh_is_loading = css_urls.length + js_urls.length + js_modules.length + Object.keys(js_exports).length;\n",
       "    }\n",
       "\n",
       "    var existing_stylesheets = []\n",
       "    var links = document.getElementsByTagName('link')\n",
       "    for (var i = 0; i < links.length; i++) {\n",
       "      var link = links[i]\n",
       "      if (link.href != null) {\n",
       "\texisting_stylesheets.push(link.href)\n",
       "      }\n",
       "    }\n",
       "    for (var i = 0; i < css_urls.length; i++) {\n",
       "      var url = css_urls[i];\n",
       "      if (existing_stylesheets.indexOf(url) !== -1) {\n",
       "\ton_load()\n",
       "\tcontinue;\n",
       "      }\n",
       "      const element = document.createElement(\"link\");\n",
       "      element.onload = on_load;\n",
       "      element.onerror = on_error;\n",
       "      element.rel = \"stylesheet\";\n",
       "      element.type = \"text/css\";\n",
       "      element.href = url;\n",
       "      console.debug(\"Bokeh: injecting link tag for BokehJS stylesheet: \", url);\n",
       "      document.body.appendChild(element);\n",
       "    }    var existing_scripts = []\n",
       "    var scripts = document.getElementsByTagName('script')\n",
       "    for (var i = 0; i < scripts.length; i++) {\n",
       "      var script = scripts[i]\n",
       "      if (script.src != null) {\n",
       "\texisting_scripts.push(script.src)\n",
       "      }\n",
       "    }\n",
       "    for (var i = 0; i < js_urls.length; i++) {\n",
       "      var url = js_urls[i];\n",
       "      if (skip.indexOf(url) !== -1 || existing_scripts.indexOf(url) !== -1) {\n",
       "\tif (!window.requirejs) {\n",
       "\t  on_load();\n",
       "\t}\n",
       "\tcontinue;\n",
       "      }\n",
       "      var element = document.createElement('script');\n",
       "      element.onload = on_load;\n",
       "      element.onerror = on_error;\n",
       "      element.async = false;\n",
       "      element.src = url;\n",
       "      console.debug(\"Bokeh: injecting script tag for BokehJS library: \", url);\n",
       "      document.head.appendChild(element);\n",
       "    }\n",
       "    for (var i = 0; i < js_modules.length; i++) {\n",
       "      var url = js_modules[i];\n",
       "      if (skip.indexOf(url) !== -1 || existing_scripts.indexOf(url) !== -1) {\n",
       "\tif (!window.requirejs) {\n",
       "\t  on_load();\n",
       "\t}\n",
       "\tcontinue;\n",
       "      }\n",
       "      var element = document.createElement('script');\n",
       "      element.onload = on_load;\n",
       "      element.onerror = on_error;\n",
       "      element.async = false;\n",
       "      element.src = url;\n",
       "      element.type = \"module\";\n",
       "      console.debug(\"Bokeh: injecting script tag for BokehJS library: \", url);\n",
       "      document.head.appendChild(element);\n",
       "    }\n",
       "    for (const name in js_exports) {\n",
       "      var url = js_exports[name];\n",
       "      if (skip.indexOf(url) >= 0 || root[name] != null) {\n",
       "\tif (!window.requirejs) {\n",
       "\t  on_load();\n",
       "\t}\n",
       "\tcontinue;\n",
       "      }\n",
       "      var element = document.createElement('script');\n",
       "      element.onerror = on_error;\n",
       "      element.async = false;\n",
       "      element.type = \"module\";\n",
       "      console.debug(\"Bokeh: injecting script tag for BokehJS library: \", url);\n",
       "      element.textContent = `\n",
       "      import ${name} from \"${url}\"\n",
       "      window.${name} = ${name}\n",
       "      window._bokeh_on_load()\n",
       "      `\n",
       "      document.head.appendChild(element);\n",
       "    }\n",
       "    if (!js_urls.length && !js_modules.length) {\n",
       "      on_load()\n",
       "    }\n",
       "  };\n",
       "\n",
       "  function inject_raw_css(css) {\n",
       "    const element = document.createElement(\"style\");\n",
       "    element.appendChild(document.createTextNode(css));\n",
       "    document.body.appendChild(element);\n",
       "  }\n",
       "\n",
       "  var js_urls = [\"https://cdn.bokeh.org/bokeh/release/bokeh-3.4.3.min.js\", \"https://cdn.bokeh.org/bokeh/release/bokeh-gl-3.4.3.min.js\", \"https://cdn.bokeh.org/bokeh/release/bokeh-widgets-3.4.3.min.js\", \"https://cdn.bokeh.org/bokeh/release/bokeh-tables-3.4.3.min.js\", \"https://cdn.holoviz.org/panel/1.4.5/dist/panel.min.js\"];\n",
       "  var js_modules = [];\n",
       "  var js_exports = {};\n",
       "  var css_urls = [];\n",
       "  var inline_js = [    function(Bokeh) {\n",
       "      Bokeh.set_log_level(\"info\");\n",
       "    },\n",
       "function(Bokeh) {} // ensure no trailing comma for IE\n",
       "  ];\n",
       "\n",
       "  function run_inline_js() {\n",
       "    if ((root.Bokeh !== undefined) || (force === true)) {\n",
       "      for (var i = 0; i < inline_js.length; i++) {\n",
       "\ttry {\n",
       "          inline_js[i].call(root, root.Bokeh);\n",
       "\t} catch(e) {\n",
       "\t  if (!reloading) {\n",
       "\t    throw e;\n",
       "\t  }\n",
       "\t}\n",
       "      }\n",
       "      // Cache old bokeh versions\n",
       "      if (Bokeh != undefined && !reloading) {\n",
       "\tvar NewBokeh = root.Bokeh;\n",
       "\tif (Bokeh.versions === undefined) {\n",
       "\t  Bokeh.versions = new Map();\n",
       "\t}\n",
       "\tif (NewBokeh.version !== Bokeh.version) {\n",
       "\t  Bokeh.versions.set(NewBokeh.version, NewBokeh)\n",
       "\t}\n",
       "\troot.Bokeh = Bokeh;\n",
       "      }} else if (Date.now() < root._bokeh_timeout) {\n",
       "      setTimeout(run_inline_js, 100);\n",
       "    } else if (!root._bokeh_failed_load) {\n",
       "      console.log(\"Bokeh: BokehJS failed to load within specified timeout.\");\n",
       "      root._bokeh_failed_load = true;\n",
       "    }\n",
       "    root._bokeh_is_initializing = false\n",
       "  }\n",
       "\n",
       "  function load_or_wait() {\n",
       "    // Implement a backoff loop that tries to ensure we do not load multiple\n",
       "    // versions of Bokeh and its dependencies at the same time.\n",
       "    // In recent versions we use the root._bokeh_is_initializing flag\n",
       "    // to determine whether there is an ongoing attempt to initialize\n",
       "    // bokeh, however for backward compatibility we also try to ensure\n",
       "    // that we do not start loading a newer (Panel>=1.0 and Bokeh>3) version\n",
       "    // before older versions are fully initialized.\n",
       "    if (root._bokeh_is_initializing && Date.now() > root._bokeh_timeout) {\n",
       "      root._bokeh_is_initializing = false;\n",
       "      root._bokeh_onload_callbacks = undefined;\n",
       "      console.log(\"Bokeh: BokehJS was loaded multiple times but one version failed to initialize.\");\n",
       "      load_or_wait();\n",
       "    } else if (root._bokeh_is_initializing || (typeof root._bokeh_is_initializing === \"undefined\" && root._bokeh_onload_callbacks !== undefined)) {\n",
       "      setTimeout(load_or_wait, 100);\n",
       "    } else {\n",
       "      root._bokeh_is_initializing = true\n",
       "      root._bokeh_onload_callbacks = []\n",
       "      var bokeh_loaded = Bokeh != null && (Bokeh.version === py_version || (Bokeh.versions !== undefined && Bokeh.versions.has(py_version)));\n",
       "      if (!reloading && !bokeh_loaded) {\n",
       "\troot.Bokeh = undefined;\n",
       "      }\n",
       "      load_libs(css_urls, js_urls, js_modules, js_exports, function() {\n",
       "\tconsole.debug(\"Bokeh: BokehJS plotting callback run at\", now());\n",
       "\trun_inline_js();\n",
       "      });\n",
       "    }\n",
       "  }\n",
       "  // Give older versions of the autoload script a head-start to ensure\n",
       "  // they initialize before we start loading newer version.\n",
       "  setTimeout(load_or_wait, 100)\n",
       "}(window));"
      ],
      "application/vnd.holoviews_load.v0+json": "(function(root) {\n  function now() {\n    return new Date();\n  }\n\n  var force = true;\n  var py_version = '3.4.3'.replace('rc', '-rc.').replace('.dev', '-dev.');\n  var reloading = false;\n  var Bokeh = root.Bokeh;\n\n  if (typeof (root._bokeh_timeout) === \"undefined\" || force) {\n    root._bokeh_timeout = Date.now() + 5000;\n    root._bokeh_failed_load = false;\n  }\n\n  function run_callbacks() {\n    try {\n      root._bokeh_onload_callbacks.forEach(function(callback) {\n        if (callback != null)\n          callback();\n      });\n    } finally {\n      delete root._bokeh_onload_callbacks;\n    }\n    console.debug(\"Bokeh: all callbacks have finished\");\n  }\n\n  function load_libs(css_urls, js_urls, js_modules, js_exports, callback) {\n    if (css_urls == null) css_urls = [];\n    if (js_urls == null) js_urls = [];\n    if (js_modules == null) js_modules = [];\n    if (js_exports == null) js_exports = {};\n\n    root._bokeh_onload_callbacks.push(callback);\n\n    if (root._bokeh_is_loading > 0) {\n      console.debug(\"Bokeh: BokehJS is being loaded, scheduling callback at\", now());\n      return null;\n    }\n    if (js_urls.length === 0 && js_modules.length === 0 && Object.keys(js_exports).length === 0) {\n      run_callbacks();\n      return null;\n    }\n    if (!reloading) {\n      console.debug(\"Bokeh: BokehJS not loaded, scheduling load and callback at\", now());\n    }\n\n    function on_load() {\n      root._bokeh_is_loading--;\n      if (root._bokeh_is_loading === 0) {\n        console.debug(\"Bokeh: all BokehJS libraries/stylesheets loaded\");\n        run_callbacks()\n      }\n    }\n    window._bokeh_on_load = on_load\n\n    function on_error() {\n      console.error(\"failed to load \" + url);\n    }\n\n    var skip = [];\n    if (window.requirejs) {\n      window.requirejs.config({'packages': {}, 'paths': {}, 'shim': {}});\n      root._bokeh_is_loading = css_urls.length + 0;\n    } else {\n      root._bokeh_is_loading = css_urls.length + js_urls.length + js_modules.length + Object.keys(js_exports).length;\n    }\n\n    var existing_stylesheets = []\n    var links = document.getElementsByTagName('link')\n    for (var i = 0; i < links.length; i++) {\n      var link = links[i]\n      if (link.href != null) {\n\texisting_stylesheets.push(link.href)\n      }\n    }\n    for (var i = 0; i < css_urls.length; i++) {\n      var url = css_urls[i];\n      if (existing_stylesheets.indexOf(url) !== -1) {\n\ton_load()\n\tcontinue;\n      }\n      const element = document.createElement(\"link\");\n      element.onload = on_load;\n      element.onerror = on_error;\n      element.rel = \"stylesheet\";\n      element.type = \"text/css\";\n      element.href = url;\n      console.debug(\"Bokeh: injecting link tag for BokehJS stylesheet: \", url);\n      document.body.appendChild(element);\n    }    var existing_scripts = []\n    var scripts = document.getElementsByTagName('script')\n    for (var i = 0; i < scripts.length; i++) {\n      var script = scripts[i]\n      if (script.src != null) {\n\texisting_scripts.push(script.src)\n      }\n    }\n    for (var i = 0; i < js_urls.length; i++) {\n      var url = js_urls[i];\n      if (skip.indexOf(url) !== -1 || existing_scripts.indexOf(url) !== -1) {\n\tif (!window.requirejs) {\n\t  on_load();\n\t}\n\tcontinue;\n      }\n      var element = document.createElement('script');\n      element.onload = on_load;\n      element.onerror = on_error;\n      element.async = false;\n      element.src = url;\n      console.debug(\"Bokeh: injecting script tag for BokehJS library: \", url);\n      document.head.appendChild(element);\n    }\n    for (var i = 0; i < js_modules.length; i++) {\n      var url = js_modules[i];\n      if (skip.indexOf(url) !== -1 || existing_scripts.indexOf(url) !== -1) {\n\tif (!window.requirejs) {\n\t  on_load();\n\t}\n\tcontinue;\n      }\n      var element = document.createElement('script');\n      element.onload = on_load;\n      element.onerror = on_error;\n      element.async = false;\n      element.src = url;\n      element.type = \"module\";\n      console.debug(\"Bokeh: injecting script tag for BokehJS library: \", url);\n      document.head.appendChild(element);\n    }\n    for (const name in js_exports) {\n      var url = js_exports[name];\n      if (skip.indexOf(url) >= 0 || root[name] != null) {\n\tif (!window.requirejs) {\n\t  on_load();\n\t}\n\tcontinue;\n      }\n      var element = document.createElement('script');\n      element.onerror = on_error;\n      element.async = false;\n      element.type = \"module\";\n      console.debug(\"Bokeh: injecting script tag for BokehJS library: \", url);\n      element.textContent = `\n      import ${name} from \"${url}\"\n      window.${name} = ${name}\n      window._bokeh_on_load()\n      `\n      document.head.appendChild(element);\n    }\n    if (!js_urls.length && !js_modules.length) {\n      on_load()\n    }\n  };\n\n  function inject_raw_css(css) {\n    const element = document.createElement(\"style\");\n    element.appendChild(document.createTextNode(css));\n    document.body.appendChild(element);\n  }\n\n  var js_urls = [\"https://cdn.bokeh.org/bokeh/release/bokeh-3.4.3.min.js\", \"https://cdn.bokeh.org/bokeh/release/bokeh-gl-3.4.3.min.js\", \"https://cdn.bokeh.org/bokeh/release/bokeh-widgets-3.4.3.min.js\", \"https://cdn.bokeh.org/bokeh/release/bokeh-tables-3.4.3.min.js\", \"https://cdn.holoviz.org/panel/1.4.5/dist/panel.min.js\"];\n  var js_modules = [];\n  var js_exports = {};\n  var css_urls = [];\n  var inline_js = [    function(Bokeh) {\n      Bokeh.set_log_level(\"info\");\n    },\nfunction(Bokeh) {} // ensure no trailing comma for IE\n  ];\n\n  function run_inline_js() {\n    if ((root.Bokeh !== undefined) || (force === true)) {\n      for (var i = 0; i < inline_js.length; i++) {\n\ttry {\n          inline_js[i].call(root, root.Bokeh);\n\t} catch(e) {\n\t  if (!reloading) {\n\t    throw e;\n\t  }\n\t}\n      }\n      // Cache old bokeh versions\n      if (Bokeh != undefined && !reloading) {\n\tvar NewBokeh = root.Bokeh;\n\tif (Bokeh.versions === undefined) {\n\t  Bokeh.versions = new Map();\n\t}\n\tif (NewBokeh.version !== Bokeh.version) {\n\t  Bokeh.versions.set(NewBokeh.version, NewBokeh)\n\t}\n\troot.Bokeh = Bokeh;\n      }} else if (Date.now() < root._bokeh_timeout) {\n      setTimeout(run_inline_js, 100);\n    } else if (!root._bokeh_failed_load) {\n      console.log(\"Bokeh: BokehJS failed to load within specified timeout.\");\n      root._bokeh_failed_load = true;\n    }\n    root._bokeh_is_initializing = false\n  }\n\n  function load_or_wait() {\n    // Implement a backoff loop that tries to ensure we do not load multiple\n    // versions of Bokeh and its dependencies at the same time.\n    // In recent versions we use the root._bokeh_is_initializing flag\n    // to determine whether there is an ongoing attempt to initialize\n    // bokeh, however for backward compatibility we also try to ensure\n    // that we do not start loading a newer (Panel>=1.0 and Bokeh>3) version\n    // before older versions are fully initialized.\n    if (root._bokeh_is_initializing && Date.now() > root._bokeh_timeout) {\n      root._bokeh_is_initializing = false;\n      root._bokeh_onload_callbacks = undefined;\n      console.log(\"Bokeh: BokehJS was loaded multiple times but one version failed to initialize.\");\n      load_or_wait();\n    } else if (root._bokeh_is_initializing || (typeof root._bokeh_is_initializing === \"undefined\" && root._bokeh_onload_callbacks !== undefined)) {\n      setTimeout(load_or_wait, 100);\n    } else {\n      root._bokeh_is_initializing = true\n      root._bokeh_onload_callbacks = []\n      var bokeh_loaded = Bokeh != null && (Bokeh.version === py_version || (Bokeh.versions !== undefined && Bokeh.versions.has(py_version)));\n      if (!reloading && !bokeh_loaded) {\n\troot.Bokeh = undefined;\n      }\n      load_libs(css_urls, js_urls, js_modules, js_exports, function() {\n\tconsole.debug(\"Bokeh: BokehJS plotting callback run at\", now());\n\trun_inline_js();\n      });\n    }\n  }\n  // Give older versions of the autoload script a head-start to ensure\n  // they initialize before we start loading newer version.\n  setTimeout(load_or_wait, 100)\n}(window));"
     },
     "metadata": {},
     "output_type": "display_data"
    },
    {
     "data": {
      "application/javascript": [
       "\n",
       "if ((window.PyViz === undefined) || (window.PyViz instanceof HTMLElement)) {\n",
       "  window.PyViz = {comms: {}, comm_status:{}, kernels:{}, receivers: {}, plot_index: []}\n",
       "}\n",
       "\n",
       "\n",
       "    function JupyterCommManager() {\n",
       "    }\n",
       "\n",
       "    JupyterCommManager.prototype.register_target = function(plot_id, comm_id, msg_handler) {\n",
       "      if (window.comm_manager || ((window.Jupyter !== undefined) && (Jupyter.notebook.kernel != null))) {\n",
       "        var comm_manager = window.comm_manager || Jupyter.notebook.kernel.comm_manager;\n",
       "        comm_manager.register_target(comm_id, function(comm) {\n",
       "          comm.on_msg(msg_handler);\n",
       "        });\n",
       "      } else if ((plot_id in window.PyViz.kernels) && (window.PyViz.kernels[plot_id])) {\n",
       "        window.PyViz.kernels[plot_id].registerCommTarget(comm_id, function(comm) {\n",
       "          comm.onMsg = msg_handler;\n",
       "        });\n",
       "      } else if (typeof google != 'undefined' && google.colab.kernel != null) {\n",
       "        google.colab.kernel.comms.registerTarget(comm_id, (comm) => {\n",
       "          var messages = comm.messages[Symbol.asyncIterator]();\n",
       "          function processIteratorResult(result) {\n",
       "            var message = result.value;\n",
       "            console.log(message)\n",
       "            var content = {data: message.data, comm_id};\n",
       "            var buffers = []\n",
       "            for (var buffer of message.buffers || []) {\n",
       "              buffers.push(new DataView(buffer))\n",
       "            }\n",
       "            var metadata = message.metadata || {};\n",
       "            var msg = {content, buffers, metadata}\n",
       "            msg_handler(msg);\n",
       "            return messages.next().then(processIteratorResult);\n",
       "          }\n",
       "          return messages.next().then(processIteratorResult);\n",
       "        })\n",
       "      }\n",
       "    }\n",
       "\n",
       "    JupyterCommManager.prototype.get_client_comm = function(plot_id, comm_id, msg_handler) {\n",
       "      if (comm_id in window.PyViz.comms) {\n",
       "        return window.PyViz.comms[comm_id];\n",
       "      } else if (window.comm_manager || ((window.Jupyter !== undefined) && (Jupyter.notebook.kernel != null))) {\n",
       "        var comm_manager = window.comm_manager || Jupyter.notebook.kernel.comm_manager;\n",
       "        var comm = comm_manager.new_comm(comm_id, {}, {}, {}, comm_id);\n",
       "        if (msg_handler) {\n",
       "          comm.on_msg(msg_handler);\n",
       "        }\n",
       "      } else if ((plot_id in window.PyViz.kernels) && (window.PyViz.kernels[plot_id])) {\n",
       "        var comm = window.PyViz.kernels[plot_id].connectToComm(comm_id);\n",
       "        comm.open();\n",
       "        if (msg_handler) {\n",
       "          comm.onMsg = msg_handler;\n",
       "        }\n",
       "      } else if (typeof google != 'undefined' && google.colab.kernel != null) {\n",
       "        var comm_promise = google.colab.kernel.comms.open(comm_id)\n",
       "        comm_promise.then((comm) => {\n",
       "          window.PyViz.comms[comm_id] = comm;\n",
       "          if (msg_handler) {\n",
       "            var messages = comm.messages[Symbol.asyncIterator]();\n",
       "            function processIteratorResult(result) {\n",
       "              var message = result.value;\n",
       "              var content = {data: message.data};\n",
       "              var metadata = message.metadata || {comm_id};\n",
       "              var msg = {content, metadata}\n",
       "              msg_handler(msg);\n",
       "              return messages.next().then(processIteratorResult);\n",
       "            }\n",
       "            return messages.next().then(processIteratorResult);\n",
       "          }\n",
       "        }) \n",
       "        var sendClosure = (data, metadata, buffers, disposeOnDone) => {\n",
       "          return comm_promise.then((comm) => {\n",
       "            comm.send(data, metadata, buffers, disposeOnDone);\n",
       "          });\n",
       "        };\n",
       "        var comm = {\n",
       "          send: sendClosure\n",
       "        };\n",
       "      }\n",
       "      window.PyViz.comms[comm_id] = comm;\n",
       "      return comm;\n",
       "    }\n",
       "    window.PyViz.comm_manager = new JupyterCommManager();\n",
       "    \n",
       "\n",
       "\n",
       "var JS_MIME_TYPE = 'application/javascript';\n",
       "var HTML_MIME_TYPE = 'text/html';\n",
       "var EXEC_MIME_TYPE = 'application/vnd.holoviews_exec.v0+json';\n",
       "var CLASS_NAME = 'output';\n",
       "\n",
       "/**\n",
       " * Render data to the DOM node\n",
       " */\n",
       "function render(props, node) {\n",
       "  var div = document.createElement(\"div\");\n",
       "  var script = document.createElement(\"script\");\n",
       "  node.appendChild(div);\n",
       "  node.appendChild(script);\n",
       "}\n",
       "\n",
       "/**\n",
       " * Handle when a new output is added\n",
       " */\n",
       "function handle_add_output(event, handle) {\n",
       "  var output_area = handle.output_area;\n",
       "  var output = handle.output;\n",
       "  if ((output.data == undefined) || (!output.data.hasOwnProperty(EXEC_MIME_TYPE))) {\n",
       "    return\n",
       "  }\n",
       "  var id = output.metadata[EXEC_MIME_TYPE][\"id\"];\n",
       "  var toinsert = output_area.element.find(\".\" + CLASS_NAME.split(' ')[0]);\n",
       "  if (id !== undefined) {\n",
       "    var nchildren = toinsert.length;\n",
       "    var html_node = toinsert[nchildren-1].children[0];\n",
       "    html_node.innerHTML = output.data[HTML_MIME_TYPE];\n",
       "    var scripts = [];\n",
       "    var nodelist = html_node.querySelectorAll(\"script\");\n",
       "    for (var i in nodelist) {\n",
       "      if (nodelist.hasOwnProperty(i)) {\n",
       "        scripts.push(nodelist[i])\n",
       "      }\n",
       "    }\n",
       "\n",
       "    scripts.forEach( function (oldScript) {\n",
       "      var newScript = document.createElement(\"script\");\n",
       "      var attrs = [];\n",
       "      var nodemap = oldScript.attributes;\n",
       "      for (var j in nodemap) {\n",
       "        if (nodemap.hasOwnProperty(j)) {\n",
       "          attrs.push(nodemap[j])\n",
       "        }\n",
       "      }\n",
       "      attrs.forEach(function(attr) { newScript.setAttribute(attr.name, attr.value) });\n",
       "      newScript.appendChild(document.createTextNode(oldScript.innerHTML));\n",
       "      oldScript.parentNode.replaceChild(newScript, oldScript);\n",
       "    });\n",
       "    if (JS_MIME_TYPE in output.data) {\n",
       "      toinsert[nchildren-1].children[1].textContent = output.data[JS_MIME_TYPE];\n",
       "    }\n",
       "    output_area._hv_plot_id = id;\n",
       "    if ((window.Bokeh !== undefined) && (id in Bokeh.index)) {\n",
       "      window.PyViz.plot_index[id] = Bokeh.index[id];\n",
       "    } else {\n",
       "      window.PyViz.plot_index[id] = null;\n",
       "    }\n",
       "  } else if (output.metadata[EXEC_MIME_TYPE][\"server_id\"] !== undefined) {\n",
       "    var bk_div = document.createElement(\"div\");\n",
       "    bk_div.innerHTML = output.data[HTML_MIME_TYPE];\n",
       "    var script_attrs = bk_div.children[0].attributes;\n",
       "    for (var i = 0; i < script_attrs.length; i++) {\n",
       "      toinsert[toinsert.length - 1].childNodes[1].setAttribute(script_attrs[i].name, script_attrs[i].value);\n",
       "    }\n",
       "    // store reference to server id on output_area\n",
       "    output_area._bokeh_server_id = output.metadata[EXEC_MIME_TYPE][\"server_id\"];\n",
       "  }\n",
       "}\n",
       "\n",
       "/**\n",
       " * Handle when an output is cleared or removed\n",
       " */\n",
       "function handle_clear_output(event, handle) {\n",
       "  var id = handle.cell.output_area._hv_plot_id;\n",
       "  var server_id = handle.cell.output_area._bokeh_server_id;\n",
       "  if (((id === undefined) || !(id in PyViz.plot_index)) && (server_id !== undefined)) { return; }\n",
       "  var comm = window.PyViz.comm_manager.get_client_comm(\"hv-extension-comm\", \"hv-extension-comm\", function () {});\n",
       "  if (server_id !== null) {\n",
       "    comm.send({event_type: 'server_delete', 'id': server_id});\n",
       "    return;\n",
       "  } else if (comm !== null) {\n",
       "    comm.send({event_type: 'delete', 'id': id});\n",
       "  }\n",
       "  delete PyViz.plot_index[id];\n",
       "  if ((window.Bokeh !== undefined) & (id in window.Bokeh.index)) {\n",
       "    var doc = window.Bokeh.index[id].model.document\n",
       "    doc.clear();\n",
       "    const i = window.Bokeh.documents.indexOf(doc);\n",
       "    if (i > -1) {\n",
       "      window.Bokeh.documents.splice(i, 1);\n",
       "    }\n",
       "  }\n",
       "}\n",
       "\n",
       "/**\n",
       " * Handle kernel restart event\n",
       " */\n",
       "function handle_kernel_cleanup(event, handle) {\n",
       "  delete PyViz.comms[\"hv-extension-comm\"];\n",
       "  window.PyViz.plot_index = {}\n",
       "}\n",
       "\n",
       "/**\n",
       " * Handle update_display_data messages\n",
       " */\n",
       "function handle_update_output(event, handle) {\n",
       "  handle_clear_output(event, {cell: {output_area: handle.output_area}})\n",
       "  handle_add_output(event, handle)\n",
       "}\n",
       "\n",
       "function register_renderer(events, OutputArea) {\n",
       "  function append_mime(data, metadata, element) {\n",
       "    // create a DOM node to render to\n",
       "    var toinsert = this.create_output_subarea(\n",
       "    metadata,\n",
       "    CLASS_NAME,\n",
       "    EXEC_MIME_TYPE\n",
       "    );\n",
       "    this.keyboard_manager.register_events(toinsert);\n",
       "    // Render to node\n",
       "    var props = {data: data, metadata: metadata[EXEC_MIME_TYPE]};\n",
       "    render(props, toinsert[0]);\n",
       "    element.append(toinsert);\n",
       "    return toinsert\n",
       "  }\n",
       "\n",
       "  events.on('output_added.OutputArea', handle_add_output);\n",
       "  events.on('output_updated.OutputArea', handle_update_output);\n",
       "  events.on('clear_output.CodeCell', handle_clear_output);\n",
       "  events.on('delete.Cell', handle_clear_output);\n",
       "  events.on('kernel_ready.Kernel', handle_kernel_cleanup);\n",
       "\n",
       "  OutputArea.prototype.register_mime_type(EXEC_MIME_TYPE, append_mime, {\n",
       "    safe: true,\n",
       "    index: 0\n",
       "  });\n",
       "}\n",
       "\n",
       "if (window.Jupyter !== undefined) {\n",
       "  try {\n",
       "    var events = require('base/js/events');\n",
       "    var OutputArea = require('notebook/js/outputarea').OutputArea;\n",
       "    if (OutputArea.prototype.mime_types().indexOf(EXEC_MIME_TYPE) == -1) {\n",
       "      register_renderer(events, OutputArea);\n",
       "    }\n",
       "  } catch(err) {\n",
       "  }\n",
       "}\n"
      ],
      "application/vnd.holoviews_load.v0+json": "\nif ((window.PyViz === undefined) || (window.PyViz instanceof HTMLElement)) {\n  window.PyViz = {comms: {}, comm_status:{}, kernels:{}, receivers: {}, plot_index: []}\n}\n\n\n    function JupyterCommManager() {\n    }\n\n    JupyterCommManager.prototype.register_target = function(plot_id, comm_id, msg_handler) {\n      if (window.comm_manager || ((window.Jupyter !== undefined) && (Jupyter.notebook.kernel != null))) {\n        var comm_manager = window.comm_manager || Jupyter.notebook.kernel.comm_manager;\n        comm_manager.register_target(comm_id, function(comm) {\n          comm.on_msg(msg_handler);\n        });\n      } else if ((plot_id in window.PyViz.kernels) && (window.PyViz.kernels[plot_id])) {\n        window.PyViz.kernels[plot_id].registerCommTarget(comm_id, function(comm) {\n          comm.onMsg = msg_handler;\n        });\n      } else if (typeof google != 'undefined' && google.colab.kernel != null) {\n        google.colab.kernel.comms.registerTarget(comm_id, (comm) => {\n          var messages = comm.messages[Symbol.asyncIterator]();\n          function processIteratorResult(result) {\n            var message = result.value;\n            console.log(message)\n            var content = {data: message.data, comm_id};\n            var buffers = []\n            for (var buffer of message.buffers || []) {\n              buffers.push(new DataView(buffer))\n            }\n            var metadata = message.metadata || {};\n            var msg = {content, buffers, metadata}\n            msg_handler(msg);\n            return messages.next().then(processIteratorResult);\n          }\n          return messages.next().then(processIteratorResult);\n        })\n      }\n    }\n\n    JupyterCommManager.prototype.get_client_comm = function(plot_id, comm_id, msg_handler) {\n      if (comm_id in window.PyViz.comms) {\n        return window.PyViz.comms[comm_id];\n      } else if (window.comm_manager || ((window.Jupyter !== undefined) && (Jupyter.notebook.kernel != null))) {\n        var comm_manager = window.comm_manager || Jupyter.notebook.kernel.comm_manager;\n        var comm = comm_manager.new_comm(comm_id, {}, {}, {}, comm_id);\n        if (msg_handler) {\n          comm.on_msg(msg_handler);\n        }\n      } else if ((plot_id in window.PyViz.kernels) && (window.PyViz.kernels[plot_id])) {\n        var comm = window.PyViz.kernels[plot_id].connectToComm(comm_id);\n        comm.open();\n        if (msg_handler) {\n          comm.onMsg = msg_handler;\n        }\n      } else if (typeof google != 'undefined' && google.colab.kernel != null) {\n        var comm_promise = google.colab.kernel.comms.open(comm_id)\n        comm_promise.then((comm) => {\n          window.PyViz.comms[comm_id] = comm;\n          if (msg_handler) {\n            var messages = comm.messages[Symbol.asyncIterator]();\n            function processIteratorResult(result) {\n              var message = result.value;\n              var content = {data: message.data};\n              var metadata = message.metadata || {comm_id};\n              var msg = {content, metadata}\n              msg_handler(msg);\n              return messages.next().then(processIteratorResult);\n            }\n            return messages.next().then(processIteratorResult);\n          }\n        }) \n        var sendClosure = (data, metadata, buffers, disposeOnDone) => {\n          return comm_promise.then((comm) => {\n            comm.send(data, metadata, buffers, disposeOnDone);\n          });\n        };\n        var comm = {\n          send: sendClosure\n        };\n      }\n      window.PyViz.comms[comm_id] = comm;\n      return comm;\n    }\n    window.PyViz.comm_manager = new JupyterCommManager();\n    \n\n\nvar JS_MIME_TYPE = 'application/javascript';\nvar HTML_MIME_TYPE = 'text/html';\nvar EXEC_MIME_TYPE = 'application/vnd.holoviews_exec.v0+json';\nvar CLASS_NAME = 'output';\n\n/**\n * Render data to the DOM node\n */\nfunction render(props, node) {\n  var div = document.createElement(\"div\");\n  var script = document.createElement(\"script\");\n  node.appendChild(div);\n  node.appendChild(script);\n}\n\n/**\n * Handle when a new output is added\n */\nfunction handle_add_output(event, handle) {\n  var output_area = handle.output_area;\n  var output = handle.output;\n  if ((output.data == undefined) || (!output.data.hasOwnProperty(EXEC_MIME_TYPE))) {\n    return\n  }\n  var id = output.metadata[EXEC_MIME_TYPE][\"id\"];\n  var toinsert = output_area.element.find(\".\" + CLASS_NAME.split(' ')[0]);\n  if (id !== undefined) {\n    var nchildren = toinsert.length;\n    var html_node = toinsert[nchildren-1].children[0];\n    html_node.innerHTML = output.data[HTML_MIME_TYPE];\n    var scripts = [];\n    var nodelist = html_node.querySelectorAll(\"script\");\n    for (var i in nodelist) {\n      if (nodelist.hasOwnProperty(i)) {\n        scripts.push(nodelist[i])\n      }\n    }\n\n    scripts.forEach( function (oldScript) {\n      var newScript = document.createElement(\"script\");\n      var attrs = [];\n      var nodemap = oldScript.attributes;\n      for (var j in nodemap) {\n        if (nodemap.hasOwnProperty(j)) {\n          attrs.push(nodemap[j])\n        }\n      }\n      attrs.forEach(function(attr) { newScript.setAttribute(attr.name, attr.value) });\n      newScript.appendChild(document.createTextNode(oldScript.innerHTML));\n      oldScript.parentNode.replaceChild(newScript, oldScript);\n    });\n    if (JS_MIME_TYPE in output.data) {\n      toinsert[nchildren-1].children[1].textContent = output.data[JS_MIME_TYPE];\n    }\n    output_area._hv_plot_id = id;\n    if ((window.Bokeh !== undefined) && (id in Bokeh.index)) {\n      window.PyViz.plot_index[id] = Bokeh.index[id];\n    } else {\n      window.PyViz.plot_index[id] = null;\n    }\n  } else if (output.metadata[EXEC_MIME_TYPE][\"server_id\"] !== undefined) {\n    var bk_div = document.createElement(\"div\");\n    bk_div.innerHTML = output.data[HTML_MIME_TYPE];\n    var script_attrs = bk_div.children[0].attributes;\n    for (var i = 0; i < script_attrs.length; i++) {\n      toinsert[toinsert.length - 1].childNodes[1].setAttribute(script_attrs[i].name, script_attrs[i].value);\n    }\n    // store reference to server id on output_area\n    output_area._bokeh_server_id = output.metadata[EXEC_MIME_TYPE][\"server_id\"];\n  }\n}\n\n/**\n * Handle when an output is cleared or removed\n */\nfunction handle_clear_output(event, handle) {\n  var id = handle.cell.output_area._hv_plot_id;\n  var server_id = handle.cell.output_area._bokeh_server_id;\n  if (((id === undefined) || !(id in PyViz.plot_index)) && (server_id !== undefined)) { return; }\n  var comm = window.PyViz.comm_manager.get_client_comm(\"hv-extension-comm\", \"hv-extension-comm\", function () {});\n  if (server_id !== null) {\n    comm.send({event_type: 'server_delete', 'id': server_id});\n    return;\n  } else if (comm !== null) {\n    comm.send({event_type: 'delete', 'id': id});\n  }\n  delete PyViz.plot_index[id];\n  if ((window.Bokeh !== undefined) & (id in window.Bokeh.index)) {\n    var doc = window.Bokeh.index[id].model.document\n    doc.clear();\n    const i = window.Bokeh.documents.indexOf(doc);\n    if (i > -1) {\n      window.Bokeh.documents.splice(i, 1);\n    }\n  }\n}\n\n/**\n * Handle kernel restart event\n */\nfunction handle_kernel_cleanup(event, handle) {\n  delete PyViz.comms[\"hv-extension-comm\"];\n  window.PyViz.plot_index = {}\n}\n\n/**\n * Handle update_display_data messages\n */\nfunction handle_update_output(event, handle) {\n  handle_clear_output(event, {cell: {output_area: handle.output_area}})\n  handle_add_output(event, handle)\n}\n\nfunction register_renderer(events, OutputArea) {\n  function append_mime(data, metadata, element) {\n    // create a DOM node to render to\n    var toinsert = this.create_output_subarea(\n    metadata,\n    CLASS_NAME,\n    EXEC_MIME_TYPE\n    );\n    this.keyboard_manager.register_events(toinsert);\n    // Render to node\n    var props = {data: data, metadata: metadata[EXEC_MIME_TYPE]};\n    render(props, toinsert[0]);\n    element.append(toinsert);\n    return toinsert\n  }\n\n  events.on('output_added.OutputArea', handle_add_output);\n  events.on('output_updated.OutputArea', handle_update_output);\n  events.on('clear_output.CodeCell', handle_clear_output);\n  events.on('delete.Cell', handle_clear_output);\n  events.on('kernel_ready.Kernel', handle_kernel_cleanup);\n\n  OutputArea.prototype.register_mime_type(EXEC_MIME_TYPE, append_mime, {\n    safe: true,\n    index: 0\n  });\n}\n\nif (window.Jupyter !== undefined) {\n  try {\n    var events = require('base/js/events');\n    var OutputArea = require('notebook/js/outputarea').OutputArea;\n    if (OutputArea.prototype.mime_types().indexOf(EXEC_MIME_TYPE) == -1) {\n      register_renderer(events, OutputArea);\n    }\n  } catch(err) {\n  }\n}\n"
     },
     "metadata": {},
     "output_type": "display_data"
    },
    {
     "data": {
      "text/html": [
       "<style>*[data-root-id],\n",
       "*[data-root-id] > * {\n",
       "  box-sizing: border-box;\n",
       "  font-family: var(--jp-ui-font-family);\n",
       "  font-size: var(--jp-ui-font-size1);\n",
       "  color: var(--vscode-editor-foreground, var(--jp-ui-font-color1));\n",
       "}\n",
       "\n",
       "/* Override VSCode background color */\n",
       ".cell-output-ipywidget-background:has(\n",
       "    > .cell-output-ipywidget-background > .lm-Widget > *[data-root-id]\n",
       "  ),\n",
       ".cell-output-ipywidget-background:has(> .lm-Widget > *[data-root-id]) {\n",
       "  background-color: transparent !important;\n",
       "}\n",
       "</style>"
      ]
     },
     "metadata": {},
     "output_type": "display_data"
    },
    {
     "data": {
      "application/vnd.holoviews_exec.v0+json": "",
      "text/html": [
       "<div id='p1002'>\n",
       "  <div id=\"d62748fd-73c1-432c-874d-7a83f31cabb7\" data-root-id=\"p1002\" style=\"display: contents;\"></div>\n",
       "</div>\n",
       "<script type=\"application/javascript\">(function(root) {\n",
       "  var docs_json = {\"a55d0675-ce64-4ef7-8db3-9d83f50c5e4c\":{\"version\":\"3.4.3\",\"title\":\"Bokeh Application\",\"roots\":[{\"type\":\"object\",\"name\":\"panel.models.browser.BrowserInfo\",\"id\":\"p1002\"},{\"type\":\"object\",\"name\":\"panel.models.comm_manager.CommManager\",\"id\":\"p1003\",\"attributes\":{\"plot_id\":\"p1002\",\"comm_id\":\"7e188f97e1cd4740809ffe7b3133d11f\",\"client_comm_id\":\"20df12a617fc499e85365e40511fdcf0\"}}],\"defs\":[{\"type\":\"model\",\"name\":\"ReactiveHTML1\"},{\"type\":\"model\",\"name\":\"FlexBox1\",\"properties\":[{\"name\":\"align_content\",\"kind\":\"Any\",\"default\":\"flex-start\"},{\"name\":\"align_items\",\"kind\":\"Any\",\"default\":\"flex-start\"},{\"name\":\"flex_direction\",\"kind\":\"Any\",\"default\":\"row\"},{\"name\":\"flex_wrap\",\"kind\":\"Any\",\"default\":\"wrap\"},{\"name\":\"gap\",\"kind\":\"Any\",\"default\":\"\"},{\"name\":\"justify_content\",\"kind\":\"Any\",\"default\":\"flex-start\"}]},{\"type\":\"model\",\"name\":\"FloatPanel1\",\"properties\":[{\"name\":\"config\",\"kind\":\"Any\",\"default\":{\"type\":\"map\"}},{\"name\":\"contained\",\"kind\":\"Any\",\"default\":true},{\"name\":\"position\",\"kind\":\"Any\",\"default\":\"right-top\"},{\"name\":\"offsetx\",\"kind\":\"Any\",\"default\":null},{\"name\":\"offsety\",\"kind\":\"Any\",\"default\":null},{\"name\":\"theme\",\"kind\":\"Any\",\"default\":\"primary\"},{\"name\":\"status\",\"kind\":\"Any\",\"default\":\"normalized\"}]},{\"type\":\"model\",\"name\":\"GridStack1\",\"properties\":[{\"name\":\"mode\",\"kind\":\"Any\",\"default\":\"warn\"},{\"name\":\"ncols\",\"kind\":\"Any\",\"default\":null},{\"name\":\"nrows\",\"kind\":\"Any\",\"default\":null},{\"name\":\"allow_resize\",\"kind\":\"Any\",\"default\":true},{\"name\":\"allow_drag\",\"kind\":\"Any\",\"default\":true},{\"name\":\"state\",\"kind\":\"Any\",\"default\":[]}]},{\"type\":\"model\",\"name\":\"drag1\",\"properties\":[{\"name\":\"slider_width\",\"kind\":\"Any\",\"default\":5},{\"name\":\"slider_color\",\"kind\":\"Any\",\"default\":\"black\"},{\"name\":\"value\",\"kind\":\"Any\",\"default\":50}]},{\"type\":\"model\",\"name\":\"click1\",\"properties\":[{\"name\":\"terminal_output\",\"kind\":\"Any\",\"default\":\"\"},{\"name\":\"debug_name\",\"kind\":\"Any\",\"default\":\"\"},{\"name\":\"clears\",\"kind\":\"Any\",\"default\":0}]},{\"type\":\"model\",\"name\":\"FastWrapper1\",\"properties\":[{\"name\":\"object\",\"kind\":\"Any\",\"default\":null},{\"name\":\"style\",\"kind\":\"Any\",\"default\":null}]},{\"type\":\"model\",\"name\":\"NotificationAreaBase1\",\"properties\":[{\"name\":\"js_events\",\"kind\":\"Any\",\"default\":{\"type\":\"map\"}},{\"name\":\"position\",\"kind\":\"Any\",\"default\":\"bottom-right\"},{\"name\":\"_clear\",\"kind\":\"Any\",\"default\":0}]},{\"type\":\"model\",\"name\":\"NotificationArea1\",\"properties\":[{\"name\":\"js_events\",\"kind\":\"Any\",\"default\":{\"type\":\"map\"}},{\"name\":\"notifications\",\"kind\":\"Any\",\"default\":[]},{\"name\":\"position\",\"kind\":\"Any\",\"default\":\"bottom-right\"},{\"name\":\"_clear\",\"kind\":\"Any\",\"default\":0},{\"name\":\"types\",\"kind\":\"Any\",\"default\":[{\"type\":\"map\",\"entries\":[[\"type\",\"warning\"],[\"background\",\"#ffc107\"],[\"icon\",{\"type\":\"map\",\"entries\":[[\"className\",\"fas fa-exclamation-triangle\"],[\"tagName\",\"i\"],[\"color\",\"white\"]]}]]},{\"type\":\"map\",\"entries\":[[\"type\",\"info\"],[\"background\",\"#007bff\"],[\"icon\",{\"type\":\"map\",\"entries\":[[\"className\",\"fas fa-info-circle\"],[\"tagName\",\"i\"],[\"color\",\"white\"]]}]]}]}]},{\"type\":\"model\",\"name\":\"Notification\",\"properties\":[{\"name\":\"background\",\"kind\":\"Any\",\"default\":null},{\"name\":\"duration\",\"kind\":\"Any\",\"default\":3000},{\"name\":\"icon\",\"kind\":\"Any\",\"default\":null},{\"name\":\"message\",\"kind\":\"Any\",\"default\":\"\"},{\"name\":\"notification_type\",\"kind\":\"Any\",\"default\":null},{\"name\":\"_destroyed\",\"kind\":\"Any\",\"default\":false}]},{\"type\":\"model\",\"name\":\"TemplateActions1\",\"properties\":[{\"name\":\"open_modal\",\"kind\":\"Any\",\"default\":0},{\"name\":\"close_modal\",\"kind\":\"Any\",\"default\":0}]},{\"type\":\"model\",\"name\":\"BootstrapTemplateActions1\",\"properties\":[{\"name\":\"open_modal\",\"kind\":\"Any\",\"default\":0},{\"name\":\"close_modal\",\"kind\":\"Any\",\"default\":0}]},{\"type\":\"model\",\"name\":\"TemplateEditor1\",\"properties\":[{\"name\":\"layout\",\"kind\":\"Any\",\"default\":[]}]},{\"type\":\"model\",\"name\":\"MaterialTemplateActions1\",\"properties\":[{\"name\":\"open_modal\",\"kind\":\"Any\",\"default\":0},{\"name\":\"close_modal\",\"kind\":\"Any\",\"default\":0}]},{\"type\":\"model\",\"name\":\"copy_to_clipboard1\",\"properties\":[{\"name\":\"fill\",\"kind\":\"Any\",\"default\":\"none\"},{\"name\":\"value\",\"kind\":\"Any\",\"default\":null}]}]}};\n",
       "  var render_items = [{\"docid\":\"a55d0675-ce64-4ef7-8db3-9d83f50c5e4c\",\"roots\":{\"p1002\":\"d62748fd-73c1-432c-874d-7a83f31cabb7\"},\"root_ids\":[\"p1002\"]}];\n",
       "  var docs = Object.values(docs_json)\n",
       "  if (!docs) {\n",
       "    return\n",
       "  }\n",
       "  const py_version = docs[0].version.replace('rc', '-rc.').replace('.dev', '-dev.')\n",
       "  async function embed_document(root) {\n",
       "    var Bokeh = get_bokeh(root)\n",
       "    await Bokeh.embed.embed_items_notebook(docs_json, render_items);\n",
       "    for (const render_item of render_items) {\n",
       "      for (const root_id of render_item.root_ids) {\n",
       "\tconst id_el = document.getElementById(root_id)\n",
       "\tif (id_el.children.length && id_el.children[0].hasAttribute('data-root-id')) {\n",
       "\t  const root_el = id_el.children[0]\n",
       "\t  root_el.id = root_el.id + '-rendered'\n",
       "\t  for (const child of root_el.children) {\n",
       "            // Ensure JupyterLab does not capture keyboard shortcuts\n",
       "            // see: https://jupyterlab.readthedocs.io/en/4.1.x/extension/notebook.html#keyboard-interaction-model\n",
       "\t    child.setAttribute('data-lm-suppress-shortcuts', 'true')\n",
       "\t  }\n",
       "\t}\n",
       "      }\n",
       "    }\n",
       "  }\n",
       "  function get_bokeh(root) {\n",
       "    if (root.Bokeh === undefined) {\n",
       "      return null\n",
       "    } else if (root.Bokeh.version !== py_version) {\n",
       "      if (root.Bokeh.versions === undefined || !root.Bokeh.versions.has(py_version)) {\n",
       "\treturn null\n",
       "      }\n",
       "      return root.Bokeh.versions.get(py_version);\n",
       "    } else if (root.Bokeh.version === py_version) {\n",
       "      return root.Bokeh\n",
       "    }\n",
       "    return null\n",
       "  }\n",
       "  function is_loaded(root) {\n",
       "    var Bokeh = get_bokeh(root)\n",
       "    return (Bokeh != null && Bokeh.Panel !== undefined)\n",
       "  }\n",
       "  if (is_loaded(root)) {\n",
       "    embed_document(root);\n",
       "  } else {\n",
       "    var attempts = 0;\n",
       "    var timer = setInterval(function(root) {\n",
       "      if (is_loaded(root)) {\n",
       "        clearInterval(timer);\n",
       "        embed_document(root);\n",
       "      } else if (document.readyState == \"complete\") {\n",
       "        attempts++;\n",
       "        if (attempts > 200) {\n",
       "          clearInterval(timer);\n",
       "\t  var Bokeh = get_bokeh(root)\n",
       "\t  if (Bokeh == null || Bokeh.Panel == null) {\n",
       "            console.warn(\"Panel: ERROR: Unable to run Panel code because Bokeh or Panel library is missing\");\n",
       "\t  } else {\n",
       "\t    console.warn(\"Panel: WARNING: Attempting to render but not all required libraries could be resolved.\")\n",
       "\t    embed_document(root)\n",
       "\t  }\n",
       "        }\n",
       "      }\n",
       "    }, 25, root)\n",
       "  }\n",
       "})(window);</script>"
      ]
     },
     "metadata": {
      "application/vnd.holoviews_exec.v0+json": {
       "id": "p1002"
      }
     },
     "output_type": "display_data"
    },
    {
     "data": {
      "application/javascript": [
       "(function(root) {\n",
       "  function now() {\n",
       "    return new Date();\n",
       "  }\n",
       "\n",
       "  var force = true;\n",
       "  var py_version = '3.4.3'.replace('rc', '-rc.').replace('.dev', '-dev.');\n",
       "  var reloading = true;\n",
       "  var Bokeh = root.Bokeh;\n",
       "\n",
       "  if (typeof (root._bokeh_timeout) === \"undefined\" || force) {\n",
       "    root._bokeh_timeout = Date.now() + 5000;\n",
       "    root._bokeh_failed_load = false;\n",
       "  }\n",
       "\n",
       "  function run_callbacks() {\n",
       "    try {\n",
       "      root._bokeh_onload_callbacks.forEach(function(callback) {\n",
       "        if (callback != null)\n",
       "          callback();\n",
       "      });\n",
       "    } finally {\n",
       "      delete root._bokeh_onload_callbacks;\n",
       "    }\n",
       "    console.debug(\"Bokeh: all callbacks have finished\");\n",
       "  }\n",
       "\n",
       "  function load_libs(css_urls, js_urls, js_modules, js_exports, callback) {\n",
       "    if (css_urls == null) css_urls = [];\n",
       "    if (js_urls == null) js_urls = [];\n",
       "    if (js_modules == null) js_modules = [];\n",
       "    if (js_exports == null) js_exports = {};\n",
       "\n",
       "    root._bokeh_onload_callbacks.push(callback);\n",
       "\n",
       "    if (root._bokeh_is_loading > 0) {\n",
       "      console.debug(\"Bokeh: BokehJS is being loaded, scheduling callback at\", now());\n",
       "      return null;\n",
       "    }\n",
       "    if (js_urls.length === 0 && js_modules.length === 0 && Object.keys(js_exports).length === 0) {\n",
       "      run_callbacks();\n",
       "      return null;\n",
       "    }\n",
       "    if (!reloading) {\n",
       "      console.debug(\"Bokeh: BokehJS not loaded, scheduling load and callback at\", now());\n",
       "    }\n",
       "\n",
       "    function on_load() {\n",
       "      root._bokeh_is_loading--;\n",
       "      if (root._bokeh_is_loading === 0) {\n",
       "        console.debug(\"Bokeh: all BokehJS libraries/stylesheets loaded\");\n",
       "        run_callbacks()\n",
       "      }\n",
       "    }\n",
       "    window._bokeh_on_load = on_load\n",
       "\n",
       "    function on_error() {\n",
       "      console.error(\"failed to load \" + url);\n",
       "    }\n",
       "\n",
       "    var skip = [];\n",
       "    if (window.requirejs) {\n",
       "      window.requirejs.config({'packages': {}, 'paths': {}, 'shim': {}});\n",
       "      root._bokeh_is_loading = css_urls.length + 0;\n",
       "    } else {\n",
       "      root._bokeh_is_loading = css_urls.length + js_urls.length + js_modules.length + Object.keys(js_exports).length;\n",
       "    }\n",
       "\n",
       "    var existing_stylesheets = []\n",
       "    var links = document.getElementsByTagName('link')\n",
       "    for (var i = 0; i < links.length; i++) {\n",
       "      var link = links[i]\n",
       "      if (link.href != null) {\n",
       "\texisting_stylesheets.push(link.href)\n",
       "      }\n",
       "    }\n",
       "    for (var i = 0; i < css_urls.length; i++) {\n",
       "      var url = css_urls[i];\n",
       "      if (existing_stylesheets.indexOf(url) !== -1) {\n",
       "\ton_load()\n",
       "\tcontinue;\n",
       "      }\n",
       "      const element = document.createElement(\"link\");\n",
       "      element.onload = on_load;\n",
       "      element.onerror = on_error;\n",
       "      element.rel = \"stylesheet\";\n",
       "      element.type = \"text/css\";\n",
       "      element.href = url;\n",
       "      console.debug(\"Bokeh: injecting link tag for BokehJS stylesheet: \", url);\n",
       "      document.body.appendChild(element);\n",
       "    }    var existing_scripts = []\n",
       "    var scripts = document.getElementsByTagName('script')\n",
       "    for (var i = 0; i < scripts.length; i++) {\n",
       "      var script = scripts[i]\n",
       "      if (script.src != null) {\n",
       "\texisting_scripts.push(script.src)\n",
       "      }\n",
       "    }\n",
       "    for (var i = 0; i < js_urls.length; i++) {\n",
       "      var url = js_urls[i];\n",
       "      if (skip.indexOf(url) !== -1 || existing_scripts.indexOf(url) !== -1) {\n",
       "\tif (!window.requirejs) {\n",
       "\t  on_load();\n",
       "\t}\n",
       "\tcontinue;\n",
       "      }\n",
       "      var element = document.createElement('script');\n",
       "      element.onload = on_load;\n",
       "      element.onerror = on_error;\n",
       "      element.async = false;\n",
       "      element.src = url;\n",
       "      console.debug(\"Bokeh: injecting script tag for BokehJS library: \", url);\n",
       "      document.head.appendChild(element);\n",
       "    }\n",
       "    for (var i = 0; i < js_modules.length; i++) {\n",
       "      var url = js_modules[i];\n",
       "      if (skip.indexOf(url) !== -1 || existing_scripts.indexOf(url) !== -1) {\n",
       "\tif (!window.requirejs) {\n",
       "\t  on_load();\n",
       "\t}\n",
       "\tcontinue;\n",
       "      }\n",
       "      var element = document.createElement('script');\n",
       "      element.onload = on_load;\n",
       "      element.onerror = on_error;\n",
       "      element.async = false;\n",
       "      element.src = url;\n",
       "      element.type = \"module\";\n",
       "      console.debug(\"Bokeh: injecting script tag for BokehJS library: \", url);\n",
       "      document.head.appendChild(element);\n",
       "    }\n",
       "    for (const name in js_exports) {\n",
       "      var url = js_exports[name];\n",
       "      if (skip.indexOf(url) >= 0 || root[name] != null) {\n",
       "\tif (!window.requirejs) {\n",
       "\t  on_load();\n",
       "\t}\n",
       "\tcontinue;\n",
       "      }\n",
       "      var element = document.createElement('script');\n",
       "      element.onerror = on_error;\n",
       "      element.async = false;\n",
       "      element.type = \"module\";\n",
       "      console.debug(\"Bokeh: injecting script tag for BokehJS library: \", url);\n",
       "      element.textContent = `\n",
       "      import ${name} from \"${url}\"\n",
       "      window.${name} = ${name}\n",
       "      window._bokeh_on_load()\n",
       "      `\n",
       "      document.head.appendChild(element);\n",
       "    }\n",
       "    if (!js_urls.length && !js_modules.length) {\n",
       "      on_load()\n",
       "    }\n",
       "  };\n",
       "\n",
       "  function inject_raw_css(css) {\n",
       "    const element = document.createElement(\"style\");\n",
       "    element.appendChild(document.createTextNode(css));\n",
       "    document.body.appendChild(element);\n",
       "  }\n",
       "\n",
       "  var js_urls = [];\n",
       "  var js_modules = [];\n",
       "  var js_exports = {};\n",
       "  var css_urls = [];\n",
       "  var inline_js = [    function(Bokeh) {\n",
       "      Bokeh.set_log_level(\"info\");\n",
       "    },\n",
       "function(Bokeh) {} // ensure no trailing comma for IE\n",
       "  ];\n",
       "\n",
       "  function run_inline_js() {\n",
       "    if ((root.Bokeh !== undefined) || (force === true)) {\n",
       "      for (var i = 0; i < inline_js.length; i++) {\n",
       "\ttry {\n",
       "          inline_js[i].call(root, root.Bokeh);\n",
       "\t} catch(e) {\n",
       "\t  if (!reloading) {\n",
       "\t    throw e;\n",
       "\t  }\n",
       "\t}\n",
       "      }\n",
       "      // Cache old bokeh versions\n",
       "      if (Bokeh != undefined && !reloading) {\n",
       "\tvar NewBokeh = root.Bokeh;\n",
       "\tif (Bokeh.versions === undefined) {\n",
       "\t  Bokeh.versions = new Map();\n",
       "\t}\n",
       "\tif (NewBokeh.version !== Bokeh.version) {\n",
       "\t  Bokeh.versions.set(NewBokeh.version, NewBokeh)\n",
       "\t}\n",
       "\troot.Bokeh = Bokeh;\n",
       "      }} else if (Date.now() < root._bokeh_timeout) {\n",
       "      setTimeout(run_inline_js, 100);\n",
       "    } else if (!root._bokeh_failed_load) {\n",
       "      console.log(\"Bokeh: BokehJS failed to load within specified timeout.\");\n",
       "      root._bokeh_failed_load = true;\n",
       "    }\n",
       "    root._bokeh_is_initializing = false\n",
       "  }\n",
       "\n",
       "  function load_or_wait() {\n",
       "    // Implement a backoff loop that tries to ensure we do not load multiple\n",
       "    // versions of Bokeh and its dependencies at the same time.\n",
       "    // In recent versions we use the root._bokeh_is_initializing flag\n",
       "    // to determine whether there is an ongoing attempt to initialize\n",
       "    // bokeh, however for backward compatibility we also try to ensure\n",
       "    // that we do not start loading a newer (Panel>=1.0 and Bokeh>3) version\n",
       "    // before older versions are fully initialized.\n",
       "    if (root._bokeh_is_initializing && Date.now() > root._bokeh_timeout) {\n",
       "      root._bokeh_is_initializing = false;\n",
       "      root._bokeh_onload_callbacks = undefined;\n",
       "      console.log(\"Bokeh: BokehJS was loaded multiple times but one version failed to initialize.\");\n",
       "      load_or_wait();\n",
       "    } else if (root._bokeh_is_initializing || (typeof root._bokeh_is_initializing === \"undefined\" && root._bokeh_onload_callbacks !== undefined)) {\n",
       "      setTimeout(load_or_wait, 100);\n",
       "    } else {\n",
       "      root._bokeh_is_initializing = true\n",
       "      root._bokeh_onload_callbacks = []\n",
       "      var bokeh_loaded = Bokeh != null && (Bokeh.version === py_version || (Bokeh.versions !== undefined && Bokeh.versions.has(py_version)));\n",
       "      if (!reloading && !bokeh_loaded) {\n",
       "\troot.Bokeh = undefined;\n",
       "      }\n",
       "      load_libs(css_urls, js_urls, js_modules, js_exports, function() {\n",
       "\tconsole.debug(\"Bokeh: BokehJS plotting callback run at\", now());\n",
       "\trun_inline_js();\n",
       "      });\n",
       "    }\n",
       "  }\n",
       "  // Give older versions of the autoload script a head-start to ensure\n",
       "  // they initialize before we start loading newer version.\n",
       "  setTimeout(load_or_wait, 100)\n",
       "}(window));"
      ],
      "application/vnd.holoviews_load.v0+json": "(function(root) {\n  function now() {\n    return new Date();\n  }\n\n  var force = true;\n  var py_version = '3.4.3'.replace('rc', '-rc.').replace('.dev', '-dev.');\n  var reloading = true;\n  var Bokeh = root.Bokeh;\n\n  if (typeof (root._bokeh_timeout) === \"undefined\" || force) {\n    root._bokeh_timeout = Date.now() + 5000;\n    root._bokeh_failed_load = false;\n  }\n\n  function run_callbacks() {\n    try {\n      root._bokeh_onload_callbacks.forEach(function(callback) {\n        if (callback != null)\n          callback();\n      });\n    } finally {\n      delete root._bokeh_onload_callbacks;\n    }\n    console.debug(\"Bokeh: all callbacks have finished\");\n  }\n\n  function load_libs(css_urls, js_urls, js_modules, js_exports, callback) {\n    if (css_urls == null) css_urls = [];\n    if (js_urls == null) js_urls = [];\n    if (js_modules == null) js_modules = [];\n    if (js_exports == null) js_exports = {};\n\n    root._bokeh_onload_callbacks.push(callback);\n\n    if (root._bokeh_is_loading > 0) {\n      console.debug(\"Bokeh: BokehJS is being loaded, scheduling callback at\", now());\n      return null;\n    }\n    if (js_urls.length === 0 && js_modules.length === 0 && Object.keys(js_exports).length === 0) {\n      run_callbacks();\n      return null;\n    }\n    if (!reloading) {\n      console.debug(\"Bokeh: BokehJS not loaded, scheduling load and callback at\", now());\n    }\n\n    function on_load() {\n      root._bokeh_is_loading--;\n      if (root._bokeh_is_loading === 0) {\n        console.debug(\"Bokeh: all BokehJS libraries/stylesheets loaded\");\n        run_callbacks()\n      }\n    }\n    window._bokeh_on_load = on_load\n\n    function on_error() {\n      console.error(\"failed to load \" + url);\n    }\n\n    var skip = [];\n    if (window.requirejs) {\n      window.requirejs.config({'packages': {}, 'paths': {}, 'shim': {}});\n      root._bokeh_is_loading = css_urls.length + 0;\n    } else {\n      root._bokeh_is_loading = css_urls.length + js_urls.length + js_modules.length + Object.keys(js_exports).length;\n    }\n\n    var existing_stylesheets = []\n    var links = document.getElementsByTagName('link')\n    for (var i = 0; i < links.length; i++) {\n      var link = links[i]\n      if (link.href != null) {\n\texisting_stylesheets.push(link.href)\n      }\n    }\n    for (var i = 0; i < css_urls.length; i++) {\n      var url = css_urls[i];\n      if (existing_stylesheets.indexOf(url) !== -1) {\n\ton_load()\n\tcontinue;\n      }\n      const element = document.createElement(\"link\");\n      element.onload = on_load;\n      element.onerror = on_error;\n      element.rel = \"stylesheet\";\n      element.type = \"text/css\";\n      element.href = url;\n      console.debug(\"Bokeh: injecting link tag for BokehJS stylesheet: \", url);\n      document.body.appendChild(element);\n    }    var existing_scripts = []\n    var scripts = document.getElementsByTagName('script')\n    for (var i = 0; i < scripts.length; i++) {\n      var script = scripts[i]\n      if (script.src != null) {\n\texisting_scripts.push(script.src)\n      }\n    }\n    for (var i = 0; i < js_urls.length; i++) {\n      var url = js_urls[i];\n      if (skip.indexOf(url) !== -1 || existing_scripts.indexOf(url) !== -1) {\n\tif (!window.requirejs) {\n\t  on_load();\n\t}\n\tcontinue;\n      }\n      var element = document.createElement('script');\n      element.onload = on_load;\n      element.onerror = on_error;\n      element.async = false;\n      element.src = url;\n      console.debug(\"Bokeh: injecting script tag for BokehJS library: \", url);\n      document.head.appendChild(element);\n    }\n    for (var i = 0; i < js_modules.length; i++) {\n      var url = js_modules[i];\n      if (skip.indexOf(url) !== -1 || existing_scripts.indexOf(url) !== -1) {\n\tif (!window.requirejs) {\n\t  on_load();\n\t}\n\tcontinue;\n      }\n      var element = document.createElement('script');\n      element.onload = on_load;\n      element.onerror = on_error;\n      element.async = false;\n      element.src = url;\n      element.type = \"module\";\n      console.debug(\"Bokeh: injecting script tag for BokehJS library: \", url);\n      document.head.appendChild(element);\n    }\n    for (const name in js_exports) {\n      var url = js_exports[name];\n      if (skip.indexOf(url) >= 0 || root[name] != null) {\n\tif (!window.requirejs) {\n\t  on_load();\n\t}\n\tcontinue;\n      }\n      var element = document.createElement('script');\n      element.onerror = on_error;\n      element.async = false;\n      element.type = \"module\";\n      console.debug(\"Bokeh: injecting script tag for BokehJS library: \", url);\n      element.textContent = `\n      import ${name} from \"${url}\"\n      window.${name} = ${name}\n      window._bokeh_on_load()\n      `\n      document.head.appendChild(element);\n    }\n    if (!js_urls.length && !js_modules.length) {\n      on_load()\n    }\n  };\n\n  function inject_raw_css(css) {\n    const element = document.createElement(\"style\");\n    element.appendChild(document.createTextNode(css));\n    document.body.appendChild(element);\n  }\n\n  var js_urls = [];\n  var js_modules = [];\n  var js_exports = {};\n  var css_urls = [];\n  var inline_js = [    function(Bokeh) {\n      Bokeh.set_log_level(\"info\");\n    },\nfunction(Bokeh) {} // ensure no trailing comma for IE\n  ];\n\n  function run_inline_js() {\n    if ((root.Bokeh !== undefined) || (force === true)) {\n      for (var i = 0; i < inline_js.length; i++) {\n\ttry {\n          inline_js[i].call(root, root.Bokeh);\n\t} catch(e) {\n\t  if (!reloading) {\n\t    throw e;\n\t  }\n\t}\n      }\n      // Cache old bokeh versions\n      if (Bokeh != undefined && !reloading) {\n\tvar NewBokeh = root.Bokeh;\n\tif (Bokeh.versions === undefined) {\n\t  Bokeh.versions = new Map();\n\t}\n\tif (NewBokeh.version !== Bokeh.version) {\n\t  Bokeh.versions.set(NewBokeh.version, NewBokeh)\n\t}\n\troot.Bokeh = Bokeh;\n      }} else if (Date.now() < root._bokeh_timeout) {\n      setTimeout(run_inline_js, 100);\n    } else if (!root._bokeh_failed_load) {\n      console.log(\"Bokeh: BokehJS failed to load within specified timeout.\");\n      root._bokeh_failed_load = true;\n    }\n    root._bokeh_is_initializing = false\n  }\n\n  function load_or_wait() {\n    // Implement a backoff loop that tries to ensure we do not load multiple\n    // versions of Bokeh and its dependencies at the same time.\n    // In recent versions we use the root._bokeh_is_initializing flag\n    // to determine whether there is an ongoing attempt to initialize\n    // bokeh, however for backward compatibility we also try to ensure\n    // that we do not start loading a newer (Panel>=1.0 and Bokeh>3) version\n    // before older versions are fully initialized.\n    if (root._bokeh_is_initializing && Date.now() > root._bokeh_timeout) {\n      root._bokeh_is_initializing = false;\n      root._bokeh_onload_callbacks = undefined;\n      console.log(\"Bokeh: BokehJS was loaded multiple times but one version failed to initialize.\");\n      load_or_wait();\n    } else if (root._bokeh_is_initializing || (typeof root._bokeh_is_initializing === \"undefined\" && root._bokeh_onload_callbacks !== undefined)) {\n      setTimeout(load_or_wait, 100);\n    } else {\n      root._bokeh_is_initializing = true\n      root._bokeh_onload_callbacks = []\n      var bokeh_loaded = Bokeh != null && (Bokeh.version === py_version || (Bokeh.versions !== undefined && Bokeh.versions.has(py_version)));\n      if (!reloading && !bokeh_loaded) {\n\troot.Bokeh = undefined;\n      }\n      load_libs(css_urls, js_urls, js_modules, js_exports, function() {\n\tconsole.debug(\"Bokeh: BokehJS plotting callback run at\", now());\n\trun_inline_js();\n      });\n    }\n  }\n  // Give older versions of the autoload script a head-start to ensure\n  // they initialize before we start loading newer version.\n  setTimeout(load_or_wait, 100)\n}(window));"
     },
     "metadata": {},
     "output_type": "display_data"
    },
    {
     "data": {
      "application/javascript": [
       "\n",
       "if ((window.PyViz === undefined) || (window.PyViz instanceof HTMLElement)) {\n",
       "  window.PyViz = {comms: {}, comm_status:{}, kernels:{}, receivers: {}, plot_index: []}\n",
       "}\n",
       "\n",
       "\n",
       "    function JupyterCommManager() {\n",
       "    }\n",
       "\n",
       "    JupyterCommManager.prototype.register_target = function(plot_id, comm_id, msg_handler) {\n",
       "      if (window.comm_manager || ((window.Jupyter !== undefined) && (Jupyter.notebook.kernel != null))) {\n",
       "        var comm_manager = window.comm_manager || Jupyter.notebook.kernel.comm_manager;\n",
       "        comm_manager.register_target(comm_id, function(comm) {\n",
       "          comm.on_msg(msg_handler);\n",
       "        });\n",
       "      } else if ((plot_id in window.PyViz.kernels) && (window.PyViz.kernels[plot_id])) {\n",
       "        window.PyViz.kernels[plot_id].registerCommTarget(comm_id, function(comm) {\n",
       "          comm.onMsg = msg_handler;\n",
       "        });\n",
       "      } else if (typeof google != 'undefined' && google.colab.kernel != null) {\n",
       "        google.colab.kernel.comms.registerTarget(comm_id, (comm) => {\n",
       "          var messages = comm.messages[Symbol.asyncIterator]();\n",
       "          function processIteratorResult(result) {\n",
       "            var message = result.value;\n",
       "            console.log(message)\n",
       "            var content = {data: message.data, comm_id};\n",
       "            var buffers = []\n",
       "            for (var buffer of message.buffers || []) {\n",
       "              buffers.push(new DataView(buffer))\n",
       "            }\n",
       "            var metadata = message.metadata || {};\n",
       "            var msg = {content, buffers, metadata}\n",
       "            msg_handler(msg);\n",
       "            return messages.next().then(processIteratorResult);\n",
       "          }\n",
       "          return messages.next().then(processIteratorResult);\n",
       "        })\n",
       "      }\n",
       "    }\n",
       "\n",
       "    JupyterCommManager.prototype.get_client_comm = function(plot_id, comm_id, msg_handler) {\n",
       "      if (comm_id in window.PyViz.comms) {\n",
       "        return window.PyViz.comms[comm_id];\n",
       "      } else if (window.comm_manager || ((window.Jupyter !== undefined) && (Jupyter.notebook.kernel != null))) {\n",
       "        var comm_manager = window.comm_manager || Jupyter.notebook.kernel.comm_manager;\n",
       "        var comm = comm_manager.new_comm(comm_id, {}, {}, {}, comm_id);\n",
       "        if (msg_handler) {\n",
       "          comm.on_msg(msg_handler);\n",
       "        }\n",
       "      } else if ((plot_id in window.PyViz.kernels) && (window.PyViz.kernels[plot_id])) {\n",
       "        var comm = window.PyViz.kernels[plot_id].connectToComm(comm_id);\n",
       "        comm.open();\n",
       "        if (msg_handler) {\n",
       "          comm.onMsg = msg_handler;\n",
       "        }\n",
       "      } else if (typeof google != 'undefined' && google.colab.kernel != null) {\n",
       "        var comm_promise = google.colab.kernel.comms.open(comm_id)\n",
       "        comm_promise.then((comm) => {\n",
       "          window.PyViz.comms[comm_id] = comm;\n",
       "          if (msg_handler) {\n",
       "            var messages = comm.messages[Symbol.asyncIterator]();\n",
       "            function processIteratorResult(result) {\n",
       "              var message = result.value;\n",
       "              var content = {data: message.data};\n",
       "              var metadata = message.metadata || {comm_id};\n",
       "              var msg = {content, metadata}\n",
       "              msg_handler(msg);\n",
       "              return messages.next().then(processIteratorResult);\n",
       "            }\n",
       "            return messages.next().then(processIteratorResult);\n",
       "          }\n",
       "        }) \n",
       "        var sendClosure = (data, metadata, buffers, disposeOnDone) => {\n",
       "          return comm_promise.then((comm) => {\n",
       "            comm.send(data, metadata, buffers, disposeOnDone);\n",
       "          });\n",
       "        };\n",
       "        var comm = {\n",
       "          send: sendClosure\n",
       "        };\n",
       "      }\n",
       "      window.PyViz.comms[comm_id] = comm;\n",
       "      return comm;\n",
       "    }\n",
       "    window.PyViz.comm_manager = new JupyterCommManager();\n",
       "    \n",
       "\n",
       "\n",
       "var JS_MIME_TYPE = 'application/javascript';\n",
       "var HTML_MIME_TYPE = 'text/html';\n",
       "var EXEC_MIME_TYPE = 'application/vnd.holoviews_exec.v0+json';\n",
       "var CLASS_NAME = 'output';\n",
       "\n",
       "/**\n",
       " * Render data to the DOM node\n",
       " */\n",
       "function render(props, node) {\n",
       "  var div = document.createElement(\"div\");\n",
       "  var script = document.createElement(\"script\");\n",
       "  node.appendChild(div);\n",
       "  node.appendChild(script);\n",
       "}\n",
       "\n",
       "/**\n",
       " * Handle when a new output is added\n",
       " */\n",
       "function handle_add_output(event, handle) {\n",
       "  var output_area = handle.output_area;\n",
       "  var output = handle.output;\n",
       "  if ((output.data == undefined) || (!output.data.hasOwnProperty(EXEC_MIME_TYPE))) {\n",
       "    return\n",
       "  }\n",
       "  var id = output.metadata[EXEC_MIME_TYPE][\"id\"];\n",
       "  var toinsert = output_area.element.find(\".\" + CLASS_NAME.split(' ')[0]);\n",
       "  if (id !== undefined) {\n",
       "    var nchildren = toinsert.length;\n",
       "    var html_node = toinsert[nchildren-1].children[0];\n",
       "    html_node.innerHTML = output.data[HTML_MIME_TYPE];\n",
       "    var scripts = [];\n",
       "    var nodelist = html_node.querySelectorAll(\"script\");\n",
       "    for (var i in nodelist) {\n",
       "      if (nodelist.hasOwnProperty(i)) {\n",
       "        scripts.push(nodelist[i])\n",
       "      }\n",
       "    }\n",
       "\n",
       "    scripts.forEach( function (oldScript) {\n",
       "      var newScript = document.createElement(\"script\");\n",
       "      var attrs = [];\n",
       "      var nodemap = oldScript.attributes;\n",
       "      for (var j in nodemap) {\n",
       "        if (nodemap.hasOwnProperty(j)) {\n",
       "          attrs.push(nodemap[j])\n",
       "        }\n",
       "      }\n",
       "      attrs.forEach(function(attr) { newScript.setAttribute(attr.name, attr.value) });\n",
       "      newScript.appendChild(document.createTextNode(oldScript.innerHTML));\n",
       "      oldScript.parentNode.replaceChild(newScript, oldScript);\n",
       "    });\n",
       "    if (JS_MIME_TYPE in output.data) {\n",
       "      toinsert[nchildren-1].children[1].textContent = output.data[JS_MIME_TYPE];\n",
       "    }\n",
       "    output_area._hv_plot_id = id;\n",
       "    if ((window.Bokeh !== undefined) && (id in Bokeh.index)) {\n",
       "      window.PyViz.plot_index[id] = Bokeh.index[id];\n",
       "    } else {\n",
       "      window.PyViz.plot_index[id] = null;\n",
       "    }\n",
       "  } else if (output.metadata[EXEC_MIME_TYPE][\"server_id\"] !== undefined) {\n",
       "    var bk_div = document.createElement(\"div\");\n",
       "    bk_div.innerHTML = output.data[HTML_MIME_TYPE];\n",
       "    var script_attrs = bk_div.children[0].attributes;\n",
       "    for (var i = 0; i < script_attrs.length; i++) {\n",
       "      toinsert[toinsert.length - 1].childNodes[1].setAttribute(script_attrs[i].name, script_attrs[i].value);\n",
       "    }\n",
       "    // store reference to server id on output_area\n",
       "    output_area._bokeh_server_id = output.metadata[EXEC_MIME_TYPE][\"server_id\"];\n",
       "  }\n",
       "}\n",
       "\n",
       "/**\n",
       " * Handle when an output is cleared or removed\n",
       " */\n",
       "function handle_clear_output(event, handle) {\n",
       "  var id = handle.cell.output_area._hv_plot_id;\n",
       "  var server_id = handle.cell.output_area._bokeh_server_id;\n",
       "  if (((id === undefined) || !(id in PyViz.plot_index)) && (server_id !== undefined)) { return; }\n",
       "  var comm = window.PyViz.comm_manager.get_client_comm(\"hv-extension-comm\", \"hv-extension-comm\", function () {});\n",
       "  if (server_id !== null) {\n",
       "    comm.send({event_type: 'server_delete', 'id': server_id});\n",
       "    return;\n",
       "  } else if (comm !== null) {\n",
       "    comm.send({event_type: 'delete', 'id': id});\n",
       "  }\n",
       "  delete PyViz.plot_index[id];\n",
       "  if ((window.Bokeh !== undefined) & (id in window.Bokeh.index)) {\n",
       "    var doc = window.Bokeh.index[id].model.document\n",
       "    doc.clear();\n",
       "    const i = window.Bokeh.documents.indexOf(doc);\n",
       "    if (i > -1) {\n",
       "      window.Bokeh.documents.splice(i, 1);\n",
       "    }\n",
       "  }\n",
       "}\n",
       "\n",
       "/**\n",
       " * Handle kernel restart event\n",
       " */\n",
       "function handle_kernel_cleanup(event, handle) {\n",
       "  delete PyViz.comms[\"hv-extension-comm\"];\n",
       "  window.PyViz.plot_index = {}\n",
       "}\n",
       "\n",
       "/**\n",
       " * Handle update_display_data messages\n",
       " */\n",
       "function handle_update_output(event, handle) {\n",
       "  handle_clear_output(event, {cell: {output_area: handle.output_area}})\n",
       "  handle_add_output(event, handle)\n",
       "}\n",
       "\n",
       "function register_renderer(events, OutputArea) {\n",
       "  function append_mime(data, metadata, element) {\n",
       "    // create a DOM node to render to\n",
       "    var toinsert = this.create_output_subarea(\n",
       "    metadata,\n",
       "    CLASS_NAME,\n",
       "    EXEC_MIME_TYPE\n",
       "    );\n",
       "    this.keyboard_manager.register_events(toinsert);\n",
       "    // Render to node\n",
       "    var props = {data: data, metadata: metadata[EXEC_MIME_TYPE]};\n",
       "    render(props, toinsert[0]);\n",
       "    element.append(toinsert);\n",
       "    return toinsert\n",
       "  }\n",
       "\n",
       "  events.on('output_added.OutputArea', handle_add_output);\n",
       "  events.on('output_updated.OutputArea', handle_update_output);\n",
       "  events.on('clear_output.CodeCell', handle_clear_output);\n",
       "  events.on('delete.Cell', handle_clear_output);\n",
       "  events.on('kernel_ready.Kernel', handle_kernel_cleanup);\n",
       "\n",
       "  OutputArea.prototype.register_mime_type(EXEC_MIME_TYPE, append_mime, {\n",
       "    safe: true,\n",
       "    index: 0\n",
       "  });\n",
       "}\n",
       "\n",
       "if (window.Jupyter !== undefined) {\n",
       "  try {\n",
       "    var events = require('base/js/events');\n",
       "    var OutputArea = require('notebook/js/outputarea').OutputArea;\n",
       "    if (OutputArea.prototype.mime_types().indexOf(EXEC_MIME_TYPE) == -1) {\n",
       "      register_renderer(events, OutputArea);\n",
       "    }\n",
       "  } catch(err) {\n",
       "  }\n",
       "}\n"
      ],
      "application/vnd.holoviews_load.v0+json": "\nif ((window.PyViz === undefined) || (window.PyViz instanceof HTMLElement)) {\n  window.PyViz = {comms: {}, comm_status:{}, kernels:{}, receivers: {}, plot_index: []}\n}\n\n\n    function JupyterCommManager() {\n    }\n\n    JupyterCommManager.prototype.register_target = function(plot_id, comm_id, msg_handler) {\n      if (window.comm_manager || ((window.Jupyter !== undefined) && (Jupyter.notebook.kernel != null))) {\n        var comm_manager = window.comm_manager || Jupyter.notebook.kernel.comm_manager;\n        comm_manager.register_target(comm_id, function(comm) {\n          comm.on_msg(msg_handler);\n        });\n      } else if ((plot_id in window.PyViz.kernels) && (window.PyViz.kernels[plot_id])) {\n        window.PyViz.kernels[plot_id].registerCommTarget(comm_id, function(comm) {\n          comm.onMsg = msg_handler;\n        });\n      } else if (typeof google != 'undefined' && google.colab.kernel != null) {\n        google.colab.kernel.comms.registerTarget(comm_id, (comm) => {\n          var messages = comm.messages[Symbol.asyncIterator]();\n          function processIteratorResult(result) {\n            var message = result.value;\n            console.log(message)\n            var content = {data: message.data, comm_id};\n            var buffers = []\n            for (var buffer of message.buffers || []) {\n              buffers.push(new DataView(buffer))\n            }\n            var metadata = message.metadata || {};\n            var msg = {content, buffers, metadata}\n            msg_handler(msg);\n            return messages.next().then(processIteratorResult);\n          }\n          return messages.next().then(processIteratorResult);\n        })\n      }\n    }\n\n    JupyterCommManager.prototype.get_client_comm = function(plot_id, comm_id, msg_handler) {\n      if (comm_id in window.PyViz.comms) {\n        return window.PyViz.comms[comm_id];\n      } else if (window.comm_manager || ((window.Jupyter !== undefined) && (Jupyter.notebook.kernel != null))) {\n        var comm_manager = window.comm_manager || Jupyter.notebook.kernel.comm_manager;\n        var comm = comm_manager.new_comm(comm_id, {}, {}, {}, comm_id);\n        if (msg_handler) {\n          comm.on_msg(msg_handler);\n        }\n      } else if ((plot_id in window.PyViz.kernels) && (window.PyViz.kernels[plot_id])) {\n        var comm = window.PyViz.kernels[plot_id].connectToComm(comm_id);\n        comm.open();\n        if (msg_handler) {\n          comm.onMsg = msg_handler;\n        }\n      } else if (typeof google != 'undefined' && google.colab.kernel != null) {\n        var comm_promise = google.colab.kernel.comms.open(comm_id)\n        comm_promise.then((comm) => {\n          window.PyViz.comms[comm_id] = comm;\n          if (msg_handler) {\n            var messages = comm.messages[Symbol.asyncIterator]();\n            function processIteratorResult(result) {\n              var message = result.value;\n              var content = {data: message.data};\n              var metadata = message.metadata || {comm_id};\n              var msg = {content, metadata}\n              msg_handler(msg);\n              return messages.next().then(processIteratorResult);\n            }\n            return messages.next().then(processIteratorResult);\n          }\n        }) \n        var sendClosure = (data, metadata, buffers, disposeOnDone) => {\n          return comm_promise.then((comm) => {\n            comm.send(data, metadata, buffers, disposeOnDone);\n          });\n        };\n        var comm = {\n          send: sendClosure\n        };\n      }\n      window.PyViz.comms[comm_id] = comm;\n      return comm;\n    }\n    window.PyViz.comm_manager = new JupyterCommManager();\n    \n\n\nvar JS_MIME_TYPE = 'application/javascript';\nvar HTML_MIME_TYPE = 'text/html';\nvar EXEC_MIME_TYPE = 'application/vnd.holoviews_exec.v0+json';\nvar CLASS_NAME = 'output';\n\n/**\n * Render data to the DOM node\n */\nfunction render(props, node) {\n  var div = document.createElement(\"div\");\n  var script = document.createElement(\"script\");\n  node.appendChild(div);\n  node.appendChild(script);\n}\n\n/**\n * Handle when a new output is added\n */\nfunction handle_add_output(event, handle) {\n  var output_area = handle.output_area;\n  var output = handle.output;\n  if ((output.data == undefined) || (!output.data.hasOwnProperty(EXEC_MIME_TYPE))) {\n    return\n  }\n  var id = output.metadata[EXEC_MIME_TYPE][\"id\"];\n  var toinsert = output_area.element.find(\".\" + CLASS_NAME.split(' ')[0]);\n  if (id !== undefined) {\n    var nchildren = toinsert.length;\n    var html_node = toinsert[nchildren-1].children[0];\n    html_node.innerHTML = output.data[HTML_MIME_TYPE];\n    var scripts = [];\n    var nodelist = html_node.querySelectorAll(\"script\");\n    for (var i in nodelist) {\n      if (nodelist.hasOwnProperty(i)) {\n        scripts.push(nodelist[i])\n      }\n    }\n\n    scripts.forEach( function (oldScript) {\n      var newScript = document.createElement(\"script\");\n      var attrs = [];\n      var nodemap = oldScript.attributes;\n      for (var j in nodemap) {\n        if (nodemap.hasOwnProperty(j)) {\n          attrs.push(nodemap[j])\n        }\n      }\n      attrs.forEach(function(attr) { newScript.setAttribute(attr.name, attr.value) });\n      newScript.appendChild(document.createTextNode(oldScript.innerHTML));\n      oldScript.parentNode.replaceChild(newScript, oldScript);\n    });\n    if (JS_MIME_TYPE in output.data) {\n      toinsert[nchildren-1].children[1].textContent = output.data[JS_MIME_TYPE];\n    }\n    output_area._hv_plot_id = id;\n    if ((window.Bokeh !== undefined) && (id in Bokeh.index)) {\n      window.PyViz.plot_index[id] = Bokeh.index[id];\n    } else {\n      window.PyViz.plot_index[id] = null;\n    }\n  } else if (output.metadata[EXEC_MIME_TYPE][\"server_id\"] !== undefined) {\n    var bk_div = document.createElement(\"div\");\n    bk_div.innerHTML = output.data[HTML_MIME_TYPE];\n    var script_attrs = bk_div.children[0].attributes;\n    for (var i = 0; i < script_attrs.length; i++) {\n      toinsert[toinsert.length - 1].childNodes[1].setAttribute(script_attrs[i].name, script_attrs[i].value);\n    }\n    // store reference to server id on output_area\n    output_area._bokeh_server_id = output.metadata[EXEC_MIME_TYPE][\"server_id\"];\n  }\n}\n\n/**\n * Handle when an output is cleared or removed\n */\nfunction handle_clear_output(event, handle) {\n  var id = handle.cell.output_area._hv_plot_id;\n  var server_id = handle.cell.output_area._bokeh_server_id;\n  if (((id === undefined) || !(id in PyViz.plot_index)) && (server_id !== undefined)) { return; }\n  var comm = window.PyViz.comm_manager.get_client_comm(\"hv-extension-comm\", \"hv-extension-comm\", function () {});\n  if (server_id !== null) {\n    comm.send({event_type: 'server_delete', 'id': server_id});\n    return;\n  } else if (comm !== null) {\n    comm.send({event_type: 'delete', 'id': id});\n  }\n  delete PyViz.plot_index[id];\n  if ((window.Bokeh !== undefined) & (id in window.Bokeh.index)) {\n    var doc = window.Bokeh.index[id].model.document\n    doc.clear();\n    const i = window.Bokeh.documents.indexOf(doc);\n    if (i > -1) {\n      window.Bokeh.documents.splice(i, 1);\n    }\n  }\n}\n\n/**\n * Handle kernel restart event\n */\nfunction handle_kernel_cleanup(event, handle) {\n  delete PyViz.comms[\"hv-extension-comm\"];\n  window.PyViz.plot_index = {}\n}\n\n/**\n * Handle update_display_data messages\n */\nfunction handle_update_output(event, handle) {\n  handle_clear_output(event, {cell: {output_area: handle.output_area}})\n  handle_add_output(event, handle)\n}\n\nfunction register_renderer(events, OutputArea) {\n  function append_mime(data, metadata, element) {\n    // create a DOM node to render to\n    var toinsert = this.create_output_subarea(\n    metadata,\n    CLASS_NAME,\n    EXEC_MIME_TYPE\n    );\n    this.keyboard_manager.register_events(toinsert);\n    // Render to node\n    var props = {data: data, metadata: metadata[EXEC_MIME_TYPE]};\n    render(props, toinsert[0]);\n    element.append(toinsert);\n    return toinsert\n  }\n\n  events.on('output_added.OutputArea', handle_add_output);\n  events.on('output_updated.OutputArea', handle_update_output);\n  events.on('clear_output.CodeCell', handle_clear_output);\n  events.on('delete.Cell', handle_clear_output);\n  events.on('kernel_ready.Kernel', handle_kernel_cleanup);\n\n  OutputArea.prototype.register_mime_type(EXEC_MIME_TYPE, append_mime, {\n    safe: true,\n    index: 0\n  });\n}\n\nif (window.Jupyter !== undefined) {\n  try {\n    var events = require('base/js/events');\n    var OutputArea = require('notebook/js/outputarea').OutputArea;\n    if (OutputArea.prototype.mime_types().indexOf(EXEC_MIME_TYPE) == -1) {\n      register_renderer(events, OutputArea);\n    }\n  } catch(err) {\n  }\n}\n"
     },
     "metadata": {},
     "output_type": "display_data"
    },
    {
     "data": {
      "text/html": [
       "<style>*[data-root-id],\n",
       "*[data-root-id] > * {\n",
       "  box-sizing: border-box;\n",
       "  font-family: var(--jp-ui-font-family);\n",
       "  font-size: var(--jp-ui-font-size1);\n",
       "  color: var(--vscode-editor-foreground, var(--jp-ui-font-color1));\n",
       "}\n",
       "\n",
       "/* Override VSCode background color */\n",
       ".cell-output-ipywidget-background:has(\n",
       "    > .cell-output-ipywidget-background > .lm-Widget > *[data-root-id]\n",
       "  ),\n",
       ".cell-output-ipywidget-background:has(> .lm-Widget > *[data-root-id]) {\n",
       "  background-color: transparent !important;\n",
       "}\n",
       "</style>"
      ]
     },
     "metadata": {},
     "output_type": "display_data"
    },
    {
     "name": "stdout",
     "output_type": "stream",
     "text": [
      "True\n",
      "--------Version info---------\n",
      "Polars:              1.9.0\n",
      "Index type:          UInt32\n",
      "Platform:            macOS-12.7.6-x86_64-i386-64bit\n",
      "Python:              3.11.5 (main, Jan 16 2024, 17:25:53) [Clang 14.0.0 (clang-1400.0.29.202)]\n",
      "\n",
      "----Optional dependencies----\n",
      "adbc_driver_manager  1.1.0\n",
      "altair               5.4.0\n",
      "cloudpickle          3.0.0\n",
      "connectorx           0.3.3\n",
      "deltalake            0.19.1\n",
      "fastexcel            0.11.6\n",
      "fsspec               2023.12.2\n",
      "gevent               24.2.1\n",
      "great_tables         0.10.0\n",
      "matplotlib           3.9.2\n",
      "nest_asyncio         1.6.0\n",
      "numpy                2.0.2\n",
      "openpyxl             3.1.5\n",
      "pandas               2.2.2\n",
      "pyarrow              17.0.0\n",
      "pydantic             2.8.2\n",
      "pyiceberg            0.6.1\n",
      "sqlalchemy           2.0.32\n",
      "torch                <not installed>\n",
      "xlsx2csv             0.8.3\n",
      "xlsxwriter           3.2.0\n"
     ]
    }
   ],
   "source": [
    "import polars as pl\n",
    "import pandas as pd\n",
    "import matplotlib.pyplot as plt\n",
    "import matplotlib_inline.backend_inline\n",
    "import chardet\n",
    "import pprint as pp\n",
    "import hvplot.polars\n",
    "hvplot.extension('matplotlib')\n",
    "\n",
    "matplotlib_inline.backend_inline.set_matplotlib_formats(\"retina\")\n",
    "pd.options.mode.copy_on_write = True\n",
    "print(pd.options.mode.copy_on_write)\n",
    "pl.Config.set_verbose(True)\n",
    "pl.show_versions()\n",
    "\n",
    "def HR():\n",
    "    print(\"-\"*40)\n",
    "\n",
    "@pl.Config(tbl_cols=-1, ascii_tables=True)\n",
    "def tight_layout(df: pl.DataFrame, n=5) -> None:\n",
    "    with pl.Config(tbl_cols=-1, fmt_str_lengths=n):\n",
    "        print(df)\n",
    "\n",
    "def detect_encoding(filename: str) -> str:\n",
    "    \"\"\"Return the most probable character encoding for a file.\"\"\"\n",
    "    with open(filename, \"rb\") as f:\n",
    "        raw_data = f.read()\n",
    "        print(raw_data)\n",
    "        result = chardet.detect(raw_data)\n",
    "        return result[\"encoding\"]"
   ]
  },
  {
   "cell_type": "markdown",
   "id": "bb7cb9a1-667b-418b-8eb3-e56b6a5b1b54",
   "metadata": {},
   "source": [
    "---\n",
    "# 4.1 Introduction\n",
    "[back to Top](#Top)\n",
    "\n",
    "One of the most common tasks in data analysis is aggregation and grouping operations on datasets.\n",
    "\n",
    "This is especially true for large datasets, where summarizing and aggregating data is often necessary to gain insights and make sense of information."
   ]
  },
  {
   "cell_type": "markdown",
   "id": "e001580e-32c5-4542-ae3d-3285c0523937",
   "metadata": {},
   "source": [
    "---\n",
    "# 4.2 Loading the Data\n",
    "[back to Top](#Top)\n",
    "\n",
    "Use the Fuel Economy dataset"
   ]
  },
  {
   "cell_type": "code",
   "execution_count": 2,
   "id": "6acffdc8-da7f-4b7f-af67-36b838c02c12",
   "metadata": {},
   "outputs": [
    {
     "name": "stderr",
     "output_type": "stream",
     "text": [
      "avg line length: 434.78027\n",
      "std. dev. line length: 23.885818\n",
      "initial row estimate: 47850\n",
      "no. of chunks: 4 processed by: 4 threads.\n"
     ]
    },
    {
     "name": "stdout",
     "output_type": "stream",
     "text": [
      "(48202, 84)\n",
      "29.34MB\n",
      "<class 'polars.dataframe.frame.DataFrame'>\n",
      "(48202, 15)\n",
      "2.94MB\n"
     ]
    }
   ],
   "source": [
    "path = 'data/vehicles.csv'\n",
    "raw = pl.read_csv(path, null_values=['NA'])\n",
    "print(raw.shape)\n",
    "print(f\"{raw.estimated_size(unit='mb'):.2f}MB\")\n",
    "\n",
    "@pl.StringCache()\n",
    "def tweak_auto(df):\n",
    "    cols = ['year', 'make', 'model', 'displ', 'cylinders', 'trany', \n",
    "           'drive', 'VClass', 'fuelType', 'barrels08', 'city08', \n",
    "           'highway08', 'createdOn']\n",
    "    return (\n",
    "        df\n",
    "        .select(pl.col(cols))\n",
    "        .with_columns( \n",
    "            pl.col('year').cast(pl.Int16),\n",
    "            pl.col(['cylinders', 'highway08', 'city08']).cast(pl.UInt8),\n",
    "            pl.col(['displ', 'barrels08']).cast(pl.Float32),\n",
    "            pl.col(['make', 'model', 'VClass', 'drive', 'fuelType']).cast(pl.Categorical),\n",
    "            pl.col('createdOn').str.to_datetime('%a %b %d %H:%M:%S %Z %Y'),\n",
    "            pl.col('trany')                    \n",
    "               .str.contains('Automatic')\n",
    "               .fill_null('Automatic').alias('is_automatic'),\n",
    "            pl.col('trany')\n",
    "                .str.extract(r'(\\d+)')\n",
    "                .cast(pl.UInt8)\n",
    "                .fill_null(6).alias('num_gears'),\n",
    "        )\n",
    "    )\n",
    "\n",
    "autos = tweak_auto(raw)\n",
    "print(type(autos))\n",
    "print(autos.shape)\n",
    "print(f\"{autos.estimated_size(unit='mb'):.2f}MB\")"
   ]
  },
  {
   "cell_type": "code",
   "execution_count": 3,
   "id": "0ff94516-3b18-47f7-8145-787465ab7f24",
   "metadata": {},
   "outputs": [
    {
     "data": {
      "text/plain": [
       "{'year': {'SORTED_ASC': False, 'SORTED_DESC': False},\n",
       " 'make': {'SORTED_ASC': False, 'SORTED_DESC': False},\n",
       " 'model': {'SORTED_ASC': False, 'SORTED_DESC': False},\n",
       " 'displ': {'SORTED_ASC': False, 'SORTED_DESC': False},\n",
       " 'cylinders': {'SORTED_ASC': False, 'SORTED_DESC': False},\n",
       " 'trany': {'SORTED_ASC': False, 'SORTED_DESC': False},\n",
       " 'drive': {'SORTED_ASC': False, 'SORTED_DESC': False},\n",
       " 'VClass': {'SORTED_ASC': False, 'SORTED_DESC': False},\n",
       " 'fuelType': {'SORTED_ASC': False, 'SORTED_DESC': False},\n",
       " 'barrels08': {'SORTED_ASC': False, 'SORTED_DESC': False},\n",
       " 'city08': {'SORTED_ASC': False, 'SORTED_DESC': False},\n",
       " 'highway08': {'SORTED_ASC': False, 'SORTED_DESC': False},\n",
       " 'createdOn': {'SORTED_ASC': False, 'SORTED_DESC': False},\n",
       " 'is_automatic': {'SORTED_ASC': False, 'SORTED_DESC': False},\n",
       " 'num_gears': {'SORTED_ASC': False, 'SORTED_DESC': False}}"
      ]
     },
     "execution_count": 3,
     "metadata": {},
     "output_type": "execute_result"
    }
   ],
   "source": [
    "autos.flags"
   ]
  },
  {
   "cell_type": "code",
   "execution_count": 4,
   "id": "4cdf9614-81c2-420c-826c-09374294c5ca",
   "metadata": {},
   "outputs": [
    {
     "data": {
      "text/plain": [
       "{'year': False,\n",
       " 'make': False,\n",
       " 'model': False,\n",
       " 'displ': False,\n",
       " 'cylinders': False,\n",
       " 'trany': False,\n",
       " 'drive': False,\n",
       " 'VClass': False,\n",
       " 'fuelType': False,\n",
       " 'barrels08': False,\n",
       " 'city08': False,\n",
       " 'highway08': False,\n",
       " 'createdOn': False,\n",
       " 'is_automatic': False,\n",
       " 'num_gears': False}"
      ]
     },
     "execution_count": 4,
     "metadata": {},
     "output_type": "execute_result"
    }
   ],
   "source": [
    "{col:autos[col].is_sorted() for col in autos.columns}"
   ]
  },
  {
   "cell_type": "markdown",
   "id": "23f93330-2446-4435-9952-a3e36eae355a",
   "metadata": {},
   "source": [
    "---\n",
    "# 4.3 Aggregations\n",
    "[back to Top](#Top)\n"
   ]
  },
  {
   "cell_type": "code",
   "execution_count": 5,
   "id": "e4b5f1fa-714a-46dd-80b5-d42b22fb088b",
   "metadata": {},
   "outputs": [
    {
     "name": "stdout",
     "output_type": "stream",
     "text": [
      "['abs', 'add', 'agg_groups', 'alias', 'all', 'and_', 'any', 'append', 'approx_n_unique', 'arccos', 'arccosh', 'arcsin', 'arcsinh', 'arctan', 'arctanh', 'arg_max', 'arg_min', 'arg_sort', 'arg_true', 'arg_unique', 'arr', 'backward_fill', 'bin', 'bitwise_and', 'bitwise_count_ones', 'bitwise_count_zeros', 'bitwise_leading_ones', 'bitwise_leading_zeros', 'bitwise_or', 'bitwise_trailing_ones', 'bitwise_trailing_zeros', 'bitwise_xor', 'bottom_k', 'bottom_k_by', 'cast', 'cat', 'cbrt', 'ceil', 'clip', 'cos', 'cosh', 'cot', 'count', 'cum_count', 'cum_max', 'cum_min', 'cum_prod', 'cum_sum', 'cumulative_eval', 'cut', 'degrees', 'deserialize', 'diff', 'dot', 'drop_nans', 'drop_nulls', 'dt', 'entropy', 'eq', 'eq_missing', 'ewm_mean', 'ewm_mean_by', 'ewm_std', 'ewm_var', 'exclude', 'exp', 'explode', 'extend_constant', 'fill_nan', 'fill_null', 'filter', 'first', 'flatten', 'floor', 'floordiv', 'forward_fill', 'from_json', 'gather', 'gather_every', 'ge', 'get', 'gt', 'has_nulls', 'hash', 'head', 'hist', 'implode', 'inspect', 'interpolate', 'interpolate_by', 'is_between', 'is_duplicated', 'is_finite', 'is_first_distinct', 'is_in', 'is_infinite', 'is_last_distinct', 'is_nan', 'is_not_nan', 'is_not_null', 'is_null', 'is_unique', 'kurtosis', 'last', 'le', 'len', 'limit', 'list', 'log', 'log10', 'log1p', 'lower_bound', 'lt', 'map_batches', 'map_elements', 'max', 'mean', 'median', 'meta', 'min', 'mod', 'mode', 'mul', 'n_unique', 'name', 'nan_max', 'nan_min', 'ne', 'ne_missing', 'neg', 'not_', 'null_count', 'or_', 'over', 'pct_change', 'peak_max', 'peak_min', 'pipe', 'pow', 'product', 'qcut', 'quantile', 'radians', 'rank', 'rechunk', 'register_plugin', 'reinterpret', 'repeat_by', 'replace', 'replace_strict', 'reshape', 'reverse', 'rle', 'rle_id', 'rolling', 'rolling_map', 'rolling_max', 'rolling_max_by', 'rolling_mean', 'rolling_mean_by', 'rolling_median', 'rolling_median_by', 'rolling_min', 'rolling_min_by', 'rolling_quantile', 'rolling_quantile_by', 'rolling_skew', 'rolling_std', 'rolling_std_by', 'rolling_sum', 'rolling_sum_by', 'rolling_var', 'rolling_var_by', 'round', 'round_sig_figs', 'sample', 'search_sorted', 'set_sorted', 'shift', 'shrink_dtype', 'shuffle', 'sign', 'sin', 'sinh', 'skew', 'slice', 'sort', 'sort_by', 'sqrt', 'std', 'str', 'struct', 'sub', 'sum', 'tail', 'tan', 'tanh', 'to_physical', 'top_k', 'top_k_by', 'truediv', 'unique', 'unique_counts', 'upper_bound', 'value_counts', 'var', 'where', 'xor']\n"
     ]
    }
   ],
   "source": [
    "col = pl.col('make')\n",
    "print(sorted([att for att in dir(col) if not att.startswith('_')]))"
   ]
  },
  {
   "cell_type": "markdown",
   "id": "3e5eeb8b-8aa2-40ab-bccf-ac1549642fb8",
   "metadata": {},
   "source": [
    "---\n",
    "Experiment using some aggregation functions on the autos `comb08` column."
   ]
  },
  {
   "cell_type": "code",
   "execution_count": 6,
   "id": "c3471453-c520-4ddc-b885-9c15d6024377",
   "metadata": {},
   "outputs": [
    {
     "data": {
      "text/plain": [
       "['VClass',\n",
       " 'barrels08',\n",
       " 'city08',\n",
       " 'createdOn',\n",
       " 'cylinders',\n",
       " 'displ',\n",
       " 'drive',\n",
       " 'fuelType',\n",
       " 'highway08',\n",
       " 'is_automatic',\n",
       " 'make',\n",
       " 'model',\n",
       " 'num_gears',\n",
       " 'trany',\n",
       " 'year']"
      ]
     },
     "execution_count": 6,
     "metadata": {},
     "output_type": "execute_result"
    }
   ],
   "source": [
    "sorted(autos.columns)"
   ]
  },
  {
   "cell_type": "markdown",
   "id": "aa4625c3-f603-4ee6-a533-7e0432ebe3b4",
   "metadata": {},
   "source": [
    "* Using `.select()` creates a *new* dataframe with new columns.\n",
    "* Using `.with_columns()` appends a new columns to the original dataframe."
   ]
  },
  {
   "cell_type": "code",
   "execution_count": 7,
   "id": "c51dd2d7-77fc-4441-a30b-60b131af3710",
   "metadata": {},
   "outputs": [
    {
     "data": {
      "text/html": [
       "<div><style>\n",
       ".dataframe > thead > tr,\n",
       ".dataframe > tbody > tr {\n",
       "  text-align: right;\n",
       "  white-space: pre-wrap;\n",
       "}\n",
       "</style>\n",
       "<small>shape: (1, 4)</small><table border=\"1\" class=\"dataframe\"><thead><tr><th>mean_city</th><th>std_city</th><th>var_city</th><th>q99_city</th></tr><tr><td>f64</td><td>f64</td><td>f64</td><td>f64</td></tr></thead><tbody><tr><td>19.929235</td><td>12.658018</td><td>160.225423</td><td>95.0</td></tr></tbody></table></div>"
      ],
      "text/plain": [
       "shape: (1, 4)\n",
       "+-----------+-----------+------------+----------+\n",
       "| mean_city | std_city  | var_city   | q99_city |\n",
       "| ---       | ---       | ---        | ---      |\n",
       "| f64       | f64       | f64        | f64      |\n",
       "+===============================================+\n",
       "| 19.929235 | 12.658018 | 160.225423 | 95.0     |\n",
       "+-----------+-----------+------------+----------+"
      ]
     },
     "execution_count": 7,
     "metadata": {},
     "output_type": "execute_result"
    }
   ],
   "source": [
    "city = pl.col('city08')\n",
    "\n",
    "test = (\n",
    "    autos\n",
    "    .select(\n",
    "        mean_city=city.mean(),\n",
    "        std_city=city.std(),\n",
    "        var_city=city.var(),\n",
    "        q99_city=city.quantile(.99)\n",
    "    )\n",
    ")\n",
    "test"
   ]
  },
  {
   "cell_type": "markdown",
   "id": "eb5a3353-8fed-4a10-a01b-2255ee87e58e",
   "metadata": {},
   "source": [
    "If we add a new aggregated column to an existing dataframe, the column will be appended to the right of the existing columns."
   ]
  },
  {
   "cell_type": "code",
   "execution_count": 8,
   "id": "cfdc97e7-913e-4043-a00e-d84e1825d65f",
   "metadata": {},
   "outputs": [
    {
     "data": {
      "text/html": [
       "<div><style>\n",
       ".dataframe > thead > tr,\n",
       ".dataframe > tbody > tr {\n",
       "  text-align: right;\n",
       "  white-space: pre-wrap;\n",
       "}\n",
       "</style>\n",
       "<small>shape: (2, 16)</small><table border=\"1\" class=\"dataframe\"><thead><tr><th>year</th><th>make</th><th>model</th><th>displ</th><th>cylinders</th><th>trany</th><th>drive</th><th>VClass</th><th>fuelType</th><th>barrels08</th><th>city08</th><th>highway08</th><th>createdOn</th><th>is_automatic</th><th>num_gears</th><th>mean_city</th></tr><tr><td>i16</td><td>cat</td><td>cat</td><td>f32</td><td>u8</td><td>str</td><td>cat</td><td>cat</td><td>cat</td><td>f32</td><td>u8</td><td>u8</td><td>datetime[μs]</td><td>str</td><td>u8</td><td>f64</td></tr></thead><tbody><tr><td>1985</td><td>&quot;Alfa Romeo&quot;</td><td>&quot;Spider Veloce 2000&quot;</td><td>2.0</td><td>4</td><td>&quot;Manual 5-spd&quot;</td><td>&quot;Rear-Wheel Drive&quot;</td><td>&quot;Two Seaters&quot;</td><td>&quot;Regular&quot;</td><td>14.167143</td><td>19</td><td>25</td><td>2013-01-01 00:00:00</td><td>&quot;false&quot;</td><td>5</td><td>19.929235</td></tr><tr><td>1985</td><td>&quot;Ferrari&quot;</td><td>&quot;Testarossa&quot;</td><td>4.9</td><td>12</td><td>&quot;Manual 5-spd&quot;</td><td>&quot;Rear-Wheel Drive&quot;</td><td>&quot;Two Seaters&quot;</td><td>&quot;Regular&quot;</td><td>27.046364</td><td>9</td><td>14</td><td>2013-01-01 00:00:00</td><td>&quot;false&quot;</td><td>5</td><td>19.929235</td></tr></tbody></table></div>"
      ],
      "text/plain": [
       "shape: (2, 16)\n",
       "+-----+-----+-----+-----+-----+-----+-----+-----+-----+-----+-----+-----+-----+-----+-----+--------+\n",
       "| yea | mak | mod | dis | cyl | tra | dri | VCl | fue | bar | cit | hig | cre | is_ | num | mean_c |\n",
       "| r   | e   | el  | pl  | ind | ny  | ve  | ass | lTy | rel | y08 | hwa | ate | aut | _ge | ity    |\n",
       "| --- | --- | --- | --- | ers | --- | --- | --- | pe  | s08 | --- | y08 | dOn | oma | ars | ---    |\n",
       "| i16 | cat | cat | f32 | --- | str | cat | cat | --- | --- | u8  | --- | --- | tic | --- | f64    |\n",
       "|     |     |     |     | u8  |     |     |     | cat | f32 |     | u8  | dat | --- | u8  |        |\n",
       "|     |     |     |     |     |     |     |     |     |     |     |     | eti | str |     |        |\n",
       "|     |     |     |     |     |     |     |     |     |     |     |     | me[ |     |     |        |\n",
       "|     |     |     |     |     |     |     |     |     |     |     |     | μs] |     |     |        |\n",
       "+==================================================================================================+\n",
       "| 198 | Alf | Spi | 2.0 | 4   | Man | Rea | Two | Reg | 14. | 19  | 25  | 201 | fal | 5   | 19.929 |\n",
       "| 5   | a   | der |     |     | ual | r-W | Sea | ula | 167 |     |     | 3-0 | se  |     | 235    |\n",
       "|     | Rom | Vel |     |     | 5-s | hee | ter | r   | 143 |     |     | 1-0 |     |     |        |\n",
       "|     | eo  | oce |     |     | pd  | l   | s   |     |     |     |     | 1   |     |     |        |\n",
       "|     |     | 200 |     |     |     | Dri |     |     |     |     |     | 00: |     |     |        |\n",
       "|     |     | 0   |     |     |     | ve  |     |     |     |     |     | 00: |     |     |        |\n",
       "|     |     |     |     |     |     |     |     |     |     |     |     | 00  |     |     |        |\n",
       "| 198 | Fer | Tes | 4.9 | 12  | Man | Rea | Two | Reg | 27. | 9   | 14  | 201 | fal | 5   | 19.929 |\n",
       "| 5   | rar | tar |     |     | ual | r-W | Sea | ula | 046 |     |     | 3-0 | se  |     | 235    |\n",
       "|     | i   | oss |     |     | 5-s | hee | ter | r   | 364 |     |     | 1-0 |     |     |        |\n",
       "|     |     | a   |     |     | pd  | l   | s   |     |     |     |     | 1   |     |     |        |\n",
       "|     |     |     |     |     |     | Dri |     |     |     |     |     | 00: |     |     |        |\n",
       "|     |     |     |     |     |     | ve  |     |     |     |     |     | 00: |     |     |        |\n",
       "|     |     |     |     |     |     |     |     |     |     |     |     | 00  |     |     |        |\n",
       "+-----+-----+-----+-----+-----+-----+-----+-----+-----+-----+-----+-----+-----+-----+-----+--------+"
      ]
     },
     "execution_count": 8,
     "metadata": {},
     "output_type": "execute_result"
    }
   ],
   "source": [
    "(\n",
    "    autos\n",
    "    .with_columns(mean_city=city.mean())\n",
    "    .head(2)\n",
    ")"
   ]
  },
  {
   "cell_type": "code",
   "execution_count": 9,
   "id": "67ef310a-d082-4682-a64e-4ce52c668dae",
   "metadata": {},
   "outputs": [
    {
     "data": {
      "text/html": [
       "<div><style>\n",
       ".dataframe > thead > tr,\n",
       ".dataframe > tbody > tr {\n",
       "  text-align: right;\n",
       "  white-space: pre-wrap;\n",
       "}\n",
       "</style>\n",
       "<small>shape: (1, 1)</small><table border=\"1\" class=\"dataframe\"><thead><tr><th>mean_city</th></tr><tr><td>f64</td></tr></thead><tbody><tr><td>19.929235</td></tr></tbody></table></div>"
      ],
      "text/plain": [
       "shape: (1, 1)\n",
       "+-----------+\n",
       "| mean_city |\n",
       "| ---       |\n",
       "| f64       |\n",
       "+===========+\n",
       "| 19.929235 |\n",
       "+-----------+"
      ]
     },
     "execution_count": 9,
     "metadata": {},
     "output_type": "execute_result"
    }
   ],
   "source": [
    "# contrast to .select()\n",
    "(\n",
    "    autos\n",
    "    .select(mean_city=city.mean())\n",
    "    .head(2)\n",
    ")"
   ]
  },
  {
   "cell_type": "markdown",
   "id": "b8a1cae0-f0c9-4606-8c43-1217987a729d",
   "metadata": {},
   "source": [
    "---\n",
    "# 4.4 Lists\n",
    "[back to Top](#Top)\n",
    "\n",
    "* Polars can have typed lists in a column.\n",
    "* Polars stores the lists as typed arrays.\n",
    "* This allows Polars to **perform operations on the lists in a vectorized manner**.\n",
    "* Polars list operations are methods found on the column `.list` attribute\n",
    "\n",
    "*Example:*\n",
    "* We have columns of student test scores and want to drop the two lowest scores for each student.\n",
    "* There is not easy way to do this with columns.\n",
    "* However, we can combine the test columns into a single column of lists.\n",
    "* Then, we use list operations to sort the list and remove the two lowest values.\n",
    "* Finally we sort the list."
   ]
  },
  {
   "cell_type": "code",
   "execution_count": 10,
   "id": "6de345b1-dd4e-4906-ba7d-e3ef86a8d5f1",
   "metadata": {},
   "outputs": [
    {
     "name": "stdout",
     "output_type": "stream",
     "text": [
      "shape: (3, 5)\n",
      "+-------+-------+-------+-------+-------+\n",
      "| name  | test1 | test2 | test3 | test4 |\n",
      "| ---   | ---   | ---   | ---   | ---   |\n",
      "| str   | i64   | i64   | i64   | i64   |\n",
      "+=======================================+\n",
      "| Tom   | 99    | 92    | 91    | 94    |\n",
      "| Sally | 98    | null  | 93    | 92    |\n",
      "| Jose  | 95    | 99    | 95    | 99    |\n",
      "+-------+-------+-------+-------+-------+\n"
     ]
    }
   ],
   "source": [
    "tests = pl.DataFrame({\n",
    "    'name':['Tom', 'Sally', 'Jose'],\n",
    "    'test1':[99, 98, 95],\n",
    "    'test2':[92, None, 99],\n",
    "    'test3':[91, 93, 95],\n",
    "    'test4':[94, 92, 99]\n",
    "})\n",
    "print(tests)"
   ]
  },
  {
   "cell_type": "markdown",
   "id": "6f9d00b9-9302-49d9-ba8f-7af5f3464408",
   "metadata": {},
   "source": [
    "Next, create a dataframe with a column for each step\n",
    "\n",
    "**Since each of the columns depends on the previous column, we need to put them in their own `.with_column` call, otherwise Polars would try to evaluate the columns in parallel.**\n",
    "\n",
    "* First column: Combine the test scores into a list with `pl.concat_list()` and name the column `scores`.\n",
    "* Next column: Use the `.list` attribute, which has `.sort()`, to sort values in each cell in the column.\n",
    "* Next column: Use `.slice()` to remove the two lowest values.\n",
    "* Final column: Sum up the list to get the total score for each student.\n"
   ]
  },
  {
   "cell_type": "code",
   "execution_count": 11,
   "id": "e9b9a8e6-d865-47cb-a9f8-94f258e1186f",
   "metadata": {},
   "outputs": [],
   "source": [
    "import polars.selectors as cs"
   ]
  },
  {
   "cell_type": "code",
   "execution_count": 12,
   "id": "5149b36a-792e-4b95-b7d3-dbbdfc4d08dc",
   "metadata": {},
   "outputs": [
    {
     "data": {
      "text/html": [
       "<div><style>\n",
       ".dataframe > thead > tr,\n",
       ".dataframe > tbody > tr {\n",
       "  text-align: right;\n",
       "  white-space: pre-wrap;\n",
       "}\n",
       "</style>\n",
       "<small>shape: (3, 1)</small><table border=\"1\" class=\"dataframe\"><thead><tr><th>scores</th></tr><tr><td>list[i64]</td></tr></thead><tbody><tr><td>[99, 92, … 94]</td></tr><tr><td>[98, null, … 92]</td></tr><tr><td>[95, 99, … 99]</td></tr></tbody></table></div>"
      ],
      "text/plain": [
       "shape: (3, 1)\n",
       "+------------------+\n",
       "| scores           |\n",
       "| ---              |\n",
       "| list[i64]        |\n",
       "+==================+\n",
       "| [99, 92, … 94]   |\n",
       "| [98, null, … 92] |\n",
       "| [95, 99, … 99]   |\n",
       "+------------------+"
      ]
     },
     "execution_count": 12,
     "metadata": {},
     "output_type": "execute_result"
    }
   ],
   "source": [
    "# step 1\n",
    "(\n",
    "    tests\n",
    "    .select(scores=pl.concat_list(cs.matches(r'test\\d+')))\n",
    ")"
   ]
  },
  {
   "cell_type": "code",
   "execution_count": 13,
   "id": "bdb7f569-bacf-4b90-8776-cc4e782a0a88",
   "metadata": {},
   "outputs": [
    {
     "data": {
      "text/html": [
       "<div><style>\n",
       ".dataframe > thead > tr,\n",
       ".dataframe > tbody > tr {\n",
       "  text-align: right;\n",
       "  white-space: pre-wrap;\n",
       "}\n",
       "</style>\n",
       "<small>shape: (3, 2)</small><table border=\"1\" class=\"dataframe\"><thead><tr><th>scores</th><th>sorted_scores</th></tr><tr><td>list[i64]</td><td>list[i64]</td></tr></thead><tbody><tr><td>[99, 92, … 94]</td><td>[91, 92, … 99]</td></tr><tr><td>[98, null, … 92]</td><td>[null, 92, … 98]</td></tr><tr><td>[95, 99, … 99]</td><td>[95, 95, … 99]</td></tr></tbody></table></div>"
      ],
      "text/plain": [
       "shape: (3, 2)\n",
       "+------------------+------------------+\n",
       "| scores           | sorted_scores    |\n",
       "| ---              | ---              |\n",
       "| list[i64]        | list[i64]        |\n",
       "+=====================================+\n",
       "| [99, 92, … 94]   | [91, 92, … 99]   |\n",
       "| [98, null, … 92] | [null, 92, … 98] |\n",
       "| [95, 99, … 99]   | [95, 95, … 99]   |\n",
       "+------------------+------------------+"
      ]
     },
     "execution_count": 13,
     "metadata": {},
     "output_type": "execute_result"
    }
   ],
   "source": [
    "# step 2\n",
    "(\n",
    "    tests\n",
    "    .select(scores=pl.concat_list(cs.matches(r'test\\d+')))\n",
    "    .with_columns(sorted_scores=pl.col('scores').list.sort()) # 1\n",
    ")"
   ]
  },
  {
   "cell_type": "code",
   "execution_count": 14,
   "id": "9f213eb8-4695-4363-bdf9-f0e0aed7ff4c",
   "metadata": {},
   "outputs": [
    {
     "data": {
      "text/html": [
       "<div><style>\n",
       ".dataframe > thead > tr,\n",
       ".dataframe > tbody > tr {\n",
       "  text-align: right;\n",
       "  white-space: pre-wrap;\n",
       "}\n",
       "</style>\n",
       "<small>shape: (3, 3)</small><table border=\"1\" class=\"dataframe\"><thead><tr><th>scores</th><th>sorted_scores</th><th>slice_scores</th></tr><tr><td>list[i64]</td><td>list[i64]</td><td>list[i64]</td></tr></thead><tbody><tr><td>[99, 92, … 94]</td><td>[91, 92, … 99]</td><td>[94, 99]</td></tr><tr><td>[98, null, … 92]</td><td>[null, 92, … 98]</td><td>[93, 98]</td></tr><tr><td>[95, 99, … 99]</td><td>[95, 95, … 99]</td><td>[99, 99]</td></tr></tbody></table></div>"
      ],
      "text/plain": [
       "shape: (3, 3)\n",
       "+------------------+------------------+--------------+\n",
       "| scores           | sorted_scores    | slice_scores |\n",
       "| ---              | ---              | ---          |\n",
       "| list[i64]        | list[i64]        | list[i64]    |\n",
       "+====================================================+\n",
       "| [99, 92, … 94]   | [91, 92, … 99]   | [94, 99]     |\n",
       "| [98, null, … 92] | [null, 92, … 98] | [93, 98]     |\n",
       "| [95, 99, … 99]   | [95, 95, … 99]   | [99, 99]     |\n",
       "+------------------+------------------+--------------+"
      ]
     },
     "execution_count": 14,
     "metadata": {},
     "output_type": "execute_result"
    }
   ],
   "source": [
    "# step 3\n",
    "(\n",
    "    tests\n",
    "    .select(scores=pl.concat_list(cs.matches(r'test\\d+')))\n",
    "    .with_columns(sorted_scores=pl.col('scores').list.sort()) # 1\n",
    "    .with_columns(slice_scores=pl.col('sorted_scores').list.slice(2,4)) #2\n",
    ")"
   ]
  },
  {
   "cell_type": "code",
   "execution_count": 15,
   "id": "7425433e-5784-41c6-939b-b832d4058766",
   "metadata": {},
   "outputs": [
    {
     "data": {
      "text/html": [
       "<div><style>\n",
       ".dataframe > thead > tr,\n",
       ".dataframe > tbody > tr {\n",
       "  text-align: right;\n",
       "  white-space: pre-wrap;\n",
       "}\n",
       "</style>\n",
       "<small>shape: (3, 4)</small><table border=\"1\" class=\"dataframe\"><thead><tr><th>scores</th><th>sorted_scores</th><th>slice_scores</th><th>sum_scores</th></tr><tr><td>list[i64]</td><td>list[i64]</td><td>list[i64]</td><td>i64</td></tr></thead><tbody><tr><td>[99, 92, … 94]</td><td>[91, 92, … 99]</td><td>[94, 99]</td><td>193</td></tr><tr><td>[98, null, … 92]</td><td>[null, 92, … 98]</td><td>[93, 98]</td><td>191</td></tr><tr><td>[95, 99, … 99]</td><td>[95, 95, … 99]</td><td>[99, 99]</td><td>198</td></tr></tbody></table></div>"
      ],
      "text/plain": [
       "shape: (3, 4)\n",
       "+------------------+------------------+--------------+------------+\n",
       "| scores           | sorted_scores    | slice_scores | sum_scores |\n",
       "| ---              | ---              | ---          | ---        |\n",
       "| list[i64]        | list[i64]        | list[i64]    | i64        |\n",
       "+=================================================================+\n",
       "| [99, 92, … 94]   | [91, 92, … 99]   | [94, 99]     | 193        |\n",
       "| [98, null, … 92] | [null, 92, … 98] | [93, 98]     | 191        |\n",
       "| [95, 99, … 99]   | [95, 95, … 99]   | [99, 99]     | 198        |\n",
       "+------------------+------------------+--------------+------------+"
      ]
     },
     "execution_count": 15,
     "metadata": {},
     "output_type": "execute_result"
    }
   ],
   "source": [
    "# step 4\n",
    "(\n",
    "    tests\n",
    "    .select(scores=pl.concat_list(cs.matches(r'test\\d+')))\n",
    "    .with_columns(sorted_scores=pl.col('scores').list.sort()) # 1\n",
    "    .with_columns(slice_scores=pl.col('sorted_scores').list.slice(2,4)) #2\n",
    "    .with_columns(sum_scores=pl.col('slice_scores').list.sum())\n",
    ")"
   ]
  },
  {
   "cell_type": "markdown",
   "id": "541c7bf1-b722-4fda-a3de-e89296260e2c",
   "metadata": {},
   "source": [
    "---\n",
    "## 4.4.1 Using `.with_columns_seq`\n",
    "[back to Top](#Top)\n",
    "\n",
    "In Polars, `with_columns_seq` and `with_columns` are both methods used to add columns to a DataFrame or LazyFrame, but they have some key differences:\n",
    "\n",
    "Execution Order\n",
    "\n",
    "**with_columns:**\n",
    "- Executes expressions in parallel\n",
    "- Each expression is unaware of other expressions in the same context\n",
    "\n",
    "**with_columns_seq:**\n",
    "- Executes expressions sequentially\n",
    "- Designed for cases where the work per expression is cheap\n",
    "\n",
    "Behavior with New Columns\n",
    "\n",
    "**with_columns:**\n",
    "- Cannot reference newly created columns within the same method call\n",
    "\n",
    "**with_columns_seq:**\n",
    "- Still does not allow referencing newly created columns within the same call\n",
    "- Constructs the new DataFrame after all expressions have been computed[3]\n",
    "\n"
   ]
  },
  {
   "cell_type": "code",
   "execution_count": 16,
   "id": "c2e975ac-c423-4445-92d5-97e92c42fbe2",
   "metadata": {},
   "outputs": [
    {
     "data": {
      "text/html": [
       "<div><style>\n",
       ".dataframe > thead > tr,\n",
       ".dataframe > tbody > tr {\n",
       "  text-align: right;\n",
       "  white-space: pre-wrap;\n",
       "}\n",
       "</style>\n",
       "<small>shape: (3, 4)</small><table border=\"1\" class=\"dataframe\"><thead><tr><th>scores</th><th>sorted_scores</th><th>slice_scores</th><th>sum_scores</th></tr><tr><td>list[i64]</td><td>list[i64]</td><td>list[i64]</td><td>i64</td></tr></thead><tbody><tr><td>[99, 92, … 94]</td><td>[91, 92, … 99]</td><td>[94, 99]</td><td>193</td></tr><tr><td>[98, null, … 92]</td><td>[null, 92, … 98]</td><td>[93, 98]</td><td>191</td></tr><tr><td>[95, 99, … 99]</td><td>[95, 95, … 99]</td><td>[99, 99]</td><td>198</td></tr></tbody></table></div>"
      ],
      "text/plain": [
       "shape: (3, 4)\n",
       "+------------------+------------------+--------------+------------+\n",
       "| scores           | sorted_scores    | slice_scores | sum_scores |\n",
       "| ---              | ---              | ---          | ---        |\n",
       "| list[i64]        | list[i64]        | list[i64]    | i64        |\n",
       "+=================================================================+\n",
       "| [99, 92, … 94]   | [91, 92, … 99]   | [94, 99]     | 193        |\n",
       "| [98, null, … 92] | [null, 92, … 98] | [93, 98]     | 191        |\n",
       "| [95, 99, … 99]   | [95, 95, … 99]   | [99, 99]     | 198        |\n",
       "+------------------+------------------+--------------+------------+"
      ]
     },
     "execution_count": 16,
     "metadata": {},
     "output_type": "execute_result"
    }
   ],
   "source": [
    "# Explicit sequential operation\n",
    "(\n",
    "    tests\n",
    "    .select(scores=pl.concat_list(cs.matches(r'test\\d+')))\n",
    "    .with_columns_seq(sorted_scores=pl.col('scores').list.sort()) # 1\n",
    "    .with_columns_seq(slice_scores=pl.col('sorted_scores').list.slice(2,4)) #2\n",
    "    .with_columns_seq(sum_scores=pl.col('slice_scores').list.sum())\n",
    ")"
   ]
  },
  {
   "cell_type": "markdown",
   "id": "47392ca1-941a-4505-a559-232fdd9d6968",
   "metadata": {},
   "source": [
    "---\n",
    "Selecting Columns\n",
    "\n",
    "We can `.exclude` to rewrite the previous example"
   ]
  },
  {
   "cell_type": "code",
   "execution_count": 17,
   "id": "1c4e7a9b-e4e9-43f5-a56b-d887cef9eb83",
   "metadata": {},
   "outputs": [
    {
     "data": {
      "text/html": [
       "<div><style>\n",
       ".dataframe > thead > tr,\n",
       ".dataframe > tbody > tr {\n",
       "  text-align: right;\n",
       "  white-space: pre-wrap;\n",
       "}\n",
       "</style>\n",
       "<small>shape: (3, 4)</small><table border=\"1\" class=\"dataframe\"><thead><tr><th>test1</th><th>test2</th><th>test3</th><th>test4</th></tr><tr><td>i64</td><td>i64</td><td>i64</td><td>i64</td></tr></thead><tbody><tr><td>99</td><td>92</td><td>91</td><td>94</td></tr><tr><td>98</td><td>null</td><td>93</td><td>92</td></tr><tr><td>95</td><td>99</td><td>95</td><td>99</td></tr></tbody></table></div>"
      ],
      "text/plain": [
       "shape: (3, 4)\n",
       "+-------+-------+-------+-------+\n",
       "| test1 | test2 | test3 | test4 |\n",
       "| ---   | ---   | ---   | ---   |\n",
       "| i64   | i64   | i64   | i64   |\n",
       "+===============================+\n",
       "| 99    | 92    | 91    | 94    |\n",
       "| 98    | null  | 93    | 92    |\n",
       "| 95    | 99    | 95    | 99    |\n",
       "+-------+-------+-------+-------+"
      ]
     },
     "execution_count": 17,
     "metadata": {},
     "output_type": "execute_result"
    }
   ],
   "source": [
    "(\n",
    "    tests\n",
    "    .select(pl.all().exclude('name'))\n",
    ")"
   ]
  },
  {
   "cell_type": "markdown",
   "id": "d97d7ce7-8426-4cc6-b82c-94ff06ec399f",
   "metadata": {},
   "source": [
    "We can also use *set difference* to start with all of the columns and remove the *name* column.\n",
    "\n",
    "For this, we cannot use the expression syntax directly. We have to use `cs.all()` to use set operations."
   ]
  },
  {
   "cell_type": "code",
   "execution_count": 18,
   "id": "8fcb6b8a-527e-49ed-b4f3-9e6e74c05f9b",
   "metadata": {},
   "outputs": [
    {
     "name": "stdout",
     "output_type": "stream",
     "text": [
      "arithmetic on string and numeric not allowed, try an explicit cast first\n",
      "\n",
      "Resolved plan until failure:\n",
      "\n",
      "\t---> FAILED HERE RESOLVING 'select' <---\n",
      " SELECT [[(col(\"name\")) - (col(\"name\"))], [(col(\"test1\")) - (col(\"name\"))], [(col(\"test2\")) - (col(\"name\"))], [(col(\"test3\")) - (col(\"name\"))], [(col(\"test4\")) - (col(\"name\"))]] FROM\n",
      "  DF [\"name\", \"test1\", \"test2\", \"test3\"]; PROJECT */5 COLUMNS; SELECTION: None\n"
     ]
    }
   ],
   "source": [
    "try:\n",
    "    print(tests.select(pl.all() - pl.col('name')))\n",
    "except Exception as e:\n",
    "    print(e)"
   ]
  },
  {
   "cell_type": "code",
   "execution_count": 19,
   "id": "70516766-a462-4a4d-9eb8-f1fa15310da2",
   "metadata": {},
   "outputs": [],
   "source": [
    "# Using cs.all for set operations\n",
    "import polars.selectors as cs\n",
    "\n",
    "# tests.select(cs.all() - pl.col('name'))"
   ]
  },
  {
   "cell_type": "code",
   "execution_count": 20,
   "id": "94858e95-a0fc-482f-b063-1c04097aff45",
   "metadata": {},
   "outputs": [
    {
     "data": {
      "text/html": [
       "<div><style>\n",
       ".dataframe > thead > tr,\n",
       ".dataframe > tbody > tr {\n",
       "  text-align: right;\n",
       "  white-space: pre-wrap;\n",
       "}\n",
       "</style>\n",
       "<small>shape: (3, 5)</small><table border=\"1\" class=\"dataframe\"><thead><tr><th>name</th><th>test1</th><th>test2</th><th>test3</th><th>test4</th></tr><tr><td>str</td><td>i64</td><td>i64</td><td>i64</td><td>i64</td></tr></thead><tbody><tr><td>&quot;Tom&quot;</td><td>99</td><td>92</td><td>91</td><td>94</td></tr><tr><td>&quot;Sally&quot;</td><td>98</td><td>null</td><td>93</td><td>92</td></tr><tr><td>&quot;Jose&quot;</td><td>95</td><td>99</td><td>95</td><td>99</td></tr></tbody></table></div>"
      ],
      "text/plain": [
       "shape: (3, 5)\n",
       "+-------+-------+-------+-------+-------+\n",
       "| name  | test1 | test2 | test3 | test4 |\n",
       "| ---   | ---   | ---   | ---   | ---   |\n",
       "| str   | i64   | i64   | i64   | i64   |\n",
       "+=======================================+\n",
       "| Tom   | 99    | 92    | 91    | 94    |\n",
       "| Sally | 98    | null  | 93    | 92    |\n",
       "| Jose  | 95    | 99    | 95    | 99    |\n",
       "+-------+-------+-------+-------+-------+"
      ]
     },
     "execution_count": 20,
     "metadata": {},
     "output_type": "execute_result"
    }
   ],
   "source": [
    "# check\n",
    "tests.select(pl.all())"
   ]
  },
  {
   "cell_type": "code",
   "execution_count": 21,
   "id": "1a3ecf9c-ed2a-4b6b-8521-d771a314b0ad",
   "metadata": {},
   "outputs": [
    {
     "data": {
      "text/html": [
       "<div><style>\n",
       ".dataframe > thead > tr,\n",
       ".dataframe > tbody > tr {\n",
       "  text-align: right;\n",
       "  white-space: pre-wrap;\n",
       "}\n",
       "</style>\n",
       "<small>shape: (3, 5)</small><table border=\"1\" class=\"dataframe\"><thead><tr><th>name</th><th>test1</th><th>test2</th><th>test3</th><th>test4</th></tr><tr><td>str</td><td>i64</td><td>i64</td><td>i64</td><td>i64</td></tr></thead><tbody><tr><td>&quot;Tom&quot;</td><td>99</td><td>92</td><td>91</td><td>94</td></tr><tr><td>&quot;Sally&quot;</td><td>98</td><td>null</td><td>93</td><td>92</td></tr><tr><td>&quot;Jose&quot;</td><td>95</td><td>99</td><td>95</td><td>99</td></tr></tbody></table></div>"
      ],
      "text/plain": [
       "shape: (3, 5)\n",
       "+-------+-------+-------+-------+-------+\n",
       "| name  | test1 | test2 | test3 | test4 |\n",
       "| ---   | ---   | ---   | ---   | ---   |\n",
       "| str   | i64   | i64   | i64   | i64   |\n",
       "+=======================================+\n",
       "| Tom   | 99    | 92    | 91    | 94    |\n",
       "| Sally | 98    | null  | 93    | 92    |\n",
       "| Jose  | 95    | 99    | 95    | 99    |\n",
       "+-------+-------+-------+-------+-------+"
      ]
     },
     "execution_count": 21,
     "metadata": {},
     "output_type": "execute_result"
    }
   ],
   "source": [
    "tests.select(cs.all())"
   ]
  },
  {
   "cell_type": "markdown",
   "id": "ee92050f-cb3f-4ade-b1ff-7c062f1ad0ed",
   "metadata": {},
   "source": [
    "We can also use `cs.starts_with` to filter the columns"
   ]
  },
  {
   "cell_type": "code",
   "execution_count": 22,
   "id": "f36d7008-926e-4a08-bf6a-37c89a5b61fe",
   "metadata": {},
   "outputs": [
    {
     "data": {
      "text/html": [
       "<div><style>\n",
       ".dataframe > thead > tr,\n",
       ".dataframe > tbody > tr {\n",
       "  text-align: right;\n",
       "  white-space: pre-wrap;\n",
       "}\n",
       "</style>\n",
       "<small>shape: (3, 4)</small><table border=\"1\" class=\"dataframe\"><thead><tr><th>test1</th><th>test2</th><th>test3</th><th>test4</th></tr><tr><td>i64</td><td>i64</td><td>i64</td><td>i64</td></tr></thead><tbody><tr><td>99</td><td>92</td><td>91</td><td>94</td></tr><tr><td>98</td><td>null</td><td>93</td><td>92</td></tr><tr><td>95</td><td>99</td><td>95</td><td>99</td></tr></tbody></table></div>"
      ],
      "text/plain": [
       "shape: (3, 4)\n",
       "+-------+-------+-------+-------+\n",
       "| test1 | test2 | test3 | test4 |\n",
       "| ---   | ---   | ---   | ---   |\n",
       "| i64   | i64   | i64   | i64   |\n",
       "+===============================+\n",
       "| 99    | 92    | 91    | 94    |\n",
       "| 98    | null  | 93    | 92    |\n",
       "| 95    | 99    | 95    | 99    |\n",
       "+-------+-------+-------+-------+"
      ]
     },
     "execution_count": 22,
     "metadata": {},
     "output_type": "execute_result"
    }
   ],
   "source": [
    "tests.select(cs.starts_with('test'))"
   ]
  },
  {
   "cell_type": "markdown",
   "id": "a6481651-a551-476b-b7e4-4863966a97dc",
   "metadata": {},
   "source": [
    "If we want to calculate horizontal aggregations, we can also use the list functionality.\n",
    "\n",
    "Here, calculate the maximum test score for each student."
   ]
  },
  {
   "cell_type": "code",
   "execution_count": 23,
   "id": "8d70f9da-3c95-428a-b1c5-6525aac5ec1e",
   "metadata": {},
   "outputs": [
    {
     "data": {
      "text/plain": [
       "['name', 'test1', 'test2', 'test3', 'test4']"
      ]
     },
     "execution_count": 23,
     "metadata": {},
     "output_type": "execute_result"
    }
   ],
   "source": [
    "tests.columns"
   ]
  },
  {
   "cell_type": "code",
   "execution_count": 24,
   "id": "de6ddb97-45fd-4a42-b3f8-cfd22c9aa2b1",
   "metadata": {},
   "outputs": [
    {
     "data": {
      "text/html": [
       "<div><style>\n",
       ".dataframe > thead > tr,\n",
       ".dataframe > tbody > tr {\n",
       "  text-align: right;\n",
       "  white-space: pre-wrap;\n",
       "}\n",
       "</style>\n",
       "<small>shape: (3, 2)</small><table border=\"1\" class=\"dataframe\"><thead><tr><th>scores</th><th>max</th></tr><tr><td>list[i64]</td><td>i64</td></tr></thead><tbody><tr><td>[99, 92, … 94]</td><td>99</td></tr><tr><td>[98, null, … 92]</td><td>98</td></tr><tr><td>[95, 99, … 99]</td><td>99</td></tr></tbody></table></div>"
      ],
      "text/plain": [
       "shape: (3, 2)\n",
       "+------------------+-----+\n",
       "| scores           | max |\n",
       "| ---              | --- |\n",
       "| list[i64]        | i64 |\n",
       "+========================+\n",
       "| [99, 92, … 94]   | 99  |\n",
       "| [98, null, … 92] | 98  |\n",
       "| [95, 99, … 99]   | 99  |\n",
       "+------------------+-----+"
      ]
     },
     "execution_count": 24,
     "metadata": {},
     "output_type": "execute_result"
    }
   ],
   "source": [
    "(\n",
    "    tests\n",
    "    .select(scores=pl.concat_list(cs.starts_with('test')))\n",
    "    .with_columns(max=pl.col('scores').list.max())\n",
    ")"
   ]
  },
  {
   "cell_type": "markdown",
   "id": "fa3c151f-afe3-43cd-a896-7c57526bdd0e",
   "metadata": {},
   "source": [
    "---\n",
    "# 4.5 GroupBy Operations\n",
    "[back to Top](#Top)\n",
    "\n",
    "Grouping is a general term for a class of operations that involves:\n",
    "\n",
    "* Splitting up a dataset based on some criteria.\n",
    "* Applying a function to each group independently.\n",
    "* Combining the results into a data structure.\n",
    "\n",
    "In this example, we do a basic group-by operation on the *make* column. \n",
    "\n",
    "* Group the data by the *make* column, using `.group_by()`\n",
    "* Calculate each group's average *city08* value, using `.agg()` on the result of the groupby."
   ]
  },
  {
   "cell_type": "code",
   "execution_count": 25,
   "id": "8caab552-4faa-4d23-8da3-c38cfcc0fda7",
   "metadata": {},
   "outputs": [
    {
     "data": {
      "text/plain": [
       "<polars.dataframe.group_by.GroupBy at 0x12436fdd0>"
      ]
     },
     "execution_count": 25,
     "metadata": {},
     "output_type": "execute_result"
    }
   ],
   "source": [
    "(\n",
    "    autos\n",
    "    .group_by('make')\n",
    ")"
   ]
  },
  {
   "cell_type": "markdown",
   "id": "14116e5b-fa12-429f-b7b1-d9736d2e3f6b",
   "metadata": {},
   "source": [
    "* Use a column expression to create the aggregation.\n",
    "* Use `.mean()` on the *comb08* column."
   ]
  },
  {
   "cell_type": "code",
   "execution_count": 26,
   "id": "55b594b8-40e8-4e25-8e8f-475a0695d6b2",
   "metadata": {},
   "outputs": [
    {
     "name": "stderr",
     "output_type": "stream",
     "text": [
      "known unique values: 145\n",
      "run PARTITIONED HASH AGGREGATION\n"
     ]
    },
    {
     "data": {
      "text/html": [
       "<div><style>\n",
       ".dataframe > thead > tr,\n",
       ".dataframe > tbody > tr {\n",
       "  text-align: right;\n",
       "  white-space: pre-wrap;\n",
       "}\n",
       "</style>\n",
       "<small>shape: (145, 2)</small><table border=\"1\" class=\"dataframe\"><thead><tr><th>make</th><th>mean_city</th></tr><tr><td>cat</td><td>f64</td></tr></thead><tbody><tr><td>&quot;Lamborghini&quot;</td><td>10.662577</td></tr><tr><td>&quot;STI&quot;</td><td>15.0</td></tr><tr><td>&quot;Jaguar&quot;</td><td>17.97037</td></tr><tr><td>&quot;Autokraft Limited&quot;</td><td>14.0</td></tr><tr><td>&quot;Ruf Automobile Gmbh&quot;</td><td>11.0</td></tr><tr><td>&hellip;</td><td>&hellip;</td></tr><tr><td>&quot;Audi&quot;</td><td>20.760091</td></tr><tr><td>&quot;CODA Automotive&quot;</td><td>77.0</td></tr><tr><td>&quot;Superior Coaches Div E.p. Dutt…</td><td>10.0</td></tr><tr><td>&quot;Karma&quot;</td><td>23.0</td></tr><tr><td>&quot;Jeep&quot;</td><td>17.319111</td></tr></tbody></table></div>"
      ],
      "text/plain": [
       "shape: (145, 2)\n",
       "+---------------------------------+-----------+\n",
       "| make                            | mean_city |\n",
       "| ---                             | ---       |\n",
       "| cat                             | f64       |\n",
       "+=============================================+\n",
       "| Lamborghini                     | 10.662577 |\n",
       "| STI                             | 15.0      |\n",
       "| Jaguar                          | 17.97037  |\n",
       "| Autokraft Limited               | 14.0      |\n",
       "| Ruf Automobile Gmbh             | 11.0      |\n",
       "| …                               | …         |\n",
       "| Audi                            | 20.760091 |\n",
       "| CODA Automotive                 | 77.0      |\n",
       "| Superior Coaches Div E.p. Dutt… | 10.0      |\n",
       "| Karma                           | 23.0      |\n",
       "| Jeep                            | 17.319111 |\n",
       "+---------------------------------+-----------+"
      ]
     },
     "execution_count": 26,
     "metadata": {},
     "output_type": "execute_result"
    }
   ],
   "source": [
    "(\n",
    "    autos\n",
    "    .group_by('make')\n",
    "    .agg(mean_city=pl.col('city08').mean())\n",
    ")"
   ]
  },
  {
   "cell_type": "markdown",
   "id": "c2c57932-f968-42b7-9a59-d36ef748f5e8",
   "metadata": {},
   "source": [
    "* A `maintain_order` parameter can be set to True when calling `.group_by()`.\n",
    "* This maintains the order of the data.\n",
    "* Here, the output will be in the order that the *make* values were in the original data."
   ]
  },
  {
   "cell_type": "code",
   "execution_count": 27,
   "id": "28b5bd2c-53c8-4fbd-91e3-869b034e4426",
   "metadata": {},
   "outputs": [
    {
     "name": "stderr",
     "output_type": "stream",
     "text": [
      "known unique values: 145\n",
      "run PARTITIONED HASH AGGREGATION\n"
     ]
    },
    {
     "data": {
      "text/html": [
       "<div><style>\n",
       ".dataframe > thead > tr,\n",
       ".dataframe > tbody > tr {\n",
       "  text-align: right;\n",
       "  white-space: pre-wrap;\n",
       "}\n",
       "</style>\n",
       "<small>shape: (145, 2)</small><table border=\"1\" class=\"dataframe\"><thead><tr><th>make</th><th>mean_city</th></tr><tr><td>cat</td><td>f64</td></tr></thead><tbody><tr><td>&quot;Alfa Romeo&quot;</td><td>19.402062</td></tr><tr><td>&quot;Ferrari&quot;</td><td>11.842294</td></tr><tr><td>&quot;Dodge&quot;</td><td>15.461967</td></tr><tr><td>&quot;Subaru&quot;</td><td>21.130306</td></tr><tr><td>&quot;Toyota&quot;</td><td>22.4</td></tr><tr><td>&hellip;</td><td>&hellip;</td></tr><tr><td>&quot;General Motors&quot;</td><td>15.0</td></tr><tr><td>&quot;Consulier Industries Inc&quot;</td><td>18.0</td></tr><tr><td>&quot;Goldacre&quot;</td><td>16.0</td></tr><tr><td>&quot;Isis Imports Ltd&quot;</td><td>16.0</td></tr><tr><td>&quot;PAS Inc - GMC&quot;</td><td>14.0</td></tr></tbody></table></div>"
      ],
      "text/plain": [
       "shape: (145, 2)\n",
       "+--------------------------+-----------+\n",
       "| make                     | mean_city |\n",
       "| ---                      | ---       |\n",
       "| cat                      | f64       |\n",
       "+======================================+\n",
       "| Alfa Romeo               | 19.402062 |\n",
       "| Ferrari                  | 11.842294 |\n",
       "| Dodge                    | 15.461967 |\n",
       "| Subaru                   | 21.130306 |\n",
       "| Toyota                   | 22.4      |\n",
       "| …                        | …         |\n",
       "| General Motors           | 15.0      |\n",
       "| Consulier Industries Inc | 18.0      |\n",
       "| Goldacre                 | 16.0      |\n",
       "| Isis Imports Ltd         | 16.0      |\n",
       "| PAS Inc - GMC            | 14.0      |\n",
       "+--------------------------+-----------+"
      ]
     },
     "execution_count": 27,
     "metadata": {},
     "output_type": "execute_result"
    }
   ],
   "source": [
    "(\n",
    "    autos\n",
    "    .group_by('make', maintain_order=True)\n",
    "    .agg(mean_city=pl.col('city08').mean())\n",
    ")"
   ]
  },
  {
   "cell_type": "markdown",
   "id": "2e25fd8e-4d42-4a71-9e76-8be2e77d0dd7",
   "metadata": {},
   "source": [
    "We can use `.sort()` to sort the data by the *make* column."
   ]
  },
  {
   "cell_type": "code",
   "execution_count": 28,
   "id": "0fe56abe-bf36-436b-89f5-b75988fb1220",
   "metadata": {},
   "outputs": [
    {
     "name": "stderr",
     "output_type": "stream",
     "text": [
      "known unique values: 145\n",
      "run PARTITIONED HASH AGGREGATION\n"
     ]
    },
    {
     "data": {
      "text/html": [
       "<div><style>\n",
       ".dataframe > thead > tr,\n",
       ".dataframe > tbody > tr {\n",
       "  text-align: right;\n",
       "  white-space: pre-wrap;\n",
       "}\n",
       "</style>\n",
       "<small>shape: (145, 2)</small><table border=\"1\" class=\"dataframe\"><thead><tr><th>make</th><th>mean_city</th></tr><tr><td>cat</td><td>f64</td></tr></thead><tbody><tr><td>&quot;Alfa Romeo&quot;</td><td>19.402062</td></tr><tr><td>&quot;Ferrari&quot;</td><td>11.842294</td></tr><tr><td>&quot;Dodge&quot;</td><td>15.461967</td></tr><tr><td>&quot;Subaru&quot;</td><td>21.130306</td></tr><tr><td>&quot;Toyota&quot;</td><td>22.4</td></tr><tr><td>&hellip;</td><td>&hellip;</td></tr><tr><td>&quot;Quantum Technologies&quot;</td><td>19.0</td></tr><tr><td>&quot;London Taxi&quot;</td><td>21.0</td></tr><tr><td>&quot;Excalibur Autos&quot;</td><td>12.0</td></tr><tr><td>&quot;Mahindra&quot;</td><td>19.0</td></tr><tr><td>&quot;Azure Dynamics&quot;</td><td>62.0</td></tr></tbody></table></div>"
      ],
      "text/plain": [
       "shape: (145, 2)\n",
       "+----------------------+-----------+\n",
       "| make                 | mean_city |\n",
       "| ---                  | ---       |\n",
       "| cat                  | f64       |\n",
       "+==================================+\n",
       "| Alfa Romeo           | 19.402062 |\n",
       "| Ferrari              | 11.842294 |\n",
       "| Dodge                | 15.461967 |\n",
       "| Subaru               | 21.130306 |\n",
       "| Toyota               | 22.4      |\n",
       "| …                    | …         |\n",
       "| Quantum Technologies | 19.0      |\n",
       "| London Taxi          | 21.0      |\n",
       "| Excalibur Autos      | 12.0      |\n",
       "| Mahindra             | 19.0      |\n",
       "| Azure Dynamics       | 62.0      |\n",
       "+----------------------+-----------+"
      ]
     },
     "execution_count": 28,
     "metadata": {},
     "output_type": "execute_result"
    }
   ],
   "source": [
    "(\n",
    "    autos\n",
    "    .group_by('make')\n",
    "    .agg(mean_city=pl.col('city08').mean())\n",
    "    .sort('make')\n",
    ")"
   ]
  },
  {
   "cell_type": "markdown",
   "id": "d9770c79-9125-4d5c-8ee1-73d64aa85dd4",
   "metadata": {},
   "source": [
    "The make column is not alphabetically sorted, becuase the make column is a categorical columnn, and the categories are sorted by the order in which they appear in the original dataframe.\n",
    "\n",
    "We can specify the ordering when casting to pl.Categorical. "
   ]
  },
  {
   "cell_type": "code",
   "execution_count": 29,
   "id": "f12761b7-769d-42bc-b045-930609268bd7",
   "metadata": {},
   "outputs": [
    {
     "data": {
      "text/html": [
       "<div><style>\n",
       ".dataframe > thead > tr,\n",
       ".dataframe > tbody > tr {\n",
       "  text-align: right;\n",
       "  white-space: pre-wrap;\n",
       "}\n",
       "</style>\n",
       "<small>shape: (48_202, 15)</small><table border=\"1\" class=\"dataframe\"><thead><tr><th>year</th><th>make</th><th>model</th><th>displ</th><th>cylinders</th><th>trany</th><th>drive</th><th>VClass</th><th>fuelType</th><th>barrels08</th><th>city08</th><th>highway08</th><th>createdOn</th><th>is_automatic</th><th>num_gears</th></tr><tr><td>i16</td><td>cat</td><td>cat</td><td>f32</td><td>u8</td><td>str</td><td>cat</td><td>cat</td><td>cat</td><td>f32</td><td>u8</td><td>u8</td><td>datetime[μs]</td><td>str</td><td>u8</td></tr></thead><tbody><tr><td>1985</td><td>&quot;AM General&quot;</td><td>&quot;Post Office DJ5 2WD&quot;</td><td>2.5</td><td>4</td><td>&quot;Automatic 3-spd&quot;</td><td>&quot;Rear-Wheel Drive&quot;</td><td>&quot;Special Purpose Vehicle 2WD&quot;</td><td>&quot;Regular&quot;</td><td>18.594376</td><td>16</td><td>17</td><td>2013-01-01 00:00:00</td><td>&quot;true&quot;</td><td>3</td></tr><tr><td>1985</td><td>&quot;AM General&quot;</td><td>&quot;Post Office DJ8 2WD&quot;</td><td>4.2</td><td>6</td><td>&quot;Automatic 3-spd&quot;</td><td>&quot;Rear-Wheel Drive&quot;</td><td>&quot;Special Purpose Vehicle 2WD&quot;</td><td>&quot;Regular&quot;</td><td>22.885386</td><td>13</td><td>13</td><td>2013-01-01 00:00:00</td><td>&quot;true&quot;</td><td>3</td></tr><tr><td>1984</td><td>&quot;AM General&quot;</td><td>&quot;FJ8c Post Office&quot;</td><td>4.2</td><td>6</td><td>&quot;Automatic 3-spd&quot;</td><td>&quot;2-Wheel Drive&quot;</td><td>&quot;Special Purpose Vehicle 2WD&quot;</td><td>&quot;Regular&quot;</td><td>22.885386</td><td>13</td><td>13</td><td>2013-01-01 00:00:00</td><td>&quot;true&quot;</td><td>3</td></tr><tr><td>1984</td><td>&quot;AM General&quot;</td><td>&quot;DJ Po Vehicle 2WD&quot;</td><td>2.5</td><td>4</td><td>&quot;Automatic 3-spd&quot;</td><td>&quot;2-Wheel Drive&quot;</td><td>&quot;Special Purpose Vehicle 2WD&quot;</td><td>&quot;Regular&quot;</td><td>17.500587</td><td>18</td><td>17</td><td>2013-01-01 00:00:00</td><td>&quot;true&quot;</td><td>3</td></tr><tr><td>1984</td><td>&quot;AM General&quot;</td><td>&quot;FJ8c Post Office&quot;</td><td>4.2</td><td>6</td><td>&quot;Automatic 3-spd&quot;</td><td>&quot;2-Wheel Drive&quot;</td><td>&quot;Special Purpose Vehicle 2WD&quot;</td><td>&quot;Regular&quot;</td><td>22.885386</td><td>13</td><td>13</td><td>2013-01-01 00:00:00</td><td>&quot;true&quot;</td><td>3</td></tr><tr><td>&hellip;</td><td>&hellip;</td><td>&hellip;</td><td>&hellip;</td><td>&hellip;</td><td>&hellip;</td><td>&hellip;</td><td>&hellip;</td><td>&hellip;</td><td>&hellip;</td><td>&hellip;</td><td>&hellip;</td><td>&hellip;</td><td>&hellip;</td><td>&hellip;</td></tr><tr><td>2017</td><td>&quot;smart&quot;</td><td>&quot;fortwo electric drive converti…</td><td>null</td><td>null</td><td>&quot;Automatic (A1)&quot;</td><td>&quot;Rear-Wheel Drive&quot;</td><td>&quot;Two Seaters&quot;</td><td>&quot;Electricity&quot;</td><td>0.0792</td><td>112</td><td>91</td><td>2017-10-11 00:00:00</td><td>&quot;true&quot;</td><td>1</td></tr><tr><td>2018</td><td>&quot;smart&quot;</td><td>&quot;fortwo electric drive coupe&quot;</td><td>null</td><td>null</td><td>&quot;Automatic (A1)&quot;</td><td>&quot;Rear-Wheel Drive&quot;</td><td>&quot;Two Seaters&quot;</td><td>&quot;Electricity&quot;</td><td>0.0744</td><td>124</td><td>94</td><td>2017-12-05 00:00:00</td><td>&quot;true&quot;</td><td>1</td></tr><tr><td>2018</td><td>&quot;smart&quot;</td><td>&quot;fortwo electric drive converti…</td><td>null</td><td>null</td><td>&quot;Automatic (A1)&quot;</td><td>&quot;Rear-Wheel Drive&quot;</td><td>&quot;Two Seaters&quot;</td><td>&quot;Electricity&quot;</td><td>0.0792</td><td>112</td><td>91</td><td>2017-12-05 00:00:00</td><td>&quot;true&quot;</td><td>1</td></tr><tr><td>2019</td><td>&quot;smart&quot;</td><td>&quot;EQ fortwo (coupe)&quot;</td><td>null</td><td>null</td><td>&quot;Automatic (A1)&quot;</td><td>&quot;Rear-Wheel Drive&quot;</td><td>&quot;Two Seaters&quot;</td><td>&quot;Electricity&quot;</td><td>0.0744</td><td>124</td><td>94</td><td>2019-01-29 00:00:00</td><td>&quot;true&quot;</td><td>1</td></tr><tr><td>2019</td><td>&quot;smart&quot;</td><td>&quot;EQ fortwo (convertible)&quot;</td><td>null</td><td>null</td><td>&quot;Automatic (A1)&quot;</td><td>&quot;Rear-Wheel Drive&quot;</td><td>&quot;Two Seaters&quot;</td><td>&quot;Electricity&quot;</td><td>0.0792</td><td>112</td><td>91</td><td>2019-01-29 00:00:00</td><td>&quot;true&quot;</td><td>1</td></tr></tbody></table></div>"
      ],
      "text/plain": [
       "shape: (48_202, 15)\n",
       "+-----+-----+-----+-----+-----+-----+-----+-----+-----+-----+-----+--------+-------+-------+-------+\n",
       "| yea | mak | mod | dis | cyl | tra | dri | VCl | fue | bar | cit | highwa | creat | is_au | num_g |\n",
       "| r   | e   | el  | pl  | ind | ny  | ve  | ass | lTy | rel | y08 | y08    | edOn  | tomat | ears  |\n",
       "| --- | --- | --- | --- | ers | --- | --- | --- | pe  | s08 | --- | ---    | ---   | ic    | ---   |\n",
       "| i16 | cat | cat | f32 | --- | str | cat | cat | --- | --- | u8  | u8     | datet | ---   | u8    |\n",
       "|     |     |     |     | u8  |     |     |     | cat | f32 |     |        | ime[μ | str   |       |\n",
       "|     |     |     |     |     |     |     |     |     |     |     |        | s]    |       |       |\n",
       "+==================================================================================================+\n",
       "| 198 | AM  | Pos | 2.5 | 4   | Aut | Rea | Spe | Reg | 18. | 16  | 17     | 2013- | true  | 3     |\n",
       "| 5   | Gen | t   |     |     | oma | r-W | cia | ula | 594 |     |        | 01-01 |       |       |\n",
       "|     | era | Off |     |     | tic | hee | l   | r   | 376 |     |        | 00:00 |       |       |\n",
       "|     | l   | ice |     |     | 3-s | l   | Pur |     |     |     |        | :00   |       |       |\n",
       "|     |     | DJ5 |     |     | pd  | Dri | pos |     |     |     |        |       |       |       |\n",
       "|     |     | 2WD |     |     |     | ve  | e   |     |     |     |        |       |       |       |\n",
       "|     |     |     |     |     |     |     | Veh |     |     |     |        |       |       |       |\n",
       "|     |     |     |     |     |     |     | icl |     |     |     |        |       |       |       |\n",
       "|     |     |     |     |     |     |     | e   |     |     |     |        |       |       |       |\n",
       "|     |     |     |     |     |     |     | 2WD |     |     |     |        |       |       |       |\n",
       "| 198 | AM  | Pos | 4.2 | 6   | Aut | Rea | Spe | Reg | 22. | 13  | 13     | 2013- | true  | 3     |\n",
       "| 5   | Gen | t   |     |     | oma | r-W | cia | ula | 885 |     |        | 01-01 |       |       |\n",
       "|     | era | Off |     |     | tic | hee | l   | r   | 386 |     |        | 00:00 |       |       |\n",
       "|     | l   | ice |     |     | 3-s | l   | Pur |     |     |     |        | :00   |       |       |\n",
       "|     |     | DJ8 |     |     | pd  | Dri | pos |     |     |     |        |       |       |       |\n",
       "|     |     | 2WD |     |     |     | ve  | e   |     |     |     |        |       |       |       |\n",
       "|     |     |     |     |     |     |     | Veh |     |     |     |        |       |       |       |\n",
       "|     |     |     |     |     |     |     | icl |     |     |     |        |       |       |       |\n",
       "|     |     |     |     |     |     |     | e   |     |     |     |        |       |       |       |\n",
       "|     |     |     |     |     |     |     | 2WD |     |     |     |        |       |       |       |\n",
       "| 198 | AM  | FJ8 | 4.2 | 6   | Aut | 2-W | Spe | Reg | 22. | 13  | 13     | 2013- | true  | 3     |\n",
       "| 4   | Gen | c   |     |     | oma | hee | cia | ula | 885 |     |        | 01-01 |       |       |\n",
       "|     | era | Pos |     |     | tic | l   | l   | r   | 386 |     |        | 00:00 |       |       |\n",
       "|     | l   | t   |     |     | 3-s | Dri | Pur |     |     |     |        | :00   |       |       |\n",
       "|     |     | Off |     |     | pd  | ve  | pos |     |     |     |        |       |       |       |\n",
       "|     |     | ice |     |     |     |     | e   |     |     |     |        |       |       |       |\n",
       "|     |     |     |     |     |     |     | Veh |     |     |     |        |       |       |       |\n",
       "|     |     |     |     |     |     |     | icl |     |     |     |        |       |       |       |\n",
       "|     |     |     |     |     |     |     | e   |     |     |     |        |       |       |       |\n",
       "|     |     |     |     |     |     |     | 2WD |     |     |     |        |       |       |       |\n",
       "| 198 | AM  | DJ  | 2.5 | 4   | Aut | 2-W | Spe | Reg | 17. | 18  | 17     | 2013- | true  | 3     |\n",
       "| 4   | Gen | Po  |     |     | oma | hee | cia | ula | 500 |     |        | 01-01 |       |       |\n",
       "|     | era | Veh |     |     | tic | l   | l   | r   | 587 |     |        | 00:00 |       |       |\n",
       "|     | l   | icl |     |     | 3-s | Dri | Pur |     |     |     |        | :00   |       |       |\n",
       "|     |     | e   |     |     | pd  | ve  | pos |     |     |     |        |       |       |       |\n",
       "|     |     | 2WD |     |     |     |     | e   |     |     |     |        |       |       |       |\n",
       "|     |     |     |     |     |     |     | Veh |     |     |     |        |       |       |       |\n",
       "|     |     |     |     |     |     |     | icl |     |     |     |        |       |       |       |\n",
       "|     |     |     |     |     |     |     | e   |     |     |     |        |       |       |       |\n",
       "|     |     |     |     |     |     |     | 2WD |     |     |     |        |       |       |       |\n",
       "| 198 | AM  | FJ8 | 4.2 | 6   | Aut | 2-W | Spe | Reg | 22. | 13  | 13     | 2013- | true  | 3     |\n",
       "| 4   | Gen | c   |     |     | oma | hee | cia | ula | 885 |     |        | 01-01 |       |       |\n",
       "|     | era | Pos |     |     | tic | l   | l   | r   | 386 |     |        | 00:00 |       |       |\n",
       "|     | l   | t   |     |     | 3-s | Dri | Pur |     |     |     |        | :00   |       |       |\n",
       "|     |     | Off |     |     | pd  | ve  | pos |     |     |     |        |       |       |       |\n",
       "|     |     | ice |     |     |     |     | e   |     |     |     |        |       |       |       |\n",
       "|     |     |     |     |     |     |     | Veh |     |     |     |        |       |       |       |\n",
       "|     |     |     |     |     |     |     | icl |     |     |     |        |       |       |       |\n",
       "|     |     |     |     |     |     |     | e   |     |     |     |        |       |       |       |\n",
       "|     |     |     |     |     |     |     | 2WD |     |     |     |        |       |       |       |\n",
       "| …   | …   | …   | …   | …   | …   | …   | …   | …   | …   | …   | …      | …     | …     | …     |\n",
       "| 201 | sma | for | nul | nul | Aut | Rea | Two | Ele | 0.0 | 112 | 91     | 2017- | true  | 1     |\n",
       "| 7   | rt  | two | l   | l   | oma | r-W | Sea | ctr | 792 |     |        | 10-11 |       |       |\n",
       "|     |     | ele |     |     | tic | hee | ter | ici |     |     |        | 00:00 |       |       |\n",
       "|     |     | ctr |     |     | (A1 | l   | s   | ty  |     |     |        | :00   |       |       |\n",
       "|     |     | ic  |     |     | )   | Dri |     |     |     |     |        |       |       |       |\n",
       "|     |     | dri |     |     |     | ve  |     |     |     |     |        |       |       |       |\n",
       "|     |     | ve  |     |     |     |     |     |     |     |     |        |       |       |       |\n",
       "|     |     | con |     |     |     |     |     |     |     |     |        |       |       |       |\n",
       "|     |     | ver |     |     |     |     |     |     |     |     |        |       |       |       |\n",
       "|     |     | ti… |     |     |     |     |     |     |     |     |        |       |       |       |\n",
       "| 201 | sma | for | nul | nul | Aut | Rea | Two | Ele | 0.0 | 124 | 94     | 2017- | true  | 1     |\n",
       "| 8   | rt  | two | l   | l   | oma | r-W | Sea | ctr | 744 |     |        | 12-05 |       |       |\n",
       "|     |     | ele |     |     | tic | hee | ter | ici |     |     |        | 00:00 |       |       |\n",
       "|     |     | ctr |     |     | (A1 | l   | s   | ty  |     |     |        | :00   |       |       |\n",
       "|     |     | ic  |     |     | )   | Dri |     |     |     |     |        |       |       |       |\n",
       "|     |     | dri |     |     |     | ve  |     |     |     |     |        |       |       |       |\n",
       "|     |     | ve  |     |     |     |     |     |     |     |     |        |       |       |       |\n",
       "|     |     | cou |     |     |     |     |     |     |     |     |        |       |       |       |\n",
       "|     |     | pe  |     |     |     |     |     |     |     |     |        |       |       |       |\n",
       "| 201 | sma | for | nul | nul | Aut | Rea | Two | Ele | 0.0 | 112 | 91     | 2017- | true  | 1     |\n",
       "| 8   | rt  | two | l   | l   | oma | r-W | Sea | ctr | 792 |     |        | 12-05 |       |       |\n",
       "|     |     | ele |     |     | tic | hee | ter | ici |     |     |        | 00:00 |       |       |\n",
       "|     |     | ctr |     |     | (A1 | l   | s   | ty  |     |     |        | :00   |       |       |\n",
       "|     |     | ic  |     |     | )   | Dri |     |     |     |     |        |       |       |       |\n",
       "|     |     | dri |     |     |     | ve  |     |     |     |     |        |       |       |       |\n",
       "|     |     | ve  |     |     |     |     |     |     |     |     |        |       |       |       |\n",
       "|     |     | con |     |     |     |     |     |     |     |     |        |       |       |       |\n",
       "|     |     | ver |     |     |     |     |     |     |     |     |        |       |       |       |\n",
       "|     |     | ti… |     |     |     |     |     |     |     |     |        |       |       |       |\n",
       "| 201 | sma | EQ  | nul | nul | Aut | Rea | Two | Ele | 0.0 | 124 | 94     | 2019- | true  | 1     |\n",
       "| 9   | rt  | for | l   | l   | oma | r-W | Sea | ctr | 744 |     |        | 01-29 |       |       |\n",
       "|     |     | two |     |     | tic | hee | ter | ici |     |     |        | 00:00 |       |       |\n",
       "|     |     | (co |     |     | (A1 | l   | s   | ty  |     |     |        | :00   |       |       |\n",
       "|     |     | upe |     |     | )   | Dri |     |     |     |     |        |       |       |       |\n",
       "|     |     | )   |     |     |     | ve  |     |     |     |     |        |       |       |       |\n",
       "| 201 | sma | EQ  | nul | nul | Aut | Rea | Two | Ele | 0.0 | 112 | 91     | 2019- | true  | 1     |\n",
       "| 9   | rt  | for | l   | l   | oma | r-W | Sea | ctr | 792 |     |        | 01-29 |       |       |\n",
       "|     |     | two |     |     | tic | hee | ter | ici |     |     |        | 00:00 |       |       |\n",
       "|     |     | (co |     |     | (A1 | l   | s   | ty  |     |     |        | :00   |       |       |\n",
       "|     |     | nve |     |     | )   | Dri |     |     |     |     |        |       |       |       |\n",
       "|     |     | rti |     |     |     | ve  |     |     |     |     |        |       |       |       |\n",
       "|     |     | ble |     |     |     |     |     |     |     |     |        |       |       |       |\n",
       "|     |     | )   |     |     |     |     |     |     |     |     |        |       |       |       |\n",
       "+-----+-----+-----+-----+-----+-----+-----+-----+-----+-----+-----+--------+-------+-------+-------+"
      ]
     },
     "execution_count": 29,
     "metadata": {},
     "output_type": "execute_result"
    }
   ],
   "source": [
    "# test\n",
    "(\n",
    "    autos\n",
    "    .with_columns(pl.col('make').cast(pl.Categorical('lexical')))\n",
    "    .sort('make')\n",
    ")"
   ]
  },
  {
   "cell_type": "code",
   "execution_count": 30,
   "id": "ebd9e38f-b076-4f27-803b-08f7481070de",
   "metadata": {},
   "outputs": [
    {
     "name": "stderr",
     "output_type": "stream",
     "text": [
      "known unique values: 145\n",
      "run PARTITIONED HASH AGGREGATION\n"
     ]
    },
    {
     "data": {
      "text/html": [
       "<div><style>\n",
       ".dataframe > thead > tr,\n",
       ".dataframe > tbody > tr {\n",
       "  text-align: right;\n",
       "  white-space: pre-wrap;\n",
       "}\n",
       "</style>\n",
       "<small>shape: (145, 2)</small><table border=\"1\" class=\"dataframe\"><thead><tr><th>make</th><th>mean_city</th></tr><tr><td>cat</td><td>f64</td></tr></thead><tbody><tr><td>&quot;AM General&quot;</td><td>15.166667</td></tr><tr><td>&quot;ASC Incorporated&quot;</td><td>14.0</td></tr><tr><td>&quot;Acura&quot;</td><td>20.011792</td></tr><tr><td>&quot;Alfa Romeo&quot;</td><td>19.402062</td></tr><tr><td>&quot;American Motors Corporation&quot;</td><td>16.296296</td></tr><tr><td>&hellip;</td><td>&hellip;</td></tr><tr><td>&quot;Volkswagen&quot;</td><td>23.39819</td></tr><tr><td>&quot;Volvo&quot;</td><td>20.320775</td></tr><tr><td>&quot;Wallace Environmental&quot;</td><td>12.4375</td></tr><tr><td>&quot;Yugo&quot;</td><td>23.0</td></tr><tr><td>&quot;smart&quot;</td><td>68.421053</td></tr></tbody></table></div>"
      ],
      "text/plain": [
       "shape: (145, 2)\n",
       "+-----------------------------+-----------+\n",
       "| make                        | mean_city |\n",
       "| ---                         | ---       |\n",
       "| cat                         | f64       |\n",
       "+=========================================+\n",
       "| AM General                  | 15.166667 |\n",
       "| ASC Incorporated            | 14.0      |\n",
       "| Acura                       | 20.011792 |\n",
       "| Alfa Romeo                  | 19.402062 |\n",
       "| American Motors Corporation | 16.296296 |\n",
       "| …                           | …         |\n",
       "| Volkswagen                  | 23.39819  |\n",
       "| Volvo                       | 20.320775 |\n",
       "| Wallace Environmental       | 12.4375   |\n",
       "| Yugo                        | 23.0      |\n",
       "| smart                       | 68.421053 |\n",
       "+-----------------------------+-----------+"
      ]
     },
     "execution_count": 30,
     "metadata": {},
     "output_type": "execute_result"
    }
   ],
   "source": [
    "(\n",
    "    autos\n",
    "    .with_columns(pl.col('make').cast(pl.Categorical('lexical')))\n",
    "    .group_by('make')\n",
    "    .agg(mean_city=pl.col('city08').mean())\n",
    "    .sort('make')\n",
    ")"
   ]
  },
  {
   "cell_type": "markdown",
   "id": "aca06ecc-ad38-4f2e-a30e-32e53cd63c36",
   "metadata": {},
   "source": [
    "---\n",
    "# 4.6 Multiple Aggregations\n",
    "[back to Top](#Top)\n",
    "\n",
    "We can pass multiple expressions to `.agg()` to perform multiple aggregations. \n",
    "\n",
    "Here, we calculate the average and median values for both *city08* and *highway08* columns."
   ]
  },
  {
   "cell_type": "code",
   "execution_count": 31,
   "id": "453d1ff2-52b2-45d5-8590-c0ae825cfa32",
   "metadata": {},
   "outputs": [
    {
     "name": "stderr",
     "output_type": "stream",
     "text": [
      "keys/aggregates are not partitionable: running default HASH AGGREGATION\n"
     ]
    },
    {
     "data": {
      "text/html": [
       "<div><style>\n",
       ".dataframe > thead > tr,\n",
       ".dataframe > tbody > tr {\n",
       "  text-align: right;\n",
       "  white-space: pre-wrap;\n",
       "}\n",
       "</style>\n",
       "<small>shape: (145, 4)</small><table border=\"1\" class=\"dataframe\"><thead><tr><th>make</th><th>mean_city</th><th>median_city</th><th>median_highway</th></tr><tr><td>cat</td><td>f64</td><td>f64</td><td>f64</td></tr></thead><tbody><tr><td>&quot;AM General&quot;</td><td>15.166667</td><td>14.5</td><td>15.0</td></tr><tr><td>&quot;ASC Incorporated&quot;</td><td>14.0</td><td>14.0</td><td>21.0</td></tr><tr><td>&quot;Acura&quot;</td><td>20.011792</td><td>20.0</td><td>27.0</td></tr><tr><td>&quot;Alfa Romeo&quot;</td><td>19.402062</td><td>19.0</td><td>25.0</td></tr><tr><td>&quot;American Motors Corporation&quot;</td><td>16.296296</td><td>16.0</td><td>20.0</td></tr><tr><td>&hellip;</td><td>&hellip;</td><td>&hellip;</td><td>&hellip;</td></tr><tr><td>&quot;Volkswagen&quot;</td><td>23.39819</td><td>21.0</td><td>28.0</td></tr><tr><td>&quot;Volvo&quot;</td><td>20.320775</td><td>18.0</td><td>26.0</td></tr><tr><td>&quot;Wallace Environmental&quot;</td><td>12.4375</td><td>11.0</td><td>15.0</td></tr><tr><td>&quot;Yugo&quot;</td><td>23.0</td><td>23.0</td><td>28.5</td></tr><tr><td>&quot;smart&quot;</td><td>68.421053</td><td>34.0</td><td>41.0</td></tr></tbody></table></div>"
      ],
      "text/plain": [
       "shape: (145, 4)\n",
       "+-----------------------------+-----------+-------------+----------------+\n",
       "| make                        | mean_city | median_city | median_highway |\n",
       "| ---                         | ---       | ---         | ---            |\n",
       "| cat                         | f64       | f64         | f64            |\n",
       "+========================================================================+\n",
       "| AM General                  | 15.166667 | 14.5        | 15.0           |\n",
       "| ASC Incorporated            | 14.0      | 14.0        | 21.0           |\n",
       "| Acura                       | 20.011792 | 20.0        | 27.0           |\n",
       "| Alfa Romeo                  | 19.402062 | 19.0        | 25.0           |\n",
       "| American Motors Corporation | 16.296296 | 16.0        | 20.0           |\n",
       "| …                           | …         | …           | …              |\n",
       "| Volkswagen                  | 23.39819  | 21.0        | 28.0           |\n",
       "| Volvo                       | 20.320775 | 18.0        | 26.0           |\n",
       "| Wallace Environmental       | 12.4375   | 11.0        | 15.0           |\n",
       "| Yugo                        | 23.0      | 23.0        | 28.5           |\n",
       "| smart                       | 68.421053 | 34.0        | 41.0           |\n",
       "+-----------------------------+-----------+-------------+----------------+"
      ]
     },
     "execution_count": 31,
     "metadata": {},
     "output_type": "execute_result"
    }
   ],
   "source": [
    "# Basic operation, using whole dataset with 15 columns\n",
    "(\n",
    "    autos\n",
    "    .with_columns(pl.col('make').cast(pl.Categorical('lexical')))\n",
    "    .group_by('make')\n",
    "    .agg(\n",
    "        mean_city=pl.col('city08').mean(),\n",
    "        median_city=pl.col('city08').median(),\n",
    "        median_highway=pl.col('highway08').median()\n",
    "    )\n",
    "    .sort('make')\n",
    ")"
   ]
  },
  {
   "cell_type": "code",
   "execution_count": 32,
   "id": "3b3445c7-bd46-4e26-aa72-ef373ba88cae",
   "metadata": {},
   "outputs": [
    {
     "name": "stderr",
     "output_type": "stream",
     "text": [
      "keys/aggregates are not partitionable: running default HASH AGGREGATION\n"
     ]
    },
    {
     "data": {
      "text/html": [
       "<div><style>\n",
       ".dataframe > thead > tr,\n",
       ".dataframe > tbody > tr {\n",
       "  text-align: right;\n",
       "  white-space: pre-wrap;\n",
       "}\n",
       "</style>\n",
       "<small>shape: (145, 4)</small><table border=\"1\" class=\"dataframe\"><thead><tr><th>make</th><th>mean_city</th><th>median_city</th><th>median_highway</th></tr><tr><td>cat</td><td>f64</td><td>f64</td><td>f64</td></tr></thead><tbody><tr><td>&quot;AM General&quot;</td><td>15.166667</td><td>14.5</td><td>15.0</td></tr><tr><td>&quot;ASC Incorporated&quot;</td><td>14.0</td><td>14.0</td><td>21.0</td></tr><tr><td>&quot;Acura&quot;</td><td>20.011792</td><td>20.0</td><td>27.0</td></tr><tr><td>&quot;Alfa Romeo&quot;</td><td>19.402062</td><td>19.0</td><td>25.0</td></tr><tr><td>&quot;American Motors Corporation&quot;</td><td>16.296296</td><td>16.0</td><td>20.0</td></tr><tr><td>&hellip;</td><td>&hellip;</td><td>&hellip;</td><td>&hellip;</td></tr><tr><td>&quot;Volkswagen&quot;</td><td>23.39819</td><td>21.0</td><td>28.0</td></tr><tr><td>&quot;Volvo&quot;</td><td>20.320775</td><td>18.0</td><td>26.0</td></tr><tr><td>&quot;Wallace Environmental&quot;</td><td>12.4375</td><td>11.0</td><td>15.0</td></tr><tr><td>&quot;Yugo&quot;</td><td>23.0</td><td>23.0</td><td>28.5</td></tr><tr><td>&quot;smart&quot;</td><td>68.421053</td><td>34.0</td><td>41.0</td></tr></tbody></table></div>"
      ],
      "text/plain": [
       "shape: (145, 4)\n",
       "+-----------------------------+-----------+-------------+----------------+\n",
       "| make                        | mean_city | median_city | median_highway |\n",
       "| ---                         | ---       | ---         | ---            |\n",
       "| cat                         | f64       | f64         | f64            |\n",
       "+========================================================================+\n",
       "| AM General                  | 15.166667 | 14.5        | 15.0           |\n",
       "| ASC Incorporated            | 14.0      | 14.0        | 21.0           |\n",
       "| Acura                       | 20.011792 | 20.0        | 27.0           |\n",
       "| Alfa Romeo                  | 19.402062 | 19.0        | 25.0           |\n",
       "| American Motors Corporation | 16.296296 | 16.0        | 20.0           |\n",
       "| …                           | …         | …           | …              |\n",
       "| Volkswagen                  | 23.39819  | 21.0        | 28.0           |\n",
       "| Volvo                       | 20.320775 | 18.0        | 26.0           |\n",
       "| Wallace Environmental       | 12.4375   | 11.0        | 15.0           |\n",
       "| Yugo                        | 23.0      | 23.0        | 28.5           |\n",
       "| smart                       | 68.421053 | 34.0        | 41.0           |\n",
       "+-----------------------------+-----------+-------------+----------------+"
      ]
     },
     "execution_count": 32,
     "metadata": {},
     "output_type": "execute_result"
    }
   ],
   "source": [
    "# variation using .select instead of .with_columns\n",
    "# and only 3 columns\n",
    "(\n",
    "    autos\n",
    "    .select(\n",
    "        pl.col('make').cast(pl.Categorical('lexical')),\n",
    "        pl.col('city08'),\n",
    "        pl.col('highway08')\n",
    "    )\n",
    "    .group_by('make')\n",
    "    .agg(\n",
    "        mean_city=pl.col('city08').mean(),\n",
    "        median_city=pl.col('city08').median(),\n",
    "        median_highway=pl.col('highway08').median()\n",
    "    )\n",
    "    .sort('make')\n",
    ")"
   ]
  },
  {
   "cell_type": "code",
   "execution_count": 33,
   "id": "1abe1661-7141-482e-a3c2-e76875ed5cd5",
   "metadata": {},
   "outputs": [
    {
     "name": "stderr",
     "output_type": "stream",
     "text": [
      "known unique values: 145\n",
      "run PARTITIONED HASH AGGREGATION\n"
     ]
    },
    {
     "data": {
      "text/html": [
       "<div><style>\n",
       ".dataframe > thead > tr,\n",
       ".dataframe > tbody > tr {\n",
       "  text-align: right;\n",
       "  white-space: pre-wrap;\n",
       "}\n",
       "</style>\n",
       "<small>shape: (145, 7)</small><table border=\"1\" class=\"dataframe\"><thead><tr><th>make</th><th>city08_mean</th><th>highway08_mean</th><th>city08_min</th><th>highway08_min</th><th>city08_max</th><th>highway08_max</th></tr><tr><td>cat</td><td>f64</td><td>f64</td><td>u8</td><td>u8</td><td>u8</td><td>u8</td></tr></thead><tbody><tr><td>&quot;AM General&quot;</td><td>15.166667</td><td>15.0</td><td>13</td><td>13</td><td>18</td><td>17</td></tr><tr><td>&quot;ASC Incorporated&quot;</td><td>14.0</td><td>21.0</td><td>14</td><td>21</td><td>14</td><td>21</td></tr><tr><td>&quot;Acura&quot;</td><td>20.011792</td><td>26.816038</td><td>13</td><td>17</td><td>96</td><td>83</td></tr><tr><td>&quot;Alfa Romeo&quot;</td><td>19.402062</td><td>26.546392</td><td>11</td><td>16</td><td>29</td><td>34</td></tr><tr><td>&quot;American Motors Corporation&quot;</td><td>16.296296</td><td>20.481481</td><td>15</td><td>17</td><td>19</td><td>23</td></tr><tr><td>&hellip;</td><td>&hellip;</td><td>&hellip;</td><td>&hellip;</td><td>&hellip;</td><td>&hellip;</td><td>&hellip;</td></tr><tr><td>&quot;Volkswagen&quot;</td><td>23.39819</td><td>30.463801</td><td>11</td><td>14</td><td>126</td><td>111</td></tr><tr><td>&quot;Volvo&quot;</td><td>20.320775</td><td>26.926803</td><td>13</td><td>19</td><td>127</td><td>104</td></tr><tr><td>&quot;Wallace Environmental&quot;</td><td>12.4375</td><td>16.0</td><td>8</td><td>13</td><td>17</td><td>22</td></tr><tr><td>&quot;Yugo&quot;</td><td>23.0</td><td>28.25</td><td>21</td><td>27</td><td>24</td><td>29</td></tr><tr><td>&quot;smart&quot;</td><td>68.421053</td><td>60.973684</td><td>31</td><td>38</td><td>124</td><td>94</td></tr></tbody></table></div>"
      ],
      "text/plain": [
       "shape: (145, 7)\n",
       "+--------------+-------------+--------------+------------+--------------+------------+-------------+\n",
       "| make         | city08_mean | highway08_me | city08_min | highway08_mi | city08_max | highway08_m |\n",
       "| ---          | ---         | an           | ---        | n            | ---        | ax          |\n",
       "| cat          | f64         | ---          | u8         | ---          | u8         | ---         |\n",
       "|              |             | f64          |            | u8           |            | u8          |\n",
       "+==================================================================================================+\n",
       "| AM General   | 15.166667   | 15.0         | 13         | 13           | 18         | 17          |\n",
       "| ASC          | 14.0        | 21.0         | 14         | 21           | 14         | 21          |\n",
       "| Incorporated |             |              |            |              |            |             |\n",
       "| Acura        | 20.011792   | 26.816038    | 13         | 17           | 96         | 83          |\n",
       "| Alfa Romeo   | 19.402062   | 26.546392    | 11         | 16           | 29         | 34          |\n",
       "| American     | 16.296296   | 20.481481    | 15         | 17           | 19         | 23          |\n",
       "| Motors       |             |              |            |              |            |             |\n",
       "| Corporation  |             |              |            |              |            |             |\n",
       "| …            | …           | …            | …          | …            | …          | …           |\n",
       "| Volkswagen   | 23.39819    | 30.463801    | 11         | 14           | 126        | 111         |\n",
       "| Volvo        | 20.320775   | 26.926803    | 13         | 19           | 127        | 104         |\n",
       "| Wallace Envi | 12.4375     | 16.0         | 8          | 13           | 17         | 22          |\n",
       "| ronmental    |             |              |            |              |            |             |\n",
       "| Yugo         | 23.0        | 28.25        | 21         | 27           | 24         | 29          |\n",
       "| smart        | 68.421053   | 60.973684    | 31         | 38           | 124        | 94          |\n",
       "+--------------+-------------+--------------+------------+--------------+------------+-------------+"
      ]
     },
     "execution_count": 33,
     "metadata": {},
     "output_type": "execute_result"
    }
   ],
   "source": [
    "# variation using .select instead of .with_columns\n",
    "# and pl.all() with name.suffix()\n",
    "(\n",
    "    autos\n",
    "    .select(\n",
    "        pl.col('make').cast(pl.Categorical('lexical')),\n",
    "        pl.col('city08'),\n",
    "        pl.col('highway08')\n",
    "    )\n",
    "    .group_by('make')\n",
    "    .agg(\n",
    "        pl.all().mean().name.suffix('_mean'),\n",
    "        pl.all().min().name.suffix('_min'),\n",
    "        pl.all().max().name.suffix('_max')\n",
    "    )\n",
    "    .sort('make')\n",
    ")"
   ]
  },
  {
   "cell_type": "markdown",
   "id": "141cfd93-a7b6-41fe-b500-b8f6a43519d9",
   "metadata": {},
   "source": [
    "---\n",
    "# 4.7 Grouping by Multiple Columns\n",
    "[back to Top](#Top)\n",
    "\n",
    "* We can also group by multiple columns.\n",
    "* Here, we group by the *make* and *year* columns.\n",
    "* We then calculate each group's average *city08* value.\n",
    "* We use `.cast` to convert *make* to an alphabetically ordered category (via the 'lexical' argument)"
   ]
  },
  {
   "cell_type": "code",
   "execution_count": 34,
   "id": "c42414fb-55b3-4762-836e-83c6a94e590b",
   "metadata": {},
   "outputs": [
    {
     "name": "stderr",
     "output_type": "stream",
     "text": [
      "estimated unique values: 2223\n",
      "estimated unique count: 2223 exceeded the boundary: 1000, running default HASH AGGREGATION\n"
     ]
    },
    {
     "data": {
      "text/html": [
       "<div><style>\n",
       ".dataframe > thead > tr,\n",
       ".dataframe > tbody > tr {\n",
       "  text-align: right;\n",
       "  white-space: pre-wrap;\n",
       "}\n",
       "</style>\n",
       "<small>shape: (2_016, 3)</small><table border=\"1\" class=\"dataframe\"><thead><tr><th>make</th><th>year</th><th>mean_city08</th></tr><tr><td>cat</td><td>i16</td><td>f64</td></tr></thead><tbody><tr><td>&quot;AM General&quot;</td><td>1984</td><td>15.5</td></tr><tr><td>&quot;AM General&quot;</td><td>1985</td><td>14.5</td></tr><tr><td>&quot;ASC Incorporated&quot;</td><td>1987</td><td>14.0</td></tr><tr><td>&quot;Acura&quot;</td><td>1986</td><td>20.0</td></tr><tr><td>&quot;Acura&quot;</td><td>1987</td><td>18.833333</td></tr><tr><td>&hellip;</td><td>&hellip;</td><td>&hellip;</td></tr><tr><td>&quot;smart&quot;</td><td>2015</td><td>78.0</td></tr><tr><td>&quot;smart&quot;</td><td>2016</td><td>77.0</td></tr><tr><td>&quot;smart&quot;</td><td>2017</td><td>60.666667</td></tr><tr><td>&quot;smart&quot;</td><td>2018</td><td>118.0</td></tr><tr><td>&quot;smart&quot;</td><td>2019</td><td>118.0</td></tr></tbody></table></div>"
      ],
      "text/plain": [
       "shape: (2_016, 3)\n",
       "+------------------+------+-------------+\n",
       "| make             | year | mean_city08 |\n",
       "| ---              | ---  | ---         |\n",
       "| cat              | i16  | f64         |\n",
       "+=======================================+\n",
       "| AM General       | 1984 | 15.5        |\n",
       "| AM General       | 1985 | 14.5        |\n",
       "| ASC Incorporated | 1987 | 14.0        |\n",
       "| Acura            | 1986 | 20.0        |\n",
       "| Acura            | 1987 | 18.833333   |\n",
       "| …                | …    | …           |\n",
       "| smart            | 2015 | 78.0        |\n",
       "| smart            | 2016 | 77.0        |\n",
       "| smart            | 2017 | 60.666667   |\n",
       "| smart            | 2018 | 118.0       |\n",
       "| smart            | 2019 | 118.0       |\n",
       "+------------------+------+-------------+"
      ]
     },
     "execution_count": 34,
     "metadata": {},
     "output_type": "execute_result"
    }
   ],
   "source": [
    "(\n",
    "    autos\n",
    "    .with_columns(pl.col('make').cast(pl.Categorical('lexical')))\n",
    "    .group_by(['make', 'year'])\n",
    "    .agg(mean_city08=pl.col('city08').mean())\n",
    "    .sort(['make', 'year'])\n",
    ")"
   ]
  },
  {
   "cell_type": "markdown",
   "id": "cf1776a8-8a6f-4680-b367-c11616b03d97",
   "metadata": {},
   "source": [
    "---\n",
    "# 4.8 Pivoting with Multiple Aggregations\n",
    "[back to Top](#Top)\n",
    "\n",
    "\n",
    "* `.pivot()` can only be used with a single aggregation.\n",
    "* If we want to use multiple aggregations, we need to use `.group_by()` and then use `.pivot()` on the result of the groupby.\n",
    "\n",
    "  \n",
    "Here, we calculate the min and max *city08* values by year for the top-3 makes.\n",
    "\n",
    "* First, calculate the top-three makes.\n",
    "* This is akin to Pandas value counts.\n",
    "* Do this by grouping by the *make* column and aggregating with `.len()`.\n",
    "* We need to sort the data by the aggregated column before taking the top-3 rows.\n"
   ]
  },
  {
   "cell_type": "code",
   "execution_count": 35,
   "id": "2f07b04b-90bb-4642-bad3-4848aafd28e6",
   "metadata": {},
   "outputs": [
    {
     "name": "stderr",
     "output_type": "stream",
     "text": [
      "known unique values: 145\n",
      "run PARTITIONED HASH AGGREGATION\n"
     ]
    },
    {
     "data": {
      "text/html": [
       "<div><style>\n",
       ".dataframe > thead > tr,\n",
       ".dataframe > tbody > tr {\n",
       "  text-align: right;\n",
       "  white-space: pre-wrap;\n",
       "}\n",
       "</style>\n",
       "<small>shape: (3, 2)</small><table border=\"1\" class=\"dataframe\"><thead><tr><th>make</th><th>len</th></tr><tr><td>cat</td><td>u32</td></tr></thead><tbody><tr><td>&quot;Chevrolet&quot;</td><td>4472</td></tr><tr><td>&quot;Ford&quot;</td><td>3834</td></tr><tr><td>&quot;GMC&quot;</td><td>2823</td></tr></tbody></table></div>"
      ],
      "text/plain": [
       "shape: (3, 2)\n",
       "+-----------+------+\n",
       "| make      | len  |\n",
       "| ---       | ---  |\n",
       "| cat       | u32  |\n",
       "+==================+\n",
       "| Chevrolet | 4472 |\n",
       "| Ford      | 3834 |\n",
       "| GMC       | 2823 |\n",
       "+-----------+------+"
      ]
     },
     "execution_count": 35,
     "metadata": {},
     "output_type": "execute_result"
    }
   ],
   "source": [
    "# equivalent to Pandas .value_counts\n",
    "top3 = (\n",
    "    autos\n",
    "    .group_by('make')\n",
    "    .len()\n",
    "    .sort(by=['len'], descending=True)\n",
    "    .head(3)\n",
    ")\n",
    "top3"
   ]
  },
  {
   "cell_type": "code",
   "execution_count": 36,
   "id": "edbc6f15-cd80-493f-af8d-df8fc303f75c",
   "metadata": {},
   "outputs": [
    {
     "data": {
      "text/plain": [
       "make\n",
       "Chevrolet    4472\n",
       "Ford         3834\n",
       "GMC          2823\n",
       "Name: count, dtype: int64"
      ]
     },
     "execution_count": 36,
     "metadata": {},
     "output_type": "execute_result"
    }
   ],
   "source": [
    "# Pandas version with value_counts()\n",
    "autos_pandas = autos.to_pandas()\n",
    "autos_pandas['make'].value_counts(ascending=False).head(3)"
   ]
  },
  {
   "cell_type": "markdown",
   "id": "2553e93b-82a7-4fb3-bc88-570ec1adb4b9",
   "metadata": {},
   "source": [
    "---\n",
    "Now, we can do the groupby operation."
   ]
  },
  {
   "cell_type": "code",
   "execution_count": 37,
   "id": "f60bccf3-d83a-4198-b893-89abc135a493",
   "metadata": {},
   "outputs": [
    {
     "name": "stderr",
     "output_type": "stream",
     "text": [
      "dataframe filtered\n",
      "keys/aggregates are not partitionable: running default HASH AGGREGATION\n"
     ]
    },
    {
     "data": {
      "text/html": [
       "<div><style>\n",
       ".dataframe > thead > tr,\n",
       ".dataframe > tbody > tr {\n",
       "  text-align: right;\n",
       "  white-space: pre-wrap;\n",
       "}\n",
       "</style>\n",
       "<small>shape: (126, 5)</small><table border=\"1\" class=\"dataframe\"><thead><tr><th>year</th><th>make</th><th>src_city08</th><th>min_city08</th><th>max_city08</th></tr><tr><td>i16</td><td>cat</td><td>list[u8]</td><td>u8</td><td>u8</td></tr></thead><tbody><tr><td>1984</td><td>&quot;Chevrolet&quot;</td><td>[10, 10, … 33]</td><td>10</td><td>33</td></tr><tr><td>1984</td><td>&quot;Ford&quot;</td><td>[9, 9, … 35]</td><td>9</td><td>35</td></tr><tr><td>1984</td><td>&quot;GMC&quot;</td><td>[10, 10, … 26]</td><td>10</td><td>26</td></tr><tr><td>1985</td><td>&quot;Chevrolet&quot;</td><td>[9, 10, … 39]</td><td>9</td><td>39</td></tr><tr><td>1985</td><td>&quot;Ford&quot;</td><td>[9, 10, … 36]</td><td>9</td><td>36</td></tr><tr><td>&hellip;</td><td>&hellip;</td><td>&hellip;</td><td>&hellip;</td><td>&hellip;</td></tr><tr><td>2024</td><td>&quot;Ford&quot;</td><td>[10, 14, … 111]</td><td>10</td><td>111</td></tr><tr><td>2024</td><td>&quot;GMC&quot;</td><td>[14, 14, … 59]</td><td>14</td><td>59</td></tr><tr><td>2025</td><td>&quot;Chevrolet&quot;</td><td>[12, 12, … 102]</td><td>12</td><td>102</td></tr><tr><td>2025</td><td>&quot;Ford&quot;</td><td>[18, 18, … 42]</td><td>18</td><td>42</td></tr><tr><td>2025</td><td>&quot;GMC&quot;</td><td>[14, 14, … 59]</td><td>14</td><td>59</td></tr></tbody></table></div>"
      ],
      "text/plain": [
       "shape: (126, 5)\n",
       "+------+-----------+-----------------+------------+------------+\n",
       "| year | make      | src_city08      | min_city08 | max_city08 |\n",
       "| ---  | ---       | ---             | ---        | ---        |\n",
       "| i16  | cat       | list[u8]        | u8         | u8         |\n",
       "+==============================================================+\n",
       "| 1984 | Chevrolet | [10, 10, … 33]  | 10         | 33         |\n",
       "| 1984 | Ford      | [9, 9, … 35]    | 9          | 35         |\n",
       "| 1984 | GMC       | [10, 10, … 26]  | 10         | 26         |\n",
       "| 1985 | Chevrolet | [9, 10, … 39]   | 9          | 39         |\n",
       "| 1985 | Ford      | [9, 10, … 36]   | 9          | 36         |\n",
       "| …    | …         | …               | …          | …          |\n",
       "| 2024 | Ford      | [10, 14, … 111] | 10         | 111        |\n",
       "| 2024 | GMC       | [14, 14, … 59]  | 14         | 59         |\n",
       "| 2025 | Chevrolet | [12, 12, … 102] | 12         | 102        |\n",
       "| 2025 | Ford      | [18, 18, … 42]  | 18         | 42         |\n",
       "| 2025 | GMC       | [14, 14, … 59]  | 14         | 59         |\n",
       "+------+-----------+-----------------+------------+------------+"
      ]
     },
     "execution_count": 37,
     "metadata": {},
     "output_type": "execute_result"
    }
   ],
   "source": [
    "(\n",
    "    autos\n",
    "    .filter(pl.col('make').is_in(top3['make']))\n",
    "    .group_by(['year', 'make'])\n",
    "    .agg(\n",
    "        src_city08=pl.col('city08').sort(),\n",
    "        min_city08=pl.col('city08').min(),\n",
    "        max_city08=pl.col('city08').max(),\n",
    "    )\n",
    "    .sort(['year', 'make'])\n",
    ")"
   ]
  },
  {
   "cell_type": "markdown",
   "id": "25040d4f-5054-44ae-88a4-72d05951c264",
   "metadata": {},
   "source": [
    "If we want the *make* column to be pulled into the columns, we can use `.pivot()`."
   ]
  },
  {
   "cell_type": "code",
   "execution_count": 38,
   "id": "bdfc2327-2d82-435a-968f-ae5d28c39c33",
   "metadata": {},
   "outputs": [
    {
     "name": "stdout",
     "output_type": "stream",
     "text": [
      "<class 'polars.dataframe.frame.DataFrame'>\n",
      "<class 'polars.series.series.Series'>\n"
     ]
    }
   ],
   "source": [
    "print(type(top3))\n",
    "print(type(top3['make']))"
   ]
  },
  {
   "cell_type": "code",
   "execution_count": 39,
   "id": "4577230b-42b2-4880-99e1-1e156976313e",
   "metadata": {},
   "outputs": [
    {
     "name": "stderr",
     "output_type": "stream",
     "text": [
      "dataframe filtered\n",
      "estimated unique values: 5\n",
      "run PARTITIONED HASH AGGREGATION\n"
     ]
    },
    {
     "data": {
      "text/html": [
       "<div><style>\n",
       ".dataframe > thead > tr,\n",
       ".dataframe > tbody > tr {\n",
       "  text-align: right;\n",
       "  white-space: pre-wrap;\n",
       "}\n",
       "</style>\n",
       "<small>shape: (126, 4)</small><table border=\"1\" class=\"dataframe\"><thead><tr><th>year</th><th>make</th><th>min_city08</th><th>max_city08</th></tr><tr><td>i16</td><td>cat</td><td>u8</td><td>u8</td></tr></thead><tbody><tr><td>1984</td><td>&quot;Chevrolet&quot;</td><td>10</td><td>33</td></tr><tr><td>1984</td><td>&quot;Ford&quot;</td><td>9</td><td>35</td></tr><tr><td>1984</td><td>&quot;GMC&quot;</td><td>10</td><td>26</td></tr><tr><td>1985</td><td>&quot;Chevrolet&quot;</td><td>9</td><td>39</td></tr><tr><td>1985</td><td>&quot;Ford&quot;</td><td>9</td><td>36</td></tr><tr><td>&hellip;</td><td>&hellip;</td><td>&hellip;</td><td>&hellip;</td></tr><tr><td>2024</td><td>&quot;Ford&quot;</td><td>10</td><td>111</td></tr><tr><td>2024</td><td>&quot;GMC&quot;</td><td>14</td><td>59</td></tr><tr><td>2025</td><td>&quot;Chevrolet&quot;</td><td>12</td><td>102</td></tr><tr><td>2025</td><td>&quot;Ford&quot;</td><td>18</td><td>42</td></tr><tr><td>2025</td><td>&quot;GMC&quot;</td><td>14</td><td>59</td></tr></tbody></table></div>"
      ],
      "text/plain": [
       "shape: (126, 4)\n",
       "+------+-----------+------------+------------+\n",
       "| year | make      | min_city08 | max_city08 |\n",
       "| ---  | ---       | ---        | ---        |\n",
       "| i16  | cat       | u8         | u8         |\n",
       "+============================================+\n",
       "| 1984 | Chevrolet | 10         | 33         |\n",
       "| 1984 | Ford      | 9          | 35         |\n",
       "| 1984 | GMC       | 10         | 26         |\n",
       "| 1985 | Chevrolet | 9          | 39         |\n",
       "| 1985 | Ford      | 9          | 36         |\n",
       "| …    | …         | …          | …          |\n",
       "| 2024 | Ford      | 10         | 111        |\n",
       "| 2024 | GMC       | 14         | 59         |\n",
       "| 2025 | Chevrolet | 12         | 102        |\n",
       "| 2025 | Ford      | 18         | 42         |\n",
       "| 2025 | GMC       | 14         | 59         |\n",
       "+------+-----------+------------+------------+"
      ]
     },
     "execution_count": 39,
     "metadata": {},
     "output_type": "execute_result"
    }
   ],
   "source": [
    "(\n",
    "    autos\n",
    "    .filter(pl.col('make').is_in(top3['make']))\n",
    "    .group_by(['year', 'make'])\n",
    "    .agg(\n",
    "        min_city08=pl.col('city08').min(),\n",
    "        max_city08=pl.col('city08').max(),\n",
    "    )\n",
    "    .sort(['year', 'make'])\n",
    ")"
   ]
  },
  {
   "cell_type": "code",
   "execution_count": 40,
   "id": "912f0bc5-7b16-4947-b696-7258b0f46314",
   "metadata": {},
   "outputs": [
    {
     "name": "stderr",
     "output_type": "stream",
     "text": [
      "dataframe filtered\n",
      "estimated unique values: 5\n",
      "run PARTITIONED HASH AGGREGATION\n"
     ]
    },
    {
     "data": {
      "text/html": [
       "<div><style>\n",
       ".dataframe > thead > tr,\n",
       ".dataframe > tbody > tr {\n",
       "  text-align: right;\n",
       "  white-space: pre-wrap;\n",
       "}\n",
       "</style>\n",
       "<small>shape: (42, 7)</small><table border=\"1\" class=\"dataframe\"><thead><tr><th>year</th><th>min_city08_Chevrolet</th><th>min_city08_Ford</th><th>min_city08_GMC</th><th>max_city08_Chevrolet</th><th>max_city08_Ford</th><th>max_city08_GMC</th></tr><tr><td>i16</td><td>u8</td><td>u8</td><td>u8</td><td>u8</td><td>u8</td><td>u8</td></tr></thead><tbody><tr><td>1984</td><td>10</td><td>9</td><td>10</td><td>33</td><td>35</td><td>26</td></tr><tr><td>1985</td><td>9</td><td>9</td><td>9</td><td>39</td><td>36</td><td>26</td></tr><tr><td>1986</td><td>9</td><td>10</td><td>9</td><td>44</td><td>34</td><td>21</td></tr><tr><td>1987</td><td>11</td><td>10</td><td>11</td><td>44</td><td>31</td><td>20</td></tr><tr><td>1988</td><td>11</td><td>10</td><td>11</td><td>44</td><td>33</td><td>21</td></tr><tr><td>&hellip;</td><td>&hellip;</td><td>&hellip;</td><td>&hellip;</td><td>&hellip;</td><td>&hellip;</td><td>&hellip;</td></tr><tr><td>2021</td><td>13</td><td>12</td><td>13</td><td>127</td><td>108</td><td>25</td></tr><tr><td>2022</td><td>13</td><td>12</td><td>13</td><td>131</td><td>110</td><td>25</td></tr><tr><td>2023</td><td>12</td><td>10</td><td>14</td><td>131</td><td>110</td><td>24</td></tr><tr><td>2024</td><td>12</td><td>10</td><td>14</td><td>117</td><td>111</td><td>59</td></tr><tr><td>2025</td><td>12</td><td>18</td><td>14</td><td>102</td><td>42</td><td>59</td></tr></tbody></table></div>"
      ],
      "text/plain": [
       "shape: (42, 7)\n",
       "+------+---------------+---------------+--------------+--------------+--------------+--------------+\n",
       "| year | min_city08_Ch | min_city08_Fo | min_city08_G | max_city08_C | max_city08_F | max_city08_G |\n",
       "| ---  | evrolet       | rd            | MC           | hevrolet     | ord          | MC           |\n",
       "| i16  | ---           | ---           | ---          | ---          | ---          | ---          |\n",
       "|      | u8            | u8            | u8           | u8           | u8           | u8           |\n",
       "+==================================================================================================+\n",
       "| 1984 | 10            | 9             | 10           | 33           | 35           | 26           |\n",
       "| 1985 | 9             | 9             | 9            | 39           | 36           | 26           |\n",
       "| 1986 | 9             | 10            | 9            | 44           | 34           | 21           |\n",
       "| 1987 | 11            | 10            | 11           | 44           | 31           | 20           |\n",
       "| 1988 | 11            | 10            | 11           | 44           | 33           | 21           |\n",
       "| …    | …             | …             | …            | …            | …            | …            |\n",
       "| 2021 | 13            | 12            | 13           | 127          | 108          | 25           |\n",
       "| 2022 | 13            | 12            | 13           | 131          | 110          | 25           |\n",
       "| 2023 | 12            | 10            | 14           | 131          | 110          | 24           |\n",
       "| 2024 | 12            | 10            | 14           | 117          | 111          | 59           |\n",
       "| 2025 | 12            | 18            | 14           | 102          | 42           | 59           |\n",
       "+------+---------------+---------------+--------------+--------------+--------------+--------------+"
      ]
     },
     "execution_count": 40,
     "metadata": {},
     "output_type": "execute_result"
    }
   ],
   "source": [
    "(\n",
    "    autos\n",
    "    .filter(pl.col('make').is_in(top3['make']))\n",
    "    .group_by(['year', 'make'])\n",
    "    .agg(\n",
    "        min_city08=pl.col('city08').min(),\n",
    "        max_city08=pl.col('city08').max(),\n",
    "    )\n",
    "    .sort(['year', 'make'])\n",
    "    .pivot(\n",
    "        index='year',\n",
    "        on='make',\n",
    "        values=['min_city08', 'max_city08']\n",
    "    )\n",
    ")"
   ]
  },
  {
   "cell_type": "markdown",
   "id": "43f21112-7920-4754-a96f-8090f3133ac7",
   "metadata": {},
   "source": [
    "---\n",
    "Using Pandas for plotting."
   ]
  },
  {
   "cell_type": "code",
   "execution_count": 41,
   "id": "b3202273-96fc-4eb9-aa86-f66eb0b2a335",
   "metadata": {},
   "outputs": [
    {
     "name": "stderr",
     "output_type": "stream",
     "text": [
      "dataframe filtered\n",
      "estimated unique values: 5\n",
      "run PARTITIONED HASH AGGREGATION\n"
     ]
    },
    {
     "data": {
      "image/png": "[encoded data removed]",
      "text/plain": [
       "<Figure size 640x480 with 1 Axes>"
      ]
     },
     "metadata": {
      "image/png": {
       "height": 432,
       "width": 552
      }
     },
     "output_type": "display_data"
    }
   ],
   "source": [
    "import matplotlib.pyplot as plt\n",
    "\n",
    "%matplotlib inline\n",
    "\n",
    "fig, ax = plt.subplots()\n",
    "\n",
    "(\n",
    "    autos\n",
    "    .filter(pl.col('make').is_in(top3['make']))\n",
    "    .group_by(['year', 'make'])\n",
    "    .agg(\n",
    "        min_city08=pl.col('city08').min(),\n",
    "        max_city08=pl.col('city08').max(),\n",
    "    )\n",
    "    .sort(['year', 'make'])\n",
    "    .pivot(\n",
    "        index='year',\n",
    "        on='make',\n",
    "        values=['min_city08', 'max_city08']\n",
    "    )\n",
    "    .to_pandas()\n",
    "    .set_index('year')\n",
    "    .plot(\n",
    "        ax=ax,\n",
    "        color=['#55c667', '#2f8738', '#2c4279', '#141f38', '#d4e116', '#afba12']\n",
    "    )\n",
    ")\n",
    "plt.show()"
   ]
  },
  {
   "cell_type": "markdown",
   "id": "d7598d62-df36-4084-b15a-43e533511ec8",
   "metadata": {},
   "source": [
    "---\n",
    "Using hvplot to plot in Polars."
   ]
  },
  {
   "cell_type": "code",
   "execution_count": 42,
   "id": "dafb2671-f823-4579-ad4c-3cde967ce05c",
   "metadata": {},
   "outputs": [
    {
     "data": {
      "application/javascript": [
       "(function(root) {\n",
       "  function now() {\n",
       "    return new Date();\n",
       "  }\n",
       "\n",
       "  var force = true;\n",
       "  var py_version = '3.4.3'.replace('rc', '-rc.').replace('.dev', '-dev.');\n",
       "  var reloading = false;\n",
       "  var Bokeh = root.Bokeh;\n",
       "\n",
       "  if (typeof (root._bokeh_timeout) === \"undefined\" || force) {\n",
       "    root._bokeh_timeout = Date.now() + 5000;\n",
       "    root._bokeh_failed_load = false;\n",
       "  }\n",
       "\n",
       "  function run_callbacks() {\n",
       "    try {\n",
       "      root._bokeh_onload_callbacks.forEach(function(callback) {\n",
       "        if (callback != null)\n",
       "          callback();\n",
       "      });\n",
       "    } finally {\n",
       "      delete root._bokeh_onload_callbacks;\n",
       "    }\n",
       "    console.debug(\"Bokeh: all callbacks have finished\");\n",
       "  }\n",
       "\n",
       "  function load_libs(css_urls, js_urls, js_modules, js_exports, callback) {\n",
       "    if (css_urls == null) css_urls = [];\n",
       "    if (js_urls == null) js_urls = [];\n",
       "    if (js_modules == null) js_modules = [];\n",
       "    if (js_exports == null) js_exports = {};\n",
       "\n",
       "    root._bokeh_onload_callbacks.push(callback);\n",
       "\n",
       "    if (root._bokeh_is_loading > 0) {\n",
       "      console.debug(\"Bokeh: BokehJS is being loaded, scheduling callback at\", now());\n",
       "      return null;\n",
       "    }\n",
       "    if (js_urls.length === 0 && js_modules.length === 0 && Object.keys(js_exports).length === 0) {\n",
       "      run_callbacks();\n",
       "      return null;\n",
       "    }\n",
       "    if (!reloading) {\n",
       "      console.debug(\"Bokeh: BokehJS not loaded, scheduling load and callback at\", now());\n",
       "    }\n",
       "\n",
       "    function on_load() {\n",
       "      root._bokeh_is_loading--;\n",
       "      if (root._bokeh_is_loading === 0) {\n",
       "        console.debug(\"Bokeh: all BokehJS libraries/stylesheets loaded\");\n",
       "        run_callbacks()\n",
       "      }\n",
       "    }\n",
       "    window._bokeh_on_load = on_load\n",
       "\n",
       "    function on_error() {\n",
       "      console.error(\"failed to load \" + url);\n",
       "    }\n",
       "\n",
       "    var skip = [];\n",
       "    if (window.requirejs) {\n",
       "      window.requirejs.config({'packages': {}, 'paths': {}, 'shim': {}});\n",
       "      root._bokeh_is_loading = css_urls.length + 0;\n",
       "    } else {\n",
       "      root._bokeh_is_loading = css_urls.length + js_urls.length + js_modules.length + Object.keys(js_exports).length;\n",
       "    }\n",
       "\n",
       "    var existing_stylesheets = []\n",
       "    var links = document.getElementsByTagName('link')\n",
       "    for (var i = 0; i < links.length; i++) {\n",
       "      var link = links[i]\n",
       "      if (link.href != null) {\n",
       "\texisting_stylesheets.push(link.href)\n",
       "      }\n",
       "    }\n",
       "    for (var i = 0; i < css_urls.length; i++) {\n",
       "      var url = css_urls[i];\n",
       "      if (existing_stylesheets.indexOf(url) !== -1) {\n",
       "\ton_load()\n",
       "\tcontinue;\n",
       "      }\n",
       "      const element = document.createElement(\"link\");\n",
       "      element.onload = on_load;\n",
       "      element.onerror = on_error;\n",
       "      element.rel = \"stylesheet\";\n",
       "      element.type = \"text/css\";\n",
       "      element.href = url;\n",
       "      console.debug(\"Bokeh: injecting link tag for BokehJS stylesheet: \", url);\n",
       "      document.body.appendChild(element);\n",
       "    }    var existing_scripts = []\n",
       "    var scripts = document.getElementsByTagName('script')\n",
       "    for (var i = 0; i < scripts.length; i++) {\n",
       "      var script = scripts[i]\n",
       "      if (script.src != null) {\n",
       "\texisting_scripts.push(script.src)\n",
       "      }\n",
       "    }\n",
       "    for (var i = 0; i < js_urls.length; i++) {\n",
       "      var url = js_urls[i];\n",
       "      if (skip.indexOf(url) !== -1 || existing_scripts.indexOf(url) !== -1) {\n",
       "\tif (!window.requirejs) {\n",
       "\t  on_load();\n",
       "\t}\n",
       "\tcontinue;\n",
       "      }\n",
       "      var element = document.createElement('script');\n",
       "      element.onload = on_load;\n",
       "      element.onerror = on_error;\n",
       "      element.async = false;\n",
       "      element.src = url;\n",
       "      console.debug(\"Bokeh: injecting script tag for BokehJS library: \", url);\n",
       "      document.head.appendChild(element);\n",
       "    }\n",
       "    for (var i = 0; i < js_modules.length; i++) {\n",
       "      var url = js_modules[i];\n",
       "      if (skip.indexOf(url) !== -1 || existing_scripts.indexOf(url) !== -1) {\n",
       "\tif (!window.requirejs) {\n",
       "\t  on_load();\n",
       "\t}\n",
       "\tcontinue;\n",
       "      }\n",
       "      var element = document.createElement('script');\n",
       "      element.onload = on_load;\n",
       "      element.onerror = on_error;\n",
       "      element.async = false;\n",
       "      element.src = url;\n",
       "      element.type = \"module\";\n",
       "      console.debug(\"Bokeh: injecting script tag for BokehJS library: \", url);\n",
       "      document.head.appendChild(element);\n",
       "    }\n",
       "    for (const name in js_exports) {\n",
       "      var url = js_exports[name];\n",
       "      if (skip.indexOf(url) >= 0 || root[name] != null) {\n",
       "\tif (!window.requirejs) {\n",
       "\t  on_load();\n",
       "\t}\n",
       "\tcontinue;\n",
       "      }\n",
       "      var element = document.createElement('script');\n",
       "      element.onerror = on_error;\n",
       "      element.async = false;\n",
       "      element.type = \"module\";\n",
       "      console.debug(\"Bokeh: injecting script tag for BokehJS library: \", url);\n",
       "      element.textContent = `\n",
       "      import ${name} from \"${url}\"\n",
       "      window.${name} = ${name}\n",
       "      window._bokeh_on_load()\n",
       "      `\n",
       "      document.head.appendChild(element);\n",
       "    }\n",
       "    if (!js_urls.length && !js_modules.length) {\n",
       "      on_load()\n",
       "    }\n",
       "  };\n",
       "\n",
       "  function inject_raw_css(css) {\n",
       "    const element = document.createElement(\"style\");\n",
       "    element.appendChild(document.createTextNode(css));\n",
       "    document.body.appendChild(element);\n",
       "  }\n",
       "\n",
       "  var js_urls = [\"https://cdn.bokeh.org/bokeh/release/bokeh-3.4.3.min.js\", \"https://cdn.bokeh.org/bokeh/release/bokeh-gl-3.4.3.min.js\", \"https://cdn.bokeh.org/bokeh/release/bokeh-widgets-3.4.3.min.js\", \"https://cdn.bokeh.org/bokeh/release/bokeh-tables-3.4.3.min.js\", \"https://cdn.holoviz.org/panel/1.4.5/dist/panel.min.js\"];\n",
       "  var js_modules = [];\n",
       "  var js_exports = {};\n",
       "  var css_urls = [];\n",
       "  var inline_js = [    function(Bokeh) {\n",
       "      Bokeh.set_log_level(\"info\");\n",
       "    },\n",
       "function(Bokeh) {} // ensure no trailing comma for IE\n",
       "  ];\n",
       "\n",
       "  function run_inline_js() {\n",
       "    if ((root.Bokeh !== undefined) || (force === true)) {\n",
       "      for (var i = 0; i < inline_js.length; i++) {\n",
       "\ttry {\n",
       "          inline_js[i].call(root, root.Bokeh);\n",
       "\t} catch(e) {\n",
       "\t  if (!reloading) {\n",
       "\t    throw e;\n",
       "\t  }\n",
       "\t}\n",
       "      }\n",
       "      // Cache old bokeh versions\n",
       "      if (Bokeh != undefined && !reloading) {\n",
       "\tvar NewBokeh = root.Bokeh;\n",
       "\tif (Bokeh.versions === undefined) {\n",
       "\t  Bokeh.versions = new Map();\n",
       "\t}\n",
       "\tif (NewBokeh.version !== Bokeh.version) {\n",
       "\t  Bokeh.versions.set(NewBokeh.version, NewBokeh)\n",
       "\t}\n",
       "\troot.Bokeh = Bokeh;\n",
       "      }} else if (Date.now() < root._bokeh_timeout) {\n",
       "      setTimeout(run_inline_js, 100);\n",
       "    } else if (!root._bokeh_failed_load) {\n",
       "      console.log(\"Bokeh: BokehJS failed to load within specified timeout.\");\n",
       "      root._bokeh_failed_load = true;\n",
       "    }\n",
       "    root._bokeh_is_initializing = false\n",
       "  }\n",
       "\n",
       "  function load_or_wait() {\n",
       "    // Implement a backoff loop that tries to ensure we do not load multiple\n",
       "    // versions of Bokeh and its dependencies at the same time.\n",
       "    // In recent versions we use the root._bokeh_is_initializing flag\n",
       "    // to determine whether there is an ongoing attempt to initialize\n",
       "    // bokeh, however for backward compatibility we also try to ensure\n",
       "    // that we do not start loading a newer (Panel>=1.0 and Bokeh>3) version\n",
       "    // before older versions are fully initialized.\n",
       "    if (root._bokeh_is_initializing && Date.now() > root._bokeh_timeout) {\n",
       "      root._bokeh_is_initializing = false;\n",
       "      root._bokeh_onload_callbacks = undefined;\n",
       "      console.log(\"Bokeh: BokehJS was loaded multiple times but one version failed to initialize.\");\n",
       "      load_or_wait();\n",
       "    } else if (root._bokeh_is_initializing || (typeof root._bokeh_is_initializing === \"undefined\" && root._bokeh_onload_callbacks !== undefined)) {\n",
       "      setTimeout(load_or_wait, 100);\n",
       "    } else {\n",
       "      root._bokeh_is_initializing = true\n",
       "      root._bokeh_onload_callbacks = []\n",
       "      var bokeh_loaded = Bokeh != null && (Bokeh.version === py_version || (Bokeh.versions !== undefined && Bokeh.versions.has(py_version)));\n",
       "      if (!reloading && !bokeh_loaded) {\n",
       "\troot.Bokeh = undefined;\n",
       "      }\n",
       "      load_libs(css_urls, js_urls, js_modules, js_exports, function() {\n",
       "\tconsole.debug(\"Bokeh: BokehJS plotting callback run at\", now());\n",
       "\trun_inline_js();\n",
       "      });\n",
       "    }\n",
       "  }\n",
       "  // Give older versions of the autoload script a head-start to ensure\n",
       "  // they initialize before we start loading newer version.\n",
       "  setTimeout(load_or_wait, 100)\n",
       "}(window));"
      ],
      "application/vnd.holoviews_load.v0+json": "(function(root) {\n  function now() {\n    return new Date();\n  }\n\n  var force = true;\n  var py_version = '3.4.3'.replace('rc', '-rc.').replace('.dev', '-dev.');\n  var reloading = false;\n  var Bokeh = root.Bokeh;\n\n  if (typeof (root._bokeh_timeout) === \"undefined\" || force) {\n    root._bokeh_timeout = Date.now() + 5000;\n    root._bokeh_failed_load = false;\n  }\n\n  function run_callbacks() {\n    try {\n      root._bokeh_onload_callbacks.forEach(function(callback) {\n        if (callback != null)\n          callback();\n      });\n    } finally {\n      delete root._bokeh_onload_callbacks;\n    }\n    console.debug(\"Bokeh: all callbacks have finished\");\n  }\n\n  function load_libs(css_urls, js_urls, js_modules, js_exports, callback) {\n    if (css_urls == null) css_urls = [];\n    if (js_urls == null) js_urls = [];\n    if (js_modules == null) js_modules = [];\n    if (js_exports == null) js_exports = {};\n\n    root._bokeh_onload_callbacks.push(callback);\n\n    if (root._bokeh_is_loading > 0) {\n      console.debug(\"Bokeh: BokehJS is being loaded, scheduling callback at\", now());\n      return null;\n    }\n    if (js_urls.length === 0 && js_modules.length === 0 && Object.keys(js_exports).length === 0) {\n      run_callbacks();\n      return null;\n    }\n    if (!reloading) {\n      console.debug(\"Bokeh: BokehJS not loaded, scheduling load and callback at\", now());\n    }\n\n    function on_load() {\n      root._bokeh_is_loading--;\n      if (root._bokeh_is_loading === 0) {\n        console.debug(\"Bokeh: all BokehJS libraries/stylesheets loaded\");\n        run_callbacks()\n      }\n    }\n    window._bokeh_on_load = on_load\n\n    function on_error() {\n      console.error(\"failed to load \" + url);\n    }\n\n    var skip = [];\n    if (window.requirejs) {\n      window.requirejs.config({'packages': {}, 'paths': {}, 'shim': {}});\n      root._bokeh_is_loading = css_urls.length + 0;\n    } else {\n      root._bokeh_is_loading = css_urls.length + js_urls.length + js_modules.length + Object.keys(js_exports).length;\n    }\n\n    var existing_stylesheets = []\n    var links = document.getElementsByTagName('link')\n    for (var i = 0; i < links.length; i++) {\n      var link = links[i]\n      if (link.href != null) {\n\texisting_stylesheets.push(link.href)\n      }\n    }\n    for (var i = 0; i < css_urls.length; i++) {\n      var url = css_urls[i];\n      if (existing_stylesheets.indexOf(url) !== -1) {\n\ton_load()\n\tcontinue;\n      }\n      const element = document.createElement(\"link\");\n      element.onload = on_load;\n      element.onerror = on_error;\n      element.rel = \"stylesheet\";\n      element.type = \"text/css\";\n      element.href = url;\n      console.debug(\"Bokeh: injecting link tag for BokehJS stylesheet: \", url);\n      document.body.appendChild(element);\n    }    var existing_scripts = []\n    var scripts = document.getElementsByTagName('script')\n    for (var i = 0; i < scripts.length; i++) {\n      var script = scripts[i]\n      if (script.src != null) {\n\texisting_scripts.push(script.src)\n      }\n    }\n    for (var i = 0; i < js_urls.length; i++) {\n      var url = js_urls[i];\n      if (skip.indexOf(url) !== -1 || existing_scripts.indexOf(url) !== -1) {\n\tif (!window.requirejs) {\n\t  on_load();\n\t}\n\tcontinue;\n      }\n      var element = document.createElement('script');\n      element.onload = on_load;\n      element.onerror = on_error;\n      element.async = false;\n      element.src = url;\n      console.debug(\"Bokeh: injecting script tag for BokehJS library: \", url);\n      document.head.appendChild(element);\n    }\n    for (var i = 0; i < js_modules.length; i++) {\n      var url = js_modules[i];\n      if (skip.indexOf(url) !== -1 || existing_scripts.indexOf(url) !== -1) {\n\tif (!window.requirejs) {\n\t  on_load();\n\t}\n\tcontinue;\n      }\n      var element = document.createElement('script');\n      element.onload = on_load;\n      element.onerror = on_error;\n      element.async = false;\n      element.src = url;\n      element.type = \"module\";\n      console.debug(\"Bokeh: injecting script tag for BokehJS library: \", url);\n      document.head.appendChild(element);\n    }\n    for (const name in js_exports) {\n      var url = js_exports[name];\n      if (skip.indexOf(url) >= 0 || root[name] != null) {\n\tif (!window.requirejs) {\n\t  on_load();\n\t}\n\tcontinue;\n      }\n      var element = document.createElement('script');\n      element.onerror = on_error;\n      element.async = false;\n      element.type = \"module\";\n      console.debug(\"Bokeh: injecting script tag for BokehJS library: \", url);\n      element.textContent = `\n      import ${name} from \"${url}\"\n      window.${name} = ${name}\n      window._bokeh_on_load()\n      `\n      document.head.appendChild(element);\n    }\n    if (!js_urls.length && !js_modules.length) {\n      on_load()\n    }\n  };\n\n  function inject_raw_css(css) {\n    const element = document.createElement(\"style\");\n    element.appendChild(document.createTextNode(css));\n    document.body.appendChild(element);\n  }\n\n  var js_urls = [\"https://cdn.bokeh.org/bokeh/release/bokeh-3.4.3.min.js\", \"https://cdn.bokeh.org/bokeh/release/bokeh-gl-3.4.3.min.js\", \"https://cdn.bokeh.org/bokeh/release/bokeh-widgets-3.4.3.min.js\", \"https://cdn.bokeh.org/bokeh/release/bokeh-tables-3.4.3.min.js\", \"https://cdn.holoviz.org/panel/1.4.5/dist/panel.min.js\"];\n  var js_modules = [];\n  var js_exports = {};\n  var css_urls = [];\n  var inline_js = [    function(Bokeh) {\n      Bokeh.set_log_level(\"info\");\n    },\nfunction(Bokeh) {} // ensure no trailing comma for IE\n  ];\n\n  function run_inline_js() {\n    if ((root.Bokeh !== undefined) || (force === true)) {\n      for (var i = 0; i < inline_js.length; i++) {\n\ttry {\n          inline_js[i].call(root, root.Bokeh);\n\t} catch(e) {\n\t  if (!reloading) {\n\t    throw e;\n\t  }\n\t}\n      }\n      // Cache old bokeh versions\n      if (Bokeh != undefined && !reloading) {\n\tvar NewBokeh = root.Bokeh;\n\tif (Bokeh.versions === undefined) {\n\t  Bokeh.versions = new Map();\n\t}\n\tif (NewBokeh.version !== Bokeh.version) {\n\t  Bokeh.versions.set(NewBokeh.version, NewBokeh)\n\t}\n\troot.Bokeh = Bokeh;\n      }} else if (Date.now() < root._bokeh_timeout) {\n      setTimeout(run_inline_js, 100);\n    } else if (!root._bokeh_failed_load) {\n      console.log(\"Bokeh: BokehJS failed to load within specified timeout.\");\n      root._bokeh_failed_load = true;\n    }\n    root._bokeh_is_initializing = false\n  }\n\n  function load_or_wait() {\n    // Implement a backoff loop that tries to ensure we do not load multiple\n    // versions of Bokeh and its dependencies at the same time.\n    // In recent versions we use the root._bokeh_is_initializing flag\n    // to determine whether there is an ongoing attempt to initialize\n    // bokeh, however for backward compatibility we also try to ensure\n    // that we do not start loading a newer (Panel>=1.0 and Bokeh>3) version\n    // before older versions are fully initialized.\n    if (root._bokeh_is_initializing && Date.now() > root._bokeh_timeout) {\n      root._bokeh_is_initializing = false;\n      root._bokeh_onload_callbacks = undefined;\n      console.log(\"Bokeh: BokehJS was loaded multiple times but one version failed to initialize.\");\n      load_or_wait();\n    } else if (root._bokeh_is_initializing || (typeof root._bokeh_is_initializing === \"undefined\" && root._bokeh_onload_callbacks !== undefined)) {\n      setTimeout(load_or_wait, 100);\n    } else {\n      root._bokeh_is_initializing = true\n      root._bokeh_onload_callbacks = []\n      var bokeh_loaded = Bokeh != null && (Bokeh.version === py_version || (Bokeh.versions !== undefined && Bokeh.versions.has(py_version)));\n      if (!reloading && !bokeh_loaded) {\n\troot.Bokeh = undefined;\n      }\n      load_libs(css_urls, js_urls, js_modules, js_exports, function() {\n\tconsole.debug(\"Bokeh: BokehJS plotting callback run at\", now());\n\trun_inline_js();\n      });\n    }\n  }\n  // Give older versions of the autoload script a head-start to ensure\n  // they initialize before we start loading newer version.\n  setTimeout(load_or_wait, 100)\n}(window));"
     },
     "metadata": {},
     "output_type": "display_data"
    },
    {
     "data": {
      "application/javascript": [
       "\n",
       "if ((window.PyViz === undefined) || (window.PyViz instanceof HTMLElement)) {\n",
       "  window.PyViz = {comms: {}, comm_status:{}, kernels:{}, receivers: {}, plot_index: []}\n",
       "}\n",
       "\n",
       "\n",
       "    function JupyterCommManager() {\n",
       "    }\n",
       "\n",
       "    JupyterCommManager.prototype.register_target = function(plot_id, comm_id, msg_handler) {\n",
       "      if (window.comm_manager || ((window.Jupyter !== undefined) && (Jupyter.notebook.kernel != null))) {\n",
       "        var comm_manager = window.comm_manager || Jupyter.notebook.kernel.comm_manager;\n",
       "        comm_manager.register_target(comm_id, function(comm) {\n",
       "          comm.on_msg(msg_handler);\n",
       "        });\n",
       "      } else if ((plot_id in window.PyViz.kernels) && (window.PyViz.kernels[plot_id])) {\n",
       "        window.PyViz.kernels[plot_id].registerCommTarget(comm_id, function(comm) {\n",
       "          comm.onMsg = msg_handler;\n",
       "        });\n",
       "      } else if (typeof google != 'undefined' && google.colab.kernel != null) {\n",
       "        google.colab.kernel.comms.registerTarget(comm_id, (comm) => {\n",
       "          var messages = comm.messages[Symbol.asyncIterator]();\n",
       "          function processIteratorResult(result) {\n",
       "            var message = result.value;\n",
       "            console.log(message)\n",
       "            var content = {data: message.data, comm_id};\n",
       "            var buffers = []\n",
       "            for (var buffer of message.buffers || []) {\n",
       "              buffers.push(new DataView(buffer))\n",
       "            }\n",
       "            var metadata = message.metadata || {};\n",
       "            var msg = {content, buffers, metadata}\n",
       "            msg_handler(msg);\n",
       "            return messages.next().then(processIteratorResult);\n",
       "          }\n",
       "          return messages.next().then(processIteratorResult);\n",
       "        })\n",
       "      }\n",
       "    }\n",
       "\n",
       "    JupyterCommManager.prototype.get_client_comm = function(plot_id, comm_id, msg_handler) {\n",
       "      if (comm_id in window.PyViz.comms) {\n",
       "        return window.PyViz.comms[comm_id];\n",
       "      } else if (window.comm_manager || ((window.Jupyter !== undefined) && (Jupyter.notebook.kernel != null))) {\n",
       "        var comm_manager = window.comm_manager || Jupyter.notebook.kernel.comm_manager;\n",
       "        var comm = comm_manager.new_comm(comm_id, {}, {}, {}, comm_id);\n",
       "        if (msg_handler) {\n",
       "          comm.on_msg(msg_handler);\n",
       "        }\n",
       "      } else if ((plot_id in window.PyViz.kernels) && (window.PyViz.kernels[plot_id])) {\n",
       "        var comm = window.PyViz.kernels[plot_id].connectToComm(comm_id);\n",
       "        comm.open();\n",
       "        if (msg_handler) {\n",
       "          comm.onMsg = msg_handler;\n",
       "        }\n",
       "      } else if (typeof google != 'undefined' && google.colab.kernel != null) {\n",
       "        var comm_promise = google.colab.kernel.comms.open(comm_id)\n",
       "        comm_promise.then((comm) => {\n",
       "          window.PyViz.comms[comm_id] = comm;\n",
       "          if (msg_handler) {\n",
       "            var messages = comm.messages[Symbol.asyncIterator]();\n",
       "            function processIteratorResult(result) {\n",
       "              var message = result.value;\n",
       "              var content = {data: message.data};\n",
       "              var metadata = message.metadata || {comm_id};\n",
       "              var msg = {content, metadata}\n",
       "              msg_handler(msg);\n",
       "              return messages.next().then(processIteratorResult);\n",
       "            }\n",
       "            return messages.next().then(processIteratorResult);\n",
       "          }\n",
       "        }) \n",
       "        var sendClosure = (data, metadata, buffers, disposeOnDone) => {\n",
       "          return comm_promise.then((comm) => {\n",
       "            comm.send(data, metadata, buffers, disposeOnDone);\n",
       "          });\n",
       "        };\n",
       "        var comm = {\n",
       "          send: sendClosure\n",
       "        };\n",
       "      }\n",
       "      window.PyViz.comms[comm_id] = comm;\n",
       "      return comm;\n",
       "    }\n",
       "    window.PyViz.comm_manager = new JupyterCommManager();\n",
       "    \n",
       "\n",
       "\n",
       "var JS_MIME_TYPE = 'application/javascript';\n",
       "var HTML_MIME_TYPE = 'text/html';\n",
       "var EXEC_MIME_TYPE = 'application/vnd.holoviews_exec.v0+json';\n",
       "var CLASS_NAME = 'output';\n",
       "\n",
       "/**\n",
       " * Render data to the DOM node\n",
       " */\n",
       "function render(props, node) {\n",
       "  var div = document.createElement(\"div\");\n",
       "  var script = document.createElement(\"script\");\n",
       "  node.appendChild(div);\n",
       "  node.appendChild(script);\n",
       "}\n",
       "\n",
       "/**\n",
       " * Handle when a new output is added\n",
       " */\n",
       "function handle_add_output(event, handle) {\n",
       "  var output_area = handle.output_area;\n",
       "  var output = handle.output;\n",
       "  if ((output.data == undefined) || (!output.data.hasOwnProperty(EXEC_MIME_TYPE))) {\n",
       "    return\n",
       "  }\n",
       "  var id = output.metadata[EXEC_MIME_TYPE][\"id\"];\n",
       "  var toinsert = output_area.element.find(\".\" + CLASS_NAME.split(' ')[0]);\n",
       "  if (id !== undefined) {\n",
       "    var nchildren = toinsert.length;\n",
       "    var html_node = toinsert[nchildren-1].children[0];\n",
       "    html_node.innerHTML = output.data[HTML_MIME_TYPE];\n",
       "    var scripts = [];\n",
       "    var nodelist = html_node.querySelectorAll(\"script\");\n",
       "    for (var i in nodelist) {\n",
       "      if (nodelist.hasOwnProperty(i)) {\n",
       "        scripts.push(nodelist[i])\n",
       "      }\n",
       "    }\n",
       "\n",
       "    scripts.forEach( function (oldScript) {\n",
       "      var newScript = document.createElement(\"script\");\n",
       "      var attrs = [];\n",
       "      var nodemap = oldScript.attributes;\n",
       "      for (var j in nodemap) {\n",
       "        if (nodemap.hasOwnProperty(j)) {\n",
       "          attrs.push(nodemap[j])\n",
       "        }\n",
       "      }\n",
       "      attrs.forEach(function(attr) { newScript.setAttribute(attr.name, attr.value) });\n",
       "      newScript.appendChild(document.createTextNode(oldScript.innerHTML));\n",
       "      oldScript.parentNode.replaceChild(newScript, oldScript);\n",
       "    });\n",
       "    if (JS_MIME_TYPE in output.data) {\n",
       "      toinsert[nchildren-1].children[1].textContent = output.data[JS_MIME_TYPE];\n",
       "    }\n",
       "    output_area._hv_plot_id = id;\n",
       "    if ((window.Bokeh !== undefined) && (id in Bokeh.index)) {\n",
       "      window.PyViz.plot_index[id] = Bokeh.index[id];\n",
       "    } else {\n",
       "      window.PyViz.plot_index[id] = null;\n",
       "    }\n",
       "  } else if (output.metadata[EXEC_MIME_TYPE][\"server_id\"] !== undefined) {\n",
       "    var bk_div = document.createElement(\"div\");\n",
       "    bk_div.innerHTML = output.data[HTML_MIME_TYPE];\n",
       "    var script_attrs = bk_div.children[0].attributes;\n",
       "    for (var i = 0; i < script_attrs.length; i++) {\n",
       "      toinsert[toinsert.length - 1].childNodes[1].setAttribute(script_attrs[i].name, script_attrs[i].value);\n",
       "    }\n",
       "    // store reference to server id on output_area\n",
       "    output_area._bokeh_server_id = output.metadata[EXEC_MIME_TYPE][\"server_id\"];\n",
       "  }\n",
       "}\n",
       "\n",
       "/**\n",
       " * Handle when an output is cleared or removed\n",
       " */\n",
       "function handle_clear_output(event, handle) {\n",
       "  var id = handle.cell.output_area._hv_plot_id;\n",
       "  var server_id = handle.cell.output_area._bokeh_server_id;\n",
       "  if (((id === undefined) || !(id in PyViz.plot_index)) && (server_id !== undefined)) { return; }\n",
       "  var comm = window.PyViz.comm_manager.get_client_comm(\"hv-extension-comm\", \"hv-extension-comm\", function () {});\n",
       "  if (server_id !== null) {\n",
       "    comm.send({event_type: 'server_delete', 'id': server_id});\n",
       "    return;\n",
       "  } else if (comm !== null) {\n",
       "    comm.send({event_type: 'delete', 'id': id});\n",
       "  }\n",
       "  delete PyViz.plot_index[id];\n",
       "  if ((window.Bokeh !== undefined) & (id in window.Bokeh.index)) {\n",
       "    var doc = window.Bokeh.index[id].model.document\n",
       "    doc.clear();\n",
       "    const i = window.Bokeh.documents.indexOf(doc);\n",
       "    if (i > -1) {\n",
       "      window.Bokeh.documents.splice(i, 1);\n",
       "    }\n",
       "  }\n",
       "}\n",
       "\n",
       "/**\n",
       " * Handle kernel restart event\n",
       " */\n",
       "function handle_kernel_cleanup(event, handle) {\n",
       "  delete PyViz.comms[\"hv-extension-comm\"];\n",
       "  window.PyViz.plot_index = {}\n",
       "}\n",
       "\n",
       "/**\n",
       " * Handle update_display_data messages\n",
       " */\n",
       "function handle_update_output(event, handle) {\n",
       "  handle_clear_output(event, {cell: {output_area: handle.output_area}})\n",
       "  handle_add_output(event, handle)\n",
       "}\n",
       "\n",
       "function register_renderer(events, OutputArea) {\n",
       "  function append_mime(data, metadata, element) {\n",
       "    // create a DOM node to render to\n",
       "    var toinsert = this.create_output_subarea(\n",
       "    metadata,\n",
       "    CLASS_NAME,\n",
       "    EXEC_MIME_TYPE\n",
       "    );\n",
       "    this.keyboard_manager.register_events(toinsert);\n",
       "    // Render to node\n",
       "    var props = {data: data, metadata: metadata[EXEC_MIME_TYPE]};\n",
       "    render(props, toinsert[0]);\n",
       "    element.append(toinsert);\n",
       "    return toinsert\n",
       "  }\n",
       "\n",
       "  events.on('output_added.OutputArea', handle_add_output);\n",
       "  events.on('output_updated.OutputArea', handle_update_output);\n",
       "  events.on('clear_output.CodeCell', handle_clear_output);\n",
       "  events.on('delete.Cell', handle_clear_output);\n",
       "  events.on('kernel_ready.Kernel', handle_kernel_cleanup);\n",
       "\n",
       "  OutputArea.prototype.register_mime_type(EXEC_MIME_TYPE, append_mime, {\n",
       "    safe: true,\n",
       "    index: 0\n",
       "  });\n",
       "}\n",
       "\n",
       "if (window.Jupyter !== undefined) {\n",
       "  try {\n",
       "    var events = require('base/js/events');\n",
       "    var OutputArea = require('notebook/js/outputarea').OutputArea;\n",
       "    if (OutputArea.prototype.mime_types().indexOf(EXEC_MIME_TYPE) == -1) {\n",
       "      register_renderer(events, OutputArea);\n",
       "    }\n",
       "  } catch(err) {\n",
       "  }\n",
       "}\n"
      ],
      "application/vnd.holoviews_load.v0+json": "\nif ((window.PyViz === undefined) || (window.PyViz instanceof HTMLElement)) {\n  window.PyViz = {comms: {}, comm_status:{}, kernels:{}, receivers: {}, plot_index: []}\n}\n\n\n    function JupyterCommManager() {\n    }\n\n    JupyterCommManager.prototype.register_target = function(plot_id, comm_id, msg_handler) {\n      if (window.comm_manager || ((window.Jupyter !== undefined) && (Jupyter.notebook.kernel != null))) {\n        var comm_manager = window.comm_manager || Jupyter.notebook.kernel.comm_manager;\n        comm_manager.register_target(comm_id, function(comm) {\n          comm.on_msg(msg_handler);\n        });\n      } else if ((plot_id in window.PyViz.kernels) && (window.PyViz.kernels[plot_id])) {\n        window.PyViz.kernels[plot_id].registerCommTarget(comm_id, function(comm) {\n          comm.onMsg = msg_handler;\n        });\n      } else if (typeof google != 'undefined' && google.colab.kernel != null) {\n        google.colab.kernel.comms.registerTarget(comm_id, (comm) => {\n          var messages = comm.messages[Symbol.asyncIterator]();\n          function processIteratorResult(result) {\n            var message = result.value;\n            console.log(message)\n            var content = {data: message.data, comm_id};\n            var buffers = []\n            for (var buffer of message.buffers || []) {\n              buffers.push(new DataView(buffer))\n            }\n            var metadata = message.metadata || {};\n            var msg = {content, buffers, metadata}\n            msg_handler(msg);\n            return messages.next().then(processIteratorResult);\n          }\n          return messages.next().then(processIteratorResult);\n        })\n      }\n    }\n\n    JupyterCommManager.prototype.get_client_comm = function(plot_id, comm_id, msg_handler) {\n      if (comm_id in window.PyViz.comms) {\n        return window.PyViz.comms[comm_id];\n      } else if (window.comm_manager || ((window.Jupyter !== undefined) && (Jupyter.notebook.kernel != null))) {\n        var comm_manager = window.comm_manager || Jupyter.notebook.kernel.comm_manager;\n        var comm = comm_manager.new_comm(comm_id, {}, {}, {}, comm_id);\n        if (msg_handler) {\n          comm.on_msg(msg_handler);\n        }\n      } else if ((plot_id in window.PyViz.kernels) && (window.PyViz.kernels[plot_id])) {\n        var comm = window.PyViz.kernels[plot_id].connectToComm(comm_id);\n        comm.open();\n        if (msg_handler) {\n          comm.onMsg = msg_handler;\n        }\n      } else if (typeof google != 'undefined' && google.colab.kernel != null) {\n        var comm_promise = google.colab.kernel.comms.open(comm_id)\n        comm_promise.then((comm) => {\n          window.PyViz.comms[comm_id] = comm;\n          if (msg_handler) {\n            var messages = comm.messages[Symbol.asyncIterator]();\n            function processIteratorResult(result) {\n              var message = result.value;\n              var content = {data: message.data};\n              var metadata = message.metadata || {comm_id};\n              var msg = {content, metadata}\n              msg_handler(msg);\n              return messages.next().then(processIteratorResult);\n            }\n            return messages.next().then(processIteratorResult);\n          }\n        }) \n        var sendClosure = (data, metadata, buffers, disposeOnDone) => {\n          return comm_promise.then((comm) => {\n            comm.send(data, metadata, buffers, disposeOnDone);\n          });\n        };\n        var comm = {\n          send: sendClosure\n        };\n      }\n      window.PyViz.comms[comm_id] = comm;\n      return comm;\n    }\n    window.PyViz.comm_manager = new JupyterCommManager();\n    \n\n\nvar JS_MIME_TYPE = 'application/javascript';\nvar HTML_MIME_TYPE = 'text/html';\nvar EXEC_MIME_TYPE = 'application/vnd.holoviews_exec.v0+json';\nvar CLASS_NAME = 'output';\n\n/**\n * Render data to the DOM node\n */\nfunction render(props, node) {\n  var div = document.createElement(\"div\");\n  var script = document.createElement(\"script\");\n  node.appendChild(div);\n  node.appendChild(script);\n}\n\n/**\n * Handle when a new output is added\n */\nfunction handle_add_output(event, handle) {\n  var output_area = handle.output_area;\n  var output = handle.output;\n  if ((output.data == undefined) || (!output.data.hasOwnProperty(EXEC_MIME_TYPE))) {\n    return\n  }\n  var id = output.metadata[EXEC_MIME_TYPE][\"id\"];\n  var toinsert = output_area.element.find(\".\" + CLASS_NAME.split(' ')[0]);\n  if (id !== undefined) {\n    var nchildren = toinsert.length;\n    var html_node = toinsert[nchildren-1].children[0];\n    html_node.innerHTML = output.data[HTML_MIME_TYPE];\n    var scripts = [];\n    var nodelist = html_node.querySelectorAll(\"script\");\n    for (var i in nodelist) {\n      if (nodelist.hasOwnProperty(i)) {\n        scripts.push(nodelist[i])\n      }\n    }\n\n    scripts.forEach( function (oldScript) {\n      var newScript = document.createElement(\"script\");\n      var attrs = [];\n      var nodemap = oldScript.attributes;\n      for (var j in nodemap) {\n        if (nodemap.hasOwnProperty(j)) {\n          attrs.push(nodemap[j])\n        }\n      }\n      attrs.forEach(function(attr) { newScript.setAttribute(attr.name, attr.value) });\n      newScript.appendChild(document.createTextNode(oldScript.innerHTML));\n      oldScript.parentNode.replaceChild(newScript, oldScript);\n    });\n    if (JS_MIME_TYPE in output.data) {\n      toinsert[nchildren-1].children[1].textContent = output.data[JS_MIME_TYPE];\n    }\n    output_area._hv_plot_id = id;\n    if ((window.Bokeh !== undefined) && (id in Bokeh.index)) {\n      window.PyViz.plot_index[id] = Bokeh.index[id];\n    } else {\n      window.PyViz.plot_index[id] = null;\n    }\n  } else if (output.metadata[EXEC_MIME_TYPE][\"server_id\"] !== undefined) {\n    var bk_div = document.createElement(\"div\");\n    bk_div.innerHTML = output.data[HTML_MIME_TYPE];\n    var script_attrs = bk_div.children[0].attributes;\n    for (var i = 0; i < script_attrs.length; i++) {\n      toinsert[toinsert.length - 1].childNodes[1].setAttribute(script_attrs[i].name, script_attrs[i].value);\n    }\n    // store reference to server id on output_area\n    output_area._bokeh_server_id = output.metadata[EXEC_MIME_TYPE][\"server_id\"];\n  }\n}\n\n/**\n * Handle when an output is cleared or removed\n */\nfunction handle_clear_output(event, handle) {\n  var id = handle.cell.output_area._hv_plot_id;\n  var server_id = handle.cell.output_area._bokeh_server_id;\n  if (((id === undefined) || !(id in PyViz.plot_index)) && (server_id !== undefined)) { return; }\n  var comm = window.PyViz.comm_manager.get_client_comm(\"hv-extension-comm\", \"hv-extension-comm\", function () {});\n  if (server_id !== null) {\n    comm.send({event_type: 'server_delete', 'id': server_id});\n    return;\n  } else if (comm !== null) {\n    comm.send({event_type: 'delete', 'id': id});\n  }\n  delete PyViz.plot_index[id];\n  if ((window.Bokeh !== undefined) & (id in window.Bokeh.index)) {\n    var doc = window.Bokeh.index[id].model.document\n    doc.clear();\n    const i = window.Bokeh.documents.indexOf(doc);\n    if (i > -1) {\n      window.Bokeh.documents.splice(i, 1);\n    }\n  }\n}\n\n/**\n * Handle kernel restart event\n */\nfunction handle_kernel_cleanup(event, handle) {\n  delete PyViz.comms[\"hv-extension-comm\"];\n  window.PyViz.plot_index = {}\n}\n\n/**\n * Handle update_display_data messages\n */\nfunction handle_update_output(event, handle) {\n  handle_clear_output(event, {cell: {output_area: handle.output_area}})\n  handle_add_output(event, handle)\n}\n\nfunction register_renderer(events, OutputArea) {\n  function append_mime(data, metadata, element) {\n    // create a DOM node to render to\n    var toinsert = this.create_output_subarea(\n    metadata,\n    CLASS_NAME,\n    EXEC_MIME_TYPE\n    );\n    this.keyboard_manager.register_events(toinsert);\n    // Render to node\n    var props = {data: data, metadata: metadata[EXEC_MIME_TYPE]};\n    render(props, toinsert[0]);\n    element.append(toinsert);\n    return toinsert\n  }\n\n  events.on('output_added.OutputArea', handle_add_output);\n  events.on('output_updated.OutputArea', handle_update_output);\n  events.on('clear_output.CodeCell', handle_clear_output);\n  events.on('delete.Cell', handle_clear_output);\n  events.on('kernel_ready.Kernel', handle_kernel_cleanup);\n\n  OutputArea.prototype.register_mime_type(EXEC_MIME_TYPE, append_mime, {\n    safe: true,\n    index: 0\n  });\n}\n\nif (window.Jupyter !== undefined) {\n  try {\n    var events = require('base/js/events');\n    var OutputArea = require('notebook/js/outputarea').OutputArea;\n    if (OutputArea.prototype.mime_types().indexOf(EXEC_MIME_TYPE) == -1) {\n      register_renderer(events, OutputArea);\n    }\n  } catch(err) {\n  }\n}\n"
     },
     "metadata": {},
     "output_type": "display_data"
    },
    {
     "data": {
      "text/html": [
       "<style>*[data-root-id],\n",
       "*[data-root-id] > * {\n",
       "  box-sizing: border-box;\n",
       "  font-family: var(--jp-ui-font-family);\n",
       "  font-size: var(--jp-ui-font-size1);\n",
       "  color: var(--vscode-editor-foreground, var(--jp-ui-font-color1));\n",
       "}\n",
       "\n",
       "/* Override VSCode background color */\n",
       ".cell-output-ipywidget-background:has(\n",
       "    > .cell-output-ipywidget-background > .lm-Widget > *[data-root-id]\n",
       "  ),\n",
       ".cell-output-ipywidget-background:has(> .lm-Widget > *[data-root-id]) {\n",
       "  background-color: transparent !important;\n",
       "}\n",
       "</style>"
      ]
     },
     "metadata": {},
     "output_type": "display_data"
    },
    {
     "data": {
      "application/vnd.holoviews_exec.v0+json": "",
      "text/html": [
       "<div id='p1004'>\n",
       "  <div id=\"c0daa9df-e1d2-4940-9cfa-01089530aca8\" data-root-id=\"p1004\" style=\"display: contents;\"></div>\n",
       "</div>\n",
       "<script type=\"application/javascript\">(function(root) {\n",
       "  var docs_json = {\"9b794fe5-c715-4083-a082-e88d428059f7\":{\"version\":\"3.4.3\",\"title\":\"Bokeh Application\",\"roots\":[{\"type\":\"object\",\"name\":\"panel.models.browser.BrowserInfo\",\"id\":\"p1004\"},{\"type\":\"object\",\"name\":\"panel.models.comm_manager.CommManager\",\"id\":\"p1005\",\"attributes\":{\"plot_id\":\"p1004\",\"comm_id\":\"e4f47d8cfbe748efa0229777c8c4f617\",\"client_comm_id\":\"540ee158f3f845499d0a3d01f47818ca\"}}],\"defs\":[{\"type\":\"model\",\"name\":\"ReactiveHTML1\"},{\"type\":\"model\",\"name\":\"FlexBox1\",\"properties\":[{\"name\":\"align_content\",\"kind\":\"Any\",\"default\":\"flex-start\"},{\"name\":\"align_items\",\"kind\":\"Any\",\"default\":\"flex-start\"},{\"name\":\"flex_direction\",\"kind\":\"Any\",\"default\":\"row\"},{\"name\":\"flex_wrap\",\"kind\":\"Any\",\"default\":\"wrap\"},{\"name\":\"gap\",\"kind\":\"Any\",\"default\":\"\"},{\"name\":\"justify_content\",\"kind\":\"Any\",\"default\":\"flex-start\"}]},{\"type\":\"model\",\"name\":\"FloatPanel1\",\"properties\":[{\"name\":\"config\",\"kind\":\"Any\",\"default\":{\"type\":\"map\"}},{\"name\":\"contained\",\"kind\":\"Any\",\"default\":true},{\"name\":\"position\",\"kind\":\"Any\",\"default\":\"right-top\"},{\"name\":\"offsetx\",\"kind\":\"Any\",\"default\":null},{\"name\":\"offsety\",\"kind\":\"Any\",\"default\":null},{\"name\":\"theme\",\"kind\":\"Any\",\"default\":\"primary\"},{\"name\":\"status\",\"kind\":\"Any\",\"default\":\"normalized\"}]},{\"type\":\"model\",\"name\":\"GridStack1\",\"properties\":[{\"name\":\"mode\",\"kind\":\"Any\",\"default\":\"warn\"},{\"name\":\"ncols\",\"kind\":\"Any\",\"default\":null},{\"name\":\"nrows\",\"kind\":\"Any\",\"default\":null},{\"name\":\"allow_resize\",\"kind\":\"Any\",\"default\":true},{\"name\":\"allow_drag\",\"kind\":\"Any\",\"default\":true},{\"name\":\"state\",\"kind\":\"Any\",\"default\":[]}]},{\"type\":\"model\",\"name\":\"drag1\",\"properties\":[{\"name\":\"slider_width\",\"kind\":\"Any\",\"default\":5},{\"name\":\"slider_color\",\"kind\":\"Any\",\"default\":\"black\"},{\"name\":\"value\",\"kind\":\"Any\",\"default\":50}]},{\"type\":\"model\",\"name\":\"click1\",\"properties\":[{\"name\":\"terminal_output\",\"kind\":\"Any\",\"default\":\"\"},{\"name\":\"debug_name\",\"kind\":\"Any\",\"default\":\"\"},{\"name\":\"clears\",\"kind\":\"Any\",\"default\":0}]},{\"type\":\"model\",\"name\":\"FastWrapper1\",\"properties\":[{\"name\":\"object\",\"kind\":\"Any\",\"default\":null},{\"name\":\"style\",\"kind\":\"Any\",\"default\":null}]},{\"type\":\"model\",\"name\":\"NotificationAreaBase1\",\"properties\":[{\"name\":\"js_events\",\"kind\":\"Any\",\"default\":{\"type\":\"map\"}},{\"name\":\"position\",\"kind\":\"Any\",\"default\":\"bottom-right\"},{\"name\":\"_clear\",\"kind\":\"Any\",\"default\":0}]},{\"type\":\"model\",\"name\":\"NotificationArea1\",\"properties\":[{\"name\":\"js_events\",\"kind\":\"Any\",\"default\":{\"type\":\"map\"}},{\"name\":\"notifications\",\"kind\":\"Any\",\"default\":[]},{\"name\":\"position\",\"kind\":\"Any\",\"default\":\"bottom-right\"},{\"name\":\"_clear\",\"kind\":\"Any\",\"default\":0},{\"name\":\"types\",\"kind\":\"Any\",\"default\":[{\"type\":\"map\",\"entries\":[[\"type\",\"warning\"],[\"background\",\"#ffc107\"],[\"icon\",{\"type\":\"map\",\"entries\":[[\"className\",\"fas fa-exclamation-triangle\"],[\"tagName\",\"i\"],[\"color\",\"white\"]]}]]},{\"type\":\"map\",\"entries\":[[\"type\",\"info\"],[\"background\",\"#007bff\"],[\"icon\",{\"type\":\"map\",\"entries\":[[\"className\",\"fas fa-info-circle\"],[\"tagName\",\"i\"],[\"color\",\"white\"]]}]]}]}]},{\"type\":\"model\",\"name\":\"Notification\",\"properties\":[{\"name\":\"background\",\"kind\":\"Any\",\"default\":null},{\"name\":\"duration\",\"kind\":\"Any\",\"default\":3000},{\"name\":\"icon\",\"kind\":\"Any\",\"default\":null},{\"name\":\"message\",\"kind\":\"Any\",\"default\":\"\"},{\"name\":\"notification_type\",\"kind\":\"Any\",\"default\":null},{\"name\":\"_destroyed\",\"kind\":\"Any\",\"default\":false}]},{\"type\":\"model\",\"name\":\"TemplateActions1\",\"properties\":[{\"name\":\"open_modal\",\"kind\":\"Any\",\"default\":0},{\"name\":\"close_modal\",\"kind\":\"Any\",\"default\":0}]},{\"type\":\"model\",\"name\":\"BootstrapTemplateActions1\",\"properties\":[{\"name\":\"open_modal\",\"kind\":\"Any\",\"default\":0},{\"name\":\"close_modal\",\"kind\":\"Any\",\"default\":0}]},{\"type\":\"model\",\"name\":\"TemplateEditor1\",\"properties\":[{\"name\":\"layout\",\"kind\":\"Any\",\"default\":[]}]},{\"type\":\"model\",\"name\":\"MaterialTemplateActions1\",\"properties\":[{\"name\":\"open_modal\",\"kind\":\"Any\",\"default\":0},{\"name\":\"close_modal\",\"kind\":\"Any\",\"default\":0}]},{\"type\":\"model\",\"name\":\"copy_to_clipboard1\",\"properties\":[{\"name\":\"fill\",\"kind\":\"Any\",\"default\":\"none\"},{\"name\":\"value\",\"kind\":\"Any\",\"default\":null}]}]}};\n",
       "  var render_items = [{\"docid\":\"9b794fe5-c715-4083-a082-e88d428059f7\",\"roots\":{\"p1004\":\"c0daa9df-e1d2-4940-9cfa-01089530aca8\"},\"root_ids\":[\"p1004\"]}];\n",
       "  var docs = Object.values(docs_json)\n",
       "  if (!docs) {\n",
       "    return\n",
       "  }\n",
       "  const py_version = docs[0].version.replace('rc', '-rc.').replace('.dev', '-dev.')\n",
       "  async function embed_document(root) {\n",
       "    var Bokeh = get_bokeh(root)\n",
       "    await Bokeh.embed.embed_items_notebook(docs_json, render_items);\n",
       "    for (const render_item of render_items) {\n",
       "      for (const root_id of render_item.root_ids) {\n",
       "\tconst id_el = document.getElementById(root_id)\n",
       "\tif (id_el.children.length && id_el.children[0].hasAttribute('data-root-id')) {\n",
       "\t  const root_el = id_el.children[0]\n",
       "\t  root_el.id = root_el.id + '-rendered'\n",
       "\t  for (const child of root_el.children) {\n",
       "            // Ensure JupyterLab does not capture keyboard shortcuts\n",
       "            // see: https://jupyterlab.readthedocs.io/en/4.1.x/extension/notebook.html#keyboard-interaction-model\n",
       "\t    child.setAttribute('data-lm-suppress-shortcuts', 'true')\n",
       "\t  }\n",
       "\t}\n",
       "      }\n",
       "    }\n",
       "  }\n",
       "  function get_bokeh(root) {\n",
       "    if (root.Bokeh === undefined) {\n",
       "      return null\n",
       "    } else if (root.Bokeh.version !== py_version) {\n",
       "      if (root.Bokeh.versions === undefined || !root.Bokeh.versions.has(py_version)) {\n",
       "\treturn null\n",
       "      }\n",
       "      return root.Bokeh.versions.get(py_version);\n",
       "    } else if (root.Bokeh.version === py_version) {\n",
       "      return root.Bokeh\n",
       "    }\n",
       "    return null\n",
       "  }\n",
       "  function is_loaded(root) {\n",
       "    var Bokeh = get_bokeh(root)\n",
       "    return (Bokeh != null && Bokeh.Panel !== undefined)\n",
       "  }\n",
       "  if (is_loaded(root)) {\n",
       "    embed_document(root);\n",
       "  } else {\n",
       "    var attempts = 0;\n",
       "    var timer = setInterval(function(root) {\n",
       "      if (is_loaded(root)) {\n",
       "        clearInterval(timer);\n",
       "        embed_document(root);\n",
       "      } else if (document.readyState == \"complete\") {\n",
       "        attempts++;\n",
       "        if (attempts > 200) {\n",
       "          clearInterval(timer);\n",
       "\t  var Bokeh = get_bokeh(root)\n",
       "\t  if (Bokeh == null || Bokeh.Panel == null) {\n",
       "            console.warn(\"Panel: ERROR: Unable to run Panel code because Bokeh or Panel library is missing\");\n",
       "\t  } else {\n",
       "\t    console.warn(\"Panel: WARNING: Attempting to render but not all required libraries could be resolved.\")\n",
       "\t    embed_document(root)\n",
       "\t  }\n",
       "        }\n",
       "      }\n",
       "    }, 25, root)\n",
       "  }\n",
       "})(window);</script>"
      ]
     },
     "metadata": {
      "application/vnd.holoviews_exec.v0+json": {
       "id": "p1004"
      }
     },
     "output_type": "display_data"
    },
    {
     "name": "stderr",
     "output_type": "stream",
     "text": [
      "dataframe filtered\n",
      "estimated unique values: 5\n",
      "run PARTITIONED HASH AGGREGATION\n"
     ]
    },
    {
     "name": "stdout",
     "output_type": "stream",
     "text": [
      "<class 'holoviews.core.overlay.NdOverlay'>\n"
     ]
    },
    {
     "data": {
      "text/html": [
       "<img src='data:image/png;base64,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' style='max-width:100%; margin: auto; display: block; '/>"
      ],
      "text/plain": [
       ":NdOverlay   [Variable]\n",
       "   :Curve   [year]   (value)"
      ]
     },
     "execution_count": 42,
     "metadata": {
      "application/vnd.holoviews_exec.v0+json": {}
     },
     "output_type": "execute_result"
    }
   ],
   "source": [
    "import hvplot.polars\n",
    "hvplot.extension('matplotlib')\n",
    "\n",
    "res = (\n",
    "    autos\n",
    "    .filter(pl.col('make').is_in(top3['make']))\n",
    "    .group_by(['year', 'make'])\n",
    "    .agg(\n",
    "        min_city08=pl.col('city08').min(),\n",
    "        max_city08=pl.col('city08').max(),\n",
    "    )\n",
    "    .sort(['year', 'make'])\n",
    "    .pivot(\n",
    "        index='year',\n",
    "        on='make',\n",
    "        values=['min_city08', 'max_city08']\n",
    "    )\n",
    "    .hvplot(\n",
    "        x='year', # pseudo index\n",
    "        color=['#55c667', '#2f8738', '#2c4279', '#141f38', '#d4e116', '#afba12']\n",
    "    )\n",
    "    \n",
    ")\n",
    "\n",
    "print(type(res))\n",
    "res"
   ]
  },
  {
   "cell_type": "markdown",
   "id": "21fbc873-d55b-4da8-8909-183e36cd50f3",
   "metadata": {},
   "source": [
    "---\n",
    "# 4.9 Aggregating over the Original Rows\n",
    "[back to Top](#Top)\n",
    "\n",
    "* In Pandas, `.transform()` aggregates data and returns the aggregated values in terms of the original rows.\n",
    "* There is no `.transform()` in Polars, but you can achieve the same result using the window function `.over()`\n",
    "\n",
    "In this example:\n",
    "\n",
    "* Calculate the *make* average *city08* value and return it to the original rows.\n",
    "* Use `pl.col` to refer to the column you want to aggregate.\n",
    "* Create the aggregate function, here `.mean()`.\n",
    "* Follow with `.over`\n",
    "* Pass in the column you want to group by (in this case, *make*)\n",
    "\n",
    "**Translated to Pandas, we want to groupby on make and aggregate the value city08 ????**"
   ]
  },
  {
   "cell_type": "code",
   "execution_count": 43,
   "id": "3786e2cb-e14f-40e2-9ca2-c0421570203a",
   "metadata": {},
   "outputs": [
    {
     "data": {
      "text/html": [
       "<div><style>\n",
       ".dataframe > thead > tr,\n",
       ".dataframe > tbody > tr {\n",
       "  text-align: right;\n",
       "  white-space: pre-wrap;\n",
       "}\n",
       "</style>\n",
       "<small>shape: (3, 2)</small><table border=\"1\" class=\"dataframe\"><thead><tr><th>make</th><th>city08</th></tr><tr><td>cat</td><td>u8</td></tr></thead><tbody><tr><td>&quot;Alfa Romeo&quot;</td><td>19</td></tr><tr><td>&quot;Ferrari&quot;</td><td>9</td></tr><tr><td>&quot;Dodge&quot;</td><td>23</td></tr></tbody></table></div>"
      ],
      "text/plain": [
       "shape: (3, 2)\n",
       "+------------+--------+\n",
       "| make       | city08 |\n",
       "| ---        | ---    |\n",
       "| cat        | u8     |\n",
       "+=====================+\n",
       "| Alfa Romeo | 19     |\n",
       "| Ferrari    | 9      |\n",
       "| Dodge      | 23     |\n",
       "+------------+--------+"
      ]
     },
     "execution_count": 43,
     "metadata": {},
     "output_type": "execute_result"
    }
   ],
   "source": [
    "# check make and city08\n",
    "autos[['make', 'city08']].head(3)"
   ]
  },
  {
   "cell_type": "code",
   "execution_count": 44,
   "id": "0d2e80d7-759c-4fc6-a845-271f1fca16b9",
   "metadata": {},
   "outputs": [
    {
     "data": {
      "text/html": [
       "<div><style>\n",
       ".dataframe > thead > tr,\n",
       ".dataframe > tbody > tr {\n",
       "  text-align: right;\n",
       "  white-space: pre-wrap;\n",
       "}\n",
       "</style>\n",
       "<small>shape: (1, 1)</small><table border=\"1\" class=\"dataframe\"><thead><tr><th>mean_city</th></tr><tr><td>f64</td></tr></thead><tbody><tr><td>19.929235</td></tr></tbody></table></div>"
      ],
      "text/plain": [
       "shape: (1, 1)\n",
       "+-----------+\n",
       "| mean_city |\n",
       "| ---       |\n",
       "| f64       |\n",
       "+===========+\n",
       "| 19.929235 |\n",
       "+-----------+"
      ]
     },
     "execution_count": 44,
     "metadata": {},
     "output_type": "execute_result"
    }
   ],
   "source": [
    "# testing with .select and single column only\n",
    "# This creates only a single statistic\n",
    "(\n",
    "    autos\n",
    "    .select(\n",
    "        pl.col('city08')\n",
    "        .mean()\n",
    "        .alias('mean_city')\n",
    "    )\n",
    ")"
   ]
  },
  {
   "cell_type": "code",
   "execution_count": 45,
   "id": "e055d1d5-8644-4404-a945-bee84b6ad2d4",
   "metadata": {},
   "outputs": [
    {
     "data": {
      "text/html": [
       "<div><style>\n",
       ".dataframe > thead > tr,\n",
       ".dataframe > tbody > tr {\n",
       "  text-align: right;\n",
       "  white-space: pre-wrap;\n",
       "}\n",
       "</style>\n",
       "<small>shape: (48_202, 2)</small><table border=\"1\" class=\"dataframe\"><thead><tr><th>make</th><th>mean_city08</th></tr><tr><td>cat</td><td>f64</td></tr></thead><tbody><tr><td>&quot;Alfa Romeo&quot;</td><td>19.402062</td></tr><tr><td>&quot;Ferrari&quot;</td><td>11.842294</td></tr><tr><td>&quot;Dodge&quot;</td><td>15.461967</td></tr><tr><td>&quot;Dodge&quot;</td><td>15.461967</td></tr><tr><td>&quot;Subaru&quot;</td><td>21.130306</td></tr><tr><td>&hellip;</td><td>&hellip;</td></tr><tr><td>&quot;Subaru&quot;</td><td>21.130306</td></tr><tr><td>&quot;Subaru&quot;</td><td>21.130306</td></tr><tr><td>&quot;Subaru&quot;</td><td>21.130306</td></tr><tr><td>&quot;Subaru&quot;</td><td>21.130306</td></tr><tr><td>&quot;Subaru&quot;</td><td>21.130306</td></tr></tbody></table></div>"
      ],
      "text/plain": [
       "shape: (48_202, 2)\n",
       "+------------+-------------+\n",
       "| make       | mean_city08 |\n",
       "| ---        | ---         |\n",
       "| cat        | f64         |\n",
       "+==========================+\n",
       "| Alfa Romeo | 19.402062   |\n",
       "| Ferrari    | 11.842294   |\n",
       "| Dodge      | 15.461967   |\n",
       "| Dodge      | 15.461967   |\n",
       "| Subaru     | 21.130306   |\n",
       "| …          | …           |\n",
       "| Subaru     | 21.130306   |\n",
       "| Subaru     | 21.130306   |\n",
       "| Subaru     | 21.130306   |\n",
       "| Subaru     | 21.130306   |\n",
       "| Subaru     | 21.130306   |\n",
       "+------------+-------------+"
      ]
     },
     "execution_count": 45,
     "metadata": {},
     "output_type": "execute_result"
    }
   ],
   "source": [
    "# testing with .select and single column only\n",
    "# This creates an aggregated data statistic\n",
    "(\n",
    "    autos\n",
    "    .select(\n",
    "        'make',\n",
    "        pl.col('city08')\n",
    "        .mean()\n",
    "        .over('make')\n",
    "        .alias('mean_city08'),\n",
    "    )\n",
    ")"
   ]
  },
  {
   "cell_type": "code",
   "execution_count": 46,
   "id": "e4e9e132-2738-4865-9520-b339be442b28",
   "metadata": {},
   "outputs": [
    {
     "data": {
      "text/html": [
       "<div><style>\n",
       ".dataframe > thead > tr,\n",
       ".dataframe > tbody > tr {\n",
       "  text-align: right;\n",
       "  white-space: pre-wrap;\n",
       "}\n",
       "</style>\n",
       "<small>shape: (48_202, 16)</small><table border=\"1\" class=\"dataframe\"><thead><tr><th>year</th><th>make</th><th>model</th><th>displ</th><th>cylinders</th><th>trany</th><th>drive</th><th>VClass</th><th>fuelType</th><th>barrels08</th><th>city08</th><th>highway08</th><th>createdOn</th><th>is_automatic</th><th>num_gears</th><th>mean_city08</th></tr><tr><td>i16</td><td>cat</td><td>cat</td><td>f32</td><td>u8</td><td>str</td><td>cat</td><td>cat</td><td>cat</td><td>f32</td><td>u8</td><td>u8</td><td>datetime[μs]</td><td>str</td><td>u8</td><td>f64</td></tr></thead><tbody><tr><td>1985</td><td>&quot;Alfa Romeo&quot;</td><td>&quot;Spider Veloce 2000&quot;</td><td>2.0</td><td>4</td><td>&quot;Manual 5-spd&quot;</td><td>&quot;Rear-Wheel Drive&quot;</td><td>&quot;Two Seaters&quot;</td><td>&quot;Regular&quot;</td><td>14.167143</td><td>19</td><td>25</td><td>2013-01-01 00:00:00</td><td>&quot;false&quot;</td><td>5</td><td>19.402062</td></tr><tr><td>1985</td><td>&quot;Ferrari&quot;</td><td>&quot;Testarossa&quot;</td><td>4.9</td><td>12</td><td>&quot;Manual 5-spd&quot;</td><td>&quot;Rear-Wheel Drive&quot;</td><td>&quot;Two Seaters&quot;</td><td>&quot;Regular&quot;</td><td>27.046364</td><td>9</td><td>14</td><td>2013-01-01 00:00:00</td><td>&quot;false&quot;</td><td>5</td><td>11.842294</td></tr><tr><td>1985</td><td>&quot;Dodge&quot;</td><td>&quot;Charger&quot;</td><td>2.2</td><td>4</td><td>&quot;Manual 5-spd&quot;</td><td>&quot;Front-Wheel Drive&quot;</td><td>&quot;Subcompact Cars&quot;</td><td>&quot;Regular&quot;</td><td>11.018888</td><td>23</td><td>33</td><td>2013-01-01 00:00:00</td><td>&quot;false&quot;</td><td>5</td><td>15.461967</td></tr><tr><td>1985</td><td>&quot;Dodge&quot;</td><td>&quot;B150/B250 Wagon 2WD&quot;</td><td>5.2</td><td>8</td><td>&quot;Automatic 3-spd&quot;</td><td>&quot;Rear-Wheel Drive&quot;</td><td>&quot;Vans&quot;</td><td>&quot;Regular&quot;</td><td>27.046364</td><td>10</td><td>12</td><td>2013-01-01 00:00:00</td><td>&quot;true&quot;</td><td>3</td><td>15.461967</td></tr><tr><td>1993</td><td>&quot;Subaru&quot;</td><td>&quot;Legacy AWD Turbo&quot;</td><td>2.2</td><td>4</td><td>&quot;Manual 5-spd&quot;</td><td>&quot;4-Wheel or All-Wheel Drive&quot;</td><td>&quot;Compact Cars&quot;</td><td>&quot;Premium&quot;</td><td>15.658422</td><td>17</td><td>23</td><td>2013-01-01 00:00:00</td><td>&quot;false&quot;</td><td>5</td><td>21.130306</td></tr><tr><td>&hellip;</td><td>&hellip;</td><td>&hellip;</td><td>&hellip;</td><td>&hellip;</td><td>&hellip;</td><td>&hellip;</td><td>&hellip;</td><td>&hellip;</td><td>&hellip;</td><td>&hellip;</td><td>&hellip;</td><td>&hellip;</td><td>&hellip;</td><td>&hellip;</td><td>&hellip;</td></tr><tr><td>1993</td><td>&quot;Subaru&quot;</td><td>&quot;Legacy&quot;</td><td>2.2</td><td>4</td><td>&quot;Automatic 4-spd&quot;</td><td>&quot;Front-Wheel Drive&quot;</td><td>&quot;Compact Cars&quot;</td><td>&quot;Regular&quot;</td><td>13.523182</td><td>19</td><td>26</td><td>2013-01-01 00:00:00</td><td>&quot;true&quot;</td><td>4</td><td>21.130306</td></tr><tr><td>1993</td><td>&quot;Subaru&quot;</td><td>&quot;Legacy&quot;</td><td>2.2</td><td>4</td><td>&quot;Manual 5-spd&quot;</td><td>&quot;Front-Wheel Drive&quot;</td><td>&quot;Compact Cars&quot;</td><td>&quot;Regular&quot;</td><td>12.935218</td><td>20</td><td>28</td><td>2013-01-01 00:00:00</td><td>&quot;false&quot;</td><td>5</td><td>21.130306</td></tr><tr><td>1993</td><td>&quot;Subaru&quot;</td><td>&quot;Legacy AWD&quot;</td><td>2.2</td><td>4</td><td>&quot;Automatic 4-spd&quot;</td><td>&quot;4-Wheel or All-Wheel Drive&quot;</td><td>&quot;Compact Cars&quot;</td><td>&quot;Regular&quot;</td><td>14.167143</td><td>18</td><td>24</td><td>2013-01-01 00:00:00</td><td>&quot;true&quot;</td><td>4</td><td>21.130306</td></tr><tr><td>1993</td><td>&quot;Subaru&quot;</td><td>&quot;Legacy AWD&quot;</td><td>2.2</td><td>4</td><td>&quot;Manual 5-spd&quot;</td><td>&quot;4-Wheel or All-Wheel Drive&quot;</td><td>&quot;Compact Cars&quot;</td><td>&quot;Regular&quot;</td><td>14.167143</td><td>18</td><td>24</td><td>2013-01-01 00:00:00</td><td>&quot;false&quot;</td><td>5</td><td>21.130306</td></tr><tr><td>1993</td><td>&quot;Subaru&quot;</td><td>&quot;Legacy AWD Turbo&quot;</td><td>2.2</td><td>4</td><td>&quot;Automatic 4-spd&quot;</td><td>&quot;4-Wheel or All-Wheel Drive&quot;</td><td>&quot;Compact Cars&quot;</td><td>&quot;Premium&quot;</td><td>16.528334</td><td>16</td><td>21</td><td>2013-01-01 00:00:00</td><td>&quot;true&quot;</td><td>4</td><td>21.130306</td></tr></tbody></table></div>"
      ],
      "text/plain": [
       "shape: (48_202, 16)\n",
       "+-----+-----+-----+-----+-----+-----+-----+-----+-----+-----+-----+-----+-----+-----+-----+--------+\n",
       "| yea | mak | mod | dis | cyl | tra | dri | VCl | fue | bar | cit | hig | cre | is_ | num | mean_c |\n",
       "| r   | e   | el  | pl  | ind | ny  | ve  | ass | lTy | rel | y08 | hwa | ate | aut | _ge | ity08  |\n",
       "| --- | --- | --- | --- | ers | --- | --- | --- | pe  | s08 | --- | y08 | dOn | oma | ars | ---    |\n",
       "| i16 | cat | cat | f32 | --- | str | cat | cat | --- | --- | u8  | --- | --- | tic | --- | f64    |\n",
       "|     |     |     |     | u8  |     |     |     | cat | f32 |     | u8  | dat | --- | u8  |        |\n",
       "|     |     |     |     |     |     |     |     |     |     |     |     | eti | str |     |        |\n",
       "|     |     |     |     |     |     |     |     |     |     |     |     | me[ |     |     |        |\n",
       "|     |     |     |     |     |     |     |     |     |     |     |     | μs] |     |     |        |\n",
       "+==================================================================================================+\n",
       "| 198 | Alf | Spi | 2.0 | 4   | Man | Rea | Two | Reg | 14. | 19  | 25  | 201 | fal | 5   | 19.402 |\n",
       "| 5   | a   | der |     |     | ual | r-W | Sea | ula | 167 |     |     | 3-0 | se  |     | 062    |\n",
       "|     | Rom | Vel |     |     | 5-s | hee | ter | r   | 143 |     |     | 1-0 |     |     |        |\n",
       "|     | eo  | oce |     |     | pd  | l   | s   |     |     |     |     | 1   |     |     |        |\n",
       "|     |     | 200 |     |     |     | Dri |     |     |     |     |     | 00: |     |     |        |\n",
       "|     |     | 0   |     |     |     | ve  |     |     |     |     |     | 00: |     |     |        |\n",
       "|     |     |     |     |     |     |     |     |     |     |     |     | 00  |     |     |        |\n",
       "| 198 | Fer | Tes | 4.9 | 12  | Man | Rea | Two | Reg | 27. | 9   | 14  | 201 | fal | 5   | 11.842 |\n",
       "| 5   | rar | tar |     |     | ual | r-W | Sea | ula | 046 |     |     | 3-0 | se  |     | 294    |\n",
       "|     | i   | oss |     |     | 5-s | hee | ter | r   | 364 |     |     | 1-0 |     |     |        |\n",
       "|     |     | a   |     |     | pd  | l   | s   |     |     |     |     | 1   |     |     |        |\n",
       "|     |     |     |     |     |     | Dri |     |     |     |     |     | 00: |     |     |        |\n",
       "|     |     |     |     |     |     | ve  |     |     |     |     |     | 00: |     |     |        |\n",
       "|     |     |     |     |     |     |     |     |     |     |     |     | 00  |     |     |        |\n",
       "| 198 | Dod | Cha | 2.2 | 4   | Man | Fro | Sub | Reg | 11. | 23  | 33  | 201 | fal | 5   | 15.461 |\n",
       "| 5   | ge  | rge |     |     | ual | nt- | com | ula | 018 |     |     | 3-0 | se  |     | 967    |\n",
       "|     |     | r   |     |     | 5-s | Whe | pac | r   | 888 |     |     | 1-0 |     |     |        |\n",
       "|     |     |     |     |     | pd  | el  | t   |     |     |     |     | 1   |     |     |        |\n",
       "|     |     |     |     |     |     | Dri | Car |     |     |     |     | 00: |     |     |        |\n",
       "|     |     |     |     |     |     | ve  | s   |     |     |     |     | 00: |     |     |        |\n",
       "|     |     |     |     |     |     |     |     |     |     |     |     | 00  |     |     |        |\n",
       "| 198 | Dod | B15 | 5.2 | 8   | Aut | Rea | Van | Reg | 27. | 10  | 12  | 201 | tru | 3   | 15.461 |\n",
       "| 5   | ge  | 0/B |     |     | oma | r-W | s   | ula | 046 |     |     | 3-0 | e   |     | 967    |\n",
       "|     |     | 250 |     |     | tic | hee |     | r   | 364 |     |     | 1-0 |     |     |        |\n",
       "|     |     | Wag |     |     | 3-s | l   |     |     |     |     |     | 1   |     |     |        |\n",
       "|     |     | on  |     |     | pd  | Dri |     |     |     |     |     | 00: |     |     |        |\n",
       "|     |     | 2WD |     |     |     | ve  |     |     |     |     |     | 00: |     |     |        |\n",
       "|     |     |     |     |     |     |     |     |     |     |     |     | 00  |     |     |        |\n",
       "| 199 | Sub | Leg | 2.2 | 4   | Man | 4-W | Com | Pre | 15. | 17  | 23  | 201 | fal | 5   | 21.130 |\n",
       "| 3   | aru | acy |     |     | ual | hee | pac | miu | 658 |     |     | 3-0 | se  |     | 306    |\n",
       "|     |     | AWD |     |     | 5-s | l   | t   | m   | 422 |     |     | 1-0 |     |     |        |\n",
       "|     |     | Tur |     |     | pd  | or  | Car |     |     |     |     | 1   |     |     |        |\n",
       "|     |     | bo  |     |     |     | All | s   |     |     |     |     | 00: |     |     |        |\n",
       "|     |     |     |     |     |     | -Wh |     |     |     |     |     | 00: |     |     |        |\n",
       "|     |     |     |     |     |     | eel |     |     |     |     |     | 00  |     |     |        |\n",
       "|     |     |     |     |     |     | Dri |     |     |     |     |     |     |     |     |        |\n",
       "|     |     |     |     |     |     | ve  |     |     |     |     |     |     |     |     |        |\n",
       "| …   | …   | …   | …   | …   | …   | …   | …   | …   | …   | …   | …   | …   | …   | …   | …      |\n",
       "| 199 | Sub | Leg | 2.2 | 4   | Aut | Fro | Com | Reg | 13. | 19  | 26  | 201 | tru | 4   | 21.130 |\n",
       "| 3   | aru | acy |     |     | oma | nt- | pac | ula | 523 |     |     | 3-0 | e   |     | 306    |\n",
       "|     |     |     |     |     | tic | Whe | t   | r   | 182 |     |     | 1-0 |     |     |        |\n",
       "|     |     |     |     |     | 4-s | el  | Car |     |     |     |     | 1   |     |     |        |\n",
       "|     |     |     |     |     | pd  | Dri | s   |     |     |     |     | 00: |     |     |        |\n",
       "|     |     |     |     |     |     | ve  |     |     |     |     |     | 00: |     |     |        |\n",
       "|     |     |     |     |     |     |     |     |     |     |     |     | 00  |     |     |        |\n",
       "| 199 | Sub | Leg | 2.2 | 4   | Man | Fro | Com | Reg | 12. | 20  | 28  | 201 | fal | 5   | 21.130 |\n",
       "| 3   | aru | acy |     |     | ual | nt- | pac | ula | 935 |     |     | 3-0 | se  |     | 306    |\n",
       "|     |     |     |     |     | 5-s | Whe | t   | r   | 218 |     |     | 1-0 |     |     |        |\n",
       "|     |     |     |     |     | pd  | el  | Car |     |     |     |     | 1   |     |     |        |\n",
       "|     |     |     |     |     |     | Dri | s   |     |     |     |     | 00: |     |     |        |\n",
       "|     |     |     |     |     |     | ve  |     |     |     |     |     | 00: |     |     |        |\n",
       "|     |     |     |     |     |     |     |     |     |     |     |     | 00  |     |     |        |\n",
       "| 199 | Sub | Leg | 2.2 | 4   | Aut | 4-W | Com | Reg | 14. | 18  | 24  | 201 | tru | 4   | 21.130 |\n",
       "| 3   | aru | acy |     |     | oma | hee | pac | ula | 167 |     |     | 3-0 | e   |     | 306    |\n",
       "|     |     | AWD |     |     | tic | l   | t   | r   | 143 |     |     | 1-0 |     |     |        |\n",
       "|     |     |     |     |     | 4-s | or  | Car |     |     |     |     | 1   |     |     |        |\n",
       "|     |     |     |     |     | pd  | All | s   |     |     |     |     | 00: |     |     |        |\n",
       "|     |     |     |     |     |     | -Wh |     |     |     |     |     | 00: |     |     |        |\n",
       "|     |     |     |     |     |     | eel |     |     |     |     |     | 00  |     |     |        |\n",
       "|     |     |     |     |     |     | Dri |     |     |     |     |     |     |     |     |        |\n",
       "|     |     |     |     |     |     | ve  |     |     |     |     |     |     |     |     |        |\n",
       "| 199 | Sub | Leg | 2.2 | 4   | Man | 4-W | Com | Reg | 14. | 18  | 24  | 201 | fal | 5   | 21.130 |\n",
       "| 3   | aru | acy |     |     | ual | hee | pac | ula | 167 |     |     | 3-0 | se  |     | 306    |\n",
       "|     |     | AWD |     |     | 5-s | l   | t   | r   | 143 |     |     | 1-0 |     |     |        |\n",
       "|     |     |     |     |     | pd  | or  | Car |     |     |     |     | 1   |     |     |        |\n",
       "|     |     |     |     |     |     | All | s   |     |     |     |     | 00: |     |     |        |\n",
       "|     |     |     |     |     |     | -Wh |     |     |     |     |     | 00: |     |     |        |\n",
       "|     |     |     |     |     |     | eel |     |     |     |     |     | 00  |     |     |        |\n",
       "|     |     |     |     |     |     | Dri |     |     |     |     |     |     |     |     |        |\n",
       "|     |     |     |     |     |     | ve  |     |     |     |     |     |     |     |     |        |\n",
       "| 199 | Sub | Leg | 2.2 | 4   | Aut | 4-W | Com | Pre | 16. | 16  | 21  | 201 | tru | 4   | 21.130 |\n",
       "| 3   | aru | acy |     |     | oma | hee | pac | miu | 528 |     |     | 3-0 | e   |     | 306    |\n",
       "|     |     | AWD |     |     | tic | l   | t   | m   | 334 |     |     | 1-0 |     |     |        |\n",
       "|     |     | Tur |     |     | 4-s | or  | Car |     |     |     |     | 1   |     |     |        |\n",
       "|     |     | bo  |     |     | pd  | All | s   |     |     |     |     | 00: |     |     |        |\n",
       "|     |     |     |     |     |     | -Wh |     |     |     |     |     | 00: |     |     |        |\n",
       "|     |     |     |     |     |     | eel |     |     |     |     |     | 00  |     |     |        |\n",
       "|     |     |     |     |     |     | Dri |     |     |     |     |     |     |     |     |        |\n",
       "|     |     |     |     |     |     | ve  |     |     |     |     |     |     |     |     |        |\n",
       "+-----+-----+-----+-----+-----+-----+-----+-----+-----+-----+-----+-----+-----+-----+-----+--------+"
      ]
     },
     "execution_count": 46,
     "metadata": {},
     "output_type": "execute_result"
    }
   ],
   "source": [
    "# .with_columns version to embed in full dataset\n",
    "(\n",
    "    autos\n",
    "    .with_columns(\n",
    "        pl.col('city08')\n",
    "        .mean()\n",
    "        .over('make')\n",
    "        .alias('mean_city08')\n",
    "    )\n",
    ")"
   ]
  },
  {
   "cell_type": "markdown",
   "id": "5a94da2c-809a-43e6-bd1f-c0e71d05a7ae",
   "metadata": {},
   "source": [
    "--- \n",
    "We can validate the results for specifically Alfa Romeo, Ferrari and Dodge."
   ]
  },
  {
   "cell_type": "code",
   "execution_count": 47,
   "id": "9e164650-1d72-4612-aa68-3b83aea48428",
   "metadata": {},
   "outputs": [
    {
     "name": "stderr",
     "output_type": "stream",
     "text": [
      "known unique values: 145\n",
      "run PARTITIONED HASH AGGREGATION\n"
     ]
    },
    {
     "data": {
      "text/html": [
       "<div><style>\n",
       ".dataframe > thead > tr,\n",
       ".dataframe > tbody > tr {\n",
       "  text-align: right;\n",
       "  white-space: pre-wrap;\n",
       "}\n",
       "</style>\n",
       "<small>shape: (145, 2)</small><table border=\"1\" class=\"dataframe\"><thead><tr><th>make</th><th>count_city08</th></tr><tr><td>cat</td><td>u32</td></tr></thead><tbody><tr><td>&quot;Azure Dynamics&quot;</td><td>1</td></tr><tr><td>&quot;Mahindra&quot;</td><td>1</td></tr><tr><td>&quot;Excalibur Autos&quot;</td><td>1</td></tr><tr><td>&quot;London Taxi&quot;</td><td>1</td></tr><tr><td>&quot;Quantum Technologies&quot;</td><td>2</td></tr><tr><td>&hellip;</td><td>&hellip;</td></tr><tr><td>&quot;Toyota&quot;</td><td>2470</td></tr><tr><td>&quot;Subaru&quot;</td><td>1013</td></tr><tr><td>&quot;Dodge&quot;</td><td>2695</td></tr><tr><td>&quot;Ferrari&quot;</td><td>279</td></tr><tr><td>&quot;Alfa Romeo&quot;</td><td>97</td></tr></tbody></table></div>"
      ],
      "text/plain": [
       "shape: (145, 2)\n",
       "+----------------------+--------------+\n",
       "| make                 | count_city08 |\n",
       "| ---                  | ---          |\n",
       "| cat                  | u32          |\n",
       "+=====================================+\n",
       "| Azure Dynamics       | 1            |\n",
       "| Mahindra             | 1            |\n",
       "| Excalibur Autos      | 1            |\n",
       "| London Taxi          | 1            |\n",
       "| Quantum Technologies | 2            |\n",
       "| …                    | …            |\n",
       "| Toyota               | 2470         |\n",
       "| Subaru               | 1013         |\n",
       "| Dodge                | 2695         |\n",
       "| Ferrari              | 279          |\n",
       "| Alfa Romeo           | 97           |\n",
       "+----------------------+--------------+"
      ]
     },
     "execution_count": 47,
     "metadata": {},
     "output_type": "execute_result"
    }
   ],
   "source": [
    "# Quick test, equivalent to Pandas value_counts, without filter\n",
    "(\n",
    "    autos\n",
    "    .group_by('make')\n",
    "    .agg(count_city08=pl.col('city08').len()) # equivalent to .len()\n",
    "    .sort(by='make', descending=True)\n",
    ")"
   ]
  },
  {
   "cell_type": "code",
   "execution_count": 48,
   "id": "bfe42e8f-7353-47c3-8d7c-b36fc3d41b5d",
   "metadata": {},
   "outputs": [
    {
     "name": "stderr",
     "output_type": "stream",
     "text": [
      "known unique values: 145\n",
      "run PARTITIONED HASH AGGREGATION\n"
     ]
    },
    {
     "data": {
      "text/html": [
       "<div><style>\n",
       ".dataframe > thead > tr,\n",
       ".dataframe > tbody > tr {\n",
       "  text-align: right;\n",
       "  white-space: pre-wrap;\n",
       "}\n",
       "</style>\n",
       "<small>shape: (145, 2)</small><table border=\"1\" class=\"dataframe\"><thead><tr><th>make</th><th>mean_city08</th></tr><tr><td>cat</td><td>f64</td></tr></thead><tbody><tr><td>&quot;Azure Dynamics&quot;</td><td>62.0</td></tr><tr><td>&quot;Mahindra&quot;</td><td>19.0</td></tr><tr><td>&quot;Excalibur Autos&quot;</td><td>12.0</td></tr><tr><td>&quot;London Taxi&quot;</td><td>21.0</td></tr><tr><td>&quot;Quantum Technologies&quot;</td><td>19.0</td></tr><tr><td>&hellip;</td><td>&hellip;</td></tr><tr><td>&quot;Toyota&quot;</td><td>22.4</td></tr><tr><td>&quot;Subaru&quot;</td><td>21.130306</td></tr><tr><td>&quot;Dodge&quot;</td><td>15.461967</td></tr><tr><td>&quot;Ferrari&quot;</td><td>11.842294</td></tr><tr><td>&quot;Alfa Romeo&quot;</td><td>19.402062</td></tr></tbody></table></div>"
      ],
      "text/plain": [
       "shape: (145, 2)\n",
       "+----------------------+-------------+\n",
       "| make                 | mean_city08 |\n",
       "| ---                  | ---         |\n",
       "| cat                  | f64         |\n",
       "+====================================+\n",
       "| Azure Dynamics       | 62.0        |\n",
       "| Mahindra             | 19.0        |\n",
       "| Excalibur Autos      | 12.0        |\n",
       "| London Taxi          | 21.0        |\n",
       "| Quantum Technologies | 19.0        |\n",
       "| …                    | …           |\n",
       "| Toyota               | 22.4        |\n",
       "| Subaru               | 21.130306   |\n",
       "| Dodge                | 15.461967   |\n",
       "| Ferrari              | 11.842294   |\n",
       "| Alfa Romeo           | 19.402062   |\n",
       "+----------------------+-------------+"
      ]
     },
     "execution_count": 48,
     "metadata": {},
     "output_type": "execute_result"
    }
   ],
   "source": [
    "# Without filter, showing results for all makes\n",
    "(\n",
    "    autos\n",
    "    .group_by('make')\n",
    "    .agg(mean_city08=pl.col('city08').mean())\n",
    "    .sort(by='make', descending=True)\n",
    ")"
   ]
  },
  {
   "cell_type": "code",
   "execution_count": 49,
   "id": "6343ce5e-e11f-416c-9987-95ac604c1e3d",
   "metadata": {},
   "outputs": [
    {
     "name": "stderr",
     "output_type": "stream",
     "text": [
      "known unique values: 145\n",
      "run PARTITIONED HASH AGGREGATION\n",
      "dataframe filtered\n"
     ]
    },
    {
     "data": {
      "text/html": [
       "<div><style>\n",
       ".dataframe > thead > tr,\n",
       ".dataframe > tbody > tr {\n",
       "  text-align: right;\n",
       "  white-space: pre-wrap;\n",
       "}\n",
       "</style>\n",
       "<small>shape: (3, 2)</small><table border=\"1\" class=\"dataframe\"><thead><tr><th>make</th><th>mean_city08</th></tr><tr><td>cat</td><td>f64</td></tr></thead><tbody><tr><td>&quot;Dodge&quot;</td><td>15.461967</td></tr><tr><td>&quot;Ferrari&quot;</td><td>11.842294</td></tr><tr><td>&quot;Alfa Romeo&quot;</td><td>19.402062</td></tr></tbody></table></div>"
      ],
      "text/plain": [
       "shape: (3, 2)\n",
       "+------------+-------------+\n",
       "| make       | mean_city08 |\n",
       "| ---        | ---         |\n",
       "| cat        | f64         |\n",
       "+==========================+\n",
       "| Dodge      | 15.461967   |\n",
       "| Ferrari    | 11.842294   |\n",
       "| Alfa Romeo | 19.402062   |\n",
       "+------------+-------------+"
      ]
     },
     "execution_count": 49,
     "metadata": {},
     "output_type": "execute_result"
    }
   ],
   "source": [
    "# With filter\n",
    "(\n",
    "    autos\n",
    "    .group_by('make')\n",
    "    .agg(mean_city08=pl.col('city08').mean())\n",
    "    .filter(\n",
    "        pl.col('make')\n",
    "        .cast(pl.String)\n",
    "        .is_in(['Alfa Romeo', 'Ferrari', 'Dodge'])\n",
    "    )\n",
    "    .sort(by='make', descending=True)\n",
    ")"
   ]
  },
  {
   "cell_type": "markdown",
   "id": "3fe905fc-9033-4297-9fe8-3befcce6b72f",
   "metadata": {},
   "source": [
    "* A quick implication is we can use window functions to do multiple groupings and aggregations in a single operation.\n",
    "* Explore filtering with window functions in Chapter 5."
   ]
  },
  {
   "cell_type": "markdown",
   "id": "266b0451-2f7e-4fb2-b9cc-511e69b6c286",
   "metadata": {},
   "source": [
    "---\n",
    "# 4.10 Grouping to Lists\n",
    "[back to Top](#Top)\n",
    "\n",
    "You can write powerful code with expressions, window functions and lists.\n",
    "\n",
    "* First, aggregate to a column by passing pl.all to the `.agg` context."
   ]
  },
  {
   "cell_type": "code",
   "execution_count": 50,
   "id": "56a05543-0f95-416b-81dc-a9bea3c430bd",
   "metadata": {},
   "outputs": [
    {
     "name": "stderr",
     "output_type": "stream",
     "text": [
      "keys/aggregates are not partitionable: running default HASH AGGREGATION\n"
     ]
    },
    {
     "data": {
      "text/html": [
       "<div><style>\n",
       ".dataframe > thead > tr,\n",
       ".dataframe > tbody > tr {\n",
       "  text-align: right;\n",
       "  white-space: pre-wrap;\n",
       "}\n",
       "</style>\n",
       "<small>shape: (145, 15)</small><table border=\"1\" class=\"dataframe\"><thead><tr><th>make</th><th>year</th><th>model</th><th>displ</th><th>cylinders</th><th>trany</th><th>drive</th><th>VClass</th><th>fuelType</th><th>barrels08</th><th>city08</th><th>highway08</th><th>createdOn</th><th>is_automatic</th><th>num_gears</th></tr><tr><td>cat</td><td>list[i16]</td><td>list[cat]</td><td>list[f32]</td><td>list[u8]</td><td>list[str]</td><td>list[cat]</td><td>list[cat]</td><td>list[cat]</td><td>list[f32]</td><td>list[u8]</td><td>list[u8]</td><td>list[datetime[μs]]</td><td>list[str]</td><td>list[u8]</td></tr></thead><tbody><tr><td>&quot;Excalibur Autos&quot;</td><td>[1987]</td><td>[&quot;Phaeton&quot;]</td><td>[5.0]</td><td>[8]</td><td>[&quot;Automatic 4-spd&quot;]</td><td>[&quot;Rear-Wheel Drive&quot;]</td><td>[&quot;Minicompact Cars&quot;]</td><td>[&quot;Premium&quot;]</td><td>[21.250713]</td><td>[12]</td><td>[17]</td><td>[2013-01-01 00:00:00]</td><td>[&quot;true&quot;]</td><td>[4]</td></tr><tr><td>&quot;Renault&quot;</td><td>[1986, 1986, … 1985]</td><td>[&quot;Alliance Convertible&quot;, &quot;Alliance Convertible&quot;, … &quot;18i 4DR Wagon&quot;]</td><td>[1.7, 1.7, … 2.2]</td><td>[4, 4, … 4]</td><td>[&quot;Automatic 3-spd&quot;, &quot;Manual 5-spd&quot;, … &quot;Manual 5-spd&quot;]</td><td>[&quot;Front-Wheel Drive&quot;, &quot;Front-Wheel Drive&quot;, … &quot;Front-Wheel Drive&quot;]</td><td>[&quot;Subcompact Cars&quot;, &quot;Subcompact Cars&quot;, … &quot;Small Station Wagons&quot;]</td><td>[&quot;Regular&quot;, &quot;Regular&quot;, … &quot;Regular&quot;]</td><td>[14.8755, 11.442693, … 12.935218]</td><td>[19, 23, … 20]</td><td>[22, 29, … 28]</td><td>[2013-01-01 00:00:00, 2013-01-01 00:00:00, … 2013-01-01 00:00:00]</td><td>[&quot;true&quot;, &quot;false&quot;, … &quot;false&quot;]</td><td>[3, 5, … 5]</td></tr><tr><td>&quot;Porsche&quot;</td><td>[1994, 1994, … 1993]</td><td>[&quot;911 Carrera 4/2&quot;, &quot;911 Carrera 4/2&quot;, … &quot;968&quot;]</td><td>[3.6, 3.6, … 3.0]</td><td>[6, 6, … 4]</td><td>[&quot;Automatic 4-spd&quot;, &quot;Manual 5-spd&quot;, … &quot;Manual 6-spd&quot;]</td><td>[&quot;Rear-Wheel Drive&quot;, &quot;Rear-Wheel Drive&quot;, … &quot;Rear-Wheel Drive&quot;]</td><td>[&quot;Two Seaters&quot;, &quot;Two Seaters&quot;, … &quot;Minicompact Cars&quot;]</td><td>[&quot;Regular&quot;, &quot;Regular&quot;, … &quot;Premium&quot;]</td><td>[17.500587, 16.528334, … 16.528334]</td><td>[15, 15, … 15]</td><td>[22, 23, … 24]</td><td>[2013-01-01 00:00:00, 2013-01-01 00:00:00, … 2013-01-01 00:00:00]</td><td>[&quot;true&quot;, &quot;false&quot;, … &quot;false&quot;]</td><td>[4, 5, … 6]</td></tr><tr><td>&quot;Land Rover&quot;</td><td>[1993, 1993, … 1992]</td><td>[&quot;Defender 110&quot;, &quot;Range Rover County&quot;, … &quot;Range Rover&quot;]</td><td>[3.9, 3.9, … 3.9]</td><td>[8, 8, … 8]</td><td>[&quot;Manual 5-spd&quot;, &quot;Automatic 4-spd&quot;, … &quot;Automatic 4-spd&quot;]</td><td>[&quot;4-Wheel or All-Wheel Drive&quot;, &quot;4-Wheel or All-Wheel Drive&quot;, … &quot;4-Wheel or All-Wheel Drive&quot;]</td><td>[&quot;Special Purpose Vehicles&quot;, &quot;Special Purpose Vehicles&quot;, … &quot;Special Purpose Vehicles&quot;]</td><td>[&quot;Premium&quot;, &quot;Premium&quot;, … &quot;Premium&quot;]</td><td>[29.750999, 24.7925, … 22.885386]</td><td>[9, 11, … 11]</td><td>[11, 14, … 15]</td><td>[2013-01-01 00:00:00, 2013-01-01 00:00:00, … 2013-01-01 00:00:00]</td><td>[&quot;false&quot;, &quot;true&quot;, … &quot;true&quot;]</td><td>[5, 4, … 4]</td></tr><tr><td>&quot;Geo&quot;</td><td>[1993, 1993, … 1993]</td><td>[&quot;Tracker Convertible 2WD&quot;, &quot;Tracker Convertible 2WD&quot;, … &quot;Prizm&quot;]</td><td>[1.6, 1.6, … 1.8]</td><td>[4, 4, … 4]</td><td>[&quot;Automatic 3-spd&quot;, &quot;Manual 5-spd&quot;, … &quot;Manual 5-spd&quot;]</td><td>[&quot;Rear-Wheel Drive&quot;, &quot;Rear-Wheel Drive&quot;, … &quot;Front-Wheel Drive&quot;]</td><td>[&quot;Special Purpose Vehicles&quot;, &quot;Special Purpose Vehicles&quot;, … &quot;Compact Cars&quot;]</td><td>[&quot;Regular&quot;, &quot;Regular&quot;, … &quot;Regular&quot;]</td><td>[14.167143, 12.935218, … 11.018888]</td><td>[20, 22, … 24]</td><td>[22, 24, … 31]</td><td>[2013-01-01 00:00:00, 2013-01-01 00:00:00, … 2013-01-01 00:00:00]</td><td>[&quot;true&quot;, &quot;false&quot;, … &quot;false&quot;]</td><td>[3, 5, … 5]</td></tr><tr><td>&hellip;</td><td>&hellip;</td><td>&hellip;</td><td>&hellip;</td><td>&hellip;</td><td>&hellip;</td><td>&hellip;</td><td>&hellip;</td><td>&hellip;</td><td>&hellip;</td><td>&hellip;</td><td>&hellip;</td><td>&hellip;</td><td>&hellip;</td><td>&hellip;</td></tr><tr><td>&quot;Roush Performance&quot;</td><td>[2001, 2001, … 2021]</td><td>[&quot;Stage 3 Mustang&quot;, &quot;Stage 3 Mustang&quot;, … &quot;Mustang&quot;]</td><td>[4.6, 4.6, … 5.0]</td><td>[8, 8, … 8]</td><td>[&quot;Automatic 4-spd&quot;, &quot;Manual 5-spd&quot;, … &quot;Automatic (S10)&quot;]</td><td>[&quot;Rear-Wheel Drive&quot;, &quot;Rear-Wheel Drive&quot;, … &quot;Rear-Wheel Drive&quot;]</td><td>[&quot;Subcompact Cars&quot;, &quot;Subcompact Cars&quot;, … &quot;Subcompact Cars&quot;]</td><td>[&quot;Premium&quot;, &quot;Premium&quot;, … &quot;Premium&quot;]</td><td>[16.528334, 16.528334, … 19.834]</td><td>[16, 15, … 12]</td><td>[21, 23, … 19]</td><td>[2013-01-01 00:00:00, 2013-01-01 00:00:00, … 2021-07-06 00:00:00]</td><td>[&quot;true&quot;, &quot;false&quot;, … &quot;true&quot;]</td><td>[4, 5, … 10]</td></tr><tr><td>&quot;STI&quot;</td><td>[2019]</td><td>[&quot;S209&quot;]</td><td>[2.5]</td><td>[4]</td><td>[&quot;Manual 6-spd&quot;]</td><td>[&quot;All-Wheel Drive&quot;]</td><td>[&quot;Compact Cars&quot;]</td><td>[&quot;Premium&quot;]</td><td>[17.500587]</td><td>[15]</td><td>[21]</td><td>[2019-10-02 00:00:00]</td><td>[&quot;false&quot;]</td><td>[6]</td></tr><tr><td>&quot;Merkur&quot;</td><td>[1986, 1986, … 1989]</td><td>[&quot;XR4Ti&quot;, &quot;XR4Ti&quot;, … &quot;Scorpio&quot;]</td><td>[2.3, 2.3, … 2.9]</td><td>[4, 4, … 6]</td><td>[&quot;Automatic 3-spd&quot;, &quot;Manual 5-spd&quot;, … &quot;Manual 5-spd&quot;]</td><td>[&quot;Rear-Wheel Drive&quot;, &quot;Rear-Wheel Drive&quot;, … &quot;Rear-Wheel Drive&quot;]</td><td>[&quot;Compact Cars&quot;, &quot;Compact Cars&quot;, … &quot;Midsize Cars&quot;]</td><td>[&quot;Regular&quot;, &quot;Regular&quot;, … &quot;Regular&quot;]</td><td>[16.528334, 15.658422, … 16.528334]</td><td>[16, 17, … 16]</td><td>[20, 22, … 21]</td><td>[2013-01-01 00:00:00, 2013-01-01 00:00:00, … 2013-01-01 00:00:00]</td><td>[&quot;true&quot;, &quot;false&quot;, … &quot;false&quot;]</td><td>[3, 5, … 5]</td></tr><tr><td>&quot;Maserati&quot;</td><td>[1985, 1985, … 1991]</td><td>[&quot;Biturbo&quot;, &quot;Biturbo&quot;, … &quot;430&quot;]</td><td>[2.5, 2.5, … 2.8]</td><td>[6, 6, … 6]</td><td>[&quot;Manual 5-spd&quot;, &quot;Manual 5-spd&quot;, … &quot;Automatic 4-spd&quot;]</td><td>[&quot;Rear-Wheel Drive&quot;, &quot;Rear-Wheel Drive&quot;, … &quot;Rear-Wheel Drive&quot;]</td><td>[&quot;Minicompact Cars&quot;, &quot;Subcompact Cars&quot;, … &quot;Subcompact Cars&quot;]</td><td>[&quot;Regular&quot;, &quot;Premium&quot;, … &quot;Premium&quot;]</td><td>[21.250713, 21.250713, … 21.250713]</td><td>[12, 12, … 13]</td><td>[18, 18, … 16]</td><td>[2013-01-01 00:00:00, 2013-01-01 00:00:00, … 2013-01-01 00:00:00]</td><td>[&quot;false&quot;, &quot;false&quot;, … &quot;true&quot;]</td><td>[5, 5, … 4]</td></tr><tr><td>&quot;AM General&quot;</td><td>[1985, 1985, … 1984]</td><td>[&quot;Post Office DJ5 2WD&quot;, &quot;Post Office DJ8 2WD&quot;, … &quot;DJ Po Vehicle 2WD&quot;]</td><td>[2.5, 4.2, … 2.5]</td><td>[4, 6, … 4]</td><td>[&quot;Automatic 3-spd&quot;, &quot;Automatic 3-spd&quot;, … &quot;Automatic 3-spd&quot;]</td><td>[&quot;Rear-Wheel Drive&quot;, &quot;Rear-Wheel Drive&quot;, … &quot;2-Wheel Drive&quot;]</td><td>[&quot;Special Purpose Vehicle 2WD&quot;, &quot;Special Purpose Vehicle 2WD&quot;, … &quot;Special Purpose Vehicle 2WD&quot;]</td><td>[&quot;Regular&quot;, &quot;Regular&quot;, … &quot;Regular&quot;]</td><td>[18.594376, 22.885386, … 17.500587]</td><td>[16, 13, … 18]</td><td>[17, 13, … 17]</td><td>[2013-01-01 00:00:00, 2013-01-01 00:00:00, … 2013-01-01 00:00:00]</td><td>[&quot;true&quot;, &quot;true&quot;, … &quot;true&quot;]</td><td>[3, 3, … 3]</td></tr></tbody></table></div>"
      ],
      "text/plain": [
       "shape: (145, 15)\n",
       "+-----+-----+-----+-----+-----+-----+-----+-----+-----+-----+-----+--------+-------+-------+-------+\n",
       "| mak | yea | mod | dis | cyl | tra | dri | VCl | fue | bar | cit | highwa | creat | is_au | num_g |\n",
       "| e   | r   | el  | pl  | ind | ny  | ve  | ass | lTy | rel | y08 | y08    | edOn  | tomat | ears  |\n",
       "| --- | --- | --- | --- | ers | --- | --- | --- | pe  | s08 | --- | ---    | ---   | ic    | ---   |\n",
       "| cat | lis | lis | lis | --- | lis | lis | lis | --- | --- | lis | list[u | list[ | ---   | list[ |\n",
       "|     | t[i | t[c | t[f | lis | t[s | t[c | t[c | lis | lis | t[u | 8]     | datet | list[ | u8]   |\n",
       "|     | 16] | at] | 32] | t[u | tr] | at] | at] | t[c | t[f | 8]  |        | ime[μ | str]  |       |\n",
       "|     |     |     |     | 8]  |     |     |     | at] | 32] |     |        | s]]   |       |       |\n",
       "+==================================================================================================+\n",
       "| Exc | [19 | [\"P | [5. | [8] | [\"A | [\"R | [\"M | [\"P | [21 | [12 | [17]   | [2013 | [\"tru | [4]   |\n",
       "| ali | 87] | hae | 0]  |     | uto | ear | ini | rem | .25 | ]   |        | -01-0 | e\"]   |       |\n",
       "| bur |     | ton |     |     | mat | -Wh | com | ium | 071 |     |        | 1 00: |       |       |\n",
       "| Aut |     | \"]  |     |     | ic  | eel | pac | \"]  | 3]  |     |        | 00:00 |       |       |\n",
       "| os  |     |     |     |     | 4-s | Dri | t   |     |     |     |        | ]     |       |       |\n",
       "|     |     |     |     |     | pd\" | ve\" | Car |     |     |     |        |       |       |       |\n",
       "|     |     |     |     |     | ]   | ]   | s\"] |     |     |     |        |       |       |       |\n",
       "| Ren | [19 | [\"A | [1. | [4, | [\"A | [\"F | [\"S | [\"R | [14 | [19 | [22,   | [2013 | [\"tru | [3,   |\n",
       "| aul | 86, | lli | 7,  | 4,  | uto | ron | ubc | egu | .87 | ,   | 29, …  | -01-0 | e\",   | 5, …  |\n",
       "| t   | 198 | anc | 1.7 | …   | mat | t-W | omp | lar | 55, | 23, | 28]    | 1 00: | \"fals | 5]    |\n",
       "|     | 6,  | e   | , … | 4]  | ic  | hee | act | \",  | 11. | …   |        | 00:00 | e\", … |       |\n",
       "|     | …   | Con | 2.2 |     | 3-s | l   | Car | \"Re | 442 | 20] |        | , 201 | \"fals |       |\n",
       "|     | 198 | ver | ]   |     | pd\" | Dri | s\", | gul | 693 |     |        | 3-01- | e\"]   |       |\n",
       "|     | 5]  | tib |     |     | ,   | ve\" | \"Su | ar\" | , … |     |        | …     |       |       |\n",
       "|     |     | le\" |     |     | \"Ma | ,   | bco | , … | 12. |     |        |       |       |       |\n",
       "|     |     | ,   |     |     | nua | \"Fr | mpa | \"Re | 935 |     |        |       |       |       |\n",
       "|     |     | \"Al |     |     | l   | ont | c…  | gu… | 2…  |     |        |       |       |       |\n",
       "|     |     | li… |     |     | 5-… | -W… |     |     |     |     |        |       |       |       |\n",
       "| Por | [19 | [\"9 | [3. | [6, | [\"A | [\"R | [\"T | [\"R | [17 | [15 | [22,   | [2013 | [\"tru | [4,   |\n",
       "| sch | 94, | 11  | 6,  | 6,  | uto | ear | wo  | egu | .50 | ,   | 23, …  | -01-0 | e\",   | 5, …  |\n",
       "| e   | 199 | Car | 3.6 | …   | mat | -Wh | Sea | lar | 058 | 15, | 24]    | 1 00: | \"fals | 6]    |\n",
       "|     | 4,  | rer | , … | 4]  | ic  | eel | ter | \",  | 7,  | …   |        | 00:00 | e\", … |       |\n",
       "|     | …   | a   | 3.0 |     | 4-s | Dri | s\", | \"Re | 16. | 15] |        | , 201 | \"fals |       |\n",
       "|     | 199 | 4/2 | ]   |     | pd\" | ve\" | \"Tw | gul | 528 |     |        | 3-01- | e\"]   |       |\n",
       "|     | 3]  | \",  |     |     | ,   | ,   | o   | ar\" | 334 |     |        | …     |       |       |\n",
       "|     |     | \"91 |     |     | \"Ma | \"Re | Sea | , … | , … |     |        |       |       |       |\n",
       "|     |     | 1   |     |     | nua | ar- | ter | \"Pr | 16. |     |        |       |       |       |\n",
       "|     |     | Car |     |     | l   | Whe | s\", | em… | 52… |     |        |       |       |       |\n",
       "|     |     | re… |     |     | 5-… | …   | …   |     |     |     |        |       |       |       |\n",
       "| Lan | [19 | [\"D | [3. | [8, | [\"M | [\"4 | [\"S | [\"P | [29 | [9, | [11,   | [2013 | [\"fal | [5,   |\n",
       "| d   | 93, | efe | 9,  | 8,  | anu | -Wh | pec | rem | .75 | 11, | 14, …  | -01-0 | se\",  | 4, …  |\n",
       "| Rov | 199 | nde | 3.9 | …   | al  | eel | ial | ium | 099 | …   | 15]    | 1 00: | \"true | 4]    |\n",
       "| er  | 3,  | r   | , … | 8]  | 5-s | or  | Pur | \",  | 9,  | 11] |        | 00:00 | \", …  |       |\n",
       "|     | …   | 110 | 3.9 |     | pd\" | All | pos | \"Pr | 24. |     |        | , 201 | \"true |       |\n",
       "|     | 199 | \",  | ]   |     | ,   | -Wh | e   | emi | 792 |     |        | 3-01- | \"]    |       |\n",
       "|     | 2]  | \"Ra |     |     | \"Au | eel | Veh | um\" | 5,  |     |        | …     |       |       |\n",
       "|     |     | nge |     |     | tom | Dri | icl | , … | …   |     |        |       |       |       |\n",
       "|     |     | Rov |     |     | ati | ve\" | es\" | \"Pr | 22. |     |        |       |       |       |\n",
       "|     |     | er  |     |     | c   | ,…  | ,   | em… | 885 |     |        |       |       |       |\n",
       "|     |     | …   |     |     | 4-… |     | \"…  |     | 3…  |     |        |       |       |       |\n",
       "| Geo | [19 | [\"T | [1. | [4, | [\"A | [\"R | [\"S | [\"R | [14 | [20 | [22,   | [2013 | [\"tru | [3,   |\n",
       "|     | 93, | rac | 6,  | 4,  | uto | ear | pec | egu | .16 | ,   | 24, …  | -01-0 | e\",   | 5, …  |\n",
       "|     | 199 | ker | 1.6 | …   | mat | -Wh | ial | lar | 714 | 22, | 31]    | 1 00: | \"fals | 5]    |\n",
       "|     | 3,  | Con | , … | 4]  | ic  | eel | Pur | \",  | 3,  | …   |        | 00:00 | e\", … |       |\n",
       "|     | …   | ver | 1.8 |     | 3-s | Dri | pos | \"Re | 12. | 24] |        | , 201 | \"fals |       |\n",
       "|     | 199 | tib | ]   |     | pd\" | ve\" | e   | gul | 935 |     |        | 3-01- | e\"]   |       |\n",
       "|     | 3]  | le  |     |     | ,   | ,   | Veh | ar\" | 218 |     |        | …     |       |       |\n",
       "|     |     | 2WD |     |     | \"Ma | \"Re | icl | , … | , … |     |        |       |       |       |\n",
       "|     |     | \",  |     |     | nua | ar- | es\" | \"Re | 11. |     |        |       |       |       |\n",
       "|     |     | \"T… |     |     | l   | Whe | ,   | gu… | 01… |     |        |       |       |       |\n",
       "|     |     |     |     |     | 5-… | …   | \"…  |     |     |     |        |       |       |       |\n",
       "| …   | …   | …   | …   | …   | …   | …   | …   | …   | …   | …   | …      | …     | …     | …     |\n",
       "| Rou | [20 | [\"S | [4. | [8, | [\"A | [\"R | [\"S | [\"P | [16 | [16 | [21,   | [2013 | [\"tru | [4,   |\n",
       "| sh  | 01, | tag | 6,  | 8,  | uto | ear | ubc | rem | .52 | ,   | 23, …  | -01-0 | e\",   | 5, …  |\n",
       "| Per | 200 | e 3 | 4.6 | …   | mat | -Wh | omp | ium | 833 | 15, | 19]    | 1 00: | \"fals | 10]   |\n",
       "| for | 1,  | Mus | , … | 8]  | ic  | eel | act | \",  | 4,  | …   |        | 00:00 | e\", … |       |\n",
       "| man | …   | tan | 5.0 |     | 4-s | Dri | Car | \"Pr | 16. | 12] |        | , 201 | \"true |       |\n",
       "| ce  | 202 | g\", | ]   |     | pd\" | ve\" | s\", | emi | 528 |     |        | 3-01- | \"]    |       |\n",
       "|     | 1]  | \"St |     |     | ,   | ,   | \"Su | um\" | 334 |     |        | …     |       |       |\n",
       "|     |     | age |     |     | \"Ma | \"Re | bco | , … | , … |     |        |       |       |       |\n",
       "|     |     | 3   |     |     | nua | ar- | mpa | \"Pr | 19. |     |        |       |       |       |\n",
       "|     |     | M…  |     |     | l   | Whe | c…  | em… | 83… |     |        |       |       |       |\n",
       "|     |     |     |     |     | 5-… | …   |     |     |     |     |        |       |       |       |\n",
       "| STI | [20 | [\"S | [2. | [4] | [\"M | [\"A | [\"C | [\"P | [17 | [15 | [21]   | [2019 | [\"fal | [6]   |\n",
       "|     | 19] | 209 | 5]  |     | anu | ll- | omp | rem | .50 | ]   |        | -10-0 | se\"]  |       |\n",
       "|     |     | \"]  |     |     | al  | Whe | act | ium | 058 |     |        | 2 00: |       |       |\n",
       "|     |     |     |     |     | 6-s | el  | Car | \"]  | 7]  |     |        | 00:00 |       |       |\n",
       "|     |     |     |     |     | pd\" | Dri | s\"] |     |     |     |        | ]     |       |       |\n",
       "|     |     |     |     |     | ]   | ve\" |     |     |     |     |        |       |       |       |\n",
       "|     |     |     |     |     |     | ]   |     |     |     |     |        |       |       |       |\n",
       "| Mer | [19 | [\"X | [2. | [4, | [\"A | [\"R | [\"C | [\"R | [16 | [16 | [20,   | [2013 | [\"tru | [3,   |\n",
       "| kur | 86, | R4T | 3,  | 4,  | uto | ear | omp | egu | .52 | ,   | 22, …  | -01-0 | e\",   | 5, …  |\n",
       "|     | 198 | i\", | 2.3 | …   | mat | -Wh | act | lar | 833 | 17, | 21]    | 1 00: | \"fals | 5]    |\n",
       "|     | 6,  | \"XR | , … | 6]  | ic  | eel | Car | \",  | 4,  | …   |        | 00:00 | e\", … |       |\n",
       "|     | …   | 4Ti | 2.9 |     | 3-s | Dri | s\", | \"Re | 15. | 16] |        | , 201 | \"fals |       |\n",
       "|     | 198 | \",  | ]   |     | pd\" | ve\" | \"Co | gul | 658 |     |        | 3-01- | e\"]   |       |\n",
       "|     | 9]  | …   |     |     | ,   | ,   | mpa | ar\" | 422 |     |        | …     |       |       |\n",
       "|     |     | \"Sc |     |     | \"Ma | \"Re | ct  | , … | , … |     |        |       |       |       |\n",
       "|     |     | orp |     |     | nua | ar- | Car | \"Re | 16. |     |        |       |       |       |\n",
       "|     |     | io\" |     |     | l   | Whe | s…  | gu… | 52… |     |        |       |       |       |\n",
       "|     |     | …   |     |     | 5-… | …   |     |     |     |     |        |       |       |       |\n",
       "| Mas | [19 | [\"B | [2. | [6, | [\"M | [\"R | [\"M | [\"R | [21 | [12 | [18,   | [2013 | [\"fal | [5,   |\n",
       "| era | 85, | itu | 5,  | 6,  | anu | ear | ini | egu | .25 | ,   | 18, …  | -01-0 | se\",  | 5, …  |\n",
       "| ti  | 198 | rbo | 2.5 | …   | al  | -Wh | com | lar | 071 | 12, | 16]    | 1 00: | \"fals | 4]    |\n",
       "|     | 5,  | \",  | , … | 6]  | 5-s | eel | pac | \",  | 3,  | …   |        | 00:00 | e\", … |       |\n",
       "|     | …   | \"Bi | 2.8 |     | pd\" | Dri | t   | \"Pr | 21. | 13] |        | , 201 | \"true |       |\n",
       "|     | 199 | tur | ]   |     | ,   | ve\" | Car | emi | 250 |     |        | 3-01- | \"]    |       |\n",
       "|     | 1]  | bo\" |     |     | \"Ma | ,   | s\", | um\" | 713 |     |        | …     |       |       |\n",
       "|     |     | , … |     |     | nua | \"Re | \"Su | , … | , … |     |        |       |       |       |\n",
       "|     |     | \"43 |     |     | l   | ar- | bco | \"Pr | 21. |     |        |       |       |       |\n",
       "|     |     | 0\"… |     |     | 5-s | Whe | mpa | em… | 25… |     |        |       |       |       |\n",
       "|     |     |     |     |     | pd… | …   | …   |     |     |     |        |       |       |       |\n",
       "| AM  | [19 | [\"P | [2. | [4, | [\"A | [\"R | [\"S | [\"R | [18 | [16 | [17,   | [2013 | [\"tru | [3,   |\n",
       "| Gen | 85, | ost | 5,  | 6,  | uto | ear | pec | egu | .59 | ,   | 13, …  | -01-0 | e\",   | 3, …  |\n",
       "| era | 198 | Off | 4.2 | …   | mat | -Wh | ial | lar | 437 | 13, | 17]    | 1 00: | \"true | 3]    |\n",
       "| l   | 5,  | ice | , … | 4]  | ic  | eel | Pur | \",  | 6,  | …   |        | 00:00 | \", …  |       |\n",
       "|     | …   | DJ5 | 2.5 |     | 3-s | Dri | pos | \"Re | 22. | 18] |        | , 201 | \"true |       |\n",
       "|     | 198 | 2WD | ]   |     | pd\" | ve\" | e   | gul | 885 |     |        | 3-01- | \"]    |       |\n",
       "|     | 4]  | \",  |     |     | ,   | ,   | Veh | ar\" | 386 |     |        | …     |       |       |\n",
       "|     |     | \"Po |     |     | \"Au | \"Re | icl | , … | , … |     |        |       |       |       |\n",
       "|     |     | st  |     |     | tom | ar- | e   | \"Re | 17. |     |        |       |       |       |\n",
       "|     |     | …   |     |     | ati | Whe | 2WD | gu… | 50… |     |        |       |       |       |\n",
       "|     |     |     |     |     | c…  | …   | \"…  |     |     |     |        |       |       |       |\n",
       "+-----+-----+-----+-----+-----+-----+-----+-----+-----+-----+-----+--------+-------+-------+-------+"
      ]
     },
     "execution_count": 50,
     "metadata": {},
     "output_type": "execute_result"
    }
   ],
   "source": [
    "(\n",
    "    autos\n",
    "    .group_by('make')\n",
    "    .agg(pl.all())\n",
    ")"
   ]
  },
  {
   "cell_type": "markdown",
   "id": "76362ed5-880a-495e-99e9-1055412af3b8",
   "metadata": {},
   "source": [
    "* Limit to make, model and cylinders so the data is easier to see.\n",
    "* Get unique values for each list by using chained expression to:\n",
    "    - remove duplicates\n",
    "    - drop nulls\n",
    "    - get the length\n",
    "    - add a suffix"
   ]
  },
  {
   "cell_type": "code",
   "execution_count": 51,
   "id": "04531a6c-e103-4ec8-8596-b68a54709df9",
   "metadata": {},
   "outputs": [
    {
     "name": "stderr",
     "output_type": "stream",
     "text": [
      "keys/aggregates are not partitionable: running default HASH AGGREGATION\n"
     ]
    },
    {
     "data": {
      "text/html": [
       "<div><style>\n",
       ".dataframe > thead > tr,\n",
       ".dataframe > tbody > tr {\n",
       "  text-align: right;\n",
       "  white-space: pre-wrap;\n",
       "}\n",
       "</style>\n",
       "<small>shape: (145, 3)</small><table border=\"1\" class=\"dataframe\"><thead><tr><th>make</th><th>model_len</th><th>cylinders_len</th></tr><tr><td>cat</td><td>u32</td><td>u32</td></tr></thead><tbody><tr><td>&quot;Alfa Romeo&quot;</td><td>13</td><td>3</td></tr><tr><td>&quot;Ferrari&quot;</td><td>83</td><td>3</td></tr><tr><td>&quot;Dodge&quot;</td><td>124</td><td>4</td></tr><tr><td>&quot;Subaru&quot;</td><td>78</td><td>3</td></tr><tr><td>&quot;Toyota&quot;</td><td>179</td><td>4</td></tr><tr><td>&hellip;</td><td>&hellip;</td><td>&hellip;</td></tr><tr><td>&quot;Quantum Technologies&quot;</td><td>1</td><td>1</td></tr><tr><td>&quot;London Taxi&quot;</td><td>1</td><td>1</td></tr><tr><td>&quot;Excalibur Autos&quot;</td><td>1</td><td>1</td></tr><tr><td>&quot;Mahindra&quot;</td><td>1</td><td>1</td></tr><tr><td>&quot;Azure Dynamics&quot;</td><td>1</td><td>0</td></tr></tbody></table></div>"
      ],
      "text/plain": [
       "shape: (145, 3)\n",
       "+----------------------+-----------+---------------+\n",
       "| make                 | model_len | cylinders_len |\n",
       "| ---                  | ---       | ---           |\n",
       "| cat                  | u32       | u32           |\n",
       "+==================================================+\n",
       "| Alfa Romeo           | 13        | 3             |\n",
       "| Ferrari              | 83        | 3             |\n",
       "| Dodge                | 124       | 4             |\n",
       "| Subaru               | 78        | 3             |\n",
       "| Toyota               | 179       | 4             |\n",
       "| …                    | …         | …             |\n",
       "| Quantum Technologies | 1         | 1             |\n",
       "| London Taxi          | 1         | 1             |\n",
       "| Excalibur Autos      | 1         | 1             |\n",
       "| Mahindra             | 1         | 1             |\n",
       "| Azure Dynamics       | 1         | 0             |\n",
       "+----------------------+-----------+---------------+"
      ]
     },
     "execution_count": 51,
     "metadata": {},
     "output_type": "execute_result"
    }
   ],
   "source": [
    "(\n",
    "    autos\n",
    "    .select('make', 'model', 'cylinders')\n",
    "    .group_by('make')\n",
    "    .agg(\n",
    "        pl.all()\n",
    "        .unique()\n",
    "        .drop_nulls()\n",
    "        .len() # akin to value_counts\n",
    "        .name.suffix('_len')\n",
    "    )\n",
    "    .sort(by='make')\n",
    ")"
   ]
  },
  {
   "cell_type": "markdown",
   "id": "eade53fe-d92e-4543-aaaf-55dc023d1c24",
   "metadata": {},
   "source": [
    "* These are the aggregated values.\n",
    "* There are only 136 makes, so this dataframe has only 136 rows.\n",
    "  \n",
    "If we wanted these *'_len'* columns added to the **original dataframe with no loss of rows**, use window functions.\n",
    "* Move the `.group_by('make')` to an `.over('make')`.\n",
    "* Use `.with_columns` instead of `.select`"
   ]
  },
  {
   "cell_type": "code",
   "execution_count": 52,
   "id": "a45db136-f737-4c39-b6e4-e2b51f0d7ec0",
   "metadata": {},
   "outputs": [
    {
     "data": {
      "text/html": [
       "<div><style>\n",
       ".dataframe > thead > tr,\n",
       ".dataframe > tbody > tr {\n",
       "  text-align: right;\n",
       "  white-space: pre-wrap;\n",
       "}\n",
       "</style>\n",
       "<small>shape: (48_202, 17)</small><table border=\"1\" class=\"dataframe\"><thead><tr><th>year</th><th>make</th><th>model</th><th>displ</th><th>cylinders</th><th>trany</th><th>drive</th><th>VClass</th><th>fuelType</th><th>barrels08</th><th>city08</th><th>highway08</th><th>createdOn</th><th>is_automatic</th><th>num_gears</th><th>model_len</th><th>cylinders_len</th></tr><tr><td>i16</td><td>cat</td><td>cat</td><td>f32</td><td>u8</td><td>str</td><td>cat</td><td>cat</td><td>cat</td><td>f32</td><td>u8</td><td>u8</td><td>datetime[μs]</td><td>str</td><td>u8</td><td>u32</td><td>u32</td></tr></thead><tbody><tr><td>1985</td><td>&quot;Alfa Romeo&quot;</td><td>&quot;Spider Veloce 2000&quot;</td><td>2.0</td><td>4</td><td>&quot;Manual 5-spd&quot;</td><td>&quot;Rear-Wheel Drive&quot;</td><td>&quot;Two Seaters&quot;</td><td>&quot;Regular&quot;</td><td>14.167143</td><td>19</td><td>25</td><td>2013-01-01 00:00:00</td><td>&quot;false&quot;</td><td>5</td><td>13</td><td>3</td></tr><tr><td>1985</td><td>&quot;Ferrari&quot;</td><td>&quot;Testarossa&quot;</td><td>4.9</td><td>12</td><td>&quot;Manual 5-spd&quot;</td><td>&quot;Rear-Wheel Drive&quot;</td><td>&quot;Two Seaters&quot;</td><td>&quot;Regular&quot;</td><td>27.046364</td><td>9</td><td>14</td><td>2013-01-01 00:00:00</td><td>&quot;false&quot;</td><td>5</td><td>83</td><td>3</td></tr><tr><td>1985</td><td>&quot;Dodge&quot;</td><td>&quot;Charger&quot;</td><td>2.2</td><td>4</td><td>&quot;Manual 5-spd&quot;</td><td>&quot;Front-Wheel Drive&quot;</td><td>&quot;Subcompact Cars&quot;</td><td>&quot;Regular&quot;</td><td>11.018888</td><td>23</td><td>33</td><td>2013-01-01 00:00:00</td><td>&quot;false&quot;</td><td>5</td><td>124</td><td>4</td></tr><tr><td>1985</td><td>&quot;Dodge&quot;</td><td>&quot;B150/B250 Wagon 2WD&quot;</td><td>5.2</td><td>8</td><td>&quot;Automatic 3-spd&quot;</td><td>&quot;Rear-Wheel Drive&quot;</td><td>&quot;Vans&quot;</td><td>&quot;Regular&quot;</td><td>27.046364</td><td>10</td><td>12</td><td>2013-01-01 00:00:00</td><td>&quot;true&quot;</td><td>3</td><td>124</td><td>4</td></tr><tr><td>1993</td><td>&quot;Subaru&quot;</td><td>&quot;Legacy AWD Turbo&quot;</td><td>2.2</td><td>4</td><td>&quot;Manual 5-spd&quot;</td><td>&quot;4-Wheel or All-Wheel Drive&quot;</td><td>&quot;Compact Cars&quot;</td><td>&quot;Premium&quot;</td><td>15.658422</td><td>17</td><td>23</td><td>2013-01-01 00:00:00</td><td>&quot;false&quot;</td><td>5</td><td>78</td><td>3</td></tr><tr><td>&hellip;</td><td>&hellip;</td><td>&hellip;</td><td>&hellip;</td><td>&hellip;</td><td>&hellip;</td><td>&hellip;</td><td>&hellip;</td><td>&hellip;</td><td>&hellip;</td><td>&hellip;</td><td>&hellip;</td><td>&hellip;</td><td>&hellip;</td><td>&hellip;</td><td>&hellip;</td><td>&hellip;</td></tr><tr><td>1993</td><td>&quot;Subaru&quot;</td><td>&quot;Legacy&quot;</td><td>2.2</td><td>4</td><td>&quot;Automatic 4-spd&quot;</td><td>&quot;Front-Wheel Drive&quot;</td><td>&quot;Compact Cars&quot;</td><td>&quot;Regular&quot;</td><td>13.523182</td><td>19</td><td>26</td><td>2013-01-01 00:00:00</td><td>&quot;true&quot;</td><td>4</td><td>78</td><td>3</td></tr><tr><td>1993</td><td>&quot;Subaru&quot;</td><td>&quot;Legacy&quot;</td><td>2.2</td><td>4</td><td>&quot;Manual 5-spd&quot;</td><td>&quot;Front-Wheel Drive&quot;</td><td>&quot;Compact Cars&quot;</td><td>&quot;Regular&quot;</td><td>12.935218</td><td>20</td><td>28</td><td>2013-01-01 00:00:00</td><td>&quot;false&quot;</td><td>5</td><td>78</td><td>3</td></tr><tr><td>1993</td><td>&quot;Subaru&quot;</td><td>&quot;Legacy AWD&quot;</td><td>2.2</td><td>4</td><td>&quot;Automatic 4-spd&quot;</td><td>&quot;4-Wheel or All-Wheel Drive&quot;</td><td>&quot;Compact Cars&quot;</td><td>&quot;Regular&quot;</td><td>14.167143</td><td>18</td><td>24</td><td>2013-01-01 00:00:00</td><td>&quot;true&quot;</td><td>4</td><td>78</td><td>3</td></tr><tr><td>1993</td><td>&quot;Subaru&quot;</td><td>&quot;Legacy AWD&quot;</td><td>2.2</td><td>4</td><td>&quot;Manual 5-spd&quot;</td><td>&quot;4-Wheel or All-Wheel Drive&quot;</td><td>&quot;Compact Cars&quot;</td><td>&quot;Regular&quot;</td><td>14.167143</td><td>18</td><td>24</td><td>2013-01-01 00:00:00</td><td>&quot;false&quot;</td><td>5</td><td>78</td><td>3</td></tr><tr><td>1993</td><td>&quot;Subaru&quot;</td><td>&quot;Legacy AWD Turbo&quot;</td><td>2.2</td><td>4</td><td>&quot;Automatic 4-spd&quot;</td><td>&quot;4-Wheel or All-Wheel Drive&quot;</td><td>&quot;Compact Cars&quot;</td><td>&quot;Premium&quot;</td><td>16.528334</td><td>16</td><td>21</td><td>2013-01-01 00:00:00</td><td>&quot;true&quot;</td><td>4</td><td>78</td><td>3</td></tr></tbody></table></div>"
      ],
      "text/plain": [
       "shape: (48_202, 17)\n",
       "+-----+-----+-----+-----+-----+-----+-----+-----+-----+-----+-----+-----+-----+-----+-----+-----+-----+\n",
       "| yea | mak | mod | dis | cyl | tra | dri | VCl | fue | bar | cit | hig | cre | is_ | num | mod | cyl |\n",
       "| r   | e   | el  | pl  | ind | ny  | ve  | ass | lTy | rel | y08 | hwa | ate | aut | _ge | el_ | ind |\n",
       "| --- | --- | --- | --- | ers | --- | --- | --- | pe  | s08 | --- | y08 | dOn | oma | ars | len | ers |\n",
       "| i16 | cat | cat | f32 | --- | str | cat | cat | --- | --- | u8  | --- | --- | tic | --- | --- | _le |\n",
       "|     |     |     |     | u8  |     |     |     | cat | f32 |     | u8  | dat | --- | u8  | u32 | n   |\n",
       "|     |     |     |     |     |     |     |     |     |     |     |     | eti | str |     |     | --- |\n",
       "|     |     |     |     |     |     |     |     |     |     |     |     | me[ |     |     |     | u32 |\n",
       "|     |     |     |     |     |     |     |     |     |     |     |     | μs] |     |     |     |     |\n",
       "+=====================================================================================================+\n",
       "| 198 | Alf | Spi | 2.0 | 4   | Man | Rea | Two | Reg | 14. | 19  | 25  | 201 | fal | 5   | 13  | 3   |\n",
       "| 5   | a   | der |     |     | ual | r-W | Sea | ula | 167 |     |     | 3-0 | se  |     |     |     |\n",
       "|     | Rom | Vel |     |     | 5-s | hee | ter | r   | 143 |     |     | 1-0 |     |     |     |     |\n",
       "|     | eo  | oce |     |     | pd  | l   | s   |     |     |     |     | 1   |     |     |     |     |\n",
       "|     |     | 200 |     |     |     | Dri |     |     |     |     |     | 00: |     |     |     |     |\n",
       "|     |     | 0   |     |     |     | ve  |     |     |     |     |     | 00: |     |     |     |     |\n",
       "|     |     |     |     |     |     |     |     |     |     |     |     | 00  |     |     |     |     |\n",
       "| 198 | Fer | Tes | 4.9 | 12  | Man | Rea | Two | Reg | 27. | 9   | 14  | 201 | fal | 5   | 83  | 3   |\n",
       "| 5   | rar | tar |     |     | ual | r-W | Sea | ula | 046 |     |     | 3-0 | se  |     |     |     |\n",
       "|     | i   | oss |     |     | 5-s | hee | ter | r   | 364 |     |     | 1-0 |     |     |     |     |\n",
       "|     |     | a   |     |     | pd  | l   | s   |     |     |     |     | 1   |     |     |     |     |\n",
       "|     |     |     |     |     |     | Dri |     |     |     |     |     | 00: |     |     |     |     |\n",
       "|     |     |     |     |     |     | ve  |     |     |     |     |     | 00: |     |     |     |     |\n",
       "|     |     |     |     |     |     |     |     |     |     |     |     | 00  |     |     |     |     |\n",
       "| 198 | Dod | Cha | 2.2 | 4   | Man | Fro | Sub | Reg | 11. | 23  | 33  | 201 | fal | 5   | 124 | 4   |\n",
       "| 5   | ge  | rge |     |     | ual | nt- | com | ula | 018 |     |     | 3-0 | se  |     |     |     |\n",
       "|     |     | r   |     |     | 5-s | Whe | pac | r   | 888 |     |     | 1-0 |     |     |     |     |\n",
       "|     |     |     |     |     | pd  | el  | t   |     |     |     |     | 1   |     |     |     |     |\n",
       "|     |     |     |     |     |     | Dri | Car |     |     |     |     | 00: |     |     |     |     |\n",
       "|     |     |     |     |     |     | ve  | s   |     |     |     |     | 00: |     |     |     |     |\n",
       "|     |     |     |     |     |     |     |     |     |     |     |     | 00  |     |     |     |     |\n",
       "| 198 | Dod | B15 | 5.2 | 8   | Aut | Rea | Van | Reg | 27. | 10  | 12  | 201 | tru | 3   | 124 | 4   |\n",
       "| 5   | ge  | 0/B |     |     | oma | r-W | s   | ula | 046 |     |     | 3-0 | e   |     |     |     |\n",
       "|     |     | 250 |     |     | tic | hee |     | r   | 364 |     |     | 1-0 |     |     |     |     |\n",
       "|     |     | Wag |     |     | 3-s | l   |     |     |     |     |     | 1   |     |     |     |     |\n",
       "|     |     | on  |     |     | pd  | Dri |     |     |     |     |     | 00: |     |     |     |     |\n",
       "|     |     | 2WD |     |     |     | ve  |     |     |     |     |     | 00: |     |     |     |     |\n",
       "|     |     |     |     |     |     |     |     |     |     |     |     | 00  |     |     |     |     |\n",
       "| 199 | Sub | Leg | 2.2 | 4   | Man | 4-W | Com | Pre | 15. | 17  | 23  | 201 | fal | 5   | 78  | 3   |\n",
       "| 3   | aru | acy |     |     | ual | hee | pac | miu | 658 |     |     | 3-0 | se  |     |     |     |\n",
       "|     |     | AWD |     |     | 5-s | l   | t   | m   | 422 |     |     | 1-0 |     |     |     |     |\n",
       "|     |     | Tur |     |     | pd  | or  | Car |     |     |     |     | 1   |     |     |     |     |\n",
       "|     |     | bo  |     |     |     | All | s   |     |     |     |     | 00: |     |     |     |     |\n",
       "|     |     |     |     |     |     | -Wh |     |     |     |     |     | 00: |     |     |     |     |\n",
       "|     |     |     |     |     |     | eel |     |     |     |     |     | 00  |     |     |     |     |\n",
       "|     |     |     |     |     |     | Dri |     |     |     |     |     |     |     |     |     |     |\n",
       "|     |     |     |     |     |     | ve  |     |     |     |     |     |     |     |     |     |     |\n",
       "| …   | …   | …   | …   | …   | …   | …   | …   | …   | …   | …   | …   | …   | …   | …   | …   | …   |\n",
       "| 199 | Sub | Leg | 2.2 | 4   | Aut | Fro | Com | Reg | 13. | 19  | 26  | 201 | tru | 4   | 78  | 3   |\n",
       "| 3   | aru | acy |     |     | oma | nt- | pac | ula | 523 |     |     | 3-0 | e   |     |     |     |\n",
       "|     |     |     |     |     | tic | Whe | t   | r   | 182 |     |     | 1-0 |     |     |     |     |\n",
       "|     |     |     |     |     | 4-s | el  | Car |     |     |     |     | 1   |     |     |     |     |\n",
       "|     |     |     |     |     | pd  | Dri | s   |     |     |     |     | 00: |     |     |     |     |\n",
       "|     |     |     |     |     |     | ve  |     |     |     |     |     | 00: |     |     |     |     |\n",
       "|     |     |     |     |     |     |     |     |     |     |     |     | 00  |     |     |     |     |\n",
       "| 199 | Sub | Leg | 2.2 | 4   | Man | Fro | Com | Reg | 12. | 20  | 28  | 201 | fal | 5   | 78  | 3   |\n",
       "| 3   | aru | acy |     |     | ual | nt- | pac | ula | 935 |     |     | 3-0 | se  |     |     |     |\n",
       "|     |     |     |     |     | 5-s | Whe | t   | r   | 218 |     |     | 1-0 |     |     |     |     |\n",
       "|     |     |     |     |     | pd  | el  | Car |     |     |     |     | 1   |     |     |     |     |\n",
       "|     |     |     |     |     |     | Dri | s   |     |     |     |     | 00: |     |     |     |     |\n",
       "|     |     |     |     |     |     | ve  |     |     |     |     |     | 00: |     |     |     |     |\n",
       "|     |     |     |     |     |     |     |     |     |     |     |     | 00  |     |     |     |     |\n",
       "| 199 | Sub | Leg | 2.2 | 4   | Aut | 4-W | Com | Reg | 14. | 18  | 24  | 201 | tru | 4   | 78  | 3   |\n",
       "| 3   | aru | acy |     |     | oma | hee | pac | ula | 167 |     |     | 3-0 | e   |     |     |     |\n",
       "|     |     | AWD |     |     | tic | l   | t   | r   | 143 |     |     | 1-0 |     |     |     |     |\n",
       "|     |     |     |     |     | 4-s | or  | Car |     |     |     |     | 1   |     |     |     |     |\n",
       "|     |     |     |     |     | pd  | All | s   |     |     |     |     | 00: |     |     |     |     |\n",
       "|     |     |     |     |     |     | -Wh |     |     |     |     |     | 00: |     |     |     |     |\n",
       "|     |     |     |     |     |     | eel |     |     |     |     |     | 00  |     |     |     |     |\n",
       "|     |     |     |     |     |     | Dri |     |     |     |     |     |     |     |     |     |     |\n",
       "|     |     |     |     |     |     | ve  |     |     |     |     |     |     |     |     |     |     |\n",
       "| 199 | Sub | Leg | 2.2 | 4   | Man | 4-W | Com | Reg | 14. | 18  | 24  | 201 | fal | 5   | 78  | 3   |\n",
       "| 3   | aru | acy |     |     | ual | hee | pac | ula | 167 |     |     | 3-0 | se  |     |     |     |\n",
       "|     |     | AWD |     |     | 5-s | l   | t   | r   | 143 |     |     | 1-0 |     |     |     |     |\n",
       "|     |     |     |     |     | pd  | or  | Car |     |     |     |     | 1   |     |     |     |     |\n",
       "|     |     |     |     |     |     | All | s   |     |     |     |     | 00: |     |     |     |     |\n",
       "|     |     |     |     |     |     | -Wh |     |     |     |     |     | 00: |     |     |     |     |\n",
       "|     |     |     |     |     |     | eel |     |     |     |     |     | 00  |     |     |     |     |\n",
       "|     |     |     |     |     |     | Dri |     |     |     |     |     |     |     |     |     |     |\n",
       "|     |     |     |     |     |     | ve  |     |     |     |     |     |     |     |     |     |     |\n",
       "| 199 | Sub | Leg | 2.2 | 4   | Aut | 4-W | Com | Pre | 16. | 16  | 21  | 201 | tru | 4   | 78  | 3   |\n",
       "| 3   | aru | acy |     |     | oma | hee | pac | miu | 528 |     |     | 3-0 | e   |     |     |     |\n",
       "|     |     | AWD |     |     | tic | l   | t   | m   | 334 |     |     | 1-0 |     |     |     |     |\n",
       "|     |     | Tur |     |     | 4-s | or  | Car |     |     |     |     | 1   |     |     |     |     |\n",
       "|     |     | bo  |     |     | pd  | All | s   |     |     |     |     | 00: |     |     |     |     |\n",
       "|     |     |     |     |     |     | -Wh |     |     |     |     |     | 00: |     |     |     |     |\n",
       "|     |     |     |     |     |     | eel |     |     |     |     |     | 00  |     |     |     |     |\n",
       "|     |     |     |     |     |     | Dri |     |     |     |     |     |     |     |     |     |     |\n",
       "|     |     |     |     |     |     | ve  |     |     |     |     |     |     |     |     |     |     |\n",
       "+-----+-----+-----+-----+-----+-----+-----+-----+-----+-----+-----+-----+-----+-----+-----+-----+-----+"
      ]
     },
     "execution_count": 52,
     "metadata": {},
     "output_type": "execute_result"
    }
   ],
   "source": [
    "(\n",
    "    autos\n",
    "    .with_columns(\n",
    "        pl.col('model', 'cylinders')\n",
    "            .unique().drop_nulls().len()\n",
    "            .over('make')  \n",
    "            .name.suffix('_len')\n",
    "        )\n",
    ")"
   ]
  },
  {
   "cell_type": "markdown",
   "id": "3dd6da3a-07a6-4485-8fad-715d15bceae1",
   "metadata": {},
   "source": [
    "---\n",
    "To get the count of every column:\n",
    "\n",
    "* Change the selector to use all of the columns.\n",
    "* Remove the *make* column."
   ]
  },
  {
   "cell_type": "code",
   "execution_count": 53,
   "id": "f82ae398-4bd1-4a88-92c6-1a9d8f62ac20",
   "metadata": {},
   "outputs": [],
   "source": [
    "# (\n",
    "#     autos\n",
    "#     .select(\n",
    "#         (cs.all() - pl.col('make'))\n",
    "#             .unique().drop_nulls().len()\n",
    "#             .over('make')\n",
    "#             #.name.suffix('_count')\n",
    "#     )\n",
    "# )\n",
    "\n"
   ]
  },
  {
   "cell_type": "markdown",
   "id": "8db85e39-51dd-4919-9858-2d5b4c6eeb1c",
   "metadata": {},
   "source": [
    "---\n",
    "# 4.11 Chapter Methods and Functions\n",
    "\n",
    "[back to Top](#Top)\n",
    "\n",
    "See full list of aggregation functions here:\n",
    "* https://docs.pola.rs/py-polars/html/reference/expressions/aggregation.html\n",
    "\n",
    "Selected list below:"
   ]
  },
  {
   "cell_type": "code",
   "execution_count": 54,
   "id": "d74e06ad-24b5-4d24-86cd-d5e96d26123c",
   "metadata": {},
   "outputs": [
    {
     "name": "stderr",
     "output_type": "stream",
     "text": [
      "known unique values: 145\n",
      "run PARTITIONED HASH AGGREGATION\n"
     ]
    },
    {
     "data": {
      "text/html": [
       "<div><style>\n",
       ".dataframe > thead > tr,\n",
       ".dataframe > tbody > tr {\n",
       "  text-align: right;\n",
       "  white-space: pre-wrap;\n",
       "}\n",
       "</style>\n",
       "<small>shape: (145, 2)</small><table border=\"1\" class=\"dataframe\"><thead><tr><th>make</th><th>len</th></tr><tr><td>cat</td><td>u32</td></tr></thead><tbody><tr><td>&quot;Chevrolet&quot;</td><td>4472</td></tr><tr><td>&quot;Ford&quot;</td><td>3834</td></tr><tr><td>&quot;GMC&quot;</td><td>2823</td></tr><tr><td>&quot;Dodge&quot;</td><td>2695</td></tr><tr><td>&quot;BMW&quot;</td><td>2536</td></tr><tr><td>&hellip;</td><td>&hellip;</td></tr><tr><td>&quot;Goldacre&quot;</td><td>1</td></tr><tr><td>&quot;Panos&quot;</td><td>1</td></tr><tr><td>&quot;General Motors&quot;</td><td>1</td></tr><tr><td>&quot;Lordstown&quot;</td><td>1</td></tr><tr><td>&quot;London Coach Co Inc&quot;</td><td>1</td></tr></tbody></table></div>"
      ],
      "text/plain": [
       "shape: (145, 2)\n",
       "+---------------------+------+\n",
       "| make                | len  |\n",
       "| ---                 | ---  |\n",
       "| cat                 | u32  |\n",
       "+============================+\n",
       "| Chevrolet           | 4472 |\n",
       "| Ford                | 3834 |\n",
       "| GMC                 | 2823 |\n",
       "| Dodge               | 2695 |\n",
       "| BMW                 | 2536 |\n",
       "| …                   | …    |\n",
       "| Goldacre            | 1    |\n",
       "| Panos               | 1    |\n",
       "| General Motors      | 1    |\n",
       "| Lordstown           | 1    |\n",
       "| London Coach Co Inc | 1    |\n",
       "+---------------------+------+"
      ]
     },
     "execution_count": 54,
     "metadata": {},
     "output_type": "execute_result"
    }
   ],
   "source": [
    "(\n",
    "    autos\n",
    "    .group_by('make')\n",
    "    .len()\n",
    "    .sort(by=['len'], descending=True)\n",
    ")"
   ]
  },
  {
   "cell_type": "code",
   "execution_count": 55,
   "id": "af0e94b1-43e0-466f-91f2-c5d5e6c443af",
   "metadata": {},
   "outputs": [
    {
     "data": {
      "text/html": [
       "<div><style>\n",
       ".dataframe > thead > tr,\n",
       ".dataframe > tbody > tr {\n",
       "  text-align: right;\n",
       "  white-space: pre-wrap;\n",
       "}\n",
       "</style>\n",
       "<small>shape: (3, 15)</small><table border=\"1\" class=\"dataframe\"><thead><tr><th>year</th><th>make</th><th>model</th><th>displ</th><th>cylinders</th><th>trany</th><th>drive</th><th>VClass</th><th>fuelType</th><th>barrels08</th><th>city08</th><th>highway08</th><th>createdOn</th><th>is_automatic</th><th>num_gears</th></tr><tr><td>i16</td><td>cat</td><td>cat</td><td>f32</td><td>u8</td><td>str</td><td>cat</td><td>cat</td><td>cat</td><td>f32</td><td>u8</td><td>u8</td><td>datetime[μs]</td><td>str</td><td>u8</td></tr></thead><tbody><tr><td>1985</td><td>&quot;Alfa Romeo&quot;</td><td>&quot;Spider Veloce 2000&quot;</td><td>2.0</td><td>4</td><td>&quot;Manual 5-spd&quot;</td><td>&quot;Rear-Wheel Drive&quot;</td><td>&quot;Two Seaters&quot;</td><td>&quot;Regular&quot;</td><td>14.167143</td><td>19</td><td>25</td><td>2013-01-01 00:00:00</td><td>&quot;false&quot;</td><td>5</td></tr><tr><td>1985</td><td>&quot;Ferrari&quot;</td><td>&quot;Testarossa&quot;</td><td>4.9</td><td>12</td><td>&quot;Manual 5-spd&quot;</td><td>&quot;Rear-Wheel Drive&quot;</td><td>&quot;Two Seaters&quot;</td><td>&quot;Regular&quot;</td><td>27.046364</td><td>9</td><td>14</td><td>2013-01-01 00:00:00</td><td>&quot;false&quot;</td><td>5</td></tr><tr><td>1985</td><td>&quot;Dodge&quot;</td><td>&quot;Charger&quot;</td><td>2.2</td><td>4</td><td>&quot;Manual 5-spd&quot;</td><td>&quot;Front-Wheel Drive&quot;</td><td>&quot;Subcompact Cars&quot;</td><td>&quot;Regular&quot;</td><td>11.018888</td><td>23</td><td>33</td><td>2013-01-01 00:00:00</td><td>&quot;false&quot;</td><td>5</td></tr></tbody></table></div>"
      ],
      "text/plain": [
       "shape: (3, 15)\n",
       "+-----+-----+-----+-----+-----+-----+-----+-----+-----+-----+-----+--------+-------+-------+-------+\n",
       "| yea | mak | mod | dis | cyl | tra | dri | VCl | fue | bar | cit | highwa | creat | is_au | num_g |\n",
       "| r   | e   | el  | pl  | ind | ny  | ve  | ass | lTy | rel | y08 | y08    | edOn  | tomat | ears  |\n",
       "| --- | --- | --- | --- | ers | --- | --- | --- | pe  | s08 | --- | ---    | ---   | ic    | ---   |\n",
       "| i16 | cat | cat | f32 | --- | str | cat | cat | --- | --- | u8  | u8     | datet | ---   | u8    |\n",
       "|     |     |     |     | u8  |     |     |     | cat | f32 |     |        | ime[μ | str   |       |\n",
       "|     |     |     |     |     |     |     |     |     |     |     |        | s]    |       |       |\n",
       "+==================================================================================================+\n",
       "| 198 | Alf | Spi | 2.0 | 4   | Man | Rea | Two | Reg | 14. | 19  | 25     | 2013- | false | 5     |\n",
       "| 5   | a   | der |     |     | ual | r-W | Sea | ula | 167 |     |        | 01-01 |       |       |\n",
       "|     | Rom | Vel |     |     | 5-s | hee | ter | r   | 143 |     |        | 00:00 |       |       |\n",
       "|     | eo  | oce |     |     | pd  | l   | s   |     |     |     |        | :00   |       |       |\n",
       "|     |     | 200 |     |     |     | Dri |     |     |     |     |        |       |       |       |\n",
       "|     |     | 0   |     |     |     | ve  |     |     |     |     |        |       |       |       |\n",
       "| 198 | Fer | Tes | 4.9 | 12  | Man | Rea | Two | Reg | 27. | 9   | 14     | 2013- | false | 5     |\n",
       "| 5   | rar | tar |     |     | ual | r-W | Sea | ula | 046 |     |        | 01-01 |       |       |\n",
       "|     | i   | oss |     |     | 5-s | hee | ter | r   | 364 |     |        | 00:00 |       |       |\n",
       "|     |     | a   |     |     | pd  | l   | s   |     |     |     |        | :00   |       |       |\n",
       "|     |     |     |     |     |     | Dri |     |     |     |     |        |       |       |       |\n",
       "|     |     |     |     |     |     | ve  |     |     |     |     |        |       |       |       |\n",
       "| 198 | Dod | Cha | 2.2 | 4   | Man | Fro | Sub | Reg | 11. | 23  | 33     | 2013- | false | 5     |\n",
       "| 5   | ge  | rge |     |     | ual | nt- | com | ula | 018 |     |        | 01-01 |       |       |\n",
       "|     |     | r   |     |     | 5-s | Whe | pac | r   | 888 |     |        | 00:00 |       |       |\n",
       "|     |     |     |     |     | pd  | el  | t   |     |     |     |        | :00   |       |       |\n",
       "|     |     |     |     |     |     | Dri | Car |     |     |     |        |       |       |       |\n",
       "|     |     |     |     |     |     | ve  | s   |     |     |     |        |       |       |       |\n",
       "+-----+-----+-----+-----+-----+-----+-----+-----+-----+-----+-----+--------+-------+-------+-------+"
      ]
     },
     "execution_count": 55,
     "metadata": {},
     "output_type": "execute_result"
    }
   ],
   "source": [
    "# https://docs.pola.rs/py-polars/html/reference/expressions/api/polars.all.html\n",
    "autos.select(pl.all(ignore_nulls=False)).head(3)"
   ]
  },
  {
   "cell_type": "code",
   "execution_count": 56,
   "id": "e56acd3e-8724-4559-970a-6c115d8705c3",
   "metadata": {},
   "outputs": [],
   "source": [
    "# https://docs.pola.rs/py-polars/html/reference/expressions/api/polars.any.html\n",
    "# Syntactic sugar for col(names).any().\n",
    "# autos.select(pl.any(\"make\"))"
   ]
  },
  {
   "cell_type": "code",
   "execution_count": 57,
   "id": "bb056da6-c282-4588-bf06-0d3626eefb71",
   "metadata": {},
   "outputs": [
    {
     "data": {
      "text/html": [
       "<div><style>\n",
       ".dataframe > thead > tr,\n",
       ".dataframe > tbody > tr {\n",
       "  text-align: right;\n",
       "  white-space: pre-wrap;\n",
       "}\n",
       "</style>\n",
       "<small>shape: (1, 1)</small><table border=\"1\" class=\"dataframe\"><thead><tr><th>make</th></tr><tr><td>u32</td></tr></thead><tbody><tr><td>24039</td></tr></tbody></table></div>"
      ],
      "text/plain": [
       "shape: (1, 1)\n",
       "+-------+\n",
       "| make  |\n",
       "| ---   |\n",
       "| u32   |\n",
       "+=======+\n",
       "| 24039 |\n",
       "+-------+"
      ]
     },
     "execution_count": 57,
     "metadata": {},
     "output_type": "execute_result"
    }
   ],
   "source": [
    "# https://docs.pola.rs/py-polars/html/reference/expressions/api/polars.Expr.arg_max.html\n",
    "# Get the index of the maximal value.\n",
    "autos.select(pl.col(\"make\").arg_max())"
   ]
  },
  {
   "cell_type": "code",
   "execution_count": 58,
   "id": "70b31713-07dd-4668-94ee-bbd0e713c5aa",
   "metadata": {},
   "outputs": [
    {
     "data": {
      "text/html": [
       "<div><style>\n",
       ".dataframe > thead > tr,\n",
       ".dataframe > tbody > tr {\n",
       "  text-align: right;\n",
       "  white-space: pre-wrap;\n",
       "}\n",
       "</style>\n",
       "<small>shape: (1, 1)</small><table border=\"1\" class=\"dataframe\"><thead><tr><th>make</th></tr><tr><td>u32</td></tr></thead><tbody><tr><td>0</td></tr></tbody></table></div>"
      ],
      "text/plain": [
       "shape: (1, 1)\n",
       "+------+\n",
       "| make |\n",
       "| ---  |\n",
       "| u32  |\n",
       "+======+\n",
       "| 0    |\n",
       "+------+"
      ]
     },
     "execution_count": 58,
     "metadata": {},
     "output_type": "execute_result"
    }
   ],
   "source": [
    "# https://docs.pola.rs/py-polars/html/reference/expressions/api/polars.Expr.min.html#polars.Expr.min\n",
    "# Get minimum value.\n",
    "autos.select(pl.col(\"make\").arg_min())"
   ]
  },
  {
   "cell_type": "code",
   "execution_count": 59,
   "id": "6b24f659-d284-462c-b358-1075aa5a8f2c",
   "metadata": {},
   "outputs": [
    {
     "data": {
      "text/html": [
       "<div><style>\n",
       ".dataframe > thead > tr,\n",
       ".dataframe > tbody > tr {\n",
       "  text-align: right;\n",
       "  white-space: pre-wrap;\n",
       "}\n",
       "</style>\n",
       "<small>shape: (48_202, 1)</small><table border=\"1\" class=\"dataframe\"><thead><tr><th>make</th></tr><tr><td>cat</td></tr></thead><tbody><tr><td>&quot;Alfa Romeo&quot;</td></tr><tr><td>&quot;Ferrari&quot;</td></tr><tr><td>&quot;Dodge&quot;</td></tr><tr><td>&quot;Dodge&quot;</td></tr><tr><td>&quot;Subaru&quot;</td></tr><tr><td>&hellip;</td></tr><tr><td>&quot;Subaru&quot;</td></tr><tr><td>&quot;Subaru&quot;</td></tr><tr><td>&quot;Subaru&quot;</td></tr><tr><td>&quot;Subaru&quot;</td></tr><tr><td>&quot;Subaru&quot;</td></tr></tbody></table></div>"
      ],
      "text/plain": [
       "shape: (48_202, 1)\n",
       "+------------+\n",
       "| make       |\n",
       "| ---        |\n",
       "| cat        |\n",
       "+============+\n",
       "| Alfa Romeo |\n",
       "| Ferrari    |\n",
       "| Dodge      |\n",
       "| Dodge      |\n",
       "| Subaru     |\n",
       "| …          |\n",
       "| Subaru     |\n",
       "| Subaru     |\n",
       "| Subaru     |\n",
       "| Subaru     |\n",
       "| Subaru     |\n",
       "+------------+"
      ]
     },
     "execution_count": 59,
     "metadata": {},
     "output_type": "execute_result"
    }
   ],
   "source": [
    "autos.select(pl.col('make'))"
   ]
  },
  {
   "cell_type": "code",
   "execution_count": 60,
   "id": "42019480-044e-4ab8-974d-88aebbfa9d01",
   "metadata": {},
   "outputs": [
    {
     "data": {
      "text/html": [
       "<div><style>\n",
       ".dataframe > thead > tr,\n",
       ".dataframe > tbody > tr {\n",
       "  text-align: right;\n",
       "  white-space: pre-wrap;\n",
       "}\n",
       "</style>\n",
       "<small>shape: (1, 1)</small><table border=\"1\" class=\"dataframe\"><thead><tr><th>make</th></tr><tr><td>list[cat]</td></tr></thead><tbody><tr><td>[&quot;Alfa Romeo&quot;, &quot;Ferrari&quot;, … &quot;Subaru&quot;]</td></tr></tbody></table></div>"
      ],
      "text/plain": [
       "shape: (1, 1)\n",
       "+---------------------------------+\n",
       "| make                            |\n",
       "| ---                             |\n",
       "| list[cat]                       |\n",
       "+=================================+\n",
       "| [\"Alfa Romeo\", \"Ferrari\", … \"S… |\n",
       "+---------------------------------+"
      ]
     },
     "execution_count": 60,
     "metadata": {},
     "output_type": "execute_result"
    }
   ],
   "source": [
    "# https://docs.pola.rs/py-polars/html/reference/expressions/api/polars.Expr.implode.html\n",
    "# Aggregate all column values into a list.\n",
    "# This function is syntactic sugar for pl.col(name).implode().\n",
    "autos.select(pl.col('make').implode())"
   ]
  },
  {
   "cell_type": "code",
   "execution_count": 61,
   "id": "b8209f59-864b-4ca9-8b29-a7edc498ac38",
   "metadata": {},
   "outputs": [
    {
     "data": {
      "text/html": [
       "<div><style>\n",
       ".dataframe > thead > tr,\n",
       ".dataframe > tbody > tr {\n",
       "  text-align: right;\n",
       "  white-space: pre-wrap;\n",
       "}\n",
       "</style>\n",
       "<small>shape: (1, 15)</small><table border=\"1\" class=\"dataframe\"><thead><tr><th>year</th><th>make</th><th>model</th><th>displ</th><th>cylinders</th><th>trany</th><th>drive</th><th>VClass</th><th>fuelType</th><th>barrels08</th><th>city08</th><th>highway08</th><th>createdOn</th><th>is_automatic</th><th>num_gears</th></tr><tr><td>u32</td><td>u32</td><td>u32</td><td>u32</td><td>u32</td><td>u32</td><td>u32</td><td>u32</td><td>u32</td><td>u32</td><td>u32</td><td>u32</td><td>u32</td><td>u32</td><td>u32</td></tr></thead><tbody><tr><td>48202</td><td>48202</td><td>48202</td><td>48202</td><td>48202</td><td>48202</td><td>48202</td><td>48202</td><td>48202</td><td>48202</td><td>48202</td><td>48202</td><td>48202</td><td>48202</td><td>48202</td></tr></tbody></table></div>"
      ],
      "text/plain": [
       "shape: (1, 15)\n",
       "+-----+-----+-----+-----+-----+-----+-----+-----+-----+-----+-----+--------+-------+-------+-------+\n",
       "| yea | mak | mod | dis | cyl | tra | dri | VCl | fue | bar | cit | highwa | creat | is_au | num_g |\n",
       "| r   | e   | el  | pl  | ind | ny  | ve  | ass | lTy | rel | y08 | y08    | edOn  | tomat | ears  |\n",
       "| --- | --- | --- | --- | ers | --- | --- | --- | pe  | s08 | --- | ---    | ---   | ic    | ---   |\n",
       "| u32 | u32 | u32 | u32 | --- | u32 | u32 | u32 | --- | --- | u32 | u32    | u32   | ---   | u32   |\n",
       "|     |     |     |     | u32 |     |     |     | u32 | u32 |     |        |       | u32   |       |\n",
       "+==================================================================================================+\n",
       "| 482 | 482 | 482 | 482 | 482 | 482 | 482 | 482 | 482 | 482 | 482 | 48202  | 48202 | 48202 | 48202 |\n",
       "| 02  | 02  | 02  | 02  | 02  | 02  | 02  | 02  | 02  | 02  | 02  |        |       |       |       |\n",
       "+-----+-----+-----+-----+-----+-----+-----+-----+-----+-----+-----+--------+-------+-------+-------+"
      ]
     },
     "execution_count": 61,
     "metadata": {},
     "output_type": "execute_result"
    }
   ],
   "source": [
    "# https://docs.pola.rs/py-polars/html/reference/expressions/api/polars.Expr.len.html\n",
    "# Return the number of rows in the context.\n",
    "autos.select(pl.all().len())"
   ]
  },
  {
   "cell_type": "code",
   "execution_count": 62,
   "id": "c0d37468-67c3-4bc2-a38c-35e94eed8163",
   "metadata": {},
   "outputs": [
    {
     "data": {
      "text/html": [
       "<div><style>\n",
       ".dataframe > thead > tr,\n",
       ".dataframe > tbody > tr {\n",
       "  text-align: right;\n",
       "  white-space: pre-wrap;\n",
       "}\n",
       "</style>\n",
       "<small>shape: (1, 15)</small><table border=\"1\" class=\"dataframe\"><thead><tr><th>year</th><th>make</th><th>model</th><th>displ</th><th>cylinders</th><th>trany</th><th>drive</th><th>VClass</th><th>fuelType</th><th>barrels08</th><th>city08</th><th>highway08</th><th>createdOn</th><th>is_automatic</th><th>num_gears</th></tr><tr><td>i16</td><td>str</td><td>str</td><td>f32</td><td>u8</td><td>str</td><td>str</td><td>str</td><td>str</td><td>f32</td><td>u8</td><td>u8</td><td>datetime[μs]</td><td>str</td><td>u8</td></tr></thead><tbody><tr><td>2025</td><td>&quot;Azure Dynamics&quot;</td><td>&quot;ActiveHybrid 7&quot;</td><td>8.4</td><td>16</td><td>&quot;Manual 7-spd&quot;</td><td>&quot;Part-time 4-Wheel Drive&quot;</td><td>&quot;Special Purpose Vehicles/4wd&quot;</td><td>&quot;Hydrogen&quot;</td><td>42.501427</td><td>153</td><td>142</td><td>2024-10-17 00:00:00</td><td>&quot;true&quot;</td><td>10</td></tr></tbody></table></div>"
      ],
      "text/plain": [
       "shape: (1, 15)\n",
       "+-----+-----+-----+-----+-----+-----+-----+-----+-----+-----+-----+--------+-------+-------+-------+\n",
       "| yea | mak | mod | dis | cyl | tra | dri | VCl | fue | bar | cit | highwa | creat | is_au | num_g |\n",
       "| r   | e   | el  | pl  | ind | ny  | ve  | ass | lTy | rel | y08 | y08    | edOn  | tomat | ears  |\n",
       "| --- | --- | --- | --- | ers | --- | --- | --- | pe  | s08 | --- | ---    | ---   | ic    | ---   |\n",
       "| i16 | str | str | f32 | --- | str | str | str | --- | --- | u8  | u8     | datet | ---   | u8    |\n",
       "|     |     |     |     | u8  |     |     |     | str | f32 |     |        | ime[μ | str   |       |\n",
       "|     |     |     |     |     |     |     |     |     |     |     |        | s]    |       |       |\n",
       "+==================================================================================================+\n",
       "| 202 | Azu | Act | 8.4 | 16  | Man | Par | Spe | Hyd | 42. | 153 | 142    | 2024- | true  | 10    |\n",
       "| 5   | re  | ive |     |     | ual | t-t | cia | rog | 501 |     |        | 10-17 |       |       |\n",
       "|     | Dyn | Hyb |     |     | 7-s | ime | l   | en  | 427 |     |        | 00:00 |       |       |\n",
       "|     | ami | rid |     |     | pd  | 4-W | Pur |     |     |     |        | :00   |       |       |\n",
       "|     | cs  | 7   |     |     |     | hee | pos |     |     |     |        |       |       |       |\n",
       "|     |     |     |     |     |     | l   | e   |     |     |     |        |       |       |       |\n",
       "|     |     |     |     |     |     | Dri | Veh |     |     |     |        |       |       |       |\n",
       "|     |     |     |     |     |     | ve  | icl |     |     |     |        |       |       |       |\n",
       "|     |     |     |     |     |     |     | es/ |     |     |     |        |       |       |       |\n",
       "|     |     |     |     |     |     |     | 4wd |     |     |     |        |       |       |       |\n",
       "+-----+-----+-----+-----+-----+-----+-----+-----+-----+-----+-----+--------+-------+-------+-------+"
      ]
     },
     "execution_count": 62,
     "metadata": {},
     "output_type": "execute_result"
    }
   ],
   "source": [
    "# https://docs.pola.rs/py-polars/html/reference/expressions/api/polars.Expr.max.html\n",
    "# Get maximum value.\n",
    "autos.select(pl.all().max())"
   ]
  },
  {
   "cell_type": "code",
   "execution_count": 63,
   "id": "b61bb051-bead-41af-bec1-15e5e5ede7e6",
   "metadata": {},
   "outputs": [
    {
     "data": {
      "text/html": [
       "<div><style>\n",
       ".dataframe > thead > tr,\n",
       ".dataframe > tbody > tr {\n",
       "  text-align: right;\n",
       "  white-space: pre-wrap;\n",
       "}\n",
       "</style>\n",
       "<small>shape: (1, 15)</small><table border=\"1\" class=\"dataframe\"><thead><tr><th>year</th><th>make</th><th>model</th><th>displ</th><th>cylinders</th><th>trany</th><th>drive</th><th>VClass</th><th>fuelType</th><th>barrels08</th><th>city08</th><th>highway08</th><th>createdOn</th><th>is_automatic</th><th>num_gears</th></tr><tr><td>f64</td><td>cat</td><td>cat</td><td>f32</td><td>f64</td><td>str</td><td>cat</td><td>cat</td><td>cat</td><td>f32</td><td>f64</td><td>f64</td><td>datetime[μs]</td><td>str</td><td>f64</td></tr></thead><tbody><tr><td>2004.59344</td><td>null</td><td>null</td><td>3.27066</td><td>5.698838</td><td>null</td><td>null</td><td>null</td><td>null</td><td>15.106042</td><td>19.929235</td><td>25.821294</td><td>2014-11-14 05:34:17.590971</td><td>null</td><td>5.346666</td></tr></tbody></table></div>"
      ],
      "text/plain": [
       "shape: (1, 15)\n",
       "+-----+-----+-----+-----+-----+-----+-----+-----+-----+-----+-----+--------+-------+-------+-------+\n",
       "| yea | mak | mod | dis | cyl | tra | dri | VCl | fue | bar | cit | highwa | creat | is_au | num_g |\n",
       "| r   | e   | el  | pl  | ind | ny  | ve  | ass | lTy | rel | y08 | y08    | edOn  | tomat | ears  |\n",
       "| --- | --- | --- | --- | ers | --- | --- | --- | pe  | s08 | --- | ---    | ---   | ic    | ---   |\n",
       "| f64 | cat | cat | f32 | --- | str | cat | cat | --- | --- | f64 | f64    | datet | ---   | f64   |\n",
       "|     |     |     |     | f64 |     |     |     | cat | f32 |     |        | ime[μ | str   |       |\n",
       "|     |     |     |     |     |     |     |     |     |     |     |        | s]    |       |       |\n",
       "+==================================================================================================+\n",
       "| 200 | nul | nul | 3.2 | 5.6 | nul | nul | nul | nul | 15. | 19. | 25.821 | 2014- | null  | 5.346 |\n",
       "| 4.5 | l   | l   | 706 | 988 | l   | l   | l   | l   | 106 | 929 | 294    | 11-14 |       | 666   |\n",
       "| 934 |     |     | 6   | 38  |     |     |     |     | 042 | 235 |        | 05:34 |       |       |\n",
       "| 4   |     |     |     |     |     |     |     |     |     |     |        | :17.5 |       |       |\n",
       "|     |     |     |     |     |     |     |     |     |     |     |        | 90971 |       |       |\n",
       "+-----+-----+-----+-----+-----+-----+-----+-----+-----+-----+-----+--------+-------+-------+-------+"
      ]
     },
     "execution_count": 63,
     "metadata": {},
     "output_type": "execute_result"
    }
   ],
   "source": [
    "# https://docs.pola.rs/py-polars/html/reference/expressions/api/polars.Expr.mean.html\n",
    "# Get mean value.\n",
    "autos.select(pl.all().mean())"
   ]
  },
  {
   "cell_type": "code",
   "execution_count": 64,
   "id": "d5b21266-c1f5-45ff-a41d-dd7e7a0ecece",
   "metadata": {},
   "outputs": [
    {
     "data": {
      "text/html": [
       "dtype_columns([UInt16, Float32, Int8, Decimal(None, None), Int64, UInt32, Float64, Int16, UInt8, UInt64, Int32])"
      ],
      "text/plain": [
       "cs.numeric()"
      ]
     },
     "execution_count": 64,
     "metadata": {},
     "output_type": "execute_result"
    }
   ],
   "source": [
    "# .median() can be applied only on numeric types\n",
    "# pl.col(pl.NUMERIC_DTYPES) DEPRECATED, use\n",
    "cs.numeric()"
   ]
  },
  {
   "cell_type": "code",
   "execution_count": 65,
   "id": "d677937e-22e1-42ed-a424-0dcf91d680c2",
   "metadata": {},
   "outputs": [
    {
     "data": {
      "text/html": [
       "<div><style>\n",
       ".dataframe > thead > tr,\n",
       ".dataframe > tbody > tr {\n",
       "  text-align: right;\n",
       "  white-space: pre-wrap;\n",
       "}\n",
       "</style>\n",
       "<small>shape: (1, 7)</small><table border=\"1\" class=\"dataframe\"><thead><tr><th>year</th><th>displ</th><th>cylinders</th><th>barrels08</th><th>city08</th><th>highway08</th><th>num_gears</th></tr><tr><td>f64</td><td>f32</td><td>f64</td><td>f32</td><td>f64</td><td>f64</td><td>f64</td></tr></thead><tbody><tr><td>2006.0</td><td>3.0</td><td>6.0</td><td>14.8755</td><td>18.0</td><td>24.0</td><td>5.0</td></tr></tbody></table></div>"
      ],
      "text/plain": [
       "shape: (1, 7)\n",
       "+--------+-------+-----------+-----------+--------+-----------+-----------+\n",
       "| year   | displ | cylinders | barrels08 | city08 | highway08 | num_gears |\n",
       "| ---    | ---   | ---       | ---       | ---    | ---       | ---       |\n",
       "| f64    | f32   | f64       | f32       | f64    | f64       | f64       |\n",
       "+=========================================================================+\n",
       "| 2006.0 | 3.0   | 6.0       | 14.8755   | 18.0   | 24.0      | 5.0       |\n",
       "+--------+-------+-----------+-----------+--------+-----------+-----------+"
      ]
     },
     "execution_count": 65,
     "metadata": {},
     "output_type": "execute_result"
    }
   ],
   "source": [
    "# https://docs.pola.rs/py-polars/html/reference/expressions/api/polars.Expr.median.html\n",
    "# Get median value using linear interpolation.\n",
    "autos.select(cs.numeric()).median()"
   ]
  },
  {
   "cell_type": "code",
   "execution_count": 66,
   "id": "f7517a81-cf10-434c-8293-9795001e28cf",
   "metadata": {},
   "outputs": [
    {
     "data": {
      "text/html": [
       "<div><style>\n",
       ".dataframe > thead > tr,\n",
       ".dataframe > tbody > tr {\n",
       "  text-align: right;\n",
       "  white-space: pre-wrap;\n",
       "}\n",
       "</style>\n",
       "<small>shape: (1, 7)</small><table border=\"1\" class=\"dataframe\"><thead><tr><th>year</th><th>displ</th><th>cylinders</th><th>barrels08</th><th>city08</th><th>highway08</th><th>num_gears</th></tr><tr><td>f64</td><td>f32</td><td>f64</td><td>f32</td><td>f64</td><td>f64</td><td>f64</td></tr></thead><tbody><tr><td>2006.0</td><td>3.0</td><td>6.0</td><td>14.8755</td><td>18.0</td><td>24.0</td><td>5.0</td></tr></tbody></table></div>"
      ],
      "text/plain": [
       "shape: (1, 7)\n",
       "+--------+-------+-----------+-----------+--------+-----------+-----------+\n",
       "| year   | displ | cylinders | barrels08 | city08 | highway08 | num_gears |\n",
       "| ---    | ---   | ---       | ---       | ---    | ---       | ---       |\n",
       "| f64    | f32   | f64       | f32       | f64    | f64       | f64       |\n",
       "+=========================================================================+\n",
       "| 2006.0 | 3.0   | 6.0       | 14.8755   | 18.0   | 24.0      | 5.0       |\n",
       "+--------+-------+-----------+-----------+--------+-----------+-----------+"
      ]
     },
     "execution_count": 66,
     "metadata": {},
     "output_type": "execute_result"
    }
   ],
   "source": [
    "# Equivalent\n",
    "autos.select(cs.numeric()).median()"
   ]
  },
  {
   "cell_type": "code",
   "execution_count": 67,
   "id": "8084d6fa-2c11-4b25-b0c2-fffd334f2699",
   "metadata": {},
   "outputs": [
    {
     "data": {
      "text/html": [
       "<div><style>\n",
       ".dataframe > thead > tr,\n",
       ".dataframe > tbody > tr {\n",
       "  text-align: right;\n",
       "  white-space: pre-wrap;\n",
       "}\n",
       "</style>\n",
       "<small>shape: (1, 15)</small><table border=\"1\" class=\"dataframe\"><thead><tr><th>year</th><th>make</th><th>model</th><th>displ</th><th>cylinders</th><th>trany</th><th>drive</th><th>VClass</th><th>fuelType</th><th>barrels08</th><th>city08</th><th>highway08</th><th>createdOn</th><th>is_automatic</th><th>num_gears</th></tr><tr><td>i16</td><td>str</td><td>str</td><td>f32</td><td>u8</td><td>str</td><td>str</td><td>str</td><td>str</td><td>f32</td><td>u8</td><td>u8</td><td>datetime[μs]</td><td>str</td><td>u8</td></tr></thead><tbody><tr><td>1984</td><td>&quot;Alfa Romeo&quot;</td><td>&quot;Eagle&quot;</td><td>0.0</td><td>2</td><td>&quot;Automatic (A1)&quot;</td><td>&quot;Rear-Wheel Drive&quot;</td><td>&quot;Two Seaters&quot;</td><td>&quot;Regular&quot;</td><td>0.047081</td><td>6</td><td>9</td><td>2013-01-01 00:00:00</td><td>&quot;Automatic&quot;</td><td>1</td></tr></tbody></table></div>"
      ],
      "text/plain": [
       "shape: (1, 15)\n",
       "+-----+-----+-----+-----+-----+-----+-----+-----+-----+-----+-----+--------+-------+-------+-------+\n",
       "| yea | mak | mod | dis | cyl | tra | dri | VCl | fue | bar | cit | highwa | creat | is_au | num_g |\n",
       "| r   | e   | el  | pl  | ind | ny  | ve  | ass | lTy | rel | y08 | y08    | edOn  | tomat | ears  |\n",
       "| --- | --- | --- | --- | ers | --- | --- | --- | pe  | s08 | --- | ---    | ---   | ic    | ---   |\n",
       "| i16 | str | str | f32 | --- | str | str | str | --- | --- | u8  | u8     | datet | ---   | u8    |\n",
       "|     |     |     |     | u8  |     |     |     | str | f32 |     |        | ime[μ | str   |       |\n",
       "|     |     |     |     |     |     |     |     |     |     |     |        | s]    |       |       |\n",
       "+==================================================================================================+\n",
       "| 198 | Alf | Eag | 0.0 | 2   | Aut | Rea | Two | Reg | 0.0 | 6   | 9      | 2013- | Autom | 1     |\n",
       "| 4   | a   | le  |     |     | oma | r-W | Sea | ula | 470 |     |        | 01-01 | atic  |       |\n",
       "|     | Rom |     |     |     | tic | hee | ter | r   | 81  |     |        | 00:00 |       |       |\n",
       "|     | eo  |     |     |     | (A1 | l   | s   |     |     |     |        | :00   |       |       |\n",
       "|     |     |     |     |     | )   | Dri |     |     |     |     |        |       |       |       |\n",
       "|     |     |     |     |     |     | ve  |     |     |     |     |        |       |       |       |\n",
       "+-----+-----+-----+-----+-----+-----+-----+-----+-----+-----+-----+--------+-------+-------+-------+"
      ]
     },
     "execution_count": 67,
     "metadata": {},
     "output_type": "execute_result"
    }
   ],
   "source": [
    "# https://docs.pola.rs/py-polars/html/reference/expressions/api/polars.Expr.min.html\n",
    "# Get minimum value.\n",
    "autos.select(pl.all().min())"
   ]
  },
  {
   "cell_type": "code",
   "execution_count": 68,
   "id": "25d3faf0-f4bd-4cff-9005-c72c07f7e87a",
   "metadata": {},
   "outputs": [
    {
     "data": {
      "text/html": [
       "<div><style>\n",
       ".dataframe > thead > tr,\n",
       ".dataframe > tbody > tr {\n",
       "  text-align: right;\n",
       "  white-space: pre-wrap;\n",
       "}\n",
       "</style>\n",
       "<small>shape: (1, 15)</small><table border=\"1\" class=\"dataframe\"><thead><tr><th>year</th><th>make</th><th>model</th><th>displ</th><th>cylinders</th><th>trany</th><th>drive</th><th>VClass</th><th>fuelType</th><th>barrels08</th><th>city08</th><th>highway08</th><th>createdOn</th><th>is_automatic</th><th>num_gears</th></tr><tr><td>u32</td><td>u32</td><td>u32</td><td>u32</td><td>u32</td><td>u32</td><td>u32</td><td>u32</td><td>u32</td><td>u32</td><td>u32</td><td>u32</td><td>u32</td><td>u32</td><td>u32</td></tr></thead><tbody><tr><td>42</td><td>145</td><td>5166</td><td>67</td><td>10</td><td>41</td><td>8</td><td>34</td><td>15</td><td>323</td><td>139</td><td>125</td><td>459</td><td>3</td><td>10</td></tr></tbody></table></div>"
      ],
      "text/plain": [
       "shape: (1, 15)\n",
       "+-----+-----+-----+-----+-----+-----+-----+-----+-----+-----+-----+--------+-------+-------+-------+\n",
       "| yea | mak | mod | dis | cyl | tra | dri | VCl | fue | bar | cit | highwa | creat | is_au | num_g |\n",
       "| r   | e   | el  | pl  | ind | ny  | ve  | ass | lTy | rel | y08 | y08    | edOn  | tomat | ears  |\n",
       "| --- | --- | --- | --- | ers | --- | --- | --- | pe  | s08 | --- | ---    | ---   | ic    | ---   |\n",
       "| u32 | u32 | u32 | u32 | --- | u32 | u32 | u32 | --- | --- | u32 | u32    | u32   | ---   | u32   |\n",
       "|     |     |     |     | u32 |     |     |     | u32 | u32 |     |        |       | u32   |       |\n",
       "+==================================================================================================+\n",
       "| 42  | 145 | 516 | 67  | 10  | 41  | 8   | 34  | 15  | 323 | 139 | 125    | 459   | 3     | 10    |\n",
       "|     |     | 6   |     |     |     |     |     |     |     |     |        |       |       |       |\n",
       "+-----+-----+-----+-----+-----+-----+-----+-----+-----+-----+-----+--------+-------+-------+-------+"
      ]
     },
     "execution_count": 68,
     "metadata": {},
     "output_type": "execute_result"
    }
   ],
   "source": [
    "# https://docs.pola.rs/py-polars/html/reference/expressions/api/polars.Expr.n_unique.html#polars.Expr.n_unique\n",
    "# Count unique values.\n",
    "# null is considered to be a unique value for the purposes of this operation.\n",
    "autos.select(pl.all().n_unique())"
   ]
  },
  {
   "cell_type": "code",
   "execution_count": 69,
   "id": "e30d3b31-286c-48b8-a992-e7bf9c407230",
   "metadata": {},
   "outputs": [
    {
     "data": {
      "text/html": [
       "<div><style>\n",
       ".dataframe > thead > tr,\n",
       ".dataframe > tbody > tr {\n",
       "  text-align: right;\n",
       "  white-space: pre-wrap;\n",
       "}\n",
       "</style>\n",
       "<small>shape: (1, 15)</small><table border=\"1\" class=\"dataframe\"><thead><tr><th>year</th><th>make</th><th>model</th><th>displ</th><th>cylinders</th><th>trany</th><th>drive</th><th>VClass</th><th>fuelType</th><th>barrels08</th><th>city08</th><th>highway08</th><th>createdOn</th><th>is_automatic</th><th>num_gears</th></tr><tr><td>i16</td><td>str</td><td>str</td><td>f32</td><td>u8</td><td>str</td><td>str</td><td>str</td><td>str</td><td>f32</td><td>u8</td><td>u8</td><td>datetime[μs]</td><td>str</td><td>u8</td></tr></thead><tbody><tr><td>2025</td><td>&quot;Azure Dynamics&quot;</td><td>&quot;ActiveHybrid 7&quot;</td><td>8.4</td><td>16</td><td>&quot;Manual 7-spd&quot;</td><td>&quot;Part-time 4-Wheel Drive&quot;</td><td>&quot;Special Purpose Vehicles/4wd&quot;</td><td>&quot;Hydrogen&quot;</td><td>42.501427</td><td>153</td><td>142</td><td>2024-10-17 00:00:00</td><td>&quot;true&quot;</td><td>10</td></tr></tbody></table></div>"
      ],
      "text/plain": [
       "shape: (1, 15)\n",
       "+-----+-----+-----+-----+-----+-----+-----+-----+-----+-----+-----+--------+-------+-------+-------+\n",
       "| yea | mak | mod | dis | cyl | tra | dri | VCl | fue | bar | cit | highwa | creat | is_au | num_g |\n",
       "| r   | e   | el  | pl  | ind | ny  | ve  | ass | lTy | rel | y08 | y08    | edOn  | tomat | ears  |\n",
       "| --- | --- | --- | --- | ers | --- | --- | --- | pe  | s08 | --- | ---    | ---   | ic    | ---   |\n",
       "| i16 | str | str | f32 | --- | str | str | str | --- | --- | u8  | u8     | datet | ---   | u8    |\n",
       "|     |     |     |     | u8  |     |     |     | str | f32 |     |        | ime[μ | str   |       |\n",
       "|     |     |     |     |     |     |     |     |     |     |     |        | s]    |       |       |\n",
       "+==================================================================================================+\n",
       "| 202 | Azu | Act | 8.4 | 16  | Man | Par | Spe | Hyd | 42. | 153 | 142    | 2024- | true  | 10    |\n",
       "| 5   | re  | ive |     |     | ual | t-t | cia | rog | 501 |     |        | 10-17 |       |       |\n",
       "|     | Dyn | Hyb |     |     | 7-s | ime | l   | en  | 427 |     |        | 00:00 |       |       |\n",
       "|     | ami | rid |     |     | pd  | 4-W | Pur |     |     |     |        | :00   |       |       |\n",
       "|     | cs  | 7   |     |     |     | hee | pos |     |     |     |        |       |       |       |\n",
       "|     |     |     |     |     |     | l   | e   |     |     |     |        |       |       |       |\n",
       "|     |     |     |     |     |     | Dri | Veh |     |     |     |        |       |       |       |\n",
       "|     |     |     |     |     |     | ve  | icl |     |     |     |        |       |       |       |\n",
       "|     |     |     |     |     |     |     | es/ |     |     |     |        |       |       |       |\n",
       "|     |     |     |     |     |     |     | 4wd |     |     |     |        |       |       |       |\n",
       "+-----+-----+-----+-----+-----+-----+-----+-----+-----+-----+-----+--------+-------+-------+-------+"
      ]
     },
     "execution_count": 69,
     "metadata": {},
     "output_type": "execute_result"
    }
   ],
   "source": [
    "# https://docs.pola.rs/py-polars/html/reference/expressions/api/polars.Expr.nan_max.html\n",
    "# Get maximum value, but propagate/poison encountered NaN values.\n",
    "# This differs from numpy’s nanmax as numpy defaults to propagating NaN values, whereas polars defaults to ignoring them.\n",
    "autos.select(pl.all().nan_max())"
   ]
  },
  {
   "cell_type": "code",
   "execution_count": 70,
   "id": "98b39b4e-a5f8-4f2d-9b6b-8d1774d5f8c7",
   "metadata": {},
   "outputs": [
    {
     "data": {
      "text/html": [
       "<div><style>\n",
       ".dataframe > thead > tr,\n",
       ".dataframe > tbody > tr {\n",
       "  text-align: right;\n",
       "  white-space: pre-wrap;\n",
       "}\n",
       "</style>\n",
       "<small>shape: (1, 15)</small><table border=\"1\" class=\"dataframe\"><thead><tr><th>year</th><th>make</th><th>model</th><th>displ</th><th>cylinders</th><th>trany</th><th>drive</th><th>VClass</th><th>fuelType</th><th>barrels08</th><th>city08</th><th>highway08</th><th>createdOn</th><th>is_automatic</th><th>num_gears</th></tr><tr><td>i16</td><td>str</td><td>str</td><td>f32</td><td>u8</td><td>str</td><td>str</td><td>str</td><td>str</td><td>f32</td><td>u8</td><td>u8</td><td>datetime[μs]</td><td>str</td><td>u8</td></tr></thead><tbody><tr><td>1984</td><td>&quot;Alfa Romeo&quot;</td><td>&quot;Eagle&quot;</td><td>0.0</td><td>2</td><td>&quot;Automatic (A1)&quot;</td><td>&quot;Rear-Wheel Drive&quot;</td><td>&quot;Two Seaters&quot;</td><td>&quot;Regular&quot;</td><td>0.047081</td><td>6</td><td>9</td><td>2013-01-01 00:00:00</td><td>&quot;Automatic&quot;</td><td>1</td></tr></tbody></table></div>"
      ],
      "text/plain": [
       "shape: (1, 15)\n",
       "+-----+-----+-----+-----+-----+-----+-----+-----+-----+-----+-----+--------+-------+-------+-------+\n",
       "| yea | mak | mod | dis | cyl | tra | dri | VCl | fue | bar | cit | highwa | creat | is_au | num_g |\n",
       "| r   | e   | el  | pl  | ind | ny  | ve  | ass | lTy | rel | y08 | y08    | edOn  | tomat | ears  |\n",
       "| --- | --- | --- | --- | ers | --- | --- | --- | pe  | s08 | --- | ---    | ---   | ic    | ---   |\n",
       "| i16 | str | str | f32 | --- | str | str | str | --- | --- | u8  | u8     | datet | ---   | u8    |\n",
       "|     |     |     |     | u8  |     |     |     | str | f32 |     |        | ime[μ | str   |       |\n",
       "|     |     |     |     |     |     |     |     |     |     |     |        | s]    |       |       |\n",
       "+==================================================================================================+\n",
       "| 198 | Alf | Eag | 0.0 | 2   | Aut | Rea | Two | Reg | 0.0 | 6   | 9      | 2013- | Autom | 1     |\n",
       "| 4   | a   | le  |     |     | oma | r-W | Sea | ula | 470 |     |        | 01-01 | atic  |       |\n",
       "|     | Rom |     |     |     | tic | hee | ter | r   | 81  |     |        | 00:00 |       |       |\n",
       "|     | eo  |     |     |     | (A1 | l   | s   |     |     |     |        | :00   |       |       |\n",
       "|     |     |     |     |     | )   | Dri |     |     |     |     |        |       |       |       |\n",
       "|     |     |     |     |     |     | ve  |     |     |     |     |        |       |       |       |\n",
       "+-----+-----+-----+-----+-----+-----+-----+-----+-----+-----+-----+--------+-------+-------+-------+"
      ]
     },
     "execution_count": 70,
     "metadata": {},
     "output_type": "execute_result"
    }
   ],
   "source": [
    "# https://docs.pola.rs/py-polars/html/reference/expressions/api/polars.Expr.nan_min.html\n",
    "# Get minimum value, but propagate/poison encountered NaN values.\n",
    "# This differs from numpy’s nanmax as numpy defaults to propagating NaN values, whereas polars defaults to ignoring them.\n",
    "autos.select(pl.all().nan_min())"
   ]
  },
  {
   "cell_type": "code",
   "execution_count": 71,
   "id": "64a8351a-1d17-4857-ace8-de268fa1f434",
   "metadata": {},
   "outputs": [
    {
     "data": {
      "text/html": [
       "<div><style>\n",
       ".dataframe > thead > tr,\n",
       ".dataframe > tbody > tr {\n",
       "  text-align: right;\n",
       "  white-space: pre-wrap;\n",
       "}\n",
       "</style>\n",
       "<small>shape: (1, 7)</small><table border=\"1\" class=\"dataframe\"><thead><tr><th>year</th><th>displ</th><th>cylinders</th><th>barrels08</th><th>city08</th><th>highway08</th><th>num_gears</th></tr><tr><td>i64</td><td>f32</td><td>i64</td><td>f32</td><td>i64</td><td>i64</td><td>i64</td></tr></thead><tbody><tr><td>0</td><td>NaN</td><td>0</td><td>inf</td><td>0</td><td>0</td><td>0</td></tr></tbody></table></div>"
      ],
      "text/plain": [
       "shape: (1, 7)\n",
       "+------+-------+-----------+-----------+--------+-----------+-----------+\n",
       "| year | displ | cylinders | barrels08 | city08 | highway08 | num_gears |\n",
       "| ---  | ---   | ---       | ---       | ---    | ---       | ---       |\n",
       "| i64  | f32   | i64       | f32       | i64    | i64       | i64       |\n",
       "+=======================================================================+\n",
       "| 0    | NaN   | 0         | inf       | 0      | 0         | 0         |\n",
       "+------+-------+-----------+-----------+--------+-----------+-----------+"
      ]
     },
     "execution_count": 71,
     "metadata": {},
     "output_type": "execute_result"
    }
   ],
   "source": [
    "# https://docs.pola.rs/py-polars/html/reference/expressions/api/polars.Expr.product.html\n",
    "# Compute the product of an expression.\n",
    "autos.select(cs.numeric().product())"
   ]
  },
  {
   "cell_type": "code",
   "execution_count": 72,
   "id": "4d24f897-39d9-423a-be45-66cb9731a4f1",
   "metadata": {},
   "outputs": [
    {
     "data": {
      "text/html": [
       "<div><style>\n",
       ".dataframe > thead > tr,\n",
       ".dataframe > tbody > tr {\n",
       "  text-align: right;\n",
       "  white-space: pre-wrap;\n",
       "}\n",
       "</style>\n",
       "<small>shape: (1, 7)</small><table border=\"1\" class=\"dataframe\"><thead><tr><th>year</th><th>displ</th><th>cylinders</th><th>barrels08</th><th>city08</th><th>highway08</th><th>num_gears</th></tr><tr><td>i64</td><td>f32</td><td>i64</td><td>f32</td><td>i64</td><td>i64</td><td>i64</td></tr></thead><tbody><tr><td>0</td><td>inf</td><td>0</td><td>inf</td><td>0</td><td>0</td><td>0</td></tr></tbody></table></div>"
      ],
      "text/plain": [
       "shape: (1, 7)\n",
       "+------+-------+-----------+-----------+--------+-----------+-----------+\n",
       "| year | displ | cylinders | barrels08 | city08 | highway08 | num_gears |\n",
       "| ---  | ---   | ---       | ---       | ---    | ---       | ---       |\n",
       "| i64  | f32   | i64       | f32       | i64    | i64       | i64       |\n",
       "+=======================================================================+\n",
       "| 0    | inf   | 0         | inf       | 0      | 0         | 0         |\n",
       "+------+-------+-----------+-----------+--------+-----------+-----------+"
      ]
     },
     "execution_count": 72,
     "metadata": {},
     "output_type": "execute_result"
    }
   ],
   "source": [
    "# variation\n",
    "autos.select(cs.numeric().filter(cs.numeric() != 0).product())"
   ]
  },
  {
   "cell_type": "code",
   "execution_count": 73,
   "id": "ee817472-0c83-4f24-8f38-c4dc36297c41",
   "metadata": {},
   "outputs": [
    {
     "data": {
      "text/html": [
       "<div><style>\n",
       ".dataframe > thead > tr,\n",
       ".dataframe > tbody > tr {\n",
       "  text-align: right;\n",
       "  white-space: pre-wrap;\n",
       "}\n",
       "</style>\n",
       "<small>shape: (1, 7)</small><table border=\"1\" class=\"dataframe\"><thead><tr><th>year</th><th>displ</th><th>cylinders</th><th>barrels08</th><th>city08</th><th>highway08</th><th>num_gears</th></tr><tr><td>f64</td><td>f32</td><td>f64</td><td>f32</td><td>f64</td><td>f64</td><td>f64</td></tr></thead><tbody><tr><td>1995.0</td><td>2.3</td><td>4.0</td><td>12.935218</td><td>15.0</td><td>21.0</td><td>4.0</td></tr></tbody></table></div>"
      ],
      "text/plain": [
       "shape: (1, 7)\n",
       "+--------+-------+-----------+-----------+--------+-----------+-----------+\n",
       "| year   | displ | cylinders | barrels08 | city08 | highway08 | num_gears |\n",
       "| ---    | ---   | ---       | ---       | ---    | ---       | ---       |\n",
       "| f64    | f32   | f64       | f32       | f64    | f64       | f64       |\n",
       "+=========================================================================+\n",
       "| 1995.0 | 2.3   | 4.0       | 12.935218 | 15.0   | 21.0      | 4.0       |\n",
       "+--------+-------+-----------+-----------+--------+-----------+-----------+"
      ]
     },
     "execution_count": 73,
     "metadata": {},
     "output_type": "execute_result"
    }
   ],
   "source": [
    "# https://docs.pola.rs/py-polars/html/reference/expressions/api/polars.Expr.quantile.html\n",
    "# Get quantile value.\n",
    "autos.select(cs.numeric().quantile(0.3, interpolation='nearest'))"
   ]
  },
  {
   "cell_type": "code",
   "execution_count": 74,
   "id": "2e134e14-663c-4dd7-b599-9d60ddacefa3",
   "metadata": {},
   "outputs": [
    {
     "data": {
      "text/html": [
       "<div><style>\n",
       ".dataframe > thead > tr,\n",
       ".dataframe > tbody > tr {\n",
       "  text-align: right;\n",
       "  white-space: pre-wrap;\n",
       "}\n",
       "</style>\n",
       "<small>shape: (1, 7)</small><table border=\"1\" class=\"dataframe\"><thead><tr><th>year</th><th>displ</th><th>cylinders</th><th>barrels08</th><th>city08</th><th>highway08</th><th>num_gears</th></tr><tr><td>f64</td><td>f32</td><td>f64</td><td>f32</td><td>f64</td><td>f64</td><td>f64</td></tr></thead><tbody><tr><td>12.681444</td><td>1.353053</td><td>1.772964</td><td>4.560156</td><td>12.658018</td><td>11.087154</td><td>1.73496</td></tr></tbody></table></div>"
      ],
      "text/plain": [
       "shape: (1, 7)\n",
       "+-----------+----------+-----------+-----------+-----------+-----------+-----------+\n",
       "| year      | displ    | cylinders | barrels08 | city08    | highway08 | num_gears |\n",
       "| ---       | ---      | ---       | ---       | ---       | ---       | ---       |\n",
       "| f64       | f32      | f64       | f32       | f64       | f64       | f64       |\n",
       "+==================================================================================+\n",
       "| 12.681444 | 1.353053 | 1.772964  | 4.560156  | 12.658018 | 11.087154 | 1.73496   |\n",
       "+-----------+----------+-----------+-----------+-----------+-----------+-----------+"
      ]
     },
     "execution_count": 74,
     "metadata": {},
     "output_type": "execute_result"
    }
   ],
   "source": [
    "# https://docs.pola.rs/py-polars/html/reference/expressions/api/polars.Expr.std.html\n",
    "# Get standard deviation.\n",
    "autos.select(cs.numeric().std(ddof=1))"
   ]
  },
  {
   "cell_type": "code",
   "execution_count": 75,
   "id": "174a0bde-60a2-462f-ad9a-fb1b82599b29",
   "metadata": {},
   "outputs": [
    {
     "data": {
      "text/html": [
       "<div><style>\n",
       ".dataframe > thead > tr,\n",
       ".dataframe > tbody > tr {\n",
       "  text-align: right;\n",
       "  white-space: pre-wrap;\n",
       "}\n",
       "</style>\n",
       "<small>shape: (1, 7)</small><table border=\"1\" class=\"dataframe\"><thead><tr><th>year</th><th>displ</th><th>cylinders</th><th>barrels08</th><th>city08</th><th>highway08</th><th>num_gears</th></tr><tr><td>i64</td><td>f32</td><td>i64</td><td>f32</td><td>i64</td><td>i64</td><td>i64</td></tr></thead><tbody><tr><td>96625413</td><td>154502.703125</td><td>269196</td><td>728141.4375</td><td>960629</td><td>1244638</td><td>257720</td></tr></tbody></table></div>"
      ],
      "text/plain": [
       "shape: (1, 7)\n",
       "+----------+---------------+-----------+-------------+--------+-----------+-----------+\n",
       "| year     | displ         | cylinders | barrels08   | city08 | highway08 | num_gears |\n",
       "| ---      | ---           | ---       | ---         | ---    | ---       | ---       |\n",
       "| i64      | f32           | i64       | f32         | i64    | i64       | i64       |\n",
       "+=====================================================================================+\n",
       "| 96625413 | 154502.703125 | 269196    | 728141.4375 | 960629 | 1244638   | 257720    |\n",
       "+----------+---------------+-----------+-------------+--------+-----------+-----------+"
      ]
     },
     "execution_count": 75,
     "metadata": {},
     "output_type": "execute_result"
    }
   ],
   "source": [
    "# https://docs.pola.rs/py-polars/html/reference/expressions/api/polars.Expr.sum.html\n",
    "# Get sum value.\n",
    "# Dtypes in {Int8, UInt8, Int16, UInt16} are cast to Int64 before summing to prevent overflow issues.\n",
    "autos.select(cs.numeric().sum())"
   ]
  },
  {
   "cell_type": "code",
   "execution_count": 76,
   "id": "e797b056-bb45-4672-bda1-a4375ba03b2b",
   "metadata": {},
   "outputs": [
    {
     "data": {
      "text/html": [
       "<div><style>\n",
       ".dataframe > thead > tr,\n",
       ".dataframe > tbody > tr {\n",
       "  text-align: right;\n",
       "  white-space: pre-wrap;\n",
       "}\n",
       "</style>\n",
       "<small>shape: (1, 7)</small><table border=\"1\" class=\"dataframe\"><thead><tr><th>year</th><th>displ</th><th>cylinders</th><th>barrels08</th><th>city08</th><th>highway08</th><th>num_gears</th></tr><tr><td>f64</td><td>f32</td><td>f64</td><td>f32</td><td>f64</td><td>f64</td><td>f64</td></tr></thead><tbody><tr><td>160.819021</td><td>1.830753</td><td>3.143401</td><td>20.795021</td><td>160.225423</td><td>122.924973</td><td>3.010087</td></tr></tbody></table></div>"
      ],
      "text/plain": [
       "shape: (1, 7)\n",
       "+------------+----------+-----------+-----------+------------+------------+-----------+\n",
       "| year       | displ    | cylinders | barrels08 | city08     | highway08  | num_gears |\n",
       "| ---        | ---      | ---       | ---       | ---        | ---        | ---       |\n",
       "| f64        | f32      | f64       | f32       | f64        | f64        | f64       |\n",
       "+=====================================================================================+\n",
       "| 160.819021 | 1.830753 | 3.143401  | 20.795021 | 160.225423 | 122.924973 | 3.010087  |\n",
       "+------------+----------+-----------+-----------+------------+------------+-----------+"
      ]
     },
     "execution_count": 76,
     "metadata": {},
     "output_type": "execute_result"
    }
   ],
   "source": [
    "# https://docs.pola.rs/py-polars/html/reference/expressions/api/polars.Expr.var.html\n",
    "# Get variance.\n",
    "autos.select(cs.numeric().var(ddof=1))"
   ]
  },
  {
   "cell_type": "code",
   "execution_count": 77,
   "id": "523c7f54-1e49-4c2b-8f32-581c69a6fc8e",
   "metadata": {},
   "outputs": [
    {
     "data": {
      "text/html": [
       "<div><style>\n",
       ".dataframe > thead > tr,\n",
       ".dataframe > tbody > tr {\n",
       "  text-align: right;\n",
       "  white-space: pre-wrap;\n",
       "}\n",
       "</style>\n",
       "<small>shape: (48_202, 3)</small><table border=\"1\" class=\"dataframe\"><thead><tr><th>make</th><th>model</th><th>fuelType</th></tr><tr><td>cat</td><td>cat</td><td>cat</td></tr></thead><tbody><tr><td>&quot;Alfa Romeo&quot;</td><td>&quot;Spider Veloce 2000&quot;</td><td>&quot;Regular&quot;</td></tr><tr><td>&quot;Ferrari&quot;</td><td>&quot;Testarossa&quot;</td><td>&quot;Regular&quot;</td></tr><tr><td>&quot;Dodge&quot;</td><td>&quot;Charger&quot;</td><td>&quot;Regular&quot;</td></tr><tr><td>&quot;Dodge&quot;</td><td>&quot;B150/B250 Wagon 2WD&quot;</td><td>&quot;Regular&quot;</td></tr><tr><td>&quot;Subaru&quot;</td><td>&quot;Legacy AWD Turbo&quot;</td><td>&quot;Premium&quot;</td></tr><tr><td>&hellip;</td><td>&hellip;</td><td>&hellip;</td></tr><tr><td>&quot;Subaru&quot;</td><td>&quot;Legacy&quot;</td><td>&quot;Regular&quot;</td></tr><tr><td>&quot;Subaru&quot;</td><td>&quot;Legacy&quot;</td><td>&quot;Regular&quot;</td></tr><tr><td>&quot;Subaru&quot;</td><td>&quot;Legacy AWD&quot;</td><td>&quot;Regular&quot;</td></tr><tr><td>&quot;Subaru&quot;</td><td>&quot;Legacy AWD&quot;</td><td>&quot;Regular&quot;</td></tr><tr><td>&quot;Subaru&quot;</td><td>&quot;Legacy AWD Turbo&quot;</td><td>&quot;Premium&quot;</td></tr></tbody></table></div>"
      ],
      "text/plain": [
       "shape: (48_202, 3)\n",
       "+------------+---------------------+----------+\n",
       "| make       | model               | fuelType |\n",
       "| ---        | ---                 | ---      |\n",
       "| cat        | cat                 | cat      |\n",
       "+=============================================+\n",
       "| Alfa Romeo | Spider Veloce 2000  | Regular  |\n",
       "| Ferrari    | Testarossa          | Regular  |\n",
       "| Dodge      | Charger             | Regular  |\n",
       "| Dodge      | B150/B250 Wagon 2WD | Regular  |\n",
       "| Subaru     | Legacy AWD Turbo    | Premium  |\n",
       "| …          | …                   | …        |\n",
       "| Subaru     | Legacy              | Regular  |\n",
       "| Subaru     | Legacy              | Regular  |\n",
       "| Subaru     | Legacy AWD          | Regular  |\n",
       "| Subaru     | Legacy AWD          | Regular  |\n",
       "| Subaru     | Legacy AWD Turbo    | Premium  |\n",
       "+------------+---------------------+----------+"
      ]
     },
     "execution_count": 77,
     "metadata": {},
     "output_type": "execute_result"
    }
   ],
   "source": [
    "# https://docs.pola.rs/py-polars/html/reference/selectors.html#polars.selectors.matches\n",
    "# Select all columns that match the given regex pattern.\n",
    "# pattern: A valid regular expression pattern, compatible with the regex crate.(\n",
    "autos.select(cs.matches(\"(^f|^m)\")) # select columns starting with f or m"
   ]
  },
  {
   "cell_type": "markdown",
   "id": "100ee1d2-d81b-4f4a-9fd2-9bc2e4b4d2df",
   "metadata": {},
   "source": [
    "## pl.concat_list()"
   ]
  },
  {
   "cell_type": "code",
   "execution_count": 78,
   "id": "32d7f5f2-e0a8-4fbf-b4b7-654f26958f3c",
   "metadata": {},
   "outputs": [
    {
     "data": {
      "text/html": [
       "<div><style>\n",
       ".dataframe > thead > tr,\n",
       ".dataframe > tbody > tr {\n",
       "  text-align: right;\n",
       "  white-space: pre-wrap;\n",
       "}\n",
       "</style>\n",
       "<small>shape: (48_202, 2)</small><table border=\"1\" class=\"dataframe\"><thead><tr><th>concatenated</th><th>concatenated2</th></tr><tr><td>list[cat]</td><td>list[f32]</td></tr></thead><tbody><tr><td>[&quot;Alfa Romeo&quot;, &quot;Spider Veloce 2000&quot;]</td><td>[2.0, 4.0]</td></tr><tr><td>[&quot;Ferrari&quot;, &quot;Testarossa&quot;]</td><td>[4.9, 12.0]</td></tr><tr><td>[&quot;Dodge&quot;, &quot;Charger&quot;]</td><td>[2.2, 4.0]</td></tr><tr><td>[&quot;Dodge&quot;, &quot;B150/B250 Wagon 2WD&quot;]</td><td>[5.2, 8.0]</td></tr><tr><td>[&quot;Subaru&quot;, &quot;Legacy AWD Turbo&quot;]</td><td>[2.2, 4.0]</td></tr><tr><td>&hellip;</td><td>&hellip;</td></tr><tr><td>[&quot;Subaru&quot;, &quot;Legacy&quot;]</td><td>[2.2, 4.0]</td></tr><tr><td>[&quot;Subaru&quot;, &quot;Legacy&quot;]</td><td>[2.2, 4.0]</td></tr><tr><td>[&quot;Subaru&quot;, &quot;Legacy AWD&quot;]</td><td>[2.2, 4.0]</td></tr><tr><td>[&quot;Subaru&quot;, &quot;Legacy AWD&quot;]</td><td>[2.2, 4.0]</td></tr><tr><td>[&quot;Subaru&quot;, &quot;Legacy AWD Turbo&quot;]</td><td>[2.2, 4.0]</td></tr></tbody></table></div>"
      ],
      "text/plain": [
       "shape: (48_202, 2)\n",
       "+---------------------------------+---------------+\n",
       "| concatenated                    | concatenated2 |\n",
       "| ---                             | ---           |\n",
       "| list[cat]                       | list[f32]     |\n",
       "+=================================================+\n",
       "| [\"Alfa Romeo\", \"Spider Veloce … | [2.0, 4.0]    |\n",
       "| [\"Ferrari\", \"Testarossa\"]       | [4.9, 12.0]   |\n",
       "| [\"Dodge\", \"Charger\"]            | [2.2, 4.0]    |\n",
       "| [\"Dodge\", \"B150/B250 Wagon 2WD… | [5.2, 8.0]    |\n",
       "| [\"Subaru\", \"Legacy AWD Turbo\"]  | [2.2, 4.0]    |\n",
       "| …                               | …             |\n",
       "| [\"Subaru\", \"Legacy\"]            | [2.2, 4.0]    |\n",
       "| [\"Subaru\", \"Legacy\"]            | [2.2, 4.0]    |\n",
       "| [\"Subaru\", \"Legacy AWD\"]        | [2.2, 4.0]    |\n",
       "| [\"Subaru\", \"Legacy AWD\"]        | [2.2, 4.0]    |\n",
       "| [\"Subaru\", \"Legacy AWD Turbo\"]  | [2.2, 4.0]    |\n",
       "+---------------------------------+---------------+"
      ]
     },
     "execution_count": 78,
     "metadata": {},
     "output_type": "execute_result"
    }
   ],
   "source": [
    "# https://docs.pola.rs/py-polars/html/reference/expressions/api/polars.concat_list.html\n",
    "# Horizontally concatenate columns into a single list column.\n",
    "# Concatenate multiple columns into a single list column\n",
    "# Note that pl.concat_list is marked for deprecation in favor of the \n",
    "# pl.col(\"column_name\").list.concat(...) syntax, which provides a more consistent API.\n",
    "(\n",
    "    autos\n",
    "    .select(\n",
    "        # very slow with strings\n",
    "        concatenated = pl.concat_list(['make', 'model']), \n",
    "\n",
    "        # very fast with numeric\n",
    "        concatenated2 = pl.concat_list(['displ', 'cylinders']) \n",
    "    )\n",
    ")"
   ]
  },
  {
   "cell_type": "markdown",
   "id": "a2f2590a-55b3-46d8-b172-40ff359fa59b",
   "metadata": {},
   "source": [
    "## pl.col().list.concat()"
   ]
  },
  {
   "cell_type": "code",
   "execution_count": 79,
   "id": "fff06a28-e647-4fa3-a26d-10cd614edd8e",
   "metadata": {},
   "outputs": [
    {
     "data": {
      "text/html": [
       "<div><style>\n",
       ".dataframe > thead > tr,\n",
       ".dataframe > tbody > tr {\n",
       "  text-align: right;\n",
       "  white-space: pre-wrap;\n",
       "}\n",
       "</style>\n",
       "<small>shape: (48_202, 2)</small><table border=\"1\" class=\"dataframe\"><thead><tr><th>concatenated3</th><th>concatenated</th></tr><tr><td>list[cat]</td><td>list[f32]</td></tr></thead><tbody><tr><td>[&quot;Alfa Romeo&quot;, &quot;Spider Veloce 2000&quot;]</td><td>[2.0, 4.0]</td></tr><tr><td>[&quot;Ferrari&quot;, &quot;Testarossa&quot;]</td><td>[4.9, 12.0]</td></tr><tr><td>[&quot;Dodge&quot;, &quot;Charger&quot;]</td><td>[2.2, 4.0]</td></tr><tr><td>[&quot;Dodge&quot;, &quot;B150/B250 Wagon 2WD&quot;]</td><td>[5.2, 8.0]</td></tr><tr><td>[&quot;Subaru&quot;, &quot;Legacy AWD Turbo&quot;]</td><td>[2.2, 4.0]</td></tr><tr><td>&hellip;</td><td>&hellip;</td></tr><tr><td>[&quot;Subaru&quot;, &quot;Legacy&quot;]</td><td>[2.2, 4.0]</td></tr><tr><td>[&quot;Subaru&quot;, &quot;Legacy&quot;]</td><td>[2.2, 4.0]</td></tr><tr><td>[&quot;Subaru&quot;, &quot;Legacy AWD&quot;]</td><td>[2.2, 4.0]</td></tr><tr><td>[&quot;Subaru&quot;, &quot;Legacy AWD&quot;]</td><td>[2.2, 4.0]</td></tr><tr><td>[&quot;Subaru&quot;, &quot;Legacy AWD Turbo&quot;]</td><td>[2.2, 4.0]</td></tr></tbody></table></div>"
      ],
      "text/plain": [
       "shape: (48_202, 2)\n",
       "+---------------------------------+--------------+\n",
       "| concatenated3                   | concatenated |\n",
       "| ---                             | ---          |\n",
       "| list[cat]                       | list[f32]    |\n",
       "+================================================+\n",
       "| [\"Alfa Romeo\", \"Spider Veloce … | [2.0, 4.0]   |\n",
       "| [\"Ferrari\", \"Testarossa\"]       | [4.9, 12.0]  |\n",
       "| [\"Dodge\", \"Charger\"]            | [2.2, 4.0]   |\n",
       "| [\"Dodge\", \"B150/B250 Wagon 2WD… | [5.2, 8.0]   |\n",
       "| [\"Subaru\", \"Legacy AWD Turbo\"]  | [2.2, 4.0]   |\n",
       "| …                               | …            |\n",
       "| [\"Subaru\", \"Legacy\"]            | [2.2, 4.0]   |\n",
       "| [\"Subaru\", \"Legacy\"]            | [2.2, 4.0]   |\n",
       "| [\"Subaru\", \"Legacy AWD\"]        | [2.2, 4.0]   |\n",
       "| [\"Subaru\", \"Legacy AWD\"]        | [2.2, 4.0]   |\n",
       "| [\"Subaru\", \"Legacy AWD Turbo\"]  | [2.2, 4.0]   |\n",
       "+---------------------------------+--------------+"
      ]
     },
     "execution_count": 79,
     "metadata": {},
     "output_type": "execute_result"
    }
   ],
   "source": [
    "# Note that pl.concat_list is marked for deprecation in favor of the pl.col(\"column_name\").list.concat(...) syntax, which provides a more consistent API.\n",
    "(\n",
    "    autos\n",
    "    .select(\n",
    "        concatenated3 = pl.col(['make']).list.concat('model'),\n",
    "        concatenated = pl.col(['displ']).list.concat('cylinders')\n",
    "    )\n",
    ")"
   ]
  },
  {
   "cell_type": "code",
   "execution_count": 80,
   "id": "4b76c6a1-71bb-4537-9d8a-030b10a49789",
   "metadata": {},
   "outputs": [
    {
     "name": "stdout",
     "output_type": "stream",
     "text": [
      "shape: (5, 1)\n",
      "+------+\n",
      "| A    |\n",
      "| ---  |\n",
      "| f64  |\n",
      "+======+\n",
      "| 1.0  |\n",
      "| 2.0  |\n",
      "| 9.0  |\n",
      "| 2.0  |\n",
      "| 13.0 |\n",
      "+------+\n"
     ]
    },
    {
     "data": {
      "text/html": [
       "<div><style>\n",
       ".dataframe > thead > tr,\n",
       ".dataframe > tbody > tr {\n",
       "  text-align: right;\n",
       "  white-space: pre-wrap;\n",
       "}\n",
       "</style>\n",
       "<small>shape: (5, 1)</small><table border=\"1\" class=\"dataframe\"><thead><tr><th>A_rolling</th></tr><tr><td>list[f64]</td></tr></thead><tbody><tr><td>[null, null, 1.0]</td></tr><tr><td>[null, 1.0, 2.0]</td></tr><tr><td>[1.0, 2.0, 9.0]</td></tr><tr><td>[2.0, 9.0, 2.0]</td></tr><tr><td>[9.0, 2.0, 13.0]</td></tr></tbody></table></div>"
      ],
      "text/plain": [
       "shape: (5, 1)\n",
       "+-------------------+\n",
       "| A_rolling         |\n",
       "| ---               |\n",
       "| list[f64]         |\n",
       "+===================+\n",
       "| [null, null, 1.0] |\n",
       "| [null, 1.0, 2.0]  |\n",
       "| [1.0, 2.0, 9.0]   |\n",
       "| [2.0, 9.0, 2.0]   |\n",
       "| [9.0, 2.0, 13.0]  |\n",
       "+-------------------+"
      ]
     },
     "execution_count": 80,
     "metadata": {},
     "output_type": "execute_result"
    }
   ],
   "source": [
    "# Another example of using pl.concat_list.\n",
    "# This mimics a rolling window.\n",
    "start = pl.DataFrame({\"A\": [1.0, 2.0, 9.0, 2.0, 13.0]})\n",
    "print(start)\n",
    "\n",
    "rolling_window = (\n",
    "    start\n",
    "    .select([pl.col(\"A\").shift(i).alias(f\"A_lag_{i}\") for i in range(3)])\n",
    "    .select(pl.concat_list([f\"A_lag_{i}\" for i in range(3)][::-1]).alias(\"A_rolling\"))\n",
    ")\n",
    "rolling_window"
   ]
  },
  {
   "cell_type": "markdown",
   "id": "65c06468-5c09-47e2-b614-8fa1e6a8a9a2",
   "metadata": {},
   "source": [
    "## pl.col.list.sort()\n",
    "* https://docs.pola.rs/py-polars/html/reference/expressions/api/polars.Expr.list.sort.html\n",
    "* Sort the lists in this column."
   ]
  },
  {
   "cell_type": "code",
   "execution_count": 81,
   "id": "742c00a7-f2c3-4ff0-a74f-309a329ae355",
   "metadata": {},
   "outputs": [
    {
     "data": {
      "text/html": [
       "<div><style>\n",
       ".dataframe > thead > tr,\n",
       ".dataframe > tbody > tr {\n",
       "  text-align: right;\n",
       "  white-space: pre-wrap;\n",
       "}\n",
       "</style>\n",
       "<small>shape: (5, 1)</small><table border=\"1\" class=\"dataframe\"><thead><tr><th>A_rolling</th></tr><tr><td>list[f64]</td></tr></thead><tbody><tr><td>[null, null, 1.0]</td></tr><tr><td>[null, 1.0, 2.0]</td></tr><tr><td>[1.0, 2.0, 9.0]</td></tr><tr><td>[2.0, 2.0, 9.0]</td></tr><tr><td>[2.0, 9.0, 13.0]</td></tr></tbody></table></div>"
      ],
      "text/plain": [
       "shape: (5, 1)\n",
       "+-------------------+\n",
       "| A_rolling         |\n",
       "| ---               |\n",
       "| list[f64]         |\n",
       "+===================+\n",
       "| [null, null, 1.0] |\n",
       "| [null, 1.0, 2.0]  |\n",
       "| [1.0, 2.0, 9.0]   |\n",
       "| [2.0, 2.0, 9.0]   |\n",
       "| [2.0, 9.0, 13.0]  |\n",
       "+-------------------+"
      ]
     },
     "execution_count": 81,
     "metadata": {},
     "output_type": "execute_result"
    }
   ],
   "source": [
    "(\n",
    "    rolling_window\n",
    "    .select(pl.col('A_rolling').list.sort(descending=False))\n",
    ")"
   ]
  },
  {
   "cell_type": "markdown",
   "id": "1bb2c81f-edca-421b-9100-b4e5c1f20aec",
   "metadata": {},
   "source": [
    "## pl.col().list.slice() \n",
    "* https://docs.pola.rs/py-polars/html/reference/expressions/api/polars.Expr.list.slice.html\n",
    "* Slice every sublist."
   ]
  },
  {
   "cell_type": "code",
   "execution_count": 82,
   "id": "3169491c-08fa-43dd-bc5c-4b9f1aec650c",
   "metadata": {},
   "outputs": [
    {
     "data": {
      "text/html": [
       "<div><style>\n",
       ".dataframe > thead > tr,\n",
       ".dataframe > tbody > tr {\n",
       "  text-align: right;\n",
       "  white-space: pre-wrap;\n",
       "}\n",
       "</style>\n",
       "<small>shape: (5, 1)</small><table border=\"1\" class=\"dataframe\"><thead><tr><th>A_rolling</th></tr><tr><td>list[f64]</td></tr></thead><tbody><tr><td>[null, 1.0]</td></tr><tr><td>[1.0, 2.0]</td></tr><tr><td>[2.0, 9.0]</td></tr><tr><td>[9.0, 2.0]</td></tr><tr><td>[2.0, 13.0]</td></tr></tbody></table></div>"
      ],
      "text/plain": [
       "shape: (5, 1)\n",
       "+-------------+\n",
       "| A_rolling   |\n",
       "| ---         |\n",
       "| list[f64]   |\n",
       "+=============+\n",
       "| [null, 1.0] |\n",
       "| [1.0, 2.0]  |\n",
       "| [2.0, 9.0]  |\n",
       "| [9.0, 2.0]  |\n",
       "| [2.0, 13.0] |\n",
       "+-------------+"
      ]
     },
     "execution_count": 82,
     "metadata": {},
     "output_type": "execute_result"
    }
   ],
   "source": [
    "(\n",
    "    rolling_window\n",
    "    .select(\n",
    "        pl.col('A_rolling').list.slice(1, 2) # slice 2nd and 3rd elements\n",
    "    ) \n",
    ")"
   ]
  },
  {
   "cell_type": "markdown",
   "id": "0649cfae-ecb2-4890-bb79-e877bba4e88c",
   "metadata": {},
   "source": [
    "## pl.col().list.sum()\n",
    "* https://docs.pola.rs/py-polars/html/reference/expressions/api/polars.Expr.list.sum.html#polars.Expr.list.sum\n",
    "* Sum all the lists in the array."
   ]
  },
  {
   "cell_type": "code",
   "execution_count": 83,
   "id": "bf025f75-0e0f-4c84-9a18-339324ef5b94",
   "metadata": {},
   "outputs": [
    {
     "data": {
      "text/html": [
       "<div><style>\n",
       ".dataframe > thead > tr,\n",
       ".dataframe > tbody > tr {\n",
       "  text-align: right;\n",
       "  white-space: pre-wrap;\n",
       "}\n",
       "</style>\n",
       "<small>shape: (5, 1)</small><table border=\"1\" class=\"dataframe\"><thead><tr><th>A_rolling</th></tr><tr><td>f64</td></tr></thead><tbody><tr><td>1.0</td></tr><tr><td>3.0</td></tr><tr><td>12.0</td></tr><tr><td>13.0</td></tr><tr><td>24.0</td></tr></tbody></table></div>"
      ],
      "text/plain": [
       "shape: (5, 1)\n",
       "+-----------+\n",
       "| A_rolling |\n",
       "| ---       |\n",
       "| f64       |\n",
       "+===========+\n",
       "| 1.0       |\n",
       "| 3.0       |\n",
       "| 12.0      |\n",
       "| 13.0      |\n",
       "| 24.0      |\n",
       "+-----------+"
      ]
     },
     "execution_count": 83,
     "metadata": {},
     "output_type": "execute_result"
    }
   ],
   "source": [
    "(\n",
    "    rolling_window\n",
    "    .select(\n",
    "        pl.col('A_rolling').list.sum()\n",
    "    )\n",
    ")"
   ]
  },
  {
   "cell_type": "markdown",
   "id": "1982d47a-770f-422d-b763-a60ff3373fc3",
   "metadata": {},
   "source": [
    "## df.sort()\n",
    "* https://docs.pola.rs/py-polars/html/reference/dataframe/api/polars.DataFrame.sort.html#polars.DataFrame.sort\n",
    "* Sort the dataframe by the given columns."
   ]
  },
  {
   "cell_type": "code",
   "execution_count": 84,
   "id": "231cb453-1806-41e0-8dc2-05d8e2d50f55",
   "metadata": {},
   "outputs": [
    {
     "data": {
      "text/html": [
       "<div><style>\n",
       ".dataframe > thead > tr,\n",
       ".dataframe > tbody > tr {\n",
       "  text-align: right;\n",
       "  white-space: pre-wrap;\n",
       "}\n",
       "</style>\n",
       "<small>shape: (48_202, 15)</small><table border=\"1\" class=\"dataframe\"><thead><tr><th>year</th><th>make</th><th>model</th><th>displ</th><th>cylinders</th><th>trany</th><th>drive</th><th>VClass</th><th>fuelType</th><th>barrels08</th><th>city08</th><th>highway08</th><th>createdOn</th><th>is_automatic</th><th>num_gears</th></tr><tr><td>i16</td><td>cat</td><td>cat</td><td>f32</td><td>u8</td><td>str</td><td>cat</td><td>cat</td><td>cat</td><td>f32</td><td>u8</td><td>u8</td><td>datetime[μs]</td><td>str</td><td>u8</td></tr></thead><tbody><tr><td>1985</td><td>&quot;Alfa Romeo&quot;</td><td>&quot;Spider Veloce 2000&quot;</td><td>2.0</td><td>4</td><td>&quot;Manual 5-spd&quot;</td><td>&quot;Rear-Wheel Drive&quot;</td><td>&quot;Two Seaters&quot;</td><td>&quot;Regular&quot;</td><td>14.167143</td><td>19</td><td>25</td><td>2013-01-01 00:00:00</td><td>&quot;false&quot;</td><td>5</td></tr><tr><td>1994</td><td>&quot;Alfa Romeo&quot;</td><td>&quot;Spider&quot;</td><td>2.0</td><td>4</td><td>&quot;Manual 5-spd&quot;</td><td>&quot;Rear-Wheel Drive&quot;</td><td>&quot;Two Seaters&quot;</td><td>&quot;Premium&quot;</td><td>13.523182</td><td>19</td><td>27</td><td>2013-01-01 00:00:00</td><td>&quot;false&quot;</td><td>5</td></tr><tr><td>1994</td><td>&quot;Alfa Romeo&quot;</td><td>&quot;164&quot;</td><td>3.0</td><td>6</td><td>&quot;Automatic 4-spd&quot;</td><td>&quot;Front-Wheel Drive&quot;</td><td>&quot;Compact Cars&quot;</td><td>&quot;Premium&quot;</td><td>18.594376</td><td>14</td><td>20</td><td>2013-01-01 00:00:00</td><td>&quot;true&quot;</td><td>4</td></tr><tr><td>1994</td><td>&quot;Alfa Romeo&quot;</td><td>&quot;164&quot;</td><td>3.0</td><td>6</td><td>&quot;Manual 5-spd&quot;</td><td>&quot;Front-Wheel Drive&quot;</td><td>&quot;Compact Cars&quot;</td><td>&quot;Premium&quot;</td><td>16.528334</td><td>15</td><td>22</td><td>2013-01-01 00:00:00</td><td>&quot;false&quot;</td><td>5</td></tr><tr><td>1995</td><td>&quot;Alfa Romeo&quot;</td><td>&quot;164&quot;</td><td>3.0</td><td>6</td><td>&quot;Automatic 4-spd&quot;</td><td>&quot;Front-Wheel Drive&quot;</td><td>&quot;Compact Cars&quot;</td><td>&quot;Premium&quot;</td><td>18.594376</td><td>14</td><td>20</td><td>2013-01-01 00:00:00</td><td>&quot;true&quot;</td><td>4</td></tr><tr><td>&hellip;</td><td>&hellip;</td><td>&hellip;</td><td>&hellip;</td><td>&hellip;</td><td>&hellip;</td><td>&hellip;</td><td>&hellip;</td><td>&hellip;</td><td>&hellip;</td><td>&hellip;</td><td>&hellip;</td><td>&hellip;</td><td>&hellip;</td><td>&hellip;</td></tr><tr><td>1999</td><td>&quot;Quantum Technologies&quot;</td><td>&quot;Chevrolet Cavalier&quot;</td><td>2.2</td><td>4</td><td>&quot;Automatic 3-spd&quot;</td><td>&quot;Front-Wheel Drive&quot;</td><td>&quot;Subcompact Cars&quot;</td><td>&quot;Regular&quot;</td><td>14.167143</td><td>19</td><td>25</td><td>2013-01-01 00:00:00</td><td>&quot;true&quot;</td><td>3</td></tr><tr><td>2003</td><td>&quot;London Taxi&quot;</td><td>&quot;London Taxi&quot;</td><td>2.4</td><td>4</td><td>&quot;Automatic 4-spd&quot;</td><td>&quot;Rear-Wheel Drive&quot;</td><td>&quot;Special Purpose Vehicle&quot;</td><td>&quot;Diesel&quot;</td><td>16.236135</td><td>21</td><td>24</td><td>2013-01-01 00:00:00</td><td>&quot;true&quot;</td><td>4</td></tr><tr><td>1987</td><td>&quot;Excalibur Autos&quot;</td><td>&quot;Phaeton&quot;</td><td>5.0</td><td>8</td><td>&quot;Automatic 4-spd&quot;</td><td>&quot;Rear-Wheel Drive&quot;</td><td>&quot;Minicompact Cars&quot;</td><td>&quot;Premium&quot;</td><td>21.250713</td><td>12</td><td>17</td><td>2013-01-01 00:00:00</td><td>&quot;true&quot;</td><td>4</td></tr><tr><td>2011</td><td>&quot;Mahindra&quot;</td><td>&quot;TR40&quot;</td><td>2.2</td><td>4</td><td>&quot;Automatic 6-spd&quot;</td><td>&quot;4-Wheel Drive&quot;</td><td>&quot;Standard Pickup Trucks 4WD&quot;</td><td>&quot;Diesel&quot;</td><td>17.859751</td><td>19</td><td>21</td><td>2013-01-01 00:00:00</td><td>&quot;true&quot;</td><td>6</td></tr><tr><td>2012</td><td>&quot;Azure Dynamics&quot;</td><td>&quot;Transit Connect Electric Van/W…</td><td>null</td><td>null</td><td>&quot;Automatic (A1)&quot;</td><td>&quot;Front-Wheel Drive&quot;</td><td>&quot;Special Purpose Vehicle 2WD&quot;</td><td>&quot;Electricity&quot;</td><td>0.1296</td><td>62</td><td>62</td><td>2013-01-01 00:00:00</td><td>&quot;true&quot;</td><td>1</td></tr></tbody></table></div>"
      ],
      "text/plain": [
       "shape: (48_202, 15)\n",
       "+-----+-----+-----+-----+-----+-----+-----+-----+-----+-----+-----+--------+-------+-------+-------+\n",
       "| yea | mak | mod | dis | cyl | tra | dri | VCl | fue | bar | cit | highwa | creat | is_au | num_g |\n",
       "| r   | e   | el  | pl  | ind | ny  | ve  | ass | lTy | rel | y08 | y08    | edOn  | tomat | ears  |\n",
       "| --- | --- | --- | --- | ers | --- | --- | --- | pe  | s08 | --- | ---    | ---   | ic    | ---   |\n",
       "| i16 | cat | cat | f32 | --- | str | cat | cat | --- | --- | u8  | u8     | datet | ---   | u8    |\n",
       "|     |     |     |     | u8  |     |     |     | cat | f32 |     |        | ime[μ | str   |       |\n",
       "|     |     |     |     |     |     |     |     |     |     |     |        | s]    |       |       |\n",
       "+==================================================================================================+\n",
       "| 198 | Alf | Spi | 2.0 | 4   | Man | Rea | Two | Reg | 14. | 19  | 25     | 2013- | false | 5     |\n",
       "| 5   | a   | der |     |     | ual | r-W | Sea | ula | 167 |     |        | 01-01 |       |       |\n",
       "|     | Rom | Vel |     |     | 5-s | hee | ter | r   | 143 |     |        | 00:00 |       |       |\n",
       "|     | eo  | oce |     |     | pd  | l   | s   |     |     |     |        | :00   |       |       |\n",
       "|     |     | 200 |     |     |     | Dri |     |     |     |     |        |       |       |       |\n",
       "|     |     | 0   |     |     |     | ve  |     |     |     |     |        |       |       |       |\n",
       "| 199 | Alf | Spi | 2.0 | 4   | Man | Rea | Two | Pre | 13. | 19  | 27     | 2013- | false | 5     |\n",
       "| 4   | a   | der |     |     | ual | r-W | Sea | miu | 523 |     |        | 01-01 |       |       |\n",
       "|     | Rom |     |     |     | 5-s | hee | ter | m   | 182 |     |        | 00:00 |       |       |\n",
       "|     | eo  |     |     |     | pd  | l   | s   |     |     |     |        | :00   |       |       |\n",
       "|     |     |     |     |     |     | Dri |     |     |     |     |        |       |       |       |\n",
       "|     |     |     |     |     |     | ve  |     |     |     |     |        |       |       |       |\n",
       "| 199 | Alf | 164 | 3.0 | 6   | Aut | Fro | Com | Pre | 18. | 14  | 20     | 2013- | true  | 4     |\n",
       "| 4   | a   |     |     |     | oma | nt- | pac | miu | 594 |     |        | 01-01 |       |       |\n",
       "|     | Rom |     |     |     | tic | Whe | t   | m   | 376 |     |        | 00:00 |       |       |\n",
       "|     | eo  |     |     |     | 4-s | el  | Car |     |     |     |        | :00   |       |       |\n",
       "|     |     |     |     |     | pd  | Dri | s   |     |     |     |        |       |       |       |\n",
       "|     |     |     |     |     |     | ve  |     |     |     |     |        |       |       |       |\n",
       "| 199 | Alf | 164 | 3.0 | 6   | Man | Fro | Com | Pre | 16. | 15  | 22     | 2013- | false | 5     |\n",
       "| 4   | a   |     |     |     | ual | nt- | pac | miu | 528 |     |        | 01-01 |       |       |\n",
       "|     | Rom |     |     |     | 5-s | Whe | t   | m   | 334 |     |        | 00:00 |       |       |\n",
       "|     | eo  |     |     |     | pd  | el  | Car |     |     |     |        | :00   |       |       |\n",
       "|     |     |     |     |     |     | Dri | s   |     |     |     |        |       |       |       |\n",
       "|     |     |     |     |     |     | ve  |     |     |     |     |        |       |       |       |\n",
       "| 199 | Alf | 164 | 3.0 | 6   | Aut | Fro | Com | Pre | 18. | 14  | 20     | 2013- | true  | 4     |\n",
       "| 5   | a   |     |     |     | oma | nt- | pac | miu | 594 |     |        | 01-01 |       |       |\n",
       "|     | Rom |     |     |     | tic | Whe | t   | m   | 376 |     |        | 00:00 |       |       |\n",
       "|     | eo  |     |     |     | 4-s | el  | Car |     |     |     |        | :00   |       |       |\n",
       "|     |     |     |     |     | pd  | Dri | s   |     |     |     |        |       |       |       |\n",
       "|     |     |     |     |     |     | ve  |     |     |     |     |        |       |       |       |\n",
       "| …   | …   | …   | …   | …   | …   | …   | …   | …   | …   | …   | …      | …     | …     | …     |\n",
       "| 199 | Qua | Che | 2.2 | 4   | Aut | Fro | Sub | Reg | 14. | 19  | 25     | 2013- | true  | 3     |\n",
       "| 9   | ntu | vro |     |     | oma | nt- | com | ula | 167 |     |        | 01-01 |       |       |\n",
       "|     | m   | let |     |     | tic | Whe | pac | r   | 143 |     |        | 00:00 |       |       |\n",
       "|     | Tec | Cav |     |     | 3-s | el  | t   |     |     |     |        | :00   |       |       |\n",
       "|     | hno | ali |     |     | pd  | Dri | Car |     |     |     |        |       |       |       |\n",
       "|     | log | er  |     |     |     | ve  | s   |     |     |     |        |       |       |       |\n",
       "|     | ies |     |     |     |     |     |     |     |     |     |        |       |       |       |\n",
       "| 200 | Lon | Lon | 2.4 | 4   | Aut | Rea | Spe | Die | 16. | 21  | 24     | 2013- | true  | 4     |\n",
       "| 3   | don | don |     |     | oma | r-W | cia | sel | 236 |     |        | 01-01 |       |       |\n",
       "|     | Tax | Tax |     |     | tic | hee | l   |     | 135 |     |        | 00:00 |       |       |\n",
       "|     | i   | i   |     |     | 4-s | l   | Pur |     |     |     |        | :00   |       |       |\n",
       "|     |     |     |     |     | pd  | Dri | pos |     |     |     |        |       |       |       |\n",
       "|     |     |     |     |     |     | ve  | e   |     |     |     |        |       |       |       |\n",
       "|     |     |     |     |     |     |     | Veh |     |     |     |        |       |       |       |\n",
       "|     |     |     |     |     |     |     | icl |     |     |     |        |       |       |       |\n",
       "|     |     |     |     |     |     |     | e   |     |     |     |        |       |       |       |\n",
       "| 198 | Exc | Pha | 5.0 | 8   | Aut | Rea | Min | Pre | 21. | 12  | 17     | 2013- | true  | 4     |\n",
       "| 7   | ali | eto |     |     | oma | r-W | ico | miu | 250 |     |        | 01-01 |       |       |\n",
       "|     | bur | n   |     |     | tic | hee | mpa | m   | 713 |     |        | 00:00 |       |       |\n",
       "|     | Aut |     |     |     | 4-s | l   | ct  |     |     |     |        | :00   |       |       |\n",
       "|     | os  |     |     |     | pd  | Dri | Car |     |     |     |        |       |       |       |\n",
       "|     |     |     |     |     |     | ve  | s   |     |     |     |        |       |       |       |\n",
       "| 201 | Mah | TR4 | 2.2 | 4   | Aut | 4-W | Sta | Die | 17. | 19  | 21     | 2013- | true  | 6     |\n",
       "| 1   | ind | 0   |     |     | oma | hee | nda | sel | 859 |     |        | 01-01 |       |       |\n",
       "|     | ra  |     |     |     | tic | l   | rd  |     | 751 |     |        | 00:00 |       |       |\n",
       "|     |     |     |     |     | 6-s | Dri | Pic |     |     |     |        | :00   |       |       |\n",
       "|     |     |     |     |     | pd  | ve  | kup |     |     |     |        |       |       |       |\n",
       "|     |     |     |     |     |     |     | Tru |     |     |     |        |       |       |       |\n",
       "|     |     |     |     |     |     |     | cks |     |     |     |        |       |       |       |\n",
       "|     |     |     |     |     |     |     | 4WD |     |     |     |        |       |       |       |\n",
       "| 201 | Azu | Tra | nul | nul | Aut | Fro | Spe | Ele | 0.1 | 62  | 62     | 2013- | true  | 1     |\n",
       "| 2   | re  | nsi | l   | l   | oma | nt- | cia | ctr | 296 |     |        | 01-01 |       |       |\n",
       "|     | Dyn | t   |     |     | tic | Whe | l   | ici |     |     |        | 00:00 |       |       |\n",
       "|     | ami | Con |     |     | (A1 | el  | Pur | ty  |     |     |        | :00   |       |       |\n",
       "|     | cs  | nec |     |     | )   | Dri | pos |     |     |     |        |       |       |       |\n",
       "|     |     | t   |     |     |     | ve  | e   |     |     |     |        |       |       |       |\n",
       "|     |     | Ele |     |     |     |     | Veh |     |     |     |        |       |       |       |\n",
       "|     |     | ctr |     |     |     |     | icl |     |     |     |        |       |       |       |\n",
       "|     |     | ic  |     |     |     |     | e   |     |     |     |        |       |       |       |\n",
       "|     |     | Van |     |     |     |     | 2WD |     |     |     |        |       |       |       |\n",
       "|     |     | /W… |     |     |     |     |     |     |     |     |        |       |       |       |\n",
       "+-----+-----+-----+-----+-----+-----+-----+-----+-----+-----+-----+--------+-------+-------+-------+"
      ]
     },
     "execution_count": 84,
     "metadata": {},
     "output_type": "execute_result"
    }
   ],
   "source": [
    "(\n",
    "    autos\n",
    "    .select(pl.all())\n",
    "    .sort(by='make')\n",
    ")"
   ]
  },
  {
   "cell_type": "markdown",
   "id": "b76d2aee-29b2-46ae-adde-ad4f0db0963d",
   "metadata": {},
   "source": [
    "## df.group_by()\n",
    "* https://docs.pola.rs/py-polars/html/reference/dataframe/api/polars.DataFrame.group_by.html#polars.DataFrame.group_by\n",
    "* Start a group by operation"
   ]
  },
  {
   "cell_type": "code",
   "execution_count": 85,
   "id": "57424d58-37de-46d1-8624-5b85398f5d9f",
   "metadata": {},
   "outputs": [
    {
     "name": "stderr",
     "output_type": "stream",
     "text": [
      "estimated unique values: 22060\n",
      "estimated unique count: 22060 exceeded the boundary: 1000, running default HASH AGGREGATION\n"
     ]
    },
    {
     "data": {
      "text/html": [
       "<div><style>\n",
       ".dataframe > thead > tr,\n",
       ".dataframe > tbody > tr {\n",
       "  text-align: right;\n",
       "  white-space: pre-wrap;\n",
       "}\n",
       "</style>\n",
       "<small>shape: (5_238, 3)</small><table border=\"1\" class=\"dataframe\"><thead><tr><th>make</th><th>model</th><th>len</th></tr><tr><td>cat</td><td>cat</td><td>u32</td></tr></thead><tbody><tr><td>&quot;Ford&quot;</td><td>&quot;F150 Pickup 2WD&quot;</td><td>229</td></tr><tr><td>&quot;Chevrolet&quot;</td><td>&quot;Camaro&quot;</td><td>220</td></tr><tr><td>&quot;Ford&quot;</td><td>&quot;Mustang&quot;</td><td>215</td></tr><tr><td>&quot;Ford&quot;</td><td>&quot;F150 Pickup 4WD&quot;</td><td>211</td></tr><tr><td>&quot;Volkswagen&quot;</td><td>&quot;Jetta&quot;</td><td>203</td></tr><tr><td>&hellip;</td><td>&hellip;</td><td>&hellip;</td></tr><tr><td>&quot;Polestar&quot;</td><td>&quot;3 Long Range Dual Motor (20 In…</td><td>1</td></tr><tr><td>&quot;Chrysler&quot;</td><td>&quot;TC by Maserati&quot;</td><td>1</td></tr><tr><td>&quot;Jaguar&quot;</td><td>&quot;F-Type R Coupe&quot;</td><td>1</td></tr><tr><td>&quot;GMC&quot;</td><td>&quot;Sierra 2500 HD 4WD CNG&quot;</td><td>1</td></tr><tr><td>&quot;Rivian&quot;</td><td>&quot;R1S Performance Dual Large (22…</td><td>1</td></tr></tbody></table></div>"
      ],
      "text/plain": [
       "shape: (5_238, 3)\n",
       "+------------+---------------------------------+-----+\n",
       "| make       | model                           | len |\n",
       "| ---        | ---                             | --- |\n",
       "| cat        | cat                             | u32 |\n",
       "+====================================================+\n",
       "| Ford       | F150 Pickup 2WD                 | 229 |\n",
       "| Chevrolet  | Camaro                          | 220 |\n",
       "| Ford       | Mustang                         | 215 |\n",
       "| Ford       | F150 Pickup 4WD                 | 211 |\n",
       "| Volkswagen | Jetta                           | 203 |\n",
       "| …          | …                               | …   |\n",
       "| Polestar   | 3 Long Range Dual Motor (20 In… | 1   |\n",
       "| Chrysler   | TC by Maserati                  | 1   |\n",
       "| Jaguar     | F-Type R Coupe                  | 1   |\n",
       "| GMC        | Sierra 2500 HD 4WD CNG          | 1   |\n",
       "| Rivian     | R1S Performance Dual Large (22… | 1   |\n",
       "+------------+---------------------------------+-----+"
      ]
     },
     "execution_count": 85,
     "metadata": {},
     "output_type": "execute_result"
    }
   ],
   "source": [
    "(\n",
    "    autos\n",
    "    .group_by(\"make\", \"model\")\n",
    "    .len()\n",
    "    .sort(by=\"len\", descending=True)\n",
    ")"
   ]
  },
  {
   "cell_type": "markdown",
   "id": "b97e7bf1-c1ec-45e6-96e6-cf350fd9d73e",
   "metadata": {},
   "source": [
    "## df.grouped.agg()\n",
    "* Essentially just using the aggregation function on the groupby object"
   ]
  },
  {
   "cell_type": "code",
   "execution_count": 86,
   "id": "40537311-5f1c-4eed-a403-e1992b7cb2eb",
   "metadata": {},
   "outputs": [
    {
     "name": "stderr",
     "output_type": "stream",
     "text": [
      "keys/aggregates are not partitionable: running default HASH AGGREGATION\n"
     ]
    },
    {
     "data": {
      "text/html": [
       "<div><style>\n",
       ".dataframe > thead > tr,\n",
       ".dataframe > tbody > tr {\n",
       "  text-align: right;\n",
       "  white-space: pre-wrap;\n",
       "}\n",
       "</style>\n",
       "<small>shape: (5_238, 6)</small><table border=\"1\" class=\"dataframe\"><thead><tr><th>make</th><th>model</th><th>len</th><th>trany</th><th>year</th><th>highway08</th></tr><tr><td>cat</td><td>cat</td><td>u32</td><td>list[str]</td><td>list[i16]</td><td>list[u8]</td></tr></thead><tbody><tr><td>&quot;Ford&quot;</td><td>&quot;F150 Pickup 2WD&quot;</td><td>229</td><td>[&quot;Automatic 4-spd&quot;, &quot;Manual 4-spd&quot;, … &quot;Automatic 4-spd&quot;]</td><td>[1993, 1993, … 1992]</td><td>[18, 17, … 15]</td></tr><tr><td>&quot;Chevrolet&quot;</td><td>&quot;Camaro&quot;</td><td>220</td><td>[&quot;Automatic 4-spd&quot;, &quot;Manual 5-spd&quot;, … &quot;Manual 6-spd&quot;]</td><td>[1994, 1994, … 1993]</td><td>[26, 26, … 23]</td></tr><tr><td>&quot;Ford&quot;</td><td>&quot;Mustang&quot;</td><td>215</td><td>[&quot;Automatic 4-spd&quot;, &quot;Manual 5-spd&quot;, … &quot;Automatic 4-spd&quot;]</td><td>[1994, 1994, … 1993]</td><td>[26, 27, … 22]</td></tr><tr><td>&quot;Ford&quot;</td><td>&quot;F150 Pickup 4WD&quot;</td><td>211</td><td>[&quot;Automatic 4-spd&quot;, &quot;Manual 4-spd&quot;, … &quot;Automatic 4-spd&quot;]</td><td>[1993, 1993, … 1992]</td><td>[17, 16, … 15]</td></tr><tr><td>&quot;Volkswagen&quot;</td><td>&quot;Jetta&quot;</td><td>203</td><td>[&quot;Manual 5-spd&quot;, &quot;Automatic 4-spd&quot;, … &quot;Manual 5-spd&quot;]</td><td>[1996, 1996, … 1992]</td><td>[44, 26, … 29]</td></tr><tr><td>&hellip;</td><td>&hellip;</td><td>&hellip;</td><td>&hellip;</td><td>&hellip;</td><td>&hellip;</td></tr><tr><td>&quot;Mercedes-Benz&quot;</td><td>&quot;400SEL&quot;</td><td>1</td><td>[&quot;Automatic 4-spd&quot;]</td><td>[1993]</td><td>[17]</td></tr><tr><td>&quot;Chevrolet&quot;</td><td>&quot;Equinox EV AWD&quot;</td><td>1</td><td>[&quot;Automatic (A1)&quot;]</td><td>[2024]</td><td>[90]</td></tr><tr><td>&quot;Chevrolet&quot;</td><td>&quot;Express Cargo (Bi-fuel)&quot;</td><td>1</td><td>[&quot;Automatic 4-spd&quot;]</td><td>[2004]</td><td>[15]</td></tr><tr><td>&quot;Porsche&quot;</td><td>&quot;Taycan 4S Performance Battery …</td><td>1</td><td>[&quot;Automatic (A2)&quot;]</td><td>[2024]</td><td>[81]</td></tr><tr><td>&quot;Tesla&quot;</td><td>&quot;Model X AWD - 100D&quot;</td><td>1</td><td>[&quot;Automatic (A1)&quot;]</td><td>[2017]</td><td>[89]</td></tr></tbody></table></div>"
      ],
      "text/plain": [
       "shape: (5_238, 6)\n",
       "+---------------+---------------------+-----+--------------------+----------------+----------------+\n",
       "| make          | model               | len | trany              | year           | highway08      |\n",
       "| ---           | ---                 | --- | ---                | ---            | ---            |\n",
       "| cat           | cat                 | u32 | list[str]          | list[i16]      | list[u8]       |\n",
       "+==================================================================================================+\n",
       "| Ford          | F150 Pickup 2WD     | 229 | [\"Automatic        | [1993, 1993, … | [18, 17, … 15] |\n",
       "|               |                     |     | 4-spd\", \"Manual    | 1992]          |                |\n",
       "|               |                     |     | 4-…                |                |                |\n",
       "| Chevrolet     | Camaro              | 220 | [\"Automatic        | [1994, 1994, … | [26, 26, … 23] |\n",
       "|               |                     |     | 4-spd\", \"Manual    | 1993]          |                |\n",
       "|               |                     |     | 5-…                |                |                |\n",
       "| Ford          | Mustang             | 215 | [\"Automatic        | [1994, 1994, … | [26, 27, … 22] |\n",
       "|               |                     |     | 4-spd\", \"Manual    | 1993]          |                |\n",
       "|               |                     |     | 5-…                |                |                |\n",
       "| Ford          | F150 Pickup 4WD     | 211 | [\"Automatic        | [1993, 1993, … | [17, 16, … 15] |\n",
       "|               |                     |     | 4-spd\", \"Manual    | 1992]          |                |\n",
       "|               |                     |     | 4-…                |                |                |\n",
       "| Volkswagen    | Jetta               | 203 | [\"Manual 5-spd\",   | [1996, 1996, … | [44, 26, … 29] |\n",
       "|               |                     |     | \"Automatic 4-…     | 1992]          |                |\n",
       "| …             | …                   | …   | …                  | …              | …              |\n",
       "| Mercedes-Benz | 400SEL              | 1   | [\"Automatic        | [1993]         | [17]           |\n",
       "|               |                     |     | 4-spd\"]            |                |                |\n",
       "| Chevrolet     | Equinox EV AWD      | 1   | [\"Automatic (A1)\"] | [2024]         | [90]           |\n",
       "| Chevrolet     | Express Cargo       | 1   | [\"Automatic        | [2004]         | [15]           |\n",
       "|               | (Bi-fuel)           |     | 4-spd\"]            |                |                |\n",
       "| Porsche       | Taycan 4S           | 1   | [\"Automatic (A2)\"] | [2024]         | [81]           |\n",
       "|               | Performance Battery |     |                    |                |                |\n",
       "|               | …                   |     |                    |                |                |\n",
       "| Tesla         | Model X AWD - 100D  | 1   | [\"Automatic (A1)\"] | [2017]         | [89]           |\n",
       "+---------------+---------------------+-----+--------------------+----------------+----------------+"
      ]
     },
     "execution_count": 86,
     "metadata": {},
     "output_type": "execute_result"
    }
   ],
   "source": [
    "(\n",
    "    autos\n",
    "    .group_by(\"make\", \"model\")\n",
    "    .agg(\n",
    "        pl.len(),\n",
    "        pl.col(\"trany\"),\n",
    "        pl.col(\"year\"),\n",
    "        pl.col(\"highway08\")\n",
    "    )\n",
    "    .sort(by=\"len\", descending=True)\n",
    ")"
   ]
  },
  {
   "cell_type": "markdown",
   "id": "accff641-44e3-4aef-bef8-c85ae2b7adf8",
   "metadata": {},
   "source": [
    "## df.pivot()\n",
    "* https://docs.pola.rs/py-polars/html/reference/dataframe/api/polars.DataFrame.pivot.html\n",
    "* Create a spreadsheet-style pivot table as a DataFrame.\n",
    "* Only available in eager mode. If you know the unique column values in advance, you can do a \"lazy pivot\". "
   ]
  },
  {
   "cell_type": "code",
   "execution_count": 87,
   "id": "37e49c97-ff31-4075-adee-f9f9b516697f",
   "metadata": {},
   "outputs": [
    {
     "data": {
      "text/html": [
       "<div><style>\n",
       ".dataframe > thead > tr,\n",
       ".dataframe > tbody > tr {\n",
       "  text-align: right;\n",
       "  white-space: pre-wrap;\n",
       "}\n",
       "</style>\n",
       "<small>shape: (5_238, 5)</small><table border=\"1\" class=\"dataframe\"><thead><tr><th>make</th><th>model</th><th>Automatic</th><th>false</th><th>true</th></tr><tr><td>cat</td><td>cat</td><td>f64</td><td>f64</td><td>f64</td></tr></thead><tbody><tr><td>&quot;Alfa Romeo&quot;</td><td>&quot;Spider Veloce 2000&quot;</td><td>null</td><td>18.333333</td><td>null</td></tr><tr><td>&quot;Ferrari&quot;</td><td>&quot;Testarossa&quot;</td><td>null</td><td>9.111111</td><td>null</td></tr><tr><td>&quot;Dodge&quot;</td><td>&quot;Charger&quot;</td><td>null</td><td>21.555556</td><td>17.146667</td></tr><tr><td>&quot;Dodge&quot;</td><td>&quot;B150/B250 Wagon 2WD&quot;</td><td>null</td><td>11.894737</td><td>11.580645</td></tr><tr><td>&quot;Subaru&quot;</td><td>&quot;Legacy AWD Turbo&quot;</td><td>null</td><td>17.0</td><td>16.0</td></tr><tr><td>&hellip;</td><td>&hellip;</td><td>&hellip;</td><td>&hellip;</td><td>&hellip;</td></tr><tr><td>&quot;Dodge&quot;</td><td>&quot;Caravan C/V/Grand Caravan 4WD&quot;</td><td>null</td><td>null</td><td>15.0</td></tr><tr><td>&quot;PAS Inc - GMC&quot;</td><td>&quot;Pas-typhoon&quot;</td><td>null</td><td>null</td><td>14.0</td></tr><tr><td>&quot;Ferrari&quot;</td><td>&quot;Ferrari 348 TB/TS&quot;</td><td>null</td><td>12.0</td><td>null</td></tr><tr><td>&quot;Jaguar&quot;</td><td>&quot;XJRS Convertble&quot;</td><td>null</td><td>null</td><td>11.0</td></tr><tr><td>&quot;Jaguar&quot;</td><td>&quot;XJRS Coupe&quot;</td><td>null</td><td>null</td><td>11.0</td></tr></tbody></table></div>"
      ],
      "text/plain": [
       "shape: (5_238, 5)\n",
       "+---------------+-------------------------------+-----------+-----------+-----------+\n",
       "| make          | model                         | Automatic | false     | true      |\n",
       "| ---           | ---                           | ---       | ---       | ---       |\n",
       "| cat           | cat                           | f64       | f64       | f64       |\n",
       "+===================================================================================+\n",
       "| Alfa Romeo    | Spider Veloce 2000            | null      | 18.333333 | null      |\n",
       "| Ferrari       | Testarossa                    | null      | 9.111111  | null      |\n",
       "| Dodge         | Charger                       | null      | 21.555556 | 17.146667 |\n",
       "| Dodge         | B150/B250 Wagon 2WD           | null      | 11.894737 | 11.580645 |\n",
       "| Subaru        | Legacy AWD Turbo              | null      | 17.0      | 16.0      |\n",
       "| …             | …                             | …         | …         | …         |\n",
       "| Dodge         | Caravan C/V/Grand Caravan 4WD | null      | null      | 15.0      |\n",
       "| PAS Inc - GMC | Pas-typhoon                   | null      | null      | 14.0      |\n",
       "| Ferrari       | Ferrari 348 TB/TS             | null      | 12.0      | null      |\n",
       "| Jaguar        | XJRS Convertble               | null      | null      | 11.0      |\n",
       "| Jaguar        | XJRS Coupe                    | null      | null      | 11.0      |\n",
       "+---------------+-------------------------------+-----------+-----------+-----------+"
      ]
     },
     "execution_count": 87,
     "metadata": {},
     "output_type": "execute_result"
    }
   ],
   "source": [
    "(\n",
    "    autos\n",
    "    .pivot(\n",
    "        index=['make', 'model'], # One or multiple keys to group by.\n",
    "        on='is_automatic', # Name of the column(s) whose values will be used as the header of the output DataFrame.\n",
    "        values='city08', # Column values to aggregate. If None, all remaining columns will be used.\n",
    "        aggregate_function=\"mean\",\n",
    "        sort_columns=True,\n",
    "    )\n",
    ")"
   ]
  },
  {
   "cell_type": "markdown",
   "id": "fc562bb0-e225-4e34-979c-34f8d129f5d0",
   "metadata": {},
   "source": [
    "## value counts"
   ]
  },
  {
   "cell_type": "code",
   "execution_count": 88,
   "id": "dbd1ff11-a610-4566-9775-bd813d869361",
   "metadata": {},
   "outputs": [
    {
     "name": "stdout",
     "output_type": "stream",
     "text": [
      "---- year ---\n",
      "shape: (42, 2)\n",
      "+------+-------+\n",
      "| year | count |\n",
      "| ---  | ---   |\n",
      "| i16  | u32   |\n",
      "+==============+\n",
      "| 1984 | 1964  |\n",
      "| 1985 | 1701  |\n",
      "| 2018 | 1350  |\n",
      "| 2019 | 1347  |\n",
      "| 2023 | 1330  |\n",
      "| …    | …     |\n",
      "| 2000 | 840   |\n",
      "| 1998 | 812   |\n",
      "| 2025 | 800   |\n",
      "| 1996 | 773   |\n",
      "| 1997 | 762   |\n",
      "+------+-------+\n",
      "---- make ---\n",
      "shape: (145, 2)\n",
      "+---------------------------------+-------+\n",
      "| make                            | count |\n",
      "| ---                             | ---   |\n",
      "| cat                             | u32   |\n",
      "+=========================================+\n",
      "| Chevrolet                       | 4472  |\n",
      "| Ford                            | 3834  |\n",
      "| GMC                             | 2823  |\n",
      "| Dodge                           | 2695  |\n",
      "| BMW                             | 2536  |\n",
      "| …                               | …     |\n",
      "| Grumman Allied Industries       | 1     |\n",
      "| Environmental Rsch and Devp Co… | 1     |\n",
      "| General Motors                  | 1     |\n",
      "| Goldacre                        | 1     |\n",
      "| Isis Imports Ltd                | 1     |\n",
      "+---------------------------------+-------+\n",
      "---- model ---\n",
      "shape: (5_166, 2)\n",
      "+-------------------------------+-------+\n",
      "| model                         | count |\n",
      "| ---                           | ---   |\n",
      "| cat                           | u32   |\n",
      "+=======================================+\n",
      "| F150 Pickup 2WD               | 236   |\n",
      "| Camaro                        | 220   |\n",
      "| F150 Pickup 4WD               | 218   |\n",
      "| Mustang                       | 218   |\n",
      "| Jetta                         | 203   |\n",
      "| …                             | …     |\n",
      "| Caravan C/V/Grand Caravan 4WD | 1     |\n",
      "| Pas-typhoon                   | 1     |\n",
      "| Ferrari 348 TB/TS             | 1     |\n",
      "| XJRS Convertble               | 1     |\n",
      "| XJRS Coupe                    | 1     |\n",
      "+-------------------------------+-------+\n",
      "---- displ ---\n",
      "shape: (67, 2)\n",
      "+-------+-------+\n",
      "| displ | count |\n",
      "| ---   | ---   |\n",
      "| f32   | u32   |\n",
      "+===============+\n",
      "| 2.0   | 5809  |\n",
      "| 3.0   | 4313  |\n",
      "| 2.5   | 3050  |\n",
      "| 2.4   | 2162  |\n",
      "| 3.5   | 2077  |\n",
      "| …     | …     |\n",
      "| 7.0   | 10    |\n",
      "| 8.3   | 9     |\n",
      "| 0.9   | 6     |\n",
      "| 7.4   | 4     |\n",
      "| 0.0   | 1     |\n",
      "+-------+-------+\n",
      "---- cylinders ---\n",
      "shape: (10, 2)\n",
      "+-----------+-------+\n",
      "| cylinders | count |\n",
      "| ---       | ---   |\n",
      "| u8        | u32   |\n",
      "+===================+\n",
      "| 4         | 18727 |\n",
      "| 6         | 16239 |\n",
      "| 8         | 10040 |\n",
      "| null      | 965   |\n",
      "| 5         | 778   |\n",
      "| 12        | 741   |\n",
      "| 3         | 428   |\n",
      "| 10        | 199   |\n",
      "| 2         | 63    |\n",
      "| 16        | 22    |\n",
      "+-----------+-------+\n",
      "---- trany ---\n",
      "shape: (41, 2)\n",
      "+--------------------+-------+\n",
      "| trany              | count |\n",
      "| ---                | ---   |\n",
      "| str                | u32   |\n",
      "+============================+\n",
      "| Automatic 4-spd    | 11048 |\n",
      "| Manual 5-spd       | 8392  |\n",
      "| Automatic (S6)     | 3352  |\n",
      "| Automatic (S8)     | 3292  |\n",
      "| Automatic 3-spd    | 3151  |\n",
      "| …                  | …     |\n",
      "| null               | 11    |\n",
      "| Automatic (AM-S9)  | 6     |\n",
      "| Automatic (L4)     | 2     |\n",
      "| Automatic (L3)     | 2     |\n",
      "| Automatic (AM-S10) | 2     |\n",
      "+--------------------+-------+\n",
      "---- drive ---\n",
      "shape: (8, 2)\n",
      "+----------------------------+-------+\n",
      "| drive                      | count |\n",
      "| ---                        | ---   |\n",
      "| cat                        | u32   |\n",
      "+====================================+\n",
      "| Front-Wheel Drive          | 15599 |\n",
      "| Rear-Wheel Drive           | 15452 |\n",
      "| 4-Wheel or All-Wheel Drive | 6645  |\n",
      "| All-Wheel Drive            | 5772  |\n",
      "| 4-Wheel Drive              | 2428  |\n",
      "| null                       | 1186  |\n",
      "| Part-time 4-Wheel Drive    | 613   |\n",
      "| 2-Wheel Drive              | 507   |\n",
      "+----------------------------+-------+\n",
      "---- VClass ---\n",
      "shape: (34, 2)\n",
      "+------------------------------+-------+\n",
      "| VClass                       | count |\n",
      "| ---                          | ---   |\n",
      "| cat                          | u32   |\n",
      "+======================================+\n",
      "| Compact Cars                 | 6474  |\n",
      "| Midsize Cars                 | 5750  |\n",
      "| Subcompact Cars              | 5717  |\n",
      "| Large Cars                   | 2680  |\n",
      "| Two Seaters                  | 2450  |\n",
      "| …                            | …     |\n",
      "| Standard Pickup Trucks/2wd   | 4     |\n",
      "| Vans Passenger               | 2     |\n",
      "| Special Purpose Vehicles/2wd | 2     |\n",
      "| Special Purpose Vehicles/4wd | 2     |\n",
      "| Special Purpose Vehicle      | 1     |\n",
      "+------------------------------+-------+\n",
      "---- fuelType ---\n",
      "shape: (15, 2)\n",
      "+----------------------------+-------+\n",
      "| fuelType                   | count |\n",
      "| ---                        | ---   |\n",
      "| cat                        | u32   |\n",
      "+====================================+\n",
      "| Regular                    | 29131 |\n",
      "| Premium                    | 14699 |\n",
      "| Gasoline or E85            | 1402  |\n",
      "| Diesel                     | 1284  |\n",
      "| Electricity                | 930   |\n",
      "| …                          | …     |\n",
      "| Premium Gas or Electricity | 55    |\n",
      "| Hydrogen                   | 32    |\n",
      "| Gasoline or natural gas    | 20    |\n",
      "| Gasoline or propane        | 8     |\n",
      "| Regular Gas or Electricity | 4     |\n",
      "+----------------------------+-------+\n",
      "---- barrels08 ---\n",
      "shape: (323, 2)\n",
      "+-----------+-------+\n",
      "| barrels08 | count |\n",
      "| ---       | ---   |\n",
      "| f32       | u32   |\n",
      "+===================+\n",
      "| 16.528334 | 4202  |\n",
      "| 15.658422 | 4049  |\n",
      "| 14.167143 | 3998  |\n",
      "| 14.8755   | 3842  |\n",
      "| 17.500587 | 2983  |\n",
      "| …         | …     |\n",
      "| 1.324673  | 1     |\n",
      "| 1.780144  | 1     |\n",
      "| 1.7376    | 1     |\n",
      "| 5.833529  | 1     |\n",
      "| 0.0552    | 1     |\n",
      "+-----------+-------+\n",
      "---- city08 ---\n",
      "shape: (139, 2)\n",
      "+--------+-------+\n",
      "| city08 | count |\n",
      "| ---    | ---   |\n",
      "| u8     | u32   |\n",
      "+================+\n",
      "| 15     | 5003  |\n",
      "| 18     | 4518  |\n",
      "| 17     | 4470  |\n",
      "| 16     | 4418  |\n",
      "| 19     | 3527  |\n",
      "| …      | …     |\n",
      "| 148    | 1     |\n",
      "| 135    | 1     |\n",
      "| 144    | 1     |\n",
      "| 149    | 1     |\n",
      "| 70     | 1     |\n",
      "+--------+-------+\n",
      "---- highway08 ---\n",
      "shape: (125, 2)\n",
      "+-----------+-------+\n",
      "| highway08 | count |\n",
      "| ---       | ---   |\n",
      "| u8        | u32   |\n",
      "+===================+\n",
      "| 24        | 3854  |\n",
      "| 26        | 3767  |\n",
      "| 22        | 3508  |\n",
      "| 23        | 3196  |\n",
      "| 20        | 2922  |\n",
      "| …         | …     |\n",
      "| 131       | 1     |\n",
      "| 142       | 1     |\n",
      "| 130       | 1     |\n",
      "| 113       | 1     |\n",
      "| 70        | 1     |\n",
      "+-----------+-------+\n",
      "---- createdOn ---\n",
      "shape: (459, 2)\n",
      "+---------------------+-------+\n",
      "| createdOn           | count |\n",
      "| ---                 | ---   |\n",
      "| datetime[μs]        | u32   |\n",
      "+=============================+\n",
      "| 2013-01-01 00:00:00 | 34193 |\n",
      "| 2024-08-25 00:00:00 | 329   |\n",
      "| 2023-07-31 00:00:00 | 247   |\n",
      "| 2023-11-06 00:00:00 | 235   |\n",
      "| 2023-09-19 00:00:00 | 206   |\n",
      "| …                   | …     |\n",
      "| 2019-04-10 00:00:00 | 1     |\n",
      "| 2020-02-19 00:00:00 | 1     |\n",
      "| 2020-07-16 00:00:00 | 1     |\n",
      "| 2020-12-17 00:00:00 | 1     |\n",
      "| 2022-04-18 00:00:00 | 1     |\n",
      "+---------------------+-------+\n",
      "---- is_automatic ---\n",
      "shape: (3, 2)\n",
      "+--------------+-------+\n",
      "| is_automatic | count |\n",
      "| ---          | ---   |\n",
      "| str          | u32   |\n",
      "+======================+\n",
      "| true         | 34950 |\n",
      "| false        | 13241 |\n",
      "| Automatic    | 11    |\n",
      "+--------------+-------+\n",
      "---- num_gears ---\n",
      "shape: (10, 2)\n",
      "+-----------+-------+\n",
      "| num_gears | count |\n",
      "| ---       | ---   |\n",
      "| u8        | u32   |\n",
      "+===================+\n",
      "| 4         | 12783 |\n",
      "| 5         | 11457 |\n",
      "| 6         | 10037 |\n",
      "| 8         | 4896  |\n",
      "| 3         | 3230  |\n",
      "| 7         | 2609  |\n",
      "| 10        | 1119  |\n",
      "| 9         | 1079  |\n",
      "| 1         | 925   |\n",
      "| 2         | 67    |\n",
      "+-----------+-------+\n"
     ]
    }
   ],
   "source": [
    "def all_value_counts(df_):\n",
    "    for x in df_.columns:\n",
    "        print(f\"---- {x} ---\")\n",
    "        print(autos[x].value_counts(sort=True))\n",
    "\n",
    "all_value_counts(autos)"
   ]
  },
  {
   "cell_type": "code",
   "execution_count": 89,
   "id": "82aed2ad-1867-4513-b0e1-f78439728db9",
   "metadata": {},
   "outputs": [
    {
     "data": {
      "text/plain": [
       "year              42\n",
       "make             145\n",
       "model           5166\n",
       "displ             66\n",
       "cylinders          9\n",
       "trany             40\n",
       "drive              7\n",
       "VClass            34\n",
       "fuelType          15\n",
       "barrels08        323\n",
       "city08           139\n",
       "highway08        125\n",
       "createdOn        459\n",
       "is_automatic       3\n",
       "num_gears         10\n",
       "dtype: int64"
      ]
     },
     "execution_count": 89,
     "metadata": {},
     "output_type": "execute_result"
    }
   ],
   "source": [
    "autos.to_pandas().nunique()"
   ]
  },
  {
   "cell_type": "code",
   "execution_count": 90,
   "id": "5371b214-4beb-4ed7-997e-8dad424cd14e",
   "metadata": {},
   "outputs": [
    {
     "name": "stdout",
     "output_type": "stream",
     "text": [
      "year          : 42\n",
      "make          : 145\n",
      "model         : 5166\n",
      "displ         : 67\n",
      "cylinders     : 10\n",
      "trany         : 41\n",
      "drive         : 8\n",
      "VClass        : 34\n",
      "fuelType      : 15\n",
      "barrels08     : 323\n",
      "city08        : 139\n",
      "highway08     : 125\n",
      "createdOn     : 459\n",
      "is_automatic  : 3\n",
      "num_gears     : 10\n"
     ]
    }
   ],
   "source": [
    "def all_unique_counts(df_):\n",
    "    for x in df_.columns:\n",
    "        print(f\"{x: <14}: {autos[x].n_unique()}\")\n",
    "        \n",
    "all_unique_counts(autos)"
   ]
  },
  {
   "cell_type": "markdown",
   "id": "1de2309d-afdb-43bd-b40e-025b49ca10e3",
   "metadata": {},
   "source": [
    "## df.filter\n",
    "\n",
    "    DataFrame.filter(\n",
    "        *predicates: IntoExprColumn | Iterable[IntoExprColumn] | bool | list[bool] | np.ndarray[Any, Any],\n",
    "        **constraints: Any,\n",
    "    ) → DataFrame\n",
    "\n",
    "* https://docs.pola.rs/py-polars/html/reference/dataframe/api/polars.DataFrame.filter.html\n",
    "* Filter the rows in the DataFrame based on one or more predicate expressions.\n",
    "* The original order of the remaining rows is preserved."
   ]
  },
  {
   "cell_type": "code",
   "execution_count": 91,
   "id": "aafc0e7f-1dca-4698-9c01-764b36dd2c07",
   "metadata": {},
   "outputs": [
    {
     "name": "stderr",
     "output_type": "stream",
     "text": [
      "dataframe filtered\n"
     ]
    },
    {
     "data": {
      "text/html": [
       "<div><style>\n",
       ".dataframe > thead > tr,\n",
       ".dataframe > tbody > tr {\n",
       "  text-align: right;\n",
       "  white-space: pre-wrap;\n",
       "}\n",
       "</style>\n",
       "<small>shape: (2, 15)</small><table border=\"1\" class=\"dataframe\"><thead><tr><th>year</th><th>make</th><th>model</th><th>displ</th><th>cylinders</th><th>trany</th><th>drive</th><th>VClass</th><th>fuelType</th><th>barrels08</th><th>city08</th><th>highway08</th><th>createdOn</th><th>is_automatic</th><th>num_gears</th></tr><tr><td>i16</td><td>cat</td><td>cat</td><td>f32</td><td>u8</td><td>str</td><td>cat</td><td>cat</td><td>cat</td><td>f32</td><td>u8</td><td>u8</td><td>datetime[μs]</td><td>str</td><td>u8</td></tr></thead><tbody><tr><td>1993</td><td>&quot;Toyota&quot;</td><td>&quot;Corolla&quot;</td><td>1.6</td><td>4</td><td>&quot;Automatic 3-spd&quot;</td><td>&quot;Front-Wheel Drive&quot;</td><td>&quot;Compact Cars&quot;</td><td>&quot;Regular&quot;</td><td>12.39625</td><td>23</td><td>26</td><td>2013-01-01 00:00:00</td><td>&quot;true&quot;</td><td>3</td></tr><tr><td>1993</td><td>&quot;Toyota&quot;</td><td>&quot;Corolla&quot;</td><td>1.6</td><td>4</td><td>&quot;Manual 5-spd&quot;</td><td>&quot;Front-Wheel Drive&quot;</td><td>&quot;Compact Cars&quot;</td><td>&quot;Regular&quot;</td><td>11.442693</td><td>23</td><td>31</td><td>2013-01-01 00:00:00</td><td>&quot;false&quot;</td><td>5</td></tr></tbody></table></div>"
      ],
      "text/plain": [
       "shape: (2, 15)\n",
       "+-----+-----+-----+-----+-----+-----+-----+-----+-----+-----+-----+--------+-------+-------+-------+\n",
       "| yea | mak | mod | dis | cyl | tra | dri | VCl | fue | bar | cit | highwa | creat | is_au | num_g |\n",
       "| r   | e   | el  | pl  | ind | ny  | ve  | ass | lTy | rel | y08 | y08    | edOn  | tomat | ears  |\n",
       "| --- | --- | --- | --- | ers | --- | --- | --- | pe  | s08 | --- | ---    | ---   | ic    | ---   |\n",
       "| i16 | cat | cat | f32 | --- | str | cat | cat | --- | --- | u8  | u8     | datet | ---   | u8    |\n",
       "|     |     |     |     | u8  |     |     |     | cat | f32 |     |        | ime[μ | str   |       |\n",
       "|     |     |     |     |     |     |     |     |     |     |     |        | s]    |       |       |\n",
       "+==================================================================================================+\n",
       "| 199 | Toy | Cor | 1.6 | 4   | Aut | Fro | Com | Reg | 12. | 23  | 26     | 2013- | true  | 3     |\n",
       "| 3   | ota | oll |     |     | oma | nt- | pac | ula | 396 |     |        | 01-01 |       |       |\n",
       "|     |     | a   |     |     | tic | Whe | t   | r   | 25  |     |        | 00:00 |       |       |\n",
       "|     |     |     |     |     | 3-s | el  | Car |     |     |     |        | :00   |       |       |\n",
       "|     |     |     |     |     | pd  | Dri | s   |     |     |     |        |       |       |       |\n",
       "|     |     |     |     |     |     | ve  |     |     |     |     |        |       |       |       |\n",
       "| 199 | Toy | Cor | 1.6 | 4   | Man | Fro | Com | Reg | 11. | 23  | 31     | 2013- | false | 5     |\n",
       "| 3   | ota | oll |     |     | ual | nt- | pac | ula | 442 |     |        | 01-01 |       |       |\n",
       "|     |     | a   |     |     | 5-s | Whe | t   | r   | 693 |     |        | 00:00 |       |       |\n",
       "|     |     |     |     |     | pd  | el  | Car |     |     |     |        | :00   |       |       |\n",
       "|     |     |     |     |     |     | Dri | s   |     |     |     |        |       |       |       |\n",
       "|     |     |     |     |     |     | ve  |     |     |     |     |        |       |       |       |\n",
       "+-----+-----+-----+-----+-----+-----+-----+-----+-----+-----+-----+--------+-------+-------+-------+"
      ]
     },
     "execution_count": 91,
     "metadata": {},
     "output_type": "execute_result"
    }
   ],
   "source": [
    "(\n",
    "    autos\n",
    "    .filter(pl.col('make') == \"Toyota\" )\n",
    ").head(2)"
   ]
  },
  {
   "cell_type": "code",
   "execution_count": 92,
   "id": "917015f7-fc31-4d3a-a535-7f1891486106",
   "metadata": {},
   "outputs": [
    {
     "name": "stderr",
     "output_type": "stream",
     "text": [
      "dataframe filtered\n",
      "known unique values: 145\n",
      "run PARTITIONED HASH AGGREGATION\n"
     ]
    },
    {
     "data": {
      "text/html": [
       "<div><style>\n",
       ".dataframe > thead > tr,\n",
       ".dataframe > tbody > tr {\n",
       "  text-align: right;\n",
       "  white-space: pre-wrap;\n",
       "}\n",
       "</style>\n",
       "<small>shape: (11, 2)</small><table border=\"1\" class=\"dataframe\"><thead><tr><th>make</th><th>len</th></tr><tr><td>cat</td><td>u32</td></tr></thead><tbody><tr><td>&quot;Toyota&quot;</td><td>2470</td></tr><tr><td>&quot;Nissan&quot;</td><td>1686</td></tr><tr><td>&quot;Honda&quot;</td><td>1197</td></tr><tr><td>&quot;Mitsubishi&quot;</td><td>1131</td></tr><tr><td>&quot;Mazda&quot;</td><td>1129</td></tr><tr><td>&quot;Subaru&quot;</td><td>1013</td></tr><tr><td>&quot;Lexus&quot;</td><td>698</td></tr><tr><td>&quot;Suzuki&quot;</td><td>515</td></tr><tr><td>&quot;Infiniti&quot;</td><td>484</td></tr><tr><td>&quot;Acura&quot;</td><td>424</td></tr><tr><td>&quot;Daihatsu&quot;</td><td>17</td></tr></tbody></table></div>"
      ],
      "text/plain": [
       "shape: (11, 2)\n",
       "+------------+------+\n",
       "| make       | len  |\n",
       "| ---        | ---  |\n",
       "| cat        | u32  |\n",
       "+===================+\n",
       "| Toyota     | 2470 |\n",
       "| Nissan     | 1686 |\n",
       "| Honda      | 1197 |\n",
       "| Mitsubishi | 1131 |\n",
       "| Mazda      | 1129 |\n",
       "| Subaru     | 1013 |\n",
       "| Lexus      | 698  |\n",
       "| Suzuki     | 515  |\n",
       "| Infiniti   | 484  |\n",
       "| Acura      | 424  |\n",
       "| Daihatsu   | 17   |\n",
       "+------------+------+"
      ]
     },
     "execution_count": 92,
     "metadata": {},
     "output_type": "execute_result"
    }
   ],
   "source": [
    "pl.Config.set_tbl_rows(20)\n",
    "\n",
    "ja_cars = sorted([\n",
    "    'Acura', 'Aspark', 'Daihatsu', 'Hino', 'Honda', \n",
    "    'Infiniti', 'Izusu', 'Kawasaki', 'Lexus', 'Mazda', \n",
    "    'Mitsubishi', 'Nissan', 'Subaru', 'Suzuki', 'Toyota'\n",
    "])\n",
    "\n",
    "ja_cars_count = (\n",
    "    autos\n",
    "    .filter(pl.col('make').is_in(ja_cars))\n",
    "    .group_by('make')\n",
    "    .len()\n",
    "    .sort(by='len', descending=True)\n",
    ")\n",
    "ja_cars_count"
   ]
  },
  {
   "cell_type": "markdown",
   "id": "47b28f0f-31db-4918-820f-93a17ac5e8cc",
   "metadata": {},
   "source": [
    "## col.cat.set_ordering()\n",
    "\n",
    "* https://docs.pola.rs/py-polars/html/reference/expressions/api/polars.Expr.cat.set_ordering.html#polars-expr-cat-set-ordering\n",
    "* Determine how this categorical series should be sorted.\n",
    "\n",
    "**DeprecationWarning: `set_ordering` is deprecated. Set the ordering directly on the datatype `pl.Categorical('lexical')` or `pl.Categorical('physical')` or `cast()` to the intended data type. This method will be removed in the next breaking change**\n",
    "\n",
    "## pl.Categorical('lexical'|'physical')\n",
    "\n",
    "* https://docs.pola.rs/py-polars/html/reference/api/polars.datatypes.Categorical.html\n",
    "* A categorical encoding of a set of strings."
   ]
  },
  {
   "cell_type": "code",
   "execution_count": 93,
   "id": "9039948d-d259-4c11-8370-39b479f299b0",
   "metadata": {},
   "outputs": [
    {
     "name": "stderr",
     "output_type": "stream",
     "text": [
      "estimated unique values: 7306\n",
      "estimated unique count: 7306 exceeded the boundary: 1000, running default HASH AGGREGATION\n"
     ]
    },
    {
     "data": {
      "text/html": [
       "<div><style>\n",
       ".dataframe > thead > tr,\n",
       ".dataframe > tbody > tr {\n",
       "  text-align: right;\n",
       "  white-space: pre-wrap;\n",
       "}\n",
       "</style>\n",
       "<small>shape: (698, 3)</small><table border=\"1\" class=\"dataframe\"><thead><tr><th>trany</th><th>make</th><th>len</th></tr><tr><td>cat</td><td>cat</td><td>u32</td></tr></thead><tbody><tr><td>null</td><td>&quot;Toyota&quot;</td><td>4</td></tr><tr><td>null</td><td>&quot;Ford&quot;</td><td>4</td></tr><tr><td>null</td><td>&quot;Nissan&quot;</td><td>2</td></tr><tr><td>null</td><td>&quot;GMC&quot;</td><td>1</td></tr><tr><td>&quot;Automatic (A1)&quot;</td><td>&quot;Bugatti Rimac&quot;</td><td>2</td></tr><tr><td>&quot;Automatic (A1)&quot;</td><td>&quot;Audi&quot;</td><td>36</td></tr><tr><td>&quot;Automatic (A1)&quot;</td><td>&quot;Kia&quot;</td><td>34</td></tr><tr><td>&quot;Automatic (A1)&quot;</td><td>&quot;Hyundai&quot;</td><td>50</td></tr><tr><td>&quot;Automatic (A1)&quot;</td><td>&quot;Volvo&quot;</td><td>15</td></tr><tr><td>&quot;Automatic (A1)&quot;</td><td>&quot;Subaru&quot;</td><td>4</td></tr><tr><td>&hellip;</td><td>&hellip;</td><td>&hellip;</td></tr><tr><td>&quot;Manual 6-spd&quot;</td><td>&quot;Hyundai&quot;</td><td>99</td></tr><tr><td>&quot;Manual 6-spd&quot;</td><td>&quot;Toyota&quot;</td><td>109</td></tr><tr><td>&quot;Manual 6-spd&quot;</td><td>&quot;SRT&quot;</td><td>2</td></tr><tr><td>&quot;Manual 6-spd&quot;</td><td>&quot;Genesis&quot;</td><td>3</td></tr><tr><td>&quot;Manual 7-spd&quot;</td><td>&quot;Ford&quot;</td><td>15</td></tr><tr><td>&quot;Manual 7-spd&quot;</td><td>&quot;Porsche&quot;</td><td>140</td></tr><tr><td>&quot;Manual 7-spd&quot;</td><td>&quot;RUF Automobile&quot;</td><td>4</td></tr><tr><td>&quot;Manual 7-spd&quot;</td><td>&quot;Lamborghini&quot;</td><td>2</td></tr><tr><td>&quot;Manual 7-spd&quot;</td><td>&quot;Chevrolet&quot;</td><td>12</td></tr><tr><td>&quot;Manual 7-spd&quot;</td><td>&quot;Aston Martin&quot;</td><td>3</td></tr></tbody></table></div>"
      ],
      "text/plain": [
       "shape: (698, 3)\n",
       "+----------------+----------------+-----+\n",
       "| trany          | make           | len |\n",
       "| ---            | ---            | --- |\n",
       "| cat            | cat            | u32 |\n",
       "+=======================================+\n",
       "| null           | Toyota         | 4   |\n",
       "| null           | Ford           | 4   |\n",
       "| null           | Nissan         | 2   |\n",
       "| null           | GMC            | 1   |\n",
       "| Automatic (A1) | Bugatti Rimac  | 2   |\n",
       "| Automatic (A1) | Audi           | 36  |\n",
       "| Automatic (A1) | Kia            | 34  |\n",
       "| Automatic (A1) | Hyundai        | 50  |\n",
       "| Automatic (A1) | Volvo          | 15  |\n",
       "| Automatic (A1) | Subaru         | 4   |\n",
       "| …              | …              | …   |\n",
       "| Manual 6-spd   | Hyundai        | 99  |\n",
       "| Manual 6-spd   | Toyota         | 109 |\n",
       "| Manual 6-spd   | SRT            | 2   |\n",
       "| Manual 6-spd   | Genesis        | 3   |\n",
       "| Manual 7-spd   | Ford           | 15  |\n",
       "| Manual 7-spd   | Porsche        | 140 |\n",
       "| Manual 7-spd   | RUF Automobile | 4   |\n",
       "| Manual 7-spd   | Lamborghini    | 2   |\n",
       "| Manual 7-spd   | Chevrolet      | 12  |\n",
       "| Manual 7-spd   | Aston Martin   | 3   |\n",
       "+----------------+----------------+-----+"
      ]
     },
     "execution_count": 93,
     "metadata": {},
     "output_type": "execute_result"
    }
   ],
   "source": [
    "(\n",
    "    autos\n",
    "    .select(\n",
    "        pl.col('trany').cast(pl.Categorical('lexical')),\n",
    "        pl.col('make')\n",
    "    )\n",
    "    .group_by('trany', 'make')\n",
    "    .len()\n",
    "    .sort(by='trany')\n",
    ")"
   ]
  },
  {
   "cell_type": "markdown",
   "id": "2c7ad52c-3f23-4e16-8ef9-142c120045e6",
   "metadata": {},
   "source": [
    "## col.over() (can be tricky at first)\n",
    "\n",
    "* https://docs.pola.rs/py-polars/html/reference/expressions/api/polars.Expr.over.html\n",
    "* Create a window expression.\n",
    "* Group over the specified expressions.\n",
    "* The mapping_strategy parameter can be 'group_to_rows', 'join', or 'explode'.\n",
    "* Generally, an aggregation function is used before the .over method.\n",
    "* Compute expressions over the given groups.\n",
    "* This expression is similar to performing a group by aggregation and joining the result back into the original DataFrame.\n",
    "* The outcome is similar to how window functions work in PostgreSQL.\n",
    "\n",
    "---\n",
    "\n",
    "## Explain the use of .over in Polars\n",
    "\n",
    "The `.over()` method in Polars is used to perform window functions or aggregations over groups within a DataFrame. It allows you to compute expressions or aggregations on subsets of the data, grouped by one or more columns, without modifying the original size of the DataFrame.\n",
    "\n",
    "Window functions are powerful because they enable you to perform multiple group-by operations and aggregations in a single query, projecting the results back to the original rows. This eliminates the need for separate `group_by` and `explode` operations, making the API cleaner and more efficient.\n",
    "\n",
    "Here are some key points about using `.over()` in Polars:\n",
    "\n",
    "1. **Grouping columns**: The columns to group by are specified as arguments to `.over()`. For example, `pl.col(\"value\").mean().over(\"group\")` computes the mean of \"value\" for each group defined by the \"group\" column.\n",
    "\n",
    "2. **Multiple grouping columns**: You can group by multiple columns by passing them as a list or tuple to `.over()`, e.g., `.over([\"group1\", \"group2\"])`. This allows you to compute aggregations over combinations of groups.\n",
    "\n",
    "3. **Mapping strategies**: When an expression results in multiple values per group, Polars provides three mapping strategies to link the values back to the DataFrame rows: 'group_to_rows', 'join', and 'explode'. The appropriate strategy depends on your use case.\n",
    "\n",
    "4. **Parallel computation**: Window expressions are computed in parallel, making them efficient for large datasets.\n",
    "\n",
    "5. **Caching groups**: Polars caches and shares computed groups between different window expressions, optimizing performance when multiple aggregations are performed over the same groups.\n",
    "\n",
    "6. **Nested over calls**: While nested `.over()` calls are generally not allowed in Polars, there are workarounds to achieve similar functionality by breaking down the expressions into separate steps.\n",
    "\n",
    "By using `.over()` and window functions, you can perform complex data manipulations and aggregations in a concise and efficient manner within Polars, without modifying the original DataFrame size unless explicitly desired."
   ]
  },
  {
   "cell_type": "markdown",
   "id": "fb9cff75-104e-48b3-9635-69f1ca44912a",
   "metadata": {},
   "source": [
    "The best examples to work through for .over() are combinations found in model/features/characteristics examples."
   ]
  },
  {
   "cell_type": "code",
   "execution_count": 94,
   "id": "b3df77d5-33a5-4cd5-8e8e-b747511065f5",
   "metadata": {},
   "outputs": [
    {
     "name": "stdout",
     "output_type": "stream",
     "text": [
      "['depname', 'empno', 'salary']\n"
     ]
    },
    {
     "data": {
      "text/html": [
       "<div><style>\n",
       ".dataframe > thead > tr,\n",
       ".dataframe > tbody > tr {\n",
       "  text-align: right;\n",
       "  white-space: pre-wrap;\n",
       "}\n",
       "</style>\n",
       "<small>shape: (10, 4)</small><table border=\"1\" class=\"dataframe\"><thead><tr><th>depname</th><th>empno</th><th>salary</th><th>avg</th></tr><tr><td>str</td><td>i64</td><td>i64</td><td>f64</td></tr></thead><tbody><tr><td>&quot;develop&quot;</td><td>11</td><td>5200</td><td>5020.0</td></tr><tr><td>&quot;develop&quot;</td><td>7</td><td>4200</td><td>5020.0</td></tr><tr><td>&quot;develop&quot;</td><td>9</td><td>4500</td><td>5020.0</td></tr><tr><td>&quot;develop&quot;</td><td>8</td><td>6000</td><td>5020.0</td></tr><tr><td>&quot;develop&quot;</td><td>10</td><td>5200</td><td>5020.0</td></tr><tr><td>&quot;personnel&quot;</td><td>5</td><td>3500</td><td>3700.0</td></tr><tr><td>&quot;personnel&quot;</td><td>2</td><td>3900</td><td>3700.0</td></tr><tr><td>&quot;sales&quot;</td><td>3</td><td>4800</td><td>4866.67</td></tr><tr><td>&quot;sales&quot;</td><td>1</td><td>5000</td><td>4866.67</td></tr><tr><td>&quot;sales&quot;</td><td>4</td><td>4800</td><td>4866.67</td></tr></tbody></table></div>"
      ],
      "text/plain": [
       "shape: (10, 4)\n",
       "+-----------+-------+--------+---------+\n",
       "| depname   | empno | salary | avg     |\n",
       "| ---       | ---   | ---    | ---     |\n",
       "| str       | i64   | i64    | f64     |\n",
       "+======================================+\n",
       "| develop   | 11    | 5200   | 5020.0  |\n",
       "| develop   | 7     | 4200   | 5020.0  |\n",
       "| develop   | 9     | 4500   | 5020.0  |\n",
       "| develop   | 8     | 6000   | 5020.0  |\n",
       "| develop   | 10    | 5200   | 5020.0  |\n",
       "| personnel | 5     | 3500   | 3700.0  |\n",
       "| personnel | 2     | 3900   | 3700.0  |\n",
       "| sales     | 3     | 4800   | 4866.67 |\n",
       "| sales     | 1     | 5000   | 4866.67 |\n",
       "| sales     | 4     | 4800   | 4866.67 |\n",
       "+-----------+-------+--------+---------+"
      ]
     },
     "execution_count": 94,
     "metadata": {},
     "output_type": "execute_result"
    }
   ],
   "source": [
    "# This is like applying .mean on a groupby object \n",
    "# eg .mean on develop-groupby object (5020.0)\n",
    "# eg .mean on personnel-groupby object (3700.0)\n",
    "# eg .mean on sales-groupby object (4866.67)\n",
    "# df_windows = pl.read_csv('./data/data_psql_windows.csv')\n",
    "\n",
    "df_windows = pl.DataFrame({\n",
    "    \"depname\": [\"develop\",\"develop\",\"develop\",\"develop\",\"develop\",\"personnel\",\"personnel\",\"sales\",\"sales\",\"sales\"],\n",
    "    \"empno\": [11, 7, 9, 8, 10, 5, 2, 3, 1, 4],\n",
    "    \"salary\": [5200,4200,4500,6000,5200,3500,3900,4800,5000,4800]\n",
    "})\n",
    "\n",
    "print(df_windows.columns)\n",
    "\n",
    "(\n",
    "    df_windows\n",
    "    .with_columns(avg=pl.col('salary').mean().over('depname').round(2))\n",
    ")"
   ]
  },
  {
   "cell_type": "code",
   "execution_count": 95,
   "id": "0a89c0e5-9a98-4e6c-aa04-c26e838cf35c",
   "metadata": {},
   "outputs": [
    {
     "name": "stdout",
     "output_type": "stream",
     "text": [
      "shape: (5, 3)\n",
      "+-----+-----+-----+\n",
      "| a   | b   | c   |\n",
      "| --- | --- | --- |\n",
      "| i64 | i64 | i64 |\n",
      "+=================+\n",
      "| 9   | 1   | 5   |\n",
      "| 8   | 2   | 4   |\n",
      "| 7   | 3   | 3   |\n",
      "| 6   | 5   | 2   |\n",
      "| 5   | 3   | 1   |\n",
      "+-----+-----+-----+\n",
      "----------------------------------------\n"
     ]
    },
    {
     "data": {
      "text/html": [
       "<div><style>\n",
       ".dataframe > thead > tr,\n",
       ".dataframe > tbody > tr {\n",
       "  text-align: right;\n",
       "  white-space: pre-wrap;\n",
       "}\n",
       "</style>\n",
       "<small>shape: (5, 4)</small><table border=\"1\" class=\"dataframe\"><thead><tr><th>a</th><th>b</th><th>c</th><th>c_max</th></tr><tr><td>i64</td><td>i64</td><td>i64</td><td>i64</td></tr></thead><tbody><tr><td>9</td><td>1</td><td>5</td><td>5</td></tr><tr><td>8</td><td>2</td><td>4</td><td>4</td></tr><tr><td>7</td><td>3</td><td>3</td><td>3</td></tr><tr><td>6</td><td>5</td><td>2</td><td>2</td></tr><tr><td>5</td><td>3</td><td>1</td><td>1</td></tr></tbody></table></div>"
      ],
      "text/plain": [
       "shape: (5, 4)\n",
       "+-----+-----+-----+-------+\n",
       "| a   | b   | c   | c_max |\n",
       "| --- | --- | --- | ---   |\n",
       "| i64 | i64 | i64 | i64   |\n",
       "+=========================+\n",
       "| 9   | 1   | 5   | 5     |\n",
       "| 8   | 2   | 4   | 4     |\n",
       "| 7   | 3   | 3   | 3     |\n",
       "| 6   | 5   | 2   | 2     |\n",
       "| 5   | 3   | 1   | 1     |\n",
       "+-----+-----+-----+-------+"
      ]
     },
     "execution_count": 95,
     "metadata": {},
     "output_type": "execute_result"
    }
   ],
   "source": [
    "# Pass the name of a column to compute the expression over that column.\n",
    "df = pl.DataFrame({\n",
    "    \"a\": [9, 8, 7, 6, 5],\n",
    "    \"b\": [1, 2, 3, 5, 3],\n",
    "    \"c\": [5, 4, 3, 2, 1],\n",
    "})\n",
    "print(df)\n",
    "HR()\n",
    "\n",
    "df.with_columns(\n",
    "    pl.col(\"c\")\n",
    "    .max()\n",
    "    .over(\"a\", mapping_strategy='group_to_rows')\n",
    "    .name.suffix(\"_max\"),\n",
    ")"
   ]
  },
  {
   "cell_type": "code",
   "execution_count": 96,
   "id": "d312e736-2ae9-4339-a434-3dee9df5b656",
   "metadata": {},
   "outputs": [
    {
     "data": {
      "text/html": [
       "<div><style>\n",
       ".dataframe > thead > tr,\n",
       ".dataframe > tbody > tr {\n",
       "  text-align: right;\n",
       "  white-space: pre-wrap;\n",
       "}\n",
       "</style>\n",
       "<small>shape: (5, 4)</small><table border=\"1\" class=\"dataframe\"><thead><tr><th>a</th><th>b</th><th>c</th><th>c_max</th></tr><tr><td>i64</td><td>i64</td><td>i64</td><td>i64</td></tr></thead><tbody><tr><td>9</td><td>1</td><td>5</td><td>5</td></tr><tr><td>8</td><td>2</td><td>4</td><td>4</td></tr><tr><td>7</td><td>3</td><td>3</td><td>3</td></tr><tr><td>6</td><td>5</td><td>2</td><td>2</td></tr><tr><td>5</td><td>3</td><td>1</td><td>1</td></tr></tbody></table></div>"
      ],
      "text/plain": [
       "shape: (5, 4)\n",
       "+-----+-----+-----+-------+\n",
       "| a   | b   | c   | c_max |\n",
       "| --- | --- | --- | ---   |\n",
       "| i64 | i64 | i64 | i64   |\n",
       "+=========================+\n",
       "| 9   | 1   | 5   | 5     |\n",
       "| 8   | 2   | 4   | 4     |\n",
       "| 7   | 3   | 3   | 3     |\n",
       "| 6   | 5   | 2   | 2     |\n",
       "| 5   | 3   | 1   | 1     |\n",
       "+-----+-----+-----+-------+"
      ]
     },
     "execution_count": 96,
     "metadata": {},
     "output_type": "execute_result"
    }
   ],
   "source": [
    "df.with_columns(\n",
    "    pl.col(\"c\")\n",
    "    .max()\n",
    "    .over(\"a\", mapping_strategy='join')\n",
    "    .name.suffix(\"_max\"),\n",
    ")"
   ]
  },
  {
   "cell_type": "code",
   "execution_count": 97,
   "id": "dfdc36f2-9b76-4123-bb9e-2024514f29c7",
   "metadata": {},
   "outputs": [
    {
     "data": {
      "text/html": [
       "<div><style>\n",
       ".dataframe > thead > tr,\n",
       ".dataframe > tbody > tr {\n",
       "  text-align: right;\n",
       "  white-space: pre-wrap;\n",
       "}\n",
       "</style>\n",
       "<small>shape: (5, 4)</small><table border=\"1\" class=\"dataframe\"><thead><tr><th>a</th><th>b</th><th>c</th><th>c_min</th></tr><tr><td>i64</td><td>i64</td><td>i64</td><td>i64</td></tr></thead><tbody><tr><td>9</td><td>1</td><td>5</td><td>5</td></tr><tr><td>8</td><td>2</td><td>4</td><td>4</td></tr><tr><td>7</td><td>3</td><td>3</td><td>3</td></tr><tr><td>6</td><td>5</td><td>2</td><td>2</td></tr><tr><td>5</td><td>3</td><td>1</td><td>1</td></tr></tbody></table></div>"
      ],
      "text/plain": [
       "shape: (5, 4)\n",
       "+-----+-----+-----+-------+\n",
       "| a   | b   | c   | c_min |\n",
       "| --- | --- | --- | ---   |\n",
       "| i64 | i64 | i64 | i64   |\n",
       "+=========================+\n",
       "| 9   | 1   | 5   | 5     |\n",
       "| 8   | 2   | 4   | 4     |\n",
       "| 7   | 3   | 3   | 3     |\n",
       "| 6   | 5   | 2   | 2     |\n",
       "| 5   | 3   | 1   | 1     |\n",
       "+-----+-----+-----+-------+"
      ]
     },
     "execution_count": 97,
     "metadata": {},
     "output_type": "execute_result"
    }
   ],
   "source": [
    "# Group by multiple columns by passing a list of column names or expressions.\n",
    "df.with_columns(\n",
    "    pl.col(\"c\")\n",
    "    .min()\n",
    "    .over([\"a\", \"b\"])\n",
    "    .name.suffix(\"_min\"),\n",
    ")"
   ]
  },
  {
   "cell_type": "code",
   "execution_count": 98,
   "id": "6f26e477-6200-45bd-bb40-44b1dbf9fa8c",
   "metadata": {},
   "outputs": [
    {
     "data": {
      "text/html": [
       "<div><style>\n",
       ".dataframe > thead > tr,\n",
       ".dataframe > tbody > tr {\n",
       "  text-align: right;\n",
       "  white-space: pre-wrap;\n",
       "}\n",
       "</style>\n",
       "<small>shape: (3, 4)</small><table border=\"1\" class=\"dataframe\"><thead><tr><th>year</th><th>make</th><th>city08</th><th>mean_city08</th></tr><tr><td>i16</td><td>cat</td><td>u8</td><td>f64</td></tr></thead><tbody><tr><td>1985</td><td>&quot;Alfa Romeo&quot;</td><td>19</td><td>19.402062</td></tr><tr><td>1985</td><td>&quot;Ferrari&quot;</td><td>9</td><td>11.842294</td></tr><tr><td>1985</td><td>&quot;Dodge&quot;</td><td>23</td><td>15.461967</td></tr></tbody></table></div>"
      ],
      "text/plain": [
       "shape: (3, 4)\n",
       "+------+------------+--------+-------------+\n",
       "| year | make       | city08 | mean_city08 |\n",
       "| ---  | ---        | ---    | ---         |\n",
       "| i16  | cat        | u8     | f64         |\n",
       "+==========================================+\n",
       "| 1985 | Alfa Romeo | 19     | 19.402062   |\n",
       "| 1985 | Ferrari    | 9      | 11.842294   |\n",
       "| 1985 | Dodge      | 23     | 15.461967   |\n",
       "+------+------------+--------+-------------+"
      ]
     },
     "execution_count": 98,
     "metadata": {},
     "output_type": "execute_result"
    }
   ],
   "source": [
    "(\n",
    "    autos\n",
    "    .select(\n",
    "        pl.col('year', 'make', 'city08')\n",
    "    )\n",
    "    .with_columns(\n",
    "        mean_city08=pl.col('city08')\n",
    "            .mean()\n",
    "            .over('make')\n",
    "    )\n",
    ").head(3)\n",
    "\n",
    "# Grouping columns: The columns to group by are specified as \n",
    "# arguments to .over(). \n",
    "# For example, pl.col(\"value\").mean().over(\"group\") \n",
    "# computes the mean of \"value\" for each group defined by the \"group\" column."
   ]
  },
  {
   "cell_type": "code",
   "execution_count": 99,
   "id": "8b171f9c-8eb0-4554-a76e-5bf79ff2400b",
   "metadata": {},
   "outputs": [
    {
     "data": {
      "text/html": [
       "<div><style>\n",
       ".dataframe > thead > tr,\n",
       ".dataframe > tbody > tr {\n",
       "  text-align: right;\n",
       "  white-space: pre-wrap;\n",
       "}\n",
       "</style>\n",
       "<small>shape: (48_202, 2)</small><table border=\"1\" class=\"dataframe\"><thead><tr><th>trany</th><th>mean_city08</th></tr><tr><td>str</td><td>f64</td></tr></thead><tbody><tr><td>&quot;Automatic (A1)&quot;</td><td>97.17284</td></tr><tr><td>&quot;Automatic (A1)&quot;</td><td>97.17284</td></tr><tr><td>&quot;Automatic (A1)&quot;</td><td>97.17284</td></tr><tr><td>&quot;Automatic (A1)&quot;</td><td>97.17284</td></tr><tr><td>&quot;Automatic (A1)&quot;</td><td>97.17284</td></tr><tr><td>&quot;Automatic (A1)&quot;</td><td>97.17284</td></tr><tr><td>&quot;Automatic (A1)&quot;</td><td>97.17284</td></tr><tr><td>&quot;Automatic (A1)&quot;</td><td>97.17284</td></tr><tr><td>&quot;Automatic (A1)&quot;</td><td>97.17284</td></tr><tr><td>&quot;Automatic (A1)&quot;</td><td>97.17284</td></tr><tr><td>&hellip;</td><td>&hellip;</td></tr><tr><td>&quot;Manual 3-spd&quot;</td><td>14.25974</td></tr><tr><td>&quot;Manual 3-spd&quot;</td><td>14.25974</td></tr><tr><td>&quot;Manual 3-spd&quot;</td><td>14.25974</td></tr><tr><td>&quot;Manual 3-spd&quot;</td><td>14.25974</td></tr><tr><td>&quot;Manual 3-spd&quot;</td><td>14.25974</td></tr><tr><td>&quot;Manual 3-spd&quot;</td><td>14.25974</td></tr><tr><td>&quot;Automatic (L3)&quot;</td><td>14.0</td></tr><tr><td>&quot;Automatic (L3)&quot;</td><td>14.0</td></tr><tr><td>&quot;Automatic (L4)&quot;</td><td>13.5</td></tr><tr><td>&quot;Automatic (L4)&quot;</td><td>13.5</td></tr></tbody></table></div>"
      ],
      "text/plain": [
       "shape: (48_202, 2)\n",
       "+----------------+-------------+\n",
       "| trany          | mean_city08 |\n",
       "| ---            | ---         |\n",
       "| str            | f64         |\n",
       "+==============================+\n",
       "| Automatic (A1) | 97.17284    |\n",
       "| Automatic (A1) | 97.17284    |\n",
       "| Automatic (A1) | 97.17284    |\n",
       "| Automatic (A1) | 97.17284    |\n",
       "| Automatic (A1) | 97.17284    |\n",
       "| Automatic (A1) | 97.17284    |\n",
       "| Automatic (A1) | 97.17284    |\n",
       "| Automatic (A1) | 97.17284    |\n",
       "| Automatic (A1) | 97.17284    |\n",
       "| Automatic (A1) | 97.17284    |\n",
       "| …              | …           |\n",
       "| Manual 3-spd   | 14.25974    |\n",
       "| Manual 3-spd   | 14.25974    |\n",
       "| Manual 3-spd   | 14.25974    |\n",
       "| Manual 3-spd   | 14.25974    |\n",
       "| Manual 3-spd   | 14.25974    |\n",
       "| Manual 3-spd   | 14.25974    |\n",
       "| Automatic (L3) | 14.0        |\n",
       "| Automatic (L3) | 14.0        |\n",
       "| Automatic (L4) | 13.5        |\n",
       "| Automatic (L4) | 13.5        |\n",
       "+----------------+-------------+"
      ]
     },
     "execution_count": 99,
     "metadata": {},
     "output_type": "execute_result"
    }
   ],
   "source": [
    "## Multiple grouping columns\n",
    "# Compute the mean of city08 for every group defined by .over\n",
    "# (you can think of .over as akin to .group_by)\n",
    "\n",
    "(\n",
    "    autos\n",
    "    .select(\n",
    "        pl.col('trany'),\n",
    "        mean_city08=pl.col('city08')\n",
    "            .mean()\n",
    "            .over(['trany'])\n",
    "    )\n",
    "    .sort(by='mean_city08', descending=True)\n",
    ")"
   ]
  },
  {
   "cell_type": "markdown",
   "id": "5b987819-b780-4e30-9aff-b0a9b29d0236",
   "metadata": {},
   "source": [
    "## col.is_in\n",
    "\n",
    "* https://docs.pola.rs/py-polars/html/reference/expressions/api/polars.Expr.is_in.html\n",
    "* Check if elements of this expression are present in the other Series."
   ]
  },
  {
   "cell_type": "code",
   "execution_count": 100,
   "id": "cbe8c3a1-8247-4def-852b-882093a95890",
   "metadata": {},
   "outputs": [
    {
     "name": "stdout",
     "output_type": "stream",
     "text": [
      "shape: (3, 2)\n",
      "+-----------+------------------+\n",
      "| sets      | optional_members |\n",
      "| ---       | ---              |\n",
      "| list[i64] | i64              |\n",
      "+==============================+\n",
      "| [1, 2, 3] | 1                |\n",
      "| [1, 2]    | 2                |\n",
      "| [9, 10]   | 3                |\n",
      "+-----------+------------------+\n"
     ]
    },
    {
     "data": {
      "text/html": [
       "<div><style>\n",
       ".dataframe > thead > tr,\n",
       ".dataframe > tbody > tr {\n",
       "  text-align: right;\n",
       "  white-space: pre-wrap;\n",
       "}\n",
       "</style>\n",
       "<small>shape: (3, 3)</small><table border=\"1\" class=\"dataframe\"><thead><tr><th>sets</th><th>optional_members</th><th>om_is_in_sets</th></tr><tr><td>list[i64]</td><td>i64</td><td>bool</td></tr></thead><tbody><tr><td>[1, 2, 3]</td><td>1</td><td>true</td></tr><tr><td>[1, 2]</td><td>2</td><td>true</td></tr><tr><td>[9, 10]</td><td>3</td><td>false</td></tr></tbody></table></div>"
      ],
      "text/plain": [
       "shape: (3, 3)\n",
       "+-----------+------------------+---------------+\n",
       "| sets      | optional_members | om_is_in_sets |\n",
       "| ---       | ---              | ---           |\n",
       "| list[i64] | i64              | bool          |\n",
       "+==============================================+\n",
       "| [1, 2, 3] | 1                | true          |\n",
       "| [1, 2]    | 2                | true          |\n",
       "| [9, 10]   | 3                | false         |\n",
       "+-----------+------------------+---------------+"
      ]
     },
     "execution_count": 100,
     "metadata": {},
     "output_type": "execute_result"
    }
   ],
   "source": [
    "df = pl.DataFrame(\n",
    "    {\n",
    "        \"sets\": [[1, 2, 3], [1, 2], [9, 10]], \n",
    "        \"optional_members\": [1, 2, 3]\n",
    "    }\n",
    ")\n",
    "print(df)\n",
    "df.with_columns(om_is_in_sets=pl.col(\"optional_members\").is_in(\"sets\"))"
   ]
  },
  {
   "cell_type": "code",
   "execution_count": 101,
   "id": "ff5a9286-405c-48c8-9ea2-f2153a3bf7e8",
   "metadata": {},
   "outputs": [
    {
     "data": {
      "text/html": [
       "<div><style>\n",
       ".dataframe > thead > tr,\n",
       ".dataframe > tbody > tr {\n",
       "  text-align: right;\n",
       "  white-space: pre-wrap;\n",
       "}\n",
       "</style>\n",
       "<small>shape: (48_202, 15)</small><table border=\"1\" class=\"dataframe\"><thead><tr><th>year</th><th>make</th><th>model</th><th>displ</th><th>cylinders</th><th>trany</th><th>drive</th><th>VClass</th><th>fuelType</th><th>barrels08</th><th>city08</th><th>highway08</th><th>createdOn</th><th>is_automatic</th><th>num_gears</th></tr><tr><td>i16</td><td>cat</td><td>cat</td><td>f32</td><td>u8</td><td>str</td><td>cat</td><td>cat</td><td>cat</td><td>f32</td><td>u8</td><td>u8</td><td>datetime[μs]</td><td>str</td><td>u8</td></tr></thead><tbody><tr><td>1985</td><td>&quot;Alfa Romeo&quot;</td><td>&quot;Spider Veloce 2000&quot;</td><td>2.0</td><td>4</td><td>&quot;Manual 5-spd&quot;</td><td>&quot;Rear-Wheel Drive&quot;</td><td>&quot;Two Seaters&quot;</td><td>&quot;Regular&quot;</td><td>14.167143</td><td>19</td><td>25</td><td>2013-01-01 00:00:00</td><td>&quot;false&quot;</td><td>5</td></tr><tr><td>1985</td><td>&quot;Ferrari&quot;</td><td>&quot;Testarossa&quot;</td><td>4.9</td><td>12</td><td>&quot;Manual 5-spd&quot;</td><td>&quot;Rear-Wheel Drive&quot;</td><td>&quot;Two Seaters&quot;</td><td>&quot;Regular&quot;</td><td>27.046364</td><td>9</td><td>14</td><td>2013-01-01 00:00:00</td><td>&quot;false&quot;</td><td>5</td></tr><tr><td>1985</td><td>&quot;Dodge&quot;</td><td>&quot;Charger&quot;</td><td>2.2</td><td>4</td><td>&quot;Manual 5-spd&quot;</td><td>&quot;Front-Wheel Drive&quot;</td><td>&quot;Subcompact Cars&quot;</td><td>&quot;Regular&quot;</td><td>11.018888</td><td>23</td><td>33</td><td>2013-01-01 00:00:00</td><td>&quot;false&quot;</td><td>5</td></tr><tr><td>1985</td><td>&quot;Dodge&quot;</td><td>&quot;B150/B250 Wagon 2WD&quot;</td><td>5.2</td><td>8</td><td>&quot;Automatic 3-spd&quot;</td><td>&quot;Rear-Wheel Drive&quot;</td><td>&quot;Vans&quot;</td><td>&quot;Regular&quot;</td><td>27.046364</td><td>10</td><td>12</td><td>2013-01-01 00:00:00</td><td>&quot;true&quot;</td><td>3</td></tr><tr><td>1993</td><td>&quot;Subaru&quot;</td><td>&quot;Legacy AWD Turbo&quot;</td><td>2.2</td><td>4</td><td>&quot;Manual 5-spd&quot;</td><td>&quot;4-Wheel or All-Wheel Drive&quot;</td><td>&quot;Compact Cars&quot;</td><td>&quot;Premium&quot;</td><td>15.658422</td><td>17</td><td>23</td><td>2013-01-01 00:00:00</td><td>&quot;false&quot;</td><td>5</td></tr><tr><td>1993</td><td>&quot;Subaru&quot;</td><td>&quot;Loyale&quot;</td><td>1.8</td><td>4</td><td>&quot;Automatic 3-spd&quot;</td><td>&quot;Front-Wheel Drive&quot;</td><td>&quot;Compact Cars&quot;</td><td>&quot;Regular&quot;</td><td>13.523182</td><td>21</td><td>24</td><td>2013-01-01 00:00:00</td><td>&quot;true&quot;</td><td>3</td></tr><tr><td>1993</td><td>&quot;Subaru&quot;</td><td>&quot;Loyale&quot;</td><td>1.8</td><td>4</td><td>&quot;Manual 5-spd&quot;</td><td>&quot;Front-Wheel Drive&quot;</td><td>&quot;Compact Cars&quot;</td><td>&quot;Regular&quot;</td><td>11.9004</td><td>22</td><td>29</td><td>2013-01-01 00:00:00</td><td>&quot;false&quot;</td><td>5</td></tr><tr><td>1993</td><td>&quot;Toyota&quot;</td><td>&quot;Corolla&quot;</td><td>1.6</td><td>4</td><td>&quot;Automatic 3-spd&quot;</td><td>&quot;Front-Wheel Drive&quot;</td><td>&quot;Compact Cars&quot;</td><td>&quot;Regular&quot;</td><td>12.39625</td><td>23</td><td>26</td><td>2013-01-01 00:00:00</td><td>&quot;true&quot;</td><td>3</td></tr><tr><td>1993</td><td>&quot;Toyota&quot;</td><td>&quot;Corolla&quot;</td><td>1.6</td><td>4</td><td>&quot;Manual 5-spd&quot;</td><td>&quot;Front-Wheel Drive&quot;</td><td>&quot;Compact Cars&quot;</td><td>&quot;Regular&quot;</td><td>11.442693</td><td>23</td><td>31</td><td>2013-01-01 00:00:00</td><td>&quot;false&quot;</td><td>5</td></tr><tr><td>1993</td><td>&quot;Toyota&quot;</td><td>&quot;Corolla&quot;</td><td>1.8</td><td>4</td><td>&quot;Automatic 4-spd&quot;</td><td>&quot;Front-Wheel Drive&quot;</td><td>&quot;Compact Cars&quot;</td><td>&quot;Regular&quot;</td><td>11.9004</td><td>23</td><td>30</td><td>2013-01-01 00:00:00</td><td>&quot;true&quot;</td><td>4</td></tr><tr><td>&hellip;</td><td>&hellip;</td><td>&hellip;</td><td>&hellip;</td><td>&hellip;</td><td>&hellip;</td><td>&hellip;</td><td>&hellip;</td><td>&hellip;</td><td>&hellip;</td><td>&hellip;</td><td>&hellip;</td><td>&hellip;</td><td>&hellip;</td><td>&hellip;</td></tr><tr><td>1993</td><td>&quot;Saab&quot;</td><td>&quot;900&quot;</td><td>2.1</td><td>4</td><td>&quot;Manual 5-spd&quot;</td><td>&quot;Front-Wheel Drive&quot;</td><td>&quot;Compact Cars&quot;</td><td>&quot;Regular&quot;</td><td>14.8755</td><td>18</td><td>24</td><td>2013-01-01 00:00:00</td><td>&quot;false&quot;</td><td>5</td></tr><tr><td>1993</td><td>&quot;Saturn&quot;</td><td>&quot;SL&quot;</td><td>1.9</td><td>4</td><td>&quot;Automatic 4-spd&quot;</td><td>&quot;Front-Wheel Drive&quot;</td><td>&quot;Compact Cars&quot;</td><td>&quot;Regular&quot;</td><td>11.442693</td><td>23</td><td>33</td><td>2013-01-01 00:00:00</td><td>&quot;true&quot;</td><td>4</td></tr><tr><td>1993</td><td>&quot;Saturn&quot;</td><td>&quot;SL&quot;</td><td>1.9</td><td>4</td><td>&quot;Automatic 4-spd&quot;</td><td>&quot;Front-Wheel Drive&quot;</td><td>&quot;Compact Cars&quot;</td><td>&quot;Regular&quot;</td><td>12.39625</td><td>21</td><td>30</td><td>2013-01-01 00:00:00</td><td>&quot;true&quot;</td><td>4</td></tr><tr><td>1993</td><td>&quot;Saturn&quot;</td><td>&quot;SL&quot;</td><td>1.9</td><td>4</td><td>&quot;Manual 5-spd&quot;</td><td>&quot;Front-Wheel Drive&quot;</td><td>&quot;Compact Cars&quot;</td><td>&quot;Regular&quot;</td><td>10.625357</td><td>24</td><td>33</td><td>2013-01-01 00:00:00</td><td>&quot;false&quot;</td><td>5</td></tr><tr><td>1993</td><td>&quot;Saturn&quot;</td><td>&quot;SL&quot;</td><td>1.9</td><td>4</td><td>&quot;Manual 5-spd&quot;</td><td>&quot;Front-Wheel Drive&quot;</td><td>&quot;Compact Cars&quot;</td><td>&quot;Regular&quot;</td><td>11.9004</td><td>21</td><td>32</td><td>2013-01-01 00:00:00</td><td>&quot;false&quot;</td><td>5</td></tr><tr><td>1993</td><td>&quot;Subaru&quot;</td><td>&quot;Legacy&quot;</td><td>2.2</td><td>4</td><td>&quot;Automatic 4-spd&quot;</td><td>&quot;Front-Wheel Drive&quot;</td><td>&quot;Compact Cars&quot;</td><td>&quot;Regular&quot;</td><td>13.523182</td><td>19</td><td>26</td><td>2013-01-01 00:00:00</td><td>&quot;true&quot;</td><td>4</td></tr><tr><td>1993</td><td>&quot;Subaru&quot;</td><td>&quot;Legacy&quot;</td><td>2.2</td><td>4</td><td>&quot;Manual 5-spd&quot;</td><td>&quot;Front-Wheel Drive&quot;</td><td>&quot;Compact Cars&quot;</td><td>&quot;Regular&quot;</td><td>12.935218</td><td>20</td><td>28</td><td>2013-01-01 00:00:00</td><td>&quot;false&quot;</td><td>5</td></tr><tr><td>1993</td><td>&quot;Subaru&quot;</td><td>&quot;Legacy AWD&quot;</td><td>2.2</td><td>4</td><td>&quot;Automatic 4-spd&quot;</td><td>&quot;4-Wheel or All-Wheel Drive&quot;</td><td>&quot;Compact Cars&quot;</td><td>&quot;Regular&quot;</td><td>14.167143</td><td>18</td><td>24</td><td>2013-01-01 00:00:00</td><td>&quot;true&quot;</td><td>4</td></tr><tr><td>1993</td><td>&quot;Subaru&quot;</td><td>&quot;Legacy AWD&quot;</td><td>2.2</td><td>4</td><td>&quot;Manual 5-spd&quot;</td><td>&quot;4-Wheel or All-Wheel Drive&quot;</td><td>&quot;Compact Cars&quot;</td><td>&quot;Regular&quot;</td><td>14.167143</td><td>18</td><td>24</td><td>2013-01-01 00:00:00</td><td>&quot;false&quot;</td><td>5</td></tr><tr><td>1993</td><td>&quot;Subaru&quot;</td><td>&quot;Legacy AWD Turbo&quot;</td><td>2.2</td><td>4</td><td>&quot;Automatic 4-spd&quot;</td><td>&quot;4-Wheel or All-Wheel Drive&quot;</td><td>&quot;Compact Cars&quot;</td><td>&quot;Premium&quot;</td><td>16.528334</td><td>16</td><td>21</td><td>2013-01-01 00:00:00</td><td>&quot;true&quot;</td><td>4</td></tr></tbody></table></div>"
      ],
      "text/plain": [
       "shape: (48_202, 15)\n",
       "+-----+-----+-----+-----+-----+-----+-----+-----+-----+-----+-----+--------+-------+-------+-------+\n",
       "| yea | mak | mod | dis | cyl | tra | dri | VCl | fue | bar | cit | highwa | creat | is_au | num_g |\n",
       "| r   | e   | el  | pl  | ind | ny  | ve  | ass | lTy | rel | y08 | y08    | edOn  | tomat | ears  |\n",
       "| --- | --- | --- | --- | ers | --- | --- | --- | pe  | s08 | --- | ---    | ---   | ic    | ---   |\n",
       "| i16 | cat | cat | f32 | --- | str | cat | cat | --- | --- | u8  | u8     | datet | ---   | u8    |\n",
       "|     |     |     |     | u8  |     |     |     | cat | f32 |     |        | ime[μ | str   |       |\n",
       "|     |     |     |     |     |     |     |     |     |     |     |        | s]    |       |       |\n",
       "+==================================================================================================+\n",
       "| 198 | Alf | Spi | 2.0 | 4   | Man | Rea | Two | Reg | 14. | 19  | 25     | 2013- | false | 5     |\n",
       "| 5   | a   | der |     |     | ual | r-W | Sea | ula | 167 |     |        | 01-01 |       |       |\n",
       "|     | Rom | Vel |     |     | 5-s | hee | ter | r   | 143 |     |        | 00:00 |       |       |\n",
       "|     | eo  | oce |     |     | pd  | l   | s   |     |     |     |        | :00   |       |       |\n",
       "|     |     | 200 |     |     |     | Dri |     |     |     |     |        |       |       |       |\n",
       "|     |     | 0   |     |     |     | ve  |     |     |     |     |        |       |       |       |\n",
       "| 198 | Fer | Tes | 4.9 | 12  | Man | Rea | Two | Reg | 27. | 9   | 14     | 2013- | false | 5     |\n",
       "| 5   | rar | tar |     |     | ual | r-W | Sea | ula | 046 |     |        | 01-01 |       |       |\n",
       "|     | i   | oss |     |     | 5-s | hee | ter | r   | 364 |     |        | 00:00 |       |       |\n",
       "|     |     | a   |     |     | pd  | l   | s   |     |     |     |        | :00   |       |       |\n",
       "|     |     |     |     |     |     | Dri |     |     |     |     |        |       |       |       |\n",
       "|     |     |     |     |     |     | ve  |     |     |     |     |        |       |       |       |\n",
       "| 198 | Dod | Cha | 2.2 | 4   | Man | Fro | Sub | Reg | 11. | 23  | 33     | 2013- | false | 5     |\n",
       "| 5   | ge  | rge |     |     | ual | nt- | com | ula | 018 |     |        | 01-01 |       |       |\n",
       "|     |     | r   |     |     | 5-s | Whe | pac | r   | 888 |     |        | 00:00 |       |       |\n",
       "|     |     |     |     |     | pd  | el  | t   |     |     |     |        | :00   |       |       |\n",
       "|     |     |     |     |     |     | Dri | Car |     |     |     |        |       |       |       |\n",
       "|     |     |     |     |     |     | ve  | s   |     |     |     |        |       |       |       |\n",
       "| 198 | Dod | B15 | 5.2 | 8   | Aut | Rea | Van | Reg | 27. | 10  | 12     | 2013- | true  | 3     |\n",
       "| 5   | ge  | 0/B |     |     | oma | r-W | s   | ula | 046 |     |        | 01-01 |       |       |\n",
       "|     |     | 250 |     |     | tic | hee |     | r   | 364 |     |        | 00:00 |       |       |\n",
       "|     |     | Wag |     |     | 3-s | l   |     |     |     |     |        | :00   |       |       |\n",
       "|     |     | on  |     |     | pd  | Dri |     |     |     |     |        |       |       |       |\n",
       "|     |     | 2WD |     |     |     | ve  |     |     |     |     |        |       |       |       |\n",
       "| 199 | Sub | Leg | 2.2 | 4   | Man | 4-W | Com | Pre | 15. | 17  | 23     | 2013- | false | 5     |\n",
       "| 3   | aru | acy |     |     | ual | hee | pac | miu | 658 |     |        | 01-01 |       |       |\n",
       "|     |     | AWD |     |     | 5-s | l   | t   | m   | 422 |     |        | 00:00 |       |       |\n",
       "|     |     | Tur |     |     | pd  | or  | Car |     |     |     |        | :00   |       |       |\n",
       "|     |     | bo  |     |     |     | All | s   |     |     |     |        |       |       |       |\n",
       "|     |     |     |     |     |     | -Wh |     |     |     |     |        |       |       |       |\n",
       "|     |     |     |     |     |     | eel |     |     |     |     |        |       |       |       |\n",
       "|     |     |     |     |     |     | Dri |     |     |     |     |        |       |       |       |\n",
       "|     |     |     |     |     |     | ve  |     |     |     |     |        |       |       |       |\n",
       "| 199 | Sub | Loy | 1.8 | 4   | Aut | Fro | Com | Reg | 13. | 21  | 24     | 2013- | true  | 3     |\n",
       "| 3   | aru | ale |     |     | oma | nt- | pac | ula | 523 |     |        | 01-01 |       |       |\n",
       "|     |     |     |     |     | tic | Whe | t   | r   | 182 |     |        | 00:00 |       |       |\n",
       "|     |     |     |     |     | 3-s | el  | Car |     |     |     |        | :00   |       |       |\n",
       "|     |     |     |     |     | pd  | Dri | s   |     |     |     |        |       |       |       |\n",
       "|     |     |     |     |     |     | ve  |     |     |     |     |        |       |       |       |\n",
       "| 199 | Sub | Loy | 1.8 | 4   | Man | Fro | Com | Reg | 11. | 22  | 29     | 2013- | false | 5     |\n",
       "| 3   | aru | ale |     |     | ual | nt- | pac | ula | 900 |     |        | 01-01 |       |       |\n",
       "|     |     |     |     |     | 5-s | Whe | t   | r   | 4   |     |        | 00:00 |       |       |\n",
       "|     |     |     |     |     | pd  | el  | Car |     |     |     |        | :00   |       |       |\n",
       "|     |     |     |     |     |     | Dri | s   |     |     |     |        |       |       |       |\n",
       "|     |     |     |     |     |     | ve  |     |     |     |     |        |       |       |       |\n",
       "| 199 | Toy | Cor | 1.6 | 4   | Aut | Fro | Com | Reg | 12. | 23  | 26     | 2013- | true  | 3     |\n",
       "| 3   | ota | oll |     |     | oma | nt- | pac | ula | 396 |     |        | 01-01 |       |       |\n",
       "|     |     | a   |     |     | tic | Whe | t   | r   | 25  |     |        | 00:00 |       |       |\n",
       "|     |     |     |     |     | 3-s | el  | Car |     |     |     |        | :00   |       |       |\n",
       "|     |     |     |     |     | pd  | Dri | s   |     |     |     |        |       |       |       |\n",
       "|     |     |     |     |     |     | ve  |     |     |     |     |        |       |       |       |\n",
       "| 199 | Toy | Cor | 1.6 | 4   | Man | Fro | Com | Reg | 11. | 23  | 31     | 2013- | false | 5     |\n",
       "| 3   | ota | oll |     |     | ual | nt- | pac | ula | 442 |     |        | 01-01 |       |       |\n",
       "|     |     | a   |     |     | 5-s | Whe | t   | r   | 693 |     |        | 00:00 |       |       |\n",
       "|     |     |     |     |     | pd  | el  | Car |     |     |     |        | :00   |       |       |\n",
       "|     |     |     |     |     |     | Dri | s   |     |     |     |        |       |       |       |\n",
       "|     |     |     |     |     |     | ve  |     |     |     |     |        |       |       |       |\n",
       "| 199 | Toy | Cor | 1.8 | 4   | Aut | Fro | Com | Reg | 11. | 23  | 30     | 2013- | true  | 4     |\n",
       "| 3   | ota | oll |     |     | oma | nt- | pac | ula | 900 |     |        | 01-01 |       |       |\n",
       "|     |     | a   |     |     | tic | Whe | t   | r   | 4   |     |        | 00:00 |       |       |\n",
       "|     |     |     |     |     | 4-s | el  | Car |     |     |     |        | :00   |       |       |\n",
       "|     |     |     |     |     | pd  | Dri | s   |     |     |     |        |       |       |       |\n",
       "|     |     |     |     |     |     | ve  |     |     |     |     |        |       |       |       |\n",
       "| …   | …   | …   | …   | …   | …   | …   | …   | …   | …   | …   | …      | …     | …     | …     |\n",
       "| 199 | Saa | 900 | 2.1 | 4   | Man | Fro | Com | Reg | 14. | 18  | 24     | 2013- | false | 5     |\n",
       "| 3   | b   |     |     |     | ual | nt- | pac | ula | 875 |     |        | 01-01 |       |       |\n",
       "|     |     |     |     |     | 5-s | Whe | t   | r   | 5   |     |        | 00:00 |       |       |\n",
       "|     |     |     |     |     | pd  | el  | Car |     |     |     |        | :00   |       |       |\n",
       "|     |     |     |     |     |     | Dri | s   |     |     |     |        |       |       |       |\n",
       "|     |     |     |     |     |     | ve  |     |     |     |     |        |       |       |       |\n",
       "| 199 | Sat | SL  | 1.9 | 4   | Aut | Fro | Com | Reg | 11. | 23  | 33     | 2013- | true  | 4     |\n",
       "| 3   | urn |     |     |     | oma | nt- | pac | ula | 442 |     |        | 01-01 |       |       |\n",
       "|     |     |     |     |     | tic | Whe | t   | r   | 693 |     |        | 00:00 |       |       |\n",
       "|     |     |     |     |     | 4-s | el  | Car |     |     |     |        | :00   |       |       |\n",
       "|     |     |     |     |     | pd  | Dri | s   |     |     |     |        |       |       |       |\n",
       "|     |     |     |     |     |     | ve  |     |     |     |     |        |       |       |       |\n",
       "| 199 | Sat | SL  | 1.9 | 4   | Aut | Fro | Com | Reg | 12. | 21  | 30     | 2013- | true  | 4     |\n",
       "| 3   | urn |     |     |     | oma | nt- | pac | ula | 396 |     |        | 01-01 |       |       |\n",
       "|     |     |     |     |     | tic | Whe | t   | r   | 25  |     |        | 00:00 |       |       |\n",
       "|     |     |     |     |     | 4-s | el  | Car |     |     |     |        | :00   |       |       |\n",
       "|     |     |     |     |     | pd  | Dri | s   |     |     |     |        |       |       |       |\n",
       "|     |     |     |     |     |     | ve  |     |     |     |     |        |       |       |       |\n",
       "| 199 | Sat | SL  | 1.9 | 4   | Man | Fro | Com | Reg | 10. | 24  | 33     | 2013- | false | 5     |\n",
       "| 3   | urn |     |     |     | ual | nt- | pac | ula | 625 |     |        | 01-01 |       |       |\n",
       "|     |     |     |     |     | 5-s | Whe | t   | r   | 357 |     |        | 00:00 |       |       |\n",
       "|     |     |     |     |     | pd  | el  | Car |     |     |     |        | :00   |       |       |\n",
       "|     |     |     |     |     |     | Dri | s   |     |     |     |        |       |       |       |\n",
       "|     |     |     |     |     |     | ve  |     |     |     |     |        |       |       |       |\n",
       "| 199 | Sat | SL  | 1.9 | 4   | Man | Fro | Com | Reg | 11. | 21  | 32     | 2013- | false | 5     |\n",
       "| 3   | urn |     |     |     | ual | nt- | pac | ula | 900 |     |        | 01-01 |       |       |\n",
       "|     |     |     |     |     | 5-s | Whe | t   | r   | 4   |     |        | 00:00 |       |       |\n",
       "|     |     |     |     |     | pd  | el  | Car |     |     |     |        | :00   |       |       |\n",
       "|     |     |     |     |     |     | Dri | s   |     |     |     |        |       |       |       |\n",
       "|     |     |     |     |     |     | ve  |     |     |     |     |        |       |       |       |\n",
       "| 199 | Sub | Leg | 2.2 | 4   | Aut | Fro | Com | Reg | 13. | 19  | 26     | 2013- | true  | 4     |\n",
       "| 3   | aru | acy |     |     | oma | nt- | pac | ula | 523 |     |        | 01-01 |       |       |\n",
       "|     |     |     |     |     | tic | Whe | t   | r   | 182 |     |        | 00:00 |       |       |\n",
       "|     |     |     |     |     | 4-s | el  | Car |     |     |     |        | :00   |       |       |\n",
       "|     |     |     |     |     | pd  | Dri | s   |     |     |     |        |       |       |       |\n",
       "|     |     |     |     |     |     | ve  |     |     |     |     |        |       |       |       |\n",
       "| 199 | Sub | Leg | 2.2 | 4   | Man | Fro | Com | Reg | 12. | 20  | 28     | 2013- | false | 5     |\n",
       "| 3   | aru | acy |     |     | ual | nt- | pac | ula | 935 |     |        | 01-01 |       |       |\n",
       "|     |     |     |     |     | 5-s | Whe | t   | r   | 218 |     |        | 00:00 |       |       |\n",
       "|     |     |     |     |     | pd  | el  | Car |     |     |     |        | :00   |       |       |\n",
       "|     |     |     |     |     |     | Dri | s   |     |     |     |        |       |       |       |\n",
       "|     |     |     |     |     |     | ve  |     |     |     |     |        |       |       |       |\n",
       "| 199 | Sub | Leg | 2.2 | 4   | Aut | 4-W | Com | Reg | 14. | 18  | 24     | 2013- | true  | 4     |\n",
       "| 3   | aru | acy |     |     | oma | hee | pac | ula | 167 |     |        | 01-01 |       |       |\n",
       "|     |     | AWD |     |     | tic | l   | t   | r   | 143 |     |        | 00:00 |       |       |\n",
       "|     |     |     |     |     | 4-s | or  | Car |     |     |     |        | :00   |       |       |\n",
       "|     |     |     |     |     | pd  | All | s   |     |     |     |        |       |       |       |\n",
       "|     |     |     |     |     |     | -Wh |     |     |     |     |        |       |       |       |\n",
       "|     |     |     |     |     |     | eel |     |     |     |     |        |       |       |       |\n",
       "|     |     |     |     |     |     | Dri |     |     |     |     |        |       |       |       |\n",
       "|     |     |     |     |     |     | ve  |     |     |     |     |        |       |       |       |\n",
       "| 199 | Sub | Leg | 2.2 | 4   | Man | 4-W | Com | Reg | 14. | 18  | 24     | 2013- | false | 5     |\n",
       "| 3   | aru | acy |     |     | ual | hee | pac | ula | 167 |     |        | 01-01 |       |       |\n",
       "|     |     | AWD |     |     | 5-s | l   | t   | r   | 143 |     |        | 00:00 |       |       |\n",
       "|     |     |     |     |     | pd  | or  | Car |     |     |     |        | :00   |       |       |\n",
       "|     |     |     |     |     |     | All | s   |     |     |     |        |       |       |       |\n",
       "|     |     |     |     |     |     | -Wh |     |     |     |     |        |       |       |       |\n",
       "|     |     |     |     |     |     | eel |     |     |     |     |        |       |       |       |\n",
       "|     |     |     |     |     |     | Dri |     |     |     |     |        |       |       |       |\n",
       "|     |     |     |     |     |     | ve  |     |     |     |     |        |       |       |       |\n",
       "| 199 | Sub | Leg | 2.2 | 4   | Aut | 4-W | Com | Pre | 16. | 16  | 21     | 2013- | true  | 4     |\n",
       "| 3   | aru | acy |     |     | oma | hee | pac | miu | 528 |     |        | 01-01 |       |       |\n",
       "|     |     | AWD |     |     | tic | l   | t   | m   | 334 |     |        | 00:00 |       |       |\n",
       "|     |     | Tur |     |     | 4-s | or  | Car |     |     |     |        | :00   |       |       |\n",
       "|     |     | bo  |     |     | pd  | All | s   |     |     |     |        |       |       |       |\n",
       "|     |     |     |     |     |     | -Wh |     |     |     |     |        |       |       |       |\n",
       "|     |     |     |     |     |     | eel |     |     |     |     |        |       |       |       |\n",
       "|     |     |     |     |     |     | Dri |     |     |     |     |        |       |       |       |\n",
       "|     |     |     |     |     |     | ve  |     |     |     |     |        |       |       |       |\n",
       "+-----+-----+-----+-----+-----+-----+-----+-----+-----+-----+-----+--------+-------+-------+-------+"
      ]
     },
     "execution_count": 101,
     "metadata": {},
     "output_type": "execute_result"
    }
   ],
   "source": [
    "autos"
   ]
  },
  {
   "cell_type": "code",
   "execution_count": 102,
   "id": "baf5794b-a2d0-4e0d-8104-ee8882754995",
   "metadata": {},
   "outputs": [
    {
     "name": "stderr",
     "output_type": "stream",
     "text": [
      "keys/aggregates are not partitionable: running default HASH AGGREGATION\n"
     ]
    },
    {
     "data": {
      "text/html": [
       "<div><style>\n",
       ".dataframe > thead > tr,\n",
       ".dataframe > tbody > tr {\n",
       "  text-align: right;\n",
       "  white-space: pre-wrap;\n",
       "}\n",
       "</style>\n",
       "<small>shape: (2, 2)</small><table border=\"1\" class=\"dataframe\"><thead><tr><th>group</th><th>filtered_sum</th></tr><tr><td>str</td><td>i64</td></tr></thead><tbody><tr><td>&quot;A&quot;</td><td>0</td></tr><tr><td>&quot;B&quot;</td><td>12</td></tr></tbody></table></div>"
      ],
      "text/plain": [
       "shape: (2, 2)\n",
       "+-------+--------------+\n",
       "| group | filtered_sum |\n",
       "| ---   | ---          |\n",
       "| str   | i64          |\n",
       "+======================+\n",
       "| A     | 0            |\n",
       "| B     | 12           |\n",
       "+-------+--------------+"
      ]
     },
     "execution_count": 102,
     "metadata": {},
     "output_type": "execute_result"
    }
   ],
   "source": [
    "# Create a sample DataFrame\n",
    "df = pl.DataFrame({\n",
    "    \"group\": [\"A\", \"A\", \"B\", \"B\", \"B\"],\n",
    "    \"value\": [1, 2, 3, 4, 5]\n",
    "})\n",
    "\n",
    "# Group by 'group' column and filter 'value' column\n",
    "filtered = df.group_by(\"group\").agg(\n",
    "    filtered_sum=pl.col(\"value\").filter(pl.col(\"value\") > 2).sum()\n",
    ")\n",
    "filtered"
   ]
  },
  {
   "cell_type": "code",
   "execution_count": 103,
   "id": "5d7a0a7d-a3fa-4123-b995-ac03ec024f2a",
   "metadata": {},
   "outputs": [
    {
     "name": "stderr",
     "output_type": "stream",
     "text": [
      "dataframe filtered\n"
     ]
    },
    {
     "data": {
      "text/html": [
       "<div><style>\n",
       ".dataframe > thead > tr,\n",
       ".dataframe > tbody > tr {\n",
       "  text-align: right;\n",
       "  white-space: pre-wrap;\n",
       "}\n",
       "</style>\n",
       "<small>shape: (279, 3)</small><table border=\"1\" class=\"dataframe\"><thead><tr><th>make</th><th>trany</th><th>IS_5_SPEED</th></tr><tr><td>cat</td><td>str</td><td>bool</td></tr></thead><tbody><tr><td>&quot;Ferrari&quot;</td><td>&quot;Manual 5-spd&quot;</td><td>true</td></tr><tr><td>&quot;Ferrari&quot;</td><td>&quot;Manual 5-spd&quot;</td><td>true</td></tr><tr><td>&quot;Ferrari&quot;</td><td>&quot;Manual 5-spd&quot;</td><td>true</td></tr><tr><td>&quot;Ferrari&quot;</td><td>&quot;Manual 5-spd&quot;</td><td>true</td></tr><tr><td>&quot;Ferrari&quot;</td><td>&quot;Manual 5-spd&quot;</td><td>true</td></tr><tr><td>&quot;Ferrari&quot;</td><td>&quot;Automatic (S5)&quot;</td><td>false</td></tr><tr><td>&quot;Ferrari&quot;</td><td>&quot;Manual 5-spd&quot;</td><td>true</td></tr><tr><td>&quot;Ferrari&quot;</td><td>&quot;Manual 6-spd&quot;</td><td>false</td></tr><tr><td>&quot;Ferrari&quot;</td><td>&quot;Manual 6-spd&quot;</td><td>false</td></tr><tr><td>&quot;Ferrari&quot;</td><td>&quot;Manual 5-spd&quot;</td><td>true</td></tr><tr><td>&hellip;</td><td>&hellip;</td><td>&hellip;</td></tr><tr><td>&quot;Ferrari&quot;</td><td>&quot;Manual 5-spd&quot;</td><td>true</td></tr><tr><td>&quot;Ferrari&quot;</td><td>&quot;Manual 5-spd&quot;</td><td>true</td></tr><tr><td>&quot;Ferrari&quot;</td><td>&quot;Manual 5-spd&quot;</td><td>true</td></tr><tr><td>&quot;Ferrari&quot;</td><td>&quot;Manual 5-spd&quot;</td><td>true</td></tr><tr><td>&quot;Ferrari&quot;</td><td>&quot;Manual 5-spd&quot;</td><td>true</td></tr><tr><td>&quot;Ferrari&quot;</td><td>&quot;Automatic (S5)&quot;</td><td>false</td></tr><tr><td>&quot;Ferrari&quot;</td><td>&quot;Manual 5-spd&quot;</td><td>true</td></tr><tr><td>&quot;Ferrari&quot;</td><td>&quot;Manual 5-spd&quot;</td><td>true</td></tr><tr><td>&quot;Ferrari&quot;</td><td>&quot;Manual 5-spd&quot;</td><td>true</td></tr><tr><td>&quot;Ferrari&quot;</td><td>&quot;Automatic (S5)&quot;</td><td>false</td></tr></tbody></table></div>"
      ],
      "text/plain": [
       "shape: (279, 3)\n",
       "+---------+----------------+------------+\n",
       "| make    | trany          | IS_5_SPEED |\n",
       "| ---     | ---            | ---        |\n",
       "| cat     | str            | bool       |\n",
       "+=======================================+\n",
       "| Ferrari | Manual 5-spd   | true       |\n",
       "| Ferrari | Manual 5-spd   | true       |\n",
       "| Ferrari | Manual 5-spd   | true       |\n",
       "| Ferrari | Manual 5-spd   | true       |\n",
       "| Ferrari | Manual 5-spd   | true       |\n",
       "| Ferrari | Automatic (S5) | false      |\n",
       "| Ferrari | Manual 5-spd   | true       |\n",
       "| Ferrari | Manual 6-spd   | false      |\n",
       "| Ferrari | Manual 6-spd   | false      |\n",
       "| Ferrari | Manual 5-spd   | true       |\n",
       "| …       | …              | …          |\n",
       "| Ferrari | Manual 5-spd   | true       |\n",
       "| Ferrari | Manual 5-spd   | true       |\n",
       "| Ferrari | Manual 5-spd   | true       |\n",
       "| Ferrari | Manual 5-spd   | true       |\n",
       "| Ferrari | Manual 5-spd   | true       |\n",
       "| Ferrari | Automatic (S5) | false      |\n",
       "| Ferrari | Manual 5-spd   | true       |\n",
       "| Ferrari | Manual 5-spd   | true       |\n",
       "| Ferrari | Manual 5-spd   | true       |\n",
       "| Ferrari | Automatic (S5) | false      |\n",
       "+---------+----------------+------------+"
      ]
     },
     "execution_count": 103,
     "metadata": {},
     "output_type": "execute_result"
    }
   ],
   "source": [
    "# Variation using .is_in, essentially a full-match\n",
    "(\n",
    "    autos\n",
    "    .select(pl.col(['make', 'trany']))\n",
    "    .filter(pl.col('make')=='Ferrari')\n",
    "    .with_columns(\n",
    "        IS_5_SPEED=pl.col(\"trany\").is_in([\"Manual 5-spd\"])\n",
    "    )\n",
    ")"
   ]
  },
  {
   "cell_type": "code",
   "execution_count": 104,
   "id": "8971631c-ac49-423a-aa2d-898881ce5d41",
   "metadata": {},
   "outputs": [
    {
     "name": "stderr",
     "output_type": "stream",
     "text": [
      "dataframe filtered\n"
     ]
    },
    {
     "data": {
      "text/html": [
       "<div><style>\n",
       ".dataframe > thead > tr,\n",
       ".dataframe > tbody > tr {\n",
       "  text-align: right;\n",
       "  white-space: pre-wrap;\n",
       "}\n",
       "</style>\n",
       "<small>shape: (279, 3)</small><table border=\"1\" class=\"dataframe\"><thead><tr><th>make</th><th>trany</th><th>IS_MANUAL</th></tr><tr><td>cat</td><td>str</td><td>bool</td></tr></thead><tbody><tr><td>&quot;Ferrari&quot;</td><td>&quot;Manual 5-spd&quot;</td><td>true</td></tr><tr><td>&quot;Ferrari&quot;</td><td>&quot;Manual 5-spd&quot;</td><td>true</td></tr><tr><td>&quot;Ferrari&quot;</td><td>&quot;Manual 5-spd&quot;</td><td>true</td></tr><tr><td>&quot;Ferrari&quot;</td><td>&quot;Manual 5-spd&quot;</td><td>true</td></tr><tr><td>&quot;Ferrari&quot;</td><td>&quot;Manual 5-spd&quot;</td><td>true</td></tr><tr><td>&quot;Ferrari&quot;</td><td>&quot;Automatic (S5)&quot;</td><td>false</td></tr><tr><td>&quot;Ferrari&quot;</td><td>&quot;Manual 5-spd&quot;</td><td>true</td></tr><tr><td>&quot;Ferrari&quot;</td><td>&quot;Manual 6-spd&quot;</td><td>true</td></tr><tr><td>&quot;Ferrari&quot;</td><td>&quot;Manual 6-spd&quot;</td><td>true</td></tr><tr><td>&quot;Ferrari&quot;</td><td>&quot;Manual 5-spd&quot;</td><td>true</td></tr><tr><td>&hellip;</td><td>&hellip;</td><td>&hellip;</td></tr><tr><td>&quot;Ferrari&quot;</td><td>&quot;Manual 5-spd&quot;</td><td>true</td></tr><tr><td>&quot;Ferrari&quot;</td><td>&quot;Manual 5-spd&quot;</td><td>true</td></tr><tr><td>&quot;Ferrari&quot;</td><td>&quot;Manual 5-spd&quot;</td><td>true</td></tr><tr><td>&quot;Ferrari&quot;</td><td>&quot;Manual 5-spd&quot;</td><td>true</td></tr><tr><td>&quot;Ferrari&quot;</td><td>&quot;Manual 5-spd&quot;</td><td>true</td></tr><tr><td>&quot;Ferrari&quot;</td><td>&quot;Automatic (S5)&quot;</td><td>false</td></tr><tr><td>&quot;Ferrari&quot;</td><td>&quot;Manual 5-spd&quot;</td><td>true</td></tr><tr><td>&quot;Ferrari&quot;</td><td>&quot;Manual 5-spd&quot;</td><td>true</td></tr><tr><td>&quot;Ferrari&quot;</td><td>&quot;Manual 5-spd&quot;</td><td>true</td></tr><tr><td>&quot;Ferrari&quot;</td><td>&quot;Automatic (S5)&quot;</td><td>false</td></tr></tbody></table></div>"
      ],
      "text/plain": [
       "shape: (279, 3)\n",
       "+---------+----------------+-----------+\n",
       "| make    | trany          | IS_MANUAL |\n",
       "| ---     | ---            | ---       |\n",
       "| cat     | str            | bool      |\n",
       "+======================================+\n",
       "| Ferrari | Manual 5-spd   | true      |\n",
       "| Ferrari | Manual 5-spd   | true      |\n",
       "| Ferrari | Manual 5-spd   | true      |\n",
       "| Ferrari | Manual 5-spd   | true      |\n",
       "| Ferrari | Manual 5-spd   | true      |\n",
       "| Ferrari | Automatic (S5) | false     |\n",
       "| Ferrari | Manual 5-spd   | true      |\n",
       "| Ferrari | Manual 6-spd   | true      |\n",
       "| Ferrari | Manual 6-spd   | true      |\n",
       "| Ferrari | Manual 5-spd   | true      |\n",
       "| …       | …              | …         |\n",
       "| Ferrari | Manual 5-spd   | true      |\n",
       "| Ferrari | Manual 5-spd   | true      |\n",
       "| Ferrari | Manual 5-spd   | true      |\n",
       "| Ferrari | Manual 5-spd   | true      |\n",
       "| Ferrari | Manual 5-spd   | true      |\n",
       "| Ferrari | Automatic (S5) | false     |\n",
       "| Ferrari | Manual 5-spd   | true      |\n",
       "| Ferrari | Manual 5-spd   | true      |\n",
       "| Ferrari | Manual 5-spd   | true      |\n",
       "| Ferrari | Automatic (S5) | false     |\n",
       "+---------+----------------+-----------+"
      ]
     },
     "execution_count": 104,
     "metadata": {},
     "output_type": "execute_result"
    }
   ],
   "source": [
    "# Variation using .str.contains, allowing partial-matches\n",
    "(\n",
    "    autos\n",
    "    .select(pl.col(['make', 'trany']))\n",
    "    .filter(pl.col('make')=='Ferrari')\n",
    "    .with_columns(\n",
    "        IS_MANUAL=pl.col('trany').str.contains('Manual') \n",
    "    )\n",
    ")"
   ]
  },
  {
   "cell_type": "markdown",
   "id": "14483458-818d-4e82-b39e-b500411e6343",
   "metadata": {},
   "source": [
    "## col.str.extract\n",
    "\n",
    "* https://docs.pola.rs/py-polars/html/reference/expressions/api/polars.Expr.str.extract.html\n",
    "* Extract the target capture group from provided patterns."
   ]
  },
  {
   "cell_type": "code",
   "execution_count": 105,
   "id": "08c49ddd-97ca-4ac7-a162-672a1d12d79e",
   "metadata": {},
   "outputs": [
    {
     "data": {
      "text/html": [
       "<div><style>\n",
       ".dataframe > thead > tr,\n",
       ".dataframe > tbody > tr {\n",
       "  text-align: right;\n",
       "  white-space: pre-wrap;\n",
       "}\n",
       "</style>\n",
       "<small>shape: (1, 15)</small><table border=\"1\" class=\"dataframe\"><thead><tr><th>year</th><th>make</th><th>model</th><th>displ</th><th>cylinders</th><th>trany</th><th>drive</th><th>VClass</th><th>fuelType</th><th>barrels08</th><th>city08</th><th>highway08</th><th>createdOn</th><th>is_automatic</th><th>num_gears</th></tr><tr><td>i16</td><td>cat</td><td>cat</td><td>f32</td><td>u8</td><td>str</td><td>cat</td><td>cat</td><td>cat</td><td>f32</td><td>u8</td><td>u8</td><td>datetime[μs]</td><td>str</td><td>u8</td></tr></thead><tbody><tr><td>1985</td><td>&quot;Alfa Romeo&quot;</td><td>&quot;Spider Veloce 2000&quot;</td><td>2.0</td><td>4</td><td>&quot;Manual 5-spd&quot;</td><td>&quot;Rear-Wheel Drive&quot;</td><td>&quot;Two Seaters&quot;</td><td>&quot;Regular&quot;</td><td>14.167143</td><td>19</td><td>25</td><td>2013-01-01 00:00:00</td><td>&quot;false&quot;</td><td>5</td></tr></tbody></table></div>"
      ],
      "text/plain": [
       "shape: (1, 15)\n",
       "+-----+-----+-----+-----+-----+-----+-----+-----+-----+-----+-----+--------+-------+-------+-------+\n",
       "| yea | mak | mod | dis | cyl | tra | dri | VCl | fue | bar | cit | highwa | creat | is_au | num_g |\n",
       "| r   | e   | el  | pl  | ind | ny  | ve  | ass | lTy | rel | y08 | y08    | edOn  | tomat | ears  |\n",
       "| --- | --- | --- | --- | ers | --- | --- | --- | pe  | s08 | --- | ---    | ---   | ic    | ---   |\n",
       "| i16 | cat | cat | f32 | --- | str | cat | cat | --- | --- | u8  | u8     | datet | ---   | u8    |\n",
       "|     |     |     |     | u8  |     |     |     | cat | f32 |     |        | ime[μ | str   |       |\n",
       "|     |     |     |     |     |     |     |     |     |     |     |        | s]    |       |       |\n",
       "+==================================================================================================+\n",
       "| 198 | Alf | Spi | 2.0 | 4   | Man | Rea | Two | Reg | 14. | 19  | 25     | 2013- | false | 5     |\n",
       "| 5   | a   | der |     |     | ual | r-W | Sea | ula | 167 |     |        | 01-01 |       |       |\n",
       "|     | Rom | Vel |     |     | 5-s | hee | ter | r   | 143 |     |        | 00:00 |       |       |\n",
       "|     | eo  | oce |     |     | pd  | l   | s   |     |     |     |        | :00   |       |       |\n",
       "|     |     | 200 |     |     |     | Dri |     |     |     |     |        |       |       |       |\n",
       "|     |     | 0   |     |     |     | ve  |     |     |     |     |        |       |       |       |\n",
       "+-----+-----+-----+-----+-----+-----+-----+-----+-----+-----+-----+--------+-------+-------+-------+"
      ]
     },
     "execution_count": 105,
     "metadata": {},
     "output_type": "execute_result"
    }
   ],
   "source": [
    "autos.head(1)"
   ]
  },
  {
   "cell_type": "code",
   "execution_count": 106,
   "id": "c9f3fa93-f40f-4dcc-8222-75588bd07eb3",
   "metadata": {},
   "outputs": [
    {
     "data": {
      "text/html": [
       "<div><style>\n",
       ".dataframe > thead > tr,\n",
       ".dataframe > tbody > tr {\n",
       "  text-align: right;\n",
       "  white-space: pre-wrap;\n",
       "}\n",
       "</style>\n",
       "<small>shape: (48_202, 1)</small><table border=\"1\" class=\"dataframe\"><thead><tr><th>num_gears</th></tr><tr><td>u16</td></tr></thead><tbody><tr><td>5</td></tr><tr><td>5</td></tr><tr><td>5</td></tr><tr><td>3</td></tr><tr><td>5</td></tr><tr><td>3</td></tr><tr><td>5</td></tr><tr><td>3</td></tr><tr><td>5</td></tr><tr><td>4</td></tr><tr><td>&hellip;</td></tr><tr><td>5</td></tr><tr><td>4</td></tr><tr><td>4</td></tr><tr><td>5</td></tr><tr><td>5</td></tr><tr><td>4</td></tr><tr><td>5</td></tr><tr><td>4</td></tr><tr><td>5</td></tr><tr><td>4</td></tr></tbody></table></div>"
      ],
      "text/plain": [
       "shape: (48_202, 1)\n",
       "+-----------+\n",
       "| num_gears |\n",
       "| ---       |\n",
       "| u16       |\n",
       "+===========+\n",
       "| 5         |\n",
       "| 5         |\n",
       "| 5         |\n",
       "| 3         |\n",
       "| 5         |\n",
       "| 3         |\n",
       "| 5         |\n",
       "| 3         |\n",
       "| 5         |\n",
       "| 4         |\n",
       "| …         |\n",
       "| 5         |\n",
       "| 4         |\n",
       "| 4         |\n",
       "| 5         |\n",
       "| 5         |\n",
       "| 4         |\n",
       "| 5         |\n",
       "| 4         |\n",
       "| 5         |\n",
       "| 4         |\n",
       "+-----------+"
      ]
     },
     "execution_count": 106,
     "metadata": {},
     "output_type": "execute_result"
    }
   ],
   "source": [
    "(\n",
    "    autos\n",
    "    .select(\n",
    "        num_gears = pl.col('trany')\n",
    "            .str.extract(r'(\\d+)')\n",
    "            .cast(pl.UInt8)\n",
    "            .fill_null(999)\n",
    "    )\n",
    ")"
   ]
  },
  {
   "cell_type": "code",
   "execution_count": 107,
   "id": "c01d1312-3a9c-42a7-bd61-91ecbd9ba273",
   "metadata": {},
   "outputs": [
    {
     "data": {
      "text/html": [
       "<div><style>\n",
       ".dataframe > thead > tr,\n",
       ".dataframe > tbody > tr {\n",
       "  text-align: right;\n",
       "  white-space: pre-wrap;\n",
       "}\n",
       "</style>\n",
       "<small>shape: (2, 1)</small><table border=\"1\" class=\"dataframe\"><thead><tr><th>num_gears</th></tr><tr><td>str</td></tr></thead><tbody><tr><td>&quot;999&quot;</td></tr><tr><td>&quot;999&quot;</td></tr></tbody></table></div>"
      ],
      "text/plain": [
       "shape: (2, 1)\n",
       "+-----------+\n",
       "| num_gears |\n",
       "| ---       |\n",
       "| str       |\n",
       "+===========+\n",
       "| 999       |\n",
       "| 999       |\n",
       "+-----------+"
      ]
     },
     "execution_count": 107,
     "metadata": {},
     "output_type": "execute_result"
    }
   ],
   "source": [
    "(\n",
    "    autos\n",
    "    .select(\n",
    "        num_gears = pl.col('make')\n",
    "            .cast(pl.String)\n",
    "            .str.extract(r'(\\d+)')\n",
    "\n",
    "            .fill_null(999)\n",
    "    )\n",
    ").head(2)"
   ]
  },
  {
   "cell_type": "code",
   "execution_count": 108,
   "id": "ad0da578-8637-4dd8-b35e-aa1a88080eb3",
   "metadata": {},
   "outputs": [
    {
     "data": {
      "text/html": [
       "<div><style>\n",
       ".dataframe > thead > tr,\n",
       ".dataframe > tbody > tr {\n",
       "  text-align: right;\n",
       "  white-space: pre-wrap;\n",
       "}\n",
       "</style>\n",
       "<small>shape: (20, 1)</small><table border=\"1\" class=\"dataframe\"><thead><tr><th>VClass</th></tr><tr><td>cat</td></tr></thead><tbody><tr><td>&quot;Two Seaters&quot;</td></tr><tr><td>&quot;Two Seaters&quot;</td></tr><tr><td>&quot;Subcompact Cars&quot;</td></tr><tr><td>&quot;Vans&quot;</td></tr><tr><td>&quot;Compact Cars&quot;</td></tr><tr><td>&quot;Compact Cars&quot;</td></tr><tr><td>&quot;Compact Cars&quot;</td></tr><tr><td>&quot;Compact Cars&quot;</td></tr><tr><td>&quot;Compact Cars&quot;</td></tr><tr><td>&quot;Compact Cars&quot;</td></tr><tr><td>&quot;Compact Cars&quot;</td></tr><tr><td>&quot;Compact Cars&quot;</td></tr><tr><td>&quot;Compact Cars&quot;</td></tr><tr><td>&quot;Compact Cars&quot;</td></tr><tr><td>&quot;Vans&quot;</td></tr><tr><td>&quot;Compact Cars&quot;</td></tr><tr><td>&quot;Compact Cars&quot;</td></tr><tr><td>&quot;Compact Cars&quot;</td></tr><tr><td>&quot;Midsize Cars&quot;</td></tr><tr><td>&quot;Midsize Cars&quot;</td></tr></tbody></table></div>"
      ],
      "text/plain": [
       "shape: (20, 1)\n",
       "+-----------------+\n",
       "| VClass          |\n",
       "| ---             |\n",
       "| cat             |\n",
       "+=================+\n",
       "| Two Seaters     |\n",
       "| Two Seaters     |\n",
       "| Subcompact Cars |\n",
       "| Vans            |\n",
       "| Compact Cars    |\n",
       "| Compact Cars    |\n",
       "| Compact Cars    |\n",
       "| Compact Cars    |\n",
       "| Compact Cars    |\n",
       "| Compact Cars    |\n",
       "| Compact Cars    |\n",
       "| Compact Cars    |\n",
       "| Compact Cars    |\n",
       "| Compact Cars    |\n",
       "| Vans            |\n",
       "| Compact Cars    |\n",
       "| Compact Cars    |\n",
       "| Compact Cars    |\n",
       "| Midsize Cars    |\n",
       "| Midsize Cars    |\n",
       "+-----------------+"
      ]
     },
     "execution_count": 108,
     "metadata": {},
     "output_type": "execute_result"
    }
   ],
   "source": [
    "autos.select(pl.col('VClass').head(20))"
   ]
  },
  {
   "cell_type": "code",
   "execution_count": 109,
   "id": "12e39e48-5fb0-4d2e-9bea-8edecf9a4048",
   "metadata": {},
   "outputs": [
    {
     "name": "stderr",
     "output_type": "stream",
     "text": [
      "estimated unique values: 2\n",
      "run PARTITIONED HASH AGGREGATION\n"
     ]
    },
    {
     "data": {
      "text/html": [
       "<div><style>\n",
       ".dataframe > thead > tr,\n",
       ".dataframe > tbody > tr {\n",
       "  text-align: right;\n",
       "  white-space: pre-wrap;\n",
       "}\n",
       "</style>\n",
       "<small>shape: (2, 2)</small><table border=\"1\" class=\"dataframe\"><thead><tr><th>partial</th><th>len</th></tr><tr><td>str</td><td>u32</td></tr></thead><tbody><tr><td>null</td><td>46132</td></tr><tr><td>&quot;Mini&quot;</td><td>2070</td></tr></tbody></table></div>"
      ],
      "text/plain": [
       "shape: (2, 2)\n",
       "+---------+-------+\n",
       "| partial | len   |\n",
       "| ---     | ---   |\n",
       "| str     | u32   |\n",
       "+=================+\n",
       "| null    | 46132 |\n",
       "| Mini    | 2070  |\n",
       "+---------+-------+"
      ]
     },
     "execution_count": 109,
     "metadata": {},
     "output_type": "execute_result"
    }
   ],
   "source": [
    "(\n",
    "    autos\n",
    "    .select(\n",
    "        total=pl.col('VClass').len(),\n",
    "        #full=pl.col('VClass').cast(pl.String).str.extract(r\"\\b(?i)compact\\b\", group_index=0), #\n",
    "        partial=pl.col('VClass').cast(pl.String).str.extract(r\"\\b(?i)mini\", group_index=0),\n",
    "    )\n",
    "    .group_by('partial')\n",
    "    .len()\n",
    ")"
   ]
  },
  {
   "cell_type": "code",
   "execution_count": 110,
   "id": "0ac8dbad-17b2-42b5-9271-87d853f61c57",
   "metadata": {},
   "outputs": [
    {
     "data": {
      "text/html": [
       "<div><style>\n",
       ".dataframe > thead > tr,\n",
       ".dataframe > tbody > tr {\n",
       "  text-align: right;\n",
       "  white-space: pre-wrap;\n",
       "}\n",
       "</style>\n",
       "<small>shape: (1, 3)</small><table border=\"1\" class=\"dataframe\"><thead><tr><th>partial</th><th>total</th><th>normalized</th></tr><tr><td>u32</td><td>u32</td><td>f64</td></tr></thead><tbody><tr><td>2070</td><td>48202</td><td>0.042944</td></tr></tbody></table></div>"
      ],
      "text/plain": [
       "shape: (1, 3)\n",
       "+---------+-------+------------+\n",
       "| partial | total | normalized |\n",
       "| ---     | ---   | ---        |\n",
       "| u32     | u32   | f64        |\n",
       "+==============================+\n",
       "| 2070    | 48202 | 0.042944   |\n",
       "+---------+-------+------------+"
      ]
     },
     "execution_count": 110,
     "metadata": {},
     "output_type": "execute_result"
    }
   ],
   "source": [
    "(\n",
    "    autos\n",
    "    .with_columns(\n",
    "        total=pl.col('VClass').len()\n",
    "    )\n",
    "    .with_columns(\n",
    "        #full=pl.col('VClass').cast(pl.String).str.extract(r\"\\b(?i)compact\\b\", group_index=0), #\n",
    "        # Use .count to count non-null values\n",
    "        partial=pl.col('VClass').cast(pl.String).str.extract(r\"\\b(?i)mini\", group_index=0).count()\n",
    "    )\n",
    "    .with_columns(\n",
    "        normalized = pl.col('partial') / pl.col('total')\n",
    "    )\n",
    "    .select(['partial', 'total', 'normalized']).head(1)\n",
    "    #.group_by('partial')\n",
    "    #.len()\n",
    ")"
   ]
  },
  {
   "cell_type": "code",
   "execution_count": 111,
   "id": "4ca53061-8eb4-4bf1-8e02-73acc49a9b0c",
   "metadata": {},
   "outputs": [
    {
     "data": {
      "text/html": [
       "<div><style>\n",
       ".dataframe > thead > tr,\n",
       ".dataframe > tbody > tr {\n",
       "  text-align: right;\n",
       "  white-space: pre-wrap;\n",
       "}\n",
       "</style>\n",
       "<small>shape: (1, 3)</small><table border=\"1\" class=\"dataframe\"><thead><tr><th>mini</th><th>total</th><th>normalized</th></tr><tr><td>u32</td><td>u32</td><td>f64</td></tr></thead><tbody><tr><td>2070</td><td>48202</td><td>0.042944</td></tr></tbody></table></div>"
      ],
      "text/plain": [
       "shape: (1, 3)\n",
       "+------+-------+------------+\n",
       "| mini | total | normalized |\n",
       "| ---  | ---   | ---        |\n",
       "| u32  | u32   | f64        |\n",
       "+===========================+\n",
       "| 2070 | 48202 | 0.042944   |\n",
       "+------+-------+------------+"
      ]
     },
     "execution_count": 111,
     "metadata": {},
     "output_type": "execute_result"
    }
   ],
   "source": [
    "# Hack to ensure sequential processing, \n",
    "# and enable access to immediately created variables\n",
    "(\n",
    "    autos\n",
    "    .select(pl.col('VClass'))\n",
    "    .with_columns(total=pl.col('VClass').len())\n",
    "    .with_columns(mini=pl.col('VClass').cast(pl.String).str.extract(r\"\\b(?i)mini\", group_index=0).count())\n",
    "    .with_columns(normalized = (pl.col('mini') / pl.col('total')))\n",
    "    .select(['mini', 'total', 'normalized'])\n",
    "    .head(1)\n",
    ")"
   ]
  },
  {
   "cell_type": "code",
   "execution_count": 112,
   "id": "089a6932-4b81-43b1-a47c-f2563fac00c1",
   "metadata": {},
   "outputs": [
    {
     "data": {
      "text/html": [
       "<div><style>\n",
       ".dataframe > thead > tr,\n",
       ".dataframe > tbody > tr {\n",
       "  text-align: right;\n",
       "  white-space: pre-wrap;\n",
       "}\n",
       "</style>\n",
       "<small>shape: (1, 3)</small><table border=\"1\" class=\"dataframe\"><thead><tr><th>mini</th><th>total</th><th>ratio</th></tr><tr><td>u32</td><td>u32</td><td>f64</td></tr></thead><tbody><tr><td>2070</td><td>48202</td><td>0.042944</td></tr></tbody></table></div>"
      ],
      "text/plain": [
       "shape: (1, 3)\n",
       "+------+-------+----------+\n",
       "| mini | total | ratio    |\n",
       "| ---  | ---   | ---      |\n",
       "| u32  | u32   | f64      |\n",
       "+=========================+\n",
       "| 2070 | 48202 | 0.042944 |\n",
       "+------+-------+----------+"
      ]
     },
     "execution_count": 112,
     "metadata": {},
     "output_type": "execute_result"
    }
   ],
   "source": [
    "# Hack to ensure sequential processing, \n",
    "# and enable access to immediately created variables\n",
    "(\n",
    "    autos\n",
    "    .select_seq(\n",
    "        mini=pl.col('VClass').cast(pl.String).str.extract(r\"\\b(?i)mini\", group_index=0).count(),\n",
    "        total=pl.col('VClass').len(),        \n",
    "        ratio=(\n",
    "            pl.col('VClass').cast(pl.String).str.extract(r\"\\b(?i)mini\", group_index=0).count() / pl.col('VClass').len()\n",
    "        )\n",
    "    )\n",
    ")"
   ]
  },
  {
   "cell_type": "code",
   "execution_count": null,
   "id": "25211587-c35a-4a0e-bd6f-44c7f2ffa930",
   "metadata": {},
   "outputs": [],
   "source": []
  }
 ],
 "metadata": {
  "kernelspec": {
   "display_name": "Python 3 (ipykernel)",
   "language": "python",
   "name": "python3"
  },
  "language_info": {
   "codemirror_mode": {
    "name": "ipython",
    "version": 3
   },
   "file_extension": ".py",
   "mimetype": "text/x-python",
   "name": "python",
   "nbconvert_exporter": "python",
   "pygments_lexer": "ipython3",
   "version": "3.11.5"
  }
 },
 "nbformat": 4,
 "nbformat_minor": 5
}
